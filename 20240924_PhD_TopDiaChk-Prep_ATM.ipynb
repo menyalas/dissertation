{
 "cells": [
  {
   "cell_type": "markdown",
   "metadata": {},
   "source": [
    "## Topic Model Diary Chunk Prep for Authorless LDA"
   ]
  },
  {
   "cell_type": "markdown",
   "metadata": {},
   "source": [
    "## Resources"
   ]
  },
  {
   "cell_type": "code",
   "execution_count": 1,
   "metadata": {},
   "outputs": [],
   "source": [
    "# Packages\n",
    "import pandas as pd\n",
    "import gensim\n",
    "#from gensim.utils import simple_preprocess\n",
    "import pickle\n",
    "from collections import Counter\n",
    "from matplotlib import pyplot as plt"
   ]
  },
  {
   "cell_type": "code",
   "execution_count": 2,
   "metadata": {},
   "outputs": [],
   "source": [
    "# Function for conversion of texts into list of lowercase tokens\n",
    "\n",
    "def text_to_words(texts):\n",
    "    for text in texts:\n",
    "        yield(gensim.utils.simple_preprocess(str(text), \n",
    "                                             deacc=True, # removes accents\n",
    "                                             min_len=3))   # removes tokens shorter than three characters"
   ]
  },
  {
   "cell_type": "code",
   "execution_count": 5,
   "metadata": {},
   "outputs": [
    {
     "name": "stdout",
     "output_type": "stream",
     "text": [
      "['day', 'talk', 'night', 'feel', 'today', 'leave', 'breakfast', 'hiern', 'station', 'back', 'talk', 'go', 'tank', 'mile', 'make', 'get', 'water', 'darn', 'sock', 'stocking', 'have', 'cut', 'clothe', 'charra', 'wind', 'thing', 'morning', 'thunder', 'drop', 'rain', 'get', 'hand', 'sewing', 'throat', 'keep', 'cold', 'leave', 'worrier', 'boy', 'have', 'thunder', 'lightning', 'rain', 'day', 'sew', 'day', 'keep', 'talk', 'go', 'bed', 'hour', 'night', 'get', 'morning', 'have', 'head', 'ache', 'day', 'want', 'rest', 'sit', 'tonight', 'road', 'mercaney', 'sheep', 'torment', 'child', 'rub', 'grease', 'plate', 'smoke', 'candle', 'mark', 'boy', 'face', 'drink', 'tea', 'kill', 'leave', 'have', 'rain', 'thunder']\n"
     ]
    },
    {
     "data": {
      "text/plain": [
       "1023"
      ]
     },
     "execution_count": 5,
     "metadata": {},
     "output_type": "execute_result"
    }
   ],
   "source": [
    "# Get pre-downsampling set back\n",
    "with open(\"20240916_PhD_DiaChkNV_Authorless.txt\", \"rb\") as fp:   # Unpickling\n",
    "    tokensPre = pickle.load(fp)\n",
    "\n",
    "print(tokensPre[0])\n",
    "len(tokensPre)"
   ]
  },
  {
   "cell_type": "code",
   "execution_count": 6,
   "metadata": {
    "scrolled": true
   },
   "outputs": [
    {
     "name": "stdout",
     "output_type": "stream",
     "text": [
      "<class 'pandas.core.frame.DataFrame'>\n",
      "RangeIndex: 1023 entries, 0 to 1022\n",
      "Data columns (total 3 columns):\n",
      " #   Column       Non-Null Count  Dtype \n",
      "---  ------       --------------  ----- \n",
      " 0   docID-AT     1023 non-null   int64 \n",
      " 1   docauthorid  1023 non-null   object\n",
      " 2   tokens       1023 non-null   object\n",
      "dtypes: int64(1), object(2)\n",
      "memory usage: 24.1+ KB\n"
     ]
    }
   ],
   "source": [
    "# Get downsampled set\n",
    "df = pd.read_csv(\"20240916_PhD_DiaryCorpus_Downsampled.tsv\", sep='\\t', header=None) \n",
    "df = df.rename(columns={0:'docID-AT', 1: 'docauthorid', 2: 'tokens'}) # Change column name to \"docID-AT\"\n",
    "\n",
    "# Add texts to lemmenized \n",
    "#df['tokensPre'] = tokensPre\n",
    "\n",
    "# Check\n",
    "df.info()"
   ]
  },
  {
   "cell_type": "code",
   "execution_count": 7,
   "metadata": {},
   "outputs": [
    {
     "name": "stdout",
     "output_type": "stream",
     "text": [
      "['talk', 'today', 'breakfast', 'station', 'back', 'talk', 'tank', 'mile', 'water', 'darn', 'sock', 'stocking', 'cut', 'clothe', 'charra', 'wind', 'thing', 'thunder', 'drop', 'rain', 'hand', 'sewing', 'throat', 'keep', 'cold', 'worrier', 'boy', 'thunder', 'lightning', 'rain', 'sew', 'keep', 'talk', 'hour', 'head', 'ache', 'want', 'rest', 'sit', 'tonight', 'road', 'sheep', 'torment', 'child', 'rub', 'grease', 'plate', 'smoke', 'mark', 'boy', 'face', 'drink', 'kill', 'rain', 'thunder']\n"
     ]
    }
   ],
   "source": [
    "# Convert tokens column of strings to lists of tokens\n",
    "\n",
    "tokensPost = df.tokens.values.tolist()\n",
    "tokensPost = list(text_to_words(tokensPost))\n",
    "len(tokensPost)\n",
    "print(tokensPost[0])"
   ]
  },
  {
   "cell_type": "code",
   "execution_count": 8,
   "metadata": {},
   "outputs": [
    {
     "data": {
      "text/plain": [
       "7065"
      ]
     },
     "execution_count": 8,
     "metadata": {},
     "output_type": "execute_result"
    }
   ],
   "source": [
    "countsPre = Counter(x for sublist in tokensPre for x in sublist)\n",
    "len(Counter(countsPre))"
   ]
  },
  {
   "cell_type": "code",
   "execution_count": 9,
   "metadata": {},
   "outputs": [
    {
     "data": {
      "text/plain": [
       "2549"
      ]
     },
     "execution_count": 9,
     "metadata": {},
     "output_type": "execute_result"
    }
   ],
   "source": [
    "# how may words in dictionary\n",
    "countsPost = Counter(x for sublist in tokensPost for x in sublist)\n",
    "len(Counter(countsPost))"
   ]
  },
  {
   "cell_type": "code",
   "execution_count": 10,
   "metadata": {},
   "outputs": [
    {
     "data": {
      "text/plain": [
       "4516"
      ]
     },
     "execution_count": 10,
     "metadata": {},
     "output_type": "execute_result"
    }
   ],
   "source": [
    "# How many fewer tokens are in the revised set?\n",
    "len(Counter(countsPre))-len(Counter(countsPost))"
   ]
  },
  {
   "cell_type": "code",
   "execution_count": 23,
   "metadata": {},
   "outputs": [
    {
     "name": "stdout",
     "output_type": "stream",
     "text": [
      "['aas', 'abatement', 'abave', 'abbage', 'abbot', 'ability', 'aboise', 'abont', 'aborigine', 'abother', 'aboul', 'absent', 'absurdity', 'aby', 'ac', 'acad', 'academy', 'accaney', 'accate', 'acce', 'accedent', 'accep', 'acceptance', 'access', 'acciden', 'accnate', 'accomadation', 'accomp', 'accord', 'accordance', 'accout', 'accrate', 'accrdent', 'accrue', 'accuse', 'ached', 'acidity', 'acke', 'aclo', 'acquaintance', 'acquiesce', 'acrd', 'acro', 'acting', 'actisul', 'adance', 'adder', 'ade', 'adherent', 'administration', 'admission', 'adre', 'adult', 'advertisment', 'advisibility', 'aerrange', 'aettte', 'affadavit', 'affectation', 'affection', 'affer', 'affray', 'afran', 'afright', 'afsteempt', 'aftel', 'afterno', 'afteroon', 'afterwa', 'afterwark', 'ag', 'aga', 'agae', 'againg', 'agam', 'agar', 'agency', 'agoe', 'agot', 'aim', 'ain', 'aine', 'akbar', 'ake', 'akfast', 'al', 'albenia', 'albie', 'albow', 'album', 'albury', 'ald', 'aldid', 'aldinga', 'aldom', 'alershaw', 'alert', 'alf', 'alia', 'alice', 'alife', 'all', 'allerchaw', 'allhough', 'allive', 'allom', 'allon', 'allower', 'allso', 'allusion', 'almighty', 'almnond', 'almond', 'aloll', 'alope', 'alot', 'alphabet', 'alster', 'altar', 'alte', 'altering', 'alternative', 'alterward', 'althon', 'althouge', 'alto', 'altogather', 'alwoy', 'ama', 'amage', 'amay', 'amcding', 'amendman', 'american', 'amiie', 'amily', 'amle', 'ammunition', 'amp', 'amploye', 'an', 'anch', 'anchare', 'ancher', 'ancle', 'ancore', 'ander', 'ane', 'angas', 'angus', 'anhalf', 'animate', 'anmantoo', 'annadale', 'anng', 'anniversary', 'announce', 'announcement', 'annoy', 'annoyance', 'anntir', 'anomaly', 'anore', 'anout', 'anoyance', 'anoye', 'anrion', 'ansom', 'anterte', 'anticipate', 'anticipation', 'anttor', 'anxiong', 'anyth', 'aooent', 'apa', 'apamination', 'aper', 'apostle', 'app', 'apparatus', 'appeal', 'appearin', 'appel', 'applause', 'applicant', 'appointing', 'appointme', 'appreciation', 'appro', 'appropriation', 'approval', 'arainst', 'archie', 'ard', 'area', 'argue', 'arive', 'ark', 'arle', 'arleep', 'arneld', 'arngery', 'arought', 'aroye', 'arranfe', 'arranging', 'array', 'arrear', 'arreeable', 'arrie', 'arrieed', 'arrine', 'arringe', 'arrot', 'arrve', 'arry', 'art', 'artillery', 'ary', 'ascension', 'ashing', 'ashort', 'asparagus', 'assembl', 'asset', 'assignment', 'assistace', 'assistent', 'assoon', 'assume', 'assurance', 'astiste', 'astonish', 'astonishe', 'astonishment', 'at', 'atchen', 'ation', 'atke', 'atout', 'atron', 'atson', 'attacmngent', 'atte', 'attendant', 'attenday', 'atter', 'attletad', 'audience', 'auld', 'aulher', 'aulia', 'aunbe', 'aunse', 'aunst', 'auntie', 'aus', 'ave', 'avelle', 'avemne', 'avenne', 'avery', 'avove', 'awaly', 'aware', 'awat', 'aweny', 'awer', 'awery', 'awvare', 'aye', 'babie', 'bable', 'babys', 'bacan', 'baccarate', 'baccerate', 'bacco', 'bach', 'bachelor', 'bachored', 'badde', 'baddle', 'bade', 'bady', 'bage', 'baggat', 'baggot', 'bail', 'bairn', 'baisng', 'bakery', 'bakewall', 'balcong', 'balcony', 'baldock', 'balton', 'banquet', 'banter', 'bany', 'baptid', 'barber', 'barbon', 'bargain', 'barge', 'bark', 'barley', 'barracks', 'barrd', 'barron', 'bartel', 'barty', 'barunda', 'baseness', 'bash', 'basin', 'bate', 'bather', 'bathing', 'bation', 'battery', 'battle', 'bcam', 'be', 'beace', 'beache', 'beaky', 'bean', 'beand', 'beantiul', 'bearker', 'bease', 'beason', 'beatie', 'beatiful', 'beatifur', 'beaut', 'beautie', 'bebenerf', 'bebthe', 'becanse', 'because', 'bed', 'bedding', 'beddow', 'bedfellow', 'bedle', 'bee', 'beebys', 'beech', 'beehive', 'beel', 'beele', 'been', 'beenifit', 'beeple', 'beet', 'beethe', 'beetle', 'beety', 'beew', 'befall', 'befind', 'befond', 'beforee', 'befter', 'befur', 'beganday', 'begetable', 'begrudge', 'behalf', 'behaour', 'behave', 'beheve', 'behnd', 'beil', 'bein', 'being', 'bel', 'beleve', 'belief', 'belly', 'belonging', 'belpe', 'bench', 'bend', 'benong', 'beret', 'berone', 'berre', 'berresford', 'bert', 'bertie', 'beshep', 'besley', 'bess', 'bessie', 'betrothed', 'bette', 'betweed', 'bfore', 'bfreakfast', 'bging', 'bgy', 'bhichy', 'bhue', 'bias', 'bib', 'bible', 'bicke', 'bide', 'bigin', 'bilding', 'bille', 'billion', 'billmot', 'billow', 'bine', 'bing', 'bininson', 'binney', 'bion', 'birkin', 'biscit', 'biseut', 'bist', 'bite', 'bitter', 'bittle', 'blackberry', 'blackellow', 'blacken', 'blackmore', 'blacksmith', 'blacy', 'bladder', 'blair', 'blanch', 'bland', 'blane', 'blank', 'blask', 'blay', 'blaye', 'blaze', 'ble', 'bleed', 'blessing', 'bliggin', 'blight', 'blister', 'blne', 'block', 'blockade', 'blonden', 'blood', 'bloom', 'bloon', 'blothe', 'blowin', 'blowing', 'bloyd', 'blreat', 'blue', 'bluks', 'blum', 'blush', 'bluster', 'blythto', 'bmut', 'bne', 'bnepard', 'boare', 'boast', 'bobble', 'bobby', 'bodgie', 'bodys', 'boe', 'bog', 'boge', 'boile', 'boilt', 'bol', 'bonny', 'bonus', 'bony', 'boon', 'boop', 'boorey', 'booth', 'bor', 'borange', 'borde', 'borneo', 'borns', 'borry', 'botatoe', 'both', 'bottom', 'boughto', 'boundrey', 'bounl', 'bourn', 'bourne', 'bouy', 'bowen', 'bowner', 'boyhood', 'bradle', 'braid', 'brake', 'branche', 'brande', 'brang', 'brank', 'branscombe', 'bray', 'breach', 'bready', 'breaky', 'brealk', 'brearfast', 'breath', 'breathing', 'breatle', 'bremer', 'breserve', 'breshe', 'bress', 'brew', 'brewerton', 'brewery', 'brewing', 'brick', 'bricke', 'bricket', 'bridde', 'briddle', 'bridemmand', 'bridey', 'brieche', 'brier', 'brigtter', 'brince', 'brind', 'brine', 'brip', 'bris', 'bristea', 'brite', 'broach', 'broadbent', 'brong', 'brooch', 'brood', 'broom', 'brote', 'brougthe', 'brow', 'brung', 'bruske', 'brute', 'btween', 'buacon', 'buad', 'bubble', 'bubre', 'bubter', 'buche', 'buckish', 'buckle', 'bud', 'buiding', 'build', 'buile', 'buld', 'bullet', 'bully', 'bump', 'bumping', 'bun', 'bunday', 'bunggy', 'bunldin', 'bunt', 'bup', 'bur', 'bure', 'burial', 'burne', 'burner', 'burning', 'burnish', 'burrse', 'burry', 'burse', 'bursiness', 'burt', 'buseness', 'bust', 'bustle', 'butler', 'buton', 'butterfly', 'buttirfly', 'byer', 'cabba', 'cabine', 'cack', 'cackle', 'cade', 'cadet', 'cagga', 'cagle', 'cak', 'caka', 'cakfast', 'cakfild', 'cal', 'calculation', 'cale', 'calendulay', 'calice', 'calid', 'calie', 'caline', 'calling', 'calmer', 'calp', 'calting', 'calture', 'camellia', 'cametery', 'camnot', 'campball', 'campbel', 'camped', 'camper', 'candyng', 'cane', 'cange', 'cangue', 'canint', 'cank', 'cannat', 'cannor', 'canoe', 'cantharide', 'cantion', 'cantry', 'canvas', 'caper', 'cappd', 'capring', 'capsize', 'carashing', 'carelessess', 'carelessness', 'carene', 'caress', 'cargo', 'carime', 'caring', 'cark', 'carl', 'carr', 'carray', 'carriege', 'carrige', 'carslic', 'carslick', 'cartaine', 'caseline', 'casement', 'caslic', 'casper', 'casse', 'castigation', 'castile', 'casting', 'casy', 'cate', 'catechise', 'catgut', 'cathe', 'catherine', 'cathote', 'caudge', 'caugh', 'caught', 'caull', 'caunte', 'caurk', 'caw', 'cchurch', 'ceadd', 'cealling', 'ceasar', 'cease', 'cedar', 'celipise', 'cemetery', 'centre', 'cereal', 'cerge', 'cerlinng', 'certainty', 'certifficate', 'certificate', 'certifying', 'certocle', 'cha', 'chad', 'chage', 'chain', 'chalk', 'challenge', 'chan', 'chandelier', 'chane', 'char', 'charade', 'charcole', 'chargeable', 'charle', 'charly', 'charne', 'chartie', 'chatter', 'cheek', 'cheer', 'cheese', 'cheesecake', 'chem', 'cherric', 'chess', 'chf', 'chibnall', 'chickling', 'chidd', 'chilchia', 'chilchiaminga', 'childbed', 'childer', 'childhood', 'chim', 'chimese', 'chinne', 'chinnne', 'chinse', 'chintz', 'chip', 'chircd', 'chist', 'choake', 'choble', 'choke', 'chol', 'cholera', 'choly', 'chool', 'chothe', 'chrishing', 'christa', 'christen', 'churn', 'cide', 'circumvent', 'city', 'cla', 'claggage', 'clain', 'clark', 'clarley', 'claske', 'classify', 'clay', 'cle', 'cleane', 'clem', 'cler', 'clergyman', 'clershaw', 'climate', 'climb', 'clindene', 'clircd', 'clle', 'cllershe', 'cllershew', 'clliston', 'cloat', 'cloath', 'cloathing', 'cloc', 'cloke', 'clon', 'clond', 'cloomy', 'cloorse', 'closen', 'closep', 'closs', 'clothee', 'clother', 'clurch', 'cluurch', 'cmuploy', 'cnoug', 'coach', 'coal', 'coarking', 'coarse', 'coart', 'coate', 'cob', 'cobbler', 'cobler', 'cobsebs', 'coching', 'cock', 'cocon', 'codar', 'coday', 'code', 'codge', 'coffer', 'cohesion', 'coi', 'colbert', 'coldplaye', 'colege', 'colle', 'collectiong', 'colleg', 'collegue', 'colley', 'collie', 'collision', 'coloa', 'colon', 'colonaise', 'colonial', 'colonie', 'colouring', 'column', 'comat', 'comb', 'combination', 'comch', 'come', 'comence', 'comest', 'comey', 'comfaine', 'comin', 'coming', 'comission', 'comlequence', 'commander', 'commencement', 'commissary', 'commisst', 'comp', 'compan', 'companys', 'comparison', 'compat', 'compe', 'compel', 'compensation', 'compete', 'competen', 'competitive', 'complaine', 'complany', 'compleating', 'complicate', 'compliment', 'comptroller', 'comquol', 'comrs', 'comt', 'conc', 'concern', 'concerten', 'concillor', 'concn', 'concourse', 'cond', 'confer', 'confidant', 'confide', 'confound', 'confuse', 'congratalate', 'congratula', 'conjunction', 'conn', 'conquest', 'conr', 'consell', 'conside', 'considen', 'consist', 'consistency', 'consistent', 'consolidate', 'constion', 'constiption', 'constituent', 'constitut', 'construction', 'consum', 'consume', 'consumption', 'cont', 'contest', 'contingent', 'continne', 'continuation', 'contradict', 'contrary', 'contribute', 'controf', 'control', 'convenience', 'conversa', 'convertion', 'convict', 'convincing', 'coocanna', 'coocaund', 'cooladdie', 'coole', 'coom', 'coondalippie', 'coop', 'coor', 'coorong', 'coot', 'coquet', 'corer', 'cork', 'cormt', 'corne', 'cornwell', 'coroner', 'corpor', 'correcde', 'coskin', 'cotta', 'cottaye', 'coughing', 'cought', 'couite', 'coulline', 'coultry', 'counc', 'counterpin', 'county', 'cource', 'courency', 'couriositie', 'courle', 'courthouse', 'cous', 'couse', 'couser', 'cousidere', 'cousin', 'cousiste', 'cousisting', 'covenant', 'covering', 'cowan', 'cower', 'coy', 'cracker', 'crafer', 'crane', 'crange', 'crante', 'crasse', 'crawforesds', 'cread', 'creak', 'creaper', 'creat', 'creatome', 'creck', 'cred', 'creed', 'creem', 'crib', 'cribbage', 'cricketer', 'crishe', 'crisis', 'criticism', 'crob', 'crog', 'croguet', 'croquent', 'crose', 'crosse', 'crott', 'crouhre', 'crush', 'cub', 'cubboard', 'cubler', 'cubout', 'cucumber', 'cueld', 'cuire', 'cunne', 'curacoa', 'curate', 'curbler', 'cureo', 'curiosity', 'curon', 'current', 'curse', 'curtain', 'curting', 'cushing', 'cushion', 'cusion', 'custard', 'custon', 'dabenfurt', 'dad', 'dade', 'dainte', 'dairy', 'dall', 'dammage', 'damnage', 'dan', 'danceing', 'dancer', 'dange', 'dangerous', 'danging', 'danner', 'dard', 'darning', 'dase', 'daske', 'datid', 'daugher', 'daught', 'davenpart', 'davey', 'davidson', 'dawkin', 'day', 'daybreak', 'dayc', 'daye', 'dayss', 'de', 'deail', 'dealer', 'deba', 'decay', 'declair', 'declaration', 'decorate', 'decoy', 'decrease', 'dedde', 'deer', 'defermin', 'define', 'degree', 'deldccilon', 'delf', 'delighle', 'delirium', 'demarkation', 'demp', 'dempster', 'dennr', 'denorning', 'denounce', 'deo', 'depecte', 'deport', 'depress', 'dery', 'describe', 'deserve', 'design', 'desolation', 'destination', 'deterinine', 'detirnind', 'deval', 'devarce', 'devastation', 'devine', 'devl', 'devote', 'devs', 'dfference', 'dher', 'diar', 'diceate', 'dictate', 'dictation', 'did', 'dide', 'didy', 'differ', 'differance', 'difficult', 'difficultis', 'digeart', 'diguit', 'dike', 'dildring', 'diligence', 'dilighte', 'dill', 'dinck', 'dining', 'dinnd', 'dinneer', 'dinner', 'dinning', 'dinnnd', 'dinnot', 'dinnr', 'dinnry', 'dinnse', 'dinson', 'dinth', 'diocese', 'dip', 'dippin', 'dir', 'dire', 'direct', 'directorship', 'direet', 'dirent', 'direstion', 'disable', 'disagree', 'disap', 'disappoe', 'disappone', 'disapponte', 'disappornt', 'disappoule', 'disapprove', 'disarrange', 'disaster', 'discomfort', 'discontent', 'discrepancy', 'discretion', 'discription', 'disdain', 'disdike', 'disgrace', 'dishonor', 'disleate', 'dislike', 'dislocte', 'disloyality', 'dispearsene', 'dispense', 'dispose', 'disregard', 'dissance', 'dissipate', 'distillation', 'distribute', 'distribution', 'distrong', 'distroye', 'distruction', 'disturne', 'divide', 'diye', 'dlay', 'dlige', 'dnouday', 'do', 'doctere', 'dod', 'dofe', 'dogy', 'doile', 'doin', 'dois', 'dome', 'domestic', 'domino', 'dong', 'donkey', 'dook', 'dope', 'dork', 'dorm', 'doub', 'doubless', 'doubtful', 'douglass', 'dour', 'dove', 'dowd', 'downpour', 'doyen', 'doze', 'drain', 'drance', 'drane', 'drank', 'drap', 'dreadsn', 'dreae', 'dreamn', 'dree', 'dreem', 'drel', 'dren', 'drench', 'drent', 'dressmaker', 'dresteng', 'drie', 'drige', 'drin', 'drip', 'driveny', 'drivery', 'drnking', 'droke', 'drough', 'drought', 'drownde', 'drunkard', 'drunking', 'drven', 'dsappont', 'duch', 'duchess', 'ducking', 'duckling', 'duet', 'duety', 'dullday', 'dulto', 'dump', 'duncan', 'dung', 'dunnage', 'dunner', 'dunt', 'duration', 'dustrailian', 'dusty', 'e', 'eacd', 'eache', 'eack', 'eading', 'eagle', 'eale', 'eard', 'earler', 'earn', 'earth', 'earthenware', 'ease', 'east', 'easter', 'easure', 'eave', 'eccompanie', 'ecide', 'ecision', 'eclipse', 'edershaw', 'edinborough', 'editl', 'edmond', 'edmund', 'educat', 'education', 'educatioon', 'ee', 'eening', 'effort', 'efore', 'efte', 'ega', 'ege', 'egeeatle', 'egual', 'egunre', 'egy', 'eicce', 'eit', 'elde', 'eleanor', 'eleare', 'elector', 'elenen', 'eleve', 'elicit', 'elicve', 'elinnga', 'elite', 'ell', 'ellectionnerng', 'ellersday', 'ellerson', 'ellot', 'ellow', 'elloyd', 'emainder', 'embankment', 'embarrass', 'embody', 'embroydery', 'emerald', 'emergency', 'emigration', 'emnle', 'emperor', 'empire', 'emple', 'empty', 'emurre', 'en', 'enall', 'enclind', 'enclosure', 'encounter', 'endeavor', 'endebte', 'endirstand', 'endorsment', 'endow', 'enerlpe', 'enforce', 'england', 'englandtelegram', 'engusta', 'enil', 'enjuire', 'enjure', 'enjye', 'enlarge', 'enspet', 'entend', 'enterance', 'enterdarment', 'entire', 'entreat', 'entrust', 'enxon', 'eolire', 'epcuion', 'equal', 'equall', 'equity', 'er', 'eradicate', 'ere', 'erience', 'ernoon', 'ernor', 'erskine', 'erye', 'esar', 'esolve', 'esrang', 'essence', 'est', 'establishment', 'estate', 'este', 'ester', 'esther', 'etermine', 'ettrange', 'eub', 'eucer', 'eucha', 'euchree', 'eut', 'evence', 'evenin', 'evening', 'evenn', 'everard', 'everlasle', 'everse', 'evey', 'evgune', 'evince', 'ewbank', 'ewell', 'exanination', 'exauste', 'excelent', 'excite', 'exclaim', 'exclamn', 'exense', 'exert', 'exkiend', 'exkr', 'exllaimne', 'exonerate', 'expec', 'expediction', 'expedition', 'expend', 'experience', 'expiect', 'expose', 'expre', 'ext', 'exteen', 'extend', 'extract', 'eynold', 'fablest', 'fack', 'facket', 'fackson', 'factory', 'fad', 'fade', 'fag', 'faie', 'faill', 'fain', 'faint', 'fainting', 'faintress', 'fairness', 'fale', 'fallant', 'falon', 'faly', 'famil', 'familey', 'familly', 'fand', 'fane', 'fangy', 'faniel', 'fannity', 'fannnly', 'fany', 'fap', 'faper', 'farewell', 'fargupon', 'farming', 'farner', 'farr', 'farty', 'fas', 'fashiwon', 'fashone', 'fast', 'fasten', 'fastend', 'fastire', 'fatality', 'fature', 'faught', 'faust', 'favouritism', 'faye', 'fboile', 'fe', 'fead', 'fearce', 'feate', 'feature', 'featuress', 'febry', 'feck', 'fed', 'feeder', 'feeding', 'feel', 'feence', 'fel', 'felong', 'felony', 'felvill', 'fender', 'fene', 'fennp', 'fentlemamn', 'fep', 'fern', 'feror', 'ferror', 'ferry', 'fester', 'fewice', 'ffice', 'fi', 'fib', 'fible', 'fidget', 'fieel', 'fiel', 'fierce', 'fightfull', 'figore', 'filk', 'filt', 'filter', 'filth', 'filty', 'fim', 'financial', 'findin', 'fingermark', 'finich', 'finis', 'finishe', 'finist', 'finni', 'finnp', 'fint', 'finte', 'finust', 'fion', 'fir', 'fireing', 'fireplace', 'firmness', 'firre', 'firstrate', 'fisherman', 'fist', 'fitech', 'fith', 'flaine', 'flame', 'flank', 'flannation', 'flap', 'flash', 'flatulench', 'flavouring', 'flawke', 'flay', 'fleecy', 'flet', 'flight', 'flinder', 'flirt', 'flirtation', 'fll', 'floare', 'flora', 'florry', 'flosken', 'flow', 'flowess', 'fmnce', 'foal', 'fodder', 'fohnwoon', 'folder', 'fole', 'folight', 'followere', 'folte', 'fomm', 'fonion', 'fooke', 'foold', 'foon', 'footing', 'forage', 'forbearance', 'forfit', 'forge', 'forgot', 'foriner', 'forinment', 'fork', 'formation', 'formby', 'formente', 'forner', 'forpt', 'forre', 'forren', 'forreynold', 'fort', 'forthcome', 'fortune', 'foster', 'found', 'foury', 'fout', 'fowerd', 'fox', 'frace', 'fraddie', 'fraind', 'fram', 'frand', 'frankling', 'frd', 'fread', 'freak', 'fream', 'freat', 'freeme', 'freen', 'freend', 'freeze', 'frelich', 'freman', 'freshe', 'freshen', 'freshend', 'freshness', 'frest', 'friand', 'friding', 'fridiron', 'frighten', 'frisk', 'fritter', 'front', 'frosk', 'frove', 'frower', 'frown', 'frriday', 'frry', 'frs', 'fruishe', 'frumning', 'frund', 'frunt', 'ftirle', 'fuin', 'fule', 'full', 'fundf', 'funding', 'funnel', 'funty', 'furguson', 'furnace', 'furning', 'furnshe', 'furnture', 'furse', 'furth', 'fusnt', 'gacar', 'gaille', 'gair', 'galion', 'galle', 'galley', 'gallon', 'gallp', 'gam', 'gambier', 'gambling', 'gane', 'gang', 'ganise', 'gar', 'gardener', 'gardep', 'gardiner', 'gardne', 'gardner', 'gare', 'gargle', 'garle', 'garment', 'garritte', 'gart', 'gaske', 'gasken', 'gasswork', 'gasty', 'gatepost', 'gave', 'gay', 'gazelle', 'ge', 'geat', 'gebarty', 'geese', 'geeve', 'gehertay', 'geherty', 'gel', 'geln', 'gement', 'gemini', 'genesis', 'gentleme', 'gentlernen', 'george', 'gera', 'geranin', 'get', 'gethere', 'gettire', 'geve', 'ggo', 'ghost', 'gi', 'gibberish', 'gien', 'gift', 'gilbertson', 'gill', 'gin', 'ginge', 'gingerbread', 'gire', 'girlso', 'girly', 'girth', 'girty', 'gistrate', 'gity', 'give', 'giving', 'givng', 'givve', 'gla', 'glaass', 'gladden', 'gladstone', 'glaid', 'glaiy', 'glan', 'glanc', 'glasse', 'glassy', 'gle', 'glnde', 'globunal', 'gloom', 'glory', 'glyd', 'gnale', 'gnl', 'go', 'goa', 'goal', 'gobble', 'gock', 'godge', 'godler', 'godley', 'godlle', 'goe', 'goer', 'goin', 'going', 'golloppe', 'gollwa', 'gom', 'gon', 'gone', 'goo', 'goodness', 'goole', 'gor', 'gorl', 'gorness', 'goss', 'gound', 'goune', 'governess', 'governo', 'gower', 'gpointe', 'gra', 'gracearle', 'gracearling', 'graceparling', 'graham', 'grame', 'grammar', 'grand', 'grase', 'grazing', 'greadt', 'greate', 'greaty', 'greenock', 'greer', 'greet', 'greeting', 'gregrey', 'gress', 'grest', 'grier', 'grieve', 'grimble', 'grin', 'gristress', 'grocearing', 'grocer', 'groin', 'grone', 'grope', 'groweld', 'grower', 'grub', 'grumblle', 'grunt', 'guarantee', 'gument', 'gundatelle', 'gurprite', 'gutter', 'guy', 'gve', 'gyorgin', 'haas', 'haave', 'hacalilay', 'hackney', 'haddy', 'hader', 'hafrison', 'hail', 'hailing', 'hain', 'hairman', 'haisd', 'haismth', 'hal', 'halay', 'hald', 'hale', 'halfy', 'halidy', 'halk', 'haloran', 'hama', 'hamily', 'han', 'hande', 'handlerchie', 'handorf', 'handsaw', 'hange', 'hanger', 'hangkerchie', 'hangrom', 'hangron', 'hankerchicd', 'hanlherchif', 'hansom', 'haped', 'hapel', 'hapen', 'happend', 'happere', 'happin', 'happive', 'hapre', 'haram', 'hardworke', 'harge', 'harne', 'harnessing', 'harnishe', 'harnium', 'harnson', 'harrier', 'harriette', 'harrion', 'harry', 'harty', 'hase', 'hasluck', 'hasten', 'haster', 'hastest', 'hatband', 'haul', 'hav', 'havas', 'have', 'haver', 'hawke', 'hawker', 'hawkin', 'haxche', 'headache', 'headlall', 'heal', 'hean', 'heard', 'hearer', 'hearing', 'heartedness', 'heav', 'hee', 'heel', 'heighten', 'heir', 'held', 'helf', 'hell', 'helmet', 'helped', 'helpin', 'helpt', 'helsh', 'hemmation', 'hend', 'hender', 'hepe', 'heppen', 'herdal', 'herday', 'herdre', 'here', 'herne', 'hery', 'heselgrove', 'hesslegrove', 'het', 'heyne', 'hhiggin', 'hiagin', 'hide', 'hiern', 'higam', 'high', 'higm', 'hild', 'himip', 'himsel', 'himset', 'hinder', 'hinderance', 'hingy', 'hip', 'hitch', 'hiurng', 'hiy', 'hliggin', 'hmd', 'hock', 'hog', 'hoist', 'holey', 'hollond', 'hombat', 'homedid', 'homne', 'honesty', 'hong', 'honor', 'hony', 'hooder', 'hooper', 'hoot', 'horer', 'horid', 'hornond', 'horror', 'horrorable', 'horseman', 'horsemanship', 'horsess', 'horson', 'horst', 'hort', 'horte', 'hortin', 'hosice', 'hospital', 'hotching', 'house', 'housemaid', 'houser', 'houseuse', 'howe', 'howell', 'hron', 'hrong', 'hseem', 'htarte', 'hubbub', 'hug', 'huim', 'humbug', 'humour', 'hunder', 'huney', 'hunting', 'hura', 'hurch', 'hurdle', 'hurray', 'hury', 'husbaud', 'hust', 'husting', 'husy', 'hym', 'ick', 'idice', 'idla', 'ifanny', 'iff', 'iflaine', 'ifold', 'ifolde', 'ifor', 'iformation', 'ifrie', 'ift', 'ight', 'ignorance', 'ignore', 'iland', 'illfeele', 'illne', 'illusion', 'imake', 'ime', 'immense', 'imortal', 'impertemance', 'impl', 'imply', 'import', 'importance', 'impose', 'impressio', 'impression', 'imprison', 'improved', 'impudence', 'in', 'inccen', 'incle', 'inclination', 'income', 'incompetence', 'inconvenience', 'indebte', 'indiffer', 'indisposition', 'indistinst', 'indite', 'individual', 'indoor', 'induce', 'inducement', 'indulgent', 'info', 'ingredient', 'ingwhile', 'initation', 'injure', 'injustice', 'inland', 'inmate', 'inning', 'innings', 'innite', 'innovation', 'inoitation', 'inpertinent', 'inquest', 'inquir', 'inside', 'insider', 'inspiration', 'inspire', 'instant', 'institute', 'institution', 'instrap', 'instrument', 'insurance', 'inte', 'intellect', 'intemperance', 'intent', 'intere', 'interfere', 'intermission', 'international', 'interpie', 'intimacy', 'intimation', 'intitation', 'intite', 'investment', 'involve', 'iny', 'io', 'iog', 'iopene', 'iorderd', 'iothere', 'iover', 'iprome', 'irane', 'irish', 'irom', 'ironing', 'irregularity', 'irritate', 'isbister', 'ise', 'isease', 'iself', 'ish', 'ishe', 'isk', 'islante', 'ispect', 'ister', 'itdinne', 'itie', 'ition', 'itor', 'itting', 'iupplie', 'ive', 'jack', 'jackass', 'jackie', 'jacot', 'jame', 'janny', 'janu', 'jelly', 'jeopardy', 'jessie', 'jester', 'jet', 'jett', 'jetter', 'jeturn', 'jigture', 'jilia', 'jinggar', 'jipe', 'jiping', 'jobble', 'jockey', 'johnny', 'joind', 'joine', 'joing', 'jome', 'jones', 'jost', 'joy', 'jrrt', 'jucce', 'judison', 'jue', 'jugust', 'juist', 'jumper', 'jumping', 'junddle', 'junior', 'jup', 'jurchase', 'jurd', 'jurney', 'jurnishe', 'jurp', 'jurpe', 'just', 'justify', 'kangarooe', 'keeling', 'kender', 'kenmantoo', 'keply', 'kere', 'kerslake', 'kevolver', 'key', 'keye', 'keyesteration', 'kice', 'kich', 'kidd', 'kig', 'kiggin', 'kil', 'kilke', 'killer', 'killing', 'kince', 'kingston', 'kirkala', 'kise', 'knce', 'knicker', 'knight', 'knocke', 'knore', 'knot', 'knowe', 'knoxe', 'knoxt', 'kock', 'konuth', 'koorin', 'koxe', 'krow', 'kun', 'kuvcke', 'la', 'lact', 'ladd', 'lading', 'laill', 'lak', 'lalad', 'laling', 'lalk', 'lame', 'lamper', 'lan', 'lance', 'landing', 'langh', 'langhrnd', 'langley', 'lank', 'lann', 'lanny', 'lanturn', 'lapfnt', 'lard', 'lart', 'lash', 'lashion', 'lass', 'laste', 'lastright', 'latch', 'lathe', 'laughter', 'lave', 'lawrence', 'lawson', 'lck', 'le', 'lea', 'leaden', 'lear', 'leather', 'leatree', 'leav', 'leave', 'leavey', 'leavy', 'lecep', 'lede', 'ledery', 'ledion', 'leeke', 'lefore', 'legg', 'legislature', 'lell', 'lelle', 'lelot', 'lemesurier', 'lender', 'lenghten', 'lenis', 'lennp', 'lent', 'lersorn', 'lesaye', 'lesd', 'lessen', 'leste', 'letle', 'lett', 'lettice', 'letting', 'lettuce', 'levee', 'lewe', 'lfad', 'liability', 'liar', 'lib', 'libboy', 'liberality', 'liblon', 'library', 'licence', 'license', 'lid', 'lidy', 'lietken', 'lieu', 'lifes', 'ligara', 'lige', 'ligence', 'ligh', 'lighting', 'lightne', 'lightring', 'lightship', 'lighty', 'lillifant', 'limbert', 'lincoln', 'lind', 'lindsay', 'lindy', 'lineing', 'lininent', 'lining', 'linklater', 'linson', 'liope', 'lishe', 'lishie', 'listt', 'litide', 'little', 'littte', 'livend', 'livin', 'living', 'lizzie', 'lke', 'll', 'lle', 'llect', 'llershaw', 'llift', 'lloy', 'lloyds', 'lloyst', 'loace', 'lobster', 'lodgem', 'lodging', 'lof', 'lofty', 'logerhead', 'logrolling', 'loke', 'lold', 'loll', 'loming', 'lone', 'loneliness', 'lonely', 'long', 'longing', 'longue', 'lony', 'loo', 'looker', 'looking', 'lookout', 'loom', 'loosen', 'loou', 'loqunt', 'lore', 'lork', 'loser', 'losi', 'losing', 'lossing', 'lothair', 'lothin', 'loud', 'lounce', 'lourne', 'lousa', 'lousia', 'lousian', 'lousig', 'loutia', 'loveld', 'lovliest', 'loward', 'lower', 'loymn', 'lozenge', 'lreain', 'lrot', 'lry', 'lter', 'lton', 'ltore', 'luca', 'luch', 'luck', 'luclay', 'lug', 'luica', 'lula', 'lumber', 'lumly', 'lumph', 'lunatic', 'lunmant', 'lunt', 'lurne', 'luxury', 'luy', 'lynde', 'macchine', 'macd', 'machinnery', 'mackenny', 'mackie', 'mackin', 'mackle', 'maddlre', 'made', 'madne', 'madnight', 'mag', 'maga', 'mage', 'magnifying', 'magret', 'maid', 'maile', 'maille', 'mailmany', 'mailme', 'maine', 'maintenance', 'maishe', 'mak', 'make', 'makerchier', 'makey', 'makie', 'makin', 'making', 'makr', 'malbro', 'mallee', 'mallie', 'malon', 'maman', 'mamay', 'mame', 'mamma', 'mamner', 'mana', 'manag', 'mancager', 'manckle', 'mand', 'mander', 'mangaror', 'manhole', 'manl', 'manna', 'mantaine', 'manware', 'mapa', 'march', 'marching', 'marell', 'margate', 'marino', 'marmalade', 'marnel', 'marner', 'marra', 'marryat', 'marshall', 'mart', 'mary', 'masbift', 'masson', 'masty', 'masurier', 'matcher', 'mater', 'material', 'matress', 'matthew', 'mattor', 'may', 'mayall', 'mber', 'mcewin', 'mcyill', 'me', 'measurie', 'measurier', 'meb', 'meddling', 'mediain', 'mediaine', 'medicing', 'medium', 'meeding', 'meeed', 'meen', 'meep', 'meetingthen', 'melancholy', 'meligie', 'melne', 'melone', 'melrose', 'memarry', 'membe', 'memoir', 'memoranda', 'memory', 'mence', 'mendid', 'menntuan', 'menson', 'mentin', 'menting', 'mentioue', 'meray', 'mercaney', 'merch', 'merchie', 'merit', 'merry', 'mershaw', 'meser', 'messay', 'messr', 'mesure', 'mesurner', 'mette', 'mhi', 'miall', 'mian', 'middlay', 'middling', 'mide', 'midelay', 'midst', 'midwinter', 'mie', 'mife', 'miguel', 'mil', 'milford', 'militant', 'milke', 'milked', 'milman', 'milner', 'min', 'minddid', 'miner', 'mineteen', 'miney', 'minga', 'minimum', 'mining', 'minist', 'minlford', 'mino', 'minorie', 'minule', 'minus', 'misday', 'mise', 'misfortune', 'mishap', 'mishire', 'mislay', 'misplace', 'misrepresent', 'mission', 'misty', 'mitate', 'mith', 'mix', 'mixture', 'mlaval', 'mllodist', 'mmame', 'mmarrie', 'mmnte', 'mnock', 'mnowe', 'mob', 'mode', 'moderate', 'modify', 'moleske', 'molest', 'mollie', 'monald', 'mond', 'mone', 'monglay', 'monie', 'moning', 'monld', 'mont', 'montefiore', 'monthe', 'monticute', 'montonon', 'mony', 'mor', 'mora', 'morearit', 'moreurit', 'morialta', 'morner', 'morni', 'mornight', 'mornin', 'morning', 'morrey', 'morron', 'morth', 'mose', 'mosquitoe', 'mothe', 'motherigh', 'motio', 'motive', 'mould', 'mourning', 'mourt', 'mouse', 'mow', 'mpacke', 'mper', 'mrininson', 'mrse', 'mtding', 'muble', 'muce', 'mudding', 'muddle', 'muest', 'muff', 'mug', 'muggin', 'muire', 'mulberry', 'mulfer', 'mulgewanke', 'mulgewankie', 'mullet', 'mumbeer', 'mump', 'mung', 'munst', 'mure', 'murphy', 'murprene', 'murrag', 'murrar', 'murrry', 'murry', 'musel', 'museum', 'mushroon', 'mushsoom', 'musician', 'musk', 'mustard', 'mustarra', 'mustire', 'muttom', 'muuay', 'myer', 'mymn', 'myrange', 'mys', 'myselfrod', 'myselft', 'myser', 'mytllfy', 'mywille', 'na', 'nail', 'naismyth', 'nance', 'nanghty', 'nantabie', 'nap', 'napier', 'napoleon', 'napper', 'nast', 'nave', 'navigatio', 'nde', 'nder', 'ne', 'near', 'neary', 'neasence', 'neather', 'neavy', 'nebert', 'nee', 'neelon', 'neer', 'neesland', 'negan', 'negative', 'negotiation', 'neighbourhood', 'neil', 'nein', 'nelinidy', 'nephew', 'net', 'neture', 'neuroopta', 'newent', 'nexer', 'nib', 'nich', 'nicholson', 'niclack', 'nicnce', 'nigad', 'nigestion', 'nigh', 'nighbour', 'nighl', 'night', 'niight', 'nil', 'ninight', 'nip', 'nise', 'nishe', 'nision', 'nither', 'niversity', 'nner', 'nnor', 'nobller', 'noir', 'noite', 'nol', 'nolitic', 'nominate', 'nomination', 'nonsense', 'noot', 'nope', 'nopey', 'nore', 'nork', 'norsleep', 'nosleep', 'notable', 'notine', 'notion', 'nount', 'novcs', 'novel', 'nowe', 'nspect', 'nstitute', 'nswer', 'ntion', 'ntorrt', 'nug', 'numbeer', 'numnter', 'nunch', 'oad', 'oader', 'oaly', 'oare', 'oat', 'obgection', 'observe', 'obstinate', 'obstruction', 'occasond', 'occupy', 'occurance', 'ocke', 'ocloc', 'ocloce', 'ocnpe', 'ocock', 'octave', 'odd', 'odlee', 'ody', 'oe', 'offen', 'offence', 'officethe', 'officeto', 'ohe', 'olame', 'olision', 'oloyd', 'ominibut', 'omkinson', 'omnbus', 'on', 'onar', 'ond', 'onee', 'onegan', 'onenbut', 'oness', 'onk', 'onnor', 'ony', 'ood', 'oon', 'oot', 'oove', 'opend', 'ople', 'oppe', 'oppos', 'oppressive', 'opuir', 'or', 'orangery', 'orde', 'ore', 'organ', 'origin', 'original', 'ormamentat', 'orse', 'os', 'osy', 'ote', 'otherighem', 'otherine', 'oucault', 'ouche', 'oue', 'ough', 'oul', 'ounce', 'ounceof', 'ounr', 'ourneighbour', 'ourselve', 'ouse', 'oust', 'outh', 'outport', 'ouy', 'ove', 'oven', 'overcome', 'overdraw', 'overdrawing', 'overlook', 'overner', 'overom', 'overreach', 'overrule', 'overseer', 'overtake', 'overthrow', 'overwhelm', 'overy', 'ovice', 'ovr', 'ovt', 'own', 'ownde', 'ownership', 'ownsend', 'oyt', 'pa', 'packet', 'packethand', 'pacot', 'pad', 'paddack', 'paddiis', 'paddoch', 'paintul', 'pakisow', 'pale', 'palf', 'pall', 'palling', 'palmer', 'palpitation', 'pancake', 'pand', 'panic', 'pannat', 'pantine', 'papar', 'papeery', 'par', 'parade', 'parburson', 'parce', 'parel', 'parkinson', 'parlour', 'parlt', 'parrd', 'parsley', 'partake', 'partecule', 'particularty', 'parting', 'partry', 'pase', 'passen', 'passent', 'passesion', 'passin', 'passing', 'pastay', 'pastr', 'pasty', 'pat', 'patation', 'patent', 'pater', 'path', 'patience', 'patient', 'paton', 'patty', 'pe', 'peany', 'pear', 'peare', 'pearl', 'pebble', 'pec', 'peckle', 'peculation', 'peep', 'peet', 'peg', 'pellow', 'pempere', 'penalumba', 'penclamba', 'penclumba', 'peopne', 'pepper', 'pera', 'perceive', 'perfeet', 'perfune', 'permission', 'permit', 'perpare', 'perpiration', 'perporne', 'perra', 'perse', 'persist', 'persperation', 'perspiration', 'pert', 'pertenance', 'pet', 'peter', 'peterswald', 'pew', 'phillipson', 'piange', 'pich', 'pickle', 'pidding', 'pide', 'piedding', 'pier', 'pil', 'pile', 'pinafore', 'pincushion', 'pind', 'pink', 'pipee', 'pistol', 'pit', 'pive', 'plaint', 'plaister', 'plane', 'plange', 'plans', 'plantation', 'planty', 'plany', 'plart', 'plash', 'platform', 'platt', 'playen', 'playmy', 'ple', 'plea', 'plead', 'plenne', 'pling', 'plng', 'plople', 'ploud', 'plough', 'ploughing', 'plug', 'plump', 'plunge', 'ply', 'pmeft', 'poach', 'pocnic', 'poctry', 'pod', 'pofor', 'poine', 'poined', 'poing', 'pointer', 'pois', 'poison', 'pol', 'polalve', 'poli', 'policeman', 'pollard', 'pollice', 'polonaise', 'pomn', 'pomy', 'pon', 'pond', 'ponder', 'pont', 'pookabie', 'pool', 'poon', 'poorey', 'popery', 'popularity', 'por', 'poricle', 'poroppellim', 'portant', 'portante', 'porter', 'porting', 'portmanteaus', 'portulllea', 'pose', 'possess', 'possick', 'poster', 'potalve', 'potatoe', 'pothe', 'pottle', 'potty', 'pouder', 'pouse', 'pove', 'poxr', 'ppear', 'prache', 'practical', 'pragrese', 'pranice', 'prap', 'pray', 'pre', 'preache', 'precantion', 'prece', 'preen', 'prefect', 'prefure', 'prem', 'prepair', 'preparaton', 'preposing', 'prescribe', 'prese', 'presence', 'presentation', 'preser', 'president', 'pret', 'pretche', 'pretence', 'pretend', 'pretense', 'prette', 'preventing', 'prevention', 'prick', 'prickle', 'pride', 'pright', 'pril', 'prill', 'prince', 'prite', 'privacy', 'privlage', 'priye', 'prlan', 'prnish', 'procedure', 'procee', 'procepiwg', 'proclaim', 'proclain', 'produc', 'production', 'profess', 'professor', 'progre', 'prohibit', 'project', 'promind', 'promote', 'promoter', 'prompt', 'prond', 'prononce', 'proop', 'prop', 'proportion', 'prorouge', 'prosecution', 'prospectus', 'prosper', 'prostrate', 'protector', 'protest', 'provde', 'proximity', 'prslve', 'prune', 'psalm', 'ption', 'ptte', 'pub', 'pubbishe', 'public', 'publice', 'publish', 'puc', 'puddle', 'puddy', 'pude', 'puff', 'puidding', 'puilde', 'pul', 'pulding', 'pulke', 'pulld', 'pullet', 'pulloce', 'pulp', 'pump', 'pumpudding', 'puncture', 'pundle', 'pune', 'punge', 'purp', 'purray', 'pursperation', 'pursuade', 'pus', 'push', 'pussie', 'puzzle', 'qiite', 'quaile', 'quality', 'quanti', 'quare', 'quart', 'quatter', 'quckl', 'quee', 'queee', 'quend', 'query', 'quice', 'quieat', 'quile', 'quirtation', 'qunet', 'quset', 'rack', 'racon', 'rad', 'rade', 'radie', 'radishe', 'raind', 'rainfall', 'rais', 'raisis', 'raison', 'ramble', 'ramin', 'ramination', 'rance', 'randall', 'ranenp', 'range', 'rank', 'rankin', 'rannce', 'rape', 'rary', 'raskel', 'raskle', 'raspberry', 'rast', 'rasy', 'rat', 'ratepayer', 'rativie', 'ravage', 'rave', 'raveller', 'rawling', 'rcel', 'rd', 'reace', 'reachid', 'reacke', 'reaction', 'readence', 'readin', 'reality', 'realize', 'reanain', 'reap', 'reassure', 'rebole', 'rebound', 'rebut', 'recall', 'recede', 'recerve', 'rechtle', 'recise', 'recognize', 'recol', 'recolle', 'recollect', 'recollest', 'recommendation', 'reconcilation', 'reconsider', 'reconstruct', 'recoppere', 'recount', 'recourse', 'recove', 'recovery', 'recoyne', 'rectify', 'red', 'redeem', 'rednce', 'ree', 'reef', 'reen', 'reetlig', 'ref', 'refine', 'reflect', 'refrain', 'refun', 'refund', 'regatta', 'reght', 'regulater', 'reheve', 'reimburse', 'reing', 'relapse', 'relative', 'release', 'relipe', 'relive', 'relp', 'rema', 'remake', 'reme', 'remembeer', 'remembrance', 'rememher', 'remoine', 'remount', 'rend', 'repaise', 'repapere', 'repay', 'repeal', 'repeshe', 'repoice', 'repoine', 'reporter', 'reporting', 'repot', 'repoth', 'reprobate', 'repurchase', 'repute', 'requ', 'requlate', 'reread', 'rescind', 'residance', 'resident', 'resolu', 'resolving', 'reson', 'responsibility', 'ress', 'ressedance', 'restle', 'rether', 'retirement', 'retract', 'returng', 'revelation', 'revenue', 'reveoarse', 'revoke', 'rge', 'richard', 'rictoria', 'riddick', 'riddle', 'riddock', 'ridi', 'riede', 'riggin', 'rightene', 'rigont', 'rince', 'riplore', 'ripple', 'rish', 'risin', 'rittin', 'rmed', 'rmin', 'rnative', 'rne', 'rnoon', 'rnoox', 'roam', 'roape', 'robbed', 'robler', 'rodlef', 'rogue', 'rol', 'roller', 'romantie', 'romrn', 'ron', 'rone', 'rood', 'roon', 'roondrom', 'root', 'rop', 'rorton', 'rought', 'roule', 'rounisheent', 'rouse', 'rousearle', 'roval', 'rowland', 'roxe', 'royd', 'rre', 'rread', 'rreembry', 'rrive', 'rromise', 'rrouble', 'rrow', 'rsin', 'rte', 'rthday', 'rubbe', 'rubbed', 'rubbing', 'rubbish', 'rubish', 'ruck', 'ruddle', 'rude', 'rue', 'ruind', 'rul', 'rule', 'rulle', 'rump', 'rumpe', 'runaway', 'rung', 'runner', 'running', 'rup', 'russell', 'rust', 'rutine', 's', 'sach', 'sack', 'sacrafice', 'sadd', 'sae', 'safety', 'said', 'saide', 'sailing', 'sailor', 'sain', 'sait', 'saken', 'salle', 'salute', 'samb', 'sambert', 'sambo', 'sameness', 'sancage', 'sancepan', 'sancer', 'sander', 'sanet', 'sang', 'sank', 'sannakin', 'sant', 'sapho', 'sappar', 'sapplee', 'sardenapalus', 'sardine', 'sarf', 'sarl', 'sarprised', 'sarpt', 'sate', 'satifactury', 'satisfac', 'satisfactory', 'satisfi', 'satisfied', 'saturde', 'sauider', 'sausage', 'savery', 'savil', 'saweed', 'say', 'sbeaege', 'scale', 'scalp', 'scalped', 'scandle', 'scanty', 'scarf', 'scarse', 'sccond', 'scen', 'schedule', 'schoolroom', 'schoor', 'schoot', 'schopper', 'science', 'scnnapper', 'scom', 'scone', 'scoring', 'scot', 'scottle', 'scoundrel', 'scowere', 'scox', 'scr', 'scrape', 'screaming', 'screaning', 'scriptural', 'scrubbing', 'scruld', 'sctioon', 'se', 'seacher', 'seagull', 'seake', 'sealde', 'sealing', 'seaman', 'sear', 'searcel', 'searl', 'seasick', 'seaside', 'seather', 'seatre', 'seavant', 'secame', 'seceme', 'seck', 'second', 'see', 'seeing', 'seemd', 'seet', 'seite', 'seller', 'selling', 'selte', 'semarly', 'semente', 'semna', 'sending', 'senge', 'senner', 'senough', 'sento', 'sep', 'separation', 'series', 'serion', 'sermn', 'serrche', 'serv', 'servobb', 'sery', 'sester', 'sesve', 'sethe', 'sett', 'setting', 'settler', 'seuse', 'seve', 'sevend', 'sevent', 'sever', 'severate', 'severy', 'seward', 'sewell', 'sewie', 'sex', 'shack', 'shaddowe', 'shag', 'shama', 'shandeller', 'shanty', 'shareholder', 'shark', 'shart', 'shave', 'shaving', 'shawl', 'shayng', 'shearere', 'shearing', 'sheette', 'shellere', 'shelling', 'shelter', 'shephe', 'sheriff', 'sherry', 'shert', 'shetliff', 'shewing', 'shews', 'shey', 'shilling', 'shine', 'shing', 'shipmate', 'shipp', 'shipst', 'shiren', 'shirly', 'shirr', 'shmall', 'shom', 'shon', 'shoo', 'shooter', 'shope', 'shor', 'shortcome', 'shortcoming', 'shorth', 'shortness', 'shred', 'shringe', 'shun', 'si', 'sich', 'sideet', 'sie', 'siel', 'sig', 'siger', 'sil', 'sild', 'sill', 'silver', 'simber', 'sime', 'simmon', 'simmond', 'simms', 'sincerity', 'sind', 'sindown', 'sininson', 'siniso', 'sinpon', 'sion', 'sioner', 'sip', 'sise', 'sissie', 'sissy', 'six', 'sixety', 'sketching', 'skill', 'slain', 'slandin', 'slate', 'slaughter', 'slavery', 'slay', 'sledge', 'sleeng', 'sleeple', 'slge', 'slipper', 'sllow', 'slower', 'slpe', 'slve', 'smart', 'smele', 'smelter', 'smill', 'smooth', 'smuire', 'snipe', 'snith', 'snob', 'snopping', 'soar', 'sobbie', 'sod', 'soe', 'sofar', 'sofas', 'sofess', 'soff', 'sol', 'solbar', 'sold', 'somdhe', 'someetime', 'somehe', 'somer', 'somethi', 'sometle', 'somithe', 'somthing', 'sonbody', 'sonethe', 'sonnd', 'sonthe', 'soolen', 'sop', 'sope', 'sopha', 'sorr', 'sos', 'sost', 'sothe', 'soutter', 'soy', 'spaeache', 'spainard', 'span', 'spar', 'spare', 'spared', 'spark', 'sparrow', 'spe', 'spea', 'speachifying', 'spealn', 'spear', 'speciman', 'specineen', 'specinen', 'speck', 'spectacle', 'speeche', 'speed', 'spelling', 'spenit', 'sperect', 'spilt', 'spir', 'spirrit', 'spirrite', 'spivirin', 'splende', 'splot', 'splraw', 'spoild', 'spoill', 'spong', 'spoon', 'spoppe', 'sport', 'sprane', 'spraol', 'sprawl', 'sprove', 'spry', 'spurt', 'spute', 'squatting', 'squeen', 'squier', 'squirral', 'squitoe', 'srain', 'sreaking', 'sreatening', 'ssel', 'ssister', 'ssonethe', 'stable', 'staff', 'staid', 'stain', 'stak', 'stake', 'stamp', 'standard', 'stane', 'stankle', 'stanle', 'stared', 'starlle', 'starte', 'stary', 'statin', 'statist', 'statuette', 'stavle', 'staye', 'stayes', 'stealing', 'steame', 'steel', 'steenson', 'steeplechase', 'sten', 'stephenson', 'stepmother', 'sterday', 'stere', 'steward', 'stich', 'stif', 'stile', 'stin', 'sting', 'stingle', 'stink', 'stion', 'stipulate', 'stir', 'sto', 'stockade', 'stoe', 'stoke', 'stom', 'stome', 'stoner', 'stong', 'stook', 'stool', 'storeroom', 'storess', 'storme', 'stort', 'stove', 'strait', 'strangle', 'strany', 'strawberry', 'strawterrie', 'stream', 'strecke', 'strengh', 'strengthen', 'strenth', 'stringh', 'stroke', 'stroll', 'stron', 'strong', 'struggle', 'strunck', 'stry', 'stuch', 'stuckey', 'stuffing', 'stumble', 'stupidity', 'stur', 'stuy', 'sty', 'sub', 'subra', 'subscribe', 'substance', 'substantiate', 'substitute', 'suceess', 'suchre', 'suchree', 'sucker', 'sucla', 'sucle', 'suff', 'suffe', 'suggin', 'sull', 'sullivan', 'sulliver', 'sullock', 'sumer', 'summon', 'sumoner', 'sump', 'sunburnt', 'sunch', 'sunche', 'sund', 'sunde', 'sundre', 'sunkise', 'sunnimer', 'sunpt', 'supercede', 'superseede', 'supplant', 'suppon', 'supprise', 'sur', 'surf', 'surgeon', 'suringe', 'surn', 'surneyor', 'surplice', 'surprisee', 'surveying', 'suspend', 'suspension', 'sustain', 'sutter', 'sway', 'sweeping', 'sweet', 'swell', 'swining', 'swivel', 'swolen', 'swollen', 'syme', 'sympathy', 'system', 'taber', 'taby', 'tackie', 'tailton', 'take', 'takin', 'taking', 'tal', 'talia', 'talkie', 'tally', 'talt', 'tance', 'tande', 'tanny', 'tap', 'tape', 'tapley', 'tar', 'targe', 'tariff', 'tarry', 'tarte', 'tasse', 'tasteless', 'tat', 'tave', 'taville', 'taxation', 'te', 'tea', 'teacher', 'tean', 'tearer', 'tears', 'teat', 'teather', 'teatime', 'teddin', 'teed', 'teity', 'teldridge', 'telegrum', 'telling', 'telly', 'temperance', 'temperature', 'temphor', 'tempt', 'ten', 'tenclose', 'tend', 'tene', 'tergupon', 'termerricoat', 'ternoon', 'terry', 'testament', 'text', 'th', 'thaf', 'thake', 'thal', 'thall', 'thame', 'thanul', 'thatch', 'thea', 'thee', 'theg', 'theig', 'themate', 'themmation', 'themomator', 'themr', 'thenmatism', 'thent', 'thermometer', 'thern', 'thes', 'thet', 'thfistfor', 'thhaw', 'thinker', 'thir', 'thire', 'thirst', 'thirten', 'thome', 'thon', 'thone', 'thong', 'thoungh', 'thousand', 'thre', 'thread', 'threat', 'threate', 'threatne', 'thring', 'thrista', 'thron', 'throngh', 'thrs', 'thump', 'thundar', 'thunde', 'thundering', 'thung', 'thur', 'thursd', 'thut', 'tick', 'tiday', 'tiger', 'till', 'tiltree', 'tiltreet', 'timb', 'timbere', 'time', 'timordine', 'timorit', 'tine', 'ting', 'tink', 'tinme', 'tipera', 'tired', 'tirself', 'tirth', 'tis', 'tisfaction', 'tite', 'tith', 'tling', 'tmn', 'tnee', 'tner', 'toad', 'toak', 'tob', 'todo', 'tody', 'toffee', 'toget', 'togethe', 'togrsterday', 'tohn', 'token', 'tol', 'tolia', 'tolk', 'toma', 'toman', 'tomate', 'tomb', 'tomight', 'tommorrow', 'tomoow', 'tomotoe', 'tompson', 'tomy', 'tone', 'toney', 'tonge', 'tongie', 'tonig', 'tony', 'tope', 'topsail', 'torne', 'tory', 'toss', 'tot', 'total', 'tottie', 'tourn', 'tousip', 'tover', 'towl', 'towrn', 'towrurkiss', 'tracey', 'tract', 'trainno', 'traitor', 'trathlilby', 'traveld', 'traveller', 'trawille', 'traye', 'trea', 'treare', 'treatent', 'treatment', 'treet', 'trembling', 'tremen', 'tremining', 'tress', 'trie', 'trim', 'trimne', 'tring', 'tringster', 'trinine', 'triumph', 'trom', 'troning', 'troop', 'trotting', 'troubley', 'trough', 'trouse', 'trout', 'trowser', 'tructe', 'trusty', 'truth', 'truthfulness', 'ttee', 'tube', 'tuble', 'tuck', 'tueen', 'tuin', 'tul', 'tullach', 'tulsday', 'tulstone', 'tumbler', 'tumbr', 'tumont', 'tumout', 'tunder', 'tunnel', 'tuob', 'turks', 'turnbill', 'turnbull', 'turnishe', 'turnont', 'turnsout', 'tuurn', 'twe', 'twell', 'twelle', 'twelue', 'twic', 'twise', 'twn', 'tyne', 'uct', 'ueem', 'uest', 'ught', 'uim', 'uin', 'uip', 'ulsion', 'ult', 'umbery', 'umbrella', 'umner', 'umpire', 'unbbrella', 'unceran', 'uncher', 'uncle', 'undarie', 'unday', 'undecide', 'underson', 'understanding', 'undertaking', 'undship', 'undtidy', 'unhurt', 'unifor', 'unite', 'university', 'unk', 'unke', 'unle', 'unns', 'unoter', 'unpsuble', 'unseat', 'unsere', 'unsile', 'unsuccesul', 'unt', 'unter', 'unting', 'untishe', 'unw', 'upeave', 'upheld', 'urch', 'urse', 'urther', 'usappointnent', 'usen', 'ust', 'ustance', 'ustice', 'usuad', 'usual', 'ution', 'utting', 'vacation', 'valley', 'valorem', 'valparaiso', 'varcoe', 'variance', 'variety', 'varnish', 'vautin', 've', 'vedge', 'vegpp', 'vehicle', 'velope', 'vening', 'ventilate', 'venus', 'veranch', 'veranda', 'verandah', 'verbena', 'verdict', 'verry', 'versation', 'verse', 'verser', 'verything', 'vess', 'vesse', 'vessee', 'vesself', 'veto', 'vey', 'veyance', 'viewconnor', 'vigor', 'vil', 'ville', 'vince', 'vindicate', 'vinegar', 'ving', 'vinger', 'vint', 'vise', 'visht', 'vister', 'vive', 'voicep', 'volume', 'vomitte', 'vorce', 'vouch', 'wack', 'waddle', 'wading', 'wag', 'waish', 'waiten', 'waiter', 'waiting', 'wakeful', 'waking', 'wakk', 'wale', 'walk', 'walke', 'walky', 'wallflower', 'wallsend', 'walsh', 'wand', 'wandy', 'wane', 'wante', 'wap', 'wapa', 'warburton', 'ware', 'warke', 'warmie', 'warning', 'warrion', 'warte', 'warter', 'wartere', 'waser', 'washe', 'washer', 'washup', 'wask', 'wast', 'wastl', 'wastt', 'wasy', 'watchen', 'waterfall', 'wathe', 'wattle', 'waxbil', 'wbout', 'wck', 'wea', 'weat', 'weavel', 'webb', 'wed', 'wedge', 'wedne', 'wee', 'weeping', 'wek', 'welbe', 'welcome', 'welfare', 'wellbehave', 'welon', 'wem', 'wemy', 'weny', 'wenye', 'were', 'weread', 'werncre', 'werner', 'west', 'westbourn', 'wetting', 'wew', 'wha', 'wharfage', 'wheelbarrow', 'wheeler', 'whem', 'whereabout', 'whey', 'whic', 'whict', 'whill', 'whim', 'whipe', 'whipping', 'whirch', 'whirlpool', 'whit', 'whiten', 'whitewash', 'whitington', 'whon', 'whow', 'whrman', 'wht', 'whymess', 'whyte', 'wian', 'wick', 'widgow', 'wie', 'wien', 'wifes', 'wigglesworth', 'wigley', 'wihstand', 'wike', 'wilel', 'wilhiaam', 'wilhout', 'wilk', 'willoughby', 'willunga', 'wining', 'winkel', 'winker', 'winkle', 'winnall', 'winner', 'wint', 'wintery', 'wishing', 'wisker', 'wisper', 'wisse', 'with', 'withdrawal', 'withhold', 'withmyself', 'wkile', 'wlo', 'wmile', 'wode', 'wolimia', 'wollim', 'wom', 'woma', 'won', 'wonderland', 'wondy', 'wonight', 'woo', 'woocame', 'woodville', 'wook', 'wookata', 'wooken', 'woolain', 'wooleria', 'woolernia', 'woollst', 'woolomia', 'woolshe', 'wor', 'wording', 'wore', 'workman', 'workmanship', 'worr', 'worre', 'worrne', 'worshop', 'worstt', 'worth', 'woulet', 'wound', 'wour', 'wourey', 'wrate', 'wrath', 'wre', 'wreath', 'wrele', 'wretch', 'wretene', 'wringer', 'wris', 'writen', 'writte', 'writting', 'wrong', 'wrote', 'wrthout', 'wurley', 'wurlly', 'wuth', 'wver', 'yain', 'yalan', 'yalate', 'yaldia', 'yattala', 'yeste', 'yesterda', 'yiw', 'yon', 'youle', 'youngster', 'yyear', 'zine']\n"
     ]
    }
   ],
   "source": [
    "# These are the removed words with the threshhold of .07\n",
    "typesPre = sorted(countsPre.keys())\n",
    "typesPost = sorted(countsPost.keys())\n",
    "print(sorted(list(set(typesPre) - set(typesPost))))"
   ]
  },
  {
   "cell_type": "markdown",
   "metadata": {},
   "source": [
    "## Evaluation"
   ]
  },
  {
   "cell_type": "markdown",
   "metadata": {},
   "source": [
    "#### First the post-treatment corpus"
   ]
  },
  {
   "cell_type": "code",
   "execution_count": 24,
   "metadata": {},
   "outputs": [
    {
     "name": "stdout",
     "output_type": "stream",
     "text": [
      "94\n",
      "21\n",
      "59.240469208211145\n"
     ]
    },
    {
     "data": {
      "text/plain": [
       "941"
      ]
     },
     "execution_count": 24,
     "metadata": {},
     "output_type": "execute_result"
    }
   ],
   "source": [
    "lengthsPost = []\n",
    "\n",
    "for x in tokensPost:\n",
    "    lengthsPost.append(len(x))\n",
    "\n",
    "print(max(lengthsPost))\n",
    "print(min(lengthsPost))\n",
    "print(sum(lengthsPost)/len(lengthsPost))\n",
    "\n",
    "# Let's have a look at the shortest text\n",
    "# What one is it?\n",
    "min(range(len(lengthsPost)), key=lengthsPost.__getitem__)"
   ]
  },
  {
   "cell_type": "code",
   "execution_count": 25,
   "metadata": {},
   "outputs": [
    {
     "data": {
      "image/png": "[encoded data removed]",
      "text/plain": [
       "<Figure size 432x288 with 1 Axes>"
      ]
     },
     "metadata": {
      "needs_background": "light"
     },
     "output_type": "display_data"
    }
   ],
   "source": [
    "# See the distribution\n",
    "plt.hist(lengthsPost, 10)\n",
    "plt.show()"
   ]
  },
  {
   "cell_type": "code",
   "execution_count": 26,
   "metadata": {},
   "outputs": [
    {
     "name": "stdout",
     "output_type": "stream",
     "text": [
      "['row', 'ride', 'garden', 'nown', 'today', 'are', 'trip', 'cricket', 'part', 'speak', 'deal', 'home', 'cough', 'start', 'turn', 'quarter', 'keeper', 'stop', 'talker', 'gooch', 'rest']\n",
      "['fany', 'come', 'row', 'tring', 'go', 'ride', 'wmile', 'walk', 'aooent', 'garden', 'nown', 'werncre', 'htarte', 'today', 'oaly', 'camnot', 'are', 'trip', 'ansom', 'cricket', 'part', 'day', 'come', 'speak', 'bakewall', 'see', 'beret', 'deal', 'unceran', 'leave', 'home', 'littte', 'cough', 'start', 'prap', 'onar', 'mamay', 'turn', 'lourne', 'trawille', 'quarter', 'make', 'keeper', 'aas', 'stop', 'talker', 'get', 'give', 'vegpp', 'gooch', 'rest', 'have', 'sarprised', 'see', 'go']\n"
     ]
    }
   ],
   "source": [
    "print(tokensPost[941])\n",
    "print(tokensPre[941])\n",
    "#len(gensim.utils.simple_preprocess(str(df.tokensPre[14])))"
   ]
  },
  {
   "cell_type": "code",
   "execution_count": 28,
   "metadata": {},
   "outputs": [
    {
     "data": {
      "text/plain": [
       "0"
      ]
     },
     "execution_count": 28,
     "metadata": {},
     "output_type": "execute_result"
    }
   ],
   "source": [
    "# How many are fewer than 20?\n",
    "sum(i < 20 for i in lengthsPost)"
   ]
  },
  {
   "cell_type": "markdown",
   "metadata": {},
   "source": [
    "#### Now for comparison, the pre-treatment corpus."
   ]
  },
  {
   "cell_type": "code",
   "execution_count": 29,
   "metadata": {},
   "outputs": [
    {
     "name": "stdout",
     "output_type": "stream",
     "text": [
      "112\n",
      "32\n",
      "87.48387096774194\n"
     ]
    },
    {
     "data": {
      "text/plain": [
       "548"
      ]
     },
     "execution_count": 29,
     "metadata": {},
     "output_type": "execute_result"
    }
   ],
   "source": [
    "lengthsPre = []\n",
    "\n",
    "for x in tokensPre:\n",
    "    lengthsPre.append(len(x))\n",
    "\n",
    "print(max(lengthsPre))\n",
    "print(min(lengthsPre))\n",
    "print(sum(lengthsPre)/len(lengthsPre))\n",
    "\n",
    "# Let's have a look at the shortest text\n",
    "# What one is it?\n",
    "min(range(len(lengthsPre)), key=lengthsPre.__getitem__)"
   ]
  },
  {
   "cell_type": "code",
   "execution_count": 31,
   "metadata": {},
   "outputs": [
    {
     "data": {
      "image/png": "[encoded data removed]",
      "text/plain": [
       "<Figure size 432x288 with 1 Axes>"
      ]
     },
     "metadata": {
      "needs_background": "light"
     },
     "output_type": "display_data"
    }
   ],
   "source": [
    "# See the distribution\n",
    "plt.hist(lengthsPre, 10)\n",
    "plt.show()"
   ]
  },
  {
   "cell_type": "code",
   "execution_count": 32,
   "metadata": {},
   "outputs": [
    {
     "name": "stdout",
     "output_type": "stream",
     "text": [
      "['put', 'boat', 'thing', 'pitch', 'tent', 'ground', 'shooting', 'kangaroo', 'shoot', 'return', 'sundown', 'find', 'guide', 'look', 'swan', 'egg', 'catch', 'swan', 'duck', 'eat', 'duck', 'pup']\n",
      "['put', 'make', 'boat', 'take', 'thing', 'pitch', 'tent', 'have', 'dinner', 'ground', 'go', 'shooting', 'see', 'kangaroo', 'shoot', 'return', 'sundown', 'find', 'guide', 'canoe', 'look', 'swan', 'egg', 'catch', 'swan', 'musk', 'duck', 'eat', 'duck', 'get', 'have', 'pup']\n"
     ]
    }
   ],
   "source": [
    "print(tokensPost[548])\n",
    "print(tokensPre[548])"
   ]
  },
  {
   "cell_type": "markdown",
   "metadata": {},
   "source": [
    "## Saving work"
   ]
  },
  {
   "cell_type": "code",
   "execution_count": 33,
   "metadata": {},
   "outputs": [],
   "source": [
    "with open(\"20240924_PhD_DiaChkNV_AuthorlessDownsampled.txt\", \"wb\") as fp:   #Pickling\n",
    "    pickle.dump(tokensPost, fp)"
   ]
  }
 ],
 "metadata": {
  "kernelspec": {
   "display_name": "Python 3 (ipykernel)",
   "language": "python",
   "name": "python3"
  },
  "language_info": {
   "codemirror_mode": {
    "name": "ipython",
    "version": 3
   },
   "file_extension": ".py",
   "mimetype": "text/x-python",
   "name": "python",
   "nbconvert_exporter": "python",
   "pygments_lexer": "ipython3",
   "version": "3.9.5"
  }
 },
 "nbformat": 4,
 "nbformat_minor": 2
}
