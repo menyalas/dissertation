{
 "cells": [
  {
   "cell_type": "markdown",
   "metadata": {},
   "source": [
    "# NAILDOH: Social Class Part 1"
   ]
  },
  {
   "cell_type": "markdown",
   "metadata": {},
   "source": [
    "## Resources"
   ]
  },
  {
   "cell_type": "code",
   "execution_count": 374,
   "metadata": {},
   "outputs": [],
   "source": [
    "# Libraries\n",
    "library(tidyverse) # for data manipulation"
   ]
  },
  {
   "cell_type": "code",
   "execution_count": 375,
   "metadata": {},
   "outputs": [],
   "source": [
    "# Functions\n",
    "factorize <- function(df){ # Create a function\n",
    "  for(i in which(sapply(df, class) == \"character\")) # that looks for variables with the character class \n",
    "      df[[i]] = as.factor(df[[i]]) # and converts them to factor (i.e., categorical) class\n",
    "  return(df)\n",
    "}\n",
    "\n",
    "unfactorize <- function(df){ # Create a function\n",
    "  for(i in which(sapply(df, class) == \"factor\")) # that looks for variables with the character class \n",
    "      df[[i]] = as.character(df[[i]]) # and converts them to factor (i.e., categorical) class\n",
    "  return(df)\n",
    "}"
   ]
  },
  {
   "cell_type": "code",
   "execution_count": 376,
   "metadata": {},
   "outputs": [
    {
     "data": {
      "text/html": [
       "<style>\n",
       ".list-inline {list-style: none; margin:0; padding: 0}\n",
       ".list-inline>li {display: inline-block}\n",
       ".list-inline>li:not(:last-child)::after {content: \"\\00b7\"; padding: 0 .5ex}\n",
       "</style>\n",
       "<ol class=list-inline><li>'docid'</li><li>'sourcetitle'</li><li>'docyear'</li><li>'docmonth'</li><li>'docday'</li><li>'authorLocation'</li><li>'docauthorid'</li><li>'docauthorname'</li><li>'authorgender'</li><li>'agewriting'</li><li>'birthyear'</li><li>'deathyear'</li><li>'religion'</li><li>'cultural_heritage'</li><li>'north_american_occupation'</li><li>'native_occupation'</li><li>'marriagestatus'</li><li>'maternalstatus'</li><li>'nationalOrigin'</li><li>'britishEmpire_EU'</li><li>'translated'</li><li>'publicLetter'</li><li>'religionNew'</li><li>'relMin'</li></ol>\n"
      ],
      "text/latex": [
       "\\begin{enumerate*}\n",
       "\\item 'docid'\n",
       "\\item 'sourcetitle'\n",
       "\\item 'docyear'\n",
       "\\item 'docmonth'\n",
       "\\item 'docday'\n",
       "\\item 'authorLocation'\n",
       "\\item 'docauthorid'\n",
       "\\item 'docauthorname'\n",
       "\\item 'authorgender'\n",
       "\\item 'agewriting'\n",
       "\\item 'birthyear'\n",
       "\\item 'deathyear'\n",
       "\\item 'religion'\n",
       "\\item 'cultural\\_heritage'\n",
       "\\item 'north\\_american\\_occupation'\n",
       "\\item 'native\\_occupation'\n",
       "\\item 'marriagestatus'\n",
       "\\item 'maternalstatus'\n",
       "\\item 'nationalOrigin'\n",
       "\\item 'britishEmpire\\_EU'\n",
       "\\item 'translated'\n",
       "\\item 'publicLetter'\n",
       "\\item 'religionNew'\n",
       "\\item 'relMin'\n",
       "\\end{enumerate*}\n"
      ],
      "text/markdown": [
       "1. 'docid'\n",
       "2. 'sourcetitle'\n",
       "3. 'docyear'\n",
       "4. 'docmonth'\n",
       "5. 'docday'\n",
       "6. 'authorLocation'\n",
       "7. 'docauthorid'\n",
       "8. 'docauthorname'\n",
       "9. 'authorgender'\n",
       "10. 'agewriting'\n",
       "11. 'birthyear'\n",
       "12. 'deathyear'\n",
       "13. 'religion'\n",
       "14. 'cultural_heritage'\n",
       "15. 'north_american_occupation'\n",
       "16. 'native_occupation'\n",
       "17. 'marriagestatus'\n",
       "18. 'maternalstatus'\n",
       "19. 'nationalOrigin'\n",
       "20. 'britishEmpire_EU'\n",
       "21. 'translated'\n",
       "22. 'publicLetter'\n",
       "23. 'religionNew'\n",
       "24. 'relMin'\n",
       "\n",
       "\n"
      ],
      "text/plain": [
       " [1] \"docid\"                     \"sourcetitle\"              \n",
       " [3] \"docyear\"                   \"docmonth\"                 \n",
       " [5] \"docday\"                    \"authorLocation\"           \n",
       " [7] \"docauthorid\"               \"docauthorname\"            \n",
       " [9] \"authorgender\"              \"agewriting\"               \n",
       "[11] \"birthyear\"                 \"deathyear\"                \n",
       "[13] \"religion\"                  \"cultural_heritage\"        \n",
       "[15] \"north_american_occupation\" \"native_occupation\"        \n",
       "[17] \"marriagestatus\"            \"maternalstatus\"           \n",
       "[19] \"nationalOrigin\"            \"britishEmpire_EU\"         \n",
       "[21] \"translated\"                \"publicLetter\"             \n",
       "[23] \"religionNew\"               \"relMin\"                   "
      ]
     },
     "metadata": {},
     "output_type": "display_data"
    },
    {
     "data": {
      "text/html": [
       "<style>\n",
       ".list-inline {list-style: none; margin:0; padding: 0}\n",
       ".list-inline>li {display: inline-block}\n",
       ".list-inline>li:not(:last-child)::after {content: \"\\00b7\"; padding: 0 .5ex}\n",
       "</style>\n",
       "<ol class=list-inline><li>617</li><li>24</li></ol>\n"
      ],
      "text/latex": [
       "\\begin{enumerate*}\n",
       "\\item 617\n",
       "\\item 24\n",
       "\\end{enumerate*}\n"
      ],
      "text/markdown": [
       "1. 617\n",
       "2. 24\n",
       "\n",
       "\n"
      ],
      "text/plain": [
       "[1] 617  24"
      ]
     },
     "metadata": {},
     "output_type": "display_data"
    }
   ],
   "source": [
    "# Data\n",
    "letters <- factorize(read.csv(\"20230218_AM_PhD-NaildohSubset.csv\")) # Put csv into a dataframe called docData\n",
    "colnames(letters) # Get an overview of the dataframe\n",
    "dim(letters)"
   ]
  },
  {
   "cell_type": "code",
   "execution_count": 377,
   "metadata": {},
   "outputs": [
    {
     "data": {
      "text/html": [
       "<style>\n",
       ".list-inline {list-style: none; margin:0; padding: 0}\n",
       ".list-inline>li {display: inline-block}\n",
       ".list-inline>li:not(:last-child)::after {content: \"\\00b7\"; padding: 0 .5ex}\n",
       "</style>\n",
       "<ol class=list-inline><li>Nun; Social worker; Teacher</li><li>Military wife; Writer</li><li>&lt;NA&gt;</li><li>Clergy</li><li>Farmer</li><li>Farmer's wife</li><li>Miner</li><li>Homemaker</li><li>Architect; Artist; Businessman; Clergy; Educator</li><li>Architect; Artist; Businessman; Clergy</li><li>Architect; Artist; Businessman; Clergy; Educator; Farmer</li><li>Architect; Artist; Businessman; Educator; Farmer</li><li>Architect; Artist; Businessman; Clergy; Educator; Farmer; Merchant</li><li>Government appointee; Politician; Religious leader</li><li>Farmer; Tradesman</li><li>Miner; Rancher; Laborer</li><li>Clergy; Educator; Writer</li><li>Government employee</li><li>Government appointee</li><li>Teacher</li><li>Tradesman</li><li>Surveyor</li><li>Manufacturer</li><li>Clergy; Missionary</li><li>Royal governor</li><li>Laborer; Tradesman</li><li>Writer</li></ol>\n",
       "\n",
       "<details>\n",
       "\t<summary style=display:list-item;cursor:pointer>\n",
       "\t\t<strong>Levels</strong>:\n",
       "\t</summary>\n",
       "\t<style>\n",
       "\t.list-inline {list-style: none; margin:0; padding: 0}\n",
       "\t.list-inline>li {display: inline-block}\n",
       "\t.list-inline>li:not(:last-child)::after {content: \"\\00b7\"; padding: 0 .5ex}\n",
       "\t</style>\n",
       "\t<ol class=list-inline><li>'Architect; Artist; Businessman; Clergy'</li><li>'Architect; Artist; Businessman; Clergy; Educator'</li><li>'Architect; Artist; Businessman; Clergy; Educator; Farmer'</li><li>'Architect; Artist; Businessman; Clergy; Educator; Farmer; Merchant'</li><li>'Architect; Artist; Businessman; Educator; Farmer'</li><li>'Clergy'</li><li>'Clergy; Educator; Writer'</li><li>'Clergy; Missionary'</li><li>'Farmer'</li><li>'Farmer; Tradesman'</li><li>'Farmer\\'s wife'</li><li>'Government appointee'</li><li>'Government appointee; Politician; Religious leader'</li><li>'Government employee'</li><li>'Homemaker'</li><li>'Laborer; Tradesman'</li><li>'Manufacturer'</li><li>'Military wife; Writer'</li><li>'Miner'</li><li>'Miner; Rancher; Laborer'</li><li>'Nun; Social worker; Teacher'</li><li>'Royal governor'</li><li>'Surveyor'</li><li>'Teacher'</li><li>'Tradesman'</li><li>'Writer'</li></ol>\n",
       "</details>"
      ],
      "text/latex": [
       "\\begin{enumerate*}\n",
       "\\item Nun; Social worker; Teacher\n",
       "\\item Military wife; Writer\n",
       "\\item <NA>\n",
       "\\item Clergy\n",
       "\\item Farmer\n",
       "\\item Farmer's wife\n",
       "\\item Miner\n",
       "\\item Homemaker\n",
       "\\item Architect; Artist; Businessman; Clergy; Educator\n",
       "\\item Architect; Artist; Businessman; Clergy\n",
       "\\item Architect; Artist; Businessman; Clergy; Educator; Farmer\n",
       "\\item Architect; Artist; Businessman; Educator; Farmer\n",
       "\\item Architect; Artist; Businessman; Clergy; Educator; Farmer; Merchant\n",
       "\\item Government appointee; Politician; Religious leader\n",
       "\\item Farmer; Tradesman\n",
       "\\item Miner; Rancher; Laborer\n",
       "\\item Clergy; Educator; Writer\n",
       "\\item Government employee\n",
       "\\item Government appointee\n",
       "\\item Teacher\n",
       "\\item Tradesman\n",
       "\\item Surveyor\n",
       "\\item Manufacturer\n",
       "\\item Clergy; Missionary\n",
       "\\item Royal governor\n",
       "\\item Laborer; Tradesman\n",
       "\\item Writer\n",
       "\\end{enumerate*}\n",
       "\n",
       "\\emph{Levels}: \\begin{enumerate*}\n",
       "\\item 'Architect; Artist; Businessman; Clergy'\n",
       "\\item 'Architect; Artist; Businessman; Clergy; Educator'\n",
       "\\item 'Architect; Artist; Businessman; Clergy; Educator; Farmer'\n",
       "\\item 'Architect; Artist; Businessman; Clergy; Educator; Farmer; Merchant'\n",
       "\\item 'Architect; Artist; Businessman; Educator; Farmer'\n",
       "\\item 'Clergy'\n",
       "\\item 'Clergy; Educator; Writer'\n",
       "\\item 'Clergy; Missionary'\n",
       "\\item 'Farmer'\n",
       "\\item 'Farmer; Tradesman'\n",
       "\\item 'Farmer\\textbackslash{}'s wife'\n",
       "\\item 'Government appointee'\n",
       "\\item 'Government appointee; Politician; Religious leader'\n",
       "\\item 'Government employee'\n",
       "\\item 'Homemaker'\n",
       "\\item 'Laborer; Tradesman'\n",
       "\\item 'Manufacturer'\n",
       "\\item 'Military wife; Writer'\n",
       "\\item 'Miner'\n",
       "\\item 'Miner; Rancher; Laborer'\n",
       "\\item 'Nun; Social worker; Teacher'\n",
       "\\item 'Royal governor'\n",
       "\\item 'Surveyor'\n",
       "\\item 'Teacher'\n",
       "\\item 'Tradesman'\n",
       "\\item 'Writer'\n",
       "\\end{enumerate*}\n"
      ],
      "text/markdown": [
       "1. Nun; Social worker; Teacher\n",
       "2. Military wife; Writer\n",
       "3. &lt;NA&gt;\n",
       "4. Clergy\n",
       "5. Farmer\n",
       "6. Farmer's wife\n",
       "7. Miner\n",
       "8. Homemaker\n",
       "9. Architect; Artist; Businessman; Clergy; Educator\n",
       "10. Architect; Artist; Businessman; Clergy\n",
       "11. Architect; Artist; Businessman; Clergy; Educator; Farmer\n",
       "12. Architect; Artist; Businessman; Educator; Farmer\n",
       "13. Architect; Artist; Businessman; Clergy; Educator; Farmer; Merchant\n",
       "14. Government appointee; Politician; Religious leader\n",
       "15. Farmer; Tradesman\n",
       "16. Miner; Rancher; Laborer\n",
       "17. Clergy; Educator; Writer\n",
       "18. Government employee\n",
       "19. Government appointee\n",
       "20. Teacher\n",
       "21. Tradesman\n",
       "22. Surveyor\n",
       "23. Manufacturer\n",
       "24. Clergy; Missionary\n",
       "25. Royal governor\n",
       "26. Laborer; Tradesman\n",
       "27. Writer\n",
       "\n",
       "\n",
       "\n",
       "**Levels**: 1. 'Architect; Artist; Businessman; Clergy'\n",
       "2. 'Architect; Artist; Businessman; Clergy; Educator'\n",
       "3. 'Architect; Artist; Businessman; Clergy; Educator; Farmer'\n",
       "4. 'Architect; Artist; Businessman; Clergy; Educator; Farmer; Merchant'\n",
       "5. 'Architect; Artist; Businessman; Educator; Farmer'\n",
       "6. 'Clergy'\n",
       "7. 'Clergy; Educator; Writer'\n",
       "8. 'Clergy; Missionary'\n",
       "9. 'Farmer'\n",
       "10. 'Farmer; Tradesman'\n",
       "11. 'Farmer\\'s wife'\n",
       "12. 'Government appointee'\n",
       "13. 'Government appointee; Politician; Religious leader'\n",
       "14. 'Government employee'\n",
       "15. 'Homemaker'\n",
       "16. 'Laborer; Tradesman'\n",
       "17. 'Manufacturer'\n",
       "18. 'Military wife; Writer'\n",
       "19. 'Miner'\n",
       "20. 'Miner; Rancher; Laborer'\n",
       "21. 'Nun; Social worker; Teacher'\n",
       "22. 'Royal governor'\n",
       "23. 'Surveyor'\n",
       "24. 'Teacher'\n",
       "25. 'Tradesman'\n",
       "26. 'Writer'\n",
       "\n",
       "\n"
      ],
      "text/plain": [
       " [1] Nun; Social worker; Teacher                                       \n",
       " [2] Military wife; Writer                                             \n",
       " [3] <NA>                                                              \n",
       " [4] Clergy                                                            \n",
       " [5] Farmer                                                            \n",
       " [6] Farmer's wife                                                     \n",
       " [7] Miner                                                             \n",
       " [8] Homemaker                                                         \n",
       " [9] Architect; Artist; Businessman; Clergy; Educator                  \n",
       "[10] Architect; Artist; Businessman; Clergy                            \n",
       "[11] Architect; Artist; Businessman; Clergy; Educator; Farmer          \n",
       "[12] Architect; Artist; Businessman; Educator; Farmer                  \n",
       "[13] Architect; Artist; Businessman; Clergy; Educator; Farmer; Merchant\n",
       "[14] Government appointee; Politician; Religious leader                \n",
       "[15] Farmer; Tradesman                                                 \n",
       "[16] Miner; Rancher; Laborer                                           \n",
       "[17] Clergy; Educator; Writer                                          \n",
       "[18] Government employee                                               \n",
       "[19] Government appointee                                              \n",
       "[20] Teacher                                                           \n",
       "[21] Tradesman                                                         \n",
       "[22] Surveyor                                                          \n",
       "[23] Manufacturer                                                      \n",
       "[24] Clergy; Missionary                                                \n",
       "[25] Royal governor                                                    \n",
       "[26] Laborer; Tradesman                                                \n",
       "[27] Writer                                                            \n",
       "26 Levels: Architect; Artist; Businessman; Clergy ..."
      ]
     },
     "metadata": {},
     "output_type": "display_data"
    },
    {
     "data": {
      "text/html": [
       "0.129659643435981"
      ],
      "text/latex": [
       "0.129659643435981"
      ],
      "text/markdown": [
       "0.129659643435981"
      ],
      "text/plain": [
       "[1] 0.1296596"
      ]
     },
     "metadata": {},
     "output_type": "display_data"
    },
    {
     "data": {
      "text/html": [
       "<style>\n",
       ".list-inline {list-style: none; margin:0; padding: 0}\n",
       ".list-inline>li {display: inline-block}\n",
       ".list-inline>li:not(:last-child)::after {content: \"\\00b7\"; padding: 0 .5ex}\n",
       "</style>\n",
       "<ol class=list-inline><li>&lt;NA&gt;</li><li>Clergy</li><li>Clergy; Farmer</li><li>Businessman; Farmer; Merchant</li><li>Businessman; Educator</li><li>Farmer</li><li>Farmer; Tradesman</li><li>Businessman; Tradesman</li><li>Teacher</li><li>Tradesman</li><li>Urban planner</li><li>Manufacturer</li><li>Military personnel</li><li>Writer</li></ol>\n",
       "\n",
       "<details>\n",
       "\t<summary style=display:list-item;cursor:pointer>\n",
       "\t\t<strong>Levels</strong>:\n",
       "\t</summary>\n",
       "\t<style>\n",
       "\t.list-inline {list-style: none; margin:0; padding: 0}\n",
       "\t.list-inline>li {display: inline-block}\n",
       "\t.list-inline>li:not(:last-child)::after {content: \"\\00b7\"; padding: 0 .5ex}\n",
       "\t</style>\n",
       "\t<ol class=list-inline><li>'Businessman; Educator'</li><li>'Businessman; Farmer; Merchant'</li><li>'Businessman; Tradesman'</li><li>'Clergy'</li><li>'Clergy; Farmer'</li><li>'Farmer'</li><li>'Farmer; Tradesman'</li><li>'Manufacturer'</li><li>'Military personnel'</li><li>'Teacher'</li><li>'Tradesman'</li><li>'Urban planner'</li><li>'Writer'</li></ol>\n",
       "</details>"
      ],
      "text/latex": [
       "\\begin{enumerate*}\n",
       "\\item <NA>\n",
       "\\item Clergy\n",
       "\\item Clergy; Farmer\n",
       "\\item Businessman; Farmer; Merchant\n",
       "\\item Businessman; Educator\n",
       "\\item Farmer\n",
       "\\item Farmer; Tradesman\n",
       "\\item Businessman; Tradesman\n",
       "\\item Teacher\n",
       "\\item Tradesman\n",
       "\\item Urban planner\n",
       "\\item Manufacturer\n",
       "\\item Military personnel\n",
       "\\item Writer\n",
       "\\end{enumerate*}\n",
       "\n",
       "\\emph{Levels}: \\begin{enumerate*}\n",
       "\\item 'Businessman; Educator'\n",
       "\\item 'Businessman; Farmer; Merchant'\n",
       "\\item 'Businessman; Tradesman'\n",
       "\\item 'Clergy'\n",
       "\\item 'Clergy; Farmer'\n",
       "\\item 'Farmer'\n",
       "\\item 'Farmer; Tradesman'\n",
       "\\item 'Manufacturer'\n",
       "\\item 'Military personnel'\n",
       "\\item 'Teacher'\n",
       "\\item 'Tradesman'\n",
       "\\item 'Urban planner'\n",
       "\\item 'Writer'\n",
       "\\end{enumerate*}\n"
      ],
      "text/markdown": [
       "1. &lt;NA&gt;\n",
       "2. Clergy\n",
       "3. Clergy; Farmer\n",
       "4. Businessman; Farmer; Merchant\n",
       "5. Businessman; Educator\n",
       "6. Farmer\n",
       "7. Farmer; Tradesman\n",
       "8. Businessman; Tradesman\n",
       "9. Teacher\n",
       "10. Tradesman\n",
       "11. Urban planner\n",
       "12. Manufacturer\n",
       "13. Military personnel\n",
       "14. Writer\n",
       "\n",
       "\n",
       "\n",
       "**Levels**: 1. 'Businessman; Educator'\n",
       "2. 'Businessman; Farmer; Merchant'\n",
       "3. 'Businessman; Tradesman'\n",
       "4. 'Clergy'\n",
       "5. 'Clergy; Farmer'\n",
       "6. 'Farmer'\n",
       "7. 'Farmer; Tradesman'\n",
       "8. 'Manufacturer'\n",
       "9. 'Military personnel'\n",
       "10. 'Teacher'\n",
       "11. 'Tradesman'\n",
       "12. 'Urban planner'\n",
       "13. 'Writer'\n",
       "\n",
       "\n"
      ],
      "text/plain": [
       " [1] <NA>                          Clergy                       \n",
       " [3] Clergy; Farmer                Businessman; Farmer; Merchant\n",
       " [5] Businessman; Educator         Farmer                       \n",
       " [7] Farmer; Tradesman             Businessman; Tradesman       \n",
       " [9] Teacher                       Tradesman                    \n",
       "[11] Urban planner                 Manufacturer                 \n",
       "[13] Military personnel            Writer                       \n",
       "13 Levels: Businessman; Educator ... Writer"
      ]
     },
     "metadata": {},
     "output_type": "display_data"
    },
    {
     "data": {
      "text/html": [
       "0.495948136142626"
      ],
      "text/latex": [
       "0.495948136142626"
      ],
      "text/markdown": [
       "0.495948136142626"
      ],
      "text/plain": [
       "[1] 0.4959481"
      ]
     },
     "metadata": {},
     "output_type": "display_data"
    }
   ],
   "source": [
    "# Compare the two variables values and proportion of missing data\n",
    "unique(letters$north_american_occupation)\n",
    "sum(is.na(letters$north_american_occupation))/617\n",
    "\n",
    "unique(letters$native_occupation)\n",
    "sum(is.na(letters$native_occupation))/617"
   ]
  },
  {
   "cell_type": "code",
   "execution_count": 378,
   "metadata": {},
   "outputs": [
    {
     "data": {
      "text/html": [
       "<table class=\"dataframe\">\n",
       "<caption>A data.frame: 28 × 3</caption>\n",
       "<thead>\n",
       "\t<tr><th></th><th scope=col>docauthorname</th><th scope=col>native_occupation</th><th scope=col>north_american_occupation</th></tr>\n",
       "\t<tr><th></th><th scope=col>&lt;fct&gt;</th><th scope=col>&lt;fct&gt;</th><th scope=col>&lt;fct&gt;</th></tr>\n",
       "</thead>\n",
       "<tbody>\n",
       "\t<tr><th scope=row>1</th><td>Chidlaw, Benjamin Williams, 1811-1892                     </td><td>Clergy                       </td><td>Clergy                                                            </td></tr>\n",
       "\t<tr><th scope=row>2</th><td>Roberts, Samuel, fl. 1856-1870                            </td><td>Clergy; Farmer               </td><td>NA                                                                </td></tr>\n",
       "\t<tr><th scope=row>4</th><td>Harris, Critchlow, 1813-1899                              </td><td>Businessman; Farmer; Merchant</td><td>Architect; Artist; Businessman; Clergy; Educator                  </td></tr>\n",
       "\t<tr><th scope=row>5</th><td>Harris, Sarah Stretch, 1818-1897                          </td><td>Businessman; Educator        </td><td>Architect; Artist; Businessman; Clergy                            </td></tr>\n",
       "\t<tr><th scope=row>44</th><td>Harris, Tom, 1847-                                        </td><td>Businessman; Farmer; Merchant</td><td>Architect; Artist; Businessman; Clergy; Educator; Farmer          </td></tr>\n",
       "\t<tr><th scope=row>54</th><td>Harris, Robert, 1849-1919                                 </td><td>Businessman; Farmer; Merchant</td><td>Architect; Artist; Businessman; Clergy; Educator; Farmer          </td></tr>\n",
       "\t<tr><th scope=row>84</th><td>Harris, Margaret Ellin, 1851-1944                         </td><td>Businessman; Farmer; Merchant</td><td>Architect; Artist; Businessman; Educator; Farmer                  </td></tr>\n",
       "\t<tr><th scope=row>179</th><td>Harris, William, 1854-                                    </td><td>Businessman; Farmer; Merchant</td><td>Architect; Artist; Businessman; Clergy; Educator; Farmer; Merchant</td></tr>\n",
       "\t<tr><th scope=row>231</th><td>Carrothers, Nathaniel, ?-1881                             </td><td>Farmer                       </td><td>Farmer; Tradesman                                                 </td></tr>\n",
       "\t<tr><th scope=row>238</th><td>Carrothers, Joseph, 1793(?)-                              </td><td>Farmer; Tradesman            </td><td>Farmer; Tradesman                                                 </td></tr>\n",
       "\t<tr><th scope=row>249</th><td>Robb, Alexander, 1839-                                    </td><td>Farmer                       </td><td>Miner; Rancher; Laborer                                           </td></tr>\n",
       "\t<tr><th scope=row>261</th><td>Bishop, Robert Hamilton, 1777-1855                        </td><td>Clergy                       </td><td>Clergy; Educator; Writer                                          </td></tr>\n",
       "\t<tr><th scope=row>262</th><td>Bell, William, 1780-1857                                  </td><td>Clergy                       </td><td>Clergy                                                            </td></tr>\n",
       "\t<tr><th scope=row>288</th><td>Knight, James, fl. 1831                                   </td><td>Businessman; Tradesman       </td><td>NA                                                                </td></tr>\n",
       "\t<tr><th scope=row>289</th><td>Menzies, George, fl. 1834                                 </td><td>Teacher                      </td><td>Teacher                                                           </td></tr>\n",
       "\t<tr><th scope=row>291</th><td>Anonymous Male Scottish Farmer Immigrant, fl. 1833        </td><td>Farmer                       </td><td>Farmer                                                            </td></tr>\n",
       "\t<tr><th scope=row>295</th><td>Anonymous Scottish Clergyman in Canada, fl. 1832          </td><td>Clergy                       </td><td>Clergy                                                            </td></tr>\n",
       "\t<tr><th scope=row>296</th><td>Anonymous Scottish Cabinet Maker, fl. 1833                </td><td>Tradesman                    </td><td>Tradesman                                                         </td></tr>\n",
       "\t<tr><th scope=row>297</th><td>Anonymous Scottish Gardener in Canada, fl. 1834           </td><td>Urban planner                </td><td>NA                                                                </td></tr>\n",
       "\t<tr><th scope=row>298</th><td>Anonymous Scottish Farmer from St. Fergus Parish, fl. 1834</td><td>Farmer                       </td><td>Farmer                                                            </td></tr>\n",
       "\t<tr><th scope=row>299</th><td>Anonymous Scottish Immigrant from Turriff, fl. 1834       </td><td>Manufacturer                 </td><td>NA                                                                </td></tr>\n",
       "\t<tr><th scope=row>300</th><td>McKenzie, D., fl. 1834                                    </td><td>Clergy                       </td><td>Clergy; Missionary                                                </td></tr>\n",
       "\t<tr><th scope=row>301</th><td>Anonymous Scottish Farmer from Aberdeenshire, fl. 1834    </td><td>Farmer                       </td><td>Farmer                                                            </td></tr>\n",
       "\t<tr><th scope=row>302</th><td>Aylmer, Matthew, Lord, 1775-1850                          </td><td>Military personnel           </td><td>Royal governor                                                    </td></tr>\n",
       "\t<tr><th scope=row>303</th><td>Singer, William, fl. 1831                                 </td><td>Tradesman                    </td><td>Laborer; Tradesman                                                </td></tr>\n",
       "\t<tr><th scope=row>304</th><td>Mooney, Thomas, fl. 1850                                  </td><td>Writer                       </td><td>Writer                                                            </td></tr>\n",
       "\t<tr><th scope=row>307</th><td>Hutchings, James Mason, 1820-1902                         </td><td>Tradesman                    </td><td>Miner                                                             </td></tr>\n",
       "\t<tr><th scope=row>311</th><td>Downe, John, fl. 1830                                     </td><td>Tradesman                    </td><td>Manufacturer                                                      </td></tr>\n",
       "</tbody>\n",
       "</table>\n"
      ],
      "text/latex": [
       "A data.frame: 28 × 3\n",
       "\\begin{tabular}{r|lll}\n",
       "  & docauthorname & native\\_occupation & north\\_american\\_occupation\\\\\n",
       "  & <fct> & <fct> & <fct>\\\\\n",
       "\\hline\n",
       "\t1 & Chidlaw, Benjamin Williams, 1811-1892                      & Clergy                        & Clergy                                                            \\\\\n",
       "\t2 & Roberts, Samuel, fl. 1856-1870                             & Clergy; Farmer                & NA                                                                \\\\\n",
       "\t4 & Harris, Critchlow, 1813-1899                               & Businessman; Farmer; Merchant & Architect; Artist; Businessman; Clergy; Educator                  \\\\\n",
       "\t5 & Harris, Sarah Stretch, 1818-1897                           & Businessman; Educator         & Architect; Artist; Businessman; Clergy                            \\\\\n",
       "\t44 & Harris, Tom, 1847-                                         & Businessman; Farmer; Merchant & Architect; Artist; Businessman; Clergy; Educator; Farmer          \\\\\n",
       "\t54 & Harris, Robert, 1849-1919                                  & Businessman; Farmer; Merchant & Architect; Artist; Businessman; Clergy; Educator; Farmer          \\\\\n",
       "\t84 & Harris, Margaret Ellin, 1851-1944                          & Businessman; Farmer; Merchant & Architect; Artist; Businessman; Educator; Farmer                  \\\\\n",
       "\t179 & Harris, William, 1854-                                     & Businessman; Farmer; Merchant & Architect; Artist; Businessman; Clergy; Educator; Farmer; Merchant\\\\\n",
       "\t231 & Carrothers, Nathaniel, ?-1881                              & Farmer                        & Farmer; Tradesman                                                 \\\\\n",
       "\t238 & Carrothers, Joseph, 1793(?)-                               & Farmer; Tradesman             & Farmer; Tradesman                                                 \\\\\n",
       "\t249 & Robb, Alexander, 1839-                                     & Farmer                        & Miner; Rancher; Laborer                                           \\\\\n",
       "\t261 & Bishop, Robert Hamilton, 1777-1855                         & Clergy                        & Clergy; Educator; Writer                                          \\\\\n",
       "\t262 & Bell, William, 1780-1857                                   & Clergy                        & Clergy                                                            \\\\\n",
       "\t288 & Knight, James, fl. 1831                                    & Businessman; Tradesman        & NA                                                                \\\\\n",
       "\t289 & Menzies, George, fl. 1834                                  & Teacher                       & Teacher                                                           \\\\\n",
       "\t291 & Anonymous Male Scottish Farmer Immigrant, fl. 1833         & Farmer                        & Farmer                                                            \\\\\n",
       "\t295 & Anonymous Scottish Clergyman in Canada, fl. 1832           & Clergy                        & Clergy                                                            \\\\\n",
       "\t296 & Anonymous Scottish Cabinet Maker, fl. 1833                 & Tradesman                     & Tradesman                                                         \\\\\n",
       "\t297 & Anonymous Scottish Gardener in Canada, fl. 1834            & Urban planner                 & NA                                                                \\\\\n",
       "\t298 & Anonymous Scottish Farmer from St. Fergus Parish, fl. 1834 & Farmer                        & Farmer                                                            \\\\\n",
       "\t299 & Anonymous Scottish Immigrant from Turriff, fl. 1834        & Manufacturer                  & NA                                                                \\\\\n",
       "\t300 & McKenzie, D., fl. 1834                                     & Clergy                        & Clergy; Missionary                                                \\\\\n",
       "\t301 & Anonymous Scottish Farmer from Aberdeenshire, fl. 1834     & Farmer                        & Farmer                                                            \\\\\n",
       "\t302 & Aylmer, Matthew, Lord, 1775-1850                           & Military personnel            & Royal governor                                                    \\\\\n",
       "\t303 & Singer, William, fl. 1831                                  & Tradesman                     & Laborer; Tradesman                                                \\\\\n",
       "\t304 & Mooney, Thomas, fl. 1850                                   & Writer                        & Writer                                                            \\\\\n",
       "\t307 & Hutchings, James Mason, 1820-1902                          & Tradesman                     & Miner                                                             \\\\\n",
       "\t311 & Downe, John, fl. 1830                                      & Tradesman                     & Manufacturer                                                      \\\\\n",
       "\\end{tabular}\n"
      ],
      "text/markdown": [
       "\n",
       "A data.frame: 28 × 3\n",
       "\n",
       "| <!--/--> | docauthorname &lt;fct&gt; | native_occupation &lt;fct&gt; | north_american_occupation &lt;fct&gt; |\n",
       "|---|---|---|---|\n",
       "| 1 | Chidlaw, Benjamin Williams, 1811-1892                      | Clergy                        | Clergy                                                             |\n",
       "| 2 | Roberts, Samuel, fl. 1856-1870                             | Clergy; Farmer                | NA                                                                 |\n",
       "| 4 | Harris, Critchlow, 1813-1899                               | Businessman; Farmer; Merchant | Architect; Artist; Businessman; Clergy; Educator                   |\n",
       "| 5 | Harris, Sarah Stretch, 1818-1897                           | Businessman; Educator         | Architect; Artist; Businessman; Clergy                             |\n",
       "| 44 | Harris, Tom, 1847-                                         | Businessman; Farmer; Merchant | Architect; Artist; Businessman; Clergy; Educator; Farmer           |\n",
       "| 54 | Harris, Robert, 1849-1919                                  | Businessman; Farmer; Merchant | Architect; Artist; Businessman; Clergy; Educator; Farmer           |\n",
       "| 84 | Harris, Margaret Ellin, 1851-1944                          | Businessman; Farmer; Merchant | Architect; Artist; Businessman; Educator; Farmer                   |\n",
       "| 179 | Harris, William, 1854-                                     | Businessman; Farmer; Merchant | Architect; Artist; Businessman; Clergy; Educator; Farmer; Merchant |\n",
       "| 231 | Carrothers, Nathaniel, ?-1881                              | Farmer                        | Farmer; Tradesman                                                  |\n",
       "| 238 | Carrothers, Joseph, 1793(?)-                               | Farmer; Tradesman             | Farmer; Tradesman                                                  |\n",
       "| 249 | Robb, Alexander, 1839-                                     | Farmer                        | Miner; Rancher; Laborer                                            |\n",
       "| 261 | Bishop, Robert Hamilton, 1777-1855                         | Clergy                        | Clergy; Educator; Writer                                           |\n",
       "| 262 | Bell, William, 1780-1857                                   | Clergy                        | Clergy                                                             |\n",
       "| 288 | Knight, James, fl. 1831                                    | Businessman; Tradesman        | NA                                                                 |\n",
       "| 289 | Menzies, George, fl. 1834                                  | Teacher                       | Teacher                                                            |\n",
       "| 291 | Anonymous Male Scottish Farmer Immigrant, fl. 1833         | Farmer                        | Farmer                                                             |\n",
       "| 295 | Anonymous Scottish Clergyman in Canada, fl. 1832           | Clergy                        | Clergy                                                             |\n",
       "| 296 | Anonymous Scottish Cabinet Maker, fl. 1833                 | Tradesman                     | Tradesman                                                          |\n",
       "| 297 | Anonymous Scottish Gardener in Canada, fl. 1834            | Urban planner                 | NA                                                                 |\n",
       "| 298 | Anonymous Scottish Farmer from St. Fergus Parish, fl. 1834 | Farmer                        | Farmer                                                             |\n",
       "| 299 | Anonymous Scottish Immigrant from Turriff, fl. 1834        | Manufacturer                  | NA                                                                 |\n",
       "| 300 | McKenzie, D., fl. 1834                                     | Clergy                        | Clergy; Missionary                                                 |\n",
       "| 301 | Anonymous Scottish Farmer from Aberdeenshire, fl. 1834     | Farmer                        | Farmer                                                             |\n",
       "| 302 | Aylmer, Matthew, Lord, 1775-1850                           | Military personnel            | Royal governor                                                     |\n",
       "| 303 | Singer, William, fl. 1831                                  | Tradesman                     | Laborer; Tradesman                                                 |\n",
       "| 304 | Mooney, Thomas, fl. 1850                                   | Writer                        | Writer                                                             |\n",
       "| 307 | Hutchings, James Mason, 1820-1902                          | Tradesman                     | Miner                                                              |\n",
       "| 311 | Downe, John, fl. 1830                                      | Tradesman                     | Manufacturer                                                       |\n",
       "\n"
      ],
      "text/plain": [
       "    docauthorname                                             \n",
       "1   Chidlaw, Benjamin Williams, 1811-1892                     \n",
       "2   Roberts, Samuel, fl. 1856-1870                            \n",
       "4   Harris, Critchlow, 1813-1899                              \n",
       "5   Harris, Sarah Stretch, 1818-1897                          \n",
       "44  Harris, Tom, 1847-                                        \n",
       "54  Harris, Robert, 1849-1919                                 \n",
       "84  Harris, Margaret Ellin, 1851-1944                         \n",
       "179 Harris, William, 1854-                                    \n",
       "231 Carrothers, Nathaniel, ?-1881                             \n",
       "238 Carrothers, Joseph, 1793(?)-                              \n",
       "249 Robb, Alexander, 1839-                                    \n",
       "261 Bishop, Robert Hamilton, 1777-1855                        \n",
       "262 Bell, William, 1780-1857                                  \n",
       "288 Knight, James, fl. 1831                                   \n",
       "289 Menzies, George, fl. 1834                                 \n",
       "291 Anonymous Male Scottish Farmer Immigrant, fl. 1833        \n",
       "295 Anonymous Scottish Clergyman in Canada, fl. 1832          \n",
       "296 Anonymous Scottish Cabinet Maker, fl. 1833                \n",
       "297 Anonymous Scottish Gardener in Canada, fl. 1834           \n",
       "298 Anonymous Scottish Farmer from St. Fergus Parish, fl. 1834\n",
       "299 Anonymous Scottish Immigrant from Turriff, fl. 1834       \n",
       "300 McKenzie, D., fl. 1834                                    \n",
       "301 Anonymous Scottish Farmer from Aberdeenshire, fl. 1834    \n",
       "302 Aylmer, Matthew, Lord, 1775-1850                          \n",
       "303 Singer, William, fl. 1831                                 \n",
       "304 Mooney, Thomas, fl. 1850                                  \n",
       "307 Hutchings, James Mason, 1820-1902                         \n",
       "311 Downe, John, fl. 1830                                     \n",
       "    native_occupation            \n",
       "1   Clergy                       \n",
       "2   Clergy; Farmer               \n",
       "4   Businessman; Farmer; Merchant\n",
       "5   Businessman; Educator        \n",
       "44  Businessman; Farmer; Merchant\n",
       "54  Businessman; Farmer; Merchant\n",
       "84  Businessman; Farmer; Merchant\n",
       "179 Businessman; Farmer; Merchant\n",
       "231 Farmer                       \n",
       "238 Farmer; Tradesman            \n",
       "249 Farmer                       \n",
       "261 Clergy                       \n",
       "262 Clergy                       \n",
       "288 Businessman; Tradesman       \n",
       "289 Teacher                      \n",
       "291 Farmer                       \n",
       "295 Clergy                       \n",
       "296 Tradesman                    \n",
       "297 Urban planner                \n",
       "298 Farmer                       \n",
       "299 Manufacturer                 \n",
       "300 Clergy                       \n",
       "301 Farmer                       \n",
       "302 Military personnel           \n",
       "303 Tradesman                    \n",
       "304 Writer                       \n",
       "307 Tradesman                    \n",
       "311 Tradesman                    \n",
       "    north_american_occupation                                         \n",
       "1   Clergy                                                            \n",
       "2   NA                                                                \n",
       "4   Architect; Artist; Businessman; Clergy; Educator                  \n",
       "5   Architect; Artist; Businessman; Clergy                            \n",
       "44  Architect; Artist; Businessman; Clergy; Educator; Farmer          \n",
       "54  Architect; Artist; Businessman; Clergy; Educator; Farmer          \n",
       "84  Architect; Artist; Businessman; Educator; Farmer                  \n",
       "179 Architect; Artist; Businessman; Clergy; Educator; Farmer; Merchant\n",
       "231 Farmer; Tradesman                                                 \n",
       "238 Farmer; Tradesman                                                 \n",
       "249 Miner; Rancher; Laborer                                           \n",
       "261 Clergy; Educator; Writer                                          \n",
       "262 Clergy                                                            \n",
       "288 NA                                                                \n",
       "289 Teacher                                                           \n",
       "291 Farmer                                                            \n",
       "295 Clergy                                                            \n",
       "296 Tradesman                                                         \n",
       "297 NA                                                                \n",
       "298 Farmer                                                            \n",
       "299 NA                                                                \n",
       "300 Clergy; Missionary                                                \n",
       "301 Farmer                                                            \n",
       "302 Royal governor                                                    \n",
       "303 Laborer; Tradesman                                                \n",
       "304 Writer                                                            \n",
       "307 Miner                                                             \n",
       "311 Manufacturer                                                      "
      ]
     },
     "metadata": {},
     "output_type": "display_data"
    }
   ],
   "source": [
    "# There is a higher occurance of NA for native_occupation\n",
    "# So I will use the north_american_occupation as a starting point.\n",
    "# When native_occupation is available, what is the north_american_occupation value?\n",
    "letters  %>% \n",
    "filter(!is.na(native_occupation)) %>%\n",
    "select(docauthorname, native_occupation, north_american_occupation)  %>% \n",
    "unique()"
   ]
  },
  {
   "cell_type": "markdown",
   "metadata": {},
   "source": [
    "Some of these values match. At this point, I am concerned with the cases that do not match, either because north_american_occupation is missing or different from native_occupation."
   ]
  },
  {
   "cell_type": "code",
   "execution_count": 379,
   "metadata": {},
   "outputs": [],
   "source": [
    "# Get the rows where\n",
    "rows = which(!is.na(letters$native_occupation) & # Native occupation is not NA\n",
    "             is.na(letters$north_american_occupation) | # the North American occupation is NA or...\n",
    "             # the native and North American occupations differ\n",
    "             as.character(letters$native_occupation) != as.character(letters$north_american_occupation))"
   ]
  },
  {
   "cell_type": "code",
   "execution_count": 380,
   "metadata": {},
   "outputs": [
    {
     "data": {
      "text/html": [
       "<table class=\"dataframe\">\n",
       "<caption>A data.frame: 18 × 3</caption>\n",
       "<thead>\n",
       "\t<tr><th></th><th scope=col>docauthorname</th><th scope=col>native_occupation</th><th scope=col>north_american_occupation</th></tr>\n",
       "\t<tr><th></th><th scope=col>&lt;fct&gt;</th><th scope=col>&lt;fct&gt;</th><th scope=col>&lt;fct&gt;</th></tr>\n",
       "</thead>\n",
       "<tbody>\n",
       "\t<tr><th scope=row>1</th><td>Roberts, Samuel, fl. 1856-1870                     </td><td>Clergy; Farmer               </td><td>NA                                                                </td></tr>\n",
       "\t<tr><th scope=row>2</th><td>Harris, Critchlow, 1813-1899                       </td><td>Businessman; Farmer; Merchant</td><td>Architect; Artist; Businessman; Clergy; Educator                  </td></tr>\n",
       "\t<tr><th scope=row>3</th><td>Harris, Sarah Stretch, 1818-1897                   </td><td>Businessman; Educator        </td><td>Architect; Artist; Businessman; Clergy                            </td></tr>\n",
       "\t<tr><th scope=row>42</th><td>Harris, Tom, 1847-                                 </td><td>Businessman; Farmer; Merchant</td><td>Architect; Artist; Businessman; Clergy; Educator; Farmer          </td></tr>\n",
       "\t<tr><th scope=row>52</th><td>Harris, Robert, 1849-1919                          </td><td>Businessman; Farmer; Merchant</td><td>Architect; Artist; Businessman; Clergy; Educator; Farmer          </td></tr>\n",
       "\t<tr><th scope=row>82</th><td>Harris, Margaret Ellin, 1851-1944                  </td><td>Businessman; Farmer; Merchant</td><td>Architect; Artist; Businessman; Educator; Farmer                  </td></tr>\n",
       "\t<tr><th scope=row>177</th><td>Harris, William, 1854-                             </td><td>Businessman; Farmer; Merchant</td><td>Architect; Artist; Businessman; Clergy; Educator; Farmer; Merchant</td></tr>\n",
       "\t<tr><th scope=row>229</th><td>Carrothers, Nathaniel, ?-1881                      </td><td>Farmer                       </td><td>Farmer; Tradesman                                                 </td></tr>\n",
       "\t<tr><th scope=row>236</th><td>Robb, Alexander, 1839-                             </td><td>Farmer                       </td><td>Miner; Rancher; Laborer                                           </td></tr>\n",
       "\t<tr><th scope=row>248</th><td>Bishop, Robert Hamilton, 1777-1855                 </td><td>Clergy                       </td><td>Clergy; Educator; Writer                                          </td></tr>\n",
       "\t<tr><th scope=row>249</th><td>Knight, James, fl. 1831                            </td><td>Businessman; Tradesman       </td><td>NA                                                                </td></tr>\n",
       "\t<tr><th scope=row>250</th><td>Anonymous Scottish Gardener in Canada, fl. 1834    </td><td>Urban planner                </td><td>NA                                                                </td></tr>\n",
       "\t<tr><th scope=row>251</th><td>Anonymous Scottish Immigrant from Turriff, fl. 1834</td><td>Manufacturer                 </td><td>NA                                                                </td></tr>\n",
       "\t<tr><th scope=row>252</th><td>McKenzie, D., fl. 1834                             </td><td>Clergy                       </td><td>Clergy; Missionary                                                </td></tr>\n",
       "\t<tr><th scope=row>253</th><td>Aylmer, Matthew, Lord, 1775-1850                   </td><td>Military personnel           </td><td>Royal governor                                                    </td></tr>\n",
       "\t<tr><th scope=row>254</th><td>Singer, William, fl. 1831                          </td><td>Tradesman                    </td><td>Laborer; Tradesman                                                </td></tr>\n",
       "\t<tr><th scope=row>255</th><td>Hutchings, James Mason, 1820-1902                  </td><td>Tradesman                    </td><td>Miner                                                             </td></tr>\n",
       "\t<tr><th scope=row>259</th><td>Downe, John, fl. 1830                              </td><td>Tradesman                    </td><td>Manufacturer                                                      </td></tr>\n",
       "</tbody>\n",
       "</table>\n"
      ],
      "text/latex": [
       "A data.frame: 18 × 3\n",
       "\\begin{tabular}{r|lll}\n",
       "  & docauthorname & native\\_occupation & north\\_american\\_occupation\\\\\n",
       "  & <fct> & <fct> & <fct>\\\\\n",
       "\\hline\n",
       "\t1 & Roberts, Samuel, fl. 1856-1870                      & Clergy; Farmer                & NA                                                                \\\\\n",
       "\t2 & Harris, Critchlow, 1813-1899                        & Businessman; Farmer; Merchant & Architect; Artist; Businessman; Clergy; Educator                  \\\\\n",
       "\t3 & Harris, Sarah Stretch, 1818-1897                    & Businessman; Educator         & Architect; Artist; Businessman; Clergy                            \\\\\n",
       "\t42 & Harris, Tom, 1847-                                  & Businessman; Farmer; Merchant & Architect; Artist; Businessman; Clergy; Educator; Farmer          \\\\\n",
       "\t52 & Harris, Robert, 1849-1919                           & Businessman; Farmer; Merchant & Architect; Artist; Businessman; Clergy; Educator; Farmer          \\\\\n",
       "\t82 & Harris, Margaret Ellin, 1851-1944                   & Businessman; Farmer; Merchant & Architect; Artist; Businessman; Educator; Farmer                  \\\\\n",
       "\t177 & Harris, William, 1854-                              & Businessman; Farmer; Merchant & Architect; Artist; Businessman; Clergy; Educator; Farmer; Merchant\\\\\n",
       "\t229 & Carrothers, Nathaniel, ?-1881                       & Farmer                        & Farmer; Tradesman                                                 \\\\\n",
       "\t236 & Robb, Alexander, 1839-                              & Farmer                        & Miner; Rancher; Laborer                                           \\\\\n",
       "\t248 & Bishop, Robert Hamilton, 1777-1855                  & Clergy                        & Clergy; Educator; Writer                                          \\\\\n",
       "\t249 & Knight, James, fl. 1831                             & Businessman; Tradesman        & NA                                                                \\\\\n",
       "\t250 & Anonymous Scottish Gardener in Canada, fl. 1834     & Urban planner                 & NA                                                                \\\\\n",
       "\t251 & Anonymous Scottish Immigrant from Turriff, fl. 1834 & Manufacturer                  & NA                                                                \\\\\n",
       "\t252 & McKenzie, D., fl. 1834                              & Clergy                        & Clergy; Missionary                                                \\\\\n",
       "\t253 & Aylmer, Matthew, Lord, 1775-1850                    & Military personnel            & Royal governor                                                    \\\\\n",
       "\t254 & Singer, William, fl. 1831                           & Tradesman                     & Laborer; Tradesman                                                \\\\\n",
       "\t255 & Hutchings, James Mason, 1820-1902                   & Tradesman                     & Miner                                                             \\\\\n",
       "\t259 & Downe, John, fl. 1830                               & Tradesman                     & Manufacturer                                                      \\\\\n",
       "\\end{tabular}\n"
      ],
      "text/markdown": [
       "\n",
       "A data.frame: 18 × 3\n",
       "\n",
       "| <!--/--> | docauthorname &lt;fct&gt; | native_occupation &lt;fct&gt; | north_american_occupation &lt;fct&gt; |\n",
       "|---|---|---|---|\n",
       "| 1 | Roberts, Samuel, fl. 1856-1870                      | Clergy; Farmer                | NA                                                                 |\n",
       "| 2 | Harris, Critchlow, 1813-1899                        | Businessman; Farmer; Merchant | Architect; Artist; Businessman; Clergy; Educator                   |\n",
       "| 3 | Harris, Sarah Stretch, 1818-1897                    | Businessman; Educator         | Architect; Artist; Businessman; Clergy                             |\n",
       "| 42 | Harris, Tom, 1847-                                  | Businessman; Farmer; Merchant | Architect; Artist; Businessman; Clergy; Educator; Farmer           |\n",
       "| 52 | Harris, Robert, 1849-1919                           | Businessman; Farmer; Merchant | Architect; Artist; Businessman; Clergy; Educator; Farmer           |\n",
       "| 82 | Harris, Margaret Ellin, 1851-1944                   | Businessman; Farmer; Merchant | Architect; Artist; Businessman; Educator; Farmer                   |\n",
       "| 177 | Harris, William, 1854-                              | Businessman; Farmer; Merchant | Architect; Artist; Businessman; Clergy; Educator; Farmer; Merchant |\n",
       "| 229 | Carrothers, Nathaniel, ?-1881                       | Farmer                        | Farmer; Tradesman                                                  |\n",
       "| 236 | Robb, Alexander, 1839-                              | Farmer                        | Miner; Rancher; Laborer                                            |\n",
       "| 248 | Bishop, Robert Hamilton, 1777-1855                  | Clergy                        | Clergy; Educator; Writer                                           |\n",
       "| 249 | Knight, James, fl. 1831                             | Businessman; Tradesman        | NA                                                                 |\n",
       "| 250 | Anonymous Scottish Gardener in Canada, fl. 1834     | Urban planner                 | NA                                                                 |\n",
       "| 251 | Anonymous Scottish Immigrant from Turriff, fl. 1834 | Manufacturer                  | NA                                                                 |\n",
       "| 252 | McKenzie, D., fl. 1834                              | Clergy                        | Clergy; Missionary                                                 |\n",
       "| 253 | Aylmer, Matthew, Lord, 1775-1850                    | Military personnel            | Royal governor                                                     |\n",
       "| 254 | Singer, William, fl. 1831                           | Tradesman                     | Laborer; Tradesman                                                 |\n",
       "| 255 | Hutchings, James Mason, 1820-1902                   | Tradesman                     | Miner                                                              |\n",
       "| 259 | Downe, John, fl. 1830                               | Tradesman                     | Manufacturer                                                       |\n",
       "\n"
      ],
      "text/plain": [
       "    docauthorname                                      \n",
       "1   Roberts, Samuel, fl. 1856-1870                     \n",
       "2   Harris, Critchlow, 1813-1899                       \n",
       "3   Harris, Sarah Stretch, 1818-1897                   \n",
       "42  Harris, Tom, 1847-                                 \n",
       "52  Harris, Robert, 1849-1919                          \n",
       "82  Harris, Margaret Ellin, 1851-1944                  \n",
       "177 Harris, William, 1854-                             \n",
       "229 Carrothers, Nathaniel, ?-1881                      \n",
       "236 Robb, Alexander, 1839-                             \n",
       "248 Bishop, Robert Hamilton, 1777-1855                 \n",
       "249 Knight, James, fl. 1831                            \n",
       "250 Anonymous Scottish Gardener in Canada, fl. 1834    \n",
       "251 Anonymous Scottish Immigrant from Turriff, fl. 1834\n",
       "252 McKenzie, D., fl. 1834                             \n",
       "253 Aylmer, Matthew, Lord, 1775-1850                   \n",
       "254 Singer, William, fl. 1831                          \n",
       "255 Hutchings, James Mason, 1820-1902                  \n",
       "259 Downe, John, fl. 1830                              \n",
       "    native_occupation            \n",
       "1   Clergy; Farmer               \n",
       "2   Businessman; Farmer; Merchant\n",
       "3   Businessman; Educator        \n",
       "42  Businessman; Farmer; Merchant\n",
       "52  Businessman; Farmer; Merchant\n",
       "82  Businessman; Farmer; Merchant\n",
       "177 Businessman; Farmer; Merchant\n",
       "229 Farmer                       \n",
       "236 Farmer                       \n",
       "248 Clergy                       \n",
       "249 Businessman; Tradesman       \n",
       "250 Urban planner                \n",
       "251 Manufacturer                 \n",
       "252 Clergy                       \n",
       "253 Military personnel           \n",
       "254 Tradesman                    \n",
       "255 Tradesman                    \n",
       "259 Tradesman                    \n",
       "    north_american_occupation                                         \n",
       "1   NA                                                                \n",
       "2   Architect; Artist; Businessman; Clergy; Educator                  \n",
       "3   Architect; Artist; Businessman; Clergy                            \n",
       "42  Architect; Artist; Businessman; Clergy; Educator; Farmer          \n",
       "52  Architect; Artist; Businessman; Clergy; Educator; Farmer          \n",
       "82  Architect; Artist; Businessman; Educator; Farmer                  \n",
       "177 Architect; Artist; Businessman; Clergy; Educator; Farmer; Merchant\n",
       "229 Farmer; Tradesman                                                 \n",
       "236 Miner; Rancher; Laborer                                           \n",
       "248 Clergy; Educator; Writer                                          \n",
       "249 NA                                                                \n",
       "250 NA                                                                \n",
       "251 NA                                                                \n",
       "252 Clergy; Missionary                                                \n",
       "253 Royal governor                                                    \n",
       "254 Laborer; Tradesman                                                \n",
       "255 Miner                                                             \n",
       "259 Manufacturer                                                      "
      ]
     },
     "metadata": {},
     "output_type": "display_data"
    }
   ],
   "source": [
    "# Now...\n",
    "letters %>% #in the dataframe\n",
    "filter(row_number() %in% rows) %>% # in the rows that meet those conditions\n",
    "select(docauthorname, native_occupation, north_american_occupation) %>% # view values for these variables\n",
    "unique() # only once where they occur together"
   ]
  },
  {
   "cell_type": "code",
   "execution_count": 381,
   "metadata": {},
   "outputs": [],
   "source": [
    "# Create a new variable called occupation\n",
    "# Change to character class for transformation\n",
    "letters$occupation  <- as.character(letters$north_american_occupation)"
   ]
  },
  {
   "cell_type": "code",
   "execution_count": 382,
   "metadata": {},
   "outputs": [
    {
     "data": {
      "text/html": [
       "<style>\n",
       ".list-inline {list-style: none; margin:0; padding: 0}\n",
       ".list-inline>li {display: inline-block}\n",
       ".list-inline>li:not(:last-child)::after {content: \"\\00b7\"; padding: 0 .5ex}\n",
       "</style>\n",
       "<ol class=list-inline><li>NA</li><li>NA</li><li>NA</li><li>NA</li></ol>\n"
      ],
      "text/latex": [
       "\\begin{enumerate*}\n",
       "\\item NA\n",
       "\\item NA\n",
       "\\item NA\n",
       "\\item NA\n",
       "\\end{enumerate*}\n"
      ],
      "text/markdown": [
       "1. NA\n",
       "2. NA\n",
       "3. NA\n",
       "4. NA\n",
       "\n",
       "\n"
      ],
      "text/plain": [
       "[1] NA NA NA NA"
      ]
     },
     "metadata": {},
     "output_type": "display_data"
    }
   ],
   "source": [
    "# Get the rows where\n",
    "rows = which(!is.na(letters$native_occupation) & # Native occupation is not NA\n",
    "             is.na(letters$north_american_occupation)) #North American occupation is NA\n",
    "\n",
    "letters$occupation[rows]"
   ]
  },
  {
   "cell_type": "code",
   "execution_count": 383,
   "metadata": {},
   "outputs": [
    {
     "data": {
      "text/html": [
       "<style>\n",
       ".list-inline {list-style: none; margin:0; padding: 0}\n",
       ".list-inline>li {display: inline-block}\n",
       ".list-inline>li:not(:last-child)::after {content: \"\\00b7\"; padding: 0 .5ex}\n",
       "</style>\n",
       "<ol class=list-inline><li>'Clergy; Farmer'</li><li>'Businessman; Tradesman'</li><li>'Urban planner'</li><li>'Manufacturer'</li></ol>\n"
      ],
      "text/latex": [
       "\\begin{enumerate*}\n",
       "\\item 'Clergy; Farmer'\n",
       "\\item 'Businessman; Tradesman'\n",
       "\\item 'Urban planner'\n",
       "\\item 'Manufacturer'\n",
       "\\end{enumerate*}\n"
      ],
      "text/markdown": [
       "1. 'Clergy; Farmer'\n",
       "2. 'Businessman; Tradesman'\n",
       "3. 'Urban planner'\n",
       "4. 'Manufacturer'\n",
       "\n",
       "\n"
      ],
      "text/plain": [
       "[1] \"Clergy; Farmer\"         \"Businessman; Tradesman\" \"Urban planner\"         \n",
       "[4] \"Manufacturer\"          "
      ]
     },
     "metadata": {},
     "output_type": "display_data"
    }
   ],
   "source": [
    "# Recode occupation for those rows to match native occupation.\n",
    "letters$occupation[rows] <- as.character(letters$native_occupation[rows]) # Recode data\n",
    "letters$occupation[rows]"
   ]
  },
  {
   "cell_type": "markdown",
   "metadata": {},
   "source": [
    "Now I have to decide whether to combine jobs from native and North American occupations into one variable. Because there are only a few cases where this is a problem, I can make decisions on a case-by-case basis."
   ]
  },
  {
   "cell_type": "code",
   "execution_count": 384,
   "metadata": {},
   "outputs": [
    {
     "data": {
      "text/html": [
       "<table class=\"dataframe\">\n",
       "<caption>A data.frame: 14 × 3</caption>\n",
       "<thead>\n",
       "\t<tr><th></th><th scope=col>docauthorname</th><th scope=col>native_occupation</th><th scope=col>north_american_occupation</th></tr>\n",
       "\t<tr><th></th><th scope=col>&lt;fct&gt;</th><th scope=col>&lt;fct&gt;</th><th scope=col>&lt;fct&gt;</th></tr>\n",
       "</thead>\n",
       "<tbody>\n",
       "\t<tr><th scope=row>1</th><td>Harris, Critchlow, 1813-1899      </td><td>Businessman; Farmer; Merchant</td><td>Architect; Artist; Businessman; Clergy; Educator                  </td></tr>\n",
       "\t<tr><th scope=row>2</th><td>Harris, Sarah Stretch, 1818-1897  </td><td>Businessman; Educator        </td><td>Architect; Artist; Businessman; Clergy                            </td></tr>\n",
       "\t<tr><th scope=row>41</th><td>Harris, Tom, 1847-                </td><td>Businessman; Farmer; Merchant</td><td>Architect; Artist; Businessman; Clergy; Educator; Farmer          </td></tr>\n",
       "\t<tr><th scope=row>51</th><td>Harris, Robert, 1849-1919         </td><td>Businessman; Farmer; Merchant</td><td>Architect; Artist; Businessman; Clergy; Educator; Farmer          </td></tr>\n",
       "\t<tr><th scope=row>81</th><td>Harris, Margaret Ellin, 1851-1944 </td><td>Businessman; Farmer; Merchant</td><td>Architect; Artist; Businessman; Educator; Farmer                  </td></tr>\n",
       "\t<tr><th scope=row>176</th><td>Harris, William, 1854-            </td><td>Businessman; Farmer; Merchant</td><td>Architect; Artist; Businessman; Clergy; Educator; Farmer; Merchant</td></tr>\n",
       "\t<tr><th scope=row>228</th><td>Carrothers, Nathaniel, ?-1881     </td><td>Farmer                       </td><td>Farmer; Tradesman                                                 </td></tr>\n",
       "\t<tr><th scope=row>235</th><td>Robb, Alexander, 1839-            </td><td>Farmer                       </td><td>Miner; Rancher; Laborer                                           </td></tr>\n",
       "\t<tr><th scope=row>247</th><td>Bishop, Robert Hamilton, 1777-1855</td><td>Clergy                       </td><td>Clergy; Educator; Writer                                          </td></tr>\n",
       "\t<tr><th scope=row>248</th><td>McKenzie, D., fl. 1834            </td><td>Clergy                       </td><td>Clergy; Missionary                                                </td></tr>\n",
       "\t<tr><th scope=row>249</th><td>Aylmer, Matthew, Lord, 1775-1850  </td><td>Military personnel           </td><td>Royal governor                                                    </td></tr>\n",
       "\t<tr><th scope=row>250</th><td>Singer, William, fl. 1831         </td><td>Tradesman                    </td><td>Laborer; Tradesman                                                </td></tr>\n",
       "\t<tr><th scope=row>251</th><td>Hutchings, James Mason, 1820-1902 </td><td>Tradesman                    </td><td>Miner                                                             </td></tr>\n",
       "\t<tr><th scope=row>255</th><td>Downe, John, fl. 1830             </td><td>Tradesman                    </td><td>Manufacturer                                                      </td></tr>\n",
       "</tbody>\n",
       "</table>\n"
      ],
      "text/latex": [
       "A data.frame: 14 × 3\n",
       "\\begin{tabular}{r|lll}\n",
       "  & docauthorname & native\\_occupation & north\\_american\\_occupation\\\\\n",
       "  & <fct> & <fct> & <fct>\\\\\n",
       "\\hline\n",
       "\t1 & Harris, Critchlow, 1813-1899       & Businessman; Farmer; Merchant & Architect; Artist; Businessman; Clergy; Educator                  \\\\\n",
       "\t2 & Harris, Sarah Stretch, 1818-1897   & Businessman; Educator         & Architect; Artist; Businessman; Clergy                            \\\\\n",
       "\t41 & Harris, Tom, 1847-                 & Businessman; Farmer; Merchant & Architect; Artist; Businessman; Clergy; Educator; Farmer          \\\\\n",
       "\t51 & Harris, Robert, 1849-1919          & Businessman; Farmer; Merchant & Architect; Artist; Businessman; Clergy; Educator; Farmer          \\\\\n",
       "\t81 & Harris, Margaret Ellin, 1851-1944  & Businessman; Farmer; Merchant & Architect; Artist; Businessman; Educator; Farmer                  \\\\\n",
       "\t176 & Harris, William, 1854-             & Businessman; Farmer; Merchant & Architect; Artist; Businessman; Clergy; Educator; Farmer; Merchant\\\\\n",
       "\t228 & Carrothers, Nathaniel, ?-1881      & Farmer                        & Farmer; Tradesman                                                 \\\\\n",
       "\t235 & Robb, Alexander, 1839-             & Farmer                        & Miner; Rancher; Laborer                                           \\\\\n",
       "\t247 & Bishop, Robert Hamilton, 1777-1855 & Clergy                        & Clergy; Educator; Writer                                          \\\\\n",
       "\t248 & McKenzie, D., fl. 1834             & Clergy                        & Clergy; Missionary                                                \\\\\n",
       "\t249 & Aylmer, Matthew, Lord, 1775-1850   & Military personnel            & Royal governor                                                    \\\\\n",
       "\t250 & Singer, William, fl. 1831          & Tradesman                     & Laborer; Tradesman                                                \\\\\n",
       "\t251 & Hutchings, James Mason, 1820-1902  & Tradesman                     & Miner                                                             \\\\\n",
       "\t255 & Downe, John, fl. 1830              & Tradesman                     & Manufacturer                                                      \\\\\n",
       "\\end{tabular}\n"
      ],
      "text/markdown": [
       "\n",
       "A data.frame: 14 × 3\n",
       "\n",
       "| <!--/--> | docauthorname &lt;fct&gt; | native_occupation &lt;fct&gt; | north_american_occupation &lt;fct&gt; |\n",
       "|---|---|---|---|\n",
       "| 1 | Harris, Critchlow, 1813-1899       | Businessman; Farmer; Merchant | Architect; Artist; Businessman; Clergy; Educator                   |\n",
       "| 2 | Harris, Sarah Stretch, 1818-1897   | Businessman; Educator         | Architect; Artist; Businessman; Clergy                             |\n",
       "| 41 | Harris, Tom, 1847-                 | Businessman; Farmer; Merchant | Architect; Artist; Businessman; Clergy; Educator; Farmer           |\n",
       "| 51 | Harris, Robert, 1849-1919          | Businessman; Farmer; Merchant | Architect; Artist; Businessman; Clergy; Educator; Farmer           |\n",
       "| 81 | Harris, Margaret Ellin, 1851-1944  | Businessman; Farmer; Merchant | Architect; Artist; Businessman; Educator; Farmer                   |\n",
       "| 176 | Harris, William, 1854-             | Businessman; Farmer; Merchant | Architect; Artist; Businessman; Clergy; Educator; Farmer; Merchant |\n",
       "| 228 | Carrothers, Nathaniel, ?-1881      | Farmer                        | Farmer; Tradesman                                                  |\n",
       "| 235 | Robb, Alexander, 1839-             | Farmer                        | Miner; Rancher; Laborer                                            |\n",
       "| 247 | Bishop, Robert Hamilton, 1777-1855 | Clergy                        | Clergy; Educator; Writer                                           |\n",
       "| 248 | McKenzie, D., fl. 1834             | Clergy                        | Clergy; Missionary                                                 |\n",
       "| 249 | Aylmer, Matthew, Lord, 1775-1850   | Military personnel            | Royal governor                                                     |\n",
       "| 250 | Singer, William, fl. 1831          | Tradesman                     | Laborer; Tradesman                                                 |\n",
       "| 251 | Hutchings, James Mason, 1820-1902  | Tradesman                     | Miner                                                              |\n",
       "| 255 | Downe, John, fl. 1830              | Tradesman                     | Manufacturer                                                       |\n",
       "\n"
      ],
      "text/plain": [
       "    docauthorname                      native_occupation            \n",
       "1   Harris, Critchlow, 1813-1899       Businessman; Farmer; Merchant\n",
       "2   Harris, Sarah Stretch, 1818-1897   Businessman; Educator        \n",
       "41  Harris, Tom, 1847-                 Businessman; Farmer; Merchant\n",
       "51  Harris, Robert, 1849-1919          Businessman; Farmer; Merchant\n",
       "81  Harris, Margaret Ellin, 1851-1944  Businessman; Farmer; Merchant\n",
       "176 Harris, William, 1854-             Businessman; Farmer; Merchant\n",
       "228 Carrothers, Nathaniel, ?-1881      Farmer                       \n",
       "235 Robb, Alexander, 1839-             Farmer                       \n",
       "247 Bishop, Robert Hamilton, 1777-1855 Clergy                       \n",
       "248 McKenzie, D., fl. 1834             Clergy                       \n",
       "249 Aylmer, Matthew, Lord, 1775-1850   Military personnel           \n",
       "250 Singer, William, fl. 1831          Tradesman                    \n",
       "251 Hutchings, James Mason, 1820-1902  Tradesman                    \n",
       "255 Downe, John, fl. 1830              Tradesman                    \n",
       "    north_american_occupation                                         \n",
       "1   Architect; Artist; Businessman; Clergy; Educator                  \n",
       "2   Architect; Artist; Businessman; Clergy                            \n",
       "41  Architect; Artist; Businessman; Clergy; Educator; Farmer          \n",
       "51  Architect; Artist; Businessman; Clergy; Educator; Farmer          \n",
       "81  Architect; Artist; Businessman; Educator; Farmer                  \n",
       "176 Architect; Artist; Businessman; Clergy; Educator; Farmer; Merchant\n",
       "228 Farmer; Tradesman                                                 \n",
       "235 Miner; Rancher; Laborer                                           \n",
       "247 Clergy; Educator; Writer                                          \n",
       "248 Clergy; Missionary                                                \n",
       "249 Royal governor                                                    \n",
       "250 Laborer; Tradesman                                                \n",
       "251 Miner                                                             \n",
       "255 Manufacturer                                                      "
      ]
     },
     "metadata": {},
     "output_type": "display_data"
    }
   ],
   "source": [
    "# Get the rows where\n",
    "rows = which(!is.na(letters$native_occupation) & # Native occupation is not NA\n",
    "             as.character(letters$native_occupation) != as.character(letters$north_american_occupation))\n",
    "\n",
    "# Now...\n",
    "letters %>% #in the dataframe\n",
    "filter(row_number() %in% rows) %>% # in the rows that meet those conditions\n",
    "select(docauthorname, native_occupation, north_american_occupation) %>% # view values for these variables\n",
    "unique() # only once where they occur together"
   ]
  },
  {
   "cell_type": "markdown",
   "metadata": {},
   "source": [
    "No action is needed for lines 228, 247, 248 and 250 because the value in native_occupation is included in north_american_occupation."
   ]
  },
  {
   "cell_type": "code",
   "execution_count": 385,
   "metadata": {},
   "outputs": [],
   "source": [
    "# Biographical research on the Harris (lines 1, 2, 41, 51, 81 and 176) lead to the following recoding.\n",
    "\n",
    "# Recode according to http://sarah.emilieroberts.ca/index.php?page=The_Family\n",
    "letters$occupation[letters$docauthorname==\"Harris, Critchlow, 1813-1899\"]  <- \"Farmer; Merchant; Laborer\"\n",
    "letters$occupation[letters$docauthorname==\"Harris, Sarah Stretch, 1818-1897\"]  <- \"Farmer; Merchant; Laborer\"\n",
    "letters$occupation[letters$docauthorname==\"Harris, Tom, 1847-\"]  <- \"Businessman\"\n",
    "\n",
    "#http://www.biographi.ca/en/bio/harris_robert_14E.html\n",
    "letters$occupation[letters$docauthorname==\"Harris, Robert, 1849-1919\"]  <- \"Artist; Educator\"\n",
    "\n",
    "#http://www.biographi.ca/en/bio/harris_william_critchlow_14E.html\n",
    "letters$occupation[letters$docauthorname==\"Harris, William, 1854-\"]  <- \"Architect\"\n",
    "\n",
    "\n",
    "#http://www.biographi.ca/en/bio/cotton_william_lawson_15E.html\n",
    "letters$occupation[letters$docauthorname==\"Harris, Margaret Ellin, 1851-1944\"]  <- \"Writer; Printer\""
   ]
  },
  {
   "cell_type": "code",
   "execution_count": 386,
   "metadata": {},
   "outputs": [
    {
     "data": {
      "text/html": [
       "<table class=\"dataframe\">\n",
       "<caption>A data.frame: 1 × 4</caption>\n",
       "<thead>\n",
       "\t<tr><th></th><th scope=col>nationalOrigin</th><th scope=col>religion</th><th scope=col>religionNew</th><th scope=col>relMin</th></tr>\n",
       "\t<tr><th></th><th scope=col>&lt;fct&gt;</th><th scope=col>&lt;fct&gt;</th><th scope=col>&lt;fct&gt;</th><th scope=col>&lt;lgl&gt;</th></tr>\n",
       "</thead>\n",
       "<tbody>\n",
       "\t<tr><th scope=row>1</th><td>Irish</td><td>NA</td><td>NA</td><td>NA</td></tr>\n",
       "</tbody>\n",
       "</table>\n"
      ],
      "text/latex": [
       "A data.frame: 1 × 4\n",
       "\\begin{tabular}{r|llll}\n",
       "  & nationalOrigin & religion & religionNew & relMin\\\\\n",
       "  & <fct> & <fct> & <fct> & <lgl>\\\\\n",
       "\\hline\n",
       "\t1 & Irish & NA & NA & NA\\\\\n",
       "\\end{tabular}\n"
      ],
      "text/markdown": [
       "\n",
       "A data.frame: 1 × 4\n",
       "\n",
       "| <!--/--> | nationalOrigin &lt;fct&gt; | religion &lt;fct&gt; | religionNew &lt;fct&gt; | relMin &lt;lgl&gt; |\n",
       "|---|---|---|---|---|\n",
       "| 1 | Irish | NA | NA | NA |\n",
       "\n"
      ],
      "text/plain": [
       "  nationalOrigin religion religionNew relMin\n",
       "1 Irish          NA       NA          NA    "
      ]
     },
     "metadata": {},
     "output_type": "display_data"
    }
   ],
   "source": [
    "# Line 235\n",
    "letters  %>% \n",
    "filter(docauthorname==\"Robb, Alexander, 1839-\") %>%\n",
    "select(nationalOrigin, religion, religionNew, relMin)  %>% \n",
    "unique()"
   ]
  },
  {
   "cell_type": "code",
   "execution_count": 387,
   "metadata": {},
   "outputs": [
    {
     "data": {
      "text/html": [
       "<table class=\"dataframe\">\n",
       "<caption>A data.frame: 1 × 3</caption>\n",
       "<thead>\n",
       "\t<tr><th></th><th scope=col>nationalOrigin</th><th scope=col>relMin</th><th scope=col>occupation</th></tr>\n",
       "\t<tr><th></th><th scope=col>&lt;fct&gt;</th><th scope=col>&lt;lgl&gt;</th><th scope=col>&lt;chr&gt;</th></tr>\n",
       "</thead>\n",
       "<tbody>\n",
       "\t<tr><th scope=row>1</th><td>Irish</td><td>NA</td><td>Miner; Laborer; Rancher; Government employee</td></tr>\n",
       "</tbody>\n",
       "</table>\n"
      ],
      "text/latex": [
       "A data.frame: 1 × 3\n",
       "\\begin{tabular}{r|lll}\n",
       "  & nationalOrigin & relMin & occupation\\\\\n",
       "  & <fct> & <lgl> & <chr>\\\\\n",
       "\\hline\n",
       "\t1 & Irish & NA & Miner; Laborer; Rancher; Government employee\\\\\n",
       "\\end{tabular}\n"
      ],
      "text/markdown": [
       "\n",
       "A data.frame: 1 × 3\n",
       "\n",
       "| <!--/--> | nationalOrigin &lt;fct&gt; | relMin &lt;lgl&gt; | occupation &lt;chr&gt; |\n",
       "|---|---|---|---|\n",
       "| 1 | Irish | NA | Miner; Laborer; Rancher; Government employee |\n",
       "\n"
      ],
      "text/plain": [
       "  nationalOrigin relMin occupation                                  \n",
       "1 Irish          NA     Miner; Laborer; Rancher; Government employee"
      ]
     },
     "metadata": {},
     "output_type": "display_data"
    }
   ],
   "source": [
    "#Biographical reseasrch yielded religion and confirmed that at the time of writing, occupation was as shown in \n",
    "#north_american_occupation is correct but missing his role as a public servant (supervisor)\n",
    "#https://www.ancestryireland.com/alexander-robb-canada/\n",
    "#Also found that the writer was Ulster, which would make him a Protestant, but the denomination is unknown. \n",
    "#https://en.wikipedia.org/wiki/Ulster_Scots_people\n",
    "#\"...Robb, scion of a middle-class Protestant Irish family, had finally found a full-time job as a pioneer rancher...\" (S9635.txt)\n",
    "letters$occupation[letters$docauthorname==\"Robb, Alexander, 1839-\"]  <- \"Miner; Laborer; Rancher; Government employee\"\n",
    "\n",
    "#Check\n",
    "letters  %>% \n",
    "filter(docauthorname==\"Robb, Alexander, 1839-\") %>%\n",
    "select(nationalOrigin, relMin, occupation)  %>% \n",
    "unique()"
   ]
  },
  {
   "cell_type": "code",
   "execution_count": 388,
   "metadata": {},
   "outputs": [
    {
     "data": {
      "text/html": [
       "<table class=\"dataframe\">\n",
       "<caption>A data.frame: 1 × 5</caption>\n",
       "<thead>\n",
       "\t<tr><th></th><th scope=col>docid</th><th scope=col>nationalOrigin</th><th scope=col>religion</th><th scope=col>religionNew</th><th scope=col>relMin</th></tr>\n",
       "\t<tr><th></th><th scope=col>&lt;fct&gt;</th><th scope=col>&lt;fct&gt;</th><th scope=col>&lt;fct&gt;</th><th scope=col>&lt;fct&gt;</th><th scope=col>&lt;lgl&gt;</th></tr>\n",
       "</thead>\n",
       "<tbody>\n",
       "\t<tr><th scope=row>1</th><td>S9865-D072</td><td>English</td><td>NA</td><td>NA</td><td>NA</td></tr>\n",
       "</tbody>\n",
       "</table>\n"
      ],
      "text/latex": [
       "A data.frame: 1 × 5\n",
       "\\begin{tabular}{r|lllll}\n",
       "  & docid & nationalOrigin & religion & religionNew & relMin\\\\\n",
       "  & <fct> & <fct> & <fct> & <fct> & <lgl>\\\\\n",
       "\\hline\n",
       "\t1 & S9865-D072 & English & NA & NA & NA\\\\\n",
       "\\end{tabular}\n"
      ],
      "text/markdown": [
       "\n",
       "A data.frame: 1 × 5\n",
       "\n",
       "| <!--/--> | docid &lt;fct&gt; | nationalOrigin &lt;fct&gt; | religion &lt;fct&gt; | religionNew &lt;fct&gt; | relMin &lt;lgl&gt; |\n",
       "|---|---|---|---|---|---|\n",
       "| 1 | S9865-D072 | English | NA | NA | NA |\n",
       "\n"
      ],
      "text/plain": [
       "  docid      nationalOrigin religion religionNew relMin\n",
       "1 S9865-D072 English        NA       NA          NA    "
      ]
     },
     "metadata": {},
     "output_type": "display_data"
    }
   ],
   "source": [
    "# Line 249\n",
    "letters  %>% \n",
    "filter(docauthorname==\"Aylmer, Matthew, Lord, 1775-1850\") %>%\n",
    "select(docid, nationalOrigin, religion, religionNew, relMin)  %>% \n",
    "unique()"
   ]
  },
  {
   "cell_type": "markdown",
   "metadata": {},
   "source": [
    "On closer inspection, this is an excerpt of a letter written in an official capacity and presented in a public forum (House of Commons). "
   ]
  },
  {
   "cell_type": "code",
   "execution_count": 389,
   "metadata": {},
   "outputs": [],
   "source": [
    "# Note this in case it makes sense to omit public letters at a later stage.\n",
    "letters$publicLetter[letters$docauthorname==\"Aylmer, Matthew, Lord, 1775-1850\"] <- TRUE"
   ]
  },
  {
   "cell_type": "code",
   "execution_count": 390,
   "metadata": {},
   "outputs": [
    {
     "data": {
      "text/html": [
       "<table class=\"dataframe\">\n",
       "<caption>A data.frame: 1 × 4</caption>\n",
       "<thead>\n",
       "\t<tr><th></th><th scope=col>occupation</th><th scope=col>religionNew</th><th scope=col>relMin</th><th scope=col>publicLetter</th></tr>\n",
       "\t<tr><th></th><th scope=col>&lt;chr&gt;</th><th scope=col>&lt;fct&gt;</th><th scope=col>&lt;lgl&gt;</th><th scope=col>&lt;lgl&gt;</th></tr>\n",
       "</thead>\n",
       "<tbody>\n",
       "\t<tr><th scope=row>1</th><td>Military personnel; Royal governor</td><td>Anglican</td><td>FALSE</td><td>TRUE</td></tr>\n",
       "</tbody>\n",
       "</table>\n"
      ],
      "text/latex": [
       "A data.frame: 1 × 4\n",
       "\\begin{tabular}{r|llll}\n",
       "  & occupation & religionNew & relMin & publicLetter\\\\\n",
       "  & <chr> & <fct> & <lgl> & <lgl>\\\\\n",
       "\\hline\n",
       "\t1 & Military personnel; Royal governor & Anglican & FALSE & TRUE\\\\\n",
       "\\end{tabular}\n"
      ],
      "text/markdown": [
       "\n",
       "A data.frame: 1 × 4\n",
       "\n",
       "| <!--/--> | occupation &lt;chr&gt; | religionNew &lt;fct&gt; | relMin &lt;lgl&gt; | publicLetter &lt;lgl&gt; |\n",
       "|---|---|---|---|---|\n",
       "| 1 | Military personnel; Royal governor | Anglican | FALSE | TRUE |\n",
       "\n"
      ],
      "text/plain": [
       "  occupation                         religionNew relMin publicLetter\n",
       "1 Military personnel; Royal governor Anglican    FALSE  TRUE        "
      ]
     },
     "metadata": {},
     "output_type": "display_data"
    }
   ],
   "source": [
    "# Matthew Aylmer: \"army officer and colonial administrator\"\n",
    "# \"a devout member of the Church of England, Aylmer was unusually tolerant in his religious views\"\n",
    "# http://www.biographi.ca/en/bio/whitworth_aylmer_matthew_7E.html\n",
    "letters$occupation[letters$docauthorname == \"Aylmer, Matthew, Lord, 1775-1850\"]  <- \n",
    "\"Military personnel; Royal governor\"\n",
    "letters$religionNew[letters$docauthorname==\"Aylmer, Matthew, Lord, 1775-1850\"] <- \"Anglican\"\n",
    "letters$relMin[letters$docauthorname==\"Aylmer, Matthew, Lord, 1775-1850\"] <- FALSE\n",
    "\n",
    "#Check\n",
    "letters  %>% \n",
    "filter(docauthorname==\"Aylmer, Matthew, Lord, 1775-1850\") %>%\n",
    "select(occupation, religionNew, relMin, publicLetter)  %>% \n",
    "unique()"
   ]
  },
  {
   "cell_type": "code",
   "execution_count": 391,
   "metadata": {},
   "outputs": [
    {
     "data": {
      "text/html": [
       "<table class=\"dataframe\">\n",
       "<caption>A data.frame: 4 × 8</caption>\n",
       "<thead>\n",
       "\t<tr><th></th><th scope=col>docid</th><th scope=col>nationalOrigin</th><th scope=col>religionNew</th><th scope=col>relMin</th><th scope=col>authorLocation</th><th scope=col>native_occupation</th><th scope=col>north_american_occupation</th><th scope=col>publicLetter</th></tr>\n",
       "\t<tr><th></th><th scope=col>&lt;fct&gt;</th><th scope=col>&lt;fct&gt;</th><th scope=col>&lt;fct&gt;</th><th scope=col>&lt;lgl&gt;</th><th scope=col>&lt;fct&gt;</th><th scope=col>&lt;fct&gt;</th><th scope=col>&lt;fct&gt;</th><th scope=col>&lt;lgl&gt;</th></tr>\n",
       "</thead>\n",
       "<tbody>\n",
       "\t<tr><th scope=row>1</th><td>S9957-D012</td><td>English</td><td>Episcopalian</td><td>FALSE</td><td>USA</td><td>Tradesman</td><td>Miner</td><td>NA</td></tr>\n",
       "\t<tr><th scope=row>2</th><td>S9957-D013</td><td>English</td><td>Episcopalian</td><td>FALSE</td><td>USA</td><td>Tradesman</td><td>Miner</td><td>NA</td></tr>\n",
       "\t<tr><th scope=row>3</th><td>S9957-D014</td><td>English</td><td>Episcopalian</td><td>FALSE</td><td>USA</td><td>Tradesman</td><td>Miner</td><td>NA</td></tr>\n",
       "\t<tr><th scope=row>4</th><td>S9957-D015</td><td>English</td><td>Episcopalian</td><td>FALSE</td><td>USA</td><td>Tradesman</td><td>Miner</td><td>NA</td></tr>\n",
       "</tbody>\n",
       "</table>\n"
      ],
      "text/latex": [
       "A data.frame: 4 × 8\n",
       "\\begin{tabular}{r|llllllll}\n",
       "  & docid & nationalOrigin & religionNew & relMin & authorLocation & native\\_occupation & north\\_american\\_occupation & publicLetter\\\\\n",
       "  & <fct> & <fct> & <fct> & <lgl> & <fct> & <fct> & <fct> & <lgl>\\\\\n",
       "\\hline\n",
       "\t1 & S9957-D012 & English & Episcopalian & FALSE & USA & Tradesman & Miner & NA\\\\\n",
       "\t2 & S9957-D013 & English & Episcopalian & FALSE & USA & Tradesman & Miner & NA\\\\\n",
       "\t3 & S9957-D014 & English & Episcopalian & FALSE & USA & Tradesman & Miner & NA\\\\\n",
       "\t4 & S9957-D015 & English & Episcopalian & FALSE & USA & Tradesman & Miner & NA\\\\\n",
       "\\end{tabular}\n"
      ],
      "text/markdown": [
       "\n",
       "A data.frame: 4 × 8\n",
       "\n",
       "| <!--/--> | docid &lt;fct&gt; | nationalOrigin &lt;fct&gt; | religionNew &lt;fct&gt; | relMin &lt;lgl&gt; | authorLocation &lt;fct&gt; | native_occupation &lt;fct&gt; | north_american_occupation &lt;fct&gt; | publicLetter &lt;lgl&gt; |\n",
       "|---|---|---|---|---|---|---|---|---|\n",
       "| 1 | S9957-D012 | English | Episcopalian | FALSE | USA | Tradesman | Miner | NA |\n",
       "| 2 | S9957-D013 | English | Episcopalian | FALSE | USA | Tradesman | Miner | NA |\n",
       "| 3 | S9957-D014 | English | Episcopalian | FALSE | USA | Tradesman | Miner | NA |\n",
       "| 4 | S9957-D015 | English | Episcopalian | FALSE | USA | Tradesman | Miner | NA |\n",
       "\n"
      ],
      "text/plain": [
       "  docid      nationalOrigin religionNew  relMin authorLocation\n",
       "1 S9957-D012 English        Episcopalian FALSE  USA           \n",
       "2 S9957-D013 English        Episcopalian FALSE  USA           \n",
       "3 S9957-D014 English        Episcopalian FALSE  USA           \n",
       "4 S9957-D015 English        Episcopalian FALSE  USA           \n",
       "  native_occupation north_american_occupation publicLetter\n",
       "1 Tradesman         Miner                     NA          \n",
       "2 Tradesman         Miner                     NA          \n",
       "3 Tradesman         Miner                     NA          \n",
       "4 Tradesman         Miner                     NA          "
      ]
     },
     "metadata": {},
     "output_type": "display_data"
    }
   ],
   "source": [
    "# Line 251\n",
    "letters  %>% \n",
    "filter(docauthorname==\"Hutchings, James Mason, 1820-1902\") %>%\n",
    "select(docid, nationalOrigin, religionNew, relMin, authorLocation, native_occupation, north_american_occupation, publicLetter)  %>% \n",
    "unique()"
   ]
  },
  {
   "cell_type": "code",
   "execution_count": 392,
   "metadata": {},
   "outputs": [
    {
     "data": {
      "text/html": [
       "<table class=\"dataframe\">\n",
       "<caption>A data.frame: 4 × 3</caption>\n",
       "<thead>\n",
       "\t<tr><th></th><th scope=col>docid</th><th scope=col>occupation</th><th scope=col>publicLetter</th></tr>\n",
       "\t<tr><th></th><th scope=col>&lt;fct&gt;</th><th scope=col>&lt;chr&gt;</th><th scope=col>&lt;lgl&gt;</th></tr>\n",
       "</thead>\n",
       "<tbody>\n",
       "\t<tr><th scope=row>1</th><td>S9957-D012</td><td>Tradesman; Miner; Writer; Businessman</td><td>TRUE</td></tr>\n",
       "\t<tr><th scope=row>2</th><td>S9957-D013</td><td>Tradesman; Miner; Writer; Businessman</td><td>  NA</td></tr>\n",
       "\t<tr><th scope=row>3</th><td>S9957-D014</td><td>Tradesman; Miner; Writer; Businessman</td><td>  NA</td></tr>\n",
       "\t<tr><th scope=row>4</th><td>S9957-D015</td><td>Tradesman; Miner; Writer; Businessman</td><td>  NA</td></tr>\n",
       "</tbody>\n",
       "</table>\n"
      ],
      "text/latex": [
       "A data.frame: 4 × 3\n",
       "\\begin{tabular}{r|lll}\n",
       "  & docid & occupation & publicLetter\\\\\n",
       "  & <fct> & <chr> & <lgl>\\\\\n",
       "\\hline\n",
       "\t1 & S9957-D012 & Tradesman; Miner; Writer; Businessman & TRUE\\\\\n",
       "\t2 & S9957-D013 & Tradesman; Miner; Writer; Businessman &   NA\\\\\n",
       "\t3 & S9957-D014 & Tradesman; Miner; Writer; Businessman &   NA\\\\\n",
       "\t4 & S9957-D015 & Tradesman; Miner; Writer; Businessman &   NA\\\\\n",
       "\\end{tabular}\n"
      ],
      "text/markdown": [
       "\n",
       "A data.frame: 4 × 3\n",
       "\n",
       "| <!--/--> | docid &lt;fct&gt; | occupation &lt;chr&gt; | publicLetter &lt;lgl&gt; |\n",
       "|---|---|---|---|\n",
       "| 1 | S9957-D012 | Tradesman; Miner; Writer; Businessman | TRUE |\n",
       "| 2 | S9957-D013 | Tradesman; Miner; Writer; Businessman |   NA |\n",
       "| 3 | S9957-D014 | Tradesman; Miner; Writer; Businessman |   NA |\n",
       "| 4 | S9957-D015 | Tradesman; Miner; Writer; Businessman |   NA |\n",
       "\n"
      ],
      "text/plain": [
       "  docid      occupation                            publicLetter\n",
       "1 S9957-D012 Tradesman; Miner; Writer; Businessman TRUE        \n",
       "2 S9957-D013 Tradesman; Miner; Writer; Businessman   NA        \n",
       "3 S9957-D014 Tradesman; Miner; Writer; Businessman   NA        \n",
       "4 S9957-D015 Tradesman; Miner; Writer; Businessman   NA        "
      ]
     },
     "metadata": {},
     "output_type": "display_data"
    }
   ],
   "source": [
    "# From S9957\n",
    "# \"journalist, publisher, Yosemite pioneer and inn-keeper\"\n",
    "# \"to learn and practice the family trade of cabinet making and general carpentry\"\n",
    "# \"it was his carpentry skill which altered his life on the trail from that of a plodding emigrant to a well-paid, high-riding employee of an Army \"train.\"\"\n",
    "# https://en.wikipedia.org/wiki/James_Mason_Hutchings\n",
    "\n",
    "letters$occupation[letters$docauthorname == \"Hutchings, James Mason, 1820-1902\"]  <- \n",
    "\"Tradesman; Miner; Writer; Businessman\"\n",
    "\n",
    "# \"letter printed in a New Orleans paper\" (S9957)\n",
    "letters$publicLetter[letters$docid==\"S9957-D012\"] <- TRUE\n",
    "\n",
    "# Check\n",
    "letters  %>% \n",
    "filter(docauthorname==\"Hutchings, James Mason, 1820-1902\") %>%\n",
    "select(docid, occupation, publicLetter)  %>% \n",
    "unique()"
   ]
  },
  {
   "cell_type": "code",
   "execution_count": 393,
   "metadata": {},
   "outputs": [
    {
     "data": {
      "text/html": [
       "<table class=\"dataframe\">\n",
       "<caption>A data.frame: 1 × 8</caption>\n",
       "<thead>\n",
       "\t<tr><th></th><th scope=col>docid</th><th scope=col>nationalOrigin</th><th scope=col>religionNew</th><th scope=col>relMin</th><th scope=col>authorLocation</th><th scope=col>native_occupation</th><th scope=col>north_american_occupation</th><th scope=col>publicLetter</th></tr>\n",
       "\t<tr><th></th><th scope=col>&lt;fct&gt;</th><th scope=col>&lt;fct&gt;</th><th scope=col>&lt;fct&gt;</th><th scope=col>&lt;lgl&gt;</th><th scope=col>&lt;fct&gt;</th><th scope=col>&lt;fct&gt;</th><th scope=col>&lt;fct&gt;</th><th scope=col>&lt;lgl&gt;</th></tr>\n",
       "</thead>\n",
       "<tbody>\n",
       "\t<tr><th scope=row>1</th><td>S9974-D010</td><td>English</td><td>NA</td><td>NA</td><td>USA</td><td>Tradesman</td><td>Manufacturer</td><td>NA</td></tr>\n",
       "</tbody>\n",
       "</table>\n"
      ],
      "text/latex": [
       "A data.frame: 1 × 8\n",
       "\\begin{tabular}{r|llllllll}\n",
       "  & docid & nationalOrigin & religionNew & relMin & authorLocation & native\\_occupation & north\\_american\\_occupation & publicLetter\\\\\n",
       "  & <fct> & <fct> & <fct> & <lgl> & <fct> & <fct> & <fct> & <lgl>\\\\\n",
       "\\hline\n",
       "\t1 & S9974-D010 & English & NA & NA & USA & Tradesman & Manufacturer & NA\\\\\n",
       "\\end{tabular}\n"
      ],
      "text/markdown": [
       "\n",
       "A data.frame: 1 × 8\n",
       "\n",
       "| <!--/--> | docid &lt;fct&gt; | nationalOrigin &lt;fct&gt; | religionNew &lt;fct&gt; | relMin &lt;lgl&gt; | authorLocation &lt;fct&gt; | native_occupation &lt;fct&gt; | north_american_occupation &lt;fct&gt; | publicLetter &lt;lgl&gt; |\n",
       "|---|---|---|---|---|---|---|---|---|\n",
       "| 1 | S9974-D010 | English | NA | NA | USA | Tradesman | Manufacturer | NA |\n",
       "\n"
      ],
      "text/plain": [
       "  docid      nationalOrigin religionNew relMin authorLocation native_occupation\n",
       "1 S9974-D010 English        NA          NA     USA            Tradesman        \n",
       "  north_american_occupation publicLetter\n",
       "1 Manufacturer              NA          "
      ]
     },
     "metadata": {},
     "output_type": "display_data"
    }
   ],
   "source": [
    "# Line 255\n",
    "letters  %>% \n",
    "filter(docauthorname==\"Downe, John, fl. 1830\") %>%\n",
    "select(docid, nationalOrigin, religionNew, relMin, authorLocation, native_occupation, north_american_occupation, publicLetter)  %>% \n",
    "unique()"
   ]
  },
  {
   "cell_type": "markdown",
   "metadata": {},
   "source": [
    "\"Obviously this weaver, who seems to have had no difficulty in becoming the manager of a Hudson Valley factory shortly after his arrival\"\n",
    "\n",
    "Because he seems to have been elevated to a management position by the time of writing, I will not recode occupation to include the native occupation."
   ]
  },
  {
   "cell_type": "code",
   "execution_count": 394,
   "metadata": {},
   "outputs": [
    {
     "data": {
      "text/html": [
       "<table class=\"dataframe\">\n",
       "<caption>A data.frame: 14 × 4</caption>\n",
       "<thead>\n",
       "\t<tr><th></th><th scope=col>docauthorname</th><th scope=col>native_occupation</th><th scope=col>north_american_occupation</th><th scope=col>occupation</th></tr>\n",
       "\t<tr><th></th><th scope=col>&lt;fct&gt;</th><th scope=col>&lt;fct&gt;</th><th scope=col>&lt;fct&gt;</th><th scope=col>&lt;chr&gt;</th></tr>\n",
       "</thead>\n",
       "<tbody>\n",
       "\t<tr><th scope=row>1</th><td>Harris, Critchlow, 1813-1899      </td><td>Businessman; Farmer; Merchant</td><td>Architect; Artist; Businessman; Clergy; Educator                  </td><td>Farmer; Merchant; Laborer                   </td></tr>\n",
       "\t<tr><th scope=row>2</th><td>Harris, Sarah Stretch, 1818-1897  </td><td>Businessman; Educator        </td><td>Architect; Artist; Businessman; Clergy                            </td><td>Farmer; Merchant; Laborer                   </td></tr>\n",
       "\t<tr><th scope=row>41</th><td>Harris, Tom, 1847-                </td><td>Businessman; Farmer; Merchant</td><td>Architect; Artist; Businessman; Clergy; Educator; Farmer          </td><td>Businessman                                 </td></tr>\n",
       "\t<tr><th scope=row>51</th><td>Harris, Robert, 1849-1919         </td><td>Businessman; Farmer; Merchant</td><td>Architect; Artist; Businessman; Clergy; Educator; Farmer          </td><td>Artist; Educator                            </td></tr>\n",
       "\t<tr><th scope=row>81</th><td>Harris, Margaret Ellin, 1851-1944 </td><td>Businessman; Farmer; Merchant</td><td>Architect; Artist; Businessman; Educator; Farmer                  </td><td>Writer; Printer                             </td></tr>\n",
       "\t<tr><th scope=row>176</th><td>Harris, William, 1854-            </td><td>Businessman; Farmer; Merchant</td><td>Architect; Artist; Businessman; Clergy; Educator; Farmer; Merchant</td><td>Architect                                   </td></tr>\n",
       "\t<tr><th scope=row>228</th><td>Carrothers, Nathaniel, ?-1881     </td><td>Farmer                       </td><td>Farmer; Tradesman                                                 </td><td>Farmer; Tradesman                           </td></tr>\n",
       "\t<tr><th scope=row>235</th><td>Robb, Alexander, 1839-            </td><td>Farmer                       </td><td>Miner; Rancher; Laborer                                           </td><td>Miner; Laborer; Rancher; Government employee</td></tr>\n",
       "\t<tr><th scope=row>247</th><td>Bishop, Robert Hamilton, 1777-1855</td><td>Clergy                       </td><td>Clergy; Educator; Writer                                          </td><td>Clergy; Educator; Writer                    </td></tr>\n",
       "\t<tr><th scope=row>248</th><td>McKenzie, D., fl. 1834            </td><td>Clergy                       </td><td>Clergy; Missionary                                                </td><td>Clergy; Missionary                          </td></tr>\n",
       "\t<tr><th scope=row>249</th><td>Aylmer, Matthew, Lord, 1775-1850  </td><td>Military personnel           </td><td>Royal governor                                                    </td><td>Military personnel; Royal governor          </td></tr>\n",
       "\t<tr><th scope=row>250</th><td>Singer, William, fl. 1831         </td><td>Tradesman                    </td><td>Laborer; Tradesman                                                </td><td>Laborer; Tradesman                          </td></tr>\n",
       "\t<tr><th scope=row>251</th><td>Hutchings, James Mason, 1820-1902 </td><td>Tradesman                    </td><td>Miner                                                             </td><td>Tradesman; Miner; Writer; Businessman       </td></tr>\n",
       "\t<tr><th scope=row>255</th><td>Downe, John, fl. 1830             </td><td>Tradesman                    </td><td>Manufacturer                                                      </td><td>Manufacturer                                </td></tr>\n",
       "</tbody>\n",
       "</table>\n"
      ],
      "text/latex": [
       "A data.frame: 14 × 4\n",
       "\\begin{tabular}{r|llll}\n",
       "  & docauthorname & native\\_occupation & north\\_american\\_occupation & occupation\\\\\n",
       "  & <fct> & <fct> & <fct> & <chr>\\\\\n",
       "\\hline\n",
       "\t1 & Harris, Critchlow, 1813-1899       & Businessman; Farmer; Merchant & Architect; Artist; Businessman; Clergy; Educator                   & Farmer; Merchant; Laborer                   \\\\\n",
       "\t2 & Harris, Sarah Stretch, 1818-1897   & Businessman; Educator         & Architect; Artist; Businessman; Clergy                             & Farmer; Merchant; Laborer                   \\\\\n",
       "\t41 & Harris, Tom, 1847-                 & Businessman; Farmer; Merchant & Architect; Artist; Businessman; Clergy; Educator; Farmer           & Businessman                                 \\\\\n",
       "\t51 & Harris, Robert, 1849-1919          & Businessman; Farmer; Merchant & Architect; Artist; Businessman; Clergy; Educator; Farmer           & Artist; Educator                            \\\\\n",
       "\t81 & Harris, Margaret Ellin, 1851-1944  & Businessman; Farmer; Merchant & Architect; Artist; Businessman; Educator; Farmer                   & Writer; Printer                             \\\\\n",
       "\t176 & Harris, William, 1854-             & Businessman; Farmer; Merchant & Architect; Artist; Businessman; Clergy; Educator; Farmer; Merchant & Architect                                   \\\\\n",
       "\t228 & Carrothers, Nathaniel, ?-1881      & Farmer                        & Farmer; Tradesman                                                  & Farmer; Tradesman                           \\\\\n",
       "\t235 & Robb, Alexander, 1839-             & Farmer                        & Miner; Rancher; Laborer                                            & Miner; Laborer; Rancher; Government employee\\\\\n",
       "\t247 & Bishop, Robert Hamilton, 1777-1855 & Clergy                        & Clergy; Educator; Writer                                           & Clergy; Educator; Writer                    \\\\\n",
       "\t248 & McKenzie, D., fl. 1834             & Clergy                        & Clergy; Missionary                                                 & Clergy; Missionary                          \\\\\n",
       "\t249 & Aylmer, Matthew, Lord, 1775-1850   & Military personnel            & Royal governor                                                     & Military personnel; Royal governor          \\\\\n",
       "\t250 & Singer, William, fl. 1831          & Tradesman                     & Laborer; Tradesman                                                 & Laborer; Tradesman                          \\\\\n",
       "\t251 & Hutchings, James Mason, 1820-1902  & Tradesman                     & Miner                                                              & Tradesman; Miner; Writer; Businessman       \\\\\n",
       "\t255 & Downe, John, fl. 1830              & Tradesman                     & Manufacturer                                                       & Manufacturer                                \\\\\n",
       "\\end{tabular}\n"
      ],
      "text/markdown": [
       "\n",
       "A data.frame: 14 × 4\n",
       "\n",
       "| <!--/--> | docauthorname &lt;fct&gt; | native_occupation &lt;fct&gt; | north_american_occupation &lt;fct&gt; | occupation &lt;chr&gt; |\n",
       "|---|---|---|---|---|\n",
       "| 1 | Harris, Critchlow, 1813-1899       | Businessman; Farmer; Merchant | Architect; Artist; Businessman; Clergy; Educator                   | Farmer; Merchant; Laborer                    |\n",
       "| 2 | Harris, Sarah Stretch, 1818-1897   | Businessman; Educator         | Architect; Artist; Businessman; Clergy                             | Farmer; Merchant; Laborer                    |\n",
       "| 41 | Harris, Tom, 1847-                 | Businessman; Farmer; Merchant | Architect; Artist; Businessman; Clergy; Educator; Farmer           | Businessman                                  |\n",
       "| 51 | Harris, Robert, 1849-1919          | Businessman; Farmer; Merchant | Architect; Artist; Businessman; Clergy; Educator; Farmer           | Artist; Educator                             |\n",
       "| 81 | Harris, Margaret Ellin, 1851-1944  | Businessman; Farmer; Merchant | Architect; Artist; Businessman; Educator; Farmer                   | Writer; Printer                              |\n",
       "| 176 | Harris, William, 1854-             | Businessman; Farmer; Merchant | Architect; Artist; Businessman; Clergy; Educator; Farmer; Merchant | Architect                                    |\n",
       "| 228 | Carrothers, Nathaniel, ?-1881      | Farmer                        | Farmer; Tradesman                                                  | Farmer; Tradesman                            |\n",
       "| 235 | Robb, Alexander, 1839-             | Farmer                        | Miner; Rancher; Laborer                                            | Miner; Laborer; Rancher; Government employee |\n",
       "| 247 | Bishop, Robert Hamilton, 1777-1855 | Clergy                        | Clergy; Educator; Writer                                           | Clergy; Educator; Writer                     |\n",
       "| 248 | McKenzie, D., fl. 1834             | Clergy                        | Clergy; Missionary                                                 | Clergy; Missionary                           |\n",
       "| 249 | Aylmer, Matthew, Lord, 1775-1850   | Military personnel            | Royal governor                                                     | Military personnel; Royal governor           |\n",
       "| 250 | Singer, William, fl. 1831          | Tradesman                     | Laborer; Tradesman                                                 | Laborer; Tradesman                           |\n",
       "| 251 | Hutchings, James Mason, 1820-1902  | Tradesman                     | Miner                                                              | Tradesman; Miner; Writer; Businessman        |\n",
       "| 255 | Downe, John, fl. 1830              | Tradesman                     | Manufacturer                                                       | Manufacturer                                 |\n",
       "\n"
      ],
      "text/plain": [
       "    docauthorname                      native_occupation            \n",
       "1   Harris, Critchlow, 1813-1899       Businessman; Farmer; Merchant\n",
       "2   Harris, Sarah Stretch, 1818-1897   Businessman; Educator        \n",
       "41  Harris, Tom, 1847-                 Businessman; Farmer; Merchant\n",
       "51  Harris, Robert, 1849-1919          Businessman; Farmer; Merchant\n",
       "81  Harris, Margaret Ellin, 1851-1944  Businessman; Farmer; Merchant\n",
       "176 Harris, William, 1854-             Businessman; Farmer; Merchant\n",
       "228 Carrothers, Nathaniel, ?-1881      Farmer                       \n",
       "235 Robb, Alexander, 1839-             Farmer                       \n",
       "247 Bishop, Robert Hamilton, 1777-1855 Clergy                       \n",
       "248 McKenzie, D., fl. 1834             Clergy                       \n",
       "249 Aylmer, Matthew, Lord, 1775-1850   Military personnel           \n",
       "250 Singer, William, fl. 1831          Tradesman                    \n",
       "251 Hutchings, James Mason, 1820-1902  Tradesman                    \n",
       "255 Downe, John, fl. 1830              Tradesman                    \n",
       "    north_american_occupation                                         \n",
       "1   Architect; Artist; Businessman; Clergy; Educator                  \n",
       "2   Architect; Artist; Businessman; Clergy                            \n",
       "41  Architect; Artist; Businessman; Clergy; Educator; Farmer          \n",
       "51  Architect; Artist; Businessman; Clergy; Educator; Farmer          \n",
       "81  Architect; Artist; Businessman; Educator; Farmer                  \n",
       "176 Architect; Artist; Businessman; Clergy; Educator; Farmer; Merchant\n",
       "228 Farmer; Tradesman                                                 \n",
       "235 Miner; Rancher; Laborer                                           \n",
       "247 Clergy; Educator; Writer                                          \n",
       "248 Clergy; Missionary                                                \n",
       "249 Royal governor                                                    \n",
       "250 Laborer; Tradesman                                                \n",
       "251 Miner                                                             \n",
       "255 Manufacturer                                                      \n",
       "    occupation                                  \n",
       "1   Farmer; Merchant; Laborer                   \n",
       "2   Farmer; Merchant; Laborer                   \n",
       "41  Businessman                                 \n",
       "51  Artist; Educator                            \n",
       "81  Writer; Printer                             \n",
       "176 Architect                                   \n",
       "228 Farmer; Tradesman                           \n",
       "235 Miner; Laborer; Rancher; Government employee\n",
       "247 Clergy; Educator; Writer                    \n",
       "248 Clergy; Missionary                          \n",
       "249 Military personnel; Royal governor          \n",
       "250 Laborer; Tradesman                          \n",
       "251 Tradesman; Miner; Writer; Businessman       \n",
       "255 Manufacturer                                "
      ]
     },
     "metadata": {},
     "output_type": "display_data"
    }
   ],
   "source": [
    "# Now compare vairables\n",
    "letters %>% #in the dataframe\n",
    "filter(row_number() %in% rows) %>% # in the rows that meet those conditions\n",
    "select(docauthorname, native_occupation, north_american_occupation, occupation) %>% # view values for these variables\n",
    "unique() # only once where they occur together"
   ]
  },
  {
   "cell_type": "markdown",
   "metadata": {},
   "source": [
    "## Irish / Irish; Scottish and religion"
   ]
  },
  {
   "cell_type": "code",
   "execution_count": 395,
   "metadata": {},
   "outputs": [
    {
     "data": {
      "text/html": [
       "<table class=\"dataframe\">\n",
       "<caption>A data.frame: 11 × 5</caption>\n",
       "<thead>\n",
       "\t<tr><th></th><th scope=col>nationalOrigin</th><th scope=col>docauthorname</th><th scope=col>religionNew</th><th scope=col>relMin</th><th scope=col>publicLetter</th></tr>\n",
       "\t<tr><th></th><th scope=col>&lt;fct&gt;</th><th scope=col>&lt;fct&gt;</th><th scope=col>&lt;fct&gt;</th><th scope=col>&lt;lgl&gt;</th><th scope=col>&lt;lgl&gt;</th></tr>\n",
       "</thead>\n",
       "<tbody>\n",
       "\t<tr><th scope=row>1</th><td>Irish          </td><td>Humphrey, James, fl. 1824              </td><td>NA       </td><td>   NA</td><td>NA</td></tr>\n",
       "\t<tr><th scope=row>2</th><td>Irish          </td><td>Mee, Patrick, fl. 1844                 </td><td>Catholic </td><td> TRUE</td><td>NA</td></tr>\n",
       "\t<tr><th scope=row>3</th><td>Irish; Scottish</td><td>Carrothers, Nathaniel, ?-1881          </td><td>Anglican </td><td>FALSE</td><td>NA</td></tr>\n",
       "\t<tr><th scope=row>10</th><td>Irish; Scottish</td><td>Carrothers, Joseph, 1793(?)-           </td><td>Methodist</td><td>FALSE</td><td>NA</td></tr>\n",
       "\t<tr><th scope=row>21</th><td>Irish          </td><td>White, Jane, 1831(?)-1867              </td><td>NA       </td><td>   NA</td><td>NA</td></tr>\n",
       "\t<tr><th scope=row>27</th><td>Irish          </td><td>Robb, Alexander, 1839-                 </td><td>NA       </td><td>   NA</td><td>NA</td></tr>\n",
       "\t<tr><th scope=row>39</th><td>Irish; Scottish</td><td>Buchanan, J. C., fl. 1833              </td><td>NA       </td><td>   NA</td><td>NA</td></tr>\n",
       "\t<tr><th scope=row>40</th><td>Irish; Scottish</td><td>Buchanan, Alexander Carlisle, 1786-1840</td><td>NA       </td><td>   NA</td><td>NA</td></tr>\n",
       "\t<tr><th scope=row>41</th><td>Irish          </td><td>Graham, Thomas, fl. 1827               </td><td>NA       </td><td>   NA</td><td>NA</td></tr>\n",
       "\t<tr><th scope=row>43</th><td>Irish          </td><td>Sampson, William, 1764-1836            </td><td>NA       </td><td>   NA</td><td>NA</td></tr>\n",
       "\t<tr><th scope=row>53</th><td>Irish          </td><td>Mooney, Thomas, fl. 1850               </td><td>NA       </td><td>   NA</td><td>NA</td></tr>\n",
       "</tbody>\n",
       "</table>\n"
      ],
      "text/latex": [
       "A data.frame: 11 × 5\n",
       "\\begin{tabular}{r|lllll}\n",
       "  & nationalOrigin & docauthorname & religionNew & relMin & publicLetter\\\\\n",
       "  & <fct> & <fct> & <fct> & <lgl> & <lgl>\\\\\n",
       "\\hline\n",
       "\t1 & Irish           & Humphrey, James, fl. 1824               & NA        &    NA & NA\\\\\n",
       "\t2 & Irish           & Mee, Patrick, fl. 1844                  & Catholic  &  TRUE & NA\\\\\n",
       "\t3 & Irish; Scottish & Carrothers, Nathaniel, ?-1881           & Anglican  & FALSE & NA\\\\\n",
       "\t10 & Irish; Scottish & Carrothers, Joseph, 1793(?)-            & Methodist & FALSE & NA\\\\\n",
       "\t21 & Irish           & White, Jane, 1831(?)-1867               & NA        &    NA & NA\\\\\n",
       "\t27 & Irish           & Robb, Alexander, 1839-                  & NA        &    NA & NA\\\\\n",
       "\t39 & Irish; Scottish & Buchanan, J. C., fl. 1833               & NA        &    NA & NA\\\\\n",
       "\t40 & Irish; Scottish & Buchanan, Alexander Carlisle, 1786-1840 & NA        &    NA & NA\\\\\n",
       "\t41 & Irish           & Graham, Thomas, fl. 1827                & NA        &    NA & NA\\\\\n",
       "\t43 & Irish           & Sampson, William, 1764-1836             & NA        &    NA & NA\\\\\n",
       "\t53 & Irish           & Mooney, Thomas, fl. 1850                & NA        &    NA & NA\\\\\n",
       "\\end{tabular}\n"
      ],
      "text/markdown": [
       "\n",
       "A data.frame: 11 × 5\n",
       "\n",
       "| <!--/--> | nationalOrigin &lt;fct&gt; | docauthorname &lt;fct&gt; | religionNew &lt;fct&gt; | relMin &lt;lgl&gt; | publicLetter &lt;lgl&gt; |\n",
       "|---|---|---|---|---|---|\n",
       "| 1 | Irish           | Humphrey, James, fl. 1824               | NA        |    NA | NA |\n",
       "| 2 | Irish           | Mee, Patrick, fl. 1844                  | Catholic  |  TRUE | NA |\n",
       "| 3 | Irish; Scottish | Carrothers, Nathaniel, ?-1881           | Anglican  | FALSE | NA |\n",
       "| 10 | Irish; Scottish | Carrothers, Joseph, 1793(?)-            | Methodist | FALSE | NA |\n",
       "| 21 | Irish           | White, Jane, 1831(?)-1867               | NA        |    NA | NA |\n",
       "| 27 | Irish           | Robb, Alexander, 1839-                  | NA        |    NA | NA |\n",
       "| 39 | Irish; Scottish | Buchanan, J. C., fl. 1833               | NA        |    NA | NA |\n",
       "| 40 | Irish; Scottish | Buchanan, Alexander Carlisle, 1786-1840 | NA        |    NA | NA |\n",
       "| 41 | Irish           | Graham, Thomas, fl. 1827                | NA        |    NA | NA |\n",
       "| 43 | Irish           | Sampson, William, 1764-1836             | NA        |    NA | NA |\n",
       "| 53 | Irish           | Mooney, Thomas, fl. 1850                | NA        |    NA | NA |\n",
       "\n"
      ],
      "text/plain": [
       "   nationalOrigin  docauthorname                           religionNew relMin\n",
       "1  Irish           Humphrey, James, fl. 1824               NA             NA \n",
       "2  Irish           Mee, Patrick, fl. 1844                  Catholic     TRUE \n",
       "3  Irish; Scottish Carrothers, Nathaniel, ?-1881           Anglican    FALSE \n",
       "10 Irish; Scottish Carrothers, Joseph, 1793(?)-            Methodist   FALSE \n",
       "21 Irish           White, Jane, 1831(?)-1867               NA             NA \n",
       "27 Irish           Robb, Alexander, 1839-                  NA             NA \n",
       "39 Irish; Scottish Buchanan, J. C., fl. 1833               NA             NA \n",
       "40 Irish; Scottish Buchanan, Alexander Carlisle, 1786-1840 NA             NA \n",
       "41 Irish           Graham, Thomas, fl. 1827                NA             NA \n",
       "43 Irish           Sampson, William, 1764-1836             NA             NA \n",
       "53 Irish           Mooney, Thomas, fl. 1850                NA             NA \n",
       "   publicLetter\n",
       "1  NA          \n",
       "2  NA          \n",
       "3  NA          \n",
       "10 NA          \n",
       "21 NA          \n",
       "27 NA          \n",
       "39 NA          \n",
       "40 NA          \n",
       "41 NA          \n",
       "43 NA          \n",
       "53 NA          "
      ]
     },
     "metadata": {},
     "output_type": "display_data"
    }
   ],
   "source": [
    "letters %>% \n",
    "filter(nationalOrigin==\"Irish\" | \n",
    "       nationalOrigin==\"Irish; Scottish\") %>% \n",
    "select(nationalOrigin, docauthorname, religionNew, relMin, publicLetter) %>% \n",
    "unique()"
   ]
  },
  {
   "cell_type": "code",
   "execution_count": 396,
   "metadata": {},
   "outputs": [
    {
     "data": {
      "text/html": [
       "<table class=\"dataframe\">\n",
       "<caption>A data.frame: 1 × 5</caption>\n",
       "<thead>\n",
       "\t<tr><th></th><th scope=col>sourcetitle</th><th scope=col>nationalOrigin</th><th scope=col>religionNew</th><th scope=col>relMin</th><th scope=col>authorLocation</th></tr>\n",
       "\t<tr><th></th><th scope=col>&lt;fct&gt;</th><th scope=col>&lt;fct&gt;</th><th scope=col>&lt;fct&gt;</th><th scope=col>&lt;lgl&gt;</th><th scope=col>&lt;fct&gt;</th></tr>\n",
       "</thead>\n",
       "<tbody>\n",
       "\t<tr><th scope=row>1</th><td>Irish Emigration and Canadian Settlement: Patterns, Links, and Letters</td><td>Irish</td><td>NA</td><td>NA</td><td>Canada</td></tr>\n",
       "</tbody>\n",
       "</table>\n"
      ],
      "text/latex": [
       "A data.frame: 1 × 5\n",
       "\\begin{tabular}{r|lllll}\n",
       "  & sourcetitle & nationalOrigin & religionNew & relMin & authorLocation\\\\\n",
       "  & <fct> & <fct> & <fct> & <lgl> & <fct>\\\\\n",
       "\\hline\n",
       "\t1 & Irish Emigration and Canadian Settlement: Patterns, Links, and Letters & Irish & NA & NA & Canada\\\\\n",
       "\\end{tabular}\n"
      ],
      "text/markdown": [
       "\n",
       "A data.frame: 1 × 5\n",
       "\n",
       "| <!--/--> | sourcetitle &lt;fct&gt; | nationalOrigin &lt;fct&gt; | religionNew &lt;fct&gt; | relMin &lt;lgl&gt; | authorLocation &lt;fct&gt; |\n",
       "|---|---|---|---|---|---|\n",
       "| 1 | Irish Emigration and Canadian Settlement: Patterns, Links, and Letters | Irish | NA | NA | Canada |\n",
       "\n"
      ],
      "text/plain": [
       "  sourcetitle                                                           \n",
       "1 Irish Emigration and Canadian Settlement: Patterns, Links, and Letters\n",
       "  nationalOrigin religionNew relMin authorLocation\n",
       "1 Irish          NA          NA     Canada        "
      ]
     },
     "metadata": {},
     "output_type": "display_data"
    }
   ],
   "source": [
    "letters  %>% \n",
    "filter(docauthorname==\"Humphrey, James, fl. 1824\") %>%\n",
    "select(sourcetitle, nationalOrigin, religionNew, relMin, authorLocation)  %>% \n",
    "unique()"
   ]
  },
  {
   "cell_type": "markdown",
   "metadata": {},
   "source": [
    "Impossible to say what his relgious affiliation is. He appears to be from Derry in the North of Ireland. His family name seems to be more associated with English / Scottish (i.e., Protestant) lineages than Irish Catholic ones. In the original text (S9635-D006), he makes references to a large social network that includes people with family names of Gaelic and non-Gaelic origins. Given this high degree of uncertainty, I will leave the religion variables alone.\n",
    "https://en.wikipedia.org/wiki/Derry\n",
    "https://coadb.com/surnames/humphrey-arms.html"
   ]
  },
  {
   "cell_type": "code",
   "execution_count": 397,
   "metadata": {},
   "outputs": [
    {
     "data": {
      "text/html": [
       "<table class=\"dataframe\">\n",
       "<caption>A data.frame: 1 × 5</caption>\n",
       "<thead>\n",
       "\t<tr><th></th><th scope=col>docid</th><th scope=col>nationalOrigin</th><th scope=col>religionNew</th><th scope=col>relMin</th><th scope=col>authorLocation</th></tr>\n",
       "\t<tr><th></th><th scope=col>&lt;fct&gt;</th><th scope=col>&lt;fct&gt;</th><th scope=col>&lt;fct&gt;</th><th scope=col>&lt;lgl&gt;</th><th scope=col>&lt;fct&gt;</th></tr>\n",
       "</thead>\n",
       "<tbody>\n",
       "\t<tr><th scope=row>1</th><td>S9635-D010</td><td>Irish</td><td>Catholic</td><td>TRUE</td><td>Canada</td></tr>\n",
       "</tbody>\n",
       "</table>\n"
      ],
      "text/latex": [
       "A data.frame: 1 × 5\n",
       "\\begin{tabular}{r|lllll}\n",
       "  & docid & nationalOrigin & religionNew & relMin & authorLocation\\\\\n",
       "  & <fct> & <fct> & <fct> & <lgl> & <fct>\\\\\n",
       "\\hline\n",
       "\t1 & S9635-D010 & Irish & Catholic & TRUE & Canada\\\\\n",
       "\\end{tabular}\n"
      ],
      "text/markdown": [
       "\n",
       "A data.frame: 1 × 5\n",
       "\n",
       "| <!--/--> | docid &lt;fct&gt; | nationalOrigin &lt;fct&gt; | religionNew &lt;fct&gt; | relMin &lt;lgl&gt; | authorLocation &lt;fct&gt; |\n",
       "|---|---|---|---|---|---|\n",
       "| 1 | S9635-D010 | Irish | Catholic | TRUE | Canada |\n",
       "\n"
      ],
      "text/plain": [
       "  docid      nationalOrigin religionNew relMin authorLocation\n",
       "1 S9635-D010 Irish          Catholic    TRUE   Canada        "
      ]
     },
     "metadata": {},
     "output_type": "display_data"
    }
   ],
   "source": [
    "letters  %>% \n",
    "filter(docauthorname==\"Mee, Patrick, fl. 1844\") %>%\n",
    "select(docid, nationalOrigin, religionNew, relMin, authorLocation)  %>% \n",
    "unique()"
   ]
  },
  {
   "cell_type": "code",
   "execution_count": 398,
   "metadata": {},
   "outputs": [
    {
     "data": {
      "text/html": [
       "<table class=\"dataframe\">\n",
       "<caption>A data.frame: 1 × 6</caption>\n",
       "<thead>\n",
       "\t<tr><th></th><th scope=col>sourcetitle</th><th scope=col>nationalOrigin</th><th scope=col>religionNew</th><th scope=col>relMin</th><th scope=col>authorLocation</th><th scope=col>occupation</th></tr>\n",
       "\t<tr><th></th><th scope=col>&lt;fct&gt;</th><th scope=col>&lt;fct&gt;</th><th scope=col>&lt;fct&gt;</th><th scope=col>&lt;lgl&gt;</th><th scope=col>&lt;fct&gt;</th><th scope=col>&lt;chr&gt;</th></tr>\n",
       "</thead>\n",
       "<tbody>\n",
       "\t<tr><th scope=row>1</th><td>Irish Emigration and Canadian Settlement: Patterns, Links, and Letters</td><td>Irish</td><td>NA</td><td>NA</td><td>Canada</td><td>NA</td></tr>\n",
       "</tbody>\n",
       "</table>\n"
      ],
      "text/latex": [
       "A data.frame: 1 × 6\n",
       "\\begin{tabular}{r|llllll}\n",
       "  & sourcetitle & nationalOrigin & religionNew & relMin & authorLocation & occupation\\\\\n",
       "  & <fct> & <fct> & <fct> & <lgl> & <fct> & <chr>\\\\\n",
       "\\hline\n",
       "\t1 & Irish Emigration and Canadian Settlement: Patterns, Links, and Letters & Irish & NA & NA & Canada & NA\\\\\n",
       "\\end{tabular}\n"
      ],
      "text/markdown": [
       "\n",
       "A data.frame: 1 × 6\n",
       "\n",
       "| <!--/--> | sourcetitle &lt;fct&gt; | nationalOrigin &lt;fct&gt; | religionNew &lt;fct&gt; | relMin &lt;lgl&gt; | authorLocation &lt;fct&gt; | occupation &lt;chr&gt; |\n",
       "|---|---|---|---|---|---|---|\n",
       "| 1 | Irish Emigration and Canadian Settlement: Patterns, Links, and Letters | Irish | NA | NA | Canada | NA |\n",
       "\n"
      ],
      "text/plain": [
       "  sourcetitle                                                           \n",
       "1 Irish Emigration and Canadian Settlement: Patterns, Links, and Letters\n",
       "  nationalOrigin religionNew relMin authorLocation occupation\n",
       "1 Irish          NA          NA     Canada         NA        "
      ]
     },
     "metadata": {},
     "output_type": "display_data"
    }
   ],
   "source": [
    "letters  %>% \n",
    "filter(docauthorname==\"White, Jane, 1831(?)-1867\") %>%\n",
    "select(sourcetitle, nationalOrigin, religionNew, relMin, authorLocation, occupation)  %>% \n",
    "unique()"
   ]
  },
  {
   "cell_type": "markdown",
   "metadata": {},
   "source": [
    "According to the original source, he was from a \"bourgeois\" family in County Down in Northern Ireland. Her father's main source of income was from rents on property he owned. He is described as a minor real estate speculator who had a modest income. The editor of the volume in which Jane's letters reprinted speculates that the family came to Canada with considerable funds, given the father's ability to buy land, their class during the voyage, and the fact that they brought Jane's paino (recall Getz saying this was the ultimate sign of middle class status). The quality of Jane's writing indicates to the editor that her father had been a merchant or small manufacturer. She isn described as \"Protestant Irish\"."
   ]
  },
  {
   "cell_type": "code",
   "execution_count": 399,
   "metadata": {},
   "outputs": [],
   "source": [
    "letters$relMin[letters$docauthorname==\"White, Jane, 1831(?)-1867\"]  <- FALSE\n",
    "letters$occupation[letters$docauthorname==\"White, Jane, 1831(?)-1867\"]  <- \"Businessman\""
   ]
  },
  {
   "cell_type": "code",
   "execution_count": 400,
   "metadata": {},
   "outputs": [
    {
     "data": {
      "text/html": [
       "<table class=\"dataframe\">\n",
       "<caption>A data.frame: 1 × 6</caption>\n",
       "<thead>\n",
       "\t<tr><th></th><th scope=col>sourcetitle</th><th scope=col>nationalOrigin</th><th scope=col>religionNew</th><th scope=col>relMin</th><th scope=col>authorLocation</th><th scope=col>occupation</th></tr>\n",
       "\t<tr><th></th><th scope=col>&lt;fct&gt;</th><th scope=col>&lt;fct&gt;</th><th scope=col>&lt;fct&gt;</th><th scope=col>&lt;lgl&gt;</th><th scope=col>&lt;fct&gt;</th><th scope=col>&lt;chr&gt;</th></tr>\n",
       "</thead>\n",
       "<tbody>\n",
       "\t<tr><th scope=row>1</th><td>Irish Emigration and Canadian Settlement: Patterns, Links, and Letters</td><td>Irish</td><td>NA</td><td>NA</td><td>Canada</td><td>Miner; Laborer; Rancher; Government employee</td></tr>\n",
       "</tbody>\n",
       "</table>\n"
      ],
      "text/latex": [
       "A data.frame: 1 × 6\n",
       "\\begin{tabular}{r|llllll}\n",
       "  & sourcetitle & nationalOrigin & religionNew & relMin & authorLocation & occupation\\\\\n",
       "  & <fct> & <fct> & <fct> & <lgl> & <fct> & <chr>\\\\\n",
       "\\hline\n",
       "\t1 & Irish Emigration and Canadian Settlement: Patterns, Links, and Letters & Irish & NA & NA & Canada & Miner; Laborer; Rancher; Government employee\\\\\n",
       "\\end{tabular}\n"
      ],
      "text/markdown": [
       "\n",
       "A data.frame: 1 × 6\n",
       "\n",
       "| <!--/--> | sourcetitle &lt;fct&gt; | nationalOrigin &lt;fct&gt; | religionNew &lt;fct&gt; | relMin &lt;lgl&gt; | authorLocation &lt;fct&gt; | occupation &lt;chr&gt; |\n",
       "|---|---|---|---|---|---|---|\n",
       "| 1 | Irish Emigration and Canadian Settlement: Patterns, Links, and Letters | Irish | NA | NA | Canada | Miner; Laborer; Rancher; Government employee |\n",
       "\n"
      ],
      "text/plain": [
       "  sourcetitle                                                           \n",
       "1 Irish Emigration and Canadian Settlement: Patterns, Links, and Letters\n",
       "  nationalOrigin religionNew relMin authorLocation\n",
       "1 Irish          NA          NA     Canada        \n",
       "  occupation                                  \n",
       "1 Miner; Laborer; Rancher; Government employee"
      ]
     },
     "metadata": {},
     "output_type": "display_data"
    }
   ],
   "source": [
    "letters  %>% \n",
    "filter(docauthorname==\"Robb, Alexander, 1839-\") %>%\n",
    "select(sourcetitle, nationalOrigin, religionNew, relMin, authorLocation, occupation)  %>% \n",
    "unique()"
   ]
  },
  {
   "cell_type": "code",
   "execution_count": 401,
   "metadata": {},
   "outputs": [],
   "source": [
    "letters$relMin[letters$docauthorname==\"Robb, Alexander, 1839-\"] <- FALSE"
   ]
  },
  {
   "cell_type": "code",
   "execution_count": 402,
   "metadata": {},
   "outputs": [
    {
     "data": {
      "text/html": [
       "<table class=\"dataframe\">\n",
       "<caption>A data.frame: 1 × 6</caption>\n",
       "<thead>\n",
       "\t<tr><th></th><th scope=col>docid</th><th scope=col>nationalOrigin</th><th scope=col>religionNew</th><th scope=col>relMin</th><th scope=col>authorLocation</th><th scope=col>occupation</th></tr>\n",
       "\t<tr><th></th><th scope=col>&lt;fct&gt;</th><th scope=col>&lt;fct&gt;</th><th scope=col>&lt;fct&gt;</th><th scope=col>&lt;lgl&gt;</th><th scope=col>&lt;fct&gt;</th><th scope=col>&lt;chr&gt;</th></tr>\n",
       "</thead>\n",
       "<tbody>\n",
       "\t<tr><th scope=row>1</th><td>S9865-D009</td><td>Irish; Scottish</td><td>NA</td><td>NA</td><td>USA</td><td>Government employee</td></tr>\n",
       "</tbody>\n",
       "</table>\n"
      ],
      "text/latex": [
       "A data.frame: 1 × 6\n",
       "\\begin{tabular}{r|llllll}\n",
       "  & docid & nationalOrigin & religionNew & relMin & authorLocation & occupation\\\\\n",
       "  & <fct> & <fct> & <fct> & <lgl> & <fct> & <chr>\\\\\n",
       "\\hline\n",
       "\t1 & S9865-D009 & Irish; Scottish & NA & NA & USA & Government employee\\\\\n",
       "\\end{tabular}\n"
      ],
      "text/markdown": [
       "\n",
       "A data.frame: 1 × 6\n",
       "\n",
       "| <!--/--> | docid &lt;fct&gt; | nationalOrigin &lt;fct&gt; | religionNew &lt;fct&gt; | relMin &lt;lgl&gt; | authorLocation &lt;fct&gt; | occupation &lt;chr&gt; |\n",
       "|---|---|---|---|---|---|---|\n",
       "| 1 | S9865-D009 | Irish; Scottish | NA | NA | USA | Government employee |\n",
       "\n"
      ],
      "text/plain": [
       "  docid      nationalOrigin  religionNew relMin authorLocation\n",
       "1 S9865-D009 Irish; Scottish NA          NA     USA           \n",
       "  occupation         \n",
       "1 Government employee"
      ]
     },
     "metadata": {},
     "output_type": "display_data"
    }
   ],
   "source": [
    "# Buchanan, J. C., fl. 1833\n",
    "letters  %>% \n",
    "filter(docauthorname==\"Buchanan, J. C., fl. 1833\") %>%\n",
    "select(docid, nationalOrigin, religionNew, relMin, authorLocation, occupation)  %>% \n",
    "unique()"
   ]
  },
  {
   "cell_type": "markdown",
   "metadata": {},
   "source": [
    "This is James Clarke Buchanan (1801 - 1849), son of James Buchanan (1772 - 1851).\n",
    "<ul>\n",
    "    <li>http://www.ccchs.ca/Newsletters/CCCHS%20Newsletter--Winter-Spring%202019%20.pdf)</li>\n",
    "    <li>https://www.findagrave.com/memorial/90711480/james-clarke-buchanan</li>\n",
    "<li>https://archive.org/details/galtscanadianody0001timo/page/100/mode/2up?q=%22James+Clarke+Buchanan%22</li>\n",
    "    </ul>\n",
    "His father was baptiste, as described in the text block below, which would make the son not from a religious minority, although his current religious affiliation is unknown."
   ]
  },
  {
   "cell_type": "code",
   "execution_count": 403,
   "metadata": {},
   "outputs": [],
   "source": [
    "letters$relMin[letters$docauthorname==\"Buchanan, J. C., fl. 1833\"]  <- FALSE"
   ]
  },
  {
   "cell_type": "code",
   "execution_count": 404,
   "metadata": {},
   "outputs": [
    {
     "data": {
      "text/html": [
       "<table class=\"dataframe\">\n",
       "<caption>A data.frame: 1 × 8</caption>\n",
       "<thead>\n",
       "\t<tr><th></th><th scope=col>docid</th><th scope=col>nationalOrigin</th><th scope=col>religion</th><th scope=col>religionNew</th><th scope=col>relMin</th><th scope=col>authorLocation</th><th scope=col>docyear</th><th scope=col>occupation</th></tr>\n",
       "\t<tr><th></th><th scope=col>&lt;fct&gt;</th><th scope=col>&lt;fct&gt;</th><th scope=col>&lt;fct&gt;</th><th scope=col>&lt;fct&gt;</th><th scope=col>&lt;lgl&gt;</th><th scope=col>&lt;fct&gt;</th><th scope=col>&lt;int&gt;</th><th scope=col>&lt;chr&gt;</th></tr>\n",
       "</thead>\n",
       "<tbody>\n",
       "\t<tr><th scope=row>1</th><td>S9865-D010</td><td>Irish; Scottish</td><td>NA</td><td>NA</td><td>NA</td><td>Canada</td><td>1834</td><td>Government appointee</td></tr>\n",
       "</tbody>\n",
       "</table>\n"
      ],
      "text/latex": [
       "A data.frame: 1 × 8\n",
       "\\begin{tabular}{r|llllllll}\n",
       "  & docid & nationalOrigin & religion & religionNew & relMin & authorLocation & docyear & occupation\\\\\n",
       "  & <fct> & <fct> & <fct> & <fct> & <lgl> & <fct> & <int> & <chr>\\\\\n",
       "\\hline\n",
       "\t1 & S9865-D010 & Irish; Scottish & NA & NA & NA & Canada & 1834 & Government appointee\\\\\n",
       "\\end{tabular}\n"
      ],
      "text/markdown": [
       "\n",
       "A data.frame: 1 × 8\n",
       "\n",
       "| <!--/--> | docid &lt;fct&gt; | nationalOrigin &lt;fct&gt; | religion &lt;fct&gt; | religionNew &lt;fct&gt; | relMin &lt;lgl&gt; | authorLocation &lt;fct&gt; | docyear &lt;int&gt; | occupation &lt;chr&gt; |\n",
       "|---|---|---|---|---|---|---|---|---|\n",
       "| 1 | S9865-D010 | Irish; Scottish | NA | NA | NA | Canada | 1834 | Government appointee |\n",
       "\n"
      ],
      "text/plain": [
       "  docid      nationalOrigin  religion religionNew relMin authorLocation docyear\n",
       "1 S9865-D010 Irish; Scottish NA       NA          NA     Canada         1834   \n",
       "  occupation          \n",
       "1 Government appointee"
      ]
     },
     "metadata": {},
     "output_type": "display_data"
    }
   ],
   "source": [
    "# Buchanan, Alexander Carlisle, 1786-1840\n",
    "letters  %>% \n",
    "filter(docauthorname==\"Buchanan, Alexander Carlisle, 1786-1840\") %>%\n",
    "select(docid, nationalOrigin, religion, religionNew, relMin, authorLocation, docyear, occupation)  %>% \n",
    "unique()"
   ]
  },
  {
   "cell_type": "markdown",
   "metadata": {},
   "source": [
    "Alexander Carlisle Buchanan is the brother of James Buchanan, who was brought up Presbyterian but converted to Baptist. This would make him part of the religious majority, although it cannot be said what his denomination was. \n",
    "http://brixton38.biographi.ca/en/bio/buchanan_alexander_carlisle_1786_1840_7E.html\n",
    "http://www.ccchs.ca/Newsletters/CCCHS%20Newsletter--Winter-Spring%202019%20.pdf"
   ]
  },
  {
   "cell_type": "code",
   "execution_count": 405,
   "metadata": {},
   "outputs": [],
   "source": [
    "letters$relMin[letters$docauthorname==\"Buchanan, Alexander Carlisle, 1786-1840\"]  <- FALSE"
   ]
  },
  {
   "cell_type": "code",
   "execution_count": 406,
   "metadata": {},
   "outputs": [
    {
     "data": {
      "text/html": [
       "<table class=\"dataframe\">\n",
       "<caption>A data.frame: 1 × 7</caption>\n",
       "<thead>\n",
       "\t<tr><th></th><th scope=col>sourcetitle</th><th scope=col>nationalOrigin</th><th scope=col>religion</th><th scope=col>religionNew</th><th scope=col>relMin</th><th scope=col>authorLocation</th><th scope=col>occupation</th></tr>\n",
       "\t<tr><th></th><th scope=col>&lt;fct&gt;</th><th scope=col>&lt;fct&gt;</th><th scope=col>&lt;fct&gt;</th><th scope=col>&lt;fct&gt;</th><th scope=col>&lt;lgl&gt;</th><th scope=col>&lt;fct&gt;</th><th scope=col>&lt;chr&gt;</th></tr>\n",
       "</thead>\n",
       "<tbody>\n",
       "\t<tr><th scope=row>1</th><td>Hints on Emigration to Upper Canada; Especially Addressed to the Middle and Lower Classes in Great Britain and Ireland</td><td>Irish</td><td>NA</td><td>NA</td><td>NA</td><td>Canada</td><td>NA</td></tr>\n",
       "</tbody>\n",
       "</table>\n"
      ],
      "text/latex": [
       "A data.frame: 1 × 7\n",
       "\\begin{tabular}{r|lllllll}\n",
       "  & sourcetitle & nationalOrigin & religion & religionNew & relMin & authorLocation & occupation\\\\\n",
       "  & <fct> & <fct> & <fct> & <fct> & <lgl> & <fct> & <chr>\\\\\n",
       "\\hline\n",
       "\t1 & Hints on Emigration to Upper Canada; Especially Addressed to the Middle and Lower Classes in Great Britain and Ireland & Irish & NA & NA & NA & Canada & NA\\\\\n",
       "\\end{tabular}\n"
      ],
      "text/markdown": [
       "\n",
       "A data.frame: 1 × 7\n",
       "\n",
       "| <!--/--> | sourcetitle &lt;fct&gt; | nationalOrigin &lt;fct&gt; | religion &lt;fct&gt; | religionNew &lt;fct&gt; | relMin &lt;lgl&gt; | authorLocation &lt;fct&gt; | occupation &lt;chr&gt; |\n",
       "|---|---|---|---|---|---|---|---|\n",
       "| 1 | Hints on Emigration to Upper Canada; Especially Addressed to the Middle and Lower Classes in Great Britain and Ireland | Irish | NA | NA | NA | Canada | NA |\n",
       "\n"
      ],
      "text/plain": [
       "  sourcetitle                                                                                                           \n",
       "1 Hints on Emigration to Upper Canada; Especially Addressed to the Middle and Lower Classes in Great Britain and Ireland\n",
       "  nationalOrigin religion religionNew relMin authorLocation occupation\n",
       "1 Irish          NA       NA          NA     Canada         NA        "
      ]
     },
     "metadata": {},
     "output_type": "display_data"
    }
   ],
   "source": [
    "# Graham, Thomas, fl. 1827\n",
    "letters  %>% \n",
    "filter(docauthorname==\"Graham, Thomas, fl. 1827\") %>%\n",
    "select(sourcetitle, nationalOrigin, religion, religionNew, relMin, authorLocation, occupation)  %>% \n",
    "unique()"
   ]
  },
  {
   "cell_type": "markdown",
   "metadata": {},
   "source": [
    "The texts give no indication of the author's religion; however, his surname suggests greater affiliation with Irish / Scottish / Protestant traditions than Irish-Catholic ones. His occupation is given as a joiner, and he refers to an apprenticeship, meaning that this is a skilled trade. As such, he will be coded as a tradesman.\n",
    "https://en.wikipedia.org/wiki/County_Monaghan"
   ]
  },
  {
   "cell_type": "code",
   "execution_count": 407,
   "metadata": {},
   "outputs": [],
   "source": [
    "# Note this in case it makes sense to omit public letters at a later stage.\n",
    "letters$occupation[letters$docauthorname==\"Graham, Thomas, fl. 1827\"] <- \"Tradesman\""
   ]
  },
  {
   "cell_type": "markdown",
   "metadata": {},
   "source": [
    "One letter (S9873-D014) is addressed to his mother Elizabeth in Enniscorthy Ireland, which is in the north. Given that the family name Graham has Scottish and English origins, it is likely that this writer's religious affiliation is Protestant, and hence not a religious minority. However, this town does have Catholic churches and of course conversion even across the Protestant - Catholic divide was possible. I will therefore not recode any of the relgion vairables. https://en.wikipedia.org/wiki/Enniscorthy"
   ]
  },
  {
   "cell_type": "markdown",
   "metadata": {},
   "source": [
    "William Sampson is an interesting case. He was an Irish lawyer who was exiled because of his political (anti Union) activism. The letters are lengthy, highly political and published as part of his memoir."
   ]
  },
  {
   "cell_type": "code",
   "execution_count": 408,
   "metadata": {},
   "outputs": [],
   "source": [
    "# Note this in case it makes sense to omit public letters at a later stage.\n",
    "letters$publicLetter[letters$docauthorname==\"Sampson, William, 1764-1836\"] <- TRUE"
   ]
  },
  {
   "cell_type": "markdown",
   "metadata": {},
   "source": [
    "He was of a Protestant background although it is unclear which denomination. Accounts show his father as an Anglican clergyman, so it is safe to say his cultural background is not that of a religion minority. Again, it is possible that he converted during his life. With this in mind, I will recode him as FALSE for relMin but leave the religionNew value as NA because his denomination is uncertain. \n",
    "https://www.dib.ie/biography/sampson-william-a7907\n",
    "https://history.nycourts.gov/figure/william-sampson/"
   ]
  },
  {
   "cell_type": "code",
   "execution_count": 409,
   "metadata": {},
   "outputs": [],
   "source": [
    "letters$relMin[letters$docauthorname==\"Sampson, William, 1764-1836\"] <- FALSE"
   ]
  },
  {
   "cell_type": "code",
   "execution_count": 410,
   "metadata": {},
   "outputs": [
    {
     "data": {
      "text/html": [
       "<table class=\"dataframe\">\n",
       "<caption>A data.frame: 1 × 6</caption>\n",
       "<thead>\n",
       "\t<tr><th></th><th scope=col>sourcetitle</th><th scope=col>nationalOrigin</th><th scope=col>religion</th><th scope=col>religionNew</th><th scope=col>relMin</th><th scope=col>occupation</th></tr>\n",
       "\t<tr><th></th><th scope=col>&lt;fct&gt;</th><th scope=col>&lt;fct&gt;</th><th scope=col>&lt;fct&gt;</th><th scope=col>&lt;fct&gt;</th><th scope=col>&lt;lgl&gt;</th><th scope=col>&lt;chr&gt;</th></tr>\n",
       "</thead>\n",
       "<tbody>\n",
       "\t<tr><th scope=row>1</th><td>Nine Years In America</td><td>Irish</td><td>NA</td><td>NA</td><td>NA</td><td>Writer</td></tr>\n",
       "</tbody>\n",
       "</table>\n"
      ],
      "text/latex": [
       "A data.frame: 1 × 6\n",
       "\\begin{tabular}{r|llllll}\n",
       "  & sourcetitle & nationalOrigin & religion & religionNew & relMin & occupation\\\\\n",
       "  & <fct> & <fct> & <fct> & <fct> & <lgl> & <chr>\\\\\n",
       "\\hline\n",
       "\t1 & Nine Years In America & Irish & NA & NA & NA & Writer\\\\\n",
       "\\end{tabular}\n"
      ],
      "text/markdown": [
       "\n",
       "A data.frame: 1 × 6\n",
       "\n",
       "| <!--/--> | sourcetitle &lt;fct&gt; | nationalOrigin &lt;fct&gt; | religion &lt;fct&gt; | religionNew &lt;fct&gt; | relMin &lt;lgl&gt; | occupation &lt;chr&gt; |\n",
       "|---|---|---|---|---|---|---|\n",
       "| 1 | Nine Years In America | Irish | NA | NA | NA | Writer |\n",
       "\n"
      ],
      "text/plain": [
       "  sourcetitle           nationalOrigin religion religionNew relMin occupation\n",
       "1 Nine Years In America Irish          NA       NA          NA     Writer    "
      ]
     },
     "metadata": {},
     "output_type": "display_data"
    }
   ],
   "source": [
    "# Mooney, Thomas, fl. 1850\n",
    "letters  %>% \n",
    "filter(docauthorname==\"Mooney, Thomas, fl. 1850\") %>%\n",
    "select(sourcetitle, nationalOrigin, religion, religionNew, relMin, occupation)  %>% \n",
    "unique()"
   ]
  },
  {
   "cell_type": "markdown",
   "metadata": {},
   "source": [
    "The Irish family name Mooney is derived from Gaelic. This plus the writer's anti-British, pro-Irish attitudes seem to indicate that his cultural background is more likely Irish-Catholic than Irish-Protestant. The description of him as an \"eccentric spiritualist\" indicates that he might not have been a traditional Catholic, but then he probably was also never part of the Protestant majority.\n",
    "https://en.wikipedia.org/wiki/Mooney\n",
    "https://www.dib.ie/biography/mooney-thomas-a5917\n",
    "https://archive.org/details/historyofireland01moon/page/n24/mode/1up?q=Catholic"
   ]
  },
  {
   "cell_type": "code",
   "execution_count": 411,
   "metadata": {},
   "outputs": [],
   "source": [
    "# Note this in case it makes sense to omit public letters at a later stage.\n",
    "letters$publicLetter[letters$docauthorname==\"Mooney, Thomas, fl. 1850\"] <- TRUE\n",
    "letters$relMin[letters$docauthorname==\"Mooney, Thomas, fl. 1850\"] <- TRUE"
   ]
  },
  {
   "cell_type": "markdown",
   "metadata": {},
   "source": [
    "All of the people identified as \"Irish; Scottish\" originated in Ireland, even if their ancestors and identities were Scottish. For the purpose of the modeling I intend to do, their actual national origin plus their status as a religious minority within the context of the British empire (i.e., Protestant or not) is what matters. With this in mind, I am recodings nationalOrigin as Irish for these individuals. "
   ]
  },
  {
   "cell_type": "code",
   "execution_count": 412,
   "metadata": {},
   "outputs": [
    {
     "data": {
      "text/html": [
       "<table class=\"dataframe\">\n",
       "<caption>A data.frame: 4 × 5</caption>\n",
       "<thead>\n",
       "\t<tr><th></th><th scope=col>cultural_heritage</th><th scope=col>nationalOrigin</th><th scope=col>docauthorname</th><th scope=col>religionNew</th><th scope=col>relMin</th></tr>\n",
       "\t<tr><th></th><th scope=col>&lt;fct&gt;</th><th scope=col>&lt;fct&gt;</th><th scope=col>&lt;fct&gt;</th><th scope=col>&lt;fct&gt;</th><th scope=col>&lt;lgl&gt;</th></tr>\n",
       "</thead>\n",
       "<tbody>\n",
       "\t<tr><th scope=row>1</th><td>Irish; European; Scottish</td><td>Irish; Scottish</td><td>Carrothers, Nathaniel, ?-1881          </td><td>Anglican </td><td>FALSE</td></tr>\n",
       "\t<tr><th scope=row>8</th><td>Irish; European; Scottish</td><td>Irish; Scottish</td><td>Carrothers, Joseph, 1793(?)-           </td><td>Methodist</td><td>FALSE</td></tr>\n",
       "\t<tr><th scope=row>19</th><td>NA                       </td><td>Irish; Scottish</td><td>Buchanan, J. C., fl. 1833              </td><td>NA       </td><td>FALSE</td></tr>\n",
       "\t<tr><th scope=row>20</th><td>NA                       </td><td>Irish; Scottish</td><td>Buchanan, Alexander Carlisle, 1786-1840</td><td>NA       </td><td>FALSE</td></tr>\n",
       "</tbody>\n",
       "</table>\n"
      ],
      "text/latex": [
       "A data.frame: 4 × 5\n",
       "\\begin{tabular}{r|lllll}\n",
       "  & cultural\\_heritage & nationalOrigin & docauthorname & religionNew & relMin\\\\\n",
       "  & <fct> & <fct> & <fct> & <fct> & <lgl>\\\\\n",
       "\\hline\n",
       "\t1 & Irish; European; Scottish & Irish; Scottish & Carrothers, Nathaniel, ?-1881           & Anglican  & FALSE\\\\\n",
       "\t8 & Irish; European; Scottish & Irish; Scottish & Carrothers, Joseph, 1793(?)-            & Methodist & FALSE\\\\\n",
       "\t19 & NA                        & Irish; Scottish & Buchanan, J. C., fl. 1833               & NA        & FALSE\\\\\n",
       "\t20 & NA                        & Irish; Scottish & Buchanan, Alexander Carlisle, 1786-1840 & NA        & FALSE\\\\\n",
       "\\end{tabular}\n"
      ],
      "text/markdown": [
       "\n",
       "A data.frame: 4 × 5\n",
       "\n",
       "| <!--/--> | cultural_heritage &lt;fct&gt; | nationalOrigin &lt;fct&gt; | docauthorname &lt;fct&gt; | religionNew &lt;fct&gt; | relMin &lt;lgl&gt; |\n",
       "|---|---|---|---|---|---|\n",
       "| 1 | Irish; European; Scottish | Irish; Scottish | Carrothers, Nathaniel, ?-1881           | Anglican  | FALSE |\n",
       "| 8 | Irish; European; Scottish | Irish; Scottish | Carrothers, Joseph, 1793(?)-            | Methodist | FALSE |\n",
       "| 19 | NA                        | Irish; Scottish | Buchanan, J. C., fl. 1833               | NA        | FALSE |\n",
       "| 20 | NA                        | Irish; Scottish | Buchanan, Alexander Carlisle, 1786-1840 | NA        | FALSE |\n",
       "\n"
      ],
      "text/plain": [
       "   cultural_heritage         nationalOrigin \n",
       "1  Irish; European; Scottish Irish; Scottish\n",
       "8  Irish; European; Scottish Irish; Scottish\n",
       "19 NA                        Irish; Scottish\n",
       "20 NA                        Irish; Scottish\n",
       "   docauthorname                           religionNew relMin\n",
       "1  Carrothers, Nathaniel, ?-1881           Anglican    FALSE \n",
       "8  Carrothers, Joseph, 1793(?)-            Methodist   FALSE \n",
       "19 Buchanan, J. C., fl. 1833               NA          FALSE \n",
       "20 Buchanan, Alexander Carlisle, 1786-1840 NA          FALSE "
      ]
     },
     "metadata": {},
     "output_type": "display_data"
    }
   ],
   "source": [
    "letters %>% \n",
    "filter(nationalOrigin==\"Irish; Scottish\") %>% \n",
    "select(cultural_heritage, nationalOrigin, docauthorname, religionNew, relMin) %>% \n",
    "unique()"
   ]
  },
  {
   "cell_type": "markdown",
   "metadata": {},
   "source": [
    "Note that the cultural_heritage value for J.C. and A.C. Buchanan was NA. The Irish Scottish designation for came from research for done to recode the nationalOrigin variable (see Nationality <a href=\"https://nbviewer.org/github/menyalas/dissertation/blob/main/20230217_AM_PhD-NaildohNationality.ipynb\">notebook</a> and <a href=\"https://wellbeinginlifewriting.wordpress.com/2023/02/17/naldoh-nationality/\">blog post</a>)."
   ]
  },
  {
   "cell_type": "code",
   "execution_count": 413,
   "metadata": {},
   "outputs": [],
   "source": [
    "# Now recode nationalOrigin to Irish \n",
    "letters$nationalOrigin[letters$nationalOrigin==\"Irish; Scottish\"] <- \"Irish\""
   ]
  },
  {
   "cell_type": "code",
   "execution_count": 414,
   "metadata": {},
   "outputs": [
    {
     "data": {
      "text/html": [
       "<table class=\"dataframe\">\n",
       "<caption>A data.frame: 11 × 4</caption>\n",
       "<thead>\n",
       "\t<tr><th></th><th scope=col>docauthorname</th><th scope=col>religionNew</th><th scope=col>relMin</th><th scope=col>publicLetter</th></tr>\n",
       "\t<tr><th></th><th scope=col>&lt;fct&gt;</th><th scope=col>&lt;fct&gt;</th><th scope=col>&lt;lgl&gt;</th><th scope=col>&lt;lgl&gt;</th></tr>\n",
       "</thead>\n",
       "<tbody>\n",
       "\t<tr><th scope=row>1</th><td>Humphrey, James, fl. 1824              </td><td>NA       </td><td>   NA</td><td>  NA</td></tr>\n",
       "\t<tr><th scope=row>2</th><td>Mee, Patrick, fl. 1844                 </td><td>Catholic </td><td> TRUE</td><td>  NA</td></tr>\n",
       "\t<tr><th scope=row>3</th><td>Carrothers, Nathaniel, ?-1881          </td><td>Anglican </td><td>FALSE</td><td>  NA</td></tr>\n",
       "\t<tr><th scope=row>10</th><td>Carrothers, Joseph, 1793(?)-           </td><td>Methodist</td><td>FALSE</td><td>  NA</td></tr>\n",
       "\t<tr><th scope=row>21</th><td>White, Jane, 1831(?)-1867              </td><td>NA       </td><td>FALSE</td><td>  NA</td></tr>\n",
       "\t<tr><th scope=row>27</th><td>Robb, Alexander, 1839-                 </td><td>NA       </td><td>FALSE</td><td>  NA</td></tr>\n",
       "\t<tr><th scope=row>39</th><td>Buchanan, J. C., fl. 1833              </td><td>NA       </td><td>FALSE</td><td>  NA</td></tr>\n",
       "\t<tr><th scope=row>40</th><td>Buchanan, Alexander Carlisle, 1786-1840</td><td>NA       </td><td>FALSE</td><td>  NA</td></tr>\n",
       "\t<tr><th scope=row>41</th><td>Graham, Thomas, fl. 1827               </td><td>NA       </td><td>   NA</td><td>  NA</td></tr>\n",
       "\t<tr><th scope=row>43</th><td>Sampson, William, 1764-1836            </td><td>NA       </td><td>FALSE</td><td>TRUE</td></tr>\n",
       "\t<tr><th scope=row>53</th><td>Mooney, Thomas, fl. 1850               </td><td>NA       </td><td> TRUE</td><td>TRUE</td></tr>\n",
       "</tbody>\n",
       "</table>\n"
      ],
      "text/latex": [
       "A data.frame: 11 × 4\n",
       "\\begin{tabular}{r|llll}\n",
       "  & docauthorname & religionNew & relMin & publicLetter\\\\\n",
       "  & <fct> & <fct> & <lgl> & <lgl>\\\\\n",
       "\\hline\n",
       "\t1 & Humphrey, James, fl. 1824               & NA        &    NA &   NA\\\\\n",
       "\t2 & Mee, Patrick, fl. 1844                  & Catholic  &  TRUE &   NA\\\\\n",
       "\t3 & Carrothers, Nathaniel, ?-1881           & Anglican  & FALSE &   NA\\\\\n",
       "\t10 & Carrothers, Joseph, 1793(?)-            & Methodist & FALSE &   NA\\\\\n",
       "\t21 & White, Jane, 1831(?)-1867               & NA        & FALSE &   NA\\\\\n",
       "\t27 & Robb, Alexander, 1839-                  & NA        & FALSE &   NA\\\\\n",
       "\t39 & Buchanan, J. C., fl. 1833               & NA        & FALSE &   NA\\\\\n",
       "\t40 & Buchanan, Alexander Carlisle, 1786-1840 & NA        & FALSE &   NA\\\\\n",
       "\t41 & Graham, Thomas, fl. 1827                & NA        &    NA &   NA\\\\\n",
       "\t43 & Sampson, William, 1764-1836             & NA        & FALSE & TRUE\\\\\n",
       "\t53 & Mooney, Thomas, fl. 1850                & NA        &  TRUE & TRUE\\\\\n",
       "\\end{tabular}\n"
      ],
      "text/markdown": [
       "\n",
       "A data.frame: 11 × 4\n",
       "\n",
       "| <!--/--> | docauthorname &lt;fct&gt; | religionNew &lt;fct&gt; | relMin &lt;lgl&gt; | publicLetter &lt;lgl&gt; |\n",
       "|---|---|---|---|---|\n",
       "| 1 | Humphrey, James, fl. 1824               | NA        |    NA |   NA |\n",
       "| 2 | Mee, Patrick, fl. 1844                  | Catholic  |  TRUE |   NA |\n",
       "| 3 | Carrothers, Nathaniel, ?-1881           | Anglican  | FALSE |   NA |\n",
       "| 10 | Carrothers, Joseph, 1793(?)-            | Methodist | FALSE |   NA |\n",
       "| 21 | White, Jane, 1831(?)-1867               | NA        | FALSE |   NA |\n",
       "| 27 | Robb, Alexander, 1839-                  | NA        | FALSE |   NA |\n",
       "| 39 | Buchanan, J. C., fl. 1833               | NA        | FALSE |   NA |\n",
       "| 40 | Buchanan, Alexander Carlisle, 1786-1840 | NA        | FALSE |   NA |\n",
       "| 41 | Graham, Thomas, fl. 1827                | NA        |    NA |   NA |\n",
       "| 43 | Sampson, William, 1764-1836             | NA        | FALSE | TRUE |\n",
       "| 53 | Mooney, Thomas, fl. 1850                | NA        |  TRUE | TRUE |\n",
       "\n"
      ],
      "text/plain": [
       "   docauthorname                           religionNew relMin publicLetter\n",
       "1  Humphrey, James, fl. 1824               NA             NA    NA        \n",
       "2  Mee, Patrick, fl. 1844                  Catholic     TRUE    NA        \n",
       "3  Carrothers, Nathaniel, ?-1881           Anglican    FALSE    NA        \n",
       "10 Carrothers, Joseph, 1793(?)-            Methodist   FALSE    NA        \n",
       "21 White, Jane, 1831(?)-1867               NA          FALSE    NA        \n",
       "27 Robb, Alexander, 1839-                  NA          FALSE    NA        \n",
       "39 Buchanan, J. C., fl. 1833               NA          FALSE    NA        \n",
       "40 Buchanan, Alexander Carlisle, 1786-1840 NA          FALSE    NA        \n",
       "41 Graham, Thomas, fl. 1827                NA             NA    NA        \n",
       "43 Sampson, William, 1764-1836             NA          FALSE  TRUE        \n",
       "53 Mooney, Thomas, fl. 1850                NA           TRUE  TRUE        "
      ]
     },
     "metadata": {},
     "output_type": "display_data"
    }
   ],
   "source": [
    "letters %>% \n",
    "filter(nationalOrigin==\"Irish\") %>% \n",
    "select(docauthorname, religionNew, relMin, publicLetter) %>% \n",
    "unique()"
   ]
  },
  {
   "cell_type": "code",
   "execution_count": 415,
   "metadata": {},
   "outputs": [],
   "source": [
    "write.csv(letters, \n",
    "          \"20230423_AM_PhD-NaildohSubset.csv\", \n",
    "          row.names=FALSE)"
   ]
  }
 ],
 "metadata": {
  "kernelspec": {
   "display_name": "R",
   "language": "R",
   "name": "ir"
  },
  "language_info": {
   "codemirror_mode": "r",
   "file_extension": ".r",
   "mimetype": "text/x-r-source",
   "name": "R",
   "pygments_lexer": "r",
   "version": "4.1.0"
  }
 },
 "nbformat": 4,
 "nbformat_minor": 2
}
