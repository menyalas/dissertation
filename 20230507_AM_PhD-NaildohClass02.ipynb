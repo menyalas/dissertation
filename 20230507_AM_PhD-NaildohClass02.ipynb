{
 "cells": [
  {
   "cell_type": "markdown",
   "metadata": {},
   "source": [
    "# NAILDOH: Social Class Part 2"
   ]
  },
  {
   "cell_type": "markdown",
   "metadata": {},
   "source": [
    "## Resources"
   ]
  },
  {
   "cell_type": "markdown",
   "metadata": {},
   "source": [
    "The is the sixth notebook in the series used to prepare and analyze the NAILDOH collection."
   ]
  },
  {
   "cell_type": "code",
   "execution_count": 101,
   "metadata": {},
   "outputs": [],
   "source": [
    "# Libraries\n",
    "library(tidyverse) # for data manipulation"
   ]
  },
  {
   "cell_type": "code",
   "execution_count": 102,
   "metadata": {},
   "outputs": [],
   "source": [
    "# Functions\n",
    "factorize <- function(df){ # Create a function\n",
    "  for(i in which(sapply(df, class) == \"character\")) # that looks for variables with the character class \n",
    "      df[[i]] = as.factor(df[[i]]) # and converts them to factor (i.e., categorical) class\n",
    "  return(df)\n",
    "}\n",
    "\n",
    "unfactorize <- function(df){ # Create a function\n",
    "  for(i in which(sapply(df, class) == \"factor\")) # that looks for variables with the character class \n",
    "      df[[i]] = as.character(df[[i]]) # and converts them to factor (i.e., categorical) class\n",
    "  return(df)\n",
    "}"
   ]
  },
  {
   "cell_type": "code",
   "execution_count": 103,
   "metadata": {},
   "outputs": [
    {
     "data": {
      "text/html": [
       "<style>\n",
       ".list-inline {list-style: none; margin:0; padding: 0}\n",
       ".list-inline>li {display: inline-block}\n",
       ".list-inline>li:not(:last-child)::after {content: \"\\00b7\"; padding: 0 .5ex}\n",
       "</style>\n",
       "<ol class=list-inline><li>'docid'</li><li>'sourcetitle'</li><li>'docyear'</li><li>'docmonth'</li><li>'docday'</li><li>'authorLocation'</li><li>'docauthorid'</li><li>'docauthorname'</li><li>'authorgender'</li><li>'agewriting'</li><li>'birthyear'</li><li>'deathyear'</li><li>'religion'</li><li>'cultural_heritage'</li><li>'north_american_occupation'</li><li>'native_occupation'</li><li>'marriagestatus'</li><li>'maternalstatus'</li><li>'nationalOrigin'</li><li>'britishEmpire_EU'</li><li>'translated'</li><li>'publicLetter'</li><li>'religionNew'</li><li>'relMin'</li><li>'occupation'</li></ol>\n"
      ],
      "text/latex": [
       "\\begin{enumerate*}\n",
       "\\item 'docid'\n",
       "\\item 'sourcetitle'\n",
       "\\item 'docyear'\n",
       "\\item 'docmonth'\n",
       "\\item 'docday'\n",
       "\\item 'authorLocation'\n",
       "\\item 'docauthorid'\n",
       "\\item 'docauthorname'\n",
       "\\item 'authorgender'\n",
       "\\item 'agewriting'\n",
       "\\item 'birthyear'\n",
       "\\item 'deathyear'\n",
       "\\item 'religion'\n",
       "\\item 'cultural\\_heritage'\n",
       "\\item 'north\\_american\\_occupation'\n",
       "\\item 'native\\_occupation'\n",
       "\\item 'marriagestatus'\n",
       "\\item 'maternalstatus'\n",
       "\\item 'nationalOrigin'\n",
       "\\item 'britishEmpire\\_EU'\n",
       "\\item 'translated'\n",
       "\\item 'publicLetter'\n",
       "\\item 'religionNew'\n",
       "\\item 'relMin'\n",
       "\\item 'occupation'\n",
       "\\end{enumerate*}\n"
      ],
      "text/markdown": [
       "1. 'docid'\n",
       "2. 'sourcetitle'\n",
       "3. 'docyear'\n",
       "4. 'docmonth'\n",
       "5. 'docday'\n",
       "6. 'authorLocation'\n",
       "7. 'docauthorid'\n",
       "8. 'docauthorname'\n",
       "9. 'authorgender'\n",
       "10. 'agewriting'\n",
       "11. 'birthyear'\n",
       "12. 'deathyear'\n",
       "13. 'religion'\n",
       "14. 'cultural_heritage'\n",
       "15. 'north_american_occupation'\n",
       "16. 'native_occupation'\n",
       "17. 'marriagestatus'\n",
       "18. 'maternalstatus'\n",
       "19. 'nationalOrigin'\n",
       "20. 'britishEmpire_EU'\n",
       "21. 'translated'\n",
       "22. 'publicLetter'\n",
       "23. 'religionNew'\n",
       "24. 'relMin'\n",
       "25. 'occupation'\n",
       "\n",
       "\n"
      ],
      "text/plain": [
       " [1] \"docid\"                     \"sourcetitle\"              \n",
       " [3] \"docyear\"                   \"docmonth\"                 \n",
       " [5] \"docday\"                    \"authorLocation\"           \n",
       " [7] \"docauthorid\"               \"docauthorname\"            \n",
       " [9] \"authorgender\"              \"agewriting\"               \n",
       "[11] \"birthyear\"                 \"deathyear\"                \n",
       "[13] \"religion\"                  \"cultural_heritage\"        \n",
       "[15] \"north_american_occupation\" \"native_occupation\"        \n",
       "[17] \"marriagestatus\"            \"maternalstatus\"           \n",
       "[19] \"nationalOrigin\"            \"britishEmpire_EU\"         \n",
       "[21] \"translated\"                \"publicLetter\"             \n",
       "[23] \"religionNew\"               \"relMin\"                   \n",
       "[25] \"occupation\"               "
      ]
     },
     "metadata": {},
     "output_type": "display_data"
    },
    {
     "data": {
      "text/html": [
       "<style>\n",
       ".list-inline {list-style: none; margin:0; padding: 0}\n",
       ".list-inline>li {display: inline-block}\n",
       ".list-inline>li:not(:last-child)::after {content: \"\\00b7\"; padding: 0 .5ex}\n",
       "</style>\n",
       "<ol class=list-inline><li>617</li><li>25</li></ol>\n"
      ],
      "text/latex": [
       "\\begin{enumerate*}\n",
       "\\item 617\n",
       "\\item 25\n",
       "\\end{enumerate*}\n"
      ],
      "text/markdown": [
       "1. 617\n",
       "2. 25\n",
       "\n",
       "\n"
      ],
      "text/plain": [
       "[1] 617  25"
      ]
     },
     "metadata": {},
     "output_type": "display_data"
    }
   ],
   "source": [
    "# Data\n",
    "letters <- factorize(read.csv(\"20230423_AM_PhD-NaildohSubset.csv\")) # Put csv into a dataframe called docData\n",
    "colnames(letters) # Get an overview of the dataframe\n",
    "dim(letters)"
   ]
  },
  {
   "cell_type": "markdown",
   "metadata": {},
   "source": [
    "### Back on the Occupation Track"
   ]
  },
  {
   "cell_type": "code",
   "execution_count": 104,
   "metadata": {},
   "outputs": [],
   "source": [
    "# Make a new variable called social class\n",
    "# Fill with the values from the occupation (combined) variable\n",
    "letters$socialClass <- letters$occupation"
   ]
  },
  {
   "cell_type": "code",
   "execution_count": 105,
   "metadata": {},
   "outputs": [
    {
     "data": {
      "text/html": [
       "<style>\n",
       ".list-inline {list-style: none; margin:0; padding: 0}\n",
       ".list-inline>li {display: inline-block}\n",
       ".list-inline>li:not(:last-child)::after {content: \"\\00b7\"; padding: 0 .5ex}\n",
       "</style>\n",
       "<ol class=list-inline><li>'Nun'</li><li>'Social worker'</li><li>'Teacher'</li><li>'Military wife'</li><li>'Writer'</li><li>NA</li><li>'Clergy'</li><li>'Farmer'</li><li>'Farmer\\'s wife'</li><li>'Miner'</li><li>'Homemaker'</li><li>'Merchant'</li><li>'Laborer'</li><li>'Businessman'</li><li>'Artist'</li><li>'Educator'</li><li>'Printer'</li><li>'Architect'</li><li>'Government appointee'</li><li>'Politician'</li><li>'Religious leader'</li><li>'Tradesman'</li><li>'Rancher'</li><li>'Government employee'</li><li>'Surveyor'</li><li>'Manufacturer'</li><li>'Urban planner'</li><li>'Missionary'</li><li>'Military personnel'</li><li>'Royal governor'</li></ol>\n"
      ],
      "text/latex": [
       "\\begin{enumerate*}\n",
       "\\item 'Nun'\n",
       "\\item 'Social worker'\n",
       "\\item 'Teacher'\n",
       "\\item 'Military wife'\n",
       "\\item 'Writer'\n",
       "\\item NA\n",
       "\\item 'Clergy'\n",
       "\\item 'Farmer'\n",
       "\\item 'Farmer\\textbackslash{}'s wife'\n",
       "\\item 'Miner'\n",
       "\\item 'Homemaker'\n",
       "\\item 'Merchant'\n",
       "\\item 'Laborer'\n",
       "\\item 'Businessman'\n",
       "\\item 'Artist'\n",
       "\\item 'Educator'\n",
       "\\item 'Printer'\n",
       "\\item 'Architect'\n",
       "\\item 'Government appointee'\n",
       "\\item 'Politician'\n",
       "\\item 'Religious leader'\n",
       "\\item 'Tradesman'\n",
       "\\item 'Rancher'\n",
       "\\item 'Government employee'\n",
       "\\item 'Surveyor'\n",
       "\\item 'Manufacturer'\n",
       "\\item 'Urban planner'\n",
       "\\item 'Missionary'\n",
       "\\item 'Military personnel'\n",
       "\\item 'Royal governor'\n",
       "\\end{enumerate*}\n"
      ],
      "text/markdown": [
       "1. 'Nun'\n",
       "2. 'Social worker'\n",
       "3. 'Teacher'\n",
       "4. 'Military wife'\n",
       "5. 'Writer'\n",
       "6. NA\n",
       "7. 'Clergy'\n",
       "8. 'Farmer'\n",
       "9. 'Farmer\\'s wife'\n",
       "10. 'Miner'\n",
       "11. 'Homemaker'\n",
       "12. 'Merchant'\n",
       "13. 'Laborer'\n",
       "14. 'Businessman'\n",
       "15. 'Artist'\n",
       "16. 'Educator'\n",
       "17. 'Printer'\n",
       "18. 'Architect'\n",
       "19. 'Government appointee'\n",
       "20. 'Politician'\n",
       "21. 'Religious leader'\n",
       "22. 'Tradesman'\n",
       "23. 'Rancher'\n",
       "24. 'Government employee'\n",
       "25. 'Surveyor'\n",
       "26. 'Manufacturer'\n",
       "27. 'Urban planner'\n",
       "28. 'Missionary'\n",
       "29. 'Military personnel'\n",
       "30. 'Royal governor'\n",
       "\n",
       "\n"
      ],
      "text/plain": [
       " [1] \"Nun\"                  \"Social worker\"        \"Teacher\"             \n",
       " [4] \"Military wife\"        \"Writer\"               NA                    \n",
       " [7] \"Clergy\"               \"Farmer\"               \"Farmer's wife\"       \n",
       "[10] \"Miner\"                \"Homemaker\"            \"Merchant\"            \n",
       "[13] \"Laborer\"              \"Businessman\"          \"Artist\"              \n",
       "[16] \"Educator\"             \"Printer\"              \"Architect\"           \n",
       "[19] \"Government appointee\" \"Politician\"           \"Religious leader\"    \n",
       "[22] \"Tradesman\"            \"Rancher\"              \"Government employee\" \n",
       "[25] \"Surveyor\"             \"Manufacturer\"         \"Urban planner\"       \n",
       "[28] \"Missionary\"           \"Military personnel\"   \"Royal governor\"      "
      ]
     },
     "metadata": {},
     "output_type": "display_data"
    }
   ],
   "source": [
    "# Get a list of unique job titles (note: some cells contain multiple titles)\n",
    "letters$socialClass %>%\n",
    "str_split(\"; \") %>% \n",
    "unlist() %>% \n",
    "unique() "
   ]
  },
  {
   "cell_type": "code",
   "execution_count": 106,
   "metadata": {},
   "outputs": [
    {
     "data": {
      "text/html": [
       "<style>\n",
       ".list-inline {list-style: none; margin:0; padding: 0}\n",
       ".list-inline>li {display: inline-block}\n",
       ".list-inline>li:not(:last-child)::after {content: \"\\00b7\"; padding: 0 .5ex}\n",
       "</style>\n",
       "<ol class=list-inline><li>Military wife; Writer</li><li>Farmer's wife</li></ol>\n",
       "\n",
       "<details>\n",
       "\t<summary style=display:list-item;cursor:pointer>\n",
       "\t\t<strong>Levels</strong>:\n",
       "\t</summary>\n",
       "\t<style>\n",
       "\t.list-inline {list-style: none; margin:0; padding: 0}\n",
       "\t.list-inline>li {display: inline-block}\n",
       "\t.list-inline>li:not(:last-child)::after {content: \"\\00b7\"; padding: 0 .5ex}\n",
       "\t</style>\n",
       "\t<ol class=list-inline><li>'Architect'</li><li>'Artist; Educator'</li><li>'Businessman'</li><li>'Businessman; Tradesman'</li><li>'Clergy'</li><li>'Clergy; Educator; Writer'</li><li>'Clergy; Farmer'</li><li>'Clergy; Missionary'</li><li>'Farmer'</li><li>'Farmer; Merchant; Laborer'</li><li>'Farmer; Tradesman'</li><li>'Farmer\\'s wife'</li><li>'Government appointee'</li><li>'Government appointee; Politician; Religious leader'</li><li>'Government employee'</li><li>'Homemaker'</li><li>'Laborer; Tradesman'</li><li>'Manufacturer'</li><li>'Military personnel; Royal governor'</li><li>'Military wife; Writer'</li><li>'Miner'</li><li>'Miner; Laborer; Rancher; Government employee'</li><li>'Nun; Social worker; Teacher'</li><li>'Surveyor'</li><li>'Teacher'</li><li>'Tradesman'</li><li>'Tradesman; Miner; Writer; Businessman'</li><li>'Urban planner'</li><li>'Writer'</li><li>'Writer; Printer'</li></ol>\n",
       "</details>"
      ],
      "text/latex": [
       "\\begin{enumerate*}\n",
       "\\item Military wife; Writer\n",
       "\\item Farmer's wife\n",
       "\\end{enumerate*}\n",
       "\n",
       "\\emph{Levels}: \\begin{enumerate*}\n",
       "\\item 'Architect'\n",
       "\\item 'Artist; Educator'\n",
       "\\item 'Businessman'\n",
       "\\item 'Businessman; Tradesman'\n",
       "\\item 'Clergy'\n",
       "\\item 'Clergy; Educator; Writer'\n",
       "\\item 'Clergy; Farmer'\n",
       "\\item 'Clergy; Missionary'\n",
       "\\item 'Farmer'\n",
       "\\item 'Farmer; Merchant; Laborer'\n",
       "\\item 'Farmer; Tradesman'\n",
       "\\item 'Farmer\\textbackslash{}'s wife'\n",
       "\\item 'Government appointee'\n",
       "\\item 'Government appointee; Politician; Religious leader'\n",
       "\\item 'Government employee'\n",
       "\\item 'Homemaker'\n",
       "\\item 'Laborer; Tradesman'\n",
       "\\item 'Manufacturer'\n",
       "\\item 'Military personnel; Royal governor'\n",
       "\\item 'Military wife; Writer'\n",
       "\\item 'Miner'\n",
       "\\item 'Miner; Laborer; Rancher; Government employee'\n",
       "\\item 'Nun; Social worker; Teacher'\n",
       "\\item 'Surveyor'\n",
       "\\item 'Teacher'\n",
       "\\item 'Tradesman'\n",
       "\\item 'Tradesman; Miner; Writer; Businessman'\n",
       "\\item 'Urban planner'\n",
       "\\item 'Writer'\n",
       "\\item 'Writer; Printer'\n",
       "\\end{enumerate*}\n"
      ],
      "text/markdown": [
       "1. Military wife; Writer\n",
       "2. Farmer's wife\n",
       "\n",
       "\n",
       "\n",
       "**Levels**: 1. 'Architect'\n",
       "2. 'Artist; Educator'\n",
       "3. 'Businessman'\n",
       "4. 'Businessman; Tradesman'\n",
       "5. 'Clergy'\n",
       "6. 'Clergy; Educator; Writer'\n",
       "7. 'Clergy; Farmer'\n",
       "8. 'Clergy; Missionary'\n",
       "9. 'Farmer'\n",
       "10. 'Farmer; Merchant; Laborer'\n",
       "11. 'Farmer; Tradesman'\n",
       "12. 'Farmer\\'s wife'\n",
       "13. 'Government appointee'\n",
       "14. 'Government appointee; Politician; Religious leader'\n",
       "15. 'Government employee'\n",
       "16. 'Homemaker'\n",
       "17. 'Laborer; Tradesman'\n",
       "18. 'Manufacturer'\n",
       "19. 'Military personnel; Royal governor'\n",
       "20. 'Military wife; Writer'\n",
       "21. 'Miner'\n",
       "22. 'Miner; Laborer; Rancher; Government employee'\n",
       "23. 'Nun; Social worker; Teacher'\n",
       "24. 'Surveyor'\n",
       "25. 'Teacher'\n",
       "26. 'Tradesman'\n",
       "27. 'Tradesman; Miner; Writer; Businessman'\n",
       "28. 'Urban planner'\n",
       "29. 'Writer'\n",
       "30. 'Writer; Printer'\n",
       "\n",
       "\n"
      ],
      "text/plain": [
       "[1] Military wife; Writer Farmer's wife        \n",
       "30 Levels: Architect Artist; Educator Businessman ... Writer; Printer"
      ]
     },
     "metadata": {},
     "output_type": "display_data"
    }
   ],
   "source": [
    "# To what value does the \"wife\" problem apply\n",
    "unique(letters$socialClass[which(grepl(\"wife\", letters$socialClass))])"
   ]
  },
  {
   "cell_type": "code",
   "execution_count": 107,
   "metadata": {},
   "outputs": [],
   "source": [
    "# Fix this to assign the husband's profession to the wife\n",
    "letters$socialClass  <-  str_remove_all(letters$socialClass, \"[:space:]wife\")\n",
    "letters$socialClass  <-  str_remove_all(letters$socialClass, \"\\'s\")"
   ]
  },
  {
   "cell_type": "code",
   "execution_count": 108,
   "metadata": {},
   "outputs": [
    {
     "data": {
      "text/html": [
       "<style>\n",
       ".list-inline {list-style: none; margin:0; padding: 0}\n",
       ".list-inline>li {display: inline-block}\n",
       ".list-inline>li:not(:last-child)::after {content: \"\\00b7\"; padding: 0 .5ex}\n",
       "</style>\n",
       "<ol class=list-inline><li>'Military wife; Writer'</li><li>'Farmer\\'s wife'</li></ol>\n"
      ],
      "text/latex": [
       "\\begin{enumerate*}\n",
       "\\item 'Military wife; Writer'\n",
       "\\item 'Farmer\\textbackslash{}'s wife'\n",
       "\\end{enumerate*}\n"
      ],
      "text/markdown": [
       "1. 'Military wife; Writer'\n",
       "2. 'Farmer\\'s wife'\n",
       "\n",
       "\n"
      ],
      "text/plain": [
       "[1] \"Military wife; Writer\" \"Farmer's wife\"        "
      ]
     },
     "metadata": {},
     "output_type": "display_data"
    },
    {
     "data": {
      "text/html": [
       "'Military; Writer'"
      ],
      "text/latex": [
       "'Military; Writer'"
      ],
      "text/markdown": [
       "'Military; Writer'"
      ],
      "text/plain": [
       "[1] \"Military; Writer\""
      ]
     },
     "metadata": {},
     "output_type": "display_data"
    }
   ],
   "source": [
    "# Check to make sure that north_american_occupation and socialClass contain the same values\n",
    "setdiff(letters$occupation, letters$socialClass) # items in occupation and not socialClass\n",
    "setdiff(letters$socialClass, letters$occupation) # items in socialClass and not occupation"
   ]
  },
  {
   "cell_type": "markdown",
   "metadata": {},
   "source": [
    "Farmer's wife resolves to Farmer, which appears in both lists, which is why it does not appear in line 2. "
   ]
  },
  {
   "cell_type": "code",
   "execution_count": 109,
   "metadata": {},
   "outputs": [
    {
     "name": "stdout",
     "output_type": "stream",
     "text": [
      " [1] \"Nun\"                  \"Social worker\"        \"Teacher\"             \n",
      " [4] \"Military\"             \"Writer\"               NA                    \n",
      " [7] \"Clergy\"               \"Farmer\"               \"Miner\"               \n",
      "[10] \"Homemaker\"            \"Merchant\"             \"Laborer\"             \n",
      "[13] \"Businessman\"          \"Artist\"               \"Educator\"            \n",
      "[16] \"Printer\"              \"Architect\"            \"Government appointee\"\n",
      "[19] \"Politician\"           \"Religious leader\"     \"Tradesman\"           \n",
      "[22] \"Rancher\"              \"Government employee\"  \"Surveyor\"            \n",
      "[25] \"Manufacturer\"         \"Urban planner\"        \"Missionary\"          \n",
      "[28] \"Military personnel\"   \"Royal governor\"      \n"
     ]
    }
   ],
   "source": [
    "# Put the list of unique job titles into a list (note: some cells contain multiple titles)\n",
    "Jobs  <- letters$socialClass %>%\n",
    "str_split(\"; \") %>% \n",
    "unlist() %>% \n",
    "unique() \n",
    "\n",
    "print(Jobs)"
   ]
  },
  {
   "cell_type": "code",
   "execution_count": 110,
   "metadata": {},
   "outputs": [
    {
     "data": {
      "text/html": [
       "<table class=\"dataframe\">\n",
       "<caption>A data.frame: 6 × 2</caption>\n",
       "<thead>\n",
       "\t<tr><th></th><th scope=col>docauthorname</th><th scope=col>socialClass</th></tr>\n",
       "\t<tr><th></th><th scope=col>&lt;fct&gt;</th><th scope=col>&lt;chr&gt;</th></tr>\n",
       "</thead>\n",
       "<tbody>\n",
       "\t<tr><th scope=row>1</th><td>Hudson, Henry James, 1822-                          </td><td>Government appointee; Politician; Religious leader</td></tr>\n",
       "\t<tr><th scope=row>2</th><td>Robb, Alexander, 1839-                              </td><td>Miner; Laborer; Rancher; Government employee      </td></tr>\n",
       "\t<tr><th scope=row>14</th><td>Buchanan, J. C., fl. 1833                           </td><td>Government employee                               </td></tr>\n",
       "\t<tr><th scope=row>15</th><td>Buchanan, Alexander Carlisle, 1786-1840             </td><td>Government appointee                              </td></tr>\n",
       "\t<tr><th scope=row>16</th><td>Anonymous Government Agent in Upper Canada, fl. 1833</td><td>Government employee                               </td></tr>\n",
       "\t<tr><th scope=row>17</th><td>Aylmer, Matthew, Lord, 1775-1850                    </td><td>Military personnel; Royal governor                </td></tr>\n",
       "</tbody>\n",
       "</table>\n"
      ],
      "text/latex": [
       "A data.frame: 6 × 2\n",
       "\\begin{tabular}{r|ll}\n",
       "  & docauthorname & socialClass\\\\\n",
       "  & <fct> & <chr>\\\\\n",
       "\\hline\n",
       "\t1 & Hudson, Henry James, 1822-                           & Government appointee; Politician; Religious leader\\\\\n",
       "\t2 & Robb, Alexander, 1839-                               & Miner; Laborer; Rancher; Government employee      \\\\\n",
       "\t14 & Buchanan, J. C., fl. 1833                            & Government employee                               \\\\\n",
       "\t15 & Buchanan, Alexander Carlisle, 1786-1840              & Government appointee                              \\\\\n",
       "\t16 & Anonymous Government Agent in Upper Canada, fl. 1833 & Government employee                               \\\\\n",
       "\t17 & Aylmer, Matthew, Lord, 1775-1850                     & Military personnel; Royal governor                \\\\\n",
       "\\end{tabular}\n"
      ],
      "text/markdown": [
       "\n",
       "A data.frame: 6 × 2\n",
       "\n",
       "| <!--/--> | docauthorname &lt;fct&gt; | socialClass &lt;chr&gt; |\n",
       "|---|---|---|\n",
       "| 1 | Hudson, Henry James, 1822-                           | Government appointee; Politician; Religious leader |\n",
       "| 2 | Robb, Alexander, 1839-                               | Miner; Laborer; Rancher; Government employee       |\n",
       "| 14 | Buchanan, J. C., fl. 1833                            | Government employee                                |\n",
       "| 15 | Buchanan, Alexander Carlisle, 1786-1840              | Government appointee                               |\n",
       "| 16 | Anonymous Government Agent in Upper Canada, fl. 1833 | Government employee                                |\n",
       "| 17 | Aylmer, Matthew, Lord, 1775-1850                     | Military personnel; Royal governor                 |\n",
       "\n"
      ],
      "text/plain": [
       "   docauthorname                                       \n",
       "1  Hudson, Henry James, 1822-                          \n",
       "2  Robb, Alexander, 1839-                              \n",
       "14 Buchanan, J. C., fl. 1833                           \n",
       "15 Buchanan, Alexander Carlisle, 1786-1840             \n",
       "16 Anonymous Government Agent in Upper Canada, fl. 1833\n",
       "17 Aylmer, Matthew, Lord, 1775-1850                    \n",
       "   socialClass                                       \n",
       "1  Government appointee; Politician; Religious leader\n",
       "2  Miner; Laborer; Rancher; Government employee      \n",
       "14 Government employee                               \n",
       "15 Government appointee                              \n",
       "16 Government employee                               \n",
       "17 Military personnel; Royal governor                "
      ]
     },
     "metadata": {},
     "output_type": "display_data"
    }
   ],
   "source": [
    "# Do I want to combine government jobs\n",
    "# Let's see how they breakdown\n",
    "vals <- c(\"Government appointee\", \"Government employee\", \"Royal governor\")\n",
    "\n",
    "letters %>% \n",
    "filter(grepl(paste(vals, collapse='|'), socialClass)) %>% \n",
    "select(docauthorname, socialClass) %>% \n",
    "unique()"
   ]
  },
  {
   "cell_type": "markdown",
   "metadata": {},
   "source": [
    "Appointee, employee and governor represent different statures. For now, let's keep them."
   ]
  },
  {
   "cell_type": "code",
   "execution_count": 111,
   "metadata": {},
   "outputs": [
    {
     "data": {
      "text/html": [
       "<table class=\"dataframe\">\n",
       "<caption>A data.frame: 4 × 2</caption>\n",
       "<thead>\n",
       "\t<tr><th></th><th scope=col>docauthorname</th><th scope=col>socialClass</th></tr>\n",
       "\t<tr><th></th><th scope=col>&lt;fct&gt;</th><th scope=col>&lt;chr&gt;</th></tr>\n",
       "</thead>\n",
       "<tbody>\n",
       "\t<tr><th scope=row>1</th><td>Segale, Sister Blandina, 1850-1941</td><td>Nun; Social worker; Teacher</td></tr>\n",
       "\t<tr><th scope=row>56</th><td>Harris, Robert, 1849-1919         </td><td>Artist; Educator           </td></tr>\n",
       "\t<tr><th scope=row>66</th><td>Bishop, Robert Hamilton, 1777-1855</td><td>Clergy; Educator; Writer   </td></tr>\n",
       "\t<tr><th scope=row>67</th><td>Menzies, George, fl. 1834         </td><td>Teacher                    </td></tr>\n",
       "</tbody>\n",
       "</table>\n"
      ],
      "text/latex": [
       "A data.frame: 4 × 2\n",
       "\\begin{tabular}{r|ll}\n",
       "  & docauthorname & socialClass\\\\\n",
       "  & <fct> & <chr>\\\\\n",
       "\\hline\n",
       "\t1 & Segale, Sister Blandina, 1850-1941 & Nun; Social worker; Teacher\\\\\n",
       "\t56 & Harris, Robert, 1849-1919          & Artist; Educator           \\\\\n",
       "\t66 & Bishop, Robert Hamilton, 1777-1855 & Clergy; Educator; Writer   \\\\\n",
       "\t67 & Menzies, George, fl. 1834          & Teacher                    \\\\\n",
       "\\end{tabular}\n"
      ],
      "text/markdown": [
       "\n",
       "A data.frame: 4 × 2\n",
       "\n",
       "| <!--/--> | docauthorname &lt;fct&gt; | socialClass &lt;chr&gt; |\n",
       "|---|---|---|\n",
       "| 1 | Segale, Sister Blandina, 1850-1941 | Nun; Social worker; Teacher |\n",
       "| 56 | Harris, Robert, 1849-1919          | Artist; Educator            |\n",
       "| 66 | Bishop, Robert Hamilton, 1777-1855 | Clergy; Educator; Writer    |\n",
       "| 67 | Menzies, George, fl. 1834          | Teacher                     |\n",
       "\n"
      ],
      "text/plain": [
       "   docauthorname                      socialClass                \n",
       "1  Segale, Sister Blandina, 1850-1941 Nun; Social worker; Teacher\n",
       "56 Harris, Robert, 1849-1919          Artist; Educator           \n",
       "66 Bishop, Robert Hamilton, 1777-1855 Clergy; Educator; Writer   \n",
       "67 Menzies, George, fl. 1834          Teacher                    "
      ]
     },
     "metadata": {},
     "output_type": "display_data"
    }
   ],
   "source": [
    "# Do I want to combine education / teacher jobs?\n",
    "# Let's see how they breakdown\n",
    "# https://en.wikipedia.org/wiki/Robert_Hamilton_Bishop\n",
    "# http://www.biographi.ca/en/bio/harris_robert_14E.html\n",
    "# https://en.wikipedia.org/wiki/Sister_Blandina\n",
    "# http://www.biographi.ca/en/bio/menzies_george_7E.html\n",
    "\n",
    "vals <- c(\"Educator\", \"Teacher\")\n",
    "\n",
    "letters %>% \n",
    "filter(grepl(paste(vals, collapse='|'), socialClass)) %>% \n",
    "select(docauthorname, socialClass) %>% \n",
    "unique()"
   ]
  },
  {
   "cell_type": "markdown",
   "metadata": {},
   "source": [
    "Bishop was a university professor. Segale appears to have taught in local schools. Harris taught art classes and was a founding member of the Canadian Academy of Arts. Menzies may have been a teacher in Scotland before emigrating. It seems that educator refers to higher stature positions whereas teacher refers to lower stature (though not necessarily less influential) positions. I will keep these for now."
   ]
  },
  {
   "cell_type": "code",
   "execution_count": 112,
   "metadata": {},
   "outputs": [
    {
     "data": {
      "text/html": [
       "<table class=\"dataframe\">\n",
       "<caption>A data.frame: 2 × 2</caption>\n",
       "<thead>\n",
       "\t<tr><th></th><th scope=col>docauthorname</th><th scope=col>socialClass</th></tr>\n",
       "\t<tr><th></th><th scope=col>&lt;fct&gt;</th><th scope=col>&lt;chr&gt;</th></tr>\n",
       "</thead>\n",
       "<tbody>\n",
       "\t<tr><th scope=row>1</th><td>Moodie, Susannah Strickland, 1803-1885</td><td>Military; Writer                  </td></tr>\n",
       "\t<tr><th scope=row>135</th><td>Aylmer, Matthew, Lord, 1775-1850      </td><td>Military personnel; Royal governor</td></tr>\n",
       "</tbody>\n",
       "</table>\n"
      ],
      "text/latex": [
       "A data.frame: 2 × 2\n",
       "\\begin{tabular}{r|ll}\n",
       "  & docauthorname & socialClass\\\\\n",
       "  & <fct> & <chr>\\\\\n",
       "\\hline\n",
       "\t1 & Moodie, Susannah Strickland, 1803-1885 & Military; Writer                  \\\\\n",
       "\t135 & Aylmer, Matthew, Lord, 1775-1850       & Military personnel; Royal governor\\\\\n",
       "\\end{tabular}\n"
      ],
      "text/markdown": [
       "\n",
       "A data.frame: 2 × 2\n",
       "\n",
       "| <!--/--> | docauthorname &lt;fct&gt; | socialClass &lt;chr&gt; |\n",
       "|---|---|---|\n",
       "| 1 | Moodie, Susannah Strickland, 1803-1885 | Military; Writer                   |\n",
       "| 135 | Aylmer, Matthew, Lord, 1775-1850       | Military personnel; Royal governor |\n",
       "\n"
      ],
      "text/plain": [
       "    docauthorname                          socialClass                       \n",
       "1   Moodie, Susannah Strickland, 1803-1885 Military; Writer                  \n",
       "135 Aylmer, Matthew, Lord, 1775-1850       Military personnel; Royal governor"
      ]
     },
     "metadata": {},
     "output_type": "display_data"
    }
   ],
   "source": [
    "# Do I want to combine Military / Military personnel jobs?\n",
    "# Let's see how they breakdown\n",
    "letters %>% \n",
    "filter(grepl(\"Military\", socialClass)) %>% \n",
    "select(docauthorname, socialClass) %>% \n",
    "unique()"
   ]
  },
  {
   "cell_type": "markdown",
   "metadata": {},
   "source": [
    "Moodie's inherits the Military occupation from her husband. Her occupation will be changed to \"Military personnel\" to match Aylmer's."
   ]
  },
  {
   "cell_type": "code",
   "execution_count": 113,
   "metadata": {},
   "outputs": [],
   "source": [
    "letters$socialClass[letters$docauthorname==\"Moodie, Susannah Strickland, 1803-1885\"] <- \"Military personnel; Writer\""
   ]
  },
  {
   "cell_type": "code",
   "execution_count": 114,
   "metadata": {},
   "outputs": [
    {
     "name": "stdout",
     "output_type": "stream",
     "text": [
      " [1] \"Nun\"                  \"Social worker\"        \"Teacher\"             \n",
      " [4] \"Military personnel\"   \"Writer\"               NA                    \n",
      " [7] \"Clergy\"               \"Farmer\"               \"Miner\"               \n",
      "[10] \"Homemaker\"            \"Merchant\"             \"Laborer\"             \n",
      "[13] \"Businessman\"          \"Artist\"               \"Educator\"            \n",
      "[16] \"Printer\"              \"Architect\"            \"Government appointee\"\n",
      "[19] \"Politician\"           \"Religious leader\"     \"Tradesman\"           \n",
      "[22] \"Rancher\"              \"Government employee\"  \"Surveyor\"            \n",
      "[25] \"Manufacturer\"         \"Urban planner\"        \"Missionary\"          \n",
      "[28] \"Royal governor\"      \n"
     ]
    }
   ],
   "source": [
    "# Put the list of unique job titles into a list (note: some cells contain multiple titles)\n",
    "Jobs  <- letters$socialClass %>%\n",
    "str_split(\"; \") %>% \n",
    "unlist() %>% \n",
    "unique() \n",
    "\n",
    "print(Jobs)"
   ]
  },
  {
   "cell_type": "code",
   "execution_count": 115,
   "metadata": {},
   "outputs": [
    {
     "data": {
      "text/html": [
       "<table class=\"dataframe\">\n",
       "<caption>A data.frame: 6 × 1</caption>\n",
       "<thead>\n",
       "\t<tr><th></th><th scope=col>Jobs</th></tr>\n",
       "\t<tr><th></th><th scope=col>&lt;chr&gt;</th></tr>\n",
       "</thead>\n",
       "<tbody>\n",
       "\t<tr><th scope=row>1</th><td>Nun               </td></tr>\n",
       "\t<tr><th scope=row>2</th><td>Social worker     </td></tr>\n",
       "\t<tr><th scope=row>3</th><td>Teacher           </td></tr>\n",
       "\t<tr><th scope=row>4</th><td>Military personnel</td></tr>\n",
       "\t<tr><th scope=row>5</th><td>Writer            </td></tr>\n",
       "\t<tr><th scope=row>6</th><td>NA                </td></tr>\n",
       "</tbody>\n",
       "</table>\n"
      ],
      "text/latex": [
       "A data.frame: 6 × 1\n",
       "\\begin{tabular}{r|l}\n",
       "  & Jobs\\\\\n",
       "  & <chr>\\\\\n",
       "\\hline\n",
       "\t1 & Nun               \\\\\n",
       "\t2 & Social worker     \\\\\n",
       "\t3 & Teacher           \\\\\n",
       "\t4 & Military personnel\\\\\n",
       "\t5 & Writer            \\\\\n",
       "\t6 & NA                \\\\\n",
       "\\end{tabular}\n"
      ],
      "text/markdown": [
       "\n",
       "A data.frame: 6 × 1\n",
       "\n",
       "| <!--/--> | Jobs &lt;chr&gt; |\n",
       "|---|---|\n",
       "| 1 | Nun                |\n",
       "| 2 | Social worker      |\n",
       "| 3 | Teacher            |\n",
       "| 4 | Military personnel |\n",
       "| 5 | Writer             |\n",
       "| 6 | NA                 |\n",
       "\n"
      ],
      "text/plain": [
       "  Jobs              \n",
       "1 Nun               \n",
       "2 Social worker     \n",
       "3 Teacher           \n",
       "4 Military personnel\n",
       "5 Writer            \n",
       "6 NA                "
      ]
     },
     "metadata": {},
     "output_type": "display_data"
    }
   ],
   "source": [
    "# Turn this list into a dataframe.\n",
    "jobClass <- data.frame(Jobs)\n",
    "head(jobClass)"
   ]
  },
  {
   "cell_type": "markdown",
   "metadata": {},
   "source": [
    "### Setting up the Occupational Variables"
   ]
  },
  {
   "cell_type": "code",
   "execution_count": 116,
   "metadata": {},
   "outputs": [
    {
     "name": "stdout",
     "output_type": "stream",
     "text": [
      "Rows: 28\n",
      "Columns: 2\n",
      "$ Jobs     \u001b[3m\u001b[90m<chr>\u001b[39m\u001b[23m \"Nun\", \"Social worker\", \"Teacher\", \"Military personnel\", \"Wri…\n",
      "$ Erickson \u001b[3m\u001b[90m<lgl>\u001b[39m\u001b[23m NA, NA, NA, NA, NA, NA, NA, NA, NA, NA, NA, NA, NA, NA, NA, N…\n"
     ]
    }
   ],
   "source": [
    "# Add a column for the Step 1 (Erickson) classification.\n",
    "jobClass['Erickson']  <- NA\n",
    "glimpse(jobClass)"
   ]
  },
  {
   "cell_type": "code",
   "execution_count": 117,
   "metadata": {},
   "outputs": [],
   "source": [
    "# Make Erickson categories\n",
    "# Agricultural (A), Industrial (I), Commercial-Clerical-Professional (CCP)\n",
    "\n",
    "A  <- c(\"Farmer\",\n",
    "        \"Rancher\" \n",
    "        #\"Plantation manager\"\n",
    "        )\n",
    "\n",
    "I  <-  c(\"Miner\",\n",
    "         \"Manufacturer\"\n",
    "         #\"Factory worker\",\n",
    "         #\"Transportation worker\",\n",
    "         #\"Explorer\" # Note: This is a prospector so closest to mining in the Erickson classification system.\n",
    "               ) \n",
    "\n",
    "CCP <- c(#\"Jeweler\",\n",
    "                \"Tradesman\", \n",
    "                #\"Retail worker\", \n",
    "                \"Businessman\",\n",
    "         #\"Businesswoman\",\n",
    "                #\"Tailor\", \n",
    "                \"Merchant\", \n",
    "                #\"Banker\",\n",
    "                #\"Physician\", \n",
    "                   \"Architect\", \n",
    "                   #\"Engineer\", \n",
    "                   \"Artist\", \n",
    "                   \"Writer\", \n",
    "                   \"Surveyor\",\n",
    "                   #\"Secretary\",\n",
    "                   #\"Accountant\",\n",
    "                   #\"Editor\", \n",
    "                   #\"Nurse\",\n",
    "         \"Clergy\", \n",
    "         #\"Barber\",\n",
    "            \"Missionary\",\n",
    "            \"Educator\", \n",
    "            \"Religious leader\",\n",
    "            \"Social worker\", \n",
    "            #\"Religious worker\",\n",
    "            \"Military personnel\", \n",
    "            \"Politician\",\n",
    "         \"Government employee\",\n",
    "            \"Government appointee\",\n",
    "            \"Royal governor\", \n",
    "            #\"Diplomat\",\n",
    "         \"Nun\", \n",
    "            \"Teacher\",\n",
    "    \"Printer\",\n",
    "    \"Urban planner\"\n",
    "         #\"Servant\", \n",
    "              #\"Cook\", \n",
    "             #\"Housekeeper\",\n",
    "        #\"Law enforcement\"\n",
    ")\n",
    "\n",
    "Unknown  <- c(\"Homemaker\",\n",
    "            \"Laborer\"# it's not clear what kind of labour\n",
    "             #\"Student\"\n",
    "              )"
   ]
  },
  {
   "cell_type": "code",
   "execution_count": 118,
   "metadata": {},
   "outputs": [
    {
     "data": {
      "text/html": [
       "<table class=\"dataframe\">\n",
       "<caption>A data.frame: 28 × 2</caption>\n",
       "<thead>\n",
       "\t<tr><th scope=col>Jobs</th><th scope=col>Erickson</th></tr>\n",
       "\t<tr><th scope=col>&lt;chr&gt;</th><th scope=col>&lt;chr&gt;</th></tr>\n",
       "</thead>\n",
       "<tbody>\n",
       "\t<tr><td>Nun                 </td><td>CCP    </td></tr>\n",
       "\t<tr><td>Social worker       </td><td>CCP    </td></tr>\n",
       "\t<tr><td>Teacher             </td><td>CCP    </td></tr>\n",
       "\t<tr><td>Military personnel  </td><td>CCP    </td></tr>\n",
       "\t<tr><td>Writer              </td><td>CCP    </td></tr>\n",
       "\t<tr><td>NA                  </td><td>NA     </td></tr>\n",
       "\t<tr><td>Clergy              </td><td>CCP    </td></tr>\n",
       "\t<tr><td>Farmer              </td><td>A      </td></tr>\n",
       "\t<tr><td>Miner               </td><td>I      </td></tr>\n",
       "\t<tr><td>Homemaker           </td><td>Unknown</td></tr>\n",
       "\t<tr><td>Merchant            </td><td>CCP    </td></tr>\n",
       "\t<tr><td>Laborer             </td><td>Unknown</td></tr>\n",
       "\t<tr><td>Businessman         </td><td>CCP    </td></tr>\n",
       "\t<tr><td>Artist              </td><td>CCP    </td></tr>\n",
       "\t<tr><td>Educator            </td><td>CCP    </td></tr>\n",
       "\t<tr><td>Printer             </td><td>CCP    </td></tr>\n",
       "\t<tr><td>Architect           </td><td>CCP    </td></tr>\n",
       "\t<tr><td>Government appointee</td><td>CCP    </td></tr>\n",
       "\t<tr><td>Politician          </td><td>CCP    </td></tr>\n",
       "\t<tr><td>Religious leader    </td><td>CCP    </td></tr>\n",
       "\t<tr><td>Tradesman           </td><td>CCP    </td></tr>\n",
       "\t<tr><td>Rancher             </td><td>A      </td></tr>\n",
       "\t<tr><td>Government employee </td><td>CCP    </td></tr>\n",
       "\t<tr><td>Surveyor            </td><td>CCP    </td></tr>\n",
       "\t<tr><td>Manufacturer        </td><td>I      </td></tr>\n",
       "\t<tr><td>Urban planner       </td><td>CCP    </td></tr>\n",
       "\t<tr><td>Missionary          </td><td>CCP    </td></tr>\n",
       "\t<tr><td>Royal governor      </td><td>CCP    </td></tr>\n",
       "</tbody>\n",
       "</table>\n"
      ],
      "text/latex": [
       "A data.frame: 28 × 2\n",
       "\\begin{tabular}{ll}\n",
       " Jobs & Erickson\\\\\n",
       " <chr> & <chr>\\\\\n",
       "\\hline\n",
       "\t Nun                  & CCP    \\\\\n",
       "\t Social worker        & CCP    \\\\\n",
       "\t Teacher              & CCP    \\\\\n",
       "\t Military personnel   & CCP    \\\\\n",
       "\t Writer               & CCP    \\\\\n",
       "\t NA                   & NA     \\\\\n",
       "\t Clergy               & CCP    \\\\\n",
       "\t Farmer               & A      \\\\\n",
       "\t Miner                & I      \\\\\n",
       "\t Homemaker            & Unknown\\\\\n",
       "\t Merchant             & CCP    \\\\\n",
       "\t Laborer              & Unknown\\\\\n",
       "\t Businessman          & CCP    \\\\\n",
       "\t Artist               & CCP    \\\\\n",
       "\t Educator             & CCP    \\\\\n",
       "\t Printer              & CCP    \\\\\n",
       "\t Architect            & CCP    \\\\\n",
       "\t Government appointee & CCP    \\\\\n",
       "\t Politician           & CCP    \\\\\n",
       "\t Religious leader     & CCP    \\\\\n",
       "\t Tradesman            & CCP    \\\\\n",
       "\t Rancher              & A      \\\\\n",
       "\t Government employee  & CCP    \\\\\n",
       "\t Surveyor             & CCP    \\\\\n",
       "\t Manufacturer         & I      \\\\\n",
       "\t Urban planner        & CCP    \\\\\n",
       "\t Missionary           & CCP    \\\\\n",
       "\t Royal governor       & CCP    \\\\\n",
       "\\end{tabular}\n"
      ],
      "text/markdown": [
       "\n",
       "A data.frame: 28 × 2\n",
       "\n",
       "| Jobs &lt;chr&gt; | Erickson &lt;chr&gt; |\n",
       "|---|---|\n",
       "| Nun                  | CCP     |\n",
       "| Social worker        | CCP     |\n",
       "| Teacher              | CCP     |\n",
       "| Military personnel   | CCP     |\n",
       "| Writer               | CCP     |\n",
       "| NA                   | NA      |\n",
       "| Clergy               | CCP     |\n",
       "| Farmer               | A       |\n",
       "| Miner                | I       |\n",
       "| Homemaker            | Unknown |\n",
       "| Merchant             | CCP     |\n",
       "| Laborer              | Unknown |\n",
       "| Businessman          | CCP     |\n",
       "| Artist               | CCP     |\n",
       "| Educator             | CCP     |\n",
       "| Printer              | CCP     |\n",
       "| Architect            | CCP     |\n",
       "| Government appointee | CCP     |\n",
       "| Politician           | CCP     |\n",
       "| Religious leader     | CCP     |\n",
       "| Tradesman            | CCP     |\n",
       "| Rancher              | A       |\n",
       "| Government employee  | CCP     |\n",
       "| Surveyor             | CCP     |\n",
       "| Manufacturer         | I       |\n",
       "| Urban planner        | CCP     |\n",
       "| Missionary           | CCP     |\n",
       "| Royal governor       | CCP     |\n",
       "\n"
      ],
      "text/plain": [
       "   Jobs                 Erickson\n",
       "1  Nun                  CCP     \n",
       "2  Social worker        CCP     \n",
       "3  Teacher              CCP     \n",
       "4  Military personnel   CCP     \n",
       "5  Writer               CCP     \n",
       "6  NA                   NA      \n",
       "7  Clergy               CCP     \n",
       "8  Farmer               A       \n",
       "9  Miner                I       \n",
       "10 Homemaker            Unknown \n",
       "11 Merchant             CCP     \n",
       "12 Laborer              Unknown \n",
       "13 Businessman          CCP     \n",
       "14 Artist               CCP     \n",
       "15 Educator             CCP     \n",
       "16 Printer              CCP     \n",
       "17 Architect            CCP     \n",
       "18 Government appointee CCP     \n",
       "19 Politician           CCP     \n",
       "20 Religious leader     CCP     \n",
       "21 Tradesman            CCP     \n",
       "22 Rancher              A       \n",
       "23 Government employee  CCP     \n",
       "24 Surveyor             CCP     \n",
       "25 Manufacturer         I       \n",
       "26 Urban planner        CCP     \n",
       "27 Missionary           CCP     \n",
       "28 Royal governor       CCP     "
      ]
     },
     "metadata": {},
     "output_type": "display_data"
    }
   ],
   "source": [
    "# Map jobs to occupation categories.\n",
    "# Agricultural\n",
    "rows = which(grepl(paste(A,collapse=\"|\"), jobClass$Job)) # Get rows that meet condition\n",
    "jobClass$Erickson[rows] <- \"A\" # Recode data\n",
    "\n",
    "# Get Rows where job is in Industry\n",
    "rows = which(grepl(paste(I,collapse=\"|\"), jobClass$Job))\n",
    "jobClass$Erickson[rows] <- \"I\"\n",
    "\n",
    "# Commercial\n",
    "rows = which(grepl(paste(CCP,collapse=\"|\"), jobClass$Job))\n",
    "jobClass$Erickson[rows] <- \"CCP\"\n",
    "\n",
    "# Professional\n",
    "rows = which(grepl(paste(Unknown,collapse=\"|\"), jobClass$Job))\n",
    "jobClass$Erickson[rows] <- \"Unknown\"\n",
    "\n",
    "# View\n",
    "jobClass"
   ]
  },
  {
   "cell_type": "code",
   "execution_count": 119,
   "metadata": {},
   "outputs": [
    {
     "data": {
      "text/html": [
       "<table class=\"dataframe\">\n",
       "<caption>A data.frame: 4 × 2</caption>\n",
       "<thead>\n",
       "\t<tr><th></th><th scope=col>docauthorname</th><th scope=col>socialClass</th></tr>\n",
       "\t<tr><th></th><th scope=col>&lt;fct&gt;</th><th scope=col>&lt;chr&gt;</th></tr>\n",
       "</thead>\n",
       "<tbody>\n",
       "\t<tr><th scope=row>1</th><td>Harris, Critchlow, 1813-1899    </td><td>Farmer; Merchant; Laborer                   </td></tr>\n",
       "\t<tr><th scope=row>2</th><td>Harris, Sarah Stretch, 1818-1897</td><td>Farmer; Merchant; Laborer                   </td></tr>\n",
       "\t<tr><th scope=row>202</th><td>Robb, Alexander, 1839-          </td><td>Miner; Laborer; Rancher; Government employee</td></tr>\n",
       "\t<tr><th scope=row>214</th><td>Singer, William, fl. 1831       </td><td>Laborer; Tradesman                          </td></tr>\n",
       "</tbody>\n",
       "</table>\n"
      ],
      "text/latex": [
       "A data.frame: 4 × 2\n",
       "\\begin{tabular}{r|ll}\n",
       "  & docauthorname & socialClass\\\\\n",
       "  & <fct> & <chr>\\\\\n",
       "\\hline\n",
       "\t1 & Harris, Critchlow, 1813-1899     & Farmer; Merchant; Laborer                   \\\\\n",
       "\t2 & Harris, Sarah Stretch, 1818-1897 & Farmer; Merchant; Laborer                   \\\\\n",
       "\t202 & Robb, Alexander, 1839-           & Miner; Laborer; Rancher; Government employee\\\\\n",
       "\t214 & Singer, William, fl. 1831        & Laborer; Tradesman                          \\\\\n",
       "\\end{tabular}\n"
      ],
      "text/markdown": [
       "\n",
       "A data.frame: 4 × 2\n",
       "\n",
       "| <!--/--> | docauthorname &lt;fct&gt; | socialClass &lt;chr&gt; |\n",
       "|---|---|---|\n",
       "| 1 | Harris, Critchlow, 1813-1899     | Farmer; Merchant; Laborer                    |\n",
       "| 2 | Harris, Sarah Stretch, 1818-1897 | Farmer; Merchant; Laborer                    |\n",
       "| 202 | Robb, Alexander, 1839-           | Miner; Laborer; Rancher; Government employee |\n",
       "| 214 | Singer, William, fl. 1831        | Laborer; Tradesman                           |\n",
       "\n"
      ],
      "text/plain": [
       "    docauthorname                   \n",
       "1   Harris, Critchlow, 1813-1899    \n",
       "2   Harris, Sarah Stretch, 1818-1897\n",
       "202 Robb, Alexander, 1839-          \n",
       "214 Singer, William, fl. 1831       \n",
       "    socialClass                                 \n",
       "1   Farmer; Merchant; Laborer                   \n",
       "2   Farmer; Merchant; Laborer                   \n",
       "202 Miner; Laborer; Rancher; Government employee\n",
       "214 Laborer; Tradesman                          "
      ]
     },
     "metadata": {},
     "output_type": "display_data"
    }
   ],
   "source": [
    "# Who are the laborers?\n",
    "letters %>% \n",
    "filter(grepl(\"Laborer\", socialClass)) %>% \n",
    "select(docauthorname, socialClass) %>% \n",
    "unique()"
   ]
  },
  {
   "cell_type": "markdown",
   "metadata": {},
   "source": [
    "Critchlow and Sarah Stretch Harris\n",
    "\n",
    "\"During October of 1860, after finally having given up on farming, Critchlow attempted to open a store. After a hard, slow go at it, he gave that up as well, almost exactly one year later in October of 1861 (search \"store\"). After this, he swallowed his pride and forewent his traditional attachment to land and proprietorship and accepted work on a wage. Critchlow began working first for their family friend, Mr. Haszard, and then for the Davies brothers. His tasks included measuring, transporting, and purchasing goods, preparing swine, and overseeing a fishing station, among other various tasks (search \"Haszard\" and \"Davies\"). Finally, the financial prospects of the Harris family improved.\" (http://sarah.emilieroberts.ca/index.php?page=The_Family)\n",
    "\n",
    "\n",
    "On searching these terms in the source text, it seems evident that Critchlow was working for wages in the agricultural-commercial sector, especially in terms of food distribution (e.g., oats, pork, fish). (https://archive.org/embed/islandfamilyharr0000unse)"
   ]
  },
  {
   "cell_type": "markdown",
   "metadata": {},
   "source": [
    "Alexander Robb\n",
    "\n",
    "\"...Alex got work among the labourers building the Cariboo wagon road.  After several years struggling to make a living, he and an Englishman were the first two Europeans to homestead in the Nicola Valley of central British Columbia...\" (https://www.ancestryireland.com/alexander-robb-canada/)\n",
    "\n",
    "Alexander served as a labourer in the transportation sector. The information for his biography gives 1910 as his deathyear. Recoding that value accordingly..."
   ]
  },
  {
   "cell_type": "code",
   "execution_count": 120,
   "metadata": {},
   "outputs": [],
   "source": [
    "letters$deathyear[letters$docauthorname==\"Robb, Alexander, 1839-\"] <- 1910"
   ]
  },
  {
   "cell_type": "code",
   "execution_count": 121,
   "metadata": {},
   "outputs": [
    {
     "data": {
      "text/html": [
       "<table class=\"dataframe\">\n",
       "<caption>A data.frame: 1 × 8</caption>\n",
       "<thead>\n",
       "\t<tr><th></th><th scope=col>birthyear</th><th scope=col>deathyear</th><th scope=col>nationalOrigin</th><th scope=col>socialClass</th><th scope=col>occupation</th><th scope=col>religionNew</th><th scope=col>docid</th><th scope=col>sourcetitle</th></tr>\n",
       "\t<tr><th></th><th scope=col>&lt;int&gt;</th><th scope=col>&lt;dbl&gt;</th><th scope=col>&lt;fct&gt;</th><th scope=col>&lt;chr&gt;</th><th scope=col>&lt;fct&gt;</th><th scope=col>&lt;fct&gt;</th><th scope=col>&lt;fct&gt;</th><th scope=col>&lt;fct&gt;</th></tr>\n",
       "</thead>\n",
       "<tbody>\n",
       "\t<tr><th scope=row>1</th><td>NA</td><td>NA</td><td>English</td><td>Laborer; Tradesman</td><td>Laborer; Tradesman</td><td>NA</td><td>S9873-D021</td><td>Hints on Emigration to Upper Canada; Especially Addressed to the Middle and Lower Classes in Great Britain and Ireland</td></tr>\n",
       "</tbody>\n",
       "</table>\n"
      ],
      "text/latex": [
       "A data.frame: 1 × 8\n",
       "\\begin{tabular}{r|llllllll}\n",
       "  & birthyear & deathyear & nationalOrigin & socialClass & occupation & religionNew & docid & sourcetitle\\\\\n",
       "  & <int> & <dbl> & <fct> & <chr> & <fct> & <fct> & <fct> & <fct>\\\\\n",
       "\\hline\n",
       "\t1 & NA & NA & English & Laborer; Tradesman & Laborer; Tradesman & NA & S9873-D021 & Hints on Emigration to Upper Canada; Especially Addressed to the Middle and Lower Classes in Great Britain and Ireland\\\\\n",
       "\\end{tabular}\n"
      ],
      "text/markdown": [
       "\n",
       "A data.frame: 1 × 8\n",
       "\n",
       "| <!--/--> | birthyear &lt;int&gt; | deathyear &lt;dbl&gt; | nationalOrigin &lt;fct&gt; | socialClass &lt;chr&gt; | occupation &lt;fct&gt; | religionNew &lt;fct&gt; | docid &lt;fct&gt; | sourcetitle &lt;fct&gt; |\n",
       "|---|---|---|---|---|---|---|---|---|\n",
       "| 1 | NA | NA | English | Laborer; Tradesman | Laborer; Tradesman | NA | S9873-D021 | Hints on Emigration to Upper Canada; Especially Addressed to the Middle and Lower Classes in Great Britain and Ireland |\n",
       "\n"
      ],
      "text/plain": [
       "  birthyear deathyear nationalOrigin socialClass        occupation        \n",
       "1 NA        NA        English        Laborer; Tradesman Laborer; Tradesman\n",
       "  religionNew docid     \n",
       "1 NA          S9873-D021\n",
       "  sourcetitle                                                                                                           \n",
       "1 Hints on Emigration to Upper Canada; Especially Addressed to the Middle and Lower Classes in Great Britain and Ireland"
      ]
     },
     "metadata": {},
     "output_type": "display_data"
    }
   ],
   "source": [
    "letters %>% \n",
    "filter(docauthorname==\"Singer, William, fl. 1831\") %>% \n",
    "select(birthyear, deathyear, nationalOrigin, socialClass, occupation, religionNew, docid, sourcetitle) %>% \n",
    "unique()"
   ]
  },
  {
   "cell_type": "markdown",
   "metadata": {},
   "source": [
    "William Singer\n",
    "\n",
    "\"I then went to work for Mr. Silcog four months, and Jerry Annett worked on the next farm. I have worked some at my trade; a person that can work well, can get a dollar and a half per day, and in the harvest\n",
    "field we can get a dollar per day.\"\n",
    "\n",
    "\"I design working at my trade. I have been working on a farm, chopping, and other work...I cut my hand in the summer whilst mowin...on Mr. Silcog's field...there is plenty of hard work here, we can always have plenty to do; we board and lodge with the persons we work for. I am chopping now for Mr&dot; Allworth, on his farm joining Mr. Silcog's. If any of my old acquaintances have got tired of being slaves and drudges, tell them to come to Upper Canada, to William Singer, bricklayer, he'll take them by the hand and lead them to hard work, good wages, and the best of living.\" (https://archive.org/embed/hintsonemigratio00doyl)\n",
    "\n",
    "\n",
    "William served as a wage labourer in the agricultural sector. \n"
   ]
  },
  {
   "cell_type": "markdown",
   "metadata": {},
   "source": [
    "For the Erickson variable, I think I should recode Singer into A, Robb into I and Harris into CCP. Singer is clearly working on a farm. Rob is involved in building transportation infrastructure, which is more of an industrial undertaking. And Harris is working to move product, thus he is more in the commercial sector, including in some cases in roles that involve professional skills (e.g., purchasing, overseeing). However, this cannot be done until later.  For now, \"Labourer\" will stay in the other category. This is a to-do (DONE)."
   ]
  },
  {
   "cell_type": "code",
   "execution_count": 122,
   "metadata": {},
   "outputs": [
    {
     "data": {
      "text/html": [
       "<table class=\"dataframe\">\n",
       "<caption>A data.frame: 4 × 9</caption>\n",
       "<thead>\n",
       "\t<tr><th></th><th scope=col>docid</th><th scope=col>docauthorname</th><th scope=col>socialClass</th><th scope=col>nationalOrigin</th><th scope=col>religionNew</th><th scope=col>relMin</th><th scope=col>birthyear</th><th scope=col>deathyear</th><th scope=col>authorLocation</th></tr>\n",
       "\t<tr><th></th><th scope=col>&lt;fct&gt;</th><th scope=col>&lt;fct&gt;</th><th scope=col>&lt;chr&gt;</th><th scope=col>&lt;fct&gt;</th><th scope=col>&lt;fct&gt;</th><th scope=col>&lt;lgl&gt;</th><th scope=col>&lt;int&gt;</th><th scope=col>&lt;dbl&gt;</th><th scope=col>&lt;fct&gt;</th></tr>\n",
       "</thead>\n",
       "<tbody>\n",
       "\t<tr><th scope=row>1</th><td>S316-D137</td><td>Roberts, Sarah, fl. 1858</td><td>Homemaker</td><td>Welsh</td><td>Christian</td><td>NA</td><td>NA</td><td>NA</td><td>USA</td></tr>\n",
       "\t<tr><th scope=row>2</th><td>S316-D182</td><td>Roberts, Sarah, fl. 1858</td><td>Homemaker</td><td>Welsh</td><td>Christian</td><td>NA</td><td>NA</td><td>NA</td><td>USA</td></tr>\n",
       "\t<tr><th scope=row>3</th><td>S316-D189</td><td>Roberts, Sarah, fl. 1858</td><td>Homemaker</td><td>Welsh</td><td>Christian</td><td>NA</td><td>NA</td><td>NA</td><td>USA</td></tr>\n",
       "\t<tr><th scope=row>4</th><td>S316-D193</td><td>Roberts, Sarah, fl. 1858</td><td>Homemaker</td><td>Welsh</td><td>Christian</td><td>NA</td><td>NA</td><td>NA</td><td>USA</td></tr>\n",
       "</tbody>\n",
       "</table>\n"
      ],
      "text/latex": [
       "A data.frame: 4 × 9\n",
       "\\begin{tabular}{r|lllllllll}\n",
       "  & docid & docauthorname & socialClass & nationalOrigin & religionNew & relMin & birthyear & deathyear & authorLocation\\\\\n",
       "  & <fct> & <fct> & <chr> & <fct> & <fct> & <lgl> & <int> & <dbl> & <fct>\\\\\n",
       "\\hline\n",
       "\t1 & S316-D137 & Roberts, Sarah, fl. 1858 & Homemaker & Welsh & Christian & NA & NA & NA & USA\\\\\n",
       "\t2 & S316-D182 & Roberts, Sarah, fl. 1858 & Homemaker & Welsh & Christian & NA & NA & NA & USA\\\\\n",
       "\t3 & S316-D189 & Roberts, Sarah, fl. 1858 & Homemaker & Welsh & Christian & NA & NA & NA & USA\\\\\n",
       "\t4 & S316-D193 & Roberts, Sarah, fl. 1858 & Homemaker & Welsh & Christian & NA & NA & NA & USA\\\\\n",
       "\\end{tabular}\n"
      ],
      "text/markdown": [
       "\n",
       "A data.frame: 4 × 9\n",
       "\n",
       "| <!--/--> | docid &lt;fct&gt; | docauthorname &lt;fct&gt; | socialClass &lt;chr&gt; | nationalOrigin &lt;fct&gt; | religionNew &lt;fct&gt; | relMin &lt;lgl&gt; | birthyear &lt;int&gt; | deathyear &lt;dbl&gt; | authorLocation &lt;fct&gt; |\n",
       "|---|---|---|---|---|---|---|---|---|---|\n",
       "| 1 | S316-D137 | Roberts, Sarah, fl. 1858 | Homemaker | Welsh | Christian | NA | NA | NA | USA |\n",
       "| 2 | S316-D182 | Roberts, Sarah, fl. 1858 | Homemaker | Welsh | Christian | NA | NA | NA | USA |\n",
       "| 3 | S316-D189 | Roberts, Sarah, fl. 1858 | Homemaker | Welsh | Christian | NA | NA | NA | USA |\n",
       "| 4 | S316-D193 | Roberts, Sarah, fl. 1858 | Homemaker | Welsh | Christian | NA | NA | NA | USA |\n",
       "\n"
      ],
      "text/plain": [
       "  docid     docauthorname            socialClass nationalOrigin religionNew\n",
       "1 S316-D137 Roberts, Sarah, fl. 1858 Homemaker   Welsh          Christian  \n",
       "2 S316-D182 Roberts, Sarah, fl. 1858 Homemaker   Welsh          Christian  \n",
       "3 S316-D189 Roberts, Sarah, fl. 1858 Homemaker   Welsh          Christian  \n",
       "4 S316-D193 Roberts, Sarah, fl. 1858 Homemaker   Welsh          Christian  \n",
       "  relMin birthyear deathyear authorLocation\n",
       "1 NA     NA        NA        USA           \n",
       "2 NA     NA        NA        USA           \n",
       "3 NA     NA        NA        USA           \n",
       "4 NA     NA        NA        USA           "
      ]
     },
     "metadata": {},
     "output_type": "display_data"
    }
   ],
   "source": [
    "# Who are the homemakers?\n",
    "letters %>% \n",
    "filter(grepl(\"Homemaker\", socialClass)) %>% \n",
    "select(docid, docauthorname, socialClass, nationalOrigin, religionNew, relMin, birthyear, deathyear, authorLocation) %>% \n",
    "unique()"
   ]
  },
  {
   "cell_type": "markdown",
   "metadata": {},
   "source": [
    "The letters of Sarah Roberts indicate that she and her husband (Humphrey) are involved in farming, but possibly some form of industrial wage labour (e.g., coal mining, steelworks). \n",
    "\n",
    "\"...We had 210 bushels of wheat and 160 of corn...Wages have risen in every business except farming.\n",
    "There is no hope that the corn and livestock will go up...\" (S316-D189)\n",
    "\n",
    "\"...Puddlers or boilers get eight dollars a ton. The charge is 480 pounds pig-iron and five charges are worked a day. There is an assistant and he gets one third. When working six, there are two assistants, one of which is paid by the day. The colliers get five cents a bushel of eighty pounds and they can raise one hundred bushels a day in a seam five feet thick. They cut and fill and the company takes it away. Laborers get from a dollar and a half to two dollars a day...\" (S316-D193)\n",
    "\n",
    "However, because occupation is unclear, I will recode Sarah as Unknown. This was DONE, then after further examination, she was assigned to the agricultural class (A). "
   ]
  },
  {
   "cell_type": "code",
   "execution_count": 123,
   "metadata": {},
   "outputs": [
    {
     "data": {
      "text/html": [
       "<table class=\"dataframe\">\n",
       "<caption>A data.frame: 2 × 2</caption>\n",
       "<thead>\n",
       "\t<tr><th></th><th scope=col>docauthorname</th><th scope=col>socialClass</th></tr>\n",
       "\t<tr><th></th><th scope=col>&lt;fct&gt;</th><th scope=col>&lt;chr&gt;</th></tr>\n",
       "</thead>\n",
       "<tbody>\n",
       "\t<tr><th scope=row>1</th><td>Segale, Sister Blandina, 1850-1941</td><td>Nun; Social worker; Teacher</td></tr>\n",
       "\t<tr><th scope=row>56</th><td>Menzies, George, fl. 1834         </td><td>Teacher                    </td></tr>\n",
       "</tbody>\n",
       "</table>\n"
      ],
      "text/latex": [
       "A data.frame: 2 × 2\n",
       "\\begin{tabular}{r|ll}\n",
       "  & docauthorname & socialClass\\\\\n",
       "  & <fct> & <chr>\\\\\n",
       "\\hline\n",
       "\t1 & Segale, Sister Blandina, 1850-1941 & Nun; Social worker; Teacher\\\\\n",
       "\t56 & Menzies, George, fl. 1834          & Teacher                    \\\\\n",
       "\\end{tabular}\n"
      ],
      "text/markdown": [
       "\n",
       "A data.frame: 2 × 2\n",
       "\n",
       "| <!--/--> | docauthorname &lt;fct&gt; | socialClass &lt;chr&gt; |\n",
       "|---|---|---|\n",
       "| 1 | Segale, Sister Blandina, 1850-1941 | Nun; Social worker; Teacher |\n",
       "| 56 | Menzies, George, fl. 1834          | Teacher                     |\n",
       "\n"
      ],
      "text/plain": [
       "   docauthorname                      socialClass                \n",
       "1  Segale, Sister Blandina, 1850-1941 Nun; Social worker; Teacher\n",
       "56 Menzies, George, fl. 1834          Teacher                    "
      ]
     },
     "metadata": {},
     "output_type": "display_data"
    }
   ],
   "source": [
    "# Who are the teachers?\n",
    "letters %>% \n",
    "filter(grepl(\"Teacher\", socialClass)) %>% \n",
    "select(docauthorname, socialClass) %>% \n",
    "unique()"
   ]
  },
  {
   "cell_type": "code",
   "execution_count": 124,
   "metadata": {},
   "outputs": [],
   "source": [
    "# Menzies was also a writer (poet) and printer (newspaper)\n",
    "# Recode both from teacher to educator\n",
    "# http://www.biographi.ca/en/bio.php?BioId=37680\n",
    "letters$socialClass[letters$docauthorname == \"Menzies, George, fl. 1834\"]  <- \"Teacher; Writer; Printer\""
   ]
  },
  {
   "cell_type": "code",
   "execution_count": 125,
   "metadata": {},
   "outputs": [
    {
     "data": {
      "text/html": [
       "<table class=\"dataframe\">\n",
       "<caption>A data.frame: 6 × 2</caption>\n",
       "<thead>\n",
       "\t<tr><th></th><th scope=col>docauthorname</th><th scope=col>socialClass</th></tr>\n",
       "\t<tr><th></th><th scope=col>&lt;fct&gt;</th><th scope=col>&lt;chr&gt;</th></tr>\n",
       "</thead>\n",
       "<tbody>\n",
       "\t<tr><th scope=row>1</th><td>Hudson, Henry James, 1822-                          </td><td>Government appointee; Politician; Religious leader</td></tr>\n",
       "\t<tr><th scope=row>2</th><td>Robb, Alexander, 1839-                              </td><td>Miner; Laborer; Rancher; Government employee      </td></tr>\n",
       "\t<tr><th scope=row>14</th><td>Buchanan, J. C., fl. 1833                           </td><td>Government employee                               </td></tr>\n",
       "\t<tr><th scope=row>15</th><td>Buchanan, Alexander Carlisle, 1786-1840             </td><td>Government appointee                              </td></tr>\n",
       "\t<tr><th scope=row>16</th><td>Anonymous Government Agent in Upper Canada, fl. 1833</td><td>Government employee                               </td></tr>\n",
       "\t<tr><th scope=row>17</th><td>Aylmer, Matthew, Lord, 1775-1850                    </td><td>Military personnel; Royal governor                </td></tr>\n",
       "</tbody>\n",
       "</table>\n"
      ],
      "text/latex": [
       "A data.frame: 6 × 2\n",
       "\\begin{tabular}{r|ll}\n",
       "  & docauthorname & socialClass\\\\\n",
       "  & <fct> & <chr>\\\\\n",
       "\\hline\n",
       "\t1 & Hudson, Henry James, 1822-                           & Government appointee; Politician; Religious leader\\\\\n",
       "\t2 & Robb, Alexander, 1839-                               & Miner; Laborer; Rancher; Government employee      \\\\\n",
       "\t14 & Buchanan, J. C., fl. 1833                            & Government employee                               \\\\\n",
       "\t15 & Buchanan, Alexander Carlisle, 1786-1840              & Government appointee                              \\\\\n",
       "\t16 & Anonymous Government Agent in Upper Canada, fl. 1833 & Government employee                               \\\\\n",
       "\t17 & Aylmer, Matthew, Lord, 1775-1850                     & Military personnel; Royal governor                \\\\\n",
       "\\end{tabular}\n"
      ],
      "text/markdown": [
       "\n",
       "A data.frame: 6 × 2\n",
       "\n",
       "| <!--/--> | docauthorname &lt;fct&gt; | socialClass &lt;chr&gt; |\n",
       "|---|---|---|\n",
       "| 1 | Hudson, Henry James, 1822-                           | Government appointee; Politician; Religious leader |\n",
       "| 2 | Robb, Alexander, 1839-                               | Miner; Laborer; Rancher; Government employee       |\n",
       "| 14 | Buchanan, J. C., fl. 1833                            | Government employee                                |\n",
       "| 15 | Buchanan, Alexander Carlisle, 1786-1840              | Government appointee                               |\n",
       "| 16 | Anonymous Government Agent in Upper Canada, fl. 1833 | Government employee                                |\n",
       "| 17 | Aylmer, Matthew, Lord, 1775-1850                     | Military personnel; Royal governor                 |\n",
       "\n"
      ],
      "text/plain": [
       "   docauthorname                                       \n",
       "1  Hudson, Henry James, 1822-                          \n",
       "2  Robb, Alexander, 1839-                              \n",
       "14 Buchanan, J. C., fl. 1833                           \n",
       "15 Buchanan, Alexander Carlisle, 1786-1840             \n",
       "16 Anonymous Government Agent in Upper Canada, fl. 1833\n",
       "17 Aylmer, Matthew, Lord, 1775-1850                    \n",
       "   socialClass                                       \n",
       "1  Government appointee; Politician; Religious leader\n",
       "2  Miner; Laborer; Rancher; Government employee      \n",
       "14 Government employee                               \n",
       "15 Government appointee                              \n",
       "16 Government employee                               \n",
       "17 Military personnel; Royal governor                "
      ]
     },
     "metadata": {},
     "output_type": "display_data"
    }
   ],
   "source": [
    "# Who are the Government?\n",
    "letters %>% \n",
    "filter(grepl(\"Government\", socialClass)| grepl(\"governor\", socialClass)) %>% \n",
    "select(docauthorname, socialClass) %>% \n",
    "unique()"
   ]
  },
  {
   "cell_type": "markdown",
   "metadata": {},
   "source": [
    "Although Government employee, appointee and royal governor represent very different social stature, for now they will not be differentiated because in the Erickson scheme, they all are the same. This will be rectified later (DONE). For the meantime, I make the following changes based on biographical information found online."
   ]
  },
  {
   "cell_type": "code",
   "execution_count": 126,
   "metadata": {},
   "outputs": [],
   "source": [
    "# Alexander Buchanan: \"merchant and emigration agent\"\n",
    "# http://biographi.ca/en/bio/buchanan_alexander_carlisle_1786_1840_7E.html\n",
    "letters$socialClass[letters$docauthorname == \"Buchanan, Alexander Carlisle, 1786-1840\"]  <- \n",
    "\"Government appointee; Merchant\"\n",
    "\n",
    "# For future reference:\n",
    "# Matthew Aylmer: \"army officer and colonial administrator\"\n",
    "# http://www.biographi.ca/en/bio/whitworth_aylmer_matthew_7E.html\n",
    "# Henry James: \" public offices, among them postmaster, justice of the peace, county commissioner, and county judge.\"\n",
    "# https://history.nebraska.gov/collection_section/henry-james-hudson-1822-1903-rg3031-am/"
   ]
  },
  {
   "cell_type": "code",
   "execution_count": 127,
   "metadata": {},
   "outputs": [
    {
     "name": "stdout",
     "output_type": "stream",
     "text": [
      " [1] \"Nun\"                  \"Social worker\"        \"Teacher\"             \n",
      " [4] \"Military personnel\"   \"Writer\"               NA                    \n",
      " [7] \"Clergy\"               \"Farmer\"               \"Miner\"               \n",
      "[10] \"Homemaker\"            \"Merchant\"             \"Laborer\"             \n",
      "[13] \"Businessman\"          \"Artist\"               \"Educator\"            \n",
      "[16] \"Printer\"              \"Architect\"            \"Government appointee\"\n",
      "[19] \"Politician\"           \"Religious leader\"     \"Tradesman\"           \n",
      "[22] \"Rancher\"              \"Government employee\"  \"Surveyor\"            \n",
      "[25] \"Manufacturer\"         \"Urban planner\"        \"Missionary\"          \n",
      "[28] \"Royal governor\"      \n"
     ]
    },
    {
     "data": {
      "text/html": [
       "<table class=\"dataframe\">\n",
       "<caption>A data.frame: 6 × 1</caption>\n",
       "<thead>\n",
       "\t<tr><th></th><th scope=col>Jobs</th></tr>\n",
       "\t<tr><th></th><th scope=col>&lt;chr&gt;</th></tr>\n",
       "</thead>\n",
       "<tbody>\n",
       "\t<tr><th scope=row>1</th><td>Nun               </td></tr>\n",
       "\t<tr><th scope=row>2</th><td>Social worker     </td></tr>\n",
       "\t<tr><th scope=row>3</th><td>Teacher           </td></tr>\n",
       "\t<tr><th scope=row>4</th><td>Military personnel</td></tr>\n",
       "\t<tr><th scope=row>5</th><td>Writer            </td></tr>\n",
       "\t<tr><th scope=row>6</th><td>NA                </td></tr>\n",
       "</tbody>\n",
       "</table>\n"
      ],
      "text/latex": [
       "A data.frame: 6 × 1\n",
       "\\begin{tabular}{r|l}\n",
       "  & Jobs\\\\\n",
       "  & <chr>\\\\\n",
       "\\hline\n",
       "\t1 & Nun               \\\\\n",
       "\t2 & Social worker     \\\\\n",
       "\t3 & Teacher           \\\\\n",
       "\t4 & Military personnel\\\\\n",
       "\t5 & Writer            \\\\\n",
       "\t6 & NA                \\\\\n",
       "\\end{tabular}\n"
      ],
      "text/markdown": [
       "\n",
       "A data.frame: 6 × 1\n",
       "\n",
       "| <!--/--> | Jobs &lt;chr&gt; |\n",
       "|---|---|\n",
       "| 1 | Nun                |\n",
       "| 2 | Social worker      |\n",
       "| 3 | Teacher            |\n",
       "| 4 | Military personnel |\n",
       "| 5 | Writer             |\n",
       "| 6 | NA                 |\n",
       "\n"
      ],
      "text/plain": [
       "  Jobs              \n",
       "1 Nun               \n",
       "2 Social worker     \n",
       "3 Teacher           \n",
       "4 Military personnel\n",
       "5 Writer            \n",
       "6 NA                "
      ]
     },
     "metadata": {},
     "output_type": "display_data"
    },
    {
     "name": "stdout",
     "output_type": "stream",
     "text": [
      "Rows: 28\n",
      "Columns: 2\n",
      "$ Jobs     \u001b[3m\u001b[90m<chr>\u001b[39m\u001b[23m \"Nun\", \"Social worker\", \"Teacher\", \"Military personnel\", \"Wri…\n",
      "$ Erickson \u001b[3m\u001b[90m<lgl>\u001b[39m\u001b[23m NA, NA, NA, NA, NA, NA, NA, NA, NA, NA, NA, NA, NA, NA, NA, N…\n"
     ]
    },
    {
     "data": {
      "text/html": [
       "<table class=\"dataframe\">\n",
       "<caption>A data.frame: 28 × 2</caption>\n",
       "<thead>\n",
       "\t<tr><th scope=col>Jobs</th><th scope=col>Erickson</th></tr>\n",
       "\t<tr><th scope=col>&lt;chr&gt;</th><th scope=col>&lt;chr&gt;</th></tr>\n",
       "</thead>\n",
       "<tbody>\n",
       "\t<tr><td>Nun                 </td><td>CCP    </td></tr>\n",
       "\t<tr><td>Social worker       </td><td>CCP    </td></tr>\n",
       "\t<tr><td>Teacher             </td><td>CCP    </td></tr>\n",
       "\t<tr><td>Military personnel  </td><td>CCP    </td></tr>\n",
       "\t<tr><td>Writer              </td><td>CCP    </td></tr>\n",
       "\t<tr><td>NA                  </td><td>NA     </td></tr>\n",
       "\t<tr><td>Clergy              </td><td>CCP    </td></tr>\n",
       "\t<tr><td>Farmer              </td><td>A      </td></tr>\n",
       "\t<tr><td>Miner               </td><td>I      </td></tr>\n",
       "\t<tr><td>Homemaker           </td><td>Unknown</td></tr>\n",
       "\t<tr><td>Merchant            </td><td>CCP    </td></tr>\n",
       "\t<tr><td>Laborer             </td><td>Unknown</td></tr>\n",
       "\t<tr><td>Businessman         </td><td>CCP    </td></tr>\n",
       "\t<tr><td>Artist              </td><td>CCP    </td></tr>\n",
       "\t<tr><td>Educator            </td><td>CCP    </td></tr>\n",
       "\t<tr><td>Printer             </td><td>CCP    </td></tr>\n",
       "\t<tr><td>Architect           </td><td>CCP    </td></tr>\n",
       "\t<tr><td>Government appointee</td><td>CCP    </td></tr>\n",
       "\t<tr><td>Politician          </td><td>CCP    </td></tr>\n",
       "\t<tr><td>Religious leader    </td><td>CCP    </td></tr>\n",
       "\t<tr><td>Tradesman           </td><td>CCP    </td></tr>\n",
       "\t<tr><td>Rancher             </td><td>A      </td></tr>\n",
       "\t<tr><td>Government employee </td><td>CCP    </td></tr>\n",
       "\t<tr><td>Surveyor            </td><td>CCP    </td></tr>\n",
       "\t<tr><td>Manufacturer        </td><td>I      </td></tr>\n",
       "\t<tr><td>Urban planner       </td><td>CCP    </td></tr>\n",
       "\t<tr><td>Missionary          </td><td>CCP    </td></tr>\n",
       "\t<tr><td>Royal governor      </td><td>CCP    </td></tr>\n",
       "</tbody>\n",
       "</table>\n"
      ],
      "text/latex": [
       "A data.frame: 28 × 2\n",
       "\\begin{tabular}{ll}\n",
       " Jobs & Erickson\\\\\n",
       " <chr> & <chr>\\\\\n",
       "\\hline\n",
       "\t Nun                  & CCP    \\\\\n",
       "\t Social worker        & CCP    \\\\\n",
       "\t Teacher              & CCP    \\\\\n",
       "\t Military personnel   & CCP    \\\\\n",
       "\t Writer               & CCP    \\\\\n",
       "\t NA                   & NA     \\\\\n",
       "\t Clergy               & CCP    \\\\\n",
       "\t Farmer               & A      \\\\\n",
       "\t Miner                & I      \\\\\n",
       "\t Homemaker            & Unknown\\\\\n",
       "\t Merchant             & CCP    \\\\\n",
       "\t Laborer              & Unknown\\\\\n",
       "\t Businessman          & CCP    \\\\\n",
       "\t Artist               & CCP    \\\\\n",
       "\t Educator             & CCP    \\\\\n",
       "\t Printer              & CCP    \\\\\n",
       "\t Architect            & CCP    \\\\\n",
       "\t Government appointee & CCP    \\\\\n",
       "\t Politician           & CCP    \\\\\n",
       "\t Religious leader     & CCP    \\\\\n",
       "\t Tradesman            & CCP    \\\\\n",
       "\t Rancher              & A      \\\\\n",
       "\t Government employee  & CCP    \\\\\n",
       "\t Surveyor             & CCP    \\\\\n",
       "\t Manufacturer         & I      \\\\\n",
       "\t Urban planner        & CCP    \\\\\n",
       "\t Missionary           & CCP    \\\\\n",
       "\t Royal governor       & CCP    \\\\\n",
       "\\end{tabular}\n"
      ],
      "text/markdown": [
       "\n",
       "A data.frame: 28 × 2\n",
       "\n",
       "| Jobs &lt;chr&gt; | Erickson &lt;chr&gt; |\n",
       "|---|---|\n",
       "| Nun                  | CCP     |\n",
       "| Social worker        | CCP     |\n",
       "| Teacher              | CCP     |\n",
       "| Military personnel   | CCP     |\n",
       "| Writer               | CCP     |\n",
       "| NA                   | NA      |\n",
       "| Clergy               | CCP     |\n",
       "| Farmer               | A       |\n",
       "| Miner                | I       |\n",
       "| Homemaker            | Unknown |\n",
       "| Merchant             | CCP     |\n",
       "| Laborer              | Unknown |\n",
       "| Businessman          | CCP     |\n",
       "| Artist               | CCP     |\n",
       "| Educator             | CCP     |\n",
       "| Printer              | CCP     |\n",
       "| Architect            | CCP     |\n",
       "| Government appointee | CCP     |\n",
       "| Politician           | CCP     |\n",
       "| Religious leader     | CCP     |\n",
       "| Tradesman            | CCP     |\n",
       "| Rancher              | A       |\n",
       "| Government employee  | CCP     |\n",
       "| Surveyor             | CCP     |\n",
       "| Manufacturer         | I       |\n",
       "| Urban planner        | CCP     |\n",
       "| Missionary           | CCP     |\n",
       "| Royal governor       | CCP     |\n",
       "\n"
      ],
      "text/plain": [
       "   Jobs                 Erickson\n",
       "1  Nun                  CCP     \n",
       "2  Social worker        CCP     \n",
       "3  Teacher              CCP     \n",
       "4  Military personnel   CCP     \n",
       "5  Writer               CCP     \n",
       "6  NA                   NA      \n",
       "7  Clergy               CCP     \n",
       "8  Farmer               A       \n",
       "9  Miner                I       \n",
       "10 Homemaker            Unknown \n",
       "11 Merchant             CCP     \n",
       "12 Laborer              Unknown \n",
       "13 Businessman          CCP     \n",
       "14 Artist               CCP     \n",
       "15 Educator             CCP     \n",
       "16 Printer              CCP     \n",
       "17 Architect            CCP     \n",
       "18 Government appointee CCP     \n",
       "19 Politician           CCP     \n",
       "20 Religious leader     CCP     \n",
       "21 Tradesman            CCP     \n",
       "22 Rancher              A       \n",
       "23 Government employee  CCP     \n",
       "24 Surveyor             CCP     \n",
       "25 Manufacturer         I       \n",
       "26 Urban planner        CCP     \n",
       "27 Missionary           CCP     \n",
       "28 Royal governor       CCP     "
      ]
     },
     "metadata": {},
     "output_type": "display_data"
    }
   ],
   "source": [
    "#Re-do the classification to make sure intervening changes are captured.\n",
    "\n",
    "# Put the list of unique job titles into a list (note: some cells contain multiple titles)\n",
    "Jobs  <- letters$socialClass %>%\n",
    "str_split(\"; \") %>% \n",
    "unlist() %>% \n",
    "unique() \n",
    "\n",
    "print(Jobs)\n",
    "\n",
    "# Turn this list into a dataframe.\n",
    "jobClass <- data.frame(Jobs)\n",
    "head(jobClass)\n",
    "\n",
    "# Add a column for the Step 1 (Erickson) classification.\n",
    "jobClass['Erickson']  <- NA\n",
    "glimpse(jobClass)\n",
    "\n",
    "# Make Erickson categories\n",
    "# Agricultural (A), Industrial (I), Commercial-Clerical-Professional (CCP)\n",
    "\n",
    "A  <- c(\"Farmer\",\n",
    "        \"Rancher\" \n",
    "        #\"Plantation manager\"\n",
    "        )\n",
    "\n",
    "I  <-  c(\"Miner\",\n",
    "         \"Manufacturer\"\n",
    "         #\"Factory worker\",\n",
    "         #\"Transportation worker\",\n",
    "         #\"Explorer\" # Note: This is a prospector so closest to mining in the Erickson classification system.\n",
    "               ) \n",
    "\n",
    "CCP <- c(#\"Jeweler\",\n",
    "                \"Tradesman\", \n",
    "                #\"Retail worker\", \n",
    "                \"Businessman\",\n",
    "         #\"Businesswoman\",\n",
    "                #\"Tailor\", \n",
    "                \"Merchant\", \n",
    "                #\"Banker\",\n",
    "                #\"Physician\", \n",
    "                   \"Architect\", \n",
    "                   #\"Engineer\", \n",
    "                   \"Artist\", \n",
    "                   \"Writer\", \n",
    "                   \"Surveyor\",\n",
    "                   #\"Secretary\",\n",
    "                   #\"Accountant\",\n",
    "                   #\"Editor\", \n",
    "                   #\"Nurse\",\n",
    "         \"Clergy\", \n",
    "         #\"Barber\",\n",
    "            \"Missionary\",\n",
    "            \"Educator\", \n",
    "            \"Religious leader\",\n",
    "            \"Social worker\", \n",
    "            #\"Religious worker\",\n",
    "            \"Military personnel\", \n",
    "            \"Politician\",\n",
    "         \"Government employee\",\n",
    "            \"Government appointee\",\n",
    "            \"Royal governor\", \n",
    "            #\"Diplomat\",\n",
    "         \"Nun\", \n",
    "            \"Teacher\",\n",
    "    \"Printer\",\n",
    "    \"Urban planner\"\n",
    "         #\"Servant\", \n",
    "              #\"Cook\", \n",
    "             #\"Housekeeper\",\n",
    "        #\"Law enforcement\"\n",
    ")\n",
    "\n",
    "Unknown  <- c(\"Homemaker\",\n",
    "            \"Laborer\"# it's not clear what kind of labour\n",
    "             #\"Student\"\n",
    "              )\n",
    "\n",
    "# Map jobs to occupation categories.\n",
    "# Agricultural\n",
    "rows = which(grepl(paste(A,collapse=\"|\"), jobClass$Job)) # Get rows that meet condition\n",
    "jobClass$Erickson[rows] <- \"A\" # Recode data\n",
    "\n",
    "# Get Rows where job is in Industry\n",
    "rows = which(grepl(paste(I,collapse=\"|\"), jobClass$Job))\n",
    "jobClass$Erickson[rows] <- \"I\"\n",
    "\n",
    "# Commercial\n",
    "rows = which(grepl(paste(CCP,collapse=\"|\"), jobClass$Job))\n",
    "jobClass$Erickson[rows] <- \"CCP\"\n",
    "\n",
    "# Professional\n",
    "rows = which(grepl(paste(Unknown,collapse=\"|\"), jobClass$Job))\n",
    "jobClass$Erickson[rows] <- \"Unknown\"\n",
    "\n",
    "# View\n",
    "jobClass"
   ]
  },
  {
   "cell_type": "code",
   "execution_count": 128,
   "metadata": {},
   "outputs": [
    {
     "data": {
      "text/html": [
       "<table class=\"dataframe\">\n",
       "<caption>A data.frame: 3 × 2</caption>\n",
       "<thead>\n",
       "\t<tr><th></th><th scope=col>docauthorname</th><th scope=col>socialClass</th></tr>\n",
       "\t<tr><th></th><th scope=col>&lt;fct&gt;</th><th scope=col>&lt;chr&gt;</th></tr>\n",
       "</thead>\n",
       "<tbody>\n",
       "\t<tr><th scope=row>1</th><td>Williams, John R., fl. 1895      </td><td>Miner                                       </td></tr>\n",
       "\t<tr><th scope=row>2</th><td>Robb, Alexander, 1839-           </td><td>Miner; Laborer; Rancher; Government employee</td></tr>\n",
       "\t<tr><th scope=row>14</th><td>Hutchings, James Mason, 1820-1902</td><td>Tradesman; Miner; Writer; Businessman       </td></tr>\n",
       "</tbody>\n",
       "</table>\n"
      ],
      "text/latex": [
       "A data.frame: 3 × 2\n",
       "\\begin{tabular}{r|ll}\n",
       "  & docauthorname & socialClass\\\\\n",
       "  & <fct> & <chr>\\\\\n",
       "\\hline\n",
       "\t1 & Williams, John R., fl. 1895       & Miner                                       \\\\\n",
       "\t2 & Robb, Alexander, 1839-            & Miner; Laborer; Rancher; Government employee\\\\\n",
       "\t14 & Hutchings, James Mason, 1820-1902 & Tradesman; Miner; Writer; Businessman       \\\\\n",
       "\\end{tabular}\n"
      ],
      "text/markdown": [
       "\n",
       "A data.frame: 3 × 2\n",
       "\n",
       "| <!--/--> | docauthorname &lt;fct&gt; | socialClass &lt;chr&gt; |\n",
       "|---|---|---|\n",
       "| 1 | Williams, John R., fl. 1895       | Miner                                        |\n",
       "| 2 | Robb, Alexander, 1839-            | Miner; Laborer; Rancher; Government employee |\n",
       "| 14 | Hutchings, James Mason, 1820-1902 | Tradesman; Miner; Writer; Businessman        |\n",
       "\n"
      ],
      "text/plain": [
       "   docauthorname                    \n",
       "1  Williams, John R., fl. 1895      \n",
       "2  Robb, Alexander, 1839-           \n",
       "14 Hutchings, James Mason, 1820-1902\n",
       "   socialClass                                 \n",
       "1  Miner                                       \n",
       "2  Miner; Laborer; Rancher; Government employee\n",
       "14 Tradesman; Miner; Writer; Businessman       "
      ]
     },
     "metadata": {},
     "output_type": "display_data"
    }
   ],
   "source": [
    "# Who are the miners?\n",
    "letters %>% \n",
    "filter(grepl(\"Miner\", socialClass)) %>% \n",
    "select(docauthorname, socialClass) %>% \n",
    "unique()"
   ]
  },
  {
   "cell_type": "markdown",
   "metadata": {},
   "source": [
    "Because mining in North American during the time in question was in its infancy, many of the people described as miners were participating in the Gold Rush as independent prospectors. Therefore, they aren't really wage labourers. For example, https://en.wikipedia.org/wiki/James_Mason_Hutchings"
   ]
  },
  {
   "cell_type": "code",
   "execution_count": 129,
   "metadata": {},
   "outputs": [
    {
     "data": {
      "text/html": [
       "<table class=\"dataframe\">\n",
       "<caption>A data.frame: 5 × 4</caption>\n",
       "<thead>\n",
       "\t<tr><th></th><th scope=col>docauthorid</th><th scope=col>docauthorname</th><th scope=col>socialClass</th><th scope=col>docid</th></tr>\n",
       "\t<tr><th></th><th scope=col>&lt;fct&gt;</th><th scope=col>&lt;fct&gt;</th><th scope=col>&lt;chr&gt;</th><th scope=col>&lt;fct&gt;</th></tr>\n",
       "</thead>\n",
       "<tbody>\n",
       "\t<tr><th scope=row>1</th><td>per0029182</td><td>Anonymous Male Scottish Immigrant from Aberdeen, fl. 1832-1834</td><td>Manufacturer</td><td>S9865-D017</td></tr>\n",
       "\t<tr><th scope=row>2</th><td>per0029182</td><td>Anonymous Male Scottish Immigrant from Aberdeen, fl. 1832-1834</td><td>Manufacturer</td><td>S9865-D018</td></tr>\n",
       "\t<tr><th scope=row>3</th><td>per0029182</td><td>Anonymous Male Scottish Immigrant from Aberdeen, fl. 1832-1834</td><td>Manufacturer</td><td>S9865-D019</td></tr>\n",
       "\t<tr><th scope=row>4</th><td>per0029200</td><td>Anonymous Scottish Immigrant from Turriff, fl. 1834           </td><td>Manufacturer</td><td>S9865-D039</td></tr>\n",
       "\t<tr><th scope=row>5</th><td>per0036196</td><td>Downe, John, fl. 1830                                         </td><td>Manufacturer</td><td>S9974-D010</td></tr>\n",
       "</tbody>\n",
       "</table>\n"
      ],
      "text/latex": [
       "A data.frame: 5 × 4\n",
       "\\begin{tabular}{r|llll}\n",
       "  & docauthorid & docauthorname & socialClass & docid\\\\\n",
       "  & <fct> & <fct> & <chr> & <fct>\\\\\n",
       "\\hline\n",
       "\t1 & per0029182 & Anonymous Male Scottish Immigrant from Aberdeen, fl. 1832-1834 & Manufacturer & S9865-D017\\\\\n",
       "\t2 & per0029182 & Anonymous Male Scottish Immigrant from Aberdeen, fl. 1832-1834 & Manufacturer & S9865-D018\\\\\n",
       "\t3 & per0029182 & Anonymous Male Scottish Immigrant from Aberdeen, fl. 1832-1834 & Manufacturer & S9865-D019\\\\\n",
       "\t4 & per0029200 & Anonymous Scottish Immigrant from Turriff, fl. 1834            & Manufacturer & S9865-D039\\\\\n",
       "\t5 & per0036196 & Downe, John, fl. 1830                                          & Manufacturer & S9974-D010\\\\\n",
       "\\end{tabular}\n"
      ],
      "text/markdown": [
       "\n",
       "A data.frame: 5 × 4\n",
       "\n",
       "| <!--/--> | docauthorid &lt;fct&gt; | docauthorname &lt;fct&gt; | socialClass &lt;chr&gt; | docid &lt;fct&gt; |\n",
       "|---|---|---|---|---|\n",
       "| 1 | per0029182 | Anonymous Male Scottish Immigrant from Aberdeen, fl. 1832-1834 | Manufacturer | S9865-D017 |\n",
       "| 2 | per0029182 | Anonymous Male Scottish Immigrant from Aberdeen, fl. 1832-1834 | Manufacturer | S9865-D018 |\n",
       "| 3 | per0029182 | Anonymous Male Scottish Immigrant from Aberdeen, fl. 1832-1834 | Manufacturer | S9865-D019 |\n",
       "| 4 | per0029200 | Anonymous Scottish Immigrant from Turriff, fl. 1834            | Manufacturer | S9865-D039 |\n",
       "| 5 | per0036196 | Downe, John, fl. 1830                                          | Manufacturer | S9974-D010 |\n",
       "\n"
      ],
      "text/plain": [
       "  docauthorid docauthorname                                                 \n",
       "1 per0029182  Anonymous Male Scottish Immigrant from Aberdeen, fl. 1832-1834\n",
       "2 per0029182  Anonymous Male Scottish Immigrant from Aberdeen, fl. 1832-1834\n",
       "3 per0029182  Anonymous Male Scottish Immigrant from Aberdeen, fl. 1832-1834\n",
       "4 per0029200  Anonymous Scottish Immigrant from Turriff, fl. 1834           \n",
       "5 per0036196  Downe, John, fl. 1830                                         \n",
       "  socialClass  docid     \n",
       "1 Manufacturer S9865-D017\n",
       "2 Manufacturer S9865-D018\n",
       "3 Manufacturer S9865-D019\n",
       "4 Manufacturer S9865-D039\n",
       "5 Manufacturer S9974-D010"
      ]
     },
     "metadata": {},
     "output_type": "display_data"
    }
   ],
   "source": [
    "# Who are the manufacturers?\n",
    "letters %>% \n",
    "filter(grepl(\"Manufacturer\", socialClass)) %>% \n",
    "select(docauthorid, docauthorname, socialClass, docid) %>% \n",
    "unique()"
   ]
  },
  {
   "cell_type": "code",
   "execution_count": 130,
   "metadata": {},
   "outputs": [],
   "source": [
    "#According to the original letter text (S9865-D017), per0029182 is a farmer and a millwright.\n",
    "#So not a laborer.  \n",
    "#Recoding his socialClass to include farmer and tradesman.\n",
    "\n",
    "letters$socialClass[letters$docauthorid==\"per0029182\"] <- \"Manufacturer; Farmer; Tradesman\""
   ]
  },
  {
   "cell_type": "code",
   "execution_count": 131,
   "metadata": {},
   "outputs": [],
   "source": [
    "#According to the original letter text (S9865-D039), per0029200 is a millwright who works for wages.\n",
    "#Recoding his socialClass to indicate tradesman.\n",
    "# To-do record wageLabour as TRUE (DONE)\n",
    "\n",
    "letters$socialClass[letters$docauthorid==\"per0029200\"] <- \"Manufacturer; Tradesman\""
   ]
  },
  {
   "cell_type": "code",
   "execution_count": 132,
   "metadata": {},
   "outputs": [],
   "source": [
    "#According to the original letter text (S9865-D039), per0029200 is a manager in a factory.\n",
    "# To-do record wageLabour as FALSE (DONE)\n",
    "\n",
    "letters$socialClass[letters$docauthorid==\"per0036196\"] <- \"Manufacturer\""
   ]
  },
  {
   "cell_type": "code",
   "execution_count": 133,
   "metadata": {},
   "outputs": [
    {
     "name": "stdout",
     "output_type": "stream",
     "text": [
      "Rows: 28\n",
      "Columns: 3\n",
      "$ Jobs     \u001b[3m\u001b[90m<chr>\u001b[39m\u001b[23m \"Nun\", \"Social worker\", \"Teacher\", \"Military personnel\", \"Wri…\n",
      "$ Erickson \u001b[3m\u001b[90m<chr>\u001b[39m\u001b[23m \"CCP\", \"CCP\", \"CCP\", \"CCP\", \"CCP\", NA, \"CCP\", \"A\", \"I\", \"Unkn…\n",
      "$ Labourer \u001b[3m\u001b[90m<lgl>\u001b[39m\u001b[23m NA, NA, NA, NA, NA, NA, NA, NA, NA, NA, NA, NA, NA, NA, NA, N…\n"
     ]
    }
   ],
   "source": [
    "# Create a new variable called \"Labourer\" in the jobClass dataframe.\n",
    "jobClass['Labourer']  <- NA\n",
    "glimpse(jobClass)"
   ]
  },
  {
   "cell_type": "code",
   "execution_count": 134,
   "metadata": {},
   "outputs": [],
   "source": [
    "# Associate jobs with factor levels for this new variable.\n",
    "\n",
    "Yes <- c(\"Laborer\")\n",
    "\n",
    "No <-  c(\"Nun\",\n",
    "         \"Social worker\",\n",
    "         \"Teacher\",\n",
    "         \"Military personnel\",\n",
    "         \"Writer\",\n",
    "         \"Clergy\",\n",
    "         \"Merchant\",\n",
    "         \"Businessman\",\n",
    "         \"Artist\",\n",
    "         \"Educator\" ,\n",
    "         \"Printer\",\n",
    "         \"Architect\",\n",
    "         \"Government appointee\",\n",
    "         \"Politician\",\n",
    "         \"Religious leader\",\n",
    "         \"Government employee\",\n",
    "         \"Surveyor\", \n",
    "         \"Urban planner\",\n",
    "         \"Missionary\",\n",
    "         \"Royal governor\" )\n",
    "\n",
    "Uncertain <- c(\"Homemaker\", \n",
    "            \"Farmer\",\n",
    "            \"Miner\",\n",
    "            \"Tradesman\",\n",
    "            \"Rancher\",\n",
    "            \"Manufacturer\"\n",
    "           )\n",
    "                 \n",
    "                 \n",
    "#\"Factory worker\"\n",
    "#\"Transportation worker\"\n",
    "#\"Jeweler\"\n",
    "#\"Merchants, shopkeepers and peddlers\n",
    "#\"Retail worker\"\n",
    "#\"Businesswoman\",\n",
    "#\"Tailor\", \n",
    "#\"Barber\",\n",
    "#\"Banker\",\n",
    "#\"Explorer\"\n",
    "#\"Engineer\", \n",
    "#\"Secretary\",\n",
    "#\"Accountant\",\n",
    "#\"Editor\",\n",
    "#\"Servant\", \n",
    "#\"Cook\", \n",
    "#\"Housekeeper\"\n",
    "#Clergymen and schoolmasters \n",
    "#\"Student\", \n",
    "#\"Religious worker\", \n",
    "#\"Nurse\",\n",
    "#\"Physician\"\n",
    "#\"Law enforcement\",\n",
    "#\"Diplomat\","
   ]
  },
  {
   "cell_type": "code",
   "execution_count": 135,
   "metadata": {},
   "outputs": [
    {
     "data": {
      "text/html": [
       "<table class=\"dataframe\">\n",
       "<caption>A data.frame: 28 × 3</caption>\n",
       "<thead>\n",
       "\t<tr><th scope=col>Jobs</th><th scope=col>Erickson</th><th scope=col>Labourer</th></tr>\n",
       "\t<tr><th scope=col>&lt;chr&gt;</th><th scope=col>&lt;chr&gt;</th><th scope=col>&lt;chr&gt;</th></tr>\n",
       "</thead>\n",
       "<tbody>\n",
       "\t<tr><td>Nun                 </td><td>CCP    </td><td>No       </td></tr>\n",
       "\t<tr><td>Social worker       </td><td>CCP    </td><td>No       </td></tr>\n",
       "\t<tr><td>Teacher             </td><td>CCP    </td><td>No       </td></tr>\n",
       "\t<tr><td>Military personnel  </td><td>CCP    </td><td>No       </td></tr>\n",
       "\t<tr><td>Writer              </td><td>CCP    </td><td>No       </td></tr>\n",
       "\t<tr><td>NA                  </td><td>NA     </td><td>NA       </td></tr>\n",
       "\t<tr><td>Clergy              </td><td>CCP    </td><td>No       </td></tr>\n",
       "\t<tr><td>Farmer              </td><td>A      </td><td>Uncertain</td></tr>\n",
       "\t<tr><td>Miner               </td><td>I      </td><td>Uncertain</td></tr>\n",
       "\t<tr><td>Homemaker           </td><td>Unknown</td><td>Uncertain</td></tr>\n",
       "\t<tr><td>Merchant            </td><td>CCP    </td><td>No       </td></tr>\n",
       "\t<tr><td>Laborer             </td><td>Unknown</td><td>Yes      </td></tr>\n",
       "\t<tr><td>Businessman         </td><td>CCP    </td><td>No       </td></tr>\n",
       "\t<tr><td>Artist              </td><td>CCP    </td><td>No       </td></tr>\n",
       "\t<tr><td>Educator            </td><td>CCP    </td><td>No       </td></tr>\n",
       "\t<tr><td>Printer             </td><td>CCP    </td><td>No       </td></tr>\n",
       "\t<tr><td>Architect           </td><td>CCP    </td><td>No       </td></tr>\n",
       "\t<tr><td>Government appointee</td><td>CCP    </td><td>No       </td></tr>\n",
       "\t<tr><td>Politician          </td><td>CCP    </td><td>No       </td></tr>\n",
       "\t<tr><td>Religious leader    </td><td>CCP    </td><td>No       </td></tr>\n",
       "\t<tr><td>Tradesman           </td><td>CCP    </td><td>Uncertain</td></tr>\n",
       "\t<tr><td>Rancher             </td><td>A      </td><td>Uncertain</td></tr>\n",
       "\t<tr><td>Government employee </td><td>CCP    </td><td>No       </td></tr>\n",
       "\t<tr><td>Surveyor            </td><td>CCP    </td><td>No       </td></tr>\n",
       "\t<tr><td>Manufacturer        </td><td>I      </td><td>Uncertain</td></tr>\n",
       "\t<tr><td>Urban planner       </td><td>CCP    </td><td>No       </td></tr>\n",
       "\t<tr><td>Missionary          </td><td>CCP    </td><td>No       </td></tr>\n",
       "\t<tr><td>Royal governor      </td><td>CCP    </td><td>No       </td></tr>\n",
       "</tbody>\n",
       "</table>\n"
      ],
      "text/latex": [
       "A data.frame: 28 × 3\n",
       "\\begin{tabular}{lll}\n",
       " Jobs & Erickson & Labourer\\\\\n",
       " <chr> & <chr> & <chr>\\\\\n",
       "\\hline\n",
       "\t Nun                  & CCP     & No       \\\\\n",
       "\t Social worker        & CCP     & No       \\\\\n",
       "\t Teacher              & CCP     & No       \\\\\n",
       "\t Military personnel   & CCP     & No       \\\\\n",
       "\t Writer               & CCP     & No       \\\\\n",
       "\t NA                   & NA      & NA       \\\\\n",
       "\t Clergy               & CCP     & No       \\\\\n",
       "\t Farmer               & A       & Uncertain\\\\\n",
       "\t Miner                & I       & Uncertain\\\\\n",
       "\t Homemaker            & Unknown & Uncertain\\\\\n",
       "\t Merchant             & CCP     & No       \\\\\n",
       "\t Laborer              & Unknown & Yes      \\\\\n",
       "\t Businessman          & CCP     & No       \\\\\n",
       "\t Artist               & CCP     & No       \\\\\n",
       "\t Educator             & CCP     & No       \\\\\n",
       "\t Printer              & CCP     & No       \\\\\n",
       "\t Architect            & CCP     & No       \\\\\n",
       "\t Government appointee & CCP     & No       \\\\\n",
       "\t Politician           & CCP     & No       \\\\\n",
       "\t Religious leader     & CCP     & No       \\\\\n",
       "\t Tradesman            & CCP     & Uncertain\\\\\n",
       "\t Rancher              & A       & Uncertain\\\\\n",
       "\t Government employee  & CCP     & No       \\\\\n",
       "\t Surveyor             & CCP     & No       \\\\\n",
       "\t Manufacturer         & I       & Uncertain\\\\\n",
       "\t Urban planner        & CCP     & No       \\\\\n",
       "\t Missionary           & CCP     & No       \\\\\n",
       "\t Royal governor       & CCP     & No       \\\\\n",
       "\\end{tabular}\n"
      ],
      "text/markdown": [
       "\n",
       "A data.frame: 28 × 3\n",
       "\n",
       "| Jobs &lt;chr&gt; | Erickson &lt;chr&gt; | Labourer &lt;chr&gt; |\n",
       "|---|---|---|\n",
       "| Nun                  | CCP     | No        |\n",
       "| Social worker        | CCP     | No        |\n",
       "| Teacher              | CCP     | No        |\n",
       "| Military personnel   | CCP     | No        |\n",
       "| Writer               | CCP     | No        |\n",
       "| NA                   | NA      | NA        |\n",
       "| Clergy               | CCP     | No        |\n",
       "| Farmer               | A       | Uncertain |\n",
       "| Miner                | I       | Uncertain |\n",
       "| Homemaker            | Unknown | Uncertain |\n",
       "| Merchant             | CCP     | No        |\n",
       "| Laborer              | Unknown | Yes       |\n",
       "| Businessman          | CCP     | No        |\n",
       "| Artist               | CCP     | No        |\n",
       "| Educator             | CCP     | No        |\n",
       "| Printer              | CCP     | No        |\n",
       "| Architect            | CCP     | No        |\n",
       "| Government appointee | CCP     | No        |\n",
       "| Politician           | CCP     | No        |\n",
       "| Religious leader     | CCP     | No        |\n",
       "| Tradesman            | CCP     | Uncertain |\n",
       "| Rancher              | A       | Uncertain |\n",
       "| Government employee  | CCP     | No        |\n",
       "| Surveyor             | CCP     | No        |\n",
       "| Manufacturer         | I       | Uncertain |\n",
       "| Urban planner        | CCP     | No        |\n",
       "| Missionary           | CCP     | No        |\n",
       "| Royal governor       | CCP     | No        |\n",
       "\n"
      ],
      "text/plain": [
       "   Jobs                 Erickson Labourer \n",
       "1  Nun                  CCP      No       \n",
       "2  Social worker        CCP      No       \n",
       "3  Teacher              CCP      No       \n",
       "4  Military personnel   CCP      No       \n",
       "5  Writer               CCP      No       \n",
       "6  NA                   NA       NA       \n",
       "7  Clergy               CCP      No       \n",
       "8  Farmer               A        Uncertain\n",
       "9  Miner                I        Uncertain\n",
       "10 Homemaker            Unknown  Uncertain\n",
       "11 Merchant             CCP      No       \n",
       "12 Laborer              Unknown  Yes      \n",
       "13 Businessman          CCP      No       \n",
       "14 Artist               CCP      No       \n",
       "15 Educator             CCP      No       \n",
       "16 Printer              CCP      No       \n",
       "17 Architect            CCP      No       \n",
       "18 Government appointee CCP      No       \n",
       "19 Politician           CCP      No       \n",
       "20 Religious leader     CCP      No       \n",
       "21 Tradesman            CCP      Uncertain\n",
       "22 Rancher              A        Uncertain\n",
       "23 Government employee  CCP      No       \n",
       "24 Surveyor             CCP      No       \n",
       "25 Manufacturer         I        Uncertain\n",
       "26 Urban planner        CCP      No       \n",
       "27 Missionary           CCP      No       \n",
       "28 Royal governor       CCP      No       "
      ]
     },
     "metadata": {},
     "output_type": "display_data"
    }
   ],
   "source": [
    "# Enter the appropriate value based on the job.\n",
    "\n",
    "# Labourer\n",
    "rows = which(grepl(paste(Yes,collapse=\"|\"), jobClass$Job)) # Get rows that meet condition\n",
    "jobClass$Labourer[rows] <- \"Yes\" # Recode data\n",
    "\n",
    "# Middle class or higher\n",
    "rows = which(grepl(paste(No,collapse=\"|\"), jobClass$Job)) # Get rows that meet condition\n",
    "jobClass$Labourer[rows] <- \"No\" # Recode data\n",
    "\n",
    "# Middle class or higher\n",
    "rows = which(grepl(paste(Uncertain,collapse=\"|\"), jobClass$Job)) # Get rows that meet condition\n",
    "jobClass$Labourer[rows] <- \"Uncertain\" # Recode data\n",
    "\n",
    "# View\n",
    "jobClass"
   ]
  },
  {
   "cell_type": "markdown",
   "metadata": {},
   "source": [
    "### Assigning Values to the Occupation Variables"
   ]
  },
  {
   "cell_type": "code",
   "execution_count": 136,
   "metadata": {},
   "outputs": [
    {
     "name": "stdout",
     "output_type": "stream",
     "text": [
      "Rows: 617\n",
      "Columns: 26\n",
      "$ docid                     \u001b[3m\u001b[90m<fct>\u001b[39m\u001b[23m S1019-D002, S1019-D004, S1019-D005, S1019-D0…\n",
      "$ sourcetitle               \u001b[3m\u001b[90m<fct>\u001b[39m\u001b[23m \"At the End of the Santa Fe Trail\", \"At the …\n",
      "$ docyear                   \u001b[3m\u001b[90m<int>\u001b[39m\u001b[23m 1872, 1872, 1872, 1872, 1873, 1873, 1873, 18…\n",
      "$ docmonth                  \u001b[3m\u001b[90m<int>\u001b[39m\u001b[23m 11, 12, 12, 12, 3, 7, 9, 6, 11, 6, 9, 12, 1,…\n",
      "$ docday                    \u001b[3m\u001b[90m<int>\u001b[39m\u001b[23m 30, 6, 10, 21, 1, NA, NA, 30, 14, NA, NA, 16…\n",
      "$ authorLocation            \u001b[3m\u001b[90m<fct>\u001b[39m\u001b[23m USA, USA, USA, USA, USA, USA, USA, USA, USA,…\n",
      "$ docauthorid               \u001b[3m\u001b[90m<fct>\u001b[39m\u001b[23m per0001043, per0001043, per0001043, per00010…\n",
      "$ docauthorname             \u001b[3m\u001b[90m<fct>\u001b[39m\u001b[23m \"Segale, Sister Blandina, 1850-1941\", \"Segal…\n",
      "$ authorgender              \u001b[3m\u001b[90m<fct>\u001b[39m\u001b[23m F, F, F, F, F, F, F, F, F, F, F, F, F, F, F,…\n",
      "$ agewriting                \u001b[3m\u001b[90m<int>\u001b[39m\u001b[23m 22, 22, 22, 22, 23, 23, 23, 24, 24, 26, 26, …\n",
      "$ birthyear                 \u001b[3m\u001b[90m<int>\u001b[39m\u001b[23m 1850, 1850, 1850, 1850, 1850, 1850, 1850, 18…\n",
      "$ deathyear                 \u001b[3m\u001b[90m<dbl>\u001b[39m\u001b[23m 1941, 1941, 1941, 1941, 1941, 1941, 1941, 19…\n",
      "$ religion                  \u001b[3m\u001b[90m<fct>\u001b[39m\u001b[23m Catholic; Christian, Catholic; Christian, Ca…\n",
      "$ cultural_heritage         \u001b[3m\u001b[90m<fct>\u001b[39m\u001b[23m Italian; European, Italian; European, Italia…\n",
      "$ north_american_occupation \u001b[3m\u001b[90m<fct>\u001b[39m\u001b[23m Nun; Social worker; Teacher, Nun; Social wor…\n",
      "$ native_occupation         \u001b[3m\u001b[90m<fct>\u001b[39m\u001b[23m NA, NA, NA, NA, NA, NA, NA, NA, NA, NA, NA, …\n",
      "$ marriagestatus            \u001b[3m\u001b[90m<fct>\u001b[39m\u001b[23m Single, Single, Single, Single, Single, Sing…\n",
      "$ maternalstatus            \u001b[3m\u001b[90m<fct>\u001b[39m\u001b[23m Childless, Childless, Childless, Childless, …\n",
      "$ nationalOrigin            \u001b[3m\u001b[90m<fct>\u001b[39m\u001b[23m Italian, Italian, Italian, Italian, Italian,…\n",
      "$ britishEmpire_EU          \u001b[3m\u001b[90m<lgl>\u001b[39m\u001b[23m FALSE, FALSE, FALSE, FALSE, FALSE, FALSE, FA…\n",
      "$ translated                \u001b[3m\u001b[90m<lgl>\u001b[39m\u001b[23m FALSE, FALSE, FALSE, FALSE, FALSE, FALSE, FA…\n",
      "$ publicLetter              \u001b[3m\u001b[90m<lgl>\u001b[39m\u001b[23m NA, NA, NA, NA, NA, NA, NA, NA, NA, NA, NA, …\n",
      "$ religionNew               \u001b[3m\u001b[90m<fct>\u001b[39m\u001b[23m Catholic, Catholic, Catholic, Catholic, Cath…\n",
      "$ relMin                    \u001b[3m\u001b[90m<lgl>\u001b[39m\u001b[23m TRUE, TRUE, TRUE, TRUE, TRUE, TRUE, TRUE, TR…\n",
      "$ occupation                \u001b[3m\u001b[90m<fct>\u001b[39m\u001b[23m Nun; Social worker; Teacher, Nun; Social wor…\n",
      "$ socialClass               \u001b[3m\u001b[90m<chr>\u001b[39m\u001b[23m \"Nun; Social worker; Teacher\", \"Nun; Social …\n"
     ]
    }
   ],
   "source": [
    "glimpse(letters)"
   ]
  },
  {
   "cell_type": "code",
   "execution_count": 137,
   "metadata": {},
   "outputs": [
    {
     "data": {
      "text/plain": [
       "   Mode   FALSE    TRUE    NA's \n",
       "logical     286     263      68 "
      ]
     },
     "metadata": {},
     "output_type": "display_data"
    },
    {
     "data": {
      "text/plain": [
       "   Mode   FALSE    TRUE    NA's \n",
       "logical     527      22      68 "
      ]
     },
     "metadata": {},
     "output_type": "display_data"
    },
    {
     "data": {
      "text/plain": [
       "   Mode   FALSE    TRUE    NA's \n",
       "logical      32     517      68 "
      ]
     },
     "metadata": {},
     "output_type": "display_data"
    },
    {
     "data": {
      "text/plain": [
       "   Mode   FALSE    TRUE    NA's \n",
       "logical     331     218      68 "
      ]
     },
     "metadata": {},
     "output_type": "display_data"
    }
   ],
   "source": [
    "# Step 1\n",
    "# Agricultural Class (\"A\")\n",
    "\n",
    "rows = which(grepl(paste(A,collapse=\"|\"), letters$socialClass)) # Get rows that meet condition\n",
    "letters['A'] <- NA # Make binary variable and fill with NAs\n",
    "letters$A[!is.na(letters$socialClass)]  <- FALSE # Set non-NA rows to False\n",
    "letters$A[rows] <- TRUE # Set rows meeting condition to True\n",
    "summary(letters$A) #Get summary\n",
    "\n",
    "# Industrial Class (\"I\")\n",
    "\n",
    "rows = which(grepl(paste(I,collapse=\"|\"), letters$socialClass)) # Get rows that meet condition\n",
    "letters['I'] <- NA # Make binary variable an fill with NAs\n",
    "letters$I[!is.na(letters$socialClass)]  <- FALSE # Set non-NA rows to False\n",
    "letters$I[rows] <- TRUE # Set rows meeting condition to True\n",
    "summary(letters$I) #Get summary\n",
    "\n",
    "# Commercial, Clerical & Professional (\"CCP\")\n",
    "\n",
    "rows = which(grepl(paste(CCP,collapse=\"|\"), letters$socialClass)) # Get rows that meet condition\n",
    "letters['CCP'] <- NA # Make binary variable an fill with NAs\n",
    "letters$CCP[!is.na(letters$socialClass)]  <- FALSE # Set non-NA rows to False\n",
    "letters$CCP[rows] <- TRUE # Set rows meeting condition to True\n",
    "summary(letters$CCP) #Get summary\n",
    "\n",
    "# Unknown Class (\"Unknown\")\n",
    "\n",
    "rows = which(grepl(paste(Unknown,collapse=\"|\"), letters$socialClass)) # Get rows that meet condition\n",
    "letters['Unknown'] <- NA # Make binary variable an fill with NAs\n",
    "letters$Unknown[!is.na(letters$socialClass)]  <- FALSE # Set non-NA rows to False\n",
    "letters$Unknown[rows] <- TRUE # Set rows meeting condition to True\n",
    "summary(letters$Unknown) #Get summary"
   ]
  },
  {
   "cell_type": "markdown",
   "metadata": {},
   "source": [
    "I decided not to use this hierarchical approach for reasons explained in the reflexivity blog, but I am keeping the code here in case I decide to change my mind. "
   ]
  },
  {
   "cell_type": "code",
   "execution_count": 138,
   "metadata": {},
   "outputs": [],
   "source": [
    "# This is where I use the available data to indicate where writers are wage labourers.\n",
    "\n",
    "#no = which(grepl(paste(No,collapse=\"|\"), letters$socialClass)) # Get rows that are not wage labourers\n",
    "#yes = which(grepl(paste(Yes,collapse=\"|\"), letters$socialClass)) # Get rows that are wage labourers\n",
    "#maybe = which(grepl(paste(Unknown,collapse=\"|\"), letters$socialClass)) # Get rows that might be wage labourers\n",
    "\n",
    "# The order of the following is important because writers have multiple occupations. \n",
    "# I am treating these as hierarchical, such that the writer is not considered a wage \n",
    "# labourer if any one of their jobs place them in a class above\n",
    "\n",
    "#letters['wageLabour'] <- NA # First, I fill all cells with NA\n",
    "#letters$wageLabour[yes] <- \"TRUE\" # Second, I enter TRUE anytime one of the occupations is Labour\n",
    "#letters$wageLabour[maybe] <- \"Unknown\" # Third, the value is upgraded if there is an occupation that might not be wage labour.\n",
    "#letters$wageLabour[no] <- \"FALSE\" # Finally, the value is upgraded to FALSE if there is a non-labour job.\n",
    "#summary(as.factor(letters$wageLabour))"
   ]
  },
  {
   "cell_type": "code",
   "execution_count": 139,
   "metadata": {},
   "outputs": [
    {
     "data": {
      "text/html": [
       "<style>\n",
       ".dl-inline {width: auto; margin:0; padding: 0}\n",
       ".dl-inline>dt, .dl-inline>dd {float: none; width: auto; display: inline-block}\n",
       ".dl-inline>dt::after {content: \":\\0020\"; padding-right: .5ex}\n",
       ".dl-inline>dt:not(:first-of-type) {padding-left: .5ex}\n",
       "</style><dl class=dl-inline><dt>FALSE</dt><dd>269</dd><dt>TRUE</dt><dd>214</dd><dt>Uncertain</dt><dd>66</dd><dt>NA's</dt><dd>68</dd></dl>\n"
      ],
      "text/latex": [
       "\\begin{description*}\n",
       "\\item[FALSE] 269\n",
       "\\item[TRUE] 214\n",
       "\\item[Uncertain] 66\n",
       "\\item[NA's] 68\n",
       "\\end{description*}\n"
      ],
      "text/markdown": [
       "FALSE\n",
       ":   269TRUE\n",
       ":   214Uncertain\n",
       ":   66NA's\n",
       ":   68\n",
       "\n"
      ],
      "text/plain": [
       "    FALSE      TRUE Uncertain      NA's \n",
       "      269       214        66        68 "
      ]
     },
     "metadata": {},
     "output_type": "display_data"
    }
   ],
   "source": [
    "#This is where I use the available data to indicate where writers are wage labourers.\n",
    "\n",
    "no = which(grepl(paste(No,collapse=\"|\"), letters$socialClass)) # Get rows that are not wage labourers\n",
    "yes = which(grepl(paste(Yes,collapse=\"|\"), letters$socialClass)) # Get rows that are wage labourers\n",
    "maybe = which(grepl(paste(Uncertain,collapse=\"|\"), letters$socialClass)) # Get rows that might be wage labourers\n",
    "\n",
    "# The order of the following is important because writers have multiple occupations. \n",
    "# I have decided to code this variables as TRUE if any one of the writer's position places them \n",
    "# in the labouring class.\n",
    "\n",
    "letters['wageLabour'] <- NA # First, I fill all cells with NA\n",
    "letters$wageLabour[no] <- \"FALSE\" # Finally, the value is upgraded to FALSE if there is a non-labour job.\n",
    "letters$wageLabour[maybe] <- \"Uncertain\" # Third, the value is upgraded if there is an occupation that might not be wage labour.\n",
    "letters$wageLabour[yes] <- \"TRUE\" # Second, I enter TRUE anytime one of the occupations is Labour\n",
    "summary(as.factor(letters$wageLabour))"
   ]
  },
  {
   "cell_type": "markdown",
   "metadata": {},
   "source": [
    "Are the unknowns are indeed labourers only or something else too?"
   ]
  },
  {
   "cell_type": "code",
   "execution_count": 140,
   "metadata": {},
   "outputs": [],
   "source": [
    "letters[\"sourceID\"] <- substr(letters$docid, 1, 4)"
   ]
  },
  {
   "cell_type": "code",
   "execution_count": 141,
   "metadata": {},
   "outputs": [
    {
     "data": {
      "text/html": [
       "<table class=\"dataframe\">\n",
       "<caption>A data.frame: 29 × 3</caption>\n",
       "<thead>\n",
       "\t<tr><th></th><th scope=col>docauthorname</th><th scope=col>socialClass</th><th scope=col>sourceID</th></tr>\n",
       "\t<tr><th></th><th scope=col>&lt;fct&gt;</th><th scope=col>&lt;chr&gt;</th><th scope=col>&lt;chr&gt;</th></tr>\n",
       "</thead>\n",
       "<tbody>\n",
       "\t<tr><th scope=row>1</th><td>Thomas, William, fl. 1852                                          </td><td>Farmer                               </td><td>S316</td></tr>\n",
       "\t<tr><th scope=row>2</th><td>Jones, John Owen, fl. 1848                                         </td><td>Farmer                               </td><td>S316</td></tr>\n",
       "\t<tr><th scope=row>3</th><td>Pugh, Margaret                                                     </td><td>Farmer                               </td><td>S316</td></tr>\n",
       "\t<tr><th scope=row>4</th><td>Owen, Margred                                                      </td><td>Farmer                               </td><td>S316</td></tr>\n",
       "\t<tr><th scope=row>5</th><td>Roberts, Samuel, fl. 1856-1870                                     </td><td>Clergy; Farmer                       </td><td>S316</td></tr>\n",
       "\t<tr><th scope=row>6</th><td>Williams, John R., fl. 1895                                        </td><td>Miner                                </td><td>S316</td></tr>\n",
       "\t<tr><th scope=row>7</th><td>Roberts, Sarah, fl. 1858                                           </td><td>Homemaker                            </td><td>S316</td></tr>\n",
       "\t<tr><th scope=row>11</th><td>Turnbull, Thomas, 1812-1869                                        </td><td>Farmer                               </td><td>S855</td></tr>\n",
       "\t<tr><th scope=row>12</th><td>Carrothers, Nathaniel, ?-1881                                      </td><td>Farmer; Tradesman                    </td><td>S963</td></tr>\n",
       "\t<tr><th scope=row>19</th><td>Carrothers, Joseph, 1793(?)-                                       </td><td>Farmer; Tradesman                    </td><td>S963</td></tr>\n",
       "\t<tr><th scope=row>30</th><td>Anonymous English Male Immigrant in Troy, NY, fl. 1804             </td><td>Farmer; Tradesman                    </td><td>S981</td></tr>\n",
       "\t<tr><th scope=row>32</th><td>Anonymous English Male Immigrant near Washington, D.C., fl. 1822   </td><td>Farmer                               </td><td>S981</td></tr>\n",
       "\t<tr><th scope=row>34</th><td>Anonymous English Male Immigrant in Marietta, OH, fl. 1828         </td><td>Farmer                               </td><td>S981</td></tr>\n",
       "\t<tr><th scope=row>35</th><td>Knight, James, fl. 1831                                            </td><td>Businessman; Tradesman               </td><td>S984</td></tr>\n",
       "\t<tr><th scope=row>36</th><td>Anonymous Male Scottish Immigrant in Buffalo, NY, fl. 1834         </td><td>Tradesman                            </td><td>S986</td></tr>\n",
       "\t<tr><th scope=row>37</th><td>Anonymous Male Scottish Immigrant from Aberdeen, fl. 1832-1834     </td><td>Manufacturer; Farmer; Tradesman      </td><td>S986</td></tr>\n",
       "\t<tr><th scope=row>40</th><td>Anonymous Male Scottish Farmer Immigrant, fl. 1833                 </td><td>Farmer                               </td><td>S986</td></tr>\n",
       "\t<tr><th scope=row>44</th><td>Anonymous Male Scottish Immigrant, fl. 1833                        </td><td>Farmer                               </td><td>S986</td></tr>\n",
       "\t<tr><th scope=row>46</th><td>Anonymous Scottish Cabinet Maker, fl. 1833                         </td><td>Tradesman                            </td><td>S986</td></tr>\n",
       "\t<tr><th scope=row>47</th><td>Anonymous Settler in Canada, fl. 1832                              </td><td>Farmer                               </td><td>S986</td></tr>\n",
       "\t<tr><th scope=row>48</th><td>Anonymous Scottish Gentleman in Canada, fl. 1834                   </td><td>Farmer                               </td><td>S986</td></tr>\n",
       "\t<tr><th scope=row>53</th><td>Anonymous Scottish Farmer from St. Fergus Parish, fl. 1834         </td><td>Farmer                               </td><td>S986</td></tr>\n",
       "\t<tr><th scope=row>54</th><td>Anonymous Scottish Immigrant from Turriff, fl. 1834                </td><td>Manufacturer; Tradesman              </td><td>S986</td></tr>\n",
       "\t<tr><th scope=row>55</th><td>Anonymous Scottish Farmer from Aberdeenshire, fl. 1834             </td><td>Farmer                               </td><td>S986</td></tr>\n",
       "\t<tr><th scope=row>56</th><td>Anonymous Young Scottish Male Immigrant at Whitby, Canada, fl. 1833</td><td>Farmer                               </td><td>S986</td></tr>\n",
       "\t<tr><th scope=row>57</th><td>Anonymous Young Scotsman on the Trent River, Canada, fl. 1833      </td><td>Farmer                               </td><td>S986</td></tr>\n",
       "\t<tr><th scope=row>60</th><td>Graham, Thomas, fl. 1827                                           </td><td>Tradesman                            </td><td>S987</td></tr>\n",
       "\t<tr><th scope=row>62</th><td>Hutchings, James Mason, 1820-1902                                  </td><td>Tradesman; Miner; Writer; Businessman</td><td>S995</td></tr>\n",
       "\t<tr><th scope=row>66</th><td>Downe, John, fl. 1830                                              </td><td>Manufacturer                         </td><td>S997</td></tr>\n",
       "</tbody>\n",
       "</table>\n"
      ],
      "text/latex": [
       "A data.frame: 29 × 3\n",
       "\\begin{tabular}{r|lll}\n",
       "  & docauthorname & socialClass & sourceID\\\\\n",
       "  & <fct> & <chr> & <chr>\\\\\n",
       "\\hline\n",
       "\t1 & Thomas, William, fl. 1852                                           & Farmer                                & S316\\\\\n",
       "\t2 & Jones, John Owen, fl. 1848                                          & Farmer                                & S316\\\\\n",
       "\t3 & Pugh, Margaret                                                      & Farmer                                & S316\\\\\n",
       "\t4 & Owen, Margred                                                       & Farmer                                & S316\\\\\n",
       "\t5 & Roberts, Samuel, fl. 1856-1870                                      & Clergy; Farmer                        & S316\\\\\n",
       "\t6 & Williams, John R., fl. 1895                                         & Miner                                 & S316\\\\\n",
       "\t7 & Roberts, Sarah, fl. 1858                                            & Homemaker                             & S316\\\\\n",
       "\t11 & Turnbull, Thomas, 1812-1869                                         & Farmer                                & S855\\\\\n",
       "\t12 & Carrothers, Nathaniel, ?-1881                                       & Farmer; Tradesman                     & S963\\\\\n",
       "\t19 & Carrothers, Joseph, 1793(?)-                                        & Farmer; Tradesman                     & S963\\\\\n",
       "\t30 & Anonymous English Male Immigrant in Troy, NY, fl. 1804              & Farmer; Tradesman                     & S981\\\\\n",
       "\t32 & Anonymous English Male Immigrant near Washington, D.C., fl. 1822    & Farmer                                & S981\\\\\n",
       "\t34 & Anonymous English Male Immigrant in Marietta, OH, fl. 1828          & Farmer                                & S981\\\\\n",
       "\t35 & Knight, James, fl. 1831                                             & Businessman; Tradesman                & S984\\\\\n",
       "\t36 & Anonymous Male Scottish Immigrant in Buffalo, NY, fl. 1834          & Tradesman                             & S986\\\\\n",
       "\t37 & Anonymous Male Scottish Immigrant from Aberdeen, fl. 1832-1834      & Manufacturer; Farmer; Tradesman       & S986\\\\\n",
       "\t40 & Anonymous Male Scottish Farmer Immigrant, fl. 1833                  & Farmer                                & S986\\\\\n",
       "\t44 & Anonymous Male Scottish Immigrant, fl. 1833                         & Farmer                                & S986\\\\\n",
       "\t46 & Anonymous Scottish Cabinet Maker, fl. 1833                          & Tradesman                             & S986\\\\\n",
       "\t47 & Anonymous Settler in Canada, fl. 1832                               & Farmer                                & S986\\\\\n",
       "\t48 & Anonymous Scottish Gentleman in Canada, fl. 1834                    & Farmer                                & S986\\\\\n",
       "\t53 & Anonymous Scottish Farmer from St. Fergus Parish, fl. 1834          & Farmer                                & S986\\\\\n",
       "\t54 & Anonymous Scottish Immigrant from Turriff, fl. 1834                 & Manufacturer; Tradesman               & S986\\\\\n",
       "\t55 & Anonymous Scottish Farmer from Aberdeenshire, fl. 1834              & Farmer                                & S986\\\\\n",
       "\t56 & Anonymous Young Scottish Male Immigrant at Whitby, Canada, fl. 1833 & Farmer                                & S986\\\\\n",
       "\t57 & Anonymous Young Scotsman on the Trent River, Canada, fl. 1833       & Farmer                                & S986\\\\\n",
       "\t60 & Graham, Thomas, fl. 1827                                            & Tradesman                             & S987\\\\\n",
       "\t62 & Hutchings, James Mason, 1820-1902                                   & Tradesman; Miner; Writer; Businessman & S995\\\\\n",
       "\t66 & Downe, John, fl. 1830                                               & Manufacturer                          & S997\\\\\n",
       "\\end{tabular}\n"
      ],
      "text/markdown": [
       "\n",
       "A data.frame: 29 × 3\n",
       "\n",
       "| <!--/--> | docauthorname &lt;fct&gt; | socialClass &lt;chr&gt; | sourceID &lt;chr&gt; |\n",
       "|---|---|---|---|\n",
       "| 1 | Thomas, William, fl. 1852                                           | Farmer                                | S316 |\n",
       "| 2 | Jones, John Owen, fl. 1848                                          | Farmer                                | S316 |\n",
       "| 3 | Pugh, Margaret                                                      | Farmer                                | S316 |\n",
       "| 4 | Owen, Margred                                                       | Farmer                                | S316 |\n",
       "| 5 | Roberts, Samuel, fl. 1856-1870                                      | Clergy; Farmer                        | S316 |\n",
       "| 6 | Williams, John R., fl. 1895                                         | Miner                                 | S316 |\n",
       "| 7 | Roberts, Sarah, fl. 1858                                            | Homemaker                             | S316 |\n",
       "| 11 | Turnbull, Thomas, 1812-1869                                         | Farmer                                | S855 |\n",
       "| 12 | Carrothers, Nathaniel, ?-1881                                       | Farmer; Tradesman                     | S963 |\n",
       "| 19 | Carrothers, Joseph, 1793(?)-                                        | Farmer; Tradesman                     | S963 |\n",
       "| 30 | Anonymous English Male Immigrant in Troy, NY, fl. 1804              | Farmer; Tradesman                     | S981 |\n",
       "| 32 | Anonymous English Male Immigrant near Washington, D.C., fl. 1822    | Farmer                                | S981 |\n",
       "| 34 | Anonymous English Male Immigrant in Marietta, OH, fl. 1828          | Farmer                                | S981 |\n",
       "| 35 | Knight, James, fl. 1831                                             | Businessman; Tradesman                | S984 |\n",
       "| 36 | Anonymous Male Scottish Immigrant in Buffalo, NY, fl. 1834          | Tradesman                             | S986 |\n",
       "| 37 | Anonymous Male Scottish Immigrant from Aberdeen, fl. 1832-1834      | Manufacturer; Farmer; Tradesman       | S986 |\n",
       "| 40 | Anonymous Male Scottish Farmer Immigrant, fl. 1833                  | Farmer                                | S986 |\n",
       "| 44 | Anonymous Male Scottish Immigrant, fl. 1833                         | Farmer                                | S986 |\n",
       "| 46 | Anonymous Scottish Cabinet Maker, fl. 1833                          | Tradesman                             | S986 |\n",
       "| 47 | Anonymous Settler in Canada, fl. 1832                               | Farmer                                | S986 |\n",
       "| 48 | Anonymous Scottish Gentleman in Canada, fl. 1834                    | Farmer                                | S986 |\n",
       "| 53 | Anonymous Scottish Farmer from St. Fergus Parish, fl. 1834          | Farmer                                | S986 |\n",
       "| 54 | Anonymous Scottish Immigrant from Turriff, fl. 1834                 | Manufacturer; Tradesman               | S986 |\n",
       "| 55 | Anonymous Scottish Farmer from Aberdeenshire, fl. 1834              | Farmer                                | S986 |\n",
       "| 56 | Anonymous Young Scottish Male Immigrant at Whitby, Canada, fl. 1833 | Farmer                                | S986 |\n",
       "| 57 | Anonymous Young Scotsman on the Trent River, Canada, fl. 1833       | Farmer                                | S986 |\n",
       "| 60 | Graham, Thomas, fl. 1827                                            | Tradesman                             | S987 |\n",
       "| 62 | Hutchings, James Mason, 1820-1902                                   | Tradesman; Miner; Writer; Businessman | S995 |\n",
       "| 66 | Downe, John, fl. 1830                                               | Manufacturer                          | S997 |\n",
       "\n"
      ],
      "text/plain": [
       "   docauthorname                                                      \n",
       "1  Thomas, William, fl. 1852                                          \n",
       "2  Jones, John Owen, fl. 1848                                         \n",
       "3  Pugh, Margaret                                                     \n",
       "4  Owen, Margred                                                      \n",
       "5  Roberts, Samuel, fl. 1856-1870                                     \n",
       "6  Williams, John R., fl. 1895                                        \n",
       "7  Roberts, Sarah, fl. 1858                                           \n",
       "11 Turnbull, Thomas, 1812-1869                                        \n",
       "12 Carrothers, Nathaniel, ?-1881                                      \n",
       "19 Carrothers, Joseph, 1793(?)-                                       \n",
       "30 Anonymous English Male Immigrant in Troy, NY, fl. 1804             \n",
       "32 Anonymous English Male Immigrant near Washington, D.C., fl. 1822   \n",
       "34 Anonymous English Male Immigrant in Marietta, OH, fl. 1828         \n",
       "35 Knight, James, fl. 1831                                            \n",
       "36 Anonymous Male Scottish Immigrant in Buffalo, NY, fl. 1834         \n",
       "37 Anonymous Male Scottish Immigrant from Aberdeen, fl. 1832-1834     \n",
       "40 Anonymous Male Scottish Farmer Immigrant, fl. 1833                 \n",
       "44 Anonymous Male Scottish Immigrant, fl. 1833                        \n",
       "46 Anonymous Scottish Cabinet Maker, fl. 1833                         \n",
       "47 Anonymous Settler in Canada, fl. 1832                              \n",
       "48 Anonymous Scottish Gentleman in Canada, fl. 1834                   \n",
       "53 Anonymous Scottish Farmer from St. Fergus Parish, fl. 1834         \n",
       "54 Anonymous Scottish Immigrant from Turriff, fl. 1834                \n",
       "55 Anonymous Scottish Farmer from Aberdeenshire, fl. 1834             \n",
       "56 Anonymous Young Scottish Male Immigrant at Whitby, Canada, fl. 1833\n",
       "57 Anonymous Young Scotsman on the Trent River, Canada, fl. 1833      \n",
       "60 Graham, Thomas, fl. 1827                                           \n",
       "62 Hutchings, James Mason, 1820-1902                                  \n",
       "66 Downe, John, fl. 1830                                              \n",
       "   socialClass                           sourceID\n",
       "1  Farmer                                S316    \n",
       "2  Farmer                                S316    \n",
       "3  Farmer                                S316    \n",
       "4  Farmer                                S316    \n",
       "5  Clergy; Farmer                        S316    \n",
       "6  Miner                                 S316    \n",
       "7  Homemaker                             S316    \n",
       "11 Farmer                                S855    \n",
       "12 Farmer; Tradesman                     S963    \n",
       "19 Farmer; Tradesman                     S963    \n",
       "30 Farmer; Tradesman                     S981    \n",
       "32 Farmer                                S981    \n",
       "34 Farmer                                S981    \n",
       "35 Businessman; Tradesman                S984    \n",
       "36 Tradesman                             S986    \n",
       "37 Manufacturer; Farmer; Tradesman       S986    \n",
       "40 Farmer                                S986    \n",
       "44 Farmer                                S986    \n",
       "46 Tradesman                             S986    \n",
       "47 Farmer                                S986    \n",
       "48 Farmer                                S986    \n",
       "53 Farmer                                S986    \n",
       "54 Manufacturer; Tradesman               S986    \n",
       "55 Farmer                                S986    \n",
       "56 Farmer                                S986    \n",
       "57 Farmer                                S986    \n",
       "60 Tradesman                             S987    \n",
       "62 Tradesman; Miner; Writer; Businessman S995    \n",
       "66 Manufacturer                          S997    "
      ]
     },
     "metadata": {},
     "output_type": "display_data"
    }
   ],
   "source": [
    "letters %>% \n",
    "filter(wageLabour == \"Uncertain\") %>% \n",
    "select(docauthorname, socialClass, sourceID) %>% \n",
    "unique()"
   ]
  },
  {
   "cell_type": "markdown",
   "metadata": {},
   "source": [
    "What follows is a case-by-case determination of whether the author is a wage labourer. These assessments are based on the letter text and in some cases online biographical research."
   ]
  },
  {
   "cell_type": "code",
   "execution_count": 142,
   "metadata": {},
   "outputs": [],
   "source": [
    "letters$wageLabour[letters$docauthorname==\"Thomas, William, fl. 1852\"] <- \"FALSE\"\n",
    "letters$wageLabour[letters$docauthorname==\"Jones, John Owen, fl. 1848\"] <- \"FALSE\"\n",
    "letters$wageLabour[letters$docauthorname==\"Pugh, Margaret\"] <- \"FALSE\""
   ]
  },
  {
   "cell_type": "markdown",
   "metadata": {},
   "source": [
    "According to the introduction to the Welsh in America, Samuel Roberts was a \"Congregational minister from Llanbrynmair who was also a tenant farmer, a scholar, and a considerable social force in\n",
    "19th century Wales\" (Conway, 1961, p.10). Tenant farmers were not wage laborers. Therefore, this person will be coded as \"FALSE.\""
   ]
  },
  {
   "cell_type": "code",
   "execution_count": 143,
   "metadata": {},
   "outputs": [],
   "source": [
    "letters$wageLabour[letters$docauthorname==\"Roberts, Samuel, fl. 1856-1870\"] <- \"FALSE\""
   ]
  },
  {
   "cell_type": "markdown",
   "metadata": {},
   "source": [
    "This author specifically mentions his pay ($1.88/per day) and can therefore be coded as TRUE for wage labourer. "
   ]
  },
  {
   "cell_type": "code",
   "execution_count": 144,
   "metadata": {},
   "outputs": [],
   "source": [
    "letters$wageLabour[letters$docauthorname==\"Williams, John R., fl. 1895\"] <- \"TRUE\""
   ]
  },
  {
   "cell_type": "markdown",
   "metadata": {},
   "source": [
    "As explained previously in this notebook, Sarah and her husband Humphrey appear to be involved in farming and potentially some form of industrial wage labour, although it is not possible to discern if they are personally engaged in this form of work or just familiar with it because their sons and people in their community are engaged in it. Sarah mentions that “things are dearer in the towns than here in the country,” which does indicate that they are principally involved in farming rather than industrial work. She refers to “fair prices” for horses, which indicates that they are likely independent farmers rather than farmhands, but her knowledge of wages for labourers and working conditions in industrial settings indicates that she is very close to this lifestyle. My net impression from Sarah’s letters are that she and Humphrey are farmers but well-connected with the wider Welsh community, which is involved in a variety industries and the wage labour that is associated with it. For this reason, I am coding her as FALSE for wage labour."
   ]
  },
  {
   "cell_type": "code",
   "execution_count": 145,
   "metadata": {},
   "outputs": [],
   "source": [
    "letters$wageLabour[letters$docauthorname==\"Roberts, Sarah, fl. 1858\"] <- \"FALSE\""
   ]
  },
  {
   "cell_type": "markdown",
   "metadata": {},
   "source": [
    "Thomas initially sounds like a poor labourer because he makes multiple references to his terrible situation and to work, or rather his inability to do any, because of an illness. The metadata shows him as a farmer, but his letter goes on to speak of mining – particularly independent prospecting, which involved hiring men and purchasing tools. I therefore add mining to his list of occupations. In the introduction to his travel journal, an editor mentions that Thomas and his brother “worked a lime kiln” until forced away by illness, then they bought land and became farmers until the Gold Rush struck, at which point only Thomas continued westward (Turnbull, 1914, p. 151). It is not clear whether Thomas’ role at the lime kiln was as a paid labourer or as an owner-operator. However, given his “solid education” and other entrepreneurial / independent professions, I lean toward not treating Thomas a wage labourer (Turnbull, 1914, p. 151). "
   ]
  },
  {
   "cell_type": "code",
   "execution_count": 146,
   "metadata": {},
   "outputs": [],
   "source": [
    "letters$wageLabour[letters$docauthorname==\"Turnbull, Thomas, 1812-1869\"] <- \"FALSE\"\n",
    "letters$socialClass[letters$docauthorname==\"Turnbull, Thomas, 1812-1869\"] <- \"Farmer; Miner\""
   ]
  },
  {
   "cell_type": "markdown",
   "metadata": {},
   "source": [
    "Although Nathaniel ended up buying land and becoming a farmer, he started off as a carpenter working for wages, which he reported to be five shillings per day to 20 dollars per month (Z_Houston1990_IrishEmigration.txt). Because of this experience with wage labour, I will enter \"TRUE\" for him and his brother."
   ]
  },
  {
   "cell_type": "code",
   "execution_count": 147,
   "metadata": {},
   "outputs": [],
   "source": [
    "letters$wageLabour[letters$docauthorname==\"Carrothers, Nathaniel, ?-1881\"] <- \"TRUE\"\n",
    "letters$wageLabour[letters$docauthorname==\"Carrothers, Joseph, 1793(?)-\"] <- \"TRUE\"\n",
    "letters$wageLabour[letters$docauthorname==\"Anonymous English Male Immigrant in Troy, NY, fl. 1804\"] <- \"FALSE\"\n",
    "letters$wageLabour[letters$docauthorname==\"Anonymous English Male Immigrant near Washington, D.C., fl. 1822\"] <- \"FALSE\"\n",
    "letters$wageLabour[letters$docauthorname==\"Anonymous English Male Immigrant in Marietta, OH, fl. 1828\"] <- \"FALSE\"\n",
    "letters$wageLabour[letters$docauthorname==\"Knight, James, fl. 1831\"] <- \"FALSE\"\n",
    "letters$wageLabour[letters$docauthorname==\"Anonymous Male Scottish Immigrant in Buffalo, NY, fl. 1834\"] <- \"TRUE\"\n",
    "letters$wageLabour[letters$docauthorname==\"Anonymous Male Scottish Immigrant from Aberdeen, fl. 1832-1834\"] <- \"FALSE\"\n",
    "letters$wageLabour[letters$docauthorname==\"Anonymous Male Scottish Farmer Immigrant, fl. 1833\"] <- \"FALSE\"\n",
    "letters$wageLabour[letters$docauthorname==\"Anonymous Male Scottish Immigrant, fl. 1833\"] <- \"FALSE\"\n",
    "letters$wageLabour[letters$docauthorname==\"Anonymous Scottish Cabinet Maker, fl. 1833\"] <- \"TRUE\"\n",
    "letters$wageLabour[letters$docauthorname==\"Anonymous Settler in Canada, fl. 1832\"] <- \"FALSE\"\n",
    "letters$wageLabour[letters$docauthorname==\"Anonymous Scottish Gentleman in Canada, fl. 1834\"] <- \"FALSE\"\n",
    "letters$wageLabour[letters$docauthorname==\"Anonymous Scottish Farmer from St. Fergus Parish, fl. 1834\"] <- \"FALSE\"\n",
    "letters$wageLabour[letters$docauthorname==\"Anonymous Scottish Immigrant from Turriff, fl. 1834\"] <- \"TRUE\"\n",
    "letters$wageLabour[letters$docauthorname==\"Anonymous Scottish Farmer from Aberdeenshire, fl. 1834\"] <- \"FALSE\"\n",
    "letters$wageLabour[letters$docauthorname==\"Anonymous Young Scottish Male Immigrant at Whitby, Canada, fl. 1833\"] <- \"FALSE\"\n",
    "letters$wageLabour[letters$docauthorname==\"Anonymous Young Scotsman on the Trent River, Canada, fl. 1833\"] <- \"FALSE\"\n",
    "letters$wageLabour[letters$docauthorname==\"Graham, Thomas, fl. 1827\"] <- \"TRUE\"\n",
    "letters$wageLabour[letters$docauthorname==\"Hutchings, James Mason, 1820-1902\"] <- \"FALSE\""
   ]
  },
  {
   "cell_type": "markdown",
   "metadata": {},
   "source": [
    "This writer is a prospector but also writes about the necessity of serving as a day labourer on a canal or railway project, but this appearst to be advice for others, not his own experience. His work appears to be as a gold digger / prospector who teams up with others but is still more-less independent. "
   ]
  },
  {
   "cell_type": "code",
   "execution_count": 148,
   "metadata": {},
   "outputs": [],
   "source": [
    "letters$wageLabour[letters$docauthorname==\"Downe, John, fl. 1830\"] <- \"FALSE\""
   ]
  },
  {
   "cell_type": "markdown",
   "metadata": {},
   "source": [
    "This writer is a woman who is part of a family that was able to buy land and was in the process of establishing a homestead, although wage labour seems to have contributed to them being able to do this. It is not clear how much farming they are doing themselves, as opposed to purchasing or trading for provisions. For this reason, I am going to code them as TRUE for wage labour."
   ]
  },
  {
   "cell_type": "code",
   "execution_count": 149,
   "metadata": {},
   "outputs": [],
   "source": [
    "letters$wageLabour[letters$docauthorname==\"Owen, Margred\"] <- \"TRUE\""
   ]
  },
  {
   "cell_type": "code",
   "execution_count": 150,
   "metadata": {},
   "outputs": [
    {
     "data": {
      "text/html": [
       "<style>\n",
       ".dl-inline {width: auto; margin:0; padding: 0}\n",
       ".dl-inline>dt, .dl-inline>dd {float: none; width: auto; display: inline-block}\n",
       ".dl-inline>dt::after {content: \":\\0020\"; padding-right: .5ex}\n",
       ".dl-inline>dt:not(:first-of-type) {padding-left: .5ex}\n",
       "</style><dl class=dl-inline><dt>FALSE</dt><dd>310</dd><dt>TRUE</dt><dd>239</dd><dt>NA's</dt><dd>68</dd></dl>\n"
      ],
      "text/latex": [
       "\\begin{description*}\n",
       "\\item[FALSE] 310\n",
       "\\item[TRUE] 239\n",
       "\\item[NA's] 68\n",
       "\\end{description*}\n"
      ],
      "text/markdown": [
       "FALSE\n",
       ":   310TRUE\n",
       ":   239NA's\n",
       ":   68\n",
       "\n"
      ],
      "text/plain": [
       "FALSE  TRUE  NA's \n",
       "  310   239    68 "
      ]
     },
     "metadata": {},
     "output_type": "display_data"
    }
   ],
   "source": [
    "# Where are we with this variable\n",
    "summary(as.factor(letters$wageLabour))"
   ]
  },
  {
   "cell_type": "code",
   "execution_count": 151,
   "metadata": {},
   "outputs": [],
   "source": [
    "letters$wageLabour <- as.logical(letters$wageLabour)"
   ]
  },
  {
   "cell_type": "markdown",
   "metadata": {},
   "source": [
    "Bayesian imputation will be used to fill in values for the NAs for wageLabour."
   ]
  },
  {
   "cell_type": "code",
   "execution_count": 152,
   "metadata": {},
   "outputs": [
    {
     "data": {
      "text/html": [
       "<table class=\"dataframe\">\n",
       "<caption>A data.frame: 39 × 7</caption>\n",
       "<thead>\n",
       "\t<tr><th></th><th scope=col>north_american_occupation</th><th scope=col>socialClass</th><th scope=col>A</th><th scope=col>I</th><th scope=col>CCP</th><th scope=col>Unknown</th><th scope=col>wageLabour</th></tr>\n",
       "\t<tr><th></th><th scope=col>&lt;fct&gt;</th><th scope=col>&lt;chr&gt;</th><th scope=col>&lt;lgl&gt;</th><th scope=col>&lt;lgl&gt;</th><th scope=col>&lt;lgl&gt;</th><th scope=col>&lt;lgl&gt;</th><th scope=col>&lt;lgl&gt;</th></tr>\n",
       "</thead>\n",
       "<tbody>\n",
       "\t<tr><th scope=row>1</th><td>Nun; Social worker; Teacher                                       </td><td>Nun; Social worker; Teacher                       </td><td>FALSE</td><td>FALSE</td><td> TRUE</td><td>FALSE</td><td>FALSE</td></tr>\n",
       "\t<tr><th scope=row>56</th><td>Military wife; Writer                                             </td><td>Military personnel; Writer                        </td><td>FALSE</td><td>FALSE</td><td> TRUE</td><td>FALSE</td><td>FALSE</td></tr>\n",
       "\t<tr><th scope=row>190</th><td>NA                                                                </td><td>NA                                                </td><td>   NA</td><td>   NA</td><td>   NA</td><td>   NA</td><td>   NA</td></tr>\n",
       "\t<tr><th scope=row>195</th><td>Clergy                                                            </td><td>Clergy                                            </td><td>FALSE</td><td>FALSE</td><td> TRUE</td><td>FALSE</td><td>FALSE</td></tr>\n",
       "\t<tr><th scope=row>199</th><td>Farmer                                                            </td><td>Farmer                                            </td><td> TRUE</td><td>FALSE</td><td>FALSE</td><td>FALSE</td><td>FALSE</td></tr>\n",
       "\t<tr><th scope=row>201</th><td>Farmer's wife                                                     </td><td>Farmer                                            </td><td> TRUE</td><td>FALSE</td><td>FALSE</td><td>FALSE</td><td>FALSE</td></tr>\n",
       "\t<tr><th scope=row>202</th><td>Farmer's wife                                                     </td><td>Farmer                                            </td><td> TRUE</td><td>FALSE</td><td>FALSE</td><td>FALSE</td><td> TRUE</td></tr>\n",
       "\t<tr><th scope=row>204</th><td>NA                                                                </td><td>Clergy; Farmer                                    </td><td> TRUE</td><td>FALSE</td><td> TRUE</td><td>FALSE</td><td>FALSE</td></tr>\n",
       "\t<tr><th scope=row>206</th><td>Miner                                                             </td><td>Miner                                             </td><td>FALSE</td><td> TRUE</td><td>FALSE</td><td>FALSE</td><td> TRUE</td></tr>\n",
       "\t<tr><th scope=row>207</th><td>Homemaker                                                         </td><td>Homemaker                                         </td><td>FALSE</td><td>FALSE</td><td>FALSE</td><td> TRUE</td><td>FALSE</td></tr>\n",
       "\t<tr><th scope=row>216</th><td>Architect; Artist; Businessman; Clergy; Educator                  </td><td>Farmer; Merchant; Laborer                         </td><td> TRUE</td><td>FALSE</td><td> TRUE</td><td> TRUE</td><td> TRUE</td></tr>\n",
       "\t<tr><th scope=row>217</th><td>Architect; Artist; Businessman; Clergy                            </td><td>Farmer; Merchant; Laborer                         </td><td> TRUE</td><td>FALSE</td><td> TRUE</td><td> TRUE</td><td> TRUE</td></tr>\n",
       "\t<tr><th scope=row>256</th><td>Architect; Artist; Businessman; Clergy; Educator; Farmer          </td><td>Businessman                                       </td><td>FALSE</td><td>FALSE</td><td> TRUE</td><td>FALSE</td><td>FALSE</td></tr>\n",
       "\t<tr><th scope=row>266</th><td>Architect; Artist; Businessman; Clergy; Educator; Farmer          </td><td>Artist; Educator                                  </td><td>FALSE</td><td>FALSE</td><td> TRUE</td><td>FALSE</td><td>FALSE</td></tr>\n",
       "\t<tr><th scope=row>296</th><td>Architect; Artist; Businessman; Educator; Farmer                  </td><td>Writer; Printer                                   </td><td>FALSE</td><td>FALSE</td><td> TRUE</td><td>FALSE</td><td>FALSE</td></tr>\n",
       "\t<tr><th scope=row>392</th><td>Architect; Artist; Businessman; Clergy; Educator; Farmer; Merchant</td><td>Architect                                         </td><td>FALSE</td><td>FALSE</td><td> TRUE</td><td>FALSE</td><td>FALSE</td></tr>\n",
       "\t<tr><th scope=row>445</th><td>Farmer                                                            </td><td>Farmer; Miner                                     </td><td> TRUE</td><td>FALSE</td><td>FALSE</td><td>FALSE</td><td>FALSE</td></tr>\n",
       "\t<tr><th scope=row>446</th><td>Government appointee; Politician; Religious leader                </td><td>Government appointee; Politician; Religious leader</td><td>FALSE</td><td>FALSE</td><td> TRUE</td><td>FALSE</td><td>FALSE</td></tr>\n",
       "\t<tr><th scope=row>449</th><td>Farmer; Tradesman                                                 </td><td>Farmer; Tradesman                                 </td><td> TRUE</td><td>FALSE</td><td> TRUE</td><td>FALSE</td><td> TRUE</td></tr>\n",
       "\t<tr><th scope=row>467</th><td>NA                                                                </td><td>Businessman                                       </td><td>FALSE</td><td>FALSE</td><td> TRUE</td><td>FALSE</td><td>FALSE</td></tr>\n",
       "\t<tr><th scope=row>473</th><td>Miner; Rancher; Laborer                                           </td><td>Miner; Laborer; Rancher; Government employee      </td><td> TRUE</td><td> TRUE</td><td> TRUE</td><td> TRUE</td><td> TRUE</td></tr>\n",
       "\t<tr><th scope=row>485</th><td>Clergy; Educator; Writer                                          </td><td>Clergy; Educator; Writer                          </td><td>FALSE</td><td>FALSE</td><td> TRUE</td><td>FALSE</td><td>FALSE</td></tr>\n",
       "\t<tr><th scope=row>487</th><td>Farmer; Tradesman                                                 </td><td>Farmer; Tradesman                                 </td><td> TRUE</td><td>FALSE</td><td> TRUE</td><td>FALSE</td><td>FALSE</td></tr>\n",
       "\t<tr><th scope=row>535</th><td>NA                                                                </td><td>Businessman; Tradesman                            </td><td>FALSE</td><td>FALSE</td><td> TRUE</td><td>FALSE</td><td>FALSE</td></tr>\n",
       "\t<tr><th scope=row>539</th><td>Government employee                                               </td><td>Government employee                               </td><td>FALSE</td><td>FALSE</td><td> TRUE</td><td>FALSE</td><td>FALSE</td></tr>\n",
       "\t<tr><th scope=row>540</th><td>Government appointee                                              </td><td>Government appointee; Merchant                    </td><td>FALSE</td><td>FALSE</td><td> TRUE</td><td>FALSE</td><td>FALSE</td></tr>\n",
       "\t<tr><th scope=row>541</th><td>Teacher                                                           </td><td>Teacher; Writer; Printer                          </td><td>FALSE</td><td>FALSE</td><td> TRUE</td><td>FALSE</td><td>FALSE</td></tr>\n",
       "\t<tr><th scope=row>543</th><td>Tradesman                                                         </td><td>Tradesman                                         </td><td>FALSE</td><td>FALSE</td><td> TRUE</td><td>FALSE</td><td> TRUE</td></tr>\n",
       "\t<tr><th scope=row>544</th><td>Surveyor                                                          </td><td>Surveyor                                          </td><td>FALSE</td><td>FALSE</td><td> TRUE</td><td>FALSE</td><td>FALSE</td></tr>\n",
       "\t<tr><th scope=row>547</th><td>Manufacturer                                                      </td><td>Manufacturer; Farmer; Tradesman                   </td><td> TRUE</td><td> TRUE</td><td> TRUE</td><td>FALSE</td><td>FALSE</td></tr>\n",
       "\t<tr><th scope=row>562</th><td>NA                                                                </td><td>Urban planner                                     </td><td>FALSE</td><td>FALSE</td><td> TRUE</td><td>FALSE</td><td>FALSE</td></tr>\n",
       "\t<tr><th scope=row>569</th><td>NA                                                                </td><td>Manufacturer; Tradesman                           </td><td>FALSE</td><td> TRUE</td><td> TRUE</td><td>FALSE</td><td> TRUE</td></tr>\n",
       "\t<tr><th scope=row>571</th><td>Clergy; Missionary                                                </td><td>Clergy; Missionary                                </td><td>FALSE</td><td>FALSE</td><td> TRUE</td><td>FALSE</td><td>FALSE</td></tr>\n",
       "\t<tr><th scope=row>582</th><td>Royal governor                                                    </td><td>Military personnel; Royal governor                </td><td>FALSE</td><td>FALSE</td><td> TRUE</td><td>FALSE</td><td>FALSE</td></tr>\n",
       "\t<tr><th scope=row>585</th><td>NA                                                                </td><td>Tradesman                                         </td><td>FALSE</td><td>FALSE</td><td> TRUE</td><td>FALSE</td><td> TRUE</td></tr>\n",
       "\t<tr><th scope=row>592</th><td>Laborer; Tradesman                                                </td><td>Laborer; Tradesman                                </td><td>FALSE</td><td>FALSE</td><td> TRUE</td><td> TRUE</td><td> TRUE</td></tr>\n",
       "\t<tr><th scope=row>603</th><td>Writer                                                            </td><td>Writer                                            </td><td>FALSE</td><td>FALSE</td><td> TRUE</td><td>FALSE</td><td>FALSE</td></tr>\n",
       "\t<tr><th scope=row>611</th><td>Miner                                                             </td><td>Tradesman; Miner; Writer; Businessman             </td><td>FALSE</td><td> TRUE</td><td> TRUE</td><td>FALSE</td><td>FALSE</td></tr>\n",
       "\t<tr><th scope=row>616</th><td>Manufacturer                                                      </td><td>Manufacturer                                      </td><td>FALSE</td><td> TRUE</td><td>FALSE</td><td>FALSE</td><td>FALSE</td></tr>\n",
       "</tbody>\n",
       "</table>\n"
      ],
      "text/latex": [
       "A data.frame: 39 × 7\n",
       "\\begin{tabular}{r|lllllll}\n",
       "  & north\\_american\\_occupation & socialClass & A & I & CCP & Unknown & wageLabour\\\\\n",
       "  & <fct> & <chr> & <lgl> & <lgl> & <lgl> & <lgl> & <lgl>\\\\\n",
       "\\hline\n",
       "\t1 & Nun; Social worker; Teacher                                        & Nun; Social worker; Teacher                        & FALSE & FALSE &  TRUE & FALSE & FALSE\\\\\n",
       "\t56 & Military wife; Writer                                              & Military personnel; Writer                         & FALSE & FALSE &  TRUE & FALSE & FALSE\\\\\n",
       "\t190 & NA                                                                 & NA                                                 &    NA &    NA &    NA &    NA &    NA\\\\\n",
       "\t195 & Clergy                                                             & Clergy                                             & FALSE & FALSE &  TRUE & FALSE & FALSE\\\\\n",
       "\t199 & Farmer                                                             & Farmer                                             &  TRUE & FALSE & FALSE & FALSE & FALSE\\\\\n",
       "\t201 & Farmer's wife                                                      & Farmer                                             &  TRUE & FALSE & FALSE & FALSE & FALSE\\\\\n",
       "\t202 & Farmer's wife                                                      & Farmer                                             &  TRUE & FALSE & FALSE & FALSE &  TRUE\\\\\n",
       "\t204 & NA                                                                 & Clergy; Farmer                                     &  TRUE & FALSE &  TRUE & FALSE & FALSE\\\\\n",
       "\t206 & Miner                                                              & Miner                                              & FALSE &  TRUE & FALSE & FALSE &  TRUE\\\\\n",
       "\t207 & Homemaker                                                          & Homemaker                                          & FALSE & FALSE & FALSE &  TRUE & FALSE\\\\\n",
       "\t216 & Architect; Artist; Businessman; Clergy; Educator                   & Farmer; Merchant; Laborer                          &  TRUE & FALSE &  TRUE &  TRUE &  TRUE\\\\\n",
       "\t217 & Architect; Artist; Businessman; Clergy                             & Farmer; Merchant; Laborer                          &  TRUE & FALSE &  TRUE &  TRUE &  TRUE\\\\\n",
       "\t256 & Architect; Artist; Businessman; Clergy; Educator; Farmer           & Businessman                                        & FALSE & FALSE &  TRUE & FALSE & FALSE\\\\\n",
       "\t266 & Architect; Artist; Businessman; Clergy; Educator; Farmer           & Artist; Educator                                   & FALSE & FALSE &  TRUE & FALSE & FALSE\\\\\n",
       "\t296 & Architect; Artist; Businessman; Educator; Farmer                   & Writer; Printer                                    & FALSE & FALSE &  TRUE & FALSE & FALSE\\\\\n",
       "\t392 & Architect; Artist; Businessman; Clergy; Educator; Farmer; Merchant & Architect                                          & FALSE & FALSE &  TRUE & FALSE & FALSE\\\\\n",
       "\t445 & Farmer                                                             & Farmer; Miner                                      &  TRUE & FALSE & FALSE & FALSE & FALSE\\\\\n",
       "\t446 & Government appointee; Politician; Religious leader                 & Government appointee; Politician; Religious leader & FALSE & FALSE &  TRUE & FALSE & FALSE\\\\\n",
       "\t449 & Farmer; Tradesman                                                  & Farmer; Tradesman                                  &  TRUE & FALSE &  TRUE & FALSE &  TRUE\\\\\n",
       "\t467 & NA                                                                 & Businessman                                        & FALSE & FALSE &  TRUE & FALSE & FALSE\\\\\n",
       "\t473 & Miner; Rancher; Laborer                                            & Miner; Laborer; Rancher; Government employee       &  TRUE &  TRUE &  TRUE &  TRUE &  TRUE\\\\\n",
       "\t485 & Clergy; Educator; Writer                                           & Clergy; Educator; Writer                           & FALSE & FALSE &  TRUE & FALSE & FALSE\\\\\n",
       "\t487 & Farmer; Tradesman                                                  & Farmer; Tradesman                                  &  TRUE & FALSE &  TRUE & FALSE & FALSE\\\\\n",
       "\t535 & NA                                                                 & Businessman; Tradesman                             & FALSE & FALSE &  TRUE & FALSE & FALSE\\\\\n",
       "\t539 & Government employee                                                & Government employee                                & FALSE & FALSE &  TRUE & FALSE & FALSE\\\\\n",
       "\t540 & Government appointee                                               & Government appointee; Merchant                     & FALSE & FALSE &  TRUE & FALSE & FALSE\\\\\n",
       "\t541 & Teacher                                                            & Teacher; Writer; Printer                           & FALSE & FALSE &  TRUE & FALSE & FALSE\\\\\n",
       "\t543 & Tradesman                                                          & Tradesman                                          & FALSE & FALSE &  TRUE & FALSE &  TRUE\\\\\n",
       "\t544 & Surveyor                                                           & Surveyor                                           & FALSE & FALSE &  TRUE & FALSE & FALSE\\\\\n",
       "\t547 & Manufacturer                                                       & Manufacturer; Farmer; Tradesman                    &  TRUE &  TRUE &  TRUE & FALSE & FALSE\\\\\n",
       "\t562 & NA                                                                 & Urban planner                                      & FALSE & FALSE &  TRUE & FALSE & FALSE\\\\\n",
       "\t569 & NA                                                                 & Manufacturer; Tradesman                            & FALSE &  TRUE &  TRUE & FALSE &  TRUE\\\\\n",
       "\t571 & Clergy; Missionary                                                 & Clergy; Missionary                                 & FALSE & FALSE &  TRUE & FALSE & FALSE\\\\\n",
       "\t582 & Royal governor                                                     & Military personnel; Royal governor                 & FALSE & FALSE &  TRUE & FALSE & FALSE\\\\\n",
       "\t585 & NA                                                                 & Tradesman                                          & FALSE & FALSE &  TRUE & FALSE &  TRUE\\\\\n",
       "\t592 & Laborer; Tradesman                                                 & Laborer; Tradesman                                 & FALSE & FALSE &  TRUE &  TRUE &  TRUE\\\\\n",
       "\t603 & Writer                                                             & Writer                                             & FALSE & FALSE &  TRUE & FALSE & FALSE\\\\\n",
       "\t611 & Miner                                                              & Tradesman; Miner; Writer; Businessman              & FALSE &  TRUE &  TRUE & FALSE & FALSE\\\\\n",
       "\t616 & Manufacturer                                                       & Manufacturer                                       & FALSE &  TRUE & FALSE & FALSE & FALSE\\\\\n",
       "\\end{tabular}\n"
      ],
      "text/markdown": [
       "\n",
       "A data.frame: 39 × 7\n",
       "\n",
       "| <!--/--> | north_american_occupation &lt;fct&gt; | socialClass &lt;chr&gt; | A &lt;lgl&gt; | I &lt;lgl&gt; | CCP &lt;lgl&gt; | Unknown &lt;lgl&gt; | wageLabour &lt;lgl&gt; |\n",
       "|---|---|---|---|---|---|---|---|\n",
       "| 1 | Nun; Social worker; Teacher                                        | Nun; Social worker; Teacher                        | FALSE | FALSE |  TRUE | FALSE | FALSE |\n",
       "| 56 | Military wife; Writer                                              | Military personnel; Writer                         | FALSE | FALSE |  TRUE | FALSE | FALSE |\n",
       "| 190 | NA                                                                 | NA                                                 |    NA |    NA |    NA |    NA |    NA |\n",
       "| 195 | Clergy                                                             | Clergy                                             | FALSE | FALSE |  TRUE | FALSE | FALSE |\n",
       "| 199 | Farmer                                                             | Farmer                                             |  TRUE | FALSE | FALSE | FALSE | FALSE |\n",
       "| 201 | Farmer's wife                                                      | Farmer                                             |  TRUE | FALSE | FALSE | FALSE | FALSE |\n",
       "| 202 | Farmer's wife                                                      | Farmer                                             |  TRUE | FALSE | FALSE | FALSE |  TRUE |\n",
       "| 204 | NA                                                                 | Clergy; Farmer                                     |  TRUE | FALSE |  TRUE | FALSE | FALSE |\n",
       "| 206 | Miner                                                              | Miner                                              | FALSE |  TRUE | FALSE | FALSE |  TRUE |\n",
       "| 207 | Homemaker                                                          | Homemaker                                          | FALSE | FALSE | FALSE |  TRUE | FALSE |\n",
       "| 216 | Architect; Artist; Businessman; Clergy; Educator                   | Farmer; Merchant; Laborer                          |  TRUE | FALSE |  TRUE |  TRUE |  TRUE |\n",
       "| 217 | Architect; Artist; Businessman; Clergy                             | Farmer; Merchant; Laborer                          |  TRUE | FALSE |  TRUE |  TRUE |  TRUE |\n",
       "| 256 | Architect; Artist; Businessman; Clergy; Educator; Farmer           | Businessman                                        | FALSE | FALSE |  TRUE | FALSE | FALSE |\n",
       "| 266 | Architect; Artist; Businessman; Clergy; Educator; Farmer           | Artist; Educator                                   | FALSE | FALSE |  TRUE | FALSE | FALSE |\n",
       "| 296 | Architect; Artist; Businessman; Educator; Farmer                   | Writer; Printer                                    | FALSE | FALSE |  TRUE | FALSE | FALSE |\n",
       "| 392 | Architect; Artist; Businessman; Clergy; Educator; Farmer; Merchant | Architect                                          | FALSE | FALSE |  TRUE | FALSE | FALSE |\n",
       "| 445 | Farmer                                                             | Farmer; Miner                                      |  TRUE | FALSE | FALSE | FALSE | FALSE |\n",
       "| 446 | Government appointee; Politician; Religious leader                 | Government appointee; Politician; Religious leader | FALSE | FALSE |  TRUE | FALSE | FALSE |\n",
       "| 449 | Farmer; Tradesman                                                  | Farmer; Tradesman                                  |  TRUE | FALSE |  TRUE | FALSE |  TRUE |\n",
       "| 467 | NA                                                                 | Businessman                                        | FALSE | FALSE |  TRUE | FALSE | FALSE |\n",
       "| 473 | Miner; Rancher; Laborer                                            | Miner; Laborer; Rancher; Government employee       |  TRUE |  TRUE |  TRUE |  TRUE |  TRUE |\n",
       "| 485 | Clergy; Educator; Writer                                           | Clergy; Educator; Writer                           | FALSE | FALSE |  TRUE | FALSE | FALSE |\n",
       "| 487 | Farmer; Tradesman                                                  | Farmer; Tradesman                                  |  TRUE | FALSE |  TRUE | FALSE | FALSE |\n",
       "| 535 | NA                                                                 | Businessman; Tradesman                             | FALSE | FALSE |  TRUE | FALSE | FALSE |\n",
       "| 539 | Government employee                                                | Government employee                                | FALSE | FALSE |  TRUE | FALSE | FALSE |\n",
       "| 540 | Government appointee                                               | Government appointee; Merchant                     | FALSE | FALSE |  TRUE | FALSE | FALSE |\n",
       "| 541 | Teacher                                                            | Teacher; Writer; Printer                           | FALSE | FALSE |  TRUE | FALSE | FALSE |\n",
       "| 543 | Tradesman                                                          | Tradesman                                          | FALSE | FALSE |  TRUE | FALSE |  TRUE |\n",
       "| 544 | Surveyor                                                           | Surveyor                                           | FALSE | FALSE |  TRUE | FALSE | FALSE |\n",
       "| 547 | Manufacturer                                                       | Manufacturer; Farmer; Tradesman                    |  TRUE |  TRUE |  TRUE | FALSE | FALSE |\n",
       "| 562 | NA                                                                 | Urban planner                                      | FALSE | FALSE |  TRUE | FALSE | FALSE |\n",
       "| 569 | NA                                                                 | Manufacturer; Tradesman                            | FALSE |  TRUE |  TRUE | FALSE |  TRUE |\n",
       "| 571 | Clergy; Missionary                                                 | Clergy; Missionary                                 | FALSE | FALSE |  TRUE | FALSE | FALSE |\n",
       "| 582 | Royal governor                                                     | Military personnel; Royal governor                 | FALSE | FALSE |  TRUE | FALSE | FALSE |\n",
       "| 585 | NA                                                                 | Tradesman                                          | FALSE | FALSE |  TRUE | FALSE |  TRUE |\n",
       "| 592 | Laborer; Tradesman                                                 | Laborer; Tradesman                                 | FALSE | FALSE |  TRUE |  TRUE |  TRUE |\n",
       "| 603 | Writer                                                             | Writer                                             | FALSE | FALSE |  TRUE | FALSE | FALSE |\n",
       "| 611 | Miner                                                              | Tradesman; Miner; Writer; Businessman              | FALSE |  TRUE |  TRUE | FALSE | FALSE |\n",
       "| 616 | Manufacturer                                                       | Manufacturer                                       | FALSE |  TRUE | FALSE | FALSE | FALSE |\n",
       "\n"
      ],
      "text/plain": [
       "    north_american_occupation                                         \n",
       "1   Nun; Social worker; Teacher                                       \n",
       "56  Military wife; Writer                                             \n",
       "190 NA                                                                \n",
       "195 Clergy                                                            \n",
       "199 Farmer                                                            \n",
       "201 Farmer's wife                                                     \n",
       "202 Farmer's wife                                                     \n",
       "204 NA                                                                \n",
       "206 Miner                                                             \n",
       "207 Homemaker                                                         \n",
       "216 Architect; Artist; Businessman; Clergy; Educator                  \n",
       "217 Architect; Artist; Businessman; Clergy                            \n",
       "256 Architect; Artist; Businessman; Clergy; Educator; Farmer          \n",
       "266 Architect; Artist; Businessman; Clergy; Educator; Farmer          \n",
       "296 Architect; Artist; Businessman; Educator; Farmer                  \n",
       "392 Architect; Artist; Businessman; Clergy; Educator; Farmer; Merchant\n",
       "445 Farmer                                                            \n",
       "446 Government appointee; Politician; Religious leader                \n",
       "449 Farmer; Tradesman                                                 \n",
       "467 NA                                                                \n",
       "473 Miner; Rancher; Laborer                                           \n",
       "485 Clergy; Educator; Writer                                          \n",
       "487 Farmer; Tradesman                                                 \n",
       "535 NA                                                                \n",
       "539 Government employee                                               \n",
       "540 Government appointee                                              \n",
       "541 Teacher                                                           \n",
       "543 Tradesman                                                         \n",
       "544 Surveyor                                                          \n",
       "547 Manufacturer                                                      \n",
       "562 NA                                                                \n",
       "569 NA                                                                \n",
       "571 Clergy; Missionary                                                \n",
       "582 Royal governor                                                    \n",
       "585 NA                                                                \n",
       "592 Laborer; Tradesman                                                \n",
       "603 Writer                                                            \n",
       "611 Miner                                                             \n",
       "616 Manufacturer                                                      \n",
       "    socialClass                                        A     I     CCP  \n",
       "1   Nun; Social worker; Teacher                        FALSE FALSE  TRUE\n",
       "56  Military personnel; Writer                         FALSE FALSE  TRUE\n",
       "190 NA                                                    NA    NA    NA\n",
       "195 Clergy                                             FALSE FALSE  TRUE\n",
       "199 Farmer                                              TRUE FALSE FALSE\n",
       "201 Farmer                                              TRUE FALSE FALSE\n",
       "202 Farmer                                              TRUE FALSE FALSE\n",
       "204 Clergy; Farmer                                      TRUE FALSE  TRUE\n",
       "206 Miner                                              FALSE  TRUE FALSE\n",
       "207 Homemaker                                          FALSE FALSE FALSE\n",
       "216 Farmer; Merchant; Laborer                           TRUE FALSE  TRUE\n",
       "217 Farmer; Merchant; Laborer                           TRUE FALSE  TRUE\n",
       "256 Businessman                                        FALSE FALSE  TRUE\n",
       "266 Artist; Educator                                   FALSE FALSE  TRUE\n",
       "296 Writer; Printer                                    FALSE FALSE  TRUE\n",
       "392 Architect                                          FALSE FALSE  TRUE\n",
       "445 Farmer; Miner                                       TRUE FALSE FALSE\n",
       "446 Government appointee; Politician; Religious leader FALSE FALSE  TRUE\n",
       "449 Farmer; Tradesman                                   TRUE FALSE  TRUE\n",
       "467 Businessman                                        FALSE FALSE  TRUE\n",
       "473 Miner; Laborer; Rancher; Government employee        TRUE  TRUE  TRUE\n",
       "485 Clergy; Educator; Writer                           FALSE FALSE  TRUE\n",
       "487 Farmer; Tradesman                                   TRUE FALSE  TRUE\n",
       "535 Businessman; Tradesman                             FALSE FALSE  TRUE\n",
       "539 Government employee                                FALSE FALSE  TRUE\n",
       "540 Government appointee; Merchant                     FALSE FALSE  TRUE\n",
       "541 Teacher; Writer; Printer                           FALSE FALSE  TRUE\n",
       "543 Tradesman                                          FALSE FALSE  TRUE\n",
       "544 Surveyor                                           FALSE FALSE  TRUE\n",
       "547 Manufacturer; Farmer; Tradesman                     TRUE  TRUE  TRUE\n",
       "562 Urban planner                                      FALSE FALSE  TRUE\n",
       "569 Manufacturer; Tradesman                            FALSE  TRUE  TRUE\n",
       "571 Clergy; Missionary                                 FALSE FALSE  TRUE\n",
       "582 Military personnel; Royal governor                 FALSE FALSE  TRUE\n",
       "585 Tradesman                                          FALSE FALSE  TRUE\n",
       "592 Laborer; Tradesman                                 FALSE FALSE  TRUE\n",
       "603 Writer                                             FALSE FALSE  TRUE\n",
       "611 Tradesman; Miner; Writer; Businessman              FALSE  TRUE  TRUE\n",
       "616 Manufacturer                                       FALSE  TRUE FALSE\n",
       "    Unknown wageLabour\n",
       "1   FALSE   FALSE     \n",
       "56  FALSE   FALSE     \n",
       "190    NA      NA     \n",
       "195 FALSE   FALSE     \n",
       "199 FALSE   FALSE     \n",
       "201 FALSE   FALSE     \n",
       "202 FALSE    TRUE     \n",
       "204 FALSE   FALSE     \n",
       "206 FALSE    TRUE     \n",
       "207  TRUE   FALSE     \n",
       "216  TRUE    TRUE     \n",
       "217  TRUE    TRUE     \n",
       "256 FALSE   FALSE     \n",
       "266 FALSE   FALSE     \n",
       "296 FALSE   FALSE     \n",
       "392 FALSE   FALSE     \n",
       "445 FALSE   FALSE     \n",
       "446 FALSE   FALSE     \n",
       "449 FALSE    TRUE     \n",
       "467 FALSE   FALSE     \n",
       "473  TRUE    TRUE     \n",
       "485 FALSE   FALSE     \n",
       "487 FALSE   FALSE     \n",
       "535 FALSE   FALSE     \n",
       "539 FALSE   FALSE     \n",
       "540 FALSE   FALSE     \n",
       "541 FALSE   FALSE     \n",
       "543 FALSE    TRUE     \n",
       "544 FALSE   FALSE     \n",
       "547 FALSE   FALSE     \n",
       "562 FALSE   FALSE     \n",
       "569 FALSE    TRUE     \n",
       "571 FALSE   FALSE     \n",
       "582 FALSE   FALSE     \n",
       "585 FALSE    TRUE     \n",
       "592  TRUE    TRUE     \n",
       "603 FALSE   FALSE     \n",
       "611 FALSE   FALSE     \n",
       "616 FALSE   FALSE     "
      ]
     },
     "metadata": {},
     "output_type": "display_data"
    }
   ],
   "source": [
    "vars <- c('north_american_occupation',\n",
    "          'socialClass', \n",
    "          'A', \n",
    "          'I', \n",
    "          'CCP', \n",
    "          'Unknown',\n",
    "         'wageLabour')\n",
    "unique(letters[vars])"
   ]
  },
  {
   "cell_type": "markdown",
   "metadata": {},
   "source": [
    "NAs for north_american_occupation are derived from native_occupation, and in a few cases cases (White, Graham) from close readings of the letters. "
   ]
  },
  {
   "cell_type": "code",
   "execution_count": 153,
   "metadata": {},
   "outputs": [
    {
     "data": {
      "text/html": [
       "<table class=\"dataframe\">\n",
       "<caption>A data.frame: 6 × 4</caption>\n",
       "<thead>\n",
       "\t<tr><th></th><th scope=col>docauthorname</th><th scope=col>north_american_occupation</th><th scope=col>native_occupation</th><th scope=col>socialClass</th></tr>\n",
       "\t<tr><th></th><th scope=col>&lt;fct&gt;</th><th scope=col>&lt;fct&gt;</th><th scope=col>&lt;fct&gt;</th><th scope=col>&lt;chr&gt;</th></tr>\n",
       "</thead>\n",
       "<tbody>\n",
       "\t<tr><th scope=row>1</th><td>Roberts, Samuel, fl. 1856-1870                     </td><td>NA</td><td>Clergy; Farmer        </td><td>Clergy; Farmer         </td></tr>\n",
       "\t<tr><th scope=row>2</th><td>White, Jane, 1831(?)-1867                          </td><td>NA</td><td>NA                    </td><td>Businessman            </td></tr>\n",
       "\t<tr><th scope=row>8</th><td>Knight, James, fl. 1831                            </td><td>NA</td><td>Businessman; Tradesman</td><td>Businessman; Tradesman </td></tr>\n",
       "\t<tr><th scope=row>9</th><td>Anonymous Scottish Gardener in Canada, fl. 1834    </td><td>NA</td><td>Urban planner         </td><td>Urban planner          </td></tr>\n",
       "\t<tr><th scope=row>10</th><td>Anonymous Scottish Immigrant from Turriff, fl. 1834</td><td>NA</td><td>Manufacturer          </td><td>Manufacturer; Tradesman</td></tr>\n",
       "\t<tr><th scope=row>11</th><td>Graham, Thomas, fl. 1827                           </td><td>NA</td><td>NA                    </td><td>Tradesman              </td></tr>\n",
       "</tbody>\n",
       "</table>\n"
      ],
      "text/latex": [
       "A data.frame: 6 × 4\n",
       "\\begin{tabular}{r|llll}\n",
       "  & docauthorname & north\\_american\\_occupation & native\\_occupation & socialClass\\\\\n",
       "  & <fct> & <fct> & <fct> & <chr>\\\\\n",
       "\\hline\n",
       "\t1 & Roberts, Samuel, fl. 1856-1870                      & NA & Clergy; Farmer         & Clergy; Farmer         \\\\\n",
       "\t2 & White, Jane, 1831(?)-1867                           & NA & NA                     & Businessman            \\\\\n",
       "\t8 & Knight, James, fl. 1831                             & NA & Businessman; Tradesman & Businessman; Tradesman \\\\\n",
       "\t9 & Anonymous Scottish Gardener in Canada, fl. 1834     & NA & Urban planner          & Urban planner          \\\\\n",
       "\t10 & Anonymous Scottish Immigrant from Turriff, fl. 1834 & NA & Manufacturer           & Manufacturer; Tradesman\\\\\n",
       "\t11 & Graham, Thomas, fl. 1827                            & NA & NA                     & Tradesman              \\\\\n",
       "\\end{tabular}\n"
      ],
      "text/markdown": [
       "\n",
       "A data.frame: 6 × 4\n",
       "\n",
       "| <!--/--> | docauthorname &lt;fct&gt; | north_american_occupation &lt;fct&gt; | native_occupation &lt;fct&gt; | socialClass &lt;chr&gt; |\n",
       "|---|---|---|---|---|\n",
       "| 1 | Roberts, Samuel, fl. 1856-1870                      | NA | Clergy; Farmer         | Clergy; Farmer          |\n",
       "| 2 | White, Jane, 1831(?)-1867                           | NA | NA                     | Businessman             |\n",
       "| 8 | Knight, James, fl. 1831                             | NA | Businessman; Tradesman | Businessman; Tradesman  |\n",
       "| 9 | Anonymous Scottish Gardener in Canada, fl. 1834     | NA | Urban planner          | Urban planner           |\n",
       "| 10 | Anonymous Scottish Immigrant from Turriff, fl. 1834 | NA | Manufacturer           | Manufacturer; Tradesman |\n",
       "| 11 | Graham, Thomas, fl. 1827                            | NA | NA                     | Tradesman               |\n",
       "\n"
      ],
      "text/plain": [
       "   docauthorname                                      \n",
       "1  Roberts, Samuel, fl. 1856-1870                     \n",
       "2  White, Jane, 1831(?)-1867                          \n",
       "8  Knight, James, fl. 1831                            \n",
       "9  Anonymous Scottish Gardener in Canada, fl. 1834    \n",
       "10 Anonymous Scottish Immigrant from Turriff, fl. 1834\n",
       "11 Graham, Thomas, fl. 1827                           \n",
       "   north_american_occupation native_occupation      socialClass            \n",
       "1  NA                        Clergy; Farmer         Clergy; Farmer         \n",
       "2  NA                        NA                     Businessman            \n",
       "8  NA                        Businessman; Tradesman Businessman; Tradesman \n",
       "9  NA                        Urban planner          Urban planner          \n",
       "10 NA                        Manufacturer           Manufacturer; Tradesman\n",
       "11 NA                        NA                     Tradesman              "
      ]
     },
     "metadata": {},
     "output_type": "display_data"
    }
   ],
   "source": [
    "letters %>% \n",
    "filter(is.na(north_american_occupation) & \n",
    "      !is.na(socialClass)) %>% \n",
    "select(docauthorname, north_american_occupation, native_occupation, socialClass) %>% \n",
    "unique()"
   ]
  },
  {
   "cell_type": "markdown",
   "metadata": {},
   "source": [
    "## Returning to the to-dos"
   ]
  },
  {
   "cell_type": "markdown",
   "metadata": {},
   "source": [
    "For the Erickson variable, recode Singer into A, Robb into I and the Harris' into CCP. "
   ]
  },
  {
   "cell_type": "code",
   "execution_count": 154,
   "metadata": {},
   "outputs": [
    {
     "data": {
      "text/html": [
       "<table class=\"dataframe\">\n",
       "<caption>A data.frame: 1 × 6</caption>\n",
       "<thead>\n",
       "\t<tr><th></th><th scope=col>socialClass</th><th scope=col>A</th><th scope=col>I</th><th scope=col>CCP</th><th scope=col>Unknown</th><th scope=col>wageLabour</th></tr>\n",
       "\t<tr><th></th><th scope=col>&lt;chr&gt;</th><th scope=col>&lt;lgl&gt;</th><th scope=col>&lt;lgl&gt;</th><th scope=col>&lt;lgl&gt;</th><th scope=col>&lt;lgl&gt;</th><th scope=col>&lt;lgl&gt;</th></tr>\n",
       "</thead>\n",
       "<tbody>\n",
       "\t<tr><th scope=row>1</th><td>Laborer; Tradesman</td><td>FALSE</td><td>FALSE</td><td>TRUE</td><td>TRUE</td><td>TRUE</td></tr>\n",
       "</tbody>\n",
       "</table>\n"
      ],
      "text/latex": [
       "A data.frame: 1 × 6\n",
       "\\begin{tabular}{r|llllll}\n",
       "  & socialClass & A & I & CCP & Unknown & wageLabour\\\\\n",
       "  & <chr> & <lgl> & <lgl> & <lgl> & <lgl> & <lgl>\\\\\n",
       "\\hline\n",
       "\t1 & Laborer; Tradesman & FALSE & FALSE & TRUE & TRUE & TRUE\\\\\n",
       "\\end{tabular}\n"
      ],
      "text/markdown": [
       "\n",
       "A data.frame: 1 × 6\n",
       "\n",
       "| <!--/--> | socialClass &lt;chr&gt; | A &lt;lgl&gt; | I &lt;lgl&gt; | CCP &lt;lgl&gt; | Unknown &lt;lgl&gt; | wageLabour &lt;lgl&gt; |\n",
       "|---|---|---|---|---|---|---|\n",
       "| 1 | Laborer; Tradesman | FALSE | FALSE | TRUE | TRUE | TRUE |\n",
       "\n"
      ],
      "text/plain": [
       "  socialClass        A     I     CCP  Unknown wageLabour\n",
       "1 Laborer; Tradesman FALSE FALSE TRUE TRUE    TRUE      "
      ]
     },
     "metadata": {},
     "output_type": "display_data"
    }
   ],
   "source": [
    "letters  %>% \n",
    "filter(docauthorname == \"Singer, William, fl. 1831\") %>% \n",
    "select(socialClass, A, I, CCP, Unknown, wageLabour)%>% \n",
    "unique()"
   ]
  },
  {
   "cell_type": "code",
   "execution_count": 155,
   "metadata": {},
   "outputs": [
    {
     "data": {
      "text/html": [
       "<table class=\"dataframe\">\n",
       "<caption>A data.frame: 1 × 6</caption>\n",
       "<thead>\n",
       "\t<tr><th></th><th scope=col>socialClass</th><th scope=col>A</th><th scope=col>I</th><th scope=col>CCP</th><th scope=col>Unknown</th><th scope=col>wageLabour</th></tr>\n",
       "\t<tr><th></th><th scope=col>&lt;chr&gt;</th><th scope=col>&lt;lgl&gt;</th><th scope=col>&lt;lgl&gt;</th><th scope=col>&lt;lgl&gt;</th><th scope=col>&lt;lgl&gt;</th><th scope=col>&lt;lgl&gt;</th></tr>\n",
       "</thead>\n",
       "<tbody>\n",
       "\t<tr><th scope=row>1</th><td>Laborer; Tradesman</td><td>TRUE</td><td>FALSE</td><td>TRUE</td><td>FALSE</td><td>TRUE</td></tr>\n",
       "</tbody>\n",
       "</table>\n"
      ],
      "text/latex": [
       "A data.frame: 1 × 6\n",
       "\\begin{tabular}{r|llllll}\n",
       "  & socialClass & A & I & CCP & Unknown & wageLabour\\\\\n",
       "  & <chr> & <lgl> & <lgl> & <lgl> & <lgl> & <lgl>\\\\\n",
       "\\hline\n",
       "\t1 & Laborer; Tradesman & TRUE & FALSE & TRUE & FALSE & TRUE\\\\\n",
       "\\end{tabular}\n"
      ],
      "text/markdown": [
       "\n",
       "A data.frame: 1 × 6\n",
       "\n",
       "| <!--/--> | socialClass &lt;chr&gt; | A &lt;lgl&gt; | I &lt;lgl&gt; | CCP &lt;lgl&gt; | Unknown &lt;lgl&gt; | wageLabour &lt;lgl&gt; |\n",
       "|---|---|---|---|---|---|---|\n",
       "| 1 | Laborer; Tradesman | TRUE | FALSE | TRUE | FALSE | TRUE |\n",
       "\n"
      ],
      "text/plain": [
       "  socialClass        A    I     CCP  Unknown wageLabour\n",
       "1 Laborer; Tradesman TRUE FALSE TRUE FALSE   TRUE      "
      ]
     },
     "metadata": {},
     "output_type": "display_data"
    }
   ],
   "source": [
    "#Recode\n",
    "letters$A[letters$docauthorname == \"Singer, William, fl. 1831\"] <- TRUE\n",
    "letters$Unknown[letters$docauthorname == \"Singer, William, fl. 1831\"] <- FALSE\n",
    "\n",
    "#Check\n",
    "letters  %>% \n",
    "filter(docauthorname == \"Singer, William, fl. 1831\") %>% \n",
    "select(socialClass, A, I, CCP, Unknown, wageLabour)%>% \n",
    "unique()"
   ]
  },
  {
   "cell_type": "code",
   "execution_count": 156,
   "metadata": {},
   "outputs": [
    {
     "data": {
      "text/html": [
       "<table class=\"dataframe\">\n",
       "<caption>A data.frame: 1 × 6</caption>\n",
       "<thead>\n",
       "\t<tr><th></th><th scope=col>socialClass</th><th scope=col>A</th><th scope=col>I</th><th scope=col>CCP</th><th scope=col>Unknown</th><th scope=col>wageLabour</th></tr>\n",
       "\t<tr><th></th><th scope=col>&lt;chr&gt;</th><th scope=col>&lt;lgl&gt;</th><th scope=col>&lt;lgl&gt;</th><th scope=col>&lt;lgl&gt;</th><th scope=col>&lt;lgl&gt;</th><th scope=col>&lt;lgl&gt;</th></tr>\n",
       "</thead>\n",
       "<tbody>\n",
       "\t<tr><th scope=row>1</th><td>Miner; Laborer; Rancher; Government employee</td><td>TRUE</td><td>TRUE</td><td>TRUE</td><td>TRUE</td><td>TRUE</td></tr>\n",
       "</tbody>\n",
       "</table>\n"
      ],
      "text/latex": [
       "A data.frame: 1 × 6\n",
       "\\begin{tabular}{r|llllll}\n",
       "  & socialClass & A & I & CCP & Unknown & wageLabour\\\\\n",
       "  & <chr> & <lgl> & <lgl> & <lgl> & <lgl> & <lgl>\\\\\n",
       "\\hline\n",
       "\t1 & Miner; Laborer; Rancher; Government employee & TRUE & TRUE & TRUE & TRUE & TRUE\\\\\n",
       "\\end{tabular}\n"
      ],
      "text/markdown": [
       "\n",
       "A data.frame: 1 × 6\n",
       "\n",
       "| <!--/--> | socialClass &lt;chr&gt; | A &lt;lgl&gt; | I &lt;lgl&gt; | CCP &lt;lgl&gt; | Unknown &lt;lgl&gt; | wageLabour &lt;lgl&gt; |\n",
       "|---|---|---|---|---|---|---|\n",
       "| 1 | Miner; Laborer; Rancher; Government employee | TRUE | TRUE | TRUE | TRUE | TRUE |\n",
       "\n"
      ],
      "text/plain": [
       "  socialClass                                  A    I    CCP  Unknown\n",
       "1 Miner; Laborer; Rancher; Government employee TRUE TRUE TRUE TRUE   \n",
       "  wageLabour\n",
       "1 TRUE      "
      ]
     },
     "metadata": {},
     "output_type": "display_data"
    }
   ],
   "source": [
    "letters  %>% \n",
    "filter(docauthorname == \"Robb, Alexander, 1839-\") %>% \n",
    "select(socialClass, A, I, CCP, Unknown, wageLabour)%>% \n",
    "unique()"
   ]
  },
  {
   "cell_type": "markdown",
   "metadata": {},
   "source": [
    "Robb is already TRUE for the I variable because of his occupation as a miner. Nothing to change other than FALSE for Other category."
   ]
  },
  {
   "cell_type": "code",
   "execution_count": 157,
   "metadata": {},
   "outputs": [
    {
     "data": {
      "text/html": [
       "<table class=\"dataframe\">\n",
       "<caption>A data.frame: 1 × 6</caption>\n",
       "<thead>\n",
       "\t<tr><th></th><th scope=col>socialClass</th><th scope=col>A</th><th scope=col>I</th><th scope=col>CCP</th><th scope=col>Unknown</th><th scope=col>wageLabour</th></tr>\n",
       "\t<tr><th></th><th scope=col>&lt;chr&gt;</th><th scope=col>&lt;lgl&gt;</th><th scope=col>&lt;lgl&gt;</th><th scope=col>&lt;lgl&gt;</th><th scope=col>&lt;lgl&gt;</th><th scope=col>&lt;lgl&gt;</th></tr>\n",
       "</thead>\n",
       "<tbody>\n",
       "\t<tr><th scope=row>1</th><td>Miner; Laborer; Rancher; Government employee</td><td>TRUE</td><td>TRUE</td><td>TRUE</td><td>FALSE</td><td>TRUE</td></tr>\n",
       "</tbody>\n",
       "</table>\n"
      ],
      "text/latex": [
       "A data.frame: 1 × 6\n",
       "\\begin{tabular}{r|llllll}\n",
       "  & socialClass & A & I & CCP & Unknown & wageLabour\\\\\n",
       "  & <chr> & <lgl> & <lgl> & <lgl> & <lgl> & <lgl>\\\\\n",
       "\\hline\n",
       "\t1 & Miner; Laborer; Rancher; Government employee & TRUE & TRUE & TRUE & FALSE & TRUE\\\\\n",
       "\\end{tabular}\n"
      ],
      "text/markdown": [
       "\n",
       "A data.frame: 1 × 6\n",
       "\n",
       "| <!--/--> | socialClass &lt;chr&gt; | A &lt;lgl&gt; | I &lt;lgl&gt; | CCP &lt;lgl&gt; | Unknown &lt;lgl&gt; | wageLabour &lt;lgl&gt; |\n",
       "|---|---|---|---|---|---|---|\n",
       "| 1 | Miner; Laborer; Rancher; Government employee | TRUE | TRUE | TRUE | FALSE | TRUE |\n",
       "\n"
      ],
      "text/plain": [
       "  socialClass                                  A    I    CCP  Unknown\n",
       "1 Miner; Laborer; Rancher; Government employee TRUE TRUE TRUE FALSE  \n",
       "  wageLabour\n",
       "1 TRUE      "
      ]
     },
     "metadata": {},
     "output_type": "display_data"
    }
   ],
   "source": [
    "# Recode\n",
    "letters$Unknown[letters$docauthorname == \"Robb, Alexander, 1839-\"] <- FALSE\n",
    "\n",
    "#Check\n",
    "letters  %>% \n",
    "filter(docauthorname == \"Robb, Alexander, 1839-\") %>% \n",
    "select(socialClass, A, I, CCP, Unknown, wageLabour) %>% \n",
    "unique()"
   ]
  },
  {
   "cell_type": "code",
   "execution_count": 158,
   "metadata": {},
   "outputs": [
    {
     "data": {
      "text/html": [
       "<table class=\"dataframe\">\n",
       "<caption>A data.frame: 2 × 7</caption>\n",
       "<thead>\n",
       "\t<tr><th></th><th scope=col>docauthorname</th><th scope=col>socialClass</th><th scope=col>A</th><th scope=col>I</th><th scope=col>CCP</th><th scope=col>Unknown</th><th scope=col>wageLabour</th></tr>\n",
       "\t<tr><th></th><th scope=col>&lt;fct&gt;</th><th scope=col>&lt;chr&gt;</th><th scope=col>&lt;lgl&gt;</th><th scope=col>&lt;lgl&gt;</th><th scope=col>&lt;lgl&gt;</th><th scope=col>&lt;lgl&gt;</th><th scope=col>&lt;lgl&gt;</th></tr>\n",
       "</thead>\n",
       "<tbody>\n",
       "\t<tr><th scope=row>1</th><td>Harris, Critchlow, 1813-1899    </td><td>Farmer; Merchant; Laborer</td><td>TRUE</td><td>FALSE</td><td>TRUE</td><td>TRUE</td><td>TRUE</td></tr>\n",
       "\t<tr><th scope=row>2</th><td>Harris, Sarah Stretch, 1818-1897</td><td>Farmer; Merchant; Laborer</td><td>TRUE</td><td>FALSE</td><td>TRUE</td><td>TRUE</td><td>TRUE</td></tr>\n",
       "</tbody>\n",
       "</table>\n"
      ],
      "text/latex": [
       "A data.frame: 2 × 7\n",
       "\\begin{tabular}{r|lllllll}\n",
       "  & docauthorname & socialClass & A & I & CCP & Unknown & wageLabour\\\\\n",
       "  & <fct> & <chr> & <lgl> & <lgl> & <lgl> & <lgl> & <lgl>\\\\\n",
       "\\hline\n",
       "\t1 & Harris, Critchlow, 1813-1899     & Farmer; Merchant; Laborer & TRUE & FALSE & TRUE & TRUE & TRUE\\\\\n",
       "\t2 & Harris, Sarah Stretch, 1818-1897 & Farmer; Merchant; Laborer & TRUE & FALSE & TRUE & TRUE & TRUE\\\\\n",
       "\\end{tabular}\n"
      ],
      "text/markdown": [
       "\n",
       "A data.frame: 2 × 7\n",
       "\n",
       "| <!--/--> | docauthorname &lt;fct&gt; | socialClass &lt;chr&gt; | A &lt;lgl&gt; | I &lt;lgl&gt; | CCP &lt;lgl&gt; | Unknown &lt;lgl&gt; | wageLabour &lt;lgl&gt; |\n",
       "|---|---|---|---|---|---|---|---|\n",
       "| 1 | Harris, Critchlow, 1813-1899     | Farmer; Merchant; Laborer | TRUE | FALSE | TRUE | TRUE | TRUE |\n",
       "| 2 | Harris, Sarah Stretch, 1818-1897 | Farmer; Merchant; Laborer | TRUE | FALSE | TRUE | TRUE | TRUE |\n",
       "\n"
      ],
      "text/plain": [
       "  docauthorname                    socialClass               A    I     CCP \n",
       "1 Harris, Critchlow, 1813-1899     Farmer; Merchant; Laborer TRUE FALSE TRUE\n",
       "2 Harris, Sarah Stretch, 1818-1897 Farmer; Merchant; Laborer TRUE FALSE TRUE\n",
       "  Unknown wageLabour\n",
       "1 TRUE    TRUE      \n",
       "2 TRUE    TRUE      "
      ]
     },
     "metadata": {},
     "output_type": "display_data"
    }
   ],
   "source": [
    "letters  %>% \n",
    "filter(docauthorname == \"Harris, Critchlow, 1813-1899\" | \n",
    "       docauthorname == \"Harris, Sarah Stretch, 1818-1897\") %>% \n",
    "select(docauthorname, socialClass, A, I, CCP, Unknown, wageLabour) %>% \n",
    "unique()"
   ]
  },
  {
   "cell_type": "code",
   "execution_count": 159,
   "metadata": {},
   "outputs": [
    {
     "data": {
      "text/html": [
       "<table class=\"dataframe\">\n",
       "<caption>A data.frame: 2 × 7</caption>\n",
       "<thead>\n",
       "\t<tr><th></th><th scope=col>docauthorname</th><th scope=col>socialClass</th><th scope=col>A</th><th scope=col>I</th><th scope=col>CCP</th><th scope=col>Unknown</th><th scope=col>wageLabour</th></tr>\n",
       "\t<tr><th></th><th scope=col>&lt;fct&gt;</th><th scope=col>&lt;chr&gt;</th><th scope=col>&lt;lgl&gt;</th><th scope=col>&lt;lgl&gt;</th><th scope=col>&lt;lgl&gt;</th><th scope=col>&lt;lgl&gt;</th><th scope=col>&lt;lgl&gt;</th></tr>\n",
       "</thead>\n",
       "<tbody>\n",
       "\t<tr><th scope=row>1</th><td>Harris, Critchlow, 1813-1899    </td><td>Farmer; Merchant; Laborer</td><td>TRUE</td><td>FALSE</td><td>TRUE</td><td>FALSE</td><td>TRUE</td></tr>\n",
       "\t<tr><th scope=row>2</th><td>Harris, Sarah Stretch, 1818-1897</td><td>Farmer; Merchant; Laborer</td><td>TRUE</td><td>FALSE</td><td>TRUE</td><td>FALSE</td><td>TRUE</td></tr>\n",
       "</tbody>\n",
       "</table>\n"
      ],
      "text/latex": [
       "A data.frame: 2 × 7\n",
       "\\begin{tabular}{r|lllllll}\n",
       "  & docauthorname & socialClass & A & I & CCP & Unknown & wageLabour\\\\\n",
       "  & <fct> & <chr> & <lgl> & <lgl> & <lgl> & <lgl> & <lgl>\\\\\n",
       "\\hline\n",
       "\t1 & Harris, Critchlow, 1813-1899     & Farmer; Merchant; Laborer & TRUE & FALSE & TRUE & FALSE & TRUE\\\\\n",
       "\t2 & Harris, Sarah Stretch, 1818-1897 & Farmer; Merchant; Laborer & TRUE & FALSE & TRUE & FALSE & TRUE\\\\\n",
       "\\end{tabular}\n"
      ],
      "text/markdown": [
       "\n",
       "A data.frame: 2 × 7\n",
       "\n",
       "| <!--/--> | docauthorname &lt;fct&gt; | socialClass &lt;chr&gt; | A &lt;lgl&gt; | I &lt;lgl&gt; | CCP &lt;lgl&gt; | Unknown &lt;lgl&gt; | wageLabour &lt;lgl&gt; |\n",
       "|---|---|---|---|---|---|---|---|\n",
       "| 1 | Harris, Critchlow, 1813-1899     | Farmer; Merchant; Laborer | TRUE | FALSE | TRUE | FALSE | TRUE |\n",
       "| 2 | Harris, Sarah Stretch, 1818-1897 | Farmer; Merchant; Laborer | TRUE | FALSE | TRUE | FALSE | TRUE |\n",
       "\n"
      ],
      "text/plain": [
       "  docauthorname                    socialClass               A    I     CCP \n",
       "1 Harris, Critchlow, 1813-1899     Farmer; Merchant; Laborer TRUE FALSE TRUE\n",
       "2 Harris, Sarah Stretch, 1818-1897 Farmer; Merchant; Laborer TRUE FALSE TRUE\n",
       "  Unknown wageLabour\n",
       "1 FALSE   TRUE      \n",
       "2 FALSE   TRUE      "
      ]
     },
     "metadata": {},
     "output_type": "display_data"
    }
   ],
   "source": [
    "# Recode\n",
    "letters$Unknown[letters$docauthorname == \"Harris, Critchlow, 1813-1899\"] <- FALSE\n",
    "letters$Unknown[letters$docauthorname == \"Harris, Sarah Stretch, 1818-1897\"] <- FALSE\n",
    "\n",
    "#Check\n",
    "letters  %>% \n",
    "filter(docauthorname == \"Harris, Critchlow, 1813-1899\" | \n",
    "       docauthorname == \"Harris, Sarah Stretch, 1818-1897\") %>% \n",
    "select(docauthorname, socialClass, A, I, CCP, Unknown, wageLabour) %>% \n",
    "unique()"
   ]
  },
  {
   "cell_type": "code",
   "execution_count": 160,
   "metadata": {},
   "outputs": [
    {
     "data": {
      "text/html": [
       "<table class=\"dataframe\">\n",
       "<caption>A data.frame: 1 × 7</caption>\n",
       "<thead>\n",
       "\t<tr><th></th><th scope=col>docauthorname</th><th scope=col>socialClass</th><th scope=col>A</th><th scope=col>I</th><th scope=col>CCP</th><th scope=col>Unknown</th><th scope=col>wageLabour</th></tr>\n",
       "\t<tr><th></th><th scope=col>&lt;fct&gt;</th><th scope=col>&lt;chr&gt;</th><th scope=col>&lt;lgl&gt;</th><th scope=col>&lt;lgl&gt;</th><th scope=col>&lt;lgl&gt;</th><th scope=col>&lt;lgl&gt;</th><th scope=col>&lt;lgl&gt;</th></tr>\n",
       "</thead>\n",
       "<tbody>\n",
       "\t<tr><th scope=row>1</th><td>Roberts, Sarah, fl. 1858</td><td>Homemaker</td><td>FALSE</td><td>FALSE</td><td>FALSE</td><td>TRUE</td><td>FALSE</td></tr>\n",
       "</tbody>\n",
       "</table>\n"
      ],
      "text/latex": [
       "A data.frame: 1 × 7\n",
       "\\begin{tabular}{r|lllllll}\n",
       "  & docauthorname & socialClass & A & I & CCP & Unknown & wageLabour\\\\\n",
       "  & <fct> & <chr> & <lgl> & <lgl> & <lgl> & <lgl> & <lgl>\\\\\n",
       "\\hline\n",
       "\t1 & Roberts, Sarah, fl. 1858 & Homemaker & FALSE & FALSE & FALSE & TRUE & FALSE\\\\\n",
       "\\end{tabular}\n"
      ],
      "text/markdown": [
       "\n",
       "A data.frame: 1 × 7\n",
       "\n",
       "| <!--/--> | docauthorname &lt;fct&gt; | socialClass &lt;chr&gt; | A &lt;lgl&gt; | I &lt;lgl&gt; | CCP &lt;lgl&gt; | Unknown &lt;lgl&gt; | wageLabour &lt;lgl&gt; |\n",
       "|---|---|---|---|---|---|---|---|\n",
       "| 1 | Roberts, Sarah, fl. 1858 | Homemaker | FALSE | FALSE | FALSE | TRUE | FALSE |\n",
       "\n"
      ],
      "text/plain": [
       "  docauthorname            socialClass A     I     CCP   Unknown wageLabour\n",
       "1 Roberts, Sarah, fl. 1858 Homemaker   FALSE FALSE FALSE TRUE    FALSE     "
      ]
     },
     "metadata": {},
     "output_type": "display_data"
    }
   ],
   "source": [
    "#Check variable\n",
    "letters  %>% \n",
    "filter(Unknown == TRUE) %>% \n",
    "select(docauthorname, socialClass, A, I, CCP, Unknown, wageLabour) %>% \n",
    "unique()\n"
   ]
  },
  {
   "cell_type": "markdown",
   "metadata": {},
   "source": [
    "As explained in line 402, a close reading of the letters by Sarah indicate that she and her husband are most likely independent farmers. I am going to re-code her as FALSE for Unknown and TRUE for A."
   ]
  },
  {
   "cell_type": "code",
   "execution_count": 161,
   "metadata": {},
   "outputs": [
    {
     "data": {
      "text/html": [
       "<table class=\"dataframe\">\n",
       "<caption>A data.frame: 1 × 7</caption>\n",
       "<thead>\n",
       "\t<tr><th></th><th scope=col>docauthorname</th><th scope=col>socialClass</th><th scope=col>A</th><th scope=col>I</th><th scope=col>CCP</th><th scope=col>Unknown</th><th scope=col>wageLabour</th></tr>\n",
       "\t<tr><th></th><th scope=col>&lt;fct&gt;</th><th scope=col>&lt;chr&gt;</th><th scope=col>&lt;lgl&gt;</th><th scope=col>&lt;lgl&gt;</th><th scope=col>&lt;lgl&gt;</th><th scope=col>&lt;lgl&gt;</th><th scope=col>&lt;lgl&gt;</th></tr>\n",
       "</thead>\n",
       "<tbody>\n",
       "\t<tr><th scope=row>1</th><td>Roberts, Sarah, fl. 1858</td><td>Homemaker</td><td>TRUE</td><td>FALSE</td><td>FALSE</td><td>FALSE</td><td>FALSE</td></tr>\n",
       "</tbody>\n",
       "</table>\n"
      ],
      "text/latex": [
       "A data.frame: 1 × 7\n",
       "\\begin{tabular}{r|lllllll}\n",
       "  & docauthorname & socialClass & A & I & CCP & Unknown & wageLabour\\\\\n",
       "  & <fct> & <chr> & <lgl> & <lgl> & <lgl> & <lgl> & <lgl>\\\\\n",
       "\\hline\n",
       "\t1 & Roberts, Sarah, fl. 1858 & Homemaker & TRUE & FALSE & FALSE & FALSE & FALSE\\\\\n",
       "\\end{tabular}\n"
      ],
      "text/markdown": [
       "\n",
       "A data.frame: 1 × 7\n",
       "\n",
       "| <!--/--> | docauthorname &lt;fct&gt; | socialClass &lt;chr&gt; | A &lt;lgl&gt; | I &lt;lgl&gt; | CCP &lt;lgl&gt; | Unknown &lt;lgl&gt; | wageLabour &lt;lgl&gt; |\n",
       "|---|---|---|---|---|---|---|---|\n",
       "| 1 | Roberts, Sarah, fl. 1858 | Homemaker | TRUE | FALSE | FALSE | FALSE | FALSE |\n",
       "\n"
      ],
      "text/plain": [
       "  docauthorname            socialClass A    I     CCP   Unknown wageLabour\n",
       "1 Roberts, Sarah, fl. 1858 Homemaker   TRUE FALSE FALSE FALSE   FALSE     "
      ]
     },
     "metadata": {},
     "output_type": "display_data"
    }
   ],
   "source": [
    "# Re-code\n",
    "letters$Unknown[letters$docauthorname == \"Roberts, Sarah, fl. 1858\"] <- FALSE\n",
    "letters$A[letters$docauthorname == \"Roberts, Sarah, fl. 1858\"] <- TRUE\n",
    "\n",
    "# Check\n",
    "letters  %>% \n",
    "filter(docauthorname == \"Roberts, Sarah, fl. 1858\") %>% \n",
    "select(docauthorname, socialClass, A, I, CCP, Unknown, wageLabour) %>% \n",
    "unique()\n"
   ]
  },
  {
   "cell_type": "code",
   "execution_count": 162,
   "metadata": {},
   "outputs": [
    {
     "data": {
      "text/html": [
       "0"
      ],
      "text/latex": [
       "0"
      ],
      "text/markdown": [
       "0"
      ],
      "text/plain": [
       "[1] 0"
      ]
     },
     "metadata": {},
     "output_type": "display_data"
    }
   ],
   "source": [
    "#Check variable\n",
    "letters  %>% \n",
    "filter(Unknown == TRUE) %>% \n",
    "select(docauthorname, socialClass, A, I, CCP, Unknown, wageLabour) %>% \n",
    "nrow()"
   ]
  },
  {
   "cell_type": "code",
   "execution_count": 163,
   "metadata": {},
   "outputs": [
    {
     "data": {
      "text/html": [
       "<table class=\"dataframe\">\n",
       "<caption>A data.frame: 6 × 7</caption>\n",
       "<thead>\n",
       "\t<tr><th></th><th scope=col>docauthorname</th><th scope=col>socialClass</th><th scope=col>A</th><th scope=col>I</th><th scope=col>CCP</th><th scope=col>Unknown</th><th scope=col>wageLabour</th></tr>\n",
       "\t<tr><th></th><th scope=col>&lt;fct&gt;</th><th scope=col>&lt;chr&gt;</th><th scope=col>&lt;lgl&gt;</th><th scope=col>&lt;lgl&gt;</th><th scope=col>&lt;lgl&gt;</th><th scope=col>&lt;lgl&gt;</th><th scope=col>&lt;lgl&gt;</th></tr>\n",
       "</thead>\n",
       "<tbody>\n",
       "\t<tr><th scope=row>1</th><td>Hudson, Henry James, 1822-                          </td><td>Government appointee; Politician; Religious leader</td><td>FALSE</td><td>FALSE</td><td>TRUE</td><td>FALSE</td><td>FALSE</td></tr>\n",
       "\t<tr><th scope=row>2</th><td>Robb, Alexander, 1839-                              </td><td>Miner; Laborer; Rancher; Government employee      </td><td> TRUE</td><td> TRUE</td><td>TRUE</td><td>FALSE</td><td> TRUE</td></tr>\n",
       "\t<tr><th scope=row>14</th><td>Buchanan, J. C., fl. 1833                           </td><td>Government employee                               </td><td>FALSE</td><td>FALSE</td><td>TRUE</td><td>FALSE</td><td>FALSE</td></tr>\n",
       "\t<tr><th scope=row>15</th><td>Buchanan, Alexander Carlisle, 1786-1840             </td><td>Government appointee; Merchant                    </td><td>FALSE</td><td>FALSE</td><td>TRUE</td><td>FALSE</td><td>FALSE</td></tr>\n",
       "\t<tr><th scope=row>16</th><td>Anonymous Government Agent in Upper Canada, fl. 1833</td><td>Government employee                               </td><td>FALSE</td><td>FALSE</td><td>TRUE</td><td>FALSE</td><td>FALSE</td></tr>\n",
       "\t<tr><th scope=row>17</th><td>Aylmer, Matthew, Lord, 1775-1850                    </td><td>Military personnel; Royal governor                </td><td>FALSE</td><td>FALSE</td><td>TRUE</td><td>FALSE</td><td>FALSE</td></tr>\n",
       "</tbody>\n",
       "</table>\n"
      ],
      "text/latex": [
       "A data.frame: 6 × 7\n",
       "\\begin{tabular}{r|lllllll}\n",
       "  & docauthorname & socialClass & A & I & CCP & Unknown & wageLabour\\\\\n",
       "  & <fct> & <chr> & <lgl> & <lgl> & <lgl> & <lgl> & <lgl>\\\\\n",
       "\\hline\n",
       "\t1 & Hudson, Henry James, 1822-                           & Government appointee; Politician; Religious leader & FALSE & FALSE & TRUE & FALSE & FALSE\\\\\n",
       "\t2 & Robb, Alexander, 1839-                               & Miner; Laborer; Rancher; Government employee       &  TRUE &  TRUE & TRUE & FALSE &  TRUE\\\\\n",
       "\t14 & Buchanan, J. C., fl. 1833                            & Government employee                                & FALSE & FALSE & TRUE & FALSE & FALSE\\\\\n",
       "\t15 & Buchanan, Alexander Carlisle, 1786-1840              & Government appointee; Merchant                     & FALSE & FALSE & TRUE & FALSE & FALSE\\\\\n",
       "\t16 & Anonymous Government Agent in Upper Canada, fl. 1833 & Government employee                                & FALSE & FALSE & TRUE & FALSE & FALSE\\\\\n",
       "\t17 & Aylmer, Matthew, Lord, 1775-1850                     & Military personnel; Royal governor                 & FALSE & FALSE & TRUE & FALSE & FALSE\\\\\n",
       "\\end{tabular}\n"
      ],
      "text/markdown": [
       "\n",
       "A data.frame: 6 × 7\n",
       "\n",
       "| <!--/--> | docauthorname &lt;fct&gt; | socialClass &lt;chr&gt; | A &lt;lgl&gt; | I &lt;lgl&gt; | CCP &lt;lgl&gt; | Unknown &lt;lgl&gt; | wageLabour &lt;lgl&gt; |\n",
       "|---|---|---|---|---|---|---|---|\n",
       "| 1 | Hudson, Henry James, 1822-                           | Government appointee; Politician; Religious leader | FALSE | FALSE | TRUE | FALSE | FALSE |\n",
       "| 2 | Robb, Alexander, 1839-                               | Miner; Laborer; Rancher; Government employee       |  TRUE |  TRUE | TRUE | FALSE |  TRUE |\n",
       "| 14 | Buchanan, J. C., fl. 1833                            | Government employee                                | FALSE | FALSE | TRUE | FALSE | FALSE |\n",
       "| 15 | Buchanan, Alexander Carlisle, 1786-1840              | Government appointee; Merchant                     | FALSE | FALSE | TRUE | FALSE | FALSE |\n",
       "| 16 | Anonymous Government Agent in Upper Canada, fl. 1833 | Government employee                                | FALSE | FALSE | TRUE | FALSE | FALSE |\n",
       "| 17 | Aylmer, Matthew, Lord, 1775-1850                     | Military personnel; Royal governor                 | FALSE | FALSE | TRUE | FALSE | FALSE |\n",
       "\n"
      ],
      "text/plain": [
       "   docauthorname                                       \n",
       "1  Hudson, Henry James, 1822-                          \n",
       "2  Robb, Alexander, 1839-                              \n",
       "14 Buchanan, J. C., fl. 1833                           \n",
       "15 Buchanan, Alexander Carlisle, 1786-1840             \n",
       "16 Anonymous Government Agent in Upper Canada, fl. 1833\n",
       "17 Aylmer, Matthew, Lord, 1775-1850                    \n",
       "   socialClass                                        A     I     CCP  Unknown\n",
       "1  Government appointee; Politician; Religious leader FALSE FALSE TRUE FALSE  \n",
       "2  Miner; Laborer; Rancher; Government employee        TRUE  TRUE TRUE FALSE  \n",
       "14 Government employee                                FALSE FALSE TRUE FALSE  \n",
       "15 Government appointee; Merchant                     FALSE FALSE TRUE FALSE  \n",
       "16 Government employee                                FALSE FALSE TRUE FALSE  \n",
       "17 Military personnel; Royal governor                 FALSE FALSE TRUE FALSE  \n",
       "   wageLabour\n",
       "1  FALSE     \n",
       "2   TRUE     \n",
       "14 FALSE     \n",
       "15 FALSE     \n",
       "16 FALSE     \n",
       "17 FALSE     "
      ]
     },
     "metadata": {},
     "output_type": "display_data"
    }
   ],
   "source": [
    "# Who are the Government?\n",
    "letters %>% \n",
    "filter(grepl(\"Government\", socialClass)| grepl(\"governor\", socialClass)) %>% \n",
    "select(docauthorname, socialClass, A, I,CCP, Unknown, wageLabour) %>% \n",
    "unique()"
   ]
  },
  {
   "cell_type": "markdown",
   "metadata": {},
   "source": [
    "I am happy with these social class values so will make no further changes."
   ]
  },
  {
   "cell_type": "code",
   "execution_count": 164,
   "metadata": {},
   "outputs": [
    {
     "data": {
      "text/html": [
       "TRUE"
      ],
      "text/latex": [
       "TRUE"
      ],
      "text/markdown": [
       "TRUE"
      ],
      "text/plain": [
       "[1] TRUE"
      ]
     },
     "metadata": {},
     "output_type": "display_data"
    }
   ],
   "source": [
    "letters$wageLabour[letters$docauthorname == \"Anonymous Scottish Immigrant from Turriff, fl. 1834\"]"
   ]
  },
  {
   "cell_type": "code",
   "execution_count": 165,
   "metadata": {},
   "outputs": [
    {
     "data": {
      "text/html": [
       "FALSE"
      ],
      "text/latex": [
       "FALSE"
      ],
      "text/markdown": [
       "FALSE"
      ],
      "text/plain": [
       "[1] FALSE"
      ]
     },
     "metadata": {},
     "output_type": "display_data"
    }
   ],
   "source": [
    "letters$wageLabour[letters$docauthorname == \"Downe, John, fl. 1830\"]"
   ]
  },
  {
   "cell_type": "code",
   "execution_count": 166,
   "metadata": {},
   "outputs": [],
   "source": [
    "letters  <- factorize(letters)"
   ]
  },
  {
   "cell_type": "code",
   "execution_count": 167,
   "metadata": {},
   "outputs": [
    {
     "name": "stdout",
     "output_type": "stream",
     "text": [
      "Rows: 617\n",
      "Columns: 32\n",
      "$ docid                     \u001b[3m\u001b[90m<fct>\u001b[39m\u001b[23m S1019-D002, S1019-D004, S1019-D005, S1019-D0…\n",
      "$ sourcetitle               \u001b[3m\u001b[90m<fct>\u001b[39m\u001b[23m \"At the End of the Santa Fe Trail\", \"At the …\n",
      "$ docyear                   \u001b[3m\u001b[90m<int>\u001b[39m\u001b[23m 1872, 1872, 1872, 1872, 1873, 1873, 1873, 18…\n",
      "$ docmonth                  \u001b[3m\u001b[90m<int>\u001b[39m\u001b[23m 11, 12, 12, 12, 3, 7, 9, 6, 11, 6, 9, 12, 1,…\n",
      "$ docday                    \u001b[3m\u001b[90m<int>\u001b[39m\u001b[23m 30, 6, 10, 21, 1, NA, NA, 30, 14, NA, NA, 16…\n",
      "$ authorLocation            \u001b[3m\u001b[90m<fct>\u001b[39m\u001b[23m USA, USA, USA, USA, USA, USA, USA, USA, USA,…\n",
      "$ docauthorid               \u001b[3m\u001b[90m<fct>\u001b[39m\u001b[23m per0001043, per0001043, per0001043, per00010…\n",
      "$ docauthorname             \u001b[3m\u001b[90m<fct>\u001b[39m\u001b[23m \"Segale, Sister Blandina, 1850-1941\", \"Segal…\n",
      "$ authorgender              \u001b[3m\u001b[90m<fct>\u001b[39m\u001b[23m F, F, F, F, F, F, F, F, F, F, F, F, F, F, F,…\n",
      "$ agewriting                \u001b[3m\u001b[90m<int>\u001b[39m\u001b[23m 22, 22, 22, 22, 23, 23, 23, 24, 24, 26, 26, …\n",
      "$ birthyear                 \u001b[3m\u001b[90m<int>\u001b[39m\u001b[23m 1850, 1850, 1850, 1850, 1850, 1850, 1850, 18…\n",
      "$ deathyear                 \u001b[3m\u001b[90m<dbl>\u001b[39m\u001b[23m 1941, 1941, 1941, 1941, 1941, 1941, 1941, 19…\n",
      "$ religion                  \u001b[3m\u001b[90m<fct>\u001b[39m\u001b[23m Catholic; Christian, Catholic; Christian, Ca…\n",
      "$ cultural_heritage         \u001b[3m\u001b[90m<fct>\u001b[39m\u001b[23m Italian; European, Italian; European, Italia…\n",
      "$ north_american_occupation \u001b[3m\u001b[90m<fct>\u001b[39m\u001b[23m Nun; Social worker; Teacher, Nun; Social wor…\n",
      "$ native_occupation         \u001b[3m\u001b[90m<fct>\u001b[39m\u001b[23m NA, NA, NA, NA, NA, NA, NA, NA, NA, NA, NA, …\n",
      "$ marriagestatus            \u001b[3m\u001b[90m<fct>\u001b[39m\u001b[23m Single, Single, Single, Single, Single, Sing…\n",
      "$ maternalstatus            \u001b[3m\u001b[90m<fct>\u001b[39m\u001b[23m Childless, Childless, Childless, Childless, …\n",
      "$ nationalOrigin            \u001b[3m\u001b[90m<fct>\u001b[39m\u001b[23m Italian, Italian, Italian, Italian, Italian,…\n",
      "$ britishEmpire_EU          \u001b[3m\u001b[90m<lgl>\u001b[39m\u001b[23m FALSE, FALSE, FALSE, FALSE, FALSE, FALSE, FA…\n",
      "$ translated                \u001b[3m\u001b[90m<lgl>\u001b[39m\u001b[23m FALSE, FALSE, FALSE, FALSE, FALSE, FALSE, FA…\n",
      "$ publicLetter              \u001b[3m\u001b[90m<lgl>\u001b[39m\u001b[23m NA, NA, NA, NA, NA, NA, NA, NA, NA, NA, NA, …\n",
      "$ religionNew               \u001b[3m\u001b[90m<fct>\u001b[39m\u001b[23m Catholic, Catholic, Catholic, Catholic, Cath…\n",
      "$ relMin                    \u001b[3m\u001b[90m<lgl>\u001b[39m\u001b[23m TRUE, TRUE, TRUE, TRUE, TRUE, TRUE, TRUE, TR…\n",
      "$ occupation                \u001b[3m\u001b[90m<fct>\u001b[39m\u001b[23m Nun; Social worker; Teacher, Nun; Social wor…\n",
      "$ socialClass               \u001b[3m\u001b[90m<fct>\u001b[39m\u001b[23m Nun; Social worker; Teacher, Nun; Social wor…\n",
      "$ A                         \u001b[3m\u001b[90m<lgl>\u001b[39m\u001b[23m FALSE, FALSE, FALSE, FALSE, FALSE, FALSE, FA…\n",
      "$ I                         \u001b[3m\u001b[90m<lgl>\u001b[39m\u001b[23m FALSE, FALSE, FALSE, FALSE, FALSE, FALSE, FA…\n",
      "$ CCP                       \u001b[3m\u001b[90m<lgl>\u001b[39m\u001b[23m TRUE, TRUE, TRUE, TRUE, TRUE, TRUE, TRUE, TR…\n",
      "$ Unknown                   \u001b[3m\u001b[90m<lgl>\u001b[39m\u001b[23m FALSE, FALSE, FALSE, FALSE, FALSE, FALSE, FA…\n",
      "$ wageLabour                \u001b[3m\u001b[90m<lgl>\u001b[39m\u001b[23m FALSE, FALSE, FALSE, FALSE, FALSE, FALSE, FA…\n",
      "$ sourceID                  \u001b[3m\u001b[90m<fct>\u001b[39m\u001b[23m S101, S101, S101, S101, S101, S101, S101, S1…\n"
     ]
    }
   ],
   "source": [
    "glimpse(letters)"
   ]
  },
  {
   "cell_type": "code",
   "execution_count": 168,
   "metadata": {},
   "outputs": [],
   "source": [
    "vars  <- c('docauthorid',\n",
    "           'docauthorname',\n",
    "           'docid',\n",
    "           'sourcetitle',\n",
    "           'docyear',\n",
    "           'docmonth',\n",
    "           'docday',\n",
    "           'authorgender',\n",
    "           'agewriting',\n",
    "           'birthyear',\n",
    "           'deathyear',\n",
    "           'religionNew',\n",
    "           'relMin',\n",
    "           'nationalOrigin',\n",
    "           'britishEmpire_EU',\n",
    "           'translated',\n",
    "           'authorLocation',\n",
    "           'socialClass',\n",
    "           'A', \n",
    "           'I', \n",
    "           'CCP',\n",
    "           'Unknown',\n",
    "           'wageLabour',\n",
    "           'marriagestatus',\n",
    "           'maternalstatus',\n",
    "          'publicLetter')\n",
    "\n",
    "letters <- letters[vars]"
   ]
  },
  {
   "cell_type": "code",
   "execution_count": 169,
   "metadata": {},
   "outputs": [
    {
     "name": "stdout",
     "output_type": "stream",
     "text": [
      "Rows: 617\n",
      "Columns: 26\n",
      "$ docauthorid      \u001b[3m\u001b[90m<fct>\u001b[39m\u001b[23m per0001043, per0001043, per0001043, per0001043, per00…\n",
      "$ docauthorname    \u001b[3m\u001b[90m<fct>\u001b[39m\u001b[23m \"Segale, Sister Blandina, 1850-1941\", \"Segale, Sister…\n",
      "$ docid            \u001b[3m\u001b[90m<fct>\u001b[39m\u001b[23m S1019-D002, S1019-D004, S1019-D005, S1019-D006, S1019…\n",
      "$ sourcetitle      \u001b[3m\u001b[90m<fct>\u001b[39m\u001b[23m \"At the End of the Santa Fe Trail\", \"At the End of th…\n",
      "$ docyear          \u001b[3m\u001b[90m<int>\u001b[39m\u001b[23m 1872, 1872, 1872, 1872, 1873, 1873, 1873, 1874, 1874,…\n",
      "$ docmonth         \u001b[3m\u001b[90m<int>\u001b[39m\u001b[23m 11, 12, 12, 12, 3, 7, 9, 6, 11, 6, 9, 12, 1, 3, 3, 6,…\n",
      "$ docday           \u001b[3m\u001b[90m<int>\u001b[39m\u001b[23m 30, 6, 10, 21, 1, NA, NA, 30, 14, NA, NA, 16, NA, NA,…\n",
      "$ authorgender     \u001b[3m\u001b[90m<fct>\u001b[39m\u001b[23m F, F, F, F, F, F, F, F, F, F, F, F, F, F, F, F, F, F,…\n",
      "$ agewriting       \u001b[3m\u001b[90m<int>\u001b[39m\u001b[23m 22, 22, 22, 22, 23, 23, 23, 24, 24, 26, 26, 26, 27, 2…\n",
      "$ birthyear        \u001b[3m\u001b[90m<int>\u001b[39m\u001b[23m 1850, 1850, 1850, 1850, 1850, 1850, 1850, 1850, 1850,…\n",
      "$ deathyear        \u001b[3m\u001b[90m<dbl>\u001b[39m\u001b[23m 1941, 1941, 1941, 1941, 1941, 1941, 1941, 1941, 1941,…\n",
      "$ religionNew      \u001b[3m\u001b[90m<fct>\u001b[39m\u001b[23m Catholic, Catholic, Catholic, Catholic, Catholic, Cat…\n",
      "$ relMin           \u001b[3m\u001b[90m<lgl>\u001b[39m\u001b[23m TRUE, TRUE, TRUE, TRUE, TRUE, TRUE, TRUE, TRUE, TRUE,…\n",
      "$ nationalOrigin   \u001b[3m\u001b[90m<fct>\u001b[39m\u001b[23m Italian, Italian, Italian, Italian, Italian, Italian,…\n",
      "$ britishEmpire_EU \u001b[3m\u001b[90m<lgl>\u001b[39m\u001b[23m FALSE, FALSE, FALSE, FALSE, FALSE, FALSE, FALSE, FALS…\n",
      "$ translated       \u001b[3m\u001b[90m<lgl>\u001b[39m\u001b[23m FALSE, FALSE, FALSE, FALSE, FALSE, FALSE, FALSE, FALS…\n",
      "$ authorLocation   \u001b[3m\u001b[90m<fct>\u001b[39m\u001b[23m USA, USA, USA, USA, USA, USA, USA, USA, USA, USA, USA…\n",
      "$ socialClass      \u001b[3m\u001b[90m<fct>\u001b[39m\u001b[23m Nun; Social worker; Teacher, Nun; Social worker; Teac…\n",
      "$ A                \u001b[3m\u001b[90m<lgl>\u001b[39m\u001b[23m FALSE, FALSE, FALSE, FALSE, FALSE, FALSE, FALSE, FALS…\n",
      "$ I                \u001b[3m\u001b[90m<lgl>\u001b[39m\u001b[23m FALSE, FALSE, FALSE, FALSE, FALSE, FALSE, FALSE, FALS…\n",
      "$ CCP              \u001b[3m\u001b[90m<lgl>\u001b[39m\u001b[23m TRUE, TRUE, TRUE, TRUE, TRUE, TRUE, TRUE, TRUE, TRUE,…\n",
      "$ Unknown          \u001b[3m\u001b[90m<lgl>\u001b[39m\u001b[23m FALSE, FALSE, FALSE, FALSE, FALSE, FALSE, FALSE, FALS…\n",
      "$ wageLabour       \u001b[3m\u001b[90m<lgl>\u001b[39m\u001b[23m FALSE, FALSE, FALSE, FALSE, FALSE, FALSE, FALSE, FALS…\n",
      "$ marriagestatus   \u001b[3m\u001b[90m<fct>\u001b[39m\u001b[23m Single, Single, Single, Single, Single, Single, Singl…\n",
      "$ maternalstatus   \u001b[3m\u001b[90m<fct>\u001b[39m\u001b[23m Childless, Childless, Childless, Childless, Childless…\n",
      "$ publicLetter     \u001b[3m\u001b[90m<lgl>\u001b[39m\u001b[23m NA, NA, NA, NA, NA, NA, NA, NA, NA, NA, NA, NA, NA, N…\n"
     ]
    }
   ],
   "source": [
    "glimpse(letters)"
   ]
  },
  {
   "cell_type": "code",
   "execution_count": 170,
   "metadata": {},
   "outputs": [
    {
     "data": {
      "text/html": [
       "103"
      ],
      "text/latex": [
       "103"
      ],
      "text/markdown": [
       "103"
      ],
      "text/plain": [
       "[1] 103"
      ]
     },
     "metadata": {},
     "output_type": "display_data"
    }
   ],
   "source": [
    "length(unique(letters$docauthorid))"
   ]
  },
  {
   "cell_type": "code",
   "execution_count": 171,
   "metadata": {},
   "outputs": [
    {
     "data": {
      "text/html": [
       "<table class=\"dataframe\">\n",
       "<caption>A data.frame: 2 × 2</caption>\n",
       "<thead>\n",
       "\t<tr><th scope=col>n &gt; 1</th><th scope=col>n</th></tr>\n",
       "\t<tr><th scope=col>&lt;lgl&gt;</th><th scope=col>&lt;int&gt;</th></tr>\n",
       "</thead>\n",
       "<tbody>\n",
       "\t<tr><td>FALSE</td><td>65</td></tr>\n",
       "\t<tr><td> TRUE</td><td>38</td></tr>\n",
       "</tbody>\n",
       "</table>\n"
      ],
      "text/latex": [
       "A data.frame: 2 × 2\n",
       "\\begin{tabular}{ll}\n",
       " n > 1 & n\\\\\n",
       " <lgl> & <int>\\\\\n",
       "\\hline\n",
       "\t FALSE & 65\\\\\n",
       "\t  TRUE & 38\\\\\n",
       "\\end{tabular}\n"
      ],
      "text/markdown": [
       "\n",
       "A data.frame: 2 × 2\n",
       "\n",
       "| n &gt; 1 &lt;lgl&gt; | n &lt;int&gt; |\n",
       "|---|---|\n",
       "| FALSE | 65 |\n",
       "|  TRUE | 38 |\n",
       "\n"
      ],
      "text/plain": [
       "  n > 1 n \n",
       "1 FALSE 65\n",
       "2  TRUE 38"
      ]
     },
     "metadata": {},
     "output_type": "display_data"
    }
   ],
   "source": [
    "letters %>% # Take the dataframe\n",
    "count(docauthorid, sort = TRUE) %>% # Count the number of letters per authors\n",
    "count(n > 1) # Count the number of series"
   ]
  },
  {
   "cell_type": "code",
   "execution_count": 172,
   "metadata": {},
   "outputs": [
    {
     "data": {
      "text/plain": [
       "\n",
       "  F   M \n",
       "405 212 "
      ]
     },
     "metadata": {},
     "output_type": "display_data"
    },
    {
     "data": {
      "text/html": [
       "<table class=\"dataframe\">\n",
       "<caption>A matrix: 2 × 1 of type dbl</caption>\n",
       "<tbody>\n",
       "\t<tr><th scope=row>F</th><td>65.64019</td></tr>\n",
       "\t<tr><th scope=row>M</th><td>34.35981</td></tr>\n",
       "</tbody>\n",
       "</table>\n"
      ],
      "text/latex": [
       "A matrix: 2 × 1 of type dbl\n",
       "\\begin{tabular}{r|l}\n",
       "\tF & 65.64019\\\\\n",
       "\tM & 34.35981\\\\\n",
       "\\end{tabular}\n"
      ],
      "text/markdown": [
       "\n",
       "A matrix: 2 × 1 of type dbl\n",
       "\n",
       "| F | 65.64019 |\n",
       "| M | 34.35981 |\n",
       "\n"
      ],
      "text/plain": [
       "  [,1]    \n",
       "F 65.64019\n",
       "M 34.35981"
      ]
     },
     "metadata": {},
     "output_type": "display_data"
    },
    {
     "data": {
      "text/plain": [
       "\n",
       " F  M \n",
       "15 88 "
      ]
     },
     "metadata": {},
     "output_type": "display_data"
    },
    {
     "data": {
      "text/html": [
       "<table class=\"dataframe\">\n",
       "<caption>A matrix: 2 × 1 of type dbl</caption>\n",
       "<tbody>\n",
       "\t<tr><th scope=row>F</th><td>14.56311</td></tr>\n",
       "\t<tr><th scope=row>M</th><td>85.43689</td></tr>\n",
       "</tbody>\n",
       "</table>\n"
      ],
      "text/latex": [
       "A matrix: 2 × 1 of type dbl\n",
       "\\begin{tabular}{r|l}\n",
       "\tF & 14.56311\\\\\n",
       "\tM & 85.43689\\\\\n",
       "\\end{tabular}\n"
      ],
      "text/markdown": [
       "\n",
       "A matrix: 2 × 1 of type dbl\n",
       "\n",
       "| F | 14.56311 |\n",
       "| M | 85.43689 |\n",
       "\n"
      ],
      "text/plain": [
       "  [,1]    \n",
       "F 14.56311\n",
       "M 85.43689"
      ]
     },
     "metadata": {},
     "output_type": "display_data"
    }
   ],
   "source": [
    "#What is the gender breakdown by doc and by author for letters\n",
    "\n",
    "lettersG <- letters %>% #Create new variable for the collection of letters\n",
    "summarise(authorgender) #summarized by gender\n",
    "table(lettersG$authorgender) #plot collection gender breakdown\n",
    "prop.table(as.matrix(table(lettersG$authorgender)), 2)*100\n",
    "\n",
    "letterAuthorsG <- letters %>% #Create new variable for the writer pool\n",
    "summarise(authorgender, group_by=docauthorid) %>% #summarized by gender and grouped by author\n",
    "unique() #unique values only\n",
    "table(letterAuthorsG$authorgender) #plot author breakdown\n",
    "prop.table(as.matrix(table(letterAuthorsG$authorgender)), 2)*100"
   ]
  },
  {
   "cell_type": "code",
   "execution_count": 173,
   "metadata": {},
   "outputs": [
    {
     "data": {
      "text/plain": [
       "\n",
       "FALSE  TRUE \n",
       "  452    63 "
      ]
     },
     "metadata": {},
     "output_type": "display_data"
    },
    {
     "data": {
      "text/html": [
       "<table class=\"dataframe\">\n",
       "<caption>A matrix: 2 × 1 of type dbl</caption>\n",
       "<tbody>\n",
       "\t<tr><th scope=row>FALSE</th><td>87.76699</td></tr>\n",
       "\t<tr><th scope=row>TRUE</th><td>12.23301</td></tr>\n",
       "</tbody>\n",
       "</table>\n"
      ],
      "text/latex": [
       "A matrix: 2 × 1 of type dbl\n",
       "\\begin{tabular}{r|l}\n",
       "\tFALSE & 87.76699\\\\\n",
       "\tTRUE & 12.23301\\\\\n",
       "\\end{tabular}\n"
      ],
      "text/markdown": [
       "\n",
       "A matrix: 2 × 1 of type dbl\n",
       "\n",
       "| FALSE | 87.76699 |\n",
       "| TRUE | 12.23301 |\n",
       "\n"
      ],
      "text/plain": [
       "      [,1]    \n",
       "FALSE 87.76699\n",
       "TRUE  12.23301"
      ]
     },
     "metadata": {},
     "output_type": "display_data"
    },
    {
     "data": {
      "text/plain": [
       "\n",
       "FALSE  TRUE \n",
       "   25     7 "
      ]
     },
     "metadata": {},
     "output_type": "display_data"
    },
    {
     "data": {
      "text/html": [
       "<table class=\"dataframe\">\n",
       "<caption>A matrix: 2 × 1 of type dbl</caption>\n",
       "<tbody>\n",
       "\t<tr><th scope=row>FALSE</th><td>78.125</td></tr>\n",
       "\t<tr><th scope=row>TRUE</th><td>21.875</td></tr>\n",
       "</tbody>\n",
       "</table>\n"
      ],
      "text/latex": [
       "A matrix: 2 × 1 of type dbl\n",
       "\\begin{tabular}{r|l}\n",
       "\tFALSE & 78.125\\\\\n",
       "\tTRUE & 21.875\\\\\n",
       "\\end{tabular}\n"
      ],
      "text/markdown": [
       "\n",
       "A matrix: 2 × 1 of type dbl\n",
       "\n",
       "| FALSE | 78.125 |\n",
       "| TRUE | 21.875 |\n",
       "\n"
      ],
      "text/plain": [
       "      [,1]  \n",
       "FALSE 78.125\n",
       "TRUE  21.875"
      ]
     },
     "metadata": {},
     "output_type": "display_data"
    }
   ],
   "source": [
    "#What is the breakdown for religious minority by doc and by author for letters\n",
    "\n",
    "lettersG <- letters %>% #Create new variable for the collection of letters\n",
    "summarise(relMin) #summarized by gender\n",
    "table(lettersG$relMin) #plot collection religious minority breakdown\n",
    "prop.table(as.matrix(table(lettersG$relMin)), 2)*100\n",
    "\n",
    "letterAuthorsG <- letters %>% #Create new variable for the writer pool\n",
    "summarise(relMin, group_by=docauthorid) %>% #summarized by gender and grouped by author\n",
    "unique() #unique values only\n",
    "table(letterAuthorsG$relMin) #plot religious minority breakdown\n",
    "prop.table(as.matrix(table(letterAuthorsG$relMin)), 2)*100"
   ]
  },
  {
   "cell_type": "code",
   "execution_count": 174,
   "metadata": {},
   "outputs": [
    {
     "data": {
      "text/plain": [
       "\n",
       "FALSE  TRUE \n",
       "  310   239 "
      ]
     },
     "metadata": {},
     "output_type": "display_data"
    },
    {
     "data": {
      "text/html": [
       "<table class=\"dataframe\">\n",
       "<caption>A matrix: 2 × 1 of type dbl</caption>\n",
       "<tbody>\n",
       "\t<tr><th scope=row>FALSE</th><td>56.4663</td></tr>\n",
       "\t<tr><th scope=row>TRUE</th><td>43.5337</td></tr>\n",
       "</tbody>\n",
       "</table>\n"
      ],
      "text/latex": [
       "A matrix: 2 × 1 of type dbl\n",
       "\\begin{tabular}{r|l}\n",
       "\tFALSE & 56.4663\\\\\n",
       "\tTRUE & 43.5337\\\\\n",
       "\\end{tabular}\n"
      ],
      "text/markdown": [
       "\n",
       "A matrix: 2 × 1 of type dbl\n",
       "\n",
       "| FALSE | 56.4663 |\n",
       "| TRUE | 43.5337 |\n",
       "\n"
      ],
      "text/plain": [
       "      [,1]   \n",
       "FALSE 56.4663\n",
       "TRUE  43.5337"
      ]
     },
     "metadata": {},
     "output_type": "display_data"
    },
    {
     "data": {
      "text/plain": [
       "\n",
       "FALSE  TRUE \n",
       "   43    12 "
      ]
     },
     "metadata": {},
     "output_type": "display_data"
    },
    {
     "data": {
      "text/html": [
       "<table class=\"dataframe\">\n",
       "<caption>A matrix: 2 × 1 of type dbl</caption>\n",
       "<tbody>\n",
       "\t<tr><th scope=row>FALSE</th><td>78.18182</td></tr>\n",
       "\t<tr><th scope=row>TRUE</th><td>21.81818</td></tr>\n",
       "</tbody>\n",
       "</table>\n"
      ],
      "text/latex": [
       "A matrix: 2 × 1 of type dbl\n",
       "\\begin{tabular}{r|l}\n",
       "\tFALSE & 78.18182\\\\\n",
       "\tTRUE & 21.81818\\\\\n",
       "\\end{tabular}\n"
      ],
      "text/markdown": [
       "\n",
       "A matrix: 2 × 1 of type dbl\n",
       "\n",
       "| FALSE | 78.18182 |\n",
       "| TRUE | 21.81818 |\n",
       "\n"
      ],
      "text/plain": [
       "      [,1]    \n",
       "FALSE 78.18182\n",
       "TRUE  21.81818"
      ]
     },
     "metadata": {},
     "output_type": "display_data"
    }
   ],
   "source": [
    "#What is the breakdown for working class by doc and by author for letters\n",
    "\n",
    "lettersG <- letters %>% #Create new variable for the collection of letters\n",
    "summarise(wageLabour) #summarized by gender\n",
    "table(lettersG$wageLabour) #plot collection religious minority breakdown\n",
    "prop.table(as.matrix(table(lettersG$wageLabour)), 2)*100\n",
    "\n",
    "letterAuthorsG <- letters %>% #Create new variable for the writer pool\n",
    "summarise(wageLabour, group_by=docauthorid) %>% #summarized by gender and grouped by author\n",
    "unique() #unique values only\n",
    "table(letterAuthorsG$wageLabour) #plot religious minority breakdown\n",
    "prop.table(as.matrix(table(letterAuthorsG$wageLabour)), 2)*100"
   ]
  },
  {
   "cell_type": "code",
   "execution_count": 175,
   "metadata": {},
   "outputs": [],
   "source": [
    "write.csv(letters, \n",
    "          \"20230507_AM_PhD-NaildohSubset.csv\", \n",
    "          row.names=FALSE)"
   ]
  },
  {
   "cell_type": "markdown",
   "metadata": {},
   "source": [
    "## References\n",
    "\n",
    "Conway, A. (1961). The Welsh in America: Letters from the immigrants. University of Minnesota Press. https://www.jstor.org/stable/10.5749/j.cttts8t0.\n",
    "\n",
    "Turnbull, T. (1914). T. Turnbull’s travels from the United States across the plains to California (F. L. (Frederic L. Paxson & R. G. Thwaites, Eds.). Madison, Published for the State Historical Society of Wisconsin. http://archive.org/details/tturnbullstravel00turnrich\n"
   ]
  }
 ],
 "metadata": {
  "kernelspec": {
   "display_name": "R",
   "language": "R",
   "name": "ir"
  },
  "language_info": {
   "codemirror_mode": "r",
   "file_extension": ".r",
   "mimetype": "text/x-r-source",
   "name": "R",
   "pygments_lexer": "r",
   "version": "4.1.0"
  }
 },
 "nbformat": 4,
 "nbformat_minor": 2
}
