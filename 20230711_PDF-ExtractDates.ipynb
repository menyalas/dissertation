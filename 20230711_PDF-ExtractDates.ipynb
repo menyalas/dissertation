{
 "cells": [
  {
   "cell_type": "markdown",
   "id": "303d3ffc",
   "metadata": {},
   "source": [
    "The goal of this notebook is to make two lists, one that contains all the month data and one that contains all the day data. The steps for doing this are as follows:\n",
    "1. Create two new objects: Month and Day\n",
    "Open first file with the prefix \"PRG218-\"\n",
    "2. Match the month name\n",
    "3. Replace with number\n",
    "4. Do this for all files\n",
    "5. Make a loop to do all entries."
   ]
  },
  {
   "cell_type": "code",
   "execution_count": 1,
   "id": "ac243426",
   "metadata": {},
   "outputs": [],
   "source": [
    "import os\n",
    "import re\n",
    "from natsort import natsorted"
   ]
  },
  {
   "cell_type": "code",
   "execution_count": 2,
   "id": "5146b602",
   "metadata": {},
   "outputs": [
    {
     "data": {
      "text/plain": [
       "'/Users/alaynemoody/Dropbox/Grad Studies/Flinders/Dissertation/diaries'"
      ]
     },
     "execution_count": 2,
     "metadata": {},
     "output_type": "execute_result"
    }
   ],
   "source": [
    "os.getcwd()"
   ]
  },
  {
   "cell_type": "code",
   "execution_count": 3,
   "id": "6315d7ec",
   "metadata": {},
   "outputs": [
    {
     "data": {
      "text/plain": [
       "363"
      ]
     },
     "execution_count": 3,
     "metadata": {},
     "output_type": "execute_result"
    }
   ],
   "source": [
    "path = '/Users/alaynemoody/Dropbox/Grad Studies/Flinders/Dissertation/diaries'\n",
    "numberoffiles=0\n",
    "for file in os.listdir(path):\n",
    "        if file.startswith(\"PRG218-\"):\n",
    "            numberoffiles=numberoffiles+1\n",
    "numberoffiles"
   ]
  },
  {
   "cell_type": "code",
   "execution_count": 4,
   "id": "db676571",
   "metadata": {},
   "outputs": [],
   "source": [
    "monthDay = []\n",
    "for file in natsorted(os.listdir(path)):\n",
    "        if file.startswith(\"PRG218-\"):\n",
    "            with open(file) as f:\n",
    "                first_line = f.readline().strip('\\n')\n",
    "                monthDay.append(first_line)"
   ]
  },
  {
   "cell_type": "code",
   "execution_count": 5,
   "id": "068b0f99",
   "metadata": {},
   "outputs": [
    {
     "name": "stdout",
     "output_type": "stream",
     "text": [
      "['January 1 Sunday  ', 'January 2 Monday  ', 'January 3 Tuesday  ', 'January 4 Wednesday  ', 'January 5 Thursday  ', 'January  6 Friday  ', 'January 7 Saturday  ', 'January  8 Sunday  ', 'January 9 Monday  ', 'January  10 Tuesday   ']\n"
     ]
    }
   ],
   "source": [
    "print(monthDay[0:10])"
   ]
  },
  {
   "cell_type": "code",
   "execution_count": 6,
   "id": "97b2acbf",
   "metadata": {},
   "outputs": [],
   "source": [
    "monthDay = ''.join(monthDay)"
   ]
  },
  {
   "cell_type": "code",
   "execution_count": 7,
   "id": "3e57f762",
   "metadata": {},
   "outputs": [
    {
     "name": "stdout",
     "output_type": "stream",
     "text": [
      "January 1 Sunday  January 2 Monday  January 3 Tuesday  January 4 Wednesday  January 5 Thursday  Janu\n"
     ]
    }
   ],
   "source": [
    "print(monthDay[0:100])"
   ]
  },
  {
   "cell_type": "code",
   "execution_count": 8,
   "id": "08575982",
   "metadata": {},
   "outputs": [],
   "source": [
    "dates = re.split('(?<=\\d )\\w*',monthDay)"
   ]
  },
  {
   "cell_type": "code",
   "execution_count": 9,
   "id": "43e837a3",
   "metadata": {},
   "outputs": [
    {
     "name": "stdout",
     "output_type": "stream",
     "text": [
      "['January 1 ', '  January 2 ', '  January 3 ', '  January 4 ', '  January 5 ', '  January  6 ', '  January 7 ', '  January  8 ', '  January 9 ', '  January  10 ']\n"
     ]
    }
   ],
   "source": [
    "print(dates[0:10])"
   ]
  },
  {
   "cell_type": "code",
   "execution_count": 10,
   "id": "8b617045",
   "metadata": {},
   "outputs": [],
   "source": [
    "dates = [i.lstrip() for i in dates]"
   ]
  },
  {
   "cell_type": "code",
   "execution_count": 12,
   "id": "5f99fdf5",
   "metadata": {},
   "outputs": [
    {
     "name": "stdout",
     "output_type": "stream",
     "text": [
      "['January 1 ', 'January 2 ', 'January 3 ', 'January 4 ', 'January 5 ', 'January  6 ', 'January 7 ', 'January  8 ', 'January 9 ', 'January  10 ']\n"
     ]
    }
   ],
   "source": [
    "print(dates[0:10])"
   ]
  },
  {
   "cell_type": "code",
   "execution_count": 13,
   "id": "caccacb3",
   "metadata": {},
   "outputs": [],
   "source": [
    "dates = ''.join(dates)"
   ]
  },
  {
   "cell_type": "code",
   "execution_count": 14,
   "id": "66717b00",
   "metadata": {},
   "outputs": [
    {
     "name": "stdout",
     "output_type": "stream",
     "text": [
      "January 1 January 2 January 3 January 4 January 5 January  6 January 7 January  8 January 9 January \n"
     ]
    }
   ],
   "source": [
    "print(dates[0:100])"
   ]
  },
  {
   "cell_type": "code",
   "execution_count": 15,
   "id": "91f1343b",
   "metadata": {},
   "outputs": [],
   "source": [
    "dates = dates.replace('Marquis of Argyle not arrived.  The “Murray” in on the 2 .  Easterly winds prevailing.', '')"
   ]
  },
  {
   "cell_type": "code",
   "execution_count": 16,
   "id": "faf647d2",
   "metadata": {},
   "outputs": [],
   "source": [
    "dates = dates.replace('1865', '')"
   ]
  },
  {
   "cell_type": "code",
   "execution_count": 17,
   "id": "c4f0916b",
   "metadata": {},
   "outputs": [],
   "source": [
    "dates = dates.replace('u a', 'ua')\n",
    "dates = dates.replace('a r', 'ar')\n",
    "dates = dates.replace('b e', 'be')\n",
    "dates = dates.replace('m b', 'mb')"
   ]
  },
  {
   "cell_type": "code",
   "execution_count": 20,
   "id": "28d4a3ad",
   "metadata": {},
   "outputs": [
    {
     "name": "stdout",
     "output_type": "stream",
     "text": [
      "January 1 January 2 January 3 January 4 January 5 January  6 January 7 January  8 January 9 January  10 January 11 January 12 January 13 January 14 January  15 January  16 January  17 January 18 Janua\n"
     ]
    }
   ],
   "source": [
    "print(dates[0:200])"
   ]
  },
  {
   "cell_type": "code",
   "execution_count": 21,
   "id": "463e1bd0",
   "metadata": {},
   "outputs": [],
   "source": [
    "months = re.split('\\d+',dates)"
   ]
  },
  {
   "cell_type": "code",
   "execution_count": 22,
   "id": "4711c287",
   "metadata": {},
   "outputs": [
    {
     "name": "stdout",
     "output_type": "stream",
     "text": [
      "['January ', ' January ', ' January ', ' January ', ' January ', ' January  ', ' January ', ' January  ', ' January ', ' January  ']\n"
     ]
    }
   ],
   "source": [
    "print(months[0:10])"
   ]
  },
  {
   "cell_type": "code",
   "execution_count": 23,
   "id": "27ffe73d",
   "metadata": {},
   "outputs": [],
   "source": [
    "days = re.split('\\D+',dates)"
   ]
  },
  {
   "cell_type": "code",
   "execution_count": 24,
   "id": "aa534039",
   "metadata": {},
   "outputs": [
    {
     "name": "stdout",
     "output_type": "stream",
     "text": [
      "['', '1', '2', '3', '4', '5', '6', '7', '8', '9']\n"
     ]
    }
   ],
   "source": [
    "print(days[0:10])"
   ]
  },
  {
   "cell_type": "code",
   "execution_count": 25,
   "id": "7fa441ba",
   "metadata": {},
   "outputs": [],
   "source": [
    "months = ''.join(months)"
   ]
  },
  {
   "cell_type": "code",
   "execution_count": 26,
   "id": "e4ae1a91",
   "metadata": {},
   "outputs": [
    {
     "name": "stdout",
     "output_type": "stream",
     "text": [
      "January  January  January  January  January  January   January  January   January  January   January\n"
     ]
    }
   ],
   "source": [
    "print(months[0:100])"
   ]
  },
  {
   "cell_type": "code",
   "execution_count": 27,
   "id": "3d1d6a3e",
   "metadata": {},
   "outputs": [],
   "source": [
    "months = months.replace('January', '1')\n",
    "months = months.replace('February', '2')\n",
    "months = months.replace('March', '3')\n",
    "months = months.replace('April', '4')\n",
    "months = months.replace('May', '5')\n",
    "months = months.replace('June', '6')\n",
    "months = months.replace('July', '7')\n",
    "months = months.replace('August', '8')\n",
    "months = months.replace('September', '9')\n",
    "months = months.replace('October', '10')\n",
    "months = months.replace('November', '11')\n",
    "months = months.replace('December', '12')"
   ]
  },
  {
   "cell_type": "code",
   "execution_count": 28,
   "id": "0b005038",
   "metadata": {},
   "outputs": [
    {
     "name": "stdout",
     "output_type": "stream",
     "text": [
      "1  1  1  1  1  1   1  1   1  1   1  1  1  1  1   1   1   1  1   1  1   1   1   1   1   1   1  1   1   1   1   2   2   2   2  2  2   2  2   2  2   2   2   2  2   2  2   2  2   2   2   2  2   2  2   2  2   2  2   3  3   3   3   3  3   3  3  3  3   3  3    3  3  3  3  3  3  3  3  3   3   3  day  3   3  3   `3  3   3  3   3  4  4  4  4  4  4  4  4  4  4  4  4  4  4  4  4   Sunday   4  Monday  4  Tuesd\n"
     ]
    }
   ],
   "source": [
    "print(months[0:400])"
   ]
  },
  {
   "cell_type": "code",
   "execution_count": 29,
   "id": "7add23d9",
   "metadata": {},
   "outputs": [],
   "source": [
    "months = re.sub(r\"[a-z]|[A-Z]\", \"\", months)"
   ]
  },
  {
   "cell_type": "code",
   "execution_count": 30,
   "id": "8fe0773c",
   "metadata": {},
   "outputs": [
    {
     "name": "stdout",
     "output_type": "stream",
     "text": [
      "1  1  1  1  1  1   1  1   1  1   1  1  1  1  1   1   1   1  1   1  1   1   1   1   1   1   1  1   1   1   1   2   2   2   2  2  2   2  2   2  2   2   2   2  2   2  2   2  2   2   2   2  2   2  2   2  2   2  2   3  3   3   3   3  3   3  3  3  3   3  3    3  3  3  3  3  3  3  3  3   3   3    3   3  3   `3  3   3  3   3  4  4  4  4  4  4  4  4  4  4  4  4  4  4  4  4      4    4     4  4  4  4  4    \n"
     ]
    }
   ],
   "source": [
    "print(months[0:400])"
   ]
  },
  {
   "cell_type": "code",
   "execution_count": 31,
   "id": "2a513fcb",
   "metadata": {},
   "outputs": [],
   "source": [
    "months = re.split(' +',months)"
   ]
  },
  {
   "cell_type": "code",
   "execution_count": 32,
   "id": "26863b3d",
   "metadata": {},
   "outputs": [
    {
     "name": "stdout",
     "output_type": "stream",
     "text": [
      "['1', '1', '1', '1', '1', '1', '1', '1', '1', '1']\n"
     ]
    }
   ],
   "source": [
    "print(months[0:10])"
   ]
  },
  {
   "cell_type": "code",
   "execution_count": 33,
   "id": "d12d65e1",
   "metadata": {},
   "outputs": [
    {
     "data": {
      "text/plain": [
       "364"
      ]
     },
     "execution_count": 33,
     "metadata": {},
     "output_type": "execute_result"
    }
   ],
   "source": [
    "len(months)"
   ]
  },
  {
   "cell_type": "code",
   "execution_count": 34,
   "id": "cda60e48",
   "metadata": {},
   "outputs": [
    {
     "data": {
      "text/plain": [
       "365"
      ]
     },
     "execution_count": 34,
     "metadata": {},
     "output_type": "execute_result"
    }
   ],
   "source": [
    "len(days)"
   ]
  },
  {
   "cell_type": "code",
   "execution_count": 35,
   "id": "b9335121",
   "metadata": {},
   "outputs": [
    {
     "data": {
      "text/plain": [
       "363"
      ]
     },
     "execution_count": 35,
     "metadata": {},
     "output_type": "execute_result"
    }
   ],
   "source": [
    "months = [i for i in months if i]\n",
    "len(months)"
   ]
  },
  {
   "cell_type": "code",
   "execution_count": 36,
   "id": "8bf7fe8a",
   "metadata": {},
   "outputs": [
    {
     "data": {
      "text/plain": [
       "363"
      ]
     },
     "execution_count": 36,
     "metadata": {},
     "output_type": "execute_result"
    }
   ],
   "source": [
    "days = [i for i in days if i]\n",
    "len(days)"
   ]
  },
  {
   "cell_type": "code",
   "execution_count": 159,
   "id": "fa8a765f",
   "metadata": {},
   "outputs": [],
   "source": [
    "with open('months.csv', 'w') as f:\n",
    "        f.write(\"\\n\".join(months))"
   ]
  },
  {
   "cell_type": "code",
   "execution_count": 160,
   "id": "18f87bf2",
   "metadata": {},
   "outputs": [],
   "source": [
    "with open('days.csv', 'w') as f:\n",
    "        f.write(\"\\n\".join(days))"
   ]
  }
 ],
 "metadata": {
  "kernelspec": {
   "display_name": "Python 3",
   "language": "python",
   "name": "python3"
  },
  "language_info": {
   "codemirror_mode": {
    "name": "ipython",
    "version": 3
   },
   "file_extension": ".py",
   "mimetype": "text/x-python",
   "name": "python",
   "nbconvert_exporter": "python",
   "pygments_lexer": "ipython3",
   "version": "3.9.5"
  }
 },
 "nbformat": 4,
 "nbformat_minor": 5
}
