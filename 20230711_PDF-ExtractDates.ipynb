{
 "cells": [
  {
   "cell_type": "markdown",
   "id": "303d3ffc",
   "metadata": {},
   "source": [
    "The goal of this notebook is to make two lists, one that contains all the month data and one that contains all the day data. The steps for doing this are as follows:\n",
    "1. Create two new objects: Month and Day\n",
    "Open first file with the prefix \"PRG218-\"\n",
    "2. Match the month name\n",
    "3. Replace with number\n",
    "4. Do this for all files\n",
    "5. Make a loop to do all entries."
   ]
  },
  {
   "cell_type": "code",
   "execution_count": 138,
   "id": "ac243426",
   "metadata": {},
   "outputs": [],
   "source": [
    "import os\n",
    "import re\n",
    "from natsort import natsorted"
   ]
  },
  {
   "cell_type": "code",
   "execution_count": 6,
   "id": "5146b602",
   "metadata": {},
   "outputs": [
    {
     "data": {
      "text/plain": [
       "'/Users/alaynemoody/Dropbox/Grad Studies/Flinders/Dissertation/diaries'"
      ]
     },
     "execution_count": 6,
     "metadata": {},
     "output_type": "execute_result"
    }
   ],
   "source": [
    "os.getcwd()"
   ]
  },
  {
   "cell_type": "code",
   "execution_count": 120,
   "id": "6315d7ec",
   "metadata": {},
   "outputs": [
    {
     "data": {
      "text/plain": [
       "364"
      ]
     },
     "execution_count": 120,
     "metadata": {},
     "output_type": "execute_result"
    }
   ],
   "source": [
    "path = '/Users/alaynemoody/Dropbox/Grad Studies/Flinders/Dissertation/diaries'\n",
    "numberoffiles=0\n",
    "for file in os.listdir(path):\n",
    "        if file.startswith(\"PRG218-\"):\n",
    "            numberoffiles=numberoffiles+1\n",
    "numberoffiles"
   ]
  },
  {
   "cell_type": "code",
   "execution_count": 139,
   "id": "db676571",
   "metadata": {},
   "outputs": [
    {
     "data": {
      "text/plain": [
       "['January 1 Sunday  ',\n",
       " 'January 2 Monday  ',\n",
       " 'January 3 Tuesday  ',\n",
       " 'January 4 Wednesday  ',\n",
       " 'January 5 Thursday  ',\n",
       " 'January  6 Friday  ',\n",
       " 'January 7 Saturday  ',\n",
       " 'January  8 Sunday  ',\n",
       " 'January 9 Monday  ',\n",
       " 'January  10 Tuesday   ',\n",
       " 'January 11 Wednesday  ',\n",
       " 'January 12 Thursday  ',\n",
       " 'Janu ary 13 Friday  ',\n",
       " 'January 14 Saturday  ',\n",
       " 'January  15 Sunday   ',\n",
       " 'January  16 Monday  ',\n",
       " 'January  17 Tuesday  ',\n",
       " 'January 18 Wednesday  ',\n",
       " 'January  19 Thursday  ',\n",
       " 'January 20 Friday  ',\n",
       " 'January  21 Saturday  ',\n",
       " 'January  22 Sunday  ',\n",
       " 'January  23 Monday  ',\n",
       " 'January  24 Tuesday  ',\n",
       " 'January  25 Wednesday  ',\n",
       " 'January  26 Thursday  ',\n",
       " 'Janua ry 27 Friday  ',\n",
       " 'January  28 Saturday  ',\n",
       " 'January  29 Sunday   ',\n",
       " 'January  30 Monday  ',\n",
       " 'January  31 Tuesday  ',\n",
       " 'February  1 Wednesday    ',\n",
       " 'February  2 Thursday  ',\n",
       " 'February  3 Friday  ',\n",
       " 'February 4 Saturday  ',\n",
       " 'February 5 Sunday    ',\n",
       " 'February  6 Monday  ',\n",
       " 'February 7 Tuesday   ',\n",
       " 'February  8 Wednesday     ',\n",
       " 'February 9 Thursday    ',\n",
       " 'February  10 Friday   ',\n",
       " 'February  11 Saturday    ',\n",
       " 'February  12 Sunday   ',\n",
       " 'February 13 Monday    ',\n",
       " 'February  14 Tuesday    ',\n",
       " 'February 15 Wednesday    ',\n",
       " 'February  16 Thursday    ',\n",
       " 'February 17 Friday    ',\n",
       " 'February  18 Saturday   ',\n",
       " 'February  19 Sunday  ',\n",
       " 'February  20 Monday   ',\n",
       " 'February 21 Tuesday     ',\n",
       " 'February  22 Wednesday   ',\n",
       " 'February 23 Thursday    ',\n",
       " 'February  24 Friday  ',\n",
       " 'February 25 Saturday   ',\n",
       " 'February  26 Sunday   ',\n",
       " 'February 27 Monday     ',\n",
       " 'February  28 Tuesday    ',\n",
       " 'March 1 Wednesday   ',\n",
       " 'March  2 Thursday   ',\n",
       " 'March  3 Friday    ',\n",
       " 'March  4 Saturday   ',\n",
       " 'March 5 Sunday   ',\n",
       " 'March  6 Monday  ',\n",
       " 'March 7 Tuesday     ',\n",
       " 'March 8 Wednesday    ',\n",
       " 'March 9 Thursday     ',\n",
       " 'March  10 Friday  ',\n",
       " 'March 11 Saturday   ',\n",
       " 'March  12 Sunday  1865    ',\n",
       " 'March 13 Monday   ',\n",
       " 'March 14 Tuesday   ',\n",
       " 'March 15 Wednesday   ',\n",
       " 'March 16 Thursday    ',\n",
       " 'March 17 Friday   ',\n",
       " 'March 18 Saturday    ',\n",
       " 'March 19 Sunday    ',\n",
       " 'March 20 Monday  ',\n",
       " 'March  21 Tuesday    ',\n",
       " 'March  22 Wednesday  ',\n",
       " 'March 23 Thurs day  ',\n",
       " 'March  24 Friday  ',\n",
       " 'March 25 Saturday   ',\n",
       " 'March  26 Sunday  ',\n",
       " 'March 27 Monday  ',\n",
       " 'March  28 Tuesday  ',\n",
       " 'March 29 Wednesday  ',\n",
       " 'March  30 Thursday  ',\n",
       " 'March 31 Friday    ',\n",
       " 'April 1 Saturday   ',\n",
       " 'April 2 Sunday  ',\n",
       " 'April 3 Monday  ',\n",
       " 'April 4 Tuesday   ',\n",
       " 'April 5 Wednesday  ',\n",
       " 'April 6 Thursday   ',\n",
       " 'April 7 Friday    ',\n",
       " 'April 8 Saturday   ',\n",
       " 'April 9 Sunday  ',\n",
       " 'April 10 Monday   ',\n",
       " 'April 11 Tuesday  ',\n",
       " 'April 12 Wednesday   ',\n",
       " 'April 13 Thursday   ',\n",
       " 'April 14 Friday   ',\n",
       " 'April 15 Saturday   ',\n",
       " 'April  16 Easter Sunday   ',\n",
       " 'April 17 Easter Monday  ',\n",
       " 'April 18 Easter Tuesday   ',\n",
       " 'April 19 Wednesday    ',\n",
       " 'April 20 Thursday    ',\n",
       " 'April 21 Friday  ',\n",
       " 'April 22 Saturday    ',\n",
       " 'April 23 Low Sunday   ',\n",
       " 'April 24 Monday    ',\n",
       " 'April 25 Tuesday  ',\n",
       " 'April 26 Wednesday   ',\n",
       " 'April 27 Thursday  ',\n",
       " 'April 28 Friday   ',\n",
       " 'April 29 Saturday  ',\n",
       " 'April 30 Sunday   ',\n",
       " 'May 1 Monday   ',\n",
       " 'May 2 Tuesday   ',\n",
       " 'May 3 Wednesday   ',\n",
       " 'May 4 Thursday   ',\n",
       " 'May 5 Friday    ',\n",
       " 'May 6 Saturday   ',\n",
       " 'May 7 Sund ay   ',\n",
       " 'May 8 Monday   ',\n",
       " 'May 9 Tuesday  ',\n",
       " 'May 10 Wednesday   ',\n",
       " 'May 11 Thursday   ',\n",
       " 'May 12 Friday    ',\n",
       " 'May 13 Saturday   ',\n",
       " 'May 14 Sunday  ',\n",
       " 'May 15 Monday   ',\n",
       " 'May 16 Tuesday   ',\n",
       " 'May 17 Wednesday   ',\n",
       " 'May 18 Thursday  ',\n",
       " 'May 19 Friday   ',\n",
       " 'May 20 Saturday   ',\n",
       " 'May 21 Sunday  ',\n",
       " 'May 22 Monday    ',\n",
       " 'May 23 Tuesday   ',\n",
       " 'May 24 Wednesday    ',\n",
       " 'May 25 Thursday  ',\n",
       " 'May 26 Friday   ',\n",
       " 'May 27 Saturday  ',\n",
       " 'May 28 Sunday  ',\n",
       " 'May 29 Monday  ',\n",
       " 'May 30 Tuesday   ',\n",
       " 'May 31 Wednesday   ',\n",
       " 'June  1 Thursday   ',\n",
       " 'June  2 Friday   ',\n",
       " 'June  3 Saturday   ',\n",
       " 'June  4 Whit Sunday    ',\n",
       " 'June  5 Whit Monday  ',\n",
       " 'June 6 Whit Tuesday    ',\n",
       " 'June 7 Wedn esday   ',\n",
       " 'June  8 Thursday  ',\n",
       " 'June  9 Friday   ',\n",
       " 'June 10 Saturday  ',\n",
       " 'June  11 Sunday  ',\n",
       " 'June 12 Monday   ',\n",
       " 'June  13 Tuesday   ',\n",
       " 'June  14 Wednesday  ',\n",
       " 'June 15 Thursday  ',\n",
       " 'June  16 Friday   ',\n",
       " 'June 17 Saturday  ',\n",
       " 'June 18 Sunday   ',\n",
       " 'June 19 Monday   ',\n",
       " 'June  20 Tuesday   ',\n",
       " 'June  21 Wednesday  ',\n",
       " 'June 22 Thursday  ',\n",
       " 'June  23 Friday   ',\n",
       " 'Marquis of Argyle not arrived.  The “Murray” in on the 2 4 April.  Easterly winds prevailing.  ',\n",
       " 'June  24 Saturday   ',\n",
       " 'June  25 Sunday  ',\n",
       " 'June  26 Monday  ',\n",
       " 'June 27 Tuesday   ',\n",
       " 'June  28 Wednesday   ',\n",
       " 'June  29 Thursday  ',\n",
       " 'June  30 Friday  ',\n",
       " 'July 1 Saturday    ',\n",
       " 'July 2 Sunday   ',\n",
       " 'July 3 Monday   ',\n",
       " 'July 4 Tuesday   ',\n",
       " 'July 5 Wednesday   ',\n",
       " 'July 6 Thursday   ',\n",
       " 'July 7 Friday   ',\n",
       " 'July 8 Saturday    ',\n",
       " 'July 9 Sunday   ',\n",
       " 'July 10 Monday   ',\n",
       " 'July 11 Tuesday   ',\n",
       " 'July 12 Wednesday   ',\n",
       " 'July 13 Thursday  ',\n",
       " 'July 14 Friday  ',\n",
       " 'July 15 Saturday  ',\n",
       " 'July 16 Sunday   ',\n",
       " 'July 17 Monday   ',\n",
       " 'July 18 Tuesday   ',\n",
       " 'July 19 Wednesday   ',\n",
       " 'July 20 Thursday  ',\n",
       " 'July 21 Friday   ',\n",
       " 'July 22 Saturday    ',\n",
       " 'July 23 Sunday   ',\n",
       " 'July 24 Monday   ',\n",
       " 'July 25 Tuesday  ',\n",
       " 'July 26 Wednesday    ',\n",
       " 'July 27 Thursday   ',\n",
       " 'July 28 Friday   ',\n",
       " 'July 29 Saturday   ',\n",
       " 'July 30 Sunday  ',\n",
       " 'July 31 Monday   ',\n",
       " 'August 1 Tuesday   ',\n",
       " 'August  2 Wednesday   ',\n",
       " 'August 3 Thursday   ',\n",
       " 'August  4 Friday   ',\n",
       " 'August  5 Saturday    ',\n",
       " 'August  6 Sunday   ',\n",
       " 'August  7 Monday  ',\n",
       " 'August  8 Tuesday   ',\n",
       " 'August  9 Wednesday   ',\n",
       " 'August  10 Thursday   ',\n",
       " 'August  11 Friday  ',\n",
       " 'August  12 Saturday    ',\n",
       " 'August  13 Sunday  ',\n",
       " 'August  14 Monday   ',\n",
       " 'August  15 Tuesday    ',\n",
       " 'August  16 Wednesday   ',\n",
       " 'August  17 Thursday  ',\n",
       " 'August  18 Friday   ',\n",
       " 'August 19 Saturday    ',\n",
       " 'August  20 Sunday   ',\n",
       " 'August 21 Monday   ',\n",
       " 'August  22 Tuesday  ',\n",
       " 'August 23 Wednesday   ',\n",
       " 'August  24 Thursday   ',\n",
       " 'August  25 Friday   ',\n",
       " 'August  26 Saturday   ',\n",
       " 'August 27 Sunday    ',\n",
       " 'August  28 Monday   ',\n",
       " 'August  29 Tuesday  ',\n",
       " 'August  30 Wednesday   ',\n",
       " 'August  31 Thursday  ',\n",
       " 'September  1 Friday   ',\n",
       " 'September 2 Saturday   ',\n",
       " 'September  3 Sunday   ',\n",
       " 'September  4 Monday  ',\n",
       " 'September  5 Tuesday    ',\n",
       " 'September 6 Wednesday   ',\n",
       " 'September  7 Thursday   ',\n",
       " 'September 8 Friday  ',\n",
       " 'September  9 Saturday   ',\n",
       " 'September 10 Sunday   ',\n",
       " 'September  11 Monday   ',\n",
       " 'September 12 Tuesday  ',\n",
       " 'September  13 Wednesday   ',\n",
       " 'September 14 Thursday   ',\n",
       " 'September  15 Friday   ',\n",
       " 'September 16 Saturday  ',\n",
       " 'September 17 Sunday   ',\n",
       " 'September 18 Monday   ',\n",
       " 'September 19 Tuesday   ',\n",
       " 'September  20 Wednesday  ',\n",
       " 'September  21 Thursday   ',\n",
       " 'September  22 Friday  ',\n",
       " 'September  23 Saturday   ',\n",
       " 'September  24 Sunday   ',\n",
       " 'September  25 Monday    ',\n",
       " 'September  26 Tuesday  ',\n",
       " 'September  27 Wednesday   ',\n",
       " 'Septem ber 28 Thursday    ',\n",
       " 'September  29 Friday    ',\n",
       " 'September  30 Saturday   ',\n",
       " 'October  1 Sunday  ',\n",
       " 'October  2 Monday   ',\n",
       " 'October  3 Tuesday   ',\n",
       " 'October 4 Wednesday    ',\n",
       " 'October  5 Thursday   ',\n",
       " 'October 6 Friday  ',\n",
       " 'October  7 Saturday   ',\n",
       " 'October  8 Sunday    ',\n",
       " 'October  9 Monday   ',\n",
       " 'October  10 Tuesday  ',\n",
       " 'October  11 Wednesday    ',\n",
       " 'October 12 Thursday   ',\n",
       " 'October  13 Friday  ',\n",
       " 'October 14 Saturday   ',\n",
       " 'October 15 Sunday   ',\n",
       " 'October 16 Monday   ',\n",
       " 'October  17 Tuesday   ',\n",
       " 'October18 Wednesday    ',\n",
       " 'October  19 Thursday    ',\n",
       " 'October 20 Friday  ',\n",
       " 'October  21 Saturday   ',\n",
       " 'October  22 Sunday    ',\n",
       " 'October  23 Monday   ',\n",
       " 'October  24 Tuesday  ',\n",
       " 'October 25 Wednesday   ',\n",
       " 'October  26 Thursday   ',\n",
       " 'October  27 Friday   ',\n",
       " 'October  28 Saturday   ',\n",
       " 'October  29 Sunday  ',\n",
       " 'October 30 Monday   ',\n",
       " 'October  31 Tuesday   ',\n",
       " 'November  1 Wednesday  ',\n",
       " 'November  2 Thursday   ',\n",
       " 'Novem ber 3 Friday   ',\n",
       " 'November  4 Saturday   ',\n",
       " 'November  5 Sunday  ',\n",
       " 'November  6 Monday   ',\n",
       " 'November 7 Tuesday    ',\n",
       " 'November 8 Wednesday    ',\n",
       " 'November 9 Thursday   ',\n",
       " 'November  10 Friday    ',\n",
       " 'November  11 Saturday    ',\n",
       " 'November  12 Sunday   ',\n",
       " 'November 13 Monday   ',\n",
       " 'November  14 Tuesday   ',\n",
       " 'November 15 Wednesday  ',\n",
       " 'November  16 Thursday   ',\n",
       " 'November 17 Friday  ',\n",
       " 'November  18 Saturday   ',\n",
       " 'November 19 S unday   ',\n",
       " 'November  20 Monday    ',\n",
       " 'November  21 Tuesday   ',\n",
       " 'November  22 Wednesday   ',\n",
       " 'November  23 Thursday  ',\n",
       " 'November  24 Friday    ',\n",
       " 'November  25 Saturday    ',\n",
       " 'November  26 Sunday    ',\n",
       " 'November  27 Monday  ',\n",
       " 'November  29 Wednesday   ',\n",
       " 'November 30 Thursday   ',\n",
       " 'December  2 Saturday   ',\n",
       " 'December 3 Sunday  ',\n",
       " 'December  4 Monday   ',\n",
       " 'December  5 Tuesday  ',\n",
       " 'December  6 Wednesday   ',\n",
       " 'December 7 Thursday   ',\n",
       " 'December  8 Friday   ',\n",
       " 'Decemb er 9 Saturday   ',\n",
       " 'December  10 Sunday   ',\n",
       " 'December  11 Monday  ',\n",
       " 'December  12 Tuesday   ',\n",
       " 'December  13 Wednesday   ',\n",
       " 'December 14 Thursday   ',\n",
       " 'December  15 Friday  ',\n",
       " 'December  16 Saturday    ',\n",
       " 'December  17 Sunday   ',\n",
       " 'December  18 Monday   ',\n",
       " 'December  19 Tuesday  ',\n",
       " 'December  20 Wednesday   ',\n",
       " 'December  21 Thursday  ',\n",
       " 'December  22 Friday   ',\n",
       " 'December  23 Saturday  ',\n",
       " 'December  24 Sunday  ',\n",
       " 'December  25 Monday   ',\n",
       " 'December  26 Tuesday   ',\n",
       " 'December  27 Wednesday    ',\n",
       " 'December  28 Thursday   ',\n",
       " 'December 29 Friday   ',\n",
       " 'December  30 Saturday   ',\n",
       " 'December  31 Sunday  ']"
      ]
     },
     "execution_count": 139,
     "metadata": {},
     "output_type": "execute_result"
    }
   ],
   "source": [
    "monthDay = []\n",
    "for file in natsorted(os.listdir(path)):\n",
    "        if file.startswith(\"PRG218-\"):\n",
    "            with open(file) as f:\n",
    "                first_line = f.readline().strip('\\n')\n",
    "                monthDay.append(first_line)\n",
    "            \n",
    "monthDay"
   ]
  },
  {
   "cell_type": "code",
   "execution_count": 140,
   "id": "97b2acbf",
   "metadata": {},
   "outputs": [
    {
     "name": "stdout",
     "output_type": "stream",
     "text": [
      "January 1 Sunday  January 2 Monday  January 3 Tuesday  January 4 Wednesday  January 5 Thursday  January  6 Friday  January 7 Saturday  January  8 Sunday  January 9 Monday  January  10 Tuesday   January 11 Wednesday  January 12 Thursday  Janu ary 13 Friday  January 14 Saturday  January  15 Sunday   January  16 Monday  January  17 Tuesday  January 18 Wednesday  January  19 Thursday  January 20 Friday  January  21 Saturday  January  22 Sunday  January  23 Monday  January  24 Tuesday  January  25 Wednesday  January  26 Thursday  Janua ry 27 Friday  January  28 Saturday  January  29 Sunday   January  30 Monday  January  31 Tuesday  February  1 Wednesday    February  2 Thursday  February  3 Friday  February 4 Saturday  February 5 Sunday    February  6 Monday  February 7 Tuesday   February  8 Wednesday     February 9 Thursday    February  10 Friday   February  11 Saturday    February  12 Sunday   February 13 Monday    February  14 Tuesday    February 15 Wednesday    February  16 Thursday    February 17 Friday    February  18 Saturday   February  19 Sunday  February  20 Monday   February 21 Tuesday     February  22 Wednesday   February 23 Thursday    February  24 Friday  February 25 Saturday   February  26 Sunday   February 27 Monday     February  28 Tuesday    March 1 Wednesday   March  2 Thursday   March  3 Friday    March  4 Saturday   March 5 Sunday   March  6 Monday  March 7 Tuesday     March 8 Wednesday    March 9 Thursday     March  10 Friday  March 11 Saturday   March  12 Sunday  1865    March 13 Monday   March 14 Tuesday   March 15 Wednesday   March 16 Thursday    March 17 Friday   March 18 Saturday    March 19 Sunday    March 20 Monday  March  21 Tuesday    March  22 Wednesday  March 23 Thurs day  March  24 Friday  March 25 Saturday   March  26 Sunday  March 27 Monday  March  28 Tuesday  March 29 Wednesday  March  30 Thursday  March 31 Friday    April 1 Saturday   April 2 Sunday  April 3 Monday  April 4 Tuesday   April 5 Wednesday  April 6 Thursday   April 7 Friday    April 8 Saturday   April 9 Sunday  April 10 Monday   April 11 Tuesday  April 12 Wednesday   April 13 Thursday   April 14 Friday   April 15 Saturday   April  16 Easter Sunday   April 17 Easter Monday  April 18 Easter Tuesday   April 19 Wednesday    April 20 Thursday    April 21 Friday  April 22 Saturday    April 23 Low Sunday   April 24 Monday    April 25 Tuesday  April 26 Wednesday   April 27 Thursday  April 28 Friday   April 29 Saturday  April 30 Sunday   May 1 Monday   May 2 Tuesday   May 3 Wednesday   May 4 Thursday   May 5 Friday    May 6 Saturday   May 7 Sund ay   May 8 Monday   May 9 Tuesday  May 10 Wednesday   May 11 Thursday   May 12 Friday    May 13 Saturday   May 14 Sunday  May 15 Monday   May 16 Tuesday   May 17 Wednesday   May 18 Thursday  May 19 Friday   May 20 Saturday   May 21 Sunday  May 22 Monday    May 23 Tuesday   May 24 Wednesday    May 25 Thursday  May 26 Friday   May 27 Saturday  May 28 Sunday  May 29 Monday  May 30 Tuesday   May 31 Wednesday   June  1 Thursday   June  2 Friday   June  3 Saturday   June  4 Whit Sunday    June  5 Whit Monday  June 6 Whit Tuesday    June 7 Wedn esday   June  8 Thursday  June  9 Friday   June 10 Saturday  June  11 Sunday  June 12 Monday   June  13 Tuesday   June  14 Wednesday  June 15 Thursday  June  16 Friday   June 17 Saturday  June 18 Sunday   June 19 Monday   June  20 Tuesday   June  21 Wednesday  June 22 Thursday  June  23 Friday   Marquis of Argyle not arrived.  The “Murray” in on the 2 4 April.  Easterly winds prevailing.  June  24 Saturday   June  25 Sunday  June  26 Monday  June 27 Tuesday   June  28 Wednesday   June  29 Thursday  June  30 Friday  July 1 Saturday    July 2 Sunday   July 3 Monday   July 4 Tuesday   July 5 Wednesday   July 6 Thursday   July 7 Friday   July 8 Saturday    July 9 Sunday   July 10 Monday   July 11 Tuesday   July 12 Wednesday   July 13 Thursday  July 14 Friday  July 15 Saturday  July 16 Sunday   July 17 Monday   July 18 Tuesday   July 19 Wednesday   July 20 Thursday  July 21 Friday   July 22 Saturday    July 23 Sunday   July 24 Monday   July 25 Tuesday  July 26 Wednesday    July 27 Thursday   July 28 Friday   July 29 Saturday   July 30 Sunday  July 31 Monday   August 1 Tuesday   August  2 Wednesday   August 3 Thursday   August  4 Friday   August  5 Saturday    August  6 Sunday   August  7 Monday  August  8 Tuesday   August  9 Wednesday   August  10 Thursday   August  11 Friday  August  12 Saturday    August  13 Sunday  August  14 Monday   August  15 Tuesday    August  16 Wednesday   August  17 Thursday  August  18 Friday   August 19 Saturday    August  20 Sunday   August 21 Monday   August  22 Tuesday  August 23 Wednesday   August  24 Thursday   August  25 Friday   August  26 Saturday   August 27 Sunday    August  28 Monday   August  29 Tuesday  August  30 Wednesday   August  31 Thursday  September  1 Friday   September 2 Saturday   September  3 Sunday   September  4 Monday  September  5 Tuesday    September 6 Wednesday   September  7 Thursday   September 8 Friday  September  9 Saturday   September 10 Sunday   September  11 Monday   September 12 Tuesday  September  13 Wednesday   September 14 Thursday   September  15 Friday   September 16 Saturday  September 17 Sunday   September 18 Monday   September 19 Tuesday   September  20 Wednesday  September  21 Thursday   September  22 Friday  September  23 Saturday   September  24 Sunday   September  25 Monday    September  26 Tuesday  September  27 Wednesday   Septem ber 28 Thursday    September  29 Friday    September  30 Saturday   October  1 Sunday  October  2 Monday   October  3 Tuesday   October 4 Wednesday    October  5 Thursday   October 6 Friday  October  7 Saturday   October  8 Sunday    October  9 Monday   October  10 Tuesday  October  11 Wednesday    October 12 Thursday   October  13 Friday  October 14 Saturday   October 15 Sunday   October 16 Monday   October  17 Tuesday   October18 Wednesday    October  19 Thursday    October 20 Friday  October  21 Saturday   October  22 Sunday    October  23 Monday   October  24 Tuesday  October 25 Wednesday   October  26 Thursday   October  27 Friday   October  28 Saturday   October  29 Sunday  October 30 Monday   October  31 Tuesday   November  1 Wednesday  November  2 Thursday   Novem ber 3 Friday   November  4 Saturday   November  5 Sunday  November  6 Monday   November 7 Tuesday    November 8 Wednesday    November 9 Thursday   November  10 Friday    November  11 Saturday    November  12 Sunday   November 13 Monday   November  14 Tuesday   November 15 Wednesday  November  16 Thursday   November 17 Friday  November  18 Saturday   November 19 S unday   November  20 Monday    November  21 Tuesday   November  22 Wednesday   November  23 Thursday  November  24 Friday    November  25 Saturday    November  26 Sunday    November  27 Monday  November  29 Wednesday   November 30 Thursday   December  2 Saturday   December 3 Sunday  December  4 Monday   December  5 Tuesday  December  6 Wednesday   December 7 Thursday   December  8 Friday   Decemb er 9 Saturday   December  10 Sunday   December  11 Monday  December  12 Tuesday   December  13 Wednesday   December 14 Thursday   December  15 Friday  December  16 Saturday    December  17 Sunday   December  18 Monday   December  19 Tuesday  December  20 Wednesday   December  21 Thursday  December  22 Friday   December  23 Saturday  December  24 Sunday  December  25 Monday   December  26 Tuesday   December  27 Wednesday    December  28 Thursday   December 29 Friday   December  30 Saturday   December  31 Sunday  \n"
     ]
    }
   ],
   "source": [
    "monthDay = ''.join(monthDay)\n",
    "print(monthDay)"
   ]
  },
  {
   "cell_type": "code",
   "execution_count": 141,
   "id": "08575982",
   "metadata": {},
   "outputs": [
    {
     "name": "stdout",
     "output_type": "stream",
     "text": [
      "['January 1 ', '  January 2 ', '  January 3 ', '  January 4 ', '  January 5 ', '  January  6 ', '  January 7 ', '  January  8 ', '  January 9 ', '  January  10 ', '   January 11 ', '  January 12 ', '  Janu ary 13 ', '  January 14 ', '  January  15 ', '   January  16 ', '  January  17 ', '  January 18 ', '  January  19 ', '  January 20 ', '  January  21 ', '  January  22 ', '  January  23 ', '  January  24 ', '  January  25 ', '  January  26 ', '  Janua ry 27 ', '  January  28 ', '  January  29 ', '   January  30 ', '  January  31 ', '  February  1 ', '    February  2 ', '  February  3 ', '  February 4 ', '  February 5 ', '    February  6 ', '  February 7 ', '   February  8 ', '     February 9 ', '    February  10 ', '   February  11 ', '    February  12 ', '   February 13 ', '    February  14 ', '    February 15 ', '    February  16 ', '    February 17 ', '    February  18 ', '   February  19 ', '  February  20 ', '   February 21 ', '     February  22 ', '   February 23 ', '    February  24 ', '  February 25 ', '   February  26 ', '   February 27 ', '     February  28 ', '    March 1 ', '   March  2 ', '   March  3 ', '    March  4 ', '   March 5 ', '   March  6 ', '  March 7 ', '     March 8 ', '    March 9 ', '     March  10 ', '  March 11 ', '   March  12 ', '  1865 ', '   March 13 ', '   March 14 ', '   March 15 ', '   March 16 ', '    March 17 ', '   March 18 ', '    March 19 ', '    March 20 ', '  March  21 ', '    March  22 ', '  March 23 ', ' day  March  24 ', '  March 25 ', '   March  26 ', '  March 27 ', '  March  28 ', '  March 29 ', '  March  30 ', '  March 31 ', '    April 1 ', '   April 2 ', '  April 3 ', '  April 4 ', '   April 5 ', '  April 6 ', '   April 7 ', '    April 8 ', '   April 9 ', '  April 10 ', '   April 11 ', '  April 12 ', '   April 13 ', '   April 14 ', '   April 15 ', '   April  16 ', ' Sunday   April 17 ', ' Monday  April 18 ', ' Tuesday   April 19 ', '    April 20 ', '    April 21 ', '  April 22 ', '    April 23 ', ' Sunday   April 24 ', '    April 25 ', '  April 26 ', '   April 27 ', '  April 28 ', '   April 29 ', '  April 30 ', '   May 1 ', '   May 2 ', '   May 3 ', '   May 4 ', '   May 5 ', '    May 6 ', '   May 7 ', ' ay   May 8 ', '   May 9 ', '  May 10 ', '   May 11 ', '   May 12 ', '    May 13 ', '   May 14 ', '  May 15 ', '   May 16 ', '   May 17 ', '   May 18 ', '  May 19 ', '   May 20 ', '   May 21 ', '  May 22 ', '    May 23 ', '   May 24 ', '    May 25 ', '  May 26 ', '   May 27 ', '  May 28 ', '  May 29 ', '  May 30 ', '   May 31 ', '   June  1 ', '   June  2 ', '   June  3 ', '   June  4 ', ' Sunday    June  5 ', ' Monday  June 6 ', ' Tuesday    June 7 ', ' esday   June  8 ', '  June  9 ', '   June 10 ', '  June  11 ', '  June 12 ', '   June  13 ', '   June  14 ', '  June 15 ', '  June  16 ', '   June 17 ', '  June 18 ', '   June 19 ', '   June  20 ', '   June  21 ', '  June 22 ', '  June  23 ', '   Marquis of Argyle not arrived.  The “Murray” in on the 2 ', ' ', '.  Easterly winds prevailing.  June  24 ', '   June  25 ', '  June  26 ', '  June 27 ', '   June  28 ', '   June  29 ', '  June  30 ', '  July 1 ', '    July 2 ', '   July 3 ', '   July 4 ', '   July 5 ', '   July 6 ', '   July 7 ', '   July 8 ', '    July 9 ', '   July 10 ', '   July 11 ', '   July 12 ', '   July 13 ', '  July 14 ', '  July 15 ', '  July 16 ', '   July 17 ', '   July 18 ', '   July 19 ', '   July 20 ', '  July 21 ', '   July 22 ', '    July 23 ', '   July 24 ', '   July 25 ', '  July 26 ', '    July 27 ', '   July 28 ', '   July 29 ', '   July 30 ', '  July 31 ', '   August 1 ', '   August  2 ', '   August 3 ', '   August  4 ', '   August  5 ', '    August  6 ', '   August  7 ', '  August  8 ', '   August  9 ', '   August  10 ', '   August  11 ', '  August  12 ', '    August  13 ', '  August  14 ', '   August  15 ', '    August  16 ', '   August  17 ', '  August  18 ', '   August 19 ', '    August  20 ', '   August 21 ', '   August  22 ', '  August 23 ', '   August  24 ', '   August  25 ', '   August  26 ', '   August 27 ', '    August  28 ', '   August  29 ', '  August  30 ', '   August  31 ', '  September  1 ', '   September 2 ', '   September  3 ', '   September  4 ', '  September  5 ', '    September 6 ', '   September  7 ', '   September 8 ', '  September  9 ', '   September 10 ', '   September  11 ', '   September 12 ', '  September  13 ', '   September 14 ', '   September  15 ', '   September 16 ', '  September 17 ', '   September 18 ', '   September 19 ', '   September  20 ', '  September  21 ', '   September  22 ', '  September  23 ', '   September  24 ', '   September  25 ', '    September  26 ', '  September  27 ', '   Septem ber 28 ', '    September  29 ', '    September  30 ', '   October  1 ', '  October  2 ', '   October  3 ', '   October 4 ', '    October  5 ', '   October 6 ', '  October  7 ', '   October  8 ', '    October  9 ', '   October  10 ', '  October  11 ', '    October 12 ', '   October  13 ', '  October 14 ', '   October 15 ', '   October 16 ', '   October  17 ', '   October18 ', '    October  19 ', '    October 20 ', '  October  21 ', '   October  22 ', '    October  23 ', '   October  24 ', '  October 25 ', '   October  26 ', '   October  27 ', '   October  28 ', '   October  29 ', '  October 30 ', '   October  31 ', '   November  1 ', '  November  2 ', '   Novem ber 3 ', '   November  4 ', '   November  5 ', '  November  6 ', '   November 7 ', '    November 8 ', '    November 9 ', '   November  10 ', '    November  11 ', '    November  12 ', '   November 13 ', '   November  14 ', '   November 15 ', '  November  16 ', '   November 17 ', '  November  18 ', '   November 19 ', ' unday   November  20 ', '    November  21 ', '   November  22 ', '   November  23 ', '  November  24 ', '    November  25 ', '    November  26 ', '    November  27 ', '  November  29 ', '   November 30 ', '   December  2 ', '   December 3 ', '  December  4 ', '   December  5 ', '  December  6 ', '   December 7 ', '   December  8 ', '   Decemb er 9 ', '   December  10 ', '   December  11 ', '  December  12 ', '   December  13 ', '   December 14 ', '   December  15 ', '  December  16 ', '    December  17 ', '   December  18 ', '   December  19 ', '  December  20 ', '   December  21 ', '  December  22 ', '   December  23 ', '  December  24 ', '  December  25 ', '   December  26 ', '   December  27 ', '    December  28 ', '   December 29 ', '   December  30 ', '   December  31 ', '  ']\n"
     ]
    }
   ],
   "source": [
    "dates = re.split('(?<=\\d )\\w*',monthDay)\n",
    "print(dates)"
   ]
  },
  {
   "cell_type": "code",
   "execution_count": 142,
   "id": "8b617045",
   "metadata": {},
   "outputs": [
    {
     "name": "stdout",
     "output_type": "stream",
     "text": [
      "['January 1 ', 'January 2 ', 'January 3 ', 'January 4 ', 'January 5 ', 'January  6 ', 'January 7 ', 'January  8 ', 'January 9 ', 'January  10 ', 'January 11 ', 'January 12 ', 'Janu ary 13 ', 'January 14 ', 'January  15 ', 'January  16 ', 'January  17 ', 'January 18 ', 'January  19 ', 'January 20 ', 'January  21 ', 'January  22 ', 'January  23 ', 'January  24 ', 'January  25 ', 'January  26 ', 'Janua ry 27 ', 'January  28 ', 'January  29 ', 'January  30 ', 'January  31 ', 'February  1 ', 'February  2 ', 'February  3 ', 'February 4 ', 'February 5 ', 'February  6 ', 'February 7 ', 'February  8 ', 'February 9 ', 'February  10 ', 'February  11 ', 'February  12 ', 'February 13 ', 'February  14 ', 'February 15 ', 'February  16 ', 'February 17 ', 'February  18 ', 'February  19 ', 'February  20 ', 'February 21 ', 'February  22 ', 'February 23 ', 'February  24 ', 'February 25 ', 'February  26 ', 'February 27 ', 'February  28 ', 'March 1 ', 'March  2 ', 'March  3 ', 'March  4 ', 'March 5 ', 'March  6 ', 'March 7 ', 'March 8 ', 'March 9 ', 'March  10 ', 'March 11 ', 'March  12 ', '1865 ', 'March 13 ', 'March 14 ', 'March 15 ', 'March 16 ', 'March 17 ', 'March 18 ', 'March 19 ', 'March 20 ', 'March  21 ', 'March  22 ', 'March 23 ', 'day  March  24 ', 'March 25 ', 'March  26 ', 'March 27 ', 'March  28 ', 'March 29 ', 'March  30 ', 'March 31 ', 'April 1 ', 'April 2 ', 'April 3 ', 'April 4 ', 'April 5 ', 'April 6 ', 'April 7 ', 'April 8 ', 'April 9 ', 'April 10 ', 'April 11 ', 'April 12 ', 'April 13 ', 'April 14 ', 'April 15 ', 'April  16 ', 'Sunday   April 17 ', 'Monday  April 18 ', 'Tuesday   April 19 ', 'April 20 ', 'April 21 ', 'April 22 ', 'April 23 ', 'Sunday   April 24 ', 'April 25 ', 'April 26 ', 'April 27 ', 'April 28 ', 'April 29 ', 'April 30 ', 'May 1 ', 'May 2 ', 'May 3 ', 'May 4 ', 'May 5 ', 'May 6 ', 'May 7 ', 'ay   May 8 ', 'May 9 ', 'May 10 ', 'May 11 ', 'May 12 ', 'May 13 ', 'May 14 ', 'May 15 ', 'May 16 ', 'May 17 ', 'May 18 ', 'May 19 ', 'May 20 ', 'May 21 ', 'May 22 ', 'May 23 ', 'May 24 ', 'May 25 ', 'May 26 ', 'May 27 ', 'May 28 ', 'May 29 ', 'May 30 ', 'May 31 ', 'June  1 ', 'June  2 ', 'June  3 ', 'June  4 ', 'Sunday    June  5 ', 'Monday  June 6 ', 'Tuesday    June 7 ', 'esday   June  8 ', 'June  9 ', 'June 10 ', 'June  11 ', 'June 12 ', 'June  13 ', 'June  14 ', 'June 15 ', 'June  16 ', 'June 17 ', 'June 18 ', 'June 19 ', 'June  20 ', 'June  21 ', 'June 22 ', 'June  23 ', 'Marquis of Argyle not arrived.  The “Murray” in on the 2 ', '', '.  Easterly winds prevailing.  June  24 ', 'June  25 ', 'June  26 ', 'June 27 ', 'June  28 ', 'June  29 ', 'June  30 ', 'July 1 ', 'July 2 ', 'July 3 ', 'July 4 ', 'July 5 ', 'July 6 ', 'July 7 ', 'July 8 ', 'July 9 ', 'July 10 ', 'July 11 ', 'July 12 ', 'July 13 ', 'July 14 ', 'July 15 ', 'July 16 ', 'July 17 ', 'July 18 ', 'July 19 ', 'July 20 ', 'July 21 ', 'July 22 ', 'July 23 ', 'July 24 ', 'July 25 ', 'July 26 ', 'July 27 ', 'July 28 ', 'July 29 ', 'July 30 ', 'July 31 ', 'August 1 ', 'August  2 ', 'August 3 ', 'August  4 ', 'August  5 ', 'August  6 ', 'August  7 ', 'August  8 ', 'August  9 ', 'August  10 ', 'August  11 ', 'August  12 ', 'August  13 ', 'August  14 ', 'August  15 ', 'August  16 ', 'August  17 ', 'August  18 ', 'August 19 ', 'August  20 ', 'August 21 ', 'August  22 ', 'August 23 ', 'August  24 ', 'August  25 ', 'August  26 ', 'August 27 ', 'August  28 ', 'August  29 ', 'August  30 ', 'August  31 ', 'September  1 ', 'September 2 ', 'September  3 ', 'September  4 ', 'September  5 ', 'September 6 ', 'September  7 ', 'September 8 ', 'September  9 ', 'September 10 ', 'September  11 ', 'September 12 ', 'September  13 ', 'September 14 ', 'September  15 ', 'September 16 ', 'September 17 ', 'September 18 ', 'September 19 ', 'September  20 ', 'September  21 ', 'September  22 ', 'September  23 ', 'September  24 ', 'September  25 ', 'September  26 ', 'September  27 ', 'Septem ber 28 ', 'September  29 ', 'September  30 ', 'October  1 ', 'October  2 ', 'October  3 ', 'October 4 ', 'October  5 ', 'October 6 ', 'October  7 ', 'October  8 ', 'October  9 ', 'October  10 ', 'October  11 ', 'October 12 ', 'October  13 ', 'October 14 ', 'October 15 ', 'October 16 ', 'October  17 ', 'October18 ', 'October  19 ', 'October 20 ', 'October  21 ', 'October  22 ', 'October  23 ', 'October  24 ', 'October 25 ', 'October  26 ', 'October  27 ', 'October  28 ', 'October  29 ', 'October 30 ', 'October  31 ', 'November  1 ', 'November  2 ', 'Novem ber 3 ', 'November  4 ', 'November  5 ', 'November  6 ', 'November 7 ', 'November 8 ', 'November 9 ', 'November  10 ', 'November  11 ', 'November  12 ', 'November 13 ', 'November  14 ', 'November 15 ', 'November  16 ', 'November 17 ', 'November  18 ', 'November 19 ', 'unday   November  20 ', 'November  21 ', 'November  22 ', 'November  23 ', 'November  24 ', 'November  25 ', 'November  26 ', 'November  27 ', 'November  29 ', 'November 30 ', 'December  2 ', 'December 3 ', 'December  4 ', 'December  5 ', 'December  6 ', 'December 7 ', 'December  8 ', 'Decemb er 9 ', 'December  10 ', 'December  11 ', 'December  12 ', 'December  13 ', 'December 14 ', 'December  15 ', 'December  16 ', 'December  17 ', 'December  18 ', 'December  19 ', 'December  20 ', 'December  21 ', 'December  22 ', 'December  23 ', 'December  24 ', 'December  25 ', 'December  26 ', 'December  27 ', 'December  28 ', 'December 29 ', 'December  30 ', 'December  31 ', '']\n"
     ]
    }
   ],
   "source": [
    "dates = [i.lstrip() for i in dates]\n",
    "print(dates)"
   ]
  },
  {
   "cell_type": "code",
   "execution_count": 143,
   "id": "caccacb3",
   "metadata": {},
   "outputs": [
    {
     "name": "stdout",
     "output_type": "stream",
     "text": [
      "January 1 January 2 January 3 January 4 January 5 January  6 January 7 January  8 January 9 January  10 January 11 January 12 Janu ary 13 January 14 January  15 January  16 January  17 January 18 January  19 January 20 January  21 January  22 January  23 January  24 January  25 January  26 Janua ry 27 January  28 January  29 January  30 January  31 February  1 February  2 February  3 February 4 February 5 February  6 February 7 February  8 February 9 February  10 February  11 February  12 February 13 February  14 February 15 February  16 February 17 February  18 February  19 February  20 February 21 February  22 February 23 February  24 February 25 February  26 February 27 February  28 March 1 March  2 March  3 March  4 March 5 March  6 March 7 March 8 March 9 March  10 March 11 March  12 1865 March 13 March 14 March 15 March 16 March 17 March 18 March 19 March 20 March  21 March  22 March 23 day  March  24 March 25 March  26 March 27 March  28 March 29 March  30 March 31 April 1 April 2 April 3 April 4 April 5 April 6 April 7 April 8 April 9 April 10 April 11 April 12 April 13 April 14 April 15 April  16 Sunday   April 17 Monday  April 18 Tuesday   April 19 April 20 April 21 April 22 April 23 Sunday   April 24 April 25 April 26 April 27 April 28 April 29 April 30 May 1 May 2 May 3 May 4 May 5 May 6 May 7 ay   May 8 May 9 May 10 May 11 May 12 May 13 May 14 May 15 May 16 May 17 May 18 May 19 May 20 May 21 May 22 May 23 May 24 May 25 May 26 May 27 May 28 May 29 May 30 May 31 June  1 June  2 June  3 June  4 Sunday    June  5 Monday  June 6 Tuesday    June 7 esday   June  8 June  9 June 10 June  11 June 12 June  13 June  14 June 15 June  16 June 17 June 18 June 19 June  20 June  21 June 22 June  23 Marquis of Argyle not arrived.  The “Murray” in on the 2 .  Easterly winds prevailing.  June  24 June  25 June  26 June 27 June  28 June  29 June  30 July 1 July 2 July 3 July 4 July 5 July 6 July 7 July 8 July 9 July 10 July 11 July 12 July 13 July 14 July 15 July 16 July 17 July 18 July 19 July 20 July 21 July 22 July 23 July 24 July 25 July 26 July 27 July 28 July 29 July 30 July 31 August 1 August  2 August 3 August  4 August  5 August  6 August  7 August  8 August  9 August  10 August  11 August  12 August  13 August  14 August  15 August  16 August  17 August  18 August 19 August  20 August 21 August  22 August 23 August  24 August  25 August  26 August 27 August  28 August  29 August  30 August  31 September  1 September 2 September  3 September  4 September  5 September 6 September  7 September 8 September  9 September 10 September  11 September 12 September  13 September 14 September  15 September 16 September 17 September 18 September 19 September  20 September  21 September  22 September  23 September  24 September  25 September  26 September  27 Septem ber 28 September  29 September  30 October  1 October  2 October  3 October 4 October  5 October 6 October  7 October  8 October  9 October  10 October  11 October 12 October  13 October 14 October 15 October 16 October  17 October18 October  19 October 20 October  21 October  22 October  23 October  24 October 25 October  26 October  27 October  28 October  29 October 30 October  31 November  1 November  2 Novem ber 3 November  4 November  5 November  6 November 7 November 8 November 9 November  10 November  11 November  12 November 13 November  14 November 15 November  16 November 17 November  18 November 19 unday   November  20 November  21 November  22 November  23 November  24 November  25 November  26 November  27 November  29 November 30 December  2 December 3 December  4 December  5 December  6 December 7 December  8 Decemb er 9 December  10 December  11 December  12 December  13 December 14 December  15 December  16 December  17 December  18 December  19 December  20 December  21 December  22 December  23 December  24 December  25 December  26 December  27 December  28 December 29 December  30 December  31 \n"
     ]
    }
   ],
   "source": [
    "dates = ''.join(dates)\n",
    "print(dates)"
   ]
  },
  {
   "cell_type": "code",
   "execution_count": 144,
   "id": "91f1343b",
   "metadata": {},
   "outputs": [],
   "source": [
    "dates = dates.replace('Marquis of Argyle not arrived.  The “Murray” in on the 2 .  Easterly winds prevailing.', '')"
   ]
  },
  {
   "cell_type": "code",
   "execution_count": 145,
   "id": "faf647d2",
   "metadata": {},
   "outputs": [],
   "source": [
    "dates = dates.replace('1865', '')"
   ]
  },
  {
   "cell_type": "code",
   "execution_count": 146,
   "id": "c4f0916b",
   "metadata": {},
   "outputs": [
    {
     "data": {
      "text/plain": [
       "'January 1 January 2 January 3 January 4 January 5 January  6 January 7 January  8 January 9 January  10 January 11 January 12 January 13 January 14 January  15 January  16 January  17 January 18 January  19 January 20 January  21 January  22 January  23 January  24 January  25 January  26 January 27 January  28 January  29 January  30 January  31 February  1 February  2 February  3 February 4 February 5 February  6 February 7 February  8 February 9 February  10 February  11 February  12 February 13 February  14 February 15 February  16 February 17 February  18 February  19 February  20 February 21 February  22 February 23 February  24 February 25 February  26 February 27 February  28 March 1 March  2 March  3 March  4 March 5 March  6 March 7 March 8 March 9 March  10 March 11 March  12  March 13 March 14 March 15 March 16 March 17 March 18 March 19 March 20 March  21 March  22 March 23 day  March  24 March 25 March  26 March 27 March  28 March 29 March  30 March 31 April 1 April 2 April 3 April 4 April 5 April 6 April 7 April 8 April 9 April 10 April 11 April 12 April 13 April 14 April 15 April  16 Sunday   April 17 Monday  April 18 Tuesday   April 19 April 20 April 21 April 22 April 23 Sunday   April 24 April 25 April 26 April 27 April 28 April 29 April 30 May 1 May 2 May 3 May 4 May 5 May 6 May 7 ay   May 8 May 9 May 10 May 11 May 12 May 13 May 14 May 15 May 16 May 17 May 18 May 19 May 20 May 21 May 22 May 23 May 24 May 25 May 26 May 27 May 28 May 29 May 30 May 31 June  1 June  2 June  3 June  4 Sunday    June  5 Monday  June 6 Tuesday    June 7 esday   June  8 June  9 June 10 June  11 June 12 June  13 June  14 June 15 June  16 June 17 June 18 June 19 June  20 June  21 June 22 June  23   June  24 June  25 June  26 June 27 June  28 June  29 June  30 July 1 July 2 July 3 July 4 July 5 July 6 July 7 July 8 July 9 July 10 July 11 July 12 July 13 July 14 July 15 July 16 July 17 July 18 July 19 July 20 July 21 July 22 July 23 July 24 July 25 July 26 July 27 July 28 July 29 July 30 July 31 August 1 August  2 August 3 August  4 August  5 August  6 August  7 August  8 August  9 August  10 August  11 August  12 August  13 August  14 August  15 August  16 August  17 August  18 August 19 August  20 August 21 August  22 August 23 August  24 August  25 August  26 August 27 August  28 August  29 August  30 August  31 September  1 September 2 September  3 September  4 September  5 September 6 September  7 September 8 September  9 September 10 September  11 September 12 September  13 September 14 September  15 September 16 September 17 September 18 September 19 September  20 September  21 September  22 September  23 September  24 September  25 September  26 September  27 September 28 September  29 September  30 October  1 October  2 October  3 October 4 October  5 October 6 October  7 October  8 October  9 October  10 October  11 October 12 October  13 October 14 October 15 October 16 October  17 October18 October  19 October 20 October  21 October  22 October  23 October  24 October 25 October  26 October  27 October  28 October  29 October 30 October  31 November  1 November  2 November 3 November  4 November  5 November  6 November 7 November 8 November 9 November  10 November  11 November  12 November 13 November  14 November 15 November  16 November 17 November  18 November 19 unday   November  20 November  21 November  22 November  23 November  24 November  25 November  26 November  27 November  29 November 30 December  2 December 3 December  4 December  5 December  6 December 7 December  8 December 9 December  10 December  11 December  12 December  13 December 14 December  15 December  16 December  17 December  18 December  19 December  20 December  21 December  22 December  23 December  24 December  25 December  26 December  27 December  28 December 29 December  30 December  31 '"
      ]
     },
     "execution_count": 146,
     "metadata": {},
     "output_type": "execute_result"
    }
   ],
   "source": [
    "dates = dates.replace('u a', 'ua')\n",
    "dates = dates.replace('a r', 'ar')\n",
    "dates = dates.replace('b e', 'be')\n",
    "dates = dates.replace('m b', 'mb')\n",
    "dates"
   ]
  },
  {
   "cell_type": "code",
   "execution_count": 147,
   "id": "463e1bd0",
   "metadata": {},
   "outputs": [
    {
     "name": "stdout",
     "output_type": "stream",
     "text": [
      "['January ', ' January ', ' January ', ' January ', ' January ', ' January  ', ' January ', ' January  ', ' January ', ' January  ', ' January ', ' January ', ' January ', ' January ', ' January  ', ' January  ', ' January  ', ' January ', ' January  ', ' January ', ' January  ', ' January  ', ' January  ', ' January  ', ' January  ', ' January  ', ' January ', ' January  ', ' January  ', ' January  ', ' January  ', ' February  ', ' February  ', ' February  ', ' February ', ' February ', ' February  ', ' February ', ' February  ', ' February ', ' February  ', ' February  ', ' February  ', ' February ', ' February  ', ' February ', ' February  ', ' February ', ' February  ', ' February  ', ' February  ', ' February ', ' February  ', ' February ', ' February  ', ' February ', ' February  ', ' February ', ' February  ', ' March ', ' March  ', ' March  ', ' March  ', ' March ', ' March  ', ' March ', ' March ', ' March ', ' March  ', ' March ', ' March  ', '  March ', ' March ', ' March ', ' March ', ' March ', ' March ', ' March ', ' March ', ' March  ', ' March  ', ' March ', ' day  March  ', ' March ', ' March  ', ' March ', ' March  ', ' March ', ' March  ', ' March ', ' April ', ' April ', ' April ', ' April ', ' April ', ' April ', ' April ', ' April ', ' April ', ' April ', ' April ', ' April ', ' April ', ' April ', ' April ', ' April  ', ' Sunday   April ', ' Monday  April ', ' Tuesday   April ', ' April ', ' April ', ' April ', ' April ', ' Sunday   April ', ' April ', ' April ', ' April ', ' April ', ' April ', ' April ', ' May ', ' May ', ' May ', ' May ', ' May ', ' May ', ' May ', ' ay   May ', ' May ', ' May ', ' May ', ' May ', ' May ', ' May ', ' May ', ' May ', ' May ', ' May ', ' May ', ' May ', ' May ', ' May ', ' May ', ' May ', ' May ', ' May ', ' May ', ' May ', ' May ', ' May ', ' May ', ' June  ', ' June  ', ' June  ', ' June  ', ' Sunday    June  ', ' Monday  June ', ' Tuesday    June ', ' esday   June  ', ' June  ', ' June ', ' June  ', ' June ', ' June  ', ' June  ', ' June ', ' June  ', ' June ', ' June ', ' June ', ' June  ', ' June  ', ' June ', ' June  ', '   June  ', ' June  ', ' June  ', ' June ', ' June  ', ' June  ', ' June  ', ' July ', ' July ', ' July ', ' July ', ' July ', ' July ', ' July ', ' July ', ' July ', ' July ', ' July ', ' July ', ' July ', ' July ', ' July ', ' July ', ' July ', ' July ', ' July ', ' July ', ' July ', ' July ', ' July ', ' July ', ' July ', ' July ', ' July ', ' July ', ' July ', ' July ', ' July ', ' August ', ' August  ', ' August ', ' August  ', ' August  ', ' August  ', ' August  ', ' August  ', ' August  ', ' August  ', ' August  ', ' August  ', ' August  ', ' August  ', ' August  ', ' August  ', ' August  ', ' August  ', ' August ', ' August  ', ' August ', ' August  ', ' August ', ' August  ', ' August  ', ' August  ', ' August ', ' August  ', ' August  ', ' August  ', ' August  ', ' September  ', ' September ', ' September  ', ' September  ', ' September  ', ' September ', ' September  ', ' September ', ' September  ', ' September ', ' September  ', ' September ', ' September  ', ' September ', ' September  ', ' September ', ' September ', ' September ', ' September ', ' September  ', ' September  ', ' September  ', ' September  ', ' September  ', ' September  ', ' September  ', ' September  ', ' September ', ' September  ', ' September  ', ' October  ', ' October  ', ' October  ', ' October ', ' October  ', ' October ', ' October  ', ' October  ', ' October  ', ' October  ', ' October  ', ' October ', ' October  ', ' October ', ' October ', ' October ', ' October  ', ' October', ' October  ', ' October ', ' October  ', ' October  ', ' October  ', ' October  ', ' October ', ' October  ', ' October  ', ' October  ', ' October  ', ' October ', ' October  ', ' November  ', ' November  ', ' November ', ' November  ', ' November  ', ' November  ', ' November ', ' November ', ' November ', ' November  ', ' November  ', ' November  ', ' November ', ' November  ', ' November ', ' November  ', ' November ', ' November  ', ' November ', ' unday   November  ', ' November  ', ' November  ', ' November  ', ' November  ', ' November  ', ' November  ', ' November  ', ' November  ', ' November ', ' December  ', ' December ', ' December  ', ' December  ', ' December  ', ' December ', ' December  ', ' December ', ' December  ', ' December  ', ' December  ', ' December  ', ' December ', ' December  ', ' December  ', ' December  ', ' December  ', ' December  ', ' December  ', ' December  ', ' December  ', ' December  ', ' December  ', ' December  ', ' December  ', ' December  ', ' December  ', ' December ', ' December  ', ' December  ', ' ']\n"
     ]
    }
   ],
   "source": [
    "months = re.split('\\d+',dates)\n",
    "print(months)"
   ]
  },
  {
   "cell_type": "code",
   "execution_count": 148,
   "id": "27ffe73d",
   "metadata": {},
   "outputs": [
    {
     "name": "stdout",
     "output_type": "stream",
     "text": [
      "['', '1', '2', '3', '4', '5', '6', '7', '8', '9', '10', '11', '12', '13', '14', '15', '16', '17', '18', '19', '20', '21', '22', '23', '24', '25', '26', '27', '28', '29', '30', '31', '1', '2', '3', '4', '5', '6', '7', '8', '9', '10', '11', '12', '13', '14', '15', '16', '17', '18', '19', '20', '21', '22', '23', '24', '25', '26', '27', '28', '1', '2', '3', '4', '5', '6', '7', '8', '9', '10', '11', '12', '13', '14', '15', '16', '17', '18', '19', '20', '21', '22', '23', '24', '25', '26', '27', '28', '29', '30', '31', '1', '2', '3', '4', '5', '6', '7', '8', '9', '10', '11', '12', '13', '14', '15', '16', '17', '18', '19', '20', '21', '22', '23', '24', '25', '26', '27', '28', '29', '30', '1', '2', '3', '4', '5', '6', '7', '8', '9', '10', '11', '12', '13', '14', '15', '16', '17', '18', '19', '20', '21', '22', '23', '24', '25', '26', '27', '28', '29', '30', '31', '1', '2', '3', '4', '5', '6', '7', '8', '9', '10', '11', '12', '13', '14', '15', '16', '17', '18', '19', '20', '21', '22', '23', '24', '25', '26', '27', '28', '29', '30', '1', '2', '3', '4', '5', '6', '7', '8', '9', '10', '11', '12', '13', '14', '15', '16', '17', '18', '19', '20', '21', '22', '23', '24', '25', '26', '27', '28', '29', '30', '31', '1', '2', '3', '4', '5', '6', '7', '8', '9', '10', '11', '12', '13', '14', '15', '16', '17', '18', '19', '20', '21', '22', '23', '24', '25', '26', '27', '28', '29', '30', '31', '1', '2', '3', '4', '5', '6', '7', '8', '9', '10', '11', '12', '13', '14', '15', '16', '17', '18', '19', '20', '21', '22', '23', '24', '25', '26', '27', '28', '29', '30', '1', '2', '3', '4', '5', '6', '7', '8', '9', '10', '11', '12', '13', '14', '15', '16', '17', '18', '19', '20', '21', '22', '23', '24', '25', '26', '27', '28', '29', '30', '31', '1', '2', '3', '4', '5', '6', '7', '8', '9', '10', '11', '12', '13', '14', '15', '16', '17', '18', '19', '20', '21', '22', '23', '24', '25', '26', '27', '29', '30', '2', '3', '4', '5', '6', '7', '8', '9', '10', '11', '12', '13', '14', '15', '16', '17', '18', '19', '20', '21', '22', '23', '24', '25', '26', '27', '28', '29', '30', '31', '']\n"
     ]
    }
   ],
   "source": [
    "days = re.split('\\D+',dates)\n",
    "print(days)"
   ]
  },
  {
   "cell_type": "code",
   "execution_count": 149,
   "id": "7fa441ba",
   "metadata": {},
   "outputs": [
    {
     "name": "stdout",
     "output_type": "stream",
     "text": [
      "January  January  January  January  January  January   January  January   January  January   January  January  January  January  January   January   January   January  January   January  January   January   January   January   January   January   January  January   January   January   January   February   February   February   February  February  February   February  February   February  February   February   February   February  February   February  February   February  February   February   February   February  February   February  February   February  February   February  February   March  March   March   March   March  March   March  March  March  March   March  March    March  March  March  March  March  March  March  March  March   March   March  day  March   March  March   March  March   March  March   March  April  April  April  April  April  April  April  April  April  April  April  April  April  April  April  April   Sunday   April  Monday  April  Tuesday   April  April  April  April  April  Sunday   April  April  April  April  April  April  April  May  May  May  May  May  May  May  ay   May  May  May  May  May  May  May  May  May  May  May  May  May  May  May  May  May  May  May  May  May  May  May  May  June   June   June   June   Sunday    June   Monday  June  Tuesday    June  esday   June   June   June  June   June  June   June   June  June   June  June  June  June   June   June  June     June   June   June   June  June   June   June   July  July  July  July  July  July  July  July  July  July  July  July  July  July  July  July  July  July  July  July  July  July  July  July  July  July  July  July  July  July  July  August  August   August  August   August   August   August   August   August   August   August   August   August   August   August   August   August   August   August  August   August  August   August  August   August   August   August  August   August   August   August   September   September  September   September   September   September  September   September  September   September  September   September  September   September  September   September  September  September  September  September   September   September   September   September   September   September   September   September  September   September   October   October   October   October  October   October  October   October   October   October   October   October  October   October  October  October  October   October October   October  October   October   October   October   October  October   October   October   October   October  October   November   November   November  November   November   November   November  November  November  November   November   November   November  November   November  November   November  November   November  unday   November   November   November   November   November   November   November   November   November   November  December   December  December   December   December   December  December   December  December   December   December   December   December  December   December   December   December   December   December   December   December   December   December   December   December   December   December   December  December   December   \n"
     ]
    }
   ],
   "source": [
    "months = ''.join(months)\n",
    "print(months)"
   ]
  },
  {
   "cell_type": "code",
   "execution_count": 150,
   "id": "3d1d6a3e",
   "metadata": {},
   "outputs": [
    {
     "data": {
      "text/plain": [
       "'1  1  1  1  1  1   1  1   1  1   1  1  1  1  1   1   1   1  1   1  1   1   1   1   1   1   1  1   1   1   1   2   2   2   2  2  2   2  2   2  2   2   2   2  2   2  2   2  2   2   2   2  2   2  2   2  2   2  2   3  3   3   3   3  3   3  3  3  3   3  3    3  3  3  3  3  3  3  3  3   3   3  day  3   3  3   3  3   3  3   3  4  4  4  4  4  4  4  4  4  4  4  4  4  4  4  4   Sunday   4  Monday  4  Tuesday   4  4  4  4  4  Sunday   4  4  4  4  4  4  4  5  5  5  5  5  5  5  ay   5  5  5  5  5  5  5  5  5  5  5  5  5  5  5  5  5  5  5  5  5  5  5  5  6   6   6   6   Sunday    6   Monday  6  Tuesday    6  esday   6   6   6  6   6  6   6   6  6   6  6  6  6   6   6  6     6   6   6   6  6   6   6   7  7  7  7  7  7  7  7  7  7  7  7  7  7  7  7  7  7  7  7  7  7  7  7  7  7  7  7  7  7  7  8  8   8  8   8   8   8   8   8   8   8   8   8   8   8   8   8   8   8  8   8  8   8  8   8   8   8  8   8   8   8   9   9  9   9   9   9  9   9  9   9  9   9  9   9  9   9  9  9  9  9   9   9   9   9   9   9   9   9  9   9   10   10   10   10  10   10  10   10   10   10   10   10  10   10  10  10  10   10 10   10  10   10   10   10   10  10   10   10   10   10  10   11   11   11  11   11   11   11  11  11  11   11   11   11  11   11  11   11  11   11  unday   11   11   11   11   11   11   11   11   11   11  12   12  12   12   12   12  12   12  12   12   12   12   12  12   12   12   12   12   12   12   12   12   12   12   12   12   12   12  12   12   '"
      ]
     },
     "execution_count": 150,
     "metadata": {},
     "output_type": "execute_result"
    }
   ],
   "source": [
    "months = months.replace('January', '1')\n",
    "months = months.replace('February', '2')\n",
    "months = months.replace('March', '3')\n",
    "months = months.replace('April', '4')\n",
    "months = months.replace('May', '5')\n",
    "months = months.replace('June', '6')\n",
    "months = months.replace('July', '7')\n",
    "months = months.replace('August', '8')\n",
    "months = months.replace('September', '9')\n",
    "months = months.replace('October', '10')\n",
    "months = months.replace('November', '11')\n",
    "months = months.replace('December', '12')\n",
    "months"
   ]
  },
  {
   "cell_type": "code",
   "execution_count": 151,
   "id": "7add23d9",
   "metadata": {},
   "outputs": [],
   "source": [
    "months = re.sub(r\"[a-z]|[A-Z]\", \"\", months)"
   ]
  },
  {
   "cell_type": "code",
   "execution_count": 152,
   "id": "2a513fcb",
   "metadata": {},
   "outputs": [
    {
     "name": "stdout",
     "output_type": "stream",
     "text": [
      "['1', '1', '1', '1', '1', '1', '1', '1', '1', '1', '1', '1', '1', '1', '1', '1', '1', '1', '1', '1', '1', '1', '1', '1', '1', '1', '1', '1', '1', '1', '1', '2', '2', '2', '2', '2', '2', '2', '2', '2', '2', '2', '2', '2', '2', '2', '2', '2', '2', '2', '2', '2', '2', '2', '2', '2', '2', '2', '2', '3', '3', '3', '3', '3', '3', '3', '3', '3', '3', '3', '3', '3', '3', '3', '3', '3', '3', '3', '3', '3', '3', '3', '3', '3', '3', '3', '3', '3', '3', '3', '4', '4', '4', '4', '4', '4', '4', '4', '4', '4', '4', '4', '4', '4', '4', '4', '4', '4', '4', '4', '4', '4', '4', '4', '4', '4', '4', '4', '4', '4', '5', '5', '5', '5', '5', '5', '5', '5', '5', '5', '5', '5', '5', '5', '5', '5', '5', '5', '5', '5', '5', '5', '5', '5', '5', '5', '5', '5', '5', '5', '5', '6', '6', '6', '6', '6', '6', '6', '6', '6', '6', '6', '6', '6', '6', '6', '6', '6', '6', '6', '6', '6', '6', '6', '6', '6', '6', '6', '6', '6', '6', '7', '7', '7', '7', '7', '7', '7', '7', '7', '7', '7', '7', '7', '7', '7', '7', '7', '7', '7', '7', '7', '7', '7', '7', '7', '7', '7', '7', '7', '7', '7', '8', '8', '8', '8', '8', '8', '8', '8', '8', '8', '8', '8', '8', '8', '8', '8', '8', '8', '8', '8', '8', '8', '8', '8', '8', '8', '8', '8', '8', '8', '8', '9', '9', '9', '9', '9', '9', '9', '9', '9', '9', '9', '9', '9', '9', '9', '9', '9', '9', '9', '9', '9', '9', '9', '9', '9', '9', '9', '9', '9', '9', '10', '10', '10', '10', '10', '10', '10', '10', '10', '10', '10', '10', '10', '10', '10', '10', '10', '10', '10', '10', '10', '10', '10', '10', '10', '10', '10', '10', '10', '10', '10', '11', '11', '11', '11', '11', '11', '11', '11', '11', '11', '11', '11', '11', '11', '11', '11', '11', '11', '11', '11', '11', '11', '11', '11', '11', '11', '11', '11', '11', '12', '12', '12', '12', '12', '12', '12', '12', '12', '12', '12', '12', '12', '12', '12', '12', '12', '12', '12', '12', '12', '12', '12', '12', '12', '12', '12', '12', '12', '12', '']\n"
     ]
    }
   ],
   "source": [
    "months = re.split(' +',months)\n",
    "print(months)"
   ]
  },
  {
   "cell_type": "code",
   "execution_count": 153,
   "id": "d12d65e1",
   "metadata": {},
   "outputs": [
    {
     "data": {
      "text/plain": [
       "364"
      ]
     },
     "execution_count": 153,
     "metadata": {},
     "output_type": "execute_result"
    }
   ],
   "source": [
    "len(months)"
   ]
  },
  {
   "cell_type": "code",
   "execution_count": 154,
   "id": "cda60e48",
   "metadata": {},
   "outputs": [
    {
     "data": {
      "text/plain": [
       "365"
      ]
     },
     "execution_count": 154,
     "metadata": {},
     "output_type": "execute_result"
    }
   ],
   "source": [
    "len(days)"
   ]
  },
  {
   "cell_type": "code",
   "execution_count": 155,
   "id": "b9335121",
   "metadata": {},
   "outputs": [
    {
     "data": {
      "text/plain": [
       "363"
      ]
     },
     "execution_count": 155,
     "metadata": {},
     "output_type": "execute_result"
    }
   ],
   "source": [
    "months = [i for i in months if i]\n",
    "len(months)"
   ]
  },
  {
   "cell_type": "code",
   "execution_count": 156,
   "id": "8bf7fe8a",
   "metadata": {},
   "outputs": [
    {
     "data": {
      "text/plain": [
       "363"
      ]
     },
     "execution_count": 156,
     "metadata": {},
     "output_type": "execute_result"
    }
   ],
   "source": [
    "days = [i for i in days if i]\n",
    "len(days)"
   ]
  },
  {
   "cell_type": "code",
   "execution_count": 159,
   "id": "fa8a765f",
   "metadata": {},
   "outputs": [],
   "source": [
    "with open('months.csv', 'w') as f:\n",
    "        f.write(\"\\n\".join(months))"
   ]
  },
  {
   "cell_type": "code",
   "execution_count": 160,
   "id": "18f87bf2",
   "metadata": {},
   "outputs": [],
   "source": [
    "with open('days.csv', 'w') as f:\n",
    "        f.write(\"\\n\".join(days))"
   ]
  },
  {
   "cell_type": "code",
   "execution_count": null,
   "id": "b8a0b64f",
   "metadata": {},
   "outputs": [],
   "source": []
  }
 ],
 "metadata": {
  "kernelspec": {
   "display_name": "Python 3",
   "language": "python",
   "name": "python3"
  },
  "language_info": {
   "codemirror_mode": {
    "name": "ipython",
    "version": 3
   },
   "file_extension": ".py",
   "mimetype": "text/x-python",
   "name": "python",
   "nbconvert_exporter": "python",
   "pygments_lexer": "ipython3",
   "version": "3.9.5"
  }
 },
 "nbformat": 4,
 "nbformat_minor": 5
}
