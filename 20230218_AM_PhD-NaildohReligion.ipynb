{
 "cells": [
  {
   "cell_type": "markdown",
   "id": "9c4dd1c4",
   "metadata": {},
   "source": [
    "# NAILDOH Religion\n",
    "\n",
    "## Resources"
   ]
  },
  {
   "cell_type": "code",
   "execution_count": 1,
   "id": "fa439d06",
   "metadata": {},
   "outputs": [],
   "source": [
    "# Options\n",
    "options(digits = 1)"
   ]
  },
  {
   "cell_type": "code",
   "execution_count": 2,
   "id": "6baa03b3",
   "metadata": {},
   "outputs": [
    {
     "name": "stderr",
     "output_type": "stream",
     "text": [
      "Warning message:\n",
      "“replacing previous import ‘lifecycle::last_warnings’ by ‘rlang::last_warnings’ when loading ‘tibble’”\n",
      "Warning message:\n",
      "“replacing previous import ‘lifecycle::last_warnings’ by ‘rlang::last_warnings’ when loading ‘hms’”\n",
      "── \u001b[1mAttaching packages\u001b[22m ───────────────────────────────────────────────────────────────────────────────────────────────────────────────────────────────────────── tidyverse 1.3.1 ──\n",
      "\n",
      "\u001b[32m✔\u001b[39m \u001b[34mggplot2\u001b[39m 3.3.3     \u001b[32m✔\u001b[39m \u001b[34mpurrr  \u001b[39m 0.3.4\n",
      "\u001b[32m✔\u001b[39m \u001b[34mtibble \u001b[39m 3.1.2     \u001b[32m✔\u001b[39m \u001b[34mdplyr  \u001b[39m 1.0.6\n",
      "\u001b[32m✔\u001b[39m \u001b[34mtidyr  \u001b[39m 1.1.3     \u001b[32m✔\u001b[39m \u001b[34mstringr\u001b[39m 1.4.0\n",
      "\u001b[32m✔\u001b[39m \u001b[34mreadr  \u001b[39m 1.4.0     \u001b[32m✔\u001b[39m \u001b[34mforcats\u001b[39m 0.5.1\n",
      "\n",
      "── \u001b[1mConflicts\u001b[22m ──────────────────────────────────────────────────────────────────────────────────────────────────────────────────────────────────────────── tidyverse_conflicts() ──\n",
      "\u001b[31m✖\u001b[39m \u001b[34mdplyr\u001b[39m::\u001b[32mfilter()\u001b[39m masks \u001b[34mstats\u001b[39m::filter()\n",
      "\u001b[31m✖\u001b[39m \u001b[34mdplyr\u001b[39m::\u001b[32mlag()\u001b[39m    masks \u001b[34mstats\u001b[39m::lag()\n",
      "\n"
     ]
    }
   ],
   "source": [
    "# Libraries\n",
    "library(tidyverse) # for data manipulation"
   ]
  },
  {
   "cell_type": "code",
   "execution_count": 3,
   "id": "39441685",
   "metadata": {},
   "outputs": [],
   "source": [
    "# Functions\n",
    "factorize <- function(df){ # Create a function\n",
    "  for(i in which(sapply(df, class) == \"character\")) # that looks for variables with the character class \n",
    "      df[[i]] = as.factor(df[[i]]) # and converts them to factor (i.e., categorical) class\n",
    "  return(df)\n",
    "}\n",
    "\n",
    "unfactorize <- function(df){ # Create a function\n",
    "  for(i in which(sapply(df, class) == \"factor\")) # that looks for variables with the character class \n",
    "      df[[i]] = as.character(df[[i]]) # and converts them to factor (i.e., categorical) class\n",
    "  return(df)\n",
    "}"
   ]
  },
  {
   "cell_type": "code",
   "execution_count": 4,
   "id": "686a7cc6",
   "metadata": {},
   "outputs": [
    {
     "data": {
      "text/html": [
       "<style>\n",
       ".list-inline {list-style: none; margin:0; padding: 0}\n",
       ".list-inline>li {display: inline-block}\n",
       ".list-inline>li:not(:last-child)::after {content: \"\\00b7\"; padding: 0 .5ex}\n",
       "</style>\n",
       "<ol class=list-inline><li>617</li><li>22</li></ol>\n"
      ],
      "text/latex": [
       "\\begin{enumerate*}\n",
       "\\item 617\n",
       "\\item 22\n",
       "\\end{enumerate*}\n"
      ],
      "text/markdown": [
       "1. 617\n",
       "2. 22\n",
       "\n",
       "\n"
      ],
      "text/plain": [
       "[1] 617  22"
      ]
     },
     "metadata": {},
     "output_type": "display_data"
    }
   ],
   "source": [
    "# Data\n",
    "letters <- factorize(read.csv(\"20230217_AM_PhD-NaildohSubset.csv\")) # Put csv into a dataframe called docData\n",
    "\n",
    "# Observations and Variables\n",
    "dim(letters)"
   ]
  },
  {
   "cell_type": "markdown",
   "id": "af9923d4",
   "metadata": {},
   "source": [
    "## Religion"
   ]
  },
  {
   "cell_type": "code",
   "execution_count": 5,
   "id": "78a1cd14",
   "metadata": {},
   "outputs": [
    {
     "data": {
      "text/html": [
       "<style>\n",
       ".dl-inline {width: auto; margin:0; padding: 0}\n",
       ".dl-inline>dt, .dl-inline>dd {float: none; width: auto; display: inline-block}\n",
       ".dl-inline>dt::after {content: \":\\0020\"; padding-right: .5ex}\n",
       ".dl-inline>dt:not(:first-of-type) {padding-left: .5ex}\n",
       "</style><dl class=dl-inline><dt>Christian</dt><dd>239</dd><dt>Anglican; Christian; Congregationalist</dt><dd>134</dd><dt>NA's</dt><dd>127</dd><dt>Catholic; Christian</dt><dd>56</dd><dt>Presbyterian; Christian</dt><dd>33</dd><dt>Methodist; Christian</dt><dd>11</dd><dt>Anglican; Christian</dt><dd>7</dd><dt>Episcopalian; Christian</dt><dd>4</dd><dt>Mormon; Christian</dt><dd>4</dd><dt>Baptist; Christian</dt><dd>1</dd><dt>Congregationalist; Christian</dt><dd>1</dd></dl>\n"
      ],
      "text/latex": [
       "\\begin{description*}\n",
       "\\item[Christian] 239\n",
       "\\item[Anglican; Christian; Congregationalist] 134\n",
       "\\item[NA's] 127\n",
       "\\item[Catholic; Christian] 56\n",
       "\\item[Presbyterian; Christian] 33\n",
       "\\item[Methodist; Christian] 11\n",
       "\\item[Anglican; Christian] 7\n",
       "\\item[Episcopalian; Christian] 4\n",
       "\\item[Mormon; Christian] 4\n",
       "\\item[Baptist; Christian] 1\n",
       "\\item[Congregationalist; Christian] 1\n",
       "\\end{description*}\n"
      ],
      "text/markdown": [
       "Christian\n",
       ":   239Anglican; Christian; Congregationalist\n",
       ":   134NA's\n",
       ":   127Catholic; Christian\n",
       ":   56Presbyterian; Christian\n",
       ":   33Methodist; Christian\n",
       ":   11Anglican; Christian\n",
       ":   7Episcopalian; Christian\n",
       ":   4Mormon; Christian\n",
       ":   4Baptist; Christian\n",
       ":   1Congregationalist; Christian\n",
       ":   1\n",
       "\n"
      ],
      "text/plain": [
       "                             Christian Anglican; Christian; Congregationalist \n",
       "                                   239                                    134 \n",
       "                                  NA's                    Catholic; Christian \n",
       "                                   127                                     56 \n",
       "               Presbyterian; Christian                   Methodist; Christian \n",
       "                                    33                                     11 \n",
       "                   Anglican; Christian                Episcopalian; Christian \n",
       "                                     7                                      4 \n",
       "                     Mormon; Christian                     Baptist; Christian \n",
       "                                     4                                      1 \n",
       "          Congregationalist; Christian \n",
       "                                     1 "
      ]
     },
     "metadata": {},
     "output_type": "display_data"
    },
    {
     "data": {
      "text/html": [
       "0.387358184764992"
      ],
      "text/latex": [
       "0.387358184764992"
      ],
      "text/markdown": [
       "0.387358184764992"
      ],
      "text/plain": [
       "[1] 0.4"
      ]
     },
     "metadata": {},
     "output_type": "display_data"
    },
    {
     "data": {
      "text/html": [
       "0.205834683954619"
      ],
      "text/latex": [
       "0.205834683954619"
      ],
      "text/markdown": [
       "0.205834683954619"
      ],
      "text/plain": [
       "[1] 0.2"
      ]
     },
     "metadata": {},
     "output_type": "display_data"
    },
    {
     "data": {
      "text/html": [
       "0.217179902755267"
      ],
      "text/latex": [
       "0.217179902755267"
      ],
      "text/markdown": [
       "0.217179902755267"
      ],
      "text/plain": [
       "[1] 0.2"
      ]
     },
     "metadata": {},
     "output_type": "display_data"
    }
   ],
   "source": [
    "# How many letters were written by people of different religions?\n",
    "\n",
    "# First counts.\n",
    "sort(summary(letters$religion),decreasing = TRUE)\n",
    "\n",
    "# Then percentages\n",
    "\n",
    "239/617 # Christian\n",
    "127/617 # NAs\n",
    "134/617 # Anglican; Christian; Congregationalist"
   ]
  },
  {
   "cell_type": "code",
   "execution_count": 6,
   "id": "5793c3a0",
   "metadata": {},
   "outputs": [
    {
     "data": {
      "text/html": [
       "<table class=\"dataframe\">\n",
       "<caption>A data.frame: 1 × 1</caption>\n",
       "<thead>\n",
       "\t<tr><th></th><th scope=col>docauthorname</th></tr>\n",
       "\t<tr><th></th><th scope=col>&lt;fct&gt;</th></tr>\n",
       "</thead>\n",
       "<tbody>\n",
       "\t<tr><th scope=row>1</th><td>Moodie, Susannah Strickland, 1803-1885</td></tr>\n",
       "</tbody>\n",
       "</table>\n"
      ],
      "text/latex": [
       "A data.frame: 1 × 1\n",
       "\\begin{tabular}{r|l}\n",
       "  & docauthorname\\\\\n",
       "  & <fct>\\\\\n",
       "\\hline\n",
       "\t1 & Moodie, Susannah Strickland, 1803-1885\\\\\n",
       "\\end{tabular}\n"
      ],
      "text/markdown": [
       "\n",
       "A data.frame: 1 × 1\n",
       "\n",
       "| <!--/--> | docauthorname &lt;fct&gt; |\n",
       "|---|---|\n",
       "| 1 | Moodie, Susannah Strickland, 1803-1885 |\n",
       "\n"
      ],
      "text/plain": [
       "  docauthorname                         \n",
       "1 Moodie, Susannah Strickland, 1803-1885"
      ]
     },
     "metadata": {},
     "output_type": "display_data"
    }
   ],
   "source": [
    "# Who are the Anglican - Congregationalist writers ?\n",
    "letters  %>% \n",
    "filter(religion == \"Anglican; Christian; Congregationalist\") %>% \n",
    "select(docauthorname)  %>% \n",
    "unique()"
   ]
  },
  {
   "cell_type": "code",
   "execution_count": 7,
   "id": "3d46457b",
   "metadata": {},
   "outputs": [
    {
     "data": {
      "text/html": [
       "<table class=\"dataframe\">\n",
       "<caption>A data.frame: 22 × 3</caption>\n",
       "<thead>\n",
       "\t<tr><th scope=col>nationalOrigin</th><th scope=col>religion</th><th scope=col>n</th></tr>\n",
       "\t<tr><th scope=col>&lt;fct&gt;</th><th scope=col>&lt;fct&gt;</th><th scope=col>&lt;int&gt;</th></tr>\n",
       "</thead>\n",
       "<tbody>\n",
       "\t<tr><td>English        </td><td>Christian                             </td><td>235</td></tr>\n",
       "\t<tr><td>English        </td><td>Anglican; Christian; Congregationalist</td><td>134</td></tr>\n",
       "\t<tr><td>Italian        </td><td>Catholic; Christian                   </td><td> 55</td></tr>\n",
       "\t<tr><td>Scottish       </td><td>NA                                    </td><td> 41</td></tr>\n",
       "\t<tr><td>Irish          </td><td>NA                                    </td><td> 34</td></tr>\n",
       "\t<tr><td>English        </td><td>NA                                    </td><td> 31</td></tr>\n",
       "\t<tr><td>Scottish       </td><td>Presbyterian; Christian               </td><td> 31</td></tr>\n",
       "\t<tr><td>Welsh          </td><td>NA                                    </td><td> 15</td></tr>\n",
       "\t<tr><td>Irish; Scottish</td><td>Methodist; Christian                  </td><td> 11</td></tr>\n",
       "\t<tr><td>Irish; Scottish</td><td>Anglican; Christian                   </td><td>  7</td></tr>\n",
       "\t<tr><td>English        </td><td>Episcopalian; Christian               </td><td>  4</td></tr>\n",
       "\t<tr><td>Welsh          </td><td>Christian                             </td><td>  4</td></tr>\n",
       "\t<tr><td>Welsh          </td><td>Mormon; Christian                     </td><td>  3</td></tr>\n",
       "\t<tr><td>European       </td><td>NA                                    </td><td>  2</td></tr>\n",
       "\t<tr><td>Irish; Scottish</td><td>NA                                    </td><td>  2</td></tr>\n",
       "\t<tr><td>Welsh          </td><td>Presbyterian; Christian               </td><td>  2</td></tr>\n",
       "\t<tr><td>Chinese        </td><td>NA                                    </td><td>  1</td></tr>\n",
       "\t<tr><td>English        </td><td>Mormon; Christian                     </td><td>  1</td></tr>\n",
       "\t<tr><td>Irish          </td><td>Catholic; Christian                   </td><td>  1</td></tr>\n",
       "\t<tr><td>Welsh          </td><td>Baptist; Christian                    </td><td>  1</td></tr>\n",
       "\t<tr><td>Welsh          </td><td>Congregationalist; Christian          </td><td>  1</td></tr>\n",
       "\t<tr><td>NA             </td><td>NA                                    </td><td>  1</td></tr>\n",
       "</tbody>\n",
       "</table>\n"
      ],
      "text/latex": [
       "A data.frame: 22 × 3\n",
       "\\begin{tabular}{lll}\n",
       " nationalOrigin & religion & n\\\\\n",
       " <fct> & <fct> & <int>\\\\\n",
       "\\hline\n",
       "\t English         & Christian                              & 235\\\\\n",
       "\t English         & Anglican; Christian; Congregationalist & 134\\\\\n",
       "\t Italian         & Catholic; Christian                    &  55\\\\\n",
       "\t Scottish        & NA                                     &  41\\\\\n",
       "\t Irish           & NA                                     &  34\\\\\n",
       "\t English         & NA                                     &  31\\\\\n",
       "\t Scottish        & Presbyterian; Christian                &  31\\\\\n",
       "\t Welsh           & NA                                     &  15\\\\\n",
       "\t Irish; Scottish & Methodist; Christian                   &  11\\\\\n",
       "\t Irish; Scottish & Anglican; Christian                    &   7\\\\\n",
       "\t English         & Episcopalian; Christian                &   4\\\\\n",
       "\t Welsh           & Christian                              &   4\\\\\n",
       "\t Welsh           & Mormon; Christian                      &   3\\\\\n",
       "\t European        & NA                                     &   2\\\\\n",
       "\t Irish; Scottish & NA                                     &   2\\\\\n",
       "\t Welsh           & Presbyterian; Christian                &   2\\\\\n",
       "\t Chinese         & NA                                     &   1\\\\\n",
       "\t English         & Mormon; Christian                      &   1\\\\\n",
       "\t Irish           & Catholic; Christian                    &   1\\\\\n",
       "\t Welsh           & Baptist; Christian                     &   1\\\\\n",
       "\t Welsh           & Congregationalist; Christian           &   1\\\\\n",
       "\t NA              & NA                                     &   1\\\\\n",
       "\\end{tabular}\n"
      ],
      "text/markdown": [
       "\n",
       "A data.frame: 22 × 3\n",
       "\n",
       "| nationalOrigin &lt;fct&gt; | religion &lt;fct&gt; | n &lt;int&gt; |\n",
       "|---|---|---|\n",
       "| English         | Christian                              | 235 |\n",
       "| English         | Anglican; Christian; Congregationalist | 134 |\n",
       "| Italian         | Catholic; Christian                    |  55 |\n",
       "| Scottish        | NA                                     |  41 |\n",
       "| Irish           | NA                                     |  34 |\n",
       "| English         | NA                                     |  31 |\n",
       "| Scottish        | Presbyterian; Christian                |  31 |\n",
       "| Welsh           | NA                                     |  15 |\n",
       "| Irish; Scottish | Methodist; Christian                   |  11 |\n",
       "| Irish; Scottish | Anglican; Christian                    |   7 |\n",
       "| English         | Episcopalian; Christian                |   4 |\n",
       "| Welsh           | Christian                              |   4 |\n",
       "| Welsh           | Mormon; Christian                      |   3 |\n",
       "| European        | NA                                     |   2 |\n",
       "| Irish; Scottish | NA                                     |   2 |\n",
       "| Welsh           | Presbyterian; Christian                |   2 |\n",
       "| Chinese         | NA                                     |   1 |\n",
       "| English         | Mormon; Christian                      |   1 |\n",
       "| Irish           | Catholic; Christian                    |   1 |\n",
       "| Welsh           | Baptist; Christian                     |   1 |\n",
       "| Welsh           | Congregationalist; Christian           |   1 |\n",
       "| NA              | NA                                     |   1 |\n",
       "\n"
      ],
      "text/plain": [
       "   nationalOrigin  religion                               n  \n",
       "1  English         Christian                              235\n",
       "2  English         Anglican; Christian; Congregationalist 134\n",
       "3  Italian         Catholic; Christian                     55\n",
       "4  Scottish        NA                                      41\n",
       "5  Irish           NA                                      34\n",
       "6  English         NA                                      31\n",
       "7  Scottish        Presbyterian; Christian                 31\n",
       "8  Welsh           NA                                      15\n",
       "9  Irish; Scottish Methodist; Christian                    11\n",
       "10 Irish; Scottish Anglican; Christian                      7\n",
       "11 English         Episcopalian; Christian                  4\n",
       "12 Welsh           Christian                                4\n",
       "13 Welsh           Mormon; Christian                        3\n",
       "14 European        NA                                       2\n",
       "15 Irish; Scottish NA                                       2\n",
       "16 Welsh           Presbyterian; Christian                  2\n",
       "17 Chinese         NA                                       1\n",
       "18 English         Mormon; Christian                        1\n",
       "19 Irish           Catholic; Christian                      1\n",
       "20 Welsh           Baptist; Christian                       1\n",
       "21 Welsh           Congregationalist; Christian             1\n",
       "22 NA              NA                                       1"
      ]
     },
     "metadata": {},
     "output_type": "display_data"
    }
   ],
   "source": [
    "# See how the two main variables for cultural background shake out.\n",
    "letters %>% count(nationalOrigin, religion, sort = TRUE)"
   ]
  },
  {
   "cell_type": "code",
   "execution_count": 8,
   "id": "bd8d622b",
   "metadata": {},
   "outputs": [],
   "source": [
    "# Create a new variable called \"religionNew\" containing the values from religion\n",
    "letters$religionNew <- as.character(letters$religion)"
   ]
  },
  {
   "cell_type": "code",
   "execution_count": 9,
   "id": "0709db57",
   "metadata": {},
   "outputs": [],
   "source": [
    "# Susanna Moodie converted from Anglican to Congregationalist as a young woman.\n",
    "# Recode to Congregationalist\n",
    "# https://digital.lib.sfu.ca/ceww-572/moodie-susanna\n",
    "\n",
    "letters$religionNew[letters$docauthorname == \"Moodie, Susannah Strickland, 1803-1885\"] <- \"Congregationalist\""
   ]
  },
  {
   "cell_type": "code",
   "execution_count": 10,
   "id": "7e101f63",
   "metadata": {},
   "outputs": [
    {
     "data": {
      "text/html": [
       "<table class=\"dataframe\">\n",
       "<caption>A data.frame: 11 × 3</caption>\n",
       "<thead>\n",
       "\t<tr><th></th><th scope=col>docauthorname</th><th scope=col>sourcetitle</th><th scope=col>nationalOrigin</th></tr>\n",
       "\t<tr><th></th><th scope=col>&lt;fct&gt;</th><th scope=col>&lt;fct&gt;</th><th scope=col>&lt;fct&gt;</th></tr>\n",
       "</thead>\n",
       "<tbody>\n",
       "\t<tr><th scope=row>1</th><td>Roberts, Sarah, fl. 1858            </td><td>The Welsh in America: Letters from the Immigrants                                          </td><td>Welsh  </td></tr>\n",
       "\t<tr><th scope=row>5</th><td>Harris, Critchlow, 1813-1899        </td><td>The Island Family Harris: Letters of an Immigrant Family in British North America 1856-1866</td><td>English</td></tr>\n",
       "\t<tr><th scope=row>6</th><td>Harris, Sarah Stretch, 1818-1897    </td><td>The Island Family Harris: Letters of an Immigrant Family in British North America 1856-1866</td><td>English</td></tr>\n",
       "\t<tr><th scope=row>45</th><td>Harris, Tom, 1847-                  </td><td>The Island Family Harris: Letters of an Immigrant Family in British North America 1856-1866</td><td>English</td></tr>\n",
       "\t<tr><th scope=row>55</th><td>Harris, Robert, 1849-1919           </td><td>The Island Family Harris: Letters of an Immigrant Family in British North America 1856-1866</td><td>English</td></tr>\n",
       "\t<tr><th scope=row>85</th><td>Harris, Margaret Ellin, 1851-1944   </td><td>The Island Family Harris: Letters of an Immigrant Family in British North America 1856-1866</td><td>English</td></tr>\n",
       "\t<tr><th scope=row>115</th><td>Harris, Martha Guest, 1786-1866     </td><td>The Island Family Harris: Letters of an Immigrant Family in British North America 1856-1866</td><td>English</td></tr>\n",
       "\t<tr><th scope=row>181</th><td>Harris, William, 1854-              </td><td>The Island Family Harris: Letters of an Immigrant Family in British North America 1856-1866</td><td>English</td></tr>\n",
       "\t<tr><th scope=row>234</th><td>Birkbeck, Morris, 1764-1825         </td><td>The Emigrant's Guide to the United States of America                                       </td><td>English</td></tr>\n",
       "\t<tr><th scope=row>235</th><td>Kendall, Charlotte Paxton, 1807-1854</td><td>A Landsman's Voyage to California                                                          </td><td>English</td></tr>\n",
       "\t<tr><th scope=row>237</th><td>Kendall, Joseph, 1803-1864          </td><td>A Landsman's Voyage to California                                                          </td><td>English</td></tr>\n",
       "</tbody>\n",
       "</table>\n"
      ],
      "text/latex": [
       "A data.frame: 11 × 3\n",
       "\\begin{tabular}{r|lll}\n",
       "  & docauthorname & sourcetitle & nationalOrigin\\\\\n",
       "  & <fct> & <fct> & <fct>\\\\\n",
       "\\hline\n",
       "\t1 & Roberts, Sarah, fl. 1858             & The Welsh in America: Letters from the Immigrants                                           & Welsh  \\\\\n",
       "\t5 & Harris, Critchlow, 1813-1899         & The Island Family Harris: Letters of an Immigrant Family in British North America 1856-1866 & English\\\\\n",
       "\t6 & Harris, Sarah Stretch, 1818-1897     & The Island Family Harris: Letters of an Immigrant Family in British North America 1856-1866 & English\\\\\n",
       "\t45 & Harris, Tom, 1847-                   & The Island Family Harris: Letters of an Immigrant Family in British North America 1856-1866 & English\\\\\n",
       "\t55 & Harris, Robert, 1849-1919            & The Island Family Harris: Letters of an Immigrant Family in British North America 1856-1866 & English\\\\\n",
       "\t85 & Harris, Margaret Ellin, 1851-1944    & The Island Family Harris: Letters of an Immigrant Family in British North America 1856-1866 & English\\\\\n",
       "\t115 & Harris, Martha Guest, 1786-1866      & The Island Family Harris: Letters of an Immigrant Family in British North America 1856-1866 & English\\\\\n",
       "\t181 & Harris, William, 1854-               & The Island Family Harris: Letters of an Immigrant Family in British North America 1856-1866 & English\\\\\n",
       "\t234 & Birkbeck, Morris, 1764-1825          & The Emigrant's Guide to the United States of America                                        & English\\\\\n",
       "\t235 & Kendall, Charlotte Paxton, 1807-1854 & A Landsman's Voyage to California                                                           & English\\\\\n",
       "\t237 & Kendall, Joseph, 1803-1864           & A Landsman's Voyage to California                                                           & English\\\\\n",
       "\\end{tabular}\n"
      ],
      "text/markdown": [
       "\n",
       "A data.frame: 11 × 3\n",
       "\n",
       "| <!--/--> | docauthorname &lt;fct&gt; | sourcetitle &lt;fct&gt; | nationalOrigin &lt;fct&gt; |\n",
       "|---|---|---|---|\n",
       "| 1 | Roberts, Sarah, fl. 1858             | The Welsh in America: Letters from the Immigrants                                           | Welsh   |\n",
       "| 5 | Harris, Critchlow, 1813-1899         | The Island Family Harris: Letters of an Immigrant Family in British North America 1856-1866 | English |\n",
       "| 6 | Harris, Sarah Stretch, 1818-1897     | The Island Family Harris: Letters of an Immigrant Family in British North America 1856-1866 | English |\n",
       "| 45 | Harris, Tom, 1847-                   | The Island Family Harris: Letters of an Immigrant Family in British North America 1856-1866 | English |\n",
       "| 55 | Harris, Robert, 1849-1919            | The Island Family Harris: Letters of an Immigrant Family in British North America 1856-1866 | English |\n",
       "| 85 | Harris, Margaret Ellin, 1851-1944    | The Island Family Harris: Letters of an Immigrant Family in British North America 1856-1866 | English |\n",
       "| 115 | Harris, Martha Guest, 1786-1866      | The Island Family Harris: Letters of an Immigrant Family in British North America 1856-1866 | English |\n",
       "| 181 | Harris, William, 1854-               | The Island Family Harris: Letters of an Immigrant Family in British North America 1856-1866 | English |\n",
       "| 234 | Birkbeck, Morris, 1764-1825          | The Emigrant's Guide to the United States of America                                        | English |\n",
       "| 235 | Kendall, Charlotte Paxton, 1807-1854 | A Landsman's Voyage to California                                                           | English |\n",
       "| 237 | Kendall, Joseph, 1803-1864           | A Landsman's Voyage to California                                                           | English |\n",
       "\n"
      ],
      "text/plain": [
       "    docauthorname                       \n",
       "1   Roberts, Sarah, fl. 1858            \n",
       "5   Harris, Critchlow, 1813-1899        \n",
       "6   Harris, Sarah Stretch, 1818-1897    \n",
       "45  Harris, Tom, 1847-                  \n",
       "55  Harris, Robert, 1849-1919           \n",
       "85  Harris, Margaret Ellin, 1851-1944   \n",
       "115 Harris, Martha Guest, 1786-1866     \n",
       "181 Harris, William, 1854-              \n",
       "234 Birkbeck, Morris, 1764-1825         \n",
       "235 Kendall, Charlotte Paxton, 1807-1854\n",
       "237 Kendall, Joseph, 1803-1864          \n",
       "    sourcetitle                                                                                \n",
       "1   The Welsh in America: Letters from the Immigrants                                          \n",
       "5   The Island Family Harris: Letters of an Immigrant Family in British North America 1856-1866\n",
       "6   The Island Family Harris: Letters of an Immigrant Family in British North America 1856-1866\n",
       "45  The Island Family Harris: Letters of an Immigrant Family in British North America 1856-1866\n",
       "55  The Island Family Harris: Letters of an Immigrant Family in British North America 1856-1866\n",
       "85  The Island Family Harris: Letters of an Immigrant Family in British North America 1856-1866\n",
       "115 The Island Family Harris: Letters of an Immigrant Family in British North America 1856-1866\n",
       "181 The Island Family Harris: Letters of an Immigrant Family in British North America 1856-1866\n",
       "234 The Emigrant's Guide to the United States of America                                       \n",
       "235 A Landsman's Voyage to California                                                          \n",
       "237 A Landsman's Voyage to California                                                          \n",
       "    nationalOrigin\n",
       "1   Welsh         \n",
       "5   English       \n",
       "6   English       \n",
       "45  English       \n",
       "55  English       \n",
       "85  English       \n",
       "115 English       \n",
       "181 English       \n",
       "234 English       \n",
       "235 English       \n",
       "237 English       "
      ]
     },
     "metadata": {},
     "output_type": "display_data"
    }
   ],
   "source": [
    "# Who are the English Christians ?\n",
    "letters  %>% \n",
    "filter(religionNew == \"Christian\") %>% \n",
    "select(docauthorname, sourcetitle, nationalOrigin)  %>% \n",
    "unique()"
   ]
  },
  {
   "cell_type": "markdown",
   "id": "540ade12",
   "metadata": {},
   "source": [
    "The Harris' were founding members of the Anglican St Peter's Cathedral on Prince Edward Island, as evidenced by their portraits in the chapel. "
   ]
  },
  {
   "cell_type": "code",
   "execution_count": 11,
   "id": "2f390a89",
   "metadata": {},
   "outputs": [],
   "source": [
    "# http://www.stpeter.org/guide.html\n",
    "# https://www.islandregister.com/stretch1.html\n",
    "# https://islandarchives.ca/islandora/object/ilives:123426#page/180/mode/2up\n",
    "# http://sarah.emilieroberts.ca/index.php?page=Home\n",
    "\n",
    "# Recode accordingly\n",
    "letters$religionNew[letters$docauthorname == \"Harris, Sarah Stretch, 1818-1897\"] <- \"Anglican\"\n",
    "letters$religionNew[letters$docauthorname == \"Harris, Critchlow, 1813-1899\"] <- \"Anglican\"\n",
    "letters$religionNew[letters$docauthorname == \"Harris, Robert, 1849-1919\"] <- \"Anglican\"\n",
    "letters$religionNew[letters$docauthorname == \"Harris, Tom, 1847-\"] <- \"Anglican\"\n",
    "letters$religionNew[letters$docauthorname == \"Harris, Margaret Ellin, 1851-1944\"] <- \"Anglican\"\n",
    "letters$religionNew[letters$docauthorname == \"Harris, Martha Guest, 1786-1866\"] <- \"Anglican\"\n",
    "letters$religionNew[letters$docauthorname == \"Harris, William, 1854-\"] <- \"Anglican\""
   ]
  },
  {
   "cell_type": "code",
   "execution_count": 12,
   "id": "78cbe455",
   "metadata": {},
   "outputs": [],
   "source": [
    "# https://en.wikipedia.org/wiki/Morris_Birkbeck\n",
    "letters$religionNew[letters$docauthorname == \"Birkbeck, Morris, 1764-1825\"] <- \"Quaker\""
   ]
  },
  {
   "cell_type": "markdown",
   "id": "fe7f579c",
   "metadata": {},
   "source": [
    "Insufficient information is available to determine the religious affiliation of the remaining writers."
   ]
  },
  {
   "cell_type": "code",
   "execution_count": 13,
   "id": "9dea9ba5",
   "metadata": {},
   "outputs": [
    {
     "data": {
      "text/html": [
       "<table class=\"dataframe\">\n",
       "<caption>A data.frame: 24 × 3</caption>\n",
       "<thead>\n",
       "\t<tr><th scope=col>nationalOrigin</th><th scope=col>religionNew</th><th scope=col>n</th></tr>\n",
       "\t<tr><th scope=col>&lt;fct&gt;</th><th scope=col>&lt;chr&gt;</th><th scope=col>&lt;int&gt;</th></tr>\n",
       "</thead>\n",
       "<tbody>\n",
       "\t<tr><td>English        </td><td>Anglican                    </td><td>229</td></tr>\n",
       "\t<tr><td>English        </td><td>Congregationalist           </td><td>134</td></tr>\n",
       "\t<tr><td>Italian        </td><td>Catholic; Christian         </td><td> 55</td></tr>\n",
       "\t<tr><td>Scottish       </td><td>NA                          </td><td> 41</td></tr>\n",
       "\t<tr><td>Irish          </td><td>NA                          </td><td> 34</td></tr>\n",
       "\t<tr><td>English        </td><td>NA                          </td><td> 31</td></tr>\n",
       "\t<tr><td>Scottish       </td><td>Presbyterian; Christian     </td><td> 31</td></tr>\n",
       "\t<tr><td>Welsh          </td><td>NA                          </td><td> 15</td></tr>\n",
       "\t<tr><td>Irish; Scottish</td><td>Methodist; Christian        </td><td> 11</td></tr>\n",
       "\t<tr><td>Irish; Scottish</td><td>Anglican; Christian         </td><td>  7</td></tr>\n",
       "\t<tr><td>English        </td><td>Christian                   </td><td>  5</td></tr>\n",
       "\t<tr><td>English        </td><td>Episcopalian; Christian     </td><td>  4</td></tr>\n",
       "\t<tr><td>Welsh          </td><td>Christian                   </td><td>  4</td></tr>\n",
       "\t<tr><td>Welsh          </td><td>Mormon; Christian           </td><td>  3</td></tr>\n",
       "\t<tr><td>European       </td><td>NA                          </td><td>  2</td></tr>\n",
       "\t<tr><td>Irish; Scottish</td><td>NA                          </td><td>  2</td></tr>\n",
       "\t<tr><td>Welsh          </td><td>Presbyterian; Christian     </td><td>  2</td></tr>\n",
       "\t<tr><td>Chinese        </td><td>NA                          </td><td>  1</td></tr>\n",
       "\t<tr><td>English        </td><td>Mormon; Christian           </td><td>  1</td></tr>\n",
       "\t<tr><td>English        </td><td>Quaker                      </td><td>  1</td></tr>\n",
       "\t<tr><td>Irish          </td><td>Catholic; Christian         </td><td>  1</td></tr>\n",
       "\t<tr><td>Welsh          </td><td>Baptist; Christian          </td><td>  1</td></tr>\n",
       "\t<tr><td>Welsh          </td><td>Congregationalist; Christian</td><td>  1</td></tr>\n",
       "\t<tr><td>NA             </td><td>NA                          </td><td>  1</td></tr>\n",
       "</tbody>\n",
       "</table>\n"
      ],
      "text/latex": [
       "A data.frame: 24 × 3\n",
       "\\begin{tabular}{lll}\n",
       " nationalOrigin & religionNew & n\\\\\n",
       " <fct> & <chr> & <int>\\\\\n",
       "\\hline\n",
       "\t English         & Anglican                     & 229\\\\\n",
       "\t English         & Congregationalist            & 134\\\\\n",
       "\t Italian         & Catholic; Christian          &  55\\\\\n",
       "\t Scottish        & NA                           &  41\\\\\n",
       "\t Irish           & NA                           &  34\\\\\n",
       "\t English         & NA                           &  31\\\\\n",
       "\t Scottish        & Presbyterian; Christian      &  31\\\\\n",
       "\t Welsh           & NA                           &  15\\\\\n",
       "\t Irish; Scottish & Methodist; Christian         &  11\\\\\n",
       "\t Irish; Scottish & Anglican; Christian          &   7\\\\\n",
       "\t English         & Christian                    &   5\\\\\n",
       "\t English         & Episcopalian; Christian      &   4\\\\\n",
       "\t Welsh           & Christian                    &   4\\\\\n",
       "\t Welsh           & Mormon; Christian            &   3\\\\\n",
       "\t European        & NA                           &   2\\\\\n",
       "\t Irish; Scottish & NA                           &   2\\\\\n",
       "\t Welsh           & Presbyterian; Christian      &   2\\\\\n",
       "\t Chinese         & NA                           &   1\\\\\n",
       "\t English         & Mormon; Christian            &   1\\\\\n",
       "\t English         & Quaker                       &   1\\\\\n",
       "\t Irish           & Catholic; Christian          &   1\\\\\n",
       "\t Welsh           & Baptist; Christian           &   1\\\\\n",
       "\t Welsh           & Congregationalist; Christian &   1\\\\\n",
       "\t NA              & NA                           &   1\\\\\n",
       "\\end{tabular}\n"
      ],
      "text/markdown": [
       "\n",
       "A data.frame: 24 × 3\n",
       "\n",
       "| nationalOrigin &lt;fct&gt; | religionNew &lt;chr&gt; | n &lt;int&gt; |\n",
       "|---|---|---|\n",
       "| English         | Anglican                     | 229 |\n",
       "| English         | Congregationalist            | 134 |\n",
       "| Italian         | Catholic; Christian          |  55 |\n",
       "| Scottish        | NA                           |  41 |\n",
       "| Irish           | NA                           |  34 |\n",
       "| English         | NA                           |  31 |\n",
       "| Scottish        | Presbyterian; Christian      |  31 |\n",
       "| Welsh           | NA                           |  15 |\n",
       "| Irish; Scottish | Methodist; Christian         |  11 |\n",
       "| Irish; Scottish | Anglican; Christian          |   7 |\n",
       "| English         | Christian                    |   5 |\n",
       "| English         | Episcopalian; Christian      |   4 |\n",
       "| Welsh           | Christian                    |   4 |\n",
       "| Welsh           | Mormon; Christian            |   3 |\n",
       "| European        | NA                           |   2 |\n",
       "| Irish; Scottish | NA                           |   2 |\n",
       "| Welsh           | Presbyterian; Christian      |   2 |\n",
       "| Chinese         | NA                           |   1 |\n",
       "| English         | Mormon; Christian            |   1 |\n",
       "| English         | Quaker                       |   1 |\n",
       "| Irish           | Catholic; Christian          |   1 |\n",
       "| Welsh           | Baptist; Christian           |   1 |\n",
       "| Welsh           | Congregationalist; Christian |   1 |\n",
       "| NA              | NA                           |   1 |\n",
       "\n"
      ],
      "text/plain": [
       "   nationalOrigin  religionNew                  n  \n",
       "1  English         Anglican                     229\n",
       "2  English         Congregationalist            134\n",
       "3  Italian         Catholic; Christian           55\n",
       "4  Scottish        NA                            41\n",
       "5  Irish           NA                            34\n",
       "6  English         NA                            31\n",
       "7  Scottish        Presbyterian; Christian       31\n",
       "8  Welsh           NA                            15\n",
       "9  Irish; Scottish Methodist; Christian          11\n",
       "10 Irish; Scottish Anglican; Christian            7\n",
       "11 English         Christian                      5\n",
       "12 English         Episcopalian; Christian        4\n",
       "13 Welsh           Christian                      4\n",
       "14 Welsh           Mormon; Christian              3\n",
       "15 European        NA                             2\n",
       "16 Irish; Scottish NA                             2\n",
       "17 Welsh           Presbyterian; Christian        2\n",
       "18 Chinese         NA                             1\n",
       "19 English         Mormon; Christian              1\n",
       "20 English         Quaker                         1\n",
       "21 Irish           Catholic; Christian            1\n",
       "22 Welsh           Baptist; Christian             1\n",
       "23 Welsh           Congregationalist; Christian   1\n",
       "24 NA              NA                             1"
      ]
     },
     "metadata": {},
     "output_type": "display_data"
    }
   ],
   "source": [
    "# Now see how the culture variables shake out.\n",
    "letters %>% count(nationalOrigin, religionNew, sort = TRUE)"
   ]
  },
  {
   "cell_type": "code",
   "execution_count": 14,
   "id": "5c322435",
   "metadata": {},
   "outputs": [],
   "source": [
    "# Strip \"; Christian\"\n",
    "letters$religionNew  <-  str_remove(letters$religionNew,\"; Christian\")"
   ]
  },
  {
   "cell_type": "code",
   "execution_count": 15,
   "id": "3aed2ea6",
   "metadata": {},
   "outputs": [
    {
     "data": {
      "text/html": [
       "<table class=\"dataframe\">\n",
       "<caption>A data.frame: 24 × 3</caption>\n",
       "<thead>\n",
       "\t<tr><th scope=col>nationalOrigin</th><th scope=col>religionNew</th><th scope=col>n</th></tr>\n",
       "\t<tr><th scope=col>&lt;fct&gt;</th><th scope=col>&lt;chr&gt;</th><th scope=col>&lt;int&gt;</th></tr>\n",
       "</thead>\n",
       "<tbody>\n",
       "\t<tr><td>English        </td><td>Anglican         </td><td>229</td></tr>\n",
       "\t<tr><td>English        </td><td>Congregationalist</td><td>134</td></tr>\n",
       "\t<tr><td>Italian        </td><td>Catholic         </td><td> 55</td></tr>\n",
       "\t<tr><td>Scottish       </td><td>NA               </td><td> 41</td></tr>\n",
       "\t<tr><td>Irish          </td><td>NA               </td><td> 34</td></tr>\n",
       "\t<tr><td>English        </td><td>NA               </td><td> 31</td></tr>\n",
       "\t<tr><td>Scottish       </td><td>Presbyterian     </td><td> 31</td></tr>\n",
       "\t<tr><td>Welsh          </td><td>NA               </td><td> 15</td></tr>\n",
       "\t<tr><td>Irish; Scottish</td><td>Methodist        </td><td> 11</td></tr>\n",
       "\t<tr><td>Irish; Scottish</td><td>Anglican         </td><td>  7</td></tr>\n",
       "\t<tr><td>English        </td><td>Christian        </td><td>  5</td></tr>\n",
       "\t<tr><td>English        </td><td>Episcopalian     </td><td>  4</td></tr>\n",
       "\t<tr><td>Welsh          </td><td>Christian        </td><td>  4</td></tr>\n",
       "\t<tr><td>Welsh          </td><td>Mormon           </td><td>  3</td></tr>\n",
       "\t<tr><td>European       </td><td>NA               </td><td>  2</td></tr>\n",
       "\t<tr><td>Irish; Scottish</td><td>NA               </td><td>  2</td></tr>\n",
       "\t<tr><td>Welsh          </td><td>Presbyterian     </td><td>  2</td></tr>\n",
       "\t<tr><td>Chinese        </td><td>NA               </td><td>  1</td></tr>\n",
       "\t<tr><td>English        </td><td>Mormon           </td><td>  1</td></tr>\n",
       "\t<tr><td>English        </td><td>Quaker           </td><td>  1</td></tr>\n",
       "\t<tr><td>Irish          </td><td>Catholic         </td><td>  1</td></tr>\n",
       "\t<tr><td>Welsh          </td><td>Baptist          </td><td>  1</td></tr>\n",
       "\t<tr><td>Welsh          </td><td>Congregationalist</td><td>  1</td></tr>\n",
       "\t<tr><td>NA             </td><td>NA               </td><td>  1</td></tr>\n",
       "</tbody>\n",
       "</table>\n"
      ],
      "text/latex": [
       "A data.frame: 24 × 3\n",
       "\\begin{tabular}{lll}\n",
       " nationalOrigin & religionNew & n\\\\\n",
       " <fct> & <chr> & <int>\\\\\n",
       "\\hline\n",
       "\t English         & Anglican          & 229\\\\\n",
       "\t English         & Congregationalist & 134\\\\\n",
       "\t Italian         & Catholic          &  55\\\\\n",
       "\t Scottish        & NA                &  41\\\\\n",
       "\t Irish           & NA                &  34\\\\\n",
       "\t English         & NA                &  31\\\\\n",
       "\t Scottish        & Presbyterian      &  31\\\\\n",
       "\t Welsh           & NA                &  15\\\\\n",
       "\t Irish; Scottish & Methodist         &  11\\\\\n",
       "\t Irish; Scottish & Anglican          &   7\\\\\n",
       "\t English         & Christian         &   5\\\\\n",
       "\t English         & Episcopalian      &   4\\\\\n",
       "\t Welsh           & Christian         &   4\\\\\n",
       "\t Welsh           & Mormon            &   3\\\\\n",
       "\t European        & NA                &   2\\\\\n",
       "\t Irish; Scottish & NA                &   2\\\\\n",
       "\t Welsh           & Presbyterian      &   2\\\\\n",
       "\t Chinese         & NA                &   1\\\\\n",
       "\t English         & Mormon            &   1\\\\\n",
       "\t English         & Quaker            &   1\\\\\n",
       "\t Irish           & Catholic          &   1\\\\\n",
       "\t Welsh           & Baptist           &   1\\\\\n",
       "\t Welsh           & Congregationalist &   1\\\\\n",
       "\t NA              & NA                &   1\\\\\n",
       "\\end{tabular}\n"
      ],
      "text/markdown": [
       "\n",
       "A data.frame: 24 × 3\n",
       "\n",
       "| nationalOrigin &lt;fct&gt; | religionNew &lt;chr&gt; | n &lt;int&gt; |\n",
       "|---|---|---|\n",
       "| English         | Anglican          | 229 |\n",
       "| English         | Congregationalist | 134 |\n",
       "| Italian         | Catholic          |  55 |\n",
       "| Scottish        | NA                |  41 |\n",
       "| Irish           | NA                |  34 |\n",
       "| English         | NA                |  31 |\n",
       "| Scottish        | Presbyterian      |  31 |\n",
       "| Welsh           | NA                |  15 |\n",
       "| Irish; Scottish | Methodist         |  11 |\n",
       "| Irish; Scottish | Anglican          |   7 |\n",
       "| English         | Christian         |   5 |\n",
       "| English         | Episcopalian      |   4 |\n",
       "| Welsh           | Christian         |   4 |\n",
       "| Welsh           | Mormon            |   3 |\n",
       "| European        | NA                |   2 |\n",
       "| Irish; Scottish | NA                |   2 |\n",
       "| Welsh           | Presbyterian      |   2 |\n",
       "| Chinese         | NA                |   1 |\n",
       "| English         | Mormon            |   1 |\n",
       "| English         | Quaker            |   1 |\n",
       "| Irish           | Catholic          |   1 |\n",
       "| Welsh           | Baptist           |   1 |\n",
       "| Welsh           | Congregationalist |   1 |\n",
       "| NA              | NA                |   1 |\n",
       "\n"
      ],
      "text/plain": [
       "   nationalOrigin  religionNew       n  \n",
       "1  English         Anglican          229\n",
       "2  English         Congregationalist 134\n",
       "3  Italian         Catholic           55\n",
       "4  Scottish        NA                 41\n",
       "5  Irish           NA                 34\n",
       "6  English         NA                 31\n",
       "7  Scottish        Presbyterian       31\n",
       "8  Welsh           NA                 15\n",
       "9  Irish; Scottish Methodist          11\n",
       "10 Irish; Scottish Anglican            7\n",
       "11 English         Christian           5\n",
       "12 English         Episcopalian        4\n",
       "13 Welsh           Christian           4\n",
       "14 Welsh           Mormon              3\n",
       "15 European        NA                  2\n",
       "16 Irish; Scottish NA                  2\n",
       "17 Welsh           Presbyterian        2\n",
       "18 Chinese         NA                  1\n",
       "19 English         Mormon              1\n",
       "20 English         Quaker              1\n",
       "21 Irish           Catholic            1\n",
       "22 Welsh           Baptist             1\n",
       "23 Welsh           Congregationalist   1\n",
       "24 NA              NA                  1"
      ]
     },
     "metadata": {},
     "output_type": "display_data"
    }
   ],
   "source": [
    "# Now see how the culture variables shake out.\n",
    "letters %>% count(nationalOrigin, religionNew, sort = TRUE)"
   ]
  },
  {
   "cell_type": "code",
   "execution_count": 16,
   "id": "ac72694f",
   "metadata": {},
   "outputs": [],
   "source": [
    "# Create a new variable called \"relMin\" containing the values from religionNew\n",
    "letters$relMin <- as.character(letters$religionNew)"
   ]
  },
  {
   "cell_type": "code",
   "execution_count": 17,
   "id": "d21972f0",
   "metadata": {},
   "outputs": [
    {
     "data": {
      "text/plain": [
       "\n",
       "         Anglican           Baptist          Catholic         Christian \n",
       "              236                 1                56                 9 \n",
       "Congregationalist      Episcopalian         Methodist            Mormon \n",
       "              135                 4                11                 4 \n",
       "     Presbyterian            Quaker \n",
       "               33                 1 "
      ]
     },
     "metadata": {},
     "output_type": "display_data"
    },
    {
     "data": {
      "text/html": [
       "127"
      ],
      "text/latex": [
       "127"
      ],
      "text/markdown": [
       "127"
      ],
      "text/plain": [
       "[1] 127"
      ]
     },
     "metadata": {},
     "output_type": "display_data"
    }
   ],
   "source": [
    "table(letters$relMin)\n",
    "sum(is.na(letters$relMin))"
   ]
  },
  {
   "cell_type": "markdown",
   "id": "30630bea",
   "metadata": {},
   "source": [
    "The authors of the 9 letters in the Christian category were English (Kendalls) or Welsh (Roberts), which suggests that they were probably some form of Protestant. However, the information found online and in the letter text is not sufficient to make a determination about their religious minority status. \n",
    "\n",
    "https://www.findagrave.com/memorial/61420928/charlotte-kendall\n",
    "https://www.findagrave.com/memorial/61420867/joseph-kendall"
   ]
  },
  {
   "cell_type": "code",
   "execution_count": 18,
   "id": "fbab1182",
   "metadata": {},
   "outputs": [
    {
     "data": {
      "text/plain": [
       "   Mode   FALSE    TRUE    NA's \n",
       "logical     421      60     136 "
      ]
     },
     "metadata": {},
     "output_type": "display_data"
    }
   ],
   "source": [
    "# Is this group a religion minority, bearing in mind that Protestantism was\n",
    "# the dominant religion in the British Empire during the long 19th century\n",
    "letters$relMin[grep(\"Anglican\", letters$relMin)]  <- \"FALSE\"\n",
    "letters$relMin[grep(\"Congregationalist\", letters$relMin)]  <- \"FALSE\"\n",
    "letters$relMin[grep(\"Presbyterian\", letters$relMin)]  <- \"FALSE\"\n",
    "letters$relMin[grep(\"Baptist\", letters$relMin)]  <- \"FALSE\"\n",
    "letters$relMin[grep(\"Episcopalian\", letters$relMin)]  <- \"FALSE\"\n",
    "letters$relMin[grep(\"Quaker\", letters$relMin)]  <- \"FALSE\"\n",
    "# https://en.wikipedia.org/wiki/Quakers\n",
    "letters$relMin[grep(\"Catholic\", letters$relMin)]  <- \"TRUE\"\n",
    "letters$relMin[grep(\"Methodist\", letters$relMin)]  <- \"FALSE\"\n",
    "letters$relMin[grep(\"Christian\", letters$relMin)]  <- NA\n",
    "letters$relMin[grep(\"Mormon\", letters$relMin)]  <- \"TRUE\"\n",
    "# https://en.wikipedia.org/wiki/Mormons\n",
    "letters$relMin[grep(\"NA\", letters$relMin)]  <- NA\n",
    "letters$relMin <- as.logical(letters$relMin)\n",
    "summary(letters$relMin)"
   ]
  },
  {
   "cell_type": "code",
   "execution_count": 19,
   "id": "12f4edd7",
   "metadata": {},
   "outputs": [
    {
     "name": "stdout",
     "output_type": "stream",
     "text": [
      "Rows: 617\n",
      "Columns: 24\n",
      "$ docid                     \u001b[3m\u001b[90m<fct>\u001b[39m\u001b[23m S1019-D002, S1019-D004, S1019-D005, S1019-D0…\n",
      "$ sourcetitle               \u001b[3m\u001b[90m<fct>\u001b[39m\u001b[23m \"At the End of the Santa Fe Trail\", \"At the …\n",
      "$ docyear                   \u001b[3m\u001b[90m<int>\u001b[39m\u001b[23m 1872, 1872, 1872, 1872, 1873, 1873, 1873, 18…\n",
      "$ docmonth                  \u001b[3m\u001b[90m<int>\u001b[39m\u001b[23m 11, 12, 12, 12, 3, 7, 9, 6, 11, 6, 9, 12, 1,…\n",
      "$ docday                    \u001b[3m\u001b[90m<int>\u001b[39m\u001b[23m 30, 6, 10, 21, 1, NA, NA, 30, 14, NA, NA, 16…\n",
      "$ authorLocation            \u001b[3m\u001b[90m<fct>\u001b[39m\u001b[23m USA, USA, USA, USA, USA, USA, USA, USA, USA,…\n",
      "$ docauthorid               \u001b[3m\u001b[90m<fct>\u001b[39m\u001b[23m per0001043, per0001043, per0001043, per00010…\n",
      "$ docauthorname             \u001b[3m\u001b[90m<fct>\u001b[39m\u001b[23m \"Segale, Sister Blandina, 1850-1941\", \"Segal…\n",
      "$ authorgender              \u001b[3m\u001b[90m<fct>\u001b[39m\u001b[23m F, F, F, F, F, F, F, F, F, F, F, F, F, F, F,…\n",
      "$ agewriting                \u001b[3m\u001b[90m<int>\u001b[39m\u001b[23m 22, 22, 22, 22, 23, 23, 23, 24, 24, 26, 26, …\n",
      "$ birthyear                 \u001b[3m\u001b[90m<int>\u001b[39m\u001b[23m 1850, 1850, 1850, 1850, 1850, 1850, 1850, 18…\n",
      "$ deathyear                 \u001b[3m\u001b[90m<int>\u001b[39m\u001b[23m 1941, 1941, 1941, 1941, 1941, 1941, 1941, 19…\n",
      "$ religion                  \u001b[3m\u001b[90m<fct>\u001b[39m\u001b[23m Catholic; Christian, Catholic; Christian, Ca…\n",
      "$ cultural_heritage         \u001b[3m\u001b[90m<fct>\u001b[39m\u001b[23m Italian; European, Italian; European, Italia…\n",
      "$ north_american_occupation \u001b[3m\u001b[90m<fct>\u001b[39m\u001b[23m Nun; Social worker; Teacher, Nun; Social wor…\n",
      "$ native_occupation         \u001b[3m\u001b[90m<fct>\u001b[39m\u001b[23m NA, NA, NA, NA, NA, NA, NA, NA, NA, NA, NA, …\n",
      "$ marriagestatus            \u001b[3m\u001b[90m<fct>\u001b[39m\u001b[23m Single, Single, Single, Single, Single, Sing…\n",
      "$ maternalstatus            \u001b[3m\u001b[90m<fct>\u001b[39m\u001b[23m Childless, Childless, Childless, Childless, …\n",
      "$ nationalOrigin            \u001b[3m\u001b[90m<fct>\u001b[39m\u001b[23m Italian, Italian, Italian, Italian, Italian,…\n",
      "$ britishEmpire_EU          \u001b[3m\u001b[90m<lgl>\u001b[39m\u001b[23m FALSE, FALSE, FALSE, FALSE, FALSE, FALSE, FA…\n",
      "$ translated                \u001b[3m\u001b[90m<lgl>\u001b[39m\u001b[23m FALSE, FALSE, FALSE, FALSE, FALSE, FALSE, FA…\n",
      "$ publicLetter              \u001b[3m\u001b[90m<lgl>\u001b[39m\u001b[23m NA, NA, NA, NA, NA, NA, NA, NA, NA, NA, NA, …\n",
      "$ religionNew               \u001b[3m\u001b[90m<chr>\u001b[39m\u001b[23m \"Catholic\", \"Catholic\", \"Catholic\", \"Catholi…\n",
      "$ relMin                    \u001b[3m\u001b[90m<lgl>\u001b[39m\u001b[23m TRUE, TRUE, TRUE, TRUE, TRUE, TRUE, TRUE, TR…\n"
     ]
    }
   ],
   "source": [
    "glimpse(letters)"
   ]
  },
  {
   "cell_type": "code",
   "execution_count": 20,
   "id": "bc252e6c",
   "metadata": {},
   "outputs": [],
   "source": [
    "write.csv(letters, \n",
    "          \"20230218_AM_PhD-NaildohSubset.csv\", \n",
    "          row.names=FALSE)"
   ]
  }
 ],
 "metadata": {
  "kernelspec": {
   "display_name": "R",
   "language": "R",
   "name": "ir"
  },
  "language_info": {
   "codemirror_mode": "r",
   "file_extension": ".r",
   "mimetype": "text/x-r-source",
   "name": "R",
   "pygments_lexer": "r",
   "version": "4.1.0"
  }
 },
 "nbformat": 4,
 "nbformat_minor": 5
}
