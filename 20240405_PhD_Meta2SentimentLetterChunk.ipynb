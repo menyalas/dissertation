{
 "cells": [
  {
   "cell_type": "markdown",
   "metadata": {},
   "source": [
    "# Merge Datasets"
   ]
  },
  {
   "cell_type": "markdown",
   "metadata": {},
   "source": [
    "<h2>Packages</h2>"
   ]
  },
  {
   "cell_type": "code",
   "execution_count": 2,
   "metadata": {},
   "outputs": [],
   "source": [
    "library(tidyverse)"
   ]
  },
  {
   "cell_type": "markdown",
   "metadata": {},
   "source": [
    "<h2>Functions</h2>"
   ]
  },
  {
   "cell_type": "code",
   "execution_count": 3,
   "metadata": {},
   "outputs": [],
   "source": [
    "# Converts all factors to character class\n",
    "unfactorize <- function(df){\n",
    "  for(i in which(sapply(df, class) == \"factor\")) df[[i]] = as.character(df[[i]])\n",
    "  return(df)\n",
    "}"
   ]
  },
  {
   "cell_type": "code",
   "execution_count": 4,
   "metadata": {},
   "outputs": [],
   "source": [
    "# Converts character to factor class\n",
    "factorize <- function(df){\n",
    "  for(i in which(sapply(df, class) == \"character\")) df[[i]] = as.factor(df[[i]])\n",
    "  return(df)\n",
    "}"
   ]
  },
  {
   "cell_type": "markdown",
   "metadata": {},
   "source": [
    "<h2>Data</h2>"
   ]
  },
  {
   "cell_type": "code",
   "execution_count": 5,
   "metadata": {},
   "outputs": [],
   "source": [
    "# Load data related to authors and documents (metadata)\n",
    "dfMeta <- unfactorize(read.csv(\"20240405_PhD_NaildohSubset.csv\"))\n",
    "#glimpse(dfMeta)"
   ]
  },
  {
   "cell_type": "code",
   "execution_count": 6,
   "metadata": {},
   "outputs": [
    {
     "data": {
      "text/html": [
       "<style>\n",
       ".list-inline {list-style: none; margin:0; padding: 0}\n",
       ".list-inline>li {display: inline-block}\n",
       ".list-inline>li:not(:last-child)::after {content: \"\\00b7\"; padding: 0 .5ex}\n",
       "</style>\n",
       "<ol class=list-inline><li>'docauthorid'</li><li>'docauthorname'</li><li>'docid'</li><li>'docyear'</li><li>'docmonth'</li><li>'authorgender'</li><li>'agewriting'</li><li>'agedeath'</li><li>'relMin'</li><li>'nationalOrigin'</li><li>'authorLocation'</li><li>'U'</li><li>'M'</li><li>'S'</li><li>'F'</li><li>'L'</li></ol>\n"
      ],
      "text/latex": [
       "\\begin{enumerate*}\n",
       "\\item 'docauthorid'\n",
       "\\item 'docauthorname'\n",
       "\\item 'docid'\n",
       "\\item 'docyear'\n",
       "\\item 'docmonth'\n",
       "\\item 'authorgender'\n",
       "\\item 'agewriting'\n",
       "\\item 'agedeath'\n",
       "\\item 'relMin'\n",
       "\\item 'nationalOrigin'\n",
       "\\item 'authorLocation'\n",
       "\\item 'U'\n",
       "\\item 'M'\n",
       "\\item 'S'\n",
       "\\item 'F'\n",
       "\\item 'L'\n",
       "\\end{enumerate*}\n"
      ],
      "text/markdown": [
       "1. 'docauthorid'\n",
       "2. 'docauthorname'\n",
       "3. 'docid'\n",
       "4. 'docyear'\n",
       "5. 'docmonth'\n",
       "6. 'authorgender'\n",
       "7. 'agewriting'\n",
       "8. 'agedeath'\n",
       "9. 'relMin'\n",
       "10. 'nationalOrigin'\n",
       "11. 'authorLocation'\n",
       "12. 'U'\n",
       "13. 'M'\n",
       "14. 'S'\n",
       "15. 'F'\n",
       "16. 'L'\n",
       "\n",
       "\n"
      ],
      "text/plain": [
       " [1] \"docauthorid\"    \"docauthorname\"  \"docid\"          \"docyear\"       \n",
       " [5] \"docmonth\"       \"authorgender\"   \"agewriting\"     \"agedeath\"      \n",
       " [9] \"relMin\"         \"nationalOrigin\" \"authorLocation\" \"U\"             \n",
       "[13] \"M\"              \"S\"              \"F\"              \"L\"             "
      ]
     },
     "metadata": {},
     "output_type": "display_data"
    }
   ],
   "source": [
    "# Column names\n",
    "names(dfMeta)"
   ]
  },
  {
   "cell_type": "code",
   "execution_count": 7,
   "metadata": {},
   "outputs": [
    {
     "data": {
      "text/html": [
       "2270"
      ],
      "text/latex": [
       "2270"
      ],
      "text/markdown": [
       "2270"
      ],
      "text/plain": [
       "[1] 2270"
      ]
     },
     "metadata": {},
     "output_type": "display_data"
    }
   ],
   "source": [
    "# Load data related to authors and documents (metadata)\n",
    "dfNarrative <- unfactorize(read.csv(\"20240405_PhD_SentimentLetters-Chunks.csv\"))[-1]\n",
    "#head(dfNarrative)\n",
    "nrow(dfNarrative)"
   ]
  },
  {
   "cell_type": "code",
   "execution_count": 8,
   "metadata": {},
   "outputs": [
    {
     "data": {
      "text/html": [
       "TRUE"
      ],
      "text/latex": [
       "TRUE"
      ],
      "text/markdown": [
       "TRUE"
      ],
      "text/plain": [
       "[1] TRUE"
      ]
     },
     "metadata": {},
     "output_type": "display_data"
    }
   ],
   "source": [
    "# Are the values identical\n",
    "identical(unique(dfMeta$docid),unique(dfNarrative$docid))"
   ]
  },
  {
   "cell_type": "code",
   "execution_count": 9,
   "metadata": {},
   "outputs": [],
   "source": [
    "#Merge datasets\n",
    "df <- right_join(dfMeta, dfNarrative, by = 'docid')\n",
    "#glimpse(df)"
   ]
  },
  {
   "cell_type": "code",
   "execution_count": 10,
   "metadata": {},
   "outputs": [],
   "source": [
    "# Convert variables to factor\n",
    "vars  <- c(\"docauthorid\", \"docauthorname\", \"docid\", \"authorgender\", \"nationalOrigin\", \"authorLocation\")\n",
    "df[vars]  <- factorize(df[vars])"
   ]
  },
  {
   "cell_type": "code",
   "execution_count": 11,
   "metadata": {},
   "outputs": [
    {
     "name": "stdout",
     "output_type": "stream",
     "text": [
      "Rows: 2,270\n",
      "Columns: 27\n",
      "$ docauthorid      \u001b[3m\u001b[90m<fct>\u001b[39m\u001b[23m per0001043, per0001043, per0001043, per0001043, per00…\n",
      "$ docauthorname    \u001b[3m\u001b[90m<fct>\u001b[39m\u001b[23m \"Segale, Sister Blandina, 1850-1941\", \"Segale, Sister…\n",
      "$ docid            \u001b[3m\u001b[90m<fct>\u001b[39m\u001b[23m S1019-D002, S1019-D002, S1019-D002, S1019-D002, S1019…\n",
      "$ docyear          \u001b[3m\u001b[90m<int>\u001b[39m\u001b[23m 1872, 1872, 1872, 1872, 1872, 1872, 1872, 1872, 1872,…\n",
      "$ docmonth         \u001b[3m\u001b[90m<int>\u001b[39m\u001b[23m 11, 11, 11, 11, 11, 11, 11, 11, 11, 11, 11, 11, 12, 1…\n",
      "$ authorgender     \u001b[3m\u001b[90m<fct>\u001b[39m\u001b[23m F, F, F, F, F, F, F, F, F, F, F, F, F, F, F, F, F, F,…\n",
      "$ agewriting       \u001b[3m\u001b[90m<int>\u001b[39m\u001b[23m 22, 22, 22, 22, 22, 22, 22, 22, 22, 22, 22, 22, 22, 2…\n",
      "$ agedeath         \u001b[3m\u001b[90m<int>\u001b[39m\u001b[23m 91, 91, 91, 91, 91, 91, 91, 91, 91, 91, 91, 91, 91, 9…\n",
      "$ relMin           \u001b[3m\u001b[90m<lgl>\u001b[39m\u001b[23m TRUE, TRUE, TRUE, TRUE, TRUE, TRUE, TRUE, TRUE, TRUE,…\n",
      "$ nationalOrigin   \u001b[3m\u001b[90m<fct>\u001b[39m\u001b[23m Italian, Italian, Italian, Italian, Italian, Italian,…\n",
      "$ authorLocation   \u001b[3m\u001b[90m<fct>\u001b[39m\u001b[23m USA, USA, USA, USA, USA, USA, USA, USA, USA, USA, USA…\n",
      "$ U                \u001b[3m\u001b[90m<lgl>\u001b[39m\u001b[23m TRUE, TRUE, TRUE, TRUE, TRUE, TRUE, TRUE, TRUE, TRUE,…\n",
      "$ M                \u001b[3m\u001b[90m<lgl>\u001b[39m\u001b[23m TRUE, TRUE, TRUE, TRUE, TRUE, TRUE, TRUE, TRUE, TRUE,…\n",
      "$ S                \u001b[3m\u001b[90m<lgl>\u001b[39m\u001b[23m FALSE, FALSE, FALSE, FALSE, FALSE, FALSE, FALSE, FALS…\n",
      "$ F                \u001b[3m\u001b[90m<lgl>\u001b[39m\u001b[23m FALSE, FALSE, FALSE, FALSE, FALSE, FALSE, FALSE, FALS…\n",
      "$ L                \u001b[3m\u001b[90m<lgl>\u001b[39m\u001b[23m FALSE, FALSE, FALSE, FALSE, FALSE, FALSE, FALSE, FALS…\n",
      "$ text             \u001b[3m\u001b[90m<chr>\u001b[39m\u001b[23m \"TRINIDAD On Train from Steubenville Ohio to Cincinna…\n",
      "$ sequence         \u001b[3m\u001b[90m<dbl>\u001b[39m\u001b[23m 1, 2, 3, 4, 5, 6, 7, 8, 9, 10, 11, 12, 1, 2, 3, 4, 5,…\n",
      "$ scoreNeg         \u001b[3m\u001b[90m<dbl>\u001b[39m\u001b[23m 0.040, 0.016, 0.028, 0.045, 0.041, 0.038, 0.068, 0.04…\n",
      "$ scorePos         \u001b[3m\u001b[90m<dbl>\u001b[39m\u001b[23m 0.086, 0.036, 0.084, 0.104, 0.068, 0.063, 0.087, 0.11…\n",
      "$ scoreNeu         \u001b[3m\u001b[90m<dbl>\u001b[39m\u001b[23m 0.874, 0.947, 0.888, 0.851, 0.891, 0.899, 0.845, 0.83…\n",
      "$ scoreCompound    \u001b[3m\u001b[90m<dbl>\u001b[39m\u001b[23m 0.8699, 0.4284, 0.9235, 0.8737, 0.2516, 0.0764, -0.73…\n",
      "$ totalTokens      \u001b[3m\u001b[90m<dbl>\u001b[39m\u001b[23m 246, 260, 264, 277, 266, 260, 256, 259, 264, 269, 265…\n",
      "$ uniqueTokens     \u001b[3m\u001b[90m<dbl>\u001b[39m\u001b[23m 156, 161, 164, 169, 157, 163, 163, 176, 172, 168, 157…\n",
      "$ lexicalDiversity \u001b[3m\u001b[90m<dbl>\u001b[39m\u001b[23m 0.6341463, 0.6192308, 0.6212121, 0.6101083, 0.5902256…\n",
      "$ chunks           \u001b[3m\u001b[90m<int>\u001b[39m\u001b[23m 12, 12, 12, 12, 12, 12, 12, 12, 12, 12, 12, 12, 14, 1…\n",
      "$ position         \u001b[3m\u001b[90m<dbl>\u001b[39m\u001b[23m 0.08333333, 0.16666667, 0.25000000, 0.33333333, 0.416…\n"
     ]
    }
   ],
   "source": [
    "# Check classes\n",
    "# lapply(df, class)\n",
    "# summary(df)\n",
    "glimpse(df)"
   ]
  },
  {
   "cell_type": "code",
   "execution_count": 12,
   "metadata": {},
   "outputs": [],
   "source": [
    "write.csv(df, \"20240405_PhD_Data4TopicModel-LetterChunk.csv\")"
   ]
  }
 ],
 "metadata": {
  "kernelspec": {
   "display_name": "R",
   "language": "R",
   "name": "ir"
  },
  "language_info": {
   "codemirror_mode": "r",
   "file_extension": ".r",
   "mimetype": "text/x-r-source",
   "name": "R",
   "pygments_lexer": "r",
   "version": "4.1.0"
  }
 },
 "nbformat": 4,
 "nbformat_minor": 2
}
