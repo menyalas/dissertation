{
 "cells": [
  {
   "cell_type": "markdown",
   "metadata": {},
   "source": [
    "## Topic Model Diary Chunk Prep"
   ]
  },
  {
   "cell_type": "markdown",
   "metadata": {},
   "source": [
    "## Resources"
   ]
  },
  {
   "cell_type": "code",
   "execution_count": 2,
   "metadata": {},
   "outputs": [],
   "source": [
    "# Packages\n",
    "import pandas as pd\n",
    "import gensim\n",
    "import gensim.corpora as corpora\n",
    "import numpy as np\n",
    "#from gensim.utils import simple_preprocess\n",
    "import spacy\n",
    "import pickle\n",
    "from collections import Counter\n",
    "from matplotlib import pyplot as plt"
   ]
  },
  {
   "cell_type": "code",
   "execution_count": 3,
   "metadata": {},
   "outputs": [],
   "source": [
    "# Functions for lemmatization and conversion of texts into list of lowercase tokens\n",
    "\n",
    "def lemmatization(texts, allowed_postags=['NOUN', 'VERB']):\n",
    "    \"\"\"https://spacy.io/api/annotation\"\"\"\n",
    "    texts_out = []\n",
    "    for sent in texts:\n",
    "        doc = nlp(\" \".join(sent)) \n",
    "        texts_out.append([token.lemma_ for token in doc if token.pos_ in allowed_postags])\n",
    "    return texts_out\n",
    "\n",
    "def text_to_words(texts):\n",
    "    for text in texts:\n",
    "        yield(gensim.utils.simple_preprocess(str(text), \n",
    "                                             deacc=True, # removes accents\n",
    "                                             min_len=3))   # removes tokens shorter than three characters"
   ]
  },
  {
   "cell_type": "code",
   "execution_count": 4,
   "metadata": {},
   "outputs": [],
   "source": [
    "# Initialize spacy 'en' model\n",
    "# python3 -m spacy download en_core_web_md\n",
    "nlp = spacy.load('en_core_web_md')"
   ]
  },
  {
   "cell_type": "markdown",
   "metadata": {},
   "source": [
    "## Get Data"
   ]
  },
  {
   "cell_type": "code",
   "execution_count": 243,
   "metadata": {
    "scrolled": true
   },
   "outputs": [
    {
     "name": "stdout",
     "output_type": "stream",
     "text": [
      "<class 'pandas.core.frame.DataFrame'>\n",
      "RangeIndex: 1023 entries, 0 to 1022\n",
      "Data columns (total 30 columns):\n",
      " #   Column            Non-Null Count  Dtype  \n",
      "---  ------            --------------  -----  \n",
      " 0   docID-AT          1023 non-null   int64  \n",
      " 1   docid             1023 non-null   object \n",
      " 2   docyear           1023 non-null   int64  \n",
      " 3   docmonth          0 non-null      float64\n",
      " 4   authorName        1023 non-null   object \n",
      " 5   docauthorid       1023 non-null   object \n",
      " 6   authorLocation    1023 non-null   object \n",
      " 7   authorGender      1023 non-null   object \n",
      " 8   nationalOrigin    921 non-null    object \n",
      " 9   irish             921 non-null    object \n",
      " 10  otherUK           921 non-null    object \n",
      " 11  relMin            1023 non-null   bool   \n",
      " 12  catholic          1023 non-null   bool   \n",
      " 13  otherChristian    1023 non-null   bool   \n",
      " 14  U                 1023 non-null   bool   \n",
      " 15  M                 1023 non-null   bool   \n",
      " 16  S                 1023 non-null   bool   \n",
      " 17  F                 1023 non-null   bool   \n",
      " 18  L                 1023 non-null   bool   \n",
      " 19  text              1023 non-null   object \n",
      " 20  sequence          1023 non-null   int64  \n",
      " 21  totalTokens       1023 non-null   int64  \n",
      " 22  uniqueTokens      1023 non-null   int64  \n",
      " 23  lexicalDiversity  1023 non-null   float64\n",
      " 24  scoreNeg          1023 non-null   float64\n",
      " 25  scoreNeu          1023 non-null   float64\n",
      " 26  scorePos          1023 non-null   float64\n",
      " 27  scoreCom          1023 non-null   float64\n",
      " 28  chunks            1023 non-null   int64  \n",
      " 29  position          1023 non-null   float64\n",
      "dtypes: bool(8), float64(7), int64(6), object(9)\n",
      "memory usage: 183.9+ KB\n"
     ]
    }
   ],
   "source": [
    "# Narratives\n",
    "df = pd.read_csv(\"20240701_PhD_Data4TopicModel-DiaryChunk.csv\") \n",
    "df = df.rename(columns={'Unnamed: 0':'docID-AT'}) # Change column name to \"docID-AT\"\n",
    "df.info()"
   ]
  },
  {
   "cell_type": "code",
   "execution_count": 6,
   "metadata": {},
   "outputs": [
    {
     "name": "stdout",
     "output_type": "stream",
     "text": [
      "Charra Wednesday Nov 4th 1883 A nice cool day Mrs Roberts and I were talking nearly the whole night feel very tired today Tom left just after breakfast for Mr Hiern's Station he will not be back until Sunday or Monday he is talking of going out to the new Tanks over 100 miles from here if he can make sure of getting water I Darned up the socks and Stockings I had with me and cut out some under clothes. Charra Thursday Nov 8th North wind first thing this morning with heavy thunder but only a few drops of rain I was so sleepy did not get up till very late had been hand sewing which is very tiresome My throat keep very sore still the Cold has not nearly left one Worrier ill with cold our Black Boy Charra Friday Nov 9th We have had thunder and lightning with a little rain off and on all day I have been sewing all day but Mrs Roberts keeps me talking after going to bed till all hours of the night so that I can't get up in the morning have had a head ache all day from want of rest and sitting too close. Young Jeff Miller and Jimmy Roberts here tonight they are on the road to Mercaney with sheep what a torment Mrs Roberts is to the Children she rubbed grease on a plate then smoked it black over a Candle and marked the Boys faces after they were asleep drinking so much tea kills me I must leave it off Charra Saturday nov 10th We had more rain and thunder this\n"
     ]
    }
   ],
   "source": [
    "# Convert values in text to list of strings (objects)\n",
    "data = df.text.values.tolist()\n",
    "print(data[0])"
   ]
  },
  {
   "cell_type": "markdown",
   "metadata": {},
   "source": [
    "## Tokenize"
   ]
  },
  {
   "cell_type": "code",
   "execution_count": 7,
   "metadata": {},
   "outputs": [
    {
     "name": "stdout",
     "output_type": "stream",
     "text": [
      "['charra', 'wednesday', 'nov', 'nice', 'cool', 'day', 'mrs', 'roberts', 'and', 'were', 'talking', 'nearly', 'the', 'whole', 'night', 'feel', 'very', 'tired', 'today', 'tom', 'left', 'just', 'after', 'breakfast', 'for', 'hiern', 'station', 'will', 'not', 'back', 'until', 'sunday', 'monday', 'talking', 'going', 'out', 'the', 'new', 'tanks', 'over', 'miles', 'from', 'here', 'can', 'make', 'sure', 'getting', 'water', 'darned', 'the', 'socks', 'and', 'stockings', 'had', 'with', 'and', 'cut', 'out', 'some', 'under', 'clothes', 'charra', 'thursday', 'nov', 'north', 'wind', 'first', 'thing', 'this', 'morning', 'with', 'heavy', 'thunder', 'but', 'only', 'few', 'drops', 'rain', 'was', 'sleepy', 'did', 'not', 'get', 'till', 'very', 'late', 'had', 'been', 'hand', 'sewing', 'which', 'very', 'tiresome', 'throat', 'keep', 'very', 'sore', 'still', 'the', 'cold', 'has', 'not', 'nearly', 'left', 'one', 'worrier', 'ill', 'with', 'cold', 'our', 'black', 'boy', 'charra', 'friday', 'nov', 'have', 'had', 'thunder', 'and', 'lightning', 'with', 'little', 'rain', 'off', 'and', 'all', 'day', 'have', 'been', 'sewing', 'all', 'day', 'but', 'mrs', 'roberts', 'keeps', 'talking', 'after', 'going', 'bed', 'till', 'all', 'hours', 'the', 'night', 'that', 'can', 'get', 'the', 'morning', 'have', 'had', 'head', 'ache', 'all', 'day', 'from', 'want', 'rest', 'and', 'sitting', 'too', 'close', 'young', 'jeff', 'miller', 'and', 'jimmy', 'roberts', 'here', 'tonight', 'they', 'are', 'the', 'road', 'mercaney', 'with', 'sheep', 'what', 'torment', 'mrs', 'roberts', 'the', 'children', 'she', 'rubbed', 'grease', 'plate', 'then', 'smoked', 'black', 'over', 'candle', 'and', 'marked', 'the', 'boys', 'faces', 'after', 'they', 'were', 'asleep', 'drinking', 'much', 'tea', 'kills', 'must', 'leave', 'off', 'charra', 'saturday', 'nov', 'had', 'more', 'rain', 'and', 'thunder', 'this']\n"
     ]
    }
   ],
   "source": [
    "# Convert to tokens\n",
    "data_words = list(text_to_words(data))\n",
    "print(data_words[0])"
   ]
  },
  {
   "cell_type": "markdown",
   "metadata": {},
   "source": [
    "## Lemmatize"
   ]
  },
  {
   "cell_type": "code",
   "execution_count": 8,
   "metadata": {
    "scrolled": false
   },
   "outputs": [
    {
     "name": "stdout",
     "output_type": "stream",
     "text": [
      "['day', 'talk', 'night', 'feel', 'today', 'leave', 'breakfast', 'hiern', 'station', 'back', 'talk', 'go', 'tank', 'mile', 'make', 'get', 'water', 'darn', 'sock', 'stocking', 'have', 'cut', 'clothe', 'charra', 'wind', 'thing', 'morning', 'thunder', 'drop', 'rain', 'get', 'hand', 'sewing', 'throat', 'keep', 'cold', 'leave', 'worrier', 'boy', 'have', 'thunder', 'lightning', 'rain', 'day', 'sew', 'day', 'keep', 'talk', 'go', 'bed', 'hour', 'night', 'get', 'morning', 'have', 'head', 'ache', 'day', 'want', 'rest', 'sit', 'tonight', 'road', 'mercaney', 'sheep', 'torment', 'child', 'rub', 'grease', 'plate', 'smoke', 'candle', 'mark', 'boy', 'face', 'drink', 'tea', 'kill', 'leave', 'have', 'rain', 'thunder']\n"
     ]
    }
   ],
   "source": [
    "# Do lemmatization keeping nouns and verbs\n",
    "data_lemmatized = lemmatization(data_words)\n",
    "print(data_lemmatized[0])"
   ]
  },
  {
   "cell_type": "code",
   "execution_count": 9,
   "metadata": {},
   "outputs": [
    {
     "data": {
      "text/plain": [
       "7065"
      ]
     },
     "execution_count": 9,
     "metadata": {},
     "output_type": "execute_result"
    }
   ],
   "source": [
    "counts = Counter(x for sublist in data_lemmatized for x in sublist)\n",
    "len(Counter(counts))"
   ]
  },
  {
   "cell_type": "code",
   "execution_count": 10,
   "metadata": {},
   "outputs": [
    {
     "name": "stdout",
     "output_type": "stream",
     "text": [
      "['day', 'night', 'today', 'breakfast', 'hiern', 'station', 'tank', 'mile', 'water', 'sock', 'stocking', 'clothe', 'wind', 'thing', 'morning', 'thunder', 'drop', 'rain', 'hand', 'sewing', 'throat', 'cold', 'worrier', 'boy', 'thunder', 'lightning', 'rain', 'day', 'day', 'bed', 'hour', 'night', 'morning', 'head', 'ache', 'day', 'rest', 'tonight', 'road', 'mercaney', 'sheep', 'torment', 'child', 'grease', 'plate', 'candle', 'boy', 'tea', 'kill', 'rain', 'thunder']\n"
     ]
    }
   ],
   "source": [
    "# Do lemmatization keeping only nouns\n",
    "data_lemmatizedNouns = lemmatization(data_words, allowed_postags=['NOUN'])\n",
    "print(data_lemmatizedNouns[0])"
   ]
  },
  {
   "cell_type": "code",
   "execution_count": 11,
   "metadata": {},
   "outputs": [
    {
     "data": {
      "text/plain": [
       "5550"
      ]
     },
     "execution_count": 11,
     "metadata": {},
     "output_type": "execute_result"
    }
   ],
   "source": [
    "countsNouns = Counter(x for sublist in data_lemmatizedNouns for x in sublist)\n",
    "len(Counter(countsNouns))"
   ]
  },
  {
   "cell_type": "markdown",
   "metadata": {},
   "source": [
    "## Low and High Frequency Word Removal"
   ]
  },
  {
   "cell_type": "markdown",
   "metadata": {},
   "source": [
    "no_above means not used by more than x % of documents (or in other words, may be used in up to x % of the corpus). Thus, 50% is more permissive (i.e., keeps more words) than 25%."
   ]
  },
  {
   "cell_type": "code",
   "execution_count": 199,
   "metadata": {},
   "outputs": [
    {
     "data": {
      "text/plain": [
       "4732"
      ]
     },
     "execution_count": 199,
     "metadata": {},
     "output_type": "execute_result"
    }
   ],
   "source": [
    "## First the unlemmatized set\n",
    "dctRaw = corpora.Dictionary(data_words)\n",
    "dctRaw.filter_extremes(no_below=3, no_above=.37) \n",
    "len(dctRaw)"
   ]
  },
  {
   "cell_type": "code",
   "execution_count": 200,
   "metadata": {},
   "outputs": [
    {
     "data": {
      "text/plain": [
       "1023"
      ]
     },
     "execution_count": 200,
     "metadata": {},
     "output_type": "execute_result"
    }
   ],
   "source": [
    "corpusRaw = [dctRaw.doc2bow(doc) for doc in data_words]\n",
    "len(corpusRaw)"
   ]
  },
  {
   "cell_type": "code",
   "execution_count": 201,
   "metadata": {},
   "outputs": [
    {
     "data": {
      "text/plain": [
       "2563"
      ]
     },
     "execution_count": 201,
     "metadata": {},
     "output_type": "execute_result"
    }
   ],
   "source": [
    "## Now lemmatized with only nouns and verbs\n",
    "\n",
    "dct = corpora.Dictionary(data_lemmatized)\n",
    "dct.filter_extremes(no_below=3, no_above=.37)\n",
    "len(dct)"
   ]
  },
  {
   "cell_type": "code",
   "execution_count": 202,
   "metadata": {},
   "outputs": [
    {
     "data": {
      "text/plain": [
       "1023"
      ]
     },
     "execution_count": 202,
     "metadata": {},
     "output_type": "execute_result"
    }
   ],
   "source": [
    "corpus = [dct.doc2bow(doc) for doc in data_lemmatized]\n",
    "len(corpus)"
   ]
  },
  {
   "cell_type": "code",
   "execution_count": 203,
   "metadata": {},
   "outputs": [
    {
     "data": {
      "text/plain": [
       "2019"
      ]
     },
     "execution_count": 203,
     "metadata": {},
     "output_type": "execute_result"
    }
   ],
   "source": [
    "## Now lemmatized with only nouns\n",
    "\n",
    "dctNouns = corpora.Dictionary(data_lemmatizedNouns)\n",
    "dctNouns.filter_extremes(no_below=3, no_above=.37)\n",
    "len(dctNouns)"
   ]
  },
  {
   "cell_type": "code",
   "execution_count": 204,
   "metadata": {},
   "outputs": [
    {
     "data": {
      "text/plain": [
       "1023"
      ]
     },
     "execution_count": 204,
     "metadata": {},
     "output_type": "execute_result"
    }
   ],
   "source": [
    "corpusNouns = [dctNouns.doc2bow(doc) for doc in data_lemmatizedNouns]\n",
    "len(corpusNouns)"
   ]
  },
  {
   "cell_type": "markdown",
   "metadata": {},
   "source": [
    "## Evaluation"
   ]
  },
  {
   "cell_type": "markdown",
   "metadata": {},
   "source": [
    "### Before High Frequency Word Removal"
   ]
  },
  {
   "cell_type": "code",
   "execution_count": 213,
   "metadata": {},
   "outputs": [
    {
     "name": "stdout",
     "output_type": "stream",
     "text": [
      "241\n",
      "81\n",
      "204.55327468230695\n"
     ]
    },
    {
     "data": {
      "text/plain": [
       "548"
      ]
     },
     "execution_count": 213,
     "metadata": {},
     "output_type": "execute_result"
    }
   ],
   "source": [
    "# First unlemmatized set\n",
    "lengthsRaw = []\n",
    "\n",
    "for x in data_words:\n",
    "    lengthsRaw.append(len(x))\n",
    "\n",
    "print(max(lengthsRaw))\n",
    "print(min(lengthsRaw))\n",
    "print(sum(lengthsRaw)/len(lengthsRaw))\n",
    "\n",
    "# Let's have a look at the shortest text\n",
    "# What one is it?\n",
    "min(range(len(lengthsRaw)), key=lengthsRaw.__getitem__)"
   ]
  },
  {
   "cell_type": "code",
   "execution_count": 214,
   "metadata": {},
   "outputs": [
    {
     "data": {
      "image/png": "[encoded data removed]",
      "text/plain": [
       "<Figure size 432x288 with 1 Axes>"
      ]
     },
     "metadata": {
      "needs_background": "light"
     },
     "output_type": "display_data"
    }
   ],
   "source": [
    "# See the distribution\n",
    "plt.hist(lengthsRaw, 10)\n",
    "plt.show()"
   ]
  },
  {
   "cell_type": "code",
   "execution_count": 215,
   "metadata": {},
   "outputs": [
    {
     "name": "stdout",
     "output_type": "stream",
     "text": [
      "and then we put in and made the boat fast took the things ashore and pitched the tent had some dinner on the ground and then went out roo shooting. we saw a few kangaroos but could not get a shot at one . Returned about sundown and found that our native guide who had been out in his canoe looking for swan eggs and been fortunate enough to catch two swans and also two musk ducks he was eating one of the ducks when we got back. 1862 June 7th Saturday Flora had 4 pups no good.\n",
      "\n",
      "['and', 'then', 'put', 'and', 'made', 'the', 'boat', 'fast', 'took', 'the', 'things', 'ashore', 'and', 'pitched', 'the', 'tent', 'had', 'some', 'dinner', 'the', 'ground', 'and', 'then', 'went', 'out', 'roo', 'shooting', 'saw', 'few', 'kangaroos', 'but', 'could', 'not', 'get', 'shot', 'one', 'returned', 'about', 'sundown', 'and', 'found', 'that', 'our', 'native', 'guide', 'who', 'had', 'been', 'out', 'his', 'canoe', 'looking', 'for', 'swan', 'eggs', 'and', 'been', 'fortunate', 'enough', 'catch', 'two', 'swans', 'and', 'also', 'two', 'musk', 'ducks', 'was', 'eating', 'one', 'the', 'ducks', 'when', 'got', 'back', 'june', 'saturday', 'flora', 'had', 'pups', 'good']\n"
     ]
    }
   ],
   "source": [
    "print(df['text'][548])\n",
    "print(\"\")\n",
    "print(data_words[548])"
   ]
  },
  {
   "cell_type": "code",
   "execution_count": 216,
   "metadata": {},
   "outputs": [
    {
     "name": "stdout",
     "output_type": "stream",
     "text": [
      "112\n",
      "32\n",
      "87.48387096774194\n"
     ]
    },
    {
     "data": {
      "text/plain": [
       "548"
      ]
     },
     "execution_count": 216,
     "metadata": {},
     "output_type": "execute_result"
    }
   ],
   "source": [
    "# Now the lemmatized noun-verb set\n",
    "lengths = []\n",
    "\n",
    "for x in data_lemmatized:\n",
    "    lengths.append(len(x))\n",
    "\n",
    "print(max(lengths))\n",
    "print(min(lengths))\n",
    "print(sum(lengths)/len(lengths))\n",
    "\n",
    "# Let's have a look at the shortest text\n",
    "# What one is it?\n",
    "min(range(len(lengths)), key=lengths.__getitem__)"
   ]
  },
  {
   "cell_type": "code",
   "execution_count": 217,
   "metadata": {},
   "outputs": [
    {
     "data": {
      "image/png": "[encoded data removed]",
      "text/plain": [
       "<Figure size 432x288 with 1 Axes>"
      ]
     },
     "metadata": {
      "needs_background": "light"
     },
     "output_type": "display_data"
    }
   ],
   "source": [
    "plt.hist(lengths, 10)\n",
    "plt.show()"
   ]
  },
  {
   "cell_type": "code",
   "execution_count": 218,
   "metadata": {},
   "outputs": [
    {
     "name": "stdout",
     "output_type": "stream",
     "text": [
      "and then we put in and made the boat fast took the things ashore and pitched the tent had some dinner on the ground and then went out roo shooting. we saw a few kangaroos but could not get a shot at one . Returned about sundown and found that our native guide who had been out in his canoe looking for swan eggs and been fortunate enough to catch two swans and also two musk ducks he was eating one of the ducks when we got back. 1862 June 7th Saturday Flora had 4 pups no good.\n",
      "\n",
      "['put', 'make', 'boat', 'take', 'thing', 'pitch', 'tent', 'have', 'dinner', 'ground', 'go', 'shooting', 'see', 'kangaroo', 'shoot', 'return', 'sundown', 'find', 'guide', 'canoe', 'look', 'swan', 'egg', 'catch', 'swan', 'musk', 'duck', 'eat', 'duck', 'get', 'have', 'pup']\n"
     ]
    }
   ],
   "source": [
    "print(df['text'][548])\n",
    "print(\"\")\n",
    "print(data_lemmatized[548])"
   ]
  },
  {
   "cell_type": "code",
   "execution_count": 219,
   "metadata": {},
   "outputs": [
    {
     "name": "stdout",
     "output_type": "stream",
     "text": [
      "72\n",
      "17\n",
      "51.09286412512219\n"
     ]
    },
    {
     "data": {
      "text/plain": [
       "548"
      ]
     },
     "execution_count": 219,
     "metadata": {},
     "output_type": "execute_result"
    }
   ],
   "source": [
    "lengthsNouns = []\n",
    "\n",
    "for x in data_lemmatizedNouns:\n",
    "    lengthsNouns.append(len(x))\n",
    "\n",
    "print(max(lengthsNouns))\n",
    "print(min(lengthsNouns))\n",
    "print(sum(lengthsNouns)/len(lengthsNouns))\n",
    "\n",
    "# Let's have a look at the shortest text\n",
    "# What one is it?\n",
    "min(range(len(lengthsNouns)), key=lengthsNouns.__getitem__)"
   ]
  },
  {
   "cell_type": "code",
   "execution_count": 220,
   "metadata": {},
   "outputs": [
    {
     "data": {
      "image/png": "[encoded data removed]",
      "text/plain": [
       "<Figure size 432x288 with 1 Axes>"
      ]
     },
     "metadata": {
      "needs_background": "light"
     },
     "output_type": "display_data"
    }
   ],
   "source": [
    "plt.hist(lengthsNouns, 10)\n",
    "plt.show()"
   ]
  },
  {
   "cell_type": "code",
   "execution_count": 221,
   "metadata": {},
   "outputs": [
    {
     "name": "stdout",
     "output_type": "stream",
     "text": [
      "and then we put in and made the boat fast took the things ashore and pitched the tent had some dinner on the ground and then went out roo shooting. we saw a few kangaroos but could not get a shot at one . Returned about sundown and found that our native guide who had been out in his canoe looking for swan eggs and been fortunate enough to catch two swans and also two musk ducks he was eating one of the ducks when we got back. 1862 June 7th Saturday Flora had 4 pups no good.\n",
      "\n",
      "['boat', 'thing', 'tent', 'dinner', 'ground', 'shooting', 'kangaroo', 'sundown', 'guide', 'canoe', 'swan', 'egg', 'swan', 'musk', 'duck', 'duck', 'pup']\n"
     ]
    }
   ],
   "source": [
    "print(df['text'][548])\n",
    "print(\"\")\n",
    "print(data_lemmatizedNouns[548])"
   ]
  },
  {
   "cell_type": "markdown",
   "metadata": {},
   "source": [
    "### After high-frequency word removal"
   ]
  },
  {
   "cell_type": "code",
   "execution_count": 222,
   "metadata": {},
   "outputs": [
    {
     "name": "stdout",
     "output_type": "stream",
     "text": [
      "118\n",
      "37\n",
      "93.79276637341154\n"
     ]
    },
    {
     "data": {
      "text/plain": [
       "548"
      ]
     },
     "execution_count": 222,
     "metadata": {},
     "output_type": "execute_result"
    }
   ],
   "source": [
    "lengthsRaw = []\n",
    "\n",
    "for x in corpusRaw:\n",
    "    lengthsRaw.append(len(x))\n",
    "\n",
    "print(max(lengthsRaw))\n",
    "print(min(lengthsRaw))\n",
    "print(sum(lengthsRaw)/len(lengthsRaw))\n",
    "\n",
    "# Let's have a look at the shortest text\n",
    "# What one is it?\n",
    "min(range(len(lengthsRaw)), key=lengthsRaw.__getitem__)"
   ]
  },
  {
   "cell_type": "code",
   "execution_count": 223,
   "metadata": {},
   "outputs": [
    {
     "data": {
      "image/png": "[encoded data removed]",
      "text/plain": [
       "<Figure size 432x288 with 1 Axes>"
      ]
     },
     "metadata": {
      "needs_background": "light"
     },
     "output_type": "display_data"
    }
   ],
   "source": [
    "plt.hist(lengthsRaw, 10)\n",
    "plt.show()"
   ]
  },
  {
   "cell_type": "code",
   "execution_count": 224,
   "metadata": {},
   "outputs": [
    {
     "name": "stdout",
     "output_type": "stream",
     "text": [
      "['back', 'few', 'our', 'saturday', 'two', 'also', 'made', 'fast', 'saw', 'tent', 'enough', 'found', 'put', 'catch', 'took', 'returned', 'things', 'looking', 'who', 'pups', 'eggs', 'boat', 'ground', 'eating', 'swans', 'june', 'sundown', 'ducks', 'swan', 'native', 'ashore', 'shot', 'shooting', 'kangaroos', 'flora', 'pitched', 'guide']\n"
     ]
    },
    {
     "data": {
      "text/plain": [
       "37"
      ]
     },
     "execution_count": 224,
     "metadata": {},
     "output_type": "execute_result"
    }
   ],
   "source": [
    "idsRaw = [i[0] for i in corpusRaw[548]]\n",
    "\n",
    "tokensRaw = []\n",
    "for id in idsRaw:\n",
    "    x = dctRaw.get(id)\n",
    "    tokensRaw.append(x)\n",
    "print(tokensRaw)\n",
    "\n",
    "len(tokensRaw)"
   ]
  },
  {
   "cell_type": "code",
   "execution_count": 225,
   "metadata": {},
   "outputs": [
    {
     "name": "stdout",
     "output_type": "stream",
     "text": [
      "75\n",
      "20\n",
      "51.283479960899314\n"
     ]
    },
    {
     "data": {
      "text/plain": [
       "548"
      ]
     },
     "execution_count": 225,
     "metadata": {},
     "output_type": "execute_result"
    }
   ],
   "source": [
    "lengths = []\n",
    "\n",
    "for x in corpus:\n",
    "    lengths.append(len(x))\n",
    "\n",
    "print(max(lengths))\n",
    "print(min(lengths))\n",
    "print(sum(lengths)/len(lengths))\n",
    "\n",
    "# Let's have a look at the shortest text\n",
    "# What one is it?\n",
    "min(range(len(lengths)), key=lengths.__getitem__)"
   ]
  },
  {
   "cell_type": "code",
   "execution_count": 226,
   "metadata": {},
   "outputs": [
    {
     "data": {
      "image/png": "[encoded data removed]",
      "text/plain": [
       "<Figure size 432x288 with 1 Axes>"
      ]
     },
     "metadata": {
      "needs_background": "light"
     },
     "output_type": "display_data"
    }
   ],
   "source": [
    "plt.hist(lengths, 10)\n",
    "plt.show()"
   ]
  },
  {
   "cell_type": "code",
   "execution_count": 227,
   "metadata": {},
   "outputs": [
    {
     "name": "stdout",
     "output_type": "stream",
     "text": [
      "['thing', 'look', 'eat', 'tent', 'find', 'put', 'catch', 'return', 'pup', 'egg', 'boat', 'ground', 'shoot', 'sundown', 'duck', 'swan', 'shooting', 'kangaroo', 'pitch', 'guide']\n"
     ]
    },
    {
     "data": {
      "text/plain": [
       "20"
      ]
     },
     "execution_count": 227,
     "metadata": {},
     "output_type": "execute_result"
    }
   ],
   "source": [
    "ids = [i[0] for i in corpus[548]]\n",
    "\n",
    "tokens = []\n",
    "for id in ids:\n",
    "    x = dct.get(id)\n",
    "    tokens.append(x)\n",
    "print(tokens)\n",
    "\n",
    "len(tokens)"
   ]
  },
  {
   "cell_type": "code",
   "execution_count": 228,
   "metadata": {},
   "outputs": [
    {
     "name": "stdout",
     "output_type": "stream",
     "text": [
      "52\n",
      "11\n",
      "33.03519061583578\n"
     ]
    },
    {
     "data": {
      "text/plain": [
       "548"
      ]
     },
     "execution_count": 228,
     "metadata": {},
     "output_type": "execute_result"
    }
   ],
   "source": [
    "lengthsNouns = []\n",
    "\n",
    "for x in corpusNouns:\n",
    "    lengthsNouns.append(len(x))\n",
    "\n",
    "print(max(lengthsNouns))\n",
    "print(min(lengthsNouns))\n",
    "print(sum(lengthsNouns)/len(lengthsNouns))\n",
    "\n",
    "# Let's have a look at the shortest text\n",
    "# What one is it?\n",
    "min(range(len(lengthsNouns)), key=lengthsNouns.__getitem__)"
   ]
  },
  {
   "cell_type": "code",
   "execution_count": 229,
   "metadata": {},
   "outputs": [
    {
     "name": "stdout",
     "output_type": "stream",
     "text": [
      "['thing', 'tent', 'pup', 'egg', 'boat', 'ground', 'sundown', 'duck', 'swan', 'shooting', 'kangaroo']\n"
     ]
    },
    {
     "data": {
      "text/plain": [
       "11"
      ]
     },
     "execution_count": 229,
     "metadata": {},
     "output_type": "execute_result"
    }
   ],
   "source": [
    "idsNouns = [i[0] for i in corpusNouns[548]]\n",
    "\n",
    "tokensNouns = []\n",
    "for id in idsNouns:\n",
    "    x = dctNouns.get(id)\n",
    "    tokensNouns.append(x)\n",
    "print(tokensNouns)\n",
    "\n",
    "len(tokensNouns)"
   ]
  },
  {
   "cell_type": "markdown",
   "metadata": {},
   "source": [
    "### Original versions of shortest units of text"
   ]
  },
  {
   "cell_type": "code",
   "execution_count": 230,
   "metadata": {},
   "outputs": [
    {
     "name": "stdout",
     "output_type": "stream",
     "text": [
      "and then we put in and made the boat fast took the things ashore and pitched the tent had some dinner on the ground and then went out roo shooting. we saw a few kangaroos but could not get a shot at one . Returned about sundown and found that our native guide who had been out in his canoe looking for swan eggs and been fortunate enough to catch two swans and also two musk ducks he was eating one of the ducks when we got back. 1862 June 7th Saturday Flora had 4 pups no good.\n"
     ]
    }
   ],
   "source": [
    "print(df['text'][548])"
   ]
  },
  {
   "cell_type": "markdown",
   "metadata": {},
   "source": [
    "## Format for Authorless TM Procedure (low and high-frequency words removed)"
   ]
  },
  {
   "cell_type": "code",
   "execution_count": 244,
   "metadata": {},
   "outputs": [
    {
     "name": "stdout",
     "output_type": "stream",
     "text": [
      "<class 'pandas.core.frame.DataFrame'>\n",
      "RangeIndex: 1023 entries, 0 to 1022\n",
      "Data columns (total 3 columns):\n",
      " #   Column        Non-Null Count  Dtype \n",
      "---  ------        --------------  ----- \n",
      " 0   document id   1023 non-null   int64 \n",
      " 1   author label  1023 non-null   object\n",
      " 2   text          1023 non-null   object\n",
      "dtypes: int64(1), object(2)\n",
      "memory usage: 24.1+ KB\n"
     ]
    }
   ],
   "source": [
    "df['tmTokes']=data_lemmatized\n",
    "df['tmTokesString'] = [' '.join(map(str, l)) for l in df['tmTokes']]\n",
    "cols=['docID-AT', 'docauthorid', 'tmTokesString']\n",
    "df=df[cols]\n",
    "df = df.rename(columns={'docID-AT': 'document id', 'docauthorid': 'author label', 'tmTokesString': 'text'}) \n",
    "df.info()"
   ]
  },
  {
   "cell_type": "markdown",
   "metadata": {},
   "source": [
    "## Saving work"
   ]
  },
  {
   "cell_type": "code",
   "execution_count": 246,
   "metadata": {},
   "outputs": [],
   "source": [
    "with open(\"20240916_PhD_DiaChkNV_Authorless.txt\", \"wb\") as fp:   #Pickling\n",
    "    pickle.dump(data_lemmatized, fp)\n",
    "\n",
    "with open(\"20240916_PhD_DiaChkN_Authorless.txt\", \"wb\") as fp:   #Pickling\n",
    "    pickle.dump(data_lemmatizedNouns, fp)\n",
    "    \n",
    "with open(\"20240916_PhD_DiaCh_Authorless.txt\", \"wb\") as fp:   #Pickling\n",
    "    pickle.dump(data_words, fp)"
   ]
  },
  {
   "cell_type": "code",
   "execution_count": 247,
   "metadata": {},
   "outputs": [],
   "source": [
    "df.to_csv('20240916_PhD_DiaryCorpus.tsv', sep=\"\\t\", header=None)"
   ]
  },
  {
   "cell_type": "code",
   "execution_count": 248,
   "metadata": {},
   "outputs": [],
   "source": [
    "dct.save_as_text(\"20240916_PhD_DiaryDictionary.txt\", sort_by_word=True)"
   ]
  }
 ],
 "metadata": {
  "kernelspec": {
   "display_name": "Python 3 (ipykernel)",
   "language": "python",
   "name": "python3"
  },
  "language_info": {
   "codemirror_mode": {
    "name": "ipython",
    "version": 3
   },
   "file_extension": ".py",
   "mimetype": "text/x-python",
   "name": "python",
   "nbconvert_exporter": "python",
   "pygments_lexer": "ipython3",
   "version": "3.9.5"
  }
 },
 "nbformat": 4,
 "nbformat_minor": 2
}
