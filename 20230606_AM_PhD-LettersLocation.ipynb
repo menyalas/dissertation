{
 "cells": [
  {
   "cell_type": "markdown",
   "metadata": {},
   "source": [
    "# Restricting the metadata to letters produced in North America"
   ]
  },
  {
   "cell_type": "markdown",
   "metadata": {},
   "source": [
    "This notebook removes letters not produced in the United States or Canada from the metadata. That is, letters written in the home country are not included."
   ]
  },
  {
   "cell_type": "markdown",
   "metadata": {},
   "source": [
    "## Resources"
   ]
  },
  {
   "cell_type": "code",
   "execution_count": 1,
   "metadata": {},
   "outputs": [
    {
     "name": "stderr",
     "output_type": "stream",
     "text": [
      "Warning message:\n",
      "“replacing previous import ‘lifecycle::last_warnings’ by ‘rlang::last_warnings’ when loading ‘tibble’”\n",
      "Warning message:\n",
      "“replacing previous import ‘lifecycle::last_warnings’ by ‘rlang::last_warnings’ when loading ‘hms’”\n",
      "── \u001b[1mAttaching packages\u001b[22m ───────────────────────────────────────── tidyverse 1.3.1 ──\n",
      "\n",
      "\u001b[32m✔\u001b[39m \u001b[34mggplot2\u001b[39m 3.3.3     \u001b[32m✔\u001b[39m \u001b[34mpurrr  \u001b[39m 0.3.4\n",
      "\u001b[32m✔\u001b[39m \u001b[34mtibble \u001b[39m 3.1.2     \u001b[32m✔\u001b[39m \u001b[34mdplyr  \u001b[39m 1.0.6\n",
      "\u001b[32m✔\u001b[39m \u001b[34mtidyr  \u001b[39m 1.1.3     \u001b[32m✔\u001b[39m \u001b[34mstringr\u001b[39m 1.4.0\n",
      "\u001b[32m✔\u001b[39m \u001b[34mreadr  \u001b[39m 1.4.0     \u001b[32m✔\u001b[39m \u001b[34mforcats\u001b[39m 0.5.1\n",
      "\n",
      "── \u001b[1mConflicts\u001b[22m ──────────────────────────────────────────── tidyverse_conflicts() ──\n",
      "\u001b[31m✖\u001b[39m \u001b[34mdplyr\u001b[39m::\u001b[32mfilter()\u001b[39m masks \u001b[34mstats\u001b[39m::filter()\n",
      "\u001b[31m✖\u001b[39m \u001b[34mdplyr\u001b[39m::\u001b[32mlag()\u001b[39m    masks \u001b[34mstats\u001b[39m::lag()\n",
      "\n"
     ]
    }
   ],
   "source": [
    "# Libraries\n",
    "library(tidyverse) # for data manipulation"
   ]
  },
  {
   "cell_type": "code",
   "execution_count": 2,
   "metadata": {},
   "outputs": [],
   "source": [
    "# Functions\n",
    "factorize <- function(df){ # Create a function\n",
    "  for(i in which(sapply(df, class) == \"character\")) # that looks for variables with the character class \n",
    "      df[[i]] = as.factor(df[[i]]) # and converts them to factor (i.e., categorical) class\n",
    "  return(df)\n",
    "}\n",
    "\n",
    "unfactorize <- function(df){ # Create a function\n",
    "  for(i in which(sapply(df, class) == \"factor\")) # that looks for variables with the character class \n",
    "      df[[i]] = as.character(df[[i]]) # and converts them to factor (i.e., categorical) class\n",
    "  return(df)\n",
    "}"
   ]
  },
  {
   "cell_type": "code",
   "execution_count": 3,
   "metadata": {},
   "outputs": [
    {
     "data": {
      "text/html": [
       "<style>\n",
       ".list-inline {list-style: none; margin:0; padding: 0}\n",
       ".list-inline>li {display: inline-block}\n",
       ".list-inline>li:not(:last-child)::after {content: \"\\00b7\"; padding: 0 .5ex}\n",
       "</style>\n",
       "<ol class=list-inline><li>'docauthorid'</li><li>'docauthorname'</li><li>'docid'</li><li>'sourcetitle'</li><li>'docyear'</li><li>'docmonth'</li><li>'docday'</li><li>'authorgender'</li><li>'agewriting'</li><li>'birthyear'</li><li>'deathyear'</li><li>'religionNew'</li><li>'relMin'</li><li>'nationalOrigin'</li><li>'britishEmpire_EU'</li><li>'translated'</li><li>'authorLocation'</li><li>'socialClass'</li><li>'A'</li><li>'I'</li><li>'CCP'</li><li>'Unknown'</li><li>'wageLabour'</li><li>'publicLetter'</li></ol>\n"
      ],
      "text/latex": [
       "\\begin{enumerate*}\n",
       "\\item 'docauthorid'\n",
       "\\item 'docauthorname'\n",
       "\\item 'docid'\n",
       "\\item 'sourcetitle'\n",
       "\\item 'docyear'\n",
       "\\item 'docmonth'\n",
       "\\item 'docday'\n",
       "\\item 'authorgender'\n",
       "\\item 'agewriting'\n",
       "\\item 'birthyear'\n",
       "\\item 'deathyear'\n",
       "\\item 'religionNew'\n",
       "\\item 'relMin'\n",
       "\\item 'nationalOrigin'\n",
       "\\item 'britishEmpire\\_EU'\n",
       "\\item 'translated'\n",
       "\\item 'authorLocation'\n",
       "\\item 'socialClass'\n",
       "\\item 'A'\n",
       "\\item 'I'\n",
       "\\item 'CCP'\n",
       "\\item 'Unknown'\n",
       "\\item 'wageLabour'\n",
       "\\item 'publicLetter'\n",
       "\\end{enumerate*}\n"
      ],
      "text/markdown": [
       "1. 'docauthorid'\n",
       "2. 'docauthorname'\n",
       "3. 'docid'\n",
       "4. 'sourcetitle'\n",
       "5. 'docyear'\n",
       "6. 'docmonth'\n",
       "7. 'docday'\n",
       "8. 'authorgender'\n",
       "9. 'agewriting'\n",
       "10. 'birthyear'\n",
       "11. 'deathyear'\n",
       "12. 'religionNew'\n",
       "13. 'relMin'\n",
       "14. 'nationalOrigin'\n",
       "15. 'britishEmpire_EU'\n",
       "16. 'translated'\n",
       "17. 'authorLocation'\n",
       "18. 'socialClass'\n",
       "19. 'A'\n",
       "20. 'I'\n",
       "21. 'CCP'\n",
       "22. 'Unknown'\n",
       "23. 'wageLabour'\n",
       "24. 'publicLetter'\n",
       "\n",
       "\n"
      ],
      "text/plain": [
       " [1] \"docauthorid\"      \"docauthorname\"    \"docid\"            \"sourcetitle\"     \n",
       " [5] \"docyear\"          \"docmonth\"         \"docday\"           \"authorgender\"    \n",
       " [9] \"agewriting\"       \"birthyear\"        \"deathyear\"        \"religionNew\"     \n",
       "[13] \"relMin\"           \"nationalOrigin\"   \"britishEmpire_EU\" \"translated\"      \n",
       "[17] \"authorLocation\"   \"socialClass\"      \"A\"                \"I\"               \n",
       "[21] \"CCP\"              \"Unknown\"          \"wageLabour\"       \"publicLetter\"    "
      ]
     },
     "metadata": {},
     "output_type": "display_data"
    },
    {
     "data": {
      "text/html": [
       "<style>\n",
       ".list-inline {list-style: none; margin:0; padding: 0}\n",
       ".list-inline>li {display: inline-block}\n",
       ".list-inline>li:not(:last-child)::after {content: \"\\00b7\"; padding: 0 .5ex}\n",
       "</style>\n",
       "<ol class=list-inline><li>617</li><li>24</li></ol>\n"
      ],
      "text/latex": [
       "\\begin{enumerate*}\n",
       "\\item 617\n",
       "\\item 24\n",
       "\\end{enumerate*}\n"
      ],
      "text/markdown": [
       "1. 617\n",
       "2. 24\n",
       "\n",
       "\n"
      ],
      "text/plain": [
       "[1] 617  24"
      ]
     },
     "metadata": {},
     "output_type": "display_data"
    }
   ],
   "source": [
    "# Data\n",
    "letters <- factorize(read.csv(\"20230507_AM_PhD-NaildohSubset.csv\")) # Put csv into a dataframe called docData\n",
    "colnames(letters) # Get an overview of the dataframe\n",
    "dim(letters)"
   ]
  },
  {
   "cell_type": "code",
   "execution_count": 4,
   "metadata": {},
   "outputs": [
    {
     "data": {
      "text/plain": [
       "\n",
       "  Canada  England  Ireland Scotland      USA \n",
       "     433       37        1        3      143 "
      ]
     },
     "metadata": {},
     "output_type": "display_data"
    }
   ],
   "source": [
    "table(letters$authorLocation)"
   ]
  },
  {
   "cell_type": "code",
   "execution_count": 5,
   "metadata": {},
   "outputs": [
    {
     "data": {
      "text/plain": [
       "\n",
       "  Canada  England  Ireland Scotland      USA \n",
       "     433        0        0        0      143 "
      ]
     },
     "metadata": {},
     "output_type": "display_data"
    },
    {
     "name": "stdout",
     "output_type": "stream",
     "text": [
      "Rows: 576\n",
      "Columns: 24\n",
      "$ docauthorid      \u001b[3m\u001b[90m<fct>\u001b[39m\u001b[23m per0001043, per0001043, per0001043, per0001043, per00…\n",
      "$ docauthorname    \u001b[3m\u001b[90m<fct>\u001b[39m\u001b[23m \"Segale, Sister Blandina, 1850-1941\", \"Segale, Sister…\n",
      "$ docid            \u001b[3m\u001b[90m<fct>\u001b[39m\u001b[23m S1019-D002, S1019-D004, S1019-D005, S1019-D006, S1019…\n",
      "$ sourcetitle      \u001b[3m\u001b[90m<fct>\u001b[39m\u001b[23m \"At the End of the Santa Fe Trail\", \"At the End of th…\n",
      "$ docyear          \u001b[3m\u001b[90m<int>\u001b[39m\u001b[23m 1872, 1872, 1872, 1872, 1873, 1873, 1873, 1874, 1874,…\n",
      "$ docmonth         \u001b[3m\u001b[90m<int>\u001b[39m\u001b[23m 11, 12, 12, 12, 3, 7, 9, 6, 11, 6, 9, 12, 1, 3, 3, 6,…\n",
      "$ docday           \u001b[3m\u001b[90m<int>\u001b[39m\u001b[23m 30, 6, 10, 21, 1, NA, NA, 30, 14, NA, NA, 16, NA, NA,…\n",
      "$ authorgender     \u001b[3m\u001b[90m<fct>\u001b[39m\u001b[23m F, F, F, F, F, F, F, F, F, F, F, F, F, F, F, F, F, F,…\n",
      "$ agewriting       \u001b[3m\u001b[90m<int>\u001b[39m\u001b[23m 22, 22, 22, 22, 23, 23, 23, 24, 24, 26, 26, 26, 27, 2…\n",
      "$ birthyear        \u001b[3m\u001b[90m<int>\u001b[39m\u001b[23m 1850, 1850, 1850, 1850, 1850, 1850, 1850, 1850, 1850,…\n",
      "$ deathyear        \u001b[3m\u001b[90m<int>\u001b[39m\u001b[23m 1941, 1941, 1941, 1941, 1941, 1941, 1941, 1941, 1941,…\n",
      "$ religionNew      \u001b[3m\u001b[90m<fct>\u001b[39m\u001b[23m Catholic, Catholic, Catholic, Catholic, Catholic, Cat…\n",
      "$ relMin           \u001b[3m\u001b[90m<lgl>\u001b[39m\u001b[23m TRUE, TRUE, TRUE, TRUE, TRUE, TRUE, TRUE, TRUE, TRUE,…\n",
      "$ nationalOrigin   \u001b[3m\u001b[90m<fct>\u001b[39m\u001b[23m Italian, Italian, Italian, Italian, Italian, Italian,…\n",
      "$ britishEmpire_EU \u001b[3m\u001b[90m<lgl>\u001b[39m\u001b[23m FALSE, FALSE, FALSE, FALSE, FALSE, FALSE, FALSE, FALS…\n",
      "$ translated       \u001b[3m\u001b[90m<lgl>\u001b[39m\u001b[23m FALSE, FALSE, FALSE, FALSE, FALSE, FALSE, FALSE, FALS…\n",
      "$ authorLocation   \u001b[3m\u001b[90m<fct>\u001b[39m\u001b[23m USA, USA, USA, USA, USA, USA, USA, USA, USA, USA, USA…\n",
      "$ socialClass      \u001b[3m\u001b[90m<fct>\u001b[39m\u001b[23m Nun; Social worker; Teacher, Nun; Social worker; Teac…\n",
      "$ A                \u001b[3m\u001b[90m<lgl>\u001b[39m\u001b[23m FALSE, FALSE, FALSE, FALSE, FALSE, FALSE, FALSE, FALS…\n",
      "$ I                \u001b[3m\u001b[90m<lgl>\u001b[39m\u001b[23m FALSE, FALSE, FALSE, FALSE, FALSE, FALSE, FALSE, FALS…\n",
      "$ CCP              \u001b[3m\u001b[90m<lgl>\u001b[39m\u001b[23m TRUE, TRUE, TRUE, TRUE, TRUE, TRUE, TRUE, TRUE, TRUE,…\n",
      "$ Unknown          \u001b[3m\u001b[90m<lgl>\u001b[39m\u001b[23m FALSE, FALSE, FALSE, FALSE, FALSE, FALSE, FALSE, FALS…\n",
      "$ wageLabour       \u001b[3m\u001b[90m<lgl>\u001b[39m\u001b[23m FALSE, FALSE, FALSE, FALSE, FALSE, FALSE, FALSE, FALS…\n",
      "$ publicLetter     \u001b[3m\u001b[90m<lgl>\u001b[39m\u001b[23m NA, NA, NA, NA, NA, NA, NA, NA, NA, NA, NA, NA, NA, N…\n"
     ]
    }
   ],
   "source": [
    "letters  <- letters %>% \n",
    "filter(authorLocation==\"Canada\"|authorLocation==\"USA\")\n",
    "table(letters$authorLocation)\n",
    "glimpse(letters)"
   ]
  },
  {
   "cell_type": "code",
   "execution_count": 26,
   "metadata": {},
   "outputs": [],
   "source": [
    "write.csv(letters, \n",
    "          \"20230606_AM_PhD-NaildohSubset.csv\", \n",
    "          row.names=FALSE)"
   ]
  },
  {
   "cell_type": "code",
   "execution_count": 13,
   "metadata": {},
   "outputs": [
    {
     "data": {
      "text/html": [
       "26"
      ],
      "text/latex": [
       "26"
      ],
      "text/markdown": [
       "26"
      ],
      "text/plain": [
       "[1] 26"
      ]
     },
     "metadata": {},
     "output_type": "display_data"
    }
   ],
   "source": [
    "letters %>% \n",
    "filter(grepl(\"S316\", docid)) %>% \n",
    "select(docid) %>% \n",
    "nrow()"
   ]
  },
  {
   "cell_type": "code",
   "execution_count": null,
   "metadata": {},
   "outputs": [],
   "source": []
  }
 ],
 "metadata": {
  "kernelspec": {
   "display_name": "R",
   "language": "R",
   "name": "ir"
  },
  "language_info": {
   "codemirror_mode": "r",
   "file_extension": ".r",
   "mimetype": "text/x-r-source",
   "name": "R",
   "pygments_lexer": "r",
   "version": "4.1.0"
  }
 },
 "nbformat": 4,
 "nbformat_minor": 2
}
