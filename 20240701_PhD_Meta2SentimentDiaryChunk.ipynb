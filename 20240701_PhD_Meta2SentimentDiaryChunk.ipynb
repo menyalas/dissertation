{
 "cells": [
  {
   "cell_type": "markdown",
   "metadata": {},
   "source": [
    "# Merge Datasets"
   ]
  },
  {
   "cell_type": "markdown",
   "metadata": {},
   "source": [
    "<h2>Packages</h2>"
   ]
  },
  {
   "cell_type": "code",
   "execution_count": 3,
   "metadata": {},
   "outputs": [],
   "source": [
    "library(tidyverse)"
   ]
  },
  {
   "cell_type": "markdown",
   "metadata": {},
   "source": [
    "<h2>Functions</h2>"
   ]
  },
  {
   "cell_type": "code",
   "execution_count": 4,
   "metadata": {},
   "outputs": [],
   "source": [
    "# Converts all factors to character class\n",
    "unfactorize <- function(df){\n",
    "  for(i in which(sapply(df, class) == \"factor\")) df[[i]] = as.character(df[[i]])\n",
    "  return(df)\n",
    "}"
   ]
  },
  {
   "cell_type": "code",
   "execution_count": 5,
   "metadata": {},
   "outputs": [],
   "source": [
    "# Converts character to factor class\n",
    "factorize <- function(df){\n",
    "  for(i in which(sapply(df, class) == \"character\")) df[[i]] = as.factor(df[[i]])\n",
    "  return(df)\n",
    "}"
   ]
  },
  {
   "cell_type": "markdown",
   "metadata": {},
   "source": [
    "<h2>Data</h2>"
   ]
  },
  {
   "cell_type": "code",
   "execution_count": 6,
   "metadata": {},
   "outputs": [
    {
     "name": "stderr",
     "output_type": "stream",
     "text": [
      "Warning message in read.table(file = file, header = header, sep = sep, quote = quote, :\n",
      "“incomplete final line found by readTableHeader on '20240628_PhD_Diaries.csv'”\n"
     ]
    },
    {
     "name": "stdout",
     "output_type": "stream",
     "text": [
      "Rows: 4\n",
      "Columns: 18\n",
      "$ docid          \u001b[3m\u001b[90m<chr>\u001b[39m\u001b[23m \"D0002\", \"D0003\", \"D0007\", \"D0009\"\n",
      "$ docyear        \u001b[3m\u001b[90m<int>\u001b[39m\u001b[23m 1883, 1858, 1865, 1871\n",
      "$ docmonth       \u001b[3m\u001b[90m<lgl>\u001b[39m\u001b[23m NA, NA, NA, NA\n",
      "$ authorName     \u001b[3m\u001b[90m<chr>\u001b[39m\u001b[23m \"Anne F. Richards\", \"Henry H. Adams\", \"John Hart\", \"Edi…\n",
      "$ docauthorid    \u001b[3m\u001b[90m<chr>\u001b[39m\u001b[23m \"D0002\", \"D0003\", \"D0007\", \"D0009\"\n",
      "$ authorLocation \u001b[3m\u001b[90m<chr>\u001b[39m\u001b[23m \"Australia\", \"Australia\", \"Australia\", \"Australia\"\n",
      "$ authorGender   \u001b[3m\u001b[90m<chr>\u001b[39m\u001b[23m \"F\", \"M\", \"M\", \"F\"\n",
      "$ nationalOrigin \u001b[3m\u001b[90m<chr>\u001b[39m\u001b[23m \"English\", NA, \"English\", \"English\"\n",
      "$ irish          \u001b[3m\u001b[90m<lgl>\u001b[39m\u001b[23m FALSE, NA, FALSE, FALSE\n",
      "$ otherUK        \u001b[3m\u001b[90m<lgl>\u001b[39m\u001b[23m TRUE, NA, TRUE, TRUE\n",
      "$ relMin         \u001b[3m\u001b[90m<lgl>\u001b[39m\u001b[23m FALSE, FALSE, FALSE, FALSE\n",
      "$ catholic       \u001b[3m\u001b[90m<lgl>\u001b[39m\u001b[23m FALSE, FALSE, FALSE, FALSE\n",
      "$ otherChristian \u001b[3m\u001b[90m<lgl>\u001b[39m\u001b[23m TRUE, TRUE, TRUE, TRUE\n",
      "$ U              \u001b[3m\u001b[90m<lgl>\u001b[39m\u001b[23m FALSE, FALSE, TRUE, TRUE\n",
      "$ M              \u001b[3m\u001b[90m<lgl>\u001b[39m\u001b[23m TRUE, FALSE, TRUE, FALSE\n",
      "$ S              \u001b[3m\u001b[90m<lgl>\u001b[39m\u001b[23m FALSE, FALSE, FALSE, FALSE\n",
      "$ F              \u001b[3m\u001b[90m<lgl>\u001b[39m\u001b[23m TRUE, FALSE, TRUE, FALSE\n",
      "$ L              \u001b[3m\u001b[90m<lgl>\u001b[39m\u001b[23m FALSE, TRUE, FALSE, FALSE\n"
     ]
    }
   ],
   "source": [
    "# Load data related to authors and documents (metadata)\n",
    "dfMeta <- unfactorize(read.csv(\"20240628_PhD_Diaries.csv\"))\n",
    "# Order rows by value in docid\n",
    "dfMeta <- dfMeta[order(dfMeta$docid, decreasing = FALSE), ]\n",
    "glimpse(dfMeta)"
   ]
  },
  {
   "cell_type": "code",
   "execution_count": 6,
   "metadata": {},
   "outputs": [],
   "source": [
    "# Column names\n",
    "#names(dfMeta)"
   ]
  },
  {
   "cell_type": "code",
   "execution_count": 7,
   "metadata": {},
   "outputs": [
    {
     "name": "stdout",
     "output_type": "stream",
     "text": [
      "Rows: 1,023\n",
      "Columns: 12\n",
      "$ text             \u001b[3m\u001b[90m<chr>\u001b[39m\u001b[23m \"Charra Wednesday Nov 4th 1883 A nice cool day Mrs Ro…\n",
      "$ docid            \u001b[3m\u001b[90m<chr>\u001b[39m\u001b[23m \"D0002\", \"D0002\", \"D0002\", \"D0002\", \"D0002\", \"D0002\",…\n",
      "$ sequence         \u001b[3m\u001b[90m<int>\u001b[39m\u001b[23m 1, 2, 3, 4, 5, 6, 7, 8, 9, 10, 11, 12, 13, 14, 15, 16…\n",
      "$ totalTokens      \u001b[3m\u001b[90m<int>\u001b[39m\u001b[23m 277, 281, 276, 270, 282, 279, 280, 286, 282, 269, 269…\n",
      "$ uniqueTokens     \u001b[3m\u001b[90m<int>\u001b[39m\u001b[23m 171, 170, 170, 163, 147, 164, 169, 181, 169, 161, 165…\n",
      "$ lexicalDiversity \u001b[3m\u001b[90m<dbl>\u001b[39m\u001b[23m 0.6173285, 0.6049822, 0.6159420, 0.6037037, 0.5212766…\n",
      "$ scoreNeg         \u001b[3m\u001b[90m<dbl>\u001b[39m\u001b[23m 0.070000000, 0.044333333, 0.074750000, 0.045600000, 0…\n",
      "$ scoreNeu         \u001b[3m\u001b[90m<dbl>\u001b[39m\u001b[23m 0.8910000, 0.9076667, 0.8845000, 0.9256000, 0.8922857…\n",
      "$ scorePos         \u001b[3m\u001b[90m<dbl>\u001b[39m\u001b[23m 0.039000000, 0.048000000, 0.041000000, 0.028600000, 0…\n",
      "$ scoreCom         \u001b[3m\u001b[90m<dbl>\u001b[39m\u001b[23m -0.37976667, -0.05883333, -0.13772500, -0.21692000, -…\n",
      "$ chunks           \u001b[3m\u001b[90m<int>\u001b[39m\u001b[23m 447, 447, 447, 447, 447, 447, 447, 447, 447, 447, 447…\n",
      "$ position         \u001b[3m\u001b[90m<dbl>\u001b[39m\u001b[23m 0.002237136, 0.004474273, 0.006711409, 0.008948546, 0…\n"
     ]
    }
   ],
   "source": [
    "# Load data related to authors and documents (metadata)\n",
    "dfNarrative <- unfactorize(read.csv(\"20240701_PhD_SentimentDiary-Chunks.csv\"))[-1]\n",
    "# Strip .txt from docids in DfNarrative\n",
    "dfNarrative$docid <- gsub(\".txt\",\"\", dfNarrative$docid)\n",
    "glimpse(dfNarrative)"
   ]
  },
  {
   "cell_type": "code",
   "execution_count": 8,
   "metadata": {},
   "outputs": [
    {
     "data": {
      "text/html": [
       "TRUE"
      ],
      "text/latex": [
       "TRUE"
      ],
      "text/markdown": [
       "TRUE"
      ],
      "text/plain": [
       "[1] TRUE"
      ]
     },
     "metadata": {},
     "output_type": "display_data"
    }
   ],
   "source": [
    "# Are the values identical\n",
    "identical(unique(dfMeta$docid),unique(dfNarrative$docid))"
   ]
  },
  {
   "cell_type": "code",
   "execution_count": 9,
   "metadata": {},
   "outputs": [],
   "source": [
    "#Merge datasets\n",
    "df <- right_join(dfMeta, dfNarrative, by = 'docid')\n",
    "#glimpse(df)"
   ]
  },
  {
   "cell_type": "code",
   "execution_count": 10,
   "metadata": {},
   "outputs": [],
   "source": [
    "# Convert variables to factor\n",
    "vars  <- c(\"docauthorid\", \"authorName\", \"docid\", \"authorGender\", \"nationalOrigin\", \"authorLocation\")\n",
    "df[vars]  <- factorize(df[vars])"
   ]
  },
  {
   "cell_type": "code",
   "execution_count": 11,
   "metadata": {},
   "outputs": [
    {
     "name": "stdout",
     "output_type": "stream",
     "text": [
      "Rows: 1,023\n",
      "Columns: 29\n",
      "$ docid            \u001b[3m\u001b[90m<fct>\u001b[39m\u001b[23m D0002, D0002, D0002, D0002, D0002, D0002, D0002, D000…\n",
      "$ docyear          \u001b[3m\u001b[90m<int>\u001b[39m\u001b[23m 1883, 1883, 1883, 1883, 1883, 1883, 1883, 1883, 1883,…\n",
      "$ docmonth         \u001b[3m\u001b[90m<lgl>\u001b[39m\u001b[23m NA, NA, NA, NA, NA, NA, NA, NA, NA, NA, NA, NA, NA, N…\n",
      "$ authorName       \u001b[3m\u001b[90m<fct>\u001b[39m\u001b[23m Anne F. Richards, Anne F. Richards, Anne F. Richards,…\n",
      "$ docauthorid      \u001b[3m\u001b[90m<fct>\u001b[39m\u001b[23m D0002, D0002, D0002, D0002, D0002, D0002, D0002, D000…\n",
      "$ authorLocation   \u001b[3m\u001b[90m<fct>\u001b[39m\u001b[23m Australia, Australia, Australia, Australia, Australia…\n",
      "$ authorGender     \u001b[3m\u001b[90m<fct>\u001b[39m\u001b[23m F, F, F, F, F, F, F, F, F, F, F, F, F, F, F, F, F, F,…\n",
      "$ nationalOrigin   \u001b[3m\u001b[90m<fct>\u001b[39m\u001b[23m English, English, English, English, English, English,…\n",
      "$ irish            \u001b[3m\u001b[90m<lgl>\u001b[39m\u001b[23m FALSE, FALSE, FALSE, FALSE, FALSE, FALSE, FALSE, FALS…\n",
      "$ otherUK          \u001b[3m\u001b[90m<lgl>\u001b[39m\u001b[23m TRUE, TRUE, TRUE, TRUE, TRUE, TRUE, TRUE, TRUE, TRUE,…\n",
      "$ relMin           \u001b[3m\u001b[90m<lgl>\u001b[39m\u001b[23m FALSE, FALSE, FALSE, FALSE, FALSE, FALSE, FALSE, FALS…\n",
      "$ catholic         \u001b[3m\u001b[90m<lgl>\u001b[39m\u001b[23m FALSE, FALSE, FALSE, FALSE, FALSE, FALSE, FALSE, FALS…\n",
      "$ otherChristian   \u001b[3m\u001b[90m<lgl>\u001b[39m\u001b[23m TRUE, TRUE, TRUE, TRUE, TRUE, TRUE, TRUE, TRUE, TRUE,…\n",
      "$ U                \u001b[3m\u001b[90m<lgl>\u001b[39m\u001b[23m FALSE, FALSE, FALSE, FALSE, FALSE, FALSE, FALSE, FALS…\n",
      "$ M                \u001b[3m\u001b[90m<lgl>\u001b[39m\u001b[23m TRUE, TRUE, TRUE, TRUE, TRUE, TRUE, TRUE, TRUE, TRUE,…\n",
      "$ S                \u001b[3m\u001b[90m<lgl>\u001b[39m\u001b[23m FALSE, FALSE, FALSE, FALSE, FALSE, FALSE, FALSE, FALS…\n",
      "$ F                \u001b[3m\u001b[90m<lgl>\u001b[39m\u001b[23m TRUE, TRUE, TRUE, TRUE, TRUE, TRUE, TRUE, TRUE, TRUE,…\n",
      "$ L                \u001b[3m\u001b[90m<lgl>\u001b[39m\u001b[23m FALSE, FALSE, FALSE, FALSE, FALSE, FALSE, FALSE, FALS…\n",
      "$ text             \u001b[3m\u001b[90m<chr>\u001b[39m\u001b[23m \"Charra Wednesday Nov 4th 1883 A nice cool day Mrs Ro…\n",
      "$ sequence         \u001b[3m\u001b[90m<int>\u001b[39m\u001b[23m 1, 2, 3, 4, 5, 6, 7, 8, 9, 10, 11, 12, 13, 14, 15, 16…\n",
      "$ totalTokens      \u001b[3m\u001b[90m<int>\u001b[39m\u001b[23m 277, 281, 276, 270, 282, 279, 280, 286, 282, 269, 269…\n",
      "$ uniqueTokens     \u001b[3m\u001b[90m<int>\u001b[39m\u001b[23m 171, 170, 170, 163, 147, 164, 169, 181, 169, 161, 165…\n",
      "$ lexicalDiversity \u001b[3m\u001b[90m<dbl>\u001b[39m\u001b[23m 0.6173285, 0.6049822, 0.6159420, 0.6037037, 0.5212766…\n",
      "$ scoreNeg         \u001b[3m\u001b[90m<dbl>\u001b[39m\u001b[23m 0.070000000, 0.044333333, 0.074750000, 0.045600000, 0…\n",
      "$ scoreNeu         \u001b[3m\u001b[90m<dbl>\u001b[39m\u001b[23m 0.8910000, 0.9076667, 0.8845000, 0.9256000, 0.8922857…\n",
      "$ scorePos         \u001b[3m\u001b[90m<dbl>\u001b[39m\u001b[23m 0.039000000, 0.048000000, 0.041000000, 0.028600000, 0…\n",
      "$ scoreCom         \u001b[3m\u001b[90m<dbl>\u001b[39m\u001b[23m -0.37976667, -0.05883333, -0.13772500, -0.21692000, -…\n",
      "$ chunks           \u001b[3m\u001b[90m<int>\u001b[39m\u001b[23m 447, 447, 447, 447, 447, 447, 447, 447, 447, 447, 447…\n",
      "$ position         \u001b[3m\u001b[90m<dbl>\u001b[39m\u001b[23m 0.002237136, 0.004474273, 0.006711409, 0.008948546, 0…\n"
     ]
    }
   ],
   "source": [
    "# Check classes\n",
    "# lapply(df, class)\n",
    "# summary(df)\n",
    "glimpse(df)"
   ]
  },
  {
   "cell_type": "code",
   "execution_count": 12,
   "metadata": {},
   "outputs": [],
   "source": [
    "write.csv(df, \"20240701_PhD_Data4TopicModel-DiaryChunk.csv\")"
   ]
  }
 ],
 "metadata": {
  "kernelspec": {
   "display_name": "R",
   "language": "R",
   "name": "ir"
  },
  "language_info": {
   "codemirror_mode": "r",
   "file_extension": ".r",
   "mimetype": "text/x-r-source",
   "name": "R",
   "pygments_lexer": "r",
   "version": "4.4.0"
  }
 },
 "nbformat": 4,
 "nbformat_minor": 2
}
