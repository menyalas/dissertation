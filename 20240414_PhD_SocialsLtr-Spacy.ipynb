{
 "cells": [
  {
   "cell_type": "markdown",
   "metadata": {},
   "source": [
    "## NER Letter Spacy"
   ]
  },
  {
   "cell_type": "markdown",
   "metadata": {},
   "source": [
    "## Resources"
   ]
  },
  {
   "cell_type": "code",
   "execution_count": 1,
   "metadata": {},
   "outputs": [],
   "source": [
    "import spacy\n",
    "import pandas as pd\n",
    "from collections import Counter\n",
    "from spacy import displacy"
   ]
  },
  {
   "cell_type": "markdown",
   "metadata": {},
   "source": [
    "## Get Data"
   ]
  },
  {
   "cell_type": "code",
   "execution_count": 2,
   "metadata": {
    "scrolled": true
   },
   "outputs": [
    {
     "name": "stdout",
     "output_type": "stream",
     "text": [
      "<class 'pandas.core.frame.DataFrame'>\n",
      "Int64Index: 492 entries, 0 to 491\n",
      "Data columns (total 26 columns):\n",
      " #   Column            Non-Null Count  Dtype  \n",
      "---  ------            --------------  -----  \n",
      " 0   docID-AT          492 non-null    int64  \n",
      " 1   docauthorid       492 non-null    object \n",
      " 2   docauthorname     492 non-null    object \n",
      " 3   docid             492 non-null    object \n",
      " 4   docyear           489 non-null    float64\n",
      " 5   docmonth          477 non-null    float64\n",
      " 6   authorgender      492 non-null    object \n",
      " 7   agewriting        380 non-null    float64\n",
      " 8   agedeath          365 non-null    float64\n",
      " 9   relMin            396 non-null    object \n",
      " 10  nationalOrigin    491 non-null    object \n",
      " 11  authorLocation    492 non-null    object \n",
      " 12  U                 442 non-null    object \n",
      " 13  M                 442 non-null    object \n",
      " 14  S                 442 non-null    object \n",
      " 15  F                 442 non-null    object \n",
      " 16  L                 442 non-null    object \n",
      " 17  text              492 non-null    object \n",
      " 18  scoreNeg          492 non-null    float64\n",
      " 19  scorePos          492 non-null    float64\n",
      " 20  scoreNeu          492 non-null    float64\n",
      " 21  scoreCompound     492 non-null    float64\n",
      " 22  totalTokens       492 non-null    int64  \n",
      " 23  uniqueTokens      492 non-null    int64  \n",
      " 24  lexicalDiversity  492 non-null    float64\n",
      " 25  topicNumber       492 non-null    int64  \n",
      "dtypes: float64(9), int64(4), object(13)\n",
      "memory usage: 103.8+ KB\n"
     ]
    }
   ],
   "source": [
    "# Sentence Data\n",
    "df = pd.read_csv(\"20240411_PhD_Data4NER-Letter.csv\", index_col=0) \n",
    "df.info()"
   ]
  },
  {
   "cell_type": "markdown",
   "metadata": {},
   "source": [
    "## Test the NER of various models on the texts"
   ]
  },
  {
   "cell_type": "code",
   "execution_count": 3,
   "metadata": {},
   "outputs": [],
   "source": [
    "# The next few cells are run multiple times to check performance of various pre-trained models. \n",
    "# Do not run the this cell until after the first pass\n",
    "nlp = spacy.load(\"en_core_web_md\")"
   ]
  },
  {
   "cell_type": "code",
   "execution_count": 4,
   "metadata": {},
   "outputs": [],
   "source": [
    "# I started with 0 and checked \n",
    "chunk = 0"
   ]
  },
  {
   "cell_type": "code",
   "execution_count": 5,
   "metadata": {},
   "outputs": [
    {
     "data": {
      "text/plain": [
       "' TRINIDAD On Train from Steubenville Ohio to Cincinnati. Nov 30 1872. My Darling Sister Justina: How interestedly you Sister M Louis and myself read Eugénie de Guérin\\'s Journal and her daily anxieties to save her brother from being a spiritual outcast! This Journal which I propose keeping for you will deal with incidents occurring on my journey to Trinidad and happenings in that far-off land to which I am consigned. The Journal will begin with the first act. Here is Mother Josephine\\'s letter: Mt St Vincent O Nov 27 1872. Sister Blandina Steubenville O My Dear Child: You are missioned to Trinidad. You will leave Cincinnati Wednesday and alone. Mother Regina will attend to your needs. Devotedly Mother Josephine. This letter thrilled us both. I was delighted to make the sacrifice and you were hiding your feelings that I might not lose any merit. Neither of us could find Trinidad on the map except in the island of Cuba. So we concluded that Cuba was my destination. I was to leave Steubenville quietly so that none of my obstreperous pupils might cause the incoming teacher annoyance. Hence I went to Sunday catechetical class as usual 2:00 P M I was to take the 3:00 P M train for Cincinnati. I said to my hopefuls \"Instead of catechism I\\'m going to tell you an Indian story to-day.\" The schoolhouse roof was not disturbed though the hurrahs were loud enough! The moral of the story was \"Indian Endurance.\" Dismissed them at two-thirty without one word of goodbye except the daily one. You remember how surprised I was to see a crowd at the station to wish me \"Godspeed\"; I thought I was to slip away without anyone\\'s knowledge except our own. Mr Tait and Mr McCann wished to speak to me alone. Both had been in the West. \"You will have a long travel on the plains\" they said \"before you reach Trinidad.\" \"Where is Trinidad?\" \"A little mining town in Southwestern Colorado.\" So then I knew my destination which of course I would have been told at Mt St Vincent. Both gentlemen said they had traveled on the plains on the Santa Fe Trail and they seemed to have made it a matter of conscience to inform me on the subject of cowboys. This in substance was their conversation with me: \"Sister you may be snow-bound while on the plains.\" I looked my assent I knew I could not stop the snow. \"Travelers are sometimes snow-bound for two weeks and you are alone. This though is not the greatest danger to you.\" Mentally I was wishing both gentlemen somewhere else. \"Your real danger is from cowboys.\" I looked at the speakers. \"You do not seem to grasp our meaning. No virtuous woman is safe near a cowboy.\" Both gave up trying to make me understand what they considered danger. Why should snow or cowboys frighten me any more than others who will be traveling the same way! So you see dearest I\\'m not going to so long a distance as we thought. At three o\\'clock A M the baggage checker came through our coach. I looked to see how much the pocketbook contained just twenty-five cents. If I used it to ride to the Good Samaritan I\\'d be minus the fare to Mt St Vincent so I made up my mind to skirt around from the Little Miami to the Good Samaritan Hospital. At four A M I rang the front doorbell no response. I sat on the stone steps and waited till I heard the rising bell then I waited another fifteen minutes when again I rang the doorbell. Sister Anthony came. \"Why child where did you come from; how did you get here? I\\'m sure you are cold.\" I said I came from Steubenville. \"Oh yes! dear Father Bigelow died there. He was good to this hospital. Last year he sent a barge of coal to us.\" I said he was good to anyone in need. He died possessed of three dollars and fifty cents. His hand was always open to any kind of distress. I did not mention to Sister Anthony that I walked from the Little Miami Station. After Mass breakfast and miles of sympathy and \"God Bless You\" from the Sisters at the Good Samaritan one of the nurses accompanied me to Fifth and Vine Streets where I was to take \"Barney\\'s Bus\" for Mt St Vincent. The bus was to leave at ten A M I waited till three P M then asked one of the clerks if he thought Mr McCabe would run the bus that day. \"I fear no bus will run to-day. There is an epidemic epizootic among the horses.\" I asked if Mr Segale\\'s place of business was anywhere near. He pointed to Wood\\'s Theater and I started to the place indicated. Brother Henry managed to find a \"hack\" to send me to Mt St Vincent. On the way between the first ascent of the hill and the Seminary I met Sisters Gabriella and Delphina walking in the slush and cold on their way to the Orphan Asylum. I stopped to take them in. They returned with me to Cedar Grove from there the driver was to take them to the Asylum in Cumminsville. Sister Gabriella said to me \"I would gladly go where you are going instead of shouldering this heavy burden.\" Sister is to be mother to three hundred orphans taking Sister Sophia\\'s place. The Sisters are showing great sympathy. I heard Sister Benedicta say \"She does not mind going so far and alone I\\'ve not seen her shed a tear.\" Nor will you my dear Sister. The tears will flow where none but He and myself will know. Still I\\'m delighted to go. I did not tell you dearest that one year ago last November I wrote to Mother Regina saying I envied the sacrifices the Sisters were making who were sent far away to do God\\'s work. I\\'ve received my answer with compound interest. You know that up to date the Sisters going on distant missions were consulted and none were sent who had parents living. I am pleased that that record is broken in my case. Mother Regina told me to spend a day at home. Dear Lord! Give me strength. I anticipate a scene. I spent Wednesday December 5th at our old homestead. Mother kept open house all day. Friends came in groups. Mr Leverone and bride his mother and the bride\\'s mother Mrs Garibaldi the Misses Gardelli and a host of others. Mrs Garibaldi threatened to take off my habit. I said \"Hands off! Have you any right to detain Mary if John wishes to take her to California?\" \"Oh that is different.\" \"Yes as different as heaven and earth. I have chosen my portion Mary has chosen hers each abides by her choice.\" John Leverone\\'s mother acted most sensibly all day. She was soothing oil to all the protests made to my going. Our dear mother kept quiet. When we were permitted a lone interview she asked \"Do you want one of your sisters to accompany you?\" I answered \"I prefer to do just as my superiors have told me.\" \"Well then I will give you a thousand-dollar check so that in case you desire to return you will have the wherewith.\" \"No no dear mother I fully realize the responsibilities I assumed. As you are aware I realized them from the first day I entered the Novitiate.\" Mother replied: \"And I want to tell you I never doubted your vocation. I agree to your sacrifice my dear child keep on serving God I will never interfere. Now that I have your explicit answer friends cannot urge any logical reason to prevent your going.\" All day the visitors reminded me of a disturbed ant hill. When mother and I were alone she spoke the Genoese dialect. It was like hearing sketches of a favorite opera. Wednesday at 2:00 P M I went to visit our Ecclesiastical Superior. The Most Rev J B Purcell offered me several gifts. But St Francis Xavier is my patron so I\\'m not going to possess any superfluous article I only regret I could not pass our home without going in as St Francis Xavier did. If I aim high I surely must reach some upper strata of detachment in His service. One thing I take with me the impressive blessing given me by His Grace part of which rings clear \"May angels guard your every step.\" He was extremely sympathetic at my having to go alone. I went to confession to Rev Dr Callaghan. You may recall how we enjoyed his lecture on the \"School Question\" delivered in Steubenville. After mother had a short interview with me father managed to see me alone. He took hold of me and asked \"Have I ever denied you anything?\" I signified no. \"You have never disobeyed me in your life?\" I assented. \"Now I command you you must not go on this far away mission! Are you going?\" \"Yes father.\" He let go the hold on my arm and walked toward the door. Not without my seeing his tears falling fast. He did not realize his hold on my arm gave me pain not to speak of the heart-pain for him. In the railway station at St Louis between train time I got off to purchase a pair of arctics. I saw several Italian women selling fruit. One of them had a daughter standing near. I asked the mother if she would permit her daughter to accompany me to the shoe store which was in sight. The mother looked at me earnestly then said to her neighbor peddler \"How do I know who she is she looks like a monica (sister) but she might be a strega (witch).\" I thanked the true guardian of her daughter and went to make my purchase alone. I spoke English to the peddler. If good Sister Benedicta who thought I did not mind because I did not cry had seen me during the greater part of last night she would but too truly have said \"That heart is human in every fiber.\" That I succeeded in dignifiedly getting away from home is Thy Grace oh my God! Forty-two persons accompanied me to the train among them friends of old but my purpose never faltered not even in shadow. Such tactics as I executed yesterday! I see one trait strong in me the straight service of God. Not the father whom I had never seen cry nor the most patient dearest mother whose heart is crushed at my being sent alone much less the friends who used every argument to make me say I would not go could elicit the faintest trace that I was not more pleased at my going alone than if I had had a dozen with me. Sisters Antonia and Gonzaga came to the waiting room. I asked the company to permit me an interview with the Sisters. When going toward them one of my dear old friends said \"Look we cannot doubt she is happy.\" This was not intended for my hearing the noise caused the speaker to raise her voice. Sister Antonia asked me how I had spent the day. I narrated some incidents. \"I\\'m an ancient religious but I could not have gone through the ordeal as creditably as you did.\" What if I had mentioned all the heart sighs I had witnessed! When it was time to board the train I asked that my last interview be with my mother. Cannot you picture her sad endearing look of appreciation? I\\'ll skip the last talk with mother some of it was in silence. '"
      ]
     },
     "execution_count": 5,
     "metadata": {},
     "output_type": "execute_result"
    }
   ],
   "source": [
    "# Place narratives into a list representing the corpus\n",
    "texts = df.text.values.tolist()\n",
    "texts[chunk]"
   ]
  },
  {
   "cell_type": "code",
   "execution_count": 6,
   "metadata": {},
   "outputs": [
    {
     "name": "stdout",
     "output_type": "stream",
     "text": [
      "Number of mentions: 37 \n",
      "\n",
      "{'Darling Sister': 1, 'Justina': 1, 'Sister M Louis': 1, \"Mother Josephine's\": 1, 'Mother Regina': 3, 'Tait': 1, 'McCann': 1, 'Sister Anthony': 2, 'Bigelow': 1, 'McCabe': 1, 'Segale': 1, 'Henry': 1, 'Seminary': 1, 'Sisters Gabriella': 1, 'Gabriella': 1, 'Benedicta': 1, 'Leverone': 1, 'Garibaldi': 2, 'the Misses Gardelli': 1, 'Mary': 2, 'John': 1, \"John Leverone's\": 1, 'Genoese': 1, 'St Francis Xavier': 1, 'Grace': 2, 'Rev Dr Callaghan': 1, 'monica': 1, 'Sister Benedicta': 1, 'Sisters Antonia': 1, 'Gonzaga': 1, 'Sister Antonia': 1} \n",
      "\n",
      "Number of individuals: 31 \n",
      "\n",
      "Individuals: {\"John Leverone's\", 'Segale', 'Sisters Gabriella', 'Darling Sister', 'Rev Dr Callaghan', 'Garibaldi', 'Grace', 'the Misses Gardelli', 'Bigelow', 'Sister Benedicta', 'Mary', 'Sisters Antonia', 'Sister Antonia', 'Mother Regina', 'Gabriella', 'Benedicta', 'monica', 'Genoese', 'Gonzaga', 'McCabe', 'Henry', 'McCann', \"Mother Josephine's\", 'Leverone', 'John', 'Tait', 'St Francis Xavier', 'Justina', 'Sister M Louis', 'Seminary', 'Sister Anthony'} \n",
      "\n"
     ]
    }
   ],
   "source": [
    "# Test on first item\n",
    "item = texts[chunk]\n",
    "\n",
    "# Run the language model on the 1st narrative\n",
    "narrative = nlp(item)\n",
    "\n",
    "# Find the mentions to people in the narrative\n",
    "\n",
    "for ent in narrative.ents:\n",
    "\n",
    "    mentions = [ent.text for ent in narrative.ents if ent.label_ == 'PERSON']\n",
    "        \n",
    "    counts = {}\n",
    "    for person in mentions:\n",
    "        counts[person] = counts.get(person, 0) + 1\n",
    "    \n",
    "    individuals = set(mentions)\n",
    "    \n",
    "print(\"Number of mentions:\", len(mentions), \"\\n\")\n",
    "print(counts, \"\\n\")    \n",
    "print(\"Number of individuals:\", len(individuals), \"\\n\")\n",
    "print(\"Individuals:\", individuals, \"\\n\")    \n",
    "    "
   ]
  },
  {
   "cell_type": "markdown",
   "metadata": {},
   "source": [
    "## Named entity extraction for the texts"
   ]
  },
  {
   "cell_type": "code",
   "execution_count": 7,
   "metadata": {},
   "outputs": [
    {
     "name": "stdout",
     "output_type": "stream",
     "text": [
      "492\n",
      "492\n",
      "492\n",
      "37\n",
      "31\n",
      "{'Darling Sister': 1, 'Justina': 1, 'Sister M Louis': 1, \"Mother Josephine's\": 1, 'Mother Regina': 3, 'Tait': 1, 'McCann': 1, 'Sister Anthony': 2, 'Bigelow': 1, 'McCabe': 1, 'Segale': 1, 'Henry': 1, 'Seminary': 1, 'Sisters Gabriella': 1, 'Gabriella': 1, 'Benedicta': 1, 'Leverone': 1, 'Garibaldi': 2, 'the Misses Gardelli': 1, 'Mary': 2, 'John': 1, \"John Leverone's\": 1, 'Genoese': 1, 'St Francis Xavier': 1, 'Grace': 2, 'Rev Dr Callaghan': 1, 'monica': 1, 'Sister Benedicta': 1, 'Sisters Antonia': 1, 'Gonzaga': 1, 'Sister Antonia': 1}\n"
     ]
    }
   ],
   "source": [
    "mentsTot = [] \n",
    "mentsDis = []\n",
    "indsTot = []\n",
    "\n",
    "for item in texts:\n",
    "\n",
    "# Run the language model on the 1st narrative\n",
    "    narrative = nlp(item)\n",
    "\n",
    "# Find the mentions to people in the narrative\n",
    "\n",
    "    for ent in narrative.ents:\n",
    "\n",
    "        mentions = [ent.text for ent in narrative.ents if ent.label_ == 'PERSON']\n",
    "        \n",
    "        counts = {}\n",
    "        for person in mentions:\n",
    "            counts[person] = counts.get(person, 0) + 1\n",
    "    \n",
    "        individuals = set(mentions)\n",
    "    \n",
    "    mentsTot.append(len(mentions))\n",
    "    mentsDis.append(counts)\n",
    "    indsTot.append(len(individuals))\n",
    "    \n",
    "                   \n",
    "print(len(mentsTot)) \n",
    "print(len(indsTot))\n",
    "print(len(mentsDis))\n",
    "\n",
    "print(mentsTot[0]) \n",
    "print(indsTot[0])\n",
    "print(mentsDis[0])\n"
   ]
  },
  {
   "cell_type": "markdown",
   "metadata": {},
   "source": [
    "## Self-references"
   ]
  },
  {
   "cell_type": "markdown",
   "metadata": {},
   "source": [
    "Now for 1st person singular pronounds, subjective and objective only per Tackman, A. M., Sbarra, D. A., Carey, A. L., Donnellan, M. B., Horn, A. B., Holtzman, N. S., Edwards, T. S., Pennebaker, J. W., & Mehl, M. R. (2019). Depression, Negative Emotionality, and Self-Referential Language: A Multi-Lab, Multi-Measure, and Multi-Language-Task Research Synthesis. Journal of Personality and Social Psychology, 116(5), 817–834. https://doi.org/10.1037/pspp0000187.\n"
   ]
  },
  {
   "cell_type": "code",
   "execution_count": 8,
   "metadata": {},
   "outputs": [
    {
     "data": {
      "text/plain": [
       "['I ', \"I'm \", \"I've \", \"I'll \", \"I'd \", ' me ', 'Me ', ' myself ', 'Myself ']"
      ]
     },
     "execution_count": 8,
     "metadata": {},
     "output_type": "execute_result"
    }
   ],
   "source": [
    "pronounAll = [\"I \", \n",
    "               \"I'm \", \n",
    "               \"I've \", \n",
    "               \"I'll \", \n",
    "               \"I'd \", \n",
    "               \" me \", \n",
    "               \"Me \", \n",
    "               \" myself \", \n",
    "               \"Myself \"]\n",
    "pronounAll"
   ]
  },
  {
   "cell_type": "code",
   "execution_count": 9,
   "metadata": {},
   "outputs": [
    {
     "data": {
      "text/plain": [
       "['I ', \"I'm \", \"I've \", \"I'll \", \"I'd \"]"
      ]
     },
     "execution_count": 9,
     "metadata": {},
     "output_type": "execute_result"
    }
   ],
   "source": [
    "pronounSub = [\"I \", \"I'm \", \"I've \", \"I'll \", \"I'd \"]\n",
    "pronounSub"
   ]
  },
  {
   "cell_type": "code",
   "execution_count": 10,
   "metadata": {},
   "outputs": [
    {
     "data": {
      "text/plain": [
       "[' me ', 'Me ', ' myself ', 'Myself ']"
      ]
     },
     "execution_count": 10,
     "metadata": {},
     "output_type": "execute_result"
    }
   ],
   "source": [
    "pronounObj = [\" me \", \n",
    "               \"Me \", \n",
    "               \" myself \", \n",
    "               \"Myself \"]\n",
    "pronounObj"
   ]
  },
  {
   "cell_type": "markdown",
   "metadata": {},
   "source": [
    "## Now test"
   ]
  },
  {
   "cell_type": "code",
   "execution_count": 11,
   "metadata": {},
   "outputs": [],
   "source": [
    "chunk = 0"
   ]
  },
  {
   "cell_type": "code",
   "execution_count": 12,
   "metadata": {},
   "outputs": [],
   "source": [
    "#texts = [x.lower() for x in texts]"
   ]
  },
  {
   "cell_type": "code",
   "execution_count": 13,
   "metadata": {},
   "outputs": [
    {
     "data": {
      "text/plain": [
       "' TRINIDAD On Train from Steubenville Ohio to Cincinnati. Nov 30 1872. My Darling Sister Justina: How interestedly you Sister M Louis and myself read Eugénie de Guérin\\'s Journal and her daily anxieties to save her brother from being a spiritual outcast! This Journal which I propose keeping for you will deal with incidents occurring on my journey to Trinidad and happenings in that far-off land to which I am consigned. The Journal will begin with the first act. Here is Mother Josephine\\'s letter: Mt St Vincent O Nov 27 1872. Sister Blandina Steubenville O My Dear Child: You are missioned to Trinidad. You will leave Cincinnati Wednesday and alone. Mother Regina will attend to your needs. Devotedly Mother Josephine. This letter thrilled us both. I was delighted to make the sacrifice and you were hiding your feelings that I might not lose any merit. Neither of us could find Trinidad on the map except in the island of Cuba. So we concluded that Cuba was my destination. I was to leave Steubenville quietly so that none of my obstreperous pupils might cause the incoming teacher annoyance. Hence I went to Sunday catechetical class as usual 2:00 P M I was to take the 3:00 P M train for Cincinnati. I said to my hopefuls \"Instead of catechism I\\'m going to tell you an Indian story to-day.\" The schoolhouse roof was not disturbed though the hurrahs were loud enough! The moral of the story was \"Indian Endurance.\" Dismissed them at two-thirty without one word of goodbye except the daily one. You remember how surprised I was to see a crowd at the station to wish me \"Godspeed\"; I thought I was to slip away without anyone\\'s knowledge except our own. Mr Tait and Mr McCann wished to speak to me alone. Both had been in the West. \"You will have a long travel on the plains\" they said \"before you reach Trinidad.\" \"Where is Trinidad?\" \"A little mining town in Southwestern Colorado.\" So then I knew my destination which of course I would have been told at Mt St Vincent. Both gentlemen said they had traveled on the plains on the Santa Fe Trail and they seemed to have made it a matter of conscience to inform me on the subject of cowboys. This in substance was their conversation with me: \"Sister you may be snow-bound while on the plains.\" I looked my assent I knew I could not stop the snow. \"Travelers are sometimes snow-bound for two weeks and you are alone. This though is not the greatest danger to you.\" Mentally I was wishing both gentlemen somewhere else. \"Your real danger is from cowboys.\" I looked at the speakers. \"You do not seem to grasp our meaning. No virtuous woman is safe near a cowboy.\" Both gave up trying to make me understand what they considered danger. Why should snow or cowboys frighten me any more than others who will be traveling the same way! So you see dearest I\\'m not going to so long a distance as we thought. At three o\\'clock A M the baggage checker came through our coach. I looked to see how much the pocketbook contained just twenty-five cents. If I used it to ride to the Good Samaritan I\\'d be minus the fare to Mt St Vincent so I made up my mind to skirt around from the Little Miami to the Good Samaritan Hospital. At four A M I rang the front doorbell no response. I sat on the stone steps and waited till I heard the rising bell then I waited another fifteen minutes when again I rang the doorbell. Sister Anthony came. \"Why child where did you come from; how did you get here? I\\'m sure you are cold.\" I said I came from Steubenville. \"Oh yes! dear Father Bigelow died there. He was good to this hospital. Last year he sent a barge of coal to us.\" I said he was good to anyone in need. He died possessed of three dollars and fifty cents. His hand was always open to any kind of distress. I did not mention to Sister Anthony that I walked from the Little Miami Station. After Mass breakfast and miles of sympathy and \"God Bless You\" from the Sisters at the Good Samaritan one of the nurses accompanied me to Fifth and Vine Streets where I was to take \"Barney\\'s Bus\" for Mt St Vincent. The bus was to leave at ten A M I waited till three P M then asked one of the clerks if he thought Mr McCabe would run the bus that day. \"I fear no bus will run to-day. There is an epidemic epizootic among the horses.\" I asked if Mr Segale\\'s place of business was anywhere near. He pointed to Wood\\'s Theater and I started to the place indicated. Brother Henry managed to find a \"hack\" to send me to Mt St Vincent. On the way between the first ascent of the hill and the Seminary I met Sisters Gabriella and Delphina walking in the slush and cold on their way to the Orphan Asylum. I stopped to take them in. They returned with me to Cedar Grove from there the driver was to take them to the Asylum in Cumminsville. Sister Gabriella said to me \"I would gladly go where you are going instead of shouldering this heavy burden.\" Sister is to be mother to three hundred orphans taking Sister Sophia\\'s place. The Sisters are showing great sympathy. I heard Sister Benedicta say \"She does not mind going so far and alone I\\'ve not seen her shed a tear.\" Nor will you my dear Sister. The tears will flow where none but He and myself will know. Still I\\'m delighted to go. I did not tell you dearest that one year ago last November I wrote to Mother Regina saying I envied the sacrifices the Sisters were making who were sent far away to do God\\'s work. I\\'ve received my answer with compound interest. You know that up to date the Sisters going on distant missions were consulted and none were sent who had parents living. I am pleased that that record is broken in my case. Mother Regina told me to spend a day at home. Dear Lord! Give me strength. I anticipate a scene. I spent Wednesday December 5th at our old homestead. Mother kept open house all day. Friends came in groups. Mr Leverone and bride his mother and the bride\\'s mother Mrs Garibaldi the Misses Gardelli and a host of others. Mrs Garibaldi threatened to take off my habit. I said \"Hands off! Have you any right to detain Mary if John wishes to take her to California?\" \"Oh that is different.\" \"Yes as different as heaven and earth. I have chosen my portion Mary has chosen hers each abides by her choice.\" John Leverone\\'s mother acted most sensibly all day. She was soothing oil to all the protests made to my going. Our dear mother kept quiet. When we were permitted a lone interview she asked \"Do you want one of your sisters to accompany you?\" I answered \"I prefer to do just as my superiors have told me.\" \"Well then I will give you a thousand-dollar check so that in case you desire to return you will have the wherewith.\" \"No no dear mother I fully realize the responsibilities I assumed. As you are aware I realized them from the first day I entered the Novitiate.\" Mother replied: \"And I want to tell you I never doubted your vocation. I agree to your sacrifice my dear child keep on serving God I will never interfere. Now that I have your explicit answer friends cannot urge any logical reason to prevent your going.\" All day the visitors reminded me of a disturbed ant hill. When mother and I were alone she spoke the Genoese dialect. It was like hearing sketches of a favorite opera. Wednesday at 2:00 P M I went to visit our Ecclesiastical Superior. The Most Rev J B Purcell offered me several gifts. But St Francis Xavier is my patron so I\\'m not going to possess any superfluous article I only regret I could not pass our home without going in as St Francis Xavier did. If I aim high I surely must reach some upper strata of detachment in His service. One thing I take with me the impressive blessing given me by His Grace part of which rings clear \"May angels guard your every step.\" He was extremely sympathetic at my having to go alone. I went to confession to Rev Dr Callaghan. You may recall how we enjoyed his lecture on the \"School Question\" delivered in Steubenville. After mother had a short interview with me father managed to see me alone. He took hold of me and asked \"Have I ever denied you anything?\" I signified no. \"You have never disobeyed me in your life?\" I assented. \"Now I command you you must not go on this far away mission! Are you going?\" \"Yes father.\" He let go the hold on my arm and walked toward the door. Not without my seeing his tears falling fast. He did not realize his hold on my arm gave me pain not to speak of the heart-pain for him. In the railway station at St Louis between train time I got off to purchase a pair of arctics. I saw several Italian women selling fruit. One of them had a daughter standing near. I asked the mother if she would permit her daughter to accompany me to the shoe store which was in sight. The mother looked at me earnestly then said to her neighbor peddler \"How do I know who she is she looks like a monica (sister) but she might be a strega (witch).\" I thanked the true guardian of her daughter and went to make my purchase alone. I spoke English to the peddler. If good Sister Benedicta who thought I did not mind because I did not cry had seen me during the greater part of last night she would but too truly have said \"That heart is human in every fiber.\" That I succeeded in dignifiedly getting away from home is Thy Grace oh my God! Forty-two persons accompanied me to the train among them friends of old but my purpose never faltered not even in shadow. Such tactics as I executed yesterday! I see one trait strong in me the straight service of God. Not the father whom I had never seen cry nor the most patient dearest mother whose heart is crushed at my being sent alone much less the friends who used every argument to make me say I would not go could elicit the faintest trace that I was not more pleased at my going alone than if I had had a dozen with me. Sisters Antonia and Gonzaga came to the waiting room. I asked the company to permit me an interview with the Sisters. When going toward them one of my dear old friends said \"Look we cannot doubt she is happy.\" This was not intended for my hearing the noise caused the speaker to raise her voice. Sister Antonia asked me how I had spent the day. I narrated some incidents. \"I\\'m an ancient religious but I could not have gone through the ordeal as creditably as you did.\" What if I had mentioned all the heart sighs I had witnessed! When it was time to board the train I asked that my last interview be with my mother. Cannot you picture her sad endearing look of appreciation? I\\'ll skip the last talk with mother some of it was in silence. '"
      ]
     },
     "execution_count": 13,
     "metadata": {},
     "output_type": "execute_result"
    }
   ],
   "source": [
    "texts[chunk]"
   ]
  },
  {
   "cell_type": "code",
   "execution_count": 14,
   "metadata": {},
   "outputs": [
    {
     "name": "stdout",
     "output_type": "stream",
     "text": [
      "104\n"
     ]
    }
   ],
   "source": [
    "# Subjective\n",
    "\n",
    "Count = 0\n",
    "\n",
    "for i in pronounSub:\n",
    "    Count = texts[chunk].count(i) + Count\n",
    "\n",
    "print(Count)"
   ]
  },
  {
   "cell_type": "code",
   "execution_count": 15,
   "metadata": {},
   "outputs": [
    {
     "name": "stdout",
     "output_type": "stream",
     "text": [
      "30\n"
     ]
    }
   ],
   "source": [
    "# Objective\n",
    "\n",
    "Count = 0\n",
    "\n",
    "for i in pronounObj:\n",
    "    Count = texts[chunk].count(i) + Count\n",
    "\n",
    "print(Count)"
   ]
  },
  {
   "cell_type": "code",
   "execution_count": 16,
   "metadata": {},
   "outputs": [
    {
     "name": "stdout",
     "output_type": "stream",
     "text": [
      "134\n"
     ]
    }
   ],
   "source": [
    "# All pronouns\n",
    "\n",
    "Count = 0\n",
    "\n",
    "for i in pronounAll:\n",
    "    Count = texts[chunk].count(i) + Count\n",
    "\n",
    "print(Count)"
   ]
  },
  {
   "cell_type": "markdown",
   "metadata": {},
   "source": [
    "## Now run on all"
   ]
  },
  {
   "cell_type": "code",
   "execution_count": 17,
   "metadata": {},
   "outputs": [
    {
     "name": "stdout",
     "output_type": "stream",
     "text": [
      "492\n",
      "[134, 135, 97, 78, 89, 75, 41, 21, 32]\n"
     ]
    }
   ],
   "source": [
    "# Now the rest\n",
    "\n",
    "fppAll_Ct = []\n",
    "\n",
    "for item in texts:\n",
    "    Count = 0\n",
    "    for i in pronounAll:\n",
    "        #print(texts[0].count(i))\n",
    "        Count = item.count(i) + Count\n",
    "    \n",
    "    fppAll_Ct.append(Count)\n",
    "\n",
    "print(len(fppAll_Ct))\n",
    "print(fppAll_Ct[0:9])"
   ]
  },
  {
   "cell_type": "code",
   "execution_count": 18,
   "metadata": {},
   "outputs": [
    {
     "name": "stdout",
     "output_type": "stream",
     "text": [
      "492\n",
      "[104, 99, 76, 60, 70, 59, 34, 17, 26]\n"
     ]
    }
   ],
   "source": [
    "# Now just subjective pronouns\n",
    "\n",
    "fppSub_Ct = []\n",
    "\n",
    "for item in texts:\n",
    "    Count = 0\n",
    "    for i in pronounSub:\n",
    "        #print(texts[0].count(i))\n",
    "        Count = item.count(i) + Count\n",
    "    \n",
    "    fppSub_Ct.append(Count)\n",
    "\n",
    "print(len(fppSub_Ct))\n",
    "print(fppSub_Ct[0:9])"
   ]
  },
  {
   "cell_type": "code",
   "execution_count": 19,
   "metadata": {},
   "outputs": [
    {
     "name": "stdout",
     "output_type": "stream",
     "text": [
      "492\n",
      "[30, 36, 21, 18, 19, 16, 7, 4, 6]\n"
     ]
    }
   ],
   "source": [
    "# Now just subjective pronouns\n",
    "\n",
    "fppObj_Ct = []\n",
    "\n",
    "for item in texts:\n",
    "    Count = 0\n",
    "    for i in pronounObj:\n",
    "        #print(texts[0].count(i))\n",
    "        Count = item.count(i) + Count\n",
    "    \n",
    "    fppObj_Ct.append(Count)\n",
    "\n",
    "print(len(fppObj_Ct))\n",
    "print(fppObj_Ct[0:9])"
   ]
  },
  {
   "cell_type": "markdown",
   "metadata": {},
   "source": [
    "## Add new variables to metadata"
   ]
  },
  {
   "cell_type": "code",
   "execution_count": 20,
   "metadata": {},
   "outputs": [
    {
     "name": "stdout",
     "output_type": "stream",
     "text": [
      "<class 'pandas.core.frame.DataFrame'>\n",
      "Int64Index: 492 entries, 0 to 491\n",
      "Data columns (total 32 columns):\n",
      " #   Column            Non-Null Count  Dtype  \n",
      "---  ------            --------------  -----  \n",
      " 0   docID-AT          492 non-null    int64  \n",
      " 1   docauthorid       492 non-null    object \n",
      " 2   docauthorname     492 non-null    object \n",
      " 3   docid             492 non-null    object \n",
      " 4   docyear           489 non-null    float64\n",
      " 5   docmonth          477 non-null    float64\n",
      " 6   authorgender      492 non-null    object \n",
      " 7   agewriting        380 non-null    float64\n",
      " 8   agedeath          365 non-null    float64\n",
      " 9   relMin            396 non-null    object \n",
      " 10  nationalOrigin    491 non-null    object \n",
      " 11  authorLocation    492 non-null    object \n",
      " 12  U                 442 non-null    object \n",
      " 13  M                 442 non-null    object \n",
      " 14  S                 442 non-null    object \n",
      " 15  F                 442 non-null    object \n",
      " 16  L                 442 non-null    object \n",
      " 17  text              492 non-null    object \n",
      " 18  scoreNeg          492 non-null    float64\n",
      " 19  scorePos          492 non-null    float64\n",
      " 20  scoreNeu          492 non-null    float64\n",
      " 21  scoreCompound     492 non-null    float64\n",
      " 22  totalTokens       492 non-null    int64  \n",
      " 23  uniqueTokens      492 non-null    int64  \n",
      " 24  lexicalDiversity  492 non-null    float64\n",
      " 25  topicNumber       492 non-null    int64  \n",
      " 26  mentsDis          492 non-null    object \n",
      " 27  mentsTot          492 non-null    int64  \n",
      " 28  indsTot           492 non-null    int64  \n",
      " 29  fppAll_Ct         492 non-null    int64  \n",
      " 30  fppSub_Ct         492 non-null    int64  \n",
      " 31  fppObj_Ct         492 non-null    int64  \n",
      "dtypes: float64(9), int64(9), object(14)\n",
      "memory usage: 126.8+ KB\n"
     ]
    }
   ],
   "source": [
    "df['mentsDis'] = [', '.join(x) for x in mentsDis]\n",
    "df['mentsTot'] = mentsTot\n",
    "df['indsTot'] = indsTot\n",
    "df['fppAll_Ct'] = fppAll_Ct\n",
    "df['fppSub_Ct'] = fppSub_Ct\n",
    "df['fppObj_Ct'] = fppObj_Ct\n",
    "df.info()"
   ]
  },
  {
   "cell_type": "code",
   "execution_count": 21,
   "metadata": {
    "scrolled": true
   },
   "outputs": [
    {
     "data": {
      "text/html": [
       "<div>\n",
       "<style scoped>\n",
       "    .dataframe tbody tr th:only-of-type {\n",
       "        vertical-align: middle;\n",
       "    }\n",
       "\n",
       "    .dataframe tbody tr th {\n",
       "        vertical-align: top;\n",
       "    }\n",
       "\n",
       "    .dataframe thead th {\n",
       "        text-align: right;\n",
       "    }\n",
       "</style>\n",
       "<table border=\"1\" class=\"dataframe\">\n",
       "  <thead>\n",
       "    <tr style=\"text-align: right;\">\n",
       "      <th></th>\n",
       "      <th>docID-AT</th>\n",
       "      <th>docauthorid</th>\n",
       "      <th>docauthorname</th>\n",
       "      <th>docid</th>\n",
       "      <th>docyear</th>\n",
       "      <th>docmonth</th>\n",
       "      <th>authorgender</th>\n",
       "      <th>agewriting</th>\n",
       "      <th>agedeath</th>\n",
       "      <th>relMin</th>\n",
       "      <th>...</th>\n",
       "      <th>totalTokens</th>\n",
       "      <th>uniqueTokens</th>\n",
       "      <th>lexicalDiversity</th>\n",
       "      <th>topicNumber</th>\n",
       "      <th>mentsDis</th>\n",
       "      <th>mentsTot</th>\n",
       "      <th>indsTot</th>\n",
       "      <th>fppAll_Ct</th>\n",
       "      <th>fppSub_Ct</th>\n",
       "      <th>fppObj_Ct</th>\n",
       "    </tr>\n",
       "  </thead>\n",
       "  <tbody>\n",
       "    <tr>\n",
       "      <th>0</th>\n",
       "      <td>1</td>\n",
       "      <td>per0001043</td>\n",
       "      <td>Segale, Sister Blandina, 1850-1941</td>\n",
       "      <td>S1019-D002</td>\n",
       "      <td>1872.0</td>\n",
       "      <td>11.0</td>\n",
       "      <td>F</td>\n",
       "      <td>22.0</td>\n",
       "      <td>91.0</td>\n",
       "      <td>True</td>\n",
       "      <td>...</td>\n",
       "      <td>1998</td>\n",
       "      <td>773</td>\n",
       "      <td>0.386887</td>\n",
       "      <td>4</td>\n",
       "      <td>Darling Sister, Justina, Sister M Louis, Mothe...</td>\n",
       "      <td>37</td>\n",
       "      <td>31</td>\n",
       "      <td>134</td>\n",
       "      <td>104</td>\n",
       "      <td>30</td>\n",
       "    </tr>\n",
       "    <tr>\n",
       "      <th>1</th>\n",
       "      <td>2</td>\n",
       "      <td>per0001043</td>\n",
       "      <td>Segale, Sister Blandina, 1850-1941</td>\n",
       "      <td>S1019-D004</td>\n",
       "      <td>1872.0</td>\n",
       "      <td>12.0</td>\n",
       "      <td>F</td>\n",
       "      <td>22.0</td>\n",
       "      <td>91.0</td>\n",
       "      <td>True</td>\n",
       "      <td>...</td>\n",
       "      <td>2474</td>\n",
       "      <td>841</td>\n",
       "      <td>0.339935</td>\n",
       "      <td>5</td>\n",
       "      <td>Sisters, Mass, Sister Gabriella, Martha, Siste...</td>\n",
       "      <td>30</td>\n",
       "      <td>17</td>\n",
       "      <td>135</td>\n",
       "      <td>99</td>\n",
       "      <td>36</td>\n",
       "    </tr>\n",
       "    <tr>\n",
       "      <th>2</th>\n",
       "      <td>3</td>\n",
       "      <td>per0001043</td>\n",
       "      <td>Segale, Sister Blandina, 1850-1941</td>\n",
       "      <td>S1019-D005</td>\n",
       "      <td>1872.0</td>\n",
       "      <td>12.0</td>\n",
       "      <td>F</td>\n",
       "      <td>22.0</td>\n",
       "      <td>91.0</td>\n",
       "      <td>True</td>\n",
       "      <td>...</td>\n",
       "      <td>2281</td>\n",
       "      <td>828</td>\n",
       "      <td>0.362999</td>\n",
       "      <td>5</td>\n",
       "      <td>Kit Carson, Mrs Mullen, Seller, Otero, leastwi...</td>\n",
       "      <td>24</td>\n",
       "      <td>22</td>\n",
       "      <td>97</td>\n",
       "      <td>76</td>\n",
       "      <td>21</td>\n",
       "    </tr>\n",
       "    <tr>\n",
       "      <th>3</th>\n",
       "      <td>4</td>\n",
       "      <td>per0001043</td>\n",
       "      <td>Segale, Sister Blandina, 1850-1941</td>\n",
       "      <td>S1019-D006</td>\n",
       "      <td>1872.0</td>\n",
       "      <td>12.0</td>\n",
       "      <td>F</td>\n",
       "      <td>22.0</td>\n",
       "      <td>91.0</td>\n",
       "      <td>True</td>\n",
       "      <td>...</td>\n",
       "      <td>2272</td>\n",
       "      <td>863</td>\n",
       "      <td>0.379842</td>\n",
       "      <td>5</td>\n",
       "      <td>Ida Chené, Mrs Chené, Mass, Et introibo, Kyrie...</td>\n",
       "      <td>35</td>\n",
       "      <td>17</td>\n",
       "      <td>78</td>\n",
       "      <td>60</td>\n",
       "      <td>18</td>\n",
       "    </tr>\n",
       "    <tr>\n",
       "      <th>4</th>\n",
       "      <td>5</td>\n",
       "      <td>per0001043</td>\n",
       "      <td>Segale, Sister Blandina, 1850-1941</td>\n",
       "      <td>S1019-D007</td>\n",
       "      <td>1873.0</td>\n",
       "      <td>3.0</td>\n",
       "      <td>F</td>\n",
       "      <td>23.0</td>\n",
       "      <td>91.0</td>\n",
       "      <td>True</td>\n",
       "      <td>...</td>\n",
       "      <td>2117</td>\n",
       "      <td>805</td>\n",
       "      <td>0.380255</td>\n",
       "      <td>5</td>\n",
       "      <td>Sister Marcella, Bishop Salpointe, Sisters, Si...</td>\n",
       "      <td>17</td>\n",
       "      <td>12</td>\n",
       "      <td>89</td>\n",
       "      <td>70</td>\n",
       "      <td>19</td>\n",
       "    </tr>\n",
       "  </tbody>\n",
       "</table>\n",
       "<p>5 rows × 32 columns</p>\n",
       "</div>"
      ],
      "text/plain": [
       "   docID-AT docauthorid                       docauthorname       docid  \\\n",
       "0         1  per0001043  Segale, Sister Blandina, 1850-1941  S1019-D002   \n",
       "1         2  per0001043  Segale, Sister Blandina, 1850-1941  S1019-D004   \n",
       "2         3  per0001043  Segale, Sister Blandina, 1850-1941  S1019-D005   \n",
       "3         4  per0001043  Segale, Sister Blandina, 1850-1941  S1019-D006   \n",
       "4         5  per0001043  Segale, Sister Blandina, 1850-1941  S1019-D007   \n",
       "\n",
       "   docyear  docmonth authorgender  agewriting  agedeath relMin  ...  \\\n",
       "0   1872.0      11.0            F        22.0      91.0   True  ...   \n",
       "1   1872.0      12.0            F        22.0      91.0   True  ...   \n",
       "2   1872.0      12.0            F        22.0      91.0   True  ...   \n",
       "3   1872.0      12.0            F        22.0      91.0   True  ...   \n",
       "4   1873.0       3.0            F        23.0      91.0   True  ...   \n",
       "\n",
       "  totalTokens uniqueTokens lexicalDiversity topicNumber  \\\n",
       "0        1998          773         0.386887           4   \n",
       "1        2474          841         0.339935           5   \n",
       "2        2281          828         0.362999           5   \n",
       "3        2272          863         0.379842           5   \n",
       "4        2117          805         0.380255           5   \n",
       "\n",
       "                                            mentsDis mentsTot indsTot  \\\n",
       "0  Darling Sister, Justina, Sister M Louis, Mothe...       37      31   \n",
       "1  Sisters, Mass, Sister Gabriella, Martha, Siste...       30      17   \n",
       "2  Kit Carson, Mrs Mullen, Seller, Otero, leastwi...       24      22   \n",
       "3  Ida Chené, Mrs Chené, Mass, Et introibo, Kyrie...       35      17   \n",
       "4  Sister Marcella, Bishop Salpointe, Sisters, Si...       17      12   \n",
       "\n",
       "  fppAll_Ct  fppSub_Ct  fppObj_Ct  \n",
       "0       134        104         30  \n",
       "1       135         99         36  \n",
       "2        97         76         21  \n",
       "3        78         60         18  \n",
       "4        89         70         19  \n",
       "\n",
       "[5 rows x 32 columns]"
      ]
     },
     "execution_count": 21,
     "metadata": {},
     "output_type": "execute_result"
    }
   ],
   "source": [
    "df.head()"
   ]
  },
  {
   "cell_type": "code",
   "execution_count": 22,
   "metadata": {},
   "outputs": [],
   "source": [
    "df.to_csv(\"20240414_PhD_FinalData-Ltr.csv\")"
   ]
  }
 ],
 "metadata": {
  "kernelspec": {
   "display_name": "Python 3 (ipykernel)",
   "language": "python",
   "name": "python3"
  },
  "language_info": {
   "codemirror_mode": {
    "name": "ipython",
    "version": 3
   },
   "file_extension": ".py",
   "mimetype": "text/x-python",
   "name": "python",
   "nbconvert_exporter": "python",
   "pygments_lexer": "ipython3",
   "version": "3.9.5"
  }
 },
 "nbformat": 4,
 "nbformat_minor": 2
}
