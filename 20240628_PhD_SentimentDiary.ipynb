{
 "cells": [
  {
   "cell_type": "markdown",
   "metadata": {},
   "source": [
    "# Sentiment Scores: Diaries"
   ]
  },
  {
   "cell_type": "markdown",
   "metadata": {},
   "source": [
    "For system details and resources, see PhD_SystemCheck.ipynb and PhD_Modules.ipynb"
   ]
  },
  {
   "cell_type": "code",
   "execution_count": 4,
   "metadata": {},
   "outputs": [],
   "source": [
    "import nltk\n",
    "from nltk.corpus import PlaintextCorpusReader\n",
    "from nltk.tokenize import RegexpTokenizer\n",
    "from nltk.sentiment.vader import SentimentIntensityAnalyzer\n",
    "import nltk\n",
    "from nltk import word_tokenize\n",
    "\n",
    "import pandas as pd\n",
    "import re\n",
    "import numpy as np"
   ]
  },
  {
   "cell_type": "code",
   "execution_count": 2,
   "metadata": {
    "scrolled": true
   },
   "outputs": [],
   "source": [
    "tokenizer = RegexpTokenizer('\\w+')\n",
    "sentenceTokenizer = nltk.data.load('tokenizers/punkt/english.pickle') #Load tokenizer\n",
    "sentimentAnalyzer = SentimentIntensityAnalyzer() #Initialize sentiment scorer"
   ]
  },
  {
   "cell_type": "code",
   "execution_count": 3,
   "metadata": {},
   "outputs": [
    {
     "data": {
      "text/plain": [
       "7268"
      ]
     },
     "execution_count": 3,
     "metadata": {},
     "output_type": "execute_result"
    }
   ],
   "source": [
    "len(sentimentAnalyzer.lexicon)"
   ]
  },
  {
   "cell_type": "code",
   "execution_count": 4,
   "metadata": {},
   "outputs": [],
   "source": [
    "# Here I am writing the file to a csv to figure out what is missing.\n",
    "#with open('20240331_PhD_VaderLexicon-mdcleaned.csv', 'w') as f:\n",
    "    #[f.write('{0},{1}\\n'.format(key, value)) for key, value in sentimentAnalyzer.lexicon.items()]"
   ]
  },
  {
   "cell_type": "code",
   "execution_count": 4,
   "metadata": {},
   "outputs": [
    {
     "data": {
      "text/plain": [
       "5"
      ]
     },
     "execution_count": 4,
     "metadata": {},
     "output_type": "execute_result"
    }
   ],
   "source": [
    "Corpus = PlaintextCorpusReader('20240628_PhD_Diaries', '.*txt') #Define corpus\n",
    "len(Corpus.fileids()) #How many files"
   ]
  },
  {
   "cell_type": "markdown",
   "metadata": {},
   "source": [
    "Make a new folder called \"cleaned\" in the letters folder for the output."
   ]
  },
  {
   "cell_type": "markdown",
   "metadata": {},
   "source": [
    "# Building / testing the text cleaning script"
   ]
  },
  {
   "cell_type": "code",
   "execution_count": 2,
   "metadata": {},
   "outputs": [],
   "source": [
    "text = open(\"test/D0002.txt\", \"r\")\n",
    "text = text.read()\n",
    "#print(text)"
   ]
  },
  {
   "cell_type": "code",
   "execution_count": 5,
   "metadata": {
    "scrolled": true
   },
   "outputs": [],
   "source": [
    "text = re.sub(r\"(\\n+)\",\" \", text) # Replace blank lines with a single space\n",
    "text = re.sub(r\"(\\[[^?]*?\\])\",\"\", text) #Remove bracketed (i.e., transcriber) notes\n",
    "text = re.sub(r\"(\\[)\",\"\", text) #Remove opening bracket\n",
    "text = re.sub(r\"(\\?\\])\",\"\", text) #Remove question mark and closing bracket\n",
    "text = re.sub(r\"(—){2,}\",\" \", text) # Replace 2 or more dashes with space\n",
    "text = re.sub(r\"(-){2,}\",\" \", text) # Replace 2 or more hyphens with space\n",
    "text = re.sub(r\"(&dot)\",\"\", text) # Remove this expression (a dot)\n",
    "text = re.sub(r\"(_)\",\"\", text) # Remove underscore\n",
    "text = re.sub(r\"([Ã,Â])\",\"\", text) # Remove special characters\n",
    "text = re.sub(r\"(£)\",\" pounds \", text) # Replace pound symbol with word\n",
    "text = re.sub(r\"( & )\",\" and \", text) # Replace ampersand with word\n",
    "text = re.sub(r\"(\\r)\",\" \", text) # Replace /r with blank space\n",
    "text = re.sub(r\"(\\˙)\",\"\", text) # Remove dot\n",
    "text = re.sub(r\"(\\#PAGE)\",\"\", text) #Remove #Page\n",
    "text = re.sub(r\"(\\(sic\\))\",\"\", text) #Remove #sic\n",
    "text = re.sub(r\"(\\. ){2,}\",\"\", text) # Remove ellipses\n",
    "text = re.sub(r\"(\\/)\",\"\", text) # Remove backslash\n",
    "text = re.sub(r\"(^\\s*)\",\"\", text) # Remove blank spaces at the start of the string\n",
    "text = re.sub(r\"(\\s){2,}\",\" \", text) # Replace 2 or more white spaces with just one\n",
    "text = re.sub(r\"$\",\"\\n\", text) # Ensure that there is a newline to the end of the string\n",
    "text = re.sub(r\"(\\+)\",\"and\", text) # Replace blank lines with a single space\n",
    "text = re.sub(r\"(\\\\)\",\"\", text) #Remove opening slash\n",
    "text = re.sub(r\"(\\/)\",\"\", text) #Remove closing slash thus leaving contents\n",
    "text = re.sub(r\"(₤)\",\" pounds \", text) # Replace lira symbol with word pounds\n",
    "text = re.sub(r\"(\\\")\",\"\", text) # Quotation marks\n",
    "#print(text)"
   ]
  },
  {
   "cell_type": "code",
   "execution_count": 6,
   "metadata": {},
   "outputs": [],
   "source": [
    "text = re.sub(r'[^\\w\\s]', '', text)\n",
    "#print(text)    "
   ]
  },
  {
   "cell_type": "markdown",
   "metadata": {},
   "source": [
    "# Now calculate sentiment for the whole folder and the medium Vader lexicon"
   ]
  },
  {
   "cell_type": "code",
   "execution_count": 76,
   "metadata": {},
   "outputs": [
    {
     "data": {
      "text/html": [
       "<div>\n",
       "<style scoped>\n",
       "    .dataframe tbody tr th:only-of-type {\n",
       "        vertical-align: middle;\n",
       "    }\n",
       "\n",
       "    .dataframe tbody tr th {\n",
       "        vertical-align: top;\n",
       "    }\n",
       "\n",
       "    .dataframe thead th {\n",
       "        text-align: right;\n",
       "    }\n",
       "</style>\n",
       "<table border=\"1\" class=\"dataframe\">\n",
       "  <thead>\n",
       "    <tr style=\"text-align: right;\">\n",
       "      <th></th>\n",
       "      <th>text</th>\n",
       "      <th>docid</th>\n",
       "      <th>totalTokens</th>\n",
       "      <th>uniqueTokens</th>\n",
       "      <th>lexicalDiversity</th>\n",
       "      <th>scoreNeg</th>\n",
       "      <th>scoreNeu</th>\n",
       "      <th>scorePos</th>\n",
       "      <th>scoreCom</th>\n",
       "    </tr>\n",
       "  </thead>\n",
       "  <tbody>\n",
       "  </tbody>\n",
       "</table>\n",
       "</div>"
      ],
      "text/plain": [
       "Empty DataFrame\n",
       "Columns: [text, docid, totalTokens, uniqueTokens, lexicalDiversity, scoreNeg, scoreNeu, scorePos, scoreCom]\n",
       "Index: []"
      ]
     },
     "execution_count": 76,
     "metadata": {},
     "output_type": "execute_result"
    }
   ],
   "source": [
    "sentiment = pd.DataFrame(columns = ['text','docid', 'totalTokens', 'uniqueTokens', 'lexicalDiversity', 'scoreNeg', 'scoreNeu', 'scorePos', 'scoreCom']) # Create a new dataframe to hold sentences, letter id and compound scores\n",
    "sentiment.head()"
   ]
  },
  {
   "cell_type": "code",
   "execution_count": 77,
   "metadata": {},
   "outputs": [
    {
     "data": {
      "text/plain": [
       "4"
      ]
     },
     "execution_count": 77,
     "metadata": {},
     "output_type": "execute_result"
    }
   ],
   "source": [
    "Corpus = PlaintextCorpusReader('20240628_PhD_Diaries', '.*txt') #Define corpus\n",
    "len(Corpus.fileids()) #How many files"
   ]
  },
  {
   "cell_type": "code",
   "execution_count": 78,
   "metadata": {},
   "outputs": [
    {
     "name": "stdout",
     "output_type": "stream",
     "text": [
      "D0002.txt\n",
      "D0003.txt\n",
      "D0007.txt\n",
      "D0009.txt\n",
      "done\n"
     ]
    }
   ],
   "source": [
    "for fileid in Corpus.fileids(): # For each file in the corpus\n",
    "    #Proprocess and save text\n",
    "    f = open(\"20240628_PhD_Diaries/cleaned/\" + fileid, \"w\", encoding='utf-8')\n",
    "    text = Corpus.raw(fileid) # Place the string into the object \"text\"\n",
    "    text = re.sub(r\"(\\n+)\",\" \", text) # Replace blank lines with a single space\n",
    "    text = re.sub(r\"(\\[[^?]*?\\])\",\"\", text) #Remove bracketed (i.e., transcriber) notes\n",
    "    text = re.sub(r\"(\\[)\",\"\", text) #Remove opening bracket\n",
    "    text = re.sub(r\"(\\?\\])\",\"\", text) #Remove question mark and closing bracket\n",
    "    text = re.sub(r\"(—){2,}\",\" \", text) # Replace 2 or more dashes with space\n",
    "    text = re.sub(r\"(-){2,}\",\" \", text) # Replace 2 or more hyphens with space\n",
    "    text = re.sub(r\"(&dot)\",\"\", text) # Remove this expression (a dot)\n",
    "    text = re.sub(r\"(_)\",\"\", text) # Remove underscore\n",
    "    text = re.sub(r\"([Ã,Â])\",\"\", text) # Remove special characters\n",
    "    text = re.sub(r\"(£)\",\" pounds \", text) # Replace pound symbol with word\n",
    "    text = re.sub(r\"( & )\",\" and \", text) # Replace ampersand with word\n",
    "    text = re.sub(r\"(\\r)\",\" \", text) # Replace /r with blank space\n",
    "    text = re.sub(r\"(\\˙)\",\"\", text) # Remove dot\n",
    "    text = re.sub(r\"(\\#PAGE)\",\"\", text) #Remove #Page\n",
    "    text = re.sub(r\"(\\(sic\\))\",\"\", text) #Remove #sic\n",
    "    text = re.sub(r\"(\\. ){2,}\",\"\", text) # Remove ellipses\n",
    "    text = re.sub(r\"(\\/)\",\"\", text) # Remove backslash\n",
    "    text = re.sub(r\"(^\\s*)\",\"\", text) # Remove blank spaces at the start of the string\n",
    "    text = re.sub(r\"(\\s){2,}\",\" \", text) # Replace 2 or more white spaces with just one\n",
    "    text = re.sub(r\"(\\+)\",\"and\", text) # Replace blank lines with a single space\n",
    "    text = re.sub(r\"(\\\\)\",\"\", text) #Remove opening slash\n",
    "    text = re.sub(r\"(\\/)\",\"\", text) #Remove closing slash thus leaving contents\n",
    "    text = re.sub(r\"(₤)\",\" pounds \", text) # Replace lira symbol with word pounds\n",
    "    text = re.sub(r\"(\\\")\",\"\", text) # Quotation marks\n",
    "    text = re.sub(r\"$\",\"\\n\", text) # Ensure that there is a newline to the end of the string\n",
    "    f.write(text)\n",
    "    f.close()\n",
    "    # Now basic metrics\n",
    "    tokens = tokenizer.tokenize(text)\n",
    "    totalTokens = len(tokens)\n",
    "    uniqueTokens = len(set(tokens))\n",
    "    lexicalDiversity = uniqueTokens/totalTokens\n",
    "    # Now score sentiment\n",
    "    sentences = sentenceTokenizer.tokenize(text) # Place sentences into a list called \"sentences\"\n",
    "    scoreNeg = 0.0\n",
    "    scoreNeu = 0.0\n",
    "    scorePos = 0.0\n",
    "    scoreCom = 0.0\n",
    "    #sequence = 0 # Create a counter to keep track of sentence order\n",
    "    for sentence in sentences: # For each sentence in the letter \n",
    "        #sequence +=1 # Counter updater\n",
    "        scores = sentimentAnalyzer.polarity_scores(sentence) # Calculate sentiment scores\n",
    "        scoreNeg += scores[\"neg\"]\n",
    "        scoreNeu += scores[\"neu\"]\n",
    "        scorePos += scores[\"pos\"]\n",
    "        scoreCom += scores[\"compound\"]\n",
    "    scoreNeg = scoreNeg / len(sentences)\n",
    "    scoreNeu = scoreNeu / len(sentences)\n",
    "    scorePos = scorePos / len(sentences)\n",
    "    scoreCom = scoreCom / len(sentences)\n",
    "    new_row = pd.Series([text, fileid, totalTokens, uniqueTokens, lexicalDiversity, scoreNeg, scoreNeu, scorePos, scoreCom], index=['text','docid', 'totalTokens', 'uniqueTokens', 'lexicalDiversity', 'scoreNeg', 'scoreNeu', 'scorePos', 'scoreCom'])\n",
    "    sentiment = pd.concat([sentiment, new_row.to_frame().T], ignore_index=True)\n",
    "    print(fileid) # Show progress\n",
    "print(\"done\")"
   ]
  },
  {
   "cell_type": "code",
   "execution_count": 79,
   "metadata": {},
   "outputs": [
    {
     "data": {
      "text/html": [
       "<div>\n",
       "<style scoped>\n",
       "    .dataframe tbody tr th:only-of-type {\n",
       "        vertical-align: middle;\n",
       "    }\n",
       "\n",
       "    .dataframe tbody tr th {\n",
       "        vertical-align: top;\n",
       "    }\n",
       "\n",
       "    .dataframe thead th {\n",
       "        text-align: right;\n",
       "    }\n",
       "</style>\n",
       "<table border=\"1\" class=\"dataframe\">\n",
       "  <thead>\n",
       "    <tr style=\"text-align: right;\">\n",
       "      <th></th>\n",
       "      <th>text</th>\n",
       "      <th>docid</th>\n",
       "      <th>totalTokens</th>\n",
       "      <th>uniqueTokens</th>\n",
       "      <th>lexicalDiversity</th>\n",
       "      <th>scoreNeg</th>\n",
       "      <th>scoreNeu</th>\n",
       "      <th>scorePos</th>\n",
       "      <th>scoreCom</th>\n",
       "    </tr>\n",
       "  </thead>\n",
       "  <tbody>\n",
       "    <tr>\n",
       "      <th>0</th>\n",
       "      <td>Charra Wednesday Nov 4th 1883 A nice cool day ...</td>\n",
       "      <td>D0002.txt</td>\n",
       "      <td>81551</td>\n",
       "      <td>6885</td>\n",
       "      <td>0.084426</td>\n",
       "      <td>0.057039</td>\n",
       "      <td>0.89367</td>\n",
       "      <td>0.049316</td>\n",
       "      <td>-0.178757</td>\n",
       "    </tr>\n",
       "    <tr>\n",
       "      <th>1</th>\n",
       "      <td>May 6th Very wet morning it has stopped me fro...</td>\n",
       "      <td>D0003.txt</td>\n",
       "      <td>19635</td>\n",
       "      <td>1939</td>\n",
       "      <td>0.098752</td>\n",
       "      <td>0.02814</td>\n",
       "      <td>0.916614</td>\n",
       "      <td>0.053863</td>\n",
       "      <td>0.070318</td>\n",
       "    </tr>\n",
       "    <tr>\n",
       "      <th>2</th>\n",
       "      <td>Diary of Capt. John Hart 1865 1 January 1 Sund...</td>\n",
       "      <td>D0007.txt</td>\n",
       "      <td>54919</td>\n",
       "      <td>6332</td>\n",
       "      <td>0.115297</td>\n",
       "      <td>0.050477</td>\n",
       "      <td>0.896772</td>\n",
       "      <td>0.052744</td>\n",
       "      <td>-0.017036</td>\n",
       "    </tr>\n",
       "    <tr>\n",
       "      <th>3</th>\n",
       "      <td>Edith Gwynne July 14 71 Glynde Place July 17 B...</td>\n",
       "      <td>D0009.txt</td>\n",
       "      <td>28146</td>\n",
       "      <td>5644</td>\n",
       "      <td>0.200526</td>\n",
       "      <td>0.039007</td>\n",
       "      <td>0.910292</td>\n",
       "      <td>0.050688</td>\n",
       "      <td>0.025624</td>\n",
       "    </tr>\n",
       "  </tbody>\n",
       "</table>\n",
       "</div>"
      ],
      "text/plain": [
       "                                                text      docid totalTokens  \\\n",
       "0  Charra Wednesday Nov 4th 1883 A nice cool day ...  D0002.txt       81551   \n",
       "1  May 6th Very wet morning it has stopped me fro...  D0003.txt       19635   \n",
       "2  Diary of Capt. John Hart 1865 1 January 1 Sund...  D0007.txt       54919   \n",
       "3  Edith Gwynne July 14 71 Glynde Place July 17 B...  D0009.txt       28146   \n",
       "\n",
       "  uniqueTokens lexicalDiversity  scoreNeg  scoreNeu  scorePos  scoreCom  \n",
       "0         6885         0.084426  0.057039   0.89367  0.049316 -0.178757  \n",
       "1         1939         0.098752   0.02814  0.916614  0.053863  0.070318  \n",
       "2         6332         0.115297  0.050477  0.896772  0.052744 -0.017036  \n",
       "3         5644         0.200526  0.039007  0.910292  0.050688  0.025624  "
      ]
     },
     "execution_count": 79,
     "metadata": {},
     "output_type": "execute_result"
    }
   ],
   "source": [
    "sentiment.head()"
   ]
  },
  {
   "cell_type": "code",
   "execution_count": 80,
   "metadata": {},
   "outputs": [
    {
     "data": {
      "text/plain": [
       "(4, 9)"
      ]
     },
     "execution_count": 80,
     "metadata": {},
     "output_type": "execute_result"
    }
   ],
   "source": [
    "# What is the overall shape of the dataframe\n",
    "sentiment.shape"
   ]
  },
  {
   "cell_type": "code",
   "execution_count": 81,
   "metadata": {},
   "outputs": [
    {
     "data": {
      "text/plain": [
       "text                object\n",
       "docid               object\n",
       "totalTokens         object\n",
       "uniqueTokens        object\n",
       "lexicalDiversity    object\n",
       "scoreNeg            object\n",
       "scoreNeu            object\n",
       "scorePos            object\n",
       "scoreCom            object\n",
       "dtype: object"
      ]
     },
     "execution_count": 81,
     "metadata": {},
     "output_type": "execute_result"
    }
   ],
   "source": [
    "# What are the data types\n",
    "sentiment.dtypes"
   ]
  },
  {
   "cell_type": "code",
   "execution_count": 82,
   "metadata": {},
   "outputs": [
    {
     "data": {
      "text/plain": [
       "text                 object\n",
       "docid                object\n",
       "totalTokens          object\n",
       "uniqueTokens         object\n",
       "lexicalDiversity    float64\n",
       "scoreNeg            float64\n",
       "scoreNeu            float64\n",
       "scorePos            float64\n",
       "scoreCom            float64\n",
       "dtype: object"
      ]
     },
     "execution_count": 82,
     "metadata": {},
     "output_type": "execute_result"
    }
   ],
   "source": [
    "# Change a few to continuous date (float) \n",
    "cols = ['lexicalDiversity', 'scoreNeg', 'scoreNeu', 'scorePos', 'scoreCom']\n",
    "sentiment[cols] = sentiment[cols].apply(pd.to_numeric, errors='coerce', axis=1)\n",
    "sentiment.dtypes"
   ]
  },
  {
   "cell_type": "code",
   "execution_count": 83,
   "metadata": {},
   "outputs": [
    {
     "data": {
      "text/plain": [
       "text                 object\n",
       "docid                object\n",
       "totalTokens           int64\n",
       "uniqueTokens          int64\n",
       "lexicalDiversity    float64\n",
       "scoreNeg            float64\n",
       "scoreNeu            float64\n",
       "scorePos            float64\n",
       "scoreCom            float64\n",
       "dtype: object"
      ]
     },
     "execution_count": 83,
     "metadata": {},
     "output_type": "execute_result"
    }
   ],
   "source": [
    "# Change a couple of others to discrete data (integer)\n",
    "sentiment['totalTokens'] = sentiment['totalTokens'].astype(int)\n",
    "sentiment['uniqueTokens'] = sentiment['uniqueTokens'].astype(int)\n",
    "sentiment.dtypes"
   ]
  },
  {
   "cell_type": "code",
   "execution_count": 84,
   "metadata": {},
   "outputs": [
    {
     "data": {
      "text/plain": [
       "count    4.000000\n",
       "mean    -0.024963\n",
       "std      0.108556\n",
       "min     -0.178757\n",
       "25%     -0.057467\n",
       "50%      0.004294\n",
       "75%      0.036797\n",
       "max      0.070318\n",
       "Name: scoreCom, dtype: float64"
      ]
     },
     "execution_count": 84,
     "metadata": {},
     "output_type": "execute_result"
    }
   ],
   "source": [
    "sentiment['scoreCom'].describe()"
   ]
  },
  {
   "cell_type": "code",
   "execution_count": 85,
   "metadata": {},
   "outputs": [
    {
     "data": {
      "text/plain": [
       "<Axes: >"
      ]
     },
     "execution_count": 85,
     "metadata": {},
     "output_type": "execute_result"
    },
    {
     "data": {
      "image/png": "[encoded data removed]",
      "text/plain": [
       "<Figure size 432x288 with 1 Axes>"
      ]
     },
     "metadata": {
      "needs_background": "light"
     },
     "output_type": "display_data"
    }
   ],
   "source": [
    "sentiment['scoreCom'].hist(bins=100)"
   ]
  },
  {
   "cell_type": "markdown",
   "metadata": {},
   "source": [
    "The distribution is not meaningfull with such a small number of observations. But's let's see who the negative outlier is."
   ]
  },
  {
   "cell_type": "code",
   "execution_count": 86,
   "metadata": {},
   "outputs": [
    {
     "data": {
      "text/html": [
       "<div>\n",
       "<style scoped>\n",
       "    .dataframe tbody tr th:only-of-type {\n",
       "        vertical-align: middle;\n",
       "    }\n",
       "\n",
       "    .dataframe tbody tr th {\n",
       "        vertical-align: top;\n",
       "    }\n",
       "\n",
       "    .dataframe thead th {\n",
       "        text-align: right;\n",
       "    }\n",
       "</style>\n",
       "<table border=\"1\" class=\"dataframe\">\n",
       "  <thead>\n",
       "    <tr style=\"text-align: right;\">\n",
       "      <th></th>\n",
       "      <th>text</th>\n",
       "      <th>docid</th>\n",
       "      <th>totalTokens</th>\n",
       "      <th>uniqueTokens</th>\n",
       "      <th>lexicalDiversity</th>\n",
       "      <th>scoreNeg</th>\n",
       "      <th>scoreNeu</th>\n",
       "      <th>scorePos</th>\n",
       "      <th>scoreCom</th>\n",
       "    </tr>\n",
       "  </thead>\n",
       "  <tbody>\n",
       "    <tr>\n",
       "      <th>0</th>\n",
       "      <td>Charra Wednesday Nov 4th 1883 A nice cool day ...</td>\n",
       "      <td>D0002.txt</td>\n",
       "      <td>81551</td>\n",
       "      <td>6885</td>\n",
       "      <td>0.084426</td>\n",
       "      <td>0.057039</td>\n",
       "      <td>0.89367</td>\n",
       "      <td>0.049316</td>\n",
       "      <td>-0.178757</td>\n",
       "    </tr>\n",
       "  </tbody>\n",
       "</table>\n",
       "</div>"
      ],
      "text/plain": [
       "                                                text      docid  totalTokens  \\\n",
       "0  Charra Wednesday Nov 4th 1883 A nice cool day ...  D0002.txt        81551   \n",
       "\n",
       "   uniqueTokens  lexicalDiversity  scoreNeg  scoreNeu  scorePos  scoreCom  \n",
       "0          6885          0.084426  0.057039   0.89367  0.049316 -0.178757  "
      ]
     },
     "execution_count": 86,
     "metadata": {},
     "output_type": "execute_result"
    }
   ],
   "source": [
    "sentiment.loc[sentiment['scoreCom'] < -0.15]"
   ]
  },
  {
   "cell_type": "markdown",
   "metadata": {},
   "source": [
    "Ok, this makes sense."
   ]
  },
  {
   "cell_type": "code",
   "execution_count": 87,
   "metadata": {},
   "outputs": [],
   "source": [
    "#sentiment.iloc[1,0] "
   ]
  },
  {
   "cell_type": "code",
   "execution_count": 88,
   "metadata": {},
   "outputs": [
    {
     "data": {
      "text/plain": [
       "0    1.000024\n",
       "1    0.998617\n",
       "2    0.999993\n",
       "3    0.999987\n",
       "dtype: float64"
      ]
     },
     "execution_count": 88,
     "metadata": {},
     "output_type": "execute_result"
    }
   ],
   "source": [
    "sumVal = sentiment['scoreNeg'] + sentiment['scoreNeu'] + sentiment['scorePos']\n",
    "sumVal"
   ]
  },
  {
   "cell_type": "markdown",
   "metadata": {},
   "source": [
    "Sums of ratio type variables is adding up as it should to about 1."
   ]
  },
  {
   "cell_type": "code",
   "execution_count": 89,
   "metadata": {},
   "outputs": [
    {
     "data": {
      "text/plain": [
       "<Axes: >"
      ]
     },
     "execution_count": 89,
     "metadata": {},
     "output_type": "execute_result"
    },
    {
     "data": {
      "image/png": "[encoded data removed]",
      "text/plain": [
       "<Figure size 432x288 with 1 Axes>"
      ]
     },
     "metadata": {
      "needs_background": "light"
     },
     "output_type": "display_data"
    }
   ],
   "source": [
    "sentiment['scoreNeg'].hist(bins=100)"
   ]
  },
  {
   "cell_type": "code",
   "execution_count": 90,
   "metadata": {},
   "outputs": [
    {
     "data": {
      "text/plain": [
       "<Axes: >"
      ]
     },
     "execution_count": 90,
     "metadata": {},
     "output_type": "execute_result"
    },
    {
     "data": {
      "image/png": "[encoded data removed]",
      "text/plain": [
       "<Figure size 432x288 with 1 Axes>"
      ]
     },
     "metadata": {
      "needs_background": "light"
     },
     "output_type": "display_data"
    }
   ],
   "source": [
    "sentiment['scoreNeu'].hist(bins=100)"
   ]
  },
  {
   "cell_type": "code",
   "execution_count": 91,
   "metadata": {},
   "outputs": [
    {
     "data": {
      "text/plain": [
       "<Axes: >"
      ]
     },
     "execution_count": 91,
     "metadata": {},
     "output_type": "execute_result"
    },
    {
     "data": {
      "image/png": "[encoded data removed]",
      "text/plain": [
       "<Figure size 432x288 with 1 Axes>"
      ]
     },
     "metadata": {
      "needs_background": "light"
     },
     "output_type": "display_data"
    }
   ],
   "source": [
    "sentiment['scorePos'].hist(bins=100)"
   ]
  },
  {
   "cell_type": "code",
   "execution_count": 92,
   "metadata": {},
   "outputs": [
    {
     "data": {
      "text/html": [
       "<div>\n",
       "<style scoped>\n",
       "    .dataframe tbody tr th:only-of-type {\n",
       "        vertical-align: middle;\n",
       "    }\n",
       "\n",
       "    .dataframe tbody tr th {\n",
       "        vertical-align: top;\n",
       "    }\n",
       "\n",
       "    .dataframe thead th {\n",
       "        text-align: right;\n",
       "    }\n",
       "</style>\n",
       "<table border=\"1\" class=\"dataframe\">\n",
       "  <thead>\n",
       "    <tr style=\"text-align: right;\">\n",
       "      <th></th>\n",
       "      <th>text</th>\n",
       "      <th>docid</th>\n",
       "      <th>totalTokens</th>\n",
       "      <th>uniqueTokens</th>\n",
       "      <th>lexicalDiversity</th>\n",
       "      <th>scoreNeg</th>\n",
       "      <th>scoreNeu</th>\n",
       "      <th>scorePos</th>\n",
       "      <th>scoreCom</th>\n",
       "    </tr>\n",
       "  </thead>\n",
       "  <tbody>\n",
       "    <tr>\n",
       "      <th>0</th>\n",
       "      <td>Charra Wednesday Nov 4th 1883 A nice cool day ...</td>\n",
       "      <td>D0002</td>\n",
       "      <td>81551</td>\n",
       "      <td>6885</td>\n",
       "      <td>0.084426</td>\n",
       "      <td>0.057039</td>\n",
       "      <td>0.893670</td>\n",
       "      <td>0.049316</td>\n",
       "      <td>-0.178757</td>\n",
       "    </tr>\n",
       "    <tr>\n",
       "      <th>1</th>\n",
       "      <td>May 6th Very wet morning it has stopped me fro...</td>\n",
       "      <td>D0003</td>\n",
       "      <td>19635</td>\n",
       "      <td>1939</td>\n",
       "      <td>0.098752</td>\n",
       "      <td>0.028140</td>\n",
       "      <td>0.916614</td>\n",
       "      <td>0.053863</td>\n",
       "      <td>0.070318</td>\n",
       "    </tr>\n",
       "    <tr>\n",
       "      <th>2</th>\n",
       "      <td>Diary of Capt. John Hart 1865 1 January 1 Sund...</td>\n",
       "      <td>D0007</td>\n",
       "      <td>54919</td>\n",
       "      <td>6332</td>\n",
       "      <td>0.115297</td>\n",
       "      <td>0.050477</td>\n",
       "      <td>0.896772</td>\n",
       "      <td>0.052744</td>\n",
       "      <td>-0.017036</td>\n",
       "    </tr>\n",
       "    <tr>\n",
       "      <th>3</th>\n",
       "      <td>Edith Gwynne July 14 71 Glynde Place July 17 B...</td>\n",
       "      <td>D0009</td>\n",
       "      <td>28146</td>\n",
       "      <td>5644</td>\n",
       "      <td>0.200526</td>\n",
       "      <td>0.039007</td>\n",
       "      <td>0.910292</td>\n",
       "      <td>0.050688</td>\n",
       "      <td>0.025624</td>\n",
       "    </tr>\n",
       "  </tbody>\n",
       "</table>\n",
       "</div>"
      ],
      "text/plain": [
       "                                                text  docid  totalTokens  \\\n",
       "0  Charra Wednesday Nov 4th 1883 A nice cool day ...  D0002        81551   \n",
       "1  May 6th Very wet morning it has stopped me fro...  D0003        19635   \n",
       "2  Diary of Capt. John Hart 1865 1 January 1 Sund...  D0007        54919   \n",
       "3  Edith Gwynne July 14 71 Glynde Place July 17 B...  D0009        28146   \n",
       "\n",
       "   uniqueTokens  lexicalDiversity  scoreNeg  scoreNeu  scorePos  scoreCom  \n",
       "0          6885          0.084426  0.057039  0.893670  0.049316 -0.178757  \n",
       "1          1939          0.098752  0.028140  0.916614  0.053863  0.070318  \n",
       "2          6332          0.115297  0.050477  0.896772  0.052744 -0.017036  \n",
       "3          5644          0.200526  0.039007  0.910292  0.050688  0.025624  "
      ]
     },
     "execution_count": 92,
     "metadata": {},
     "output_type": "execute_result"
    }
   ],
   "source": [
    "# Remove the .txt from the file name\n",
    "sentiment['docid'] = sentiment['docid'].str.replace(r'.txt', '', regex=True)\n",
    "sentiment"
   ]
  },
  {
   "cell_type": "code",
   "execution_count": 93,
   "metadata": {},
   "outputs": [],
   "source": [
    "#sentiment['text'][7]"
   ]
  },
  {
   "cell_type": "markdown",
   "metadata": {},
   "source": [
    "## Summary Stats"
   ]
  },
  {
   "cell_type": "code",
   "execution_count": 94,
   "metadata": {},
   "outputs": [
    {
     "data": {
      "text/html": [
       "<div>\n",
       "<style scoped>\n",
       "    .dataframe tbody tr th:only-of-type {\n",
       "        vertical-align: middle;\n",
       "    }\n",
       "\n",
       "    .dataframe tbody tr th {\n",
       "        vertical-align: top;\n",
       "    }\n",
       "\n",
       "    .dataframe thead th {\n",
       "        text-align: right;\n",
       "    }\n",
       "</style>\n",
       "<table border=\"1\" class=\"dataframe\">\n",
       "  <thead>\n",
       "    <tr style=\"text-align: right;\">\n",
       "      <th></th>\n",
       "      <th>totalTokens</th>\n",
       "      <th>uniqueTokens</th>\n",
       "      <th>lexicalDiversity</th>\n",
       "      <th>scoreNeg</th>\n",
       "      <th>scoreNeu</th>\n",
       "      <th>scorePos</th>\n",
       "      <th>scoreCom</th>\n",
       "    </tr>\n",
       "  </thead>\n",
       "  <tbody>\n",
       "    <tr>\n",
       "      <th>count</th>\n",
       "      <td>4.0000</td>\n",
       "      <td>4.000000</td>\n",
       "      <td>4.000000</td>\n",
       "      <td>4.000000</td>\n",
       "      <td>4.000000</td>\n",
       "      <td>4.000000</td>\n",
       "      <td>4.000000</td>\n",
       "    </tr>\n",
       "    <tr>\n",
       "      <th>mean</th>\n",
       "      <td>46062.7500</td>\n",
       "      <td>5200.000000</td>\n",
       "      <td>0.124750</td>\n",
       "      <td>0.043666</td>\n",
       "      <td>0.904337</td>\n",
       "      <td>0.051652</td>\n",
       "      <td>-0.024963</td>\n",
       "    </tr>\n",
       "    <tr>\n",
       "      <th>std</th>\n",
       "      <td>28031.4404</td>\n",
       "      <td>2232.480384</td>\n",
       "      <td>0.052068</td>\n",
       "      <td>0.012754</td>\n",
       "      <td>0.010912</td>\n",
       "      <td>0.002039</td>\n",
       "      <td>0.108556</td>\n",
       "    </tr>\n",
       "    <tr>\n",
       "      <th>min</th>\n",
       "      <td>19635.0000</td>\n",
       "      <td>1939.000000</td>\n",
       "      <td>0.084426</td>\n",
       "      <td>0.028140</td>\n",
       "      <td>0.893670</td>\n",
       "      <td>0.049316</td>\n",
       "      <td>-0.178757</td>\n",
       "    </tr>\n",
       "    <tr>\n",
       "      <th>25%</th>\n",
       "      <td>26018.2500</td>\n",
       "      <td>4717.750000</td>\n",
       "      <td>0.095171</td>\n",
       "      <td>0.036291</td>\n",
       "      <td>0.895996</td>\n",
       "      <td>0.050345</td>\n",
       "      <td>-0.057467</td>\n",
       "    </tr>\n",
       "    <tr>\n",
       "      <th>50%</th>\n",
       "      <td>41532.5000</td>\n",
       "      <td>5988.000000</td>\n",
       "      <td>0.107025</td>\n",
       "      <td>0.044742</td>\n",
       "      <td>0.903532</td>\n",
       "      <td>0.051716</td>\n",
       "      <td>0.004294</td>\n",
       "    </tr>\n",
       "    <tr>\n",
       "      <th>75%</th>\n",
       "      <td>61577.0000</td>\n",
       "      <td>6470.250000</td>\n",
       "      <td>0.136604</td>\n",
       "      <td>0.052117</td>\n",
       "      <td>0.911873</td>\n",
       "      <td>0.053024</td>\n",
       "      <td>0.036797</td>\n",
       "    </tr>\n",
       "    <tr>\n",
       "      <th>max</th>\n",
       "      <td>81551.0000</td>\n",
       "      <td>6885.000000</td>\n",
       "      <td>0.200526</td>\n",
       "      <td>0.057039</td>\n",
       "      <td>0.916614</td>\n",
       "      <td>0.053863</td>\n",
       "      <td>0.070318</td>\n",
       "    </tr>\n",
       "  </tbody>\n",
       "</table>\n",
       "</div>"
      ],
      "text/plain": [
       "       totalTokens  uniqueTokens  lexicalDiversity  scoreNeg  scoreNeu  \\\n",
       "count       4.0000      4.000000          4.000000  4.000000  4.000000   \n",
       "mean    46062.7500   5200.000000          0.124750  0.043666  0.904337   \n",
       "std     28031.4404   2232.480384          0.052068  0.012754  0.010912   \n",
       "min     19635.0000   1939.000000          0.084426  0.028140  0.893670   \n",
       "25%     26018.2500   4717.750000          0.095171  0.036291  0.895996   \n",
       "50%     41532.5000   5988.000000          0.107025  0.044742  0.903532   \n",
       "75%     61577.0000   6470.250000          0.136604  0.052117  0.911873   \n",
       "max     81551.0000   6885.000000          0.200526  0.057039  0.916614   \n",
       "\n",
       "       scorePos  scoreCom  \n",
       "count  4.000000  4.000000  \n",
       "mean   0.051652 -0.024963  \n",
       "std    0.002039  0.108556  \n",
       "min    0.049316 -0.178757  \n",
       "25%    0.050345 -0.057467  \n",
       "50%    0.051716  0.004294  \n",
       "75%    0.053024  0.036797  \n",
       "max    0.053863  0.070318  "
      ]
     },
     "execution_count": 94,
     "metadata": {},
     "output_type": "execute_result"
    }
   ],
   "source": [
    "sentiment.describe()"
   ]
  },
  {
   "cell_type": "code",
   "execution_count": 96,
   "metadata": {},
   "outputs": [],
   "source": [
    "#print(len(sentiment.loc[sentiment['totalTokens'] < 86])/len(sentiment))\n",
    "#print(len(sentiment.loc[sentiment['totalTokens'] > 250])/len(sentiment))"
   ]
  },
  {
   "cell_type": "code",
   "execution_count": 7,
   "metadata": {},
   "outputs": [],
   "source": [
    "#sentiment.text[3]"
   ]
  },
  {
   "cell_type": "markdown",
   "metadata": {},
   "source": [
    "## Export"
   ]
  },
  {
   "cell_type": "code",
   "execution_count": 98,
   "metadata": {},
   "outputs": [],
   "source": [
    "sentiment.to_csv('20240628_PhD_SentimentDiaries.csv', index = True, encoding=\"utf-8\", lineterminator='\\r\\n')"
   ]
  },
  {
   "cell_type": "markdown",
   "metadata": {},
   "source": [
    "The CSV displays improperly in excel because of the 32,767 character limit for cells. https://support.microsoft.com/en-us/office/excel-specifications-and-limits-1672b34d-7043-467e-8e27-269d656771c3\n",
    "\n",
    "I am not going to worry about this because the dataframes work correctly in Python and R."
   ]
  },
  {
   "cell_type": "code",
   "execution_count": null,
   "metadata": {},
   "outputs": [],
   "source": []
  }
 ],
 "metadata": {
  "kernelspec": {
   "display_name": "Python 3 (ipykernel)",
   "language": "python",
   "name": "python3"
  },
  "language_info": {
   "codemirror_mode": {
    "name": "ipython",
    "version": 3
   },
   "file_extension": ".py",
   "mimetype": "text/x-python",
   "name": "python",
   "nbconvert_exporter": "python",
   "pygments_lexer": "ipython3",
   "version": "3.9.5"
  }
 },
 "nbformat": 4,
 "nbformat_minor": 2
}
