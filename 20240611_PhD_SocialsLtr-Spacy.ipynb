{
 "cells": [
  {
   "cell_type": "markdown",
   "metadata": {},
   "source": [
    "## NER Letter Spacy"
   ]
  },
  {
   "cell_type": "markdown",
   "metadata": {},
   "source": [
    "## Resources"
   ]
  },
  {
   "cell_type": "code",
   "execution_count": 1,
   "metadata": {},
   "outputs": [],
   "source": [
    "import spacy\n",
    "import pandas as pd\n",
    "from collections import Counter\n",
    "from spacy import displacy"
   ]
  },
  {
   "cell_type": "markdown",
   "metadata": {},
   "source": [
    "## Get Data"
   ]
  },
  {
   "cell_type": "code",
   "execution_count": 2,
   "metadata": {
    "scrolled": true
   },
   "outputs": [
    {
     "name": "stdout",
     "output_type": "stream",
     "text": [
      "<class 'pandas.core.frame.DataFrame'>\n",
      "Int64Index: 676 entries, 0 to 675\n",
      "Data columns (total 28 columns):\n",
      " #   Column            Non-Null Count  Dtype  \n",
      "---  ------            --------------  -----  \n",
      " 0   docID-AT          676 non-null    int64  \n",
      " 1   docid             676 non-null    object \n",
      " 2   docyear           676 non-null    int64  \n",
      " 3   docmonth          669 non-null    float64\n",
      " 4   authorName        623 non-null    object \n",
      " 5   docauthorid       676 non-null    object \n",
      " 6   authorLocation    676 non-null    object \n",
      " 7   authorGender      676 non-null    object \n",
      " 8   nationalOrigin    676 non-null    object \n",
      " 9   irish             676 non-null    bool   \n",
      " 10  otherUK           676 non-null    bool   \n",
      " 11  relMin            339 non-null    object \n",
      " 12  catholic          339 non-null    object \n",
      " 13  otherChristian    339 non-null    object \n",
      " 14  U                 378 non-null    object \n",
      " 15  M                 387 non-null    object \n",
      " 16  S                 376 non-null    object \n",
      " 17  F                 375 non-null    object \n",
      " 18  L                 385 non-null    object \n",
      " 19  text              676 non-null    object \n",
      " 20  totalTokens       676 non-null    int64  \n",
      " 21  uniqueTokens      676 non-null    int64  \n",
      " 22  lexicalDiversity  676 non-null    float64\n",
      " 23  scoreNeg          676 non-null    float64\n",
      " 24  scoreNeu          676 non-null    float64\n",
      " 25  scorePos          676 non-null    float64\n",
      " 26  scoreCom          676 non-null    float64\n",
      " 27  topicNumber       676 non-null    int64  \n",
      "dtypes: bool(2), float64(6), int64(5), object(15)\n",
      "memory usage: 143.9+ KB\n"
     ]
    }
   ],
   "source": [
    "# Sentence Data\n",
    "df = pd.read_csv(\"20240611_PhD_Data4NER-Letter.csv\", index_col=0) \n",
    "df.info()"
   ]
  },
  {
   "cell_type": "markdown",
   "metadata": {},
   "source": [
    "## Test the NER of various models on the texts"
   ]
  },
  {
   "cell_type": "code",
   "execution_count": 3,
   "metadata": {},
   "outputs": [],
   "source": [
    "# The next few cells are run multiple times to check performance of various pre-trained models. \n",
    "# Do not run the this cell until after the first pass\n",
    "nlp = spacy.load(\"en_core_web_md\")"
   ]
  },
  {
   "cell_type": "code",
   "execution_count": 4,
   "metadata": {},
   "outputs": [],
   "source": [
    "# I started with 0 and checked \n",
    "chunk = 0"
   ]
  },
  {
   "cell_type": "code",
   "execution_count": 5,
   "metadata": {},
   "outputs": [
    {
     "data": {
      "text/plain": [
       "'July 18 1891 Dear Sister I have waited until I could send you a long letter I am married The Cermony Ceremony was performed in San Francisco by a Justice of the peace I will in my next letter send you the proof not one but the County Clerk was witness. So your Sister name is Isabella Moore now with very High Honour I expect to hear from Willie very soon and will tell him to be sure and come by here I will send all the aprons and the nightdresses I do not know of any thing else To day is so much like Summer we have ripe strawberries in the market I have had new potatoes twice There is so many flowers in bloom this place looks like a little Eden The air is fragrant with the perfume I am going to Church to night alone as usual Write soon and tell me when you intend to start If I can get to send some other things I will. I will close now with a long good Bye Isabella Weir \\n'"
      ]
     },
     "execution_count": 5,
     "metadata": {},
     "output_type": "execute_result"
    }
   ],
   "source": [
    "# Place narratives into a list representing the corpus\n",
    "texts = df.text.values.tolist()\n",
    "texts[chunk]"
   ]
  },
  {
   "cell_type": "code",
   "execution_count": 6,
   "metadata": {},
   "outputs": [
    {
     "name": "stdout",
     "output_type": "stream",
     "text": [
      "Number of mentions: 3 \n",
      "\n",
      "{'Isabella Moore': 1, 'Willie': 1, 'Bye Isabella': 1} \n",
      "\n",
      "Number of individuals: 3 \n",
      "\n",
      "Individuals: {'Isabella Moore', 'Willie', 'Bye Isabella'} \n",
      "\n"
     ]
    }
   ],
   "source": [
    "# Test on first item\n",
    "item = texts[chunk]\n",
    "\n",
    "# Run the language model on the 1st narrative\n",
    "narrative = nlp(item)\n",
    "\n",
    "# Find the mentions to people in the narrative\n",
    "\n",
    "for ent in narrative.ents:\n",
    "\n",
    "    mentions = [ent.text for ent in narrative.ents if ent.label_ == 'PERSON']\n",
    "        \n",
    "    counts = {}\n",
    "    for person in mentions:\n",
    "        counts[person] = counts.get(person, 0) + 1\n",
    "    \n",
    "    individuals = set(mentions)\n",
    "    \n",
    "print(\"Number of mentions:\", len(mentions), \"\\n\")\n",
    "print(counts, \"\\n\")    \n",
    "print(\"Number of individuals:\", len(individuals), \"\\n\")\n",
    "print(\"Individuals:\", individuals, \"\\n\")    \n",
    "    "
   ]
  },
  {
   "cell_type": "markdown",
   "metadata": {},
   "source": [
    "## Named entity extraction for the texts"
   ]
  },
  {
   "cell_type": "code",
   "execution_count": 7,
   "metadata": {},
   "outputs": [
    {
     "name": "stdout",
     "output_type": "stream",
     "text": [
      "676\n",
      "676\n",
      "676\n",
      "3\n",
      "3\n",
      "{'Isabella Moore': 1, 'Willie': 1, 'Bye Isabella': 1}\n"
     ]
    }
   ],
   "source": [
    "mentsTot = [] \n",
    "mentsDis = []\n",
    "indsTot = []\n",
    "\n",
    "for item in texts:\n",
    "\n",
    "# Run the language model on the 1st narrative\n",
    "    narrative = nlp(item)\n",
    "\n",
    "# Find the mentions to people in the narrative\n",
    "\n",
    "    for ent in narrative.ents:\n",
    "\n",
    "        mentions = [ent.text for ent in narrative.ents if ent.label_ == 'PERSON']\n",
    "        \n",
    "        counts = {}\n",
    "        for person in mentions:\n",
    "            counts[person] = counts.get(person, 0) + 1\n",
    "    \n",
    "        individuals = set(mentions)\n",
    "    \n",
    "    mentsTot.append(len(mentions))\n",
    "    mentsDis.append(counts)\n",
    "    indsTot.append(len(individuals))\n",
    "    \n",
    "                   \n",
    "print(len(mentsTot)) \n",
    "print(len(indsTot))\n",
    "print(len(mentsDis))\n",
    "\n",
    "print(mentsTot[0]) \n",
    "print(indsTot[0])\n",
    "print(mentsDis[0])\n"
   ]
  },
  {
   "cell_type": "markdown",
   "metadata": {},
   "source": [
    "## Self-references"
   ]
  },
  {
   "cell_type": "markdown",
   "metadata": {},
   "source": [
    "Now for 1st person singular pronounds, subjective and objective only per Tackman, A. M., Sbarra, D. A., Carey, A. L., Donnellan, M. B., Horn, A. B., Holtzman, N. S., Edwards, T. S., Pennebaker, J. W., & Mehl, M. R. (2019). Depression, Negative Emotionality, and Self-Referential Language: A Multi-Lab, Multi-Measure, and Multi-Language-Task Research Synthesis. Journal of Personality and Social Psychology, 116(5), 817–834. https://doi.org/10.1037/pspp0000187.\n"
   ]
  },
  {
   "cell_type": "code",
   "execution_count": 8,
   "metadata": {},
   "outputs": [
    {
     "data": {
      "text/plain": [
       "['I ', \"I'm \", \"I've \", \"I'll \", \"I'd \", ' me ', 'Me ', ' myself ', 'Myself ']"
      ]
     },
     "execution_count": 8,
     "metadata": {},
     "output_type": "execute_result"
    }
   ],
   "source": [
    "pronounAll = [\"I \", \n",
    "               \"I'm \", \n",
    "               \"I've \", \n",
    "               \"I'll \", \n",
    "               \"I'd \", \n",
    "               \" me \", \n",
    "               \"Me \", \n",
    "               \" myself \", \n",
    "               \"Myself \"]\n",
    "pronounAll"
   ]
  },
  {
   "cell_type": "code",
   "execution_count": 9,
   "metadata": {},
   "outputs": [
    {
     "data": {
      "text/plain": [
       "['I ', \"I'm \", \"I've \", \"I'll \", \"I'd \"]"
      ]
     },
     "execution_count": 9,
     "metadata": {},
     "output_type": "execute_result"
    }
   ],
   "source": [
    "pronounSub = [\"I \", \"I'm \", \"I've \", \"I'll \", \"I'd \"]\n",
    "pronounSub"
   ]
  },
  {
   "cell_type": "code",
   "execution_count": 10,
   "metadata": {},
   "outputs": [
    {
     "data": {
      "text/plain": [
       "[' me ', 'Me ', ' myself ', 'Myself ']"
      ]
     },
     "execution_count": 10,
     "metadata": {},
     "output_type": "execute_result"
    }
   ],
   "source": [
    "pronounObj = [\" me \", \n",
    "               \"Me \", \n",
    "               \" myself \", \n",
    "               \"Myself \"]\n",
    "pronounObj"
   ]
  },
  {
   "cell_type": "markdown",
   "metadata": {},
   "source": [
    "## Now test"
   ]
  },
  {
   "cell_type": "code",
   "execution_count": 11,
   "metadata": {},
   "outputs": [],
   "source": [
    "chunk = 0"
   ]
  },
  {
   "cell_type": "code",
   "execution_count": 12,
   "metadata": {},
   "outputs": [],
   "source": [
    "#texts = [x.lower() for x in texts]"
   ]
  },
  {
   "cell_type": "code",
   "execution_count": 13,
   "metadata": {},
   "outputs": [
    {
     "data": {
      "text/plain": [
       "'July 18 1891 Dear Sister I have waited until I could send you a long letter I am married The Cermony Ceremony was performed in San Francisco by a Justice of the peace I will in my next letter send you the proof not one but the County Clerk was witness. So your Sister name is Isabella Moore now with very High Honour I expect to hear from Willie very soon and will tell him to be sure and come by here I will send all the aprons and the nightdresses I do not know of any thing else To day is so much like Summer we have ripe strawberries in the market I have had new potatoes twice There is so many flowers in bloom this place looks like a little Eden The air is fragrant with the perfume I am going to Church to night alone as usual Write soon and tell me when you intend to start If I can get to send some other things I will. I will close now with a long good Bye Isabella Weir \\n'"
      ]
     },
     "execution_count": 13,
     "metadata": {},
     "output_type": "execute_result"
    }
   ],
   "source": [
    "texts[chunk]"
   ]
  },
  {
   "cell_type": "code",
   "execution_count": 14,
   "metadata": {},
   "outputs": [
    {
     "name": "stdout",
     "output_type": "stream",
     "text": [
      "12\n"
     ]
    }
   ],
   "source": [
    "# Subjective\n",
    "\n",
    "Count = 0\n",
    "\n",
    "for i in pronounSub:\n",
    "    Count = texts[chunk].count(i) + Count\n",
    "\n",
    "print(Count)"
   ]
  },
  {
   "cell_type": "code",
   "execution_count": 15,
   "metadata": {},
   "outputs": [
    {
     "name": "stdout",
     "output_type": "stream",
     "text": [
      "1\n"
     ]
    }
   ],
   "source": [
    "# Objective\n",
    "\n",
    "Count = 0\n",
    "\n",
    "for i in pronounObj:\n",
    "    Count = texts[chunk].count(i) + Count\n",
    "\n",
    "print(Count)"
   ]
  },
  {
   "cell_type": "code",
   "execution_count": 16,
   "metadata": {},
   "outputs": [
    {
     "name": "stdout",
     "output_type": "stream",
     "text": [
      "13\n"
     ]
    }
   ],
   "source": [
    "# All pronouns\n",
    "\n",
    "Count = 0\n",
    "\n",
    "for i in pronounAll:\n",
    "    Count = texts[chunk].count(i) + Count\n",
    "\n",
    "print(Count)"
   ]
  },
  {
   "cell_type": "markdown",
   "metadata": {},
   "source": [
    "## Now run on all"
   ]
  },
  {
   "cell_type": "code",
   "execution_count": 17,
   "metadata": {},
   "outputs": [
    {
     "name": "stdout",
     "output_type": "stream",
     "text": [
      "676\n",
      "[13, 11, 13, 8, 23, 11, 68, 38, 67]\n"
     ]
    }
   ],
   "source": [
    "# Now the rest\n",
    "\n",
    "fppAll_Ct = []\n",
    "\n",
    "for item in texts:\n",
    "    Count = 0\n",
    "    for i in pronounAll:\n",
    "        #print(texts[0].count(i))\n",
    "        Count = item.count(i) + Count\n",
    "    \n",
    "    fppAll_Ct.append(Count)\n",
    "\n",
    "print(len(fppAll_Ct))\n",
    "print(fppAll_Ct[0:9])"
   ]
  },
  {
   "cell_type": "code",
   "execution_count": 18,
   "metadata": {},
   "outputs": [
    {
     "name": "stdout",
     "output_type": "stream",
     "text": [
      "676\n",
      "[12, 9, 9, 8, 22, 11, 55, 34, 49]\n"
     ]
    }
   ],
   "source": [
    "# Now just subjective pronouns\n",
    "\n",
    "fppSub_Ct = []\n",
    "\n",
    "for item in texts:\n",
    "    Count = 0\n",
    "    for i in pronounSub:\n",
    "        #print(texts[0].count(i))\n",
    "        Count = item.count(i) + Count\n",
    "    \n",
    "    fppSub_Ct.append(Count)\n",
    "\n",
    "print(len(fppSub_Ct))\n",
    "print(fppSub_Ct[0:9])"
   ]
  },
  {
   "cell_type": "code",
   "execution_count": 19,
   "metadata": {},
   "outputs": [
    {
     "name": "stdout",
     "output_type": "stream",
     "text": [
      "676\n",
      "[1, 2, 4, 0, 1, 0, 13, 4, 18]\n"
     ]
    }
   ],
   "source": [
    "# Now just subjective pronouns\n",
    "\n",
    "fppObj_Ct = []\n",
    "\n",
    "for item in texts:\n",
    "    Count = 0\n",
    "    for i in pronounObj:\n",
    "        #print(texts[0].count(i))\n",
    "        Count = item.count(i) + Count\n",
    "    \n",
    "    fppObj_Ct.append(Count)\n",
    "\n",
    "print(len(fppObj_Ct))\n",
    "print(fppObj_Ct[0:9])"
   ]
  },
  {
   "cell_type": "markdown",
   "metadata": {},
   "source": [
    "## Add new variables to metadata"
   ]
  },
  {
   "cell_type": "code",
   "execution_count": 20,
   "metadata": {},
   "outputs": [
    {
     "name": "stdout",
     "output_type": "stream",
     "text": [
      "<class 'pandas.core.frame.DataFrame'>\n",
      "Int64Index: 676 entries, 0 to 675\n",
      "Data columns (total 34 columns):\n",
      " #   Column            Non-Null Count  Dtype  \n",
      "---  ------            --------------  -----  \n",
      " 0   docID-AT          676 non-null    int64  \n",
      " 1   docid             676 non-null    object \n",
      " 2   docyear           676 non-null    int64  \n",
      " 3   docmonth          669 non-null    float64\n",
      " 4   authorName        623 non-null    object \n",
      " 5   docauthorid       676 non-null    object \n",
      " 6   authorLocation    676 non-null    object \n",
      " 7   authorGender      676 non-null    object \n",
      " 8   nationalOrigin    676 non-null    object \n",
      " 9   irish             676 non-null    bool   \n",
      " 10  otherUK           676 non-null    bool   \n",
      " 11  relMin            339 non-null    object \n",
      " 12  catholic          339 non-null    object \n",
      " 13  otherChristian    339 non-null    object \n",
      " 14  U                 378 non-null    object \n",
      " 15  M                 387 non-null    object \n",
      " 16  S                 376 non-null    object \n",
      " 17  F                 375 non-null    object \n",
      " 18  L                 385 non-null    object \n",
      " 19  text              676 non-null    object \n",
      " 20  totalTokens       676 non-null    int64  \n",
      " 21  uniqueTokens      676 non-null    int64  \n",
      " 22  lexicalDiversity  676 non-null    float64\n",
      " 23  scoreNeg          676 non-null    float64\n",
      " 24  scoreNeu          676 non-null    float64\n",
      " 25  scorePos          676 non-null    float64\n",
      " 26  scoreCom          676 non-null    float64\n",
      " 27  topicNumber       676 non-null    int64  \n",
      " 28  mentsDis          676 non-null    object \n",
      " 29  mentsTot          676 non-null    int64  \n",
      " 30  indsTot           676 non-null    int64  \n",
      " 31  fppAll_Ct         676 non-null    int64  \n",
      " 32  fppSub_Ct         676 non-null    int64  \n",
      " 33  fppObj_Ct         676 non-null    int64  \n",
      "dtypes: bool(2), float64(6), int64(10), object(16)\n",
      "memory usage: 175.6+ KB\n"
     ]
    }
   ],
   "source": [
    "df['mentsDis'] = [', '.join(x) for x in mentsDis]\n",
    "df['mentsTot'] = mentsTot\n",
    "df['indsTot'] = indsTot\n",
    "df['fppAll_Ct'] = fppAll_Ct\n",
    "df['fppSub_Ct'] = fppSub_Ct\n",
    "df['fppObj_Ct'] = fppObj_Ct\n",
    "df.info()"
   ]
  },
  {
   "cell_type": "code",
   "execution_count": 21,
   "metadata": {
    "scrolled": true
   },
   "outputs": [
    {
     "data": {
      "text/html": [
       "<div>\n",
       "<style scoped>\n",
       "    .dataframe tbody tr th:only-of-type {\n",
       "        vertical-align: middle;\n",
       "    }\n",
       "\n",
       "    .dataframe tbody tr th {\n",
       "        vertical-align: top;\n",
       "    }\n",
       "\n",
       "    .dataframe thead th {\n",
       "        text-align: right;\n",
       "    }\n",
       "</style>\n",
       "<table border=\"1\" class=\"dataframe\">\n",
       "  <thead>\n",
       "    <tr style=\"text-align: right;\">\n",
       "      <th></th>\n",
       "      <th>docID-AT</th>\n",
       "      <th>docid</th>\n",
       "      <th>docyear</th>\n",
       "      <th>docmonth</th>\n",
       "      <th>authorName</th>\n",
       "      <th>docauthorid</th>\n",
       "      <th>authorLocation</th>\n",
       "      <th>authorGender</th>\n",
       "      <th>nationalOrigin</th>\n",
       "      <th>irish</th>\n",
       "      <th>...</th>\n",
       "      <th>scoreNeu</th>\n",
       "      <th>scorePos</th>\n",
       "      <th>scoreCom</th>\n",
       "      <th>topicNumber</th>\n",
       "      <th>mentsDis</th>\n",
       "      <th>mentsTot</th>\n",
       "      <th>indsTot</th>\n",
       "      <th>fppAll_Ct</th>\n",
       "      <th>fppSub_Ct</th>\n",
       "      <th>fppObj_Ct</th>\n",
       "    </tr>\n",
       "  </thead>\n",
       "  <tbody>\n",
       "    <tr>\n",
       "      <th>0</th>\n",
       "      <td>1</td>\n",
       "      <td>20910</td>\n",
       "      <td>1891</td>\n",
       "      <td>7.0</td>\n",
       "      <td>Isabella Weir Moore</td>\n",
       "      <td>IED0107</td>\n",
       "      <td>USA</td>\n",
       "      <td>F</td>\n",
       "      <td>Irish</td>\n",
       "      <td>True</td>\n",
       "      <td>...</td>\n",
       "      <td>0.855000</td>\n",
       "      <td>0.145000</td>\n",
       "      <td>0.51510</td>\n",
       "      <td>0</td>\n",
       "      <td>Isabella Moore, Willie, Bye Isabella</td>\n",
       "      <td>3</td>\n",
       "      <td>3</td>\n",
       "      <td>13</td>\n",
       "      <td>12</td>\n",
       "      <td>1</td>\n",
       "    </tr>\n",
       "    <tr>\n",
       "      <th>1</th>\n",
       "      <td>2</td>\n",
       "      <td>21062</td>\n",
       "      <td>1871</td>\n",
       "      <td>11.0</td>\n",
       "      <td>E. Rothwell</td>\n",
       "      <td>IED0179</td>\n",
       "      <td>Canada</td>\n",
       "      <td>F</td>\n",
       "      <td>Irish</td>\n",
       "      <td>True</td>\n",
       "      <td>...</td>\n",
       "      <td>0.710125</td>\n",
       "      <td>0.254750</td>\n",
       "      <td>0.25835</td>\n",
       "      <td>0</td>\n",
       "      <td>Kate, Lydia, Maria, Bissin, Garnetts, Tom Fitz...</td>\n",
       "      <td>13</td>\n",
       "      <td>11</td>\n",
       "      <td>11</td>\n",
       "      <td>9</td>\n",
       "      <td>2</td>\n",
       "    </tr>\n",
       "    <tr>\n",
       "      <th>2</th>\n",
       "      <td>3</td>\n",
       "      <td>21324</td>\n",
       "      <td>1892</td>\n",
       "      <td>5.0</td>\n",
       "      <td>Isabella Weir Moore</td>\n",
       "      <td>IED0107</td>\n",
       "      <td>USA</td>\n",
       "      <td>F</td>\n",
       "      <td>Irish</td>\n",
       "      <td>True</td>\n",
       "      <td>...</td>\n",
       "      <td>0.799000</td>\n",
       "      <td>0.155000</td>\n",
       "      <td>0.94230</td>\n",
       "      <td>0</td>\n",
       "      <td>Anna, Brotherinlaw, Husband</td>\n",
       "      <td>4</td>\n",
       "      <td>3</td>\n",
       "      <td>13</td>\n",
       "      <td>9</td>\n",
       "      <td>4</td>\n",
       "    </tr>\n",
       "    <tr>\n",
       "      <th>3</th>\n",
       "      <td>4</td>\n",
       "      <td>21334</td>\n",
       "      <td>1891</td>\n",
       "      <td>10.0</td>\n",
       "      <td>Mary Savage</td>\n",
       "      <td>IED0621</td>\n",
       "      <td>USA</td>\n",
       "      <td>F</td>\n",
       "      <td>Irish</td>\n",
       "      <td>True</td>\n",
       "      <td>...</td>\n",
       "      <td>0.812000</td>\n",
       "      <td>0.142889</td>\n",
       "      <td>0.14520</td>\n",
       "      <td>2</td>\n",
       "      <td>Lizzie, Johns, James Wm, William N, Nick John,...</td>\n",
       "      <td>15</td>\n",
       "      <td>14</td>\n",
       "      <td>8</td>\n",
       "      <td>8</td>\n",
       "      <td>0</td>\n",
       "    </tr>\n",
       "    <tr>\n",
       "      <th>4</th>\n",
       "      <td>5</td>\n",
       "      <td>21354</td>\n",
       "      <td>1890</td>\n",
       "      <td>2.0</td>\n",
       "      <td>William J. Weir</td>\n",
       "      <td>IED0958</td>\n",
       "      <td>USA</td>\n",
       "      <td>M</td>\n",
       "      <td>Irish</td>\n",
       "      <td>True</td>\n",
       "      <td>...</td>\n",
       "      <td>0.846000</td>\n",
       "      <td>0.125500</td>\n",
       "      <td>0.88710</td>\n",
       "      <td>4</td>\n",
       "      <td>bella, W. William J. Weir</td>\n",
       "      <td>2</td>\n",
       "      <td>2</td>\n",
       "      <td>23</td>\n",
       "      <td>22</td>\n",
       "      <td>1</td>\n",
       "    </tr>\n",
       "  </tbody>\n",
       "</table>\n",
       "<p>5 rows × 34 columns</p>\n",
       "</div>"
      ],
      "text/plain": [
       "   docID-AT  docid  docyear  docmonth           authorName docauthorid  \\\n",
       "0         1  20910     1891       7.0  Isabella Weir Moore     IED0107   \n",
       "1         2  21062     1871      11.0          E. Rothwell     IED0179   \n",
       "2         3  21324     1892       5.0  Isabella Weir Moore     IED0107   \n",
       "3         4  21334     1891      10.0          Mary Savage     IED0621   \n",
       "4         5  21354     1890       2.0      William J. Weir     IED0958   \n",
       "\n",
       "  authorLocation authorGender nationalOrigin  irish  ...  scoreNeu  scorePos  \\\n",
       "0            USA            F          Irish   True  ...  0.855000  0.145000   \n",
       "1         Canada            F          Irish   True  ...  0.710125  0.254750   \n",
       "2            USA            F          Irish   True  ...  0.799000  0.155000   \n",
       "3            USA            F          Irish   True  ...  0.812000  0.142889   \n",
       "4            USA            M          Irish   True  ...  0.846000  0.125500   \n",
       "\n",
       "  scoreCom topicNumber                                           mentsDis  \\\n",
       "0  0.51510           0               Isabella Moore, Willie, Bye Isabella   \n",
       "1  0.25835           0  Kate, Lydia, Maria, Bissin, Garnetts, Tom Fitz...   \n",
       "2  0.94230           0                        Anna, Brotherinlaw, Husband   \n",
       "3  0.14520           2  Lizzie, Johns, James Wm, William N, Nick John,...   \n",
       "4  0.88710           4                          bella, W. William J. Weir   \n",
       "\n",
       "  mentsTot indsTot fppAll_Ct fppSub_Ct fppObj_Ct  \n",
       "0        3       3        13        12         1  \n",
       "1       13      11        11         9         2  \n",
       "2        4       3        13         9         4  \n",
       "3       15      14         8         8         0  \n",
       "4        2       2        23        22         1  \n",
       "\n",
       "[5 rows x 34 columns]"
      ]
     },
     "execution_count": 21,
     "metadata": {},
     "output_type": "execute_result"
    }
   ],
   "source": [
    "df.head()"
   ]
  },
  {
   "cell_type": "code",
   "execution_count": 22,
   "metadata": {},
   "outputs": [],
   "source": [
    "df.to_csv(\"20240611_PhD_FinalData-Ltr.csv\")"
   ]
  }
 ],
 "metadata": {
  "kernelspec": {
   "display_name": "Python 3 (ipykernel)",
   "language": "python",
   "name": "python3"
  },
  "language_info": {
   "codemirror_mode": {
    "name": "ipython",
    "version": 3
   },
   "file_extension": ".py",
   "mimetype": "text/x-python",
   "name": "python",
   "nbconvert_exporter": "python",
   "pygments_lexer": "ipython3",
   "version": "3.9.5"
  }
 },
 "nbformat": 4,
 "nbformat_minor": 2
}
