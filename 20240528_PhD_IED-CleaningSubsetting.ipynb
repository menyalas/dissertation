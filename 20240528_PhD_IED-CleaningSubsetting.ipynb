{
 "cells": [
  {
   "cell_type": "code",
   "execution_count": 557,
   "id": "93a7ca1d",
   "metadata": {},
   "outputs": [],
   "source": [
    "# Libraries\n",
    "library(tidyverse) # for data manipulation"
   ]
  },
  {
   "cell_type": "code",
   "execution_count": 558,
   "id": "3eac22bc",
   "metadata": {},
   "outputs": [],
   "source": [
    "# Functions\n",
    "factorize <- function(df){ # Create a function\n",
    "  for(i in which(sapply(df, class) == \"character\")) # that looks for variables with the character class \n",
    "      df[[i]] = as.factor(df[[i]]) # and converts them to factor (i.e., categorical) class\n",
    "  return(df)\n",
    "}\n",
    "\n",
    "unfactorize <- function(df){ # Create a function\n",
    "  for(i in which(sapply(df, class) == \"factor\")) # that looks for variables with the character class \n",
    "      df[[i]] = as.character(df[[i]]) # and converts them to factor (i.e., categorical) class\n",
    "  return(df)\n",
    "}"
   ]
  },
  {
   "cell_type": "code",
   "execution_count": 559,
   "id": "9b8023d8",
   "metadata": {},
   "outputs": [
    {
     "data": {
      "text/html": [
       "<style>\n",
       ".list-inline {list-style: none; margin:0; padding: 0}\n",
       ".list-inline>li {display: inline-block}\n",
       ".list-inline>li:not(:last-child)::after {content: \"\\00b7\"; padding: 0 .5ex}\n",
       "</style>\n",
       "<ol class=list-inline><li>'docid'</li><li>'nationalOrigin'</li><li>'authorGender'</li><li>'relMin'</li><li>'U'</li><li>'M'</li><li>'S'</li><li>'F'</li><li>'L'</li><li>'docmonth'</li><li>'docyear'</li><li>'docauthorname'</li><li>'authorLocation'</li><li>'firstnames'</li><li>'docauthorid'</li></ol>\n"
      ],
      "text/latex": [
       "\\begin{enumerate*}\n",
       "\\item 'docid'\n",
       "\\item 'nationalOrigin'\n",
       "\\item 'authorGender'\n",
       "\\item 'relMin'\n",
       "\\item 'U'\n",
       "\\item 'M'\n",
       "\\item 'S'\n",
       "\\item 'F'\n",
       "\\item 'L'\n",
       "\\item 'docmonth'\n",
       "\\item 'docyear'\n",
       "\\item 'docauthorname'\n",
       "\\item 'authorLocation'\n",
       "\\item 'firstnames'\n",
       "\\item 'docauthorid'\n",
       "\\end{enumerate*}\n"
      ],
      "text/markdown": [
       "1. 'docid'\n",
       "2. 'nationalOrigin'\n",
       "3. 'authorGender'\n",
       "4. 'relMin'\n",
       "5. 'U'\n",
       "6. 'M'\n",
       "7. 'S'\n",
       "8. 'F'\n",
       "9. 'L'\n",
       "10. 'docmonth'\n",
       "11. 'docyear'\n",
       "12. 'docauthorname'\n",
       "13. 'authorLocation'\n",
       "14. 'firstnames'\n",
       "15. 'docauthorid'\n",
       "\n",
       "\n"
      ],
      "text/plain": [
       " [1] \"docid\"          \"nationalOrigin\" \"authorGender\"   \"relMin\"        \n",
       " [5] \"U\"              \"M\"              \"S\"              \"F\"             \n",
       " [9] \"L\"              \"docmonth\"       \"docyear\"        \"docauthorname\" \n",
       "[13] \"authorLocation\" \"firstnames\"     \"docauthorid\"   "
      ]
     },
     "metadata": {},
     "output_type": "display_data"
    },
    {
     "data": {
      "text/html": [
       "<style>\n",
       ".list-inline {list-style: none; margin:0; padding: 0}\n",
       ".list-inline>li {display: inline-block}\n",
       ".list-inline>li:not(:last-child)::after {content: \"\\00b7\"; padding: 0 .5ex}\n",
       "</style>\n",
       "<ol class=list-inline><li>2260</li><li>15</li></ol>\n"
      ],
      "text/latex": [
       "\\begin{enumerate*}\n",
       "\\item 2260\n",
       "\\item 15\n",
       "\\end{enumerate*}\n"
      ],
      "text/markdown": [
       "1. 2260\n",
       "2. 15\n",
       "\n",
       "\n"
      ],
      "text/plain": [
       "[1] 2260   15"
      ]
     },
     "metadata": {},
     "output_type": "display_data"
    }
   ],
   "source": [
    "# Data\n",
    "df <- factorize(read.csv(\"20240528_PhD_IED.csv\")) # Put csv into a dataframe called docData\n",
    "colnames(df) # Get an overview of the dataframe\n",
    "dim(df)"
   ]
  },
  {
   "cell_type": "markdown",
   "id": "1bdfe26c",
   "metadata": {},
   "source": [
    "## Sampling extra letters (do only once)"
   ]
  },
  {
   "cell_type": "code",
   "execution_count": 560,
   "id": "6fdf8458",
   "metadata": {},
   "outputs": [],
   "source": [
    "#women <- df %>% \n",
    "#filter(authorGender==\"F\") %>% \n",
    "#select(docauthorid) %>% \n",
    "#unique()\n",
    "\n",
    "#men <- df %>% \n",
    "#filter(authorGender==\"M\") %>% \n",
    "#select(docauthorid) %>% \n",
    "#unique()\n",
    "\n",
    "#unknowns <- df %>% \n",
    "#filter(is.na(authorGender)) %>% \n",
    "#select(docauthorid) %>% \n",
    "#unique()\n",
    "\n",
    "#set.seed(1)\n",
    "#W01 <- sample_n(women, 73, replace = FALSE)\n",
    "#W01 <- W01 %>% \n",
    "#pull(docauthorid)\n",
    "\n",
    "#set.seed(1)\n",
    "#M01 <- sample_n(men, 9, replace = FALSE)\n",
    "#M01 <- M01 %>% \n",
    "#pull(docauthorid)\n",
    "\n",
    "#set.seed(1)\n",
    "#U01 <- sample_n(unknowns, 26, replace = FALSE)\n",
    "#U01 <- U01 %>% \n",
    "#pull(docauthorid)\n",
    "\n",
    "#women <- df[df$docauthorid %in% W01, ]\n",
    "#men <- df[df$docauthorid %in% M01, ]\n",
    "#unknowns <- df[df$docauthorid %in% U01, ]\n",
    "#subset <- rbind(women, men, unknowns)\n",
    "#summary(subset)\n",
    "\n",
    "#write.csv(subset, \"20240528_PhD_IEDSubset.csv\", row.names=FALSE)"
   ]
  },
  {
   "cell_type": "markdown",
   "id": "111ae833",
   "metadata": {},
   "source": [
    "## Checking and correcting the sample "
   ]
  },
  {
   "cell_type": "code",
   "execution_count": 650,
   "id": "be2bbcdd",
   "metadata": {},
   "outputs": [
    {
     "data": {
      "text/html": [
       "209"
      ],
      "text/latex": [
       "209"
      ],
      "text/markdown": [
       "209"
      ],
      "text/plain": [
       "[1] 209"
      ]
     },
     "metadata": {},
     "output_type": "display_data"
    },
    {
     "data": {
      "text/plain": [
       "        \n",
       "          F  M\n",
       "  Canada 16  2\n",
       "  USA    58  7"
      ]
     },
     "metadata": {},
     "output_type": "display_data"
    },
    {
     "data": {
      "text/plain": [
       "        \n",
       "            F    M\n",
       "  Canada 0.19 0.02\n",
       "  USA    0.70 0.08"
      ]
     },
     "metadata": {},
     "output_type": "display_data"
    },
    {
     "data": {
      "text/html": [
       "27"
      ],
      "text/latex": [
       "27"
      ],
      "text/markdown": [
       "27"
      ],
      "text/plain": [
       "[1] 27"
      ]
     },
     "metadata": {},
     "output_type": "display_data"
    }
   ],
   "source": [
    "# On subsequent passes, import the sample\n",
    "subset <- read.csv(\"20240528_PhD_IEDSubset.csv\")\n",
    "\n",
    "# Number of observations\n",
    "nrow(subset)\n",
    "\n",
    "# Distribution of men and women by country.\n",
    "temp <- subset %>% \n",
    "select(docauthorid, authorLocation, authorGender)  %>% \n",
    "unique()\n",
    "table(temp$authorLocation, temp$authorGender)\n",
    "round(prop.table(table(temp$authorLocation, temp$authorGender)), digits = 2)\n",
    "\n",
    "# Number of NAs\n",
    "sum(is.na(temp$authorGender))"
   ]
  },
  {
   "cell_type": "code",
   "execution_count": 651,
   "id": "5aa864c2",
   "metadata": {},
   "outputs": [
    {
     "data": {
      "text/html": [
       "182"
      ],
      "text/latex": [
       "182"
      ],
      "text/markdown": [
       "182"
      ],
      "text/plain": [
       "[1] 182"
      ]
     },
     "metadata": {},
     "output_type": "display_data"
    },
    {
     "data": {
      "text/plain": [
       "        \n",
       "          F  M\n",
       "  Canada 13  2\n",
       "  USA    52 14"
      ]
     },
     "metadata": {},
     "output_type": "display_data"
    },
    {
     "data": {
      "text/plain": [
       "        \n",
       "            F    M\n",
       "  Canada 0.16 0.02\n",
       "  USA    0.64 0.17"
      ]
     },
     "metadata": {},
     "output_type": "display_data"
    },
    {
     "data": {
      "text/html": [
       "8"
      ],
      "text/latex": [
       "8"
      ],
      "text/markdown": [
       "8"
      ],
      "text/plain": [
       "[1] 8"
      ]
     },
     "metadata": {},
     "output_type": "display_data"
    }
   ],
   "source": [
    "# subset <- unfactorize(subset)\n",
    "\n",
    "# Correcting names and genders\n",
    "\n",
    "subset$authorGender[subset$docauthorid==\"IED0125\"] <- \"M\"\n",
    "subset$U[subset$docauthorid==\"IED0125\"] <- TRUE # His letters are addressed to his mother Lady Caledon\n",
    "\n",
    "subset$docauthorname[subset$docid==\"47550\"] <- \"William Cunningham\" # No other Elizabeth Weir letters or letters attributed to William or Wm so leaving docauthorid as-is\n",
    "\n",
    "subset$docauthorname[subset$docauthorid==\"IED0635\"] <- \"Margret Johnston\"\n",
    "\n",
    "subset$docauthorname[subset$docauthorid==\"IED0089.89\"] <- \"Henry\"\n",
    "\n",
    "subset$docauthorname[subset$docauthorid==\"IED0893\"] <- \"Thomas Bouchier\" \n",
    "subset$authorGender[subset$docauthorid==\"IED0893\"] <- \"M\"\n",
    "\n",
    "subset$docauthorname[subset$docauthorid==\"IED0233\"] <- \"G. J.\"\n",
    "\n",
    "subset$authorGender[subset$docauthorid==\"IED0089.73\"] <- \"F\" # Refers to her husband\n",
    "\n",
    "subset$authorGender[subset$docauthorid==\"IED0123\"] <- \"M\"\n",
    "subset$docauthorname[subset$docauthorid==\"IED0123\"] <- \"Charles Martin\"\n",
    "\n",
    "subset$docauthorname[subset$docauthorid==\"IED0212\"] <- \"Ellen S. Dunlop\"\n",
    "\n",
    "# Reconciling docauthorids within the subset\n",
    "\n",
    "subset$docauthorid[subset$docid==\"37901\"] <- \"IED0650.1\" # The Mary who wrote 37901 in 1883 is different than the Mary who wrote 35864 in 1815\n",
    "subset$docauthorname[subset$docid==\"37901\"] <- \"Mary 1\"\n",
    "\n",
    "subset$docauthorid[subset$docauthorid==\"IED0646\"] <- \"IED0645\" \n",
    "subset$docauthorname[subset$docauthorid==\"IED0645\"] <- \"Marion D. Wilson\"\n",
    "\n",
    "subset$docauthorid[subset$docauthorid==\"IED0315\"] <- \"IED0314\"\n",
    "subset$docauthorname[subset$docauthorid==\"IED0314\"] <- \"Isabella Marshall Allen\"\n",
    "\n",
    "subset$docauthorname[subset$docauthorid==\"IED0636\"] <- \"Margaret Emily Kells\"\n",
    "\n",
    "subset$docauthorname[subset$docauthorid==\"IED0719\"] <- \"Fannie Haslett\"\n",
    "\n",
    "subset$authorGender[subset$docauthorid==\"IED0089.28\"] <- \"F\"\n",
    "subset$docauthorid[subset$docauthorid==\"IED0089.28\"] <- \"IED0317\" # Antelope Hotel \"Bella\" 45775\n",
    "\n",
    "subset$docauthorname[subset$docauthorid==\"IED0768\"] <- \"Robert Anderson\" #37535 Addressee\n",
    "subset$authorGender[subset$docauthorid==\"IED0768\"] <- \"M\"\n",
    "\n",
    "subset$docauthorname[subset$docauthorid==\"IED0075\"] <- \"Annie Wyly\" \n",
    "\n",
    "subset$docauthorname[subset$docauthorid==\"IED0552\"] <- \"John S Crawford\"\n",
    "\n",
    "subset$docauthorid[subset$docauthorid==\"IED0119\"] <- \"IED0130\"\n",
    "subset$docauthorname[subset$docauthorid==\"IED0130\"] <- \"Catherine Fitzgerald\" \n",
    "subset$authorGender[subset$docauthorid==\"IED0130\"] <- \"F\"\n",
    "\n",
    "vals <- c(\"IED0219\", # Refers to self as nephew\n",
    "          \"IED0243\" # Refers to self as brother\n",
    "         )\n",
    "subset$authorGender[subset$docauthorid %in% vals] <- \"M\"\n",
    "\n",
    "# Fixing other bits and pieces\n",
    "\n",
    "subset$F[subset$docauthorid==\"IED0089.79\"] <- TRUE # Speaks of farming own land and wage labour building wall / planting\n",
    "subset$L[subset$docauthorid==\"IED0089.79\"] <- TRUE\n",
    "\n",
    "subset$docmonth[subset$docid==\"47721\"] <- NA\n",
    "\n",
    "# Omitting unsuitable letters\n",
    "\n",
    "vals <- c(\"43949\", # Too short\n",
    "          \"25745\", # Too short\n",
    "          \"48326\", # Short, notice \n",
    "          \"29307\", # Short, estate\n",
    "          \"22948\", # Short, death notice\n",
    "          \"46028\", # Short, estate\n",
    "          \"32310\", # Short, business\n",
    "          \"40071\", # Estate\n",
    "          \"31251\", # Estate\n",
    "          \"49415\", # Estate\n",
    "          \"41236\", # Co-authored\n",
    "          \"26249\", # Duplicate of 27000\n",
    "          \"35387\", # Letter in NAILDOH\n",
    "          \"27052\", # Letter in NAILDOH\n",
    "          \"38698\", # Letter in NAILDOH\n",
    "          \"50236\", # Letter in NAILDOH\n",
    "          \"32934\", # Estate\n",
    "          \"53442\", # Multiple letters appear to be from Ireland\n",
    "          \"49109\", # Family history\n",
    "          \"43219\", # Duplicate of 47402\n",
    "          \"44023\", # Estate\n",
    "          \"39225\", # Co-authored\n",
    "          \"36427\", # Family history\n",
    "          \"20600\", #French\n",
    "          \"20695\", #Business\n",
    "          \"20794\", #Political-Business\n",
    "          \"20857\", #Business\n",
    "          \"21024\", #Short\n",
    "          \"21184\", #Business\n",
    "          \"21255\", #Business\n",
    "          \"21256\", #Business\n",
    "          \"21307\", #Business (Personal Estate),\n",
    "          \"21319\", #Life insurance\n",
    "          \"21502\", #Estate,\n",
    "          \"21610\", #Business\n",
    "          \"21637\", #Death notice\n",
    "          \"21649\", #French\n",
    "          \"21704\", #Business\n",
    "          \"21762\", #Business\n",
    "          \"21769\", #French\n",
    "          \"21842\", #Estate\n",
    "          \"21934\", #Business\n",
    "          \"21947\", #Introduction\n",
    "          \"22001\", #Introduction\n",
    "          \"22008\", #French\n",
    "          \"22096\", #French\n",
    "          \"22346\", #Business\n",
    "          \"22381\", #Invitation\n",
    "          \"22438\", #Business\n",
    "          \"22520\", #Short (postcard)\n",
    "          \"22725\", #Short (postcard)\n",
    "          \"22946\", #Introduction\n",
    "          \"23345\", #Business\n",
    "          \"23402\", #Business\n",
    "          \"23560\", #French\n",
    "          \"23684\", #Business\n",
    "          \"23699\", #Business\n",
    "          \"23795\", #Short\n",
    "          \"23848\", #Introduction\n",
    "          \"24073\", #Business\n",
    "          \"24215\", #Official business\n",
    "          \"24706\", #Financial matters\n",
    "          \"24716\", #Transactional\n",
    "          \"24743\", #Estate\n",
    "          \"35574\", #Family history, death notice\n",
    "          \"33755\", #Duplicate\n",
    "          \"48326\", #Brief invitation\n",
    "          \"30078\", #Business\n",
    "          \"40991\", #This year appears incorrect relative to other Stavely letters.\n",
    "          \"26432\" #Business / legal\n",
    "         )\n",
    "\n",
    "subset <- subset[!subset$docid %in% vals, ]\n",
    "\n",
    "# Reconciling docauthorids with the sampling frame\n",
    "\n",
    "vals <- c(\"23590\", \"50454\", \"31379\", \"27261\", \"26789\", \"26511\", \"21334\") # Assigning Mary Savage to her proper docauthorid\n",
    "subset$docauthorid[subset$docid %in% vals] <- \"IED0621\"\n",
    "subset$docauthorname[subset$docauthorid==\"IED0621\"] <- \"Mary Savage\"\n",
    "subset$relMin[subset$docauthorid==\"IED0621\"] <- FALSE # Mentions going to Protestant churches\n",
    "subset$L[subset$docauthorid==\"IED0621\"] <- FALSE # Mentions traveling 2nd cabin, which is equivalent to 1st class hotel\n",
    "\n",
    "subset$docauthorid[subset$docauthorid==\"IED0600\"] <- \"IED0611\"\n",
    "subset$docauthorname[subset$docauthorid==\"IED0611\"] <- \"M. E. Ling\" \n",
    "subset$authorGender[subset$docauthorid==\"IED0611\"] <- \"F\"\n",
    "\n",
    "subset$docauthorid[subset$docauthorid==\"IED0632\"] <- \"IED0692\"\n",
    "subset$docauthorname[subset$docauthorid==\"IED0692\"] <- \"Mitilda Ferguson\" \n",
    "\n",
    "subset$authorGender[subset$docauthorid==\"IED0899\"] <- \"M\"\n",
    "subset$docauthorid[subset$docauthorid==\"IED0899\"] <- \"IED0932\"\n",
    "subset$docauthorname[subset$docauthorid==\"IED0932\"] <- \"Thomas W. Coskery\"\n",
    "\n",
    "subset$docauthorid[subset$docauthorid==\"IED0569\"] <- \"IED0572\"\n",
    "subset$docauthorname[subset$docauthorid==\"IED0572\"] <- \"Joseph Carswell\"\n",
    "\n",
    "subset$docauthorid[subset$docauthorid==\"IED0654\"] <- \"IED0657\"\n",
    "subset$docauthorname[subset$docauthorid==\"IED0657\"] <- \"May Ann Blair\"\n",
    "\n",
    "subset$docauthorid[subset$docauthorid==\"IED0183\"] <- \"IED0701\"\n",
    "subset$docauthorname[subset$docauthorid==\"IED0701\"] <- \"Edith Gass\"\n",
    "\n",
    "subset$authorGender[subset$docauthorid==\"IED0345\"] <- \"M\"\n",
    "subset$docauthorid[subset$docauthorid==\"IED0345\"] <- \"IED0403\"\n",
    "subset$docauthorname[subset$docauthorid==\"IED0403\"] <- \"James Gamble\"\n",
    "\n",
    "subset$docauthorid[subset$docauthorid==\"IED0274\"] <- \"IED0267\"\n",
    "subset$docauthorname[subset$docauthorid==\"IED0267\"] <- \"Hannah B. Longstreet\" \n",
    "subset$authorGender[subset$docauthorid==\"IED0267\"] <- \"F\"\n",
    "\n",
    "subset$docauthorid[subset$docauthorid==\"IED0317\"] <- \"IED0107\"\n",
    "subset$docauthorname[subset$docauthorid==\"IED0107\"] <- \"Isabella Weir Moore\" # Married name per 20910\n",
    "\n",
    "subset$docauthorid[subset$docauthorid==\"IED1043\"] <- \"IED0958\"\n",
    "subset$docauthorid[subset$docauthorid==\"IED1044\"] <- \"IED0958\" # 49253 IED website Willie J. Weir\n",
    "subset$docauthorname[subset$docauthorid==\"IED0958\"] <- \"William J. Weir\" # 42325 \"thrashing\" ref\n",
    "\n",
    "subset$docauthorid[subset$docauthorid==\"IED1007\"] <- \"IED0957\"\n",
    "subset$docauthorname[subset$docauthorid==\"IED0957\"] <- \"William J. Stavely\" # Dear mother in Belfast\n",
    "subset$M[subset$docauthorid==\"IED0957\"] <- TRUE # Speaks of business as occupation\n",
    "subset$authorGender[subset$docauthorid==\"IED0957\"] <- \"M\"\n",
    "\n",
    "subset$docauthorid[subset$docauthorid==\"IED0837\"] <- \"IED0838\"\n",
    "subset$docauthorid[subset$docauthorid==\"IED0836\"] <- \"IED0838\"\n",
    "subset$docauthorname[subset$docauthorid==\"IED0838\"] <- \"Ruth J. Ramsey\" # Married name per 20910\n",
    "\n",
    "subset$docauthorid[subset$docauthorid==\"IED0698\"] <- \"IED0710\"\n",
    "subset$docauthorname[subset$docauthorid==\"IED0710\"] <- \"Martha Blair Cranston\" # Incorrect name in IED\n",
    "\n",
    "# Summary statistics\n",
    "\n",
    "# Number of observations\n",
    "nrow(subset)\n",
    "\n",
    "# Distribution of men and women by country.\n",
    "temp <- subset %>% \n",
    "select(docauthorid, authorLocation, authorGender)  %>% \n",
    "unique()\n",
    "table(temp$authorLocation, temp$authorGender)\n",
    "round(prop.table(table(temp$authorLocation, temp$authorGender)), digits = 2)\n",
    "\n",
    "#Number of NAs\n",
    "sum(is.na(temp$authorGender))"
   ]
  },
  {
   "cell_type": "markdown",
   "id": "c1e445dd",
   "metadata": {},
   "source": [
    "## Adding letters by authors already in sample (do only once!)"
   ]
  },
  {
   "cell_type": "code",
   "execution_count": 652,
   "id": "17f8c322",
   "metadata": {},
   "outputs": [],
   "source": [
    "#vals <- c(\"IED0621\", \n",
    "          #\"IED0611\", \n",
    "          #\"IED0692\",\n",
    "          #\"IED0932\", \n",
    "          #\"IED0572\",\n",
    "          #\"IED0657\",\n",
    "          #\"IED0701\",\n",
    "          #\"IED0403\",\n",
    "          #\"IED0267\",\n",
    "          #\"IED0107\", \n",
    "          #\"IED0958\", #Weir\n",
    "          #\"IED1044\", #Weir\n",
    "          #\"IED0957\",\n",
    "          #\"IED0838\", #Ramsey\n",
    "          #\"IED0836\", #Ramsey\n",
    "          #\"IED0710\")\n",
    "\n",
    "#all <- df$docid[df$docauthorid %in% vals]\n",
    "#omit <- subset$docid[subset$docauthorid %in% vals]\n",
    "#toAdd <- setdiff(all, omit)\n",
    "          \n",
    "#write.csv(toAdd, \"20240531_PhD_IEDSubset01.csv\", row.names=FALSE)"
   ]
  },
  {
   "cell_type": "code",
   "execution_count": 653,
   "id": "112b711c",
   "metadata": {},
   "outputs": [
    {
     "data": {
      "text/html": [
       "74"
      ],
      "text/latex": [
       "74"
      ],
      "text/markdown": [
       "74"
      ],
      "text/plain": [
       "[1] 74"
      ]
     },
     "metadata": {},
     "output_type": "display_data"
    }
   ],
   "source": [
    "toAdd <- read.csv(\"20240531_PhD_IEDSubset01.csv\")\n",
    "toAdd <- toAdd$x\n",
    "toAdd <- df[df$docid %in% toAdd,]\n",
    "nrow(toAdd)"
   ]
  },
  {
   "cell_type": "code",
   "execution_count": 654,
   "id": "843b28fd",
   "metadata": {},
   "outputs": [],
   "source": [
    "#To Omit\n",
    "vals <- c(\"21463\", # Business\n",
    "          \"22946\", # Introduction\n",
    "          \"27008\", # Business\n",
    "          \"30982\", # Business\n",
    "          \"31706\", # Too brief\n",
    "          \"33862\", # Death notice\n",
    "          \"37756\", # Business\n",
    "          \"38560\", # Business\n",
    "          \"49860\", # Business\n",
    "          \"52005\" # Introduction\n",
    "         )\n",
    "          \n",
    "toAdd <- toAdd[!toAdd$docid %in% vals, ]"
   ]
  },
  {
   "cell_type": "code",
   "execution_count": 655,
   "id": "dcfabaf4",
   "metadata": {},
   "outputs": [
    {
     "data": {
      "text/html": [
       "<table class=\"dataframe\">\n",
       "<caption>A data.frame: 14 × 3</caption>\n",
       "<thead>\n",
       "\t<tr><th></th><th scope=col>docauthorname</th><th scope=col>docauthorid</th><th scope=col>authorGender</th></tr>\n",
       "\t<tr><th></th><th scope=col>&lt;chr&gt;</th><th scope=col>&lt;chr&gt;</th><th scope=col>&lt;chr&gt;</th></tr>\n",
       "</thead>\n",
       "<tbody>\n",
       "\t<tr><th scope=row>2</th><td>Isabella Weir Moore  </td><td>IED0107</td><td>F</td></tr>\n",
       "\t<tr><th scope=row>3</th><td>Mary Savage          </td><td>IED0621</td><td>F</td></tr>\n",
       "\t<tr><th scope=row>7</th><td>May Ann Blair        </td><td>IED0657</td><td>F</td></tr>\n",
       "\t<tr><th scope=row>29</th><td>Martha Blair Cranston</td><td>IED0710</td><td>F</td></tr>\n",
       "\t<tr><th scope=row>44</th><td>Ruth J. Ramsey       </td><td>IED0838</td><td>F</td></tr>\n",
       "\t<tr><th scope=row>60</th><td>Hannah B. Longstreet </td><td>IED0267</td><td>F</td></tr>\n",
       "\t<tr><th scope=row>69</th><td>Edith Gass           </td><td>IED0701</td><td>F</td></tr>\n",
       "\t<tr><th scope=row>126</th><td>Mitilda Ferguson     </td><td>IED0692</td><td>F</td></tr>\n",
       "\t<tr><th scope=row>154</th><td>William J. Stavely   </td><td>IED0957</td><td>M</td></tr>\n",
       "\t<tr><th scope=row>162</th><td>Joseph Carswell      </td><td>IED0572</td><td>M</td></tr>\n",
       "\t<tr><th scope=row>183</th><td>James Gamble         </td><td>IED0403</td><td>M</td></tr>\n",
       "\t<tr><th scope=row>186</th><td>Thomas W. Coskery    </td><td>IED0932</td><td>M</td></tr>\n",
       "\t<tr><th scope=row>202</th><td>M. E. Ling           </td><td>IED0611</td><td>F</td></tr>\n",
       "\t<tr><th scope=row>204</th><td>William J. Weir      </td><td>IED0958</td><td>M</td></tr>\n",
       "</tbody>\n",
       "</table>\n"
      ],
      "text/latex": [
       "A data.frame: 14 × 3\n",
       "\\begin{tabular}{r|lll}\n",
       "  & docauthorname & docauthorid & authorGender\\\\\n",
       "  & <chr> & <chr> & <chr>\\\\\n",
       "\\hline\n",
       "\t2 & Isabella Weir Moore   & IED0107 & F\\\\\n",
       "\t3 & Mary Savage           & IED0621 & F\\\\\n",
       "\t7 & May Ann Blair         & IED0657 & F\\\\\n",
       "\t29 & Martha Blair Cranston & IED0710 & F\\\\\n",
       "\t44 & Ruth J. Ramsey        & IED0838 & F\\\\\n",
       "\t60 & Hannah B. Longstreet  & IED0267 & F\\\\\n",
       "\t69 & Edith Gass            & IED0701 & F\\\\\n",
       "\t126 & Mitilda Ferguson      & IED0692 & F\\\\\n",
       "\t154 & William J. Stavely    & IED0957 & M\\\\\n",
       "\t162 & Joseph Carswell       & IED0572 & M\\\\\n",
       "\t183 & James Gamble          & IED0403 & M\\\\\n",
       "\t186 & Thomas W. Coskery     & IED0932 & M\\\\\n",
       "\t202 & M. E. Ling            & IED0611 & F\\\\\n",
       "\t204 & William J. Weir       & IED0958 & M\\\\\n",
       "\\end{tabular}\n"
      ],
      "text/markdown": [
       "\n",
       "A data.frame: 14 × 3\n",
       "\n",
       "| <!--/--> | docauthorname &lt;chr&gt; | docauthorid &lt;chr&gt; | authorGender &lt;chr&gt; |\n",
       "|---|---|---|---|\n",
       "| 2 | Isabella Weir Moore   | IED0107 | F |\n",
       "| 3 | Mary Savage           | IED0621 | F |\n",
       "| 7 | May Ann Blair         | IED0657 | F |\n",
       "| 29 | Martha Blair Cranston | IED0710 | F |\n",
       "| 44 | Ruth J. Ramsey        | IED0838 | F |\n",
       "| 60 | Hannah B. Longstreet  | IED0267 | F |\n",
       "| 69 | Edith Gass            | IED0701 | F |\n",
       "| 126 | Mitilda Ferguson      | IED0692 | F |\n",
       "| 154 | William J. Stavely    | IED0957 | M |\n",
       "| 162 | Joseph Carswell       | IED0572 | M |\n",
       "| 183 | James Gamble          | IED0403 | M |\n",
       "| 186 | Thomas W. Coskery     | IED0932 | M |\n",
       "| 202 | M. E. Ling            | IED0611 | F |\n",
       "| 204 | William J. Weir       | IED0958 | M |\n",
       "\n"
      ],
      "text/plain": [
       "    docauthorname         docauthorid authorGender\n",
       "2   Isabella Weir Moore   IED0107     F           \n",
       "3   Mary Savage           IED0621     F           \n",
       "7   May Ann Blair         IED0657     F           \n",
       "29  Martha Blair Cranston IED0710     F           \n",
       "44  Ruth J. Ramsey        IED0838     F           \n",
       "60  Hannah B. Longstreet  IED0267     F           \n",
       "69  Edith Gass            IED0701     F           \n",
       "126 Mitilda Ferguson      IED0692     F           \n",
       "154 William J. Stavely    IED0957     M           \n",
       "162 Joseph Carswell       IED0572     M           \n",
       "183 James Gamble          IED0403     M           \n",
       "186 Thomas W. Coskery     IED0932     M           \n",
       "202 M. E. Ling            IED0611     F           \n",
       "204 William J. Weir       IED0958     M           "
      ]
     },
     "metadata": {},
     "output_type": "display_data"
    }
   ],
   "source": [
    "# Add rows to subset and correct names and genders\n",
    "\n",
    "subset <- rbind(subset, toAdd)\n",
    "\n",
    "# Check to make sure names and gender corrections come through.\n",
    "\n",
    "vals <- c(\"23590\", \"50454\", \"31379\", \"27261\", \"26789\", \"26511\", \"21334\") # Assigning Mary Savage to her proper docauthorid\n",
    "subset$docauthorid[subset$docid %in% vals] <- \"IED0621\"\n",
    "subset$docauthorname[subset$docauthorid==\"IED0621\"] <- \"Mary Savage\"\n",
    "subset$relMin[subset$docauthorid==\"IED0621\"] <- FALSE # Mentions going to Protestant churches\n",
    "subset$L[subset$docauthorid==\"IED0621\"] <- FALSE # Mentions traveling 2nd cabin, which is equivalent to 1st class hotel\n",
    "\n",
    "subset$docauthorid[subset$docauthorid==\"IED0600\"] <- \"IED0611\"\n",
    "subset$docauthorname[subset$docauthorid==\"IED0611\"] <- \"M. E. Ling\" \n",
    "subset$authorGender[subset$docauthorid==\"IED0611\"] <- \"F\"\n",
    "\n",
    "subset$docauthorid[subset$docauthorid==\"IED0632\"] <- \"IED0692\"\n",
    "subset$docauthorname[subset$docauthorid==\"IED0692\"] <- \"Mitilda Ferguson\" \n",
    "\n",
    "subset$authorGender[subset$docauthorid==\"IED0899\"] <- \"M\"\n",
    "subset$docauthorid[subset$docauthorid==\"IED0899\"] <- \"IED0932\"\n",
    "subset$docauthorname[subset$docauthorid==\"IED0932\"] <- \"Thomas W. Coskery\"\n",
    "\n",
    "subset$docauthorid[subset$docauthorid==\"IED0569\"] <- \"IED0572\"\n",
    "subset$docauthorname[subset$docauthorid==\"IED0572\"] <- \"Joseph Carswell\"\n",
    "\n",
    "subset$docauthorid[subset$docauthorid==\"IED0654\"] <- \"IED0657\"\n",
    "subset$docauthorname[subset$docauthorid==\"IED0657\"] <- \"May Ann Blair\"\n",
    "\n",
    "subset$docauthorid[subset$docauthorid==\"IED0183\"] <- \"IED0701\"\n",
    "subset$docauthorname[subset$docauthorid==\"IED0701\"] <- \"Edith Gass\"\n",
    "\n",
    "subset$authorGender[subset$docauthorid==\"IED0345\"] <- \"M\"\n",
    "subset$docauthorid[subset$docauthorid==\"IED0345\"] <- \"IED0403\"\n",
    "subset$docauthorname[subset$docauthorid==\"IED0403\"] <- \"James Gamble\"\n",
    "\n",
    "subset$docauthorid[subset$docauthorid==\"IED0274\"] <- \"IED0267\"\n",
    "subset$docauthorname[subset$docauthorid==\"IED0267\"] <- \"Hannah B. Longstreet\" \n",
    "subset$authorGender[subset$docauthorid==\"IED0267\"] <- \"F\"\n",
    "\n",
    "subset$docauthorid[subset$docauthorid==\"IED0317\"] <- \"IED0107\"\n",
    "subset$docauthorname[subset$docauthorid==\"IED0107\"] <- \"Isabella Weir Moore\" # Married name per 20910\n",
    "\n",
    "subset$docauthorid[subset$docauthorid==\"IED1043\"] <- \"IED0958\"\n",
    "subset$docauthorid[subset$docauthorid==\"IED1044\"] <- \"IED0958\" # 49253 IED website Willie J. Weir\n",
    "subset$docauthorname[subset$docauthorid==\"IED0958\"] <- \"William J. Weir\" # 42325 \"thrashing\" ref\n",
    "subset$authorGender[subset$docauthorid==\"IED0958\"] <- \"M\"\n",
    "\n",
    "subset$docauthorid[subset$docauthorid==\"IED1007\"] <- \"IED0957\"\n",
    "subset$docauthorname[subset$docauthorid==\"IED0957\"] <- \"William J. Stavely\" # Dear mother in Belfast\n",
    "subset$M[subset$docauthorid==\"IED0957\"] <- TRUE # Speaks of business as occupation\n",
    "subset$authorGender[subset$docauthorid==\"IED0957\"] <- \"M\"\n",
    "\n",
    "subset$docauthorid[subset$docauthorid==\"IED0837\"] <- \"IED0838\"\n",
    "subset$docauthorid[subset$docauthorid==\"IED0836\"] <- \"IED0838\"\n",
    "subset$docauthorname[subset$docauthorid==\"IED0838\"] <- \"Ruth J. Ramsey\" # Married name per 20910\n",
    "\n",
    "subset$docauthorid[subset$docauthorid==\"IED0698\"] <- \"IED0710\"\n",
    "subset$docauthorname[subset$docauthorid==\"IED0710\"] <- \"Martha Blair Cranston\" # Incorrect name in IED\n",
    "\n",
    "vals <- c(\"IED0621\", \n",
    "          \"IED0611\", \n",
    "          \"IED0692\",\n",
    "          \"IED0932\", \n",
    "          \"IED0572\",\n",
    "          \"IED0657\",\n",
    "          \"IED0701\",\n",
    "          \"IED0403\",\n",
    "          \"IED0267\",\n",
    "          \"IED0107\", \n",
    "          \"IED0958\", #Weir\n",
    "          \"IED1044\", #Weir\n",
    "          \"IED0957\",\n",
    "          \"IED0838\", #Ramsey\n",
    "          \"IED0836\", #Ramsey\n",
    "          \"IED0710\")\n",
    "\n",
    "subset %>% \n",
    "filter(docauthorid %in% vals) %>% \n",
    "select(docauthorname, docauthorid, authorGender) %>% \n",
    "unique()"
   ]
  },
  {
   "cell_type": "code",
   "execution_count": 656,
   "id": "563ebb12",
   "metadata": {},
   "outputs": [
    {
     "data": {
      "text/html": [
       "246"
      ],
      "text/latex": [
       "246"
      ],
      "text/markdown": [
       "246"
      ],
      "text/plain": [
       "[1] 246"
      ]
     },
     "metadata": {},
     "output_type": "display_data"
    },
    {
     "data": {
      "text/plain": [
       "        \n",
       "          F  M\n",
       "  Canada 13  2\n",
       "  USA    52 15"
      ]
     },
     "metadata": {},
     "output_type": "display_data"
    },
    {
     "data": {
      "text/plain": [
       "        \n",
       "            F    M\n",
       "  Canada 0.16 0.02\n",
       "  USA    0.63 0.18"
      ]
     },
     "metadata": {},
     "output_type": "display_data"
    },
    {
     "data": {
      "text/html": [
       "7"
      ],
      "text/latex": [
       "7"
      ],
      "text/markdown": [
       "7"
      ],
      "text/plain": [
       "[1] 7"
      ]
     },
     "metadata": {},
     "output_type": "display_data"
    }
   ],
   "source": [
    "# Summary statistics\n",
    "\n",
    "# Number of observations\n",
    "nrow(subset)\n",
    "\n",
    "# Distribution of men and women by country.\n",
    "temp <- subset %>% \n",
    "select(docauthorid, authorLocation, authorGender)  %>% \n",
    "unique()\n",
    "table(temp$authorLocation, temp$authorGender)\n",
    "round(prop.table(table(temp$authorLocation, temp$authorGender)), digits = 2)\n",
    "\n",
    "#Number of NAs\n",
    "sum(is.na(temp$authorGender))"
   ]
  },
  {
   "cell_type": "code",
   "execution_count": 657,
   "id": "e72c6113",
   "metadata": {},
   "outputs": [],
   "source": [
    "#vals <- c(\"IED0727\",\n",
    "          #\"IED0374\", #IED0369 \n",
    "          #\"IED0567\", #IED0369\n",
    "          #\"IED0566\" #IED0369\n",
    "         #)\n",
    "\n",
    "#all <- df$docid[df$docauthorid %in% vals]\n",
    "#omit <- subset$docid[subset$docauthorid %in% vals]\n",
    "#toAdd <- setdiff(all, omit)\n",
    "\n",
    "#write.csv(toAdd, \"20240603_PhD_IEDSubset01.csv\", row.names=FALSE)"
   ]
  },
  {
   "cell_type": "code",
   "execution_count": 658,
   "id": "056b73fb",
   "metadata": {},
   "outputs": [
    {
     "data": {
      "text/html": [
       "10"
      ],
      "text/latex": [
       "10"
      ],
      "text/markdown": [
       "10"
      ],
      "text/plain": [
       "[1] 10"
      ]
     },
     "metadata": {},
     "output_type": "display_data"
    }
   ],
   "source": [
    "toAdd <- read.csv(\"20240603_PhD_IEDSubset01.csv\")\n",
    "toAdd <- toAdd$x\n",
    "toAdd <- df[df$docid %in% toAdd,]\n",
    "nrow(toAdd)"
   ]
  },
  {
   "cell_type": "code",
   "execution_count": 659,
   "id": "819cdff1",
   "metadata": {},
   "outputs": [],
   "source": [
    "# Add rows to subset and correct names and genders\n",
    "\n",
    "subset <- rbind(subset, toAdd)\n",
    "\n",
    "subset$docauthorid[subset$docauthorid==\"IED0089.70\"] <- \"IED0727\"\n",
    "subset$docauthorname[subset$docauthorid==\"IED0727\"] <- \"Nato B. Smyth\" \n",
    "subset$authorGender[subset$docauthorid==\"IED0727\"] <- \"F\"\n",
    "\n",
    "subset$docauthorname[subset$docauthorid==\"IED0233\"] <- \"George McCann\" \n",
    "subset$authorGender[subset$docauthorid==\"IED0233\"] <- \"M\" #https://sites.rootsweb.com/~rosdavies/SURNAMES/Mc/McCann.htm\n",
    "subset$relMin[subset$docauthorid==\"IED0233\"] <- FALSE\n",
    "\n",
    "subset$authorGender[subset$docauthorid==\"IED0254\"] <- \"M\"\n",
    "\n",
    "subset$docauthorname[subset$docauthorid==\"IED0089.89\"] <- \"Henry Jim Keenan\" \n",
    "subset$authorGender[subset$docauthorid==\"IED0089.89\"] <- \"M\"\n",
    "\n",
    "subset$docauthorid[subset$docauthorid==\"IED0369\"] <- \"IED0374\"\n",
    "subset$docauthorid[subset$docauthorid==\"IED0567\"] <- \"IED0374\"\n",
    "subset$docauthorid[subset$docauthorid==\"IED0566\"] <- \"IED0374\"\n",
    "subset$docauthorname[subset$docauthorid==\"IED0374\"] <- \"Jonathan W. Smith\" \n",
    "subset$authorGender[subset$docauthorid==\"IED0374\"] <- \"M\"\n",
    "\n",
    "vals <- c(\"46943\", # Date appears to be missing and probably incorrectly surmised)\n",
    "          \"50508\", # Letter to a stranger\n",
    "          \"33534\", # Letter to government\n",
    "          \"46812\", # Business letter\n",
    "          \"48266\" # Brief, business letter\n",
    "          )\n",
    "\n",
    "subset <- subset[!subset$docid %in% vals,]"
   ]
  },
  {
   "cell_type": "code",
   "execution_count": 660,
   "id": "137c5438",
   "metadata": {},
   "outputs": [],
   "source": [
    "vals <- c(\"40692\", \"29132\")\n",
    "\n",
    "addRows <- df[df$docid %in% vals,]\n",
    "addRows$docauthorid <- \"IED1059\"\n",
    "subset <- rbind(subset, addRows)\n",
    "subset$docauthorname[subset$docauthorid==\"IED1059\"] <- \"William Porter\" \n",
    "subset$authorGender[subset$docauthorid==\"IED1059\"] <- \"M\" "
   ]
  },
  {
   "cell_type": "code",
   "execution_count": 667,
   "id": "8a10d9a9",
   "metadata": {},
   "outputs": [],
   "source": [
    "subset$docauthorname[subset$docid==\"44386\"] <- \"Isabella Weir Moore\"\n",
    "subset$docauthorid[subset$docid==\"44386\"] <- \"IED0107\""
   ]
  },
  {
   "cell_type": "code",
   "execution_count": 668,
   "id": "cd2c065d",
   "metadata": {},
   "outputs": [
    {
     "data": {
      "text/html": [
       "253"
      ],
      "text/latex": [
       "253"
      ],
      "text/markdown": [
       "253"
      ],
      "text/plain": [
       "[1] 253"
      ]
     },
     "metadata": {},
     "output_type": "display_data"
    },
    {
     "data": {
      "text/plain": [
       "        \n",
       "          F  M\n",
       "  Canada 13  3\n",
       "  USA    52 18"
      ]
     },
     "metadata": {},
     "output_type": "display_data"
    },
    {
     "data": {
      "text/plain": [
       "        \n",
       "            F    M\n",
       "  Canada 0.15 0.03\n",
       "  USA    0.60 0.21"
      ]
     },
     "metadata": {},
     "output_type": "display_data"
    },
    {
     "data": {
      "text/html": [
       "0"
      ],
      "text/latex": [
       "0"
      ],
      "text/markdown": [
       "0"
      ],
      "text/plain": [
       "[1] 0"
      ]
     },
     "metadata": {},
     "output_type": "display_data"
    }
   ],
   "source": [
    "#Summary statistics\n",
    "nrow(subset)\n",
    "\n",
    "# Distribution of men and women by country.\n",
    "temp <- subset %>% \n",
    "select(docauthorid, authorLocation, authorGender)  %>% \n",
    "unique()\n",
    "table(temp$authorLocation, temp$authorGender)\n",
    "round(prop.table(table(temp$authorLocation, temp$authorGender)), digits = 2)\n",
    "\n",
    "#Number of NAs\n",
    "sum(is.na(temp$authorGender))"
   ]
  },
  {
   "cell_type": "code",
   "execution_count": 682,
   "id": "8848a946",
   "metadata": {},
   "outputs": [
    {
     "name": "stdout",
     "output_type": "stream",
     "text": [
      "[1] \"Number of women across NAILDOH and IED\"\n"
     ]
    },
    {
     "data": {
      "text/html": [
       "79"
      ],
      "text/latex": [
       "79"
      ],
      "text/markdown": [
       "79"
      ],
      "text/plain": [
       "[1] 79"
      ]
     },
     "metadata": {},
     "output_type": "display_data"
    },
    {
     "name": "stdout",
     "output_type": "stream",
     "text": [
      "[1] \"Number of men across NAILDOH and IED\"\n"
     ]
    },
    {
     "data": {
      "text/html": [
       "99"
      ],
      "text/latex": [
       "99"
      ],
      "text/markdown": [
       "99"
      ],
      "text/plain": [
       "[1] 99"
      ]
     },
     "metadata": {},
     "output_type": "display_data"
    }
   ],
   "source": [
    "print(\"Number of women across NAILDOH and IED\")\n",
    "14+13+52\n",
    "\n",
    "print(\"Number of men across NAILDOH and IED\")\n",
    "78+3+18"
   ]
  },
  {
   "cell_type": "code",
   "execution_count": 680,
   "id": "db921101",
   "metadata": {},
   "outputs": [],
   "source": [
    "#subset %>% \n",
    "#select(docauthorid, docauthorname, authorGender) %>% \n",
    "#unique() %>% \n",
    "#print()"
   ]
  },
  {
   "cell_type": "code",
   "execution_count": 661,
   "id": "4187c3a1",
   "metadata": {},
   "outputs": [],
   "source": [
    "#vals <- c(\"IED0727\",\n",
    "          #\"IED0374\", #IED0369 \n",
    "          #\"IED0567\", #IED0369\n",
    "          #\"IED0566\", #IED0369\n",
    "         #)\n",
    "\n",
    "#subset %>% \n",
    "#filter(docauthorid %in% vals) %>% \n",
    "#select(docauthorname, docauthorid, authorGender) %>% \n",
    "#unique()"
   ]
  },
  {
   "cell_type": "code",
   "execution_count": 681,
   "id": "1c89f9cd",
   "metadata": {},
   "outputs": [],
   "source": [
    "#df[df$docauthorid==\"IED0089.79\",]\n",
    "#df[grepl(\"William Porter\", df$docauthorname),]\n",
    "#df[df$docid==\"33534\",]\n",
    "#df %>% filter(docauthorname==\"George\")\n",
    "\n",
    "#subset[subset$docauthorid==\"IED0089.79\",]\n",
    "#subset[grepl(\"IED0089.73\", subset$docauthorid),]\n",
    "#subset[subset$docid==\"22996\",]\n",
    "#subset[grepl(\"Weir\", subset$docauthorname),]\n",
    "\n",
    "#toAdd[toAdd$docauthorid==\"IED0243\",]\n",
    "#toAdd[grepl(\"IED0037\", toAdd$docauthorid),]\n",
    "#toAdd[toAdd$docid==\"33534\",]\n",
    "#toAdd[grepl(\"Gamble\", toAdd$docauthorname),]\n",
    "\n",
    "#vals <- c(\"23590\", \"50454\", \"31379\", \"27261\", \"26789\", \"26511\", \"21334\")\n",
    "#subset[subset$docid %in% vals,]"
   ]
  },
  {
   "cell_type": "markdown",
   "id": "51c10d2c",
   "metadata": {},
   "source": [
    "Business letters that offer no personal information are omitted while letters that refer to interpersonal debt, loans, deals and transactions AND that include personal information (e.g., living conditions, family circumstances, etc). are kept. "
   ]
  },
  {
   "cell_type": "code",
   "execution_count": 675,
   "id": "511d0470",
   "metadata": {},
   "outputs": [
    {
     "data": {
      "text/plain": [
       "     docid       nationalOrigin authorGender   relMin           U          \n",
       " Min.   :20910   Irish:253      F:176        Mode :logical   Mode:logical  \n",
       " 1st Qu.:27978                  M: 77        FALSE:10        TRUE:3        \n",
       " Median :35996                               NA's :243       NA's:250      \n",
       " Mean   :36638                                                             \n",
       " 3rd Qu.:45423                                                             \n",
       " Max.   :53397                                                             \n",
       "                                                                           \n",
       "    M              S              F               L              docmonth     \n",
       " Mode:logical   Mode:logical   Mode:logical   Mode :logical   Min.   : 1.000  \n",
       " TRUE:12        NA's:253       NA's:253       FALSE:9         1st Qu.: 3.000  \n",
       " NA's:241                                     NA's :244       Median : 6.000  \n",
       "                                                              Mean   : 6.381  \n",
       "                                                              3rd Qu.:10.000  \n",
       "                                                              Max.   :12.000  \n",
       "                                                              NA's   :1       \n",
       "    docyear                 docauthorname authorLocation    firstnames \n",
       " Min.   :1770   Mary Cumming       : 28   Canada: 35     Mary    : 43  \n",
       " 1st Qu.:1844   William J. Weir    : 16   USA   :218     Isabella: 19  \n",
       " Median :1879   Isabella Weir Moore: 15                  William : 17  \n",
       " Mean   :1865   James Gamble       : 12                  Ellen   : 11  \n",
       " 3rd Qu.:1890   William J. Stavely : 12                  W.      : 11  \n",
       " Max.   :1912   Ellen S. Dunlop    : 10                  James   : 10  \n",
       "                (Other)            :160                  (Other) :142  \n",
       "  docauthorid \n",
       " IED0661: 28  \n",
       " IED0958: 16  \n",
       " IED0107: 15  \n",
       " IED0403: 12  \n",
       " IED0957: 12  \n",
       " IED0212: 10  \n",
       " (Other):160  "
      ]
     },
     "metadata": {},
     "output_type": "display_data"
    }
   ],
   "source": [
    "summary(factorize(subset))"
   ]
  },
  {
   "cell_type": "markdown",
   "id": "5ce55219",
   "metadata": {},
   "source": [
    "stopwords: #page, [sic], [stained], [torn], [..............Torn], [faded], [Page \n",
    "\n"
   ]
  },
  {
   "cell_type": "code",
   "execution_count": 683,
   "id": "bdf15829",
   "metadata": {},
   "outputs": [
    {
     "name": "stdout",
     "output_type": "stream",
     "text": [
      "[1] \"files in CSV but not in folder\"\n"
     ]
    },
    {
     "data": {
      "text/html": [],
      "text/latex": [],
      "text/markdown": [],
      "text/plain": [
       "integer(0)"
      ]
     },
     "metadata": {},
     "output_type": "display_data"
    },
    {
     "name": "stdout",
     "output_type": "stream",
     "text": [
      "[1] \"files in folder but not in CSV\"\n"
     ]
    },
    {
     "data": {
      "text/html": [],
      "text/latex": [],
      "text/markdown": [],
      "text/plain": [
       "character(0)"
      ]
     },
     "metadata": {},
     "output_type": "display_data"
    }
   ],
   "source": [
    "# make list of doc ids in folder\n",
    "WD <- getwd()\n",
    "setwd(WD)\n",
    "files <- list.files(\"SubsetIED/Subset\")\n",
    "vals <- sort(sub('.txt', '', files))\n",
    "\n",
    "# Checking to make sure csv matches folder list.\n",
    "\n",
    "# make list of doc ids in csv\n",
    "csv <- sort(subset$docid)\n",
    "\n",
    "print(\"files in CSV but not in folder\")\n",
    "setdiff(csv, vals)\n",
    "\n",
    "print(\"files in folder but not in CSV\")\n",
    "setdiff(vals, csv)"
   ]
  },
  {
   "cell_type": "code",
   "execution_count": 684,
   "id": "3ff5d906",
   "metadata": {},
   "outputs": [],
   "source": [
    "write.csv(subset, \n",
    "          \"20240603_PhD_IEDSubset.csv\", \n",
    "          row.names=FALSE)"
   ]
  }
 ],
 "metadata": {
  "kernelspec": {
   "display_name": "R",
   "language": "R",
   "name": "ir"
  },
  "language_info": {
   "codemirror_mode": "r",
   "file_extension": ".r",
   "mimetype": "text/x-r-source",
   "name": "R",
   "pygments_lexer": "r",
   "version": "4.1.0"
  }
 },
 "nbformat": 4,
 "nbformat_minor": 5
}
