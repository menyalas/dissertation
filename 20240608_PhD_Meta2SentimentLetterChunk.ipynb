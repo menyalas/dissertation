{
 "cells": [
  {
   "cell_type": "markdown",
   "metadata": {},
   "source": [
    "# Merge Datasets"
   ]
  },
  {
   "cell_type": "markdown",
   "metadata": {},
   "source": [
    "<h2>Packages</h2>"
   ]
  },
  {
   "cell_type": "code",
   "execution_count": 2,
   "metadata": {},
   "outputs": [],
   "source": [
    "library(tidyverse)"
   ]
  },
  {
   "cell_type": "markdown",
   "metadata": {},
   "source": [
    "<h2>Functions</h2>"
   ]
  },
  {
   "cell_type": "code",
   "execution_count": 3,
   "metadata": {},
   "outputs": [],
   "source": [
    "# Converts all factors to character class\n",
    "unfactorize <- function(df){\n",
    "  for(i in which(sapply(df, class) == \"factor\")) df[[i]] = as.character(df[[i]])\n",
    "  return(df)\n",
    "}"
   ]
  },
  {
   "cell_type": "code",
   "execution_count": 4,
   "metadata": {},
   "outputs": [],
   "source": [
    "# Converts character to factor class\n",
    "factorize <- function(df){\n",
    "  for(i in which(sapply(df, class) == \"character\")) df[[i]] = as.factor(df[[i]])\n",
    "  return(df)\n",
    "}"
   ]
  },
  {
   "cell_type": "markdown",
   "metadata": {},
   "source": [
    "<h2>Data</h2>"
   ]
  },
  {
   "cell_type": "code",
   "execution_count": 5,
   "metadata": {},
   "outputs": [
    {
     "name": "stdout",
     "output_type": "stream",
     "text": [
      "Rows: 676\n",
      "Columns: 18\n",
      "$ docid          \u001b[3m\u001b[90m<chr>\u001b[39m\u001b[23m \"20910\", \"21062\", \"21324\", \"21334\", \"21354\", \"21470\", \"…\n",
      "$ docyear        \u001b[3m\u001b[90m<int>\u001b[39m\u001b[23m 1891, 1871, 1892, 1891, 1890, 1800, 1839, 1838, 1844, 1…\n",
      "$ docmonth       \u001b[3m\u001b[90m<int>\u001b[39m\u001b[23m 7, 11, 5, 10, 2, 3, 1, 9, 12, 4, 10, 1, 5, 6, 10, 10, 1…\n",
      "$ authorName     \u001b[3m\u001b[90m<chr>\u001b[39m\u001b[23m \"Isabella Weir Moore\", \"E. Rothwell\", \"Isabella Weir Mo…\n",
      "$ docauthorid    \u001b[3m\u001b[90m<chr>\u001b[39m\u001b[23m \"IED0107\", \"IED0179\", \"IED0107\", \"IED0621\", \"IED0958\", …\n",
      "$ authorLocation \u001b[3m\u001b[90m<chr>\u001b[39m\u001b[23m \"USA\", \"Canada\", \"USA\", \"USA\", \"USA\", \"USA\", \"USA\", \"US…\n",
      "$ authorGender   \u001b[3m\u001b[90m<chr>\u001b[39m\u001b[23m \"F\", \"F\", \"F\", \"F\", \"M\", \"F\", \"F\", \"F\", \"F\", \"F\", \"F\", …\n",
      "$ nationalOrigin \u001b[3m\u001b[90m<chr>\u001b[39m\u001b[23m \"Irish\", \"Irish\", \"Irish\", \"Irish\", \"Irish\", \"Irish\", \"…\n",
      "$ irish          \u001b[3m\u001b[90m<lgl>\u001b[39m\u001b[23m TRUE, TRUE, TRUE, TRUE, TRUE, TRUE, TRUE, TRUE, TRUE, T…\n",
      "$ otherUK        \u001b[3m\u001b[90m<lgl>\u001b[39m\u001b[23m FALSE, FALSE, FALSE, FALSE, FALSE, FALSE, FALSE, FALSE,…\n",
      "$ relMin         \u001b[3m\u001b[90m<lgl>\u001b[39m\u001b[23m NA, NA, NA, FALSE, NA, NA, NA, NA, NA, NA, NA, FALSE, N…\n",
      "$ catholic       \u001b[3m\u001b[90m<lgl>\u001b[39m\u001b[23m NA, NA, NA, FALSE, NA, NA, NA, NA, NA, NA, NA, FALSE, N…\n",
      "$ otherChristian \u001b[3m\u001b[90m<lgl>\u001b[39m\u001b[23m NA, NA, NA, TRUE, NA, NA, NA, NA, NA, NA, NA, TRUE, NA,…\n",
      "$ U              \u001b[3m\u001b[90m<lgl>\u001b[39m\u001b[23m NA, NA, NA, NA, NA, NA, NA, NA, NA, NA, NA, NA, NA, NA,…\n",
      "$ M              \u001b[3m\u001b[90m<lgl>\u001b[39m\u001b[23m NA, NA, NA, NA, NA, NA, NA, NA, NA, NA, NA, NA, NA, NA,…\n",
      "$ S              \u001b[3m\u001b[90m<lgl>\u001b[39m\u001b[23m NA, NA, NA, NA, NA, NA, NA, NA, NA, NA, NA, NA, NA, NA,…\n",
      "$ F              \u001b[3m\u001b[90m<lgl>\u001b[39m\u001b[23m NA, NA, NA, NA, NA, NA, NA, NA, NA, NA, NA, NA, NA, NA,…\n",
      "$ L              \u001b[3m\u001b[90m<lgl>\u001b[39m\u001b[23m NA, NA, NA, FALSE, NA, NA, NA, NA, NA, NA, NA, FALSE, N…\n"
     ]
    }
   ],
   "source": [
    "# Load data related to authors and documents (metadata)\n",
    "dfMeta <- unfactorize(read.csv(\"20240606_PhD_Letters.csv\"))\n",
    "# Order rows by value in docid\n",
    "dfMeta <- dfMeta[order(dfMeta$docid, decreasing = FALSE), ]\n",
    "glimpse(dfMeta)"
   ]
  },
  {
   "cell_type": "code",
   "execution_count": 6,
   "metadata": {},
   "outputs": [],
   "source": [
    "# Column names\n",
    "#names(dfMeta)"
   ]
  },
  {
   "cell_type": "code",
   "execution_count": 9,
   "metadata": {},
   "outputs": [
    {
     "name": "stdout",
     "output_type": "stream",
     "text": [
      "Rows: 2,392\n",
      "Columns: 12\n",
      "$ text             \u001b[3m\u001b[90m<chr>\u001b[39m\u001b[23m \"July 18 1891 Dear Sister I have waited until I could…\n",
      "$ docid            \u001b[3m\u001b[90m<chr>\u001b[39m\u001b[23m \"20910\", \"21062\", \"21062\", \"21324\", \"21334\", \"21334\",…\n",
      "$ sequence         \u001b[3m\u001b[90m<int>\u001b[39m\u001b[23m 1, 1, 2, 1, 1, 2, 1, 2, 1, 2, 3, 1, 2, 3, 4, 5, 6, 7,…\n",
      "$ totalTokens      \u001b[3m\u001b[90m<int>\u001b[39m\u001b[23m 182, 269, 122, 210, 287, 220, 290, 225, 274, 279, 129…\n",
      "$ uniqueTokens     \u001b[3m\u001b[90m<int>\u001b[39m\u001b[23m 119, 163, 97, 139, 174, 140, 155, 145, 166, 163, 87, …\n",
      "$ lexicalDiversity \u001b[3m\u001b[90m<dbl>\u001b[39m\u001b[23m 0.6538462, 0.6059480, 0.7950820, 0.6619048, 0.6062718…\n",
      "$ scoreNeg         \u001b[3m\u001b[90m<dbl>\u001b[39m\u001b[23m 0.000000000, 0.041000000, 0.040750000, 0.046000000, 0…\n",
      "$ scoreNeu         \u001b[3m\u001b[90m<dbl>\u001b[39m\u001b[23m 0.8550000, 0.7486667, 0.6670000, 0.7990000, 0.8192222…\n",
      "$ scorePos         \u001b[3m\u001b[90m<dbl>\u001b[39m\u001b[23m 0.14500000, 0.21050000, 0.29225000, 0.15500000, 0.135…\n",
      "$ scoreCom         \u001b[3m\u001b[90m<dbl>\u001b[39m\u001b[23m 0.51510000, 0.27973333, 0.08157500, 0.94230000, 0.146…\n",
      "$ chunks           \u001b[3m\u001b[90m<int>\u001b[39m\u001b[23m 1, 2, 2, 1, 2, 2, 2, 2, 3, 3, 3, 8, 8, 8, 8, 8, 8, 8,…\n",
      "$ position         \u001b[3m\u001b[90m<dbl>\u001b[39m\u001b[23m 1.0000000, 0.5000000, 1.0000000, 1.0000000, 0.5000000…\n"
     ]
    }
   ],
   "source": [
    "# Load data related to authors and documents (metadata)\n",
    "dfNarrative <- unfactorize(read.csv(\"20240607_PhD_SentimentLetters-Chunks.csv\"))[-1]\n",
    "# Strip .txt from docids in DfNarrative\n",
    "dfNarrative$docid <- gsub(\".txt\",\"\", dfNarrative$docid)\n",
    "glimpse(dfNarrative)"
   ]
  },
  {
   "cell_type": "code",
   "execution_count": 10,
   "metadata": {},
   "outputs": [
    {
     "data": {
      "text/html": [
       "TRUE"
      ],
      "text/latex": [
       "TRUE"
      ],
      "text/markdown": [
       "TRUE"
      ],
      "text/plain": [
       "[1] TRUE"
      ]
     },
     "metadata": {},
     "output_type": "display_data"
    }
   ],
   "source": [
    "# Are the values identical\n",
    "identical(unique(dfMeta$docid),unique(dfNarrative$docid))"
   ]
  },
  {
   "cell_type": "code",
   "execution_count": 11,
   "metadata": {},
   "outputs": [],
   "source": [
    "#Merge datasets\n",
    "df <- right_join(dfMeta, dfNarrative, by = 'docid')\n",
    "#glimpse(df)"
   ]
  },
  {
   "cell_type": "code",
   "execution_count": 12,
   "metadata": {},
   "outputs": [],
   "source": [
    "# Convert variables to factor\n",
    "vars  <- c(\"docauthorid\", \"authorName\", \"docid\", \"authorGender\", \"nationalOrigin\", \"authorLocation\")\n",
    "df[vars]  <- factorize(df[vars])"
   ]
  },
  {
   "cell_type": "code",
   "execution_count": 13,
   "metadata": {},
   "outputs": [
    {
     "name": "stdout",
     "output_type": "stream",
     "text": [
      "Rows: 2,392\n",
      "Columns: 29\n",
      "$ docid            \u001b[3m\u001b[90m<fct>\u001b[39m\u001b[23m 20910, 21062, 21062, 21324, 21334, 21334, 21354, 2135…\n",
      "$ docyear          \u001b[3m\u001b[90m<int>\u001b[39m\u001b[23m 1891, 1871, 1871, 1892, 1891, 1891, 1890, 1890, 1800,…\n",
      "$ docmonth         \u001b[3m\u001b[90m<int>\u001b[39m\u001b[23m 7, 11, 11, 5, 10, 10, 2, 2, 3, 3, 3, 1, 1, 1, 1, 1, 1…\n",
      "$ authorName       \u001b[3m\u001b[90m<fct>\u001b[39m\u001b[23m Isabella Weir Moore, E. Rothwell, E. Rothwell, Isabel…\n",
      "$ docauthorid      \u001b[3m\u001b[90m<fct>\u001b[39m\u001b[23m IED0107, IED0179, IED0179, IED0107, IED0621, IED0621,…\n",
      "$ authorLocation   \u001b[3m\u001b[90m<fct>\u001b[39m\u001b[23m USA, Canada, Canada, USA, USA, USA, USA, USA, USA, US…\n",
      "$ authorGender     \u001b[3m\u001b[90m<fct>\u001b[39m\u001b[23m F, F, F, F, F, F, M, M, F, F, F, F, F, F, F, F, F, F,…\n",
      "$ nationalOrigin   \u001b[3m\u001b[90m<fct>\u001b[39m\u001b[23m Irish, Irish, Irish, Irish, Irish, Irish, Irish, Iris…\n",
      "$ irish            \u001b[3m\u001b[90m<lgl>\u001b[39m\u001b[23m TRUE, TRUE, TRUE, TRUE, TRUE, TRUE, TRUE, TRUE, TRUE,…\n",
      "$ otherUK          \u001b[3m\u001b[90m<lgl>\u001b[39m\u001b[23m FALSE, FALSE, FALSE, FALSE, FALSE, FALSE, FALSE, FALS…\n",
      "$ relMin           \u001b[3m\u001b[90m<lgl>\u001b[39m\u001b[23m NA, NA, NA, NA, FALSE, FALSE, NA, NA, NA, NA, NA, NA,…\n",
      "$ catholic         \u001b[3m\u001b[90m<lgl>\u001b[39m\u001b[23m NA, NA, NA, NA, FALSE, FALSE, NA, NA, NA, NA, NA, NA,…\n",
      "$ otherChristian   \u001b[3m\u001b[90m<lgl>\u001b[39m\u001b[23m NA, NA, NA, NA, TRUE, TRUE, NA, NA, NA, NA, NA, NA, N…\n",
      "$ U                \u001b[3m\u001b[90m<lgl>\u001b[39m\u001b[23m NA, NA, NA, NA, NA, NA, NA, NA, NA, NA, NA, NA, NA, N…\n",
      "$ M                \u001b[3m\u001b[90m<lgl>\u001b[39m\u001b[23m NA, NA, NA, NA, NA, NA, NA, NA, NA, NA, NA, NA, NA, N…\n",
      "$ S                \u001b[3m\u001b[90m<lgl>\u001b[39m\u001b[23m NA, NA, NA, NA, NA, NA, NA, NA, NA, NA, NA, NA, NA, N…\n",
      "$ F                \u001b[3m\u001b[90m<lgl>\u001b[39m\u001b[23m NA, NA, NA, NA, NA, NA, NA, NA, NA, NA, NA, NA, NA, N…\n",
      "$ L                \u001b[3m\u001b[90m<lgl>\u001b[39m\u001b[23m NA, NA, NA, NA, FALSE, FALSE, NA, NA, NA, NA, NA, NA,…\n",
      "$ text             \u001b[3m\u001b[90m<chr>\u001b[39m\u001b[23m \"July 18 1891 Dear Sister I have waited until I could…\n",
      "$ sequence         \u001b[3m\u001b[90m<int>\u001b[39m\u001b[23m 1, 1, 2, 1, 1, 2, 1, 2, 1, 2, 3, 1, 2, 3, 4, 5, 6, 7,…\n",
      "$ totalTokens      \u001b[3m\u001b[90m<int>\u001b[39m\u001b[23m 182, 269, 122, 210, 287, 220, 290, 225, 274, 279, 129…\n",
      "$ uniqueTokens     \u001b[3m\u001b[90m<int>\u001b[39m\u001b[23m 119, 163, 97, 139, 174, 140, 155, 145, 166, 163, 87, …\n",
      "$ lexicalDiversity \u001b[3m\u001b[90m<dbl>\u001b[39m\u001b[23m 0.6538462, 0.6059480, 0.7950820, 0.6619048, 0.6062718…\n",
      "$ scoreNeg         \u001b[3m\u001b[90m<dbl>\u001b[39m\u001b[23m 0.000000000, 0.041000000, 0.040750000, 0.046000000, 0…\n",
      "$ scoreNeu         \u001b[3m\u001b[90m<dbl>\u001b[39m\u001b[23m 0.8550000, 0.7486667, 0.6670000, 0.7990000, 0.8192222…\n",
      "$ scorePos         \u001b[3m\u001b[90m<dbl>\u001b[39m\u001b[23m 0.14500000, 0.21050000, 0.29225000, 0.15500000, 0.135…\n",
      "$ scoreCom         \u001b[3m\u001b[90m<dbl>\u001b[39m\u001b[23m 0.51510000, 0.27973333, 0.08157500, 0.94230000, 0.146…\n",
      "$ chunks           \u001b[3m\u001b[90m<int>\u001b[39m\u001b[23m 1, 2, 2, 1, 2, 2, 2, 2, 3, 3, 3, 8, 8, 8, 8, 8, 8, 8,…\n",
      "$ position         \u001b[3m\u001b[90m<dbl>\u001b[39m\u001b[23m 1.0000000, 0.5000000, 1.0000000, 1.0000000, 0.5000000…\n"
     ]
    }
   ],
   "source": [
    "# Check classes\n",
    "# lapply(df, class)\n",
    "# summary(df)\n",
    "glimpse(df)"
   ]
  },
  {
   "cell_type": "code",
   "execution_count": 14,
   "metadata": {},
   "outputs": [],
   "source": [
    "write.csv(df, \"20240608_PhD_Data4TopicModel-LetterChunk.csv\")"
   ]
  }
 ],
 "metadata": {
  "kernelspec": {
   "display_name": "R",
   "language": "R",
   "name": "ir"
  },
  "language_info": {
   "codemirror_mode": "r",
   "file_extension": ".r",
   "mimetype": "text/x-r-source",
   "name": "R",
   "pygments_lexer": "r",
   "version": "4.1.0"
  }
 },
 "nbformat": 4,
 "nbformat_minor": 2
}
