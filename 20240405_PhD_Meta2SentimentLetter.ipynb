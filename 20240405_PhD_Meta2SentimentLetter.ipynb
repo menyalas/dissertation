{
 "cells": [
  {
   "cell_type": "markdown",
   "metadata": {},
   "source": [
    "# Merge Datasets"
   ]
  },
  {
   "cell_type": "markdown",
   "metadata": {},
   "source": [
    "<h2>Packages</h2>"
   ]
  },
  {
   "cell_type": "code",
   "execution_count": 5,
   "metadata": {},
   "outputs": [],
   "source": [
    "library(tidyverse)"
   ]
  },
  {
   "cell_type": "markdown",
   "metadata": {},
   "source": [
    "<h2>Functions</h2>"
   ]
  },
  {
   "cell_type": "code",
   "execution_count": 6,
   "metadata": {},
   "outputs": [],
   "source": [
    "# Converts all factors to character class\n",
    "unfactorize <- function(df){\n",
    "  for(i in which(sapply(df, class) == \"factor\")) df[[i]] = as.character(df[[i]])\n",
    "  return(df)\n",
    "}"
   ]
  },
  {
   "cell_type": "code",
   "execution_count": 7,
   "metadata": {},
   "outputs": [],
   "source": [
    "# Converts character to factor class\n",
    "factorize <- function(df){\n",
    "  for(i in which(sapply(df, class) == \"character\")) df[[i]] = as.factor(df[[i]])\n",
    "  return(df)\n",
    "}"
   ]
  },
  {
   "cell_type": "markdown",
   "metadata": {},
   "source": [
    "<h2>Data</h2>"
   ]
  },
  {
   "cell_type": "code",
   "execution_count": 8,
   "metadata": {},
   "outputs": [],
   "source": [
    "# Load data related to authors and documents (metadata)\n",
    "dfMeta <- unfactorize(read.csv(\"20240405_PhD_NaildohSubset.csv\"))\n",
    "#glimpse(dfMeta)"
   ]
  },
  {
   "cell_type": "code",
   "execution_count": 9,
   "metadata": {},
   "outputs": [
    {
     "data": {
      "text/html": [
       "<style>\n",
       ".list-inline {list-style: none; margin:0; padding: 0}\n",
       ".list-inline>li {display: inline-block}\n",
       ".list-inline>li:not(:last-child)::after {content: \"\\00b7\"; padding: 0 .5ex}\n",
       "</style>\n",
       "<ol class=list-inline><li>'docauthorid'</li><li>'docauthorname'</li><li>'docid'</li><li>'docyear'</li><li>'docmonth'</li><li>'authorgender'</li><li>'agewriting'</li><li>'agedeath'</li><li>'relMin'</li><li>'nationalOrigin'</li><li>'authorLocation'</li><li>'U'</li><li>'M'</li><li>'S'</li><li>'F'</li><li>'L'</li></ol>\n"
      ],
      "text/latex": [
       "\\begin{enumerate*}\n",
       "\\item 'docauthorid'\n",
       "\\item 'docauthorname'\n",
       "\\item 'docid'\n",
       "\\item 'docyear'\n",
       "\\item 'docmonth'\n",
       "\\item 'authorgender'\n",
       "\\item 'agewriting'\n",
       "\\item 'agedeath'\n",
       "\\item 'relMin'\n",
       "\\item 'nationalOrigin'\n",
       "\\item 'authorLocation'\n",
       "\\item 'U'\n",
       "\\item 'M'\n",
       "\\item 'S'\n",
       "\\item 'F'\n",
       "\\item 'L'\n",
       "\\end{enumerate*}\n"
      ],
      "text/markdown": [
       "1. 'docauthorid'\n",
       "2. 'docauthorname'\n",
       "3. 'docid'\n",
       "4. 'docyear'\n",
       "5. 'docmonth'\n",
       "6. 'authorgender'\n",
       "7. 'agewriting'\n",
       "8. 'agedeath'\n",
       "9. 'relMin'\n",
       "10. 'nationalOrigin'\n",
       "11. 'authorLocation'\n",
       "12. 'U'\n",
       "13. 'M'\n",
       "14. 'S'\n",
       "15. 'F'\n",
       "16. 'L'\n",
       "\n",
       "\n"
      ],
      "text/plain": [
       " [1] \"docauthorid\"    \"docauthorname\"  \"docid\"          \"docyear\"       \n",
       " [5] \"docmonth\"       \"authorgender\"   \"agewriting\"     \"agedeath\"      \n",
       " [9] \"relMin\"         \"nationalOrigin\" \"authorLocation\" \"U\"             \n",
       "[13] \"M\"              \"S\"              \"F\"              \"L\"             "
      ]
     },
     "metadata": {},
     "output_type": "display_data"
    }
   ],
   "source": [
    "# Column names\n",
    "names(dfMeta)"
   ]
  },
  {
   "cell_type": "code",
   "execution_count": 11,
   "metadata": {},
   "outputs": [],
   "source": [
    "# Load data related to authors and documents (metadata)\n",
    "dfNarrative <- unfactorize(read.csv(\"20240405_PhD_SentimentLetter.csv\"))[-1]\n",
    "# head(dfNarrative)"
   ]
  },
  {
   "cell_type": "code",
   "execution_count": 12,
   "metadata": {},
   "outputs": [],
   "source": [
    "# Strip .txt from docids in DfNarrative\n",
    "dfNarrative$docid <- gsub(\".txt\",\"\", dfNarrative$docid)"
   ]
  },
  {
   "cell_type": "code",
   "execution_count": 13,
   "metadata": {
    "scrolled": true
   },
   "outputs": [
    {
     "data": {
      "text/html": [
       "TRUE"
      ],
      "text/latex": [
       "TRUE"
      ],
      "text/markdown": [
       "TRUE"
      ],
      "text/plain": [
       "[1] TRUE"
      ]
     },
     "metadata": {},
     "output_type": "display_data"
    }
   ],
   "source": [
    "# Are the values identical\n",
    "identical(dfMeta$docid,dfNarrative$docid)"
   ]
  },
  {
   "cell_type": "code",
   "execution_count": 14,
   "metadata": {},
   "outputs": [],
   "source": [
    "#Merge datasets\n",
    "df <- right_join(dfMeta, dfNarrative, by = 'docid')\n",
    "#glimpse(df)\n",
    "# df[1, c(\"docid\", \"text\")]"
   ]
  },
  {
   "cell_type": "code",
   "execution_count": 15,
   "metadata": {},
   "outputs": [],
   "source": [
    "# Convert variables to factor\n",
    "vars  <- c(\"docauthorid\", \"docauthorname\", \"docid\", \"authorgender\", \"nationalOrigin\", \"authorLocation\")\n",
    "df[vars]  <- factorize(df[vars])"
   ]
  },
  {
   "cell_type": "code",
   "execution_count": 16,
   "metadata": {
    "scrolled": true
   },
   "outputs": [
    {
     "name": "stdout",
     "output_type": "stream",
     "text": [
      "Rows: 492\n",
      "Columns: 24\n",
      "$ docauthorid      \u001b[3m\u001b[90m<fct>\u001b[39m\u001b[23m per0001043, per0001043, per0001043, per0001043, per00…\n",
      "$ docauthorname    \u001b[3m\u001b[90m<fct>\u001b[39m\u001b[23m \"Segale, Sister Blandina, 1850-1941\", \"Segale, Sister…\n",
      "$ docid            \u001b[3m\u001b[90m<fct>\u001b[39m\u001b[23m S1019-D002, S1019-D004, S1019-D005, S1019-D006, S1019…\n",
      "$ docyear          \u001b[3m\u001b[90m<int>\u001b[39m\u001b[23m 1872, 1872, 1872, 1872, 1873, 1873, 1873, 1874, 1874,…\n",
      "$ docmonth         \u001b[3m\u001b[90m<int>\u001b[39m\u001b[23m 11, 12, 12, 12, 3, 7, 9, 6, 11, 6, 9, 12, 1, 3, 3, 6,…\n",
      "$ authorgender     \u001b[3m\u001b[90m<fct>\u001b[39m\u001b[23m F, F, F, F, F, F, F, F, F, F, F, F, F, F, F, F, F, F,…\n",
      "$ agewriting       \u001b[3m\u001b[90m<int>\u001b[39m\u001b[23m 22, 22, 22, 22, 23, 23, 23, 24, 24, 26, 26, 26, 27, 2…\n",
      "$ agedeath         \u001b[3m\u001b[90m<int>\u001b[39m\u001b[23m 91, 91, 91, 91, 91, 91, 91, 91, 91, 91, 91, 91, 91, 9…\n",
      "$ relMin           \u001b[3m\u001b[90m<lgl>\u001b[39m\u001b[23m TRUE, TRUE, TRUE, TRUE, TRUE, TRUE, TRUE, TRUE, TRUE,…\n",
      "$ nationalOrigin   \u001b[3m\u001b[90m<fct>\u001b[39m\u001b[23m Italian, Italian, Italian, Italian, Italian, Italian,…\n",
      "$ authorLocation   \u001b[3m\u001b[90m<fct>\u001b[39m\u001b[23m USA, USA, USA, USA, USA, USA, USA, USA, USA, USA, USA…\n",
      "$ U                \u001b[3m\u001b[90m<lgl>\u001b[39m\u001b[23m TRUE, TRUE, TRUE, TRUE, TRUE, TRUE, TRUE, TRUE, TRUE,…\n",
      "$ M                \u001b[3m\u001b[90m<lgl>\u001b[39m\u001b[23m TRUE, TRUE, TRUE, TRUE, TRUE, TRUE, TRUE, TRUE, TRUE,…\n",
      "$ S                \u001b[3m\u001b[90m<lgl>\u001b[39m\u001b[23m FALSE, FALSE, FALSE, FALSE, FALSE, FALSE, FALSE, FALS…\n",
      "$ F                \u001b[3m\u001b[90m<lgl>\u001b[39m\u001b[23m FALSE, FALSE, FALSE, FALSE, FALSE, FALSE, FALSE, FALS…\n",
      "$ L                \u001b[3m\u001b[90m<lgl>\u001b[39m\u001b[23m FALSE, FALSE, FALSE, FALSE, FALSE, FALSE, FALSE, FALS…\n",
      "$ text             \u001b[3m\u001b[90m<chr>\u001b[39m\u001b[23m \" TRINIDAD On Train from Steubenville Ohio to Cincinn…\n",
      "$ scoreNeg         \u001b[3m\u001b[90m<dbl>\u001b[39m\u001b[23m 0.038, 0.053, 0.063, 0.059, 0.070, 0.113, 0.127, 0.07…\n",
      "$ scorePos         \u001b[3m\u001b[90m<dbl>\u001b[39m\u001b[23m 0.087, 0.071, 0.060, 0.060, 0.049, 0.065, 0.065, 0.06…\n",
      "$ scoreNeu         \u001b[3m\u001b[90m<dbl>\u001b[39m\u001b[23m 0.876, 0.876, 0.877, 0.881, 0.881, 0.822, 0.808, 0.85…\n",
      "$ scoreCompound    \u001b[3m\u001b[90m<dbl>\u001b[39m\u001b[23m 0.9952, 0.8976, -0.9724, -0.9856, -0.9961, -0.9989, -…\n",
      "$ totalTokens      \u001b[3m\u001b[90m<dbl>\u001b[39m\u001b[23m 1998, 2474, 2281, 2272, 2117, 2048, 1959, 719, 1227, …\n",
      "$ uniqueTokens     \u001b[3m\u001b[90m<dbl>\u001b[39m\u001b[23m 773, 841, 828, 863, 805, 845, 821, 364, 467, 640, 126…\n",
      "$ lexicalDiversity \u001b[3m\u001b[90m<dbl>\u001b[39m\u001b[23m 0.3868869, 0.3399353, 0.3629987, 0.3798415, 0.3802551…\n"
     ]
    }
   ],
   "source": [
    "# Check classes\n",
    "# lapply(df, class)\n",
    "# summary(df)\n",
    "glimpse(df) "
   ]
  },
  {
   "cell_type": "code",
   "execution_count": 17,
   "metadata": {},
   "outputs": [],
   "source": [
    "write.csv(df, \"20240405_PhD_Data4TopicModel-Letter.csv\")"
   ]
  }
 ],
 "metadata": {
  "kernelspec": {
   "display_name": "R",
   "language": "R",
   "name": "ir"
  },
  "language_info": {
   "codemirror_mode": "r",
   "file_extension": ".r",
   "mimetype": "text/x-r-source",
   "name": "R",
   "pygments_lexer": "r",
   "version": "4.1.0"
  }
 },
 "nbformat": 4,
 "nbformat_minor": 2
}
