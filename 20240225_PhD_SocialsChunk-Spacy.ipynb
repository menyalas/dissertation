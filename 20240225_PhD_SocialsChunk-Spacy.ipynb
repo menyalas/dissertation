{
 "cells": [
  {
   "cell_type": "markdown",
   "metadata": {},
   "source": [
    "## NER Letter Spacy"
   ]
  },
  {
   "cell_type": "markdown",
   "metadata": {},
   "source": [
    "## Resources"
   ]
  },
  {
   "cell_type": "code",
   "execution_count": 1,
   "metadata": {},
   "outputs": [],
   "source": [
    "import spacy\n",
    "import pandas as pd\n",
    "from collections import Counter"
   ]
  },
  {
   "cell_type": "code",
   "execution_count": 2,
   "metadata": {},
   "outputs": [],
   "source": [
    "nlp = spacy.load(\"en_core_web_md\")"
   ]
  },
  {
   "cell_type": "markdown",
   "metadata": {},
   "source": [
    "## Get Data"
   ]
  },
  {
   "cell_type": "code",
   "execution_count": 3,
   "metadata": {
    "scrolled": true
   },
   "outputs": [
    {
     "name": "stdout",
     "output_type": "stream",
     "text": [
      "<class 'pandas.core.frame.DataFrame'>\n",
      "Int64Index: 3785 entries, 0 to 3784\n",
      "Data columns (total 34 columns):\n",
      " #   Column            Non-Null Count  Dtype  \n",
      "---  ------            --------------  -----  \n",
      " 0   docID-AT          3785 non-null   int64  \n",
      " 1   docauthorid       3785 non-null   object \n",
      " 2   docauthorname     3785 non-null   object \n",
      " 3   docid             3785 non-null   object \n",
      " 4   sourcetitle       3785 non-null   object \n",
      " 5   docyear           3741 non-null   float64\n",
      " 6   docmonth          2824 non-null   float64\n",
      " 7   docday            2215 non-null   float64\n",
      " 8   authorgender      3785 non-null   object \n",
      " 9   agewriting        2817 non-null   float64\n",
      " 10  birthyear         2861 non-null   float64\n",
      " 11  deathyear         2849 non-null   float64\n",
      " 12  religionNew       2501 non-null   object \n",
      " 13  relMin            3198 non-null   object \n",
      " 14  nationalOrigin    3780 non-null   object \n",
      " 15  britishEmpire_EU  3773 non-null   object \n",
      " 16  translated        3785 non-null   bool   \n",
      " 17  authorLocation    3785 non-null   object \n",
      " 18  socialClass       3177 non-null   object \n",
      " 19  A                 3177 non-null   object \n",
      " 20  I                 3177 non-null   object \n",
      " 21  CCP               3177 non-null   object \n",
      " 22  Unknown           3177 non-null   object \n",
      " 23  wageLabour        3177 non-null   object \n",
      " 24  publicLetter      659 non-null    object \n",
      " 25  chunk             3785 non-null   object \n",
      " 26  sequence          3785 non-null   int64  \n",
      " 27  scoreNeg          3785 non-null   float64\n",
      " 28  scorePos          3785 non-null   float64\n",
      " 29  scoreNeu          3785 non-null   float64\n",
      " 30  scoreCompound     3785 non-null   float64\n",
      " 31  chunks            3785 non-null   int64  \n",
      " 32  position          3785 non-null   float64\n",
      " 33  topicNumber       3785 non-null   int64  \n",
      "dtypes: bool(1), float64(11), int64(4), object(18)\n",
      "memory usage: 1009.1+ KB\n"
     ]
    }
   ],
   "source": [
    "# Sentence Data\n",
    "df = pd.read_csv(\"20240222_PhD_Data4NER-Chunk.csv\", index_col=0) \n",
    "df.info()"
   ]
  },
  {
   "cell_type": "code",
   "execution_count": 4,
   "metadata": {},
   "outputs": [
    {
     "data": {
      "text/plain": [
       "\"TRINIDAD On Train from Steubenville, Ohio, to Cincinnati. Nov 30, 1872. My Darling Sister Justina: How interestedly you, Sister M Louis and myself read Eugénie de Guérin's Journal and her daily anxieties to save her brother from being a spiritual outcast! This Journal which I propose keeping for you will deal with incidents occurring on my journey to Trinidad and happenings in that far-off land to which I am consigned. The Journal will begin with the first act. Here is Mother Josephine's letter: Mt St Vincent, O, Nov 27, 1872. Sister Blandina, Steubenville, O My Dear Child: You are missioned to Trinidad. You will leave Cincinnati Wednesday and alone. Mother Regina will attend to your needs. Devotedly, Mother Josephine. This letter thrilled us both. I was delighted to make the sacrifice, and you were hiding your feelings that I might not lose any merit. Neither of us could find Trinidad on the map except in the island of Cuba. So we concluded that Cuba was my destination. I was to leave Steubenville quietly so that none of my obstreperous pupils might cause the incoming teacher\""
      ]
     },
     "execution_count": 4,
     "metadata": {},
     "output_type": "execute_result"
    }
   ],
   "source": [
    "# Place narratives into a list representing the corpus\n",
    "texts = df.chunk.values.tolist()\n",
    "texts[0]"
   ]
  },
  {
   "cell_type": "code",
   "execution_count": 5,
   "metadata": {},
   "outputs": [
    {
     "name": "stdout",
     "output_type": "stream",
     "text": [
      "Number of mentions: 5 \n",
      "\n",
      "{'Darling Sister': 1, 'Justina': 1, \"Mother Josephine's\": 1, 'Sister Blandina': 1, 'Mother Regina': 1} \n",
      "\n",
      "Number of individuals: 5 \n",
      "\n",
      "Individuals: {'Mother Regina', 'Justina', 'Darling Sister', \"Mother Josephine's\", 'Sister Blandina'} \n",
      "\n"
     ]
    }
   ],
   "source": [
    "# Test on first item\n",
    "item = texts[0]\n",
    "\n",
    "# Run the language model on the 1st narrative\n",
    "narrative = nlp(item)\n",
    "\n",
    "# Find the mentions to people in the narrative\n",
    "\n",
    "for ent in narrative.ents:\n",
    "\n",
    "    mentions = [ent.text for ent in narrative.ents if ent.label_ == 'PERSON']\n",
    "        \n",
    "    counts = {}\n",
    "    for person in mentions:\n",
    "        counts[person] = counts.get(person, 0) + 1\n",
    "    \n",
    "    individuals = set(mentions)\n",
    "    \n",
    "print(\"Number of mentions:\", len(mentions), \"\\n\")\n",
    "print(counts, \"\\n\")    \n",
    "print(\"Number of individuals:\", len(individuals), \"\\n\")\n",
    "print(\"Individuals:\", individuals, \"\\n\")    \n",
    "    "
   ]
  },
  {
   "cell_type": "code",
   "execution_count": 6,
   "metadata": {},
   "outputs": [
    {
     "name": "stdout",
     "output_type": "stream",
     "text": [
      "3785\n",
      "3785\n",
      "3785\n",
      "5\n",
      "5\n",
      "{'Darling Sister': 1, 'Justina': 1, \"Mother Josephine's\": 1, 'Sister Blandina': 1, 'Mother Regina': 1}\n"
     ]
    }
   ],
   "source": [
    "mentsTot = []\n",
    "mentsDis = []\n",
    "indsTot = []\n",
    "\n",
    "for item in texts:\n",
    "\n",
    "# Run the language model on the 1st narrative\n",
    "    narrative = nlp(item)\n",
    "\n",
    "# Find the mentions to people in the narrative\n",
    "\n",
    "    for ent in narrative.ents:\n",
    "\n",
    "        mentions = [ent.text for ent in narrative.ents if ent.label_ == 'PERSON']\n",
    "        \n",
    "        counts = {}\n",
    "        for person in mentions:\n",
    "            counts[person] = counts.get(person, 0) + 1\n",
    "    \n",
    "        individuals = set(mentions)\n",
    "    \n",
    "    mentsTot.append(len(mentions))\n",
    "    mentsDis.append(counts)\n",
    "    indsTot.append(len(individuals))\n",
    "    \n",
    "                   \n",
    "print(len(mentsTot)) \n",
    "print(len(indsTot))\n",
    "print(len(mentsDis))\n",
    "\n",
    "print(mentsTot[0]) \n",
    "print(indsTot[0])\n",
    "print(mentsDis[0])\n"
   ]
  },
  {
   "cell_type": "markdown",
   "metadata": {},
   "source": [
    "Now for 1st person singular pronounds, subjective only per Tackman, A. M., Sbarra, D. A., Carey, A. L., Donnellan, M. B., Horn, A. B., Holtzman, N. S., Edwards, T. S., Pennebaker, J. W., & Mehl, M. R. (2019). Depression, Negative Emotionality, and Self-Referential Language: A Multi-Lab, Multi-Measure, and Multi-Language-Task Research Synthesis. Journal of Personality and Social Psychology, 116(5), 817–834. https://doi.org/10.1037/pspp0000187.\n"
   ]
  },
  {
   "cell_type": "code",
   "execution_count": 7,
   "metadata": {},
   "outputs": [
    {
     "data": {
      "text/plain": [
       "['I ',\n",
       " \"I'm \",\n",
       " \"I've \",\n",
       " \"I'll \",\n",
       " \"I'd \",\n",
       " ' me ',\n",
       " ' myself ',\n",
       " 'my ',\n",
       " 'My',\n",
       " 'mine']"
      ]
     },
     "execution_count": 7,
     "metadata": {},
     "output_type": "execute_result"
    }
   ],
   "source": [
    "pronounsAll = [\"I \", \"I'm \", \"I've \", \"I'll \", \"I'd \", \" me \", \" myself \", \"my \", \"My\", \"mine\"]\n",
    "pronounsAll"
   ]
  },
  {
   "cell_type": "code",
   "execution_count": 8,
   "metadata": {},
   "outputs": [
    {
     "data": {
      "text/plain": [
       "['I ', \"I'm \", \"I've \", \"I'll \", \"I'd \"]"
      ]
     },
     "execution_count": 8,
     "metadata": {},
     "output_type": "execute_result"
    }
   ],
   "source": [
    "pronounSub = [\"I \", \"I'm \", \"I've \", \"I'll \", \"I'd \"]\n",
    "pronounSub"
   ]
  },
  {
   "cell_type": "code",
   "execution_count": 9,
   "metadata": {},
   "outputs": [
    {
     "name": "stdout",
     "output_type": "stream",
     "text": [
      "TRINIDAD On Train from Steubenville, Ohio, to Cincinnati. Nov 30, 1872. My Darling Sister Justina: How interestedly you, Sister M Louis and myself read Eugénie de Guérin's Journal and her daily anxieties to save her brother from being a spiritual outcast! This Journal which I propose keeping for you will deal with incidents occurring on my journey to Trinidad and happenings in that far-off land to which I am consigned. The Journal will begin with the first act. Here is Mother Josephine's letter: Mt St Vincent, O, Nov 27, 1872. Sister Blandina, Steubenville, O My Dear Child: You are missioned to Trinidad. You will leave Cincinnati Wednesday and alone. Mother Regina will attend to your needs. Devotedly, Mother Josephine. This letter thrilled us both. I was delighted to make the sacrifice, and you were hiding your feelings that I might not lose any merit. Neither of us could find Trinidad on the map except in the island of Cuba. So we concluded that Cuba was my destination. I was to leave Steubenville quietly so that none of my obstreperous pupils might cause the incoming teacher\n",
      "11\n"
     ]
    }
   ],
   "source": [
    "# Count on first one\n",
    "\n",
    "print(texts[0])\n",
    "\n",
    "Count = 0\n",
    "\n",
    "for i in pronounsAll:\n",
    "    Count = texts[0].count(i) + Count\n",
    "\n",
    "print(Count)"
   ]
  },
  {
   "cell_type": "code",
   "execution_count": 10,
   "metadata": {},
   "outputs": [
    {
     "name": "stdout",
     "output_type": "stream",
     "text": [
      "3785\n",
      "11\n"
     ]
    }
   ],
   "source": [
    "# Now the rest\n",
    "\n",
    "fppAll_Ct = []\n",
    "\n",
    "for item in texts:\n",
    "    Count = 0\n",
    "    for i in pronounsAll:\n",
    "        #print(texts[0].count(i))\n",
    "        Count = item.count(i) + Count\n",
    "    \n",
    "    fppAll_Ct.append(Count)\n",
    "\n",
    "print(len(fppAll_Ct))\n",
    "print(fppAll_Ct[0])"
   ]
  },
  {
   "cell_type": "code",
   "execution_count": 11,
   "metadata": {},
   "outputs": [
    {
     "name": "stdout",
     "output_type": "stream",
     "text": [
      "3785\n",
      "5\n"
     ]
    }
   ],
   "source": [
    "# Now just subjective pronouns\n",
    "\n",
    "fppSub_Ct = []\n",
    "\n",
    "for item in texts:\n",
    "    Count = 0\n",
    "    for i in pronounSub:\n",
    "        #print(texts[0].count(i))\n",
    "        Count = item.count(i) + Count\n",
    "    \n",
    "    fppSub_Ct.append(Count)\n",
    "\n",
    "print(len(fppSub_Ct))\n",
    "print(fppSub_Ct[0])"
   ]
  },
  {
   "cell_type": "code",
   "execution_count": 12,
   "metadata": {},
   "outputs": [
    {
     "name": "stdout",
     "output_type": "stream",
     "text": [
      "<class 'pandas.core.frame.DataFrame'>\n",
      "Int64Index: 3785 entries, 0 to 3784\n",
      "Data columns (total 39 columns):\n",
      " #   Column            Non-Null Count  Dtype  \n",
      "---  ------            --------------  -----  \n",
      " 0   docID-AT          3785 non-null   int64  \n",
      " 1   docauthorid       3785 non-null   object \n",
      " 2   docauthorname     3785 non-null   object \n",
      " 3   docid             3785 non-null   object \n",
      " 4   sourcetitle       3785 non-null   object \n",
      " 5   docyear           3741 non-null   float64\n",
      " 6   docmonth          2824 non-null   float64\n",
      " 7   docday            2215 non-null   float64\n",
      " 8   authorgender      3785 non-null   object \n",
      " 9   agewriting        2817 non-null   float64\n",
      " 10  birthyear         2861 non-null   float64\n",
      " 11  deathyear         2849 non-null   float64\n",
      " 12  religionNew       2501 non-null   object \n",
      " 13  relMin            3198 non-null   object \n",
      " 14  nationalOrigin    3780 non-null   object \n",
      " 15  britishEmpire_EU  3773 non-null   object \n",
      " 16  translated        3785 non-null   bool   \n",
      " 17  authorLocation    3785 non-null   object \n",
      " 18  socialClass       3177 non-null   object \n",
      " 19  A                 3177 non-null   object \n",
      " 20  I                 3177 non-null   object \n",
      " 21  CCP               3177 non-null   object \n",
      " 22  Unknown           3177 non-null   object \n",
      " 23  wageLabour        3177 non-null   object \n",
      " 24  publicLetter      659 non-null    object \n",
      " 25  chunk             3785 non-null   object \n",
      " 26  sequence          3785 non-null   int64  \n",
      " 27  scoreNeg          3785 non-null   float64\n",
      " 28  scorePos          3785 non-null   float64\n",
      " 29  scoreNeu          3785 non-null   float64\n",
      " 30  scoreCompound     3785 non-null   float64\n",
      " 31  chunks            3785 non-null   int64  \n",
      " 32  position          3785 non-null   float64\n",
      " 33  topicNumber       3785 non-null   int64  \n",
      " 34  mentsDis          3785 non-null   object \n",
      " 35  mentsTot          3785 non-null   int64  \n",
      " 36  indsTot           3785 non-null   int64  \n",
      " 37  fppAll_Ct         3785 non-null   int64  \n",
      " 38  fppSub_Ct         3785 non-null   int64  \n",
      "dtypes: bool(1), float64(11), int64(8), object(19)\n",
      "memory usage: 1.1+ MB\n"
     ]
    }
   ],
   "source": [
    "df['mentsDis'] = [', '.join(x) for x in mentsDis]\n",
    "df['mentsTot'] = mentsTot\n",
    "df['indsTot'] = indsTot\n",
    "df['fppAll_Ct'] = fppAll_Ct\n",
    "df['fppSub_Ct'] = fppSub_Ct\n",
    "df.info()"
   ]
  },
  {
   "cell_type": "code",
   "execution_count": 13,
   "metadata": {},
   "outputs": [
    {
     "data": {
      "text/html": [
       "<div>\n",
       "<style scoped>\n",
       "    .dataframe tbody tr th:only-of-type {\n",
       "        vertical-align: middle;\n",
       "    }\n",
       "\n",
       "    .dataframe tbody tr th {\n",
       "        vertical-align: top;\n",
       "    }\n",
       "\n",
       "    .dataframe thead th {\n",
       "        text-align: right;\n",
       "    }\n",
       "</style>\n",
       "<table border=\"1\" class=\"dataframe\">\n",
       "  <thead>\n",
       "    <tr style=\"text-align: right;\">\n",
       "      <th></th>\n",
       "      <th>docID-AT</th>\n",
       "      <th>docauthorid</th>\n",
       "      <th>docauthorname</th>\n",
       "      <th>docid</th>\n",
       "      <th>sourcetitle</th>\n",
       "      <th>docyear</th>\n",
       "      <th>docmonth</th>\n",
       "      <th>docday</th>\n",
       "      <th>authorgender</th>\n",
       "      <th>agewriting</th>\n",
       "      <th>...</th>\n",
       "      <th>scoreNeu</th>\n",
       "      <th>scoreCompound</th>\n",
       "      <th>chunks</th>\n",
       "      <th>position</th>\n",
       "      <th>topicNumber</th>\n",
       "      <th>mentsDis</th>\n",
       "      <th>mentsTot</th>\n",
       "      <th>indsTot</th>\n",
       "      <th>fppAll_Ct</th>\n",
       "      <th>fppSub_Ct</th>\n",
       "    </tr>\n",
       "  </thead>\n",
       "  <tbody>\n",
       "    <tr>\n",
       "      <th>0</th>\n",
       "      <td>1</td>\n",
       "      <td>per0001043</td>\n",
       "      <td>Segale, Sister Blandina, 1850-1941</td>\n",
       "      <td>S1019-D002</td>\n",
       "      <td>At the End of the Santa Fe Trail</td>\n",
       "      <td>1872.0</td>\n",
       "      <td>11.0</td>\n",
       "      <td>30.0</td>\n",
       "      <td>F</td>\n",
       "      <td>22.0</td>\n",
       "      <td>...</td>\n",
       "      <td>0.827</td>\n",
       "      <td>0.9425</td>\n",
       "      <td>15</td>\n",
       "      <td>0.066667</td>\n",
       "      <td>12</td>\n",
       "      <td>Darling Sister, Justina, Mother Josephine's, S...</td>\n",
       "      <td>5</td>\n",
       "      <td>5</td>\n",
       "      <td>11</td>\n",
       "      <td>5</td>\n",
       "    </tr>\n",
       "    <tr>\n",
       "      <th>1</th>\n",
       "      <td>2</td>\n",
       "      <td>per0001043</td>\n",
       "      <td>Segale, Sister Blandina, 1850-1941</td>\n",
       "      <td>S1019-D002</td>\n",
       "      <td>At the End of the Santa Fe Trail</td>\n",
       "      <td>1872.0</td>\n",
       "      <td>11.0</td>\n",
       "      <td>30.0</td>\n",
       "      <td>F</td>\n",
       "      <td>22.0</td>\n",
       "      <td>...</td>\n",
       "      <td>0.859</td>\n",
       "      <td>0.8625</td>\n",
       "      <td>15</td>\n",
       "      <td>0.133333</td>\n",
       "      <td>12</td>\n",
       "      <td>Josephine, Tait, McCann</td>\n",
       "      <td>3</td>\n",
       "      <td>3</td>\n",
       "      <td>15</td>\n",
       "      <td>10</td>\n",
       "    </tr>\n",
       "    <tr>\n",
       "      <th>2</th>\n",
       "      <td>3</td>\n",
       "      <td>per0001043</td>\n",
       "      <td>Segale, Sister Blandina, 1850-1941</td>\n",
       "      <td>S1019-D002</td>\n",
       "      <td>At the End of the Santa Fe Trail</td>\n",
       "      <td>1872.0</td>\n",
       "      <td>11.0</td>\n",
       "      <td>30.0</td>\n",
       "      <td>F</td>\n",
       "      <td>22.0</td>\n",
       "      <td>...</td>\n",
       "      <td>0.883</td>\n",
       "      <td>0.6977</td>\n",
       "      <td>15</td>\n",
       "      <td>0.200000</td>\n",
       "      <td>12</td>\n",
       "      <td>Tait, McCann</td>\n",
       "      <td>2</td>\n",
       "      <td>2</td>\n",
       "      <td>15</td>\n",
       "      <td>10</td>\n",
       "    </tr>\n",
       "    <tr>\n",
       "      <th>3</th>\n",
       "      <td>4</td>\n",
       "      <td>per0001043</td>\n",
       "      <td>Segale, Sister Blandina, 1850-1941</td>\n",
       "      <td>S1019-D002</td>\n",
       "      <td>At the End of the Santa Fe Trail</td>\n",
       "      <td>1872.0</td>\n",
       "      <td>11.0</td>\n",
       "      <td>30.0</td>\n",
       "      <td>F</td>\n",
       "      <td>22.0</td>\n",
       "      <td>...</td>\n",
       "      <td>0.812</td>\n",
       "      <td>0.9451</td>\n",
       "      <td>15</td>\n",
       "      <td>0.266667</td>\n",
       "      <td>12</td>\n",
       "      <td></td>\n",
       "      <td>0</td>\n",
       "      <td>0</td>\n",
       "      <td>16</td>\n",
       "      <td>12</td>\n",
       "    </tr>\n",
       "    <tr>\n",
       "      <th>4</th>\n",
       "      <td>5</td>\n",
       "      <td>per0001043</td>\n",
       "      <td>Segale, Sister Blandina, 1850-1941</td>\n",
       "      <td>S1019-D002</td>\n",
       "      <td>At the End of the Santa Fe Trail</td>\n",
       "      <td>1872.0</td>\n",
       "      <td>11.0</td>\n",
       "      <td>30.0</td>\n",
       "      <td>F</td>\n",
       "      <td>22.0</td>\n",
       "      <td>...</td>\n",
       "      <td>0.793</td>\n",
       "      <td>0.9509</td>\n",
       "      <td>15</td>\n",
       "      <td>0.333333</td>\n",
       "      <td>12</td>\n",
       "      <td>Sister Anthony, Bigelow</td>\n",
       "      <td>3</td>\n",
       "      <td>2</td>\n",
       "      <td>16</td>\n",
       "      <td>15</td>\n",
       "    </tr>\n",
       "  </tbody>\n",
       "</table>\n",
       "<p>5 rows × 39 columns</p>\n",
       "</div>"
      ],
      "text/plain": [
       "   docID-AT docauthorid                       docauthorname       docid  \\\n",
       "0         1  per0001043  Segale, Sister Blandina, 1850-1941  S1019-D002   \n",
       "1         2  per0001043  Segale, Sister Blandina, 1850-1941  S1019-D002   \n",
       "2         3  per0001043  Segale, Sister Blandina, 1850-1941  S1019-D002   \n",
       "3         4  per0001043  Segale, Sister Blandina, 1850-1941  S1019-D002   \n",
       "4         5  per0001043  Segale, Sister Blandina, 1850-1941  S1019-D002   \n",
       "\n",
       "                        sourcetitle  docyear  docmonth  docday authorgender  \\\n",
       "0  At the End of the Santa Fe Trail   1872.0      11.0    30.0            F   \n",
       "1  At the End of the Santa Fe Trail   1872.0      11.0    30.0            F   \n",
       "2  At the End of the Santa Fe Trail   1872.0      11.0    30.0            F   \n",
       "3  At the End of the Santa Fe Trail   1872.0      11.0    30.0            F   \n",
       "4  At the End of the Santa Fe Trail   1872.0      11.0    30.0            F   \n",
       "\n",
       "   agewriting  ...  scoreNeu  scoreCompound chunks  position topicNumber  \\\n",
       "0        22.0  ...     0.827         0.9425     15  0.066667          12   \n",
       "1        22.0  ...     0.859         0.8625     15  0.133333          12   \n",
       "2        22.0  ...     0.883         0.6977     15  0.200000          12   \n",
       "3        22.0  ...     0.812         0.9451     15  0.266667          12   \n",
       "4        22.0  ...     0.793         0.9509     15  0.333333          12   \n",
       "\n",
       "                                            mentsDis  mentsTot indsTot  \\\n",
       "0  Darling Sister, Justina, Mother Josephine's, S...         5       5   \n",
       "1                            Josephine, Tait, McCann         3       3   \n",
       "2                                       Tait, McCann         2       2   \n",
       "3                                                            0       0   \n",
       "4                            Sister Anthony, Bigelow         3       2   \n",
       "\n",
       "  fppAll_Ct fppSub_Ct  \n",
       "0        11         5  \n",
       "1        15        10  \n",
       "2        15        10  \n",
       "3        16        12  \n",
       "4        16        15  \n",
       "\n",
       "[5 rows x 39 columns]"
      ]
     },
     "execution_count": 13,
     "metadata": {},
     "output_type": "execute_result"
    }
   ],
   "source": [
    "df.head()"
   ]
  },
  {
   "cell_type": "code",
   "execution_count": 14,
   "metadata": {},
   "outputs": [],
   "source": [
    "df.to_csv(\"20240225_PhD_FinalData-Chunk.csv\")"
   ]
  }
 ],
 "metadata": {
  "kernelspec": {
   "display_name": "Python 3 (ipykernel)",
   "language": "python",
   "name": "python3"
  },
  "language_info": {
   "codemirror_mode": {
    "name": "ipython",
    "version": 3
   },
   "file_extension": ".py",
   "mimetype": "text/x-python",
   "name": "python",
   "nbconvert_exporter": "python",
   "pygments_lexer": "ipython3",
   "version": "3.9.5"
  }
 },
 "nbformat": 4,
 "nbformat_minor": 2
}
