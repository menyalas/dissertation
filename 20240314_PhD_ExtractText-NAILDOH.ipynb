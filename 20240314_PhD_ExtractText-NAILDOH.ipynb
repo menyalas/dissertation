{
 "cells": [
  {
   "cell_type": "markdown",
   "metadata": {},
   "source": [
    "## Objective: To extract the text of the English language letters included in the North American Immigrant Letters, Diaries and Oral Histories collection.\n",
    "\n",
    "Source: /Users/alaynemoody/Dropbox/Thesis/North_American_Letters_Diaries_OralHistories/dataNAIL\n",
    "\n",
    "Search Criteria: \"Letter\" in column \"doctype\" and \"English\" in column \"language\" in IMLD_DOCS_QA completed.xlsx\n",
    "\n",
    "Results: 1556 results\n",
    "\n",
    "Steps:\n",
    "\n",
    "<ol>\n",
    "<li>For first row,</li>\n",
    "<ol>\n",
    "    <li>Open the sourceid</li>\n",
    "    <li>Extract contents of the \"part id\" tag with the docid.</li>\n",
    "    <li>Save text to a file.</li></ol>\n",
    "\n",
    "<li>Use a loop to do this for a subset of sample</li>\n",
    "<li>Run loop for all rows in sample</li>\n",
    "</ol>    "
   ]
  },
  {
   "cell_type": "code",
   "execution_count": 1,
   "metadata": {},
   "outputs": [],
   "source": [
    "# Import libraries\n",
    "import pandas as pd \n",
    "from bs4 import BeautifulSoup\n",
    "import nltk\n",
    "import re"
   ]
  },
  {
   "cell_type": "code",
   "execution_count": 2,
   "metadata": {},
   "outputs": [
    {
     "data": {
      "text/html": [
       "<div>\n",
       "<style scoped>\n",
       "    .dataframe tbody tr th:only-of-type {\n",
       "        vertical-align: middle;\n",
       "    }\n",
       "\n",
       "    .dataframe tbody tr th {\n",
       "        vertical-align: top;\n",
       "    }\n",
       "\n",
       "    .dataframe thead th {\n",
       "        text-align: right;\n",
       "    }\n",
       "</style>\n",
       "<table border=\"1\" class=\"dataframe\">\n",
       "  <thead>\n",
       "    <tr style=\"text-align: right;\">\n",
       "      <th></th>\n",
       "      <th>docsequence</th>\n",
       "      <th>docid</th>\n",
       "      <th>sourceid</th>\n",
       "      <th>docauthorid</th>\n",
       "      <th>doctitle</th>\n",
       "      <th>docyear</th>\n",
       "      <th>docmonth</th>\n",
       "      <th>docday</th>\n",
       "      <th>docpage</th>\n",
       "      <th>doctype</th>\n",
       "      <th>...</th>\n",
       "      <th>display_thumbnail</th>\n",
       "      <th>wwritten</th>\n",
       "      <th>wsent</th>\n",
       "      <th>marriagestatus</th>\n",
       "      <th>maternalstatus</th>\n",
       "      <th>authorLocation</th>\n",
       "      <th>nationalOrigin</th>\n",
       "      <th>britishEmpire_EU</th>\n",
       "      <th>translated</th>\n",
       "      <th>publicLetter</th>\n",
       "    </tr>\n",
       "  </thead>\n",
       "  <tbody>\n",
       "    <tr>\n",
       "      <th>0</th>\n",
       "      <td>2</td>\n",
       "      <td>S1019-D002</td>\n",
       "      <td>S1019</td>\n",
       "      <td>per0001043</td>\n",
       "      <td>Letter from Sister Blandina Segale to Sister J...</td>\n",
       "      <td>1872.0</td>\n",
       "      <td>11.0</td>\n",
       "      <td>30.0</td>\n",
       "      <td>3-10</td>\n",
       "      <td>Letter</td>\n",
       "      <td>...</td>\n",
       "      <td>NaN</td>\n",
       "      <td>Ohio; United States; East North Central States...</td>\n",
       "      <td>Not indicated</td>\n",
       "      <td>Single</td>\n",
       "      <td>Childless</td>\n",
       "      <td>USA</td>\n",
       "      <td>Italian</td>\n",
       "      <td>False</td>\n",
       "      <td>False</td>\n",
       "      <td>NaN</td>\n",
       "    </tr>\n",
       "    <tr>\n",
       "      <th>1</th>\n",
       "      <td>4</td>\n",
       "      <td>S1019-D004</td>\n",
       "      <td>S1019</td>\n",
       "      <td>per0001043</td>\n",
       "      <td>Letter from Sister Blandina Segale to Sister J...</td>\n",
       "      <td>1872.0</td>\n",
       "      <td>12.0</td>\n",
       "      <td>6.0</td>\n",
       "      <td>13-22</td>\n",
       "      <td>Letter</td>\n",
       "      <td>...</td>\n",
       "      <td>NaN</td>\n",
       "      <td>Kansas City, MO; Missouri; United States; West...</td>\n",
       "      <td>Not indicated</td>\n",
       "      <td>Single</td>\n",
       "      <td>Childless</td>\n",
       "      <td>USA</td>\n",
       "      <td>Italian</td>\n",
       "      <td>False</td>\n",
       "      <td>False</td>\n",
       "      <td>NaN</td>\n",
       "    </tr>\n",
       "    <tr>\n",
       "      <th>2</th>\n",
       "      <td>5</td>\n",
       "      <td>S1019-D005</td>\n",
       "      <td>S1019</td>\n",
       "      <td>per0001043</td>\n",
       "      <td>Letter from Sister Blandina Segale to Sister J...</td>\n",
       "      <td>1872.0</td>\n",
       "      <td>12.0</td>\n",
       "      <td>10.0</td>\n",
       "      <td>22-29</td>\n",
       "      <td>Letter</td>\n",
       "      <td>...</td>\n",
       "      <td>NaN</td>\n",
       "      <td>Trinidad, CO; Colorado; United States; Southwe...</td>\n",
       "      <td>Not indicated</td>\n",
       "      <td>Single</td>\n",
       "      <td>Childless</td>\n",
       "      <td>USA</td>\n",
       "      <td>Italian</td>\n",
       "      <td>False</td>\n",
       "      <td>False</td>\n",
       "      <td>NaN</td>\n",
       "    </tr>\n",
       "    <tr>\n",
       "      <th>3</th>\n",
       "      <td>6</td>\n",
       "      <td>S1019-D006</td>\n",
       "      <td>S1019</td>\n",
       "      <td>per0001043</td>\n",
       "      <td>Letter from Sister Blandina Segale to Sister J...</td>\n",
       "      <td>1872.0</td>\n",
       "      <td>12.0</td>\n",
       "      <td>21.0</td>\n",
       "      <td>29-37</td>\n",
       "      <td>Letter</td>\n",
       "      <td>...</td>\n",
       "      <td>NaN</td>\n",
       "      <td>Trinidad, CO; Colorado; United States; Southwe...</td>\n",
       "      <td>Not indicated</td>\n",
       "      <td>Single</td>\n",
       "      <td>Childless</td>\n",
       "      <td>USA</td>\n",
       "      <td>Italian</td>\n",
       "      <td>False</td>\n",
       "      <td>False</td>\n",
       "      <td>NaN</td>\n",
       "    </tr>\n",
       "    <tr>\n",
       "      <th>4</th>\n",
       "      <td>7</td>\n",
       "      <td>S1019-D007</td>\n",
       "      <td>S1019</td>\n",
       "      <td>per0001043</td>\n",
       "      <td>Letter from Sister Blandina Segale to Sister J...</td>\n",
       "      <td>1873.0</td>\n",
       "      <td>3.0</td>\n",
       "      <td>1.0</td>\n",
       "      <td>37-44</td>\n",
       "      <td>Letter</td>\n",
       "      <td>...</td>\n",
       "      <td>NaN</td>\n",
       "      <td>Trinidad, CO; Colorado; United States; Southwe...</td>\n",
       "      <td>Not indicated</td>\n",
       "      <td>Single</td>\n",
       "      <td>Childless</td>\n",
       "      <td>USA</td>\n",
       "      <td>Italian</td>\n",
       "      <td>False</td>\n",
       "      <td>False</td>\n",
       "      <td>NaN</td>\n",
       "    </tr>\n",
       "  </tbody>\n",
       "</table>\n",
       "<p>5 rows × 76 columns</p>\n",
       "</div>"
      ],
      "text/plain": [
       "   docsequence       docid sourceid docauthorid  \\\n",
       "0            2  S1019-D002    S1019  per0001043   \n",
       "1            4  S1019-D004    S1019  per0001043   \n",
       "2            5  S1019-D005    S1019  per0001043   \n",
       "3            6  S1019-D006    S1019  per0001043   \n",
       "4            7  S1019-D007    S1019  per0001043   \n",
       "\n",
       "                                            doctitle  docyear  docmonth  \\\n",
       "0  Letter from Sister Blandina Segale to Sister J...   1872.0      11.0   \n",
       "1  Letter from Sister Blandina Segale to Sister J...   1872.0      12.0   \n",
       "2  Letter from Sister Blandina Segale to Sister J...   1872.0      12.0   \n",
       "3  Letter from Sister Blandina Segale to Sister J...   1872.0      12.0   \n",
       "4  Letter from Sister Blandina Segale to Sister J...   1873.0       3.0   \n",
       "\n",
       "   docday docpage doctype  ... display_thumbnail  \\\n",
       "0    30.0    3-10  Letter  ...               NaN   \n",
       "1     6.0   13-22  Letter  ...               NaN   \n",
       "2    10.0   22-29  Letter  ...               NaN   \n",
       "3    21.0   29-37  Letter  ...               NaN   \n",
       "4     1.0   37-44  Letter  ...               NaN   \n",
       "\n",
       "                                            wwritten          wsent  \\\n",
       "0  Ohio; United States; East North Central States...  Not indicated   \n",
       "1  Kansas City, MO; Missouri; United States; West...  Not indicated   \n",
       "2  Trinidad, CO; Colorado; United States; Southwe...  Not indicated   \n",
       "3  Trinidad, CO; Colorado; United States; Southwe...  Not indicated   \n",
       "4  Trinidad, CO; Colorado; United States; Southwe...  Not indicated   \n",
       "\n",
       "  marriagestatus  maternalstatus authorLocation nationalOrigin  \\\n",
       "0         Single       Childless            USA        Italian   \n",
       "1         Single       Childless            USA        Italian   \n",
       "2         Single       Childless            USA        Italian   \n",
       "3         Single       Childless            USA        Italian   \n",
       "4         Single       Childless            USA        Italian   \n",
       "\n",
       "  britishEmpire_EU translated publicLetter  \n",
       "0            False      False          NaN  \n",
       "1            False      False          NaN  \n",
       "2            False      False          NaN  \n",
       "3            False      False          NaN  \n",
       "4            False      False          NaN  \n",
       "\n",
       "[5 rows x 76 columns]"
      ]
     },
     "execution_count": 2,
     "metadata": {},
     "output_type": "execute_result"
    }
   ],
   "source": [
    "# 1. Open IMLD_DOCS_QA completed.xlsx\n",
    "df = pd.read_csv(\"20240314b_PhD_NaildohSubset.csv\") \n",
    "df.head()"
   ]
  },
  {
   "cell_type": "code",
   "execution_count": 3,
   "metadata": {},
   "outputs": [
    {
     "data": {
      "text/html": [
       "<div>\n",
       "<style scoped>\n",
       "    .dataframe tbody tr th:only-of-type {\n",
       "        vertical-align: middle;\n",
       "    }\n",
       "\n",
       "    .dataframe tbody tr th {\n",
       "        vertical-align: top;\n",
       "    }\n",
       "\n",
       "    .dataframe thead th {\n",
       "        text-align: right;\n",
       "    }\n",
       "</style>\n",
       "<table border=\"1\" class=\"dataframe\">\n",
       "  <thead>\n",
       "    <tr style=\"text-align: right;\">\n",
       "      <th></th>\n",
       "      <th>docid</th>\n",
       "      <th>docauthorid</th>\n",
       "    </tr>\n",
       "  </thead>\n",
       "  <tbody>\n",
       "    <tr>\n",
       "      <th>count</th>\n",
       "      <td>576</td>\n",
       "      <td>576</td>\n",
       "    </tr>\n",
       "    <tr>\n",
       "      <th>unique</th>\n",
       "      <td>576</td>\n",
       "      <td>101</td>\n",
       "    </tr>\n",
       "  </tbody>\n",
       "</table>\n",
       "</div>"
      ],
      "text/plain": [
       "       docid docauthorid\n",
       "count    576         576\n",
       "unique   576         101"
      ]
     },
     "execution_count": 3,
     "metadata": {},
     "output_type": "execute_result"
    }
   ],
   "source": [
    "df[['docid', 'docauthorid']].describe()[0:2]"
   ]
  },
  {
   "cell_type": "code",
   "execution_count": 4,
   "metadata": {},
   "outputs": [
    {
     "data": {
      "text/html": [
       "<div>\n",
       "<style scoped>\n",
       "    .dataframe tbody tr th:only-of-type {\n",
       "        vertical-align: middle;\n",
       "    }\n",
       "\n",
       "    .dataframe tbody tr th {\n",
       "        vertical-align: top;\n",
       "    }\n",
       "\n",
       "    .dataframe thead th {\n",
       "        text-align: right;\n",
       "    }\n",
       "</style>\n",
       "<table border=\"1\" class=\"dataframe\">\n",
       "  <thead>\n",
       "    <tr style=\"text-align: right;\">\n",
       "      <th></th>\n",
       "      <th>docid</th>\n",
       "    </tr>\n",
       "  </thead>\n",
       "  <tbody>\n",
       "    <tr>\n",
       "      <th>0</th>\n",
       "      <td>S1019-D002</td>\n",
       "    </tr>\n",
       "    <tr>\n",
       "      <th>1</th>\n",
       "      <td>S1019-D004</td>\n",
       "    </tr>\n",
       "    <tr>\n",
       "      <th>2</th>\n",
       "      <td>S1019-D005</td>\n",
       "    </tr>\n",
       "    <tr>\n",
       "      <th>3</th>\n",
       "      <td>S1019-D006</td>\n",
       "    </tr>\n",
       "    <tr>\n",
       "      <th>4</th>\n",
       "      <td>S1019-D007</td>\n",
       "    </tr>\n",
       "  </tbody>\n",
       "</table>\n",
       "</div>"
      ],
      "text/plain": [
       "        docid\n",
       "0  S1019-D002\n",
       "1  S1019-D004\n",
       "2  S1019-D005\n",
       "3  S1019-D006\n",
       "4  S1019-D007"
      ]
     },
     "execution_count": 4,
     "metadata": {},
     "output_type": "execute_result"
    }
   ],
   "source": [
    "# Display key criteria for following set of instructions. \n",
    "df[['docid']].head()"
   ]
  },
  {
   "cell_type": "markdown",
   "metadata": {},
   "source": [
    "S316 will break the loop because it is missing from the original dataset. I need to remove these rows from the dataframe."
   ]
  },
  {
   "cell_type": "code",
   "execution_count": 23,
   "metadata": {},
   "outputs": [
    {
     "data": {
      "text/html": [
       "<div>\n",
       "<style scoped>\n",
       "    .dataframe tbody tr th:only-of-type {\n",
       "        vertical-align: middle;\n",
       "    }\n",
       "\n",
       "    .dataframe tbody tr th {\n",
       "        vertical-align: top;\n",
       "    }\n",
       "\n",
       "    .dataframe thead th {\n",
       "        text-align: right;\n",
       "    }\n",
       "</style>\n",
       "<table border=\"1\" class=\"dataframe\">\n",
       "  <thead>\n",
       "    <tr style=\"text-align: right;\">\n",
       "      <th></th>\n",
       "      <th>docid</th>\n",
       "      <th>docauthorid</th>\n",
       "    </tr>\n",
       "  </thead>\n",
       "  <tbody>\n",
       "    <tr>\n",
       "      <th>count</th>\n",
       "      <td>550</td>\n",
       "      <td>550</td>\n",
       "    </tr>\n",
       "    <tr>\n",
       "      <th>unique</th>\n",
       "      <td>550</td>\n",
       "      <td>80</td>\n",
       "    </tr>\n",
       "  </tbody>\n",
       "</table>\n",
       "</div>"
      ],
      "text/plain": [
       "       docid docauthorid\n",
       "count    550         550\n",
       "unique   550          80"
      ]
     },
     "execution_count": 23,
     "metadata": {},
     "output_type": "execute_result"
    }
   ],
   "source": [
    "df = df[df[\"docid\"].str.contains(\"S316\")==False]\n",
    "df[['docid', 'docauthorid']].describe()[0:2]"
   ]
  },
  {
   "cell_type": "code",
   "execution_count": 24,
   "metadata": {},
   "outputs": [
    {
     "data": {
      "text/html": [
       "<div>\n",
       "<style scoped>\n",
       "    .dataframe tbody tr th:only-of-type {\n",
       "        vertical-align: middle;\n",
       "    }\n",
       "\n",
       "    .dataframe tbody tr th {\n",
       "        vertical-align: top;\n",
       "    }\n",
       "\n",
       "    .dataframe thead th {\n",
       "        text-align: right;\n",
       "    }\n",
       "</style>\n",
       "<table border=\"1\" class=\"dataframe\">\n",
       "  <thead>\n",
       "    <tr style=\"text-align: right;\">\n",
       "      <th></th>\n",
       "      <th>Src</th>\n",
       "      <th>Doc</th>\n",
       "      <th>Full</th>\n",
       "    </tr>\n",
       "  </thead>\n",
       "  <tbody>\n",
       "    <tr>\n",
       "      <th>0</th>\n",
       "      <td>S1019</td>\n",
       "      <td>D002</td>\n",
       "      <td>S1019-D002</td>\n",
       "    </tr>\n",
       "    <tr>\n",
       "      <th>1</th>\n",
       "      <td>S1019</td>\n",
       "      <td>D004</td>\n",
       "      <td>S1019-D004</td>\n",
       "    </tr>\n",
       "    <tr>\n",
       "      <th>2</th>\n",
       "      <td>S1019</td>\n",
       "      <td>D005</td>\n",
       "      <td>S1019-D005</td>\n",
       "    </tr>\n",
       "    <tr>\n",
       "      <th>3</th>\n",
       "      <td>S1019</td>\n",
       "      <td>D006</td>\n",
       "      <td>S1019-D006</td>\n",
       "    </tr>\n",
       "    <tr>\n",
       "      <th>4</th>\n",
       "      <td>S1019</td>\n",
       "      <td>D007</td>\n",
       "      <td>S1019-D007</td>\n",
       "    </tr>\n",
       "  </tbody>\n",
       "</table>\n",
       "</div>"
      ],
      "text/plain": [
       "     Src   Doc        Full\n",
       "0  S1019  D002  S1019-D002\n",
       "1  S1019  D004  S1019-D004\n",
       "2  S1019  D005  S1019-D005\n",
       "3  S1019  D006  S1019-D006\n",
       "4  S1019  D007  S1019-D007"
      ]
     },
     "execution_count": 24,
     "metadata": {},
     "output_type": "execute_result"
    }
   ],
   "source": [
    "# Select the values in docid and split into sourceid (1st element) and docid (2nd element)\n",
    "IDs = df[\"docid\"].str.split(pat = \"-\", expand=True)\n",
    "IDs[\"2\"] = df[\"docid\"]\n",
    "IDs.columns = ['Src', 'Doc', 'Full']\n",
    "IDs.head()"
   ]
  },
  {
   "cell_type": "code",
   "execution_count": 25,
   "metadata": {},
   "outputs": [
    {
     "data": {
      "text/plain": [
       "'S2344-D125'"
      ]
     },
     "execution_count": 25,
     "metadata": {},
     "output_type": "execute_result"
    }
   ],
   "source": [
    "IDs.iloc[136,2]"
   ]
  },
  {
   "cell_type": "markdown",
   "metadata": {},
   "source": [
    "## 1a. Open the sourceid"
   ]
  },
  {
   "cell_type": "code",
   "execution_count": 26,
   "metadata": {},
   "outputs": [
    {
     "name": "stdout",
     "output_type": "stream",
     "text": [
      "<_io.TextIOWrapper name='dataNAIL/S1019.txt' mode='r' encoding='utf-8'>\n"
     ]
    }
   ],
   "source": [
    "# Open the first source in the list\n",
    "f = open(\"dataNAIL/\" + IDs.iloc[0,0] + \".txt\",\"r\", encoding = 'utf-8')\n",
    "print(f)"
   ]
  },
  {
   "cell_type": "code",
   "execution_count": 27,
   "metadata": {},
   "outputs": [
    {
     "name": "stdout",
     "output_type": "stream",
     "text": [
      "<!DOCTYPE LAD SYSTEM \"LAD-TEI.DTD\">\n",
      "<lad>\n",
      " <header>\n",
      "  <author n=\"A1043\">\n",
      "   <source n=\"S1019\"/>\n",
      "  </\n"
     ]
    }
   ],
   "source": [
    "# Parse the html using beautiful soup and store in variable 'soup'\n",
    "soup = BeautifulSoup(f, 'html.parser')\n",
    "\n",
    "# View the HTML\n",
    "print(soup.prettify()[:100])"
   ]
  },
  {
   "cell_type": "markdown",
   "metadata": {},
   "source": [
    "## 1b. Extract elements of the part tag"
   ]
  },
  {
   "cell_type": "code",
   "execution_count": 28,
   "metadata": {
    "scrolled": false
   },
   "outputs": [
    {
     "name": "stdout",
     "output_type": "stream",
     "text": [
      "<part id=\"S1019-D002\">\n",
      "<head><p>TRINIDAD</p></head>\n",
      "<p>On Train from Steubenville, Ohio, to Cincinna\n",
      "...\n",
      "oard the train I asked that my last interview be with my mother. Cannot you picture her sad, endearing look of appreciation? I'll skip the last talk with mother — some of it was in silence.</page></p>\n",
      "</page></page></part>\n"
     ]
    }
   ],
   "source": [
    "# Isolate the desired part (i.e., doc) and place in a variable\n",
    "doc = soup.find(id=IDs.iloc[0,2])\n",
    "\n",
    "# View the part\n",
    "print(str(doc)[:100])\n",
    "print(\"...\")\n",
    "print(str(doc)[11000:])"
   ]
  },
  {
   "cell_type": "code",
   "execution_count": 29,
   "metadata": {},
   "outputs": [
    {
     "name": "stdout",
     "output_type": "stream",
     "text": [
      "\n",
      "TRINIDAD\n",
      "On Train from Steubenville, Ohio, to Cincinnati. Nov˙ 30, 1872.\n",
      "My Darling Sister Justina:\n",
      "...\n",
      "Sister Antonia asked me how I had spent the day. I narrated some incidents. \"I'm an ancient religious, but I could not have gone through the ordeal as creditably as you did.\" What if I had mentioned all the heart sighs I had witnessed! When it was time to board the train I asked that my last interview be with my mother. Cannot you picture her sad, endearing look of appreciation? I'll skip the last talk with mother — some of it was in silence.\n",
      "\n"
     ]
    }
   ],
   "source": [
    "doc = ''.join(text for text in doc.find_all(text=True) if text.parent.name != \"note\")\n",
    "print(str(doc)[:100])\n",
    "print(\"...\")\n",
    "print(str(doc)[10200:])"
   ]
  },
  {
   "cell_type": "markdown",
   "metadata": {},
   "source": [
    "## 1c. Save string to file"
   ]
  },
  {
   "cell_type": "code",
   "execution_count": 31,
   "metadata": {},
   "outputs": [],
   "source": [
    "f = open(\"letters/\" + IDs.iloc[0,2], \"w\")\n",
    "f.write(doc)\n",
    "f.close()"
   ]
  },
  {
   "cell_type": "markdown",
   "metadata": {},
   "source": [
    "## 2. Use a loop to do the above for a sample"
   ]
  },
  {
   "cell_type": "code",
   "execution_count": 32,
   "metadata": {},
   "outputs": [
    {
     "data": {
      "text/html": [
       "<div>\n",
       "<style scoped>\n",
       "    .dataframe tbody tr th:only-of-type {\n",
       "        vertical-align: middle;\n",
       "    }\n",
       "\n",
       "    .dataframe tbody tr th {\n",
       "        vertical-align: top;\n",
       "    }\n",
       "\n",
       "    .dataframe thead th {\n",
       "        text-align: right;\n",
       "    }\n",
       "</style>\n",
       "<table border=\"1\" class=\"dataframe\">\n",
       "  <thead>\n",
       "    <tr style=\"text-align: right;\">\n",
       "      <th></th>\n",
       "      <th>Src</th>\n",
       "      <th>Doc</th>\n",
       "      <th>Full</th>\n",
       "    </tr>\n",
       "  </thead>\n",
       "  <tbody>\n",
       "    <tr>\n",
       "      <th>135</th>\n",
       "      <td>S2344</td>\n",
       "      <td>D124</td>\n",
       "      <td>S2344-D124</td>\n",
       "    </tr>\n",
       "    <tr>\n",
       "      <th>471</th>\n",
       "      <td>S9828</td>\n",
       "      <td>D011</td>\n",
       "      <td>S9828-D011</td>\n",
       "    </tr>\n",
       "    <tr>\n",
       "      <th>246</th>\n",
       "      <td>S6210</td>\n",
       "      <td>D075</td>\n",
       "      <td>S6210-D075</td>\n",
       "    </tr>\n",
       "  </tbody>\n",
       "</table>\n",
       "</div>"
      ],
      "text/plain": [
       "       Src   Doc        Full\n",
       "135  S2344  D124  S2344-D124\n",
       "471  S9828  D011  S9828-D011\n",
       "246  S6210  D075  S6210-D075"
      ]
     },
     "execution_count": 32,
     "metadata": {},
     "output_type": "execute_result"
    }
   ],
   "source": [
    "sampleIDs = IDs.sample(n=3)\n",
    "sampleIDs"
   ]
  },
  {
   "cell_type": "code",
   "execution_count": 33,
   "metadata": {},
   "outputs": [
    {
     "data": {
      "text/plain": [
       "'S9828-D011'"
      ]
     },
     "execution_count": 33,
     "metadata": {},
     "output_type": "execute_result"
    }
   ],
   "source": [
    "sampleIDs.iloc[1,2]"
   ]
  },
  {
   "cell_type": "code",
   "execution_count": 34,
   "metadata": {},
   "outputs": [
    {
     "name": "stdout",
     "output_type": "stream",
     "text": [
      "done\n"
     ]
    }
   ],
   "source": [
    "for index in range(len(sampleIDs)):\n",
    "    f = open(\"dataNAIL/\" + sampleIDs['Src'].iloc[index] + \".txt\",\"r\", encoding = 'utf-8')\n",
    "    soup = BeautifulSoup(f, 'html.parser')\n",
    "    doc = soup.find(id=sampleIDs.iloc[index,2])\n",
    "    doc = ''.join(text for text in doc.find_all(text=True) if text.parent.name != \"note\")\n",
    "    f = open(\"letters/\" + sampleIDs.iloc[index,2] + \".txt\", \"w\")\n",
    "    f.write(doc)\n",
    "    f.close()\n",
    "print(\"done\")"
   ]
  },
  {
   "cell_type": "markdown",
   "metadata": {},
   "source": [
    "## 3. Run loop for all rows in sample"
   ]
  },
  {
   "cell_type": "code",
   "execution_count": 35,
   "metadata": {},
   "outputs": [
    {
     "name": "stdout",
     "output_type": "stream",
     "text": [
      "done\n"
     ]
    }
   ],
   "source": [
    "for index in range(len(IDs)):\n",
    "    f = open(\"dataNAIL/\" + IDs['Src'].iloc[index] + \".txt\",\"r\", encoding = 'utf-8')\n",
    "    soup = BeautifulSoup(f, 'html.parser')\n",
    "    doc = soup.find(id=IDs.iloc[index,2])\n",
    "    doc = ''.join(text for text in doc.find_all(text=True) if text.parent.name != \"note\")\n",
    "    f = open(\"letters/\" + IDs.iloc[index,2] + \".txt\", \"w\")\n",
    "    f.write(doc)\n",
    "    f.close()\n",
    "print(\"done\")"
   ]
  }
 ],
 "metadata": {
  "kernelspec": {
   "display_name": "Python 3 (ipykernel)",
   "language": "python",
   "name": "python3"
  },
  "language_info": {
   "codemirror_mode": {
    "name": "ipython",
    "version": 3
   },
   "file_extension": ".py",
   "mimetype": "text/x-python",
   "name": "python",
   "nbconvert_exporter": "python",
   "pygments_lexer": "ipython3",
   "version": "3.9.5"
  }
 },
 "nbformat": 4,
 "nbformat_minor": 2
}
