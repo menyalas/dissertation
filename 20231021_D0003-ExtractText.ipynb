{
 "cells": [
  {
   "cell_type": "markdown",
   "id": "303d3ffc",
   "metadata": {},
   "source": [
    "The goal of this notebook is to:\n",
    "1. Open a PDF\n",
    "2. Extract the text\n",
    "3. Split the entries\n",
    "4. Save them with docID + date filenames\n",
    "5. Make a loop to do all entries."
   ]
  },
  {
   "cell_type": "code",
   "execution_count": 1,
   "id": "ac243426",
   "metadata": {},
   "outputs": [],
   "source": [
    "import PyPDF2\n",
    "import re"
   ]
  },
  {
   "cell_type": "code",
   "execution_count": 2,
   "id": "00224f5f",
   "metadata": {},
   "outputs": [],
   "source": [
    "def visitor_body(text, cm, tm, fontDict, fontSize):\n",
    "    y = tm[5]\n",
    "    if y > 50 and y < 770:\n",
    "        parts.append(text)"
   ]
  },
  {
   "cell_type": "code",
   "execution_count": 3,
   "id": "ed937aba",
   "metadata": {},
   "outputs": [],
   "source": [
    "pdfFileObject = open('D0003.pdf', 'rb')"
   ]
  },
  {
   "cell_type": "code",
   "execution_count": 4,
   "id": "769d0d21",
   "metadata": {},
   "outputs": [],
   "source": [
    "pdfReader = PyPDF2.PdfReader(pdfFileObject)"
   ]
  },
  {
   "cell_type": "code",
   "execution_count": 5,
   "id": "b6940cf9",
   "metadata": {},
   "outputs": [],
   "source": [
    "count = len(pdfReader.pages)"
   ]
  },
  {
   "cell_type": "code",
   "execution_count": 50,
   "id": "d47ebb4e",
   "metadata": {},
   "outputs": [
    {
     "data": {
      "text/plain": [
       "['\\n D 8431 Diary of Henry Adams May 185 8 to June 1862  \\nTranscribed by Ernest Roe, Volunteer at the State Library of South Australia, 2014  \\n \\nPage 3  \\n \\nMay 6th [1858] Very wet morning, it has \\nstopped me from [going] out shooting; it \\ndid not rain very late but --- and windy. I \\nwent down to see if the boat was all right; I \\nfound it stuck in the mud so I let it stop.  A \\nman came to borrow my gun to shoot an \\nEagle ha wk which he had wounded with a \\nstick; he came back in a little while and \\nsaid he could not see it but had shot a \\nparrot.  \\n \\nIn the evening I was playing at draughts, \\nbut he beat me three games so I gave it \\nup. \\n \\nSunday May 9th I went across to \\nHindmarsh Islan d and saw such a lot of \\nducks that I wished I had taken the gun \\nwith me; it is very strange you see so \\nmany on Sunday , when I go out on a week \\nday I don’t see so many.  \\n \\nMay 10th I went out very early  \\n \\n \\n[p. 4] shooting and shot a teal, coming home, I picke d up a Cod fish which I suppose got \\nkilled with the salt water. We gave it to a black woman.  \\n \\nWhen I got back I found that poor little Herbert had died while I was away; [Herbert Gerard \\ndied 10 May 1858 at Goolwa aged 13 months] in the afternoon I went to see if Mr Roberts \\nwould bury him. I went from there, down to the beach to get some Periwinkles. I got a good \\nmany, we boiled them and they were very good.  \\n \\nWednesday May 12th. It was a very dismal day, pouring with wet; poor Herbert was buried to \\nday. I st opped at home to mind the children.  \\n \\nThursday It was a very windy morning, and not having much to do at the Mill, I thought I \\nmight as well go out shooting, so I went out, and had a good bit of fun. I got one duck and \\nthree teal [p. 5] and had to go into the water and mud up to my knees to get them, it was \\nprecious cold. I lost one of my boots in the mud and had to go puddling about for a long time \\nbefore I could find it., I thought I should have had to go home with only one boot on.  \\n \\n']"
      ]
     },
     "execution_count": 50,
     "metadata": {},
     "output_type": "execute_result"
    }
   ],
   "source": [
    "# output = []\n",
    "for i in range(count):\n",
    "    page = pdfReader.pages[i]\n",
    "    parts = []\n",
    "    page.extract_text(visitor_text=visitor_body)\n",
    "    text_body = \"\".join(parts)\n",
    "    output.append(text_body)\n",
    "output[0:1]"
   ]
  },
  {
   "cell_type": "code",
   "execution_count": 52,
   "id": "1725eb59",
   "metadata": {},
   "outputs": [
    {
     "name": "stdout",
     "output_type": "stream",
     "text": [
      "\n",
      " D 8431 Diary of Henry Adams May 185 8 to June 1862  \n",
      "Transcribed by Ernest Roe, Volunteer at the State Library of South Australia, 2014  \n",
      " \n",
      "Page 3  \n",
      " \n",
      "May 6th [1858] Very wet morning, it has \n",
      "stopped me from [going] out shooting; it \n",
      "did not rain very late but --- and windy. I \n",
      "went down to see if the boat was all right; I \n",
      "found it stuck in the mud so I let it stop.  A \n",
      "man came to borrow my gu\n"
     ]
    }
   ],
   "source": [
    "diary = ''.join(output)\n",
    "print(diary[:400])"
   ]
  },
  {
   "cell_type": "markdown",
   "id": "adbc7d35",
   "metadata": {},
   "source": [
    "Copy and paste the text above into a Word doc and clean there."
   ]
  },
  {
   "cell_type": "code",
   "execution_count": 58,
   "id": "782bae23",
   "metadata": {},
   "outputs": [
    {
     "name": "stdout",
     "output_type": "stream",
     "text": [
      "18580506. May 6th 1858 Very wet morning, it has stopped me from going out shooting; it did not rain very late but --- and windy. I went down to see if the boat was all right; I found it stuck in the mud so I let it stop. A man came to borrow my gun to shoot an Eagle hawk which he had wounded with a stick; he came back in a little while and said he could not see it but had shot a parrot. In the eve\n"
     ]
    }
   ],
   "source": [
    "with open('temp.txt') as f:\n",
    "    entries = f.read()\n",
    "print(entries[:400])"
   ]
  },
  {
   "cell_type": "code",
   "execution_count": 59,
   "id": "9505dabb",
   "metadata": {},
   "outputs": [
    {
     "name": "stdout",
     "output_type": "stream",
     "text": [
      "['18580506. May 6th 1858 Very wet morning, it has stopped me from going out shooting; it did not rain very late but --- and windy. I went down to see if the boat was all right; I found it stuck in the mud so I let it stop. A man came to borrow my gun to shoot an Eagle hawk which he had wounded with a stick; he came back in a little while and said he could not see it but had shot a parrot. In the evening I was playing at draughts, but he beat me three games so I gave it up. ', '18580509. Sunday May 9th I went across to Hindmarsh Island and saw such a lot of ducks that I wished I had taken the gun with me; it is very strange you see so many on Sunday, when I go out on a week day I don’t see so many. ']\n"
     ]
    }
   ],
   "source": [
    "entries = re.split(\"\\n\",entries)\n",
    "print(entries[:2])"
   ]
  },
  {
   "cell_type": "code",
   "execution_count": 60,
   "id": "0003c9bf",
   "metadata": {},
   "outputs": [
    {
     "name": "stdout",
     "output_type": "stream",
     "text": [
      "D0003_18580506.txt\n",
      "D0003_18580509.txt\n"
     ]
    }
   ],
   "source": [
    "for item in entries[:2]:\n",
    "    print('D0003_'+item[0:8]+'.txt')"
   ]
  },
  {
   "cell_type": "code",
   "execution_count": 61,
   "id": "0faef828",
   "metadata": {},
   "outputs": [
    {
     "data": {
      "text/plain": [
       "322"
      ]
     },
     "execution_count": 61,
     "metadata": {},
     "output_type": "execute_result"
    }
   ],
   "source": [
    "len(entries)"
   ]
  },
  {
   "cell_type": "code",
   "execution_count": 67,
   "id": "dcb21902",
   "metadata": {},
   "outputs": [
    {
     "data": {
      "text/plain": [
       "'Sunday May 9th I went across to Hindmarsh Island and saw such a lot of ducks that I wished I had taken the gun with me; it is very strange you see so many on Sunday, when I go out on a week day I don’t see so many. '"
      ]
     },
     "execution_count": 67,
     "metadata": {},
     "output_type": "execute_result"
    }
   ],
   "source": [
    "entries[1][10:]"
   ]
  },
  {
   "cell_type": "code",
   "execution_count": 33,
   "id": "bae08330",
   "metadata": {},
   "outputs": [],
   "source": [
    "for item in entries:\n",
    "    with open('D0003_'+item[0:8]+'.txt', 'w') as f:\n",
    "        f.write(\"%s\\n\" % item[10:])"
   ]
  }
 ],
 "metadata": {
  "kernelspec": {
   "display_name": "Python 3",
   "language": "python",
   "name": "python3"
  },
  "language_info": {
   "codemirror_mode": {
    "name": "ipython",
    "version": 3
   },
   "file_extension": ".py",
   "mimetype": "text/x-python",
   "name": "python",
   "nbconvert_exporter": "python",
   "pygments_lexer": "ipython3",
   "version": "3.9.5"
  }
 },
 "nbformat": 4,
 "nbformat_minor": 5
}
