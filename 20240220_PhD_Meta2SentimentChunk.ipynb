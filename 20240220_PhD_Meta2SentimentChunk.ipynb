{
 "cells": [
  {
   "cell_type": "markdown",
   "metadata": {},
   "source": [
    "# Merge Datasets"
   ]
  },
  {
   "cell_type": "markdown",
   "metadata": {},
   "source": [
    "<h2>Packages</h2>"
   ]
  },
  {
   "cell_type": "code",
   "execution_count": 2,
   "metadata": {},
   "outputs": [],
   "source": [
    "library(tidyverse)"
   ]
  },
  {
   "cell_type": "markdown",
   "metadata": {},
   "source": [
    "<h2>Functions</h2>"
   ]
  },
  {
   "cell_type": "code",
   "execution_count": 3,
   "metadata": {},
   "outputs": [],
   "source": [
    "# Converts all factors to character class\n",
    "unfactorize <- function(df){\n",
    "  for(i in which(sapply(df, class) == \"factor\")) df[[i]] = as.character(df[[i]])\n",
    "  return(df)\n",
    "}"
   ]
  },
  {
   "cell_type": "code",
   "execution_count": 4,
   "metadata": {},
   "outputs": [],
   "source": [
    "# Converts character to factor class\n",
    "factorize <- function(df){\n",
    "  for(i in which(sapply(df, class) == \"character\")) df[[i]] = as.factor(df[[i]])\n",
    "  return(df)\n",
    "}"
   ]
  },
  {
   "cell_type": "markdown",
   "metadata": {},
   "source": [
    "<h2>Data</h2>"
   ]
  },
  {
   "cell_type": "code",
   "execution_count": 5,
   "metadata": {},
   "outputs": [
    {
     "name": "stdout",
     "output_type": "stream",
     "text": [
      "Rows: 576\n",
      "Columns: 24\n",
      "$ docauthorid      \u001b[3m\u001b[90m<chr>\u001b[39m\u001b[23m \"per0001043\", \"per0001043\", \"per0001043\", \"per0001043…\n",
      "$ docauthorname    \u001b[3m\u001b[90m<chr>\u001b[39m\u001b[23m \"Segale, Sister Blandina, 1850-1941\", \"Segale, Sister…\n",
      "$ docid            \u001b[3m\u001b[90m<chr>\u001b[39m\u001b[23m \"S1019-D002\", \"S1019-D004\", \"S1019-D005\", \"S1019-D006…\n",
      "$ sourcetitle      \u001b[3m\u001b[90m<chr>\u001b[39m\u001b[23m \"At the End of the Santa Fe Trail\", \"At the End of th…\n",
      "$ docyear          \u001b[3m\u001b[90m<int>\u001b[39m\u001b[23m 1872, 1872, 1872, 1872, 1873, 1873, 1873, 1874, 1874,…\n",
      "$ docmonth         \u001b[3m\u001b[90m<int>\u001b[39m\u001b[23m 11, 12, 12, 12, 3, 7, 9, 6, 11, 6, 9, 12, 1, 3, 3, 6,…\n",
      "$ docday           \u001b[3m\u001b[90m<int>\u001b[39m\u001b[23m 30, 6, 10, 21, 1, NA, NA, 30, 14, NA, NA, 16, NA, NA,…\n",
      "$ authorgender     \u001b[3m\u001b[90m<chr>\u001b[39m\u001b[23m \"F\", \"F\", \"F\", \"F\", \"F\", \"F\", \"F\", \"F\", \"F\", \"F\", \"F\"…\n",
      "$ agewriting       \u001b[3m\u001b[90m<int>\u001b[39m\u001b[23m 22, 22, 22, 22, 23, 23, 23, 24, 24, 26, 26, 26, 27, 2…\n",
      "$ birthyear        \u001b[3m\u001b[90m<int>\u001b[39m\u001b[23m 1850, 1850, 1850, 1850, 1850, 1850, 1850, 1850, 1850,…\n",
      "$ deathyear        \u001b[3m\u001b[90m<int>\u001b[39m\u001b[23m 1941, 1941, 1941, 1941, 1941, 1941, 1941, 1941, 1941,…\n",
      "$ religionNew      \u001b[3m\u001b[90m<chr>\u001b[39m\u001b[23m \"Catholic\", \"Catholic\", \"Catholic\", \"Catholic\", \"Cath…\n",
      "$ relMin           \u001b[3m\u001b[90m<lgl>\u001b[39m\u001b[23m TRUE, TRUE, TRUE, TRUE, TRUE, TRUE, TRUE, TRUE, TRUE,…\n",
      "$ nationalOrigin   \u001b[3m\u001b[90m<chr>\u001b[39m\u001b[23m \"Italian\", \"Italian\", \"Italian\", \"Italian\", \"Italian\"…\n",
      "$ britishEmpire_EU \u001b[3m\u001b[90m<lgl>\u001b[39m\u001b[23m FALSE, FALSE, FALSE, FALSE, FALSE, FALSE, FALSE, FALS…\n",
      "$ translated       \u001b[3m\u001b[90m<lgl>\u001b[39m\u001b[23m FALSE, FALSE, FALSE, FALSE, FALSE, FALSE, FALSE, FALS…\n",
      "$ authorLocation   \u001b[3m\u001b[90m<chr>\u001b[39m\u001b[23m \"USA\", \"USA\", \"USA\", \"USA\", \"USA\", \"USA\", \"USA\", \"USA…\n",
      "$ socialClass      \u001b[3m\u001b[90m<chr>\u001b[39m\u001b[23m \"Nun; Social worker; Teacher\", \"Nun; Social worker; T…\n",
      "$ A                \u001b[3m\u001b[90m<lgl>\u001b[39m\u001b[23m FALSE, FALSE, FALSE, FALSE, FALSE, FALSE, FALSE, FALS…\n",
      "$ I                \u001b[3m\u001b[90m<lgl>\u001b[39m\u001b[23m FALSE, FALSE, FALSE, FALSE, FALSE, FALSE, FALSE, FALS…\n",
      "$ CCP              \u001b[3m\u001b[90m<lgl>\u001b[39m\u001b[23m TRUE, TRUE, TRUE, TRUE, TRUE, TRUE, TRUE, TRUE, TRUE,…\n",
      "$ Unknown          \u001b[3m\u001b[90m<lgl>\u001b[39m\u001b[23m FALSE, FALSE, FALSE, FALSE, FALSE, FALSE, FALSE, FALS…\n",
      "$ wageLabour       \u001b[3m\u001b[90m<lgl>\u001b[39m\u001b[23m FALSE, FALSE, FALSE, FALSE, FALSE, FALSE, FALSE, FALS…\n",
      "$ publicLetter     \u001b[3m\u001b[90m<lgl>\u001b[39m\u001b[23m NA, NA, NA, NA, NA, NA, NA, NA, NA, NA, NA, NA, NA, N…\n"
     ]
    }
   ],
   "source": [
    "# Load data related to authors and documents (metadata)\n",
    "dfMeta <- unfactorize(read.csv(\"20230606_AM_PhD-NaildohSubset.csv\"))\n",
    "glimpse(dfMeta)"
   ]
  },
  {
   "cell_type": "code",
   "execution_count": 6,
   "metadata": {},
   "outputs": [
    {
     "data": {
      "text/html": [
       "<style>\n",
       ".list-inline {list-style: none; margin:0; padding: 0}\n",
       ".list-inline>li {display: inline-block}\n",
       ".list-inline>li:not(:last-child)::after {content: \"\\00b7\"; padding: 0 .5ex}\n",
       "</style>\n",
       "<ol class=list-inline><li>'docauthorid'</li><li>'docauthorname'</li><li>'docid'</li><li>'sourcetitle'</li><li>'docyear'</li><li>'docmonth'</li><li>'docday'</li><li>'authorgender'</li><li>'agewriting'</li><li>'birthyear'</li><li>'deathyear'</li><li>'religionNew'</li><li>'relMin'</li><li>'nationalOrigin'</li><li>'britishEmpire_EU'</li><li>'translated'</li><li>'authorLocation'</li><li>'socialClass'</li><li>'A'</li><li>'I'</li><li>'CCP'</li><li>'Unknown'</li><li>'wageLabour'</li><li>'publicLetter'</li></ol>\n"
      ],
      "text/latex": [
       "\\begin{enumerate*}\n",
       "\\item 'docauthorid'\n",
       "\\item 'docauthorname'\n",
       "\\item 'docid'\n",
       "\\item 'sourcetitle'\n",
       "\\item 'docyear'\n",
       "\\item 'docmonth'\n",
       "\\item 'docday'\n",
       "\\item 'authorgender'\n",
       "\\item 'agewriting'\n",
       "\\item 'birthyear'\n",
       "\\item 'deathyear'\n",
       "\\item 'religionNew'\n",
       "\\item 'relMin'\n",
       "\\item 'nationalOrigin'\n",
       "\\item 'britishEmpire\\_EU'\n",
       "\\item 'translated'\n",
       "\\item 'authorLocation'\n",
       "\\item 'socialClass'\n",
       "\\item 'A'\n",
       "\\item 'I'\n",
       "\\item 'CCP'\n",
       "\\item 'Unknown'\n",
       "\\item 'wageLabour'\n",
       "\\item 'publicLetter'\n",
       "\\end{enumerate*}\n"
      ],
      "text/markdown": [
       "1. 'docauthorid'\n",
       "2. 'docauthorname'\n",
       "3. 'docid'\n",
       "4. 'sourcetitle'\n",
       "5. 'docyear'\n",
       "6. 'docmonth'\n",
       "7. 'docday'\n",
       "8. 'authorgender'\n",
       "9. 'agewriting'\n",
       "10. 'birthyear'\n",
       "11. 'deathyear'\n",
       "12. 'religionNew'\n",
       "13. 'relMin'\n",
       "14. 'nationalOrigin'\n",
       "15. 'britishEmpire_EU'\n",
       "16. 'translated'\n",
       "17. 'authorLocation'\n",
       "18. 'socialClass'\n",
       "19. 'A'\n",
       "20. 'I'\n",
       "21. 'CCP'\n",
       "22. 'Unknown'\n",
       "23. 'wageLabour'\n",
       "24. 'publicLetter'\n",
       "\n",
       "\n"
      ],
      "text/plain": [
       " [1] \"docauthorid\"      \"docauthorname\"    \"docid\"            \"sourcetitle\"     \n",
       " [5] \"docyear\"          \"docmonth\"         \"docday\"           \"authorgender\"    \n",
       " [9] \"agewriting\"       \"birthyear\"        \"deathyear\"        \"religionNew\"     \n",
       "[13] \"relMin\"           \"nationalOrigin\"   \"britishEmpire_EU\" \"translated\"      \n",
       "[17] \"authorLocation\"   \"socialClass\"      \"A\"                \"I\"               \n",
       "[21] \"CCP\"              \"Unknown\"          \"wageLabour\"       \"publicLetter\"    "
      ]
     },
     "metadata": {},
     "output_type": "display_data"
    }
   ],
   "source": [
    "# Column names\n",
    "names(dfMeta)"
   ]
  },
  {
   "cell_type": "code",
   "execution_count": 7,
   "metadata": {},
   "outputs": [
    {
     "data": {
      "text/html": [
       "<table class=\"dataframe\">\n",
       "<caption>A data.frame: 6 × 9</caption>\n",
       "<thead>\n",
       "\t<tr><th></th><th scope=col>chunk</th><th scope=col>docid</th><th scope=col>sequence</th><th scope=col>scoreNeg</th><th scope=col>scorePos</th><th scope=col>scoreNeu</th><th scope=col>scoreCompound</th><th scope=col>chunks</th><th scope=col>position</th></tr>\n",
       "\t<tr><th></th><th scope=col>&lt;chr&gt;</th><th scope=col>&lt;chr&gt;</th><th scope=col>&lt;int&gt;</th><th scope=col>&lt;dbl&gt;</th><th scope=col>&lt;dbl&gt;</th><th scope=col>&lt;dbl&gt;</th><th scope=col>&lt;dbl&gt;</th><th scope=col>&lt;int&gt;</th><th scope=col>&lt;dbl&gt;</th></tr>\n",
       "</thead>\n",
       "<tbody>\n",
       "\t<tr><th scope=row>1</th><td>TRINIDAD On Train from Steubenville, Ohio, to Cincinnati. Nov 30, 1872. My Darling Sister Justina: How interestedly you, Sister M Louis and myself read Eugénie de Guérin's Journal and her daily anxieties to save her brother from being a spiritual outcast! This Journal which I propose keeping for you will deal with incidents occurring on my journey to Trinidad and happenings in that far-off land to which I am consigned. The Journal will begin with the first act. Here is Mother Josephine's letter: Mt St Vincent, O, Nov 27, 1872. Sister Blandina, Steubenville, O My Dear Child: You are missioned to Trinidad. You will leave Cincinnati Wednesday and alone. Mother Regina will attend to your needs. Devotedly, Mother Josephine. This letter thrilled us both. I was delighted to make the sacrifice, and you were hiding your feelings that I might not lose any merit. Neither of us could find Trinidad on the map except in the island of Cuba. So we concluded that Cuba was my destination. I was to leave Steubenville quietly so that none of my obstreperous pupils might cause the incoming teacher      </td><td>S1019-D002</td><td>1</td><td>0.053</td><td>0.119</td><td>0.827</td><td>0.9425</td><td>15</td><td>0.06666667</td></tr>\n",
       "\t<tr><th scope=row>2</th><td>Josephine. This letter thrilled us both. I was delighted to make the sacrifice, and you were hiding your feelings that I might not lose any merit. Neither of us could find Trinidad on the map except in the island of Cuba. So we concluded that Cuba was my destination. I was to leave Steubenville quietly so that none of my obstreperous pupils might cause the incoming teacher annoyance. Hence I went to Sunday catechetical class as usual 2:00 P M I was to take the 3:00 P M train for Cincinnati. I said to my hopefuls, \"Instead of catechism, I'm going to tell you an Indian story to-day.\" The schoolhouse roof was not disturbed, though the hurrahs were loud enough! The moral of the story was \"Indian Endurance.\" Dismissed them at two-thirty without one word of goodbye except the daily one. You remember how surprised I was to see a crowd at the station to wish me \"Godspeed\"; I thought I was to slip away without anyone's knowledge except our own. Mr Tait and Mr McCann wished to speak to me alone. Both had been in the West. \"You will have a long travel on the plains,\" they said, \"before you    </td><td>S1019-D002</td><td>2</td><td>0.050</td><td>0.092</td><td>0.859</td><td>0.8625</td><td>15</td><td>0.13333333</td></tr>\n",
       "\t<tr><th scope=row>3</th><td>them at two-thirty without one word of goodbye except the daily one. You remember how surprised I was to see a crowd at the station to wish me \"Godspeed\"; I thought I was to slip away without anyone's knowledge except our own. Mr Tait and Mr McCann wished to speak to me alone. Both had been in the West. \"You will have a long travel on the plains,\" they said, \"before you reach Trinidad.\" \"Where is Trinidad?\" \"A little mining town in Southwestern Colorado.\" So then I knew my destination, which, of course I would have been told at Mt St Vincent. Both gentlemen said they had traveled on the plains on the Santa Fe Trail, and they seemed to have made it a matter of conscience to inform me on the subject of cowboys. This in substance was their conversation with me: \"Sister, you may be snow-bound while on the plains.\" I looked my assent, I knew I could not stop the snow. \"Travelers are sometimes snow-bound for two weeks, and you are alone. This, though, is not the greatest danger to you.\" Mentally I was wishing both gentlemen somewhere else. \"Your real danger is from cowboys.\" I looked at  </td><td>S1019-D002</td><td>3</td><td>0.037</td><td>0.080</td><td>0.883</td><td>0.6977</td><td>15</td><td>0.20000000</td></tr>\n",
       "\t<tr><th scope=row>4</th><td>This in substance was their conversation with me: \"Sister, you may be snow-bound while on the plains.\" I looked my assent, I knew I could not stop the snow. \"Travelers are sometimes snow-bound for two weeks, and you are alone. This, though, is not the greatest danger to you.\" Mentally I was wishing both gentlemen somewhere else. \"Your real danger is from cowboys.\" I looked at the speakers. \"You do not seem to grasp our meaning. No virtuous woman is safe near a cowboy.\" Both gave up trying to make me understand what they considered danger. Why should snow or cowboys frighten me any more than others who will be traveling the same way! So you see, dearest, I'm not going to so long a distance as we thought. At three o'clock A M the baggage checker came through our coach. I looked to see how much the pocketbook contained just twenty-five cents. If I used it to ride to the Good Samaritan I'd be minus the fare to Mt St Vincent, so I made up my mind to skirt around from the Little Miami to the Good Samaritan Hospital. At four A M I rang the front doorbell no response. I sat on the stone    </td><td>S1019-D002</td><td>4</td><td>0.056</td><td>0.132</td><td>0.812</td><td>0.9451</td><td>15</td><td>0.26666667</td></tr>\n",
       "\t<tr><th scope=row>5</th><td>three o'clock A M the baggage checker came through our coach. I looked to see how much the pocketbook contained just twenty-five cents. If I used it to ride to the Good Samaritan I'd be minus the fare to Mt St Vincent, so I made up my mind to skirt around from the Little Miami to the Good Samaritan Hospital. At four A M I rang the front doorbell no response. I sat on the stone steps and waited till I heard the rising bell, then I waited another fifteen minutes when again I rang the doorbell. Sister Anthony came. \"Why, child, where did you come from; how did you get here? I'm sure you are cold.\" I said I came from Steubenville. \"Oh, yes! dear Father Bigelow died there. He was good to this hospital. Last year he sent a barge of coal to us.\" I said he was good to anyone in need. He died possessed of three dollars and fifty cents. His hand was always open to any kind of distress. I did not mention to Sister Anthony that I walked from the Little Miami Station. After Mass, breakfast and miles of sympathy and \"God Bless You\" from the Sisters at the Good Samaritan, one of the nurses        </td><td>S1019-D002</td><td>5</td><td>0.059</td><td>0.148</td><td>0.793</td><td>0.9509</td><td>15</td><td>0.33333333</td></tr>\n",
       "\t<tr><th scope=row>6</th><td>year he sent a barge of coal to us.\" I said he was good to anyone in need. He died possessed of three dollars and fifty cents. His hand was always open to any kind of distress. I did not mention to Sister Anthony that I walked from the Little Miami Station. After Mass, breakfast and miles of sympathy and \"God Bless You\" from the Sisters at the Good Samaritan, one of the nurses accompanied me to Fifth and Vine Streets, where I was to take \"Barney's Bus\" for Mt St Vincent. The bus was to leave at ten A M I waited till three P M then asked one of the clerks if he thought Mr McCabe would run the bus that day. \"I fear no bus will run to-day. There is an epidemic epizootic among the horses.\" I asked if Mr Segale's place of business was anywhere near. He pointed to Wood's Theater and I started to the place indicated. Brother Henry managed to find a \"hack\" to send me to Mt St Vincent. On the way, between the first ascent of the hill and the Seminary, I met Sisters Gabriella and Delphina walking in the slush and cold on their way to the Orphan Asylum. I stopped to take them in. They returned</td><td>S1019-D002</td><td>6</td><td>0.071</td><td>0.074</td><td>0.854</td><td>0.1548</td><td>15</td><td>0.40000000</td></tr>\n",
       "</tbody>\n",
       "</table>\n"
      ],
      "text/latex": [
       "A data.frame: 6 × 9\n",
       "\\begin{tabular}{r|lllllllll}\n",
       "  & chunk & docid & sequence & scoreNeg & scorePos & scoreNeu & scoreCompound & chunks & position\\\\\n",
       "  & <chr> & <chr> & <int> & <dbl> & <dbl> & <dbl> & <dbl> & <int> & <dbl>\\\\\n",
       "\\hline\n",
       "\t1 & TRINIDAD On Train from Steubenville, Ohio, to Cincinnati. Nov 30, 1872. My Darling Sister Justina: How interestedly you, Sister M Louis and myself read Eugénie de Guérin's Journal and her daily anxieties to save her brother from being a spiritual outcast! This Journal which I propose keeping for you will deal with incidents occurring on my journey to Trinidad and happenings in that far-off land to which I am consigned. The Journal will begin with the first act. Here is Mother Josephine's letter: Mt St Vincent, O, Nov 27, 1872. Sister Blandina, Steubenville, O My Dear Child: You are missioned to Trinidad. You will leave Cincinnati Wednesday and alone. Mother Regina will attend to your needs. Devotedly, Mother Josephine. This letter thrilled us both. I was delighted to make the sacrifice, and you were hiding your feelings that I might not lose any merit. Neither of us could find Trinidad on the map except in the island of Cuba. So we concluded that Cuba was my destination. I was to leave Steubenville quietly so that none of my obstreperous pupils might cause the incoming teacher       & S1019-D002 & 1 & 0.053 & 0.119 & 0.827 & 0.9425 & 15 & 0.06666667\\\\\n",
       "\t2 & Josephine. This letter thrilled us both. I was delighted to make the sacrifice, and you were hiding your feelings that I might not lose any merit. Neither of us could find Trinidad on the map except in the island of Cuba. So we concluded that Cuba was my destination. I was to leave Steubenville quietly so that none of my obstreperous pupils might cause the incoming teacher annoyance. Hence I went to Sunday catechetical class as usual 2:00 P M I was to take the 3:00 P M train for Cincinnati. I said to my hopefuls, \"Instead of catechism, I'm going to tell you an Indian story to-day.\" The schoolhouse roof was not disturbed, though the hurrahs were loud enough! The moral of the story was \"Indian Endurance.\" Dismissed them at two-thirty without one word of goodbye except the daily one. You remember how surprised I was to see a crowd at the station to wish me \"Godspeed\"; I thought I was to slip away without anyone's knowledge except our own. Mr Tait and Mr McCann wished to speak to me alone. Both had been in the West. \"You will have a long travel on the plains,\" they said, \"before you     & S1019-D002 & 2 & 0.050 & 0.092 & 0.859 & 0.8625 & 15 & 0.13333333\\\\\n",
       "\t3 & them at two-thirty without one word of goodbye except the daily one. You remember how surprised I was to see a crowd at the station to wish me \"Godspeed\"; I thought I was to slip away without anyone's knowledge except our own. Mr Tait and Mr McCann wished to speak to me alone. Both had been in the West. \"You will have a long travel on the plains,\" they said, \"before you reach Trinidad.\" \"Where is Trinidad?\" \"A little mining town in Southwestern Colorado.\" So then I knew my destination, which, of course I would have been told at Mt St Vincent. Both gentlemen said they had traveled on the plains on the Santa Fe Trail, and they seemed to have made it a matter of conscience to inform me on the subject of cowboys. This in substance was their conversation with me: \"Sister, you may be snow-bound while on the plains.\" I looked my assent, I knew I could not stop the snow. \"Travelers are sometimes snow-bound for two weeks, and you are alone. This, though, is not the greatest danger to you.\" Mentally I was wishing both gentlemen somewhere else. \"Your real danger is from cowboys.\" I looked at   & S1019-D002 & 3 & 0.037 & 0.080 & 0.883 & 0.6977 & 15 & 0.20000000\\\\\n",
       "\t4 & This in substance was their conversation with me: \"Sister, you may be snow-bound while on the plains.\" I looked my assent, I knew I could not stop the snow. \"Travelers are sometimes snow-bound for two weeks, and you are alone. This, though, is not the greatest danger to you.\" Mentally I was wishing both gentlemen somewhere else. \"Your real danger is from cowboys.\" I looked at the speakers. \"You do not seem to grasp our meaning. No virtuous woman is safe near a cowboy.\" Both gave up trying to make me understand what they considered danger. Why should snow or cowboys frighten me any more than others who will be traveling the same way! So you see, dearest, I'm not going to so long a distance as we thought. At three o'clock A M the baggage checker came through our coach. I looked to see how much the pocketbook contained just twenty-five cents. If I used it to ride to the Good Samaritan I'd be minus the fare to Mt St Vincent, so I made up my mind to skirt around from the Little Miami to the Good Samaritan Hospital. At four A M I rang the front doorbell no response. I sat on the stone     & S1019-D002 & 4 & 0.056 & 0.132 & 0.812 & 0.9451 & 15 & 0.26666667\\\\\n",
       "\t5 & three o'clock A M the baggage checker came through our coach. I looked to see how much the pocketbook contained just twenty-five cents. If I used it to ride to the Good Samaritan I'd be minus the fare to Mt St Vincent, so I made up my mind to skirt around from the Little Miami to the Good Samaritan Hospital. At four A M I rang the front doorbell no response. I sat on the stone steps and waited till I heard the rising bell, then I waited another fifteen minutes when again I rang the doorbell. Sister Anthony came. \"Why, child, where did you come from; how did you get here? I'm sure you are cold.\" I said I came from Steubenville. \"Oh, yes! dear Father Bigelow died there. He was good to this hospital. Last year he sent a barge of coal to us.\" I said he was good to anyone in need. He died possessed of three dollars and fifty cents. His hand was always open to any kind of distress. I did not mention to Sister Anthony that I walked from the Little Miami Station. After Mass, breakfast and miles of sympathy and \"God Bless You\" from the Sisters at the Good Samaritan, one of the nurses         & S1019-D002 & 5 & 0.059 & 0.148 & 0.793 & 0.9509 & 15 & 0.33333333\\\\\n",
       "\t6 & year he sent a barge of coal to us.\" I said he was good to anyone in need. He died possessed of three dollars and fifty cents. His hand was always open to any kind of distress. I did not mention to Sister Anthony that I walked from the Little Miami Station. After Mass, breakfast and miles of sympathy and \"God Bless You\" from the Sisters at the Good Samaritan, one of the nurses accompanied me to Fifth and Vine Streets, where I was to take \"Barney's Bus\" for Mt St Vincent. The bus was to leave at ten A M I waited till three P M then asked one of the clerks if he thought Mr McCabe would run the bus that day. \"I fear no bus will run to-day. There is an epidemic epizootic among the horses.\" I asked if Mr Segale's place of business was anywhere near. He pointed to Wood's Theater and I started to the place indicated. Brother Henry managed to find a \"hack\" to send me to Mt St Vincent. On the way, between the first ascent of the hill and the Seminary, I met Sisters Gabriella and Delphina walking in the slush and cold on their way to the Orphan Asylum. I stopped to take them in. They returned & S1019-D002 & 6 & 0.071 & 0.074 & 0.854 & 0.1548 & 15 & 0.40000000\\\\\n",
       "\\end{tabular}\n"
      ],
      "text/markdown": [
       "\n",
       "A data.frame: 6 × 9\n",
       "\n",
       "| <!--/--> | chunk &lt;chr&gt; | docid &lt;chr&gt; | sequence &lt;int&gt; | scoreNeg &lt;dbl&gt; | scorePos &lt;dbl&gt; | scoreNeu &lt;dbl&gt; | scoreCompound &lt;dbl&gt; | chunks &lt;int&gt; | position &lt;dbl&gt; |\n",
       "|---|---|---|---|---|---|---|---|---|---|\n",
       "| 1 | TRINIDAD On Train from Steubenville, Ohio, to Cincinnati. Nov 30, 1872. My Darling Sister Justina: How interestedly you, Sister M Louis and myself read Eugénie de Guérin's Journal and her daily anxieties to save her brother from being a spiritual outcast! This Journal which I propose keeping for you will deal with incidents occurring on my journey to Trinidad and happenings in that far-off land to which I am consigned. The Journal will begin with the first act. Here is Mother Josephine's letter: Mt St Vincent, O, Nov 27, 1872. Sister Blandina, Steubenville, O My Dear Child: You are missioned to Trinidad. You will leave Cincinnati Wednesday and alone. Mother Regina will attend to your needs. Devotedly, Mother Josephine. This letter thrilled us both. I was delighted to make the sacrifice, and you were hiding your feelings that I might not lose any merit. Neither of us could find Trinidad on the map except in the island of Cuba. So we concluded that Cuba was my destination. I was to leave Steubenville quietly so that none of my obstreperous pupils might cause the incoming teacher       | S1019-D002 | 1 | 0.053 | 0.119 | 0.827 | 0.9425 | 15 | 0.06666667 |\n",
       "| 2 | Josephine. This letter thrilled us both. I was delighted to make the sacrifice, and you were hiding your feelings that I might not lose any merit. Neither of us could find Trinidad on the map except in the island of Cuba. So we concluded that Cuba was my destination. I was to leave Steubenville quietly so that none of my obstreperous pupils might cause the incoming teacher annoyance. Hence I went to Sunday catechetical class as usual 2:00 P M I was to take the 3:00 P M train for Cincinnati. I said to my hopefuls, \"Instead of catechism, I'm going to tell you an Indian story to-day.\" The schoolhouse roof was not disturbed, though the hurrahs were loud enough! The moral of the story was \"Indian Endurance.\" Dismissed them at two-thirty without one word of goodbye except the daily one. You remember how surprised I was to see a crowd at the station to wish me \"Godspeed\"; I thought I was to slip away without anyone's knowledge except our own. Mr Tait and Mr McCann wished to speak to me alone. Both had been in the West. \"You will have a long travel on the plains,\" they said, \"before you     | S1019-D002 | 2 | 0.050 | 0.092 | 0.859 | 0.8625 | 15 | 0.13333333 |\n",
       "| 3 | them at two-thirty without one word of goodbye except the daily one. You remember how surprised I was to see a crowd at the station to wish me \"Godspeed\"; I thought I was to slip away without anyone's knowledge except our own. Mr Tait and Mr McCann wished to speak to me alone. Both had been in the West. \"You will have a long travel on the plains,\" they said, \"before you reach Trinidad.\" \"Where is Trinidad?\" \"A little mining town in Southwestern Colorado.\" So then I knew my destination, which, of course I would have been told at Mt St Vincent. Both gentlemen said they had traveled on the plains on the Santa Fe Trail, and they seemed to have made it a matter of conscience to inform me on the subject of cowboys. This in substance was their conversation with me: \"Sister, you may be snow-bound while on the plains.\" I looked my assent, I knew I could not stop the snow. \"Travelers are sometimes snow-bound for two weeks, and you are alone. This, though, is not the greatest danger to you.\" Mentally I was wishing both gentlemen somewhere else. \"Your real danger is from cowboys.\" I looked at   | S1019-D002 | 3 | 0.037 | 0.080 | 0.883 | 0.6977 | 15 | 0.20000000 |\n",
       "| 4 | This in substance was their conversation with me: \"Sister, you may be snow-bound while on the plains.\" I looked my assent, I knew I could not stop the snow. \"Travelers are sometimes snow-bound for two weeks, and you are alone. This, though, is not the greatest danger to you.\" Mentally I was wishing both gentlemen somewhere else. \"Your real danger is from cowboys.\" I looked at the speakers. \"You do not seem to grasp our meaning. No virtuous woman is safe near a cowboy.\" Both gave up trying to make me understand what they considered danger. Why should snow or cowboys frighten me any more than others who will be traveling the same way! So you see, dearest, I'm not going to so long a distance as we thought. At three o'clock A M the baggage checker came through our coach. I looked to see how much the pocketbook contained just twenty-five cents. If I used it to ride to the Good Samaritan I'd be minus the fare to Mt St Vincent, so I made up my mind to skirt around from the Little Miami to the Good Samaritan Hospital. At four A M I rang the front doorbell no response. I sat on the stone     | S1019-D002 | 4 | 0.056 | 0.132 | 0.812 | 0.9451 | 15 | 0.26666667 |\n",
       "| 5 | three o'clock A M the baggage checker came through our coach. I looked to see how much the pocketbook contained just twenty-five cents. If I used it to ride to the Good Samaritan I'd be minus the fare to Mt St Vincent, so I made up my mind to skirt around from the Little Miami to the Good Samaritan Hospital. At four A M I rang the front doorbell no response. I sat on the stone steps and waited till I heard the rising bell, then I waited another fifteen minutes when again I rang the doorbell. Sister Anthony came. \"Why, child, where did you come from; how did you get here? I'm sure you are cold.\" I said I came from Steubenville. \"Oh, yes! dear Father Bigelow died there. He was good to this hospital. Last year he sent a barge of coal to us.\" I said he was good to anyone in need. He died possessed of three dollars and fifty cents. His hand was always open to any kind of distress. I did not mention to Sister Anthony that I walked from the Little Miami Station. After Mass, breakfast and miles of sympathy and \"God Bless You\" from the Sisters at the Good Samaritan, one of the nurses         | S1019-D002 | 5 | 0.059 | 0.148 | 0.793 | 0.9509 | 15 | 0.33333333 |\n",
       "| 6 | year he sent a barge of coal to us.\" I said he was good to anyone in need. He died possessed of three dollars and fifty cents. His hand was always open to any kind of distress. I did not mention to Sister Anthony that I walked from the Little Miami Station. After Mass, breakfast and miles of sympathy and \"God Bless You\" from the Sisters at the Good Samaritan, one of the nurses accompanied me to Fifth and Vine Streets, where I was to take \"Barney's Bus\" for Mt St Vincent. The bus was to leave at ten A M I waited till three P M then asked one of the clerks if he thought Mr McCabe would run the bus that day. \"I fear no bus will run to-day. There is an epidemic epizootic among the horses.\" I asked if Mr Segale's place of business was anywhere near. He pointed to Wood's Theater and I started to the place indicated. Brother Henry managed to find a \"hack\" to send me to Mt St Vincent. On the way, between the first ascent of the hill and the Seminary, I met Sisters Gabriella and Delphina walking in the slush and cold on their way to the Orphan Asylum. I stopped to take them in. They returned | S1019-D002 | 6 | 0.071 | 0.074 | 0.854 | 0.1548 | 15 | 0.40000000 |\n",
       "\n"
      ],
      "text/plain": [
       "  chunk                                                                                                                                                                                                                                                                                                                                                                                                                                                                                                                                                                                                                                                                                                                                                                                                                                                                                                                                                                                                                                                                                                                                      \n",
       "1 TRINIDAD On Train from Steubenville, Ohio, to Cincinnati. Nov 30, 1872. My Darling Sister Justina: How interestedly you, Sister M Louis and myself read Eugénie de Guérin's Journal and her daily anxieties to save her brother from being a spiritual outcast! This Journal which I propose keeping for you will deal with incidents occurring on my journey to Trinidad and happenings in that far-off land to which I am consigned. The Journal will begin with the first act. Here is Mother Josephine's letter: Mt St Vincent, O, Nov 27, 1872. Sister Blandina, Steubenville, O My Dear Child: You are missioned to Trinidad. You will leave Cincinnati Wednesday and alone. Mother Regina will attend to your needs. Devotedly, Mother Josephine. This letter thrilled us both. I was delighted to make the sacrifice, and you were hiding your feelings that I might not lose any merit. Neither of us could find Trinidad on the map except in the island of Cuba. So we concluded that Cuba was my destination. I was to leave Steubenville quietly so that none of my obstreperous pupils might cause the incoming teacher      \n",
       "2 Josephine. This letter thrilled us both. I was delighted to make the sacrifice, and you were hiding your feelings that I might not lose any merit. Neither of us could find Trinidad on the map except in the island of Cuba. So we concluded that Cuba was my destination. I was to leave Steubenville quietly so that none of my obstreperous pupils might cause the incoming teacher annoyance. Hence I went to Sunday catechetical class as usual 2:00 P M I was to take the 3:00 P M train for Cincinnati. I said to my hopefuls, \"Instead of catechism, I'm going to tell you an Indian story to-day.\" The schoolhouse roof was not disturbed, though the hurrahs were loud enough! The moral of the story was \"Indian Endurance.\" Dismissed them at two-thirty without one word of goodbye except the daily one. You remember how surprised I was to see a crowd at the station to wish me \"Godspeed\"; I thought I was to slip away without anyone's knowledge except our own. Mr Tait and Mr McCann wished to speak to me alone. Both had been in the West. \"You will have a long travel on the plains,\" they said, \"before you    \n",
       "3 them at two-thirty without one word of goodbye except the daily one. You remember how surprised I was to see a crowd at the station to wish me \"Godspeed\"; I thought I was to slip away without anyone's knowledge except our own. Mr Tait and Mr McCann wished to speak to me alone. Both had been in the West. \"You will have a long travel on the plains,\" they said, \"before you reach Trinidad.\" \"Where is Trinidad?\" \"A little mining town in Southwestern Colorado.\" So then I knew my destination, which, of course I would have been told at Mt St Vincent. Both gentlemen said they had traveled on the plains on the Santa Fe Trail, and they seemed to have made it a matter of conscience to inform me on the subject of cowboys. This in substance was their conversation with me: \"Sister, you may be snow-bound while on the plains.\" I looked my assent, I knew I could not stop the snow. \"Travelers are sometimes snow-bound for two weeks, and you are alone. This, though, is not the greatest danger to you.\" Mentally I was wishing both gentlemen somewhere else. \"Your real danger is from cowboys.\" I looked at  \n",
       "4 This in substance was their conversation with me: \"Sister, you may be snow-bound while on the plains.\" I looked my assent, I knew I could not stop the snow. \"Travelers are sometimes snow-bound for two weeks, and you are alone. This, though, is not the greatest danger to you.\" Mentally I was wishing both gentlemen somewhere else. \"Your real danger is from cowboys.\" I looked at the speakers. \"You do not seem to grasp our meaning. No virtuous woman is safe near a cowboy.\" Both gave up trying to make me understand what they considered danger. Why should snow or cowboys frighten me any more than others who will be traveling the same way! So you see, dearest, I'm not going to so long a distance as we thought. At three o'clock A M the baggage checker came through our coach. I looked to see how much the pocketbook contained just twenty-five cents. If I used it to ride to the Good Samaritan I'd be minus the fare to Mt St Vincent, so I made up my mind to skirt around from the Little Miami to the Good Samaritan Hospital. At four A M I rang the front doorbell no response. I sat on the stone    \n",
       "5 three o'clock A M the baggage checker came through our coach. I looked to see how much the pocketbook contained just twenty-five cents. If I used it to ride to the Good Samaritan I'd be minus the fare to Mt St Vincent, so I made up my mind to skirt around from the Little Miami to the Good Samaritan Hospital. At four A M I rang the front doorbell no response. I sat on the stone steps and waited till I heard the rising bell, then I waited another fifteen minutes when again I rang the doorbell. Sister Anthony came. \"Why, child, where did you come from; how did you get here? I'm sure you are cold.\" I said I came from Steubenville. \"Oh, yes! dear Father Bigelow died there. He was good to this hospital. Last year he sent a barge of coal to us.\" I said he was good to anyone in need. He died possessed of three dollars and fifty cents. His hand was always open to any kind of distress. I did not mention to Sister Anthony that I walked from the Little Miami Station. After Mass, breakfast and miles of sympathy and \"God Bless You\" from the Sisters at the Good Samaritan, one of the nurses        \n",
       "6 year he sent a barge of coal to us.\" I said he was good to anyone in need. He died possessed of three dollars and fifty cents. His hand was always open to any kind of distress. I did not mention to Sister Anthony that I walked from the Little Miami Station. After Mass, breakfast and miles of sympathy and \"God Bless You\" from the Sisters at the Good Samaritan, one of the nurses accompanied me to Fifth and Vine Streets, where I was to take \"Barney's Bus\" for Mt St Vincent. The bus was to leave at ten A M I waited till three P M then asked one of the clerks if he thought Mr McCabe would run the bus that day. \"I fear no bus will run to-day. There is an epidemic epizootic among the horses.\" I asked if Mr Segale's place of business was anywhere near. He pointed to Wood's Theater and I started to the place indicated. Brother Henry managed to find a \"hack\" to send me to Mt St Vincent. On the way, between the first ascent of the hill and the Seminary, I met Sisters Gabriella and Delphina walking in the slush and cold on their way to the Orphan Asylum. I stopped to take them in. They returned\n",
       "  docid      sequence scoreNeg scorePos scoreNeu scoreCompound chunks\n",
       "1 S1019-D002 1        0.053    0.119    0.827    0.9425        15    \n",
       "2 S1019-D002 2        0.050    0.092    0.859    0.8625        15    \n",
       "3 S1019-D002 3        0.037    0.080    0.883    0.6977        15    \n",
       "4 S1019-D002 4        0.056    0.132    0.812    0.9451        15    \n",
       "5 S1019-D002 5        0.059    0.148    0.793    0.9509        15    \n",
       "6 S1019-D002 6        0.071    0.074    0.854    0.1548        15    \n",
       "  position  \n",
       "1 0.06666667\n",
       "2 0.13333333\n",
       "3 0.20000000\n",
       "4 0.26666667\n",
       "5 0.33333333\n",
       "6 0.40000000"
      ]
     },
     "metadata": {},
     "output_type": "display_data"
    }
   ],
   "source": [
    "# Load data related to authors and documents (metadata)\n",
    "dfNarrative <- unfactorize(read.csv(\"20240220_PhD_SentimentChunk.csv\"))[-1]\n",
    "head(dfNarrative)"
   ]
  },
  {
   "cell_type": "code",
   "execution_count": 8,
   "metadata": {},
   "outputs": [
    {
     "data": {
      "text/html": [
       "TRUE"
      ],
      "text/latex": [
       "TRUE"
      ],
      "text/markdown": [
       "TRUE"
      ],
      "text/plain": [
       "[1] TRUE"
      ]
     },
     "metadata": {},
     "output_type": "display_data"
    }
   ],
   "source": [
    "# Are the values identical\n",
    "identical(unique(dfMeta$docid),unique(dfNarrative$docid))"
   ]
  },
  {
   "cell_type": "code",
   "execution_count": 9,
   "metadata": {},
   "outputs": [
    {
     "name": "stdout",
     "output_type": "stream",
     "text": [
      "Rows: 3,785\n",
      "Columns: 32\n",
      "$ docauthorid      \u001b[3m\u001b[90m<chr>\u001b[39m\u001b[23m \"per0001043\", \"per0001043\", \"per0001043\", \"per0001043…\n",
      "$ docauthorname    \u001b[3m\u001b[90m<chr>\u001b[39m\u001b[23m \"Segale, Sister Blandina, 1850-1941\", \"Segale, Sister…\n",
      "$ docid            \u001b[3m\u001b[90m<chr>\u001b[39m\u001b[23m \"S1019-D002\", \"S1019-D002\", \"S1019-D002\", \"S1019-D002…\n",
      "$ sourcetitle      \u001b[3m\u001b[90m<chr>\u001b[39m\u001b[23m \"At the End of the Santa Fe Trail\", \"At the End of th…\n",
      "$ docyear          \u001b[3m\u001b[90m<int>\u001b[39m\u001b[23m 1872, 1872, 1872, 1872, 1872, 1872, 1872, 1872, 1872,…\n",
      "$ docmonth         \u001b[3m\u001b[90m<int>\u001b[39m\u001b[23m 11, 11, 11, 11, 11, 11, 11, 11, 11, 11, 11, 11, 11, 1…\n",
      "$ docday           \u001b[3m\u001b[90m<int>\u001b[39m\u001b[23m 30, 30, 30, 30, 30, 30, 30, 30, 30, 30, 30, 30, 30, 3…\n",
      "$ authorgender     \u001b[3m\u001b[90m<chr>\u001b[39m\u001b[23m \"F\", \"F\", \"F\", \"F\", \"F\", \"F\", \"F\", \"F\", \"F\", \"F\", \"F\"…\n",
      "$ agewriting       \u001b[3m\u001b[90m<int>\u001b[39m\u001b[23m 22, 22, 22, 22, 22, 22, 22, 22, 22, 22, 22, 22, 22, 2…\n",
      "$ birthyear        \u001b[3m\u001b[90m<int>\u001b[39m\u001b[23m 1850, 1850, 1850, 1850, 1850, 1850, 1850, 1850, 1850,…\n",
      "$ deathyear        \u001b[3m\u001b[90m<int>\u001b[39m\u001b[23m 1941, 1941, 1941, 1941, 1941, 1941, 1941, 1941, 1941,…\n",
      "$ religionNew      \u001b[3m\u001b[90m<chr>\u001b[39m\u001b[23m \"Catholic\", \"Catholic\", \"Catholic\", \"Catholic\", \"Cath…\n",
      "$ relMin           \u001b[3m\u001b[90m<lgl>\u001b[39m\u001b[23m TRUE, TRUE, TRUE, TRUE, TRUE, TRUE, TRUE, TRUE, TRUE,…\n",
      "$ nationalOrigin   \u001b[3m\u001b[90m<chr>\u001b[39m\u001b[23m \"Italian\", \"Italian\", \"Italian\", \"Italian\", \"Italian\"…\n",
      "$ britishEmpire_EU \u001b[3m\u001b[90m<lgl>\u001b[39m\u001b[23m FALSE, FALSE, FALSE, FALSE, FALSE, FALSE, FALSE, FALS…\n",
      "$ translated       \u001b[3m\u001b[90m<lgl>\u001b[39m\u001b[23m FALSE, FALSE, FALSE, FALSE, FALSE, FALSE, FALSE, FALS…\n",
      "$ authorLocation   \u001b[3m\u001b[90m<chr>\u001b[39m\u001b[23m \"USA\", \"USA\", \"USA\", \"USA\", \"USA\", \"USA\", \"USA\", \"USA…\n",
      "$ socialClass      \u001b[3m\u001b[90m<chr>\u001b[39m\u001b[23m \"Nun; Social worker; Teacher\", \"Nun; Social worker; T…\n",
      "$ A                \u001b[3m\u001b[90m<lgl>\u001b[39m\u001b[23m FALSE, FALSE, FALSE, FALSE, FALSE, FALSE, FALSE, FALS…\n",
      "$ I                \u001b[3m\u001b[90m<lgl>\u001b[39m\u001b[23m FALSE, FALSE, FALSE, FALSE, FALSE, FALSE, FALSE, FALS…\n",
      "$ CCP              \u001b[3m\u001b[90m<lgl>\u001b[39m\u001b[23m TRUE, TRUE, TRUE, TRUE, TRUE, TRUE, TRUE, TRUE, TRUE,…\n",
      "$ Unknown          \u001b[3m\u001b[90m<lgl>\u001b[39m\u001b[23m FALSE, FALSE, FALSE, FALSE, FALSE, FALSE, FALSE, FALS…\n",
      "$ wageLabour       \u001b[3m\u001b[90m<lgl>\u001b[39m\u001b[23m FALSE, FALSE, FALSE, FALSE, FALSE, FALSE, FALSE, FALS…\n",
      "$ publicLetter     \u001b[3m\u001b[90m<lgl>\u001b[39m\u001b[23m NA, NA, NA, NA, NA, NA, NA, NA, NA, NA, NA, NA, NA, N…\n",
      "$ chunk            \u001b[3m\u001b[90m<chr>\u001b[39m\u001b[23m \"TRINIDAD On Train from Steubenville, Ohio, to Cincin…\n",
      "$ sequence         \u001b[3m\u001b[90m<int>\u001b[39m\u001b[23m 1, 2, 3, 4, 5, 6, 7, 8, 9, 10, 11, 12, 13, 14, 15, 1,…\n",
      "$ scoreNeg         \u001b[3m\u001b[90m<dbl>\u001b[39m\u001b[23m 0.053, 0.050, 0.037, 0.056, 0.059, 0.071, 0.053, 0.10…\n",
      "$ scorePos         \u001b[3m\u001b[90m<dbl>\u001b[39m\u001b[23m 0.119, 0.092, 0.080, 0.132, 0.148, 0.074, 0.059, 0.12…\n",
      "$ scoreNeu         \u001b[3m\u001b[90m<dbl>\u001b[39m\u001b[23m 0.827, 0.859, 0.883, 0.812, 0.793, 0.854, 0.889, 0.77…\n",
      "$ scoreCompound    \u001b[3m\u001b[90m<dbl>\u001b[39m\u001b[23m 0.9425, 0.8625, 0.6977, 0.9451, 0.9509, 0.1548, 0.291…\n",
      "$ chunks           \u001b[3m\u001b[90m<int>\u001b[39m\u001b[23m 15, 15, 15, 15, 15, 15, 15, 15, 15, 15, 15, 15, 15, 1…\n",
      "$ position         \u001b[3m\u001b[90m<dbl>\u001b[39m\u001b[23m 0.06666667, 0.13333333, 0.20000000, 0.26666667, 0.333…\n"
     ]
    }
   ],
   "source": [
    "#Merge datasets\n",
    "df <- right_join(dfMeta, dfNarrative, by = 'docid')\n",
    "glimpse(df)"
   ]
  },
  {
   "cell_type": "code",
   "execution_count": 10,
   "metadata": {},
   "outputs": [],
   "source": [
    "# Apply function to turn character class variables to factor class.\n",
    "# df  <- factorize(df)\n",
    "# summary(df)"
   ]
  },
  {
   "cell_type": "code",
   "execution_count": 11,
   "metadata": {},
   "outputs": [
    {
     "data": {
      "text/html": [
       "<table class=\"dataframe\">\n",
       "<caption>A data.frame: 1 × 2</caption>\n",
       "<thead>\n",
       "\t<tr><th></th><th scope=col>docid</th><th scope=col>chunk</th></tr>\n",
       "\t<tr><th></th><th scope=col>&lt;chr&gt;</th><th scope=col>&lt;chr&gt;</th></tr>\n",
       "</thead>\n",
       "<tbody>\n",
       "\t<tr><th scope=row>1</th><td>S1019-D002</td><td>TRINIDAD On Train from Steubenville, Ohio, to Cincinnati. Nov 30, 1872. My Darling Sister Justina: How interestedly you, Sister M Louis and myself read Eugénie de Guérin's Journal and her daily anxieties to save her brother from being a spiritual outcast! This Journal which I propose keeping for you will deal with incidents occurring on my journey to Trinidad and happenings in that far-off land to which I am consigned. The Journal will begin with the first act. Here is Mother Josephine's letter: Mt St Vincent, O, Nov 27, 1872. Sister Blandina, Steubenville, O My Dear Child: You are missioned to Trinidad. You will leave Cincinnati Wednesday and alone. Mother Regina will attend to your needs. Devotedly, Mother Josephine. This letter thrilled us both. I was delighted to make the sacrifice, and you were hiding your feelings that I might not lose any merit. Neither of us could find Trinidad on the map except in the island of Cuba. So we concluded that Cuba was my destination. I was to leave Steubenville quietly so that none of my obstreperous pupils might cause the incoming teacher</td></tr>\n",
       "</tbody>\n",
       "</table>\n"
      ],
      "text/latex": [
       "A data.frame: 1 × 2\n",
       "\\begin{tabular}{r|ll}\n",
       "  & docid & chunk\\\\\n",
       "  & <chr> & <chr>\\\\\n",
       "\\hline\n",
       "\t1 & S1019-D002 & TRINIDAD On Train from Steubenville, Ohio, to Cincinnati. Nov 30, 1872. My Darling Sister Justina: How interestedly you, Sister M Louis and myself read Eugénie de Guérin's Journal and her daily anxieties to save her brother from being a spiritual outcast! This Journal which I propose keeping for you will deal with incidents occurring on my journey to Trinidad and happenings in that far-off land to which I am consigned. The Journal will begin with the first act. Here is Mother Josephine's letter: Mt St Vincent, O, Nov 27, 1872. Sister Blandina, Steubenville, O My Dear Child: You are missioned to Trinidad. You will leave Cincinnati Wednesday and alone. Mother Regina will attend to your needs. Devotedly, Mother Josephine. This letter thrilled us both. I was delighted to make the sacrifice, and you were hiding your feelings that I might not lose any merit. Neither of us could find Trinidad on the map except in the island of Cuba. So we concluded that Cuba was my destination. I was to leave Steubenville quietly so that none of my obstreperous pupils might cause the incoming teacher\\\\\n",
       "\\end{tabular}\n"
      ],
      "text/markdown": [
       "\n",
       "A data.frame: 1 × 2\n",
       "\n",
       "| <!--/--> | docid &lt;chr&gt; | chunk &lt;chr&gt; |\n",
       "|---|---|---|\n",
       "| 1 | S1019-D002 | TRINIDAD On Train from Steubenville, Ohio, to Cincinnati. Nov 30, 1872. My Darling Sister Justina: How interestedly you, Sister M Louis and myself read Eugénie de Guérin's Journal and her daily anxieties to save her brother from being a spiritual outcast! This Journal which I propose keeping for you will deal with incidents occurring on my journey to Trinidad and happenings in that far-off land to which I am consigned. The Journal will begin with the first act. Here is Mother Josephine's letter: Mt St Vincent, O, Nov 27, 1872. Sister Blandina, Steubenville, O My Dear Child: You are missioned to Trinidad. You will leave Cincinnati Wednesday and alone. Mother Regina will attend to your needs. Devotedly, Mother Josephine. This letter thrilled us both. I was delighted to make the sacrifice, and you were hiding your feelings that I might not lose any merit. Neither of us could find Trinidad on the map except in the island of Cuba. So we concluded that Cuba was my destination. I was to leave Steubenville quietly so that none of my obstreperous pupils might cause the incoming teacher |\n",
       "\n"
      ],
      "text/plain": [
       "  docid     \n",
       "1 S1019-D002\n",
       "  chunk                                                                                                                                                                                                                                                                                                                                                                                                                                                                                                                                                                                                                                                                                                                                                                                                                                                                                                                                                                                                                                                                                                                                \n",
       "1 TRINIDAD On Train from Steubenville, Ohio, to Cincinnati. Nov 30, 1872. My Darling Sister Justina: How interestedly you, Sister M Louis and myself read Eugénie de Guérin's Journal and her daily anxieties to save her brother from being a spiritual outcast! This Journal which I propose keeping for you will deal with incidents occurring on my journey to Trinidad and happenings in that far-off land to which I am consigned. The Journal will begin with the first act. Here is Mother Josephine's letter: Mt St Vincent, O, Nov 27, 1872. Sister Blandina, Steubenville, O My Dear Child: You are missioned to Trinidad. You will leave Cincinnati Wednesday and alone. Mother Regina will attend to your needs. Devotedly, Mother Josephine. This letter thrilled us both. I was delighted to make the sacrifice, and you were hiding your feelings that I might not lose any merit. Neither of us could find Trinidad on the map except in the island of Cuba. So we concluded that Cuba was my destination. I was to leave Steubenville quietly so that none of my obstreperous pupils might cause the incoming teacher"
      ]
     },
     "metadata": {},
     "output_type": "display_data"
    }
   ],
   "source": [
    "df[1, c(\"docid\", \"chunk\")]"
   ]
  },
  {
   "cell_type": "code",
   "execution_count": 12,
   "metadata": {},
   "outputs": [],
   "source": [
    "write.csv(df, \"20240220_PhD_Data4TopicModel-Chunk.csv\")"
   ]
  }
 ],
 "metadata": {
  "kernelspec": {
   "display_name": "R",
   "language": "R",
   "name": "ir"
  },
  "language_info": {
   "codemirror_mode": "r",
   "file_extension": ".r",
   "mimetype": "text/x-r-source",
   "name": "R",
   "pygments_lexer": "r",
   "version": "4.1.0"
  }
 },
 "nbformat": 4,
 "nbformat_minor": 2
}
