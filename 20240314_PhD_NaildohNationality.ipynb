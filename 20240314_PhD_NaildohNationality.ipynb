{
 "cells": [
  {
   "cell_type": "markdown",
   "id": "9c4dd1c4",
   "metadata": {},
   "source": [
    "# NAILDOH Nationality\n",
    "\n",
    "## Resources"
   ]
  },
  {
   "cell_type": "markdown",
   "id": "c48ab86b",
   "metadata": {},
   "source": [
    "This is the second notebook used in the series to prepare and analyze the NAILDOH dataset."
   ]
  },
  {
   "cell_type": "code",
   "execution_count": 35,
   "id": "fa439d06",
   "metadata": {},
   "outputs": [],
   "source": [
    "# Options\n",
    "options(digits = 1)"
   ]
  },
  {
   "cell_type": "code",
   "execution_count": 36,
   "id": "6baa03b3",
   "metadata": {},
   "outputs": [],
   "source": [
    "# Libraries\n",
    "library(tidyverse) # for data manipulation"
   ]
  },
  {
   "cell_type": "code",
   "execution_count": 37,
   "id": "39441685",
   "metadata": {},
   "outputs": [],
   "source": [
    "# Functions\n",
    "factorize <- function(df){ # Create a function\n",
    "  for(i in which(sapply(df, class) == \"character\")) # that looks for variables with the character class \n",
    "      df[[i]] = as.factor(df[[i]]) # and converts them to factor (i.e., categorical) class\n",
    "  return(df)\n",
    "}\n",
    "\n",
    "unfactorize <- function(df){ # Create a function\n",
    "  for(i in which(sapply(df, class) == \"factor\")) # that looks for variables with the character class \n",
    "      df[[i]] = as.character(df[[i]]) # and converts them to factor (i.e., categorical) class\n",
    "  return(df)\n",
    "}"
   ]
  },
  {
   "cell_type": "code",
   "execution_count": 39,
   "id": "686a7cc6",
   "metadata": {},
   "outputs": [
    {
     "name": "stdout",
     "output_type": "stream",
     "text": [
      "Rows: 986\n",
      "Columns: 72\n",
      "$ docsequence               \u001b[3m\u001b[90m<int>\u001b[39m\u001b[23m 2, 4, 5, 6, 7, 8, 9, 10, 11, 12, 13, 14, 15,…\n",
      "$ docid                     \u001b[3m\u001b[90m<fct>\u001b[39m\u001b[23m S1019-D002, S1019-D004, S1019-D005, S1019-D0…\n",
      "$ sourceid                  \u001b[3m\u001b[90m<fct>\u001b[39m\u001b[23m S1019, S1019, S1019, S1019, S1019, S1019, S1…\n",
      "$ docauthorid               \u001b[3m\u001b[90m<fct>\u001b[39m\u001b[23m per0001043, per0001043, per0001043, per00010…\n",
      "$ doctitle                  \u001b[3m\u001b[90m<fct>\u001b[39m\u001b[23m \"Letter from Sister Blandina Segale to Siste…\n",
      "$ docyear                   \u001b[3m\u001b[90m<int>\u001b[39m\u001b[23m 1872, 1872, 1872, 1872, 1873, 1873, 1873, 18…\n",
      "$ docmonth                  \u001b[3m\u001b[90m<int>\u001b[39m\u001b[23m 11, 12, 12, 12, 3, 7, 9, 6, 11, 6, 9, 12, 1,…\n",
      "$ docday                    \u001b[3m\u001b[90m<int>\u001b[39m\u001b[23m 30, 6, 10, 21, 1, NA, NA, 30, 14, NA, NA, 16…\n",
      "$ docpage                   \u001b[3m\u001b[90m<fct>\u001b[39m\u001b[23m \"3-10\", \"13-22\", \"22-29\", \"29-37\", \"37-44\", …\n",
      "$ doctype                   \u001b[3m\u001b[90m<fct>\u001b[39m\u001b[23m Letter, Letter, Letter, Letter, Letter, Lett…\n",
      "$ docabbr                   \u001b[3m\u001b[90m<fct>\u001b[39m\u001b[23m S1019-D002, S1019-D004, S1019-D005, S1019-D0…\n",
      "$ allsubject                \u001b[3m\u001b[90m<fct>\u001b[39m\u001b[23m \"Clergy; Missionaries; Students; Travel; Rel…\n",
      "$ subjname                  \u001b[3m\u001b[90m<fct>\u001b[39m\u001b[23m \"\", \"\", \"\", \"\", \"\", \"\", \"\", \"\", \"\", \"\", \"Bon…\n",
      "$ organization              \u001b[3m\u001b[90m<fct>\u001b[39m\u001b[23m \"\", \"\", \"\", \"\", \"\", \"\", \"\", \"\", \"\", \"\", \"\", …\n",
      "$ titlesubj                 \u001b[3m\u001b[90m<lgl>\u001b[39m\u001b[23m NA, NA, NA, NA, NA, NA, NA, NA, NA, NA, NA, …\n",
      "$ topicsubj                 \u001b[3m\u001b[90m<fct>\u001b[39m\u001b[23m Clergy; Missionaries; Students; Travel, Miss…\n",
      "$ broadsubj                 \u001b[3m\u001b[90m<fct>\u001b[39m\u001b[23m Religion; Education; Entertainment and recre…\n",
      "$ geographic                \u001b[3m\u001b[90m<fct>\u001b[39m\u001b[23m \"\", \"\", \"\", \"\", \"\", \"\", \"\", \"\", \"\", \"\", \"\", …\n",
      "$ historical                \u001b[3m\u001b[90m<fct>\u001b[39m\u001b[23m \"\", \"\", \"\", \"\", \"\", \"\", \"\", \"\", \"\", \"\", \"\", …\n",
      "$ personalevent             \u001b[3m\u001b[90m<fct>\u001b[39m\u001b[23m , , , , , , , , , , , , , , , , , , , , , , …\n",
      "$ agewriting                \u001b[3m\u001b[90m<int>\u001b[39m\u001b[23m 22, 22, 22, 22, 23, 23, 23, 24, 24, 26, 26, …\n",
      "$ publisher                 \u001b[3m\u001b[90m<fct>\u001b[39m\u001b[23m Columbian Press, Columbian Press, Columbian …\n",
      "$ sourcetitle               \u001b[3m\u001b[90m<fct>\u001b[39m\u001b[23m \"At the End of the Santa Fe Trail\", \"At the …\n",
      "$ editor                    \u001b[3m\u001b[90m<fct>\u001b[39m\u001b[23m \"\", \"\", \"\", \"\", \"\", \"\", \"\", \"\", \"\", \"\", \"\", …\n",
      "$ sourcemedium              \u001b[3m\u001b[90m<fct>\u001b[39m\u001b[23m Text, Text, Text, Text, Text, Text, Text, Te…\n",
      "$ language                  \u001b[3m\u001b[90m<fct>\u001b[39m\u001b[23m English, English, English, English, English,…\n",
      "$ pubyear                   \u001b[3m\u001b[90m<int>\u001b[39m\u001b[23m 1932, 1932, 1932, 1932, 1932, 1932, 1932, 19…\n",
      "$ pubplace                  \u001b[3m\u001b[90m<fct>\u001b[39m\u001b[23m \"Columbus, OH\", \"Columbus, OH\", \"Columbus, O…\n",
      "$ journal                   \u001b[3m\u001b[90m<fct>\u001b[39m\u001b[23m , , , , , , , , , , , , , , , , , , , , , , …\n",
      "$ jcitation                 \u001b[3m\u001b[90m<fct>\u001b[39m\u001b[23m , , , , , , , , , , , , , , , , , , , , , , …\n",
      "$ spages                    \u001b[3m\u001b[90m<int>\u001b[39m\u001b[23m 347, 347, 347, 347, 347, 347, 347, 347, 347,…\n",
      "$ ecitation                 \u001b[3m\u001b[90m<fct>\u001b[39m\u001b[23m yes, yes, yes, yes, yes, yes, yes, yes, yes,…\n",
      "$ mslocation                \u001b[3m\u001b[90m<fct>\u001b[39m\u001b[23m , , , , , , , , , , , , , , , , , , , , , , …\n",
      "$ sourcetype                \u001b[3m\u001b[90m<fct>\u001b[39m\u001b[23m Book, Book, Book, Book, Book, Book, Book, Bo…\n",
      "$ docauthorname             \u001b[3m\u001b[90m<fct>\u001b[39m\u001b[23m \"Segale, Sister Blandina, 1850-1941\", \"Segal…\n",
      "$ allauthorforms            \u001b[3m\u001b[90m<fct>\u001b[39m\u001b[23m \"Segale, Sister Blandina, 1850-1941; Segale,…\n",
      "$ briefname                 \u001b[3m\u001b[90m<fct>\u001b[39m\u001b[23m \"Sister Blandina Segale\", \"Sister Blandina S…\n",
      "$ authrace                  \u001b[3m\u001b[90m<fct>\u001b[39m\u001b[23m White, White, White, White, White, White, Wh…\n",
      "$ religion                  \u001b[3m\u001b[90m<fct>\u001b[39m\u001b[23m Catholic; Christian, Catholic; Christian, Ca…\n",
      "$ nationality               \u001b[3m\u001b[90m<fct>\u001b[39m\u001b[23m American, American, American, American, Amer…\n",
      "$ birthyear                 \u001b[3m\u001b[90m<int>\u001b[39m\u001b[23m 1850, 1850, 1850, 1850, 1850, 1850, 1850, 18…\n",
      "$ birthmonth                \u001b[3m\u001b[90m<int>\u001b[39m\u001b[23m NA, NA, NA, NA, NA, NA, NA, NA, NA, NA, NA, …\n",
      "$ birthday                  \u001b[3m\u001b[90m<int>\u001b[39m\u001b[23m NA, NA, NA, NA, NA, NA, NA, NA, NA, NA, NA, …\n",
      "$ deathyear                 \u001b[3m\u001b[90m<int>\u001b[39m\u001b[23m 1941, 1941, 1941, 1941, 1941, 1941, 1941, 19…\n",
      "$ deathmonth                \u001b[3m\u001b[90m<int>\u001b[39m\u001b[23m 2, 2, 2, 2, 2, 2, 2, 2, 2, 2, 2, 2, 2, 2, 2,…\n",
      "$ deathday                  \u001b[3m\u001b[90m<int>\u001b[39m\u001b[23m 12, 12, 12, 12, 12, 12, 12, 12, 12, 12, 12, …\n",
      "$ birthplace                \u001b[3m\u001b[90m<fct>\u001b[39m\u001b[23m \"Cicagna, Liguria, Italy; Liguria, Italy; It…\n",
      "$ deathplace                \u001b[3m\u001b[90m<fct>\u001b[39m\u001b[23m \"Cincinnati, OH; Ohio; United States; East N…\n",
      "$ scopyright                \u001b[3m\u001b[90m<fct>\u001b[39m\u001b[23m \"\", \"\", \"\", \"\", \"\", \"\", \"\", \"\", \"\", \"\", \"\", …\n",
      "$ aspcopyright              \u001b[3m\u001b[90m<fct>\u001b[39m\u001b[23m \"Copyright © 2003, Alexander Street Press LL…\n",
      "$ mscopyright               \u001b[3m\u001b[90m<lgl>\u001b[39m\u001b[23m NA, NA, NA, NA, NA, NA, NA, NA, NA, NA, NA, …\n",
      "$ schoolattend              \u001b[3m\u001b[90m<fct>\u001b[39m\u001b[23m \"Not indicated\", \"Not indicated\", \"Not indic…\n",
      "$ educlevel                 \u001b[3m\u001b[90m<fct>\u001b[39m\u001b[23m Not indicated, Not indicated, Not indicated,…\n",
      "$ audience                  \u001b[3m\u001b[90m<fct>\u001b[39m\u001b[23m All, All, All, All, All, All, All, All, All,…\n",
      "$ authorgender              \u001b[3m\u001b[90m<fct>\u001b[39m\u001b[23m F, F, F, F, F, F, F, F, F, F, F, F, F, F, F,…\n",
      "$ native_occupation         \u001b[3m\u001b[90m<fct>\u001b[39m\u001b[23m , , , , , , , , , , , , , , , , , , , , , , …\n",
      "$ north_american_occupation \u001b[3m\u001b[90m<fct>\u001b[39m\u001b[23m Nun; Social worker; Teacher, Nun; Social wor…\n",
      "$ organization_affiliations \u001b[3m\u001b[90m<fct>\u001b[39m\u001b[23m \"Sisters of Charity of Cincinnati, Ohio\", \"S…\n",
      "$ year_immigration          \u001b[3m\u001b[90m<int>\u001b[39m\u001b[23m NA, NA, NA, NA, NA, NA, NA, NA, NA, NA, NA, …\n",
      "$ cultural_heritage         \u001b[3m\u001b[90m<fct>\u001b[39m\u001b[23m Italian; European, Italian; European, Italia…\n",
      "$ point_of_entry            \u001b[3m\u001b[90m<fct>\u001b[39m\u001b[23m \"\", \"\", \"\", \"\", \"\", \"\", \"\", \"\", \"\", \"\", \"\", …\n",
      "$ point_of_departure        \u001b[3m\u001b[90m<fct>\u001b[39m\u001b[23m \"\", \"\", \"\", \"\", \"\", \"\", \"\", \"\", \"\", \"\", \"\", …\n",
      "$ stayed_north_america      \u001b[3m\u001b[90m<fct>\u001b[39m\u001b[23m Yes, Yes, Yes, Yes, Yes, Yes, Yes, Yes, Yes,…\n",
      "$ author_generation         \u001b[3m\u001b[90m<fct>\u001b[39m\u001b[23m First, First, First, First, First, First, Fi…\n",
      "$ image_filename            \u001b[3m\u001b[90m<fct>\u001b[39m\u001b[23m , , , , , , , , , , , , , , , , , , , , , , …\n",
      "$ thumbnail_filename        \u001b[3m\u001b[90m<fct>\u001b[39m\u001b[23m , , , , , , , , , , , , , , , , , , , , , , …\n",
      "$ display_thumbnail         \u001b[3m\u001b[90m<lgl>\u001b[39m\u001b[23m NA, NA, NA, NA, NA, NA, NA, NA, NA, NA, NA, …\n",
      "$ wwritten                  \u001b[3m\u001b[90m<fct>\u001b[39m\u001b[23m \"Ohio; United States; East North Central Sta…\n",
      "$ wsent                     \u001b[3m\u001b[90m<fct>\u001b[39m\u001b[23m \"Not indicated\", \"Not indicated\", \"Not indic…\n",
      "$ marriagestatus            \u001b[3m\u001b[90m<fct>\u001b[39m\u001b[23m Single, Single, Single, Single, Single, Sing…\n",
      "$ maternalstatus            \u001b[3m\u001b[90m<fct>\u001b[39m\u001b[23m Childless, Childless, Childless, Childless, …\n",
      "$ authorLocation            \u001b[3m\u001b[90m<fct>\u001b[39m\u001b[23m USA, USA, USA, USA, USA, USA, USA, USA, USA,…\n"
     ]
    }
   ],
   "source": [
    "# Data\n",
    "letters <- factorize(read.csv(\"20240314a_PhD_NaildohSubset.csv\")) # Put csv into a dataframe called docData\n",
    "\n",
    "# Obserbations and Variables\n",
    "glimpse(letters)"
   ]
  },
  {
   "cell_type": "markdown",
   "id": "b82ce473",
   "metadata": {},
   "source": [
    "# National Origin & Language"
   ]
  },
  {
   "cell_type": "code",
   "execution_count": 40,
   "id": "254cc2b5",
   "metadata": {},
   "outputs": [
    {
     "data": {
      "text/html": [
       "<style>\n",
       ".list-inline {list-style: none; margin:0; padding: 0}\n",
       ".list-inline>li {display: inline-block}\n",
       ".list-inline>li:not(:last-child)::after {content: \"\\00b7\"; padding: 0 .5ex}\n",
       "</style>\n",
       "<ol class=list-inline><li>Italian; European</li><li>Jewish; Russian; European</li><li>Jewish</li><li>Russian; European</li><li>Jewish; Spanish; European</li></ol>\n",
       "\n",
       "<details>\n",
       "\t<summary style=display:list-item;cursor:pointer>\n",
       "\t\t<strong>Levels</strong>:\n",
       "\t</summary>\n",
       "\t<style>\n",
       "\t.list-inline {list-style: none; margin:0; padding: 0}\n",
       "\t.list-inline>li {display: inline-block}\n",
       "\t.list-inline>li:not(:last-child)::after {content: \"\\00b7\"; padding: 0 .5ex}\n",
       "\t</style>\n",
       "\t<ol class=list-inline><li>''</li><li>'Chinese; Asian'</li><li>'Czech; European'</li><li>'Dushane; Xhosa; African'</li><li>'Dutch; European'</li><li>'English; European'</li><li>'European'</li><li>'Finnish; European'</li><li>'French; European'</li><li>'French; European; Prussian'</li><li>'German; European'</li><li>'Irish; European'</li><li>'Irish; European; Scottish'</li><li>'Italian; European'</li><li>'Jewish'</li><li>'Jewish; Lithuanian; European'</li><li>'Jewish; Polish; European'</li><li>'Jewish; Russian; European'</li><li>'Jewish; Spanish; European'</li><li>'Norwegian; European'</li><li>'Polish; European'</li><li>'Russian; European'</li><li>'Russian; European; Polish'</li><li>'Scottish; European'</li><li>'Spanish; European'</li><li>'Welsh; European'</li></ol>\n",
       "</details>"
      ],
      "text/latex": [
       "\\begin{enumerate*}\n",
       "\\item Italian; European\n",
       "\\item Jewish; Russian; European\n",
       "\\item Jewish\n",
       "\\item Russian; European\n",
       "\\item Jewish; Spanish; European\n",
       "\\end{enumerate*}\n",
       "\n",
       "\\emph{Levels}: \\begin{enumerate*}\n",
       "\\item ''\n",
       "\\item 'Chinese; Asian'\n",
       "\\item 'Czech; European'\n",
       "\\item 'Dushane; Xhosa; African'\n",
       "\\item 'Dutch; European'\n",
       "\\item 'English; European'\n",
       "\\item 'European'\n",
       "\\item 'Finnish; European'\n",
       "\\item 'French; European'\n",
       "\\item 'French; European; Prussian'\n",
       "\\item 'German; European'\n",
       "\\item 'Irish; European'\n",
       "\\item 'Irish; European; Scottish'\n",
       "\\item 'Italian; European'\n",
       "\\item 'Jewish'\n",
       "\\item 'Jewish; Lithuanian; European'\n",
       "\\item 'Jewish; Polish; European'\n",
       "\\item 'Jewish; Russian; European'\n",
       "\\item 'Jewish; Spanish; European'\n",
       "\\item 'Norwegian; European'\n",
       "\\item 'Polish; European'\n",
       "\\item 'Russian; European'\n",
       "\\item 'Russian; European; Polish'\n",
       "\\item 'Scottish; European'\n",
       "\\item 'Spanish; European'\n",
       "\\item 'Welsh; European'\n",
       "\\end{enumerate*}\n"
      ],
      "text/markdown": [
       "1. Italian; European\n",
       "2. Jewish; Russian; European\n",
       "3. Jewish\n",
       "4. Russian; European\n",
       "5. Jewish; Spanish; European\n",
       "\n",
       "\n",
       "\n",
       "**Levels**: 1. ''\n",
       "2. 'Chinese; Asian'\n",
       "3. 'Czech; European'\n",
       "4. 'Dushane; Xhosa; African'\n",
       "5. 'Dutch; European'\n",
       "6. 'English; European'\n",
       "7. 'European'\n",
       "8. 'Finnish; European'\n",
       "9. 'French; European'\n",
       "10. 'French; European; Prussian'\n",
       "11. 'German; European'\n",
       "12. 'Irish; European'\n",
       "13. 'Irish; European; Scottish'\n",
       "14. 'Italian; European'\n",
       "15. 'Jewish'\n",
       "16. 'Jewish; Lithuanian; European'\n",
       "17. 'Jewish; Polish; European'\n",
       "18. 'Jewish; Russian; European'\n",
       "19. 'Jewish; Spanish; European'\n",
       "20. 'Norwegian; European'\n",
       "21. 'Polish; European'\n",
       "22. 'Russian; European'\n",
       "23. 'Russian; European; Polish'\n",
       "24. 'Scottish; European'\n",
       "25. 'Spanish; European'\n",
       "26. 'Welsh; European'\n",
       "\n",
       "\n"
      ],
      "text/plain": [
       "[1] Italian; European         Jewish; Russian; European\n",
       "[3] Jewish                    Russian; European        \n",
       "[5] Jewish; Spanish; European\n",
       "26 Levels:  Chinese; Asian Czech; European ... Welsh; European"
      ]
     },
     "metadata": {},
     "output_type": "display_data"
    }
   ],
   "source": [
    "# See some example values in the cultural_heritage variable\n",
    "\n",
    "unique(letters$cultural_heritage)[0:5]"
   ]
  },
  {
   "cell_type": "code",
   "execution_count": 41,
   "id": "bac29c6e",
   "metadata": {},
   "outputs": [
    {
     "data": {
      "text/html": [
       "<style>\n",
       ".dl-inline {width: auto; margin:0; padding: 0}\n",
       ".dl-inline>dt, .dl-inline>dd {float: none; width: auto; display: inline-block}\n",
       ".dl-inline>dt::after {content: \":\\0020\"; padding-right: .5ex}\n",
       ".dl-inline>dt:not(:first-of-type) {padding-left: .5ex}\n",
       "</style><dl class=dl-inline><dt>Chinese</dt><dd>1</dd><dt>Czech</dt><dd>6</dd><dt>Dushane; Xhosa</dt><dd>3</dd><dt>Dutch</dt><dd>54</dd><dt>English</dt><dd>366</dd><dt>European</dt><dd>3</dd><dt>Finnish</dt><dd>12</dd><dt>French</dt><dd>1</dd><dt>French; Prussian</dt><dd>7</dd><dt>German</dt><dd>8</dd><dt>Irish</dt><dd>35</dd><dt>Irish; Scottish</dt><dd>17</dd><dt>Italian</dt><dd>58</dd><dt>Jewish</dt><dd>36</dd><dt>Lithuanian</dt><dd>1</dd><dt>Norwegian</dt><dd>87</dd><dt>Polish</dt><dd>3</dd><dt>Russian</dt><dd>22</dd><dt>Russian; Polish</dt><dd>1</dd><dt>Scottish</dt><dd>69</dd><dt>Spanish</dt><dd>2</dd><dt>Welsh</dt><dd>188</dd><dt>NA's</dt><dd>6</dd></dl>\n"
      ],
      "text/latex": [
       "\\begin{description*}\n",
       "\\item[Chinese] 1\n",
       "\\item[Czech] 6\n",
       "\\item[Dushane; Xhosa] 3\n",
       "\\item[Dutch] 54\n",
       "\\item[English] 366\n",
       "\\item[European] 3\n",
       "\\item[Finnish] 12\n",
       "\\item[French] 1\n",
       "\\item[French; Prussian] 7\n",
       "\\item[German] 8\n",
       "\\item[Irish] 35\n",
       "\\item[Irish; Scottish] 17\n",
       "\\item[Italian] 58\n",
       "\\item[Jewish] 36\n",
       "\\item[Lithuanian] 1\n",
       "\\item[Norwegian] 87\n",
       "\\item[Polish] 3\n",
       "\\item[Russian] 22\n",
       "\\item[Russian; Polish] 1\n",
       "\\item[Scottish] 69\n",
       "\\item[Spanish] 2\n",
       "\\item[Welsh] 188\n",
       "\\item[NA's] 6\n",
       "\\end{description*}\n"
      ],
      "text/markdown": [
       "Chinese\n",
       ":   1Czech\n",
       ":   6Dushane; Xhosa\n",
       ":   3Dutch\n",
       ":   54English\n",
       ":   366European\n",
       ":   3Finnish\n",
       ":   12French\n",
       ":   1French; Prussian\n",
       ":   7German\n",
       ":   8Irish\n",
       ":   35Irish; Scottish\n",
       ":   17Italian\n",
       ":   58Jewish\n",
       ":   36Lithuanian\n",
       ":   1Norwegian\n",
       ":   87Polish\n",
       ":   3Russian\n",
       ":   22Russian; Polish\n",
       ":   1Scottish\n",
       ":   69Spanish\n",
       ":   2Welsh\n",
       ":   188NA's\n",
       ":   6\n",
       "\n"
      ],
      "text/plain": [
       "         Chinese            Czech   Dushane; Xhosa            Dutch \n",
       "               1                6                3               54 \n",
       "         English         European          Finnish           French \n",
       "             366                3               12                1 \n",
       "French; Prussian           German            Irish  Irish; Scottish \n",
       "               7                8               35               17 \n",
       "         Italian           Jewish       Lithuanian        Norwegian \n",
       "              58               36                1               87 \n",
       "          Polish          Russian  Russian; Polish         Scottish \n",
       "               3               22                1               69 \n",
       "         Spanish            Welsh             NA's \n",
       "               2              188                6 "
      ]
     },
     "metadata": {},
     "output_type": "display_data"
    }
   ],
   "source": [
    "# Create a new variable called \"nationalOrigin\" \n",
    "# Populate it with  the values from cultural_heritage\n",
    "letters$nationalOrigin <- as.character(letters$cultural_heritage)\n",
    "\n",
    "# Strip continents\n",
    "letters['nationalOrigin'] <- str_remove(letters$nationalOrigin, \"; European\")\n",
    "letters['nationalOrigin'] <- str_remove(letters$nationalOrigin, \"; African\")\n",
    "letters['nationalOrigin'] <- str_remove(letters$nationalOrigin, \"; Asian\")\n",
    "\n",
    "# Strip cultural reference (because this info appears in religion)\n",
    "letters['nationalOrigin'] <- str_remove(letters$nationalOrigin, \"Jewish; \")\n",
    "\n",
    "# Replace blank cells with NA\n",
    "letters$nationalOrigin[letters$nationalOrigin == \"\"]  <- NA\n",
    "\n",
    "# Return to factor variable\n",
    "letters$nationalOrigin  <- as.factor(letters$nationalOrigin)\n",
    "summary(letters$nationalOrigin)"
   ]
  },
  {
   "cell_type": "code",
   "execution_count": 42,
   "id": "619befa3",
   "metadata": {},
   "outputs": [
    {
     "data": {
      "text/plain": [
       "   Mode   FALSE    TRUE    NA's \n",
       "logical     302     675       9 "
      ]
     },
     "metadata": {},
     "output_type": "display_data"
    },
    {
     "data": {
      "text/html": [
       "0.296511627906977"
      ],
      "text/latex": [
       "0.296511627906977"
      ],
      "text/markdown": [
       "0.296511627906977"
      ],
      "text/plain": [
       "[1] 0.3"
      ]
     },
     "metadata": {},
     "output_type": "display_data"
    }
   ],
   "source": [
    "# Create a new variable called \"britishEmpire_EU\" and fill it with FALSE\n",
    "letters$britishEmpire_EU <- FALSE\n",
    "\n",
    "# Change NAs for nationalOrigin to NA for britishEmpire_EU\n",
    "letters$britishEmpire_EU[is.na(letters$nationalOrigin)] <- NA\n",
    "\n",
    "# Change \"European\" to NA\n",
    "letters$britishEmpire_EU[letters$nationalOrigin==\"European\"] <- NA\n",
    "\n",
    "# Now enter \"TRUE\" wherever the nationalOrigin is \n",
    "# part of the British Empire.\n",
    "\n",
    "letters$britishEmpire_EU[letters$nationalOrigin %in% c(\"English\", \n",
    "                                                       \"Irish; Scottish\", \n",
    "                                                       \"Scottish\", \n",
    "                                                       \"Welsh\", \n",
    "                                                       \"Irish\")]  <- TRUE\n",
    "\n",
    "# See the data\n",
    "summary(letters$britishEmpire_EU)\n",
    "\n",
    "# Get the percentage\n",
    "306/1032"
   ]
  },
  {
   "cell_type": "code",
   "execution_count": 43,
   "id": "8e663186",
   "metadata": {},
   "outputs": [
    {
     "data": {
      "text/html": [
       "<table class=\"dataframe\">\n",
       "<caption>A data.frame: 13 × 1</caption>\n",
       "<thead>\n",
       "\t<tr><th></th><th scope=col>sourcetitle</th></tr>\n",
       "\t<tr><th></th><th scope=col>&lt;fct&gt;</th></tr>\n",
       "</thead>\n",
       "<tbody>\n",
       "\t<tr><th scope=row>1</th><td>At the End of the Santa Fe Trail                                                                                      </td></tr>\n",
       "\t<tr><th scope=row>56</th><td>A Bintel Brief, vol. 1: Sixty Years of Letters from the Lower East Side to the Jewish Daily Forward                   </td></tr>\n",
       "\t<tr><th scope=row>117</th><td>Papers of Diego Delfino, 1912-1929                                                                                    </td></tr>\n",
       "\t<tr><th scope=row>120</th><td>Life Anew for Czech Immigrants: The Letters of Marie and Vavrin Stritecky, 1913-1934                                  </td></tr>\n",
       "\t<tr><th scope=row>126</th><td>From East Prussia to the Golden Gate                                                                                  </td></tr>\n",
       "\t<tr><th scope=row>133</th><td>The Uncorrupted Heart: Journals and Letters of Frederick Julius Gustorf 1800-1845                                     </td></tr>\n",
       "\t<tr><th scope=row>141</th><td>Life and Letters of Joseph Riipa, 1868-1896                                                                           </td></tr>\n",
       "\t<tr><th scope=row>153</th><td>Write Back Soon: Letters From Immigrants in America                                                                   </td></tr>\n",
       "\t<tr><th scope=row>212</th><td>Advice to Emigrants, Who Intend to Settle in the United States of America, 2nd Edition, Greatly Enlarged and Improved </td></tr>\n",
       "\t<tr><th scope=row>213</th><td>Counsel for Emigrants                                                                                                 </td></tr>\n",
       "\t<tr><th scope=row>218</th><td>Hints on Emigration to Upper Canada; Especially Addressed to the Middle and Lower Classes in Great Britain and Ireland</td></tr>\n",
       "\t<tr><th scope=row>219</th><td>America's Immigrants: Adventures in Eyewitness History                                                                </td></tr>\n",
       "\t<tr><th scope=row>227</th><td>Their Own Saga: Letters From the Norwegian Global Migration                                                           </td></tr>\n",
       "</tbody>\n",
       "</table>\n"
      ],
      "text/latex": [
       "A data.frame: 13 × 1\n",
       "\\begin{tabular}{r|l}\n",
       "  & sourcetitle\\\\\n",
       "  & <fct>\\\\\n",
       "\\hline\n",
       "\t1 & At the End of the Santa Fe Trail                                                                                      \\\\\n",
       "\t56 & A Bintel Brief, vol. 1: Sixty Years of Letters from the Lower East Side to the Jewish Daily Forward                   \\\\\n",
       "\t117 & Papers of Diego Delfino, 1912-1929                                                                                    \\\\\n",
       "\t120 & Life Anew for Czech Immigrants: The Letters of Marie and Vavrin Stritecky, 1913-1934                                  \\\\\n",
       "\t126 & From East Prussia to the Golden Gate                                                                                  \\\\\n",
       "\t133 & The Uncorrupted Heart: Journals and Letters of Frederick Julius Gustorf 1800-1845                                     \\\\\n",
       "\t141 & Life and Letters of Joseph Riipa, 1868-1896                                                                           \\\\\n",
       "\t153 & Write Back Soon: Letters From Immigrants in America                                                                   \\\\\n",
       "\t212 & Advice to Emigrants, Who Intend to Settle in the United States of America, 2nd Edition, Greatly Enlarged and Improved \\\\\n",
       "\t213 & Counsel for Emigrants                                                                                                 \\\\\n",
       "\t218 & Hints on Emigration to Upper Canada; Especially Addressed to the Middle and Lower Classes in Great Britain and Ireland\\\\\n",
       "\t219 & America's Immigrants: Adventures in Eyewitness History                                                                \\\\\n",
       "\t227 & Their Own Saga: Letters From the Norwegian Global Migration                                                           \\\\\n",
       "\\end{tabular}\n"
      ],
      "text/markdown": [
       "\n",
       "A data.frame: 13 × 1\n",
       "\n",
       "| <!--/--> | sourcetitle &lt;fct&gt; |\n",
       "|---|---|\n",
       "| 1 | At the End of the Santa Fe Trail                                                                                       |\n",
       "| 56 | A Bintel Brief, vol. 1: Sixty Years of Letters from the Lower East Side to the Jewish Daily Forward                    |\n",
       "| 117 | Papers of Diego Delfino, 1912-1929                                                                                     |\n",
       "| 120 | Life Anew for Czech Immigrants: The Letters of Marie and Vavrin Stritecky, 1913-1934                                   |\n",
       "| 126 | From East Prussia to the Golden Gate                                                                                   |\n",
       "| 133 | The Uncorrupted Heart: Journals and Letters of Frederick Julius Gustorf 1800-1845                                      |\n",
       "| 141 | Life and Letters of Joseph Riipa, 1868-1896                                                                            |\n",
       "| 153 | Write Back Soon: Letters From Immigrants in America                                                                    |\n",
       "| 212 | Advice to Emigrants, Who Intend to Settle in the United States of America, 2nd Edition, Greatly Enlarged and Improved  |\n",
       "| 213 | Counsel for Emigrants                                                                                                  |\n",
       "| 218 | Hints on Emigration to Upper Canada; Especially Addressed to the Middle and Lower Classes in Great Britain and Ireland |\n",
       "| 219 | America's Immigrants: Adventures in Eyewitness History                                                                 |\n",
       "| 227 | Their Own Saga: Letters From the Norwegian Global Migration                                                            |\n",
       "\n"
      ],
      "text/plain": [
       "    sourcetitle                                                                                                           \n",
       "1   At the End of the Santa Fe Trail                                                                                      \n",
       "56  A Bintel Brief, vol. 1: Sixty Years of Letters from the Lower East Side to the Jewish Daily Forward                   \n",
       "117 Papers of Diego Delfino, 1912-1929                                                                                    \n",
       "120 Life Anew for Czech Immigrants: The Letters of Marie and Vavrin Stritecky, 1913-1934                                  \n",
       "126 From East Prussia to the Golden Gate                                                                                  \n",
       "133 The Uncorrupted Heart: Journals and Letters of Frederick Julius Gustorf 1800-1845                                     \n",
       "141 Life and Letters of Joseph Riipa, 1868-1896                                                                           \n",
       "153 Write Back Soon: Letters From Immigrants in America                                                                   \n",
       "212 Advice to Emigrants, Who Intend to Settle in the United States of America, 2nd Edition, Greatly Enlarged and Improved \n",
       "213 Counsel for Emigrants                                                                                                 \n",
       "218 Hints on Emigration to Upper Canada; Especially Addressed to the Middle and Lower Classes in Great Britain and Ireland\n",
       "219 America's Immigrants: Adventures in Eyewitness History                                                                \n",
       "227 Their Own Saga: Letters From the Norwegian Global Migration                                                           "
      ]
     },
     "metadata": {},
     "output_type": "display_data"
    }
   ],
   "source": [
    "# What are the sources of letters written by people \n",
    "# who originated from outside the British Empire\n",
    "letters %>%\n",
    "filter(britishEmpire_EU == FALSE | is.na(britishEmpire_EU)) %>%\n",
    "select(sourcetitle) %>%\n",
    "unique()"
   ]
  },
  {
   "cell_type": "code",
   "execution_count": 44,
   "id": "40a9584e",
   "metadata": {},
   "outputs": [
    {
     "data": {
      "text/html": [
       "<table class=\"dataframe\">\n",
       "<caption>A data.frame: 10 × 5</caption>\n",
       "<thead>\n",
       "\t<tr><th scope=col>nationalOrigin</th><th scope=col>britishEmpire_EU</th><th scope=col>translated</th><th scope=col>docauthorname</th><th scope=col>docid</th></tr>\n",
       "\t<tr><th scope=col>&lt;fct&gt;</th><th scope=col>&lt;lgl&gt;</th><th scope=col>&lt;lgl&gt;</th><th scope=col>&lt;fct&gt;</th><th scope=col>&lt;fct&gt;</th></tr>\n",
       "</thead>\n",
       "<tbody>\n",
       "\t<tr><td>English  </td><td> TRUE</td><td>FALSE</td><td>Thorpe, John, fl. 1828                      </td><td>S9974-D008</td></tr>\n",
       "\t<tr><td>English  </td><td> TRUE</td><td>FALSE</td><td>Downe, John, fl. 1830                       </td><td>S9974-D010</td></tr>\n",
       "\t<tr><td>Norwegian</td><td>FALSE</td><td>   NA</td><td>Anonymous Norwegian Immigrant, fl. 1845     </td><td>S9974-D017</td></tr>\n",
       "\t<tr><td>Norwegian</td><td>FALSE</td><td>   NA</td><td>Endresen, Guri, ?-1881                      </td><td>S9974-D027</td></tr>\n",
       "\t<tr><td>Chinese  </td><td>FALSE</td><td>   NA</td><td>Ling, Kwang Chang, fl. 1878                 </td><td>S9974-D029</td></tr>\n",
       "\t<tr><td>Russian  </td><td>FALSE</td><td>   NA</td><td>Anonymous Russian Jewish Mother, fl. 1906   </td><td>S9974-D038</td></tr>\n",
       "\t<tr><td>Jewish   </td><td>FALSE</td><td>   NA</td><td>Kislikoff, Raphael, fl. 1906                </td><td>S9974-D039</td></tr>\n",
       "\t<tr><td>Jewish   </td><td>FALSE</td><td>   NA</td><td>Anonymous Jewish Male Seeking Help, fl. 1906</td><td>S9974-D040</td></tr>\n",
       "\t<tr><td>Russian  </td><td>FALSE</td><td>   NA</td><td>Mednikoff, Youah, fl. 1906                  </td><td>S9974-D041</td></tr>\n",
       "\t<tr><td>Polish   </td><td>FALSE</td><td>   NA</td><td>Rembié'nska, Alesksandra, fl. 1911          </td><td>S9974-D042</td></tr>\n",
       "</tbody>\n",
       "</table>\n"
      ],
      "text/latex": [
       "A data.frame: 10 × 5\n",
       "\\begin{tabular}{lllll}\n",
       " nationalOrigin & britishEmpire\\_EU & translated & docauthorname & docid\\\\\n",
       " <fct> & <lgl> & <lgl> & <fct> & <fct>\\\\\n",
       "\\hline\n",
       "\t English   &  TRUE & FALSE & Thorpe, John, fl. 1828                       & S9974-D008\\\\\n",
       "\t English   &  TRUE & FALSE & Downe, John, fl. 1830                        & S9974-D010\\\\\n",
       "\t Norwegian & FALSE &    NA & Anonymous Norwegian Immigrant, fl. 1845      & S9974-D017\\\\\n",
       "\t Norwegian & FALSE &    NA & Endresen, Guri, ?-1881                       & S9974-D027\\\\\n",
       "\t Chinese   & FALSE &    NA & Ling, Kwang Chang, fl. 1878                  & S9974-D029\\\\\n",
       "\t Russian   & FALSE &    NA & Anonymous Russian Jewish Mother, fl. 1906    & S9974-D038\\\\\n",
       "\t Jewish    & FALSE &    NA & Kislikoff, Raphael, fl. 1906                 & S9974-D039\\\\\n",
       "\t Jewish    & FALSE &    NA & Anonymous Jewish Male Seeking Help, fl. 1906 & S9974-D040\\\\\n",
       "\t Russian   & FALSE &    NA & Mednikoff, Youah, fl. 1906                   & S9974-D041\\\\\n",
       "\t Polish    & FALSE &    NA & Rembié'nska, Alesksandra, fl. 1911           & S9974-D042\\\\\n",
       "\\end{tabular}\n"
      ],
      "text/markdown": [
       "\n",
       "A data.frame: 10 × 5\n",
       "\n",
       "| nationalOrigin &lt;fct&gt; | britishEmpire_EU &lt;lgl&gt; | translated &lt;lgl&gt; | docauthorname &lt;fct&gt; | docid &lt;fct&gt; |\n",
       "|---|---|---|---|---|\n",
       "| English   |  TRUE | FALSE | Thorpe, John, fl. 1828                       | S9974-D008 |\n",
       "| English   |  TRUE | FALSE | Downe, John, fl. 1830                        | S9974-D010 |\n",
       "| Norwegian | FALSE |    NA | Anonymous Norwegian Immigrant, fl. 1845      | S9974-D017 |\n",
       "| Norwegian | FALSE |    NA | Endresen, Guri, ?-1881                       | S9974-D027 |\n",
       "| Chinese   | FALSE |    NA | Ling, Kwang Chang, fl. 1878                  | S9974-D029 |\n",
       "| Russian   | FALSE |    NA | Anonymous Russian Jewish Mother, fl. 1906    | S9974-D038 |\n",
       "| Jewish    | FALSE |    NA | Kislikoff, Raphael, fl. 1906                 | S9974-D039 |\n",
       "| Jewish    | FALSE |    NA | Anonymous Jewish Male Seeking Help, fl. 1906 | S9974-D040 |\n",
       "| Russian   | FALSE |    NA | Mednikoff, Youah, fl. 1906                   | S9974-D041 |\n",
       "| Polish    | FALSE |    NA | Rembié'nska, Alesksandra, fl. 1911           | S9974-D042 |\n",
       "\n"
      ],
      "text/plain": [
       "   nationalOrigin britishEmpire_EU translated\n",
       "1  English         TRUE            FALSE     \n",
       "2  English         TRUE            FALSE     \n",
       "3  Norwegian      FALSE               NA     \n",
       "4  Norwegian      FALSE               NA     \n",
       "5  Chinese        FALSE               NA     \n",
       "6  Russian        FALSE               NA     \n",
       "7  Jewish         FALSE               NA     \n",
       "8  Jewish         FALSE               NA     \n",
       "9  Russian        FALSE               NA     \n",
       "10 Polish         FALSE               NA     \n",
       "   docauthorname                                docid     \n",
       "1  Thorpe, John, fl. 1828                       S9974-D008\n",
       "2  Downe, John, fl. 1830                        S9974-D010\n",
       "3  Anonymous Norwegian Immigrant, fl. 1845      S9974-D017\n",
       "4  Endresen, Guri, ?-1881                       S9974-D027\n",
       "5  Ling, Kwang Chang, fl. 1878                  S9974-D029\n",
       "6  Anonymous Russian Jewish Mother, fl. 1906    S9974-D038\n",
       "7  Kislikoff, Raphael, fl. 1906                 S9974-D039\n",
       "8  Anonymous Jewish Male Seeking Help, fl. 1906 S9974-D040\n",
       "9  Mednikoff, Youah, fl. 1906                   S9974-D041\n",
       "10 Rembié'nska, Alesksandra, fl. 1911           S9974-D042"
      ]
     },
     "metadata": {},
     "output_type": "display_data"
    }
   ],
   "source": [
    "#Create variable for translated and fill with NAs\n",
    "letters$translated <- NA\n",
    "\n",
    "# Wherever writer originated from within British Empire, enter \"False\" for translation\n",
    "letters$translated[letters$britishEmpire_EU == TRUE] <- FALSE\n",
    "\n",
    "# Now go source by source by source and recode as necessary\n",
    "\n",
    "# Start with sources that were not translated\n",
    "letters$translated[letters$britishEmpire_EU == FALSE & \n",
    "                   letters$sourcetitle==\"At the End of the Santa Fe Trail\"] <- FALSE\n",
    "letters$translated[letters$britishEmpire_EU == FALSE & \n",
    "                   letters$sourcetitle==\"Advice to Emigrants, Who Intend to Settle in the United States of America, 2nd Edition, Greatly Enlarged and Improved\"] <- FALSE\n",
    "letters$translated[letters$britishEmpire_EU == FALSE & \n",
    "                   letters$sourcetitle==\"Counsel for Emigrants\"] <- FALSE\n",
    "letters$translated[letters$britishEmpire_EU == FALSE & \n",
    "                   letters$sourcetitle==\"Hints on Emigration to Upper Canada; Especially Addressed to the Middle and Lower Classes in Great Britain and Ireland\"] <- FALSE\n",
    "\n",
    "# Now sources that were translated\n",
    "letters$translated[letters$britishEmpire_EU == FALSE & \n",
    "                   letters$sourcetitle==\"A Bintel Brief, vol. 1: Sixty Years of Letters from the Lower East Side to the Jewish Daily Forward\"] <- TRUE\n",
    "letters$translated[letters$britishEmpire_EU == FALSE & \n",
    "                   letters$sourcetitle==\"Papers of Diego Delfino, 1912-1929\"] <- TRUE\n",
    "letters$translated[letters$britishEmpire_EU == FALSE & \n",
    "                   letters$sourcetitle==\"Life Anew for Czech Immigrants: The Letters of Marie and Vavrin Stritecky, 1913-1934\"] <- TRUE\n",
    "letters$translated[letters$britishEmpire_EU == FALSE & \n",
    "                   letters$sourcetitle==\"From East Prussia to the Golden Gate\"] <- TRUE\n",
    "letters$translated[letters$britishEmpire_EU == FALSE & \n",
    "                   letters$sourcetitle==\"The Uncorrupted Heart: Journals and Letters of Frederick Julius Gustorf 1800-1845\"] <- TRUE\n",
    "letters$translated[letters$britishEmpire_EU == FALSE & \n",
    "                   letters$sourcetitle==\"Life and Letters of Joseph Riipa, 1868-1896\"] <- TRUE\n",
    "letters$translated[letters$britishEmpire_EU == FALSE & \n",
    "                   letters$sourcetitle==\"Write Back Soon: Letters From Immigrants in America\"] <- TRUE\n",
    "# https://archives.calvin.edu/?p=collections/findingaid&id=79&q=&rootcontentid=13858\n",
    "letters$translated[letters$britishEmpire_EU == FALSE & \n",
    "                   letters$sourcetitle==\"Their Own Saga: Letters From the Norwegian Global Migration\"] <- TRUE\n",
    "\n",
    "#This one requires closer examination\n",
    "letters %>%\n",
    "filter(sourcetitle == \"America's Immigrants: Adventures in Eyewitness History\") %>%\n",
    "select(nationalOrigin, britishEmpire_EU, translated, docauthorname, docid)"
   ]
  },
  {
   "cell_type": "code",
   "execution_count": 45,
   "id": "ff2357c7",
   "metadata": {},
   "outputs": [
    {
     "data": {
      "text/html": [
       "<table class=\"dataframe\">\n",
       "<caption>A data.frame: 10 × 5</caption>\n",
       "<thead>\n",
       "\t<tr><th scope=col>nationalOrigin</th><th scope=col>britishEmpire_EU</th><th scope=col>translated</th><th scope=col>docauthorname</th><th scope=col>docid</th></tr>\n",
       "\t<tr><th scope=col>&lt;fct&gt;</th><th scope=col>&lt;lgl&gt;</th><th scope=col>&lt;lgl&gt;</th><th scope=col>&lt;fct&gt;</th><th scope=col>&lt;fct&gt;</th></tr>\n",
       "</thead>\n",
       "<tbody>\n",
       "\t<tr><td>English  </td><td> TRUE</td><td>FALSE</td><td>Thorpe, John, fl. 1828                      </td><td>S9974-D008</td></tr>\n",
       "\t<tr><td>English  </td><td> TRUE</td><td>FALSE</td><td>Downe, John, fl. 1830                       </td><td>S9974-D010</td></tr>\n",
       "\t<tr><td>Norwegian</td><td>FALSE</td><td> TRUE</td><td>Anonymous Norwegian Immigrant, fl. 1845     </td><td>S9974-D017</td></tr>\n",
       "\t<tr><td>Norwegian</td><td>FALSE</td><td> TRUE</td><td>Endresen, Guri, ?-1881                      </td><td>S9974-D027</td></tr>\n",
       "\t<tr><td>Chinese  </td><td>FALSE</td><td>FALSE</td><td>Ling, Kwang Chang, fl. 1878                 </td><td>S9974-D029</td></tr>\n",
       "\t<tr><td>Russian  </td><td>FALSE</td><td> TRUE</td><td>Anonymous Russian Jewish Mother, fl. 1906   </td><td>S9974-D038</td></tr>\n",
       "\t<tr><td>Jewish   </td><td>FALSE</td><td> TRUE</td><td>Kislikoff, Raphael, fl. 1906                </td><td>S9974-D039</td></tr>\n",
       "\t<tr><td>Jewish   </td><td>FALSE</td><td> TRUE</td><td>Anonymous Jewish Male Seeking Help, fl. 1906</td><td>S9974-D040</td></tr>\n",
       "\t<tr><td>Russian  </td><td>FALSE</td><td> TRUE</td><td>Mednikoff, Youah, fl. 1906                  </td><td>S9974-D041</td></tr>\n",
       "\t<tr><td>Polish   </td><td>FALSE</td><td> TRUE</td><td>Rembié'nska, Alesksandra, fl. 1911          </td><td>S9974-D042</td></tr>\n",
       "</tbody>\n",
       "</table>\n"
      ],
      "text/latex": [
       "A data.frame: 10 × 5\n",
       "\\begin{tabular}{lllll}\n",
       " nationalOrigin & britishEmpire\\_EU & translated & docauthorname & docid\\\\\n",
       " <fct> & <lgl> & <lgl> & <fct> & <fct>\\\\\n",
       "\\hline\n",
       "\t English   &  TRUE & FALSE & Thorpe, John, fl. 1828                       & S9974-D008\\\\\n",
       "\t English   &  TRUE & FALSE & Downe, John, fl. 1830                        & S9974-D010\\\\\n",
       "\t Norwegian & FALSE &  TRUE & Anonymous Norwegian Immigrant, fl. 1845      & S9974-D017\\\\\n",
       "\t Norwegian & FALSE &  TRUE & Endresen, Guri, ?-1881                       & S9974-D027\\\\\n",
       "\t Chinese   & FALSE & FALSE & Ling, Kwang Chang, fl. 1878                  & S9974-D029\\\\\n",
       "\t Russian   & FALSE &  TRUE & Anonymous Russian Jewish Mother, fl. 1906    & S9974-D038\\\\\n",
       "\t Jewish    & FALSE &  TRUE & Kislikoff, Raphael, fl. 1906                 & S9974-D039\\\\\n",
       "\t Jewish    & FALSE &  TRUE & Anonymous Jewish Male Seeking Help, fl. 1906 & S9974-D040\\\\\n",
       "\t Russian   & FALSE &  TRUE & Mednikoff, Youah, fl. 1906                   & S9974-D041\\\\\n",
       "\t Polish    & FALSE &  TRUE & Rembié'nska, Alesksandra, fl. 1911           & S9974-D042\\\\\n",
       "\\end{tabular}\n"
      ],
      "text/markdown": [
       "\n",
       "A data.frame: 10 × 5\n",
       "\n",
       "| nationalOrigin &lt;fct&gt; | britishEmpire_EU &lt;lgl&gt; | translated &lt;lgl&gt; | docauthorname &lt;fct&gt; | docid &lt;fct&gt; |\n",
       "|---|---|---|---|---|\n",
       "| English   |  TRUE | FALSE | Thorpe, John, fl. 1828                       | S9974-D008 |\n",
       "| English   |  TRUE | FALSE | Downe, John, fl. 1830                        | S9974-D010 |\n",
       "| Norwegian | FALSE |  TRUE | Anonymous Norwegian Immigrant, fl. 1845      | S9974-D017 |\n",
       "| Norwegian | FALSE |  TRUE | Endresen, Guri, ?-1881                       | S9974-D027 |\n",
       "| Chinese   | FALSE | FALSE | Ling, Kwang Chang, fl. 1878                  | S9974-D029 |\n",
       "| Russian   | FALSE |  TRUE | Anonymous Russian Jewish Mother, fl. 1906    | S9974-D038 |\n",
       "| Jewish    | FALSE |  TRUE | Kislikoff, Raphael, fl. 1906                 | S9974-D039 |\n",
       "| Jewish    | FALSE |  TRUE | Anonymous Jewish Male Seeking Help, fl. 1906 | S9974-D040 |\n",
       "| Russian   | FALSE |  TRUE | Mednikoff, Youah, fl. 1906                   | S9974-D041 |\n",
       "| Polish    | FALSE |  TRUE | Rembié'nska, Alesksandra, fl. 1911           | S9974-D042 |\n",
       "\n"
      ],
      "text/plain": [
       "   nationalOrigin britishEmpire_EU translated\n",
       "1  English         TRUE            FALSE     \n",
       "2  English         TRUE            FALSE     \n",
       "3  Norwegian      FALSE             TRUE     \n",
       "4  Norwegian      FALSE             TRUE     \n",
       "5  Chinese        FALSE            FALSE     \n",
       "6  Russian        FALSE             TRUE     \n",
       "7  Jewish         FALSE             TRUE     \n",
       "8  Jewish         FALSE             TRUE     \n",
       "9  Russian        FALSE             TRUE     \n",
       "10 Polish         FALSE             TRUE     \n",
       "   docauthorname                                docid     \n",
       "1  Thorpe, John, fl. 1828                       S9974-D008\n",
       "2  Downe, John, fl. 1830                        S9974-D010\n",
       "3  Anonymous Norwegian Immigrant, fl. 1845      S9974-D017\n",
       "4  Endresen, Guri, ?-1881                       S9974-D027\n",
       "5  Ling, Kwang Chang, fl. 1878                  S9974-D029\n",
       "6  Anonymous Russian Jewish Mother, fl. 1906    S9974-D038\n",
       "7  Kislikoff, Raphael, fl. 1906                 S9974-D039\n",
       "8  Anonymous Jewish Male Seeking Help, fl. 1906 S9974-D040\n",
       "9  Mednikoff, Youah, fl. 1906                   S9974-D041\n",
       "10 Rembié'nska, Alesksandra, fl. 1911           S9974-D042"
      ]
     },
     "metadata": {},
     "output_type": "display_data"
    }
   ],
   "source": [
    "# These are all taken from other collections that have been translated. \n",
    "letters$translated[letters$docid==\"S9974-D017\"] <- TRUE\n",
    "letters$translated[letters$docid==\"S9974-D027\"] <- TRUE\n",
    "letters$translated[letters$docid==\"S9974-D038\"] <- TRUE\n",
    "letters$translated[letters$docid==\"S9974-D039\"] <- TRUE\n",
    "letters$translated[letters$docid==\"S9974-D040\"] <- TRUE\n",
    "letters$translated[letters$docid==\"S9974-D041\"] <- TRUE\n",
    "letters$translated[letters$docid==\"S9974-D042\"] <- TRUE\n",
    "\n",
    "# This was a letter to the editor of an English periodical\n",
    "letters$translated[letters$docid==\"S9974-D029\"] <- FALSE\n",
    "letters$publicLetter[letters$docid==\"S9974-D029\"] <- NA\n",
    "letters$publicLetter[letters$docid==\"S9974-D029\"] <- TRUE\n",
    "\n",
    "# This author is from either Great Britain or Ireland \n",
    "# and hence his letter is not translated.\n",
    "letters$translated[letters$docid==\"S9974-D008\"]  <- FALSE\n",
    "letters$translated[letters$docid==\"S9974-D010\"]  <- FALSE\n",
    "\n",
    "# Now check the recoding\n",
    "letters %>%\n",
    "filter(sourcetitle == \"America's Immigrants: Adventures in Eyewitness History\") %>%\n",
    "select(nationalOrigin, britishEmpire_EU, translated, docauthorname, docid)"
   ]
  },
  {
   "cell_type": "code",
   "execution_count": 46,
   "id": "642ce72e",
   "metadata": {},
   "outputs": [
    {
     "data": {
      "text/plain": [
       "   nationalOrigin britishEmpire_EU translated     \n",
       " English  :366    Mode :logical    Mode :logical  \n",
       " Welsh    :188    FALSE:302        FALSE:731      \n",
       " Norwegian: 87    TRUE :675        TRUE :246      \n",
       " Scottish : 69    NA's :9          NA's :9        \n",
       " Italian  : 58                                    \n",
       " (Other)  :212                                    \n",
       " NA's     :  6                                    "
      ]
     },
     "metadata": {},
     "output_type": "display_data"
    }
   ],
   "source": [
    "vars <- c(\"nationalOrigin\", \"britishEmpire_EU\", \"translated\")\n",
    "summary(letters[vars])"
   ]
  },
  {
   "cell_type": "code",
   "execution_count": 47,
   "id": "15d574fa",
   "metadata": {},
   "outputs": [
    {
     "data": {
      "text/html": [
       "<table class=\"dataframe\">\n",
       "<caption>A data.frame: 9 × 5</caption>\n",
       "<thead>\n",
       "\t<tr><th scope=col>nationalOrigin</th><th scope=col>britishEmpire_EU</th><th scope=col>docauthorname</th><th scope=col>sourcetitle</th><th scope=col>docid</th></tr>\n",
       "\t<tr><th scope=col>&lt;fct&gt;</th><th scope=col>&lt;lgl&gt;</th><th scope=col>&lt;fct&gt;</th><th scope=col>&lt;fct&gt;</th><th scope=col>&lt;fct&gt;</th></tr>\n",
       "</thead>\n",
       "<tbody>\n",
       "\t<tr><td>NA      </td><td>NA</td><td>Anonymous Jewish Male, V., fl. 1906                 </td><td>A Bintel Brief, vol. 1: Sixty Years of Letters from the Lower East Side to the Jewish Daily Forward                   </td><td>S11067-D016</td></tr>\n",
       "\t<tr><td>NA      </td><td>NA</td><td>Steffens, Nicholas M., fl. 1891                     </td><td>Write Back Soon: Letters From Immigrants in America                                                                   </td><td>S9831-D081 </td></tr>\n",
       "\t<tr><td>NA      </td><td>NA</td><td>Jennings, Joseph, fl. 1931                          </td><td>Advice to Emigrants, Who Intend to Settle in the United States of America, 2nd Edition, Greatly Enlarged and Improved </td><td>S9845-D004 </td></tr>\n",
       "\t<tr><td>NA      </td><td>NA</td><td>Buchanan, J. C., fl. 1833                           </td><td>Counsel for Emigrants                                                                                                 </td><td>S9865-D009 </td></tr>\n",
       "\t<tr><td>NA      </td><td>NA</td><td>Buchanan, Alexander Carlisle, 1786-1840             </td><td>Counsel for Emigrants                                                                                                 </td><td>S9865-D010 </td></tr>\n",
       "\t<tr><td>European</td><td>NA</td><td>Anonymous Government Agent in Upper Canada, fl. 1833</td><td>Counsel for Emigrants                                                                                                 </td><td>S9865-D020 </td></tr>\n",
       "\t<tr><td>European</td><td>NA</td><td>Aylmer, Matthew, Lord, 1775-1850                    </td><td>Counsel for Emigrants                                                                                                 </td><td>S9865-D072 </td></tr>\n",
       "\t<tr><td>European</td><td>NA</td><td>Anonymous Government Agent in Upper Canada, fl. 1833</td><td>Counsel for Emigrants                                                                                                 </td><td>S9865-D073 </td></tr>\n",
       "\t<tr><td>NA      </td><td>NA</td><td>Prongley, Esau, fl. 1830                            </td><td>Hints on Emigration to Upper Canada; Especially Addressed to the Middle and Lower Classes in Great Britain and Ireland</td><td>S9873-D019 </td></tr>\n",
       "</tbody>\n",
       "</table>\n"
      ],
      "text/latex": [
       "A data.frame: 9 × 5\n",
       "\\begin{tabular}{lllll}\n",
       " nationalOrigin & britishEmpire\\_EU & docauthorname & sourcetitle & docid\\\\\n",
       " <fct> & <lgl> & <fct> & <fct> & <fct>\\\\\n",
       "\\hline\n",
       "\t NA       & NA & Anonymous Jewish Male, V., fl. 1906                  & A Bintel Brief, vol. 1: Sixty Years of Letters from the Lower East Side to the Jewish Daily Forward                    & S11067-D016\\\\\n",
       "\t NA       & NA & Steffens, Nicholas M., fl. 1891                      & Write Back Soon: Letters From Immigrants in America                                                                    & S9831-D081 \\\\\n",
       "\t NA       & NA & Jennings, Joseph, fl. 1931                           & Advice to Emigrants, Who Intend to Settle in the United States of America, 2nd Edition, Greatly Enlarged and Improved  & S9845-D004 \\\\\n",
       "\t NA       & NA & Buchanan, J. C., fl. 1833                            & Counsel for Emigrants                                                                                                  & S9865-D009 \\\\\n",
       "\t NA       & NA & Buchanan, Alexander Carlisle, 1786-1840              & Counsel for Emigrants                                                                                                  & S9865-D010 \\\\\n",
       "\t European & NA & Anonymous Government Agent in Upper Canada, fl. 1833 & Counsel for Emigrants                                                                                                  & S9865-D020 \\\\\n",
       "\t European & NA & Aylmer, Matthew, Lord, 1775-1850                     & Counsel for Emigrants                                                                                                  & S9865-D072 \\\\\n",
       "\t European & NA & Anonymous Government Agent in Upper Canada, fl. 1833 & Counsel for Emigrants                                                                                                  & S9865-D073 \\\\\n",
       "\t NA       & NA & Prongley, Esau, fl. 1830                             & Hints on Emigration to Upper Canada; Especially Addressed to the Middle and Lower Classes in Great Britain and Ireland & S9873-D019 \\\\\n",
       "\\end{tabular}\n"
      ],
      "text/markdown": [
       "\n",
       "A data.frame: 9 × 5\n",
       "\n",
       "| nationalOrigin &lt;fct&gt; | britishEmpire_EU &lt;lgl&gt; | docauthorname &lt;fct&gt; | sourcetitle &lt;fct&gt; | docid &lt;fct&gt; |\n",
       "|---|---|---|---|---|\n",
       "| NA       | NA | Anonymous Jewish Male, V., fl. 1906                  | A Bintel Brief, vol. 1: Sixty Years of Letters from the Lower East Side to the Jewish Daily Forward                    | S11067-D016 |\n",
       "| NA       | NA | Steffens, Nicholas M., fl. 1891                      | Write Back Soon: Letters From Immigrants in America                                                                    | S9831-D081  |\n",
       "| NA       | NA | Jennings, Joseph, fl. 1931                           | Advice to Emigrants, Who Intend to Settle in the United States of America, 2nd Edition, Greatly Enlarged and Improved  | S9845-D004  |\n",
       "| NA       | NA | Buchanan, J. C., fl. 1833                            | Counsel for Emigrants                                                                                                  | S9865-D009  |\n",
       "| NA       | NA | Buchanan, Alexander Carlisle, 1786-1840              | Counsel for Emigrants                                                                                                  | S9865-D010  |\n",
       "| European | NA | Anonymous Government Agent in Upper Canada, fl. 1833 | Counsel for Emigrants                                                                                                  | S9865-D020  |\n",
       "| European | NA | Aylmer, Matthew, Lord, 1775-1850                     | Counsel for Emigrants                                                                                                  | S9865-D072  |\n",
       "| European | NA | Anonymous Government Agent in Upper Canada, fl. 1833 | Counsel for Emigrants                                                                                                  | S9865-D073  |\n",
       "| NA       | NA | Prongley, Esau, fl. 1830                             | Hints on Emigration to Upper Canada; Especially Addressed to the Middle and Lower Classes in Great Britain and Ireland | S9873-D019  |\n",
       "\n"
      ],
      "text/plain": [
       "  nationalOrigin britishEmpire_EU\n",
       "1 NA             NA              \n",
       "2 NA             NA              \n",
       "3 NA             NA              \n",
       "4 NA             NA              \n",
       "5 NA             NA              \n",
       "6 European       NA              \n",
       "7 European       NA              \n",
       "8 European       NA              \n",
       "9 NA             NA              \n",
       "  docauthorname                                       \n",
       "1 Anonymous Jewish Male, V., fl. 1906                 \n",
       "2 Steffens, Nicholas M., fl. 1891                     \n",
       "3 Jennings, Joseph, fl. 1931                          \n",
       "4 Buchanan, J. C., fl. 1833                           \n",
       "5 Buchanan, Alexander Carlisle, 1786-1840             \n",
       "6 Anonymous Government Agent in Upper Canada, fl. 1833\n",
       "7 Aylmer, Matthew, Lord, 1775-1850                    \n",
       "8 Anonymous Government Agent in Upper Canada, fl. 1833\n",
       "9 Prongley, Esau, fl. 1830                            \n",
       "  sourcetitle                                                                                                           \n",
       "1 A Bintel Brief, vol. 1: Sixty Years of Letters from the Lower East Side to the Jewish Daily Forward                   \n",
       "2 Write Back Soon: Letters From Immigrants in America                                                                   \n",
       "3 Advice to Emigrants, Who Intend to Settle in the United States of America, 2nd Edition, Greatly Enlarged and Improved \n",
       "4 Counsel for Emigrants                                                                                                 \n",
       "5 Counsel for Emigrants                                                                                                 \n",
       "6 Counsel for Emigrants                                                                                                 \n",
       "7 Counsel for Emigrants                                                                                                 \n",
       "8 Counsel for Emigrants                                                                                                 \n",
       "9 Hints on Emigration to Upper Canada; Especially Addressed to the Middle and Lower Classes in Great Britain and Ireland\n",
       "  docid      \n",
       "1 S11067-D016\n",
       "2 S9831-D081 \n",
       "3 S9845-D004 \n",
       "4 S9865-D009 \n",
       "5 S9865-D010 \n",
       "6 S9865-D020 \n",
       "7 S9865-D072 \n",
       "8 S9865-D073 \n",
       "9 S9873-D019 "
      ]
     },
     "metadata": {},
     "output_type": "display_data"
    }
   ],
   "source": [
    "# What are the NAs?\n",
    "letters %>%\n",
    "filter(is.na(translated) | is.na(britishEmpire_EU) | is.na(translated)) %>%\n",
    "select(nationalOrigin, britishEmpire_EU, docauthorname, sourcetitle, docid)"
   ]
  },
  {
   "cell_type": "code",
   "execution_count": 48,
   "id": "6b13a4f2",
   "metadata": {},
   "outputs": [],
   "source": [
    "# Recoding the NAs for translated variable\n",
    "letters$translated[letters$docid==\"S11067-D016\"]  <- TRUE #Yiddish publication\n",
    "letters$translated[letters$docid==\"S9831-D081\"]  <- TRUE #Probably in Dutch\n",
    "letters$translated[letters$docid==\"S9845-D004\"]  <- FALSE #From an English oriented book\n",
    "letters$translated[letters$docid==\"S9865-D009\"]  <- FALSE #Irish born British agent\n",
    "letters$translated[letters$docid==\"S9865-D010\"]  <- FALSE #Irish born British agent\n",
    "letters$translated[letters$docid==\"S9865-D020\"]  <- FALSE #British official\n",
    "letters$translated[letters$docid==\"S9865-D072\"]  <- FALSE #British official\n",
    "letters$translated[letters$docid==\"S9865-D073\"]  <- FALSE #British official\n",
    "letters$translated[letters$docid==\"S9873-D019\"]  <- FALSE #From an English oriented book\n",
    "\n",
    "letters$nationalOrigin[letters$docid==\"S9865-D072\"]  <- \"English\" # http://www.biographi.ca/en/bio/whitworth_aylmer_matthew_7E.html\n",
    "letters$britishEmpire_EU[letters$docid==\"S9865-D072\"]  <- TRUE \n",
    "\n",
    "letters$nationalOrigin[letters$docid==\"S9865-D009\"]  <- \"Irish; Scottish\" # http://www.ccchs.ca/Newsletters/CCCHS%20Newsletter--Winter-Spring%202019%20.pdf\n",
    "letters$britishEmpire_EU[letters$docid==\"S9865-D009\"]  <- TRUE \n",
    "\n",
    "letters$nationalOrigin[letters$docid==\"S9865-D010\"]  <- \"Irish; Scottish\" # http://biographi.ca/en/bio/buchanan_alexander_carlisle_1786_1840_7E.html\n",
    "letters$britishEmpire_EU[letters$docid==\"S9865-D010\"]  <- TRUE \n",
    "\n",
    "letters$nationalOrigin[letters$docid==\"S9873-D019\"]  <- \"English\" # https://www.findagrave.com/memorial/133281403/esau-prangley\n",
    "letters$britishEmpire_EU[letters$docid==\"S9873-D019\"]  <- TRUE\n",
    "\n",
    "letters$nationalOrigin[letters$docid==\"S9831-D081\"]  <- \"German\" # https://en.wikisource.org/wiki/Author:Nicholas_Martin_Steffens\n",
    "letters$britishEmpire_EU[letters$docid==\"S9831-D081\"]  <- FALSE"
   ]
  },
  {
   "cell_type": "markdown",
   "id": "dc780a3b",
   "metadata": {},
   "source": [
    "The national origins of the individuals below cannot be resolved so will remain as missing, to be predicted using multiple imputation at a later stage."
   ]
  },
  {
   "cell_type": "code",
   "execution_count": 49,
   "id": "c9c64e67",
   "metadata": {},
   "outputs": [
    {
     "data": {
      "text/html": [
       "<table class=\"dataframe\">\n",
       "<caption>A data.frame: 4 × 5</caption>\n",
       "<thead>\n",
       "\t<tr><th scope=col>nationalOrigin</th><th scope=col>britishEmpire_EU</th><th scope=col>docauthorname</th><th scope=col>sourcetitle</th><th scope=col>docid</th></tr>\n",
       "\t<tr><th scope=col>&lt;fct&gt;</th><th scope=col>&lt;lgl&gt;</th><th scope=col>&lt;fct&gt;</th><th scope=col>&lt;fct&gt;</th><th scope=col>&lt;fct&gt;</th></tr>\n",
       "</thead>\n",
       "<tbody>\n",
       "\t<tr><td>NA      </td><td>NA</td><td>Anonymous Jewish Male, V., fl. 1906                 </td><td>A Bintel Brief, vol. 1: Sixty Years of Letters from the Lower East Side to the Jewish Daily Forward                  </td><td>S11067-D016</td></tr>\n",
       "\t<tr><td>NA      </td><td>NA</td><td>Jennings, Joseph, fl. 1931                          </td><td>Advice to Emigrants, Who Intend to Settle in the United States of America, 2nd Edition, Greatly Enlarged and Improved</td><td>S9845-D004 </td></tr>\n",
       "\t<tr><td>European</td><td>NA</td><td>Anonymous Government Agent in Upper Canada, fl. 1833</td><td>Counsel for Emigrants                                                                                                </td><td>S9865-D020 </td></tr>\n",
       "\t<tr><td>European</td><td>NA</td><td>Anonymous Government Agent in Upper Canada, fl. 1833</td><td>Counsel for Emigrants                                                                                                </td><td>S9865-D073 </td></tr>\n",
       "</tbody>\n",
       "</table>\n"
      ],
      "text/latex": [
       "A data.frame: 4 × 5\n",
       "\\begin{tabular}{lllll}\n",
       " nationalOrigin & britishEmpire\\_EU & docauthorname & sourcetitle & docid\\\\\n",
       " <fct> & <lgl> & <fct> & <fct> & <fct>\\\\\n",
       "\\hline\n",
       "\t NA       & NA & Anonymous Jewish Male, V., fl. 1906                  & A Bintel Brief, vol. 1: Sixty Years of Letters from the Lower East Side to the Jewish Daily Forward                   & S11067-D016\\\\\n",
       "\t NA       & NA & Jennings, Joseph, fl. 1931                           & Advice to Emigrants, Who Intend to Settle in the United States of America, 2nd Edition, Greatly Enlarged and Improved & S9845-D004 \\\\\n",
       "\t European & NA & Anonymous Government Agent in Upper Canada, fl. 1833 & Counsel for Emigrants                                                                                                 & S9865-D020 \\\\\n",
       "\t European & NA & Anonymous Government Agent in Upper Canada, fl. 1833 & Counsel for Emigrants                                                                                                 & S9865-D073 \\\\\n",
       "\\end{tabular}\n"
      ],
      "text/markdown": [
       "\n",
       "A data.frame: 4 × 5\n",
       "\n",
       "| nationalOrigin &lt;fct&gt; | britishEmpire_EU &lt;lgl&gt; | docauthorname &lt;fct&gt; | sourcetitle &lt;fct&gt; | docid &lt;fct&gt; |\n",
       "|---|---|---|---|---|\n",
       "| NA       | NA | Anonymous Jewish Male, V., fl. 1906                  | A Bintel Brief, vol. 1: Sixty Years of Letters from the Lower East Side to the Jewish Daily Forward                   | S11067-D016 |\n",
       "| NA       | NA | Jennings, Joseph, fl. 1931                           | Advice to Emigrants, Who Intend to Settle in the United States of America, 2nd Edition, Greatly Enlarged and Improved | S9845-D004  |\n",
       "| European | NA | Anonymous Government Agent in Upper Canada, fl. 1833 | Counsel for Emigrants                                                                                                 | S9865-D020  |\n",
       "| European | NA | Anonymous Government Agent in Upper Canada, fl. 1833 | Counsel for Emigrants                                                                                                 | S9865-D073  |\n",
       "\n"
      ],
      "text/plain": [
       "  nationalOrigin britishEmpire_EU\n",
       "1 NA             NA              \n",
       "2 NA             NA              \n",
       "3 European       NA              \n",
       "4 European       NA              \n",
       "  docauthorname                                       \n",
       "1 Anonymous Jewish Male, V., fl. 1906                 \n",
       "2 Jennings, Joseph, fl. 1931                          \n",
       "3 Anonymous Government Agent in Upper Canada, fl. 1833\n",
       "4 Anonymous Government Agent in Upper Canada, fl. 1833\n",
       "  sourcetitle                                                                                                          \n",
       "1 A Bintel Brief, vol. 1: Sixty Years of Letters from the Lower East Side to the Jewish Daily Forward                  \n",
       "2 Advice to Emigrants, Who Intend to Settle in the United States of America, 2nd Edition, Greatly Enlarged and Improved\n",
       "3 Counsel for Emigrants                                                                                                \n",
       "4 Counsel for Emigrants                                                                                                \n",
       "  docid      \n",
       "1 S11067-D016\n",
       "2 S9845-D004 \n",
       "3 S9865-D020 \n",
       "4 S9865-D073 "
      ]
     },
     "metadata": {},
     "output_type": "display_data"
    }
   ],
   "source": [
    "# What are the NAs?\n",
    "letters %>%\n",
    "filter(is.na(translated) | is.na(britishEmpire_EU) | is.na(translated)) %>%\n",
    "select(nationalOrigin, britishEmpire_EU, docauthorname, sourcetitle, docid)"
   ]
  },
  {
   "cell_type": "markdown",
   "id": "675f660d",
   "metadata": {},
   "source": [
    "Now there is the issue of the Welsh letters, most of which have been translated into English, according to the preface to the source. The notes for the book indicate which letters were originally in English (n = 27). The texts were accidentally deleted from the dataset. To correct this and include only the ones originally in English, the following steps were taken:\n",
    "\n",
    "<ol>\n",
    "    <li>Make all values for this source TRUE for translated</li>\n",
    "    <li>Match items marked \"Original in English\" in the Notes to items in the CSV</li>\n",
    "<li>Find those items in the book (https://books.google.ca/books?id=ECxwYKeFWkcC&printsec=frontcover&vq=%22original+in+English%22)</li>\n",
    "<li>Create new txt file with just the text of this letter</li>\n",
    "    <li>Give it the same name as indicated in the CSV.</li>\n",
    "    <li>Put docids for letters originally in English into a vector</li>\n",
    "    <li>Everywhere a value in that vector appears in docid, code FALSE for translated.</li>\n",
    "</ol>"
   ]
  },
  {
   "cell_type": "code",
   "execution_count": 50,
   "id": "cd307b43",
   "metadata": {},
   "outputs": [],
   "source": [
    "# The \"bulk\" of the letters contained in this book are translated from Welsh into English\n",
    "# But it is not specified which are translated.\n",
    "# Also, this source is missing from the dataset\n",
    "# Make all values for this source TRUE for translated\n",
    "\n",
    "letters$translated[letters$sourcetitle ==\"The Welsh in America: Letters from the Immigrants\"] <- TRUE"
   ]
  },
  {
   "cell_type": "code",
   "execution_count": 51,
   "id": "ba320acd",
   "metadata": {},
   "outputs": [
    {
     "data": {
      "text/html": [
       "<table class=\"dataframe\">\n",
       "<caption>A data.frame: 1 × 5</caption>\n",
       "<thead>\n",
       "\t<tr><th scope=col>docid</th><th scope=col>docauthorname</th><th scope=col>docyear</th><th scope=col>docmonth</th><th scope=col>docday</th></tr>\n",
       "\t<tr><th scope=col>&lt;fct&gt;</th><th scope=col>&lt;fct&gt;</th><th scope=col>&lt;int&gt;</th><th scope=col>&lt;int&gt;</th><th scope=col>&lt;int&gt;</th></tr>\n",
       "</thead>\n",
       "<tbody>\n",
       "\t<tr><td>S316-D061</td><td>Pugh, Margaret</td><td>1845</td><td>3</td><td>2</td></tr>\n",
       "</tbody>\n",
       "</table>\n"
      ],
      "text/latex": [
       "A data.frame: 1 × 5\n",
       "\\begin{tabular}{lllll}\n",
       " docid & docauthorname & docyear & docmonth & docday\\\\\n",
       " <fct> & <fct> & <int> & <int> & <int>\\\\\n",
       "\\hline\n",
       "\t S316-D061 & Pugh, Margaret & 1845 & 3 & 2\\\\\n",
       "\\end{tabular}\n"
      ],
      "text/markdown": [
       "\n",
       "A data.frame: 1 × 5\n",
       "\n",
       "| docid &lt;fct&gt; | docauthorname &lt;fct&gt; | docyear &lt;int&gt; | docmonth &lt;int&gt; | docday &lt;int&gt; |\n",
       "|---|---|---|---|---|\n",
       "| S316-D061 | Pugh, Margaret | 1845 | 3 | 2 |\n",
       "\n"
      ],
      "text/plain": [
       "  docid     docauthorname  docyear docmonth docday\n",
       "1 S316-D061 Pugh, Margaret 1845    3        2     "
      ]
     },
     "metadata": {},
     "output_type": "display_data"
    }
   ],
   "source": [
    "letters  %>% \n",
    "filter(sourcetitle == \"The Welsh in America: Letters from the Immigrants\" & \n",
    "       grepl(\"Pugh\", docauthorname)) %>% \n",
    "select(docid, docauthorname, docyear, docmonth, docday)  %>% \n",
    "arrange(docyear) "
   ]
  },
  {
   "cell_type": "markdown",
   "id": "56e28fbd",
   "metadata": {},
   "source": [
    "The date is incorrect on this one so I've recoded. Also, this is an excerpt, so it must be noted that many of the letters in this collection are likely so as well. \n",
    "https://www.britishnewspaperarchive.co.uk/viewer/bl/0002971/18470108/021/0003"
   ]
  },
  {
   "cell_type": "code",
   "execution_count": 52,
   "id": "937b5e79",
   "metadata": {},
   "outputs": [],
   "source": [
    "# Correct the year, month and day\n",
    "letters$docyear[letters$docid == \"S316-D061\"]  <- 1846\n",
    "letters$docmonth[letters$docid == \"S316-D061\"]  <- 11\n",
    "letters$docday[letters$docid == \"S316-D061\"]  <- 15"
   ]
  },
  {
   "cell_type": "code",
   "execution_count": 53,
   "id": "98489749",
   "metadata": {},
   "outputs": [
    {
     "data": {
      "text/html": [
       "<table class=\"dataframe\">\n",
       "<caption>A data.frame: 1 × 5</caption>\n",
       "<thead>\n",
       "\t<tr><th scope=col>docid</th><th scope=col>docauthorname</th><th scope=col>docyear</th><th scope=col>docmonth</th><th scope=col>docday</th></tr>\n",
       "\t<tr><th scope=col>&lt;fct&gt;</th><th scope=col>&lt;fct&gt;</th><th scope=col>&lt;dbl&gt;</th><th scope=col>&lt;dbl&gt;</th><th scope=col>&lt;dbl&gt;</th></tr>\n",
       "</thead>\n",
       "<tbody>\n",
       "\t<tr><td>S316-D205</td><td>Anonymous Welsh Immigrant, Jane, fl. 1862</td><td>1862</td><td>9</td><td>16</td></tr>\n",
       "</tbody>\n",
       "</table>\n"
      ],
      "text/latex": [
       "A data.frame: 1 × 5\n",
       "\\begin{tabular}{lllll}\n",
       " docid & docauthorname & docyear & docmonth & docday\\\\\n",
       " <fct> & <fct> & <dbl> & <dbl> & <dbl>\\\\\n",
       "\\hline\n",
       "\t S316-D205 & Anonymous Welsh Immigrant, Jane, fl. 1862 & 1862 & 9 & 16\\\\\n",
       "\\end{tabular}\n"
      ],
      "text/markdown": [
       "\n",
       "A data.frame: 1 × 5\n",
       "\n",
       "| docid &lt;fct&gt; | docauthorname &lt;fct&gt; | docyear &lt;dbl&gt; | docmonth &lt;dbl&gt; | docday &lt;dbl&gt; |\n",
       "|---|---|---|---|---|\n",
       "| S316-D205 | Anonymous Welsh Immigrant, Jane, fl. 1862 | 1862 | 9 | 16 |\n",
       "\n"
      ],
      "text/plain": [
       "  docid     docauthorname                             docyear docmonth docday\n",
       "1 S316-D205 Anonymous Welsh Immigrant, Jane, fl. 1862 1862    9        16    "
      ]
     },
     "metadata": {},
     "output_type": "display_data"
    }
   ],
   "source": [
    "letters  %>% \n",
    "filter(sourcetitle == \"The Welsh in America: Letters from the Immigrants\" & \n",
    "       grepl(\"Jane\", docauthorname)) %>% \n",
    "select(docid, docauthorname, docyear, docmonth, docday)  %>% \n",
    "arrange(docyear) "
   ]
  },
  {
   "cell_type": "markdown",
   "id": "c96cdf68",
   "metadata": {},
   "source": [
    "The date for S316-D204 is the date the letter was published not written. No date is indicated in the published version, reference only being made to a letter \"lately received.\" I will leave the date but making note of this. https://www.britishnewspaperarchive.co.uk/viewer/bl/0000915/18570321/006/0003"
   ]
  },
  {
   "cell_type": "code",
   "execution_count": 54,
   "id": "109f20e9",
   "metadata": {},
   "outputs": [
    {
     "data": {
      "text/html": [
       "<table class=\"dataframe\">\n",
       "<caption>A data.frame: 1 × 5</caption>\n",
       "<thead>\n",
       "\t<tr><th scope=col>docid</th><th scope=col>docauthorname</th><th scope=col>docyear</th><th scope=col>docmonth</th><th scope=col>docday</th></tr>\n",
       "\t<tr><th scope=col>&lt;fct&gt;</th><th scope=col>&lt;fct&gt;</th><th scope=col>&lt;dbl&gt;</th><th scope=col>&lt;dbl&gt;</th><th scope=col>&lt;dbl&gt;</th></tr>\n",
       "</thead>\n",
       "<tbody>\n",
       "\t<tr><td>S316-D203</td><td>Grant, David, fl. 1856</td><td>1856</td><td>8</td><td>31</td></tr>\n",
       "</tbody>\n",
       "</table>\n"
      ],
      "text/latex": [
       "A data.frame: 1 × 5\n",
       "\\begin{tabular}{lllll}\n",
       " docid & docauthorname & docyear & docmonth & docday\\\\\n",
       " <fct> & <fct> & <dbl> & <dbl> & <dbl>\\\\\n",
       "\\hline\n",
       "\t S316-D203 & Grant, David, fl. 1856 & 1856 & 8 & 31\\\\\n",
       "\\end{tabular}\n"
      ],
      "text/markdown": [
       "\n",
       "A data.frame: 1 × 5\n",
       "\n",
       "| docid &lt;fct&gt; | docauthorname &lt;fct&gt; | docyear &lt;dbl&gt; | docmonth &lt;dbl&gt; | docday &lt;dbl&gt; |\n",
       "|---|---|---|---|---|\n",
       "| S316-D203 | Grant, David, fl. 1856 | 1856 | 8 | 31 |\n",
       "\n"
      ],
      "text/plain": [
       "  docid     docauthorname          docyear docmonth docday\n",
       "1 S316-D203 Grant, David, fl. 1856 1856    8        31    "
      ]
     },
     "metadata": {},
     "output_type": "display_data"
    }
   ],
   "source": [
    "letters  %>% \n",
    "filter(docid == \"S316-D203\") %>% \n",
    "#filter(docyear == \"1880\" & docmonth == \"3\")  %>% \n",
    "select(docid, docauthorname, docyear, docmonth, docday) "
   ]
  },
  {
   "cell_type": "code",
   "execution_count": 55,
   "id": "9ab1bddf",
   "metadata": {},
   "outputs": [],
   "source": [
    "# Put docids for letters originally in English into a vector\n",
    "vals  <- c(\"S316-D004\", \"S316-D031\", \"S316-D037\", \"S316-D040\", \"S316-D049\", \"S316-D050\", \"S316-D052\", \n",
    "           \"S316-D053\", \"S316-D054\", \"S316-D055\", \"S316-D058\", \"S316-D061\", \"S316-D064\",\n",
    "          \"S316-D071\",\"S316-D072\", \"S316-D079\", \"S316-D132\", \"S316-D137\",\"S316-D163\",\n",
    "          \"S316-D180\", \"S316-D182\", \"S316-D189\", \"S316-D193\", \"S316-D202\", \"S316-D204\", \n",
    "           \"S316-D205\")"
   ]
  },
  {
   "cell_type": "code",
   "execution_count": 56,
   "id": "41d1106c",
   "metadata": {},
   "outputs": [],
   "source": [
    "# Everywhere a value in that vector appears in docid, code FALSE for translated.\n",
    "letters$translated[letters$docid %in% vals]  <- FALSE"
   ]
  },
  {
   "cell_type": "code",
   "execution_count": 57,
   "id": "2cb389b9",
   "metadata": {},
   "outputs": [
    {
     "data": {
      "text/plain": [
       "  nationalOrigin\n",
       " English :368   \n",
       " Scottish: 69   \n",
       " Italian : 55   \n",
       " Irish   : 35   \n",
       " Welsh   : 26   \n",
       " (Other) : 22   \n",
       " NA's    :  1   "
      ]
     },
     "metadata": {},
     "output_type": "display_data"
    }
   ],
   "source": [
    "# See the counts for cultural variables\n",
    "letters %>%\n",
    "filter(translated==FALSE) %>%\n",
    "select(nationalOrigin) %>%\n",
    "summary()"
   ]
  },
  {
   "cell_type": "code",
   "execution_count": 58,
   "id": "26ef0b75",
   "metadata": {},
   "outputs": [
    {
     "data": {
      "text/plain": [
       ".\n",
       "         Chinese            Czech   Dushane; Xhosa            Dutch \n",
       "               1                0                0                0 \n",
       "         English         European          Finnish           French \n",
       "             368                2                0                0 \n",
       "French; Prussian           German            Irish  Irish; Scottish \n",
       "               0                0               35               19 \n",
       "         Italian           Jewish       Lithuanian        Norwegian \n",
       "              55                0                0                0 \n",
       "          Polish          Russian  Russian; Polish         Scottish \n",
       "               0                0                0               69 \n",
       "         Spanish            Welsh \n",
       "               0               26 "
      ]
     },
     "metadata": {},
     "output_type": "display_data"
    }
   ],
   "source": [
    "# See the counts for cultural variables\n",
    "letters %>%\n",
    "filter(translated==FALSE) %>%\n",
    "select(nationalOrigin) %>%\n",
    "table()"
   ]
  },
  {
   "cell_type": "code",
   "execution_count": 59,
   "id": "1cbf9f75",
   "metadata": {},
   "outputs": [
    {
     "data": {
      "text/html": [
       "576"
      ],
      "text/latex": [
       "576"
      ],
      "text/markdown": [
       "576"
      ],
      "text/plain": [
       "[1] 576"
      ]
     },
     "metadata": {},
     "output_type": "display_data"
    }
   ],
   "source": [
    "# update dataframe\n",
    "\n",
    "letters <- letters %>%\n",
    "filter(translated==FALSE)\n",
    "\n",
    "# How many observations now\n",
    "nrow(letters)"
   ]
  },
  {
   "cell_type": "code",
   "execution_count": 60,
   "id": "23674ef1",
   "metadata": {},
   "outputs": [
    {
     "data": {
      "text/html": [
       "<table class=\"dataframe\">\n",
       "<caption>A data.frame: 1 × 8</caption>\n",
       "<thead>\n",
       "\t<tr><th scope=col>docauthorname</th><th scope=col>authorgender</th><th scope=col>north_american_occupation</th><th scope=col>religion</th><th scope=col>docid</th><th scope=col>publicLetter</th><th scope=col>sourcetitle</th><th scope=col>translated</th></tr>\n",
       "\t<tr><th scope=col>&lt;fct&gt;</th><th scope=col>&lt;fct&gt;</th><th scope=col>&lt;fct&gt;</th><th scope=col>&lt;fct&gt;</th><th scope=col>&lt;fct&gt;</th><th scope=col>&lt;lgl&gt;</th><th scope=col>&lt;fct&gt;</th><th scope=col>&lt;lgl&gt;</th></tr>\n",
       "</thead>\n",
       "<tbody>\n",
       "\t<tr><td>Jennings, Joseph, fl. 1931</td><td>M</td><td></td><td>Not indicated</td><td>S9845-D004</td><td>NA</td><td>Advice to Emigrants, Who Intend to Settle in the United States of America, 2nd Edition, Greatly Enlarged and Improved</td><td>FALSE</td></tr>\n",
       "</tbody>\n",
       "</table>\n"
      ],
      "text/latex": [
       "A data.frame: 1 × 8\n",
       "\\begin{tabular}{llllllll}\n",
       " docauthorname & authorgender & north\\_american\\_occupation & religion & docid & publicLetter & sourcetitle & translated\\\\\n",
       " <fct> & <fct> & <fct> & <fct> & <fct> & <lgl> & <fct> & <lgl>\\\\\n",
       "\\hline\n",
       "\t Jennings, Joseph, fl. 1931 & M &  & Not indicated & S9845-D004 & NA & Advice to Emigrants, Who Intend to Settle in the United States of America, 2nd Edition, Greatly Enlarged and Improved & FALSE\\\\\n",
       "\\end{tabular}\n"
      ],
      "text/markdown": [
       "\n",
       "A data.frame: 1 × 8\n",
       "\n",
       "| docauthorname &lt;fct&gt; | authorgender &lt;fct&gt; | north_american_occupation &lt;fct&gt; | religion &lt;fct&gt; | docid &lt;fct&gt; | publicLetter &lt;lgl&gt; | sourcetitle &lt;fct&gt; | translated &lt;lgl&gt; |\n",
       "|---|---|---|---|---|---|---|---|\n",
       "| Jennings, Joseph, fl. 1931 | M | <!----> | Not indicated | S9845-D004 | NA | Advice to Emigrants, Who Intend to Settle in the United States of America, 2nd Edition, Greatly Enlarged and Improved | FALSE |\n",
       "\n"
      ],
      "text/plain": [
       "  docauthorname              authorgender north_american_occupation\n",
       "1 Jennings, Joseph, fl. 1931 M                                     \n",
       "  religion      docid      publicLetter\n",
       "1 Not indicated S9845-D004 NA          \n",
       "  sourcetitle                                                                                                          \n",
       "1 Advice to Emigrants, Who Intend to Settle in the United States of America, 2nd Edition, Greatly Enlarged and Improved\n",
       "  translated\n",
       "1 FALSE     "
      ]
     },
     "metadata": {},
     "output_type": "display_data"
    }
   ],
   "source": [
    "letters  %>% \n",
    "filter(is.na(nationalOrigin)) %>% \n",
    "select(docauthorname, authorgender, north_american_occupation, religion, docid, publicLetter, sourcetitle, translated)"
   ]
  },
  {
   "cell_type": "code",
   "execution_count": 61,
   "id": "42ffe091",
   "metadata": {},
   "outputs": [
    {
     "data": {
      "text/html": [
       "<table class=\"dataframe\">\n",
       "<caption>A data.frame: 2 × 7</caption>\n",
       "<thead>\n",
       "\t<tr><th></th><th scope=col>docauthorname</th><th scope=col>authorgender</th><th scope=col>north_american_occupation</th><th scope=col>religion</th><th scope=col>publicLetter</th><th scope=col>sourcetitle</th><th scope=col>translated</th></tr>\n",
       "\t<tr><th></th><th scope=col>&lt;fct&gt;</th><th scope=col>&lt;fct&gt;</th><th scope=col>&lt;fct&gt;</th><th scope=col>&lt;fct&gt;</th><th scope=col>&lt;lgl&gt;</th><th scope=col>&lt;fct&gt;</th><th scope=col>&lt;lgl&gt;</th></tr>\n",
       "</thead>\n",
       "<tbody>\n",
       "\t<tr><th scope=row>1</th><td>Segale, Sister Blandina, 1850-1941</td><td>F</td><td>Nun; Social worker; Teacher</td><td>Catholic; Christian</td><td>  NA</td><td>At the End of the Santa Fe Trail                      </td><td>FALSE</td></tr>\n",
       "\t<tr><th scope=row>56</th><td>Ling, Kwang Chang, fl. 1878       </td><td>M</td><td>                           </td><td>Not indicated      </td><td>TRUE</td><td>America's Immigrants: Adventures in Eyewitness History</td><td>FALSE</td></tr>\n",
       "</tbody>\n",
       "</table>\n"
      ],
      "text/latex": [
       "A data.frame: 2 × 7\n",
       "\\begin{tabular}{r|lllllll}\n",
       "  & docauthorname & authorgender & north\\_american\\_occupation & religion & publicLetter & sourcetitle & translated\\\\\n",
       "  & <fct> & <fct> & <fct> & <fct> & <lgl> & <fct> & <lgl>\\\\\n",
       "\\hline\n",
       "\t1 & Segale, Sister Blandina, 1850-1941 & F & Nun; Social worker; Teacher & Catholic; Christian &   NA & At the End of the Santa Fe Trail                       & FALSE\\\\\n",
       "\t56 & Ling, Kwang Chang, fl. 1878        & M &                             & Not indicated       & TRUE & America's Immigrants: Adventures in Eyewitness History & FALSE\\\\\n",
       "\\end{tabular}\n"
      ],
      "text/markdown": [
       "\n",
       "A data.frame: 2 × 7\n",
       "\n",
       "| <!--/--> | docauthorname &lt;fct&gt; | authorgender &lt;fct&gt; | north_american_occupation &lt;fct&gt; | religion &lt;fct&gt; | publicLetter &lt;lgl&gt; | sourcetitle &lt;fct&gt; | translated &lt;lgl&gt; |\n",
       "|---|---|---|---|---|---|---|---|\n",
       "| 1 | Segale, Sister Blandina, 1850-1941 | F | Nun; Social worker; Teacher | Catholic; Christian |   NA | At the End of the Santa Fe Trail                       | FALSE |\n",
       "| 56 | Ling, Kwang Chang, fl. 1878        | M | <!----> | Not indicated       | TRUE | America's Immigrants: Adventures in Eyewitness History | FALSE |\n",
       "\n"
      ],
      "text/plain": [
       "   docauthorname                      authorgender north_american_occupation  \n",
       "1  Segale, Sister Blandina, 1850-1941 F            Nun; Social worker; Teacher\n",
       "56 Ling, Kwang Chang, fl. 1878        M                                       \n",
       "   religion            publicLetter\n",
       "1  Catholic; Christian   NA        \n",
       "56 Not indicated       TRUE        \n",
       "   sourcetitle                                            translated\n",
       "1  At the End of the Santa Fe Trail                       FALSE     \n",
       "56 America's Immigrants: Adventures in Eyewitness History FALSE     "
      ]
     },
     "metadata": {},
     "output_type": "display_data"
    }
   ],
   "source": [
    "letters  %>% \n",
    "filter(britishEmpire_EU==FALSE) %>% \n",
    "select(docauthorname, authorgender, north_american_occupation, religion, publicLetter, sourcetitle, translated) %>% \n",
    "unique()"
   ]
  },
  {
   "cell_type": "code",
   "execution_count": 62,
   "id": "441e9c7f",
   "metadata": {},
   "outputs": [],
   "source": [
    "write.csv(letters, \n",
    "          \"20240314b_PhD_NaildohSubset.csv\", \n",
    "          row.names=FALSE)"
   ]
  },
  {
   "cell_type": "code",
   "execution_count": 63,
   "id": "220fa12b",
   "metadata": {},
   "outputs": [
    {
     "name": "stdout",
     "output_type": "stream",
     "text": [
      "Rows: 576\n",
      "Columns: 76\n",
      "$ docsequence               \u001b[3m\u001b[90m<int>\u001b[39m\u001b[23m 2, 4, 5, 6, 7, 8, 9, 10, 11, 12, 13, 14, 15,…\n",
      "$ docid                     \u001b[3m\u001b[90m<fct>\u001b[39m\u001b[23m S1019-D002, S1019-D004, S1019-D005, S1019-D0…\n",
      "$ sourceid                  \u001b[3m\u001b[90m<fct>\u001b[39m\u001b[23m S1019, S1019, S1019, S1019, S1019, S1019, S1…\n",
      "$ docauthorid               \u001b[3m\u001b[90m<fct>\u001b[39m\u001b[23m per0001043, per0001043, per0001043, per00010…\n",
      "$ doctitle                  \u001b[3m\u001b[90m<fct>\u001b[39m\u001b[23m \"Letter from Sister Blandina Segale to Siste…\n",
      "$ docyear                   \u001b[3m\u001b[90m<dbl>\u001b[39m\u001b[23m 1872, 1872, 1872, 1872, 1873, 1873, 1873, 18…\n",
      "$ docmonth                  \u001b[3m\u001b[90m<dbl>\u001b[39m\u001b[23m 11, 12, 12, 12, 3, 7, 9, 6, 11, 6, 9, 12, 1,…\n",
      "$ docday                    \u001b[3m\u001b[90m<dbl>\u001b[39m\u001b[23m 30, 6, 10, 21, 1, NA, NA, 30, 14, NA, NA, 16…\n",
      "$ docpage                   \u001b[3m\u001b[90m<fct>\u001b[39m\u001b[23m \"3-10\", \"13-22\", \"22-29\", \"29-37\", \"37-44\", …\n",
      "$ doctype                   \u001b[3m\u001b[90m<fct>\u001b[39m\u001b[23m Letter, Letter, Letter, Letter, Letter, Lett…\n",
      "$ docabbr                   \u001b[3m\u001b[90m<fct>\u001b[39m\u001b[23m S1019-D002, S1019-D004, S1019-D005, S1019-D0…\n",
      "$ allsubject                \u001b[3m\u001b[90m<fct>\u001b[39m\u001b[23m \"Clergy; Missionaries; Students; Travel; Rel…\n",
      "$ subjname                  \u001b[3m\u001b[90m<fct>\u001b[39m\u001b[23m \"\", \"\", \"\", \"\", \"\", \"\", \"\", \"\", \"\", \"\", \"Bon…\n",
      "$ organization              \u001b[3m\u001b[90m<fct>\u001b[39m\u001b[23m \"\", \"\", \"\", \"\", \"\", \"\", \"\", \"\", \"\", \"\", \"\", …\n",
      "$ titlesubj                 \u001b[3m\u001b[90m<lgl>\u001b[39m\u001b[23m NA, NA, NA, NA, NA, NA, NA, NA, NA, NA, NA, …\n",
      "$ topicsubj                 \u001b[3m\u001b[90m<fct>\u001b[39m\u001b[23m Clergy; Missionaries; Students; Travel, Miss…\n",
      "$ broadsubj                 \u001b[3m\u001b[90m<fct>\u001b[39m\u001b[23m Religion; Education; Entertainment and recre…\n",
      "$ geographic                \u001b[3m\u001b[90m<fct>\u001b[39m\u001b[23m \"\", \"\", \"\", \"\", \"\", \"\", \"\", \"\", \"\", \"\", \"\", …\n",
      "$ historical                \u001b[3m\u001b[90m<fct>\u001b[39m\u001b[23m \"\", \"\", \"\", \"\", \"\", \"\", \"\", \"\", \"\", \"\", \"\", …\n",
      "$ personalevent             \u001b[3m\u001b[90m<fct>\u001b[39m\u001b[23m , , , , , , , , , , , , , , , , , , , , , , …\n",
      "$ agewriting                \u001b[3m\u001b[90m<int>\u001b[39m\u001b[23m 22, 22, 22, 22, 23, 23, 23, 24, 24, 26, 26, …\n",
      "$ publisher                 \u001b[3m\u001b[90m<fct>\u001b[39m\u001b[23m Columbian Press, Columbian Press, Columbian …\n",
      "$ sourcetitle               \u001b[3m\u001b[90m<fct>\u001b[39m\u001b[23m \"At the End of the Santa Fe Trail\", \"At the …\n",
      "$ editor                    \u001b[3m\u001b[90m<fct>\u001b[39m\u001b[23m \"\", \"\", \"\", \"\", \"\", \"\", \"\", \"\", \"\", \"\", \"\", …\n",
      "$ sourcemedium              \u001b[3m\u001b[90m<fct>\u001b[39m\u001b[23m Text, Text, Text, Text, Text, Text, Text, Te…\n",
      "$ language                  \u001b[3m\u001b[90m<fct>\u001b[39m\u001b[23m English, English, English, English, English,…\n",
      "$ pubyear                   \u001b[3m\u001b[90m<int>\u001b[39m\u001b[23m 1932, 1932, 1932, 1932, 1932, 1932, 1932, 19…\n",
      "$ pubplace                  \u001b[3m\u001b[90m<fct>\u001b[39m\u001b[23m \"Columbus, OH\", \"Columbus, OH\", \"Columbus, O…\n",
      "$ journal                   \u001b[3m\u001b[90m<fct>\u001b[39m\u001b[23m , , , , , , , , , , , , , , , , , , , , , , …\n",
      "$ jcitation                 \u001b[3m\u001b[90m<fct>\u001b[39m\u001b[23m , , , , , , , , , , , , , , , , , , , , , , …\n",
      "$ spages                    \u001b[3m\u001b[90m<int>\u001b[39m\u001b[23m 347, 347, 347, 347, 347, 347, 347, 347, 347,…\n",
      "$ ecitation                 \u001b[3m\u001b[90m<fct>\u001b[39m\u001b[23m yes, yes, yes, yes, yes, yes, yes, yes, yes,…\n",
      "$ mslocation                \u001b[3m\u001b[90m<fct>\u001b[39m\u001b[23m , , , , , , , , , , , , , , , , , , , , , , …\n",
      "$ sourcetype                \u001b[3m\u001b[90m<fct>\u001b[39m\u001b[23m Book, Book, Book, Book, Book, Book, Book, Bo…\n",
      "$ docauthorname             \u001b[3m\u001b[90m<fct>\u001b[39m\u001b[23m \"Segale, Sister Blandina, 1850-1941\", \"Segal…\n",
      "$ allauthorforms            \u001b[3m\u001b[90m<fct>\u001b[39m\u001b[23m \"Segale, Sister Blandina, 1850-1941; Segale,…\n",
      "$ briefname                 \u001b[3m\u001b[90m<fct>\u001b[39m\u001b[23m \"Sister Blandina Segale\", \"Sister Blandina S…\n",
      "$ authrace                  \u001b[3m\u001b[90m<fct>\u001b[39m\u001b[23m White, White, White, White, White, White, Wh…\n",
      "$ religion                  \u001b[3m\u001b[90m<fct>\u001b[39m\u001b[23m Catholic; Christian, Catholic; Christian, Ca…\n",
      "$ nationality               \u001b[3m\u001b[90m<fct>\u001b[39m\u001b[23m American, American, American, American, Amer…\n",
      "$ birthyear                 \u001b[3m\u001b[90m<int>\u001b[39m\u001b[23m 1850, 1850, 1850, 1850, 1850, 1850, 1850, 18…\n",
      "$ birthmonth                \u001b[3m\u001b[90m<int>\u001b[39m\u001b[23m NA, NA, NA, NA, NA, NA, NA, NA, NA, NA, NA, …\n",
      "$ birthday                  \u001b[3m\u001b[90m<int>\u001b[39m\u001b[23m NA, NA, NA, NA, NA, NA, NA, NA, NA, NA, NA, …\n",
      "$ deathyear                 \u001b[3m\u001b[90m<int>\u001b[39m\u001b[23m 1941, 1941, 1941, 1941, 1941, 1941, 1941, 19…\n",
      "$ deathmonth                \u001b[3m\u001b[90m<int>\u001b[39m\u001b[23m 2, 2, 2, 2, 2, 2, 2, 2, 2, 2, 2, 2, 2, 2, 2,…\n",
      "$ deathday                  \u001b[3m\u001b[90m<int>\u001b[39m\u001b[23m 12, 12, 12, 12, 12, 12, 12, 12, 12, 12, 12, …\n",
      "$ birthplace                \u001b[3m\u001b[90m<fct>\u001b[39m\u001b[23m \"Cicagna, Liguria, Italy; Liguria, Italy; It…\n",
      "$ deathplace                \u001b[3m\u001b[90m<fct>\u001b[39m\u001b[23m \"Cincinnati, OH; Ohio; United States; East N…\n",
      "$ scopyright                \u001b[3m\u001b[90m<fct>\u001b[39m\u001b[23m \"\", \"\", \"\", \"\", \"\", \"\", \"\", \"\", \"\", \"\", \"\", …\n",
      "$ aspcopyright              \u001b[3m\u001b[90m<fct>\u001b[39m\u001b[23m \"Copyright © 2003, Alexander Street Press LL…\n",
      "$ mscopyright               \u001b[3m\u001b[90m<lgl>\u001b[39m\u001b[23m NA, NA, NA, NA, NA, NA, NA, NA, NA, NA, NA, …\n",
      "$ schoolattend              \u001b[3m\u001b[90m<fct>\u001b[39m\u001b[23m \"Not indicated\", \"Not indicated\", \"Not indic…\n",
      "$ educlevel                 \u001b[3m\u001b[90m<fct>\u001b[39m\u001b[23m Not indicated, Not indicated, Not indicated,…\n",
      "$ audience                  \u001b[3m\u001b[90m<fct>\u001b[39m\u001b[23m All, All, All, All, All, All, All, All, All,…\n",
      "$ authorgender              \u001b[3m\u001b[90m<fct>\u001b[39m\u001b[23m F, F, F, F, F, F, F, F, F, F, F, F, F, F, F,…\n",
      "$ native_occupation         \u001b[3m\u001b[90m<fct>\u001b[39m\u001b[23m , , , , , , , , , , , , , , , , , , , , , , …\n",
      "$ north_american_occupation \u001b[3m\u001b[90m<fct>\u001b[39m\u001b[23m Nun; Social worker; Teacher, Nun; Social wor…\n",
      "$ organization_affiliations \u001b[3m\u001b[90m<fct>\u001b[39m\u001b[23m \"Sisters of Charity of Cincinnati, Ohio\", \"S…\n",
      "$ year_immigration          \u001b[3m\u001b[90m<int>\u001b[39m\u001b[23m NA, NA, NA, NA, NA, NA, NA, NA, NA, NA, NA, …\n",
      "$ cultural_heritage         \u001b[3m\u001b[90m<fct>\u001b[39m\u001b[23m Italian; European, Italian; European, Italia…\n",
      "$ point_of_entry            \u001b[3m\u001b[90m<fct>\u001b[39m\u001b[23m \"\", \"\", \"\", \"\", \"\", \"\", \"\", \"\", \"\", \"\", \"\", …\n",
      "$ point_of_departure        \u001b[3m\u001b[90m<fct>\u001b[39m\u001b[23m \"\", \"\", \"\", \"\", \"\", \"\", \"\", \"\", \"\", \"\", \"\", …\n",
      "$ stayed_north_america      \u001b[3m\u001b[90m<fct>\u001b[39m\u001b[23m Yes, Yes, Yes, Yes, Yes, Yes, Yes, Yes, Yes,…\n",
      "$ author_generation         \u001b[3m\u001b[90m<fct>\u001b[39m\u001b[23m First, First, First, First, First, First, Fi…\n",
      "$ image_filename            \u001b[3m\u001b[90m<fct>\u001b[39m\u001b[23m , , , , , , , , , , , , , , , , , , , , , , …\n",
      "$ thumbnail_filename        \u001b[3m\u001b[90m<fct>\u001b[39m\u001b[23m , , , , , , , , , , , , , , , , , , , , , , …\n",
      "$ display_thumbnail         \u001b[3m\u001b[90m<lgl>\u001b[39m\u001b[23m NA, NA, NA, NA, NA, NA, NA, NA, NA, NA, NA, …\n",
      "$ wwritten                  \u001b[3m\u001b[90m<fct>\u001b[39m\u001b[23m \"Ohio; United States; East North Central Sta…\n",
      "$ wsent                     \u001b[3m\u001b[90m<fct>\u001b[39m\u001b[23m \"Not indicated\", \"Not indicated\", \"Not indic…\n",
      "$ marriagestatus            \u001b[3m\u001b[90m<fct>\u001b[39m\u001b[23m Single, Single, Single, Single, Single, Sing…\n",
      "$ maternalstatus            \u001b[3m\u001b[90m<fct>\u001b[39m\u001b[23m Childless, Childless, Childless, Childless, …\n",
      "$ authorLocation            \u001b[3m\u001b[90m<fct>\u001b[39m\u001b[23m USA, USA, USA, USA, USA, USA, USA, USA, USA,…\n",
      "$ nationalOrigin            \u001b[3m\u001b[90m<fct>\u001b[39m\u001b[23m Italian, Italian, Italian, Italian, Italian,…\n",
      "$ britishEmpire_EU          \u001b[3m\u001b[90m<lgl>\u001b[39m\u001b[23m FALSE, FALSE, FALSE, FALSE, FALSE, FALSE, FA…\n",
      "$ translated                \u001b[3m\u001b[90m<lgl>\u001b[39m\u001b[23m FALSE, FALSE, FALSE, FALSE, FALSE, FALSE, FA…\n",
      "$ publicLetter              \u001b[3m\u001b[90m<lgl>\u001b[39m\u001b[23m NA, NA, NA, NA, NA, NA, NA, NA, NA, NA, NA, …\n"
     ]
    }
   ],
   "source": [
    "glimpse(letters)"
   ]
  },
  {
   "cell_type": "code",
   "execution_count": 64,
   "id": "219578b0",
   "metadata": {},
   "outputs": [
    {
     "data": {
      "text/html": [
       "101"
      ],
      "text/latex": [
       "101"
      ],
      "text/markdown": [
       "101"
      ],
      "text/plain": [
       "[1] 101"
      ]
     },
     "metadata": {},
     "output_type": "display_data"
    }
   ],
   "source": [
    "length(unique(letters$docauthorid))"
   ]
  }
 ],
 "metadata": {
  "kernelspec": {
   "display_name": "R",
   "language": "R",
   "name": "ir"
  },
  "language_info": {
   "codemirror_mode": "r",
   "file_extension": ".r",
   "mimetype": "text/x-r-source",
   "name": "R",
   "pygments_lexer": "r",
   "version": "4.1.0"
  }
 },
 "nbformat": 4,
 "nbformat_minor": 5
}
