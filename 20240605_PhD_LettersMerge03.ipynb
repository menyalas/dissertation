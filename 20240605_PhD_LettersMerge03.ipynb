{
 "cells": [
  {
   "cell_type": "markdown",
   "metadata": {},
   "source": [
    "# NAILDOH - IED Merge 3 (Combined)"
   ]
  },
  {
   "cell_type": "markdown",
   "metadata": {},
   "source": [
    "## Resources"
   ]
  },
  {
   "cell_type": "code",
   "execution_count": 9,
   "metadata": {},
   "outputs": [],
   "source": [
    "# Libraries\n",
    "library(tidyverse) # for data manipulation\n",
    "\n",
    "# Functions\n",
    "factorize <- function(df){ # Create a function\n",
    "  for(i in which(sapply(df, class) == \"character\")) # that looks for variables with the character class \n",
    "      df[[i]] = as.factor(df[[i]]) # and converts them to factor (i.e., categorical) class\n",
    "  return(df)\n",
    "}\n",
    "\n",
    "unfactorize <- function(df){ # Create a function\n",
    "  for(i in which(sapply(df, class) == \"factor\")) # that looks for variables with the character class \n",
    "      df[[i]] = as.character(df[[i]]) # and converts them to factor (i.e., categorical) class\n",
    "  return(df)\n",
    "}"
   ]
  },
  {
   "cell_type": "markdown",
   "metadata": {},
   "source": [
    "## Prep IED"
   ]
  },
  {
   "cell_type": "code",
   "execution_count": 10,
   "metadata": {},
   "outputs": [
    {
     "data": {
      "text/html": [
       "<style>\n",
       ".list-inline {list-style: none; margin:0; padding: 0}\n",
       ".list-inline>li {display: inline-block}\n",
       ".list-inline>li:not(:last-child)::after {content: \"\\00b7\"; padding: 0 .5ex}\n",
       "</style>\n",
       "<ol class=list-inline><li>686</li><li>18</li></ol>\n"
      ],
      "text/latex": [
       "\\begin{enumerate*}\n",
       "\\item 686\n",
       "\\item 18\n",
       "\\end{enumerate*}\n"
      ],
      "text/markdown": [
       "1. 686\n",
       "2. 18\n",
       "\n",
       "\n"
      ],
      "text/plain": [
       "[1] 686  18"
      ]
     },
     "metadata": {},
     "output_type": "display_data"
    }
   ],
   "source": [
    "# Data\n",
    "df <- read.csv(\"20240604_PhD_Letters.csv\")\n",
    "dim(df)"
   ]
  },
  {
   "cell_type": "markdown",
   "metadata": {},
   "source": [
    "### Checking / correcting"
   ]
  },
  {
   "cell_type": "code",
   "execution_count": 11,
   "metadata": {},
   "outputs": [],
   "source": [
    "#df[is.na(df$docyear),]\n",
    "\n",
    "#df[grepl(\"Sm.th\", df$docauthorname),]\n",
    "\n",
    "#df[df$docauthorid==\"per0032629\",]\n",
    "#df[is.na(df$docyear),]\n",
    "\n",
    "#df[df$docid==\"S316-D180\",]\n",
    "\n",
    "#vals <- c(\"S2344-D124\")\n",
    "#df[df$docid %in% vals,]"
   ]
  },
  {
   "cell_type": "markdown",
   "metadata": {},
   "source": [
    "I set the cutoff for short letters at 475 characters with spaces, as described <a href=\"https://wellbeinginlifewriting.wordpress.com/2024/02/19/782/\">here</a>."
   ]
  },
  {
   "cell_type": "code",
   "execution_count": 12,
   "metadata": {},
   "outputs": [
    {
     "data": {
      "text/html": [
       "<style>\n",
       ".list-inline {list-style: none; margin:0; padding: 0}\n",
       ".list-inline>li {display: inline-block}\n",
       ".list-inline>li:not(:last-child)::after {content: \"\\00b7\"; padding: 0 .5ex}\n",
       "</style>\n",
       "<ol class=list-inline><li>676</li><li>18</li></ol>\n"
      ],
      "text/latex": [
       "\\begin{enumerate*}\n",
       "\\item 676\n",
       "\\item 18\n",
       "\\end{enumerate*}\n"
      ],
      "text/markdown": [
       "1. 676\n",
       "2. 18\n",
       "\n",
       "\n"
      ],
      "text/plain": [
       "[1] 676  18"
      ]
     },
     "metadata": {},
     "output_type": "display_data"
    }
   ],
   "source": [
    "vals <- c(\"S2344-D124\", # Year unknown\n",
    "         \"S2344-D091\", # Business\n",
    "         \"S2344-D083\", # Business\n",
    "         \"S2344-D076\", # Business\n",
    "         \"S2344-D057\", # Business\n",
    "         \"S2344-D051\", # Business\n",
    "         \"S2344-D040\", # Business\n",
    "         \"S6210-D208\", # Too short\n",
    "         \"S6210-D046\", # Too short\n",
    "         \"S6210-D075\" # Too short\n",
    "         )\n",
    "df <- df[!df$docid %in% vals, ]\n",
    "dim(df)"
   ]
  },
  {
   "cell_type": "code",
   "execution_count": 13,
   "metadata": {},
   "outputs": [
    {
     "name": "stdout",
     "output_type": "stream",
     "text": [
      "[1] \"in csv but not in folder\"\n"
     ]
    },
    {
     "data": {
      "text/html": [],
      "text/latex": [],
      "text/markdown": [],
      "text/plain": [
       "character(0)"
      ]
     },
     "metadata": {},
     "output_type": "display_data"
    },
    {
     "name": "stdout",
     "output_type": "stream",
     "text": [
      "[1] \"in folder but not in csv\"\n"
     ]
    },
    {
     "data": {
      "text/html": [
       "'cleaned'"
      ],
      "text/latex": [
       "'cleaned'"
      ],
      "text/markdown": [
       "'cleaned'"
      ],
      "text/plain": [
       "[1] \"cleaned\""
      ]
     },
     "metadata": {},
     "output_type": "display_data"
    }
   ],
   "source": [
    "# Checking to make sure csv matches folder list.\n",
    "\n",
    "csv <- sort(unique(df$docid))\n",
    "\n",
    "# make list of doc ids in folder\n",
    "WD <- getwd()\n",
    "setwd(WD)\n",
    "files <- list.files(\"20240604_PhD_Letters\")\n",
    "folder <- sort(sub('.txt', '', files))\n",
    "\n",
    "print(\"in csv but not in folder\")\n",
    "setdiff(csv, folder) \n",
    "\n",
    "print(\"in folder but not in csv\")\n",
    "setdiff(folder, csv) "
   ]
  },
  {
   "cell_type": "code",
   "execution_count": 14,
   "metadata": {},
   "outputs": [
    {
     "name": "stdout",
     "output_type": "stream",
     "text": [
      "Rows: 676\n",
      "Columns: 18\n",
      "$ docid          \u001b[3m\u001b[90m<chr>\u001b[39m\u001b[23m \"S2344-D043\", \"S2344-D052\", \"S2344-D053\", \"S2344-D055\",…\n",
      "$ docyear        \u001b[3m\u001b[90m<int>\u001b[39m\u001b[23m 1842, 1853, 1853, 1853, 1853, 1854, 1854, 1854, 1854, 1…\n",
      "$ docmonth       \u001b[3m\u001b[90m<int>\u001b[39m\u001b[23m 11, 9, 10, 12, 12, 1, 2, 4, 4, 6, NA, 12, 1, 7, 8, 11, …\n",
      "$ authorName     \u001b[3m\u001b[90m<chr>\u001b[39m\u001b[23m \"Susannah Strickland Moodie\", \"Susannah Strickland Mood…\n",
      "$ docauthorid    \u001b[3m\u001b[90m<chr>\u001b[39m\u001b[23m \"per0004772\", \"per0004772\", \"per0004772\", \"per0004772\",…\n",
      "$ authorLocation \u001b[3m\u001b[90m<chr>\u001b[39m\u001b[23m \"Canada\", \"Canada\", \"Canada\", \"Canada\", \"Canada\", \"Cana…\n",
      "$ authorGender   \u001b[3m\u001b[90m<chr>\u001b[39m\u001b[23m \"F\", \"F\", \"F\", \"F\", \"F\", \"F\", \"F\", \"F\", \"F\", \"F\", \"F\", …\n",
      "$ nationalOrigin \u001b[3m\u001b[90m<chr>\u001b[39m\u001b[23m \"English\", \"English\", \"English\", \"English\", \"English\", …\n",
      "$ irish          \u001b[3m\u001b[90m<lgl>\u001b[39m\u001b[23m FALSE, FALSE, FALSE, FALSE, FALSE, FALSE, FALSE, FALSE,…\n",
      "$ otherUK        \u001b[3m\u001b[90m<lgl>\u001b[39m\u001b[23m TRUE, TRUE, TRUE, TRUE, TRUE, TRUE, TRUE, TRUE, TRUE, T…\n",
      "$ relMin         \u001b[3m\u001b[90m<lgl>\u001b[39m\u001b[23m FALSE, FALSE, FALSE, FALSE, FALSE, FALSE, FALSE, FALSE,…\n",
      "$ catholic       \u001b[3m\u001b[90m<lgl>\u001b[39m\u001b[23m FALSE, FALSE, FALSE, FALSE, FALSE, FALSE, FALSE, FALSE,…\n",
      "$ otherChristian \u001b[3m\u001b[90m<lgl>\u001b[39m\u001b[23m TRUE, TRUE, TRUE, TRUE, TRUE, TRUE, TRUE, TRUE, TRUE, T…\n",
      "$ U              \u001b[3m\u001b[90m<lgl>\u001b[39m\u001b[23m TRUE, TRUE, TRUE, TRUE, TRUE, TRUE, TRUE, TRUE, TRUE, T…\n",
      "$ M              \u001b[3m\u001b[90m<lgl>\u001b[39m\u001b[23m FALSE, FALSE, FALSE, FALSE, FALSE, FALSE, FALSE, FALSE,…\n",
      "$ S              \u001b[3m\u001b[90m<lgl>\u001b[39m\u001b[23m FALSE, FALSE, FALSE, FALSE, FALSE, FALSE, FALSE, FALSE,…\n",
      "$ F              \u001b[3m\u001b[90m<lgl>\u001b[39m\u001b[23m FALSE, FALSE, FALSE, FALSE, FALSE, FALSE, FALSE, FALSE,…\n",
      "$ L              \u001b[3m\u001b[90m<lgl>\u001b[39m\u001b[23m FALSE, FALSE, FALSE, FALSE, FALSE, FALSE, FALSE, FALSE,…\n"
     ]
    }
   ],
   "source": [
    "glimpse(df)"
   ]
  },
  {
   "cell_type": "code",
   "execution_count": 15,
   "metadata": {},
   "outputs": [],
   "source": [
    "write.csv(df, \"20240606_PhD_Letters.csv\", row.names=FALSE)"
   ]
  },
  {
   "cell_type": "markdown",
   "metadata": {},
   "source": [
    "## Summary Statistics"
   ]
  },
  {
   "cell_type": "code",
   "execution_count": 17,
   "metadata": {
    "scrolled": true
   },
   "outputs": [
    {
     "data": {
      "text/html": [
       "676"
      ],
      "text/latex": [
       "676"
      ],
      "text/markdown": [
       "676"
      ],
      "text/plain": [
       "[1] 676"
      ]
     },
     "metadata": {},
     "output_type": "display_data"
    },
    {
     "data": {
      "text/plain": [
       "     docid        docyear        docmonth                           authorName \n",
       " 20910  :  1   Min.   :1770   Min.   : 1.000   Sarah Stretch Harris      :168  \n",
       " 21062  :  1   1st Qu.:1849   1st Qu.: 3.000   Susannah Strickland Moodie: 81  \n",
       " 21324  :  1   Median :1861   Median : 7.000   Mary Cumming              : 28  \n",
       " 21334  :  1   Mean   :1859   Mean   : 6.716   William J. Weir           : 16  \n",
       " 21354  :  1   3rd Qu.:1872   3rd Qu.:10.000   Isabella Weir Moore       : 15  \n",
       " 21470  :  1   Max.   :1912   Max.   :12.000   (Other)                   :315  \n",
       " (Other):670                  NA's   :7        NA's                      : 53  \n",
       "     docauthorid  authorLocation authorGender  nationalOrigin   irish        \n",
       " per0038009:168   Canada:388     F:449        English :316    Mode :logical  \n",
       " per0004772: 81   USA   :288     M:227        Irish   :293    FALSE:383      \n",
       " IED0661   : 28                               Scottish: 41    TRUE :293      \n",
       " IED0958   : 16                               Welsh   : 26                   \n",
       " IED0107   : 15                                                              \n",
       " IED0403   : 12                                                              \n",
       " (Other)   :356                                                              \n",
       "  otherUK          relMin         catholic       otherChristian \n",
       " Mode :logical   Mode :logical   Mode :logical   Mode :logical  \n",
       " FALSE:293       FALSE:334       FALSE:338       FALSE:1        \n",
       " TRUE :383       TRUE :5         TRUE :1         TRUE :338      \n",
       "                 NA's :337       NA's :337       NA's :337      \n",
       "                                                                \n",
       "                                                                \n",
       "                                                                \n",
       "     U               M               S               F          \n",
       " Mode :logical   Mode :logical   Mode :logical   Mode :logical  \n",
       " FALSE:257       FALSE:162       FALSE:336       FALSE:131      \n",
       " TRUE :121       TRUE :225       TRUE :40        TRUE :244      \n",
       " NA's :298       NA's :289       NA's :300       NA's :301      \n",
       "                                                                \n",
       "                                                                \n",
       "                                                                \n",
       "     L          \n",
       " Mode :logical  \n",
       " FALSE:364      \n",
       " TRUE :21       \n",
       " NA's :291      \n",
       "                \n",
       "                \n",
       "                "
      ]
     },
     "metadata": {},
     "output_type": "display_data"
    }
   ],
   "source": [
    "letters <- read.csv(\"20240606_PhD_Letters.csv\")\n",
    "nrow(letters)\n",
    "summary(factorize(letters))"
   ]
  },
  {
   "cell_type": "code",
   "execution_count": 18,
   "metadata": {},
   "outputs": [
    {
     "data": {
      "text/html": [
       "<table class=\"dataframe\">\n",
       "<caption>A data.frame: 2 × 2</caption>\n",
       "<thead>\n",
       "\t<tr><th scope=col>n &gt; 1</th><th scope=col>n</th></tr>\n",
       "\t<tr><th scope=col>&lt;lgl&gt;</th><th scope=col>&lt;int&gt;</th></tr>\n",
       "</thead>\n",
       "<tbody>\n",
       "\t<tr><td>FALSE</td><td>113</td></tr>\n",
       "\t<tr><td> TRUE</td><td> 61</td></tr>\n",
       "</tbody>\n",
       "</table>\n"
      ],
      "text/latex": [
       "A data.frame: 2 × 2\n",
       "\\begin{tabular}{ll}\n",
       " n > 1 & n\\\\\n",
       " <lgl> & <int>\\\\\n",
       "\\hline\n",
       "\t FALSE & 113\\\\\n",
       "\t  TRUE &  61\\\\\n",
       "\\end{tabular}\n"
      ],
      "text/markdown": [
       "\n",
       "A data.frame: 2 × 2\n",
       "\n",
       "| n &gt; 1 &lt;lgl&gt; | n &lt;int&gt; |\n",
       "|---|---|\n",
       "| FALSE | 113 |\n",
       "|  TRUE |  61 |\n",
       "\n"
      ],
      "text/plain": [
       "  n > 1 n  \n",
       "1 FALSE 113\n",
       "2  TRUE  61"
      ]
     },
     "metadata": {},
     "output_type": "display_data"
    },
    {
     "data": {
      "text/html": [
       "<table class=\"dataframe\">\n",
       "<caption>A data.frame: 61 × 2</caption>\n",
       "<thead>\n",
       "\t<tr><th scope=col>docauthorid</th><th scope=col>n</th></tr>\n",
       "\t<tr><th scope=col>&lt;chr&gt;</th><th scope=col>&lt;int&gt;</th></tr>\n",
       "</thead>\n",
       "<tbody>\n",
       "\t<tr><td>per0038009 </td><td>168</td></tr>\n",
       "\t<tr><td>per0004772 </td><td> 81</td></tr>\n",
       "\t<tr><td>IED0661    </td><td> 28</td></tr>\n",
       "\t<tr><td>IED0958    </td><td> 16</td></tr>\n",
       "\t<tr><td>IED0107    </td><td> 15</td></tr>\n",
       "\t<tr><td>IED0403    </td><td> 12</td></tr>\n",
       "\t<tr><td>IED0957    </td><td> 12</td></tr>\n",
       "\t<tr><td>per0027000 </td><td> 12</td></tr>\n",
       "\t<tr><td>per0038008 </td><td> 11</td></tr>\n",
       "\t<tr><td>IED0212    </td><td> 10</td></tr>\n",
       "\t<tr><td>per0026981 </td><td> 10</td></tr>\n",
       "\t<tr><td>IED0037    </td><td>  9</td></tr>\n",
       "\t<tr><td>IED0314    </td><td>  9</td></tr>\n",
       "\t<tr><td>IED0621    </td><td>  9</td></tr>\n",
       "\t<tr><td>IED0932    </td><td>  8</td></tr>\n",
       "\t<tr><td>IED0030    </td><td>  7</td></tr>\n",
       "\t<tr><td>IED0267    </td><td>  7</td></tr>\n",
       "\t<tr><td>per0038052 </td><td>  7</td></tr>\n",
       "\t<tr><td>IED0374    </td><td>  6</td></tr>\n",
       "\t<tr><td>IED0692    </td><td>  6</td></tr>\n",
       "\t<tr><td>per0026978a</td><td>  6</td></tr>\n",
       "\t<tr><td>per0026998 </td><td>  6</td></tr>\n",
       "\t<tr><td>per0038053 </td><td>  6</td></tr>\n",
       "\t<tr><td>IED0294    </td><td>  5</td></tr>\n",
       "\t<tr><td>per0029196 </td><td>  5</td></tr>\n",
       "\t<tr><td>IED0838    </td><td>  4</td></tr>\n",
       "\t<tr><td>per0000339 </td><td>  4</td></tr>\n",
       "\t<tr><td>per0022894 </td><td>  4</td></tr>\n",
       "\t<tr><td>per0029178 </td><td>  4</td></tr>\n",
       "\t<tr><td>per0029184 </td><td>  4</td></tr>\n",
       "\t<tr><td>⋮</td><td>⋮</td></tr>\n",
       "\t<tr><td>IED0070   </td><td>3</td></tr>\n",
       "\t<tr><td>IED0125   </td><td>3</td></tr>\n",
       "\t<tr><td>IED0572   </td><td>3</td></tr>\n",
       "\t<tr><td>IED0657   </td><td>3</td></tr>\n",
       "\t<tr><td>IED0727   </td><td>3</td></tr>\n",
       "\t<tr><td>IED1059   </td><td>3</td></tr>\n",
       "\t<tr><td>per0022766</td><td>3</td></tr>\n",
       "\t<tr><td>per0029182</td><td>3</td></tr>\n",
       "\t<tr><td>IED0068   </td><td>2</td></tr>\n",
       "\t<tr><td>IED0182   </td><td>2</td></tr>\n",
       "\t<tr><td>IED0254   </td><td>2</td></tr>\n",
       "\t<tr><td>IED0451   </td><td>2</td></tr>\n",
       "\t<tr><td>IED0611   </td><td>2</td></tr>\n",
       "\t<tr><td>IED0645   </td><td>2</td></tr>\n",
       "\t<tr><td>IED0701   </td><td>2</td></tr>\n",
       "\t<tr><td>IED0710   </td><td>2</td></tr>\n",
       "\t<tr><td>IED1029   </td><td>2</td></tr>\n",
       "\t<tr><td>per0022846</td><td>2</td></tr>\n",
       "\t<tr><td>per0025578</td><td>2</td></tr>\n",
       "\t<tr><td>per0025580</td><td>2</td></tr>\n",
       "\t<tr><td>per0026513</td><td>2</td></tr>\n",
       "\t<tr><td>per0027083</td><td>2</td></tr>\n",
       "\t<tr><td>per0027085</td><td>2</td></tr>\n",
       "\t<tr><td>per0029174</td><td>2</td></tr>\n",
       "\t<tr><td>per0029189</td><td>2</td></tr>\n",
       "\t<tr><td>per0031346</td><td>2</td></tr>\n",
       "\t<tr><td>per0035059</td><td>2</td></tr>\n",
       "\t<tr><td>per0036380</td><td>2</td></tr>\n",
       "\t<tr><td>per0036382</td><td>2</td></tr>\n",
       "\t<tr><td>per0038828</td><td>2</td></tr>\n",
       "</tbody>\n",
       "</table>\n"
      ],
      "text/latex": [
       "A data.frame: 61 × 2\n",
       "\\begin{tabular}{ll}\n",
       " docauthorid & n\\\\\n",
       " <chr> & <int>\\\\\n",
       "\\hline\n",
       "\t per0038009  & 168\\\\\n",
       "\t per0004772  &  81\\\\\n",
       "\t IED0661     &  28\\\\\n",
       "\t IED0958     &  16\\\\\n",
       "\t IED0107     &  15\\\\\n",
       "\t IED0403     &  12\\\\\n",
       "\t IED0957     &  12\\\\\n",
       "\t per0027000  &  12\\\\\n",
       "\t per0038008  &  11\\\\\n",
       "\t IED0212     &  10\\\\\n",
       "\t per0026981  &  10\\\\\n",
       "\t IED0037     &   9\\\\\n",
       "\t IED0314     &   9\\\\\n",
       "\t IED0621     &   9\\\\\n",
       "\t IED0932     &   8\\\\\n",
       "\t IED0030     &   7\\\\\n",
       "\t IED0267     &   7\\\\\n",
       "\t per0038052  &   7\\\\\n",
       "\t IED0374     &   6\\\\\n",
       "\t IED0692     &   6\\\\\n",
       "\t per0026978a &   6\\\\\n",
       "\t per0026998  &   6\\\\\n",
       "\t per0038053  &   6\\\\\n",
       "\t IED0294     &   5\\\\\n",
       "\t per0029196  &   5\\\\\n",
       "\t IED0838     &   4\\\\\n",
       "\t per0000339  &   4\\\\\n",
       "\t per0022894  &   4\\\\\n",
       "\t per0029178  &   4\\\\\n",
       "\t per0029184  &   4\\\\\n",
       "\t ⋮ & ⋮\\\\\n",
       "\t IED0070    & 3\\\\\n",
       "\t IED0125    & 3\\\\\n",
       "\t IED0572    & 3\\\\\n",
       "\t IED0657    & 3\\\\\n",
       "\t IED0727    & 3\\\\\n",
       "\t IED1059    & 3\\\\\n",
       "\t per0022766 & 3\\\\\n",
       "\t per0029182 & 3\\\\\n",
       "\t IED0068    & 2\\\\\n",
       "\t IED0182    & 2\\\\\n",
       "\t IED0254    & 2\\\\\n",
       "\t IED0451    & 2\\\\\n",
       "\t IED0611    & 2\\\\\n",
       "\t IED0645    & 2\\\\\n",
       "\t IED0701    & 2\\\\\n",
       "\t IED0710    & 2\\\\\n",
       "\t IED1029    & 2\\\\\n",
       "\t per0022846 & 2\\\\\n",
       "\t per0025578 & 2\\\\\n",
       "\t per0025580 & 2\\\\\n",
       "\t per0026513 & 2\\\\\n",
       "\t per0027083 & 2\\\\\n",
       "\t per0027085 & 2\\\\\n",
       "\t per0029174 & 2\\\\\n",
       "\t per0029189 & 2\\\\\n",
       "\t per0031346 & 2\\\\\n",
       "\t per0035059 & 2\\\\\n",
       "\t per0036380 & 2\\\\\n",
       "\t per0036382 & 2\\\\\n",
       "\t per0038828 & 2\\\\\n",
       "\\end{tabular}\n"
      ],
      "text/markdown": [
       "\n",
       "A data.frame: 61 × 2\n",
       "\n",
       "| docauthorid &lt;chr&gt; | n &lt;int&gt; |\n",
       "|---|---|\n",
       "| per0038009  | 168 |\n",
       "| per0004772  |  81 |\n",
       "| IED0661     |  28 |\n",
       "| IED0958     |  16 |\n",
       "| IED0107     |  15 |\n",
       "| IED0403     |  12 |\n",
       "| IED0957     |  12 |\n",
       "| per0027000  |  12 |\n",
       "| per0038008  |  11 |\n",
       "| IED0212     |  10 |\n",
       "| per0026981  |  10 |\n",
       "| IED0037     |   9 |\n",
       "| IED0314     |   9 |\n",
       "| IED0621     |   9 |\n",
       "| IED0932     |   8 |\n",
       "| IED0030     |   7 |\n",
       "| IED0267     |   7 |\n",
       "| per0038052  |   7 |\n",
       "| IED0374     |   6 |\n",
       "| IED0692     |   6 |\n",
       "| per0026978a |   6 |\n",
       "| per0026998  |   6 |\n",
       "| per0038053  |   6 |\n",
       "| IED0294     |   5 |\n",
       "| per0029196  |   5 |\n",
       "| IED0838     |   4 |\n",
       "| per0000339  |   4 |\n",
       "| per0022894  |   4 |\n",
       "| per0029178  |   4 |\n",
       "| per0029184  |   4 |\n",
       "| ⋮ | ⋮ |\n",
       "| IED0070    | 3 |\n",
       "| IED0125    | 3 |\n",
       "| IED0572    | 3 |\n",
       "| IED0657    | 3 |\n",
       "| IED0727    | 3 |\n",
       "| IED1059    | 3 |\n",
       "| per0022766 | 3 |\n",
       "| per0029182 | 3 |\n",
       "| IED0068    | 2 |\n",
       "| IED0182    | 2 |\n",
       "| IED0254    | 2 |\n",
       "| IED0451    | 2 |\n",
       "| IED0611    | 2 |\n",
       "| IED0645    | 2 |\n",
       "| IED0701    | 2 |\n",
       "| IED0710    | 2 |\n",
       "| IED1029    | 2 |\n",
       "| per0022846 | 2 |\n",
       "| per0025578 | 2 |\n",
       "| per0025580 | 2 |\n",
       "| per0026513 | 2 |\n",
       "| per0027083 | 2 |\n",
       "| per0027085 | 2 |\n",
       "| per0029174 | 2 |\n",
       "| per0029189 | 2 |\n",
       "| per0031346 | 2 |\n",
       "| per0035059 | 2 |\n",
       "| per0036380 | 2 |\n",
       "| per0036382 | 2 |\n",
       "| per0038828 | 2 |\n",
       "\n"
      ],
      "text/plain": [
       "   docauthorid n  \n",
       "1  per0038009  168\n",
       "2  per0004772   81\n",
       "3  IED0661      28\n",
       "4  IED0958      16\n",
       "5  IED0107      15\n",
       "6  IED0403      12\n",
       "7  IED0957      12\n",
       "8  per0027000   12\n",
       "9  per0038008   11\n",
       "10 IED0212      10\n",
       "11 per0026981   10\n",
       "12 IED0037       9\n",
       "13 IED0314       9\n",
       "14 IED0621       9\n",
       "15 IED0932       8\n",
       "16 IED0030       7\n",
       "17 IED0267       7\n",
       "18 per0038052    7\n",
       "19 IED0374       6\n",
       "20 IED0692       6\n",
       "21 per0026978a   6\n",
       "22 per0026998    6\n",
       "23 per0038053    6\n",
       "24 IED0294       5\n",
       "25 per0029196    5\n",
       "26 IED0838       4\n",
       "27 per0000339    4\n",
       "28 per0022894    4\n",
       "29 per0029178    4\n",
       "30 per0029184    4\n",
       "⋮  ⋮           ⋮  \n",
       "32 IED0070     3  \n",
       "33 IED0125     3  \n",
       "34 IED0572     3  \n",
       "35 IED0657     3  \n",
       "36 IED0727     3  \n",
       "37 IED1059     3  \n",
       "38 per0022766  3  \n",
       "39 per0029182  3  \n",
       "40 IED0068     2  \n",
       "41 IED0182     2  \n",
       "42 IED0254     2  \n",
       "43 IED0451     2  \n",
       "44 IED0611     2  \n",
       "45 IED0645     2  \n",
       "46 IED0701     2  \n",
       "47 IED0710     2  \n",
       "48 IED1029     2  \n",
       "49 per0022846  2  \n",
       "50 per0025578  2  \n",
       "51 per0025580  2  \n",
       "52 per0026513  2  \n",
       "53 per0027083  2  \n",
       "54 per0027085  2  \n",
       "55 per0029174  2  \n",
       "56 per0029189  2  \n",
       "57 per0031346  2  \n",
       "58 per0035059  2  \n",
       "59 per0036380  2  \n",
       "60 per0036382  2  \n",
       "61 per0038828  2  "
      ]
     },
     "metadata": {},
     "output_type": "display_data"
    }
   ],
   "source": [
    "repeatAuthors <- letters %>% # Take the dataframe\n",
    "filter(!is.na(docauthorid)) %>% \n",
    "count(docauthorid, sort = TRUE) \n",
    "\n",
    "repeatAuthors %>% # Count the number of letters per authors\n",
    "count(n > 1) # Count the number of series\n",
    "\n",
    "repeatAuthors  %>% \n",
    "filter(n>1)"
   ]
  },
  {
   "cell_type": "code",
   "execution_count": 19,
   "metadata": {},
   "outputs": [
    {
     "data": {
      "text/plain": [
       "\n",
       "  F   M \n",
       "449 227 "
      ]
     },
     "metadata": {},
     "output_type": "display_data"
    },
    {
     "data": {
      "text/html": [
       "<table class=\"dataframe\">\n",
       "<caption>A matrix: 2 × 1 of type dbl</caption>\n",
       "<tbody>\n",
       "\t<tr><th scope=row>F</th><td>66.42012</td></tr>\n",
       "\t<tr><th scope=row>M</th><td>33.57988</td></tr>\n",
       "</tbody>\n",
       "</table>\n"
      ],
      "text/latex": [
       "A matrix: 2 × 1 of type dbl\n",
       "\\begin{tabular}{r|l}\n",
       "\tF & 66.42012\\\\\n",
       "\tM & 33.57988\\\\\n",
       "\\end{tabular}\n"
      ],
      "text/markdown": [
       "\n",
       "A matrix: 2 × 1 of type dbl\n",
       "\n",
       "| F | 66.42012 |\n",
       "| M | 33.57988 |\n",
       "\n"
      ],
      "text/plain": [
       "  [,1]    \n",
       "F 66.42012\n",
       "M 33.57988"
      ]
     },
     "metadata": {},
     "output_type": "display_data"
    },
    {
     "data": {
      "text/plain": [
       "\n",
       " F  M \n",
       "79 95 "
      ]
     },
     "metadata": {},
     "output_type": "display_data"
    },
    {
     "data": {
      "text/html": [
       "<table class=\"dataframe\">\n",
       "<caption>A matrix: 2 × 1 of type dbl</caption>\n",
       "<tbody>\n",
       "\t<tr><th scope=row>F</th><td>45.4023</td></tr>\n",
       "\t<tr><th scope=row>M</th><td>54.5977</td></tr>\n",
       "</tbody>\n",
       "</table>\n"
      ],
      "text/latex": [
       "A matrix: 2 × 1 of type dbl\n",
       "\\begin{tabular}{r|l}\n",
       "\tF & 45.4023\\\\\n",
       "\tM & 54.5977\\\\\n",
       "\\end{tabular}\n"
      ],
      "text/markdown": [
       "\n",
       "A matrix: 2 × 1 of type dbl\n",
       "\n",
       "| F | 45.4023 |\n",
       "| M | 54.5977 |\n",
       "\n"
      ],
      "text/plain": [
       "  [,1]   \n",
       "F 45.4023\n",
       "M 54.5977"
      ]
     },
     "metadata": {},
     "output_type": "display_data"
    },
    {
     "data": {
      "text/html": [
       "0"
      ],
      "text/latex": [
       "0"
      ],
      "text/markdown": [
       "0"
      ],
      "text/plain": [
       "[1] 0"
      ]
     },
     "metadata": {},
     "output_type": "display_data"
    }
   ],
   "source": [
    "#What is the gender breakdown by doc and by author for letters\n",
    "\n",
    "temp <- letters %>% #Create new variable for the collection of letters\n",
    "reframe(authorGender) #summarized by gender\n",
    "table(temp$authorGender) #plot\n",
    "prop.table(as.matrix(table(temp$authorGender)), 2)*100\n",
    "\n",
    "temp <- letters %>% #Create new variable for the writer pool\n",
    "reframe(authorGender, group_by=docauthorid) %>% #summarized by gender and grouped by author\n",
    "unique() #unique values only\n",
    "table(temp$authorGender) #plot author breakdown\n",
    "prop.table(as.matrix(table(temp$authorGender)), 2)*100 \n",
    "\n",
    "# How many authors are NA for gender?\n",
    "letters %>% \n",
    "filter(is.na(authorGender)) %>% \n",
    "select(docauthorid) %>% \n",
    "unique() %>% \n",
    "nrow()"
   ]
  },
  {
   "cell_type": "code",
   "execution_count": 20,
   "metadata": {},
   "outputs": [
    {
     "data": {
      "text/plain": [
       "\n",
       "FALSE  TRUE \n",
       "  383   293 "
      ]
     },
     "metadata": {},
     "output_type": "display_data"
    },
    {
     "data": {
      "text/html": [
       "<table class=\"dataframe\">\n",
       "<caption>A matrix: 2 × 1 of type dbl</caption>\n",
       "<tbody>\n",
       "\t<tr><th scope=row>FALSE</th><td>56.6568</td></tr>\n",
       "\t<tr><th scope=row>TRUE</th><td>43.3432</td></tr>\n",
       "</tbody>\n",
       "</table>\n"
      ],
      "text/latex": [
       "A matrix: 2 × 1 of type dbl\n",
       "\\begin{tabular}{r|l}\n",
       "\tFALSE & 56.6568\\\\\n",
       "\tTRUE & 43.3432\\\\\n",
       "\\end{tabular}\n"
      ],
      "text/markdown": [
       "\n",
       "A matrix: 2 × 1 of type dbl\n",
       "\n",
       "| FALSE | 56.6568 |\n",
       "| TRUE | 43.3432 |\n",
       "\n"
      ],
      "text/plain": [
       "      [,1]   \n",
       "FALSE 56.6568\n",
       "TRUE  43.3432"
      ]
     },
     "metadata": {},
     "output_type": "display_data"
    },
    {
     "data": {
      "text/plain": [
       "\n",
       "FALSE  TRUE \n",
       "   80    94 "
      ]
     },
     "metadata": {},
     "output_type": "display_data"
    },
    {
     "data": {
      "text/html": [
       "<table class=\"dataframe\">\n",
       "<caption>A matrix: 2 × 1 of type dbl</caption>\n",
       "<tbody>\n",
       "\t<tr><th scope=row>FALSE</th><td>45.97701</td></tr>\n",
       "\t<tr><th scope=row>TRUE</th><td>54.02299</td></tr>\n",
       "</tbody>\n",
       "</table>\n"
      ],
      "text/latex": [
       "A matrix: 2 × 1 of type dbl\n",
       "\\begin{tabular}{r|l}\n",
       "\tFALSE & 45.97701\\\\\n",
       "\tTRUE & 54.02299\\\\\n",
       "\\end{tabular}\n"
      ],
      "text/markdown": [
       "\n",
       "A matrix: 2 × 1 of type dbl\n",
       "\n",
       "| FALSE | 45.97701 |\n",
       "| TRUE | 54.02299 |\n",
       "\n"
      ],
      "text/plain": [
       "      [,1]    \n",
       "FALSE 45.97701\n",
       "TRUE  54.02299"
      ]
     },
     "metadata": {},
     "output_type": "display_data"
    },
    {
     "data": {
      "text/html": [
       "0"
      ],
      "text/latex": [
       "0"
      ],
      "text/markdown": [
       "0"
      ],
      "text/plain": [
       "[1] 0"
      ]
     },
     "metadata": {},
     "output_type": "display_data"
    }
   ],
   "source": [
    "#What is the country of origin breakdown by doc and by author for letters\n",
    "\n",
    "temp <- letters %>% #Create new variable for the collection of letters\n",
    "reframe(irish) #summarized by gender\n",
    "table(temp$irish) #plot\n",
    "prop.table(as.matrix(table(temp$irish)), 2)*100\n",
    "\n",
    "temp <- letters %>% #Create new variable for the writer pool\n",
    "reframe(irish, group_by=docauthorid) %>% #summarized by gender and grouped by author\n",
    "unique() #unique values only\n",
    "table(temp$irish) #plot author breakdown\n",
    "prop.table(as.matrix(table(temp$irish)), 2)*100 \n",
    "\n",
    "# How many authors are NA for irish?\n",
    "letters %>% \n",
    "filter(is.na(irish)) %>% \n",
    "select(docauthorid) %>% \n",
    "unique() %>% \n",
    "nrow()"
   ]
  },
  {
   "cell_type": "code",
   "execution_count": 21,
   "metadata": {},
   "outputs": [
    {
     "data": {
      "text/plain": [
       "\n",
       "Canada    USA \n",
       "   388    288 "
      ]
     },
     "metadata": {},
     "output_type": "display_data"
    },
    {
     "data": {
      "text/html": [
       "<table class=\"dataframe\">\n",
       "<caption>A matrix: 2 × 1 of type dbl</caption>\n",
       "<tbody>\n",
       "\t<tr><th scope=row>Canada</th><td>57.39645</td></tr>\n",
       "\t<tr><th scope=row>USA</th><td>42.60355</td></tr>\n",
       "</tbody>\n",
       "</table>\n"
      ],
      "text/latex": [
       "A matrix: 2 × 1 of type dbl\n",
       "\\begin{tabular}{r|l}\n",
       "\tCanada & 57.39645\\\\\n",
       "\tUSA & 42.60355\\\\\n",
       "\\end{tabular}\n"
      ],
      "text/markdown": [
       "\n",
       "A matrix: 2 × 1 of type dbl\n",
       "\n",
       "| Canada | 57.39645 |\n",
       "| USA | 42.60355 |\n",
       "\n"
      ],
      "text/plain": [
       "       [,1]    \n",
       "Canada 57.39645\n",
       "USA    42.60355"
      ]
     },
     "metadata": {},
     "output_type": "display_data"
    },
    {
     "data": {
      "text/plain": [
       "\n",
       "Canada    USA \n",
       "    56    120 "
      ]
     },
     "metadata": {},
     "output_type": "display_data"
    },
    {
     "data": {
      "text/html": [
       "<table class=\"dataframe\">\n",
       "<caption>A matrix: 2 × 1 of type dbl</caption>\n",
       "<tbody>\n",
       "\t<tr><th scope=row>Canada</th><td>31.81818</td></tr>\n",
       "\t<tr><th scope=row>USA</th><td>68.18182</td></tr>\n",
       "</tbody>\n",
       "</table>\n"
      ],
      "text/latex": [
       "A matrix: 2 × 1 of type dbl\n",
       "\\begin{tabular}{r|l}\n",
       "\tCanada & 31.81818\\\\\n",
       "\tUSA & 68.18182\\\\\n",
       "\\end{tabular}\n"
      ],
      "text/markdown": [
       "\n",
       "A matrix: 2 × 1 of type dbl\n",
       "\n",
       "| Canada | 31.81818 |\n",
       "| USA | 68.18182 |\n",
       "\n"
      ],
      "text/plain": [
       "       [,1]    \n",
       "Canada 31.81818\n",
       "USA    68.18182"
      ]
     },
     "metadata": {},
     "output_type": "display_data"
    },
    {
     "data": {
      "text/html": [
       "0"
      ],
      "text/latex": [
       "0"
      ],
      "text/markdown": [
       "0"
      ],
      "text/plain": [
       "[1] 0"
      ]
     },
     "metadata": {},
     "output_type": "display_data"
    }
   ],
   "source": [
    "#What is the location breakdown by doc and by author for letters\n",
    "\n",
    "temp <- letters %>% #Create new variable for the collection of letters\n",
    "reframe(authorLocation) #summarized by location\n",
    "table(temp$authorLocation) #plot\n",
    "prop.table(as.matrix(table(temp$authorLocation)), 2)*100\n",
    "\n",
    "temp <- letters %>% #Create new variable for the writer pool\n",
    "reframe(authorLocation, group_by=docauthorid) %>% #summarized by location and grouped by author\n",
    "unique() #unique values only\n",
    "table(temp$authorLocation) #plot\n",
    "prop.table(as.matrix(table(temp$authorLocation)), 2)*100 \n",
    "\n",
    "# How many authors are NA for authorLocation?\n",
    "letters %>% \n",
    "filter(is.na(authorLocation)) %>% \n",
    "select(docauthorid) %>% \n",
    "unique() %>% \n",
    "nrow()"
   ]
  },
  {
   "cell_type": "code",
   "execution_count": 22,
   "metadata": {},
   "outputs": [
    {
     "data": {
      "text/plain": [
       "   \n",
       "    Canada USA\n",
       "  F    292 157\n",
       "  M     96 131"
      ]
     },
     "metadata": {},
     "output_type": "display_data"
    },
    {
     "data": {
      "text/plain": [
       "       \n",
       "         F  M\n",
       "  FALSE 12 69\n",
       "  TRUE  67 28"
      ]
     },
     "metadata": {},
     "output_type": "display_data"
    },
    {
     "data": {
      "text/plain": [
       "       \n",
       "           F    M\n",
       "  FALSE 0.07 0.39\n",
       "  TRUE  0.38 0.16"
      ]
     },
     "metadata": {},
     "output_type": "display_data"
    },
    {
     "data": {
      "text/plain": [
       "        \n",
       "          F  M\n",
       "  Canada 19 37\n",
       "  USA    60 60"
      ]
     },
     "metadata": {},
     "output_type": "display_data"
    },
    {
     "data": {
      "text/plain": [
       "        \n",
       "            F    M\n",
       "  Canada 0.11 0.21\n",
       "  USA    0.34 0.34"
      ]
     },
     "metadata": {},
     "output_type": "display_data"
    },
    {
     "data": {
      "text/plain": [
       "        \n",
       "         FALSE TRUE\n",
       "  Canada    32   24\n",
       "  USA       49   71"
      ]
     },
     "metadata": {},
     "output_type": "display_data"
    },
    {
     "data": {
      "text/plain": [
       "        \n",
       "         FALSE TRUE\n",
       "  Canada  0.18 0.14\n",
       "  USA     0.28 0.40"
      ]
     },
     "metadata": {},
     "output_type": "display_data"
    }
   ],
   "source": [
    "# Crosstabulations\n",
    "\n",
    "table(letters$authorGender, letters$authorLocation)\n",
    "\n",
    "temp <- letters %>% \n",
    "select(docauthorid, irish, authorLocation, authorGender)  %>% \n",
    "unique()\n",
    "\n",
    "table(temp$irish, temp$authorGender)\n",
    "round(prop.table(table(temp$irish, temp$authorGender)), digits = 2)\n",
    "\n",
    "table(temp$authorLocation, temp$authorGender)\n",
    "round(prop.table(table(temp$authorLocation, temp$authorGender)), digits = 2)\n",
    "\n",
    "table(temp$authorLocation, temp$irish)\n",
    "round(prop.table(table(temp$authorLocation, temp$irish)), digits=2)"
   ]
  },
  {
   "cell_type": "code",
   "execution_count": 23,
   "metadata": {},
   "outputs": [
    {
     "data": {
      "text/plain": [
       "   Min. 1st Qu.  Median    Mean 3rd Qu.    Max. \n",
       "   1770    1849    1861    1859    1872    1912 "
      ]
     },
     "metadata": {},
     "output_type": "display_data"
    },
    {
     "data": {
      "image/png": "[encoded data removed]",
      "text/plain": [
       "Plot with title “Histogram of letters$docyear”"
      ]
     },
     "metadata": {
      "image/png": {
       "height": 420,
       "width": 420
      }
     },
     "output_type": "display_data"
    }
   ],
   "source": [
    "#What is the breakdown for year of writing\n",
    "\n",
    "hist(letters$docyear)\n",
    "summary(letters$docyear)"
   ]
  },
  {
   "cell_type": "code",
   "execution_count": 24,
   "metadata": {},
   "outputs": [
    {
     "data": {
      "text/html": [
       "7"
      ],
      "text/latex": [
       "7"
      ],
      "text/markdown": [
       "7"
      ],
      "text/plain": [
       "[1] 7"
      ]
     },
     "metadata": {},
     "output_type": "display_data"
    },
    {
     "data": {
      "text/plain": [
       "\n",
       " 1  2  3  4  5  6  7  8  9 10 11 12 \n",
       "66 54 49 42 57 53 54 43 50 58 67 76 "
      ]
     },
     "metadata": {},
     "output_type": "display_data"
    },
    {
     "data": {
      "image/png": "[encoded data removed]",
      "text/plain": [
       "Plot with title “Histogram of letters$docmonth”"
      ]
     },
     "metadata": {
      "image/png": {
       "height": 420,
       "width": 420
      }
     },
     "output_type": "display_data"
    }
   ],
   "source": [
    "#What is the breakdown for month of writing\n",
    "\n",
    "hist(letters$docmonth)\n",
    "sum(is.na(letters$docmonth))\n",
    "table(letters$docmonth)"
   ]
  },
  {
   "cell_type": "code",
   "execution_count": 25,
   "metadata": {},
   "outputs": [
    {
     "data": {
      "text/html": [
       "337"
      ],
      "text/latex": [
       "337"
      ],
      "text/markdown": [
       "337"
      ],
      "text/plain": [
       "[1] 337"
      ]
     },
     "metadata": {},
     "output_type": "display_data"
    },
    {
     "data": {
      "text/html": [
       "0.498520710059172"
      ],
      "text/latex": [
       "0.498520710059172"
      ],
      "text/markdown": [
       "0.498520710059172"
      ],
      "text/plain": [
       "[1] 0.4985207"
      ]
     },
     "metadata": {},
     "output_type": "display_data"
    },
    {
     "data": {
      "text/html": [
       "149"
      ],
      "text/latex": [
       "149"
      ],
      "text/markdown": [
       "149"
      ],
      "text/plain": [
       "[1] 149"
      ]
     },
     "metadata": {},
     "output_type": "display_data"
    },
    {
     "data": {
      "text/html": [
       "0.85632183908046"
      ],
      "text/latex": [
       "0.85632183908046"
      ],
      "text/markdown": [
       "0.85632183908046"
      ],
      "text/plain": [
       "[1] 0.8563218"
      ]
     },
     "metadata": {},
     "output_type": "display_data"
    }
   ],
   "source": [
    "#What is the breakdown for catholic\n",
    "\n",
    "sum(is.na(letters$catholic))\n",
    "sum(is.na(letters$catholic))/sum(nrow(letters))\n",
    "\n",
    "letters %>% \n",
    "filter(is.na(catholic)) %>% \n",
    "select(docauthorid) %>% \n",
    "unique() %>% \n",
    "nrow()\n",
    "\n",
    "149/length(unique(letters$docauthorid))"
   ]
  },
  {
   "cell_type": "code",
   "execution_count": 26,
   "metadata": {},
   "outputs": [
    {
     "data": {
      "text/html": [
       "291"
      ],
      "text/latex": [
       "291"
      ],
      "text/markdown": [
       "291"
      ],
      "text/plain": [
       "[1] 291"
      ]
     },
     "metadata": {},
     "output_type": "display_data"
    },
    {
     "data": {
      "text/html": [
       "0.430473372781065"
      ],
      "text/latex": [
       "0.430473372781065"
      ],
      "text/markdown": [
       "0.430473372781065"
      ],
      "text/plain": [
       "[1] 0.4304734"
      ]
     },
     "metadata": {},
     "output_type": "display_data"
    },
    {
     "data": {
      "text/html": [
       "124"
      ],
      "text/latex": [
       "124"
      ],
      "text/markdown": [
       "124"
      ],
      "text/plain": [
       "[1] 124"
      ]
     },
     "metadata": {},
     "output_type": "display_data"
    },
    {
     "data": {
      "text/html": [
       "0.71264367816092"
      ],
      "text/latex": [
       "0.71264367816092"
      ],
      "text/markdown": [
       "0.71264367816092"
      ],
      "text/plain": [
       "[1] 0.7126437"
      ]
     },
     "metadata": {},
     "output_type": "display_data"
    }
   ],
   "source": [
    "#What is the breakdown for labour\n",
    "sum(is.na(letters$L))\n",
    "sum(is.na(letters$L))/sum(nrow(letters))\n",
    "\n",
    "letters %>% \n",
    "filter(is.na(L)) %>% \n",
    "select(docauthorid) %>% \n",
    "unique() %>% \n",
    "nrow()\n",
    "\n",
    "124/length(unique(letters$docauthorid))"
   ]
  },
  {
   "cell_type": "markdown",
   "metadata": {},
   "source": [
    "## References\n",
    "\n",
    "Conway, A. (1961). The Welsh in America: Letters from the immigrants. University of Minnesota Press. https://www.jstor.org/stable/10.5749/j.cttts8t0.\n",
    "\n",
    "Fitzpatrick, D. (1999). Ireland and empire. In W. R. Louis & A. N. Porter (Eds.), The Oxford history of the British empire: The nineteenth century (pp. 494–521). Oxford University Press. https://doi.org/10.1093/acprof:oso/9780198205654.001.0001\n",
    "\n",
    "\n",
    "Harkness, D. A. E. (1931). Irish emigration. In W. F. Willcox (Ed.), International migrations: Vol. II (Interpretations) (pp. 261–282). National Bureau of Economic Research. https://www.nber.org/books-and-chapters/international-migrations-volume-ii-interpretations/irish-emigration\n",
    "\n",
    "Turnbull, T. (1914). T. Turnbull’s travels from the United States across the plains to California (F. L. (Frederic L. Paxson & R. G. Thwaites, Eds.). Madison, Published for the State Historical Society of Wisconsin. http://archive.org/details/tturnbullstravel00turnrich\n"
   ]
  }
 ],
 "metadata": {
  "kernelspec": {
   "display_name": "R",
   "language": "R",
   "name": "ir"
  },
  "language_info": {
   "codemirror_mode": "r",
   "file_extension": ".r",
   "mimetype": "text/x-r-source",
   "name": "R",
   "pygments_lexer": "r",
   "version": "4.1.0"
  }
 },
 "nbformat": 4,
 "nbformat_minor": 2
}
