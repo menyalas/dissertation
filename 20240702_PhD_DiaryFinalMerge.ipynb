{
 "cells": [
  {
   "cell_type": "markdown",
   "id": "9c4dd1c4",
   "metadata": {},
   "source": [
    "# Merging whole diary and chunk datatables"
   ]
  },
  {
   "cell_type": "markdown",
   "id": "d0bc1f6b",
   "metadata": {},
   "source": [
    "## Resources"
   ]
  },
  {
   "cell_type": "code",
   "execution_count": 3,
   "id": "6baa03b3",
   "metadata": {},
   "outputs": [],
   "source": [
    "# Libraries\n",
    "library(tidyverse) # for data manipulation"
   ]
  },
  {
   "cell_type": "code",
   "execution_count": 2,
   "id": "39441685",
   "metadata": {},
   "outputs": [],
   "source": [
    "# Functions\n",
    "factorize <- function(df){ # Create a function\n",
    "  for(i in which(sapply(df, class) == \"character\")) # that looks for variables with the character class \n",
    "      df[[i]] = as.factor(df[[i]]) # and converts them to factor (i.e., categorical) class\n",
    "  return(df)\n",
    "}\n",
    "\n",
    "unfactorize <- function(df){ # Create a function\n",
    "  for(i in which(sapply(df, class) == \"factor\")) # that looks for variables with the character class \n",
    "      df[[i]] = as.character(df[[i]]) # and converts them to factor (i.e., categorical) class\n",
    "  return(df)\n",
    "}"
   ]
  },
  {
   "cell_type": "code",
   "execution_count": 19,
   "id": "9cb74760",
   "metadata": {},
   "outputs": [
    {
     "name": "stdout",
     "output_type": "stream",
     "text": [
      "Rows: 1,023\n",
      "Columns: 36\n",
      "$ docid            \u001b[3m\u001b[90m<chr>\u001b[39m\u001b[23m \"D0002\", \"D0002\", \"D0002\", \"D0002\", \"D0002\", \"D0002\",…\n",
      "$ docyear          \u001b[3m\u001b[90m<int>\u001b[39m\u001b[23m 1883, 1883, 1883, 1883, 1883, 1883, 1883, 1883, 1883,…\n",
      "$ docmonth         \u001b[3m\u001b[90m<lgl>\u001b[39m\u001b[23m NA, NA, NA, NA, NA, NA, NA, NA, NA, NA, NA, NA, NA, N…\n",
      "$ authorName       \u001b[3m\u001b[90m<chr>\u001b[39m\u001b[23m \"Anne F. Richards\", \"Anne F. Richards\", \"Anne F. Rich…\n",
      "$ docauthorid      \u001b[3m\u001b[90m<chr>\u001b[39m\u001b[23m \"D0002\", \"D0002\", \"D0002\", \"D0002\", \"D0002\", \"D0002\",…\n",
      "$ authorLocation   \u001b[3m\u001b[90m<chr>\u001b[39m\u001b[23m \"Australia\", \"Australia\", \"Australia\", \"Australia\", \"…\n",
      "$ authorGender     \u001b[3m\u001b[90m<chr>\u001b[39m\u001b[23m \"F\", \"F\", \"F\", \"F\", \"F\", \"F\", \"F\", \"F\", \"F\", \"F\", \"F\"…\n",
      "$ nationalOrigin   \u001b[3m\u001b[90m<chr>\u001b[39m\u001b[23m \"English\", \"English\", \"English\", \"English\", \"English\"…\n",
      "$ irish            \u001b[3m\u001b[90m<chr>\u001b[39m\u001b[23m \"False\", \"False\", \"False\", \"False\", \"False\", \"False\",…\n",
      "$ otherUK          \u001b[3m\u001b[90m<chr>\u001b[39m\u001b[23m \"True\", \"True\", \"True\", \"True\", \"True\", \"True\", \"True…\n",
      "$ relMin           \u001b[3m\u001b[90m<chr>\u001b[39m\u001b[23m \"False\", \"False\", \"False\", \"False\", \"False\", \"False\",…\n",
      "$ catholic         \u001b[3m\u001b[90m<chr>\u001b[39m\u001b[23m \"False\", \"False\", \"False\", \"False\", \"False\", \"False\",…\n",
      "$ otherChristian   \u001b[3m\u001b[90m<chr>\u001b[39m\u001b[23m \"True\", \"True\", \"True\", \"True\", \"True\", \"True\", \"True…\n",
      "$ U                \u001b[3m\u001b[90m<chr>\u001b[39m\u001b[23m \"False\", \"False\", \"False\", \"False\", \"False\", \"False\",…\n",
      "$ M                \u001b[3m\u001b[90m<chr>\u001b[39m\u001b[23m \"True\", \"True\", \"True\", \"True\", \"True\", \"True\", \"True…\n",
      "$ S                \u001b[3m\u001b[90m<chr>\u001b[39m\u001b[23m \"False\", \"False\", \"False\", \"False\", \"False\", \"False\",…\n",
      "$ F                \u001b[3m\u001b[90m<chr>\u001b[39m\u001b[23m \"True\", \"True\", \"True\", \"True\", \"True\", \"True\", \"True…\n",
      "$ L                \u001b[3m\u001b[90m<chr>\u001b[39m\u001b[23m \"False\", \"False\", \"False\", \"False\", \"False\", \"False\",…\n",
      "$ text             \u001b[3m\u001b[90m<chr>\u001b[39m\u001b[23m \"Charra Wednesday Nov 4th 1883 A nice cool day Mrs Ro…\n",
      "$ sequence         \u001b[3m\u001b[90m<int>\u001b[39m\u001b[23m 1, 2, 3, 4, 5, 6, 7, 8, 9, 10, 11, 12, 13, 14, 15, 16…\n",
      "$ totalTokens      \u001b[3m\u001b[90m<int>\u001b[39m\u001b[23m 277, 281, 276, 270, 282, 279, 280, 286, 282, 269, 269…\n",
      "$ uniqueTokens     \u001b[3m\u001b[90m<int>\u001b[39m\u001b[23m 171, 170, 170, 163, 147, 164, 169, 181, 169, 161, 165…\n",
      "$ lexicalDiversity \u001b[3m\u001b[90m<dbl>\u001b[39m\u001b[23m 0.6173285, 0.6049822, 0.6159420, 0.6037037, 0.5212766…\n",
      "$ scoreNeg         \u001b[3m\u001b[90m<dbl>\u001b[39m\u001b[23m 0.070000000, 0.044333333, 0.074750000, 0.045600000, 0…\n",
      "$ scoreNeu         \u001b[3m\u001b[90m<dbl>\u001b[39m\u001b[23m 0.8910000, 0.9076667, 0.8845000, 0.9256000, 0.8922857…\n",
      "$ scorePos         \u001b[3m\u001b[90m<dbl>\u001b[39m\u001b[23m 0.039000000, 0.048000000, 0.041000000, 0.028600000, 0…\n",
      "$ scoreCom         \u001b[3m\u001b[90m<dbl>\u001b[39m\u001b[23m -0.37976667, -0.05883333, -0.13772500, -0.21692000, -…\n",
      "$ chunks           \u001b[3m\u001b[90m<int>\u001b[39m\u001b[23m 447, 447, 447, 447, 447, 447, 447, 447, 447, 447, 447…\n",
      "$ position         \u001b[3m\u001b[90m<dbl>\u001b[39m\u001b[23m 0.002237136, 0.004474273, 0.006711409, 0.008948546, 0…\n",
      "$ topicNumber      \u001b[3m\u001b[90m<int>\u001b[39m\u001b[23m 8, 8, 8, 8, 8, 8, 5, 0, 0, 0, 8, 8, 8, 5, 8, 8, 8, 8,…\n",
      "$ mentsDis         \u001b[3m\u001b[90m<chr>\u001b[39m\u001b[23m \"Mrs Roberts, Tom, Hiern, Worrier, Jeff Miller, Jimmy…\n",
      "$ mentsTot         \u001b[3m\u001b[90m<int>\u001b[39m\u001b[23m 8, 10, 9, 14, 15, 15, 17, 17, 12, 14, 17, 16, 14, 14,…\n",
      "$ indsTot          \u001b[3m\u001b[90m<int>\u001b[39m\u001b[23m 6, 7, 8, 11, 9, 9, 9, 15, 10, 7, 13, 8, 9, 9, 9, 7, 6…\n",
      "$ fppAll_Ct        \u001b[3m\u001b[90m<int>\u001b[39m\u001b[23m 10, 8, 8, 8, 10, 10, 4, 7, 10, 12, 14, 8, 8, 8, 7, 3,…\n",
      "$ fppSub_Ct        \u001b[3m\u001b[90m<int>\u001b[39m\u001b[23m 7, 6, 7, 6, 10, 8, 1, 4, 6, 10, 8, 6, 5, 5, 5, 3, 5, …\n",
      "$ fppObj_Ct        \u001b[3m\u001b[90m<int>\u001b[39m\u001b[23m 3, 2, 1, 2, 0, 2, 3, 3, 4, 2, 6, 2, 3, 3, 2, 0, 0, 0,…\n"
     ]
    }
   ],
   "source": [
    "# Data\n",
    "df1 <- read.csv(\"20240701_PhD_FinalData-DiaryChk.csv\")\n",
    "df1 <- df1[,3:38]\n",
    "# Variabe Names\n",
    "glimpse(df1)"
   ]
  },
  {
   "cell_type": "code",
   "execution_count": 20,
   "id": "686a7cc6",
   "metadata": {},
   "outputs": [
    {
     "name": "stdout",
     "output_type": "stream",
     "text": [
      "Rows: 4\n",
      "Columns: 6\n",
      "$ docid     \u001b[3m\u001b[90m<chr>\u001b[39m\u001b[23m \"D0002\", \"D0003\", \"D0007\", \"D0009\"\n",
      "$ mentsTot  \u001b[3m\u001b[90m<int>\u001b[39m\u001b[23m 3801, 574, 1706, 1209\n",
      "$ indsTot   \u001b[3m\u001b[90m<int>\u001b[39m\u001b[23m 1267, 221, 712, 817\n",
      "$ fppAll_Ct \u001b[3m\u001b[90m<int>\u001b[39m\u001b[23m 2082, 1121, 1030, 913\n",
      "$ fppSub_Ct \u001b[3m\u001b[90m<int>\u001b[39m\u001b[23m 1522, 1013, 787, 802\n",
      "$ fppObj_Ct \u001b[3m\u001b[90m<int>\u001b[39m\u001b[23m 560, 108, 243, 111\n"
     ]
    }
   ],
   "source": [
    "# Data\n",
    "df2 <- read.csv(\"20240701_PhD_FinalData-Diary.csv\")\n",
    "df2 <- df2[,c(2,29:33)]\n",
    "# Variabe Names\n",
    "glimpse(df2)"
   ]
  },
  {
   "cell_type": "code",
   "execution_count": 21,
   "id": "8a70259d",
   "metadata": {},
   "outputs": [
    {
     "data": {
      "text/html": [
       "<table class=\"dataframe\">\n",
       "<caption>A data.frame: 6 × 41</caption>\n",
       "<thead>\n",
       "\t<tr><th></th><th scope=col>docid</th><th scope=col>docyear</th><th scope=col>docmonth</th><th scope=col>authorName</th><th scope=col>docauthorid</th><th scope=col>authorLocation</th><th scope=col>authorGender</th><th scope=col>nationalOrigin</th><th scope=col>irish</th><th scope=col>otherUK</th><th scope=col>⋯</th><th scope=col>mentsTot</th><th scope=col>indsTot</th><th scope=col>fppAll_Ct</th><th scope=col>fppSub_Ct</th><th scope=col>fppObj_Ct</th><th scope=col>mentsTotFULL</th><th scope=col>indsTotFULL</th><th scope=col>fppAll_CtFULL</th><th scope=col>fppSub_CtFULL</th><th scope=col>fppObj_CtFULL</th></tr>\n",
       "\t<tr><th></th><th scope=col>&lt;chr&gt;</th><th scope=col>&lt;int&gt;</th><th scope=col>&lt;lgl&gt;</th><th scope=col>&lt;chr&gt;</th><th scope=col>&lt;chr&gt;</th><th scope=col>&lt;chr&gt;</th><th scope=col>&lt;chr&gt;</th><th scope=col>&lt;chr&gt;</th><th scope=col>&lt;chr&gt;</th><th scope=col>&lt;chr&gt;</th><th scope=col>⋯</th><th scope=col>&lt;int&gt;</th><th scope=col>&lt;int&gt;</th><th scope=col>&lt;int&gt;</th><th scope=col>&lt;int&gt;</th><th scope=col>&lt;int&gt;</th><th scope=col>&lt;int&gt;</th><th scope=col>&lt;int&gt;</th><th scope=col>&lt;int&gt;</th><th scope=col>&lt;int&gt;</th><th scope=col>&lt;int&gt;</th></tr>\n",
       "</thead>\n",
       "<tbody>\n",
       "\t<tr><th scope=row>1</th><td>D0002</td><td>1883</td><td>NA</td><td>Anne F. Richards</td><td>D0002</td><td>Australia</td><td>F</td><td>English</td><td>False</td><td>True</td><td>⋯</td><td> 8</td><td> 6</td><td>10</td><td> 7</td><td>3</td><td>3801</td><td>1267</td><td>2082</td><td>1522</td><td>560</td></tr>\n",
       "\t<tr><th scope=row>2</th><td>D0002</td><td>1883</td><td>NA</td><td>Anne F. Richards</td><td>D0002</td><td>Australia</td><td>F</td><td>English</td><td>False</td><td>True</td><td>⋯</td><td>10</td><td> 7</td><td> 8</td><td> 6</td><td>2</td><td>3801</td><td>1267</td><td>2082</td><td>1522</td><td>560</td></tr>\n",
       "\t<tr><th scope=row>3</th><td>D0002</td><td>1883</td><td>NA</td><td>Anne F. Richards</td><td>D0002</td><td>Australia</td><td>F</td><td>English</td><td>False</td><td>True</td><td>⋯</td><td> 9</td><td> 8</td><td> 8</td><td> 7</td><td>1</td><td>3801</td><td>1267</td><td>2082</td><td>1522</td><td>560</td></tr>\n",
       "\t<tr><th scope=row>4</th><td>D0002</td><td>1883</td><td>NA</td><td>Anne F. Richards</td><td>D0002</td><td>Australia</td><td>F</td><td>English</td><td>False</td><td>True</td><td>⋯</td><td>14</td><td>11</td><td> 8</td><td> 6</td><td>2</td><td>3801</td><td>1267</td><td>2082</td><td>1522</td><td>560</td></tr>\n",
       "\t<tr><th scope=row>5</th><td>D0002</td><td>1883</td><td>NA</td><td>Anne F. Richards</td><td>D0002</td><td>Australia</td><td>F</td><td>English</td><td>False</td><td>True</td><td>⋯</td><td>15</td><td> 9</td><td>10</td><td>10</td><td>0</td><td>3801</td><td>1267</td><td>2082</td><td>1522</td><td>560</td></tr>\n",
       "\t<tr><th scope=row>6</th><td>D0002</td><td>1883</td><td>NA</td><td>Anne F. Richards</td><td>D0002</td><td>Australia</td><td>F</td><td>English</td><td>False</td><td>True</td><td>⋯</td><td>15</td><td> 9</td><td>10</td><td> 8</td><td>2</td><td>3801</td><td>1267</td><td>2082</td><td>1522</td><td>560</td></tr>\n",
       "</tbody>\n",
       "</table>\n"
      ],
      "text/latex": [
       "A data.frame: 6 × 41\n",
       "\\begin{tabular}{r|lllllllllllllllllllll}\n",
       "  & docid & docyear & docmonth & authorName & docauthorid & authorLocation & authorGender & nationalOrigin & irish & otherUK & ⋯ & mentsTot & indsTot & fppAll\\_Ct & fppSub\\_Ct & fppObj\\_Ct & mentsTotFULL & indsTotFULL & fppAll\\_CtFULL & fppSub\\_CtFULL & fppObj\\_CtFULL\\\\\n",
       "  & <chr> & <int> & <lgl> & <chr> & <chr> & <chr> & <chr> & <chr> & <chr> & <chr> & ⋯ & <int> & <int> & <int> & <int> & <int> & <int> & <int> & <int> & <int> & <int>\\\\\n",
       "\\hline\n",
       "\t1 & D0002 & 1883 & NA & Anne F. Richards & D0002 & Australia & F & English & False & True & ⋯ &  8 &  6 & 10 &  7 & 3 & 3801 & 1267 & 2082 & 1522 & 560\\\\\n",
       "\t2 & D0002 & 1883 & NA & Anne F. Richards & D0002 & Australia & F & English & False & True & ⋯ & 10 &  7 &  8 &  6 & 2 & 3801 & 1267 & 2082 & 1522 & 560\\\\\n",
       "\t3 & D0002 & 1883 & NA & Anne F. Richards & D0002 & Australia & F & English & False & True & ⋯ &  9 &  8 &  8 &  7 & 1 & 3801 & 1267 & 2082 & 1522 & 560\\\\\n",
       "\t4 & D0002 & 1883 & NA & Anne F. Richards & D0002 & Australia & F & English & False & True & ⋯ & 14 & 11 &  8 &  6 & 2 & 3801 & 1267 & 2082 & 1522 & 560\\\\\n",
       "\t5 & D0002 & 1883 & NA & Anne F. Richards & D0002 & Australia & F & English & False & True & ⋯ & 15 &  9 & 10 & 10 & 0 & 3801 & 1267 & 2082 & 1522 & 560\\\\\n",
       "\t6 & D0002 & 1883 & NA & Anne F. Richards & D0002 & Australia & F & English & False & True & ⋯ & 15 &  9 & 10 &  8 & 2 & 3801 & 1267 & 2082 & 1522 & 560\\\\\n",
       "\\end{tabular}\n"
      ],
      "text/markdown": [
       "\n",
       "A data.frame: 6 × 41\n",
       "\n",
       "| <!--/--> | docid &lt;chr&gt; | docyear &lt;int&gt; | docmonth &lt;lgl&gt; | authorName &lt;chr&gt; | docauthorid &lt;chr&gt; | authorLocation &lt;chr&gt; | authorGender &lt;chr&gt; | nationalOrigin &lt;chr&gt; | irish &lt;chr&gt; | otherUK &lt;chr&gt; | ⋯ ⋯ | mentsTot &lt;int&gt; | indsTot &lt;int&gt; | fppAll_Ct &lt;int&gt; | fppSub_Ct &lt;int&gt; | fppObj_Ct &lt;int&gt; | mentsTotFULL &lt;int&gt; | indsTotFULL &lt;int&gt; | fppAll_CtFULL &lt;int&gt; | fppSub_CtFULL &lt;int&gt; | fppObj_CtFULL &lt;int&gt; |\n",
       "|---|---|---|---|---|---|---|---|---|---|---|---|---|---|---|---|---|---|---|---|---|---|\n",
       "| 1 | D0002 | 1883 | NA | Anne F. Richards | D0002 | Australia | F | English | False | True | ⋯ |  8 |  6 | 10 |  7 | 3 | 3801 | 1267 | 2082 | 1522 | 560 |\n",
       "| 2 | D0002 | 1883 | NA | Anne F. Richards | D0002 | Australia | F | English | False | True | ⋯ | 10 |  7 |  8 |  6 | 2 | 3801 | 1267 | 2082 | 1522 | 560 |\n",
       "| 3 | D0002 | 1883 | NA | Anne F. Richards | D0002 | Australia | F | English | False | True | ⋯ |  9 |  8 |  8 |  7 | 1 | 3801 | 1267 | 2082 | 1522 | 560 |\n",
       "| 4 | D0002 | 1883 | NA | Anne F. Richards | D0002 | Australia | F | English | False | True | ⋯ | 14 | 11 |  8 |  6 | 2 | 3801 | 1267 | 2082 | 1522 | 560 |\n",
       "| 5 | D0002 | 1883 | NA | Anne F. Richards | D0002 | Australia | F | English | False | True | ⋯ | 15 |  9 | 10 | 10 | 0 | 3801 | 1267 | 2082 | 1522 | 560 |\n",
       "| 6 | D0002 | 1883 | NA | Anne F. Richards | D0002 | Australia | F | English | False | True | ⋯ | 15 |  9 | 10 |  8 | 2 | 3801 | 1267 | 2082 | 1522 | 560 |\n",
       "\n"
      ],
      "text/plain": [
       "  docid docyear docmonth authorName       docauthorid authorLocation\n",
       "1 D0002 1883    NA       Anne F. Richards D0002       Australia     \n",
       "2 D0002 1883    NA       Anne F. Richards D0002       Australia     \n",
       "3 D0002 1883    NA       Anne F. Richards D0002       Australia     \n",
       "4 D0002 1883    NA       Anne F. Richards D0002       Australia     \n",
       "5 D0002 1883    NA       Anne F. Richards D0002       Australia     \n",
       "6 D0002 1883    NA       Anne F. Richards D0002       Australia     \n",
       "  authorGender nationalOrigin irish otherUK ⋯ mentsTot indsTot fppAll_Ct\n",
       "1 F            English        False True    ⋯  8        6      10       \n",
       "2 F            English        False True    ⋯ 10        7       8       \n",
       "3 F            English        False True    ⋯  9        8       8       \n",
       "4 F            English        False True    ⋯ 14       11       8       \n",
       "5 F            English        False True    ⋯ 15        9      10       \n",
       "6 F            English        False True    ⋯ 15        9      10       \n",
       "  fppSub_Ct fppObj_Ct mentsTotFULL indsTotFULL fppAll_CtFULL fppSub_CtFULL\n",
       "1  7        3         3801         1267        2082          1522         \n",
       "2  6        2         3801         1267        2082          1522         \n",
       "3  7        1         3801         1267        2082          1522         \n",
       "4  6        2         3801         1267        2082          1522         \n",
       "5 10        0         3801         1267        2082          1522         \n",
       "6  8        2         3801         1267        2082          1522         \n",
       "  fppObj_CtFULL\n",
       "1 560          \n",
       "2 560          \n",
       "3 560          \n",
       "4 560          \n",
       "5 560          \n",
       "6 560          "
      ]
     },
     "metadata": {},
     "output_type": "display_data"
    }
   ],
   "source": [
    "df <- left_join(df1,df2, by=\"docid\")\n",
    "colnames(df) <- sub(\"\\\\.y\", \"FULL\", colnames(df))\n",
    "colnames(df) <- sub(\"\\\\.x\", \"\", colnames(df))\n",
    "head(df)"
   ]
  },
  {
   "cell_type": "code",
   "execution_count": 22,
   "id": "ac050389",
   "metadata": {},
   "outputs": [],
   "source": [
    "#Save Sampling Frame\n",
    "\n",
    "write.csv(df, \n",
    "          \"20240702_PhD_FinalData-DiaryChk.csv\", \n",
    "          row.names=FALSE)"
   ]
  },
  {
   "cell_type": "code",
   "execution_count": 23,
   "id": "d2c66d4e",
   "metadata": {},
   "outputs": [
    {
     "name": "stdout",
     "output_type": "stream",
     "text": [
      "Rows: 1,023\n",
      "Columns: 41\n",
      "$ docid            \u001b[3m\u001b[90m<chr>\u001b[39m\u001b[23m \"D0002\", \"D0002\", \"D0002\", \"D0002\", \"D0002\", \"D0002\",…\n",
      "$ docyear          \u001b[3m\u001b[90m<int>\u001b[39m\u001b[23m 1883, 1883, 1883, 1883, 1883, 1883, 1883, 1883, 1883,…\n",
      "$ docmonth         \u001b[3m\u001b[90m<lgl>\u001b[39m\u001b[23m NA, NA, NA, NA, NA, NA, NA, NA, NA, NA, NA, NA, NA, N…\n",
      "$ authorName       \u001b[3m\u001b[90m<chr>\u001b[39m\u001b[23m \"Anne F. Richards\", \"Anne F. Richards\", \"Anne F. Rich…\n",
      "$ docauthorid      \u001b[3m\u001b[90m<chr>\u001b[39m\u001b[23m \"D0002\", \"D0002\", \"D0002\", \"D0002\", \"D0002\", \"D0002\",…\n",
      "$ authorLocation   \u001b[3m\u001b[90m<chr>\u001b[39m\u001b[23m \"Australia\", \"Australia\", \"Australia\", \"Australia\", \"…\n",
      "$ authorGender     \u001b[3m\u001b[90m<chr>\u001b[39m\u001b[23m \"F\", \"F\", \"F\", \"F\", \"F\", \"F\", \"F\", \"F\", \"F\", \"F\", \"F\"…\n",
      "$ nationalOrigin   \u001b[3m\u001b[90m<chr>\u001b[39m\u001b[23m \"English\", \"English\", \"English\", \"English\", \"English\"…\n",
      "$ irish            \u001b[3m\u001b[90m<chr>\u001b[39m\u001b[23m \"False\", \"False\", \"False\", \"False\", \"False\", \"False\",…\n",
      "$ otherUK          \u001b[3m\u001b[90m<chr>\u001b[39m\u001b[23m \"True\", \"True\", \"True\", \"True\", \"True\", \"True\", \"True…\n",
      "$ relMin           \u001b[3m\u001b[90m<chr>\u001b[39m\u001b[23m \"False\", \"False\", \"False\", \"False\", \"False\", \"False\",…\n",
      "$ catholic         \u001b[3m\u001b[90m<chr>\u001b[39m\u001b[23m \"False\", \"False\", \"False\", \"False\", \"False\", \"False\",…\n",
      "$ otherChristian   \u001b[3m\u001b[90m<chr>\u001b[39m\u001b[23m \"True\", \"True\", \"True\", \"True\", \"True\", \"True\", \"True…\n",
      "$ U                \u001b[3m\u001b[90m<chr>\u001b[39m\u001b[23m \"False\", \"False\", \"False\", \"False\", \"False\", \"False\",…\n",
      "$ M                \u001b[3m\u001b[90m<chr>\u001b[39m\u001b[23m \"True\", \"True\", \"True\", \"True\", \"True\", \"True\", \"True…\n",
      "$ S                \u001b[3m\u001b[90m<chr>\u001b[39m\u001b[23m \"False\", \"False\", \"False\", \"False\", \"False\", \"False\",…\n",
      "$ F                \u001b[3m\u001b[90m<chr>\u001b[39m\u001b[23m \"True\", \"True\", \"True\", \"True\", \"True\", \"True\", \"True…\n",
      "$ L                \u001b[3m\u001b[90m<chr>\u001b[39m\u001b[23m \"False\", \"False\", \"False\", \"False\", \"False\", \"False\",…\n",
      "$ text             \u001b[3m\u001b[90m<chr>\u001b[39m\u001b[23m \"Charra Wednesday Nov 4th 1883 A nice cool day Mrs Ro…\n",
      "$ sequence         \u001b[3m\u001b[90m<int>\u001b[39m\u001b[23m 1, 2, 3, 4, 5, 6, 7, 8, 9, 10, 11, 12, 13, 14, 15, 16…\n",
      "$ totalTokens      \u001b[3m\u001b[90m<int>\u001b[39m\u001b[23m 277, 281, 276, 270, 282, 279, 280, 286, 282, 269, 269…\n",
      "$ uniqueTokens     \u001b[3m\u001b[90m<int>\u001b[39m\u001b[23m 171, 170, 170, 163, 147, 164, 169, 181, 169, 161, 165…\n",
      "$ lexicalDiversity \u001b[3m\u001b[90m<dbl>\u001b[39m\u001b[23m 0.6173285, 0.6049822, 0.6159420, 0.6037037, 0.5212766…\n",
      "$ scoreNeg         \u001b[3m\u001b[90m<dbl>\u001b[39m\u001b[23m 0.070000000, 0.044333333, 0.074750000, 0.045600000, 0…\n",
      "$ scoreNeu         \u001b[3m\u001b[90m<dbl>\u001b[39m\u001b[23m 0.8910000, 0.9076667, 0.8845000, 0.9256000, 0.8922857…\n",
      "$ scorePos         \u001b[3m\u001b[90m<dbl>\u001b[39m\u001b[23m 0.039000000, 0.048000000, 0.041000000, 0.028600000, 0…\n",
      "$ scoreCom         \u001b[3m\u001b[90m<dbl>\u001b[39m\u001b[23m -0.37976667, -0.05883333, -0.13772500, -0.21692000, -…\n",
      "$ chunks           \u001b[3m\u001b[90m<int>\u001b[39m\u001b[23m 447, 447, 447, 447, 447, 447, 447, 447, 447, 447, 447…\n",
      "$ position         \u001b[3m\u001b[90m<dbl>\u001b[39m\u001b[23m 0.002237136, 0.004474273, 0.006711409, 0.008948546, 0…\n",
      "$ topicNumber      \u001b[3m\u001b[90m<int>\u001b[39m\u001b[23m 8, 8, 8, 8, 8, 8, 5, 0, 0, 0, 8, 8, 8, 5, 8, 8, 8, 8,…\n",
      "$ mentsDis         \u001b[3m\u001b[90m<chr>\u001b[39m\u001b[23m \"Mrs Roberts, Tom, Hiern, Worrier, Jeff Miller, Jimmy…\n",
      "$ mentsTot         \u001b[3m\u001b[90m<int>\u001b[39m\u001b[23m 8, 10, 9, 14, 15, 15, 17, 17, 12, 14, 17, 16, 14, 14,…\n",
      "$ indsTot          \u001b[3m\u001b[90m<int>\u001b[39m\u001b[23m 6, 7, 8, 11, 9, 9, 9, 15, 10, 7, 13, 8, 9, 9, 9, 7, 6…\n",
      "$ fppAll_Ct        \u001b[3m\u001b[90m<int>\u001b[39m\u001b[23m 10, 8, 8, 8, 10, 10, 4, 7, 10, 12, 14, 8, 8, 8, 7, 3,…\n",
      "$ fppSub_Ct        \u001b[3m\u001b[90m<int>\u001b[39m\u001b[23m 7, 6, 7, 6, 10, 8, 1, 4, 6, 10, 8, 6, 5, 5, 5, 3, 5, …\n",
      "$ fppObj_Ct        \u001b[3m\u001b[90m<int>\u001b[39m\u001b[23m 3, 2, 1, 2, 0, 2, 3, 3, 4, 2, 6, 2, 3, 3, 2, 0, 0, 0,…\n",
      "$ mentsTotFULL     \u001b[3m\u001b[90m<int>\u001b[39m\u001b[23m 3801, 3801, 3801, 3801, 3801, 3801, 3801, 3801, 3801,…\n",
      "$ indsTotFULL      \u001b[3m\u001b[90m<int>\u001b[39m\u001b[23m 1267, 1267, 1267, 1267, 1267, 1267, 1267, 1267, 1267,…\n",
      "$ fppAll_CtFULL    \u001b[3m\u001b[90m<int>\u001b[39m\u001b[23m 2082, 2082, 2082, 2082, 2082, 2082, 2082, 2082, 2082,…\n",
      "$ fppSub_CtFULL    \u001b[3m\u001b[90m<int>\u001b[39m\u001b[23m 1522, 1522, 1522, 1522, 1522, 1522, 1522, 1522, 1522,…\n",
      "$ fppObj_CtFULL    \u001b[3m\u001b[90m<int>\u001b[39m\u001b[23m 560, 560, 560, 560, 560, 560, 560, 560, 560, 560, 560…\n"
     ]
    }
   ],
   "source": [
    "glimpse(df)"
   ]
  },
  {
   "cell_type": "code",
   "execution_count": null,
   "id": "19379565",
   "metadata": {},
   "outputs": [],
   "source": []
  }
 ],
 "metadata": {
  "kernelspec": {
   "display_name": "R",
   "language": "R",
   "name": "ir"
  },
  "language_info": {
   "codemirror_mode": "r",
   "file_extension": ".r",
   "mimetype": "text/x-r-source",
   "name": "R",
   "pygments_lexer": "r",
   "version": "4.4.0"
  }
 },
 "nbformat": 4,
 "nbformat_minor": 5
}
