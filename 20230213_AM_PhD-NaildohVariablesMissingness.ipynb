{
 "cells": [
  {
   "cell_type": "markdown",
   "id": "9c4dd1c4",
   "metadata": {},
   "source": [
    "# NAILDOH Variables & Missingness\n",
    "\n",
    "## Resources"
   ]
  },
  {
   "cell_type": "markdown",
   "id": "abbf45b0",
   "metadata": {},
   "source": [
    "This is the second notebook in the series used to prepare and analyze the NAILDOH collection."
   ]
  },
  {
   "cell_type": "code",
   "execution_count": 1,
   "id": "fa439d06",
   "metadata": {},
   "outputs": [],
   "source": [
    "# Options\n",
    "options(digits = 1)"
   ]
  },
  {
   "cell_type": "code",
   "execution_count": 2,
   "id": "6baa03b3",
   "metadata": {},
   "outputs": [
    {
     "name": "stderr",
     "output_type": "stream",
     "text": [
      "Warning message:\n",
      "“replacing previous import ‘lifecycle::last_warnings’ by ‘rlang::last_warnings’ when loading ‘tibble’”\n",
      "Warning message:\n",
      "“replacing previous import ‘lifecycle::last_warnings’ by ‘rlang::last_warnings’ when loading ‘hms’”\n",
      "── \u001b[1mAttaching packages\u001b[22m ─────────────────────────────────────── tidyverse 1.3.1 ──\n",
      "\n",
      "\u001b[32m✔\u001b[39m \u001b[34mggplot2\u001b[39m 3.3.3     \u001b[32m✔\u001b[39m \u001b[34mpurrr  \u001b[39m 0.3.4\n",
      "\u001b[32m✔\u001b[39m \u001b[34mtibble \u001b[39m 3.1.2     \u001b[32m✔\u001b[39m \u001b[34mdplyr  \u001b[39m 1.0.6\n",
      "\u001b[32m✔\u001b[39m \u001b[34mtidyr  \u001b[39m 1.1.3     \u001b[32m✔\u001b[39m \u001b[34mstringr\u001b[39m 1.4.0\n",
      "\u001b[32m✔\u001b[39m \u001b[34mreadr  \u001b[39m 1.4.0     \u001b[32m✔\u001b[39m \u001b[34mforcats\u001b[39m 0.5.1\n",
      "\n",
      "── \u001b[1mConflicts\u001b[22m ────────────────────────────────────────── tidyverse_conflicts() ──\n",
      "\u001b[31m✖\u001b[39m \u001b[34mdplyr\u001b[39m::\u001b[32mfilter()\u001b[39m masks \u001b[34mstats\u001b[39m::filter()\n",
      "\u001b[31m✖\u001b[39m \u001b[34mdplyr\u001b[39m::\u001b[32mlag()\u001b[39m    masks \u001b[34mstats\u001b[39m::lag()\n",
      "\n"
     ]
    }
   ],
   "source": [
    "# Libraries\n",
    "library(tidyverse) # for data manipulation"
   ]
  },
  {
   "cell_type": "code",
   "execution_count": 3,
   "id": "39441685",
   "metadata": {},
   "outputs": [],
   "source": [
    "# Functions\n",
    "factorize <- function(df){ # Create a function\n",
    "  for(i in which(sapply(df, class) == \"character\")) # that looks for variables with the character class \n",
    "      df[[i]] = as.factor(df[[i]]) # and converts them to factor (i.e., categorical) class\n",
    "  return(df)\n",
    "}\n",
    "\n",
    "unfactorize <- function(df){ # Create a function\n",
    "  for(i in which(sapply(df, class) == \"factor\")) # that looks for variables with the character class \n",
    "      df[[i]] = as.character(df[[i]]) # and converts them to factor (i.e., categorical) class\n",
    "  return(df)\n",
    "}"
   ]
  },
  {
   "cell_type": "code",
   "execution_count": 4,
   "id": "686a7cc6",
   "metadata": {},
   "outputs": [
    {
     "data": {
      "text/html": [
       "<style>\n",
       ".list-inline {list-style: none; margin:0; padding: 0}\n",
       ".list-inline>li {display: inline-block}\n",
       ".list-inline>li:not(:last-child)::after {content: \"\\00b7\"; padding: 0 .5ex}\n",
       "</style>\n",
       "<ol class=list-inline><li>1032</li><li>72</li></ol>\n"
      ],
      "text/latex": [
       "\\begin{enumerate*}\n",
       "\\item 1032\n",
       "\\item 72\n",
       "\\end{enumerate*}\n"
      ],
      "text/markdown": [
       "1. 1032\n",
       "2. 72\n",
       "\n",
       "\n"
      ],
      "text/plain": [
       "[1] 1032   72"
      ]
     },
     "metadata": {},
     "output_type": "display_data"
    },
    {
     "data": {
      "text/html": [
       "<style>\n",
       ".list-inline {list-style: none; margin:0; padding: 0}\n",
       ".list-inline>li {display: inline-block}\n",
       ".list-inline>li:not(:last-child)::after {content: \"\\00b7\"; padding: 0 .5ex}\n",
       "</style>\n",
       "<ol class=list-inline><li>'docsequence'</li><li>'docid'</li><li>'sourceid'</li><li>'docauthorid'</li><li>'doctitle'</li><li>'docyear'</li><li>'docmonth'</li><li>'docday'</li><li>'docpage'</li><li>'doctype'</li><li>'docabbr'</li><li>'allsubject'</li><li>'subjname'</li><li>'organization'</li><li>'titlesubj'</li><li>'topicsubj'</li><li>'broadsubj'</li><li>'geographic'</li><li>'historical'</li><li>'personalevent'</li><li>'agewriting'</li><li>'publisher'</li><li>'sourcetitle'</li><li>'editor'</li><li>'sourcemedium'</li><li>'language'</li><li>'pubyear'</li><li>'pubplace'</li><li>'journal'</li><li>'jcitation'</li><li>'spages'</li><li>'ecitation'</li><li>'mslocation'</li><li>'sourcetype'</li><li>'docauthorname'</li><li>'allauthorforms'</li><li>'briefname'</li><li>'authrace'</li><li>'religion'</li><li>'nationality'</li><li>'birthyear'</li><li>'birthmonth'</li><li>'birthday'</li><li>'deathyear'</li><li>'deathmonth'</li><li>'deathday'</li><li>'birthplace'</li><li>'deathplace'</li><li>'scopyright'</li><li>'aspcopyright'</li><li>'mscopyright'</li><li>'schoolattend'</li><li>'educlevel'</li><li>'audience'</li><li>'authorgender'</li><li>'native_occupation'</li><li>'north_american_occupation'</li><li>'organization_affiliations'</li><li>'year_immigration'</li><li>'cultural_heritage'</li><li>'point_of_entry'</li><li>'point_of_departure'</li><li>'stayed_north_america'</li><li>'author_generation'</li><li>'image_filename'</li><li>'thumbnail_filename'</li><li>'display_thumbnail'</li><li>'wwritten'</li><li>'wsent'</li><li>'marriagestatus'</li><li>'maternalstatus'</li><li>'authorLocation'</li></ol>\n"
      ],
      "text/latex": [
       "\\begin{enumerate*}\n",
       "\\item 'docsequence'\n",
       "\\item 'docid'\n",
       "\\item 'sourceid'\n",
       "\\item 'docauthorid'\n",
       "\\item 'doctitle'\n",
       "\\item 'docyear'\n",
       "\\item 'docmonth'\n",
       "\\item 'docday'\n",
       "\\item 'docpage'\n",
       "\\item 'doctype'\n",
       "\\item 'docabbr'\n",
       "\\item 'allsubject'\n",
       "\\item 'subjname'\n",
       "\\item 'organization'\n",
       "\\item 'titlesubj'\n",
       "\\item 'topicsubj'\n",
       "\\item 'broadsubj'\n",
       "\\item 'geographic'\n",
       "\\item 'historical'\n",
       "\\item 'personalevent'\n",
       "\\item 'agewriting'\n",
       "\\item 'publisher'\n",
       "\\item 'sourcetitle'\n",
       "\\item 'editor'\n",
       "\\item 'sourcemedium'\n",
       "\\item 'language'\n",
       "\\item 'pubyear'\n",
       "\\item 'pubplace'\n",
       "\\item 'journal'\n",
       "\\item 'jcitation'\n",
       "\\item 'spages'\n",
       "\\item 'ecitation'\n",
       "\\item 'mslocation'\n",
       "\\item 'sourcetype'\n",
       "\\item 'docauthorname'\n",
       "\\item 'allauthorforms'\n",
       "\\item 'briefname'\n",
       "\\item 'authrace'\n",
       "\\item 'religion'\n",
       "\\item 'nationality'\n",
       "\\item 'birthyear'\n",
       "\\item 'birthmonth'\n",
       "\\item 'birthday'\n",
       "\\item 'deathyear'\n",
       "\\item 'deathmonth'\n",
       "\\item 'deathday'\n",
       "\\item 'birthplace'\n",
       "\\item 'deathplace'\n",
       "\\item 'scopyright'\n",
       "\\item 'aspcopyright'\n",
       "\\item 'mscopyright'\n",
       "\\item 'schoolattend'\n",
       "\\item 'educlevel'\n",
       "\\item 'audience'\n",
       "\\item 'authorgender'\n",
       "\\item 'native\\_occupation'\n",
       "\\item 'north\\_american\\_occupation'\n",
       "\\item 'organization\\_affiliations'\n",
       "\\item 'year\\_immigration'\n",
       "\\item 'cultural\\_heritage'\n",
       "\\item 'point\\_of\\_entry'\n",
       "\\item 'point\\_of\\_departure'\n",
       "\\item 'stayed\\_north\\_america'\n",
       "\\item 'author\\_generation'\n",
       "\\item 'image\\_filename'\n",
       "\\item 'thumbnail\\_filename'\n",
       "\\item 'display\\_thumbnail'\n",
       "\\item 'wwritten'\n",
       "\\item 'wsent'\n",
       "\\item 'marriagestatus'\n",
       "\\item 'maternalstatus'\n",
       "\\item 'authorLocation'\n",
       "\\end{enumerate*}\n"
      ],
      "text/markdown": [
       "1. 'docsequence'\n",
       "2. 'docid'\n",
       "3. 'sourceid'\n",
       "4. 'docauthorid'\n",
       "5. 'doctitle'\n",
       "6. 'docyear'\n",
       "7. 'docmonth'\n",
       "8. 'docday'\n",
       "9. 'docpage'\n",
       "10. 'doctype'\n",
       "11. 'docabbr'\n",
       "12. 'allsubject'\n",
       "13. 'subjname'\n",
       "14. 'organization'\n",
       "15. 'titlesubj'\n",
       "16. 'topicsubj'\n",
       "17. 'broadsubj'\n",
       "18. 'geographic'\n",
       "19. 'historical'\n",
       "20. 'personalevent'\n",
       "21. 'agewriting'\n",
       "22. 'publisher'\n",
       "23. 'sourcetitle'\n",
       "24. 'editor'\n",
       "25. 'sourcemedium'\n",
       "26. 'language'\n",
       "27. 'pubyear'\n",
       "28. 'pubplace'\n",
       "29. 'journal'\n",
       "30. 'jcitation'\n",
       "31. 'spages'\n",
       "32. 'ecitation'\n",
       "33. 'mslocation'\n",
       "34. 'sourcetype'\n",
       "35. 'docauthorname'\n",
       "36. 'allauthorforms'\n",
       "37. 'briefname'\n",
       "38. 'authrace'\n",
       "39. 'religion'\n",
       "40. 'nationality'\n",
       "41. 'birthyear'\n",
       "42. 'birthmonth'\n",
       "43. 'birthday'\n",
       "44. 'deathyear'\n",
       "45. 'deathmonth'\n",
       "46. 'deathday'\n",
       "47. 'birthplace'\n",
       "48. 'deathplace'\n",
       "49. 'scopyright'\n",
       "50. 'aspcopyright'\n",
       "51. 'mscopyright'\n",
       "52. 'schoolattend'\n",
       "53. 'educlevel'\n",
       "54. 'audience'\n",
       "55. 'authorgender'\n",
       "56. 'native_occupation'\n",
       "57. 'north_american_occupation'\n",
       "58. 'organization_affiliations'\n",
       "59. 'year_immigration'\n",
       "60. 'cultural_heritage'\n",
       "61. 'point_of_entry'\n",
       "62. 'point_of_departure'\n",
       "63. 'stayed_north_america'\n",
       "64. 'author_generation'\n",
       "65. 'image_filename'\n",
       "66. 'thumbnail_filename'\n",
       "67. 'display_thumbnail'\n",
       "68. 'wwritten'\n",
       "69. 'wsent'\n",
       "70. 'marriagestatus'\n",
       "71. 'maternalstatus'\n",
       "72. 'authorLocation'\n",
       "\n",
       "\n"
      ],
      "text/plain": [
       " [1] \"docsequence\"               \"docid\"                    \n",
       " [3] \"sourceid\"                  \"docauthorid\"              \n",
       " [5] \"doctitle\"                  \"docyear\"                  \n",
       " [7] \"docmonth\"                  \"docday\"                   \n",
       " [9] \"docpage\"                   \"doctype\"                  \n",
       "[11] \"docabbr\"                   \"allsubject\"               \n",
       "[13] \"subjname\"                  \"organization\"             \n",
       "[15] \"titlesubj\"                 \"topicsubj\"                \n",
       "[17] \"broadsubj\"                 \"geographic\"               \n",
       "[19] \"historical\"                \"personalevent\"            \n",
       "[21] \"agewriting\"                \"publisher\"                \n",
       "[23] \"sourcetitle\"               \"editor\"                   \n",
       "[25] \"sourcemedium\"              \"language\"                 \n",
       "[27] \"pubyear\"                   \"pubplace\"                 \n",
       "[29] \"journal\"                   \"jcitation\"                \n",
       "[31] \"spages\"                    \"ecitation\"                \n",
       "[33] \"mslocation\"                \"sourcetype\"               \n",
       "[35] \"docauthorname\"             \"allauthorforms\"           \n",
       "[37] \"briefname\"                 \"authrace\"                 \n",
       "[39] \"religion\"                  \"nationality\"              \n",
       "[41] \"birthyear\"                 \"birthmonth\"               \n",
       "[43] \"birthday\"                  \"deathyear\"                \n",
       "[45] \"deathmonth\"                \"deathday\"                 \n",
       "[47] \"birthplace\"                \"deathplace\"               \n",
       "[49] \"scopyright\"                \"aspcopyright\"             \n",
       "[51] \"mscopyright\"               \"schoolattend\"             \n",
       "[53] \"educlevel\"                 \"audience\"                 \n",
       "[55] \"authorgender\"              \"native_occupation\"        \n",
       "[57] \"north_american_occupation\" \"organization_affiliations\"\n",
       "[59] \"year_immigration\"          \"cultural_heritage\"        \n",
       "[61] \"point_of_entry\"            \"point_of_departure\"       \n",
       "[63] \"stayed_north_america\"      \"author_generation\"        \n",
       "[65] \"image_filename\"            \"thumbnail_filename\"       \n",
       "[67] \"display_thumbnail\"         \"wwritten\"                 \n",
       "[69] \"wsent\"                     \"marriagestatus\"           \n",
       "[71] \"maternalstatus\"            \"authorLocation\"           "
      ]
     },
     "metadata": {},
     "output_type": "display_data"
    }
   ],
   "source": [
    "# Data\n",
    "letters <- factorize(read.csv(\"20230209_AM_PhD-NaildohSubset.csv\")) # Put csv into a dataframe called docData\n",
    "\n",
    "# Obserbations and Variables\n",
    "dim(letters)\n",
    "\n",
    "# Variabe Names\n",
    "colnames(letters) # Get an overview of the dataframe"
   ]
  },
  {
   "cell_type": "markdown",
   "id": "5aadf2a4",
   "metadata": {},
   "source": [
    "Put into a working dataframe only the variables of interest described in <a href=\"https://wellbeinginlifewriting.wordpress.com/2023/02/13/naldoh-variables-missingness/\">Variables & Missingness</a> blog post."
   ]
  },
  {
   "cell_type": "code",
   "execution_count": 5,
   "id": "d797bd86",
   "metadata": {},
   "outputs": [],
   "source": [
    "letters  <- #Put into the letters dataframe\n",
    "letters %>% #The existing letters dataframe\n",
    "select(docid, sourcetitle, docyear, docmonth, docday, authorLocation, docauthorid, docauthorname, #Include only the listed variables\n",
    "       authorgender, agewriting, birthyear, deathyear, birthplace, religion, \n",
    "       cultural_heritage, nationality, educlevel, native_occupation,\n",
    "       north_american_occupation, marriagestatus, maternalstatus)"
   ]
  },
  {
   "cell_type": "code",
   "execution_count": 6,
   "id": "5a5c09e4",
   "metadata": {},
   "outputs": [],
   "source": [
    "# Replace Not indicated and blanks with NA across entire dataframe\n",
    "letters[letters == 'Not indicated']  <- NA\n",
    "letters[letters == \"\"]  <- NA"
   ]
  },
  {
   "cell_type": "code",
   "execution_count": 7,
   "id": "67a78ae2",
   "metadata": {},
   "outputs": [
    {
     "data": {
      "text/html": [
       "<table class=\"dataframe\">\n",
       "<caption>A tibble: 15 × 2</caption>\n",
       "<thead>\n",
       "\t<tr><th scope=col>name</th><th scope=col>value</th></tr>\n",
       "\t<tr><th scope=col>&lt;chr&gt;</th><th scope=col>&lt;dbl&gt;</th></tr>\n",
       "</thead>\n",
       "<tbody>\n",
       "\t<tr><td>docyear                  </td><td>0.024</td></tr>\n",
       "\t<tr><td>docmonth                 </td><td>0.215</td></tr>\n",
       "\t<tr><td>docday                   </td><td>0.277</td></tr>\n",
       "\t<tr><td>agewriting               </td><td>0.469</td></tr>\n",
       "\t<tr><td>birthyear                </td><td>0.462</td></tr>\n",
       "\t<tr><td>deathyear                </td><td>0.499</td></tr>\n",
       "\t<tr><td>birthplace               </td><td>0.227</td></tr>\n",
       "\t<tr><td>religion                 </td><td>0.397</td></tr>\n",
       "\t<tr><td>cultural_heritage        </td><td>0.006</td></tr>\n",
       "\t<tr><td>nationality              </td><td>0.528</td></tr>\n",
       "\t<tr><td>educlevel                </td><td>0.939</td></tr>\n",
       "\t<tr><td>native_occupation        </td><td>0.643</td></tr>\n",
       "\t<tr><td>north_american_occupation</td><td>0.287</td></tr>\n",
       "\t<tr><td>marriagestatus           </td><td>0.373</td></tr>\n",
       "\t<tr><td>maternalstatus           </td><td>0.391</td></tr>\n",
       "</tbody>\n",
       "</table>\n"
      ],
      "text/latex": [
       "A tibble: 15 × 2\n",
       "\\begin{tabular}{ll}\n",
       " name & value\\\\\n",
       " <chr> & <dbl>\\\\\n",
       "\\hline\n",
       "\t docyear                   & 0.024\\\\\n",
       "\t docmonth                  & 0.215\\\\\n",
       "\t docday                    & 0.277\\\\\n",
       "\t agewriting                & 0.469\\\\\n",
       "\t birthyear                 & 0.462\\\\\n",
       "\t deathyear                 & 0.499\\\\\n",
       "\t birthplace                & 0.227\\\\\n",
       "\t religion                  & 0.397\\\\\n",
       "\t cultural\\_heritage         & 0.006\\\\\n",
       "\t nationality               & 0.528\\\\\n",
       "\t educlevel                 & 0.939\\\\\n",
       "\t native\\_occupation         & 0.643\\\\\n",
       "\t north\\_american\\_occupation & 0.287\\\\\n",
       "\t marriagestatus            & 0.373\\\\\n",
       "\t maternalstatus            & 0.391\\\\\n",
       "\\end{tabular}\n"
      ],
      "text/markdown": [
       "\n",
       "A tibble: 15 × 2\n",
       "\n",
       "| name &lt;chr&gt; | value &lt;dbl&gt; |\n",
       "|---|---|\n",
       "| docyear                   | 0.024 |\n",
       "| docmonth                  | 0.215 |\n",
       "| docday                    | 0.277 |\n",
       "| agewriting                | 0.469 |\n",
       "| birthyear                 | 0.462 |\n",
       "| deathyear                 | 0.499 |\n",
       "| birthplace                | 0.227 |\n",
       "| religion                  | 0.397 |\n",
       "| cultural_heritage         | 0.006 |\n",
       "| nationality               | 0.528 |\n",
       "| educlevel                 | 0.939 |\n",
       "| native_occupation         | 0.643 |\n",
       "| north_american_occupation | 0.287 |\n",
       "| marriagestatus            | 0.373 |\n",
       "| maternalstatus            | 0.391 |\n",
       "\n"
      ],
      "text/plain": [
       "   name                      value\n",
       "1  docyear                   0.024\n",
       "2  docmonth                  0.215\n",
       "3  docday                    0.277\n",
       "4  agewriting                0.469\n",
       "5  birthyear                 0.462\n",
       "6  deathyear                 0.499\n",
       "7  birthplace                0.227\n",
       "8  religion                  0.397\n",
       "9  cultural_heritage         0.006\n",
       "10 nationality               0.528\n",
       "11 educlevel                 0.939\n",
       "12 native_occupation         0.643\n",
       "13 north_american_occupation 0.287\n",
       "14 marriagestatus            0.373\n",
       "15 maternalstatus            0.391"
      ]
     },
     "metadata": {},
     "output_type": "display_data"
    }
   ],
   "source": [
    "# What is the percentage of missing data across the variables\n",
    "# Values below zero are not shown.\n",
    "letters %>% \n",
    "  summarise(across(everything(), ~ mean(is.na(.x)))) %>%\n",
    "pivot_longer(everything()) %>%\n",
    "filter(value > 0)  "
   ]
  },
  {
   "cell_type": "markdown",
   "id": "7878ef7e",
   "metadata": {},
   "source": [
    "Remove the educlevel and nationality variables for the reasons described in the <a href=\"https://wellbeinginlifewriting.wordpress.com/2023/02/13/naldoh-variables-missingness/\">Variables & Missingness</a> blog post."
   ]
  },
  {
   "cell_type": "code",
   "execution_count": 8,
   "id": "5d0d454e",
   "metadata": {},
   "outputs": [],
   "source": [
    "letters  <- #Put into the letters dataframe\n",
    "letters %>% #The existing letters dataframe\n",
    "select(docid, sourcetitle, docyear, docmonth, docday, authorLocation, docauthorid, docauthorname, #Only the variables listed\n",
    "       authorgender, agewriting, birthyear, deathyear, religion, \n",
    "       cultural_heritage, north_american_occupation, native_occupation, marriagestatus, maternalstatus)"
   ]
  },
  {
   "cell_type": "code",
   "execution_count": 9,
   "id": "d04d7991",
   "metadata": {},
   "outputs": [
    {
     "data": {
      "text/html": [
       "0.22"
      ],
      "text/latex": [
       "0.22"
      ],
      "text/markdown": [
       "0.22"
      ],
      "text/plain": [
       "[1] 0.2"
      ]
     },
     "metadata": {},
     "output_type": "display_data"
    },
    {
     "data": {
      "text/html": [
       "0.21"
      ],
      "text/latex": [
       "0.21"
      ],
      "text/markdown": [
       "0.21"
      ],
      "text/plain": [
       "[1] 0.2"
      ]
     },
     "metadata": {},
     "output_type": "display_data"
    }
   ],
   "source": [
    "# Get some stats\n",
    "round(mean(is.na(letters)), digits = 2) # proportion of missing data across dataframe\n",
    "round(sum(complete.cases(letters))/nrow(letters), digits = 2) # proportion of complete cases"
   ]
  },
  {
   "cell_type": "code",
   "execution_count": 10,
   "id": "c700c301",
   "metadata": {},
   "outputs": [
    {
     "name": "stdout",
     "output_type": "stream",
     "text": [
      "Rows: 1,032\n",
      "Columns: 18\n",
      "$ docid                     \u001b[3m\u001b[90m<fct>\u001b[39m\u001b[23m S1019-D002, S1019-D004, S1019-D005, S1019-D0…\n",
      "$ sourcetitle               \u001b[3m\u001b[90m<fct>\u001b[39m\u001b[23m \"At the End of the Santa Fe Trail\", \"At the …\n",
      "$ docyear                   \u001b[3m\u001b[90m<int>\u001b[39m\u001b[23m 1872, 1872, 1872, 1872, 1873, 1873, 1873, 18…\n",
      "$ docmonth                  \u001b[3m\u001b[90m<int>\u001b[39m\u001b[23m 11, 12, 12, 12, 3, 7, 9, 6, 11, 6, 9, 12, 1,…\n",
      "$ docday                    \u001b[3m\u001b[90m<int>\u001b[39m\u001b[23m 30, 6, 10, 21, 1, NA, NA, 30, 14, NA, NA, 16…\n",
      "$ authorLocation            \u001b[3m\u001b[90m<fct>\u001b[39m\u001b[23m USA, USA, USA, USA, USA, USA, USA, USA, USA,…\n",
      "$ docauthorid               \u001b[3m\u001b[90m<fct>\u001b[39m\u001b[23m per0001043, per0001043, per0001043, per00010…\n",
      "$ docauthorname             \u001b[3m\u001b[90m<fct>\u001b[39m\u001b[23m \"Segale, Sister Blandina, 1850-1941\", \"Segal…\n",
      "$ authorgender              \u001b[3m\u001b[90m<fct>\u001b[39m\u001b[23m F, F, F, F, F, F, F, F, F, F, F, F, F, F, F,…\n",
      "$ agewriting                \u001b[3m\u001b[90m<int>\u001b[39m\u001b[23m 22, 22, 22, 22, 23, 23, 23, 24, 24, 26, 26, …\n",
      "$ birthyear                 \u001b[3m\u001b[90m<int>\u001b[39m\u001b[23m 1850, 1850, 1850, 1850, 1850, 1850, 1850, 18…\n",
      "$ deathyear                 \u001b[3m\u001b[90m<int>\u001b[39m\u001b[23m 1941, 1941, 1941, 1941, 1941, 1941, 1941, 19…\n",
      "$ religion                  \u001b[3m\u001b[90m<fct>\u001b[39m\u001b[23m Catholic; Christian, Catholic; Christian, Ca…\n",
      "$ cultural_heritage         \u001b[3m\u001b[90m<fct>\u001b[39m\u001b[23m Italian; European, Italian; European, Italia…\n",
      "$ north_american_occupation \u001b[3m\u001b[90m<fct>\u001b[39m\u001b[23m Nun; Social worker; Teacher, Nun; Social wor…\n",
      "$ native_occupation         \u001b[3m\u001b[90m<fct>\u001b[39m\u001b[23m NA, NA, NA, NA, NA, NA, NA, NA, NA, NA, NA, …\n",
      "$ marriagestatus            \u001b[3m\u001b[90m<fct>\u001b[39m\u001b[23m Single, Single, Single, Single, Single, Sing…\n",
      "$ maternalstatus            \u001b[3m\u001b[90m<fct>\u001b[39m\u001b[23m Childless, Childless, Childless, Childless, …\n"
     ]
    }
   ],
   "source": [
    "glimpse(letters)"
   ]
  },
  {
   "cell_type": "code",
   "execution_count": 11,
   "id": "3c3472c8",
   "metadata": {},
   "outputs": [],
   "source": [
    "write.csv(letters, \n",
    "          \"20230213_AM_PhD-NaildohSubset.csv\", \n",
    "          row.names=FALSE)"
   ]
  }
 ],
 "metadata": {
  "kernelspec": {
   "display_name": "R",
   "language": "R",
   "name": "ir"
  },
  "language_info": {
   "codemirror_mode": "r",
   "file_extension": ".r",
   "mimetype": "text/x-r-source",
   "name": "R",
   "pygments_lexer": "r",
   "version": "4.1.0"
  }
 },
 "nbformat": 4,
 "nbformat_minor": 5
}
