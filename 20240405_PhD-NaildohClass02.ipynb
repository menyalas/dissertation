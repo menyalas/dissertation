{
 "cells": [
  {
   "cell_type": "markdown",
   "metadata": {},
   "source": [
    "# NAILDOH: Social Class Part 2"
   ]
  },
  {
   "cell_type": "markdown",
   "metadata": {},
   "source": [
    "## Resources"
   ]
  },
  {
   "cell_type": "markdown",
   "metadata": {},
   "source": [
    "The is the sixth notebook in the series used to prepare and analyze the NAILDOH collection."
   ]
  },
  {
   "cell_type": "code",
   "execution_count": 93,
   "metadata": {},
   "outputs": [],
   "source": [
    "# Libraries\n",
    "library(tidyverse) # for data manipulation"
   ]
  },
  {
   "cell_type": "code",
   "execution_count": 94,
   "metadata": {},
   "outputs": [],
   "source": [
    "# Functions\n",
    "factorize <- function(df){ # Create a function\n",
    "  for(i in which(sapply(df, class) == \"character\")) # that looks for variables with the character class \n",
    "      df[[i]] = as.factor(df[[i]]) # and converts them to factor (i.e., categorical) class\n",
    "  return(df)\n",
    "}\n",
    "\n",
    "unfactorize <- function(df){ # Create a function\n",
    "  for(i in which(sapply(df, class) == \"factor\")) # that looks for variables with the character class \n",
    "      df[[i]] = as.character(df[[i]]) # and converts them to factor (i.e., categorical) class\n",
    "  return(df)\n",
    "}"
   ]
  },
  {
   "cell_type": "code",
   "execution_count": 95,
   "metadata": {},
   "outputs": [
    {
     "data": {
      "text/html": [
       "<style>\n",
       ".list-inline {list-style: none; margin:0; padding: 0}\n",
       ".list-inline>li {display: inline-block}\n",
       ".list-inline>li:not(:last-child)::after {content: \"\\00b7\"; padding: 0 .5ex}\n",
       "</style>\n",
       "<ol class=list-inline><li>'docid'</li><li>'sourcetitle'</li><li>'docyear'</li><li>'docmonth'</li><li>'docday'</li><li>'authorLocation'</li><li>'nationalOrigin'</li><li>'docauthorid'</li><li>'docauthorname'</li><li>'authorgender'</li><li>'agewriting'</li><li>'birthyear'</li><li>'deathyear'</li><li>'religion'</li><li>'cultural_heritage'</li><li>'north_american_occupation'</li><li>'native_occupation'</li><li>'marriagestatus'</li><li>'maternalstatus'</li><li>'religionNew'</li><li>'relMin'</li><li>'occupation'</li><li>'publicLetter'</li></ol>\n"
      ],
      "text/latex": [
       "\\begin{enumerate*}\n",
       "\\item 'docid'\n",
       "\\item 'sourcetitle'\n",
       "\\item 'docyear'\n",
       "\\item 'docmonth'\n",
       "\\item 'docday'\n",
       "\\item 'authorLocation'\n",
       "\\item 'nationalOrigin'\n",
       "\\item 'docauthorid'\n",
       "\\item 'docauthorname'\n",
       "\\item 'authorgender'\n",
       "\\item 'agewriting'\n",
       "\\item 'birthyear'\n",
       "\\item 'deathyear'\n",
       "\\item 'religion'\n",
       "\\item 'cultural\\_heritage'\n",
       "\\item 'north\\_american\\_occupation'\n",
       "\\item 'native\\_occupation'\n",
       "\\item 'marriagestatus'\n",
       "\\item 'maternalstatus'\n",
       "\\item 'religionNew'\n",
       "\\item 'relMin'\n",
       "\\item 'occupation'\n",
       "\\item 'publicLetter'\n",
       "\\end{enumerate*}\n"
      ],
      "text/markdown": [
       "1. 'docid'\n",
       "2. 'sourcetitle'\n",
       "3. 'docyear'\n",
       "4. 'docmonth'\n",
       "5. 'docday'\n",
       "6. 'authorLocation'\n",
       "7. 'nationalOrigin'\n",
       "8. 'docauthorid'\n",
       "9. 'docauthorname'\n",
       "10. 'authorgender'\n",
       "11. 'agewriting'\n",
       "12. 'birthyear'\n",
       "13. 'deathyear'\n",
       "14. 'religion'\n",
       "15. 'cultural_heritage'\n",
       "16. 'north_american_occupation'\n",
       "17. 'native_occupation'\n",
       "18. 'marriagestatus'\n",
       "19. 'maternalstatus'\n",
       "20. 'religionNew'\n",
       "21. 'relMin'\n",
       "22. 'occupation'\n",
       "23. 'publicLetter'\n",
       "\n",
       "\n"
      ],
      "text/plain": [
       " [1] \"docid\"                     \"sourcetitle\"              \n",
       " [3] \"docyear\"                   \"docmonth\"                 \n",
       " [5] \"docday\"                    \"authorLocation\"           \n",
       " [7] \"nationalOrigin\"            \"docauthorid\"              \n",
       " [9] \"docauthorname\"             \"authorgender\"             \n",
       "[11] \"agewriting\"                \"birthyear\"                \n",
       "[13] \"deathyear\"                 \"religion\"                 \n",
       "[15] \"cultural_heritage\"         \"north_american_occupation\"\n",
       "[17] \"native_occupation\"         \"marriagestatus\"           \n",
       "[19] \"maternalstatus\"            \"religionNew\"              \n",
       "[21] \"relMin\"                    \"occupation\"               \n",
       "[23] \"publicLetter\"             "
      ]
     },
     "metadata": {},
     "output_type": "display_data"
    },
    {
     "data": {
      "text/html": [
       "<style>\n",
       ".list-inline {list-style: none; margin:0; padding: 0}\n",
       ".list-inline>li {display: inline-block}\n",
       ".list-inline>li:not(:last-child)::after {content: \"\\00b7\"; padding: 0 .5ex}\n",
       "</style>\n",
       "<ol class=list-inline><li>576</li><li>23</li></ol>\n"
      ],
      "text/latex": [
       "\\begin{enumerate*}\n",
       "\\item 576\n",
       "\\item 23\n",
       "\\end{enumerate*}\n"
      ],
      "text/markdown": [
       "1. 576\n",
       "2. 23\n",
       "\n",
       "\n"
      ],
      "text/plain": [
       "[1] 576  23"
      ]
     },
     "metadata": {},
     "output_type": "display_data"
    }
   ],
   "source": [
    "# Data\n",
    "letters <- factorize(read.csv(\"20240317_PhD_NaildohSubsetB.csv\")) # Put csv into a dataframe called docData\n",
    "colnames(letters) # Get an overview of the dataframe\n",
    "dim(letters)"
   ]
  },
  {
   "cell_type": "markdown",
   "metadata": {},
   "source": [
    "### Cleaning & Refining Subset"
   ]
  },
  {
   "cell_type": "markdown",
   "metadata": {},
   "source": [
    "Letter S1019-D023 was a continuation of the entry in S1019-D022 so these were combined and S1019-D023 deleted from the dataframe and the folder containing the text files. Letters were also inspected and combined as shown.\n",
    "\n",
    "S9908-D030 - S9908-D038 by William Samson are published in a book with unidentified recipients and contain opinions about and accounts of places, politics and experiences in Europe. These will be omitted because they are more like memoir rather than contemporaneous accounts of lived experience. Of the undated Samson letters, only S9908-D039 is kept because it describes his arrival in a relatively conteporaneous way and is addressed to an individual. "
   ]
  },
  {
   "cell_type": "code",
   "execution_count": 96,
   "metadata": {},
   "outputs": [],
   "source": [
    "vals <- c(\"S1019-D023\",\n",
    "          \"S1019-D044\",\n",
    "          \"S1019-D045\",\n",
    "          \"S1019-D051\",\n",
    "          \"S9908-D030\",\n",
    "          \"S9908-D031\",\n",
    "          \"S9908-D032\",\n",
    "          \"S9908-D033\",\n",
    "          \"S9908-D034\",\n",
    "          \"S9908-D035\",\n",
    "          \"S9908-D036\",\n",
    "          \"S9908-D037\",\n",
    "          \"S9908-D038\"\n",
    "           )\n",
    "letters <- letters[!letters$docid %in% vals, ]\n"
   ]
  },
  {
   "cell_type": "markdown",
   "metadata": {},
   "source": [
    "The William Bell so-called letters are all removed because they were written more as a journal-memoir than as a letter -- publishing intended, unknown readers, undated, retrospective rather than contemporaneous. "
   ]
  },
  {
   "cell_type": "code",
   "execution_count": 97,
   "metadata": {},
   "outputs": [],
   "source": [
    "letters <- letters[!letters$docauthorname==\"Bell, William, 1780-1857\",]"
   ]
  },
  {
   "cell_type": "markdown",
   "metadata": {},
   "source": [
    "Removing strictly professional letters by Susannah Moodie. Others to her editor were left because she was on quite familiar terms with him and related all kinds of personal information in her letters, which also discussed work related matters."
   ]
  },
  {
   "cell_type": "code",
   "execution_count": 98,
   "metadata": {},
   "outputs": [],
   "source": [
    "vals <- c(\"S2344-D038\",\n",
    "          \"S2344-D039\",\n",
    "          \"S2344-D041\",\n",
    "          \"S2344-D042\",\n",
    "          \"S2344-D044\",\n",
    "          \"S2344-D045\",\n",
    "          \"S2344-D046\",\n",
    "          \"S2344-D048\",\n",
    "          \"S2344-D049\",\n",
    "          \"S2344-D079\",\n",
    "          \"S2344-D123\", #An obituary submitted to an editor\n",
    "          \"S2344-D125\"\n",
    "         )\n",
    "letters <- letters[!letters$docid %in% vals, ]"
   ]
  },
  {
   "cell_type": "code",
   "execution_count": 99,
   "metadata": {},
   "outputs": [],
   "source": [
    "vals <- c(\"S9845-D003\", # Letter to an editor describing contents of something else.\n",
    "          \"S9865-D073\", # Government call for settlers\n",
    "          \"S9974-D029\", # Letter to the editor \n",
    "          \"S6210-D047\", # One line only \n",
    "          \"S9865-D010\", # Business letter responding to migration enquiry\n",
    "          \"S9865-D072\", # This appears to be a survey report rather than a personal letter\n",
    "          \"S9865-D078\" # Not a personal letter.\n",
    "          )\n",
    "letters <- letters[!letters$docid %in% vals, ]"
   ]
  },
  {
   "cell_type": "code",
   "execution_count": 100,
   "metadata": {},
   "outputs": [
    {
     "data": {
      "text/html": [
       "<style>\n",
       ".list-inline {list-style: none; margin:0; padding: 0}\n",
       ".list-inline>li {display: inline-block}\n",
       ".list-inline>li:not(:last-child)::after {content: \"\\00b7\"; padding: 0 .5ex}\n",
       "</style>\n",
       "<ol class=list-inline><li>'S2344-D095'</li><li>'S6210-D043'</li><li>'S6210-D048'</li><li>'S6210-D057'</li><li>'S6210-D059'</li><li>'S6210-D062'</li><li>'S6210-D064'</li><li>'S6210-D077'</li><li>'S6210-D088'</li><li>'S6210-D089'</li><li>'S6210-D090'</li><li>'S6210-D100'</li><li>'S6210-D101'</li><li>'S6210-D152'</li><li>'S6210-D166'</li><li>'S6210-D177'</li><li>'S6210-D182'</li><li>'S6210-D185'</li><li>'S6210-D186'</li><li>'S6210-D195'</li><li>'S6210-D202'</li><li>'S6210-D213'</li><li>'S6210-D220'</li><li>'S6210-D221'</li><li>'S6210-D232'</li><li>'S6210-D234'</li></ol>\n"
      ],
      "text/latex": [
       "\\begin{enumerate*}\n",
       "\\item 'S2344-D095'\n",
       "\\item 'S6210-D043'\n",
       "\\item 'S6210-D048'\n",
       "\\item 'S6210-D057'\n",
       "\\item 'S6210-D059'\n",
       "\\item 'S6210-D062'\n",
       "\\item 'S6210-D064'\n",
       "\\item 'S6210-D077'\n",
       "\\item 'S6210-D088'\n",
       "\\item 'S6210-D089'\n",
       "\\item 'S6210-D090'\n",
       "\\item 'S6210-D100'\n",
       "\\item 'S6210-D101'\n",
       "\\item 'S6210-D152'\n",
       "\\item 'S6210-D166'\n",
       "\\item 'S6210-D177'\n",
       "\\item 'S6210-D182'\n",
       "\\item 'S6210-D185'\n",
       "\\item 'S6210-D186'\n",
       "\\item 'S6210-D195'\n",
       "\\item 'S6210-D202'\n",
       "\\item 'S6210-D213'\n",
       "\\item 'S6210-D220'\n",
       "\\item 'S6210-D221'\n",
       "\\item 'S6210-D232'\n",
       "\\item 'S6210-D234'\n",
       "\\end{enumerate*}\n"
      ],
      "text/markdown": [
       "1. 'S2344-D095'\n",
       "2. 'S6210-D043'\n",
       "3. 'S6210-D048'\n",
       "4. 'S6210-D057'\n",
       "5. 'S6210-D059'\n",
       "6. 'S6210-D062'\n",
       "7. 'S6210-D064'\n",
       "8. 'S6210-D077'\n",
       "9. 'S6210-D088'\n",
       "10. 'S6210-D089'\n",
       "11. 'S6210-D090'\n",
       "12. 'S6210-D100'\n",
       "13. 'S6210-D101'\n",
       "14. 'S6210-D152'\n",
       "15. 'S6210-D166'\n",
       "16. 'S6210-D177'\n",
       "17. 'S6210-D182'\n",
       "18. 'S6210-D185'\n",
       "19. 'S6210-D186'\n",
       "20. 'S6210-D195'\n",
       "21. 'S6210-D202'\n",
       "22. 'S6210-D213'\n",
       "23. 'S6210-D220'\n",
       "24. 'S6210-D221'\n",
       "25. 'S6210-D232'\n",
       "26. 'S6210-D234'\n",
       "\n",
       "\n"
      ],
      "text/plain": [
       " [1] \"S2344-D095\" \"S6210-D043\" \"S6210-D048\" \"S6210-D057\" \"S6210-D059\"\n",
       " [6] \"S6210-D062\" \"S6210-D064\" \"S6210-D077\" \"S6210-D088\" \"S6210-D089\"\n",
       "[11] \"S6210-D090\" \"S6210-D100\" \"S6210-D101\" \"S6210-D152\" \"S6210-D166\"\n",
       "[16] \"S6210-D177\" \"S6210-D182\" \"S6210-D185\" \"S6210-D186\" \"S6210-D195\"\n",
       "[21] \"S6210-D202\" \"S6210-D213\" \"S6210-D220\" \"S6210-D221\" \"S6210-D232\"\n",
       "[26] \"S6210-D234\""
      ]
     },
     "metadata": {},
     "output_type": "display_data"
    },
    {
     "data": {
      "text/html": [
       "'cleaned'"
      ],
      "text/latex": [
       "'cleaned'"
      ],
      "text/markdown": [
       "'cleaned'"
      ],
      "text/plain": [
       "[1] \"cleaned\""
      ]
     },
     "metadata": {},
     "output_type": "display_data"
    }
   ],
   "source": [
    "# Checking to make sure csv matches folder list.\n",
    "\n",
    "# make list of doc ids in csv\n",
    "csv <- sort(letters$docid)\n",
    "\n",
    "# make list of doc ids in folder\n",
    "WD <- getwd()\n",
    "setwd(WD)\n",
    "files <- list.files(\"letters\")\n",
    "folder <- sort(sub('.txt', '', files))\n",
    "\n",
    "setdiff(csv, folder)\n",
    "setdiff(folder, csv)"
   ]
  },
  {
   "cell_type": "code",
   "execution_count": 101,
   "metadata": {},
   "outputs": [
    {
     "data": {
      "text/html": [
       "<table class=\"dataframe\">\n",
       "<caption>A data.frame: 18 × 6</caption>\n",
       "<thead>\n",
       "\t<tr><th scope=col>docauthorname</th><th scope=col>docid</th><th scope=col>docyear</th><th scope=col>docmonth</th><th scope=col>docday</th><th scope=col>authorLocation</th></tr>\n",
       "\t<tr><th scope=col>&lt;fct&gt;</th><th scope=col>&lt;fct&gt;</th><th scope=col>&lt;int&gt;</th><th scope=col>&lt;int&gt;</th><th scope=col>&lt;int&gt;</th><th scope=col>&lt;fct&gt;</th></tr>\n",
       "</thead>\n",
       "<tbody>\n",
       "\t<tr><td>Segale, Sister Blandina, 1850-1941                           </td><td>S1019-D041</td><td>1884</td><td>NA</td><td>NA</td><td>USA   </td></tr>\n",
       "\t<tr><td>Segale, Sister Blandina, 1850-1941                           </td><td>S1019-D050</td><td>1886</td><td>NA</td><td>NA</td><td>USA   </td></tr>\n",
       "\t<tr><td>Segale, Sister Blandina, 1850-1941                           </td><td>S1019-D053</td><td>1886</td><td>NA</td><td>NA</td><td>USA   </td></tr>\n",
       "\t<tr><td>Segale, Sister Blandina, 1850-1941                           </td><td>S1019-D057</td><td>1891</td><td>NA</td><td>NA</td><td>USA   </td></tr>\n",
       "\t<tr><td>Moodie, Susannah Strickland, 1803-1885                       </td><td>S2344-D040</td><td>1836</td><td>NA</td><td>NA</td><td>Canada</td></tr>\n",
       "\t<tr><td>Moodie, Susannah Strickland, 1803-1885                       </td><td>S2344-D051</td><td>1853</td><td>NA</td><td>NA</td><td>Canada</td></tr>\n",
       "\t<tr><td>Moodie, Susannah Strickland, 1803-1885                       </td><td>S2344-D063</td><td>1855</td><td>NA</td><td>NA</td><td>Canada</td></tr>\n",
       "\t<tr><td>Moodie, Susannah Strickland, 1803-1885                       </td><td>S2344-D070</td><td>1857</td><td>NA</td><td>NA</td><td>Canada</td></tr>\n",
       "\t<tr><td>Moodie, Susannah Strickland, 1803-1885                       </td><td>S2344-D095</td><td>1860</td><td>NA</td><td>NA</td><td>Canada</td></tr>\n",
       "\t<tr><td>Moodie, Susannah Strickland, 1803-1885                       </td><td>S2344-D124</td><td>1870</td><td>NA</td><td>NA</td><td>Canada</td></tr>\n",
       "\t<tr><td>Moodie, Susannah Strickland, 1803-1885                       </td><td>S2344-D128</td><td>1878</td><td>NA</td><td>NA</td><td>Canada</td></tr>\n",
       "\t<tr><td>Moodie, Susannah Strickland, 1803-1885                       </td><td>S2344-D141</td><td>1881</td><td>NA</td><td>NA</td><td>Canada</td></tr>\n",
       "\t<tr><td>Humphrey, James, fl. 1824                                    </td><td>S9635-D006</td><td>1824</td><td>NA</td><td>NA</td><td>Canada</td></tr>\n",
       "\t<tr><td>Birkbeck, Morris, 1764-1825                                  </td><td>S9819-D014</td><td>  NA</td><td>NA</td><td>NA</td><td>USA   </td></tr>\n",
       "\t<tr><td>Anonymous Male Scottish Immigrant, fl. 1833                  </td><td>S9865-D027</td><td>1833</td><td>NA</td><td>NA</td><td>Canada</td></tr>\n",
       "\t<tr><td>Anonymous Young Scotsman on the Trent River, Canada, fl. 1833</td><td>S9865-D055</td><td>1833</td><td>NA</td><td>NA</td><td>Canada</td></tr>\n",
       "\t<tr><td>Sampson, William, 1764-1836                                  </td><td>S9908-D039</td><td>  NA</td><td>NA</td><td>NA</td><td>USA   </td></tr>\n",
       "\t<tr><td>Thorpe, John, fl. 1828                                       </td><td>S9974-D008</td><td>1828</td><td>NA</td><td>NA</td><td>USA   </td></tr>\n",
       "</tbody>\n",
       "</table>\n"
      ],
      "text/latex": [
       "A data.frame: 18 × 6\n",
       "\\begin{tabular}{llllll}\n",
       " docauthorname & docid & docyear & docmonth & docday & authorLocation\\\\\n",
       " <fct> & <fct> & <int> & <int> & <int> & <fct>\\\\\n",
       "\\hline\n",
       "\t Segale, Sister Blandina, 1850-1941                            & S1019-D041 & 1884 & NA & NA & USA   \\\\\n",
       "\t Segale, Sister Blandina, 1850-1941                            & S1019-D050 & 1886 & NA & NA & USA   \\\\\n",
       "\t Segale, Sister Blandina, 1850-1941                            & S1019-D053 & 1886 & NA & NA & USA   \\\\\n",
       "\t Segale, Sister Blandina, 1850-1941                            & S1019-D057 & 1891 & NA & NA & USA   \\\\\n",
       "\t Moodie, Susannah Strickland, 1803-1885                        & S2344-D040 & 1836 & NA & NA & Canada\\\\\n",
       "\t Moodie, Susannah Strickland, 1803-1885                        & S2344-D051 & 1853 & NA & NA & Canada\\\\\n",
       "\t Moodie, Susannah Strickland, 1803-1885                        & S2344-D063 & 1855 & NA & NA & Canada\\\\\n",
       "\t Moodie, Susannah Strickland, 1803-1885                        & S2344-D070 & 1857 & NA & NA & Canada\\\\\n",
       "\t Moodie, Susannah Strickland, 1803-1885                        & S2344-D095 & 1860 & NA & NA & Canada\\\\\n",
       "\t Moodie, Susannah Strickland, 1803-1885                        & S2344-D124 & 1870 & NA & NA & Canada\\\\\n",
       "\t Moodie, Susannah Strickland, 1803-1885                        & S2344-D128 & 1878 & NA & NA & Canada\\\\\n",
       "\t Moodie, Susannah Strickland, 1803-1885                        & S2344-D141 & 1881 & NA & NA & Canada\\\\\n",
       "\t Humphrey, James, fl. 1824                                     & S9635-D006 & 1824 & NA & NA & Canada\\\\\n",
       "\t Birkbeck, Morris, 1764-1825                                   & S9819-D014 &   NA & NA & NA & USA   \\\\\n",
       "\t Anonymous Male Scottish Immigrant, fl. 1833                   & S9865-D027 & 1833 & NA & NA & Canada\\\\\n",
       "\t Anonymous Young Scotsman on the Trent River, Canada, fl. 1833 & S9865-D055 & 1833 & NA & NA & Canada\\\\\n",
       "\t Sampson, William, 1764-1836                                   & S9908-D039 &   NA & NA & NA & USA   \\\\\n",
       "\t Thorpe, John, fl. 1828                                        & S9974-D008 & 1828 & NA & NA & USA   \\\\\n",
       "\\end{tabular}\n"
      ],
      "text/markdown": [
       "\n",
       "A data.frame: 18 × 6\n",
       "\n",
       "| docauthorname &lt;fct&gt; | docid &lt;fct&gt; | docyear &lt;int&gt; | docmonth &lt;int&gt; | docday &lt;int&gt; | authorLocation &lt;fct&gt; |\n",
       "|---|---|---|---|---|---|\n",
       "| Segale, Sister Blandina, 1850-1941                            | S1019-D041 | 1884 | NA | NA | USA    |\n",
       "| Segale, Sister Blandina, 1850-1941                            | S1019-D050 | 1886 | NA | NA | USA    |\n",
       "| Segale, Sister Blandina, 1850-1941                            | S1019-D053 | 1886 | NA | NA | USA    |\n",
       "| Segale, Sister Blandina, 1850-1941                            | S1019-D057 | 1891 | NA | NA | USA    |\n",
       "| Moodie, Susannah Strickland, 1803-1885                        | S2344-D040 | 1836 | NA | NA | Canada |\n",
       "| Moodie, Susannah Strickland, 1803-1885                        | S2344-D051 | 1853 | NA | NA | Canada |\n",
       "| Moodie, Susannah Strickland, 1803-1885                        | S2344-D063 | 1855 | NA | NA | Canada |\n",
       "| Moodie, Susannah Strickland, 1803-1885                        | S2344-D070 | 1857 | NA | NA | Canada |\n",
       "| Moodie, Susannah Strickland, 1803-1885                        | S2344-D095 | 1860 | NA | NA | Canada |\n",
       "| Moodie, Susannah Strickland, 1803-1885                        | S2344-D124 | 1870 | NA | NA | Canada |\n",
       "| Moodie, Susannah Strickland, 1803-1885                        | S2344-D128 | 1878 | NA | NA | Canada |\n",
       "| Moodie, Susannah Strickland, 1803-1885                        | S2344-D141 | 1881 | NA | NA | Canada |\n",
       "| Humphrey, James, fl. 1824                                     | S9635-D006 | 1824 | NA | NA | Canada |\n",
       "| Birkbeck, Morris, 1764-1825                                   | S9819-D014 |   NA | NA | NA | USA    |\n",
       "| Anonymous Male Scottish Immigrant, fl. 1833                   | S9865-D027 | 1833 | NA | NA | Canada |\n",
       "| Anonymous Young Scotsman on the Trent River, Canada, fl. 1833 | S9865-D055 | 1833 | NA | NA | Canada |\n",
       "| Sampson, William, 1764-1836                                   | S9908-D039 |   NA | NA | NA | USA    |\n",
       "| Thorpe, John, fl. 1828                                        | S9974-D008 | 1828 | NA | NA | USA    |\n",
       "\n"
      ],
      "text/plain": [
       "   docauthorname                                                 docid     \n",
       "1  Segale, Sister Blandina, 1850-1941                            S1019-D041\n",
       "2  Segale, Sister Blandina, 1850-1941                            S1019-D050\n",
       "3  Segale, Sister Blandina, 1850-1941                            S1019-D053\n",
       "4  Segale, Sister Blandina, 1850-1941                            S1019-D057\n",
       "5  Moodie, Susannah Strickland, 1803-1885                        S2344-D040\n",
       "6  Moodie, Susannah Strickland, 1803-1885                        S2344-D051\n",
       "7  Moodie, Susannah Strickland, 1803-1885                        S2344-D063\n",
       "8  Moodie, Susannah Strickland, 1803-1885                        S2344-D070\n",
       "9  Moodie, Susannah Strickland, 1803-1885                        S2344-D095\n",
       "10 Moodie, Susannah Strickland, 1803-1885                        S2344-D124\n",
       "11 Moodie, Susannah Strickland, 1803-1885                        S2344-D128\n",
       "12 Moodie, Susannah Strickland, 1803-1885                        S2344-D141\n",
       "13 Humphrey, James, fl. 1824                                     S9635-D006\n",
       "14 Birkbeck, Morris, 1764-1825                                   S9819-D014\n",
       "15 Anonymous Male Scottish Immigrant, fl. 1833                   S9865-D027\n",
       "16 Anonymous Young Scotsman on the Trent River, Canada, fl. 1833 S9865-D055\n",
       "17 Sampson, William, 1764-1836                                   S9908-D039\n",
       "18 Thorpe, John, fl. 1828                                        S9974-D008\n",
       "   docyear docmonth docday authorLocation\n",
       "1  1884    NA       NA     USA           \n",
       "2  1886    NA       NA     USA           \n",
       "3  1886    NA       NA     USA           \n",
       "4  1891    NA       NA     USA           \n",
       "5  1836    NA       NA     Canada        \n",
       "6  1853    NA       NA     Canada        \n",
       "7  1855    NA       NA     Canada        \n",
       "8  1857    NA       NA     Canada        \n",
       "9  1860    NA       NA     Canada        \n",
       "10 1870    NA       NA     Canada        \n",
       "11 1878    NA       NA     Canada        \n",
       "12 1881    NA       NA     Canada        \n",
       "13 1824    NA       NA     Canada        \n",
       "14   NA    NA       NA     USA           \n",
       "15 1833    NA       NA     Canada        \n",
       "16 1833    NA       NA     Canada        \n",
       "17   NA    NA       NA     USA           \n",
       "18 1828    NA       NA     USA           "
      ]
     },
     "metadata": {},
     "output_type": "display_data"
    }
   ],
   "source": [
    "letters %>% \n",
    "filter(is.na(docmonth)) %>% \n",
    "select(docauthorname, docid, docyear, docmonth, docday, authorLocation) "
   ]
  },
  {
   "cell_type": "markdown",
   "metadata": {},
   "source": [
    "The Humphrey letter was incorrectly shown as not being dated. The date, contained in the footnote, has been added to the metadata. \n",
    "\n",
    "S9974-D008 is not undated -- the letter is just preceeded by a lot of editorial introduction. This is  corrected and in the text file."
   ]
  },
  {
   "cell_type": "code",
   "execution_count": 102,
   "metadata": {},
   "outputs": [],
   "source": [
    "letters$docmonth[letters$docid==\"S9974-D008\"] <- 7\n",
    "letters$docday[letters$docid==\"S9974-D008\"] <- 6\n",
    "\n",
    "letters$docmonth[letters$docid==\"S9635-D006\"] <- 9\n",
    "letters$docday[letters$docid==\"S9635-D006\"] <- 24"
   ]
  },
  {
   "cell_type": "markdown",
   "metadata": {},
   "source": [
    "I've checked all the other letters missing year or month and they are ok to keep in the corpus."
   ]
  },
  {
   "cell_type": "markdown",
   "metadata": {},
   "source": [
    "### Preparing occupation data"
   ]
  },
  {
   "cell_type": "code",
   "execution_count": 103,
   "metadata": {},
   "outputs": [],
   "source": [
    "# Make a new variable called social class\n",
    "# Fill with the values from the occupation (combined) variable\n",
    "letters$socialClass <- letters$occupation"
   ]
  },
  {
   "cell_type": "code",
   "execution_count": 104,
   "metadata": {},
   "outputs": [
    {
     "data": {
      "text/html": [
       "<style>\n",
       ".list-inline {list-style: none; margin:0; padding: 0}\n",
       ".list-inline>li {display: inline-block}\n",
       ".list-inline>li:not(:last-child)::after {content: \"\\00b7\"; padding: 0 .5ex}\n",
       "</style>\n",
       "<ol class=list-inline><li>'Nun'</li><li>'Social worker'</li><li>'Teacher'</li><li>'Military wife'</li><li>'Writer'</li><li>NA</li><li>'Clergy'</li><li>'Farmer'</li><li>'Farmer\\'s wife'</li><li>'Miner'</li><li>'Homemaker'</li><li>'Merchant'</li><li>'Laborer'</li><li>'Businessman'</li><li>'Artist'</li><li>'Educator'</li><li>'Printer'</li><li>'Architect'</li><li>'Government appointee'</li><li>'Politician'</li><li>'Religious leader'</li><li>'Tradesman'</li><li>'Rancher'</li><li>'Government employee'</li><li>'Surveyor'</li><li>'Manufacturer'</li><li>'Urban planner'</li><li>'Missionary'</li></ol>\n"
      ],
      "text/latex": [
       "\\begin{enumerate*}\n",
       "\\item 'Nun'\n",
       "\\item 'Social worker'\n",
       "\\item 'Teacher'\n",
       "\\item 'Military wife'\n",
       "\\item 'Writer'\n",
       "\\item NA\n",
       "\\item 'Clergy'\n",
       "\\item 'Farmer'\n",
       "\\item 'Farmer\\textbackslash{}'s wife'\n",
       "\\item 'Miner'\n",
       "\\item 'Homemaker'\n",
       "\\item 'Merchant'\n",
       "\\item 'Laborer'\n",
       "\\item 'Businessman'\n",
       "\\item 'Artist'\n",
       "\\item 'Educator'\n",
       "\\item 'Printer'\n",
       "\\item 'Architect'\n",
       "\\item 'Government appointee'\n",
       "\\item 'Politician'\n",
       "\\item 'Religious leader'\n",
       "\\item 'Tradesman'\n",
       "\\item 'Rancher'\n",
       "\\item 'Government employee'\n",
       "\\item 'Surveyor'\n",
       "\\item 'Manufacturer'\n",
       "\\item 'Urban planner'\n",
       "\\item 'Missionary'\n",
       "\\end{enumerate*}\n"
      ],
      "text/markdown": [
       "1. 'Nun'\n",
       "2. 'Social worker'\n",
       "3. 'Teacher'\n",
       "4. 'Military wife'\n",
       "5. 'Writer'\n",
       "6. NA\n",
       "7. 'Clergy'\n",
       "8. 'Farmer'\n",
       "9. 'Farmer\\'s wife'\n",
       "10. 'Miner'\n",
       "11. 'Homemaker'\n",
       "12. 'Merchant'\n",
       "13. 'Laborer'\n",
       "14. 'Businessman'\n",
       "15. 'Artist'\n",
       "16. 'Educator'\n",
       "17. 'Printer'\n",
       "18. 'Architect'\n",
       "19. 'Government appointee'\n",
       "20. 'Politician'\n",
       "21. 'Religious leader'\n",
       "22. 'Tradesman'\n",
       "23. 'Rancher'\n",
       "24. 'Government employee'\n",
       "25. 'Surveyor'\n",
       "26. 'Manufacturer'\n",
       "27. 'Urban planner'\n",
       "28. 'Missionary'\n",
       "\n",
       "\n"
      ],
      "text/plain": [
       " [1] \"Nun\"                  \"Social worker\"        \"Teacher\"             \n",
       " [4] \"Military wife\"        \"Writer\"               NA                    \n",
       " [7] \"Clergy\"               \"Farmer\"               \"Farmer's wife\"       \n",
       "[10] \"Miner\"                \"Homemaker\"            \"Merchant\"            \n",
       "[13] \"Laborer\"              \"Businessman\"          \"Artist\"              \n",
       "[16] \"Educator\"             \"Printer\"              \"Architect\"           \n",
       "[19] \"Government appointee\" \"Politician\"           \"Religious leader\"    \n",
       "[22] \"Tradesman\"            \"Rancher\"              \"Government employee\" \n",
       "[25] \"Surveyor\"             \"Manufacturer\"         \"Urban planner\"       \n",
       "[28] \"Missionary\"          "
      ]
     },
     "metadata": {},
     "output_type": "display_data"
    }
   ],
   "source": [
    "# Get a list of unique job titles (note: some cells contain multiple titles)\n",
    "letters$socialClass %>%\n",
    "str_split(\"; \") %>% \n",
    "unlist() %>% \n",
    "unique() "
   ]
  },
  {
   "cell_type": "code",
   "execution_count": 105,
   "metadata": {},
   "outputs": [
    {
     "data": {
      "text/html": [
       "<style>\n",
       ".list-inline {list-style: none; margin:0; padding: 0}\n",
       ".list-inline>li {display: inline-block}\n",
       ".list-inline>li:not(:last-child)::after {content: \"\\00b7\"; padding: 0 .5ex}\n",
       "</style>\n",
       "<ol class=list-inline><li>Military wife; Writer</li><li>Farmer's wife</li></ol>\n",
       "\n",
       "<details>\n",
       "\t<summary style=display:list-item;cursor:pointer>\n",
       "\t\t<strong>Levels</strong>:\n",
       "\t</summary>\n",
       "\t<style>\n",
       "\t.list-inline {list-style: none; margin:0; padding: 0}\n",
       "\t.list-inline>li {display: inline-block}\n",
       "\t.list-inline>li:not(:last-child)::after {content: \"\\00b7\"; padding: 0 .5ex}\n",
       "\t</style>\n",
       "\t<ol class=list-inline><li>'Architect'</li><li>'Artist; Educator'</li><li>'Businessman'</li><li>'Businessman; Tradesman'</li><li>'Clergy'</li><li>'Clergy; Educator; Writer'</li><li>'Clergy; Farmer'</li><li>'Clergy; Missionary'</li><li>'Farmer'</li><li>'Farmer; Merchant; Laborer'</li><li>'Farmer; Tradesman'</li><li>'Farmer\\'s wife'</li><li>'Government appointee'</li><li>'Government appointee; Politician; Religious leader'</li><li>'Government employee'</li><li>'Homemaker'</li><li>'Laborer; Tradesman'</li><li>'Manufacturer'</li><li>'Military personnel; Royal governor'</li><li>'Military wife; Writer'</li><li>'Miner'</li><li>'Miner; Laborer; Rancher; Government employee'</li><li>'Nun; Social worker; Teacher'</li><li>'Surveyor'</li><li>'Teacher'</li><li>'Tradesman'</li><li>'Tradesman; Miner; Writer; Businessman'</li><li>'Urban planner'</li><li>'Writer'</li><li>'Writer; Printer'</li></ol>\n",
       "</details>"
      ],
      "text/latex": [
       "\\begin{enumerate*}\n",
       "\\item Military wife; Writer\n",
       "\\item Farmer's wife\n",
       "\\end{enumerate*}\n",
       "\n",
       "\\emph{Levels}: \\begin{enumerate*}\n",
       "\\item 'Architect'\n",
       "\\item 'Artist; Educator'\n",
       "\\item 'Businessman'\n",
       "\\item 'Businessman; Tradesman'\n",
       "\\item 'Clergy'\n",
       "\\item 'Clergy; Educator; Writer'\n",
       "\\item 'Clergy; Farmer'\n",
       "\\item 'Clergy; Missionary'\n",
       "\\item 'Farmer'\n",
       "\\item 'Farmer; Merchant; Laborer'\n",
       "\\item 'Farmer; Tradesman'\n",
       "\\item 'Farmer\\textbackslash{}'s wife'\n",
       "\\item 'Government appointee'\n",
       "\\item 'Government appointee; Politician; Religious leader'\n",
       "\\item 'Government employee'\n",
       "\\item 'Homemaker'\n",
       "\\item 'Laborer; Tradesman'\n",
       "\\item 'Manufacturer'\n",
       "\\item 'Military personnel; Royal governor'\n",
       "\\item 'Military wife; Writer'\n",
       "\\item 'Miner'\n",
       "\\item 'Miner; Laborer; Rancher; Government employee'\n",
       "\\item 'Nun; Social worker; Teacher'\n",
       "\\item 'Surveyor'\n",
       "\\item 'Teacher'\n",
       "\\item 'Tradesman'\n",
       "\\item 'Tradesman; Miner; Writer; Businessman'\n",
       "\\item 'Urban planner'\n",
       "\\item 'Writer'\n",
       "\\item 'Writer; Printer'\n",
       "\\end{enumerate*}\n"
      ],
      "text/markdown": [
       "1. Military wife; Writer\n",
       "2. Farmer's wife\n",
       "\n",
       "\n",
       "\n",
       "**Levels**: 1. 'Architect'\n",
       "2. 'Artist; Educator'\n",
       "3. 'Businessman'\n",
       "4. 'Businessman; Tradesman'\n",
       "5. 'Clergy'\n",
       "6. 'Clergy; Educator; Writer'\n",
       "7. 'Clergy; Farmer'\n",
       "8. 'Clergy; Missionary'\n",
       "9. 'Farmer'\n",
       "10. 'Farmer; Merchant; Laborer'\n",
       "11. 'Farmer; Tradesman'\n",
       "12. 'Farmer\\'s wife'\n",
       "13. 'Government appointee'\n",
       "14. 'Government appointee; Politician; Religious leader'\n",
       "15. 'Government employee'\n",
       "16. 'Homemaker'\n",
       "17. 'Laborer; Tradesman'\n",
       "18. 'Manufacturer'\n",
       "19. 'Military personnel; Royal governor'\n",
       "20. 'Military wife; Writer'\n",
       "21. 'Miner'\n",
       "22. 'Miner; Laborer; Rancher; Government employee'\n",
       "23. 'Nun; Social worker; Teacher'\n",
       "24. 'Surveyor'\n",
       "25. 'Teacher'\n",
       "26. 'Tradesman'\n",
       "27. 'Tradesman; Miner; Writer; Businessman'\n",
       "28. 'Urban planner'\n",
       "29. 'Writer'\n",
       "30. 'Writer; Printer'\n",
       "\n",
       "\n"
      ],
      "text/plain": [
       "[1] Military wife; Writer Farmer's wife        \n",
       "30 Levels: Architect Artist; Educator Businessman ... Writer; Printer"
      ]
     },
     "metadata": {},
     "output_type": "display_data"
    }
   ],
   "source": [
    "# To what value does the \"wife\" problem apply\n",
    "unique(letters$socialClass[which(grepl(\"wife\", letters$socialClass))])"
   ]
  },
  {
   "cell_type": "code",
   "execution_count": 106,
   "metadata": {},
   "outputs": [],
   "source": [
    "# Fix this to assign the husband's profession to the wife\n",
    "letters$socialClass  <-  str_remove_all(letters$socialClass, \"[:space:]wife\")\n",
    "letters$socialClass  <-  str_remove_all(letters$socialClass, \"\\'s\")"
   ]
  },
  {
   "cell_type": "code",
   "execution_count": 107,
   "metadata": {},
   "outputs": [
    {
     "data": {
      "text/html": [
       "<style>\n",
       ".list-inline {list-style: none; margin:0; padding: 0}\n",
       ".list-inline>li {display: inline-block}\n",
       ".list-inline>li:not(:last-child)::after {content: \"\\00b7\"; padding: 0 .5ex}\n",
       "</style>\n",
       "<ol class=list-inline><li>'Military wife; Writer'</li><li>'Farmer\\'s wife'</li></ol>\n"
      ],
      "text/latex": [
       "\\begin{enumerate*}\n",
       "\\item 'Military wife; Writer'\n",
       "\\item 'Farmer\\textbackslash{}'s wife'\n",
       "\\end{enumerate*}\n"
      ],
      "text/markdown": [
       "1. 'Military wife; Writer'\n",
       "2. 'Farmer\\'s wife'\n",
       "\n",
       "\n"
      ],
      "text/plain": [
       "[1] \"Military wife; Writer\" \"Farmer's wife\"        "
      ]
     },
     "metadata": {},
     "output_type": "display_data"
    },
    {
     "data": {
      "text/html": [
       "'Military; Writer'"
      ],
      "text/latex": [
       "'Military; Writer'"
      ],
      "text/markdown": [
       "'Military; Writer'"
      ],
      "text/plain": [
       "[1] \"Military; Writer\""
      ]
     },
     "metadata": {},
     "output_type": "display_data"
    }
   ],
   "source": [
    "# Check to make sure that north_american_occupation and socialClass contain the same values\n",
    "setdiff(letters$occupation, letters$socialClass) # items in occupation and not socialClass\n",
    "setdiff(letters$socialClass, letters$occupation) # items in socialClass and not occupation"
   ]
  },
  {
   "cell_type": "markdown",
   "metadata": {},
   "source": [
    "Farmer's wife resolves to Farmer, which appears in both lists, which is why it does not appear in line 2. "
   ]
  },
  {
   "cell_type": "code",
   "execution_count": 108,
   "metadata": {},
   "outputs": [
    {
     "name": "stdout",
     "output_type": "stream",
     "text": [
      " [1] \"Architect\"            \"Artist\"               \"Businessman\"         \n",
      " [4] \"Clergy\"               \"Educator\"             \"Farmer\"              \n",
      " [7] \"Government appointee\" \"Government employee\"  \"Homemaker\"           \n",
      "[10] \"Laborer\"              \"Manufacturer\"         \"Merchant\"            \n",
      "[13] \"Military\"             \"Miner\"                \"Missionary\"          \n",
      "[16] \"Nun\"                  \"Politician\"           \"Printer\"             \n",
      "[19] \"Rancher\"              \"Religious leader\"     \"Social worker\"       \n",
      "[22] \"Surveyor\"             \"Teacher\"              \"Tradesman\"           \n",
      "[25] \"Urban planner\"        \"Writer\"              \n"
     ]
    }
   ],
   "source": [
    "# Put the list of unique job titles into a list (note: some cells contain multiple titles)\n",
    "Jobs  <- letters$socialClass %>%\n",
    "str_split(\"; \") %>% \n",
    "unlist() %>% \n",
    "unique() \n",
    "\n",
    "print(sort(Jobs))"
   ]
  },
  {
   "cell_type": "code",
   "execution_count": 109,
   "metadata": {},
   "outputs": [
    {
     "data": {
      "text/html": [
       "<table class=\"dataframe\">\n",
       "<caption>A data.frame: 4 × 2</caption>\n",
       "<thead>\n",
       "\t<tr><th></th><th scope=col>docauthorname</th><th scope=col>socialClass</th></tr>\n",
       "\t<tr><th></th><th scope=col>&lt;fct&gt;</th><th scope=col>&lt;chr&gt;</th></tr>\n",
       "</thead>\n",
       "<tbody>\n",
       "\t<tr><th scope=row>1</th><td>Hudson, Henry James, 1822-                          </td><td>Government appointee; Politician; Religious leader</td></tr>\n",
       "\t<tr><th scope=row>2</th><td>Robb, Alexander, 1839-                              </td><td>Miner; Laborer; Rancher; Government employee      </td></tr>\n",
       "\t<tr><th scope=row>14</th><td>Buchanan, J. C., fl. 1833                           </td><td>Government employee                               </td></tr>\n",
       "\t<tr><th scope=row>15</th><td>Anonymous Government Agent in Upper Canada, fl. 1833</td><td>Government employee                               </td></tr>\n",
       "</tbody>\n",
       "</table>\n"
      ],
      "text/latex": [
       "A data.frame: 4 × 2\n",
       "\\begin{tabular}{r|ll}\n",
       "  & docauthorname & socialClass\\\\\n",
       "  & <fct> & <chr>\\\\\n",
       "\\hline\n",
       "\t1 & Hudson, Henry James, 1822-                           & Government appointee; Politician; Religious leader\\\\\n",
       "\t2 & Robb, Alexander, 1839-                               & Miner; Laborer; Rancher; Government employee      \\\\\n",
       "\t14 & Buchanan, J. C., fl. 1833                            & Government employee                               \\\\\n",
       "\t15 & Anonymous Government Agent in Upper Canada, fl. 1833 & Government employee                               \\\\\n",
       "\\end{tabular}\n"
      ],
      "text/markdown": [
       "\n",
       "A data.frame: 4 × 2\n",
       "\n",
       "| <!--/--> | docauthorname &lt;fct&gt; | socialClass &lt;chr&gt; |\n",
       "|---|---|---|\n",
       "| 1 | Hudson, Henry James, 1822-                           | Government appointee; Politician; Religious leader |\n",
       "| 2 | Robb, Alexander, 1839-                               | Miner; Laborer; Rancher; Government employee       |\n",
       "| 14 | Buchanan, J. C., fl. 1833                            | Government employee                                |\n",
       "| 15 | Anonymous Government Agent in Upper Canada, fl. 1833 | Government employee                                |\n",
       "\n"
      ],
      "text/plain": [
       "   docauthorname                                       \n",
       "1  Hudson, Henry James, 1822-                          \n",
       "2  Robb, Alexander, 1839-                              \n",
       "14 Buchanan, J. C., fl. 1833                           \n",
       "15 Anonymous Government Agent in Upper Canada, fl. 1833\n",
       "   socialClass                                       \n",
       "1  Government appointee; Politician; Religious leader\n",
       "2  Miner; Laborer; Rancher; Government employee      \n",
       "14 Government employee                               \n",
       "15 Government employee                               "
      ]
     },
     "metadata": {},
     "output_type": "display_data"
    }
   ],
   "source": [
    "# Do I want to combine government jobs\n",
    "# Let's see how they breakdown\n",
    "vals <- c(\"Government appointee\", \"Government employee\", \"Royal governor\")\n",
    "\n",
    "letters %>% \n",
    "filter(grepl(paste(vals, collapse='|'), socialClass)) %>% \n",
    "select(docauthorname, socialClass) %>% \n",
    "unique()"
   ]
  },
  {
   "cell_type": "code",
   "execution_count": 110,
   "metadata": {},
   "outputs": [
    {
     "data": {
      "text/html": [
       "<table class=\"dataframe\">\n",
       "<caption>A data.frame: 4 × 2</caption>\n",
       "<thead>\n",
       "\t<tr><th></th><th scope=col>docauthorname</th><th scope=col>socialClass</th></tr>\n",
       "\t<tr><th></th><th scope=col>&lt;fct&gt;</th><th scope=col>&lt;chr&gt;</th></tr>\n",
       "</thead>\n",
       "<tbody>\n",
       "\t<tr><th scope=row>1</th><td>Segale, Sister Blandina, 1850-1941</td><td>Nun; Social worker; Teacher</td></tr>\n",
       "\t<tr><th scope=row>52</th><td>Harris, Robert, 1849-1919         </td><td>Artist; Educator           </td></tr>\n",
       "\t<tr><th scope=row>62</th><td>Bishop, Robert Hamilton, 1777-1855</td><td>Clergy; Educator; Writer   </td></tr>\n",
       "\t<tr><th scope=row>63</th><td>Menzies, George, fl. 1834         </td><td>Teacher                    </td></tr>\n",
       "</tbody>\n",
       "</table>\n"
      ],
      "text/latex": [
       "A data.frame: 4 × 2\n",
       "\\begin{tabular}{r|ll}\n",
       "  & docauthorname & socialClass\\\\\n",
       "  & <fct> & <chr>\\\\\n",
       "\\hline\n",
       "\t1 & Segale, Sister Blandina, 1850-1941 & Nun; Social worker; Teacher\\\\\n",
       "\t52 & Harris, Robert, 1849-1919          & Artist; Educator           \\\\\n",
       "\t62 & Bishop, Robert Hamilton, 1777-1855 & Clergy; Educator; Writer   \\\\\n",
       "\t63 & Menzies, George, fl. 1834          & Teacher                    \\\\\n",
       "\\end{tabular}\n"
      ],
      "text/markdown": [
       "\n",
       "A data.frame: 4 × 2\n",
       "\n",
       "| <!--/--> | docauthorname &lt;fct&gt; | socialClass &lt;chr&gt; |\n",
       "|---|---|---|\n",
       "| 1 | Segale, Sister Blandina, 1850-1941 | Nun; Social worker; Teacher |\n",
       "| 52 | Harris, Robert, 1849-1919          | Artist; Educator            |\n",
       "| 62 | Bishop, Robert Hamilton, 1777-1855 | Clergy; Educator; Writer    |\n",
       "| 63 | Menzies, George, fl. 1834          | Teacher                     |\n",
       "\n"
      ],
      "text/plain": [
       "   docauthorname                      socialClass                \n",
       "1  Segale, Sister Blandina, 1850-1941 Nun; Social worker; Teacher\n",
       "52 Harris, Robert, 1849-1919          Artist; Educator           \n",
       "62 Bishop, Robert Hamilton, 1777-1855 Clergy; Educator; Writer   \n",
       "63 Menzies, George, fl. 1834          Teacher                    "
      ]
     },
     "metadata": {},
     "output_type": "display_data"
    }
   ],
   "source": [
    "# Do I want to combine education / teacher jobs?\n",
    "# Let's see how they breakdown\n",
    "# https://en.wikipedia.org/wiki/Robert_Hamilton_Bishop\n",
    "# http://www.biographi.ca/en/bio/harris_robert_14E.html\n",
    "# https://en.wikipedia.org/wiki/Sister_Blandina\n",
    "# http://www.biographi.ca/en/bio/menzies_george_7E.html\n",
    "\n",
    "vals <- c(\"Educator\", \"Teacher\")\n",
    "\n",
    "letters %>% \n",
    "filter(grepl(paste(vals, collapse='|'), socialClass)) %>% \n",
    "select(docauthorname, socialClass) %>% \n",
    "unique()"
   ]
  },
  {
   "cell_type": "markdown",
   "metadata": {},
   "source": [
    "Bishop was a university professor. Segale appears to have taught in local schools. Harris taught art classes and was a founding member of the Canadian Academy of Arts. Menzies may have been a teacher in Scotland before emigrating. It seems that educator refers to higher stature positions whereas teacher refers to lower stature (though not necessarily less influential) positions. I will keep these for now."
   ]
  },
  {
   "cell_type": "code",
   "execution_count": 111,
   "metadata": {},
   "outputs": [
    {
     "data": {
      "text/html": [
       "<table class=\"dataframe\">\n",
       "<caption>A data.frame: 1 × 2</caption>\n",
       "<thead>\n",
       "\t<tr><th></th><th scope=col>docauthorname</th><th scope=col>socialClass</th></tr>\n",
       "\t<tr><th></th><th scope=col>&lt;fct&gt;</th><th scope=col>&lt;chr&gt;</th></tr>\n",
       "</thead>\n",
       "<tbody>\n",
       "\t<tr><th scope=row>1</th><td>Moodie, Susannah Strickland, 1803-1885</td><td>Military; Writer</td></tr>\n",
       "</tbody>\n",
       "</table>\n"
      ],
      "text/latex": [
       "A data.frame: 1 × 2\n",
       "\\begin{tabular}{r|ll}\n",
       "  & docauthorname & socialClass\\\\\n",
       "  & <fct> & <chr>\\\\\n",
       "\\hline\n",
       "\t1 & Moodie, Susannah Strickland, 1803-1885 & Military; Writer\\\\\n",
       "\\end{tabular}\n"
      ],
      "text/markdown": [
       "\n",
       "A data.frame: 1 × 2\n",
       "\n",
       "| <!--/--> | docauthorname &lt;fct&gt; | socialClass &lt;chr&gt; |\n",
       "|---|---|---|\n",
       "| 1 | Moodie, Susannah Strickland, 1803-1885 | Military; Writer |\n",
       "\n"
      ],
      "text/plain": [
       "  docauthorname                          socialClass     \n",
       "1 Moodie, Susannah Strickland, 1803-1885 Military; Writer"
      ]
     },
     "metadata": {},
     "output_type": "display_data"
    }
   ],
   "source": [
    "# Do I want to combine Military / Military personnel jobs?\n",
    "# Let's see how they breakdown\n",
    "letters %>% \n",
    "filter(grepl(\"Military\", socialClass)) %>% \n",
    "select(docauthorname, socialClass) %>% \n",
    "unique()"
   ]
  },
  {
   "cell_type": "markdown",
   "metadata": {},
   "source": [
    "Moodie's inherits the Military occupation from her husband, who was an officer. Her occupation will be changed to \"Military officer\""
   ]
  },
  {
   "cell_type": "code",
   "execution_count": 112,
   "metadata": {},
   "outputs": [],
   "source": [
    "letters$socialClass[letters$docauthorname==\"Moodie, Susannah Strickland, 1803-1885\"] <- \"Military officer; Writer\""
   ]
  },
  {
   "cell_type": "code",
   "execution_count": 113,
   "metadata": {},
   "outputs": [
    {
     "data": {
      "text/html": [
       "<table class=\"dataframe\">\n",
       "<caption>A data.frame: 4 × 2</caption>\n",
       "<thead>\n",
       "\t<tr><th></th><th scope=col>docauthorname</th><th scope=col>socialClass</th></tr>\n",
       "\t<tr><th></th><th scope=col>&lt;fct&gt;</th><th scope=col>&lt;chr&gt;</th></tr>\n",
       "</thead>\n",
       "<tbody>\n",
       "\t<tr><th scope=row>1</th><td>Harris, Critchlow, 1813-1899    </td><td>Farmer; Merchant; Laborer                   </td></tr>\n",
       "\t<tr><th scope=row>4</th><td>Harris, Sarah Stretch, 1818-1897</td><td>Farmer; Merchant; Laborer                   </td></tr>\n",
       "\t<tr><th scope=row>199</th><td>Robb, Alexander, 1839-          </td><td>Miner; Laborer; Rancher; Government employee</td></tr>\n",
       "\t<tr><th scope=row>211</th><td>Singer, William, fl. 1831       </td><td>Laborer; Tradesman                          </td></tr>\n",
       "</tbody>\n",
       "</table>\n"
      ],
      "text/latex": [
       "A data.frame: 4 × 2\n",
       "\\begin{tabular}{r|ll}\n",
       "  & docauthorname & socialClass\\\\\n",
       "  & <fct> & <chr>\\\\\n",
       "\\hline\n",
       "\t1 & Harris, Critchlow, 1813-1899     & Farmer; Merchant; Laborer                   \\\\\n",
       "\t4 & Harris, Sarah Stretch, 1818-1897 & Farmer; Merchant; Laborer                   \\\\\n",
       "\t199 & Robb, Alexander, 1839-           & Miner; Laborer; Rancher; Government employee\\\\\n",
       "\t211 & Singer, William, fl. 1831        & Laborer; Tradesman                          \\\\\n",
       "\\end{tabular}\n"
      ],
      "text/markdown": [
       "\n",
       "A data.frame: 4 × 2\n",
       "\n",
       "| <!--/--> | docauthorname &lt;fct&gt; | socialClass &lt;chr&gt; |\n",
       "|---|---|---|\n",
       "| 1 | Harris, Critchlow, 1813-1899     | Farmer; Merchant; Laborer                    |\n",
       "| 4 | Harris, Sarah Stretch, 1818-1897 | Farmer; Merchant; Laborer                    |\n",
       "| 199 | Robb, Alexander, 1839-           | Miner; Laborer; Rancher; Government employee |\n",
       "| 211 | Singer, William, fl. 1831        | Laborer; Tradesman                           |\n",
       "\n"
      ],
      "text/plain": [
       "    docauthorname                   \n",
       "1   Harris, Critchlow, 1813-1899    \n",
       "4   Harris, Sarah Stretch, 1818-1897\n",
       "199 Robb, Alexander, 1839-          \n",
       "211 Singer, William, fl. 1831       \n",
       "    socialClass                                 \n",
       "1   Farmer; Merchant; Laborer                   \n",
       "4   Farmer; Merchant; Laborer                   \n",
       "199 Miner; Laborer; Rancher; Government employee\n",
       "211 Laborer; Tradesman                          "
      ]
     },
     "metadata": {},
     "output_type": "display_data"
    }
   ],
   "source": [
    "# Who are the laborers?\n",
    "letters %>% \n",
    "filter(grepl(\"Laborer\", socialClass)) %>% \n",
    "select(docauthorname, socialClass) %>% \n",
    "unique()"
   ]
  },
  {
   "cell_type": "markdown",
   "metadata": {},
   "source": [
    "Critchlow and Sarah Stretch Harris\n",
    "\n",
    "\"During October of 1860, after finally having given up on farming, Critchlow attempted to open a store. After a hard, slow go at it, he gave that up as well, almost exactly one year later in October of 1861 (search \"store\"). After this, he swallowed his pride and forewent his traditional attachment to land and proprietorship and accepted work on a wage. Critchlow began working first for their family friend, Mr. Haszard, and then for the Davies brothers. His tasks included measuring, transporting, and purchasing goods, preparing swine, and overseeing a fishing station, among other various tasks (search \"Haszard\" and \"Davies\"). Finally, the financial prospects of the Harris family improved.\" (http://sarah.emilieroberts.ca/index.php?page=The_Family)\n",
    "\n",
    "\n",
    "On searching these terms in the source text, it seems evident that Critchlow was working for wages in the agricultural-commercial sector, especially in terms of food distribution (e.g., oats, pork, fish), but he does not seem to be working as an unskilled labourer, given that he did things like measuring and managing, as well as purchasing. I am going to change him from laborer to manager (fishing) and clerk, which will place him and his family in the skilled worker / lower middle class, which seems to be where they are best suited. (https://archive.org/embed/islandfamilyharr0000unse)"
   ]
  },
  {
   "cell_type": "code",
   "execution_count": 114,
   "metadata": {},
   "outputs": [],
   "source": [
    "letters$socialClass[letters$docauthorname == \"Harris, Critchlow, 1813-1899\"]  <- \"Farmer; Merchant; Manager fishing; Clerk\"\n",
    "letters$socialClass[letters$docauthorname == \"Harris, Sarah Stretch, 1818-1897\"]  <- \"Farmer; Merchant; Manager fishing; Clerk\""
   ]
  },
  {
   "cell_type": "markdown",
   "metadata": {},
   "source": [
    "Alexander Robb\n",
    "\n",
    "\"...Alex got work among the labourers building the Cariboo wagon road.  After several years struggling to make a living, he and an Englishman were the first two Europeans to homestead in the Nicola Valley of central British Columbia...\" (https://ulsterhistoricalfoundation.com/shop/products/alexander-robb)\n",
    "\n",
    "Alexander served as a labourer in the transportation sector. The information for his biography gives 1910 as his deathyear. Recoding that value accordingly..."
   ]
  },
  {
   "cell_type": "code",
   "execution_count": 115,
   "metadata": {},
   "outputs": [],
   "source": [
    "letters$deathyear[letters$docauthorname==\"Robb, Alexander, 1839-\"] <- 1910"
   ]
  },
  {
   "cell_type": "code",
   "execution_count": 116,
   "metadata": {},
   "outputs": [
    {
     "data": {
      "text/html": [
       "<table class=\"dataframe\">\n",
       "<caption>A data.frame: 1 × 8</caption>\n",
       "<thead>\n",
       "\t<tr><th></th><th scope=col>birthyear</th><th scope=col>deathyear</th><th scope=col>nationalOrigin</th><th scope=col>socialClass</th><th scope=col>occupation</th><th scope=col>religionNew</th><th scope=col>docid</th><th scope=col>sourcetitle</th></tr>\n",
       "\t<tr><th></th><th scope=col>&lt;int&gt;</th><th scope=col>&lt;dbl&gt;</th><th scope=col>&lt;fct&gt;</th><th scope=col>&lt;chr&gt;</th><th scope=col>&lt;fct&gt;</th><th scope=col>&lt;fct&gt;</th><th scope=col>&lt;fct&gt;</th><th scope=col>&lt;fct&gt;</th></tr>\n",
       "</thead>\n",
       "<tbody>\n",
       "\t<tr><th scope=row>1</th><td>NA</td><td>NA</td><td>English</td><td>Laborer; Tradesman</td><td>Laborer; Tradesman</td><td>NA</td><td>S9873-D021</td><td>Hints on Emigration to Upper Canada; Especially Addressed to the Middle and Lower Classes in Great Britain and Ireland</td></tr>\n",
       "</tbody>\n",
       "</table>\n"
      ],
      "text/latex": [
       "A data.frame: 1 × 8\n",
       "\\begin{tabular}{r|llllllll}\n",
       "  & birthyear & deathyear & nationalOrigin & socialClass & occupation & religionNew & docid & sourcetitle\\\\\n",
       "  & <int> & <dbl> & <fct> & <chr> & <fct> & <fct> & <fct> & <fct>\\\\\n",
       "\\hline\n",
       "\t1 & NA & NA & English & Laborer; Tradesman & Laborer; Tradesman & NA & S9873-D021 & Hints on Emigration to Upper Canada; Especially Addressed to the Middle and Lower Classes in Great Britain and Ireland\\\\\n",
       "\\end{tabular}\n"
      ],
      "text/markdown": [
       "\n",
       "A data.frame: 1 × 8\n",
       "\n",
       "| <!--/--> | birthyear &lt;int&gt; | deathyear &lt;dbl&gt; | nationalOrigin &lt;fct&gt; | socialClass &lt;chr&gt; | occupation &lt;fct&gt; | religionNew &lt;fct&gt; | docid &lt;fct&gt; | sourcetitle &lt;fct&gt; |\n",
       "|---|---|---|---|---|---|---|---|---|\n",
       "| 1 | NA | NA | English | Laborer; Tradesman | Laborer; Tradesman | NA | S9873-D021 | Hints on Emigration to Upper Canada; Especially Addressed to the Middle and Lower Classes in Great Britain and Ireland |\n",
       "\n"
      ],
      "text/plain": [
       "  birthyear deathyear nationalOrigin socialClass        occupation        \n",
       "1 NA        NA        English        Laborer; Tradesman Laborer; Tradesman\n",
       "  religionNew docid     \n",
       "1 NA          S9873-D021\n",
       "  sourcetitle                                                                                                           \n",
       "1 Hints on Emigration to Upper Canada; Especially Addressed to the Middle and Lower Classes in Great Britain and Ireland"
      ]
     },
     "metadata": {},
     "output_type": "display_data"
    }
   ],
   "source": [
    "letters %>% \n",
    "filter(docauthorname==\"Singer, William, fl. 1831\") %>% \n",
    "select(birthyear, deathyear, nationalOrigin, socialClass, occupation, religionNew, docid, sourcetitle) %>% \n",
    "unique()"
   ]
  },
  {
   "cell_type": "markdown",
   "metadata": {},
   "source": [
    "William Singer\n",
    "\n",
    "\"I then went to work for Mr. Silcog four months, and Jerry Annett worked on the next farm. I have worked some at my trade; a person that can work well, can get a dollar and a half per day, and in the harvest\n",
    "field we can get a dollar per day.\"\n",
    "\n",
    "\"I design working at my trade. I have been working on a farm, chopping, and other work...I cut my hand in the summer whilst mowin...on Mr. Silcog's field...there is plenty of hard work here, we can always have plenty to do; we board and lodge with the persons we work for. I am chopping now for Mr&dot; Allworth, on his farm joining Mr. Silcog's. If any of my old acquaintances have got tired of being slaves and drudges, tell them to come to Upper Canada, to William Singer, bricklayer, he'll take them by the hand and lead them to hard work, good wages, and the best of living.\" (https://archive.org/embed/hintsonemigratio00doyl)\n",
    "\n",
    "\n",
    "William served as a wage labourer in the agricultural sector. \n"
   ]
  },
  {
   "cell_type": "markdown",
   "metadata": {},
   "source": [
    "For the Erickson variable, I think I should recode Singer into A, Robb into I and Harris into CCP. Singer is clearly working on a farm. Rob is involved in building transportation infrastructure, which is more of an industrial undertaking. And Harris is working to move product, thus he is more in the commercial sector, including in some cases in roles that involve professional skills (e.g., purchasing, overseeing), but his role managing a fishing station also puts him in the farming realm."
   ]
  },
  {
   "cell_type": "code",
   "execution_count": 117,
   "metadata": {},
   "outputs": [],
   "source": [
    "letters$socialClass[letters$docauthorname == \"Singer, William, fl. 1831\"]  <- \"Laborer farm; Tradesman\"\n",
    "letters$socialClass[letters$docauthorname == \"Robb, Alexander, 1839-\"]  <- \"Miner; Laborer industry; Rancher; Government employee\""
   ]
  },
  {
   "cell_type": "code",
   "execution_count": 118,
   "metadata": {},
   "outputs": [
    {
     "data": {
      "text/html": [
       "<table class=\"dataframe\">\n",
       "<caption>A data.frame: 1 × 8</caption>\n",
       "<thead>\n",
       "\t<tr><th></th><th scope=col>docauthorname</th><th scope=col>socialClass</th><th scope=col>nationalOrigin</th><th scope=col>religionNew</th><th scope=col>relMin</th><th scope=col>birthyear</th><th scope=col>deathyear</th><th scope=col>authorLocation</th></tr>\n",
       "\t<tr><th></th><th scope=col>&lt;fct&gt;</th><th scope=col>&lt;chr&gt;</th><th scope=col>&lt;fct&gt;</th><th scope=col>&lt;fct&gt;</th><th scope=col>&lt;lgl&gt;</th><th scope=col>&lt;int&gt;</th><th scope=col>&lt;dbl&gt;</th><th scope=col>&lt;fct&gt;</th></tr>\n",
       "</thead>\n",
       "<tbody>\n",
       "\t<tr><th scope=row>1</th><td>Roberts, Sarah, fl. 1858</td><td>Homemaker</td><td>Welsh</td><td>Christian</td><td>NA</td><td>NA</td><td>NA</td><td>USA</td></tr>\n",
       "</tbody>\n",
       "</table>\n"
      ],
      "text/latex": [
       "A data.frame: 1 × 8\n",
       "\\begin{tabular}{r|llllllll}\n",
       "  & docauthorname & socialClass & nationalOrigin & religionNew & relMin & birthyear & deathyear & authorLocation\\\\\n",
       "  & <fct> & <chr> & <fct> & <fct> & <lgl> & <int> & <dbl> & <fct>\\\\\n",
       "\\hline\n",
       "\t1 & Roberts, Sarah, fl. 1858 & Homemaker & Welsh & Christian & NA & NA & NA & USA\\\\\n",
       "\\end{tabular}\n"
      ],
      "text/markdown": [
       "\n",
       "A data.frame: 1 × 8\n",
       "\n",
       "| <!--/--> | docauthorname &lt;fct&gt; | socialClass &lt;chr&gt; | nationalOrigin &lt;fct&gt; | religionNew &lt;fct&gt; | relMin &lt;lgl&gt; | birthyear &lt;int&gt; | deathyear &lt;dbl&gt; | authorLocation &lt;fct&gt; |\n",
       "|---|---|---|---|---|---|---|---|---|\n",
       "| 1 | Roberts, Sarah, fl. 1858 | Homemaker | Welsh | Christian | NA | NA | NA | USA |\n",
       "\n"
      ],
      "text/plain": [
       "  docauthorname            socialClass nationalOrigin religionNew relMin\n",
       "1 Roberts, Sarah, fl. 1858 Homemaker   Welsh          Christian   NA    \n",
       "  birthyear deathyear authorLocation\n",
       "1 NA        NA        USA           "
      ]
     },
     "metadata": {},
     "output_type": "display_data"
    }
   ],
   "source": [
    "# Who are the homemakers?\n",
    "letters %>% \n",
    "filter(grepl(\"Homemaker\", socialClass)) %>% \n",
    "select(docauthorname, socialClass, nationalOrigin, religionNew, relMin, birthyear, deathyear, authorLocation) %>% \n",
    "unique()"
   ]
  },
  {
   "cell_type": "markdown",
   "metadata": {},
   "source": [
    "The letters of Sarah Roberts indicate that she and her husband (Humphrey) are involved in farming, but possibly some form of industrial wage labour (e.g., coal mining, steelworks). \n",
    "\n",
    "\"...We had 210 bushels of wheat and 160 of corn...Wages have risen in every business except farming.\n",
    "There is no hope that the corn and livestock will go up...\" (S316-D189)\n",
    "\n",
    "\"...Puddlers or boilers get eight dollars a ton. The charge is 480 pounds pig-iron and five charges are worked a day. There is an assistant and he gets one third. When working six, there are two assistants, one of which is paid by the day. The colliers get five cents a bushel of eighty pounds and they can raise one hundred bushels a day in a seam five feet thick. They cut and fill and the company takes it away. Laborers get from a dollar and a half to two dollars a day...\" (S316-D193)\n",
    "\n",
    "Further reading of the letters by Sarah indicate that she and her husband are most likely independent farmers, therefore recoding her as such."
   ]
  },
  {
   "cell_type": "code",
   "execution_count": 119,
   "metadata": {},
   "outputs": [],
   "source": [
    "letters$socialClass[letters$docauthorname == \"Roberts, Sarah, fl. 1858\"]  <- \"Farmer\""
   ]
  },
  {
   "cell_type": "code",
   "execution_count": 120,
   "metadata": {},
   "outputs": [
    {
     "data": {
      "text/html": [
       "<table class=\"dataframe\">\n",
       "<caption>A data.frame: 2 × 2</caption>\n",
       "<thead>\n",
       "\t<tr><th></th><th scope=col>docauthorname</th><th scope=col>socialClass</th></tr>\n",
       "\t<tr><th></th><th scope=col>&lt;fct&gt;</th><th scope=col>&lt;chr&gt;</th></tr>\n",
       "</thead>\n",
       "<tbody>\n",
       "\t<tr><th scope=row>1</th><td>Segale, Sister Blandina, 1850-1941</td><td>Nun; Social worker; Teacher</td></tr>\n",
       "\t<tr><th scope=row>52</th><td>Menzies, George, fl. 1834         </td><td>Teacher                    </td></tr>\n",
       "</tbody>\n",
       "</table>\n"
      ],
      "text/latex": [
       "A data.frame: 2 × 2\n",
       "\\begin{tabular}{r|ll}\n",
       "  & docauthorname & socialClass\\\\\n",
       "  & <fct> & <chr>\\\\\n",
       "\\hline\n",
       "\t1 & Segale, Sister Blandina, 1850-1941 & Nun; Social worker; Teacher\\\\\n",
       "\t52 & Menzies, George, fl. 1834          & Teacher                    \\\\\n",
       "\\end{tabular}\n"
      ],
      "text/markdown": [
       "\n",
       "A data.frame: 2 × 2\n",
       "\n",
       "| <!--/--> | docauthorname &lt;fct&gt; | socialClass &lt;chr&gt; |\n",
       "|---|---|---|\n",
       "| 1 | Segale, Sister Blandina, 1850-1941 | Nun; Social worker; Teacher |\n",
       "| 52 | Menzies, George, fl. 1834          | Teacher                     |\n",
       "\n"
      ],
      "text/plain": [
       "   docauthorname                      socialClass                \n",
       "1  Segale, Sister Blandina, 1850-1941 Nun; Social worker; Teacher\n",
       "52 Menzies, George, fl. 1834          Teacher                    "
      ]
     },
     "metadata": {},
     "output_type": "display_data"
    }
   ],
   "source": [
    "# Who are the teachers?\n",
    "letters %>% \n",
    "filter(grepl(\"Teacher\", socialClass)) %>% \n",
    "select(docauthorname, socialClass) %>% \n",
    "unique()"
   ]
  },
  {
   "cell_type": "code",
   "execution_count": 121,
   "metadata": {},
   "outputs": [],
   "source": [
    "# Menzies was also a writer (poet) and co-founder of newspapers, \n",
    "# but apparently in an editor / manager role rather than proprietary.\n",
    "# http://www.biographi.ca/en/bio.php?BioId=37680\n",
    "# He was a writer in Scotland, not in North America\n",
    "letters$socialClass[letters$docauthorname == \"Menzies, George, fl. 1834\"]  <- \"Writer; Editor; Printer\""
   ]
  },
  {
   "cell_type": "code",
   "execution_count": 122,
   "metadata": {},
   "outputs": [],
   "source": [
    "# Menzie's religion is given as Presbyterian in the bio. \n",
    "letters$religionNew[letters$docauthorname == \"Menzies, George, fl. 1834\"]  <- \"Presbyterian\"\n",
    "letters$relMin[letters$docauthorname == \"Menzies, George, fl. 1834\"] <- FALSE"
   ]
  },
  {
   "cell_type": "code",
   "execution_count": 123,
   "metadata": {},
   "outputs": [
    {
     "data": {
      "text/html": [
       "<table class=\"dataframe\">\n",
       "<caption>A data.frame: 2 × 3</caption>\n",
       "<thead>\n",
       "\t<tr><th></th><th scope=col>docauthorid</th><th scope=col>docauthorname</th><th scope=col>socialClass</th></tr>\n",
       "\t<tr><th></th><th scope=col>&lt;fct&gt;</th><th scope=col>&lt;fct&gt;</th><th scope=col>&lt;chr&gt;</th></tr>\n",
       "</thead>\n",
       "<tbody>\n",
       "\t<tr><th scope=row>1</th><td>per0038055</td><td>Harris, Margaret Ellin, 1851-1944</td><td>Writer; Printer        </td></tr>\n",
       "\t<tr><th scope=row>7</th><td>per0029174</td><td>Menzies, George, fl. 1834        </td><td>Writer; Editor; Printer</td></tr>\n",
       "</tbody>\n",
       "</table>\n"
      ],
      "text/latex": [
       "A data.frame: 2 × 3\n",
       "\\begin{tabular}{r|lll}\n",
       "  & docauthorid & docauthorname & socialClass\\\\\n",
       "  & <fct> & <fct> & <chr>\\\\\n",
       "\\hline\n",
       "\t1 & per0038055 & Harris, Margaret Ellin, 1851-1944 & Writer; Printer        \\\\\n",
       "\t7 & per0029174 & Menzies, George, fl. 1834         & Writer; Editor; Printer\\\\\n",
       "\\end{tabular}\n"
      ],
      "text/markdown": [
       "\n",
       "A data.frame: 2 × 3\n",
       "\n",
       "| <!--/--> | docauthorid &lt;fct&gt; | docauthorname &lt;fct&gt; | socialClass &lt;chr&gt; |\n",
       "|---|---|---|---|\n",
       "| 1 | per0038055 | Harris, Margaret Ellin, 1851-1944 | Writer; Printer         |\n",
       "| 7 | per0029174 | Menzies, George, fl. 1834         | Writer; Editor; Printer |\n",
       "\n"
      ],
      "text/plain": [
       "  docauthorid docauthorname                     socialClass            \n",
       "1 per0038055  Harris, Margaret Ellin, 1851-1944 Writer; Printer        \n",
       "7 per0029174  Menzies, George, fl. 1834         Writer; Editor; Printer"
      ]
     },
     "metadata": {},
     "output_type": "display_data"
    }
   ],
   "source": [
    "# Who are the printers\n",
    "letters %>% \n",
    "filter(grepl(\"Printer\", socialClass)) %>% \n",
    "select(docauthorid, docauthorname, socialClass) %>% \n",
    "unique()"
   ]
  },
  {
   "cell_type": "markdown",
   "metadata": {},
   "source": [
    "Margaret is married to William Lawson Cotton, who was a newspaper writer, printer, editor and owner (businessman) of a newspaper. Coding accordingly.\n",
    "\n"
   ]
  },
  {
   "cell_type": "code",
   "execution_count": 124,
   "metadata": {},
   "outputs": [],
   "source": [
    "letters$socialClass[letters$docauthorid==\"per0038055\"] <- \"Writer; Printer; Businessman; Editor; Manager media\""
   ]
  },
  {
   "cell_type": "code",
   "execution_count": 125,
   "metadata": {},
   "outputs": [
    {
     "data": {
      "text/html": [
       "<table class=\"dataframe\">\n",
       "<caption>A data.frame: 4 × 2</caption>\n",
       "<thead>\n",
       "\t<tr><th></th><th scope=col>docauthorname</th><th scope=col>socialClass</th></tr>\n",
       "\t<tr><th></th><th scope=col>&lt;fct&gt;</th><th scope=col>&lt;chr&gt;</th></tr>\n",
       "</thead>\n",
       "<tbody>\n",
       "\t<tr><th scope=row>1</th><td>Hudson, Henry James, 1822-                          </td><td>Government appointee; Politician; Religious leader   </td></tr>\n",
       "\t<tr><th scope=row>2</th><td>Robb, Alexander, 1839-                              </td><td>Miner; Laborer industry; Rancher; Government employee</td></tr>\n",
       "\t<tr><th scope=row>14</th><td>Buchanan, J. C., fl. 1833                           </td><td>Government employee                                  </td></tr>\n",
       "\t<tr><th scope=row>15</th><td>Anonymous Government Agent in Upper Canada, fl. 1833</td><td>Government employee                                  </td></tr>\n",
       "</tbody>\n",
       "</table>\n"
      ],
      "text/latex": [
       "A data.frame: 4 × 2\n",
       "\\begin{tabular}{r|ll}\n",
       "  & docauthorname & socialClass\\\\\n",
       "  & <fct> & <chr>\\\\\n",
       "\\hline\n",
       "\t1 & Hudson, Henry James, 1822-                           & Government appointee; Politician; Religious leader   \\\\\n",
       "\t2 & Robb, Alexander, 1839-                               & Miner; Laborer industry; Rancher; Government employee\\\\\n",
       "\t14 & Buchanan, J. C., fl. 1833                            & Government employee                                  \\\\\n",
       "\t15 & Anonymous Government Agent in Upper Canada, fl. 1833 & Government employee                                  \\\\\n",
       "\\end{tabular}\n"
      ],
      "text/markdown": [
       "\n",
       "A data.frame: 4 × 2\n",
       "\n",
       "| <!--/--> | docauthorname &lt;fct&gt; | socialClass &lt;chr&gt; |\n",
       "|---|---|---|\n",
       "| 1 | Hudson, Henry James, 1822-                           | Government appointee; Politician; Religious leader    |\n",
       "| 2 | Robb, Alexander, 1839-                               | Miner; Laborer industry; Rancher; Government employee |\n",
       "| 14 | Buchanan, J. C., fl. 1833                            | Government employee                                   |\n",
       "| 15 | Anonymous Government Agent in Upper Canada, fl. 1833 | Government employee                                   |\n",
       "\n"
      ],
      "text/plain": [
       "   docauthorname                                       \n",
       "1  Hudson, Henry James, 1822-                          \n",
       "2  Robb, Alexander, 1839-                              \n",
       "14 Buchanan, J. C., fl. 1833                           \n",
       "15 Anonymous Government Agent in Upper Canada, fl. 1833\n",
       "   socialClass                                          \n",
       "1  Government appointee; Politician; Religious leader   \n",
       "2  Miner; Laborer industry; Rancher; Government employee\n",
       "14 Government employee                                  \n",
       "15 Government employee                                  "
      ]
     },
     "metadata": {},
     "output_type": "display_data"
    }
   ],
   "source": [
    "# Who are the Government?\n",
    "letters %>% \n",
    "filter(grepl(\"Government\", socialClass)| grepl(\"governor\", socialClass)) %>% \n",
    "select(docauthorname, socialClass) %>% \n",
    "unique()"
   ]
  },
  {
   "cell_type": "markdown",
   "metadata": {},
   "source": [
    "Although employee and appointee potentially represent different social stature, for now they will not be differentiated because in the Erickson scheme, they all are the same. For the meantime, I make the following changes based on biographical information found online."
   ]
  },
  {
   "cell_type": "code",
   "execution_count": 126,
   "metadata": {},
   "outputs": [],
   "source": [
    "# Alexander Buchanan: \"merchant and emigration agent\"\n",
    "# http://biographi.ca/en/bio/buchanan_alexander_carlisle_1786_1840_7E.html\n",
    "letters$socialClass[letters$docauthorname == \"Buchanan, Alexander Carlisle, 1786-1840\"]  <- \n",
    "\"Government appointee; Merchant\"\n",
    "\n",
    "# For future reference:\n",
    "# http://www.biographi.ca/en/bio/whitworth_aylmer_matthew_7E.html\n",
    "# Henry James: \" public offices, among them postmaster, justice of the peace, county commissioner, and county judge.\"\n",
    "# https://history.nebraska.gov/collection_section/henry-james-hudson-1822-1903-rg3031-am/"
   ]
  },
  {
   "cell_type": "code",
   "execution_count": 127,
   "metadata": {},
   "outputs": [
    {
     "data": {
      "text/html": [
       "<table class=\"dataframe\">\n",
       "<caption>A data.frame: 3 × 2</caption>\n",
       "<thead>\n",
       "\t<tr><th></th><th scope=col>docauthorname</th><th scope=col>socialClass</th></tr>\n",
       "\t<tr><th></th><th scope=col>&lt;fct&gt;</th><th scope=col>&lt;chr&gt;</th></tr>\n",
       "</thead>\n",
       "<tbody>\n",
       "\t<tr><th scope=row>1</th><td>Williams, John R., fl. 1895      </td><td>Miner                                                </td></tr>\n",
       "\t<tr><th scope=row>2</th><td>Robb, Alexander, 1839-           </td><td>Miner; Laborer industry; Rancher; Government employee</td></tr>\n",
       "\t<tr><th scope=row>14</th><td>Hutchings, James Mason, 1820-1902</td><td>Tradesman; Miner; Writer; Businessman                </td></tr>\n",
       "</tbody>\n",
       "</table>\n"
      ],
      "text/latex": [
       "A data.frame: 3 × 2\n",
       "\\begin{tabular}{r|ll}\n",
       "  & docauthorname & socialClass\\\\\n",
       "  & <fct> & <chr>\\\\\n",
       "\\hline\n",
       "\t1 & Williams, John R., fl. 1895       & Miner                                                \\\\\n",
       "\t2 & Robb, Alexander, 1839-            & Miner; Laborer industry; Rancher; Government employee\\\\\n",
       "\t14 & Hutchings, James Mason, 1820-1902 & Tradesman; Miner; Writer; Businessman                \\\\\n",
       "\\end{tabular}\n"
      ],
      "text/markdown": [
       "\n",
       "A data.frame: 3 × 2\n",
       "\n",
       "| <!--/--> | docauthorname &lt;fct&gt; | socialClass &lt;chr&gt; |\n",
       "|---|---|---|\n",
       "| 1 | Williams, John R., fl. 1895       | Miner                                                 |\n",
       "| 2 | Robb, Alexander, 1839-            | Miner; Laborer industry; Rancher; Government employee |\n",
       "| 14 | Hutchings, James Mason, 1820-1902 | Tradesman; Miner; Writer; Businessman                 |\n",
       "\n"
      ],
      "text/plain": [
       "   docauthorname                    \n",
       "1  Williams, John R., fl. 1895      \n",
       "2  Robb, Alexander, 1839-           \n",
       "14 Hutchings, James Mason, 1820-1902\n",
       "   socialClass                                          \n",
       "1  Miner                                                \n",
       "2  Miner; Laborer industry; Rancher; Government employee\n",
       "14 Tradesman; Miner; Writer; Businessman                "
      ]
     },
     "metadata": {},
     "output_type": "display_data"
    }
   ],
   "source": [
    "# Who are the miners?\n",
    "letters %>% \n",
    "filter(grepl(\"Miner\", socialClass)) %>% \n",
    "select(docauthorname, socialClass) %>% \n",
    "unique()"
   ]
  },
  {
   "cell_type": "markdown",
   "metadata": {},
   "source": [
    "Because mining in North American during the time in question was in its infancy, some of the people described as miners were participating in the Gold Rush as independent prospectors. Therefore, they aren't exactly wage labourers because they don't have \"bosses.\" J.M. Hutchings (https://en.wikipedia.org/wiki/James_Mason_Hutchings) is in this category, whereas J.R. Williams and Alexander Robb were working on wages. That said, none of the occupational classification systems that I have seen make a distinction between miners and prospectors, so I am leaving them together for now."
   ]
  },
  {
   "cell_type": "code",
   "execution_count": 128,
   "metadata": {},
   "outputs": [
    {
     "data": {
      "text/html": [
       "<table class=\"dataframe\">\n",
       "<caption>A data.frame: 5 × 4</caption>\n",
       "<thead>\n",
       "\t<tr><th></th><th scope=col>docauthorid</th><th scope=col>docauthorname</th><th scope=col>socialClass</th><th scope=col>docid</th></tr>\n",
       "\t<tr><th></th><th scope=col>&lt;fct&gt;</th><th scope=col>&lt;fct&gt;</th><th scope=col>&lt;chr&gt;</th><th scope=col>&lt;fct&gt;</th></tr>\n",
       "</thead>\n",
       "<tbody>\n",
       "\t<tr><th scope=row>1</th><td>per0029182</td><td>Anonymous Male Scottish Immigrant from Aberdeen, fl. 1832-1834</td><td>Manufacturer</td><td>S9865-D017</td></tr>\n",
       "\t<tr><th scope=row>2</th><td>per0029182</td><td>Anonymous Male Scottish Immigrant from Aberdeen, fl. 1832-1834</td><td>Manufacturer</td><td>S9865-D018</td></tr>\n",
       "\t<tr><th scope=row>3</th><td>per0029182</td><td>Anonymous Male Scottish Immigrant from Aberdeen, fl. 1832-1834</td><td>Manufacturer</td><td>S9865-D019</td></tr>\n",
       "\t<tr><th scope=row>4</th><td>per0029200</td><td>Anonymous Scottish Immigrant from Turriff, fl. 1834           </td><td>Manufacturer</td><td>S9865-D039</td></tr>\n",
       "\t<tr><th scope=row>5</th><td>per0036196</td><td>Downe, John, fl. 1830                                         </td><td>Manufacturer</td><td>S9974-D010</td></tr>\n",
       "</tbody>\n",
       "</table>\n"
      ],
      "text/latex": [
       "A data.frame: 5 × 4\n",
       "\\begin{tabular}{r|llll}\n",
       "  & docauthorid & docauthorname & socialClass & docid\\\\\n",
       "  & <fct> & <fct> & <chr> & <fct>\\\\\n",
       "\\hline\n",
       "\t1 & per0029182 & Anonymous Male Scottish Immigrant from Aberdeen, fl. 1832-1834 & Manufacturer & S9865-D017\\\\\n",
       "\t2 & per0029182 & Anonymous Male Scottish Immigrant from Aberdeen, fl. 1832-1834 & Manufacturer & S9865-D018\\\\\n",
       "\t3 & per0029182 & Anonymous Male Scottish Immigrant from Aberdeen, fl. 1832-1834 & Manufacturer & S9865-D019\\\\\n",
       "\t4 & per0029200 & Anonymous Scottish Immigrant from Turriff, fl. 1834            & Manufacturer & S9865-D039\\\\\n",
       "\t5 & per0036196 & Downe, John, fl. 1830                                          & Manufacturer & S9974-D010\\\\\n",
       "\\end{tabular}\n"
      ],
      "text/markdown": [
       "\n",
       "A data.frame: 5 × 4\n",
       "\n",
       "| <!--/--> | docauthorid &lt;fct&gt; | docauthorname &lt;fct&gt; | socialClass &lt;chr&gt; | docid &lt;fct&gt; |\n",
       "|---|---|---|---|---|\n",
       "| 1 | per0029182 | Anonymous Male Scottish Immigrant from Aberdeen, fl. 1832-1834 | Manufacturer | S9865-D017 |\n",
       "| 2 | per0029182 | Anonymous Male Scottish Immigrant from Aberdeen, fl. 1832-1834 | Manufacturer | S9865-D018 |\n",
       "| 3 | per0029182 | Anonymous Male Scottish Immigrant from Aberdeen, fl. 1832-1834 | Manufacturer | S9865-D019 |\n",
       "| 4 | per0029200 | Anonymous Scottish Immigrant from Turriff, fl. 1834            | Manufacturer | S9865-D039 |\n",
       "| 5 | per0036196 | Downe, John, fl. 1830                                          | Manufacturer | S9974-D010 |\n",
       "\n"
      ],
      "text/plain": [
       "  docauthorid docauthorname                                                 \n",
       "1 per0029182  Anonymous Male Scottish Immigrant from Aberdeen, fl. 1832-1834\n",
       "2 per0029182  Anonymous Male Scottish Immigrant from Aberdeen, fl. 1832-1834\n",
       "3 per0029182  Anonymous Male Scottish Immigrant from Aberdeen, fl. 1832-1834\n",
       "4 per0029200  Anonymous Scottish Immigrant from Turriff, fl. 1834           \n",
       "5 per0036196  Downe, John, fl. 1830                                         \n",
       "  socialClass  docid     \n",
       "1 Manufacturer S9865-D017\n",
       "2 Manufacturer S9865-D018\n",
       "3 Manufacturer S9865-D019\n",
       "4 Manufacturer S9865-D039\n",
       "5 Manufacturer S9974-D010"
      ]
     },
     "metadata": {},
     "output_type": "display_data"
    }
   ],
   "source": [
    "# Who are the manufacturers?\n",
    "letters %>% \n",
    "filter(grepl(\"Manufacturer\", socialClass)) %>% \n",
    "select(docauthorid, docauthorname, socialClass, docid) %>% \n",
    "unique()"
   ]
  },
  {
   "cell_type": "code",
   "execution_count": 129,
   "metadata": {},
   "outputs": [],
   "source": [
    "#According to the original letter text (S9865-D017), per0029182 is a farmer and a millwright.\n",
    "#So not a laborer.  \n",
    "#Recoding his socialClass to indicate farmer and tradesman and not the more vague term \"manufacturer.\"\n",
    "\n",
    "letters$socialClass[letters$docauthorid==\"per0029182\"] <- \"Farmer; Tradesman\""
   ]
  },
  {
   "cell_type": "code",
   "execution_count": 130,
   "metadata": {},
   "outputs": [],
   "source": [
    "#According to the original letter text (S9865-D039), per0029200 is a millwright who works for wages, apparently in the boat building industry, \n",
    "#Recoding his socialClass to indicate \"Tradesman\" and not the more vague term \"Manufacturer.\"\n",
    "\n",
    "letters$socialClass[letters$docauthorid==\"per0029200\"] <- \"Tradesman; Laborer industry\""
   ]
  },
  {
   "cell_type": "code",
   "execution_count": 131,
   "metadata": {},
   "outputs": [],
   "source": [
    "#According to the original letter text (S9865-D039), per0036196 is a weaver who became the manager of a factory.\n",
    "#It sounds like he manages the whole factory, not just the manual laborers, so his station appears to be above a foreman.\n",
    "#Recoding his socialClass to indicate \"Factory manager\" and not the more vague term \"Manufacturer.\"\n",
    "#\n",
    "\n",
    "letters$socialClass[letters$docauthorid==\"per0036196\"] <- \"Manager factory\""
   ]
  },
  {
   "cell_type": "code",
   "execution_count": 132,
   "metadata": {},
   "outputs": [
    {
     "data": {
      "text/html": [
       "<table class=\"dataframe\">\n",
       "<caption>A data.frame: 1 × 3</caption>\n",
       "<thead>\n",
       "\t<tr><th></th><th scope=col>docauthorid</th><th scope=col>docauthorname</th><th scope=col>socialClass</th></tr>\n",
       "\t<tr><th></th><th scope=col>&lt;fct&gt;</th><th scope=col>&lt;fct&gt;</th><th scope=col>&lt;chr&gt;</th></tr>\n",
       "</thead>\n",
       "<tbody>\n",
       "\t<tr><th scope=row>1</th><td>per0029178</td><td>Anonymous Male Scottish Immigrant in Michigan, fl. 1832-1834</td><td>Surveyor</td></tr>\n",
       "</tbody>\n",
       "</table>\n"
      ],
      "text/latex": [
       "A data.frame: 1 × 3\n",
       "\\begin{tabular}{r|lll}\n",
       "  & docauthorid & docauthorname & socialClass\\\\\n",
       "  & <fct> & <fct> & <chr>\\\\\n",
       "\\hline\n",
       "\t1 & per0029178 & Anonymous Male Scottish Immigrant in Michigan, fl. 1832-1834 & Surveyor\\\\\n",
       "\\end{tabular}\n"
      ],
      "text/markdown": [
       "\n",
       "A data.frame: 1 × 3\n",
       "\n",
       "| <!--/--> | docauthorid &lt;fct&gt; | docauthorname &lt;fct&gt; | socialClass &lt;chr&gt; |\n",
       "|---|---|---|---|\n",
       "| 1 | per0029178 | Anonymous Male Scottish Immigrant in Michigan, fl. 1832-1834 | Surveyor |\n",
       "\n"
      ],
      "text/plain": [
       "  docauthorid docauthorname                                               \n",
       "1 per0029178  Anonymous Male Scottish Immigrant in Michigan, fl. 1832-1834\n",
       "  socialClass\n",
       "1 Surveyor   "
      ]
     },
     "metadata": {},
     "output_type": "display_data"
    }
   ],
   "source": [
    "# Who are the surveyors?\n",
    "letters %>% \n",
    "filter(grepl(\"Surveyor\", socialClass)) %>% \n",
    "select(docauthorid, docauthorname, socialClass) %>% \n",
    "unique()"
   ]
  },
  {
   "cell_type": "markdown",
   "metadata": {},
   "source": [
    "This is a land surveyor, who is described as a gentleman, clearly with some education, given his descriptions and references to literary and scientific people. I'm going to place him in the CCP class."
   ]
  },
  {
   "cell_type": "code",
   "execution_count": 133,
   "metadata": {},
   "outputs": [
    {
     "data": {
      "text/html": [
       "<table class=\"dataframe\">\n",
       "<caption>A data.frame: 11 × 3</caption>\n",
       "<thead>\n",
       "\t<tr><th></th><th scope=col>docauthorid</th><th scope=col>docauthorname</th><th scope=col>socialClass</th></tr>\n",
       "\t<tr><th></th><th scope=col>&lt;fct&gt;</th><th scope=col>&lt;fct&gt;</th><th scope=col>&lt;chr&gt;</th></tr>\n",
       "</thead>\n",
       "<tbody>\n",
       "\t<tr><th scope=row>1</th><td>per0026978</td><td>Carrothers, Nathaniel, ?-1881                                 </td><td>Farmer; Tradesman                    </td></tr>\n",
       "\t<tr><th scope=row>8</th><td>per0026981</td><td>Carrothers, Joseph, 1793(?)-                                  </td><td>Farmer; Tradesman                    </td></tr>\n",
       "\t<tr><th scope=row>18</th><td>per0025578</td><td>Anonymous English Male Immigrant in Troy, NY, fl. 1804        </td><td>Farmer; Tradesman                    </td></tr>\n",
       "\t<tr><th scope=row>20</th><td>per0036144</td><td>Knight, James, fl. 1831                                       </td><td>Businessman; Tradesman               </td></tr>\n",
       "\t<tr><th scope=row>21</th><td>per0029177</td><td>Anonymous Male Scottish Immigrant in Buffalo, NY, fl. 1834    </td><td>Tradesman                            </td></tr>\n",
       "\t<tr><th scope=row>22</th><td>per0029182</td><td>Anonymous Male Scottish Immigrant from Aberdeen, fl. 1832-1834</td><td>Farmer; Tradesman                    </td></tr>\n",
       "\t<tr><th scope=row>25</th><td>per0029192</td><td>Anonymous Scottish Cabinet Maker, fl. 1833                    </td><td>Tradesman                            </td></tr>\n",
       "\t<tr><th scope=row>26</th><td>per0029200</td><td>Anonymous Scottish Immigrant from Turriff, fl. 1834           </td><td>Tradesman; Laborer industry          </td></tr>\n",
       "\t<tr><th scope=row>27</th><td>per0038828</td><td>Graham, Thomas, fl. 1827                                      </td><td>Tradesman                            </td></tr>\n",
       "\t<tr><th scope=row>29</th><td>per0038989</td><td>Singer, William, fl. 1831                                     </td><td>Laborer farm; Tradesman              </td></tr>\n",
       "\t<tr><th scope=row>30</th><td>per0022894</td><td>Hutchings, James Mason, 1820-1902                             </td><td>Tradesman; Miner; Writer; Businessman</td></tr>\n",
       "</tbody>\n",
       "</table>\n"
      ],
      "text/latex": [
       "A data.frame: 11 × 3\n",
       "\\begin{tabular}{r|lll}\n",
       "  & docauthorid & docauthorname & socialClass\\\\\n",
       "  & <fct> & <fct> & <chr>\\\\\n",
       "\\hline\n",
       "\t1 & per0026978 & Carrothers, Nathaniel, ?-1881                                  & Farmer; Tradesman                    \\\\\n",
       "\t8 & per0026981 & Carrothers, Joseph, 1793(?)-                                   & Farmer; Tradesman                    \\\\\n",
       "\t18 & per0025578 & Anonymous English Male Immigrant in Troy, NY, fl. 1804         & Farmer; Tradesman                    \\\\\n",
       "\t20 & per0036144 & Knight, James, fl. 1831                                        & Businessman; Tradesman               \\\\\n",
       "\t21 & per0029177 & Anonymous Male Scottish Immigrant in Buffalo, NY, fl. 1834     & Tradesman                            \\\\\n",
       "\t22 & per0029182 & Anonymous Male Scottish Immigrant from Aberdeen, fl. 1832-1834 & Farmer; Tradesman                    \\\\\n",
       "\t25 & per0029192 & Anonymous Scottish Cabinet Maker, fl. 1833                     & Tradesman                            \\\\\n",
       "\t26 & per0029200 & Anonymous Scottish Immigrant from Turriff, fl. 1834            & Tradesman; Laborer industry          \\\\\n",
       "\t27 & per0038828 & Graham, Thomas, fl. 1827                                       & Tradesman                            \\\\\n",
       "\t29 & per0038989 & Singer, William, fl. 1831                                      & Laborer farm; Tradesman              \\\\\n",
       "\t30 & per0022894 & Hutchings, James Mason, 1820-1902                              & Tradesman; Miner; Writer; Businessman\\\\\n",
       "\\end{tabular}\n"
      ],
      "text/markdown": [
       "\n",
       "A data.frame: 11 × 3\n",
       "\n",
       "| <!--/--> | docauthorid &lt;fct&gt; | docauthorname &lt;fct&gt; | socialClass &lt;chr&gt; |\n",
       "|---|---|---|---|\n",
       "| 1 | per0026978 | Carrothers, Nathaniel, ?-1881                                  | Farmer; Tradesman                     |\n",
       "| 8 | per0026981 | Carrothers, Joseph, 1793(?)-                                   | Farmer; Tradesman                     |\n",
       "| 18 | per0025578 | Anonymous English Male Immigrant in Troy, NY, fl. 1804         | Farmer; Tradesman                     |\n",
       "| 20 | per0036144 | Knight, James, fl. 1831                                        | Businessman; Tradesman                |\n",
       "| 21 | per0029177 | Anonymous Male Scottish Immigrant in Buffalo, NY, fl. 1834     | Tradesman                             |\n",
       "| 22 | per0029182 | Anonymous Male Scottish Immigrant from Aberdeen, fl. 1832-1834 | Farmer; Tradesman                     |\n",
       "| 25 | per0029192 | Anonymous Scottish Cabinet Maker, fl. 1833                     | Tradesman                             |\n",
       "| 26 | per0029200 | Anonymous Scottish Immigrant from Turriff, fl. 1834            | Tradesman; Laborer industry           |\n",
       "| 27 | per0038828 | Graham, Thomas, fl. 1827                                       | Tradesman                             |\n",
       "| 29 | per0038989 | Singer, William, fl. 1831                                      | Laborer farm; Tradesman               |\n",
       "| 30 | per0022894 | Hutchings, James Mason, 1820-1902                              | Tradesman; Miner; Writer; Businessman |\n",
       "\n"
      ],
      "text/plain": [
       "   docauthorid docauthorname                                                 \n",
       "1  per0026978  Carrothers, Nathaniel, ?-1881                                 \n",
       "8  per0026981  Carrothers, Joseph, 1793(?)-                                  \n",
       "18 per0025578  Anonymous English Male Immigrant in Troy, NY, fl. 1804        \n",
       "20 per0036144  Knight, James, fl. 1831                                       \n",
       "21 per0029177  Anonymous Male Scottish Immigrant in Buffalo, NY, fl. 1834    \n",
       "22 per0029182  Anonymous Male Scottish Immigrant from Aberdeen, fl. 1832-1834\n",
       "25 per0029192  Anonymous Scottish Cabinet Maker, fl. 1833                    \n",
       "26 per0029200  Anonymous Scottish Immigrant from Turriff, fl. 1834           \n",
       "27 per0038828  Graham, Thomas, fl. 1827                                      \n",
       "29 per0038989  Singer, William, fl. 1831                                     \n",
       "30 per0022894  Hutchings, James Mason, 1820-1902                             \n",
       "   socialClass                          \n",
       "1  Farmer; Tradesman                    \n",
       "8  Farmer; Tradesman                    \n",
       "18 Farmer; Tradesman                    \n",
       "20 Businessman; Tradesman               \n",
       "21 Tradesman                            \n",
       "22 Farmer; Tradesman                    \n",
       "25 Tradesman                            \n",
       "26 Tradesman; Laborer industry          \n",
       "27 Tradesman                            \n",
       "29 Laborer farm; Tradesman              \n",
       "30 Tradesman; Miner; Writer; Businessman"
      ]
     },
     "metadata": {},
     "output_type": "display_data"
    }
   ],
   "source": [
    "# Who are the Tradespeople?\n",
    "letters %>% \n",
    "filter(grepl(\"Tradesman\", socialClass)) %>% \n",
    "select(docauthorid, docauthorname, socialClass) %>% \n",
    "unique()"
   ]
  },
  {
   "cell_type": "code",
   "execution_count": 134,
   "metadata": {},
   "outputs": [
    {
     "data": {
      "text/html": [
       "<table class=\"dataframe\">\n",
       "<caption>A data.frame: 2 × 1</caption>\n",
       "<thead>\n",
       "\t<tr><th scope=col>docid</th></tr>\n",
       "\t<tr><th scope=col>&lt;fct&gt;</th></tr>\n",
       "</thead>\n",
       "<tbody>\n",
       "\t<tr><td>S9873-D013</td></tr>\n",
       "\t<tr><td>S9873-D014</td></tr>\n",
       "</tbody>\n",
       "</table>\n"
      ],
      "text/latex": [
       "A data.frame: 2 × 1\n",
       "\\begin{tabular}{l}\n",
       " docid\\\\\n",
       " <fct>\\\\\n",
       "\\hline\n",
       "\t S9873-D013\\\\\n",
       "\t S9873-D014\\\\\n",
       "\\end{tabular}\n"
      ],
      "text/markdown": [
       "\n",
       "A data.frame: 2 × 1\n",
       "\n",
       "| docid &lt;fct&gt; |\n",
       "|---|\n",
       "| S9873-D013 |\n",
       "| S9873-D014 |\n",
       "\n"
      ],
      "text/plain": [
       "  docid     \n",
       "1 S9873-D013\n",
       "2 S9873-D014"
      ]
     },
     "metadata": {},
     "output_type": "display_data"
    }
   ],
   "source": [
    "letters %>% \n",
    "filter(docauthorid==\"per0038828\") %>% \n",
    "select(docid) "
   ]
  },
  {
   "cell_type": "markdown",
   "metadata": {},
   "source": [
    "This person is an apprentice to a joined who treats him well. Although he is not a fully skilled labourer, he is on track to being one and in any case is not paid in wages."
   ]
  },
  {
   "cell_type": "code",
   "execution_count": 135,
   "metadata": {},
   "outputs": [
    {
     "data": {
      "text/html": [
       "<table class=\"dataframe\">\n",
       "<caption>A data.frame: 1 × 1</caption>\n",
       "<thead>\n",
       "\t<tr><th scope=col>docid</th></tr>\n",
       "\t<tr><th scope=col>&lt;fct&gt;</th></tr>\n",
       "</thead>\n",
       "<tbody>\n",
       "\t<tr><td>S9865-D029</td></tr>\n",
       "</tbody>\n",
       "</table>\n"
      ],
      "text/latex": [
       "A data.frame: 1 × 1\n",
       "\\begin{tabular}{l}\n",
       " docid\\\\\n",
       " <fct>\\\\\n",
       "\\hline\n",
       "\t S9865-D029\\\\\n",
       "\\end{tabular}\n"
      ],
      "text/markdown": [
       "\n",
       "A data.frame: 1 × 1\n",
       "\n",
       "| docid &lt;fct&gt; |\n",
       "|---|\n",
       "| S9865-D029 |\n",
       "\n"
      ],
      "text/plain": [
       "  docid     \n",
       "1 S9865-D029"
      ]
     },
     "metadata": {},
     "output_type": "display_data"
    }
   ],
   "source": [
    "letters %>% \n",
    "filter(docauthorid==\"per0029192\") %>% \n",
    "select(docid) "
   ]
  },
  {
   "cell_type": "markdown",
   "metadata": {},
   "source": [
    "This cabinetmaker speaks of working in a shop and gives his salary, which is higher than the mason's salary that he also gives. These are all clues that he is working at a trade rather than as an unskilled labourer."
   ]
  },
  {
   "cell_type": "code",
   "execution_count": 136,
   "metadata": {},
   "outputs": [
    {
     "data": {
      "text/html": [
       "<table class=\"dataframe\">\n",
       "<caption>A data.frame: 1 × 1</caption>\n",
       "<thead>\n",
       "\t<tr><th scope=col>docid</th></tr>\n",
       "\t<tr><th scope=col>&lt;fct&gt;</th></tr>\n",
       "</thead>\n",
       "<tbody>\n",
       "\t<tr><td>S9865-D013</td></tr>\n",
       "</tbody>\n",
       "</table>\n"
      ],
      "text/latex": [
       "A data.frame: 1 × 1\n",
       "\\begin{tabular}{l}\n",
       " docid\\\\\n",
       " <fct>\\\\\n",
       "\\hline\n",
       "\t S9865-D013\\\\\n",
       "\\end{tabular}\n"
      ],
      "text/markdown": [
       "\n",
       "A data.frame: 1 × 1\n",
       "\n",
       "| docid &lt;fct&gt; |\n",
       "|---|\n",
       "| S9865-D013 |\n",
       "\n"
      ],
      "text/plain": [
       "  docid     \n",
       "1 S9865-D013"
      ]
     },
     "metadata": {},
     "output_type": "display_data"
    }
   ],
   "source": [
    "letters %>% \n",
    "filter(docauthorid==\"per0029177\") %>% \n",
    "select(docid) "
   ]
  },
  {
   "cell_type": "markdown",
   "metadata": {},
   "source": [
    "This person, who is identified as a joiner, indicates his salary as well as that for a laborer. His is quite a bit higher, which suggests that he is indeed working as a skilled worker, rather than an unskilled labourer. Erickson (1972) seems to group tradespeople in with industry, so that is what I will do here."
   ]
  },
  {
   "cell_type": "code",
   "execution_count": 137,
   "metadata": {},
   "outputs": [],
   "source": [
    "# Filling in some more missing data\n",
    "letters$socialClass[letters$docauthorname==\"Sampson, William, 1764-1836\"] <- \"Lawyer\""
   ]
  },
  {
   "cell_type": "markdown",
   "metadata": {},
   "source": [
    "What follows is a case-by-case determination of whether the author is a wage labourer. These assessments are based on the letter text and in some cases online biographical research.\n",
    "\n",
    "According to the introduction to the Welsh in America, Samuel Roberts was a \"Congregational minister from Llanbrynmair who was also a tenant farmer, a scholar, and a considerable social force in\n",
    "19th century Wales\" (Conway, 1961, p.10). Tenant farmers were not wage laborers. Therefore, this person will be coded as \"FALSE.\"\n",
    "\n",
    "As explained previously in this notebook, Sarah and her husband Humphrey appear to be involved in farming and potentially some form of industrial wage labour, although it is not possible to discern if they are personally engaged in this form of work or just familiar with it because their sons and people in their community are engaged in it. Sarah mentions that “things are dearer in the towns than here in the country,” which does indicate that they are principally involved in farming rather than industrial work. She refers to “fair prices” for horses, which indicates that they are likely independent farmers rather than farmhands, but her knowledge of wages for labourers and working conditions in industrial settings indicates that she is very close to this lifestyle. My net impression from Sarah’s letters are that she and Humphrey are farmers but well-connected with the wider Welsh community, which is involved in a variety industries and the wage labour that is associated with it. For this reason, I am coding her as FALSE for wage labour.\n",
    "\n",
    "Thomas initially sounds like a poor labourer because he makes multiple references to his terrible situation and to work, or rather his inability to do any, because of an illness. The metadata shows him as a farmer, but his letter goes on to speak of mining, particularly of the prospecting variety, which I add to his list of occupations. In the introduction to his travel journal, an editor mentions that Thomas and his brother “worked a lime kiln” until forced away by illness, then they bought land and became farmers until the Gold Rush struck, at which point only Thomas continued westward (Turnbull, 1914, p. 151). It is not clear whether Thomas’ role at the lime kiln was as a labourer, a manager or as an owner-operator. He is described as having a solid education, so it seems unlikely he was an entirely unskilled labourer, especially given that he was able to buy land. Given the ambiguity of his role at the lime kiln, his work in mining will place him in the industrial and unskilled sectors. He will also be placed in the agricultural and farmer and fisher sectors -- pretty much covering the whole gamut for this hard to pin down individual."
   ]
  },
  {
   "cell_type": "code",
   "execution_count": 138,
   "metadata": {},
   "outputs": [],
   "source": [
    "letters$socialClass[letters$docauthorname==\"Turnbull, Thomas, 1812-1869\"] <- \"Farmer; Miner\""
   ]
  },
  {
   "cell_type": "markdown",
   "metadata": {},
   "source": [
    "James Mason Hutchings was many things in his life. Well educated and trained as a carpenter, he took up prospecting but was also a writer / reporter. In one of his letters, he writes about the necessity of serving as a day labourer on a canal or railway project if one wants to make it as a gold-digger, although this appears to be offered as advice to others rather than something he himself did. However, in addition to the occupations assigned to him previously, he was also a government employee for a time, according to https://yosemitetales.com/hiking-biking/james-mason-hutchings-1824-1902/. Adding this to his list of jobs. "
   ]
  },
  {
   "cell_type": "code",
   "execution_count": 139,
   "metadata": {},
   "outputs": [],
   "source": [
    "letters$socialClass[letters$docauthorname==\"Hutchings, James Mason, 1820-1902\"] <- \"Tradesman; Miner; Writer; Businessman; Government employee\""
   ]
  },
  {
   "cell_type": "markdown",
   "metadata": {},
   "source": [
    "This writer is a woman who is part of a family that was able to buy land and was in the process of establishing a homestead, although wage labour seems to have contributed to them being able to do this. It is not clear how much farming they are presently doing, but this does seem to be the aim/orientation. For now, they are purchasing or trading for provisions, and doing wage labour. No particular skills or trades are mentioned with regard to the labour, aside from \"sawing\" so I am going to code them as TRUE for unskilled labour and will add \"Laborer farm\" to their list of occupations."
   ]
  },
  {
   "cell_type": "code",
   "execution_count": 140,
   "metadata": {},
   "outputs": [],
   "source": [
    "letters$socialClass[letters$docauthorname==\"Owen, Margred\"] <- \"Farmer; Laborer farm\""
   ]
  },
  {
   "cell_type": "code",
   "execution_count": 141,
   "metadata": {},
   "outputs": [
    {
     "name": "stdout",
     "output_type": "stream",
     "text": [
      " [1] \"Architect\"            \"Artist\"               \"Businessman\"         \n",
      " [4] \"Clergy\"               \"Clerk\"                \"Editor\"              \n",
      " [7] \"Educator\"             \"Farmer\"               \"Government appointee\"\n",
      "[10] \"Government employee\"  \"Laborer farm\"         \"Laborer industry\"    \n",
      "[13] \"Lawyer\"               \"Manager factory\"      \"Manager fishing\"     \n",
      "[16] \"Manager media\"        \"Merchant\"             \"Military officer\"    \n",
      "[19] \"Miner\"                \"Missionary\"           \"Nun\"                 \n",
      "[22] \"Politician\"           \"Printer\"              \"Rancher\"             \n",
      "[25] \"Religious leader\"     \"Social worker\"        \"Surveyor\"            \n",
      "[28] \"Teacher\"              \"Tradesman\"            \"Urban planner\"       \n",
      "[31] \"Writer\"              \n"
     ]
    }
   ],
   "source": [
    "# Put the list of unique job titles into a list (note: some cells contain multiple titles)\n",
    "Jobs  <- letters$socialClass %>%\n",
    "str_split(\"; \") %>% \n",
    "unlist() %>% \n",
    "unique() \n",
    "\n",
    "print(sort(Jobs))"
   ]
  },
  {
   "cell_type": "code",
   "execution_count": 142,
   "metadata": {},
   "outputs": [
    {
     "data": {
      "text/html": [
       "<table class=\"dataframe\">\n",
       "<caption>A data.frame: 32 × 2</caption>\n",
       "<thead>\n",
       "\t<tr><th scope=col>Jobs</th><th scope=col>Erickson</th></tr>\n",
       "\t<tr><th scope=col>&lt;chr&gt;</th><th scope=col>&lt;chr&gt;</th></tr>\n",
       "</thead>\n",
       "<tbody>\n",
       "\t<tr><td>Nun                 </td><td>CCP</td></tr>\n",
       "\t<tr><td>Social worker       </td><td>CCP</td></tr>\n",
       "\t<tr><td>Teacher             </td><td>CCP</td></tr>\n",
       "\t<tr><td>Military officer    </td><td>CCP</td></tr>\n",
       "\t<tr><td>Writer              </td><td>CCP</td></tr>\n",
       "\t<tr><td>NA                  </td><td>NA </td></tr>\n",
       "\t<tr><td>Clergy              </td><td>CCP</td></tr>\n",
       "\t<tr><td>Farmer              </td><td>A  </td></tr>\n",
       "\t<tr><td>Laborer farm        </td><td>A  </td></tr>\n",
       "\t<tr><td>Miner               </td><td>I  </td></tr>\n",
       "\t<tr><td>Merchant            </td><td>CCP</td></tr>\n",
       "\t<tr><td>Manager fishing     </td><td>A  </td></tr>\n",
       "\t<tr><td>Clerk               </td><td>CCP</td></tr>\n",
       "\t<tr><td>Businessman         </td><td>CCP</td></tr>\n",
       "\t<tr><td>Artist              </td><td>CCP</td></tr>\n",
       "\t<tr><td>Educator            </td><td>CCP</td></tr>\n",
       "\t<tr><td>Printer             </td><td>CCP</td></tr>\n",
       "\t<tr><td>Editor              </td><td>CCP</td></tr>\n",
       "\t<tr><td>Manager media       </td><td>CCP</td></tr>\n",
       "\t<tr><td>Architect           </td><td>CCP</td></tr>\n",
       "\t<tr><td>Government appointee</td><td>CCP</td></tr>\n",
       "\t<tr><td>Politician          </td><td>CCP</td></tr>\n",
       "\t<tr><td>Religious leader    </td><td>CCP</td></tr>\n",
       "\t<tr><td>Tradesman           </td><td>I  </td></tr>\n",
       "\t<tr><td>Laborer industry    </td><td>I  </td></tr>\n",
       "\t<tr><td>Rancher             </td><td>A  </td></tr>\n",
       "\t<tr><td>Government employee </td><td>CCP</td></tr>\n",
       "\t<tr><td>Surveyor            </td><td>CCP</td></tr>\n",
       "\t<tr><td>Urban planner       </td><td>CCP</td></tr>\n",
       "\t<tr><td>Missionary          </td><td>CCP</td></tr>\n",
       "\t<tr><td>Lawyer              </td><td>CCP</td></tr>\n",
       "\t<tr><td>Manager factory     </td><td>I  </td></tr>\n",
       "</tbody>\n",
       "</table>\n"
      ],
      "text/latex": [
       "A data.frame: 32 × 2\n",
       "\\begin{tabular}{ll}\n",
       " Jobs & Erickson\\\\\n",
       " <chr> & <chr>\\\\\n",
       "\\hline\n",
       "\t Nun                  & CCP\\\\\n",
       "\t Social worker        & CCP\\\\\n",
       "\t Teacher              & CCP\\\\\n",
       "\t Military officer     & CCP\\\\\n",
       "\t Writer               & CCP\\\\\n",
       "\t NA                   & NA \\\\\n",
       "\t Clergy               & CCP\\\\\n",
       "\t Farmer               & A  \\\\\n",
       "\t Laborer farm         & A  \\\\\n",
       "\t Miner                & I  \\\\\n",
       "\t Merchant             & CCP\\\\\n",
       "\t Manager fishing      & A  \\\\\n",
       "\t Clerk                & CCP\\\\\n",
       "\t Businessman          & CCP\\\\\n",
       "\t Artist               & CCP\\\\\n",
       "\t Educator             & CCP\\\\\n",
       "\t Printer              & CCP\\\\\n",
       "\t Editor               & CCP\\\\\n",
       "\t Manager media        & CCP\\\\\n",
       "\t Architect            & CCP\\\\\n",
       "\t Government appointee & CCP\\\\\n",
       "\t Politician           & CCP\\\\\n",
       "\t Religious leader     & CCP\\\\\n",
       "\t Tradesman            & I  \\\\\n",
       "\t Laborer industry     & I  \\\\\n",
       "\t Rancher              & A  \\\\\n",
       "\t Government employee  & CCP\\\\\n",
       "\t Surveyor             & CCP\\\\\n",
       "\t Urban planner        & CCP\\\\\n",
       "\t Missionary           & CCP\\\\\n",
       "\t Lawyer               & CCP\\\\\n",
       "\t Manager factory      & I  \\\\\n",
       "\\end{tabular}\n"
      ],
      "text/markdown": [
       "\n",
       "A data.frame: 32 × 2\n",
       "\n",
       "| Jobs &lt;chr&gt; | Erickson &lt;chr&gt; |\n",
       "|---|---|\n",
       "| Nun                  | CCP |\n",
       "| Social worker        | CCP |\n",
       "| Teacher              | CCP |\n",
       "| Military officer     | CCP |\n",
       "| Writer               | CCP |\n",
       "| NA                   | NA  |\n",
       "| Clergy               | CCP |\n",
       "| Farmer               | A   |\n",
       "| Laborer farm         | A   |\n",
       "| Miner                | I   |\n",
       "| Merchant             | CCP |\n",
       "| Manager fishing      | A   |\n",
       "| Clerk                | CCP |\n",
       "| Businessman          | CCP |\n",
       "| Artist               | CCP |\n",
       "| Educator             | CCP |\n",
       "| Printer              | CCP |\n",
       "| Editor               | CCP |\n",
       "| Manager media        | CCP |\n",
       "| Architect            | CCP |\n",
       "| Government appointee | CCP |\n",
       "| Politician           | CCP |\n",
       "| Religious leader     | CCP |\n",
       "| Tradesman            | I   |\n",
       "| Laborer industry     | I   |\n",
       "| Rancher              | A   |\n",
       "| Government employee  | CCP |\n",
       "| Surveyor             | CCP |\n",
       "| Urban planner        | CCP |\n",
       "| Missionary           | CCP |\n",
       "| Lawyer               | CCP |\n",
       "| Manager factory      | I   |\n",
       "\n"
      ],
      "text/plain": [
       "   Jobs                 Erickson\n",
       "1  Nun                  CCP     \n",
       "2  Social worker        CCP     \n",
       "3  Teacher              CCP     \n",
       "4  Military officer     CCP     \n",
       "5  Writer               CCP     \n",
       "6  NA                   NA      \n",
       "7  Clergy               CCP     \n",
       "8  Farmer               A       \n",
       "9  Laborer farm         A       \n",
       "10 Miner                I       \n",
       "11 Merchant             CCP     \n",
       "12 Manager fishing      A       \n",
       "13 Clerk                CCP     \n",
       "14 Businessman          CCP     \n",
       "15 Artist               CCP     \n",
       "16 Educator             CCP     \n",
       "17 Printer              CCP     \n",
       "18 Editor               CCP     \n",
       "19 Manager media        CCP     \n",
       "20 Architect            CCP     \n",
       "21 Government appointee CCP     \n",
       "22 Politician           CCP     \n",
       "23 Religious leader     CCP     \n",
       "24 Tradesman            I       \n",
       "25 Laborer industry     I       \n",
       "26 Rancher              A       \n",
       "27 Government employee  CCP     \n",
       "28 Surveyor             CCP     \n",
       "29 Urban planner        CCP     \n",
       "30 Missionary           CCP     \n",
       "31 Lawyer               CCP     \n",
       "32 Manager factory      I       "
      ]
     },
     "metadata": {},
     "output_type": "display_data"
    }
   ],
   "source": [
    "# Turn this list into a dataframe.\n",
    "jobClass <- data.frame(Jobs)\n",
    "\n",
    "# Add a column for the Step 1 (Erickson) classification.\n",
    "jobClass['Erickson']  <- NA\n",
    "\n",
    "# Make Erickson categories\n",
    "# Agricultural (A), Industrial (I), Commercial-Clerical-Professional (CCP)\n",
    "\n",
    "A  <- c(\"Farmer\",\n",
    "        \"Laborer farm\",\n",
    "        \"Manager fishing\",\n",
    "        \"Rancher\"\n",
    "       )\n",
    "\n",
    "I  <-  c(\"Laborer industry\",\n",
    "         \"Manager factory\",\n",
    "         \"Miner\",\n",
    "         \"Tradesman\"\n",
    "        ) \n",
    "\n",
    "CCP <- c(\"Architect\", \n",
    "         \"Artist\",\n",
    "         \"Businessman\",\n",
    "         \"Clergy\",\n",
    "         \"Clerk\",\n",
    "         \"Editor\",\n",
    "         \"Educator\",\n",
    "         \"Government employee\",\n",
    "         \"Government appointee\",\n",
    "         \"Lawyer\",\n",
    "         \"Manager media\",\n",
    "         \"Merchant\",\n",
    "         \"Military officer\",\n",
    "         \"Missionary\",\n",
    "         \"Nun\",\n",
    "         \"Politician\",\n",
    "         \"Printer\",\n",
    "         \"Religious leader\",\n",
    "         \"Social worker\",\n",
    "         \"Surveyor\",\n",
    "         \"Teacher\",\n",
    "         \"Urban planner\",\n",
    "         \"Writer\"\n",
    "        )\n",
    "\n",
    "# Map jobs to occupation categories.\n",
    "# Agricultural\n",
    "rows = which(grepl(paste(A,collapse=\"|\"), jobClass$Job)) # Get rows that meet condition\n",
    "jobClass$Erickson[rows] <- \"A\" # Recode data\n",
    "\n",
    "# Industry\n",
    "rows = which(grepl(paste(I,collapse=\"|\"), jobClass$Job))\n",
    "jobClass$Erickson[rows] <- \"I\"\n",
    "\n",
    "# Commercial, Clerical, Professional\n",
    "rows = which(grepl(paste(CCP,collapse=\"|\"), jobClass$Job))\n",
    "jobClass$Erickson[rows] <- \"CCP\"\n",
    "\n",
    "# View\n",
    "jobClass"
   ]
  },
  {
   "cell_type": "code",
   "execution_count": 143,
   "metadata": {},
   "outputs": [
    {
     "name": "stdout",
     "output_type": "stream",
     "text": [
      "Rows: 32\n",
      "Columns: 3\n",
      "$ Jobs     \u001b[3m\u001b[90m<chr>\u001b[39m\u001b[23m \"Nun\", \"Social worker\", \"Teacher\", \"Military officer\", \"Write…\n",
      "$ Erickson \u001b[3m\u001b[90m<chr>\u001b[39m\u001b[23m \"CCP\", \"CCP\", \"CCP\", \"CCP\", \"CCP\", NA, \"CCP\", \"A\", \"A\", \"I\", …\n",
      "$ Getz     \u001b[3m\u001b[90m<lgl>\u001b[39m\u001b[23m NA, NA, NA, NA, NA, NA, NA, NA, NA, NA, NA, NA, NA, NA, NA, N…\n"
     ]
    }
   ],
   "source": [
    "# Create a new variable called \"Labourer\" in the jobClass dataframe.\n",
    "# To be clear, a yes for this variable means that the worker is paid in wages for unskilled labour \n",
    "# (i.e., does not include people with a trade)\n",
    "jobClass['Getz']  <- NA\n",
    "glimpse(jobClass)"
   ]
  },
  {
   "cell_type": "code",
   "execution_count": 144,
   "metadata": {
    "scrolled": true
   },
   "outputs": [
    {
     "data": {
      "text/html": [
       "<table class=\"dataframe\">\n",
       "<caption>A data.frame: 32 × 3</caption>\n",
       "<thead>\n",
       "\t<tr><th scope=col>Jobs</th><th scope=col>Erickson</th><th scope=col>Getz</th></tr>\n",
       "\t<tr><th scope=col>&lt;chr&gt;</th><th scope=col>&lt;chr&gt;</th><th scope=col>&lt;chr&gt;</th></tr>\n",
       "</thead>\n",
       "<tbody>\n",
       "\t<tr><td>Nun                 </td><td>CCP</td><td>No </td></tr>\n",
       "\t<tr><td>Social worker       </td><td>CCP</td><td>No </td></tr>\n",
       "\t<tr><td>Teacher             </td><td>CCP</td><td>No </td></tr>\n",
       "\t<tr><td>Military officer    </td><td>CCP</td><td>No </td></tr>\n",
       "\t<tr><td>Writer              </td><td>CCP</td><td>No </td></tr>\n",
       "\t<tr><td>NA                  </td><td>NA </td><td>NA </td></tr>\n",
       "\t<tr><td>Clergy              </td><td>CCP</td><td>No </td></tr>\n",
       "\t<tr><td>Farmer              </td><td>A  </td><td>No </td></tr>\n",
       "\t<tr><td>Laborer farm        </td><td>A  </td><td>Yes</td></tr>\n",
       "\t<tr><td>Miner               </td><td>I  </td><td>Yes</td></tr>\n",
       "\t<tr><td>Merchant            </td><td>CCP</td><td>No </td></tr>\n",
       "\t<tr><td>Manager fishing     </td><td>A  </td><td>No </td></tr>\n",
       "\t<tr><td>Clerk               </td><td>CCP</td><td>No </td></tr>\n",
       "\t<tr><td>Businessman         </td><td>CCP</td><td>No </td></tr>\n",
       "\t<tr><td>Artist              </td><td>CCP</td><td>No </td></tr>\n",
       "\t<tr><td>Educator            </td><td>CCP</td><td>No </td></tr>\n",
       "\t<tr><td>Printer             </td><td>CCP</td><td>No </td></tr>\n",
       "\t<tr><td>Editor              </td><td>CCP</td><td>No </td></tr>\n",
       "\t<tr><td>Manager media       </td><td>CCP</td><td>No </td></tr>\n",
       "\t<tr><td>Architect           </td><td>CCP</td><td>No </td></tr>\n",
       "\t<tr><td>Government appointee</td><td>CCP</td><td>No </td></tr>\n",
       "\t<tr><td>Politician          </td><td>CCP</td><td>No </td></tr>\n",
       "\t<tr><td>Religious leader    </td><td>CCP</td><td>No </td></tr>\n",
       "\t<tr><td>Tradesman           </td><td>I  </td><td>No </td></tr>\n",
       "\t<tr><td>Laborer industry    </td><td>I  </td><td>Yes</td></tr>\n",
       "\t<tr><td>Rancher             </td><td>A  </td><td>No </td></tr>\n",
       "\t<tr><td>Government employee </td><td>CCP</td><td>No </td></tr>\n",
       "\t<tr><td>Surveyor            </td><td>CCP</td><td>No </td></tr>\n",
       "\t<tr><td>Urban planner       </td><td>CCP</td><td>No </td></tr>\n",
       "\t<tr><td>Missionary          </td><td>CCP</td><td>No </td></tr>\n",
       "\t<tr><td>Lawyer              </td><td>CCP</td><td>No </td></tr>\n",
       "\t<tr><td>Manager factory     </td><td>I  </td><td>No </td></tr>\n",
       "</tbody>\n",
       "</table>\n"
      ],
      "text/latex": [
       "A data.frame: 32 × 3\n",
       "\\begin{tabular}{lll}\n",
       " Jobs & Erickson & Getz\\\\\n",
       " <chr> & <chr> & <chr>\\\\\n",
       "\\hline\n",
       "\t Nun                  & CCP & No \\\\\n",
       "\t Social worker        & CCP & No \\\\\n",
       "\t Teacher              & CCP & No \\\\\n",
       "\t Military officer     & CCP & No \\\\\n",
       "\t Writer               & CCP & No \\\\\n",
       "\t NA                   & NA  & NA \\\\\n",
       "\t Clergy               & CCP & No \\\\\n",
       "\t Farmer               & A   & No \\\\\n",
       "\t Laborer farm         & A   & Yes\\\\\n",
       "\t Miner                & I   & Yes\\\\\n",
       "\t Merchant             & CCP & No \\\\\n",
       "\t Manager fishing      & A   & No \\\\\n",
       "\t Clerk                & CCP & No \\\\\n",
       "\t Businessman          & CCP & No \\\\\n",
       "\t Artist               & CCP & No \\\\\n",
       "\t Educator             & CCP & No \\\\\n",
       "\t Printer              & CCP & No \\\\\n",
       "\t Editor               & CCP & No \\\\\n",
       "\t Manager media        & CCP & No \\\\\n",
       "\t Architect            & CCP & No \\\\\n",
       "\t Government appointee & CCP & No \\\\\n",
       "\t Politician           & CCP & No \\\\\n",
       "\t Religious leader     & CCP & No \\\\\n",
       "\t Tradesman            & I   & No \\\\\n",
       "\t Laborer industry     & I   & Yes\\\\\n",
       "\t Rancher              & A   & No \\\\\n",
       "\t Government employee  & CCP & No \\\\\n",
       "\t Surveyor             & CCP & No \\\\\n",
       "\t Urban planner        & CCP & No \\\\\n",
       "\t Missionary           & CCP & No \\\\\n",
       "\t Lawyer               & CCP & No \\\\\n",
       "\t Manager factory      & I   & No \\\\\n",
       "\\end{tabular}\n"
      ],
      "text/markdown": [
       "\n",
       "A data.frame: 32 × 3\n",
       "\n",
       "| Jobs &lt;chr&gt; | Erickson &lt;chr&gt; | Getz &lt;chr&gt; |\n",
       "|---|---|---|\n",
       "| Nun                  | CCP | No  |\n",
       "| Social worker        | CCP | No  |\n",
       "| Teacher              | CCP | No  |\n",
       "| Military officer     | CCP | No  |\n",
       "| Writer               | CCP | No  |\n",
       "| NA                   | NA  | NA  |\n",
       "| Clergy               | CCP | No  |\n",
       "| Farmer               | A   | No  |\n",
       "| Laborer farm         | A   | Yes |\n",
       "| Miner                | I   | Yes |\n",
       "| Merchant             | CCP | No  |\n",
       "| Manager fishing      | A   | No  |\n",
       "| Clerk                | CCP | No  |\n",
       "| Businessman          | CCP | No  |\n",
       "| Artist               | CCP | No  |\n",
       "| Educator             | CCP | No  |\n",
       "| Printer              | CCP | No  |\n",
       "| Editor               | CCP | No  |\n",
       "| Manager media        | CCP | No  |\n",
       "| Architect            | CCP | No  |\n",
       "| Government appointee | CCP | No  |\n",
       "| Politician           | CCP | No  |\n",
       "| Religious leader     | CCP | No  |\n",
       "| Tradesman            | I   | No  |\n",
       "| Laborer industry     | I   | Yes |\n",
       "| Rancher              | A   | No  |\n",
       "| Government employee  | CCP | No  |\n",
       "| Surveyor             | CCP | No  |\n",
       "| Urban planner        | CCP | No  |\n",
       "| Missionary           | CCP | No  |\n",
       "| Lawyer               | CCP | No  |\n",
       "| Manager factory      | I   | No  |\n",
       "\n"
      ],
      "text/plain": [
       "   Jobs                 Erickson Getz\n",
       "1  Nun                  CCP      No  \n",
       "2  Social worker        CCP      No  \n",
       "3  Teacher              CCP      No  \n",
       "4  Military officer     CCP      No  \n",
       "5  Writer               CCP      No  \n",
       "6  NA                   NA       NA  \n",
       "7  Clergy               CCP      No  \n",
       "8  Farmer               A        No  \n",
       "9  Laborer farm         A        Yes \n",
       "10 Miner                I        Yes \n",
       "11 Merchant             CCP      No  \n",
       "12 Manager fishing      A        No  \n",
       "13 Clerk                CCP      No  \n",
       "14 Businessman          CCP      No  \n",
       "15 Artist               CCP      No  \n",
       "16 Educator             CCP      No  \n",
       "17 Printer              CCP      No  \n",
       "18 Editor               CCP      No  \n",
       "19 Manager media        CCP      No  \n",
       "20 Architect            CCP      No  \n",
       "21 Government appointee CCP      No  \n",
       "22 Politician           CCP      No  \n",
       "23 Religious leader     CCP      No  \n",
       "24 Tradesman            I        No  \n",
       "25 Laborer industry     I        Yes \n",
       "26 Rancher              A        No  \n",
       "27 Government employee  CCP      No  \n",
       "28 Surveyor             CCP      No  \n",
       "29 Urban planner        CCP      No  \n",
       "30 Missionary           CCP      No  \n",
       "31 Lawyer               CCP      No  \n",
       "32 Manager factory      I        No  "
      ]
     },
     "metadata": {},
     "output_type": "display_data"
    }
   ],
   "source": [
    "# Classification based in Getz (2018).\n",
    "# Unskilled wage labour is the defining occupational factor for the 19th century.\n",
    "\n",
    "Yes <- c(\"Laborer farm\",\n",
    "         \"Laborer industry\",\n",
    "         \"Miner\")\n",
    "\n",
    "No <-  c(\"Architect\", \n",
    "         \"Artist\",\n",
    "         \"Businessman\",\n",
    "         \"Clergy\",\n",
    "         \"Clerk\",\n",
    "         \"Editor\",\n",
    "         \"Educator\",\n",
    "         \"Farmer\",\n",
    "         \"Government employee\",\n",
    "         \"Government appointee\",\n",
    "         \"Lawyer\",\n",
    "         \"Manager factory\",\n",
    "         \"Manager fishing\",\n",
    "         \"Manager media\",\n",
    "         \"Merchant\",\n",
    "         \"Military officer\",\n",
    "         \"Missionary\",\n",
    "         \"Nun\",\n",
    "         \"Politician\",\n",
    "         \"Printer\",\n",
    "         \"Rancher\",\n",
    "         \"Religious leader\",\n",
    "         \"Social worker\",\n",
    "         \"Surveyor\",\n",
    "         \"Teacher\",\n",
    "         \"Tradesman\",\n",
    "         \"Urban planner\",\n",
    "         \"Writer\")                \n",
    "\n",
    "# Map jobs to occupation categories.\n",
    "# Unskilled Labourer\n",
    "rows = which(grepl(paste(Yes,collapse=\"|\"), jobClass$Job)) # Get rows that meet condition\n",
    "jobClass$Getz[rows] <- \"Yes\" # Recode data\n",
    "\n",
    "# Middle class or higher\n",
    "rows = which(grepl(paste(No,collapse=\"|\"), jobClass$Job)) # Get rows that meet condition\n",
    "jobClass$Getz[rows] <- \"No\" # Recode data\n",
    "\n",
    "# View\n",
    "jobClass"
   ]
  },
  {
   "cell_type": "code",
   "execution_count": 145,
   "metadata": {},
   "outputs": [
    {
     "data": {
      "text/html": [
       "<table class=\"dataframe\">\n",
       "<caption>A data.frame: 32 × 4</caption>\n",
       "<thead>\n",
       "\t<tr><th scope=col>Jobs</th><th scope=col>Erickson</th><th scope=col>Getz</th><th scope=col>Ing</th></tr>\n",
       "\t<tr><th scope=col>&lt;chr&gt;</th><th scope=col>&lt;chr&gt;</th><th scope=col>&lt;chr&gt;</th><th scope=col>&lt;chr&gt;</th></tr>\n",
       "</thead>\n",
       "<tbody>\n",
       "\t<tr><td>Nun                 </td><td>CCP</td><td>No </td><td>M </td></tr>\n",
       "\t<tr><td>Social worker       </td><td>CCP</td><td>No </td><td>M </td></tr>\n",
       "\t<tr><td>Teacher             </td><td>CCP</td><td>No </td><td>U </td></tr>\n",
       "\t<tr><td>Military officer    </td><td>CCP</td><td>No </td><td>U </td></tr>\n",
       "\t<tr><td>Writer              </td><td>CCP</td><td>No </td><td>U </td></tr>\n",
       "\t<tr><td>NA                  </td><td>NA </td><td>NA </td><td>NA</td></tr>\n",
       "\t<tr><td>Clergy              </td><td>CCP</td><td>No </td><td>U </td></tr>\n",
       "\t<tr><td>Farmer              </td><td>A  </td><td>No </td><td>F </td></tr>\n",
       "\t<tr><td>Laborer farm        </td><td>A  </td><td>Yes</td><td>L </td></tr>\n",
       "\t<tr><td>Miner               </td><td>I  </td><td>Yes</td><td>L </td></tr>\n",
       "\t<tr><td>Merchant            </td><td>CCP</td><td>No </td><td>M </td></tr>\n",
       "\t<tr><td>Manager fishing     </td><td>A  </td><td>No </td><td>M </td></tr>\n",
       "\t<tr><td>Clerk               </td><td>CCP</td><td>No </td><td>M </td></tr>\n",
       "\t<tr><td>Businessman         </td><td>CCP</td><td>No </td><td>M </td></tr>\n",
       "\t<tr><td>Artist              </td><td>CCP</td><td>No </td><td>M </td></tr>\n",
       "\t<tr><td>Educator            </td><td>CCP</td><td>No </td><td>U </td></tr>\n",
       "\t<tr><td>Printer             </td><td>CCP</td><td>No </td><td>S </td></tr>\n",
       "\t<tr><td>Editor              </td><td>CCP</td><td>No </td><td>U </td></tr>\n",
       "\t<tr><td>Manager media       </td><td>CCP</td><td>No </td><td>M </td></tr>\n",
       "\t<tr><td>Architect           </td><td>CCP</td><td>No </td><td>U </td></tr>\n",
       "\t<tr><td>Government appointee</td><td>CCP</td><td>No </td><td>U </td></tr>\n",
       "\t<tr><td>Politician          </td><td>CCP</td><td>No </td><td>U </td></tr>\n",
       "\t<tr><td>Religious leader    </td><td>CCP</td><td>No </td><td>U </td></tr>\n",
       "\t<tr><td>Tradesman           </td><td>I  </td><td>No </td><td>S </td></tr>\n",
       "\t<tr><td>Laborer industry    </td><td>I  </td><td>Yes</td><td>L </td></tr>\n",
       "\t<tr><td>Rancher             </td><td>A  </td><td>No </td><td>F </td></tr>\n",
       "\t<tr><td>Government employee </td><td>CCP</td><td>No </td><td>U </td></tr>\n",
       "\t<tr><td>Surveyor            </td><td>CCP</td><td>No </td><td>M </td></tr>\n",
       "\t<tr><td>Urban planner       </td><td>CCP</td><td>No </td><td>U </td></tr>\n",
       "\t<tr><td>Missionary          </td><td>CCP</td><td>No </td><td>M </td></tr>\n",
       "\t<tr><td>Lawyer              </td><td>CCP</td><td>No </td><td>U </td></tr>\n",
       "\t<tr><td>Manager factory     </td><td>I  </td><td>No </td><td>M </td></tr>\n",
       "</tbody>\n",
       "</table>\n"
      ],
      "text/latex": [
       "A data.frame: 32 × 4\n",
       "\\begin{tabular}{llll}\n",
       " Jobs & Erickson & Getz & Ing\\\\\n",
       " <chr> & <chr> & <chr> & <chr>\\\\\n",
       "\\hline\n",
       "\t Nun                  & CCP & No  & M \\\\\n",
       "\t Social worker        & CCP & No  & M \\\\\n",
       "\t Teacher              & CCP & No  & U \\\\\n",
       "\t Military officer     & CCP & No  & U \\\\\n",
       "\t Writer               & CCP & No  & U \\\\\n",
       "\t NA                   & NA  & NA  & NA\\\\\n",
       "\t Clergy               & CCP & No  & U \\\\\n",
       "\t Farmer               & A   & No  & F \\\\\n",
       "\t Laborer farm         & A   & Yes & L \\\\\n",
       "\t Miner                & I   & Yes & L \\\\\n",
       "\t Merchant             & CCP & No  & M \\\\\n",
       "\t Manager fishing      & A   & No  & M \\\\\n",
       "\t Clerk                & CCP & No  & M \\\\\n",
       "\t Businessman          & CCP & No  & M \\\\\n",
       "\t Artist               & CCP & No  & M \\\\\n",
       "\t Educator             & CCP & No  & U \\\\\n",
       "\t Printer              & CCP & No  & S \\\\\n",
       "\t Editor               & CCP & No  & U \\\\\n",
       "\t Manager media        & CCP & No  & M \\\\\n",
       "\t Architect            & CCP & No  & U \\\\\n",
       "\t Government appointee & CCP & No  & U \\\\\n",
       "\t Politician           & CCP & No  & U \\\\\n",
       "\t Religious leader     & CCP & No  & U \\\\\n",
       "\t Tradesman            & I   & No  & S \\\\\n",
       "\t Laborer industry     & I   & Yes & L \\\\\n",
       "\t Rancher              & A   & No  & F \\\\\n",
       "\t Government employee  & CCP & No  & U \\\\\n",
       "\t Surveyor             & CCP & No  & M \\\\\n",
       "\t Urban planner        & CCP & No  & U \\\\\n",
       "\t Missionary           & CCP & No  & M \\\\\n",
       "\t Lawyer               & CCP & No  & U \\\\\n",
       "\t Manager factory      & I   & No  & M \\\\\n",
       "\\end{tabular}\n"
      ],
      "text/markdown": [
       "\n",
       "A data.frame: 32 × 4\n",
       "\n",
       "| Jobs &lt;chr&gt; | Erickson &lt;chr&gt; | Getz &lt;chr&gt; | Ing &lt;chr&gt; |\n",
       "|---|---|---|---|\n",
       "| Nun                  | CCP | No  | M  |\n",
       "| Social worker        | CCP | No  | M  |\n",
       "| Teacher              | CCP | No  | U  |\n",
       "| Military officer     | CCP | No  | U  |\n",
       "| Writer               | CCP | No  | U  |\n",
       "| NA                   | NA  | NA  | NA |\n",
       "| Clergy               | CCP | No  | U  |\n",
       "| Farmer               | A   | No  | F  |\n",
       "| Laborer farm         | A   | Yes | L  |\n",
       "| Miner                | I   | Yes | L  |\n",
       "| Merchant             | CCP | No  | M  |\n",
       "| Manager fishing      | A   | No  | M  |\n",
       "| Clerk                | CCP | No  | M  |\n",
       "| Businessman          | CCP | No  | M  |\n",
       "| Artist               | CCP | No  | M  |\n",
       "| Educator             | CCP | No  | U  |\n",
       "| Printer              | CCP | No  | S  |\n",
       "| Editor               | CCP | No  | U  |\n",
       "| Manager media        | CCP | No  | M  |\n",
       "| Architect            | CCP | No  | U  |\n",
       "| Government appointee | CCP | No  | U  |\n",
       "| Politician           | CCP | No  | U  |\n",
       "| Religious leader     | CCP | No  | U  |\n",
       "| Tradesman            | I   | No  | S  |\n",
       "| Laborer industry     | I   | Yes | L  |\n",
       "| Rancher              | A   | No  | F  |\n",
       "| Government employee  | CCP | No  | U  |\n",
       "| Surveyor             | CCP | No  | M  |\n",
       "| Urban planner        | CCP | No  | U  |\n",
       "| Missionary           | CCP | No  | M  |\n",
       "| Lawyer               | CCP | No  | U  |\n",
       "| Manager factory      | I   | No  | M  |\n",
       "\n"
      ],
      "text/plain": [
       "   Jobs                 Erickson Getz Ing\n",
       "1  Nun                  CCP      No   M  \n",
       "2  Social worker        CCP      No   M  \n",
       "3  Teacher              CCP      No   U  \n",
       "4  Military officer     CCP      No   U  \n",
       "5  Writer               CCP      No   U  \n",
       "6  NA                   NA       NA   NA \n",
       "7  Clergy               CCP      No   U  \n",
       "8  Farmer               A        No   F  \n",
       "9  Laborer farm         A        Yes  L  \n",
       "10 Miner                I        Yes  L  \n",
       "11 Merchant             CCP      No   M  \n",
       "12 Manager fishing      A        No   M  \n",
       "13 Clerk                CCP      No   M  \n",
       "14 Businessman          CCP      No   M  \n",
       "15 Artist               CCP      No   M  \n",
       "16 Educator             CCP      No   U  \n",
       "17 Printer              CCP      No   S  \n",
       "18 Editor               CCP      No   U  \n",
       "19 Manager media        CCP      No   M  \n",
       "20 Architect            CCP      No   U  \n",
       "21 Government appointee CCP      No   U  \n",
       "22 Politician           CCP      No   U  \n",
       "23 Religious leader     CCP      No   U  \n",
       "24 Tradesman            I        No   S  \n",
       "25 Laborer industry     I        Yes  L  \n",
       "26 Rancher              A        No   F  \n",
       "27 Government employee  CCP      No   U  \n",
       "28 Surveyor             CCP      No   M  \n",
       "29 Urban planner        CCP      No   U  \n",
       "30 Missionary           CCP      No   M  \n",
       "31 Lawyer               CCP      No   U  \n",
       "32 Manager factory      I        No   M  "
      ]
     },
     "metadata": {},
     "output_type": "display_data"
    }
   ],
   "source": [
    "# Add a column for the HISCLASS classification.\n",
    "jobClass['Ing']  <- NA\n",
    "\n",
    "# Make Categories\n",
    "\n",
    "U <- c(\"Architect\", \n",
    "       \"Clergy\",\n",
    "       \"Editor\",\n",
    "       \"Educator\",\n",
    "       \"Government appointee\",\n",
    "       \"Government employee\", # All of these people are in management or higher roles.\n",
    "       \"Lawyer\",\n",
    "       \"Manager media\",\n",
    "       \"Military officer\",\n",
    "       \"Politician\",\n",
    "       \"Religious leader\",\n",
    "       \"Teacher\",\n",
    "       \"Urban planner\",\n",
    "       \"Writer\"\n",
    "          )\n",
    "\n",
    "M <- c(\"Social worker\", \n",
    "       \"Nun\",\n",
    "       \"Surveyor\",\n",
    "       \"Manager fishing\",\n",
    "       \"Manager media\",\n",
    "       \"Manager factory\",\n",
    "       \"Missionary\",\n",
    "       \"Merchant\",\n",
    "       \"Businessman\",\n",
    "       \"Artist\",\n",
    "       \"Clerk\"\n",
    "      )\n",
    "\n",
    "S <- c(\"Tradesman\",\n",
    "       \"Printer\"      \n",
    "      )\n",
    "\n",
    "F <- c(\"Farmer\",\n",
    "       \"Rancher\"\n",
    "      )\n",
    "\n",
    "L <- c(\"Laborer farm\", \n",
    "       \"Laborer industry\",\n",
    "       \"Miner\")\n",
    "\n",
    "\n",
    "# Map jobs to occupation categories.\n",
    "# Upper Class (1, 1-2)\n",
    "rows = which(grepl(paste(U,collapse=\"|\"), jobClass$Job)) # Get rows that meet condition\n",
    "jobClass$Ing[rows] <- \"U\" # Recode data\n",
    "\n",
    "# Middle Class (2, 3-5)\n",
    "rows = which(grepl(paste(M,collapse=\"|\"), jobClass$Job))\n",
    "jobClass$Ing[rows] <- \"M\"\n",
    "\n",
    "# Skilled Workers (3, 6-7)\n",
    "rows = which(grepl(paste(S,collapse=\"|\"), jobClass$Job))\n",
    "jobClass$Ing[rows] <- \"S\"\n",
    "\n",
    "# Farmers & Fishers (4, 8)\n",
    "rows = which(grepl(paste(F,collapse=\"|\"), jobClass$Job))\n",
    "jobClass$Ing[rows] <- \"F\"\n",
    "\n",
    "# Labouring (5, 9-12)\n",
    "rows = which(grepl(paste(L,collapse=\"|\"), jobClass$Job))\n",
    "jobClass$Ing[rows] <- \"L\"\n",
    "\n",
    "# View\n",
    "jobClass"
   ]
  },
  {
   "cell_type": "markdown",
   "metadata": {},
   "source": [
    "### Assigning Values to the Occupation Variables"
   ]
  },
  {
   "cell_type": "code",
   "execution_count": 146,
   "metadata": {},
   "outputs": [
    {
     "data": {
      "text/plain": [
       "   Mode   FALSE    TRUE    NA's \n",
       "logical     204     264      50 "
      ]
     },
     "metadata": {},
     "output_type": "display_data"
    },
    {
     "data": {
      "text/plain": [
       "   Mode   FALSE    TRUE    NA's \n",
       "logical     420      48      50 "
      ]
     },
     "metadata": {},
     "output_type": "display_data"
    },
    {
     "data": {
      "text/plain": [
       "   Mode   FALSE    TRUE    NA's \n",
       "logical      60     408      50 "
      ]
     },
     "metadata": {},
     "output_type": "display_data"
    }
   ],
   "source": [
    "# Agricultural Class (\"A\")\n",
    "\n",
    "rows = which(grepl(paste(A,collapse=\"|\"), letters$socialClass)) # Get rows that meet condition\n",
    "letters['A'] <- NA # Make binary variable and fill with NAs\n",
    "letters$A[!is.na(letters$socialClass)]  <- FALSE # Set non-NA rows to False\n",
    "letters$A[rows] <- TRUE # Set rows meeting condition to True\n",
    "summary(letters$A) #Get summary\n",
    "\n",
    "# Industrial Class (\"I\")\n",
    "\n",
    "rows = which(grepl(paste(I,collapse=\"|\"), letters$socialClass)) # Get rows that meet condition\n",
    "letters['I'] <- NA # Make binary variable an fill with NAs\n",
    "letters$I[!is.na(letters$socialClass)]  <- FALSE # Set non-NA rows to False\n",
    "letters$I[rows] <- TRUE # Set rows meeting condition to True\n",
    "summary(letters$I) #Get summary\n",
    "\n",
    "# Commercial, Clerical & Professional (\"CCP\")\n",
    "\n",
    "rows = which(grepl(paste(CCP,collapse=\"|\"), letters$socialClass)) # Get rows that meet condition\n",
    "letters['CCP'] <- NA # Make binary variable an fill with NAs\n",
    "letters$CCP[!is.na(letters$socialClass)]  <- FALSE # Set non-NA rows to False\n",
    "letters$CCP[rows] <- TRUE # Set rows meeting condition to True\n",
    "summary(letters$CCP) #Get summary"
   ]
  },
  {
   "cell_type": "markdown",
   "metadata": {},
   "source": [
    "I decided not to use this hierarchical approach for reasons explained in the reflexivity blog, but I am keeping the code here in case I decide to change my mind. "
   ]
  },
  {
   "cell_type": "code",
   "execution_count": 147,
   "metadata": {},
   "outputs": [],
   "source": [
    "# This is where I use the available data to indicate where writers are wage labourers.\n",
    "\n",
    "#no = which(grepl(paste(No,collapse=\"|\"), letters$socialClass)) # Get rows that are not wage labourers\n",
    "#yes = which(grepl(paste(Yes,collapse=\"|\"), letters$socialClass)) # Get rows that are wage labourers\n",
    "#maybe = which(grepl(paste(Unknown,collapse=\"|\"), letters$socialClass)) # Get rows that might be wage labourers\n",
    "\n",
    "# The order of the following is important because writers have multiple occupations. \n",
    "# I am treating these as hierarchical, such that the writer is not considered a wage \n",
    "# labourer if any one of their jobs place them in a class above\n",
    "\n",
    "#letters['wageLabour'] <- NA # First, I fill all cells with NA\n",
    "#letters$wageLabour[yes] <- \"TRUE\" # Second, I enter TRUE anytime one of the occupations is Labour\n",
    "#letters$wageLabour[maybe] <- \"Unknown\" # Third, the value is upgraded if there is an occupation that might not be wage labour.\n",
    "#letters$wageLabour[no] <- \"FALSE\" # Finally, the value is upgraded to FALSE if there is a non-labour job.\n",
    "#summary(as.factor(letters$wageLabour))"
   ]
  },
  {
   "cell_type": "code",
   "execution_count": 148,
   "metadata": {},
   "outputs": [
    {
     "data": {
      "text/plain": [
       "   Mode   FALSE    TRUE    NA's \n",
       "logical     447      21      50 "
      ]
     },
     "metadata": {},
     "output_type": "display_data"
    }
   ],
   "source": [
    "#This is where I use the available data to indicate where writers are wage labourers.\n",
    "\n",
    "no = which(grepl(paste(No,collapse=\"|\"), letters$socialClass)) # Get rows that are not wage labourers\n",
    "yes = which(grepl(paste(Yes,collapse=\"|\"), letters$socialClass)) # Get rows that are wage labourers\n",
    "\n",
    "# The order of the following is important because writers have multiple occupations. \n",
    "# I have decided to code this variables as TRUE if any one of the writer's position places them \n",
    "# in the labouring class.\n",
    "\n",
    "letters['UWL'] <- NA # First, I fill all cells with NA\n",
    "letters$UWL[no] <- FALSE # next, the value is changed to FALSE if there is a non-labour job.\n",
    "letters$UWL[yes] <- TRUE # last, I enter TRUE of there is an unskilled labour job\n",
    "summary(letters$UWL)"
   ]
  },
  {
   "cell_type": "code",
   "execution_count": 149,
   "metadata": {},
   "outputs": [
    {
     "data": {
      "text/plain": [
       "   Mode   FALSE    TRUE    NA's \n",
       "logical     278     190      50 "
      ]
     },
     "metadata": {},
     "output_type": "display_data"
    },
    {
     "data": {
      "text/plain": [
       "   Mode   FALSE    TRUE    NA's \n",
       "logical     177     291      50 "
      ]
     },
     "metadata": {},
     "output_type": "display_data"
    },
    {
     "data": {
      "text/plain": [
       "   Mode   FALSE    TRUE    NA's \n",
       "logical     427      41      50 "
      ]
     },
     "metadata": {},
     "output_type": "display_data"
    },
    {
     "data": {
      "text/plain": [
       "   Mode   FALSE    TRUE    NA's \n",
       "logical     205     263      50 "
      ]
     },
     "metadata": {},
     "output_type": "display_data"
    },
    {
     "data": {
      "text/plain": [
       "   Mode   FALSE    TRUE    NA's \n",
       "logical     447      21      50 "
      ]
     },
     "metadata": {},
     "output_type": "display_data"
    }
   ],
   "source": [
    "# Upper Class (\"U\")\n",
    "\n",
    "rows = which(grepl(paste(U,collapse=\"|\"), letters$socialClass)) # Get rows that meet condition\n",
    "letters['U'] <- NA # Make binary variable and fill with NAs\n",
    "letters$U[!is.na(letters$socialClass)]  <- FALSE # Set non-NA rows to False\n",
    "letters$U[rows] <- TRUE # Set rows meeting condition to True\n",
    "summary(letters$U) #Get summary\n",
    "\n",
    "# Middle Class (\"M\")\n",
    "\n",
    "rows = which(grepl(paste(M,collapse=\"|\"), letters$socialClass)) # Get rows that meet condition\n",
    "letters['M'] <- NA # Make binary variable an fill with NAs\n",
    "letters$M[!is.na(letters$socialClass)]  <- FALSE # Set non-NA rows to False\n",
    "letters$M[rows] <- TRUE # Set rows meeting condition to True\n",
    "summary(letters$M) #Get summary\n",
    "\n",
    "# Skilled Worker Class (\"S\")\n",
    "\n",
    "rows = which(grepl(paste(S,collapse=\"|\"), letters$socialClass)) # Get rows that meet condition\n",
    "letters['S'] <- NA # Make binary variable an fill with NAs\n",
    "letters$S[!is.na(letters$socialClass)]  <- FALSE # Set non-NA rows to False\n",
    "letters$S[rows] <- TRUE # Set rows meeting condition to True\n",
    "summary(letters$S) #Get summary\n",
    "\n",
    "# Farming & Fishing (& Ranching) Class (\"F\")\n",
    "\n",
    "rows = which(grepl(paste(F,collapse=\"|\"), letters$socialClass)) # Get rows that meet condition\n",
    "letters['F'] <- NA # Make binary variable an fill with NAs\n",
    "letters$F[!is.na(letters$socialClass)]  <- FALSE # Set non-NA rows to False\n",
    "letters$F[rows] <- TRUE # Set rows meeting condition to True\n",
    "summary(letters$F) #Get summary\n",
    "\n",
    "# (Unskilled Labour) Class (\"L\")\n",
    "\n",
    "rows = which(grepl(paste(L,collapse=\"|\"), letters$socialClass)) # Get rows that meet condition\n",
    "letters['L'] <- NA # Make binary variable an fill with NAs\n",
    "letters$L[!is.na(letters$socialClass)]  <- FALSE # Set non-NA rows to False\n",
    "letters$L[rows] <- TRUE # Set rows meeting condition to True\n",
    "summary(letters$L) #Get summary"
   ]
  },
  {
   "cell_type": "markdown",
   "metadata": {},
   "source": [
    "Bayesian imputation will be used to fill in values for the NAs."
   ]
  },
  {
   "cell_type": "code",
   "execution_count": 150,
   "metadata": {},
   "outputs": [
    {
     "data": {
      "text/html": [
       "<table class=\"dataframe\">\n",
       "<caption>A data.frame: 6 × 11</caption>\n",
       "<thead>\n",
       "\t<tr><th></th><th scope=col>north_american_occupation</th><th scope=col>socialClass</th><th scope=col>A</th><th scope=col>I</th><th scope=col>CCP</th><th scope=col>UWL</th><th scope=col>U</th><th scope=col>M</th><th scope=col>S</th><th scope=col>F</th><th scope=col>L</th></tr>\n",
       "\t<tr><th></th><th scope=col>&lt;fct&gt;</th><th scope=col>&lt;chr&gt;</th><th scope=col>&lt;lgl&gt;</th><th scope=col>&lt;lgl&gt;</th><th scope=col>&lt;lgl&gt;</th><th scope=col>&lt;lgl&gt;</th><th scope=col>&lt;lgl&gt;</th><th scope=col>&lt;lgl&gt;</th><th scope=col>&lt;lgl&gt;</th><th scope=col>&lt;lgl&gt;</th><th scope=col>&lt;lgl&gt;</th></tr>\n",
       "</thead>\n",
       "<tbody>\n",
       "\t<tr><th scope=row>1</th><td>Nun; Social worker; Teacher</td><td>Nun; Social worker; Teacher</td><td>FALSE</td><td>FALSE</td><td> TRUE</td><td>FALSE</td><td> TRUE</td><td> TRUE</td><td>FALSE</td><td>FALSE</td><td>FALSE</td></tr>\n",
       "\t<tr><th scope=row>58</th><td>Military wife; Writer      </td><td>Military officer; Writer   </td><td>FALSE</td><td>FALSE</td><td> TRUE</td><td>FALSE</td><td> TRUE</td><td>FALSE</td><td>FALSE</td><td>FALSE</td><td>FALSE</td></tr>\n",
       "\t<tr><th scope=row>157</th><td>NA                         </td><td>NA                         </td><td>   NA</td><td>   NA</td><td>   NA</td><td>   NA</td><td>   NA</td><td>   NA</td><td>   NA</td><td>   NA</td><td>   NA</td></tr>\n",
       "\t<tr><th scope=row>162</th><td>Clergy                     </td><td>Clergy                     </td><td>FALSE</td><td>FALSE</td><td> TRUE</td><td>FALSE</td><td> TRUE</td><td>FALSE</td><td>FALSE</td><td>FALSE</td><td>FALSE</td></tr>\n",
       "\t<tr><th scope=row>166</th><td>Farmer                     </td><td>Farmer                     </td><td> TRUE</td><td>FALSE</td><td>FALSE</td><td>FALSE</td><td>FALSE</td><td>FALSE</td><td>FALSE</td><td> TRUE</td><td>FALSE</td></tr>\n",
       "\t<tr><th scope=row>168</th><td>Farmer's wife              </td><td>Farmer                     </td><td> TRUE</td><td>FALSE</td><td>FALSE</td><td>FALSE</td><td>FALSE</td><td>FALSE</td><td>FALSE</td><td> TRUE</td><td>FALSE</td></tr>\n",
       "</tbody>\n",
       "</table>\n"
      ],
      "text/latex": [
       "A data.frame: 6 × 11\n",
       "\\begin{tabular}{r|lllllllllll}\n",
       "  & north\\_american\\_occupation & socialClass & A & I & CCP & UWL & U & M & S & F & L\\\\\n",
       "  & <fct> & <chr> & <lgl> & <lgl> & <lgl> & <lgl> & <lgl> & <lgl> & <lgl> & <lgl> & <lgl>\\\\\n",
       "\\hline\n",
       "\t1 & Nun; Social worker; Teacher & Nun; Social worker; Teacher & FALSE & FALSE &  TRUE & FALSE &  TRUE &  TRUE & FALSE & FALSE & FALSE\\\\\n",
       "\t58 & Military wife; Writer       & Military officer; Writer    & FALSE & FALSE &  TRUE & FALSE &  TRUE & FALSE & FALSE & FALSE & FALSE\\\\\n",
       "\t157 & NA                          & NA                          &    NA &    NA &    NA &    NA &    NA &    NA &    NA &    NA &    NA\\\\\n",
       "\t162 & Clergy                      & Clergy                      & FALSE & FALSE &  TRUE & FALSE &  TRUE & FALSE & FALSE & FALSE & FALSE\\\\\n",
       "\t166 & Farmer                      & Farmer                      &  TRUE & FALSE & FALSE & FALSE & FALSE & FALSE & FALSE &  TRUE & FALSE\\\\\n",
       "\t168 & Farmer's wife               & Farmer                      &  TRUE & FALSE & FALSE & FALSE & FALSE & FALSE & FALSE &  TRUE & FALSE\\\\\n",
       "\\end{tabular}\n"
      ],
      "text/markdown": [
       "\n",
       "A data.frame: 6 × 11\n",
       "\n",
       "| <!--/--> | north_american_occupation &lt;fct&gt; | socialClass &lt;chr&gt; | A &lt;lgl&gt; | I &lt;lgl&gt; | CCP &lt;lgl&gt; | UWL &lt;lgl&gt; | U &lt;lgl&gt; | M &lt;lgl&gt; | S &lt;lgl&gt; | F &lt;lgl&gt; | L &lt;lgl&gt; |\n",
       "|---|---|---|---|---|---|---|---|---|---|---|---|\n",
       "| 1 | Nun; Social worker; Teacher | Nun; Social worker; Teacher | FALSE | FALSE |  TRUE | FALSE |  TRUE |  TRUE | FALSE | FALSE | FALSE |\n",
       "| 58 | Military wife; Writer       | Military officer; Writer    | FALSE | FALSE |  TRUE | FALSE |  TRUE | FALSE | FALSE | FALSE | FALSE |\n",
       "| 157 | NA                          | NA                          |    NA |    NA |    NA |    NA |    NA |    NA |    NA |    NA |    NA |\n",
       "| 162 | Clergy                      | Clergy                      | FALSE | FALSE |  TRUE | FALSE |  TRUE | FALSE | FALSE | FALSE | FALSE |\n",
       "| 166 | Farmer                      | Farmer                      |  TRUE | FALSE | FALSE | FALSE | FALSE | FALSE | FALSE |  TRUE | FALSE |\n",
       "| 168 | Farmer's wife               | Farmer                      |  TRUE | FALSE | FALSE | FALSE | FALSE | FALSE | FALSE |  TRUE | FALSE |\n",
       "\n"
      ],
      "text/plain": [
       "    north_american_occupation   socialClass                 A     I     CCP  \n",
       "1   Nun; Social worker; Teacher Nun; Social worker; Teacher FALSE FALSE  TRUE\n",
       "58  Military wife; Writer       Military officer; Writer    FALSE FALSE  TRUE\n",
       "157 NA                          NA                             NA    NA    NA\n",
       "162 Clergy                      Clergy                      FALSE FALSE  TRUE\n",
       "166 Farmer                      Farmer                       TRUE FALSE FALSE\n",
       "168 Farmer's wife               Farmer                       TRUE FALSE FALSE\n",
       "    UWL   U     M     S     F     L    \n",
       "1   FALSE  TRUE  TRUE FALSE FALSE FALSE\n",
       "58  FALSE  TRUE FALSE FALSE FALSE FALSE\n",
       "157    NA    NA    NA    NA    NA    NA\n",
       "162 FALSE  TRUE FALSE FALSE FALSE FALSE\n",
       "166 FALSE FALSE FALSE FALSE  TRUE FALSE\n",
       "168 FALSE FALSE FALSE FALSE  TRUE FALSE"
      ]
     },
     "metadata": {},
     "output_type": "display_data"
    }
   ],
   "source": [
    "vars <- c('north_american_occupation',\n",
    "          'socialClass', \n",
    "          'A', \n",
    "          'I', \n",
    "          'CCP',\n",
    "          'UWL',\n",
    "          'U',\n",
    "          'M',\n",
    "          'S',\n",
    "          'F',\n",
    "          'L'\n",
    "         )\n",
    "head(unique(letters[vars]))"
   ]
  },
  {
   "cell_type": "markdown",
   "metadata": {},
   "source": [
    "NAs for north_american_occupation are derived from native_occupation and from close readings of the letters. "
   ]
  },
  {
   "cell_type": "code",
   "execution_count": 151,
   "metadata": {},
   "outputs": [
    {
     "data": {
      "text/html": [
       "518"
      ],
      "text/latex": [
       "518"
      ],
      "text/markdown": [
       "518"
      ],
      "text/plain": [
       "[1] 518"
      ]
     },
     "metadata": {},
     "output_type": "display_data"
    }
   ],
   "source": [
    "nrow(letters)"
   ]
  },
  {
   "cell_type": "code",
   "execution_count": 152,
   "metadata": {},
   "outputs": [],
   "source": [
    "vals <- c(\"S2344-D095\",\n",
    "          \"S6210-D043\",\n",
    "          \"S6210-D048\",\n",
    "          \"S6210-D057\",\n",
    "          \"S6210-D059\",\n",
    "          \"S6210-D062\",\n",
    "          \"S6210-D064\",\n",
    "          \"S6210-D077\",\n",
    "          \"S6210-D088\",\n",
    "          \"S6210-D089\",\n",
    "          \"S6210-D090\",\n",
    "          \"S6210-D100\",\n",
    "          \"S6210-D101\",\n",
    "          \"S6210-D152\",\n",
    "          \"S6210-D166\",\n",
    "          \"S6210-D177\",\n",
    "          \"S6210-D182\",\n",
    "          \"S6210-D185\",\n",
    "          \"S6210-D186\",\n",
    "          \"S6210-D195\",\n",
    "          \"S6210-D202\",\n",
    "          \"S6210-D213\",\n",
    "          \"S6210-D220\",\n",
    "          \"S6210-D221\",\n",
    "          \"S6210-D232\",\n",
    "          \"S6210-D234\"\n",
    "         )"
   ]
  },
  {
   "cell_type": "code",
   "execution_count": 153,
   "metadata": {},
   "outputs": [
    {
     "data": {
      "text/html": [
       "492"
      ],
      "text/latex": [
       "492"
      ],
      "text/markdown": [
       "492"
      ],
      "text/plain": [
       "[1] 492"
      ]
     },
     "metadata": {},
     "output_type": "display_data"
    }
   ],
   "source": [
    "letters <- letters[!letters$docid %in% vals, ]\n",
    "nrow(letters)"
   ]
  },
  {
   "cell_type": "markdown",
   "metadata": {},
   "source": [
    "# Summary Stats"
   ]
  },
  {
   "cell_type": "code",
   "execution_count": 154,
   "metadata": {},
   "outputs": [],
   "source": [
    "# factorize for summary stats\n",
    "letters  <- factorize(letters)"
   ]
  },
  {
   "cell_type": "code",
   "execution_count": 155,
   "metadata": {},
   "outputs": [
    {
     "data": {
      "text/html": [
       "<table class=\"dataframe\">\n",
       "<caption>A data.frame: 2 × 2</caption>\n",
       "<thead>\n",
       "\t<tr><th scope=col>n &gt; 1</th><th scope=col>n</th></tr>\n",
       "\t<tr><th scope=col>&lt;lgl&gt;</th><th scope=col>&lt;int&gt;</th></tr>\n",
       "</thead>\n",
       "<tbody>\n",
       "\t<tr><td>FALSE</td><td>63</td></tr>\n",
       "\t<tr><td> TRUE</td><td>32</td></tr>\n",
       "</tbody>\n",
       "</table>\n"
      ],
      "text/latex": [
       "A data.frame: 2 × 2\n",
       "\\begin{tabular}{ll}\n",
       " n > 1 & n\\\\\n",
       " <lgl> & <int>\\\\\n",
       "\\hline\n",
       "\t FALSE & 63\\\\\n",
       "\t  TRUE & 32\\\\\n",
       "\\end{tabular}\n"
      ],
      "text/markdown": [
       "\n",
       "A data.frame: 2 × 2\n",
       "\n",
       "| n &gt; 1 &lt;lgl&gt; | n &lt;int&gt; |\n",
       "|---|---|\n",
       "| FALSE | 63 |\n",
       "|  TRUE | 32 |\n",
       "\n"
      ],
      "text/plain": [
       "  n > 1 n \n",
       "1 FALSE 63\n",
       "2  TRUE 32"
      ]
     },
     "metadata": {},
     "output_type": "display_data"
    },
    {
     "data": {
      "text/html": [
       "<table class=\"dataframe\">\n",
       "<caption>A data.frame: 32 × 2</caption>\n",
       "<thead>\n",
       "\t<tr><th scope=col>docauthorname</th><th scope=col>n</th></tr>\n",
       "\t<tr><th scope=col>&lt;fct&gt;</th><th scope=col>&lt;int&gt;</th></tr>\n",
       "</thead>\n",
       "<tbody>\n",
       "\t<tr><td>Harris, Sarah Stretch, 1818-1897                                   </td><td>170</td></tr>\n",
       "\t<tr><td>Moodie, Susannah Strickland, 1803-1885                             </td><td> 88</td></tr>\n",
       "\t<tr><td>Segale, Sister Blandina, 1850-1941                                 </td><td> 51</td></tr>\n",
       "\t<tr><td>Robb, Alexander, 1839-                                             </td><td> 12</td></tr>\n",
       "\t<tr><td>Harris, Critchlow, 1813-1899                                       </td><td> 11</td></tr>\n",
       "\t<tr><td>Carrothers, Joseph, 1793(?)-                                       </td><td> 10</td></tr>\n",
       "\t<tr><td>Carrothers, Nathaniel, ?-1881                                      </td><td>  7</td></tr>\n",
       "\t<tr><td>Harris, Tom, 1847-                                                 </td><td>  7</td></tr>\n",
       "\t<tr><td>Harris, Robert, 1849-1919                                          </td><td>  6</td></tr>\n",
       "\t<tr><td>White, Jane, 1831(?)-1867                                          </td><td>  6</td></tr>\n",
       "\t<tr><td>Anonymous Scottish Gentleman in Canada, fl. 1834                   </td><td>  5</td></tr>\n",
       "\t<tr><td>Harris, Margaret Ellin, 1851-1944                                  </td><td>  5</td></tr>\n",
       "\t<tr><td>Anonymous Male Scottish Farmer Immigrant, fl. 1833                 </td><td>  4</td></tr>\n",
       "\t<tr><td>Anonymous Male Scottish Immigrant in Michigan, fl. 1832-1834       </td><td>  4</td></tr>\n",
       "\t<tr><td>Hutchings, James Mason, 1820-1902                                  </td><td>  4</td></tr>\n",
       "\t<tr><td>Roberts, Sarah, fl. 1858                                           </td><td>  4</td></tr>\n",
       "\t<tr><td>Anonymous Male Scottish Immigrant from Aberdeen, fl. 1832-1834     </td><td>  3</td></tr>\n",
       "\t<tr><td>Kendall, Joseph, 1803-1864                                         </td><td>  3</td></tr>\n",
       "\t<tr><td>Mooney, Thomas, fl. 1850                                           </td><td>  3</td></tr>\n",
       "\t<tr><td>Anonymous English Male Immigrant in Cincinnati, fl. 1822           </td><td>  2</td></tr>\n",
       "\t<tr><td>Anonymous English Male Immigrant in Troy, NY, fl. 1804             </td><td>  2</td></tr>\n",
       "\t<tr><td>Anonymous English Male Immigrant in Washington, D.C., fl. 1828     </td><td>  2</td></tr>\n",
       "\t<tr><td>Anonymous English Male Immigrant in Washington, fl. 1827-1828      </td><td>  2</td></tr>\n",
       "\t<tr><td>Anonymous English Male Immigrant near Washington, D.C., fl. 1822   </td><td>  2</td></tr>\n",
       "\t<tr><td>Anonymous Male Scottish Immigrant, fl. 1833                        </td><td>  2</td></tr>\n",
       "\t<tr><td>Anonymous Young Scotsman on the Trent River, Canada, fl. 1833      </td><td>  2</td></tr>\n",
       "\t<tr><td>Anonymous Young Scottish Male Immigrant at Whitby, Canada, fl. 1833</td><td>  2</td></tr>\n",
       "\t<tr><td>Bebb, William, fl. 1840                                            </td><td>  2</td></tr>\n",
       "\t<tr><td>Chidlaw, Benjamin Williams, 1811-1892                              </td><td>  2</td></tr>\n",
       "\t<tr><td>Graham, Thomas, fl. 1827                                           </td><td>  2</td></tr>\n",
       "\t<tr><td>Kendall, Charlotte Paxton, 1807-1854                               </td><td>  2</td></tr>\n",
       "\t<tr><td>Menzies, George, fl. 1834                                          </td><td>  2</td></tr>\n",
       "</tbody>\n",
       "</table>\n"
      ],
      "text/latex": [
       "A data.frame: 32 × 2\n",
       "\\begin{tabular}{ll}\n",
       " docauthorname & n\\\\\n",
       " <fct> & <int>\\\\\n",
       "\\hline\n",
       "\t Harris, Sarah Stretch, 1818-1897                                    & 170\\\\\n",
       "\t Moodie, Susannah Strickland, 1803-1885                              &  88\\\\\n",
       "\t Segale, Sister Blandina, 1850-1941                                  &  51\\\\\n",
       "\t Robb, Alexander, 1839-                                              &  12\\\\\n",
       "\t Harris, Critchlow, 1813-1899                                        &  11\\\\\n",
       "\t Carrothers, Joseph, 1793(?)-                                        &  10\\\\\n",
       "\t Carrothers, Nathaniel, ?-1881                                       &   7\\\\\n",
       "\t Harris, Tom, 1847-                                                  &   7\\\\\n",
       "\t Harris, Robert, 1849-1919                                           &   6\\\\\n",
       "\t White, Jane, 1831(?)-1867                                           &   6\\\\\n",
       "\t Anonymous Scottish Gentleman in Canada, fl. 1834                    &   5\\\\\n",
       "\t Harris, Margaret Ellin, 1851-1944                                   &   5\\\\\n",
       "\t Anonymous Male Scottish Farmer Immigrant, fl. 1833                  &   4\\\\\n",
       "\t Anonymous Male Scottish Immigrant in Michigan, fl. 1832-1834        &   4\\\\\n",
       "\t Hutchings, James Mason, 1820-1902                                   &   4\\\\\n",
       "\t Roberts, Sarah, fl. 1858                                            &   4\\\\\n",
       "\t Anonymous Male Scottish Immigrant from Aberdeen, fl. 1832-1834      &   3\\\\\n",
       "\t Kendall, Joseph, 1803-1864                                          &   3\\\\\n",
       "\t Mooney, Thomas, fl. 1850                                            &   3\\\\\n",
       "\t Anonymous English Male Immigrant in Cincinnati, fl. 1822            &   2\\\\\n",
       "\t Anonymous English Male Immigrant in Troy, NY, fl. 1804              &   2\\\\\n",
       "\t Anonymous English Male Immigrant in Washington, D.C., fl. 1828      &   2\\\\\n",
       "\t Anonymous English Male Immigrant in Washington, fl. 1827-1828       &   2\\\\\n",
       "\t Anonymous English Male Immigrant near Washington, D.C., fl. 1822    &   2\\\\\n",
       "\t Anonymous Male Scottish Immigrant, fl. 1833                         &   2\\\\\n",
       "\t Anonymous Young Scotsman on the Trent River, Canada, fl. 1833       &   2\\\\\n",
       "\t Anonymous Young Scottish Male Immigrant at Whitby, Canada, fl. 1833 &   2\\\\\n",
       "\t Bebb, William, fl. 1840                                             &   2\\\\\n",
       "\t Chidlaw, Benjamin Williams, 1811-1892                               &   2\\\\\n",
       "\t Graham, Thomas, fl. 1827                                            &   2\\\\\n",
       "\t Kendall, Charlotte Paxton, 1807-1854                                &   2\\\\\n",
       "\t Menzies, George, fl. 1834                                           &   2\\\\\n",
       "\\end{tabular}\n"
      ],
      "text/markdown": [
       "\n",
       "A data.frame: 32 × 2\n",
       "\n",
       "| docauthorname &lt;fct&gt; | n &lt;int&gt; |\n",
       "|---|---|\n",
       "| Harris, Sarah Stretch, 1818-1897                                    | 170 |\n",
       "| Moodie, Susannah Strickland, 1803-1885                              |  88 |\n",
       "| Segale, Sister Blandina, 1850-1941                                  |  51 |\n",
       "| Robb, Alexander, 1839-                                              |  12 |\n",
       "| Harris, Critchlow, 1813-1899                                        |  11 |\n",
       "| Carrothers, Joseph, 1793(?)-                                        |  10 |\n",
       "| Carrothers, Nathaniel, ?-1881                                       |   7 |\n",
       "| Harris, Tom, 1847-                                                  |   7 |\n",
       "| Harris, Robert, 1849-1919                                           |   6 |\n",
       "| White, Jane, 1831(?)-1867                                           |   6 |\n",
       "| Anonymous Scottish Gentleman in Canada, fl. 1834                    |   5 |\n",
       "| Harris, Margaret Ellin, 1851-1944                                   |   5 |\n",
       "| Anonymous Male Scottish Farmer Immigrant, fl. 1833                  |   4 |\n",
       "| Anonymous Male Scottish Immigrant in Michigan, fl. 1832-1834        |   4 |\n",
       "| Hutchings, James Mason, 1820-1902                                   |   4 |\n",
       "| Roberts, Sarah, fl. 1858                                            |   4 |\n",
       "| Anonymous Male Scottish Immigrant from Aberdeen, fl. 1832-1834      |   3 |\n",
       "| Kendall, Joseph, 1803-1864                                          |   3 |\n",
       "| Mooney, Thomas, fl. 1850                                            |   3 |\n",
       "| Anonymous English Male Immigrant in Cincinnati, fl. 1822            |   2 |\n",
       "| Anonymous English Male Immigrant in Troy, NY, fl. 1804              |   2 |\n",
       "| Anonymous English Male Immigrant in Washington, D.C., fl. 1828      |   2 |\n",
       "| Anonymous English Male Immigrant in Washington, fl. 1827-1828       |   2 |\n",
       "| Anonymous English Male Immigrant near Washington, D.C., fl. 1822    |   2 |\n",
       "| Anonymous Male Scottish Immigrant, fl. 1833                         |   2 |\n",
       "| Anonymous Young Scotsman on the Trent River, Canada, fl. 1833       |   2 |\n",
       "| Anonymous Young Scottish Male Immigrant at Whitby, Canada, fl. 1833 |   2 |\n",
       "| Bebb, William, fl. 1840                                             |   2 |\n",
       "| Chidlaw, Benjamin Williams, 1811-1892                               |   2 |\n",
       "| Graham, Thomas, fl. 1827                                            |   2 |\n",
       "| Kendall, Charlotte Paxton, 1807-1854                                |   2 |\n",
       "| Menzies, George, fl. 1834                                           |   2 |\n",
       "\n"
      ],
      "text/plain": [
       "   docauthorname                                                       n  \n",
       "1  Harris, Sarah Stretch, 1818-1897                                    170\n",
       "2  Moodie, Susannah Strickland, 1803-1885                               88\n",
       "3  Segale, Sister Blandina, 1850-1941                                   51\n",
       "4  Robb, Alexander, 1839-                                               12\n",
       "5  Harris, Critchlow, 1813-1899                                         11\n",
       "6  Carrothers, Joseph, 1793(?)-                                         10\n",
       "7  Carrothers, Nathaniel, ?-1881                                         7\n",
       "8  Harris, Tom, 1847-                                                    7\n",
       "9  Harris, Robert, 1849-1919                                             6\n",
       "10 White, Jane, 1831(?)-1867                                             6\n",
       "11 Anonymous Scottish Gentleman in Canada, fl. 1834                      5\n",
       "12 Harris, Margaret Ellin, 1851-1944                                     5\n",
       "13 Anonymous Male Scottish Farmer Immigrant, fl. 1833                    4\n",
       "14 Anonymous Male Scottish Immigrant in Michigan, fl. 1832-1834          4\n",
       "15 Hutchings, James Mason, 1820-1902                                     4\n",
       "16 Roberts, Sarah, fl. 1858                                              4\n",
       "17 Anonymous Male Scottish Immigrant from Aberdeen, fl. 1832-1834        3\n",
       "18 Kendall, Joseph, 1803-1864                                            3\n",
       "19 Mooney, Thomas, fl. 1850                                              3\n",
       "20 Anonymous English Male Immigrant in Cincinnati, fl. 1822              2\n",
       "21 Anonymous English Male Immigrant in Troy, NY, fl. 1804                2\n",
       "22 Anonymous English Male Immigrant in Washington, D.C., fl. 1828        2\n",
       "23 Anonymous English Male Immigrant in Washington, fl. 1827-1828         2\n",
       "24 Anonymous English Male Immigrant near Washington, D.C., fl. 1822      2\n",
       "25 Anonymous Male Scottish Immigrant, fl. 1833                           2\n",
       "26 Anonymous Young Scotsman on the Trent River, Canada, fl. 1833         2\n",
       "27 Anonymous Young Scottish Male Immigrant at Whitby, Canada, fl. 1833   2\n",
       "28 Bebb, William, fl. 1840                                               2\n",
       "29 Chidlaw, Benjamin Williams, 1811-1892                                 2\n",
       "30 Graham, Thomas, fl. 1827                                              2\n",
       "31 Kendall, Charlotte Paxton, 1807-1854                                  2\n",
       "32 Menzies, George, fl. 1834                                             2"
      ]
     },
     "metadata": {},
     "output_type": "display_data"
    }
   ],
   "source": [
    "repeatAuthors <- letters %>% # Take the dataframe\n",
    "count(docauthorname, sort = TRUE) \n",
    "\n",
    "repeatAuthors %>% # Count the number of letters per authors\n",
    "count(n > 1) # Count the number of series\n",
    "\n",
    "repeatAuthors  %>% \n",
    "filter(n>1)"
   ]
  },
  {
   "cell_type": "code",
   "execution_count": 156,
   "metadata": {},
   "outputs": [
    {
     "data": {
      "text/plain": [
       "\n",
       "Canada    USA \n",
       "   364    128 "
      ]
     },
     "metadata": {},
     "output_type": "display_data"
    },
    {
     "data": {
      "text/html": [
       "<table class=\"dataframe\">\n",
       "<caption>A matrix: 2 × 1 of type dbl</caption>\n",
       "<tbody>\n",
       "\t<tr><th scope=row>Canada</th><td>73.98374</td></tr>\n",
       "\t<tr><th scope=row>USA</th><td>26.01626</td></tr>\n",
       "</tbody>\n",
       "</table>\n"
      ],
      "text/latex": [
       "A matrix: 2 × 1 of type dbl\n",
       "\\begin{tabular}{r|l}\n",
       "\tCanada & 73.98374\\\\\n",
       "\tUSA & 26.01626\\\\\n",
       "\\end{tabular}\n"
      ],
      "text/markdown": [
       "\n",
       "A matrix: 2 × 1 of type dbl\n",
       "\n",
       "| Canada | 73.98374 |\n",
       "| USA | 26.01626 |\n",
       "\n"
      ],
      "text/plain": [
       "       [,1]    \n",
       "Canada 73.98374\n",
       "USA    26.01626"
      ]
     },
     "metadata": {},
     "output_type": "display_data"
    },
    {
     "data": {
      "text/plain": [
       "\n",
       "Canada    USA \n",
       "    40     56 "
      ]
     },
     "metadata": {},
     "output_type": "display_data"
    },
    {
     "data": {
      "text/html": [
       "<table class=\"dataframe\">\n",
       "<caption>A matrix: 2 × 1 of type dbl</caption>\n",
       "<tbody>\n",
       "\t<tr><th scope=row>Canada</th><td>41.66667</td></tr>\n",
       "\t<tr><th scope=row>USA</th><td>58.33333</td></tr>\n",
       "</tbody>\n",
       "</table>\n"
      ],
      "text/latex": [
       "A matrix: 2 × 1 of type dbl\n",
       "\\begin{tabular}{r|l}\n",
       "\tCanada & 41.66667\\\\\n",
       "\tUSA & 58.33333\\\\\n",
       "\\end{tabular}\n"
      ],
      "text/markdown": [
       "\n",
       "A matrix: 2 × 1 of type dbl\n",
       "\n",
       "| Canada | 41.66667 |\n",
       "| USA | 58.33333 |\n",
       "\n"
      ],
      "text/plain": [
       "       [,1]    \n",
       "Canada 41.66667\n",
       "USA    58.33333"
      ]
     },
     "metadata": {},
     "output_type": "display_data"
    },
    {
     "data": {
      "text/html": [
       "0"
      ],
      "text/latex": [
       "0"
      ],
      "text/markdown": [
       "0"
      ],
      "text/plain": [
       "[1] 0"
      ]
     },
     "metadata": {},
     "output_type": "display_data"
    }
   ],
   "source": [
    "#What is the location breakdown by doc and by author for letters\n",
    "\n",
    "lettersG <- letters %>% #Create new variable for the collection of letters\n",
    "reframe(authorLocation) #summarized by location\n",
    "table(lettersG$authorLocation) #plot\n",
    "prop.table(as.matrix(table(lettersG$authorLocation)), 2)*100\n",
    "\n",
    "letterAuthorsG <- letters %>% #Create new variable for the writer pool\n",
    "reframe(authorLocation, group_by=docauthorid) %>% #summarized by location and grouped by author\n",
    "unique() #unique values only\n",
    "table(letterAuthorsG$authorLocation) #plot\n",
    "prop.table(as.matrix(table(letterAuthorsG$authorLocation)), 2)*100 \n",
    "\n",
    "# How many authors are NA for authorLocation?\n",
    "letters %>% \n",
    "filter(is.na(authorLocation)) %>% \n",
    "select(docauthorid) %>% \n",
    "unique() %>% \n",
    "nrow()"
   ]
  },
  {
   "cell_type": "markdown",
   "metadata": {},
   "source": [
    "I will need to eventually recode authorLocation as a binary variable but I am not sure at this point which should be the base case: Canada or the US. Normally, the level associated with the most cases is set as the base case but here Canada has the most letters and the US the most writers. Because I will be using multilevel modeling clustered by docauthorid, it seems like I should make the US the basecase, but the balance could shift if I add more letters to the corpus. So keeping it as a factor class for now."
   ]
  },
  {
   "cell_type": "code",
   "execution_count": 157,
   "metadata": {},
   "outputs": [
    {
     "data": {
      "text/plain": [
       "\n",
       "  F   M \n",
       "333 159 "
      ]
     },
     "metadata": {},
     "output_type": "display_data"
    },
    {
     "data": {
      "text/html": [
       "<table class=\"dataframe\">\n",
       "<caption>A matrix: 2 × 1 of type dbl</caption>\n",
       "<tbody>\n",
       "\t<tr><th scope=row>F</th><td>67.68293</td></tr>\n",
       "\t<tr><th scope=row>M</th><td>32.31707</td></tr>\n",
       "</tbody>\n",
       "</table>\n"
      ],
      "text/latex": [
       "A matrix: 2 × 1 of type dbl\n",
       "\\begin{tabular}{r|l}\n",
       "\tF & 67.68293\\\\\n",
       "\tM & 32.31707\\\\\n",
       "\\end{tabular}\n"
      ],
      "text/markdown": [
       "\n",
       "A matrix: 2 × 1 of type dbl\n",
       "\n",
       "| F | 67.68293 |\n",
       "| M | 32.31707 |\n",
       "\n"
      ],
      "text/plain": [
       "  [,1]    \n",
       "F 67.68293\n",
       "M 32.31707"
      ]
     },
     "metadata": {},
     "output_type": "display_data"
    },
    {
     "data": {
      "text/plain": [
       "\n",
       " F  M \n",
       "14 81 "
      ]
     },
     "metadata": {},
     "output_type": "display_data"
    },
    {
     "data": {
      "text/html": [
       "<table class=\"dataframe\">\n",
       "<caption>A matrix: 2 × 1 of type dbl</caption>\n",
       "<tbody>\n",
       "\t<tr><th scope=row>F</th><td>14.73684</td></tr>\n",
       "\t<tr><th scope=row>M</th><td>85.26316</td></tr>\n",
       "</tbody>\n",
       "</table>\n"
      ],
      "text/latex": [
       "A matrix: 2 × 1 of type dbl\n",
       "\\begin{tabular}{r|l}\n",
       "\tF & 14.73684\\\\\n",
       "\tM & 85.26316\\\\\n",
       "\\end{tabular}\n"
      ],
      "text/markdown": [
       "\n",
       "A matrix: 2 × 1 of type dbl\n",
       "\n",
       "| F | 14.73684 |\n",
       "| M | 85.26316 |\n",
       "\n"
      ],
      "text/plain": [
       "  [,1]    \n",
       "F 14.73684\n",
       "M 85.26316"
      ]
     },
     "metadata": {},
     "output_type": "display_data"
    },
    {
     "data": {
      "text/html": [
       "0"
      ],
      "text/latex": [
       "0"
      ],
      "text/markdown": [
       "0"
      ],
      "text/plain": [
       "[1] 0"
      ]
     },
     "metadata": {},
     "output_type": "display_data"
    }
   ],
   "source": [
    "#What is the gender breakdown by doc and by author for letters\n",
    "\n",
    "lettersG <- letters %>% #Create new variable for the collection of letters\n",
    "reframe(authorgender) #summarized by gender\n",
    "table(lettersG$authorgender) #plot\n",
    "prop.table(as.matrix(table(lettersG$authorgender)), 2)*100\n",
    "\n",
    "letterAuthorsG <- letters %>% #Create new variable for the writer pool\n",
    "reframe(authorgender, group_by=docauthorid) %>% #summarized by gender and grouped by author\n",
    "unique() #unique values only\n",
    "table(letterAuthorsG$authorgender) #plot author breakdown\n",
    "prop.table(as.matrix(table(letterAuthorsG$authorgender)), 2)*100 \n",
    "\n",
    "# How many authors are NA for gender?\n",
    "letters %>% \n",
    "filter(is.na(authorgender)) %>% \n",
    "select(docauthorid) %>% \n",
    "unique() %>% \n",
    "nrow()"
   ]
  },
  {
   "cell_type": "code",
   "execution_count": 158,
   "metadata": {},
   "outputs": [
    {
     "data": {
      "text/html": [
       "112"
      ],
      "text/latex": [
       "112"
      ],
      "text/markdown": [
       "112"
      ],
      "text/plain": [
       "[1] 112"
      ]
     },
     "metadata": {},
     "output_type": "display_data"
    },
    {
     "data": {
      "image/png": "[encoded data removed]",
      "text/plain": [
       "Plot with title “Histogram of letters$agewriting”"
      ]
     },
     "metadata": {
      "image/png": {
       "height": 420,
       "width": 420
      }
     },
     "output_type": "display_data"
    }
   ],
   "source": [
    "#What is the breakdown for age writing\n",
    "\n",
    "hist(letters$agewriting) \n",
    "sum(is.na(letters$agewriting))"
   ]
  },
  {
   "cell_type": "code",
   "execution_count": 159,
   "metadata": {},
   "outputs": [
    {
     "data": {
      "text/html": [
       "3"
      ],
      "text/latex": [
       "3"
      ],
      "text/markdown": [
       "3"
      ],
      "text/plain": [
       "[1] 3"
      ]
     },
     "metadata": {},
     "output_type": "display_data"
    },
    {
     "data": {
      "image/png": "[encoded data removed]",
      "text/plain": [
       "Plot with title “Histogram of letters$docyear”"
      ]
     },
     "metadata": {
      "image/png": {
       "height": 420,
       "width": 420
      }
     },
     "output_type": "display_data"
    }
   ],
   "source": [
    "#What is the breakdown for year of writing\n",
    "\n",
    "hist(letters$docyear)\n",
    "sum(is.na(letters$docyear))"
   ]
  },
  {
   "cell_type": "code",
   "execution_count": 160,
   "metadata": {},
   "outputs": [
    {
     "data": {
      "text/html": [
       "15"
      ],
      "text/latex": [
       "15"
      ],
      "text/markdown": [
       "15"
      ],
      "text/plain": [
       "[1] 15"
      ]
     },
     "metadata": {},
     "output_type": "display_data"
    },
    {
     "data": {
      "image/png": "[encoded data removed]",
      "text/plain": [
       "Plot with title “Histogram of letters$docmonth”"
      ]
     },
     "metadata": {
      "image/png": {
       "height": 420,
       "width": 420
      }
     },
     "output_type": "display_data"
    }
   ],
   "source": [
    "#What is the breakdown for month of writing\n",
    "\n",
    "hist(letters$docmonth)\n",
    "sum(is.na(letters$docmonth))"
   ]
  },
  {
   "cell_type": "code",
   "execution_count": 161,
   "metadata": {},
   "outputs": [
    {
     "data": {
      "text/plain": [
       "\n",
       " English European    Irish  Italian Scottish    Welsh \n",
       "     327        1       44       51       42       26 "
      ]
     },
     "metadata": {},
     "output_type": "display_data"
    },
    {
     "data": {
      "text/html": [
       "<table class=\"dataframe\">\n",
       "<caption>A matrix: 6 × 1 of type dbl</caption>\n",
       "<tbody>\n",
       "\t<tr><th scope=row>English</th><td>66.598778</td></tr>\n",
       "\t<tr><th scope=row>European</th><td> 0.203666</td></tr>\n",
       "\t<tr><th scope=row>Irish</th><td> 8.961303</td></tr>\n",
       "\t<tr><th scope=row>Italian</th><td>10.386965</td></tr>\n",
       "\t<tr><th scope=row>Scottish</th><td> 8.553971</td></tr>\n",
       "\t<tr><th scope=row>Welsh</th><td> 5.295316</td></tr>\n",
       "</tbody>\n",
       "</table>\n"
      ],
      "text/latex": [
       "A matrix: 6 × 1 of type dbl\n",
       "\\begin{tabular}{r|l}\n",
       "\tEnglish & 66.598778\\\\\n",
       "\tEuropean &  0.203666\\\\\n",
       "\tIrish &  8.961303\\\\\n",
       "\tItalian & 10.386965\\\\\n",
       "\tScottish &  8.553971\\\\\n",
       "\tWelsh &  5.295316\\\\\n",
       "\\end{tabular}\n"
      ],
      "text/markdown": [
       "\n",
       "A matrix: 6 × 1 of type dbl\n",
       "\n",
       "| English | 66.598778 |\n",
       "| European |  0.203666 |\n",
       "| Irish |  8.961303 |\n",
       "| Italian | 10.386965 |\n",
       "| Scottish |  8.553971 |\n",
       "| Welsh |  5.295316 |\n",
       "\n"
      ],
      "text/plain": [
       "         [,1]     \n",
       "English  66.598778\n",
       "European  0.203666\n",
       "Irish     8.961303\n",
       "Italian  10.386965\n",
       "Scottish  8.553971\n",
       "Welsh     5.295316"
      ]
     },
     "metadata": {},
     "output_type": "display_data"
    },
    {
     "data": {
      "text/plain": [
       "\n",
       " English European    Irish  Italian Scottish    Welsh \n",
       "      35        1       10        1       26       21 "
      ]
     },
     "metadata": {},
     "output_type": "display_data"
    },
    {
     "data": {
      "text/html": [
       "<table class=\"dataframe\">\n",
       "<caption>A matrix: 6 × 1 of type dbl</caption>\n",
       "<tbody>\n",
       "\t<tr><th scope=row>English</th><td>37.23404</td></tr>\n",
       "\t<tr><th scope=row>European</th><td> 1.06383</td></tr>\n",
       "\t<tr><th scope=row>Irish</th><td>10.63830</td></tr>\n",
       "\t<tr><th scope=row>Italian</th><td> 1.06383</td></tr>\n",
       "\t<tr><th scope=row>Scottish</th><td>27.65957</td></tr>\n",
       "\t<tr><th scope=row>Welsh</th><td>22.34043</td></tr>\n",
       "</tbody>\n",
       "</table>\n"
      ],
      "text/latex": [
       "A matrix: 6 × 1 of type dbl\n",
       "\\begin{tabular}{r|l}\n",
       "\tEnglish & 37.23404\\\\\n",
       "\tEuropean &  1.06383\\\\\n",
       "\tIrish & 10.63830\\\\\n",
       "\tItalian &  1.06383\\\\\n",
       "\tScottish & 27.65957\\\\\n",
       "\tWelsh & 22.34043\\\\\n",
       "\\end{tabular}\n"
      ],
      "text/markdown": [
       "\n",
       "A matrix: 6 × 1 of type dbl\n",
       "\n",
       "| English | 37.23404 |\n",
       "| European |  1.06383 |\n",
       "| Irish | 10.63830 |\n",
       "| Italian |  1.06383 |\n",
       "| Scottish | 27.65957 |\n",
       "| Welsh | 22.34043 |\n",
       "\n"
      ],
      "text/plain": [
       "         [,1]    \n",
       "English  37.23404\n",
       "European  1.06383\n",
       "Irish    10.63830\n",
       "Italian   1.06383\n",
       "Scottish 27.65957\n",
       "Welsh    22.34043"
      ]
     },
     "metadata": {},
     "output_type": "display_data"
    },
    {
     "data": {
      "text/html": [
       "1"
      ],
      "text/latex": [
       "1"
      ],
      "text/markdown": [
       "1"
      ],
      "text/plain": [
       "[1] 1"
      ]
     },
     "metadata": {},
     "output_type": "display_data"
    }
   ],
   "source": [
    "#What is the breakdown for national origin by doc and by author for letters\n",
    "\n",
    "letters$nationalOrigin <- droplevels(letters$nationalOrigin)\n",
    "\n",
    "lettersG <- letters %>% #Create new variable for the collection of letters\n",
    "reframe(nationalOrigin) #summarized by relMin\n",
    "table(lettersG$nationalOrigin) #plot collection religious minority breakdown\n",
    "prop.table(as.matrix(table(lettersG$nationalOrigin)), 2)*100\n",
    "\n",
    "letterAuthorsG <- letters %>% #Create new variable for the writer pool\n",
    "reframe(nationalOrigin, group_by=docauthorid) %>% #summarized by relMin and grouped by author\n",
    "unique() #unique values only\n",
    "table(letterAuthorsG$nationalOrigin) #plot religious minority breakdown\n",
    "prop.table(as.matrix(table(letterAuthorsG$nationalOrigin)), 2)*100 #NAs excluded\n",
    "\n",
    "# How many authors are NA for nationalOrigin?\n",
    "letters %>% \n",
    "filter(is.na(nationalOrigin)) %>% \n",
    "select(docauthorid) %>% \n",
    "unique() %>% \n",
    "nrow()"
   ]
  },
  {
   "cell_type": "markdown",
   "metadata": {},
   "source": [
    "I am going to keep nationalOrigin because the amount of missing data is low, but may not use for modeling, or if I do, will recode it into a binary variable. For example, invisible or not, according to Erickson (1972)."
   ]
  },
  {
   "cell_type": "code",
   "execution_count": 162,
   "metadata": {},
   "outputs": [
    {
     "data": {
      "text/plain": [
       "\n",
       "FALSE  TRUE \n",
       "  337    59 "
      ]
     },
     "metadata": {},
     "output_type": "display_data"
    },
    {
     "data": {
      "text/html": [
       "<table class=\"dataframe\">\n",
       "<caption>A matrix: 2 × 1 of type dbl</caption>\n",
       "<tbody>\n",
       "\t<tr><th scope=row>FALSE</th><td>85.10101</td></tr>\n",
       "\t<tr><th scope=row>TRUE</th><td>14.89899</td></tr>\n",
       "</tbody>\n",
       "</table>\n"
      ],
      "text/latex": [
       "A matrix: 2 × 1 of type dbl\n",
       "\\begin{tabular}{r|l}\n",
       "\tFALSE & 85.10101\\\\\n",
       "\tTRUE & 14.89899\\\\\n",
       "\\end{tabular}\n"
      ],
      "text/markdown": [
       "\n",
       "A matrix: 2 × 1 of type dbl\n",
       "\n",
       "| FALSE | 85.10101 |\n",
       "| TRUE | 14.89899 |\n",
       "\n"
      ],
      "text/plain": [
       "      [,1]    \n",
       "FALSE 85.10101\n",
       "TRUE  14.89899"
      ]
     },
     "metadata": {},
     "output_type": "display_data"
    },
    {
     "data": {
      "text/html": [
       "96"
      ],
      "text/latex": [
       "96"
      ],
      "text/markdown": [
       "96"
      ],
      "text/plain": [
       "[1] 96"
      ]
     },
     "metadata": {},
     "output_type": "display_data"
    },
    {
     "data": {
      "text/plain": [
       "\n",
       "FALSE  TRUE \n",
       "   20     7 "
      ]
     },
     "metadata": {},
     "output_type": "display_data"
    },
    {
     "data": {
      "text/html": [
       "<table class=\"dataframe\">\n",
       "<caption>A matrix: 2 × 1 of type dbl</caption>\n",
       "<tbody>\n",
       "\t<tr><th scope=row>FALSE</th><td>74.07407</td></tr>\n",
       "\t<tr><th scope=row>TRUE</th><td>25.92593</td></tr>\n",
       "</tbody>\n",
       "</table>\n"
      ],
      "text/latex": [
       "A matrix: 2 × 1 of type dbl\n",
       "\\begin{tabular}{r|l}\n",
       "\tFALSE & 74.07407\\\\\n",
       "\tTRUE & 25.92593\\\\\n",
       "\\end{tabular}\n"
      ],
      "text/markdown": [
       "\n",
       "A matrix: 2 × 1 of type dbl\n",
       "\n",
       "| FALSE | 74.07407 |\n",
       "| TRUE | 25.92593 |\n",
       "\n"
      ],
      "text/plain": [
       "      [,1]    \n",
       "FALSE 74.07407\n",
       "TRUE  25.92593"
      ]
     },
     "metadata": {},
     "output_type": "display_data"
    },
    {
     "data": {
      "text/html": [
       "68"
      ],
      "text/latex": [
       "68"
      ],
      "text/markdown": [
       "68"
      ],
      "text/plain": [
       "[1] 68"
      ]
     },
     "metadata": {},
     "output_type": "display_data"
    }
   ],
   "source": [
    "#What is the breakdown for religious minority by doc and by author for letters\n",
    "\n",
    "lettersG <- letters %>% #Create new variable for the collection of letters\n",
    "reframe(relMin) #summarized by relMin\n",
    "table(lettersG$relMin) #plot collection religious minority breakdown\n",
    "prop.table(as.matrix(table(lettersG$relMin)), 2)*100\n",
    "\n",
    "# How many letters are NA for relMin?\n",
    "sum(is.na(letters$relMin))\n",
    "\n",
    "letterAuthorsG <- letters %>% #Create new variable for the writer pool\n",
    "reframe(relMin, group_by=docauthorid) %>% #summarized by relMin and grouped by author\n",
    "unique() #unique values only\n",
    "table(letterAuthorsG$relMin) #plot religious minority breakdown\n",
    "prop.table(as.matrix(table(letterAuthorsG$relMin)), 2)*100 #NAs excluded\n",
    "\n",
    "# How many authors are NA for relMin?\n",
    "letters %>% \n",
    "filter(is.na(relMin)) %>% \n",
    "select(docauthorid) %>% \n",
    "unique() %>% \n",
    "nrow()"
   ]
  },
  {
   "cell_type": "code",
   "execution_count": 163,
   "metadata": {},
   "outputs": [
    {
     "data": {
      "text/plain": [
       "\n",
       "FALSE  TRUE \n",
       "  402    40 "
      ]
     },
     "metadata": {},
     "output_type": "display_data"
    },
    {
     "data": {
      "text/html": [
       "<table class=\"dataframe\">\n",
       "<caption>A matrix: 2 × 1 of type dbl</caption>\n",
       "<tbody>\n",
       "\t<tr><th scope=row>FALSE</th><td>90.950226</td></tr>\n",
       "\t<tr><th scope=row>TRUE</th><td> 9.049774</td></tr>\n",
       "</tbody>\n",
       "</table>\n"
      ],
      "text/latex": [
       "A matrix: 2 × 1 of type dbl\n",
       "\\begin{tabular}{r|l}\n",
       "\tFALSE & 90.950226\\\\\n",
       "\tTRUE &  9.049774\\\\\n",
       "\\end{tabular}\n"
      ],
      "text/markdown": [
       "\n",
       "A matrix: 2 × 1 of type dbl\n",
       "\n",
       "| FALSE | 90.950226 |\n",
       "| TRUE |  9.049774 |\n",
       "\n"
      ],
      "text/plain": [
       "      [,1]     \n",
       "FALSE 90.950226\n",
       "TRUE   9.049774"
      ]
     },
     "metadata": {},
     "output_type": "display_data"
    },
    {
     "data": {
      "text/plain": [
       "\n",
       "FALSE  TRUE \n",
       "   39    13 "
      ]
     },
     "metadata": {},
     "output_type": "display_data"
    },
    {
     "data": {
      "text/html": [
       "<table class=\"dataframe\">\n",
       "<caption>A matrix: 2 × 1 of type dbl</caption>\n",
       "<tbody>\n",
       "\t<tr><th scope=row>FALSE</th><td>75</td></tr>\n",
       "\t<tr><th scope=row>TRUE</th><td>25</td></tr>\n",
       "</tbody>\n",
       "</table>\n"
      ],
      "text/latex": [
       "A matrix: 2 × 1 of type dbl\n",
       "\\begin{tabular}{r|l}\n",
       "\tFALSE & 75\\\\\n",
       "\tTRUE & 25\\\\\n",
       "\\end{tabular}\n"
      ],
      "text/markdown": [
       "\n",
       "A matrix: 2 × 1 of type dbl\n",
       "\n",
       "| FALSE | 75 |\n",
       "| TRUE | 25 |\n",
       "\n"
      ],
      "text/plain": [
       "      [,1]\n",
       "FALSE 75  \n",
       "TRUE  25  "
      ]
     },
     "metadata": {},
     "output_type": "display_data"
    },
    {
     "data": {
      "text/html": [
       "43"
      ],
      "text/latex": [
       "43"
      ],
      "text/markdown": [
       "43"
      ],
      "text/plain": [
       "[1] 43"
      ]
     },
     "metadata": {},
     "output_type": "display_data"
    }
   ],
   "source": [
    "#What is the breakdown for skilled labourers by doc and by author for letters\n",
    "\n",
    "lettersG <- letters %>% #Create new variable for the collection of letters\n",
    "reframe(S) #summarized by S\n",
    "table(lettersG$S) #plot \n",
    "prop.table(as.matrix(table(lettersG$S)), 2)*100\n",
    "\n",
    "letterAuthorsG <- letters %>% #Create new variable for the writer pool\n",
    "reframe(S, group_by=docauthorid) %>% #summarized by gender and grouped by L\n",
    "unique() #unique values only\n",
    "table(letterAuthorsG$S) #plot\n",
    "prop.table(as.matrix(table(letterAuthorsG$S)), 2)*100\n",
    "\n",
    "# How many authors are NA for L?\n",
    "letters %>% \n",
    "filter(is.na(S)) %>% \n",
    "select(docauthorid) %>% \n",
    "unique() %>% \n",
    "nrow()"
   ]
  },
  {
   "cell_type": "code",
   "execution_count": 164,
   "metadata": {},
   "outputs": [
    {
     "data": {
      "text/plain": [
       "\n",
       "FALSE  TRUE \n",
       "  421    21 "
      ]
     },
     "metadata": {},
     "output_type": "display_data"
    },
    {
     "data": {
      "text/html": [
       "<table class=\"dataframe\">\n",
       "<caption>A matrix: 2 × 1 of type dbl</caption>\n",
       "<tbody>\n",
       "\t<tr><th scope=row>FALSE</th><td>95.248869</td></tr>\n",
       "\t<tr><th scope=row>TRUE</th><td> 4.751131</td></tr>\n",
       "</tbody>\n",
       "</table>\n"
      ],
      "text/latex": [
       "A matrix: 2 × 1 of type dbl\n",
       "\\begin{tabular}{r|l}\n",
       "\tFALSE & 95.248869\\\\\n",
       "\tTRUE &  4.751131\\\\\n",
       "\\end{tabular}\n"
      ],
      "text/markdown": [
       "\n",
       "A matrix: 2 × 1 of type dbl\n",
       "\n",
       "| FALSE | 95.248869 |\n",
       "| TRUE |  4.751131 |\n",
       "\n"
      ],
      "text/plain": [
       "      [,1]     \n",
       "FALSE 95.248869\n",
       "TRUE   4.751131"
      ]
     },
     "metadata": {},
     "output_type": "display_data"
    },
    {
     "data": {
      "text/plain": [
       "\n",
       "FALSE  TRUE \n",
       "   45     7 "
      ]
     },
     "metadata": {},
     "output_type": "display_data"
    },
    {
     "data": {
      "text/html": [
       "<table class=\"dataframe\">\n",
       "<caption>A matrix: 2 × 1 of type dbl</caption>\n",
       "<tbody>\n",
       "\t<tr><th scope=row>FALSE</th><td>86.53846</td></tr>\n",
       "\t<tr><th scope=row>TRUE</th><td>13.46154</td></tr>\n",
       "</tbody>\n",
       "</table>\n"
      ],
      "text/latex": [
       "A matrix: 2 × 1 of type dbl\n",
       "\\begin{tabular}{r|l}\n",
       "\tFALSE & 86.53846\\\\\n",
       "\tTRUE & 13.46154\\\\\n",
       "\\end{tabular}\n"
      ],
      "text/markdown": [
       "\n",
       "A matrix: 2 × 1 of type dbl\n",
       "\n",
       "| FALSE | 86.53846 |\n",
       "| TRUE | 13.46154 |\n",
       "\n"
      ],
      "text/plain": [
       "      [,1]    \n",
       "FALSE 86.53846\n",
       "TRUE  13.46154"
      ]
     },
     "metadata": {},
     "output_type": "display_data"
    },
    {
     "data": {
      "text/html": [
       "43"
      ],
      "text/latex": [
       "43"
      ],
      "text/markdown": [
       "43"
      ],
      "text/plain": [
       "[1] 43"
      ]
     },
     "metadata": {},
     "output_type": "display_data"
    }
   ],
   "source": [
    "#What is the breakdown for unskilled labourers by doc and by author for letters\n",
    "\n",
    "lettersG <- letters %>% #Create new variable for the collection of letters\n",
    "reframe(L) #summarized by L\n",
    "table(lettersG$L) #plot \n",
    "prop.table(as.matrix(table(lettersG$L)), 2)*100\n",
    "\n",
    "letterAuthorsG <- letters %>% #Create new variable for the writer pool\n",
    "reframe(L, group_by=docauthorid) %>% #summarized by gender and grouped by L\n",
    "unique() #unique values only\n",
    "table(letterAuthorsG$L) #plot\n",
    "prop.table(as.matrix(table(letterAuthorsG$L)), 2)*100\n",
    "\n",
    "# How many authors are NA for L?\n",
    "letters %>% \n",
    "filter(is.na(L)) %>% \n",
    "select(docauthorid) %>% \n",
    "unique() %>% \n",
    "nrow()"
   ]
  },
  {
   "cell_type": "markdown",
   "metadata": {},
   "source": [
    "Note that the L and UWL variables have the same number of letters and authors. Using the L variable because it is more theoretically robust. I am going to drop the Erickson and Getz variables for now and just keep the Ing set, including all levels. "
   ]
  },
  {
   "cell_type": "code",
   "execution_count": 165,
   "metadata": {},
   "outputs": [
    {
     "data": {
      "text/plain": [
       "   Min. 1st Qu.  Median    Mean 3rd Qu.    Max.    NA's \n",
       "  36.00   79.00   79.00   80.26   82.00   93.00     127 "
      ]
     },
     "metadata": {},
     "output_type": "display_data"
    }
   ],
   "source": [
    "# What are the stats for age at death?\n",
    "\n",
    "letters$agedeath <- letters$deathyear - letters$birthyear\n",
    "summary(letters$agedeath)"
   ]
  },
  {
   "cell_type": "code",
   "execution_count": 166,
   "metadata": {},
   "outputs": [
    {
     "data": {
      "text/plain": [
       "\n",
       " 36  47  57  61  70  71  72  73  78  79  81  82  86  91  93 \n",
       "  6   2   1   4   6  12   1   1   1 170   2  92  11  51   5 "
      ]
     },
     "metadata": {},
     "output_type": "display_data"
    }
   ],
   "source": [
    "lettersG <- letters %>% #Create new variable for the collection of letters\n",
    "reframe(agedeath) #summarized by L\n",
    "table(lettersG$agedeath) #plot "
   ]
  },
  {
   "cell_type": "code",
   "execution_count": 170,
   "metadata": {},
   "outputs": [
    {
     "data": {
      "text/plain": [
       "\n",
       "36 47 57 61 70 71 72 73 78 79 81 82 86 91 93 \n",
       " 1  1  1  2  1  1  1  1  1  1  1  2  1  1  1 "
      ]
     },
     "metadata": {},
     "output_type": "display_data"
    }
   ],
   "source": [
    "letterAuthorsG <- letters %>% #Create new variable for the writer pool\n",
    "reframe(agedeath, group_by=docauthorid) %>% #summarized by gender and grouped by L\n",
    "unique() #unique values only\n",
    "table(letterAuthorsG$agedeath) #plot"
   ]
  },
  {
   "cell_type": "code",
   "execution_count": 171,
   "metadata": {},
   "outputs": [
    {
     "data": {
      "text/html": [
       "78"
      ],
      "text/latex": [
       "78"
      ],
      "text/markdown": [
       "78"
      ],
      "text/plain": [
       "[1] 78"
      ]
     },
     "metadata": {},
     "output_type": "display_data"
    }
   ],
   "source": [
    "# How many authors are NA for ageDeath?\n",
    "letters %>% \n",
    "filter(is.na(agedeath)) %>% \n",
    "select(docauthorid) %>% \n",
    "unique() %>% \n",
    "nrow()"
   ]
  },
  {
   "cell_type": "markdown",
   "metadata": {},
   "source": [
    "Even though there is a high level of missingness for the age at death variable, I am going to keep it. Maybe will come in useful later. Otherwise, dropping un-used variables."
   ]
  },
  {
   "cell_type": "code",
   "execution_count": 172,
   "metadata": {},
   "outputs": [],
   "source": [
    "vars  <- c('docauthorid',\n",
    "           'docauthorname',\n",
    "           'docid',\n",
    "           'docyear',\n",
    "           'docmonth',\n",
    "           'authorgender',\n",
    "           'agewriting',\n",
    "           'agedeath',\n",
    "           'relMin',\n",
    "           'nationalOrigin',\n",
    "           'authorLocation',\n",
    "           'U',\n",
    "           'M',\n",
    "           'S',\n",
    "           'F',\n",
    "           'L'\n",
    "          )\n",
    "\n",
    "letters <- letters[vars]"
   ]
  },
  {
   "cell_type": "code",
   "execution_count": 176,
   "metadata": {},
   "outputs": [
    {
     "data": {
      "text/html": [
       "<style>\n",
       ".list-inline {list-style: none; margin:0; padding: 0}\n",
       ".list-inline>li {display: inline-block}\n",
       ".list-inline>li:not(:last-child)::after {content: \"\\00b7\"; padding: 0 .5ex}\n",
       "</style>\n",
       "<ol class=list-inline><li>492</li><li>16</li></ol>\n"
      ],
      "text/latex": [
       "\\begin{enumerate*}\n",
       "\\item 492\n",
       "\\item 16\n",
       "\\end{enumerate*}\n"
      ],
      "text/markdown": [
       "1. 492\n",
       "2. 16\n",
       "\n",
       "\n"
      ],
      "text/plain": [
       "[1] 492  16"
      ]
     },
     "metadata": {},
     "output_type": "display_data"
    }
   ],
   "source": [
    "dim(letters)"
   ]
  },
  {
   "cell_type": "code",
   "execution_count": 174,
   "metadata": {},
   "outputs": [
    {
     "data": {
      "text/plain": [
       "     docauthorid                                 docauthorname        docid    \n",
       " per0038009:170   Harris, Sarah Stretch, 1818-1897      :170   S1019-D002:  1  \n",
       " per0004772: 88   Moodie, Susannah Strickland, 1803-1885: 88   S1019-D004:  1  \n",
       " per0001043: 51   Segale, Sister Blandina, 1850-1941    : 51   S1019-D005:  1  \n",
       " per0027000: 12   Robb, Alexander, 1839-                : 12   S1019-D006:  1  \n",
       " per0038008: 11   Harris, Critchlow, 1813-1899          : 11   S1019-D007:  1  \n",
       " per0026981: 10   Carrothers, Joseph, 1793(?)-          : 10   S1019-D008:  1  \n",
       " (Other)   :150   (Other)                               :150   (Other)   :486  \n",
       "    docyear        docmonth      authorgender   agewriting       agedeath    \n",
       " Min.   :1804   Min.   : 1.000   F:333        Min.   : 9.00   Min.   :36.00  \n",
       " 1st Qu.:1854   1st Qu.: 4.000   M:159        1st Qu.:38.00   1st Qu.:79.00  \n",
       " Median :1860   Median : 7.000                Median :42.00   Median :79.00  \n",
       " Mean   :1858   Mean   : 6.811                Mean   :43.71   Mean   :80.26  \n",
       " 3rd Qu.:1865   3rd Qu.:10.000                3rd Qu.:49.00   3rd Qu.:82.00  \n",
       " Max.   :1895   Max.   :12.000                Max.   :79.00   Max.   :93.00  \n",
       " NA's   :3      NA's   :15                    NA's   :112     NA's   :127    \n",
       "   relMin         nationalOrigin authorLocation     U               M          \n",
       " Mode :logical   English :327    Canada:364     Mode :logical   Mode :logical  \n",
       " FALSE:337       European:  1    USA   :128     FALSE:259       FALSE:175      \n",
       " TRUE :59        Irish   : 44                   TRUE :183       TRUE :267      \n",
       " NA's :96        Italian : 51                   NA's :50        NA's :50       \n",
       "                 Scottish: 42                                                  \n",
       "                 Welsh   : 26                                                  \n",
       "                 NA's    :  1                                                  \n",
       "     S               F               L          \n",
       " Mode :logical   Mode :logical   Mode :logical  \n",
       " FALSE:402       FALSE:196       FALSE:421      \n",
       " TRUE :40        TRUE :246       TRUE :21       \n",
       " NA's :50        NA's :50        NA's :50       \n",
       "                                                \n",
       "                                                \n",
       "                                                "
      ]
     },
     "metadata": {},
     "output_type": "display_data"
    }
   ],
   "source": [
    "summary(letters)"
   ]
  },
  {
   "cell_type": "code",
   "execution_count": 175,
   "metadata": {},
   "outputs": [],
   "source": [
    "write.csv(letters, \n",
    "          \"20240405_PhD_NaildohSubset.csv\", \n",
    "          row.names=FALSE)"
   ]
  },
  {
   "cell_type": "markdown",
   "metadata": {},
   "source": [
    "## References\n",
    "\n",
    "Conway, A. (1961). The Welsh in America: Letters from the immigrants. University of Minnesota Press. https://www.jstor.org/stable/10.5749/j.cttts8t0.\n",
    "\n",
    "Turnbull, T. (1914). T. Turnbull’s travels from the United States across the plains to California (F. L. (Frederic L. Paxson & R. G. Thwaites, Eds.). Madison, Published for the State Historical Society of Wisconsin. http://archive.org/details/tturnbullstravel00turnrich\n"
   ]
  }
 ],
 "metadata": {
  "kernelspec": {
   "display_name": "R",
   "language": "R",
   "name": "ir"
  },
  "language_info": {
   "codemirror_mode": "r",
   "file_extension": ".r",
   "mimetype": "text/x-r-source",
   "name": "R",
   "pygments_lexer": "r",
   "version": "4.1.0"
  }
 },
 "nbformat": 4,
 "nbformat_minor": 2
}
