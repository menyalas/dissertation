{
 "cells": [
  {
   "cell_type": "markdown",
   "metadata": {},
   "source": [
    "# NAILDOH - IED Merge 1 (NAILDOH)"
   ]
  },
  {
   "cell_type": "markdown",
   "metadata": {},
   "source": [
    "## Resources"
   ]
  },
  {
   "cell_type": "code",
   "execution_count": 3,
   "metadata": {},
   "outputs": [],
   "source": [
    "# Libraries\n",
    "library(tidyverse) # for data manipulation\n",
    "\n",
    "# Functions\n",
    "factorize <- function(df){ # Create a function\n",
    "  for(i in which(sapply(df, class) == \"character\")) # that looks for variables with the character class \n",
    "      df[[i]] = as.factor(df[[i]]) # and converts them to factor (i.e., categorical) class\n",
    "  return(df)\n",
    "}\n",
    "\n",
    "unfactorize <- function(df){ # Create a function\n",
    "  for(i in which(sapply(df, class) == \"factor\")) # that looks for variables with the character class \n",
    "      df[[i]] = as.character(df[[i]]) # and converts them to factor (i.e., categorical) class\n",
    "  return(df)\n",
    "}"
   ]
  },
  {
   "cell_type": "markdown",
   "metadata": {},
   "source": [
    "## Prep NAILDOH"
   ]
  },
  {
   "cell_type": "code",
   "execution_count": 814,
   "metadata": {},
   "outputs": [
    {
     "data": {
      "text/html": [
       "<style>\n",
       ".list-inline {list-style: none; margin:0; padding: 0}\n",
       ".list-inline>li {display: inline-block}\n",
       ".list-inline>li:not(:last-child)::after {content: \"\\00b7\"; padding: 0 .5ex}\n",
       "</style>\n",
       "<ol class=list-inline><li>'docauthorid'</li><li>'docauthorname'</li><li>'docid'</li><li>'docyear'</li><li>'docmonth'</li><li>'authorgender'</li><li>'agewriting'</li><li>'agedeath'</li><li>'religionNew'</li><li>'relMin'</li><li>'nationalOrigin'</li><li>'authorLocation'</li><li>'A'</li><li>'I'</li><li>'CCP'</li><li>'UWL'</li><li>'U'</li><li>'M'</li><li>'S'</li><li>'F'</li><li>'L'</li></ol>\n"
      ],
      "text/latex": [
       "\\begin{enumerate*}\n",
       "\\item 'docauthorid'\n",
       "\\item 'docauthorname'\n",
       "\\item 'docid'\n",
       "\\item 'docyear'\n",
       "\\item 'docmonth'\n",
       "\\item 'authorgender'\n",
       "\\item 'agewriting'\n",
       "\\item 'agedeath'\n",
       "\\item 'religionNew'\n",
       "\\item 'relMin'\n",
       "\\item 'nationalOrigin'\n",
       "\\item 'authorLocation'\n",
       "\\item 'A'\n",
       "\\item 'I'\n",
       "\\item 'CCP'\n",
       "\\item 'UWL'\n",
       "\\item 'U'\n",
       "\\item 'M'\n",
       "\\item 'S'\n",
       "\\item 'F'\n",
       "\\item 'L'\n",
       "\\end{enumerate*}\n"
      ],
      "text/markdown": [
       "1. 'docauthorid'\n",
       "2. 'docauthorname'\n",
       "3. 'docid'\n",
       "4. 'docyear'\n",
       "5. 'docmonth'\n",
       "6. 'authorgender'\n",
       "7. 'agewriting'\n",
       "8. 'agedeath'\n",
       "9. 'religionNew'\n",
       "10. 'relMin'\n",
       "11. 'nationalOrigin'\n",
       "12. 'authorLocation'\n",
       "13. 'A'\n",
       "14. 'I'\n",
       "15. 'CCP'\n",
       "16. 'UWL'\n",
       "17. 'U'\n",
       "18. 'M'\n",
       "19. 'S'\n",
       "20. 'F'\n",
       "21. 'L'\n",
       "\n",
       "\n"
      ],
      "text/plain": [
       " [1] \"docauthorid\"    \"docauthorname\"  \"docid\"          \"docyear\"       \n",
       " [5] \"docmonth\"       \"authorgender\"   \"agewriting\"     \"agedeath\"      \n",
       " [9] \"religionNew\"    \"relMin\"         \"nationalOrigin\" \"authorLocation\"\n",
       "[13] \"A\"              \"I\"              \"CCP\"            \"UWL\"           \n",
       "[17] \"U\"              \"M\"              \"S\"              \"F\"             \n",
       "[21] \"L\"             "
      ]
     },
     "metadata": {},
     "output_type": "display_data"
    },
    {
     "data": {
      "text/html": [
       "<style>\n",
       ".list-inline {list-style: none; margin:0; padding: 0}\n",
       ".list-inline>li {display: inline-block}\n",
       ".list-inline>li:not(:last-child)::after {content: \"\\00b7\"; padding: 0 .5ex}\n",
       "</style>\n",
       "<ol class=list-inline><li>492</li><li>21</li></ol>\n"
      ],
      "text/latex": [
       "\\begin{enumerate*}\n",
       "\\item 492\n",
       "\\item 21\n",
       "\\end{enumerate*}\n"
      ],
      "text/markdown": [
       "1. 492\n",
       "2. 21\n",
       "\n",
       "\n"
      ],
      "text/plain": [
       "[1] 492  21"
      ]
     },
     "metadata": {},
     "output_type": "display_data"
    }
   ],
   "source": [
    "# Data\n",
    "df1 <- factorize(read.csv(\"20240510_PhD_NaildohSubset.csv\")) # Put csv into a dataframe called docData\n",
    "colnames(df1) # Get an overview of the dataframe\n",
    "dim(df1)"
   ]
  },
  {
   "cell_type": "markdown",
   "metadata": {},
   "source": [
    "I am going to omit Sister Blandina Segale's letters because they are considerably different from the others in the corpus and might introduce some confounding variables. For example, they published (therefore likely edited) and they take journal form. In terms of demographics, Sister Segale is the only writer not with anglo or Irish ancestry (she is Italian) and she is a 1.5 gen immigrant whereas most of the others are 1st generation. While she is Catholic, she is a nun so a rather special case of Catholic which won't tell me much about the Irish-Catholic (i.e., the labouring underclass) experience that I aim to understand.\n",
    "\n",
    "As explained in the Social Class Part 1 notebook, Thomas Mooney was a prolific writer, apparently Catholic. Like Sister Blandina Segale, his letters to a sibling and \"the rest of my countrymen\" were gathered together and published in book form. The three letters by him do not relate much about his own life, but are rather advice for his sibling and other prospective migrants. I am going to omit these."
   ]
  },
  {
   "cell_type": "code",
   "execution_count": 815,
   "metadata": {},
   "outputs": [
    {
     "data": {
      "text/html": [
       "95"
      ],
      "text/latex": [
       "95"
      ],
      "text/markdown": [
       "95"
      ],
      "text/plain": [
       "[1] 95"
      ]
     },
     "metadata": {},
     "output_type": "display_data"
    },
    {
     "data": {
      "text/html": [
       "93"
      ],
      "text/latex": [
       "93"
      ],
      "text/markdown": [
       "93"
      ],
      "text/plain": [
       "[1] 93"
      ]
     },
     "metadata": {},
     "output_type": "display_data"
    }
   ],
   "source": [
    "length(unique(df1$docauthorid))\n",
    "vals <- c(\"per0001043\", \"per0034430\")\n",
    "df1 <- df1[!df1$docauthorid %in% vals, ]\n",
    "length(unique(df1$docauthorid))"
   ]
  },
  {
   "cell_type": "markdown",
   "metadata": {},
   "source": [
    "Margaret Carrothers wrote a letter that is bundled in with and attributed to one by Nathaniel. Removing Nathaniel's bit, which is preserved in S9635-D014. Changing attribution to Margare andgiving her a unique authorid. Also changing the gender from male to female."
   ]
  },
  {
   "cell_type": "code",
   "execution_count": 816,
   "metadata": {},
   "outputs": [],
   "source": [
    "df1 <- unfactorize(df1)\n",
    "\n",
    "df1$docauthorname[df1$docid==\"S9635-D015\"] <- \"Carrothers, Margaret\"\n",
    "df1$docauthorid[df1$docauthorid==\"per0026978\"] <- \"per0026978a\"\n",
    "df1$docauthorid[df1$docid==\"S9635-D015\"] <- \"per0026978b\"\n",
    "df1$authorgender[df1$docauthorid==\"per0026978b\"] <- \"F\""
   ]
  },
  {
   "cell_type": "markdown",
   "metadata": {},
   "source": [
    "Now I am changing the format of the name from last-first to first-last to match the IED metadata and avoid complications with the comma character. "
   ]
  },
  {
   "cell_type": "code",
   "execution_count": 817,
   "metadata": {},
   "outputs": [],
   "source": [
    "# Create a new variable for the modified names.\n",
    "df1$authorName <- df1$docauthorname\n",
    "\n",
    "# Cleaning\n",
    "df1$authorName <- gsub(\"\\\\d\", \"\", df1$authorName)\n",
    "df1$authorName <- gsub(\"\\\\?\", \"\", df1$authorName)\n",
    "df1$authorName <- gsub(\"\\\\(\\\\)\", \"\", df1$authorName)\n",
    "df1$authorName <- gsub(\"fl.\", \"\", df1$authorName)\n",
    "df1$authorName <- gsub(\"\\\\s-\", \"\", df1$authorName)\n",
    "df1$authorName <- gsub(\",$\", \"\", df1$authorName)\n",
    "df1$authorName <- gsub(\",\\\\s\\\\s$\", \"\", df1$authorName)\n",
    "\n",
    "# Changing to first name first format\n",
    "first <- gsub(\"^.*,\\\\s\", \"\", df1$authorName)\n",
    "last <- gsub(\",.*$\", \"\", df1$authorName)\n",
    "authorName <- paste(first, last, sep=\" \")\n",
    "df1$authorName <- authorName\n",
    "\n",
    "# Fixing a few stragglers\n",
    "df1$authorName[df1$docauthorid==\"per0031263\"] <- \"William Davies\"\n",
    "df1$authorName[df1$docauthorid==\"per0031335\"] <- \"Lewis Howell Jr\"\n",
    "df1$authorName[df1$docauthorid==\"per0004486\"] <- \"Samuel Roberts\"\n",
    "\n",
    "# Checking anonymous names to see if key info will be lost if I convert to NA\n",
    "#df1 %>% \n",
    "#filter(grepl(\"Anonymous\", authorName)) %>% \n",
    "#select(authorName, docauthorid, authorgender, nationalOrigin, authorLocation, L, religionNew) %>% \n",
    "#unique()\n",
    "\n",
    "# per0036149 is the wife of a tradesman so coding the labour variables accordingly.\n",
    "df1$L[df1$docauthorid==\"per0036149\"] <- FALSE\n",
    "df1$S[df1$docauthorid==\"per0036149\"] <- TRUE\n",
    "\n",
    "# No other info appears to be lost by changing Anonymous to NA so doing that now.\n",
    "df1$authorName[grepl(\"Anonymous\", df1$docauthorname)] <- NA\n",
    "\n",
    "# Checking that docauthorname coverted correctly to authorName\n",
    "#df1 %>% \n",
    "#select(docauthorname, authorName, docauthorid) %>% \n",
    "#unique() %>% \n",
    "#arrange(docauthorname) %>%\n",
    "#slice(51:100)"
   ]
  },
  {
   "cell_type": "code",
   "execution_count": 818,
   "metadata": {},
   "outputs": [
    {
     "data": {
      "text/html": [
       "94"
      ],
      "text/latex": [
       "94"
      ],
      "text/markdown": [
       "94"
      ],
      "text/plain": [
       "[1] 94"
      ]
     },
     "metadata": {},
     "output_type": "display_data"
    },
    {
     "data": {
      "text/html": [
       "94"
      ],
      "text/latex": [
       "94"
      ],
      "text/markdown": [
       "94"
      ],
      "text/plain": [
       "[1] 94"
      ]
     },
     "metadata": {},
     "output_type": "display_data"
    },
    {
     "data": {
      "text/html": [
       "<table class=\"dataframe\">\n",
       "<caption>A tibble: 1 × 2</caption>\n",
       "<thead>\n",
       "\t<tr><th scope=col>authorName</th><th scope=col>n</th></tr>\n",
       "\t<tr><th scope=col>&lt;fct&gt;</th><th scope=col>&lt;int&gt;</th></tr>\n",
       "</thead>\n",
       "<tbody>\n",
       "\t<tr><td>NA</td><td>34</td></tr>\n",
       "</tbody>\n",
       "</table>\n"
      ],
      "text/latex": [
       "A tibble: 1 × 2\n",
       "\\begin{tabular}{ll}\n",
       " authorName & n\\\\\n",
       " <fct> & <int>\\\\\n",
       "\\hline\n",
       "\t NA & 34\\\\\n",
       "\\end{tabular}\n"
      ],
      "text/markdown": [
       "\n",
       "A tibble: 1 × 2\n",
       "\n",
       "| authorName &lt;fct&gt; | n &lt;int&gt; |\n",
       "|---|---|\n",
       "| NA | 34 |\n",
       "\n"
      ],
      "text/plain": [
       "  authorName n \n",
       "1 NA         34"
      ]
     },
     "metadata": {},
     "output_type": "display_data"
    },
    {
     "data": {
      "text/html": [
       "60"
      ],
      "text/latex": [
       "60"
      ],
      "text/markdown": [
       "60"
      ],
      "text/plain": [
       "[1] 60"
      ]
     },
     "metadata": {},
     "output_type": "display_data"
    }
   ],
   "source": [
    "# Double checking that the author & docid counts are correct\n",
    "\n",
    "df1 <- factorize(df1)\n",
    "\n",
    "#Drop unused levels\n",
    "df1$docauthorname <- droplevels(df1$docauthorname)\n",
    "df1$docauthorid <- droplevels(df1$docauthorid)\n",
    "df1$authorName <- droplevels(df1$authorName)\n",
    "\n",
    "#Original variables\n",
    "length(unique(df1$docauthorname))\n",
    "length(unique(df1$docauthorid))\n",
    "\n",
    "#New variable\n",
    "df1 %>% \n",
    "select(docauthorid, authorName) %>% \n",
    "unique() %>% \n",
    "group_by(authorName)  %>% \n",
    "tally(sort=TRUE) %>% \n",
    "filter(n>1)\n",
    "\n",
    "df1 %>% \n",
    "filter(!is.na(authorName)) %>% \n",
    "select(docauthorid) %>% \n",
    "unique() %>% \n",
    "nrow()\n"
   ]
  },
  {
   "cell_type": "markdown",
   "metadata": {},
   "source": [
    "All good -- the counts match up."
   ]
  },
  {
   "cell_type": "code",
   "execution_count": 819,
   "metadata": {},
   "outputs": [
    {
     "data": {
      "text/html": [
       "<style>\n",
       ".dl-inline {width: auto; margin:0; padding: 0}\n",
       ".dl-inline>dt, .dl-inline>dd {float: none; width: auto; display: inline-block}\n",
       ".dl-inline>dt::after {content: \":\\0020\"; padding-right: .5ex}\n",
       ".dl-inline>dt:not(:first-of-type) {padding-left: .5ex}\n",
       "</style><dl class=dl-inline><dt>English</dt><dd>327</dd><dt>Irish</dt><dd>41</dd><dt>Scottish</dt><dd>42</dd><dt>Welsh</dt><dd>26</dd><dt>NA's</dt><dd>2</dd></dl>\n"
      ],
      "text/latex": [
       "\\begin{description*}\n",
       "\\item[English] 327\n",
       "\\item[Irish] 41\n",
       "\\item[Scottish] 42\n",
       "\\item[Welsh] 26\n",
       "\\item[NA's] 2\n",
       "\\end{description*}\n"
      ],
      "text/markdown": [
       "English\n",
       ":   327Irish\n",
       ":   41Scottish\n",
       ":   42Welsh\n",
       ":   26NA's\n",
       ":   2\n",
       "\n"
      ],
      "text/plain": [
       " English    Irish Scottish    Welsh     NA's \n",
       "     327       41       42       26        2 "
      ]
     },
     "metadata": {},
     "output_type": "display_data"
    }
   ],
   "source": [
    "# Given that the entire corpus is European, I am re-coding \"European\" to NA\n",
    "# Also dropping unused levels.\n",
    "df1 <- factorize(df1)\n",
    "\n",
    "df1$nationalOrigin[df1$nationalOrigin==\"European\"] <- NA\n",
    "df1$nationalOrigin <- droplevels(df1$nationalOrigin)\n",
    "summary(df1$nationalOrigin)"
   ]
  },
  {
   "cell_type": "code",
   "execution_count": 820,
   "metadata": {},
   "outputs": [
    {
     "data": {
      "text/html": [
       "<table class=\"dataframe\">\n",
       "<caption>A data.frame: 2 × 22</caption>\n",
       "<thead>\n",
       "\t<tr><th scope=col>docauthorid</th><th scope=col>docauthorname</th><th scope=col>docid</th><th scope=col>docyear</th><th scope=col>docmonth</th><th scope=col>authorgender</th><th scope=col>agewriting</th><th scope=col>agedeath</th><th scope=col>religionNew</th><th scope=col>relMin</th><th scope=col>⋯</th><th scope=col>A</th><th scope=col>I</th><th scope=col>CCP</th><th scope=col>UWL</th><th scope=col>U</th><th scope=col>M</th><th scope=col>S</th><th scope=col>F</th><th scope=col>L</th><th scope=col>authorName</th></tr>\n",
       "\t<tr><th scope=col>&lt;fct&gt;</th><th scope=col>&lt;fct&gt;</th><th scope=col>&lt;fct&gt;</th><th scope=col>&lt;int&gt;</th><th scope=col>&lt;int&gt;</th><th scope=col>&lt;fct&gt;</th><th scope=col>&lt;int&gt;</th><th scope=col>&lt;int&gt;</th><th scope=col>&lt;fct&gt;</th><th scope=col>&lt;lgl&gt;</th><th scope=col>⋯</th><th scope=col>&lt;lgl&gt;</th><th scope=col>&lt;lgl&gt;</th><th scope=col>&lt;lgl&gt;</th><th scope=col>&lt;lgl&gt;</th><th scope=col>&lt;lgl&gt;</th><th scope=col>&lt;lgl&gt;</th><th scope=col>&lt;lgl&gt;</th><th scope=col>&lt;lgl&gt;</th><th scope=col>&lt;lgl&gt;</th><th scope=col>&lt;fct&gt;</th></tr>\n",
       "</thead>\n",
       "<tbody>\n",
       "\t<tr><td>per0036138</td><td>Jennings, Joseph, fl. 1931                          </td><td>S9845-D004</td><td>1831</td><td>4</td><td>M</td><td>NA</td><td>NA</td><td>NA</td><td>NA</td><td>⋯</td><td>   NA</td><td>   NA</td><td>  NA</td><td>   NA</td><td>  NA</td><td>   NA</td><td>   NA</td><td>   NA</td><td>   NA</td><td>Joseph Jennings</td></tr>\n",
       "\t<tr><td>per0029183</td><td>Anonymous Government Agent in Upper Canada, fl. 1833</td><td>S9865-D020</td><td>1833</td><td>7</td><td>M</td><td>NA</td><td>NA</td><td>NA</td><td>NA</td><td>⋯</td><td>FALSE</td><td>FALSE</td><td>TRUE</td><td>FALSE</td><td>TRUE</td><td>FALSE</td><td>FALSE</td><td>FALSE</td><td>FALSE</td><td>NA             </td></tr>\n",
       "</tbody>\n",
       "</table>\n"
      ],
      "text/latex": [
       "A data.frame: 2 × 22\n",
       "\\begin{tabular}{lllllllllllllllllllll}\n",
       " docauthorid & docauthorname & docid & docyear & docmonth & authorgender & agewriting & agedeath & religionNew & relMin & ⋯ & A & I & CCP & UWL & U & M & S & F & L & authorName\\\\\n",
       " <fct> & <fct> & <fct> & <int> & <int> & <fct> & <int> & <int> & <fct> & <lgl> & ⋯ & <lgl> & <lgl> & <lgl> & <lgl> & <lgl> & <lgl> & <lgl> & <lgl> & <lgl> & <fct>\\\\\n",
       "\\hline\n",
       "\t per0036138 & Jennings, Joseph, fl. 1931                           & S9845-D004 & 1831 & 4 & M & NA & NA & NA & NA & ⋯ &    NA &    NA &   NA &    NA &   NA &    NA &    NA &    NA &    NA & Joseph Jennings\\\\\n",
       "\t per0029183 & Anonymous Government Agent in Upper Canada, fl. 1833 & S9865-D020 & 1833 & 7 & M & NA & NA & NA & NA & ⋯ & FALSE & FALSE & TRUE & FALSE & TRUE & FALSE & FALSE & FALSE & FALSE & NA             \\\\\n",
       "\\end{tabular}\n"
      ],
      "text/markdown": [
       "\n",
       "A data.frame: 2 × 22\n",
       "\n",
       "| docauthorid &lt;fct&gt; | docauthorname &lt;fct&gt; | docid &lt;fct&gt; | docyear &lt;int&gt; | docmonth &lt;int&gt; | authorgender &lt;fct&gt; | agewriting &lt;int&gt; | agedeath &lt;int&gt; | religionNew &lt;fct&gt; | relMin &lt;lgl&gt; | ⋯ ⋯ | A &lt;lgl&gt; | I &lt;lgl&gt; | CCP &lt;lgl&gt; | UWL &lt;lgl&gt; | U &lt;lgl&gt; | M &lt;lgl&gt; | S &lt;lgl&gt; | F &lt;lgl&gt; | L &lt;lgl&gt; | authorName &lt;fct&gt; |\n",
       "|---|---|---|---|---|---|---|---|---|---|---|---|---|---|---|---|---|---|---|---|---|\n",
       "| per0036138 | Jennings, Joseph, fl. 1931                           | S9845-D004 | 1831 | 4 | M | NA | NA | NA | NA | ⋯ |    NA |    NA |   NA |    NA |   NA |    NA |    NA |    NA |    NA | Joseph Jennings |\n",
       "| per0029183 | Anonymous Government Agent in Upper Canada, fl. 1833 | S9865-D020 | 1833 | 7 | M | NA | NA | NA | NA | ⋯ | FALSE | FALSE | TRUE | FALSE | TRUE | FALSE | FALSE | FALSE | FALSE | NA              |\n",
       "\n"
      ],
      "text/plain": [
       "  docauthorid docauthorname                                        docid     \n",
       "1 per0036138  Jennings, Joseph, fl. 1931                           S9845-D004\n",
       "2 per0029183  Anonymous Government Agent in Upper Canada, fl. 1833 S9865-D020\n",
       "  docyear docmonth authorgender agewriting agedeath religionNew relMin ⋯ A    \n",
       "1 1831    4        M            NA         NA       NA          NA     ⋯    NA\n",
       "2 1833    7        M            NA         NA       NA          NA     ⋯ FALSE\n",
       "  I     CCP  UWL   U    M     S     F     L     authorName     \n",
       "1    NA   NA    NA   NA    NA    NA    NA    NA Joseph Jennings\n",
       "2 FALSE TRUE FALSE TRUE FALSE FALSE FALSE FALSE NA             "
      ]
     },
     "metadata": {},
     "output_type": "display_data"
    }
   ],
   "source": [
    "df1 %>% \n",
    "filter(is.na(nationalOrigin)) "
   ]
  },
  {
   "cell_type": "markdown",
   "metadata": {},
   "source": [
    "I am going to omit both these cases because they are missing data on what will be a key variable -- nationalOrigin. The reason I think this is ok is that both are designed around providing advice to a prospective emigrant, rather than a personal letter to a friend of family member. Also, I believe that the data for this missing variable is truly missing at random as the writers do not fit the profile of those usually excluded from cultural records. That is, these sound like men in a reasonably solid social position."
   ]
  },
  {
   "cell_type": "code",
   "execution_count": 821,
   "metadata": {
    "scrolled": true
   },
   "outputs": [
    {
     "data": {
      "text/html": [
       "<style>\n",
       ".dl-inline {width: auto; margin:0; padding: 0}\n",
       ".dl-inline>dt, .dl-inline>dd {float: none; width: auto; display: inline-block}\n",
       ".dl-inline>dt::after {content: \":\\0020\"; padding-right: .5ex}\n",
       ".dl-inline>dt:not(:first-of-type) {padding-left: .5ex}\n",
       "</style><dl class=dl-inline><dt>English</dt><dd>327</dd><dt>Irish</dt><dd>41</dd><dt>Scottish</dt><dd>42</dd><dt>Welsh</dt><dd>26</dd></dl>\n"
      ],
      "text/latex": [
       "\\begin{description*}\n",
       "\\item[English] 327\n",
       "\\item[Irish] 41\n",
       "\\item[Scottish] 42\n",
       "\\item[Welsh] 26\n",
       "\\end{description*}\n"
      ],
      "text/markdown": [
       "English\n",
       ":   327Irish\n",
       ":   41Scottish\n",
       ":   42Welsh\n",
       ":   26\n",
       "\n"
      ],
      "text/plain": [
       " English    Irish Scottish    Welsh \n",
       "     327       41       42       26 "
      ]
     },
     "metadata": {},
     "output_type": "display_data"
    }
   ],
   "source": [
    "vals <- c(\"per0036138\", \"per0029183\")\n",
    "df1 <- df1[!df1$docauthorid %in% vals, ]\n",
    "df1$nationalOrigin <- droplevels(df1$nationalOrigin)\n",
    "summary(df1$nationalOrigin)"
   ]
  },
  {
   "cell_type": "code",
   "execution_count": 822,
   "metadata": {},
   "outputs": [
    {
     "data": {
      "text/plain": [
       "   Mode   FALSE    TRUE    NA's \n",
       "logical     337       5      94 "
      ]
     },
     "metadata": {},
     "output_type": "display_data"
    },
    {
     "data": {
      "text/html": [
       "<style>\n",
       ".dl-inline {width: auto; margin:0; padding: 0}\n",
       ".dl-inline>dt, .dl-inline>dd {float: none; width: auto; display: inline-block}\n",
       ".dl-inline>dt::after {content: \":\\0020\"; padding-right: .5ex}\n",
       ".dl-inline>dt:not(:first-of-type) {padding-left: .5ex}\n",
       "</style><dl class=dl-inline><dt>Anglican</dt><dd>206</dd><dt>Baptist</dt><dd>1</dd><dt>Catholic</dt><dd>1</dd><dt>Christian</dt><dd>9</dd><dt>Congregationalist</dt><dd>89</dd><dt>Episcopalian</dt><dd>4</dd><dt>Methodist</dt><dd>10</dd><dt>Mormon</dt><dd>4</dd><dt>Presbyterian</dt><dd>6</dd><dt>Quaker</dt><dd>1</dd><dt>NA's</dt><dd>105</dd></dl>\n"
      ],
      "text/latex": [
       "\\begin{description*}\n",
       "\\item[Anglican] 206\n",
       "\\item[Baptist] 1\n",
       "\\item[Catholic] 1\n",
       "\\item[Christian] 9\n",
       "\\item[Congregationalist] 89\n",
       "\\item[Episcopalian] 4\n",
       "\\item[Methodist] 10\n",
       "\\item[Mormon] 4\n",
       "\\item[Presbyterian] 6\n",
       "\\item[Quaker] 1\n",
       "\\item[NA's] 105\n",
       "\\end{description*}\n"
      ],
      "text/markdown": [
       "Anglican\n",
       ":   206Baptist\n",
       ":   1Catholic\n",
       ":   1Christian\n",
       ":   9Congregationalist\n",
       ":   89Episcopalian\n",
       ":   4Methodist\n",
       ":   10Mormon\n",
       ":   4Presbyterian\n",
       ":   6Quaker\n",
       ":   1NA's\n",
       ":   105\n",
       "\n"
      ],
      "text/plain": [
       "         Anglican           Baptist          Catholic         Christian \n",
       "              206                 1                 1                 9 \n",
       "Congregationalist      Episcopalian         Methodist            Mormon \n",
       "               89                 4                10                 4 \n",
       "     Presbyterian            Quaker              NA's \n",
       "                6                 1               105 "
      ]
     },
     "metadata": {},
     "output_type": "display_data"
    }
   ],
   "source": [
    "summary(df1$relMin)\n",
    "summary(df1$religionNew)"
   ]
  },
  {
   "cell_type": "markdown",
   "metadata": {},
   "source": [
    "The 9 Christians and the 105 NAs in the religionNew variable were coded to NA for the relMin variable but then 20 of these (all Protestants) were resolved through additional research, reducing the relMin NA count from 114 to 94. "
   ]
  },
  {
   "cell_type": "code",
   "execution_count": 823,
   "metadata": {},
   "outputs": [
    {
     "data": {
      "text/html": [
       "<table class=\"dataframe\">\n",
       "<caption>A data.frame: 20 × 4</caption>\n",
       "<thead>\n",
       "\t<tr><th scope=col>docauthorname</th><th scope=col>religionNew</th><th scope=col>relMin</th><th scope=col>nationalOrigin</th></tr>\n",
       "\t<tr><th scope=col>&lt;fct&gt;</th><th scope=col>&lt;fct&gt;</th><th scope=col>&lt;lgl&gt;</th><th scope=col>&lt;fct&gt;</th></tr>\n",
       "</thead>\n",
       "<tbody>\n",
       "\t<tr><td>White, Jane, 1831(?)-1867  </td><td>NA</td><td>FALSE</td><td>Irish</td></tr>\n",
       "\t<tr><td>White, Jane, 1831(?)-1867  </td><td>NA</td><td>FALSE</td><td>Irish</td></tr>\n",
       "\t<tr><td>White, Jane, 1831(?)-1867  </td><td>NA</td><td>FALSE</td><td>Irish</td></tr>\n",
       "\t<tr><td>White, Jane, 1831(?)-1867  </td><td>NA</td><td>FALSE</td><td>Irish</td></tr>\n",
       "\t<tr><td>White, Jane, 1831(?)-1867  </td><td>NA</td><td>FALSE</td><td>Irish</td></tr>\n",
       "\t<tr><td>White, Jane, 1831(?)-1867  </td><td>NA</td><td>FALSE</td><td>Irish</td></tr>\n",
       "\t<tr><td>Robb, Alexander, 1839-     </td><td>NA</td><td>FALSE</td><td>Irish</td></tr>\n",
       "\t<tr><td>Robb, Alexander, 1839-     </td><td>NA</td><td>FALSE</td><td>Irish</td></tr>\n",
       "\t<tr><td>Robb, Alexander, 1839-     </td><td>NA</td><td>FALSE</td><td>Irish</td></tr>\n",
       "\t<tr><td>Robb, Alexander, 1839-     </td><td>NA</td><td>FALSE</td><td>Irish</td></tr>\n",
       "\t<tr><td>Robb, Alexander, 1839-     </td><td>NA</td><td>FALSE</td><td>Irish</td></tr>\n",
       "\t<tr><td>Robb, Alexander, 1839-     </td><td>NA</td><td>FALSE</td><td>Irish</td></tr>\n",
       "\t<tr><td>Robb, Alexander, 1839-     </td><td>NA</td><td>FALSE</td><td>Irish</td></tr>\n",
       "\t<tr><td>Robb, Alexander, 1839-     </td><td>NA</td><td>FALSE</td><td>Irish</td></tr>\n",
       "\t<tr><td>Robb, Alexander, 1839-     </td><td>NA</td><td>FALSE</td><td>Irish</td></tr>\n",
       "\t<tr><td>Robb, Alexander, 1839-     </td><td>NA</td><td>FALSE</td><td>Irish</td></tr>\n",
       "\t<tr><td>Robb, Alexander, 1839-     </td><td>NA</td><td>FALSE</td><td>Irish</td></tr>\n",
       "\t<tr><td>Robb, Alexander, 1839-     </td><td>NA</td><td>FALSE</td><td>Irish</td></tr>\n",
       "\t<tr><td>Buchanan, J. C., fl. 1833  </td><td>NA</td><td>FALSE</td><td>Irish</td></tr>\n",
       "\t<tr><td>Sampson, William, 1764-1836</td><td>NA</td><td>FALSE</td><td>Irish</td></tr>\n",
       "</tbody>\n",
       "</table>\n"
      ],
      "text/latex": [
       "A data.frame: 20 × 4\n",
       "\\begin{tabular}{llll}\n",
       " docauthorname & religionNew & relMin & nationalOrigin\\\\\n",
       " <fct> & <fct> & <lgl> & <fct>\\\\\n",
       "\\hline\n",
       "\t White, Jane, 1831(?)-1867   & NA & FALSE & Irish\\\\\n",
       "\t White, Jane, 1831(?)-1867   & NA & FALSE & Irish\\\\\n",
       "\t White, Jane, 1831(?)-1867   & NA & FALSE & Irish\\\\\n",
       "\t White, Jane, 1831(?)-1867   & NA & FALSE & Irish\\\\\n",
       "\t White, Jane, 1831(?)-1867   & NA & FALSE & Irish\\\\\n",
       "\t White, Jane, 1831(?)-1867   & NA & FALSE & Irish\\\\\n",
       "\t Robb, Alexander, 1839-      & NA & FALSE & Irish\\\\\n",
       "\t Robb, Alexander, 1839-      & NA & FALSE & Irish\\\\\n",
       "\t Robb, Alexander, 1839-      & NA & FALSE & Irish\\\\\n",
       "\t Robb, Alexander, 1839-      & NA & FALSE & Irish\\\\\n",
       "\t Robb, Alexander, 1839-      & NA & FALSE & Irish\\\\\n",
       "\t Robb, Alexander, 1839-      & NA & FALSE & Irish\\\\\n",
       "\t Robb, Alexander, 1839-      & NA & FALSE & Irish\\\\\n",
       "\t Robb, Alexander, 1839-      & NA & FALSE & Irish\\\\\n",
       "\t Robb, Alexander, 1839-      & NA & FALSE & Irish\\\\\n",
       "\t Robb, Alexander, 1839-      & NA & FALSE & Irish\\\\\n",
       "\t Robb, Alexander, 1839-      & NA & FALSE & Irish\\\\\n",
       "\t Robb, Alexander, 1839-      & NA & FALSE & Irish\\\\\n",
       "\t Buchanan, J. C., fl. 1833   & NA & FALSE & Irish\\\\\n",
       "\t Sampson, William, 1764-1836 & NA & FALSE & Irish\\\\\n",
       "\\end{tabular}\n"
      ],
      "text/markdown": [
       "\n",
       "A data.frame: 20 × 4\n",
       "\n",
       "| docauthorname &lt;fct&gt; | religionNew &lt;fct&gt; | relMin &lt;lgl&gt; | nationalOrigin &lt;fct&gt; |\n",
       "|---|---|---|---|\n",
       "| White, Jane, 1831(?)-1867   | NA | FALSE | Irish |\n",
       "| White, Jane, 1831(?)-1867   | NA | FALSE | Irish |\n",
       "| White, Jane, 1831(?)-1867   | NA | FALSE | Irish |\n",
       "| White, Jane, 1831(?)-1867   | NA | FALSE | Irish |\n",
       "| White, Jane, 1831(?)-1867   | NA | FALSE | Irish |\n",
       "| White, Jane, 1831(?)-1867   | NA | FALSE | Irish |\n",
       "| Robb, Alexander, 1839-      | NA | FALSE | Irish |\n",
       "| Robb, Alexander, 1839-      | NA | FALSE | Irish |\n",
       "| Robb, Alexander, 1839-      | NA | FALSE | Irish |\n",
       "| Robb, Alexander, 1839-      | NA | FALSE | Irish |\n",
       "| Robb, Alexander, 1839-      | NA | FALSE | Irish |\n",
       "| Robb, Alexander, 1839-      | NA | FALSE | Irish |\n",
       "| Robb, Alexander, 1839-      | NA | FALSE | Irish |\n",
       "| Robb, Alexander, 1839-      | NA | FALSE | Irish |\n",
       "| Robb, Alexander, 1839-      | NA | FALSE | Irish |\n",
       "| Robb, Alexander, 1839-      | NA | FALSE | Irish |\n",
       "| Robb, Alexander, 1839-      | NA | FALSE | Irish |\n",
       "| Robb, Alexander, 1839-      | NA | FALSE | Irish |\n",
       "| Buchanan, J. C., fl. 1833   | NA | FALSE | Irish |\n",
       "| Sampson, William, 1764-1836 | NA | FALSE | Irish |\n",
       "\n"
      ],
      "text/plain": [
       "   docauthorname               religionNew relMin nationalOrigin\n",
       "1  White, Jane, 1831(?)-1867   NA          FALSE  Irish         \n",
       "2  White, Jane, 1831(?)-1867   NA          FALSE  Irish         \n",
       "3  White, Jane, 1831(?)-1867   NA          FALSE  Irish         \n",
       "4  White, Jane, 1831(?)-1867   NA          FALSE  Irish         \n",
       "5  White, Jane, 1831(?)-1867   NA          FALSE  Irish         \n",
       "6  White, Jane, 1831(?)-1867   NA          FALSE  Irish         \n",
       "7  Robb, Alexander, 1839-      NA          FALSE  Irish         \n",
       "8  Robb, Alexander, 1839-      NA          FALSE  Irish         \n",
       "9  Robb, Alexander, 1839-      NA          FALSE  Irish         \n",
       "10 Robb, Alexander, 1839-      NA          FALSE  Irish         \n",
       "11 Robb, Alexander, 1839-      NA          FALSE  Irish         \n",
       "12 Robb, Alexander, 1839-      NA          FALSE  Irish         \n",
       "13 Robb, Alexander, 1839-      NA          FALSE  Irish         \n",
       "14 Robb, Alexander, 1839-      NA          FALSE  Irish         \n",
       "15 Robb, Alexander, 1839-      NA          FALSE  Irish         \n",
       "16 Robb, Alexander, 1839-      NA          FALSE  Irish         \n",
       "17 Robb, Alexander, 1839-      NA          FALSE  Irish         \n",
       "18 Robb, Alexander, 1839-      NA          FALSE  Irish         \n",
       "19 Buchanan, J. C., fl. 1833   NA          FALSE  Irish         \n",
       "20 Sampson, William, 1764-1836 NA          FALSE  Irish         "
      ]
     },
     "metadata": {},
     "output_type": "display_data"
    }
   ],
   "source": [
    "df1 %>% \n",
    "filter(is.na(religionNew) | religionNew == \"Christian\") %>% \n",
    "filter(!is.na(relMin)) %>% \n",
    "select(docauthorname, religionNew, relMin, nationalOrigin) "
   ]
  },
  {
   "cell_type": "markdown",
   "metadata": {},
   "source": [
    "There is only one Catholic in the corpus both before and after NAs were investigated / resolved. Now I am creating variables for Catholic and Irish so that I can set up the regression so that the theoretically least empowered / privileged individuals can serve as the comparison to the base case or test case."
   ]
  },
  {
   "cell_type": "code",
   "execution_count": 824,
   "metadata": {},
   "outputs": [
    {
     "data": {
      "text/html": [
       "<table class=\"dataframe\">\n",
       "<caption>A data.frame: 5 × 2</caption>\n",
       "<thead>\n",
       "\t<tr><th></th><th scope=col>docauthorname</th><th scope=col>religionNew</th></tr>\n",
       "\t<tr><th></th><th scope=col>&lt;fct&gt;</th><th scope=col>&lt;fct&gt;</th></tr>\n",
       "</thead>\n",
       "<tbody>\n",
       "\t<tr><th scope=row>1</th><td>Ellis, Ann, fl. 1855                     </td><td>Mormon  </td></tr>\n",
       "\t<tr><th scope=row>2</th><td>Llewellyn, Rees, fl. 1857                </td><td>Mormon  </td></tr>\n",
       "\t<tr><th scope=row>3</th><td>Anonymous Welsh Immigrant, Jane, fl. 1862</td><td>Mormon  </td></tr>\n",
       "\t<tr><th scope=row>4</th><td>Hudson, Henry James, 1822-               </td><td>Mormon  </td></tr>\n",
       "\t<tr><th scope=row>5</th><td>Mee, Patrick, fl. 1844                   </td><td>Catholic</td></tr>\n",
       "</tbody>\n",
       "</table>\n"
      ],
      "text/latex": [
       "A data.frame: 5 × 2\n",
       "\\begin{tabular}{r|ll}\n",
       "  & docauthorname & religionNew\\\\\n",
       "  & <fct> & <fct>\\\\\n",
       "\\hline\n",
       "\t1 & Ellis, Ann, fl. 1855                      & Mormon  \\\\\n",
       "\t2 & Llewellyn, Rees, fl. 1857                 & Mormon  \\\\\n",
       "\t3 & Anonymous Welsh Immigrant, Jane, fl. 1862 & Mormon  \\\\\n",
       "\t4 & Hudson, Henry James, 1822-                & Mormon  \\\\\n",
       "\t5 & Mee, Patrick, fl. 1844                    & Catholic\\\\\n",
       "\\end{tabular}\n"
      ],
      "text/markdown": [
       "\n",
       "A data.frame: 5 × 2\n",
       "\n",
       "| <!--/--> | docauthorname &lt;fct&gt; | religionNew &lt;fct&gt; |\n",
       "|---|---|---|\n",
       "| 1 | Ellis, Ann, fl. 1855                      | Mormon   |\n",
       "| 2 | Llewellyn, Rees, fl. 1857                 | Mormon   |\n",
       "| 3 | Anonymous Welsh Immigrant, Jane, fl. 1862 | Mormon   |\n",
       "| 4 | Hudson, Henry James, 1822-                | Mormon   |\n",
       "| 5 | Mee, Patrick, fl. 1844                    | Catholic |\n",
       "\n"
      ],
      "text/plain": [
       "  docauthorname                             religionNew\n",
       "1 Ellis, Ann, fl. 1855                      Mormon     \n",
       "2 Llewellyn, Rees, fl. 1857                 Mormon     \n",
       "3 Anonymous Welsh Immigrant, Jane, fl. 1862 Mormon     \n",
       "4 Hudson, Henry James, 1822-                Mormon     \n",
       "5 Mee, Patrick, fl. 1844                    Catholic   "
      ]
     },
     "metadata": {},
     "output_type": "display_data"
    }
   ],
   "source": [
    "df1  %>% \n",
    "filter(relMin==TRUE) %>% \n",
    "select(docauthorname, religionNew) %>% \n",
    "unique()"
   ]
  },
  {
   "cell_type": "code",
   "execution_count": 825,
   "metadata": {},
   "outputs": [
    {
     "data": {
      "text/plain": [
       "   Mode   FALSE    TRUE    NA's \n",
       "logical     341       1      94 "
      ]
     },
     "metadata": {},
     "output_type": "display_data"
    }
   ],
   "source": [
    "df1$catholic <- FALSE\n",
    "df1$catholic[is.na(df1$relMin)] <- NA # Using relMin here to capture discovery work\n",
    "df1$catholic[df1$religionNew==\"Catholic\"] <- TRUE # ReligionNew ok here bc none found during discovery\n",
    "summary(df1$catholic)"
   ]
  },
  {
   "cell_type": "code",
   "execution_count": 826,
   "metadata": {},
   "outputs": [
    {
     "data": {
      "text/plain": [
       "   Mode   FALSE    TRUE \n",
       "logical     395      41 "
      ]
     },
     "metadata": {},
     "output_type": "display_data"
    }
   ],
   "source": [
    "df1$irish <- FALSE\n",
    "df1$irish[is.na(df1$nationalOrigin)] <- NA\n",
    "df1$irish[df1$nationalOrigin==\"Irish\"] <- TRUE\n",
    "summary(df1$irish)"
   ]
  },
  {
   "cell_type": "markdown",
   "metadata": {},
   "source": [
    "Now doing the same in the inverse, that is so that all expected correlations are positive. This might facilitate interpretation. For example, a 1 / TRUE for the indicator variables correlates with higher sentiment just as greater number of token or person mentions likewise correlates with higher sentiment. "
   ]
  },
  {
   "cell_type": "code",
   "execution_count": 827,
   "metadata": {},
   "outputs": [
    {
     "data": {
      "text/plain": [
       "   Mode   FALSE    TRUE    NA's \n",
       "logical       1     341      94 "
      ]
     },
     "metadata": {},
     "output_type": "display_data"
    }
   ],
   "source": [
    "df1$otherChristian <- FALSE\n",
    "df1$otherChristian[!df1$religionNew==\"Catholic\"] <- TRUE # Above for Catholics\n",
    "df1$otherChristian[df1$relMin==FALSE] <- TRUE # To capture discovery for Protestants\n",
    "df1$otherChristian[is.na(df1$relMin)] <- NA #Above for Catholics\n",
    "summary(df1$otherChristian)"
   ]
  },
  {
   "cell_type": "code",
   "execution_count": 828,
   "metadata": {},
   "outputs": [
    {
     "data": {
      "text/plain": [
       "   Mode   FALSE    TRUE \n",
       "logical      41     395 "
      ]
     },
     "metadata": {},
     "output_type": "display_data"
    }
   ],
   "source": [
    "df1$otherUK <- FALSE\n",
    "df1$otherUK[!df1$nationalOrigin==\"Irish\"] <- TRUE\n",
    "df1$otherUK[is.na(df1$nationalOrigin)] <- NA\n",
    "summary(df1$otherUK)"
   ]
  },
  {
   "cell_type": "code",
   "execution_count": 829,
   "metadata": {},
   "outputs": [
    {
     "data": {
      "text/html": [],
      "text/latex": [],
      "text/markdown": [],
      "text/plain": [
       "character(0)"
      ]
     },
     "metadata": {},
     "output_type": "display_data"
    },
    {
     "data": {
      "text/html": [],
      "text/latex": [],
      "text/markdown": [],
      "text/plain": [
       "character(0)"
      ]
     },
     "metadata": {},
     "output_type": "display_data"
    }
   ],
   "source": [
    "# Checking to make sure csv matches folder list.\n",
    "\n",
    "# make list of doc ids in csv\n",
    "csv <- sort(df1$docid)\n",
    "\n",
    "# make list of doc ids in folder\n",
    "WD <- getwd()\n",
    "setwd(WD)\n",
    "files <- list.files(\"SubsetNAILDOH\")\n",
    "folder <- sort(sub('.txt', '', files))\n",
    "\n",
    "setdiff(csv, folder)\n",
    "setdiff(folder, csv)"
   ]
  },
  {
   "cell_type": "code",
   "execution_count": 8,
   "metadata": {},
   "outputs": [
    {
     "data": {
      "text/plain": [
       "\n",
       "  F   M \n",
       "283 153 "
      ]
     },
     "metadata": {},
     "output_type": "display_data"
    },
    {
     "data": {
      "text/html": [
       "<table class=\"dataframe\">\n",
       "<caption>A matrix: 2 × 1 of type dbl</caption>\n",
       "<tbody>\n",
       "\t<tr><th scope=row>F</th><td>64.90826</td></tr>\n",
       "\t<tr><th scope=row>M</th><td>35.09174</td></tr>\n",
       "</tbody>\n",
       "</table>\n"
      ],
      "text/latex": [
       "A matrix: 2 × 1 of type dbl\n",
       "\\begin{tabular}{r|l}\n",
       "\tF & 64.90826\\\\\n",
       "\tM & 35.09174\\\\\n",
       "\\end{tabular}\n"
      ],
      "text/markdown": [
       "\n",
       "A matrix: 2 × 1 of type dbl\n",
       "\n",
       "| F | 64.90826 |\n",
       "| M | 35.09174 |\n",
       "\n"
      ],
      "text/plain": [
       "  [,1]    \n",
       "F 64.90826\n",
       "M 35.09174"
      ]
     },
     "metadata": {},
     "output_type": "display_data"
    },
    {
     "data": {
      "text/plain": [
       "\n",
       " F  M \n",
       "14 78 "
      ]
     },
     "metadata": {},
     "output_type": "display_data"
    },
    {
     "data": {
      "text/html": [
       "<table class=\"dataframe\">\n",
       "<caption>A matrix: 2 × 1 of type dbl</caption>\n",
       "<tbody>\n",
       "\t<tr><th scope=row>F</th><td>15.21739</td></tr>\n",
       "\t<tr><th scope=row>M</th><td>84.78261</td></tr>\n",
       "</tbody>\n",
       "</table>\n"
      ],
      "text/latex": [
       "A matrix: 2 × 1 of type dbl\n",
       "\\begin{tabular}{r|l}\n",
       "\tF & 15.21739\\\\\n",
       "\tM & 84.78261\\\\\n",
       "\\end{tabular}\n"
      ],
      "text/markdown": [
       "\n",
       "A matrix: 2 × 1 of type dbl\n",
       "\n",
       "| F | 15.21739 |\n",
       "| M | 84.78261 |\n",
       "\n"
      ],
      "text/plain": [
       "  [,1]    \n",
       "F 15.21739\n",
       "M 84.78261"
      ]
     },
     "metadata": {},
     "output_type": "display_data"
    },
    {
     "data": {
      "text/html": [
       "0"
      ],
      "text/latex": [
       "0"
      ],
      "text/markdown": [
       "0"
      ],
      "text/plain": [
       "[1] 0"
      ]
     },
     "metadata": {},
     "output_type": "display_data"
    }
   ],
   "source": [
    "#What is the gender breakdown by doc and by author for letters\n",
    "\n",
    "lettersG <- df1 %>% #Create new variable for the collection of letters\n",
    "reframe(authorGender) #summarized by gender\n",
    "table(lettersG$authorGender) #plot\n",
    "prop.table(as.matrix(table(lettersG$authorGender)), 2)*100\n",
    "\n",
    "letterAuthorsG <- df1 %>% #Create new variable for the writer pool\n",
    "reframe(authorGender, group_by=docauthorid) %>% #summarized by gender and grouped by author\n",
    "unique() #unique values only\n",
    "table(letterAuthorsG$authorGender) #plot author breakdown\n",
    "prop.table(as.matrix(table(letterAuthorsG$authorGender)), 2)*100 \n",
    "\n",
    "df1 %>% \n",
    "filter(is.na(authorGender)) %>% \n",
    "select(docauthorid) %>% \n",
    "unique() %>% \n",
    "nrow()\n"
   ]
  },
  {
   "cell_type": "code",
   "execution_count": 831,
   "metadata": {},
   "outputs": [
    {
     "data": {
      "text/plain": [
       "\n",
       " English    Irish Scottish    Welsh \n",
       "     327       41       42       26 "
      ]
     },
     "metadata": {},
     "output_type": "display_data"
    },
    {
     "data": {
      "text/html": [
       "<table class=\"dataframe\">\n",
       "<caption>A matrix: 4 × 1 of type dbl</caption>\n",
       "<tbody>\n",
       "\t<tr><th scope=row>English</th><td>75.000000</td></tr>\n",
       "\t<tr><th scope=row>Irish</th><td> 9.403670</td></tr>\n",
       "\t<tr><th scope=row>Scottish</th><td> 9.633028</td></tr>\n",
       "\t<tr><th scope=row>Welsh</th><td> 5.963303</td></tr>\n",
       "</tbody>\n",
       "</table>\n"
      ],
      "text/latex": [
       "A matrix: 4 × 1 of type dbl\n",
       "\\begin{tabular}{r|l}\n",
       "\tEnglish & 75.000000\\\\\n",
       "\tIrish &  9.403670\\\\\n",
       "\tScottish &  9.633028\\\\\n",
       "\tWelsh &  5.963303\\\\\n",
       "\\end{tabular}\n"
      ],
      "text/markdown": [
       "\n",
       "A matrix: 4 × 1 of type dbl\n",
       "\n",
       "| English | 75.000000 |\n",
       "| Irish |  9.403670 |\n",
       "| Scottish |  9.633028 |\n",
       "| Welsh |  5.963303 |\n",
       "\n"
      ],
      "text/plain": [
       "         [,1]     \n",
       "English  75.000000\n",
       "Irish     9.403670\n",
       "Scottish  9.633028\n",
       "Welsh     5.963303"
      ]
     },
     "metadata": {},
     "output_type": "display_data"
    },
    {
     "data": {
      "text/plain": [
       "\n",
       " English    Irish Scottish    Welsh \n",
       "      35       10       26       21 "
      ]
     },
     "metadata": {},
     "output_type": "display_data"
    },
    {
     "data": {
      "text/html": [
       "<table class=\"dataframe\">\n",
       "<caption>A matrix: 4 × 1 of type dbl</caption>\n",
       "<tbody>\n",
       "\t<tr><th scope=row>English</th><td>38.04348</td></tr>\n",
       "\t<tr><th scope=row>Irish</th><td>10.86957</td></tr>\n",
       "\t<tr><th scope=row>Scottish</th><td>28.26087</td></tr>\n",
       "\t<tr><th scope=row>Welsh</th><td>22.82609</td></tr>\n",
       "</tbody>\n",
       "</table>\n"
      ],
      "text/latex": [
       "A matrix: 4 × 1 of type dbl\n",
       "\\begin{tabular}{r|l}\n",
       "\tEnglish & 38.04348\\\\\n",
       "\tIrish & 10.86957\\\\\n",
       "\tScottish & 28.26087\\\\\n",
       "\tWelsh & 22.82609\\\\\n",
       "\\end{tabular}\n"
      ],
      "text/markdown": [
       "\n",
       "A matrix: 4 × 1 of type dbl\n",
       "\n",
       "| English | 38.04348 |\n",
       "| Irish | 10.86957 |\n",
       "| Scottish | 28.26087 |\n",
       "| Welsh | 22.82609 |\n",
       "\n"
      ],
      "text/plain": [
       "         [,1]    \n",
       "English  38.04348\n",
       "Irish    10.86957\n",
       "Scottish 28.26087\n",
       "Welsh    22.82609"
      ]
     },
     "metadata": {},
     "output_type": "display_data"
    }
   ],
   "source": [
    "#What is the nationalOrigin breakdown by doc and by author for letters\n",
    "\n",
    "lettersN <- df1 %>% #Create new variable for the collection of letters\n",
    "reframe(nationalOrigin) #summarized by nationalOrgin\n",
    "table(lettersN$nationalOrigin) #plot\n",
    "prop.table(as.matrix(table(lettersN$nationalOrigin)), 2)*100\n",
    "\n",
    "letterAuthorsN <- df1 %>% #Create new variable for the writer pool\n",
    "reframe(nationalOrigin, group_by=docauthorid) %>% #summarized by nationalOrgin and grouped by author\n",
    "unique() #unique values only\n",
    "table(letterAuthorsN$nationalOrigin) #plot author breakdown\n",
    "prop.table(as.matrix(table(letterAuthorsN$nationalOrigin)), 2)*100 \n"
   ]
  },
  {
   "cell_type": "code",
   "execution_count": 832,
   "metadata": {},
   "outputs": [
    {
     "data": {
      "text/html": [
       "<table class=\"dataframe\">\n",
       "<caption>A data.frame: 10 × 4</caption>\n",
       "<thead>\n",
       "\t<tr><th></th><th scope=col>religionNew</th><th scope=col>docauthorname</th><th scope=col>relMin</th><th scope=col>catholic</th></tr>\n",
       "\t<tr><th></th><th scope=col>&lt;fct&gt;</th><th scope=col>&lt;fct&gt;</th><th scope=col>&lt;lgl&gt;</th><th scope=col>&lt;lgl&gt;</th></tr>\n",
       "</thead>\n",
       "<tbody>\n",
       "\t<tr><th scope=row>1</th><td>NA       </td><td>Humphrey, James, fl. 1824    </td><td>   NA</td><td>   NA</td></tr>\n",
       "\t<tr><th scope=row>2</th><td>Catholic </td><td>Mee, Patrick, fl. 1844       </td><td> TRUE</td><td> TRUE</td></tr>\n",
       "\t<tr><th scope=row>3</th><td>Anglican </td><td>Carrothers, Nathaniel, ?-1881</td><td>FALSE</td><td>FALSE</td></tr>\n",
       "\t<tr><th scope=row>4</th><td>Anglican </td><td>Carrothers, Margaret         </td><td>FALSE</td><td>FALSE</td></tr>\n",
       "\t<tr><th scope=row>10</th><td>Methodist</td><td>Carrothers, Joseph, 1793(?)- </td><td>FALSE</td><td>FALSE</td></tr>\n",
       "\t<tr><th scope=row>20</th><td>NA       </td><td>White, Jane, 1831(?)-1867    </td><td>FALSE</td><td>FALSE</td></tr>\n",
       "\t<tr><th scope=row>26</th><td>NA       </td><td>Robb, Alexander, 1839-       </td><td>FALSE</td><td>FALSE</td></tr>\n",
       "\t<tr><th scope=row>38</th><td>NA       </td><td>Buchanan, J. C., fl. 1833    </td><td>FALSE</td><td>FALSE</td></tr>\n",
       "\t<tr><th scope=row>39</th><td>NA       </td><td>Graham, Thomas, fl. 1827     </td><td>   NA</td><td>   NA</td></tr>\n",
       "\t<tr><th scope=row>41</th><td>NA       </td><td>Sampson, William, 1764-1836  </td><td>FALSE</td><td>FALSE</td></tr>\n",
       "</tbody>\n",
       "</table>\n"
      ],
      "text/latex": [
       "A data.frame: 10 × 4\n",
       "\\begin{tabular}{r|llll}\n",
       "  & religionNew & docauthorname & relMin & catholic\\\\\n",
       "  & <fct> & <fct> & <lgl> & <lgl>\\\\\n",
       "\\hline\n",
       "\t1 & NA        & Humphrey, James, fl. 1824     &    NA &    NA\\\\\n",
       "\t2 & Catholic  & Mee, Patrick, fl. 1844        &  TRUE &  TRUE\\\\\n",
       "\t3 & Anglican  & Carrothers, Nathaniel, ?-1881 & FALSE & FALSE\\\\\n",
       "\t4 & Anglican  & Carrothers, Margaret          & FALSE & FALSE\\\\\n",
       "\t10 & Methodist & Carrothers, Joseph, 1793(?)-  & FALSE & FALSE\\\\\n",
       "\t20 & NA        & White, Jane, 1831(?)-1867     & FALSE & FALSE\\\\\n",
       "\t26 & NA        & Robb, Alexander, 1839-        & FALSE & FALSE\\\\\n",
       "\t38 & NA        & Buchanan, J. C., fl. 1833     & FALSE & FALSE\\\\\n",
       "\t39 & NA        & Graham, Thomas, fl. 1827      &    NA &    NA\\\\\n",
       "\t41 & NA        & Sampson, William, 1764-1836   & FALSE & FALSE\\\\\n",
       "\\end{tabular}\n"
      ],
      "text/markdown": [
       "\n",
       "A data.frame: 10 × 4\n",
       "\n",
       "| <!--/--> | religionNew &lt;fct&gt; | docauthorname &lt;fct&gt; | relMin &lt;lgl&gt; | catholic &lt;lgl&gt; |\n",
       "|---|---|---|---|---|\n",
       "| 1 | NA        | Humphrey, James, fl. 1824     |    NA |    NA |\n",
       "| 2 | Catholic  | Mee, Patrick, fl. 1844        |  TRUE |  TRUE |\n",
       "| 3 | Anglican  | Carrothers, Nathaniel, ?-1881 | FALSE | FALSE |\n",
       "| 4 | Anglican  | Carrothers, Margaret          | FALSE | FALSE |\n",
       "| 10 | Methodist | Carrothers, Joseph, 1793(?)-  | FALSE | FALSE |\n",
       "| 20 | NA        | White, Jane, 1831(?)-1867     | FALSE | FALSE |\n",
       "| 26 | NA        | Robb, Alexander, 1839-        | FALSE | FALSE |\n",
       "| 38 | NA        | Buchanan, J. C., fl. 1833     | FALSE | FALSE |\n",
       "| 39 | NA        | Graham, Thomas, fl. 1827      |    NA |    NA |\n",
       "| 41 | NA        | Sampson, William, 1764-1836   | FALSE | FALSE |\n",
       "\n"
      ],
      "text/plain": [
       "   religionNew docauthorname                 relMin catholic\n",
       "1  NA          Humphrey, James, fl. 1824        NA     NA   \n",
       "2  Catholic    Mee, Patrick, fl. 1844         TRUE   TRUE   \n",
       "3  Anglican    Carrothers, Nathaniel, ?-1881 FALSE  FALSE   \n",
       "4  Anglican    Carrothers, Margaret          FALSE  FALSE   \n",
       "10 Methodist   Carrothers, Joseph, 1793(?)-  FALSE  FALSE   \n",
       "20 NA          White, Jane, 1831(?)-1867     FALSE  FALSE   \n",
       "26 NA          Robb, Alexander, 1839-        FALSE  FALSE   \n",
       "38 NA          Buchanan, J. C., fl. 1833     FALSE  FALSE   \n",
       "39 NA          Graham, Thomas, fl. 1827         NA     NA   \n",
       "41 NA          Sampson, William, 1764-1836   FALSE  FALSE   "
      ]
     },
     "metadata": {},
     "output_type": "display_data"
    }
   ],
   "source": [
    "# Who are the Irish writers\n",
    "df1 %>% \n",
    "filter(nationalOrigin==\"Irish\") %>% \n",
    "select(religionNew, docauthorname, relMin, catholic) %>% \n",
    "unique()"
   ]
  },
  {
   "cell_type": "code",
   "execution_count": 833,
   "metadata": {},
   "outputs": [],
   "source": [
    "df1$authorGender <- df1$authorgender\n",
    "df1$authorgender <- NULL"
   ]
  },
  {
   "cell_type": "code",
   "execution_count": 3,
   "metadata": {},
   "outputs": [
    {
     "data": {
      "text/html": [
       "<style>\n",
       ".list-inline {list-style: none; margin:0; padding: 0}\n",
       ".list-inline>li {display: inline-block}\n",
       ".list-inline>li:not(:last-child)::after {content: \"\\00b7\"; padding: 0 .5ex}\n",
       "</style>\n",
       "<ol class=list-inline><li>'docauthorid'</li><li>'docauthorname'</li><li>'docid'</li><li>'docyear'</li><li>'docmonth'</li><li>'agewriting'</li><li>'agedeath'</li><li>'religionNew'</li><li>'relMin'</li><li>'nationalOrigin'</li><li>'authorLocation'</li><li>'A'</li><li>'I'</li><li>'CCP'</li><li>'UWL'</li><li>'U'</li><li>'M'</li><li>'S'</li><li>'F'</li><li>'L'</li><li>'authorName'</li><li>'catholic'</li><li>'irish'</li><li>'otherChristian'</li><li>'otherUK'</li><li>'authorGender'</li></ol>\n"
      ],
      "text/latex": [
       "\\begin{enumerate*}\n",
       "\\item 'docauthorid'\n",
       "\\item 'docauthorname'\n",
       "\\item 'docid'\n",
       "\\item 'docyear'\n",
       "\\item 'docmonth'\n",
       "\\item 'agewriting'\n",
       "\\item 'agedeath'\n",
       "\\item 'religionNew'\n",
       "\\item 'relMin'\n",
       "\\item 'nationalOrigin'\n",
       "\\item 'authorLocation'\n",
       "\\item 'A'\n",
       "\\item 'I'\n",
       "\\item 'CCP'\n",
       "\\item 'UWL'\n",
       "\\item 'U'\n",
       "\\item 'M'\n",
       "\\item 'S'\n",
       "\\item 'F'\n",
       "\\item 'L'\n",
       "\\item 'authorName'\n",
       "\\item 'catholic'\n",
       "\\item 'irish'\n",
       "\\item 'otherChristian'\n",
       "\\item 'otherUK'\n",
       "\\item 'authorGender'\n",
       "\\end{enumerate*}\n"
      ],
      "text/markdown": [
       "1. 'docauthorid'\n",
       "2. 'docauthorname'\n",
       "3. 'docid'\n",
       "4. 'docyear'\n",
       "5. 'docmonth'\n",
       "6. 'agewriting'\n",
       "7. 'agedeath'\n",
       "8. 'religionNew'\n",
       "9. 'relMin'\n",
       "10. 'nationalOrigin'\n",
       "11. 'authorLocation'\n",
       "12. 'A'\n",
       "13. 'I'\n",
       "14. 'CCP'\n",
       "15. 'UWL'\n",
       "16. 'U'\n",
       "17. 'M'\n",
       "18. 'S'\n",
       "19. 'F'\n",
       "20. 'L'\n",
       "21. 'authorName'\n",
       "22. 'catholic'\n",
       "23. 'irish'\n",
       "24. 'otherChristian'\n",
       "25. 'otherUK'\n",
       "26. 'authorGender'\n",
       "\n",
       "\n"
      ],
      "text/plain": [
       " [1] \"docauthorid\"    \"docauthorname\"  \"docid\"          \"docyear\"       \n",
       " [5] \"docmonth\"       \"agewriting\"     \"agedeath\"       \"religionNew\"   \n",
       " [9] \"relMin\"         \"nationalOrigin\" \"authorLocation\" \"A\"             \n",
       "[13] \"I\"              \"CCP\"            \"UWL\"            \"U\"             \n",
       "[17] \"M\"              \"S\"              \"F\"              \"L\"             \n",
       "[21] \"authorName\"     \"catholic\"       \"irish\"          \"otherChristian\"\n",
       "[25] \"otherUK\"        \"authorGender\"  "
      ]
     },
     "metadata": {},
     "output_type": "display_data"
    },
    {
     "data": {
      "text/html": [
       "<style>\n",
       ".list-inline {list-style: none; margin:0; padding: 0}\n",
       ".list-inline>li {display: inline-block}\n",
       ".list-inline>li:not(:last-child)::after {content: \"\\00b7\"; padding: 0 .5ex}\n",
       "</style>\n",
       "<ol class=list-inline><li>436</li><li>26</li></ol>\n"
      ],
      "text/latex": [
       "\\begin{enumerate*}\n",
       "\\item 436\n",
       "\\item 26\n",
       "\\end{enumerate*}\n"
      ],
      "text/markdown": [
       "1. 436\n",
       "2. 26\n",
       "\n",
       "\n"
      ],
      "text/plain": [
       "[1] 436  26"
      ]
     },
     "metadata": {},
     "output_type": "display_data"
    }
   ],
   "source": [
    "# Data\n",
    "#df1 <- factorize(read.csv(\"20240514_PhD_NaildohSubset.csv\")) # Put csv into a dataframe called docData\n",
    "#colnames(df1) # Get an overview of the dataframe\n",
    "#(df1)"
   ]
  },
  {
   "cell_type": "code",
   "execution_count": 26,
   "metadata": {},
   "outputs": [
    {
     "data": {
      "text/plain": [
       "\n",
       " F  M \n",
       "14 78 "
      ]
     },
     "metadata": {},
     "output_type": "display_data"
    },
    {
     "data": {
      "text/html": [
       "<table class=\"dataframe\">\n",
       "<caption>A matrix: 2 × 1 of type dbl</caption>\n",
       "<tbody>\n",
       "\t<tr><th scope=row>F</th><td>15.21739</td></tr>\n",
       "\t<tr><th scope=row>M</th><td>84.78261</td></tr>\n",
       "</tbody>\n",
       "</table>\n"
      ],
      "text/latex": [
       "A matrix: 2 × 1 of type dbl\n",
       "\\begin{tabular}{r|l}\n",
       "\tF & 15.21739\\\\\n",
       "\tM & 84.78261\\\\\n",
       "\\end{tabular}\n"
      ],
      "text/markdown": [
       "\n",
       "A matrix: 2 × 1 of type dbl\n",
       "\n",
       "| F | 15.21739 |\n",
       "| M | 84.78261 |\n",
       "\n"
      ],
      "text/plain": [
       "  [,1]    \n",
       "F 15.21739\n",
       "M 84.78261"
      ]
     },
     "metadata": {},
     "output_type": "display_data"
    }
   ],
   "source": [
    "temp <- df1 %>% #Create new variable for the writer pool\n",
    "reframe(authorGender, group_by=docauthorid) %>% #summarized by nationalOrgin and grouped by author\n",
    "unique() #unique values only\n",
    "table(temp$authorGender) #plot author breakdown\n",
    "prop.table(as.matrix(table(temp$authorGender)), 2)*100 "
   ]
  },
  {
   "cell_type": "code",
   "execution_count": 22,
   "metadata": {},
   "outputs": [
    {
     "data": {
      "text/plain": [
       "       \n",
       "         F  M\n",
       "  FALSE 12 71\n",
       "  TRUE   2  8"
      ]
     },
     "metadata": {},
     "output_type": "display_data"
    },
    {
     "data": {
      "text/plain": [
       "       \n",
       "           F    M\n",
       "  FALSE 0.13 0.76\n",
       "  TRUE  0.02 0.09"
      ]
     },
     "metadata": {},
     "output_type": "display_data"
    },
    {
     "data": {
      "text/plain": [
       "        \n",
       "          F  M\n",
       "  Canada  6 34\n",
       "  USA     8 45"
      ]
     },
     "metadata": {},
     "output_type": "display_data"
    },
    {
     "data": {
      "text/plain": [
       "        \n",
       "            F    M\n",
       "  Canada 0.06 0.37\n",
       "  USA    0.09 0.48"
      ]
     },
     "metadata": {},
     "output_type": "display_data"
    },
    {
     "data": {
      "text/plain": [
       "        \n",
       "         FALSE TRUE\n",
       "  Canada    32    8\n",
       "  USA       51    2"
      ]
     },
     "metadata": {},
     "output_type": "display_data"
    },
    {
     "data": {
      "text/plain": [
       "        \n",
       "         FALSE TRUE\n",
       "  Canada  0.34 0.09\n",
       "  USA     0.55 0.02"
      ]
     },
     "metadata": {},
     "output_type": "display_data"
    }
   ],
   "source": [
    "temp <- df1 %>% \n",
    "select(docauthorid, irish, authorLocation, authorGender)  %>% \n",
    "unique()\n",
    "\n",
    "table(temp$irish, temp$authorGender)\n",
    "round(prop.table(table(temp$irish, temp$authorGender)), digits = 2)\n",
    "\n",
    "# temp[temp$docauthorid==\"per0029184\",] This person appears twice in the count because one letter is sent from USA and one from Canada\n",
    "# The correct count is 12 female, 70 male non-Irish\n",
    "\n",
    "table(temp$authorLocation, temp$authorGender)\n",
    "round(prop.table(table(temp$authorLocation, temp$authorGender)), digits = 2)\n",
    "\n",
    "table(temp$authorLocation, temp$irish)\n",
    "round(prop.table(table(temp$authorLocation, temp$irish)), digits=2)"
   ]
  },
  {
   "cell_type": "code",
   "execution_count": 491,
   "metadata": {},
   "outputs": [],
   "source": [
    "write.csv(df1, \n",
    "          \"20240514_PhD_NaildohSubset.csv\", \n",
    "          row.names=FALSE)"
   ]
  }
 ],
 "metadata": {
  "kernelspec": {
   "display_name": "R",
   "language": "R",
   "name": "ir"
  },
  "language_info": {
   "codemirror_mode": "r",
   "file_extension": ".r",
   "mimetype": "text/x-r-source",
   "name": "R",
   "pygments_lexer": "r",
   "version": "4.1.0"
  }
 },
 "nbformat": 4,
 "nbformat_minor": 2
}
