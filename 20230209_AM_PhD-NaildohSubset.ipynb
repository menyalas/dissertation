{
 "cells": [
  {
   "cell_type": "markdown",
   "id": "9c4dd1c4",
   "metadata": {},
   "source": [
    "# NAILDOH Subset"
   ]
  },
  {
   "cell_type": "markdown",
   "id": "78c4ad01",
   "metadata": {},
   "source": [
    "This is the first notebook in the series used to prepare and analyze the NALDOH collection."
   ]
  },
  {
   "cell_type": "markdown",
   "id": "d0bc1f6b",
   "metadata": {},
   "source": [
    "## Resources"
   ]
  },
  {
   "cell_type": "code",
   "execution_count": 1,
   "id": "6baa03b3",
   "metadata": {},
   "outputs": [
    {
     "name": "stderr",
     "output_type": "stream",
     "text": [
      "Warning message:\n",
      "“replacing previous import ‘lifecycle::last_warnings’ by ‘rlang::last_warnings’ when loading ‘tibble’”\n",
      "Warning message:\n",
      "“replacing previous import ‘lifecycle::last_warnings’ by ‘rlang::last_warnings’ when loading ‘hms’”\n",
      "── \u001b[1mAttaching packages\u001b[22m ─────────────────────────────────────── tidyverse 1.3.1 ──\n",
      "\n",
      "\u001b[32m✔\u001b[39m \u001b[34mggplot2\u001b[39m 3.3.3     \u001b[32m✔\u001b[39m \u001b[34mpurrr  \u001b[39m 0.3.4\n",
      "\u001b[32m✔\u001b[39m \u001b[34mtibble \u001b[39m 3.1.2     \u001b[32m✔\u001b[39m \u001b[34mdplyr  \u001b[39m 1.0.6\n",
      "\u001b[32m✔\u001b[39m \u001b[34mtidyr  \u001b[39m 1.1.3     \u001b[32m✔\u001b[39m \u001b[34mstringr\u001b[39m 1.4.0\n",
      "\u001b[32m✔\u001b[39m \u001b[34mreadr  \u001b[39m 1.4.0     \u001b[32m✔\u001b[39m \u001b[34mforcats\u001b[39m 0.5.1\n",
      "\n",
      "── \u001b[1mConflicts\u001b[22m ────────────────────────────────────────── tidyverse_conflicts() ──\n",
      "\u001b[31m✖\u001b[39m \u001b[34mdplyr\u001b[39m::\u001b[32mfilter()\u001b[39m masks \u001b[34mstats\u001b[39m::filter()\n",
      "\u001b[31m✖\u001b[39m \u001b[34mdplyr\u001b[39m::\u001b[32mlag()\u001b[39m    masks \u001b[34mstats\u001b[39m::lag()\n",
      "\n"
     ]
    }
   ],
   "source": [
    "# Libraries\n",
    "library(tidyverse) # for data manipulation"
   ]
  },
  {
   "cell_type": "code",
   "execution_count": 2,
   "id": "39441685",
   "metadata": {},
   "outputs": [],
   "source": [
    "# Functions\n",
    "factorize <- function(df){ # Create a function\n",
    "  for(i in which(sapply(df, class) == \"character\")) # that looks for variables with the character class \n",
    "      df[[i]] = as.factor(df[[i]]) # and converts them to factor (i.e., categorical) class\n",
    "  return(df)\n",
    "}\n",
    "\n",
    "unfactorize <- function(df){ # Create a function\n",
    "  for(i in which(sapply(df, class) == \"factor\")) # that looks for variables with the character class \n",
    "      df[[i]] = as.character(df[[i]]) # and converts them to factor (i.e., categorical) class\n",
    "  return(df)\n",
    "}"
   ]
  },
  {
   "cell_type": "code",
   "execution_count": 3,
   "id": "686a7cc6",
   "metadata": {},
   "outputs": [
    {
     "data": {
      "text/html": [
       "<style>\n",
       ".list-inline {list-style: none; margin:0; padding: 0}\n",
       ".list-inline>li {display: inline-block}\n",
       ".list-inline>li:not(:last-child)::after {content: \"\\00b7\"; padding: 0 .5ex}\n",
       "</style>\n",
       "<ol class=list-inline><li>'docsequence'</li><li>'docid'</li><li>'sourceid'</li><li>'docauthorid'</li><li>'doctitle'</li><li>'docyear'</li><li>'docmonth'</li><li>'docday'</li><li>'docpage'</li><li>'doctype'</li><li>'docabbr'</li><li>'allsubject'</li><li>'subjname'</li><li>'organization'</li><li>'titlesubj'</li><li>'topicsubj'</li><li>'broadsubj'</li><li>'geographic'</li><li>'historical'</li><li>'personalevent'</li><li>'agewriting'</li><li>'publisher'</li><li>'sourcetitle'</li><li>'editor'</li><li>'sourcemedium'</li><li>'language'</li><li>'pubyear'</li><li>'pubplace'</li><li>'journal'</li><li>'jcitation'</li><li>'spages'</li><li>'ecitation'</li><li>'mslocation'</li><li>'sourcetype'</li><li>'docauthorname'</li><li>'allauthorforms'</li><li>'briefname'</li><li>'authrace'</li><li>'religion'</li><li>'nationality'</li><li>'birthyear'</li><li>'birthmonth'</li><li>'birthday'</li><li>'deathyear'</li><li>'deathmonth'</li><li>'deathday'</li><li>'birthplace'</li><li>'deathplace'</li><li>'scopyright'</li><li>'aspcopyright'</li><li>'mscopyright'</li><li>'schoolattend'</li><li>'educlevel'</li><li>'audience'</li><li>'authorgender'</li><li>'native_occupation'</li><li>'north_american_occupation'</li><li>'organization_affiliations'</li><li>'year_immigration'</li><li>'cultural_heritage'</li><li>'point_of_entry'</li><li>'point_of_departure'</li><li>'stayed_north_america'</li><li>'author_generation'</li><li>'image_filename'</li><li>'thumbnail_filename'</li><li>'display_thumbnail'</li><li>'wwritten'</li><li>'wsent'</li><li>'marriagestatus'</li><li>'maternalstatus'</li></ol>\n"
      ],
      "text/latex": [
       "\\begin{enumerate*}\n",
       "\\item 'docsequence'\n",
       "\\item 'docid'\n",
       "\\item 'sourceid'\n",
       "\\item 'docauthorid'\n",
       "\\item 'doctitle'\n",
       "\\item 'docyear'\n",
       "\\item 'docmonth'\n",
       "\\item 'docday'\n",
       "\\item 'docpage'\n",
       "\\item 'doctype'\n",
       "\\item 'docabbr'\n",
       "\\item 'allsubject'\n",
       "\\item 'subjname'\n",
       "\\item 'organization'\n",
       "\\item 'titlesubj'\n",
       "\\item 'topicsubj'\n",
       "\\item 'broadsubj'\n",
       "\\item 'geographic'\n",
       "\\item 'historical'\n",
       "\\item 'personalevent'\n",
       "\\item 'agewriting'\n",
       "\\item 'publisher'\n",
       "\\item 'sourcetitle'\n",
       "\\item 'editor'\n",
       "\\item 'sourcemedium'\n",
       "\\item 'language'\n",
       "\\item 'pubyear'\n",
       "\\item 'pubplace'\n",
       "\\item 'journal'\n",
       "\\item 'jcitation'\n",
       "\\item 'spages'\n",
       "\\item 'ecitation'\n",
       "\\item 'mslocation'\n",
       "\\item 'sourcetype'\n",
       "\\item 'docauthorname'\n",
       "\\item 'allauthorforms'\n",
       "\\item 'briefname'\n",
       "\\item 'authrace'\n",
       "\\item 'religion'\n",
       "\\item 'nationality'\n",
       "\\item 'birthyear'\n",
       "\\item 'birthmonth'\n",
       "\\item 'birthday'\n",
       "\\item 'deathyear'\n",
       "\\item 'deathmonth'\n",
       "\\item 'deathday'\n",
       "\\item 'birthplace'\n",
       "\\item 'deathplace'\n",
       "\\item 'scopyright'\n",
       "\\item 'aspcopyright'\n",
       "\\item 'mscopyright'\n",
       "\\item 'schoolattend'\n",
       "\\item 'educlevel'\n",
       "\\item 'audience'\n",
       "\\item 'authorgender'\n",
       "\\item 'native\\_occupation'\n",
       "\\item 'north\\_american\\_occupation'\n",
       "\\item 'organization\\_affiliations'\n",
       "\\item 'year\\_immigration'\n",
       "\\item 'cultural\\_heritage'\n",
       "\\item 'point\\_of\\_entry'\n",
       "\\item 'point\\_of\\_departure'\n",
       "\\item 'stayed\\_north\\_america'\n",
       "\\item 'author\\_generation'\n",
       "\\item 'image\\_filename'\n",
       "\\item 'thumbnail\\_filename'\n",
       "\\item 'display\\_thumbnail'\n",
       "\\item 'wwritten'\n",
       "\\item 'wsent'\n",
       "\\item 'marriagestatus'\n",
       "\\item 'maternalstatus'\n",
       "\\end{enumerate*}\n"
      ],
      "text/markdown": [
       "1. 'docsequence'\n",
       "2. 'docid'\n",
       "3. 'sourceid'\n",
       "4. 'docauthorid'\n",
       "5. 'doctitle'\n",
       "6. 'docyear'\n",
       "7. 'docmonth'\n",
       "8. 'docday'\n",
       "9. 'docpage'\n",
       "10. 'doctype'\n",
       "11. 'docabbr'\n",
       "12. 'allsubject'\n",
       "13. 'subjname'\n",
       "14. 'organization'\n",
       "15. 'titlesubj'\n",
       "16. 'topicsubj'\n",
       "17. 'broadsubj'\n",
       "18. 'geographic'\n",
       "19. 'historical'\n",
       "20. 'personalevent'\n",
       "21. 'agewriting'\n",
       "22. 'publisher'\n",
       "23. 'sourcetitle'\n",
       "24. 'editor'\n",
       "25. 'sourcemedium'\n",
       "26. 'language'\n",
       "27. 'pubyear'\n",
       "28. 'pubplace'\n",
       "29. 'journal'\n",
       "30. 'jcitation'\n",
       "31. 'spages'\n",
       "32. 'ecitation'\n",
       "33. 'mslocation'\n",
       "34. 'sourcetype'\n",
       "35. 'docauthorname'\n",
       "36. 'allauthorforms'\n",
       "37. 'briefname'\n",
       "38. 'authrace'\n",
       "39. 'religion'\n",
       "40. 'nationality'\n",
       "41. 'birthyear'\n",
       "42. 'birthmonth'\n",
       "43. 'birthday'\n",
       "44. 'deathyear'\n",
       "45. 'deathmonth'\n",
       "46. 'deathday'\n",
       "47. 'birthplace'\n",
       "48. 'deathplace'\n",
       "49. 'scopyright'\n",
       "50. 'aspcopyright'\n",
       "51. 'mscopyright'\n",
       "52. 'schoolattend'\n",
       "53. 'educlevel'\n",
       "54. 'audience'\n",
       "55. 'authorgender'\n",
       "56. 'native_occupation'\n",
       "57. 'north_american_occupation'\n",
       "58. 'organization_affiliations'\n",
       "59. 'year_immigration'\n",
       "60. 'cultural_heritage'\n",
       "61. 'point_of_entry'\n",
       "62. 'point_of_departure'\n",
       "63. 'stayed_north_america'\n",
       "64. 'author_generation'\n",
       "65. 'image_filename'\n",
       "66. 'thumbnail_filename'\n",
       "67. 'display_thumbnail'\n",
       "68. 'wwritten'\n",
       "69. 'wsent'\n",
       "70. 'marriagestatus'\n",
       "71. 'maternalstatus'\n",
       "\n",
       "\n"
      ],
      "text/plain": [
       " [1] \"docsequence\"               \"docid\"                    \n",
       " [3] \"sourceid\"                  \"docauthorid\"              \n",
       " [5] \"doctitle\"                  \"docyear\"                  \n",
       " [7] \"docmonth\"                  \"docday\"                   \n",
       " [9] \"docpage\"                   \"doctype\"                  \n",
       "[11] \"docabbr\"                   \"allsubject\"               \n",
       "[13] \"subjname\"                  \"organization\"             \n",
       "[15] \"titlesubj\"                 \"topicsubj\"                \n",
       "[17] \"broadsubj\"                 \"geographic\"               \n",
       "[19] \"historical\"                \"personalevent\"            \n",
       "[21] \"agewriting\"                \"publisher\"                \n",
       "[23] \"sourcetitle\"               \"editor\"                   \n",
       "[25] \"sourcemedium\"              \"language\"                 \n",
       "[27] \"pubyear\"                   \"pubplace\"                 \n",
       "[29] \"journal\"                   \"jcitation\"                \n",
       "[31] \"spages\"                    \"ecitation\"                \n",
       "[33] \"mslocation\"                \"sourcetype\"               \n",
       "[35] \"docauthorname\"             \"allauthorforms\"           \n",
       "[37] \"briefname\"                 \"authrace\"                 \n",
       "[39] \"religion\"                  \"nationality\"              \n",
       "[41] \"birthyear\"                 \"birthmonth\"               \n",
       "[43] \"birthday\"                  \"deathyear\"                \n",
       "[45] \"deathmonth\"                \"deathday\"                 \n",
       "[47] \"birthplace\"                \"deathplace\"               \n",
       "[49] \"scopyright\"                \"aspcopyright\"             \n",
       "[51] \"mscopyright\"               \"schoolattend\"             \n",
       "[53] \"educlevel\"                 \"audience\"                 \n",
       "[55] \"authorgender\"              \"native_occupation\"        \n",
       "[57] \"north_american_occupation\" \"organization_affiliations\"\n",
       "[59] \"year_immigration\"          \"cultural_heritage\"        \n",
       "[61] \"point_of_entry\"            \"point_of_departure\"       \n",
       "[63] \"stayed_north_america\"      \"author_generation\"        \n",
       "[65] \"image_filename\"            \"thumbnail_filename\"       \n",
       "[67] \"display_thumbnail\"         \"wwritten\"                 \n",
       "[69] \"wsent\"                     \"marriagestatus\"           \n",
       "[71] \"maternalstatus\"           "
      ]
     },
     "metadata": {},
     "output_type": "display_data"
    }
   ],
   "source": [
    "# Data\n",
    "docData <- factorize(read.csv(\"IMLD_DOCS_QA completed.csv\")) # Put csv into a dataframe called docData\n",
    "\n",
    "# Variabe Names\n",
    "colnames(docData) # Get an overview of the dataframe"
   ]
  },
  {
   "cell_type": "markdown",
   "id": "d75e4cac",
   "metadata": {},
   "source": [
    "## Subset"
   ]
  },
  {
   "cell_type": "code",
   "execution_count": 4,
   "id": "299d9455",
   "metadata": {},
   "outputs": [
    {
     "data": {
      "text/html": [
       "1032"
      ],
      "text/latex": [
       "1032"
      ],
      "text/markdown": [
       "1032"
      ],
      "text/plain": [
       "[1] 1032"
      ]
     },
     "metadata": {},
     "output_type": "display_data"
    }
   ],
   "source": [
    "letters <- docData %>% #put docData into dataframe\n",
    "filter(doctype == \"Letter\") %>% # Decision 1\n",
    "filter(language == \"English\") %>% # Decision 2\n",
    "filter(is.na(docyear) | docyear < 1914) %>% # Decision 3\n",
    "filter(grepl(\"United States\", wwritten) | \n",
    "       grepl(\"Canada\", wwritten) | \n",
    "       grepl(\"England\", wwritten) | \n",
    "       grepl(\"Scotland\", wwritten) |\n",
    "       grepl(\"Ireland\", wwritten) |\n",
    "       grepl(\"Wales\", wwritten) |\n",
    "       grepl(\"Australia\", wwritten)|\n",
    "       grepl(\"New Zealand\", wwritten)) # Decision 4\n",
    "\n",
    "sum(nrow(letters))"
   ]
  },
  {
   "cell_type": "code",
   "execution_count": 5,
   "id": "4f1017cf",
   "metadata": {},
   "outputs": [
    {
     "data": {
      "image/png": "[encoded data removed]",
      "text/plain": [
       "plot without title"
      ]
     },
     "metadata": {
      "image/png": {
       "height": 420,
       "width": 420
      }
     },
     "output_type": "display_data"
    },
    {
     "data": {
      "image/png": "[encoded data removed]",
      "text/plain": [
       "Plot with title “Histogram of letters$docyear”"
      ]
     },
     "metadata": {
      "image/png": {
       "height": 420,
       "width": 420
      }
     },
     "output_type": "display_data"
    }
   ],
   "source": [
    "# New variable for author location\n",
    "letters$authorLocation <- as.character(letters$wwritten)\n",
    "\n",
    "#Recode Canada\n",
    "rows = which(grepl('Canada', letters$authorLocation)) # Get rows that meet condition\n",
    "letters$authorLocation[rows] <- \"Canada\" # Recode data\n",
    "\n",
    "#Recode United States\n",
    "rows = which(grepl('United States', letters$authorLocation)) # Get rows that meet condition\n",
    "letters$authorLocation[rows] <- \"USA\" # Recode data\n",
    "\n",
    "#Recode England\n",
    "rows = which(grepl('England', letters$authorLocation)) # Get rows that meet condition\n",
    "letters$authorLocation[rows] <- \"England\" # Recode data\n",
    "\n",
    "#Recode Scotland\n",
    "rows = which(grepl('Scotland', letters$authorLocation)) # Get rows that meet condition\n",
    "letters$authorLocation[rows] <- \"Scotland\" # Recode data\n",
    "\n",
    "#Recode Ireland\n",
    "rows = which(grepl('Ireland', letters$authorLocation)) # Get rows that meet condition\n",
    "letters$authorLocation[rows] <- \"Ireland\" # Recode data\n",
    "\n",
    "#Recode Wales\n",
    "rows = which(grepl('Wales', letters$authorLocation)) # Get rows that meet condition\n",
    "letters$authorLocation[rows] <- \"Wales\" # Recode data\n",
    "\n",
    "#Recode Australia\n",
    "rows = which(grepl('Australia', letters$authorLocation)) # Get rows that meet condition\n",
    "letters$authorLocation[rows] <- \"Australia\" # Recode data\n",
    "\n",
    "#Recode New Zealand\n",
    "rows = which(grepl('New Zealand', letters$authorLocation)) # Get rows that meet condition\n",
    "letters$authorLocation[rows] <- \"New Zealand\" # Recode data\n",
    "\n",
    "# Convert character vars to factor\n",
    "letters$authorLocation <- as.factor(letters$authorLocation)\n",
    "\n",
    "#Check counts\n",
    "\n",
    "plot(letters$authorLocation)\n",
    "hist(letters$docyear)"
   ]
  },
  {
   "cell_type": "code",
   "execution_count": 6,
   "id": "ceabf646",
   "metadata": {},
   "outputs": [
    {
     "data": {
      "text/plain": [
       "\n",
       "Australia    Canada   England   Ireland  Scotland       USA     Wales \n",
       "        3       435        38         1         3       551         1 "
      ]
     },
     "metadata": {},
     "output_type": "display_data"
    }
   ],
   "source": [
    "table(letters$authorLocation)"
   ]
  },
  {
   "cell_type": "markdown",
   "id": "9c8a2083",
   "metadata": {},
   "source": [
    "## Save subset"
   ]
  },
  {
   "cell_type": "code",
   "execution_count": 7,
   "id": "ac050389",
   "metadata": {},
   "outputs": [],
   "source": [
    "write.csv(letters, \n",
    "          \"20230209_AM_PhD-NaildohSubset.csv\", \n",
    "          row.names=FALSE)"
   ]
  },
  {
   "cell_type": "code",
   "execution_count": 8,
   "id": "a18a4f4e",
   "metadata": {},
   "outputs": [
    {
     "name": "stdout",
     "output_type": "stream",
     "text": [
      "Rows: 1,032\n",
      "Columns: 72\n",
      "$ docsequence               \u001b[3m\u001b[90m<int>\u001b[39m\u001b[23m 2, 4, 5, 6, 7, 8, 9, 10, 11, 12, 13, 14, 15,…\n",
      "$ docid                     \u001b[3m\u001b[90m<fct>\u001b[39m\u001b[23m S1019-D002, S1019-D004, S1019-D005, S1019-D0…\n",
      "$ sourceid                  \u001b[3m\u001b[90m<fct>\u001b[39m\u001b[23m S1019, S1019, S1019, S1019, S1019, S1019, S1…\n",
      "$ docauthorid               \u001b[3m\u001b[90m<fct>\u001b[39m\u001b[23m per0001043, per0001043, per0001043, per00010…\n",
      "$ doctitle                  \u001b[3m\u001b[90m<fct>\u001b[39m\u001b[23m \"Letter from Sister Blandina Segale to Siste…\n",
      "$ docyear                   \u001b[3m\u001b[90m<int>\u001b[39m\u001b[23m 1872, 1872, 1872, 1872, 1873, 1873, 1873, 18…\n",
      "$ docmonth                  \u001b[3m\u001b[90m<int>\u001b[39m\u001b[23m 11, 12, 12, 12, 3, 7, 9, 6, 11, 6, 9, 12, 1,…\n",
      "$ docday                    \u001b[3m\u001b[90m<int>\u001b[39m\u001b[23m 30, 6, 10, 21, 1, NA, NA, 30, 14, NA, NA, 16…\n",
      "$ docpage                   \u001b[3m\u001b[90m<fct>\u001b[39m\u001b[23m \"3-10\", \"13-22\", \"22-29\", \"29-37\", \"37-44\", …\n",
      "$ doctype                   \u001b[3m\u001b[90m<fct>\u001b[39m\u001b[23m Letter, Letter, Letter, Letter, Letter, Lett…\n",
      "$ docabbr                   \u001b[3m\u001b[90m<fct>\u001b[39m\u001b[23m S1019-D002, S1019-D004, S1019-D005, S1019-D0…\n",
      "$ allsubject                \u001b[3m\u001b[90m<fct>\u001b[39m\u001b[23m \"Clergy; Missionaries; Students; Travel; Rel…\n",
      "$ subjname                  \u001b[3m\u001b[90m<fct>\u001b[39m\u001b[23m \"\", \"\", \"\", \"\", \"\", \"\", \"\", \"\", \"\", \"\", \"Bon…\n",
      "$ organization              \u001b[3m\u001b[90m<fct>\u001b[39m\u001b[23m \"\", \"\", \"\", \"\", \"\", \"\", \"\", \"\", \"\", \"\", \"\", …\n",
      "$ titlesubj                 \u001b[3m\u001b[90m<fct>\u001b[39m\u001b[23m , , , , , , , , , , , , , , , , , , , , , , …\n",
      "$ topicsubj                 \u001b[3m\u001b[90m<fct>\u001b[39m\u001b[23m \"Clergy; Missionaries; Students; Travel\", \"M…\n",
      "$ broadsubj                 \u001b[3m\u001b[90m<fct>\u001b[39m\u001b[23m Religion; Education; Entertainment and recre…\n",
      "$ geographic                \u001b[3m\u001b[90m<fct>\u001b[39m\u001b[23m \"\", \"\", \"\", \"\", \"\", \"\", \"\", \"\", \"\", \"\", \"\", …\n",
      "$ historical                \u001b[3m\u001b[90m<fct>\u001b[39m\u001b[23m \"\", \"\", \"\", \"\", \"\", \"\", \"\", \"\", \"\", \"\", \"\", …\n",
      "$ personalevent             \u001b[3m\u001b[90m<fct>\u001b[39m\u001b[23m , , , , , , , , , , , , , , , , , , , , , , …\n",
      "$ agewriting                \u001b[3m\u001b[90m<int>\u001b[39m\u001b[23m 22, 22, 22, 22, 23, 23, 23, 24, 24, 26, 26, …\n",
      "$ publisher                 \u001b[3m\u001b[90m<fct>\u001b[39m\u001b[23m \"Columbian Press\", \"Columbian Press\", \"Colum…\n",
      "$ sourcetitle               \u001b[3m\u001b[90m<fct>\u001b[39m\u001b[23m \"At the End of the Santa Fe Trail\", \"At the …\n",
      "$ editor                    \u001b[3m\u001b[90m<fct>\u001b[39m\u001b[23m \"\", \"\", \"\", \"\", \"\", \"\", \"\", \"\", \"\", \"\", \"\", …\n",
      "$ sourcemedium              \u001b[3m\u001b[90m<fct>\u001b[39m\u001b[23m Text, Text, Text, Text, Text, Text, Text, Te…\n",
      "$ language                  \u001b[3m\u001b[90m<fct>\u001b[39m\u001b[23m English, English, English, English, English,…\n",
      "$ pubyear                   \u001b[3m\u001b[90m<int>\u001b[39m\u001b[23m 1932, 1932, 1932, 1932, 1932, 1932, 1932, 19…\n",
      "$ pubplace                  \u001b[3m\u001b[90m<fct>\u001b[39m\u001b[23m \"Columbus, OH\", \"Columbus, OH\", \"Columbus, O…\n",
      "$ journal                   \u001b[3m\u001b[90m<fct>\u001b[39m\u001b[23m \"\", \"\", \"\", \"\", \"\", \"\", \"\", \"\", \"\", \"\", \"\", …\n",
      "$ jcitation                 \u001b[3m\u001b[90m<fct>\u001b[39m\u001b[23m \"\", \"\", \"\", \"\", \"\", \"\", \"\", \"\", \"\", \"\", \"\", …\n",
      "$ spages                    \u001b[3m\u001b[90m<int>\u001b[39m\u001b[23m 347, 347, 347, 347, 347, 347, 347, 347, 347,…\n",
      "$ ecitation                 \u001b[3m\u001b[90m<fct>\u001b[39m\u001b[23m yes, yes, yes, yes, yes, yes, yes, yes, yes,…\n",
      "$ mslocation                \u001b[3m\u001b[90m<fct>\u001b[39m\u001b[23m \"\", \"\", \"\", \"\", \"\", \"\", \"\", \"\", \"\", \"\", \"\", …\n",
      "$ sourcetype                \u001b[3m\u001b[90m<fct>\u001b[39m\u001b[23m Book, Book, Book, Book, Book, Book, Book, Bo…\n",
      "$ docauthorname             \u001b[3m\u001b[90m<fct>\u001b[39m\u001b[23m \"Segale, Sister Blandina, 1850-1941\", \"Segal…\n",
      "$ allauthorforms            \u001b[3m\u001b[90m<fct>\u001b[39m\u001b[23m \"Segale, Sister Blandina, 1850-1941; Segale,…\n",
      "$ briefname                 \u001b[3m\u001b[90m<fct>\u001b[39m\u001b[23m \"Sister Blandina Segale\", \"Sister Blandina S…\n",
      "$ authrace                  \u001b[3m\u001b[90m<fct>\u001b[39m\u001b[23m White, White, White, White, White, White, Wh…\n",
      "$ religion                  \u001b[3m\u001b[90m<fct>\u001b[39m\u001b[23m Catholic; Christian, Catholic; Christian, Ca…\n",
      "$ nationality               \u001b[3m\u001b[90m<fct>\u001b[39m\u001b[23m American, American, American, American, Amer…\n",
      "$ birthyear                 \u001b[3m\u001b[90m<int>\u001b[39m\u001b[23m 1850, 1850, 1850, 1850, 1850, 1850, 1850, 18…\n",
      "$ birthmonth                \u001b[3m\u001b[90m<int>\u001b[39m\u001b[23m NA, NA, NA, NA, NA, NA, NA, NA, NA, NA, NA, …\n",
      "$ birthday                  \u001b[3m\u001b[90m<int>\u001b[39m\u001b[23m NA, NA, NA, NA, NA, NA, NA, NA, NA, NA, NA, …\n",
      "$ deathyear                 \u001b[3m\u001b[90m<int>\u001b[39m\u001b[23m 1941, 1941, 1941, 1941, 1941, 1941, 1941, 19…\n",
      "$ deathmonth                \u001b[3m\u001b[90m<int>\u001b[39m\u001b[23m 2, 2, 2, 2, 2, 2, 2, 2, 2, 2, 2, 2, 2, 2, 2,…\n",
      "$ deathday                  \u001b[3m\u001b[90m<int>\u001b[39m\u001b[23m 12, 12, 12, 12, 12, 12, 12, 12, 12, 12, 12, …\n",
      "$ birthplace                \u001b[3m\u001b[90m<fct>\u001b[39m\u001b[23m \"Cicagna, Liguria, Italy; Liguria, Italy; It…\n",
      "$ deathplace                \u001b[3m\u001b[90m<fct>\u001b[39m\u001b[23m \"Cincinnati, OH; Ohio; United States; East N…\n",
      "$ scopyright                \u001b[3m\u001b[90m<fct>\u001b[39m\u001b[23m \"\", \"\", \"\", \"\", \"\", \"\", \"\", \"\", \"\", \"\", \"\", …\n",
      "$ aspcopyright              \u001b[3m\u001b[90m<fct>\u001b[39m\u001b[23m \"Copyright © 2003, Alexander Street Press LL…\n",
      "$ mscopyright               \u001b[3m\u001b[90m<fct>\u001b[39m\u001b[23m \"\", \"\", \"\", \"\", \"\", \"\", \"\", \"\", \"\", \"\", \"\", …\n",
      "$ schoolattend              \u001b[3m\u001b[90m<fct>\u001b[39m\u001b[23m \"Not indicated\", \"Not indicated\", \"Not indic…\n",
      "$ educlevel                 \u001b[3m\u001b[90m<fct>\u001b[39m\u001b[23m Not indicated, Not indicated, Not indicated,…\n",
      "$ audience                  \u001b[3m\u001b[90m<fct>\u001b[39m\u001b[23m All, All, All, All, All, All, All, All, All,…\n",
      "$ authorgender              \u001b[3m\u001b[90m<fct>\u001b[39m\u001b[23m F, F, F, F, F, F, F, F, F, F, F, F, F, F, F,…\n",
      "$ native_occupation         \u001b[3m\u001b[90m<fct>\u001b[39m\u001b[23m , , , , , , , , , , , , , , , , , , , , , , …\n",
      "$ north_american_occupation \u001b[3m\u001b[90m<fct>\u001b[39m\u001b[23m Nun; Social worker; Teacher, Nun; Social wor…\n",
      "$ organization_affiliations \u001b[3m\u001b[90m<fct>\u001b[39m\u001b[23m \"Sisters of Charity of Cincinnati, Ohio\", \"S…\n",
      "$ year_immigration          \u001b[3m\u001b[90m<int>\u001b[39m\u001b[23m NA, NA, NA, NA, NA, NA, NA, NA, NA, NA, NA, …\n",
      "$ cultural_heritage         \u001b[3m\u001b[90m<fct>\u001b[39m\u001b[23m Italian; European, Italian; European, Italia…\n",
      "$ point_of_entry            \u001b[3m\u001b[90m<fct>\u001b[39m\u001b[23m \"\", \"\", \"\", \"\", \"\", \"\", \"\", \"\", \"\", \"\", \"\", …\n",
      "$ point_of_departure        \u001b[3m\u001b[90m<fct>\u001b[39m\u001b[23m \"\", \"\", \"\", \"\", \"\", \"\", \"\", \"\", \"\", \"\", \"\", …\n",
      "$ stayed_north_america      \u001b[3m\u001b[90m<fct>\u001b[39m\u001b[23m Yes, Yes, Yes, Yes, Yes, Yes, Yes, Yes, Yes,…\n",
      "$ author_generation         \u001b[3m\u001b[90m<fct>\u001b[39m\u001b[23m First, First, First, First, First, First, Fi…\n",
      "$ image_filename            \u001b[3m\u001b[90m<fct>\u001b[39m\u001b[23m , , , , , , , , , , , , , , , , , , , , , , …\n",
      "$ thumbnail_filename        \u001b[3m\u001b[90m<fct>\u001b[39m\u001b[23m , , , , , , , , , , , , , , , , , , , , , , …\n",
      "$ display_thumbnail         \u001b[3m\u001b[90m<fct>\u001b[39m\u001b[23m , , , , , , , , , , , , , , , , , , , , , , …\n",
      "$ wwritten                  \u001b[3m\u001b[90m<fct>\u001b[39m\u001b[23m \"Ohio; United States; East North Central Sta…\n",
      "$ wsent                     \u001b[3m\u001b[90m<fct>\u001b[39m\u001b[23m \"Not indicated\", \"Not indicated\", \"Not indic…\n",
      "$ marriagestatus            \u001b[3m\u001b[90m<fct>\u001b[39m\u001b[23m Single, Single, Single, Single, Single, Sing…\n",
      "$ maternalstatus            \u001b[3m\u001b[90m<fct>\u001b[39m\u001b[23m Childless, Childless, Childless, Childless, …\n",
      "$ authorLocation            \u001b[3m\u001b[90m<fct>\u001b[39m\u001b[23m USA, USA, USA, USA, USA, USA, USA, USA, USA,…\n"
     ]
    }
   ],
   "source": [
    "glimpse(letters)"
   ]
  }
 ],
 "metadata": {
  "kernelspec": {
   "display_name": "R",
   "language": "R",
   "name": "ir"
  },
  "language_info": {
   "codemirror_mode": "r",
   "file_extension": ".r",
   "mimetype": "text/x-r-source",
   "name": "R",
   "pygments_lexer": "r",
   "version": "4.1.0"
  }
 },
 "nbformat": 4,
 "nbformat_minor": 5
}
