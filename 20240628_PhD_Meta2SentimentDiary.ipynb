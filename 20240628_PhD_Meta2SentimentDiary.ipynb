{
 "cells": [
  {
   "cell_type": "markdown",
   "metadata": {},
   "source": [
    "# Merge Datasets"
   ]
  },
  {
   "cell_type": "markdown",
   "metadata": {},
   "source": [
    "<h2>Packages</h2>"
   ]
  },
  {
   "cell_type": "code",
   "execution_count": 4,
   "metadata": {},
   "outputs": [],
   "source": [
    "library(tidyverse)"
   ]
  },
  {
   "cell_type": "markdown",
   "metadata": {},
   "source": [
    "<h2>Functions</h2>"
   ]
  },
  {
   "cell_type": "code",
   "execution_count": 5,
   "metadata": {},
   "outputs": [],
   "source": [
    "# Converts all factors to character class\n",
    "unfactorize <- function(df){\n",
    "  for(i in which(sapply(df, class) == \"factor\")) df[[i]] = as.character(df[[i]])\n",
    "  return(df)\n",
    "}"
   ]
  },
  {
   "cell_type": "code",
   "execution_count": 6,
   "metadata": {},
   "outputs": [],
   "source": [
    "# Converts character to factor class\n",
    "factorize <- function(df){\n",
    "  for(i in which(sapply(df, class) == \"character\")) df[[i]] = as.factor(df[[i]])\n",
    "  return(df)\n",
    "}"
   ]
  },
  {
   "cell_type": "markdown",
   "metadata": {},
   "source": [
    "<h2>Data</h2>"
   ]
  },
  {
   "cell_type": "code",
   "execution_count": 11,
   "metadata": {},
   "outputs": [
    {
     "name": "stderr",
     "output_type": "stream",
     "text": [
      "Warning message in read.table(file = file, header = header, sep = sep, quote = quote, :\n",
      "“incomplete final line found by readTableHeader on '20240628_PhD_Diaries.csv'”\n"
     ]
    },
    {
     "name": "stdout",
     "output_type": "stream",
     "text": [
      "Rows: 4\n",
      "Columns: 18\n",
      "$ docid          \u001b[3m\u001b[90m<chr>\u001b[39m\u001b[23m \"D0002\", \"D0003\", \"D0007\", \"D0009\"\n",
      "$ docyear        \u001b[3m\u001b[90m<int>\u001b[39m\u001b[23m 1883, 1858, 1865, 1871\n",
      "$ docmonth       \u001b[3m\u001b[90m<lgl>\u001b[39m\u001b[23m NA, NA, NA, NA\n",
      "$ authorName     \u001b[3m\u001b[90m<chr>\u001b[39m\u001b[23m \"Anne F. Richards\", \"Henry H. Adams\", \"John Hart\", \"Edi…\n",
      "$ docauthorid    \u001b[3m\u001b[90m<chr>\u001b[39m\u001b[23m \"D0002\", \"D0003\", \"D0007\", \"D0009\"\n",
      "$ authorLocation \u001b[3m\u001b[90m<chr>\u001b[39m\u001b[23m \"Australia\", \"Australia\", \"Australia\", \"Australia\"\n",
      "$ authorGender   \u001b[3m\u001b[90m<chr>\u001b[39m\u001b[23m \"F\", \"M\", \"M\", \"F\"\n",
      "$ nationalOrigin \u001b[3m\u001b[90m<chr>\u001b[39m\u001b[23m \"English\", NA, \"English\", \"English\"\n",
      "$ irish          \u001b[3m\u001b[90m<lgl>\u001b[39m\u001b[23m FALSE, NA, FALSE, FALSE\n",
      "$ otherUK        \u001b[3m\u001b[90m<lgl>\u001b[39m\u001b[23m TRUE, NA, TRUE, TRUE\n",
      "$ relMin         \u001b[3m\u001b[90m<lgl>\u001b[39m\u001b[23m FALSE, FALSE, FALSE, FALSE\n",
      "$ catholic       \u001b[3m\u001b[90m<lgl>\u001b[39m\u001b[23m FALSE, FALSE, FALSE, FALSE\n",
      "$ otherChristian \u001b[3m\u001b[90m<lgl>\u001b[39m\u001b[23m TRUE, TRUE, TRUE, TRUE\n",
      "$ U              \u001b[3m\u001b[90m<lgl>\u001b[39m\u001b[23m FALSE, FALSE, TRUE, TRUE\n",
      "$ M              \u001b[3m\u001b[90m<lgl>\u001b[39m\u001b[23m TRUE, FALSE, TRUE, FALSE\n",
      "$ S              \u001b[3m\u001b[90m<lgl>\u001b[39m\u001b[23m FALSE, FALSE, FALSE, FALSE\n",
      "$ F              \u001b[3m\u001b[90m<lgl>\u001b[39m\u001b[23m TRUE, FALSE, TRUE, FALSE\n",
      "$ L              \u001b[3m\u001b[90m<lgl>\u001b[39m\u001b[23m FALSE, TRUE, FALSE, FALSE\n"
     ]
    }
   ],
   "source": [
    "# Load data related to authors and documents (metadata)\n",
    "dfMeta <- unfactorize(read.csv(\"20240628_PhD_Diaries.csv\"))\n",
    "# Order rows by value in docid\n",
    "dfMeta <- dfMeta[order(dfMeta$docid, decreasing = FALSE), ]\n",
    "glimpse(dfMeta)"
   ]
  },
  {
   "cell_type": "code",
   "execution_count": 12,
   "metadata": {},
   "outputs": [],
   "source": [
    "# Column names\n",
    "#names(dfMeta)"
   ]
  },
  {
   "cell_type": "code",
   "execution_count": 14,
   "metadata": {},
   "outputs": [
    {
     "name": "stdout",
     "output_type": "stream",
     "text": [
      "Rows: 4\n",
      "Columns: 9\n",
      "$ text             \u001b[3m\u001b[90m<chr>\u001b[39m\u001b[23m \"Charra Wednesday Nov 4th 1883 A nice cool day Mrs Ro…\n",
      "$ docid            \u001b[3m\u001b[90m<chr>\u001b[39m\u001b[23m \"D0002\", \"D0003\", \"D0007\", \"D0009\"\n",
      "$ totalTokens      \u001b[3m\u001b[90m<int>\u001b[39m\u001b[23m 81551, 19635, 54919, 28146\n",
      "$ uniqueTokens     \u001b[3m\u001b[90m<int>\u001b[39m\u001b[23m 6885, 1939, 6332, 5644\n",
      "$ lexicalDiversity \u001b[3m\u001b[90m<dbl>\u001b[39m\u001b[23m 0.08442570, 0.09875223, 0.11529707, 0.20052583\n",
      "$ scoreNeg         \u001b[3m\u001b[90m<dbl>\u001b[39m\u001b[23m 0.05703855, 0.02814008, 0.05047711, 0.03900746\n",
      "$ scoreNeu         \u001b[3m\u001b[90m<dbl>\u001b[39m\u001b[23m 0.8936699, 0.9166144, 0.8967719, 0.9102920\n",
      "$ scorePos         \u001b[3m\u001b[90m<dbl>\u001b[39m\u001b[23m 0.04931566, 0.05386269, 0.05274381, 0.05068750\n",
      "$ scoreCom         \u001b[3m\u001b[90m<dbl>\u001b[39m\u001b[23m -0.17875711, 0.07031789, -0.01703646, 0.02562369\n"
     ]
    }
   ],
   "source": [
    "# Load data related to authors and documents (metadata)\n",
    "dfNarrative <- unfactorize(read.csv(\"20240628_PhD_SentimentDiaries.csv\"))[-1]\n",
    "# Strip .txt from docids in DfNarrative\n",
    "dfNarrative$docid <- gsub(\".txt\",\"\", dfNarrative$docid)\n",
    "glimpse(dfNarrative)"
   ]
  },
  {
   "cell_type": "code",
   "execution_count": 15,
   "metadata": {
    "scrolled": true
   },
   "outputs": [
    {
     "data": {
      "text/html": [
       "TRUE"
      ],
      "text/latex": [
       "TRUE"
      ],
      "text/markdown": [
       "TRUE"
      ],
      "text/plain": [
       "[1] TRUE"
      ]
     },
     "metadata": {},
     "output_type": "display_data"
    }
   ],
   "source": [
    "# Are the values identical\n",
    "identical(dfMeta$docid,dfNarrative$docid)"
   ]
  },
  {
   "cell_type": "code",
   "execution_count": 16,
   "metadata": {},
   "outputs": [],
   "source": [
    "#Merge datasets\n",
    "df <- right_join(dfMeta, dfNarrative, by = 'docid')\n",
    "#glimpse(df)\n",
    "# df[1, c(\"docid\", \"text\")]"
   ]
  },
  {
   "cell_type": "code",
   "execution_count": 17,
   "metadata": {},
   "outputs": [],
   "source": [
    "# Convert variables to factor\n",
    "vars  <- c(\"docauthorid\", \"authorName\", \"docid\", \"authorGender\", \"nationalOrigin\", \"authorLocation\")\n",
    "df[vars]  <- factorize(df[vars])"
   ]
  },
  {
   "cell_type": "code",
   "execution_count": 18,
   "metadata": {
    "scrolled": true
   },
   "outputs": [
    {
     "name": "stdout",
     "output_type": "stream",
     "text": [
      "Rows: 4\n",
      "Columns: 26\n",
      "$ docid            \u001b[3m\u001b[90m<fct>\u001b[39m\u001b[23m D0002, D0003, D0007, D0009\n",
      "$ docyear          \u001b[3m\u001b[90m<int>\u001b[39m\u001b[23m 1883, 1858, 1865, 1871\n",
      "$ docmonth         \u001b[3m\u001b[90m<lgl>\u001b[39m\u001b[23m NA, NA, NA, NA\n",
      "$ authorName       \u001b[3m\u001b[90m<fct>\u001b[39m\u001b[23m Anne F. Richards, Henry H. Adams, John Hart, Edith C.…\n",
      "$ docauthorid      \u001b[3m\u001b[90m<fct>\u001b[39m\u001b[23m D0002, D0003, D0007, D0009\n",
      "$ authorLocation   \u001b[3m\u001b[90m<fct>\u001b[39m\u001b[23m Australia, Australia, Australia, Australia\n",
      "$ authorGender     \u001b[3m\u001b[90m<fct>\u001b[39m\u001b[23m F, M, M, F\n",
      "$ nationalOrigin   \u001b[3m\u001b[90m<fct>\u001b[39m\u001b[23m English, NA, English, English\n",
      "$ irish            \u001b[3m\u001b[90m<lgl>\u001b[39m\u001b[23m FALSE, NA, FALSE, FALSE\n",
      "$ otherUK          \u001b[3m\u001b[90m<lgl>\u001b[39m\u001b[23m TRUE, NA, TRUE, TRUE\n",
      "$ relMin           \u001b[3m\u001b[90m<lgl>\u001b[39m\u001b[23m FALSE, FALSE, FALSE, FALSE\n",
      "$ catholic         \u001b[3m\u001b[90m<lgl>\u001b[39m\u001b[23m FALSE, FALSE, FALSE, FALSE\n",
      "$ otherChristian   \u001b[3m\u001b[90m<lgl>\u001b[39m\u001b[23m TRUE, TRUE, TRUE, TRUE\n",
      "$ U                \u001b[3m\u001b[90m<lgl>\u001b[39m\u001b[23m FALSE, FALSE, TRUE, TRUE\n",
      "$ M                \u001b[3m\u001b[90m<lgl>\u001b[39m\u001b[23m TRUE, FALSE, TRUE, FALSE\n",
      "$ S                \u001b[3m\u001b[90m<lgl>\u001b[39m\u001b[23m FALSE, FALSE, FALSE, FALSE\n",
      "$ F                \u001b[3m\u001b[90m<lgl>\u001b[39m\u001b[23m TRUE, FALSE, TRUE, FALSE\n",
      "$ L                \u001b[3m\u001b[90m<lgl>\u001b[39m\u001b[23m FALSE, TRUE, FALSE, FALSE\n",
      "$ text             \u001b[3m\u001b[90m<chr>\u001b[39m\u001b[23m \"Charra Wednesday Nov 4th 1883 A nice cool day Mrs Ro…\n",
      "$ totalTokens      \u001b[3m\u001b[90m<int>\u001b[39m\u001b[23m 81551, 19635, 54919, 28146\n",
      "$ uniqueTokens     \u001b[3m\u001b[90m<int>\u001b[39m\u001b[23m 6885, 1939, 6332, 5644\n",
      "$ lexicalDiversity \u001b[3m\u001b[90m<dbl>\u001b[39m\u001b[23m 0.08442570, 0.09875223, 0.11529707, 0.20052583\n",
      "$ scoreNeg         \u001b[3m\u001b[90m<dbl>\u001b[39m\u001b[23m 0.05703855, 0.02814008, 0.05047711, 0.03900746\n",
      "$ scoreNeu         \u001b[3m\u001b[90m<dbl>\u001b[39m\u001b[23m 0.8936699, 0.9166144, 0.8967719, 0.9102920\n",
      "$ scorePos         \u001b[3m\u001b[90m<dbl>\u001b[39m\u001b[23m 0.04931566, 0.05386269, 0.05274381, 0.05068750\n",
      "$ scoreCom         \u001b[3m\u001b[90m<dbl>\u001b[39m\u001b[23m -0.17875711, 0.07031789, -0.01703646, 0.02562369\n"
     ]
    }
   ],
   "source": [
    "# Check classes\n",
    "# lapply(df, class)\n",
    "# summary(df)\n",
    "glimpse(df) "
   ]
  },
  {
   "cell_type": "code",
   "execution_count": 19,
   "metadata": {},
   "outputs": [],
   "source": [
    "write.csv(df, \"20240628_PhD_Data4TopicModel-Diary.csv\")"
   ]
  }
 ],
 "metadata": {
  "kernelspec": {
   "display_name": "R",
   "language": "R",
   "name": "ir"
  },
  "language_info": {
   "codemirror_mode": "r",
   "file_extension": ".r",
   "mimetype": "text/x-r-source",
   "name": "R",
   "pygments_lexer": "r",
   "version": "4.4.0"
  }
 },
 "nbformat": 4,
 "nbformat_minor": 2
}
