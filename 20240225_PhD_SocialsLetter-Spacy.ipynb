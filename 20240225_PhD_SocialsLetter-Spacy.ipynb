{
 "cells": [
  {
   "cell_type": "markdown",
   "metadata": {},
   "source": [
    "## NER Letter Spacy"
   ]
  },
  {
   "cell_type": "markdown",
   "metadata": {},
   "source": [
    "## Resources"
   ]
  },
  {
   "cell_type": "code",
   "execution_count": 1,
   "metadata": {},
   "outputs": [],
   "source": [
    "import spacy\n",
    "import pandas as pd\n",
    "from collections import Counter"
   ]
  },
  {
   "cell_type": "code",
   "execution_count": 2,
   "metadata": {},
   "outputs": [],
   "source": [
    "nlp = spacy.load(\"en_core_web_md\")"
   ]
  },
  {
   "cell_type": "markdown",
   "metadata": {},
   "source": [
    "## Get Data"
   ]
  },
  {
   "cell_type": "code",
   "execution_count": 3,
   "metadata": {
    "scrolled": true
   },
   "outputs": [
    {
     "name": "stdout",
     "output_type": "stream",
     "text": [
      "<class 'pandas.core.frame.DataFrame'>\n",
      "Int64Index: 576 entries, 0 to 575\n",
      "Data columns (total 31 columns):\n",
      " #   Column            Non-Null Count  Dtype  \n",
      "---  ------            --------------  -----  \n",
      " 0   docID-AT          576 non-null    int64  \n",
      " 1   docauthorid       576 non-null    object \n",
      " 2   docauthorname     576 non-null    object \n",
      " 3   docid             576 non-null    object \n",
      " 4   sourcetitle       576 non-null    object \n",
      " 5   docyear           573 non-null    float64\n",
      " 6   docmonth          519 non-null    float64\n",
      " 7   docday            474 non-null    float64\n",
      " 8   authorgender      576 non-null    object \n",
      " 9   agewriting        460 non-null    float64\n",
      " 10  birthyear         463 non-null    float64\n",
      " 11  deathyear         449 non-null    float64\n",
      " 12  religionNew       450 non-null    object \n",
      " 13  relMin            474 non-null    object \n",
      " 14  nationalOrigin    575 non-null    object \n",
      " 15  britishEmpire_EU  573 non-null    object \n",
      " 16  translated        576 non-null    bool   \n",
      " 17  authorLocation    576 non-null    object \n",
      " 18  socialClass       513 non-null    object \n",
      " 19  A                 513 non-null    object \n",
      " 20  I                 513 non-null    object \n",
      " 21  CCP               513 non-null    object \n",
      " 22  Unknown           513 non-null    object \n",
      " 23  wageLabour        513 non-null    object \n",
      " 24  publicLetter      16 non-null     object \n",
      " 25  text              576 non-null    object \n",
      " 26  scoreNeg          576 non-null    float64\n",
      " 27  scorePos          576 non-null    float64\n",
      " 28  scoreNeu          576 non-null    float64\n",
      " 29  scoreCompound     576 non-null    float64\n",
      " 30  topicNumber       576 non-null    int64  \n",
      "dtypes: bool(1), float64(10), int64(2), object(18)\n",
      "memory usage: 140.1+ KB\n"
     ]
    }
   ],
   "source": [
    "# Sentence Data\n",
    "df = pd.read_csv(\"20240222_PhD_Data4NER-Letter.csv\", index_col=0) \n",
    "df.info()"
   ]
  },
  {
   "cell_type": "code",
   "execution_count": 4,
   "metadata": {},
   "outputs": [
    {
     "data": {
      "text/plain": [
       "' TRINIDAD On Train from Steubenville, Ohio, to Cincinnati. Nov 30, 1872. My Darling Sister Justina: How interestedly you, Sister M Louis and myself read Eugénie de Guérin\\'s Journal and her daily anxieties to save her brother from being a spiritual outcast! This Journal which I propose keeping for you will deal with incidents occurring on my journey to Trinidad and happenings in that far-off land to which I am consigned. The Journal will begin with the first act. Here is Mother Josephine\\'s letter: Mt St Vincent, O, Nov 27, 1872. Sister Blandina, Steubenville, O My Dear Child: You are missioned to Trinidad. You will leave Cincinnati Wednesday and alone. Mother Regina will attend to your needs. Devotedly, Mother Josephine. This letter thrilled us both. I was delighted to make the sacrifice, and you were hiding your feelings that I might not lose any merit. Neither of us could find Trinidad on the map except in the island of Cuba. So we concluded that Cuba was my destination. I was to leave Steubenville quietly so that none of my obstreperous pupils might cause the incoming teacher annoyance. Hence I went to Sunday catechetical class as usual 2:00 P M I was to take the 3:00 P M train for Cincinnati. I said to my hopefuls, \"Instead of catechism, I\\'m going to tell you an Indian story to-day.\" The schoolhouse roof was not disturbed, though the hurrahs were loud enough! The moral of the story was \"Indian Endurance.\" Dismissed them at two-thirty without one word of goodbye except the daily one. You remember how surprised I was to see a crowd at the station to wish me \"Godspeed\"; I thought I was to slip away without anyone\\'s knowledge except our own. Mr Tait and Mr McCann wished to speak to me alone. Both had been in the West. \"You will have a long travel on the plains,\" they said, \"before you reach Trinidad.\" \"Where is Trinidad?\" \"A little mining town in Southwestern Colorado.\" So then I knew my destination, which, of course I would have been told at Mt St Vincent. Both gentlemen said they had traveled on the plains on the Santa Fe Trail, and they seemed to have made it a matter of conscience to inform me on the subject of cowboys. This in substance was their conversation with me: \"Sister, you may be snow-bound while on the plains.\" I looked my assent, I knew I could not stop the snow. \"Travelers are sometimes snow-bound for two weeks, and you are alone. This, though, is not the greatest danger to you.\" Mentally I was wishing both gentlemen somewhere else. \"Your real danger is from cowboys.\" I looked at the speakers. \"You do not seem to grasp our meaning. No virtuous woman is safe near a cowboy.\" Both gave up trying to make me understand what they considered danger. Why should snow or cowboys frighten me any more than others who will be traveling the same way! So you see, dearest, I\\'m not going to so long a distance as we thought. At three o\\'clock A M the baggage checker came through our coach. I looked to see how much the pocketbook contained just twenty-five cents. If I used it to ride to the Good Samaritan I\\'d be minus the fare to Mt St Vincent, so I made up my mind to skirt around from the Little Miami to the Good Samaritan Hospital. At four A M I rang the front doorbell no response. I sat on the stone steps and waited till I heard the rising bell, then I waited another fifteen minutes when again I rang the doorbell. Sister Anthony came. \"Why, child, where did you come from; how did you get here? I\\'m sure you are cold.\" I said I came from Steubenville. \"Oh, yes! dear Father Bigelow died there. He was good to this hospital. Last year he sent a barge of coal to us.\" I said he was good to anyone in need. He died possessed of three dollars and fifty cents. His hand was always open to any kind of distress. I did not mention to Sister Anthony that I walked from the Little Miami Station. After Mass, breakfast and miles of sympathy and \"God Bless You\" from the Sisters at the Good Samaritan, one of the nurses accompanied me to Fifth and Vine Streets, where I was to take \"Barney\\'s Bus\" for Mt St Vincent. The bus was to leave at ten A M I waited till three P M then asked one of the clerks if he thought Mr McCabe would run the bus that day. \"I fear no bus will run to-day. There is an epidemic epizootic among the horses.\" I asked if Mr Segale\\'s place of business was anywhere near. He pointed to Wood\\'s Theater and I started to the place indicated. Brother Henry managed to find a \"hack\" to send me to Mt St Vincent. On the way, between the first ascent of the hill and the Seminary, I met Sisters Gabriella and Delphina walking in the slush and cold on their way to the Orphan Asylum. I stopped to take them in. They returned with me to Cedar Grove, from there the driver was to take them to the Asylum in Cumminsville. Sister Gabriella said to me, \"I would gladly go where you are going instead of shouldering this heavy burden.\" Sister is to be mother to three hundred orphans, taking Sister Sophia\\'s place. The Sisters are showing great sympathy. I heard Sister Benedicta say, \"She does not mind going so far and alone I\\'ve not seen her shed a tear.\" Nor will you, my dear Sister. The tears will flow where none but He and myself will know. Still, I\\'m delighted to go. I did not tell you, dearest, that one year ago last November I wrote to Mother Regina saying I envied the sacrifices the Sisters were making who were sent far away to do God\\'s work. I\\'ve received my answer with compound interest. You know that up to date the Sisters going on distant missions were consulted and none were sent who had parents living. I am pleased that that record is broken in my case. Mother Regina told me to spend a day at home. Dear Lord! Give me strength. I anticipate a scene. I spent Wednesday, December 5th, at our old homestead. Mother kept open house all day. Friends came in groups. Mr Leverone and bride, his mother and the bride\\'s mother, Mrs Garibaldi, the Misses Gardelli and a host of others. Mrs Garibaldi threatened to take off my habit. I said, \"Hands off! Have you any right to detain Mary if John wishes to take her to California?\" \"Oh, that is different.\" \"Yes, as different as heaven and earth. I have chosen my portion, Mary has chosen hers, each abides by her choice.\" John Leverone\\'s mother acted most sensibly all day. She was soothing oil to all the protests made to my going. Our dear mother kept quiet. When we were permitted a lone interview she asked, \"Do you want one of your sisters to accompany you?\" I answered, \"I prefer to do just as my superiors have told me.\" \"Well, then I will give you a thousand-dollar check so that in case you desire to return you will have the wherewith.\" \"No, no, dear mother, I fully realize the responsibilities I assumed. As you are aware, I realized them from the first day I entered the Novitiate.\" Mother replied: \"And I want to tell you I never doubted your vocation. I agree to your sacrifice, my dear child, keep on serving God, I will never interfere. Now that I have your explicit answer, friends cannot urge any logical reason to prevent your going.\" All day the visitors reminded me of a disturbed ant hill. When mother and I were alone she spoke the Genoese dialect. It was like hearing sketches of a favorite opera. Wednesday at 2:00 P M I went to visit our Ecclesiastical Superior. The Most Rev J B Purcell offered me several gifts. But St Francis Xavier is my patron, so I\\'m not going to possess any superfluous article, I only regret I could not pass our home without going in, as St Francis Xavier did. If I aim high I surely must reach some upper strata of detachment in His service. One thing I take with me, the impressive blessing given me by His Grace, part of which rings clear \"May angels guard your every step.\" He was extremely sympathetic at my having to go alone. I went to confession to Rev Dr Callaghan. You may recall how we enjoyed his lecture on the \"School Question\" delivered in Steubenville. After mother had a short interview with me, father managed to see me alone. He took hold of me and asked, \"Have I ever denied you anything?\" I signified no. \"You have never disobeyed me in your life?\" I assented. \"Now I command you you must not go on this far away mission! Are you going?\" \"Yes, father.\" He let go the hold on my arm and walked toward the door. Not without my seeing his tears falling fast. He did not realize his hold on my arm gave me pain not to speak of the heart-pain for him. In the railway station at St Louis between train time, I got off to purchase a pair of arctics. I saw several Italian women selling fruit. One of them had a daughter standing near. I asked the mother if she would permit her daughter to accompany me to the shoe store, which was in sight. The mother looked at me earnestly then said to her neighbor peddler, \"How do I know who she is, she looks like a monica (sister) but she might be a strega (witch).\" I thanked the true guardian of her daughter and went to make my purchase alone. I spoke English to the peddler. If good Sister Benedicta who thought I did not mind because I did not cry had seen me during the greater part of last night she would but too truly have said, \"That heart is human in every fiber.\" That I succeeded in dignifiedly getting away from home is Thy Grace, oh, my God! Forty-two persons accompanied me to the train, among them friends of old, but my purpose never faltered, not even in shadow. Such tactics as I executed yesterday! I see one trait strong in me, the straight service of God. Not the father whom I had never seen cry, nor the most patient, dearest mother whose heart is crushed at my being sent alone, much less the friends who used every argument to make me say I would not go could elicit the faintest trace that I was not more pleased at my going alone than if I had had a dozen with me. Sisters Antonia and Gonzaga came to the waiting room. I asked the company to permit me an interview with the Sisters. When going toward them, one of my dear old friends said, \"Look, we cannot doubt she is happy.\" This was not intended for my hearing, the noise caused the speaker to raise her voice. Sister Antonia asked me how I had spent the day. I narrated some incidents. \"I\\'m an ancient religious, but I could not have gone through the ordeal as creditably as you did.\" What if I had mentioned all the heart sighs I had witnessed! When it was time to board the train I asked that my last interview be with my mother. Cannot you picture her sad, endearing look of appreciation? I\\'ll skip the last talk with mother some of it was in silence. '"
      ]
     },
     "execution_count": 4,
     "metadata": {},
     "output_type": "execute_result"
    }
   ],
   "source": [
    "# Place narratives into a list representing the corpus\n",
    "texts = df.text.values.tolist()\n",
    "texts[0]"
   ]
  },
  {
   "cell_type": "code",
   "execution_count": 5,
   "metadata": {},
   "outputs": [
    {
     "name": "stdout",
     "output_type": "stream",
     "text": [
      "Number of mentions: 38 \n",
      "\n",
      "{'Darling Sister': 1, 'Justina': 1, \"Mother Josephine's\": 1, 'Sister Blandina': 1, 'Mother Regina': 3, 'Tait': 1, 'McCann': 1, 'Sister Anthony': 2, 'Bigelow': 1, 'McCabe': 1, 'Segale': 1, 'Henry': 1, 'Seminary': 1, 'Sisters Gabriella': 1, 'Gabriella': 1, \"Sister Sophia's\": 1, 'Benedicta': 1, 'Leverone': 1, 'Garibaldi': 2, 'Gardelli': 1, 'Mary': 2, 'John': 1, \"John Leverone's\": 1, 'Genoese': 1, 'St Francis Xavier': 1, 'Grace': 2, 'Rev Dr Callaghan': 1, 'monica': 1, 'Sister Benedicta': 1, 'Sisters Antonia': 1, 'Gonzaga': 1, 'Sister Antonia': 1} \n",
      "\n",
      "Number of individuals: 32 \n",
      "\n",
      "Individuals: {'Genoese', 'Sisters Gabriella', 'Gonzaga', 'McCabe', 'Rev Dr Callaghan', 'St Francis Xavier', 'Sister Antonia', 'McCann', 'Sisters Antonia', 'Justina', 'monica', \"Mother Josephine's\", 'Sister Anthony', 'Sister Benedicta', 'Henry', 'John', \"John Leverone's\", 'Gabriella', 'Garibaldi', 'Leverone', 'Bigelow', 'Seminary', 'Gardelli', 'Tait', 'Benedicta', 'Mary', 'Mother Regina', 'Grace', 'Segale', 'Darling Sister', \"Sister Sophia's\", 'Sister Blandina'} \n",
      "\n"
     ]
    }
   ],
   "source": [
    "# Test on first item\n",
    "item = texts[0]\n",
    "\n",
    "# Run the language model on the 1st narrative\n",
    "narrative = nlp(item)\n",
    "\n",
    "# Find the mentions to people in the narrative\n",
    "\n",
    "for ent in narrative.ents:\n",
    "\n",
    "    mentions = [ent.text for ent in narrative.ents if ent.label_ == 'PERSON']\n",
    "        \n",
    "    counts = {}\n",
    "    for person in mentions:\n",
    "        counts[person] = counts.get(person, 0) + 1\n",
    "    \n",
    "    individuals = set(mentions)\n",
    "    \n",
    "print(\"Number of mentions:\", len(mentions), \"\\n\")\n",
    "print(counts, \"\\n\")    \n",
    "print(\"Number of individuals:\", len(individuals), \"\\n\")\n",
    "print(\"Individuals:\", individuals, \"\\n\")    \n",
    "    "
   ]
  },
  {
   "cell_type": "code",
   "execution_count": 6,
   "metadata": {},
   "outputs": [
    {
     "name": "stdout",
     "output_type": "stream",
     "text": [
      "576\n",
      "576\n",
      "576\n",
      "38\n",
      "32\n",
      "{'Darling Sister': 1, 'Justina': 1, \"Mother Josephine's\": 1, 'Sister Blandina': 1, 'Mother Regina': 3, 'Tait': 1, 'McCann': 1, 'Sister Anthony': 2, 'Bigelow': 1, 'McCabe': 1, 'Segale': 1, 'Henry': 1, 'Seminary': 1, 'Sisters Gabriella': 1, 'Gabriella': 1, \"Sister Sophia's\": 1, 'Benedicta': 1, 'Leverone': 1, 'Garibaldi': 2, 'Gardelli': 1, 'Mary': 2, 'John': 1, \"John Leverone's\": 1, 'Genoese': 1, 'St Francis Xavier': 1, 'Grace': 2, 'Rev Dr Callaghan': 1, 'monica': 1, 'Sister Benedicta': 1, 'Sisters Antonia': 1, 'Gonzaga': 1, 'Sister Antonia': 1}\n"
     ]
    }
   ],
   "source": [
    "mentsTot = []\n",
    "mentsDis = []\n",
    "indsTot = []\n",
    "\n",
    "for item in texts:\n",
    "\n",
    "# Run the language model on the 1st narrative\n",
    "    narrative = nlp(item)\n",
    "\n",
    "# Find the mentions to people in the narrative\n",
    "\n",
    "    for ent in narrative.ents:\n",
    "\n",
    "        mentions = [ent.text for ent in narrative.ents if ent.label_ == 'PERSON']\n",
    "        \n",
    "        counts = {}\n",
    "        for person in mentions:\n",
    "            counts[person] = counts.get(person, 0) + 1\n",
    "    \n",
    "        individuals = set(mentions)\n",
    "    \n",
    "    mentsTot.append(len(mentions))\n",
    "    mentsDis.append(counts)\n",
    "    indsTot.append(len(individuals))\n",
    "    \n",
    "                   \n",
    "print(len(mentsTot)) \n",
    "print(len(indsTot))\n",
    "print(len(mentsDis))\n",
    "\n",
    "print(mentsTot[0]) \n",
    "print(indsTot[0])\n",
    "print(mentsDis[0])\n"
   ]
  },
  {
   "cell_type": "markdown",
   "metadata": {},
   "source": [
    "Now for 1st person singular pronounds, subjective only per Tackman, A. M., Sbarra, D. A., Carey, A. L., Donnellan, M. B., Horn, A. B., Holtzman, N. S., Edwards, T. S., Pennebaker, J. W., & Mehl, M. R. (2019). Depression, Negative Emotionality, and Self-Referential Language: A Multi-Lab, Multi-Measure, and Multi-Language-Task Research Synthesis. Journal of Personality and Social Psychology, 116(5), 817–834. https://doi.org/10.1037/pspp0000187.\n"
   ]
  },
  {
   "cell_type": "code",
   "execution_count": 7,
   "metadata": {},
   "outputs": [
    {
     "data": {
      "text/plain": [
       "['I ',\n",
       " \"I'm \",\n",
       " \"I've \",\n",
       " \"I'll \",\n",
       " \"I'd \",\n",
       " ' me ',\n",
       " ' myself ',\n",
       " 'my ',\n",
       " 'My',\n",
       " 'mine']"
      ]
     },
     "execution_count": 7,
     "metadata": {},
     "output_type": "execute_result"
    }
   ],
   "source": [
    "pronounsAll = [\"I \", \"I'm \", \"I've \", \"I'll \", \"I'd \", \" me \", \" myself \", \"my \", \"My\", \"mine\"]\n",
    "pronounsAll"
   ]
  },
  {
   "cell_type": "code",
   "execution_count": 8,
   "metadata": {},
   "outputs": [
    {
     "data": {
      "text/plain": [
       "['I ', \"I'm \", \"I've \", \"I'll \", \"I'd \"]"
      ]
     },
     "execution_count": 8,
     "metadata": {},
     "output_type": "execute_result"
    }
   ],
   "source": [
    "pronounSub = [\"I \", \"I'm \", \"I've \", \"I'll \", \"I'd \"]\n",
    "pronounSub"
   ]
  },
  {
   "cell_type": "code",
   "execution_count": 9,
   "metadata": {},
   "outputs": [
    {
     "name": "stdout",
     "output_type": "stream",
     "text": [
      " TRINIDAD On Train from Steubenville, Ohio, to Cincinnati. Nov 30, 1872. My Darling Sister Justina: How interestedly you, Sister M Louis and myself read Eugénie de Guérin's Journal and her daily anxieties to save her brother from being a spiritual outcast! This Journal which I propose keeping for you will deal with incidents occurring on my journey to Trinidad and happenings in that far-off land to which I am consigned. The Journal will begin with the first act. Here is Mother Josephine's letter: Mt St Vincent, O, Nov 27, 1872. Sister Blandina, Steubenville, O My Dear Child: You are missioned to Trinidad. You will leave Cincinnati Wednesday and alone. Mother Regina will attend to your needs. Devotedly, Mother Josephine. This letter thrilled us both. I was delighted to make the sacrifice, and you were hiding your feelings that I might not lose any merit. Neither of us could find Trinidad on the map except in the island of Cuba. So we concluded that Cuba was my destination. I was to leave Steubenville quietly so that none of my obstreperous pupils might cause the incoming teacher annoyance. Hence I went to Sunday catechetical class as usual 2:00 P M I was to take the 3:00 P M train for Cincinnati. I said to my hopefuls, \"Instead of catechism, I'm going to tell you an Indian story to-day.\" The schoolhouse roof was not disturbed, though the hurrahs were loud enough! The moral of the story was \"Indian Endurance.\" Dismissed them at two-thirty without one word of goodbye except the daily one. You remember how surprised I was to see a crowd at the station to wish me \"Godspeed\"; I thought I was to slip away without anyone's knowledge except our own. Mr Tait and Mr McCann wished to speak to me alone. Both had been in the West. \"You will have a long travel on the plains,\" they said, \"before you reach Trinidad.\" \"Where is Trinidad?\" \"A little mining town in Southwestern Colorado.\" So then I knew my destination, which, of course I would have been told at Mt St Vincent. Both gentlemen said they had traveled on the plains on the Santa Fe Trail, and they seemed to have made it a matter of conscience to inform me on the subject of cowboys. This in substance was their conversation with me: \"Sister, you may be snow-bound while on the plains.\" I looked my assent, I knew I could not stop the snow. \"Travelers are sometimes snow-bound for two weeks, and you are alone. This, though, is not the greatest danger to you.\" Mentally I was wishing both gentlemen somewhere else. \"Your real danger is from cowboys.\" I looked at the speakers. \"You do not seem to grasp our meaning. No virtuous woman is safe near a cowboy.\" Both gave up trying to make me understand what they considered danger. Why should snow or cowboys frighten me any more than others who will be traveling the same way! So you see, dearest, I'm not going to so long a distance as we thought. At three o'clock A M the baggage checker came through our coach. I looked to see how much the pocketbook contained just twenty-five cents. If I used it to ride to the Good Samaritan I'd be minus the fare to Mt St Vincent, so I made up my mind to skirt around from the Little Miami to the Good Samaritan Hospital. At four A M I rang the front doorbell no response. I sat on the stone steps and waited till I heard the rising bell, then I waited another fifteen minutes when again I rang the doorbell. Sister Anthony came. \"Why, child, where did you come from; how did you get here? I'm sure you are cold.\" I said I came from Steubenville. \"Oh, yes! dear Father Bigelow died there. He was good to this hospital. Last year he sent a barge of coal to us.\" I said he was good to anyone in need. He died possessed of three dollars and fifty cents. His hand was always open to any kind of distress. I did not mention to Sister Anthony that I walked from the Little Miami Station. After Mass, breakfast and miles of sympathy and \"God Bless You\" from the Sisters at the Good Samaritan, one of the nurses accompanied me to Fifth and Vine Streets, where I was to take \"Barney's Bus\" for Mt St Vincent. The bus was to leave at ten A M I waited till three P M then asked one of the clerks if he thought Mr McCabe would run the bus that day. \"I fear no bus will run to-day. There is an epidemic epizootic among the horses.\" I asked if Mr Segale's place of business was anywhere near. He pointed to Wood's Theater and I started to the place indicated. Brother Henry managed to find a \"hack\" to send me to Mt St Vincent. On the way, between the first ascent of the hill and the Seminary, I met Sisters Gabriella and Delphina walking in the slush and cold on their way to the Orphan Asylum. I stopped to take them in. They returned with me to Cedar Grove, from there the driver was to take them to the Asylum in Cumminsville. Sister Gabriella said to me, \"I would gladly go where you are going instead of shouldering this heavy burden.\" Sister is to be mother to three hundred orphans, taking Sister Sophia's place. The Sisters are showing great sympathy. I heard Sister Benedicta say, \"She does not mind going so far and alone I've not seen her shed a tear.\" Nor will you, my dear Sister. The tears will flow where none but He and myself will know. Still, I'm delighted to go. I did not tell you, dearest, that one year ago last November I wrote to Mother Regina saying I envied the sacrifices the Sisters were making who were sent far away to do God's work. I've received my answer with compound interest. You know that up to date the Sisters going on distant missions were consulted and none were sent who had parents living. I am pleased that that record is broken in my case. Mother Regina told me to spend a day at home. Dear Lord! Give me strength. I anticipate a scene. I spent Wednesday, December 5th, at our old homestead. Mother kept open house all day. Friends came in groups. Mr Leverone and bride, his mother and the bride's mother, Mrs Garibaldi, the Misses Gardelli and a host of others. Mrs Garibaldi threatened to take off my habit. I said, \"Hands off! Have you any right to detain Mary if John wishes to take her to California?\" \"Oh, that is different.\" \"Yes, as different as heaven and earth. I have chosen my portion, Mary has chosen hers, each abides by her choice.\" John Leverone's mother acted most sensibly all day. She was soothing oil to all the protests made to my going. Our dear mother kept quiet. When we were permitted a lone interview she asked, \"Do you want one of your sisters to accompany you?\" I answered, \"I prefer to do just as my superiors have told me.\" \"Well, then I will give you a thousand-dollar check so that in case you desire to return you will have the wherewith.\" \"No, no, dear mother, I fully realize the responsibilities I assumed. As you are aware, I realized them from the first day I entered the Novitiate.\" Mother replied: \"And I want to tell you I never doubted your vocation. I agree to your sacrifice, my dear child, keep on serving God, I will never interfere. Now that I have your explicit answer, friends cannot urge any logical reason to prevent your going.\" All day the visitors reminded me of a disturbed ant hill. When mother and I were alone she spoke the Genoese dialect. It was like hearing sketches of a favorite opera. Wednesday at 2:00 P M I went to visit our Ecclesiastical Superior. The Most Rev J B Purcell offered me several gifts. But St Francis Xavier is my patron, so I'm not going to possess any superfluous article, I only regret I could not pass our home without going in, as St Francis Xavier did. If I aim high I surely must reach some upper strata of detachment in His service. One thing I take with me, the impressive blessing given me by His Grace, part of which rings clear \"May angels guard your every step.\" He was extremely sympathetic at my having to go alone. I went to confession to Rev Dr Callaghan. You may recall how we enjoyed his lecture on the \"School Question\" delivered in Steubenville. After mother had a short interview with me, father managed to see me alone. He took hold of me and asked, \"Have I ever denied you anything?\" I signified no. \"You have never disobeyed me in your life?\" I assented. \"Now I command you you must not go on this far away mission! Are you going?\" \"Yes, father.\" He let go the hold on my arm and walked toward the door. Not without my seeing his tears falling fast. He did not realize his hold on my arm gave me pain not to speak of the heart-pain for him. In the railway station at St Louis between train time, I got off to purchase a pair of arctics. I saw several Italian women selling fruit. One of them had a daughter standing near. I asked the mother if she would permit her daughter to accompany me to the shoe store, which was in sight. The mother looked at me earnestly then said to her neighbor peddler, \"How do I know who she is, she looks like a monica (sister) but she might be a strega (witch).\" I thanked the true guardian of her daughter and went to make my purchase alone. I spoke English to the peddler. If good Sister Benedicta who thought I did not mind because I did not cry had seen me during the greater part of last night she would but too truly have said, \"That heart is human in every fiber.\" That I succeeded in dignifiedly getting away from home is Thy Grace, oh, my God! Forty-two persons accompanied me to the train, among them friends of old, but my purpose never faltered, not even in shadow. Such tactics as I executed yesterday! I see one trait strong in me, the straight service of God. Not the father whom I had never seen cry, nor the most patient, dearest mother whose heart is crushed at my being sent alone, much less the friends who used every argument to make me say I would not go could elicit the faintest trace that I was not more pleased at my going alone than if I had had a dozen with me. Sisters Antonia and Gonzaga came to the waiting room. I asked the company to permit me an interview with the Sisters. When going toward them, one of my dear old friends said, \"Look, we cannot doubt she is happy.\" This was not intended for my hearing, the noise caused the speaker to raise her voice. Sister Antonia asked me how I had spent the day. I narrated some incidents. \"I'm an ancient religious, but I could not have gone through the ordeal as creditably as you did.\" What if I had mentioned all the heart sighs I had witnessed! When it was time to board the train I asked that my last interview be with my mother. Cannot you picture her sad, endearing look of appreciation? I'll skip the last talk with mother some of it was in silence. \n",
      "161\n"
     ]
    }
   ],
   "source": [
    "# Count on first one\n",
    "\n",
    "print(texts[0])\n",
    "\n",
    "Count = 0\n",
    "\n",
    "for i in pronounsAll:\n",
    "    Count = texts[0].count(i) + Count\n",
    "\n",
    "print(Count)"
   ]
  },
  {
   "cell_type": "code",
   "execution_count": 10,
   "metadata": {},
   "outputs": [
    {
     "name": "stdout",
     "output_type": "stream",
     "text": [
      "576\n",
      "161\n"
     ]
    }
   ],
   "source": [
    "# Now the rest\n",
    "\n",
    "fppAll_Ct = []\n",
    "\n",
    "for item in texts:\n",
    "    Count = 0\n",
    "    for i in pronounsAll:\n",
    "        #print(texts[0].count(i))\n",
    "        Count = item.count(i) + Count\n",
    "    \n",
    "    fppAll_Ct.append(Count)\n",
    "\n",
    "print(len(fppAll_Ct))\n",
    "print(fppAll_Ct[0])"
   ]
  },
  {
   "cell_type": "code",
   "execution_count": 11,
   "metadata": {},
   "outputs": [
    {
     "name": "stdout",
     "output_type": "stream",
     "text": [
      "576\n",
      "104\n"
     ]
    }
   ],
   "source": [
    "# Now just subjective pronouns\n",
    "\n",
    "fppSub_Ct = []\n",
    "\n",
    "for item in texts:\n",
    "    Count = 0\n",
    "    for i in pronounSub:\n",
    "        #print(texts[0].count(i))\n",
    "        Count = item.count(i) + Count\n",
    "    \n",
    "    fppSub_Ct.append(Count)\n",
    "\n",
    "print(len(fppSub_Ct))\n",
    "print(fppSub_Ct[0])"
   ]
  },
  {
   "cell_type": "code",
   "execution_count": 12,
   "metadata": {},
   "outputs": [
    {
     "name": "stdout",
     "output_type": "stream",
     "text": [
      "<class 'pandas.core.frame.DataFrame'>\n",
      "Int64Index: 576 entries, 0 to 575\n",
      "Data columns (total 36 columns):\n",
      " #   Column            Non-Null Count  Dtype  \n",
      "---  ------            --------------  -----  \n",
      " 0   docID-AT          576 non-null    int64  \n",
      " 1   docauthorid       576 non-null    object \n",
      " 2   docauthorname     576 non-null    object \n",
      " 3   docid             576 non-null    object \n",
      " 4   sourcetitle       576 non-null    object \n",
      " 5   docyear           573 non-null    float64\n",
      " 6   docmonth          519 non-null    float64\n",
      " 7   docday            474 non-null    float64\n",
      " 8   authorgender      576 non-null    object \n",
      " 9   agewriting        460 non-null    float64\n",
      " 10  birthyear         463 non-null    float64\n",
      " 11  deathyear         449 non-null    float64\n",
      " 12  religionNew       450 non-null    object \n",
      " 13  relMin            474 non-null    object \n",
      " 14  nationalOrigin    575 non-null    object \n",
      " 15  britishEmpire_EU  573 non-null    object \n",
      " 16  translated        576 non-null    bool   \n",
      " 17  authorLocation    576 non-null    object \n",
      " 18  socialClass       513 non-null    object \n",
      " 19  A                 513 non-null    object \n",
      " 20  I                 513 non-null    object \n",
      " 21  CCP               513 non-null    object \n",
      " 22  Unknown           513 non-null    object \n",
      " 23  wageLabour        513 non-null    object \n",
      " 24  publicLetter      16 non-null     object \n",
      " 25  text              576 non-null    object \n",
      " 26  scoreNeg          576 non-null    float64\n",
      " 27  scorePos          576 non-null    float64\n",
      " 28  scoreNeu          576 non-null    float64\n",
      " 29  scoreCompound     576 non-null    float64\n",
      " 30  topicNumber       576 non-null    int64  \n",
      " 31  mentsDis          576 non-null    object \n",
      " 32  mentsTot          576 non-null    int64  \n",
      " 33  indsTot           576 non-null    int64  \n",
      " 34  fppAll_Ct         576 non-null    int64  \n",
      " 35  fppSub_Ct         576 non-null    int64  \n",
      "dtypes: bool(1), float64(10), int64(6), object(19)\n",
      "memory usage: 162.6+ KB\n"
     ]
    }
   ],
   "source": [
    "df['mentsDis'] = [', '.join(x) for x in mentsDis]\n",
    "df['mentsTot'] = mentsTot\n",
    "df['indsTot'] = indsTot\n",
    "df['fppAll_Ct'] = fppAll_Ct\n",
    "df['fppSub_Ct'] = fppSub_Ct\n",
    "df.info()"
   ]
  },
  {
   "cell_type": "code",
   "execution_count": 13,
   "metadata": {},
   "outputs": [
    {
     "data": {
      "text/html": [
       "<div>\n",
       "<style scoped>\n",
       "    .dataframe tbody tr th:only-of-type {\n",
       "        vertical-align: middle;\n",
       "    }\n",
       "\n",
       "    .dataframe tbody tr th {\n",
       "        vertical-align: top;\n",
       "    }\n",
       "\n",
       "    .dataframe thead th {\n",
       "        text-align: right;\n",
       "    }\n",
       "</style>\n",
       "<table border=\"1\" class=\"dataframe\">\n",
       "  <thead>\n",
       "    <tr style=\"text-align: right;\">\n",
       "      <th></th>\n",
       "      <th>docID-AT</th>\n",
       "      <th>docauthorid</th>\n",
       "      <th>docauthorname</th>\n",
       "      <th>docid</th>\n",
       "      <th>sourcetitle</th>\n",
       "      <th>docyear</th>\n",
       "      <th>docmonth</th>\n",
       "      <th>docday</th>\n",
       "      <th>authorgender</th>\n",
       "      <th>agewriting</th>\n",
       "      <th>...</th>\n",
       "      <th>scoreNeg</th>\n",
       "      <th>scorePos</th>\n",
       "      <th>scoreNeu</th>\n",
       "      <th>scoreCompound</th>\n",
       "      <th>topicNumber</th>\n",
       "      <th>mentsDis</th>\n",
       "      <th>mentsTot</th>\n",
       "      <th>indsTot</th>\n",
       "      <th>fppAll_Ct</th>\n",
       "      <th>fppSub_Ct</th>\n",
       "    </tr>\n",
       "  </thead>\n",
       "  <tbody>\n",
       "    <tr>\n",
       "      <th>0</th>\n",
       "      <td>1</td>\n",
       "      <td>per0001043</td>\n",
       "      <td>Segale, Sister Blandina, 1850-1941</td>\n",
       "      <td>S1019-D002</td>\n",
       "      <td>At the End of the Santa Fe Trail</td>\n",
       "      <td>1872.0</td>\n",
       "      <td>11.0</td>\n",
       "      <td>30.0</td>\n",
       "      <td>F</td>\n",
       "      <td>22.0</td>\n",
       "      <td>...</td>\n",
       "      <td>0.051</td>\n",
       "      <td>0.131</td>\n",
       "      <td>0.818</td>\n",
       "      <td>0.9994</td>\n",
       "      <td>5</td>\n",
       "      <td>Darling Sister, Justina, Mother Josephine's, S...</td>\n",
       "      <td>38</td>\n",
       "      <td>32</td>\n",
       "      <td>161</td>\n",
       "      <td>104</td>\n",
       "    </tr>\n",
       "    <tr>\n",
       "      <th>1</th>\n",
       "      <td>2</td>\n",
       "      <td>per0001043</td>\n",
       "      <td>Segale, Sister Blandina, 1850-1941</td>\n",
       "      <td>S1019-D004</td>\n",
       "      <td>At the End of the Santa Fe Trail</td>\n",
       "      <td>1872.0</td>\n",
       "      <td>12.0</td>\n",
       "      <td>6.0</td>\n",
       "      <td>F</td>\n",
       "      <td>22.0</td>\n",
       "      <td>...</td>\n",
       "      <td>0.055</td>\n",
       "      <td>0.111</td>\n",
       "      <td>0.834</td>\n",
       "      <td>0.9993</td>\n",
       "      <td>1</td>\n",
       "      <td>Sisters, Mass, Sister Gabriella, Martha, Siste...</td>\n",
       "      <td>31</td>\n",
       "      <td>18</td>\n",
       "      <td>156</td>\n",
       "      <td>99</td>\n",
       "    </tr>\n",
       "    <tr>\n",
       "      <th>2</th>\n",
       "      <td>3</td>\n",
       "      <td>per0001043</td>\n",
       "      <td>Segale, Sister Blandina, 1850-1941</td>\n",
       "      <td>S1019-D005</td>\n",
       "      <td>At the End of the Santa Fe Trail</td>\n",
       "      <td>1872.0</td>\n",
       "      <td>12.0</td>\n",
       "      <td>10.0</td>\n",
       "      <td>F</td>\n",
       "      <td>22.0</td>\n",
       "      <td>...</td>\n",
       "      <td>0.056</td>\n",
       "      <td>0.101</td>\n",
       "      <td>0.843</td>\n",
       "      <td>0.9987</td>\n",
       "      <td>1</td>\n",
       "      <td>Kit Carson, Mrs Mullen, Seller, Otero, leastwi...</td>\n",
       "      <td>27</td>\n",
       "      <td>23</td>\n",
       "      <td>127</td>\n",
       "      <td>76</td>\n",
       "    </tr>\n",
       "    <tr>\n",
       "      <th>3</th>\n",
       "      <td>4</td>\n",
       "      <td>per0001043</td>\n",
       "      <td>Segale, Sister Blandina, 1850-1941</td>\n",
       "      <td>S1019-D006</td>\n",
       "      <td>At the End of the Santa Fe Trail</td>\n",
       "      <td>1872.0</td>\n",
       "      <td>12.0</td>\n",
       "      <td>21.0</td>\n",
       "      <td>F</td>\n",
       "      <td>22.0</td>\n",
       "      <td>...</td>\n",
       "      <td>0.061</td>\n",
       "      <td>0.099</td>\n",
       "      <td>0.840</td>\n",
       "      <td>0.9981</td>\n",
       "      <td>5</td>\n",
       "      <td>Ida Chené, Mrs Chené, Mass, Et introibo, Kyrie...</td>\n",
       "      <td>34</td>\n",
       "      <td>17</td>\n",
       "      <td>88</td>\n",
       "      <td>60</td>\n",
       "    </tr>\n",
       "    <tr>\n",
       "      <th>4</th>\n",
       "      <td>5</td>\n",
       "      <td>per0001043</td>\n",
       "      <td>Segale, Sister Blandina, 1850-1941</td>\n",
       "      <td>S1019-D007</td>\n",
       "      <td>At the End of the Santa Fe Trail</td>\n",
       "      <td>1873.0</td>\n",
       "      <td>3.0</td>\n",
       "      <td>1.0</td>\n",
       "      <td>F</td>\n",
       "      <td>23.0</td>\n",
       "      <td>...</td>\n",
       "      <td>0.071</td>\n",
       "      <td>0.081</td>\n",
       "      <td>0.848</td>\n",
       "      <td>0.9670</td>\n",
       "      <td>1</td>\n",
       "      <td>Sister Marcella, Bishop Salpointe, Sister Mart...</td>\n",
       "      <td>17</td>\n",
       "      <td>13</td>\n",
       "      <td>103</td>\n",
       "      <td>69</td>\n",
       "    </tr>\n",
       "  </tbody>\n",
       "</table>\n",
       "<p>5 rows × 36 columns</p>\n",
       "</div>"
      ],
      "text/plain": [
       "   docID-AT docauthorid                       docauthorname       docid  \\\n",
       "0         1  per0001043  Segale, Sister Blandina, 1850-1941  S1019-D002   \n",
       "1         2  per0001043  Segale, Sister Blandina, 1850-1941  S1019-D004   \n",
       "2         3  per0001043  Segale, Sister Blandina, 1850-1941  S1019-D005   \n",
       "3         4  per0001043  Segale, Sister Blandina, 1850-1941  S1019-D006   \n",
       "4         5  per0001043  Segale, Sister Blandina, 1850-1941  S1019-D007   \n",
       "\n",
       "                        sourcetitle  docyear  docmonth  docday authorgender  \\\n",
       "0  At the End of the Santa Fe Trail   1872.0      11.0    30.0            F   \n",
       "1  At the End of the Santa Fe Trail   1872.0      12.0     6.0            F   \n",
       "2  At the End of the Santa Fe Trail   1872.0      12.0    10.0            F   \n",
       "3  At the End of the Santa Fe Trail   1872.0      12.0    21.0            F   \n",
       "4  At the End of the Santa Fe Trail   1873.0       3.0     1.0            F   \n",
       "\n",
       "   agewriting  ...  scoreNeg  scorePos scoreNeu scoreCompound topicNumber  \\\n",
       "0        22.0  ...     0.051     0.131    0.818        0.9994           5   \n",
       "1        22.0  ...     0.055     0.111    0.834        0.9993           1   \n",
       "2        22.0  ...     0.056     0.101    0.843        0.9987           1   \n",
       "3        22.0  ...     0.061     0.099    0.840        0.9981           5   \n",
       "4        23.0  ...     0.071     0.081    0.848        0.9670           1   \n",
       "\n",
       "                                            mentsDis  mentsTot indsTot  \\\n",
       "0  Darling Sister, Justina, Mother Josephine's, S...        38      32   \n",
       "1  Sisters, Mass, Sister Gabriella, Martha, Siste...        31      18   \n",
       "2  Kit Carson, Mrs Mullen, Seller, Otero, leastwi...        27      23   \n",
       "3  Ida Chené, Mrs Chené, Mass, Et introibo, Kyrie...        34      17   \n",
       "4  Sister Marcella, Bishop Salpointe, Sister Mart...        17      13   \n",
       "\n",
       "  fppAll_Ct fppSub_Ct  \n",
       "0       161       104  \n",
       "1       156        99  \n",
       "2       127        76  \n",
       "3        88        60  \n",
       "4       103        69  \n",
       "\n",
       "[5 rows x 36 columns]"
      ]
     },
     "execution_count": 13,
     "metadata": {},
     "output_type": "execute_result"
    }
   ],
   "source": [
    "df.head()"
   ]
  },
  {
   "cell_type": "code",
   "execution_count": 15,
   "metadata": {},
   "outputs": [],
   "source": [
    "df.to_csv(\"20240225_PhD_FinalData-Letter.csv\")"
   ]
  }
 ],
 "metadata": {
  "kernelspec": {
   "display_name": "Python 3 (ipykernel)",
   "language": "python",
   "name": "python3"
  },
  "language_info": {
   "codemirror_mode": {
    "name": "ipython",
    "version": 3
   },
   "file_extension": ".py",
   "mimetype": "text/x-python",
   "name": "python",
   "nbconvert_exporter": "python",
   "pygments_lexer": "ipython3",
   "version": "3.9.5"
  }
 },
 "nbformat": 4,
 "nbformat_minor": 2
}
