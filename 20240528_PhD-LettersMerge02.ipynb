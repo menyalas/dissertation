{
 "cells": [
  {
   "cell_type": "markdown",
   "metadata": {},
   "source": [
    "# NAILDOH - IED Merge 2 (IED)"
   ]
  },
  {
   "cell_type": "markdown",
   "metadata": {},
   "source": [
    "## Resources"
   ]
  },
  {
   "cell_type": "code",
   "execution_count": 2,
   "metadata": {},
   "outputs": [],
   "source": [
    "# Libraries\n",
    "library(tidyverse) # for data manipulation\n",
    "\n",
    "# Functions\n",
    "factorize <- function(df){ # Create a function\n",
    "  for(i in which(sapply(df, class) == \"character\")) # that looks for variables with the character class \n",
    "      df[[i]] = as.factor(df[[i]]) # and converts them to factor (i.e., categorical) class\n",
    "  return(df)\n",
    "}\n",
    "\n",
    "unfactorize <- function(df){ # Create a function\n",
    "  for(i in which(sapply(df, class) == \"factor\")) # that looks for variables with the character class \n",
    "      df[[i]] = as.character(df[[i]]) # and converts them to factor (i.e., categorical) class\n",
    "  return(df)\n",
    "}"
   ]
  },
  {
   "cell_type": "markdown",
   "metadata": {},
   "source": [
    "## Prep IED"
   ]
  },
  {
   "cell_type": "code",
   "execution_count": 4,
   "metadata": {},
   "outputs": [
    {
     "data": {
      "text/html": [
       "<style>\n",
       ".list-inline {list-style: none; margin:0; padding: 0}\n",
       ".list-inline>li {display: inline-block}\n",
       ".list-inline>li:not(:last-child)::after {content: \"\\00b7\"; padding: 0 .5ex}\n",
       "</style>\n",
       "<ol class=list-inline><li>'docid'</li><li>'nationalOrigin'</li><li>'authorGender'</li><li>'relMin'</li><li>'U'</li><li>'M'</li><li>'S'</li><li>'F'</li><li>'L'</li><li>'docmonth'</li><li>'docyear'</li><li>'docauthorname'</li><li>'authorLocation'</li><li>'firstnames'</li><li>'docauthorid'</li></ol>\n"
      ],
      "text/latex": [
       "\\begin{enumerate*}\n",
       "\\item 'docid'\n",
       "\\item 'nationalOrigin'\n",
       "\\item 'authorGender'\n",
       "\\item 'relMin'\n",
       "\\item 'U'\n",
       "\\item 'M'\n",
       "\\item 'S'\n",
       "\\item 'F'\n",
       "\\item 'L'\n",
       "\\item 'docmonth'\n",
       "\\item 'docyear'\n",
       "\\item 'docauthorname'\n",
       "\\item 'authorLocation'\n",
       "\\item 'firstnames'\n",
       "\\item 'docauthorid'\n",
       "\\end{enumerate*}\n"
      ],
      "text/markdown": [
       "1. 'docid'\n",
       "2. 'nationalOrigin'\n",
       "3. 'authorGender'\n",
       "4. 'relMin'\n",
       "5. 'U'\n",
       "6. 'M'\n",
       "7. 'S'\n",
       "8. 'F'\n",
       "9. 'L'\n",
       "10. 'docmonth'\n",
       "11. 'docyear'\n",
       "12. 'docauthorname'\n",
       "13. 'authorLocation'\n",
       "14. 'firstnames'\n",
       "15. 'docauthorid'\n",
       "\n",
       "\n"
      ],
      "text/plain": [
       " [1] \"docid\"          \"nationalOrigin\" \"authorGender\"   \"relMin\"        \n",
       " [5] \"U\"              \"M\"              \"S\"              \"F\"             \n",
       " [9] \"L\"              \"docmonth\"       \"docyear\"        \"docauthorname\" \n",
       "[13] \"authorLocation\" \"firstnames\"     \"docauthorid\"   "
      ]
     },
     "metadata": {},
     "output_type": "display_data"
    },
    {
     "data": {
      "text/html": [
       "<style>\n",
       ".list-inline {list-style: none; margin:0; padding: 0}\n",
       ".list-inline>li {display: inline-block}\n",
       ".list-inline>li:not(:last-child)::after {content: \"\\00b7\"; padding: 0 .5ex}\n",
       "</style>\n",
       "<ol class=list-inline><li>253</li><li>15</li></ol>\n"
      ],
      "text/latex": [
       "\\begin{enumerate*}\n",
       "\\item 253\n",
       "\\item 15\n",
       "\\end{enumerate*}\n"
      ],
      "text/markdown": [
       "1. 253\n",
       "2. 15\n",
       "\n",
       "\n"
      ],
      "text/plain": [
       "[1] 253  15"
      ]
     },
     "metadata": {},
     "output_type": "display_data"
    },
    {
     "name": "stdout",
     "output_type": "stream",
     "text": [
      "Rows: 253\n",
      "Columns: 15\n",
      "$ docid          \u001b[3m\u001b[90m<int>\u001b[39m\u001b[23m 21062, 21324, 21334, 21470, 21549, 21561, 21737, 21759,…\n",
      "$ nationalOrigin \u001b[3m\u001b[90m<fct>\u001b[39m\u001b[23m Irish, Irish, Irish, Irish, Irish, Irish, Irish, Irish,…\n",
      "$ authorGender   \u001b[3m\u001b[90m<fct>\u001b[39m\u001b[23m F, F, F, F, F, F, F, F, F, F, F, F, F, F, F, F, F, F, F…\n",
      "$ relMin         \u001b[3m\u001b[90m<lgl>\u001b[39m\u001b[23m NA, NA, FALSE, NA, NA, NA, NA, NA, NA, NA, NA, NA, NA, …\n",
      "$ U              \u001b[3m\u001b[90m<lgl>\u001b[39m\u001b[23m NA, NA, NA, NA, NA, NA, NA, NA, NA, NA, NA, NA, NA, NA,…\n",
      "$ M              \u001b[3m\u001b[90m<lgl>\u001b[39m\u001b[23m NA, NA, NA, NA, NA, NA, NA, NA, NA, NA, NA, NA, NA, NA,…\n",
      "$ S              \u001b[3m\u001b[90m<lgl>\u001b[39m\u001b[23m NA, NA, NA, NA, NA, NA, NA, NA, NA, NA, NA, NA, NA, NA,…\n",
      "$ F              \u001b[3m\u001b[90m<lgl>\u001b[39m\u001b[23m NA, NA, NA, NA, NA, NA, NA, NA, NA, NA, NA, NA, NA, NA,…\n",
      "$ L              \u001b[3m\u001b[90m<lgl>\u001b[39m\u001b[23m NA, NA, FALSE, NA, NA, NA, NA, NA, NA, NA, NA, NA, NA, …\n",
      "$ docmonth       \u001b[3m\u001b[90m<int>\u001b[39m\u001b[23m 11, 5, 10, 3, 1, 9, 12, 4, 10, 5, 10, 11, 1, 12, 2, 10,…\n",
      "$ docyear        \u001b[3m\u001b[90m<int>\u001b[39m\u001b[23m 1871, 1892, 1891, 1800, 1839, 1838, 1844, 1880, 1888, 1…\n",
      "$ docauthorname  \u001b[3m\u001b[90m<fct>\u001b[39m\u001b[23m E. Rothwell, Isabella Weir Moore, Mary Savage, Aunt Dol…\n",
      "$ authorLocation \u001b[3m\u001b[90m<fct>\u001b[39m\u001b[23m Canada, USA, USA, USA, USA, USA, USA, USA, Canada, USA,…\n",
      "$ firstnames     \u001b[3m\u001b[90m<fct>\u001b[39m\u001b[23m E., Isabella, Mary, Aunt, Isabella, Isabella, Mary, Ros…\n",
      "$ docauthorid    \u001b[3m\u001b[90m<fct>\u001b[39m\u001b[23m IED0179, IED0107, IED0621, IED0099, IED0314, IED0314, I…\n"
     ]
    }
   ],
   "source": [
    "# Data\n",
    "df2 <- factorize(read.csv(\"20240603_PhD_IEDSubset.csv\")) # Put csv into a dataframe called docData\n",
    "colnames(df2) # Get an overview of the dataframe\n",
    "dim(df2)\n",
    "glimpse(df2)"
   ]
  },
  {
   "cell_type": "markdown",
   "metadata": {},
   "source": [
    "### Checking / correcting"
   ]
  },
  {
   "cell_type": "code",
   "execution_count": 71,
   "metadata": {},
   "outputs": [],
   "source": [
    "#df1[is.na(df1$docyear),]\n",
    "\n",
    "#df2[grepl(\"Sm.th\", df2$docauthorname),]\n",
    "\n",
    "#vals <- c(\"23950\")\n",
    "#df2[df2$docid %in% vals,]\n",
    "#df2 <- df2[!df2$docid %in% vals, ]\n",
    "\n",
    "#letters[letters$docauthorid==\"per0032629\",]\n",
    "#letters[is.na(letters$docyear),]"
   ]
  },
  {
   "cell_type": "markdown",
   "metadata": {},
   "source": [
    "### Creating new variables"
   ]
  },
  {
   "cell_type": "code",
   "execution_count": 18,
   "metadata": {},
   "outputs": [
    {
     "data": {
      "text/plain": [
       "   Mode   FALSE    NA's \n",
       "logical      10     243 "
      ]
     },
     "metadata": {},
     "output_type": "display_data"
    },
    {
     "data": {
      "text/html": [
       "<strong>Irish:</strong> 253"
      ],
      "text/latex": [
       "\\textbf{Irish:} 253"
      ],
      "text/markdown": [
       "**Irish:** 253"
      ],
      "text/plain": [
       "Irish \n",
       "  253 "
      ]
     },
     "metadata": {},
     "output_type": "display_data"
    }
   ],
   "source": [
    "summary(df2$relMin)\n",
    "summary(df2$nationalOrigin)"
   ]
  },
  {
   "cell_type": "code",
   "execution_count": 21,
   "metadata": {},
   "outputs": [
    {
     "data": {
      "text/plain": [
       "   Mode   FALSE    NA's \n",
       "logical      10     243 "
      ]
     },
     "metadata": {},
     "output_type": "display_data"
    },
    {
     "data": {
      "text/plain": [
       "   Mode    TRUE \n",
       "logical     253 "
      ]
     },
     "metadata": {},
     "output_type": "display_data"
    }
   ],
   "source": [
    "df2$catholic <- FALSE\n",
    "df2$catholic[is.na(df2$relMin)] <- NA # Using relMin here to capture discovery work\n",
    "df2$catholic[df2$relMin==FALSE] <- FALSE # ReligionNew ok here bc none found during discovery\n",
    "summary(df2$catholic)\n",
    "\n",
    "df2$irish <- NA\n",
    "df2$irish[df2$nationalOrigin==\"Irish\"] <- TRUE\n",
    "summary(df2$irish)"
   ]
  },
  {
   "cell_type": "code",
   "execution_count": 27,
   "metadata": {},
   "outputs": [
    {
     "data": {
      "text/plain": [
       "   Mode    TRUE    NA's \n",
       "logical      10     243 "
      ]
     },
     "metadata": {},
     "output_type": "display_data"
    },
    {
     "data": {
      "text/plain": [
       "   Mode   FALSE \n",
       "logical     253 "
      ]
     },
     "metadata": {},
     "output_type": "display_data"
    }
   ],
   "source": [
    "df2$otherChristian <- FALSE\n",
    "df2$otherChristian[df2$relMin==FALSE] <- TRUE # To capture discovery for Protestants\n",
    "df2$otherChristian[is.na(df2$relMin)] <- NA #Above for Catholics\n",
    "summary(df2$otherChristian)\n",
    "\n",
    "df2$otherUK <- NA\n",
    "df2$otherUK[df2$nationalOrigin==\"Irish\"] <- FALSE\n",
    "summary(df2$otherUK)"
   ]
  },
  {
   "cell_type": "code",
   "execution_count": 28,
   "metadata": {},
   "outputs": [
    {
     "data": {
      "text/plain": [
       "\n",
       "  F   M \n",
       "176  77 "
      ]
     },
     "metadata": {},
     "output_type": "display_data"
    },
    {
     "data": {
      "text/html": [
       "<table class=\"dataframe\">\n",
       "<caption>A matrix: 2 × 1 of type dbl</caption>\n",
       "<tbody>\n",
       "\t<tr><th scope=row>F</th><td>69.56522</td></tr>\n",
       "\t<tr><th scope=row>M</th><td>30.43478</td></tr>\n",
       "</tbody>\n",
       "</table>\n"
      ],
      "text/latex": [
       "A matrix: 2 × 1 of type dbl\n",
       "\\begin{tabular}{r|l}\n",
       "\tF & 69.56522\\\\\n",
       "\tM & 30.43478\\\\\n",
       "\\end{tabular}\n"
      ],
      "text/markdown": [
       "\n",
       "A matrix: 2 × 1 of type dbl\n",
       "\n",
       "| F | 69.56522 |\n",
       "| M | 30.43478 |\n",
       "\n"
      ],
      "text/plain": [
       "  [,1]    \n",
       "F 69.56522\n",
       "M 30.43478"
      ]
     },
     "metadata": {},
     "output_type": "display_data"
    },
    {
     "data": {
      "text/html": [
       "0"
      ],
      "text/latex": [
       "0"
      ],
      "text/markdown": [
       "0"
      ],
      "text/plain": [
       "[1] 0"
      ]
     },
     "metadata": {},
     "output_type": "display_data"
    },
    {
     "data": {
      "text/plain": [
       "\n",
       " F  M \n",
       "65 20 "
      ]
     },
     "metadata": {},
     "output_type": "display_data"
    },
    {
     "data": {
      "text/html": [
       "<table class=\"dataframe\">\n",
       "<caption>A matrix: 2 × 1 of type dbl</caption>\n",
       "<tbody>\n",
       "\t<tr><th scope=row>F</th><td>76.47059</td></tr>\n",
       "\t<tr><th scope=row>M</th><td>23.52941</td></tr>\n",
       "</tbody>\n",
       "</table>\n"
      ],
      "text/latex": [
       "A matrix: 2 × 1 of type dbl\n",
       "\\begin{tabular}{r|l}\n",
       "\tF & 76.47059\\\\\n",
       "\tM & 23.52941\\\\\n",
       "\\end{tabular}\n"
      ],
      "text/markdown": [
       "\n",
       "A matrix: 2 × 1 of type dbl\n",
       "\n",
       "| F | 76.47059 |\n",
       "| M | 23.52941 |\n",
       "\n"
      ],
      "text/plain": [
       "  [,1]    \n",
       "F 76.47059\n",
       "M 23.52941"
      ]
     },
     "metadata": {},
     "output_type": "display_data"
    },
    {
     "data": {
      "text/html": [
       "0"
      ],
      "text/latex": [
       "0"
      ],
      "text/markdown": [
       "0"
      ],
      "text/plain": [
       "[1] 0"
      ]
     },
     "metadata": {},
     "output_type": "display_data"
    }
   ],
   "source": [
    "#What is the gender breakdown by doc and by author for letters\n",
    "\n",
    "lettersG <- df2 %>% #Create new variable for the collection of letters\n",
    "reframe(authorGender) #summarized by gender\n",
    "table(lettersG$authorGender) #plot\n",
    "prop.table(as.matrix(table(lettersG$authorGender)), 2)*100\n",
    "\n",
    "# NAs for letters\n",
    "df2 %>% \n",
    "filter(is.na(authorGender)) %>% \n",
    "select(docauthorid) %>% \n",
    "nrow()\n",
    "\n",
    "letterAuthorsG <- df2 %>% #Create new variable for the writer pool\n",
    "reframe(authorGender, group_by=docauthorid) %>% #summarized by gender and grouped by author\n",
    "unique() #unique values only\n",
    "table(letterAuthorsG$authorGender) #plot author breakdown\n",
    "prop.table(as.matrix(table(letterAuthorsG$authorGender)), 2)*100 \n",
    "\n",
    "# NAs for writer pool\n",
    "df2 %>% \n",
    "filter(is.na(authorGender)) %>% \n",
    "select(docauthorid) %>% \n",
    "unique() %>% \n",
    "nrow()"
   ]
  },
  {
   "cell_type": "markdown",
   "metadata": {},
   "source": [
    "## Merge Tables"
   ]
  },
  {
   "cell_type": "markdown",
   "metadata": {},
   "source": [
    "Now, I need to see what the total corpus looks like by combining the NAILDOH and IED-to-date dataframes."
   ]
  },
  {
   "cell_type": "code",
   "execution_count": 33,
   "metadata": {},
   "outputs": [],
   "source": [
    "df2$authorName <- df2$docauthorname"
   ]
  },
  {
   "cell_type": "code",
   "execution_count": 34,
   "metadata": {
    "scrolled": true
   },
   "outputs": [
    {
     "name": "stdout",
     "output_type": "stream",
     "text": [
      "Rows: 689\n",
      "Columns: 18\n",
      "$ docid          \u001b[3m\u001b[90m<fct>\u001b[39m\u001b[23m S2344-D040, S2344-D043, S2344-D051, S2344-D052, S2344-D…\n",
      "$ docyear        \u001b[3m\u001b[90m<int>\u001b[39m\u001b[23m 1836, 1842, 1853, 1853, 1853, 1853, 1853, 1854, 1854, 1…\n",
      "$ docmonth       \u001b[3m\u001b[90m<int>\u001b[39m\u001b[23m NA, 11, NA, 9, 10, 12, 12, 1, 1, 2, 4, 4, 6, NA, 12, 1,…\n",
      "$ authorName     \u001b[3m\u001b[90m<fct>\u001b[39m\u001b[23m Susannah Strickland Moodie, Susannah Strickland Moodie,…\n",
      "$ docauthorid    \u001b[3m\u001b[90m<fct>\u001b[39m\u001b[23m per0004772, per0004772, per0004772, per0004772, per0004…\n",
      "$ authorLocation \u001b[3m\u001b[90m<fct>\u001b[39m\u001b[23m Canada, Canada, Canada, Canada, Canada, Canada, Canada,…\n",
      "$ authorGender   \u001b[3m\u001b[90m<fct>\u001b[39m\u001b[23m F, F, F, F, F, F, F, F, F, F, F, F, F, F, F, F, F, F, F…\n",
      "$ nationalOrigin \u001b[3m\u001b[90m<fct>\u001b[39m\u001b[23m English, English, English, English, English, English, E…\n",
      "$ irish          \u001b[3m\u001b[90m<lgl>\u001b[39m\u001b[23m FALSE, FALSE, FALSE, FALSE, FALSE, FALSE, FALSE, FALSE,…\n",
      "$ otherUK        \u001b[3m\u001b[90m<lgl>\u001b[39m\u001b[23m TRUE, TRUE, TRUE, TRUE, TRUE, TRUE, TRUE, TRUE, TRUE, T…\n",
      "$ relMin         \u001b[3m\u001b[90m<lgl>\u001b[39m\u001b[23m FALSE, FALSE, FALSE, FALSE, FALSE, FALSE, FALSE, FALSE,…\n",
      "$ catholic       \u001b[3m\u001b[90m<lgl>\u001b[39m\u001b[23m FALSE, FALSE, FALSE, FALSE, FALSE, FALSE, FALSE, FALSE,…\n",
      "$ otherChristian \u001b[3m\u001b[90m<lgl>\u001b[39m\u001b[23m TRUE, TRUE, TRUE, TRUE, TRUE, TRUE, TRUE, TRUE, TRUE, T…\n",
      "$ U              \u001b[3m\u001b[90m<lgl>\u001b[39m\u001b[23m TRUE, TRUE, TRUE, TRUE, TRUE, TRUE, TRUE, TRUE, TRUE, T…\n",
      "$ M              \u001b[3m\u001b[90m<lgl>\u001b[39m\u001b[23m FALSE, FALSE, FALSE, FALSE, FALSE, FALSE, FALSE, FALSE,…\n",
      "$ S              \u001b[3m\u001b[90m<lgl>\u001b[39m\u001b[23m FALSE, FALSE, FALSE, FALSE, FALSE, FALSE, FALSE, FALSE,…\n",
      "$ F              \u001b[3m\u001b[90m<lgl>\u001b[39m\u001b[23m FALSE, FALSE, FALSE, FALSE, FALSE, FALSE, FALSE, FALSE,…\n",
      "$ L              \u001b[3m\u001b[90m<lgl>\u001b[39m\u001b[23m FALSE, FALSE, FALSE, FALSE, FALSE, FALSE, FALSE, FALSE,…\n"
     ]
    }
   ],
   "source": [
    "df1 <- unfactorize(read.csv(\"20240514_PhD_NaildohSubset.csv\"))\n",
    "#df2 <- unfactorize(read.csv(\"20240603_PhD_IEDSubset.csv\"))\n",
    "\n",
    "vars1 <- colnames(df1)\n",
    "vars2 <- colnames(df2)\n",
    "vars <- intersect(vars1, vars2)\n",
    "df1 <- df1[vars]\n",
    "\n",
    "df1 <- df1[,c(\"docid\",\n",
    "       \"docyear\",\n",
    "       \"docmonth\",\n",
    "       \"authorName\", \n",
    "       \"docauthorid\",\n",
    "       \"authorLocation\", \n",
    "       \"authorGender\",\n",
    "       \"nationalOrigin\", \n",
    "       \"irish\", \n",
    "       \"otherUK\", \n",
    "       \"relMin\", \n",
    "       \"catholic\", \n",
    "       \"otherChristian\", \n",
    "       \"U\",\n",
    "       \"M\",\n",
    "       \"S\",\n",
    "       \"F\",\n",
    "       \"L\")]\n",
    "\n",
    "df2 <- df2[,c(\"docid\",\n",
    "       \"docyear\",\n",
    "       \"docmonth\",\n",
    "       \"authorName\", \n",
    "       \"docauthorid\",\n",
    "       \"authorLocation\", \n",
    "       \"authorGender\",\n",
    "       \"nationalOrigin\", \n",
    "       \"irish\", \n",
    "       \"otherUK\", \n",
    "       \"relMin\", \n",
    "       \"catholic\", \n",
    "       \"otherChristian\", \n",
    "       \"U\",\n",
    "       \"M\",\n",
    "       \"S\",\n",
    "       \"F\",\n",
    "       \"L\")]\n",
    "\n",
    "df <- rbind(df1, df2)\n",
    "letters <- factorize(df)\n",
    "glimpse(letters)"
   ]
  },
  {
   "cell_type": "code",
   "execution_count": 65,
   "metadata": {},
   "outputs": [
    {
     "data": {
      "text/html": [
       "689"
      ],
      "text/latex": [
       "689"
      ],
      "text/markdown": [
       "689"
      ],
      "text/plain": [
       "[1] 689"
      ]
     },
     "metadata": {},
     "output_type": "display_data"
    },
    {
     "data": {
      "text/html": [
       "686"
      ],
      "text/latex": [
       "686"
      ],
      "text/markdown": [
       "686"
      ],
      "text/plain": [
       "[1] 686"
      ]
     },
     "metadata": {},
     "output_type": "display_data"
    }
   ],
   "source": [
    "# Removing letters for which there is no year because this is a key constraint.\n",
    "vals <- letters %>% \n",
    "filter(is.na(docyear)) %>% \n",
    "pull(docid)\n",
    "\n",
    "nrow(letters)\n",
    "letters <- letters[!letters$docid %in% vals,]\n",
    "nrow(letters)"
   ]
  },
  {
   "cell_type": "markdown",
   "metadata": {},
   "source": [
    "Canada and women are well represented in terms of letter counts because of the prolific writers but they are underrepresented in terms of the author pool, even after attempting to achieve parity by randomly sampling additional writers from the Irish Emigrant Database. This was because the authors whose gender was \"unknown\" were mostly resolved to Male after close inspection. I am reluctant to remove anyone from the randomly sampled writers, especially from those whose gender was initially unknown because these writers are more likely to be underprivileged. I therefore am proceeding with the unequal but improved gender balance. In terms of the writing pool, Irish writers are overrepresented but given the overrepresentation of writers from the predominantly <a href=\"https://www.dippam.ac.uk/static_pages/ied-archive-guide\">Ulster</a> (i.e., Protestant) region of the country, I am allowing this with the understanding that by oversampling Irish writers, I will be more likely to capture Catholic (and by extension laboring) writers."
   ]
  },
  {
   "cell_type": "markdown",
   "metadata": {},
   "source": [
    "The outsized number of female authored letters sent from Canada is a result of the prolific writers. The multilevel model will adjust for this. "
   ]
  },
  {
   "cell_type": "markdown",
   "metadata": {},
   "source": [
    "Surprisingly, female non-Irish writers are underrepresented. Ideally, I would add female British, Welsh or Scottish writers. That is a limitation. Adding more writers from these national backgrounds is something for a future direction. What I can did for now was to add more female Irish writers, which brought down the proportion of Irish men, who were overrepresented.\n",
    "\n",
    "Again, women in Canada are underrepresented but I am less concerned about authorLocation than authorOrigin for this study. First of all, authorLocation will serve as a control variable but not as a predictor variable. What is important, though, is the fact that more Irish people migrated to the United States than to Canada. \n",
    "\n",
    "According to Harkess (1931), more Irish emigrants went to the United States than to Canada in the mid-nineteenth century, and Fitzpatrick (1999) said that most who went to Canada were Protestant. This suggests that I should aim to boost the number of female writers going to the United States. \n",
    "\n",
    "Ideally, the proportion of men and women in the corpus would be equal. To achieve that, I will need 141 unique female authors for the IED collection. Are there that many?"
   ]
  },
  {
   "cell_type": "code",
   "execution_count": 72,
   "metadata": {},
   "outputs": [
    {
     "name": "stdout",
     "output_type": "stream",
     "text": [
      "[1] \"in csv but not in folder\"\n"
     ]
    },
    {
     "data": {
      "text/html": [],
      "text/latex": [],
      "text/markdown": [],
      "text/plain": [
       "character(0)"
      ]
     },
     "metadata": {},
     "output_type": "display_data"
    },
    {
     "name": "stdout",
     "output_type": "stream",
     "text": [
      "[1] \"in folder but not in csv\"\n"
     ]
    },
    {
     "data": {
      "text/html": [],
      "text/latex": [],
      "text/markdown": [],
      "text/plain": [
       "character(0)"
      ]
     },
     "metadata": {},
     "output_type": "display_data"
    }
   ],
   "source": [
    "# Checking to make sure csv matches folder list.\n",
    "\n",
    "csv <- sort(unique(letters$docid))\n",
    "\n",
    "# make list of doc ids in folder\n",
    "WD <- getwd()\n",
    "setwd(WD)\n",
    "files <- list.files(\"20240604_PhD_Letters\")\n",
    "folder <- sort(sub('.txt', '', files))\n",
    "\n",
    "print(\"in csv but not in folder\")\n",
    "setdiff(csv, folder) \n",
    "\n",
    "print(\"in folder but not in csv\")\n",
    "setdiff(folder, csv) "
   ]
  },
  {
   "cell_type": "code",
   "execution_count": 75,
   "metadata": {},
   "outputs": [],
   "source": [
    "#write.csv(letters, \"20240604_PhD_Letters.csv\", row.names=FALSE)"
   ]
  },
  {
   "cell_type": "markdown",
   "metadata": {},
   "source": [
    "## Summary Statistics"
   ]
  },
  {
   "cell_type": "code",
   "execution_count": 101,
   "metadata": {
    "scrolled": true
   },
   "outputs": [
    {
     "data": {
      "text/plain": [
       "     docid        docyear        docmonth                           authorName \n",
       " 20910  :  1   Min.   :1770   Min.   : 1.000   Sarah Stretch Harris      :170  \n",
       " 21062  :  1   1st Qu.:1849   1st Qu.: 3.000   Susannah Strickland Moodie: 88  \n",
       " 21324  :  1   Median :1861   Median : 7.000   Mary Cumming              : 28  \n",
       " 21334  :  1   Mean   :1859   Mean   : 6.698   William J. Weir           : 16  \n",
       " 21354  :  1   3rd Qu.:1872   3rd Qu.:10.000   Isabella Weir Moore       : 15  \n",
       " 21470  :  1   Max.   :1912   Max.   :12.000   (Other)                   :316  \n",
       " (Other):680                  NA's   :10       NA's                      : 53  \n",
       "     docauthorid  authorLocation authorGender  nationalOrigin   irish        \n",
       " per0038009:170   Canada:398     F:459        English :326    Mode :logical  \n",
       " per0004772: 88   USA   :288     M:227        Irish   :293    FALSE:393      \n",
       " IED0661   : 28                               Scottish: 41    TRUE :293      \n",
       " IED0958   : 16                               Welsh   : 26                   \n",
       " IED0107   : 15                                                              \n",
       " IED0403   : 12                                                              \n",
       " (Other)   :357                                                              \n",
       "  otherUK          relMin         catholic       otherChristian \n",
       " Mode :logical   Mode :logical   Mode :logical   Mode :logical  \n",
       " FALSE:293       FALSE:344       FALSE:348       FALSE:1        \n",
       " TRUE :393       TRUE :5         TRUE :1         TRUE :348      \n",
       "                 NA's :337       NA's :337       NA's :337      \n",
       "                                                                \n",
       "                                                                \n",
       "                                                                \n",
       "     U               M               S               F          \n",
       " Mode :logical   Mode :logical   Mode :logical   Mode :logical  \n",
       " FALSE:259       FALSE:169       FALSE:345       FALSE:139      \n",
       " TRUE :129       TRUE :228       TRUE :41        TRUE :246      \n",
       " NA's :298       NA's :289       NA's :300       NA's :301      \n",
       "                                                                \n",
       "                                                                \n",
       "                                                                \n",
       "     L          \n",
       " Mode :logical  \n",
       " FALSE:374      \n",
       " TRUE :21       \n",
       " NA's :291      \n",
       "                \n",
       "                \n",
       "                "
      ]
     },
     "metadata": {},
     "output_type": "display_data"
    }
   ],
   "source": [
    "letters <- read.csv(\"20240604_PhD_Letters.csv\")\n",
    "summary(factorize(letters))"
   ]
  },
  {
   "cell_type": "code",
   "execution_count": 102,
   "metadata": {},
   "outputs": [
    {
     "data": {
      "text/html": [
       "<table class=\"dataframe\">\n",
       "<caption>A data.frame: 2 × 2</caption>\n",
       "<thead>\n",
       "\t<tr><th scope=col>n &gt; 1</th><th scope=col>n</th></tr>\n",
       "\t<tr><th scope=col>&lt;lgl&gt;</th><th scope=col>&lt;int&gt;</th></tr>\n",
       "</thead>\n",
       "<tbody>\n",
       "\t<tr><td>FALSE</td><td>92</td></tr>\n",
       "\t<tr><td> TRUE</td><td>49</td></tr>\n",
       "</tbody>\n",
       "</table>\n"
      ],
      "text/latex": [
       "A data.frame: 2 × 2\n",
       "\\begin{tabular}{ll}\n",
       " n > 1 & n\\\\\n",
       " <lgl> & <int>\\\\\n",
       "\\hline\n",
       "\t FALSE & 92\\\\\n",
       "\t  TRUE & 49\\\\\n",
       "\\end{tabular}\n"
      ],
      "text/markdown": [
       "\n",
       "A data.frame: 2 × 2\n",
       "\n",
       "| n &gt; 1 &lt;lgl&gt; | n &lt;int&gt; |\n",
       "|---|---|\n",
       "| FALSE | 92 |\n",
       "|  TRUE | 49 |\n",
       "\n"
      ],
      "text/plain": [
       "  n > 1 n \n",
       "1 FALSE 92\n",
       "2  TRUE 49"
      ]
     },
     "metadata": {},
     "output_type": "display_data"
    },
    {
     "data": {
      "text/html": [
       "<table class=\"dataframe\">\n",
       "<caption>A data.frame: 49 × 2</caption>\n",
       "<thead>\n",
       "\t<tr><th scope=col>authorName</th><th scope=col>n</th></tr>\n",
       "\t<tr><th scope=col>&lt;chr&gt;</th><th scope=col>&lt;int&gt;</th></tr>\n",
       "</thead>\n",
       "<tbody>\n",
       "\t<tr><td>Sarah Stretch Harris      </td><td>170</td></tr>\n",
       "\t<tr><td>Susannah Strickland Moodie</td><td> 88</td></tr>\n",
       "\t<tr><td>Mary Cumming              </td><td> 28</td></tr>\n",
       "\t<tr><td>William J. Weir           </td><td> 16</td></tr>\n",
       "\t<tr><td>Isabella Weir Moore       </td><td> 15</td></tr>\n",
       "\t<tr><td>Alexander Robb            </td><td> 12</td></tr>\n",
       "\t<tr><td>James Gamble              </td><td> 12</td></tr>\n",
       "\t<tr><td>William J. Stavely        </td><td> 12</td></tr>\n",
       "\t<tr><td>Critchlow Harris          </td><td> 11</td></tr>\n",
       "\t<tr><td>Ellen S. Dunlop           </td><td> 10</td></tr>\n",
       "\t<tr><td>Joseph Carrothers         </td><td> 10</td></tr>\n",
       "\t<tr><td>Agnes Shakespeare         </td><td>  9</td></tr>\n",
       "\t<tr><td>Isabella Marshall Allen   </td><td>  9</td></tr>\n",
       "\t<tr><td>Mary Savage               </td><td>  9</td></tr>\n",
       "\t<tr><td>Thomas W. Coskery         </td><td>  8</td></tr>\n",
       "\t<tr><td>Ada C. Edgar              </td><td>  7</td></tr>\n",
       "\t<tr><td>Hannah B. Longstreet      </td><td>  7</td></tr>\n",
       "\t<tr><td>Tom Harris                </td><td>  7</td></tr>\n",
       "\t<tr><td>Jane White                </td><td>  6</td></tr>\n",
       "\t<tr><td>Jonathan W. Smith         </td><td>  6</td></tr>\n",
       "\t<tr><td>Mitilda Ferguson          </td><td>  6</td></tr>\n",
       "\t<tr><td>Nathaniel Carrothers      </td><td>  6</td></tr>\n",
       "\t<tr><td>Robert Harris             </td><td>  6</td></tr>\n",
       "\t<tr><td>Hester Habersham          </td><td>  5</td></tr>\n",
       "\t<tr><td>Margaret Ellin Harris     </td><td>  5</td></tr>\n",
       "\t<tr><td>James Mason Hutchings     </td><td>  4</td></tr>\n",
       "\t<tr><td>Ruth J. Ramsey            </td><td>  4</td></tr>\n",
       "\t<tr><td>Sarah Roberts             </td><td>  4</td></tr>\n",
       "\t<tr><td>Ann Jane Sinclair         </td><td>  3</td></tr>\n",
       "\t<tr><td>Caledon                   </td><td>  3</td></tr>\n",
       "\t<tr><td>Joseph Carswell           </td><td>  3</td></tr>\n",
       "\t<tr><td>Joseph Kendall            </td><td>  3</td></tr>\n",
       "\t<tr><td>May Ann Blair             </td><td>  3</td></tr>\n",
       "\t<tr><td>Nato B. Smyth             </td><td>  3</td></tr>\n",
       "\t<tr><td>William Porter            </td><td>  3</td></tr>\n",
       "\t<tr><td>Ann Forrest               </td><td>  2</td></tr>\n",
       "\t<tr><td>Benjamin Williams Chidlaw </td><td>  2</td></tr>\n",
       "\t<tr><td>Charlotte Paxton Kendall  </td><td>  2</td></tr>\n",
       "\t<tr><td>Edith                     </td><td>  2</td></tr>\n",
       "\t<tr><td>Edith Gass                </td><td>  2</td></tr>\n",
       "\t<tr><td>George Mahood             </td><td>  2</td></tr>\n",
       "\t<tr><td>George Menzies            </td><td>  2</td></tr>\n",
       "\t<tr><td>Jane Fleming              </td><td>  2</td></tr>\n",
       "\t<tr><td>M. E. Ling                </td><td>  2</td></tr>\n",
       "\t<tr><td>Marion D. Wilson          </td><td>  2</td></tr>\n",
       "\t<tr><td>Martha Blair Cranston     </td><td>  2</td></tr>\n",
       "\t<tr><td>Thomas Graham             </td><td>  2</td></tr>\n",
       "\t<tr><td>William Bebb              </td><td>  2</td></tr>\n",
       "\t<tr><td>William Redmond           </td><td>  2</td></tr>\n",
       "</tbody>\n",
       "</table>\n"
      ],
      "text/latex": [
       "A data.frame: 49 × 2\n",
       "\\begin{tabular}{ll}\n",
       " authorName & n\\\\\n",
       " <chr> & <int>\\\\\n",
       "\\hline\n",
       "\t Sarah Stretch Harris       & 170\\\\\n",
       "\t Susannah Strickland Moodie &  88\\\\\n",
       "\t Mary Cumming               &  28\\\\\n",
       "\t William J. Weir            &  16\\\\\n",
       "\t Isabella Weir Moore        &  15\\\\\n",
       "\t Alexander Robb             &  12\\\\\n",
       "\t James Gamble               &  12\\\\\n",
       "\t William J. Stavely         &  12\\\\\n",
       "\t Critchlow Harris           &  11\\\\\n",
       "\t Ellen S. Dunlop            &  10\\\\\n",
       "\t Joseph Carrothers          &  10\\\\\n",
       "\t Agnes Shakespeare          &   9\\\\\n",
       "\t Isabella Marshall Allen    &   9\\\\\n",
       "\t Mary Savage                &   9\\\\\n",
       "\t Thomas W. Coskery          &   8\\\\\n",
       "\t Ada C. Edgar               &   7\\\\\n",
       "\t Hannah B. Longstreet       &   7\\\\\n",
       "\t Tom Harris                 &   7\\\\\n",
       "\t Jane White                 &   6\\\\\n",
       "\t Jonathan W. Smith          &   6\\\\\n",
       "\t Mitilda Ferguson           &   6\\\\\n",
       "\t Nathaniel Carrothers       &   6\\\\\n",
       "\t Robert Harris              &   6\\\\\n",
       "\t Hester Habersham           &   5\\\\\n",
       "\t Margaret Ellin Harris      &   5\\\\\n",
       "\t James Mason Hutchings      &   4\\\\\n",
       "\t Ruth J. Ramsey             &   4\\\\\n",
       "\t Sarah Roberts              &   4\\\\\n",
       "\t Ann Jane Sinclair          &   3\\\\\n",
       "\t Caledon                    &   3\\\\\n",
       "\t Joseph Carswell            &   3\\\\\n",
       "\t Joseph Kendall             &   3\\\\\n",
       "\t May Ann Blair              &   3\\\\\n",
       "\t Nato B. Smyth              &   3\\\\\n",
       "\t William Porter             &   3\\\\\n",
       "\t Ann Forrest                &   2\\\\\n",
       "\t Benjamin Williams Chidlaw  &   2\\\\\n",
       "\t Charlotte Paxton Kendall   &   2\\\\\n",
       "\t Edith                      &   2\\\\\n",
       "\t Edith Gass                 &   2\\\\\n",
       "\t George Mahood              &   2\\\\\n",
       "\t George Menzies             &   2\\\\\n",
       "\t Jane Fleming               &   2\\\\\n",
       "\t M. E. Ling                 &   2\\\\\n",
       "\t Marion D. Wilson           &   2\\\\\n",
       "\t Martha Blair Cranston      &   2\\\\\n",
       "\t Thomas Graham              &   2\\\\\n",
       "\t William Bebb               &   2\\\\\n",
       "\t William Redmond            &   2\\\\\n",
       "\\end{tabular}\n"
      ],
      "text/markdown": [
       "\n",
       "A data.frame: 49 × 2\n",
       "\n",
       "| authorName &lt;chr&gt; | n &lt;int&gt; |\n",
       "|---|---|\n",
       "| Sarah Stretch Harris       | 170 |\n",
       "| Susannah Strickland Moodie |  88 |\n",
       "| Mary Cumming               |  28 |\n",
       "| William J. Weir            |  16 |\n",
       "| Isabella Weir Moore        |  15 |\n",
       "| Alexander Robb             |  12 |\n",
       "| James Gamble               |  12 |\n",
       "| William J. Stavely         |  12 |\n",
       "| Critchlow Harris           |  11 |\n",
       "| Ellen S. Dunlop            |  10 |\n",
       "| Joseph Carrothers          |  10 |\n",
       "| Agnes Shakespeare          |   9 |\n",
       "| Isabella Marshall Allen    |   9 |\n",
       "| Mary Savage                |   9 |\n",
       "| Thomas W. Coskery          |   8 |\n",
       "| Ada C. Edgar               |   7 |\n",
       "| Hannah B. Longstreet       |   7 |\n",
       "| Tom Harris                 |   7 |\n",
       "| Jane White                 |   6 |\n",
       "| Jonathan W. Smith          |   6 |\n",
       "| Mitilda Ferguson           |   6 |\n",
       "| Nathaniel Carrothers       |   6 |\n",
       "| Robert Harris              |   6 |\n",
       "| Hester Habersham           |   5 |\n",
       "| Margaret Ellin Harris      |   5 |\n",
       "| James Mason Hutchings      |   4 |\n",
       "| Ruth J. Ramsey             |   4 |\n",
       "| Sarah Roberts              |   4 |\n",
       "| Ann Jane Sinclair          |   3 |\n",
       "| Caledon                    |   3 |\n",
       "| Joseph Carswell            |   3 |\n",
       "| Joseph Kendall             |   3 |\n",
       "| May Ann Blair              |   3 |\n",
       "| Nato B. Smyth              |   3 |\n",
       "| William Porter             |   3 |\n",
       "| Ann Forrest                |   2 |\n",
       "| Benjamin Williams Chidlaw  |   2 |\n",
       "| Charlotte Paxton Kendall   |   2 |\n",
       "| Edith                      |   2 |\n",
       "| Edith Gass                 |   2 |\n",
       "| George Mahood              |   2 |\n",
       "| George Menzies             |   2 |\n",
       "| Jane Fleming               |   2 |\n",
       "| M. E. Ling                 |   2 |\n",
       "| Marion D. Wilson           |   2 |\n",
       "| Martha Blair Cranston      |   2 |\n",
       "| Thomas Graham              |   2 |\n",
       "| William Bebb               |   2 |\n",
       "| William Redmond            |   2 |\n",
       "\n"
      ],
      "text/plain": [
       "   authorName                 n  \n",
       "1  Sarah Stretch Harris       170\n",
       "2  Susannah Strickland Moodie  88\n",
       "3  Mary Cumming                28\n",
       "4  William J. Weir             16\n",
       "5  Isabella Weir Moore         15\n",
       "6  Alexander Robb              12\n",
       "7  James Gamble                12\n",
       "8  William J. Stavely          12\n",
       "9  Critchlow Harris            11\n",
       "10 Ellen S. Dunlop             10\n",
       "11 Joseph Carrothers           10\n",
       "12 Agnes Shakespeare            9\n",
       "13 Isabella Marshall Allen      9\n",
       "14 Mary Savage                  9\n",
       "15 Thomas W. Coskery            8\n",
       "16 Ada C. Edgar                 7\n",
       "17 Hannah B. Longstreet         7\n",
       "18 Tom Harris                   7\n",
       "19 Jane White                   6\n",
       "20 Jonathan W. Smith            6\n",
       "21 Mitilda Ferguson             6\n",
       "22 Nathaniel Carrothers         6\n",
       "23 Robert Harris                6\n",
       "24 Hester Habersham             5\n",
       "25 Margaret Ellin Harris        5\n",
       "26 James Mason Hutchings        4\n",
       "27 Ruth J. Ramsey               4\n",
       "28 Sarah Roberts                4\n",
       "29 Ann Jane Sinclair            3\n",
       "30 Caledon                      3\n",
       "31 Joseph Carswell              3\n",
       "32 Joseph Kendall               3\n",
       "33 May Ann Blair                3\n",
       "34 Nato B. Smyth                3\n",
       "35 William Porter               3\n",
       "36 Ann Forrest                  2\n",
       "37 Benjamin Williams Chidlaw    2\n",
       "38 Charlotte Paxton Kendall     2\n",
       "39 Edith                        2\n",
       "40 Edith Gass                   2\n",
       "41 George Mahood                2\n",
       "42 George Menzies               2\n",
       "43 Jane Fleming                 2\n",
       "44 M. E. Ling                   2\n",
       "45 Marion D. Wilson             2\n",
       "46 Martha Blair Cranston        2\n",
       "47 Thomas Graham                2\n",
       "48 William Bebb                 2\n",
       "49 William Redmond              2"
      ]
     },
     "metadata": {},
     "output_type": "display_data"
    }
   ],
   "source": [
    "repeatAuthors <- letters %>% # Take the dataframe\n",
    "filter(!is.na(authorName)) %>% \n",
    "count(authorName, sort = TRUE) \n",
    "\n",
    "repeatAuthors %>% # Count the number of letters per authors\n",
    "count(n > 1) # Count the number of series\n",
    "\n",
    "repeatAuthors  %>% \n",
    "filter(n>1)"
   ]
  },
  {
   "cell_type": "code",
   "execution_count": 89,
   "metadata": {},
   "outputs": [
    {
     "data": {
      "text/plain": [
       "\n",
       "  F   M \n",
       "459 227 "
      ]
     },
     "metadata": {},
     "output_type": "display_data"
    },
    {
     "data": {
      "text/html": [
       "<table class=\"dataframe\">\n",
       "<caption>A matrix: 2 × 1 of type dbl</caption>\n",
       "<tbody>\n",
       "\t<tr><th scope=row>F</th><td>66.90962</td></tr>\n",
       "\t<tr><th scope=row>M</th><td>33.09038</td></tr>\n",
       "</tbody>\n",
       "</table>\n"
      ],
      "text/latex": [
       "A matrix: 2 × 1 of type dbl\n",
       "\\begin{tabular}{r|l}\n",
       "\tF & 66.90962\\\\\n",
       "\tM & 33.09038\\\\\n",
       "\\end{tabular}\n"
      ],
      "text/markdown": [
       "\n",
       "A matrix: 2 × 1 of type dbl\n",
       "\n",
       "| F | 66.90962 |\n",
       "| M | 33.09038 |\n",
       "\n"
      ],
      "text/plain": [
       "  [,1]    \n",
       "F 66.90962\n",
       "M 33.09038"
      ]
     },
     "metadata": {},
     "output_type": "display_data"
    },
    {
     "data": {
      "text/plain": [
       "\n",
       " F  M \n",
       "79 95 "
      ]
     },
     "metadata": {},
     "output_type": "display_data"
    },
    {
     "data": {
      "text/html": [
       "<table class=\"dataframe\">\n",
       "<caption>A matrix: 2 × 1 of type dbl</caption>\n",
       "<tbody>\n",
       "\t<tr><th scope=row>F</th><td>45.4023</td></tr>\n",
       "\t<tr><th scope=row>M</th><td>54.5977</td></tr>\n",
       "</tbody>\n",
       "</table>\n"
      ],
      "text/latex": [
       "A matrix: 2 × 1 of type dbl\n",
       "\\begin{tabular}{r|l}\n",
       "\tF & 45.4023\\\\\n",
       "\tM & 54.5977\\\\\n",
       "\\end{tabular}\n"
      ],
      "text/markdown": [
       "\n",
       "A matrix: 2 × 1 of type dbl\n",
       "\n",
       "| F | 45.4023 |\n",
       "| M | 54.5977 |\n",
       "\n"
      ],
      "text/plain": [
       "  [,1]   \n",
       "F 45.4023\n",
       "M 54.5977"
      ]
     },
     "metadata": {},
     "output_type": "display_data"
    },
    {
     "data": {
      "text/html": [
       "0"
      ],
      "text/latex": [
       "0"
      ],
      "text/markdown": [
       "0"
      ],
      "text/plain": [
       "[1] 0"
      ]
     },
     "metadata": {},
     "output_type": "display_data"
    }
   ],
   "source": [
    "#What is the gender breakdown by doc and by author for letters\n",
    "\n",
    "temp <- letters %>% #Create new variable for the collection of letters\n",
    "reframe(authorGender) #summarized by gender\n",
    "table(temp$authorGender) #plot\n",
    "prop.table(as.matrix(table(temp$authorGender)), 2)*100\n",
    "\n",
    "temp <- letters %>% #Create new variable for the writer pool\n",
    "reframe(authorGender, group_by=docauthorid) %>% #summarized by gender and grouped by author\n",
    "unique() #unique values only\n",
    "table(temp$authorGender) #plot author breakdown\n",
    "prop.table(as.matrix(table(temp$authorGender)), 2)*100 \n",
    "\n",
    "# How many authors are NA for gender?\n",
    "letters %>% \n",
    "filter(is.na(authorGender)) %>% \n",
    "select(docauthorid) %>% \n",
    "unique() %>% \n",
    "nrow()"
   ]
  },
  {
   "cell_type": "code",
   "execution_count": 90,
   "metadata": {},
   "outputs": [
    {
     "data": {
      "text/plain": [
       "\n",
       "FALSE  TRUE \n",
       "  393   293 "
      ]
     },
     "metadata": {},
     "output_type": "display_data"
    },
    {
     "data": {
      "text/html": [
       "<table class=\"dataframe\">\n",
       "<caption>A matrix: 2 × 1 of type dbl</caption>\n",
       "<tbody>\n",
       "\t<tr><th scope=row>FALSE</th><td>57.28863</td></tr>\n",
       "\t<tr><th scope=row>TRUE</th><td>42.71137</td></tr>\n",
       "</tbody>\n",
       "</table>\n"
      ],
      "text/latex": [
       "A matrix: 2 × 1 of type dbl\n",
       "\\begin{tabular}{r|l}\n",
       "\tFALSE & 57.28863\\\\\n",
       "\tTRUE & 42.71137\\\\\n",
       "\\end{tabular}\n"
      ],
      "text/markdown": [
       "\n",
       "A matrix: 2 × 1 of type dbl\n",
       "\n",
       "| FALSE | 57.28863 |\n",
       "| TRUE | 42.71137 |\n",
       "\n"
      ],
      "text/plain": [
       "      [,1]    \n",
       "FALSE 57.28863\n",
       "TRUE  42.71137"
      ]
     },
     "metadata": {},
     "output_type": "display_data"
    },
    {
     "data": {
      "text/plain": [
       "\n",
       "FALSE  TRUE \n",
       "   80    94 "
      ]
     },
     "metadata": {},
     "output_type": "display_data"
    },
    {
     "data": {
      "text/html": [
       "<table class=\"dataframe\">\n",
       "<caption>A matrix: 2 × 1 of type dbl</caption>\n",
       "<tbody>\n",
       "\t<tr><th scope=row>FALSE</th><td>45.97701</td></tr>\n",
       "\t<tr><th scope=row>TRUE</th><td>54.02299</td></tr>\n",
       "</tbody>\n",
       "</table>\n"
      ],
      "text/latex": [
       "A matrix: 2 × 1 of type dbl\n",
       "\\begin{tabular}{r|l}\n",
       "\tFALSE & 45.97701\\\\\n",
       "\tTRUE & 54.02299\\\\\n",
       "\\end{tabular}\n"
      ],
      "text/markdown": [
       "\n",
       "A matrix: 2 × 1 of type dbl\n",
       "\n",
       "| FALSE | 45.97701 |\n",
       "| TRUE | 54.02299 |\n",
       "\n"
      ],
      "text/plain": [
       "      [,1]    \n",
       "FALSE 45.97701\n",
       "TRUE  54.02299"
      ]
     },
     "metadata": {},
     "output_type": "display_data"
    },
    {
     "data": {
      "text/html": [
       "0"
      ],
      "text/latex": [
       "0"
      ],
      "text/markdown": [
       "0"
      ],
      "text/plain": [
       "[1] 0"
      ]
     },
     "metadata": {},
     "output_type": "display_data"
    }
   ],
   "source": [
    "#What is the country of origin breakdown by doc and by author for letters\n",
    "\n",
    "temp <- letters %>% #Create new variable for the collection of letters\n",
    "reframe(irish) #summarized by gender\n",
    "table(temp$irish) #plot\n",
    "prop.table(as.matrix(table(temp$irish)), 2)*100\n",
    "\n",
    "temp <- letters %>% #Create new variable for the writer pool\n",
    "reframe(irish, group_by=docauthorid) %>% #summarized by gender and grouped by author\n",
    "unique() #unique values only\n",
    "table(temp$irish) #plot author breakdown\n",
    "prop.table(as.matrix(table(temp$irish)), 2)*100 \n",
    "\n",
    "# How many authors are NA for irish?\n",
    "letters %>% \n",
    "filter(is.na(irish)) %>% \n",
    "select(docauthorid) %>% \n",
    "unique() %>% \n",
    "nrow()"
   ]
  },
  {
   "cell_type": "code",
   "execution_count": 91,
   "metadata": {},
   "outputs": [
    {
     "data": {
      "text/plain": [
       "\n",
       "Canada    USA \n",
       "   398    288 "
      ]
     },
     "metadata": {},
     "output_type": "display_data"
    },
    {
     "data": {
      "text/html": [
       "<table class=\"dataframe\">\n",
       "<caption>A matrix: 2 × 1 of type dbl</caption>\n",
       "<tbody>\n",
       "\t<tr><th scope=row>Canada</th><td>58.01749</td></tr>\n",
       "\t<tr><th scope=row>USA</th><td>41.98251</td></tr>\n",
       "</tbody>\n",
       "</table>\n"
      ],
      "text/latex": [
       "A matrix: 2 × 1 of type dbl\n",
       "\\begin{tabular}{r|l}\n",
       "\tCanada & 58.01749\\\\\n",
       "\tUSA & 41.98251\\\\\n",
       "\\end{tabular}\n"
      ],
      "text/markdown": [
       "\n",
       "A matrix: 2 × 1 of type dbl\n",
       "\n",
       "| Canada | 58.01749 |\n",
       "| USA | 41.98251 |\n",
       "\n"
      ],
      "text/plain": [
       "       [,1]    \n",
       "Canada 58.01749\n",
       "USA    41.98251"
      ]
     },
     "metadata": {},
     "output_type": "display_data"
    },
    {
     "data": {
      "text/plain": [
       "\n",
       "Canada    USA \n",
       "    56    120 "
      ]
     },
     "metadata": {},
     "output_type": "display_data"
    },
    {
     "data": {
      "text/html": [
       "<table class=\"dataframe\">\n",
       "<caption>A matrix: 2 × 1 of type dbl</caption>\n",
       "<tbody>\n",
       "\t<tr><th scope=row>Canada</th><td>31.81818</td></tr>\n",
       "\t<tr><th scope=row>USA</th><td>68.18182</td></tr>\n",
       "</tbody>\n",
       "</table>\n"
      ],
      "text/latex": [
       "A matrix: 2 × 1 of type dbl\n",
       "\\begin{tabular}{r|l}\n",
       "\tCanada & 31.81818\\\\\n",
       "\tUSA & 68.18182\\\\\n",
       "\\end{tabular}\n"
      ],
      "text/markdown": [
       "\n",
       "A matrix: 2 × 1 of type dbl\n",
       "\n",
       "| Canada | 31.81818 |\n",
       "| USA | 68.18182 |\n",
       "\n"
      ],
      "text/plain": [
       "       [,1]    \n",
       "Canada 31.81818\n",
       "USA    68.18182"
      ]
     },
     "metadata": {},
     "output_type": "display_data"
    },
    {
     "data": {
      "text/html": [
       "0"
      ],
      "text/latex": [
       "0"
      ],
      "text/markdown": [
       "0"
      ],
      "text/plain": [
       "[1] 0"
      ]
     },
     "metadata": {},
     "output_type": "display_data"
    }
   ],
   "source": [
    "#What is the location breakdown by doc and by author for letters\n",
    "\n",
    "temp <- letters %>% #Create new variable for the collection of letters\n",
    "reframe(authorLocation) #summarized by location\n",
    "table(temp$authorLocation) #plot\n",
    "prop.table(as.matrix(table(temp$authorLocation)), 2)*100\n",
    "\n",
    "temp <- letters %>% #Create new variable for the writer pool\n",
    "reframe(authorLocation, group_by=docauthorid) %>% #summarized by location and grouped by author\n",
    "unique() #unique values only\n",
    "table(temp$authorLocation) #plot\n",
    "prop.table(as.matrix(table(temp$authorLocation)), 2)*100 \n",
    "\n",
    "# How many authors are NA for authorLocation?\n",
    "letters %>% \n",
    "filter(is.na(authorLocation)) %>% \n",
    "select(docauthorid) %>% \n",
    "unique() %>% \n",
    "nrow()"
   ]
  },
  {
   "cell_type": "code",
   "execution_count": 92,
   "metadata": {},
   "outputs": [
    {
     "data": {
      "text/plain": [
       "   \n",
       "    Canada USA\n",
       "  F    302 157\n",
       "  M     96 131"
      ]
     },
     "metadata": {},
     "output_type": "display_data"
    },
    {
     "data": {
      "text/plain": [
       "       \n",
       "         F  M\n",
       "  FALSE 12 69\n",
       "  TRUE  67 28"
      ]
     },
     "metadata": {},
     "output_type": "display_data"
    },
    {
     "data": {
      "text/plain": [
       "       \n",
       "           F    M\n",
       "  FALSE 0.07 0.39\n",
       "  TRUE  0.38 0.16"
      ]
     },
     "metadata": {},
     "output_type": "display_data"
    },
    {
     "data": {
      "text/plain": [
       "        \n",
       "          F  M\n",
       "  Canada 19 37\n",
       "  USA    60 60"
      ]
     },
     "metadata": {},
     "output_type": "display_data"
    },
    {
     "data": {
      "text/plain": [
       "        \n",
       "            F    M\n",
       "  Canada 0.11 0.21\n",
       "  USA    0.34 0.34"
      ]
     },
     "metadata": {},
     "output_type": "display_data"
    },
    {
     "data": {
      "text/plain": [
       "        \n",
       "         FALSE TRUE\n",
       "  Canada    32   24\n",
       "  USA       49   71"
      ]
     },
     "metadata": {},
     "output_type": "display_data"
    },
    {
     "data": {
      "text/plain": [
       "        \n",
       "         FALSE TRUE\n",
       "  Canada  0.18 0.14\n",
       "  USA     0.28 0.40"
      ]
     },
     "metadata": {},
     "output_type": "display_data"
    }
   ],
   "source": [
    "# Crosstabulations\n",
    "\n",
    "table(letters$authorGender, letters$authorLocation)\n",
    "\n",
    "temp <- letters %>% \n",
    "select(docauthorid, irish, authorLocation, authorGender)  %>% \n",
    "unique()\n",
    "\n",
    "table(temp$irish, temp$authorGender)\n",
    "round(prop.table(table(temp$irish, temp$authorGender)), digits = 2)\n",
    "\n",
    "table(temp$authorLocation, temp$authorGender)\n",
    "round(prop.table(table(temp$authorLocation, temp$authorGender)), digits = 2)\n",
    "\n",
    "table(temp$authorLocation, temp$irish)\n",
    "round(prop.table(table(temp$authorLocation, temp$irish)), digits=2)"
   ]
  },
  {
   "cell_type": "code",
   "execution_count": 94,
   "metadata": {},
   "outputs": [
    {
     "data": {
      "text/plain": [
       "   Min. 1st Qu.  Median    Mean 3rd Qu.    Max. \n",
       "   1770    1849    1861    1859    1872    1912 "
      ]
     },
     "metadata": {},
     "output_type": "display_data"
    },
    {
     "data": {
      "image/png": "[encoded data removed]",
      "text/plain": [
       "Plot with title “Histogram of letters$docyear”"
      ]
     },
     "metadata": {
      "image/png": {
       "height": 420,
       "width": 420
      }
     },
     "output_type": "display_data"
    }
   ],
   "source": [
    "#What is the breakdown for year of writing\n",
    "\n",
    "hist(letters$docyear)\n",
    "summary(letters$docyear)"
   ]
  },
  {
   "cell_type": "code",
   "execution_count": 95,
   "metadata": {},
   "outputs": [
    {
     "data": {
      "text/html": [
       "10"
      ],
      "text/latex": [
       "10"
      ],
      "text/markdown": [
       "10"
      ],
      "text/plain": [
       "[1] 10"
      ]
     },
     "metadata": {},
     "output_type": "display_data"
    },
    {
     "data": {
      "text/plain": [
       "\n",
       " 1  2  3  4  5  6  7  8  9 10 11 12 \n",
       "67 54 49 45 58 53 55 43 50 59 67 76 "
      ]
     },
     "metadata": {},
     "output_type": "display_data"
    },
    {
     "data": {
      "image/png": "[encoded data removed]",
      "text/plain": [
       "Plot with title “Histogram of letters$docmonth”"
      ]
     },
     "metadata": {
      "image/png": {
       "height": 420,
       "width": 420
      }
     },
     "output_type": "display_data"
    }
   ],
   "source": [
    "#What is the breakdown for month of writing\n",
    "\n",
    "hist(letters$docmonth)\n",
    "sum(is.na(letters$docmonth))\n",
    "table(letters$docmonth)"
   ]
  },
  {
   "cell_type": "code",
   "execution_count": 98,
   "metadata": {},
   "outputs": [
    {
     "data": {
      "text/html": [
       "337"
      ],
      "text/latex": [
       "337"
      ],
      "text/markdown": [
       "337"
      ],
      "text/plain": [
       "[1] 337"
      ]
     },
     "metadata": {},
     "output_type": "display_data"
    },
    {
     "data": {
      "text/html": [
       "0.491253644314869"
      ],
      "text/latex": [
       "0.491253644314869"
      ],
      "text/markdown": [
       "0.491253644314869"
      ],
      "text/plain": [
       "[1] 0.4912536"
      ]
     },
     "metadata": {},
     "output_type": "display_data"
    },
    {
     "data": {
      "text/html": [
       "149"
      ],
      "text/latex": [
       "149"
      ],
      "text/markdown": [
       "149"
      ],
      "text/plain": [
       "[1] 149"
      ]
     },
     "metadata": {},
     "output_type": "display_data"
    },
    {
     "data": {
      "text/html": [
       "0.85632183908046"
      ],
      "text/latex": [
       "0.85632183908046"
      ],
      "text/markdown": [
       "0.85632183908046"
      ],
      "text/plain": [
       "[1] 0.8563218"
      ]
     },
     "metadata": {},
     "output_type": "display_data"
    }
   ],
   "source": [
    "#What is the breakdown for catholic\n",
    "\n",
    "sum(is.na(letters$catholic))\n",
    "sum(is.na(letters$catholic))/sum(nrow(letters))\n",
    "\n",
    "letters %>% \n",
    "filter(is.na(catholic)) %>% \n",
    "select(docauthorid) %>% \n",
    "unique() %>% \n",
    "nrow()\n",
    "\n",
    "149/length(unique(letters$docauthorid))"
   ]
  },
  {
   "cell_type": "code",
   "execution_count": 100,
   "metadata": {},
   "outputs": [
    {
     "data": {
      "text/html": [
       "291"
      ],
      "text/latex": [
       "291"
      ],
      "text/markdown": [
       "291"
      ],
      "text/plain": [
       "[1] 291"
      ]
     },
     "metadata": {},
     "output_type": "display_data"
    },
    {
     "data": {
      "text/html": [
       "0.424198250728863"
      ],
      "text/latex": [
       "0.424198250728863"
      ],
      "text/markdown": [
       "0.424198250728863"
      ],
      "text/plain": [
       "[1] 0.4241983"
      ]
     },
     "metadata": {},
     "output_type": "display_data"
    },
    {
     "data": {
      "text/html": [
       "124"
      ],
      "text/latex": [
       "124"
      ],
      "text/markdown": [
       "124"
      ],
      "text/plain": [
       "[1] 124"
      ]
     },
     "metadata": {},
     "output_type": "display_data"
    },
    {
     "data": {
      "text/html": [
       "0.71264367816092"
      ],
      "text/latex": [
       "0.71264367816092"
      ],
      "text/markdown": [
       "0.71264367816092"
      ],
      "text/plain": [
       "[1] 0.7126437"
      ]
     },
     "metadata": {},
     "output_type": "display_data"
    }
   ],
   "source": [
    "#What is the breakdown for labour\n",
    "sum(is.na(letters$L))\n",
    "sum(is.na(letters$L))/sum(nrow(letters))\n",
    "\n",
    "letters %>% \n",
    "filter(is.na(L)) %>% \n",
    "select(docauthorid) %>% \n",
    "unique() %>% \n",
    "nrow()\n",
    "\n",
    "124/length(unique(letters$docauthorid))"
   ]
  },
  {
   "cell_type": "markdown",
   "metadata": {},
   "source": [
    "## References\n",
    "\n",
    "Conway, A. (1961). The Welsh in America: Letters from the immigrants. University of Minnesota Press. https://www.jstor.org/stable/10.5749/j.cttts8t0.\n",
    "\n",
    "Fitzpatrick, D. (1999). Ireland and empire. In W. R. Louis & A. N. Porter (Eds.), The Oxford history of the British empire: The nineteenth century (pp. 494–521). Oxford University Press. https://doi.org/10.1093/acprof:oso/9780198205654.001.0001\n",
    "\n",
    "\n",
    "Harkness, D. A. E. (1931). Irish emigration. In W. F. Willcox (Ed.), International migrations: Vol. II (Interpretations) (pp. 261–282). National Bureau of Economic Research. https://www.nber.org/books-and-chapters/international-migrations-volume-ii-interpretations/irish-emigration\n",
    "\n",
    "Turnbull, T. (1914). T. Turnbull’s travels from the United States across the plains to California (F. L. (Frederic L. Paxson & R. G. Thwaites, Eds.). Madison, Published for the State Historical Society of Wisconsin. http://archive.org/details/tturnbullstravel00turnrich\n"
   ]
  }
 ],
 "metadata": {
  "kernelspec": {
   "display_name": "R",
   "language": "R",
   "name": "ir"
  },
  "language_info": {
   "codemirror_mode": "r",
   "file_extension": ".r",
   "mimetype": "text/x-r-source",
   "name": "R",
   "pygments_lexer": "r",
   "version": "4.1.0"
  }
 },
 "nbformat": 4,
 "nbformat_minor": 2
}
