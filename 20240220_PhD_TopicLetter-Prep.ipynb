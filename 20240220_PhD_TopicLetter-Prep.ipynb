{
 "cells": [
  {
   "cell_type": "markdown",
   "metadata": {},
   "source": [
    "## Topic Model Letter Prep"
   ]
  },
  {
   "cell_type": "markdown",
   "metadata": {},
   "source": [
    "## Resources"
   ]
  },
  {
   "cell_type": "code",
   "execution_count": 1,
   "metadata": {},
   "outputs": [],
   "source": [
    "import pandas as pd\n",
    "import gensim\n",
    "import numpy as np\n",
    "from gensim.utils import simple_preprocess\n",
    "import spacy\n",
    "import pickle"
   ]
  },
  {
   "cell_type": "markdown",
   "metadata": {},
   "source": [
    "## Get Data"
   ]
  },
  {
   "cell_type": "code",
   "execution_count": 2,
   "metadata": {
    "scrolled": true
   },
   "outputs": [
    {
     "name": "stdout",
     "output_type": "stream",
     "text": [
      "<class 'pandas.core.frame.DataFrame'>\n",
      "RangeIndex: 576 entries, 0 to 575\n",
      "Data columns (total 30 columns):\n",
      " #   Column            Non-Null Count  Dtype  \n",
      "---  ------            --------------  -----  \n",
      " 0   Unnamed: 0        576 non-null    int64  \n",
      " 1   docauthorid       576 non-null    object \n",
      " 2   docauthorname     576 non-null    object \n",
      " 3   docid             576 non-null    object \n",
      " 4   sourcetitle       576 non-null    object \n",
      " 5   docyear           573 non-null    float64\n",
      " 6   docmonth          519 non-null    float64\n",
      " 7   docday            474 non-null    float64\n",
      " 8   authorgender      576 non-null    object \n",
      " 9   agewriting        460 non-null    float64\n",
      " 10  birthyear         463 non-null    float64\n",
      " 11  deathyear         449 non-null    float64\n",
      " 12  religionNew       450 non-null    object \n",
      " 13  relMin            474 non-null    object \n",
      " 14  nationalOrigin    575 non-null    object \n",
      " 15  britishEmpire_EU  573 non-null    object \n",
      " 16  translated        576 non-null    bool   \n",
      " 17  authorLocation    576 non-null    object \n",
      " 18  socialClass       513 non-null    object \n",
      " 19  A                 513 non-null    object \n",
      " 20  I                 513 non-null    object \n",
      " 21  CCP               513 non-null    object \n",
      " 22  Unknown           513 non-null    object \n",
      " 23  wageLabour        513 non-null    object \n",
      " 24  publicLetter      16 non-null     object \n",
      " 25  text              576 non-null    object \n",
      " 26  scoreNeg          576 non-null    float64\n",
      " 27  scorePos          576 non-null    float64\n",
      " 28  scoreNeu          576 non-null    float64\n",
      " 29  scoreCompound     576 non-null    float64\n",
      "dtypes: bool(1), float64(10), int64(1), object(18)\n",
      "memory usage: 131.2+ KB\n"
     ]
    }
   ],
   "source": [
    "# Sentence Data\n",
    "df = pd.read_csv(\"20240220_PhD_Data4TopicModel-Letter.csv\") \n",
    "df.info()"
   ]
  },
  {
   "cell_type": "code",
   "execution_count": 3,
   "metadata": {},
   "outputs": [
    {
     "data": {
      "text/plain": [
       "['docID-AT',\n",
       " 'docauthorid',\n",
       " 'docauthorname',\n",
       " 'docid',\n",
       " 'sourcetitle',\n",
       " 'docyear',\n",
       " 'docmonth',\n",
       " 'docday',\n",
       " 'authorgender',\n",
       " 'agewriting',\n",
       " 'birthyear',\n",
       " 'deathyear',\n",
       " 'religionNew',\n",
       " 'relMin',\n",
       " 'nationalOrigin',\n",
       " 'britishEmpire_EU',\n",
       " 'translated',\n",
       " 'authorLocation',\n",
       " 'socialClass',\n",
       " 'A',\n",
       " 'I',\n",
       " 'CCP',\n",
       " 'Unknown',\n",
       " 'wageLabour',\n",
       " 'publicLetter',\n",
       " 'text',\n",
       " 'scoreNeg',\n",
       " 'scorePos',\n",
       " 'scoreNeu',\n",
       " 'scoreCompound']"
      ]
     },
     "execution_count": 3,
     "metadata": {},
     "output_type": "execute_result"
    }
   ],
   "source": [
    "# Change column name to \"docID-AT\"\n",
    "df = df.rename(columns={'Unnamed: 0':'docID-AT'})\n",
    "list(df)"
   ]
  },
  {
   "cell_type": "code",
   "execution_count": 4,
   "metadata": {},
   "outputs": [
    {
     "data": {
      "text/plain": [
       "' TRINIDAD On Train from Steubenville, Ohio, to Cincinnati. Nov 30, 1872. My Darling Sister Justina: How interestedly you, Sister M Louis and myself read Eugénie de Guérin\\'s Journal and her daily anxieties to save her brother from being a spiritual outcast! This Journal which I propose keeping for you will deal with incidents occurring on my journey to Trinidad and happenings in that far-off land to which I am consigned. The Journal will begin with the first act. Here is Mother Josephine\\'s letter: Mt St Vincent, O, Nov 27, 1872. Sister Blandina, Steubenville, O My Dear Child: You are missioned to Trinidad. You will leave Cincinnati Wednesday and alone. Mother Regina will attend to your needs. Devotedly, Mother Josephine. This letter thrilled us both. I was delighted to make the sacrifice, and you were hiding your feelings that I might not lose any merit. Neither of us could find Trinidad on the map except in the island of Cuba. So we concluded that Cuba was my destination. I was to leave Steubenville quietly so that none of my obstreperous pupils might cause the incoming teacher annoyance. Hence I went to Sunday catechetical class as usual 2:00 P M I was to take the 3:00 P M train for Cincinnati. I said to my hopefuls, \"Instead of catechism, I\\'m going to tell you an Indian story to-day.\" The schoolhouse roof was not disturbed, though the hurrahs were loud enough! The moral of the story was \"Indian Endurance.\" Dismissed them at two-thirty without one word of goodbye except the daily one. You remember how surprised I was to see a crowd at the station to wish me \"Godspeed\"; I thought I was to slip away without anyone\\'s knowledge except our own. Mr Tait and Mr McCann wished to speak to me alone. Both had been in the West. \"You will have a long travel on the plains,\" they said, \"before you reach Trinidad.\" \"Where is Trinidad?\" \"A little mining town in Southwestern Colorado.\" So then I knew my destination, which, of course I would have been told at Mt St Vincent. Both gentlemen said they had traveled on the plains on the Santa Fe Trail, and they seemed to have made it a matter of conscience to inform me on the subject of cowboys. This in substance was their conversation with me: \"Sister, you may be snow-bound while on the plains.\" I looked my assent, I knew I could not stop the snow. \"Travelers are sometimes snow-bound for two weeks, and you are alone. This, though, is not the greatest danger to you.\" Mentally I was wishing both gentlemen somewhere else. \"Your real danger is from cowboys.\" I looked at the speakers. \"You do not seem to grasp our meaning. No virtuous woman is safe near a cowboy.\" Both gave up trying to make me understand what they considered danger. Why should snow or cowboys frighten me any more than others who will be traveling the same way! So you see, dearest, I\\'m not going to so long a distance as we thought. At three o\\'clock A M the baggage checker came through our coach. I looked to see how much the pocketbook contained just twenty-five cents. If I used it to ride to the Good Samaritan I\\'d be minus the fare to Mt St Vincent, so I made up my mind to skirt around from the Little Miami to the Good Samaritan Hospital. At four A M I rang the front doorbell no response. I sat on the stone steps and waited till I heard the rising bell, then I waited another fifteen minutes when again I rang the doorbell. Sister Anthony came. \"Why, child, where did you come from; how did you get here? I\\'m sure you are cold.\" I said I came from Steubenville. \"Oh, yes! dear Father Bigelow died there. He was good to this hospital. Last year he sent a barge of coal to us.\" I said he was good to anyone in need. He died possessed of three dollars and fifty cents. His hand was always open to any kind of distress. I did not mention to Sister Anthony that I walked from the Little Miami Station. After Mass, breakfast and miles of sympathy and \"God Bless You\" from the Sisters at the Good Samaritan, one of the nurses accompanied me to Fifth and Vine Streets, where I was to take \"Barney\\'s Bus\" for Mt St Vincent. The bus was to leave at ten A M I waited till three P M then asked one of the clerks if he thought Mr McCabe would run the bus that day. \"I fear no bus will run to-day. There is an epidemic epizootic among the horses.\" I asked if Mr Segale\\'s place of business was anywhere near. He pointed to Wood\\'s Theater and I started to the place indicated. Brother Henry managed to find a \"hack\" to send me to Mt St Vincent. On the way, between the first ascent of the hill and the Seminary, I met Sisters Gabriella and Delphina walking in the slush and cold on their way to the Orphan Asylum. I stopped to take them in. They returned with me to Cedar Grove, from there the driver was to take them to the Asylum in Cumminsville. Sister Gabriella said to me, \"I would gladly go where you are going instead of shouldering this heavy burden.\" Sister is to be mother to three hundred orphans, taking Sister Sophia\\'s place. The Sisters are showing great sympathy. I heard Sister Benedicta say, \"She does not mind going so far and alone I\\'ve not seen her shed a tear.\" Nor will you, my dear Sister. The tears will flow where none but He and myself will know. Still, I\\'m delighted to go. I did not tell you, dearest, that one year ago last November I wrote to Mother Regina saying I envied the sacrifices the Sisters were making who were sent far away to do God\\'s work. I\\'ve received my answer with compound interest. You know that up to date the Sisters going on distant missions were consulted and none were sent who had parents living. I am pleased that that record is broken in my case. Mother Regina told me to spend a day at home. Dear Lord! Give me strength. I anticipate a scene. I spent Wednesday, December 5th, at our old homestead. Mother kept open house all day. Friends came in groups. Mr Leverone and bride, his mother and the bride\\'s mother, Mrs Garibaldi, the Misses Gardelli and a host of others. Mrs Garibaldi threatened to take off my habit. I said, \"Hands off! Have you any right to detain Mary if John wishes to take her to California?\" \"Oh, that is different.\" \"Yes, as different as heaven and earth. I have chosen my portion, Mary has chosen hers, each abides by her choice.\" John Leverone\\'s mother acted most sensibly all day. She was soothing oil to all the protests made to my going. Our dear mother kept quiet. When we were permitted a lone interview she asked, \"Do you want one of your sisters to accompany you?\" I answered, \"I prefer to do just as my superiors have told me.\" \"Well, then I will give you a thousand-dollar check so that in case you desire to return you will have the wherewith.\" \"No, no, dear mother, I fully realize the responsibilities I assumed. As you are aware, I realized them from the first day I entered the Novitiate.\" Mother replied: \"And I want to tell you I never doubted your vocation. I agree to your sacrifice, my dear child, keep on serving God, I will never interfere. Now that I have your explicit answer, friends cannot urge any logical reason to prevent your going.\" All day the visitors reminded me of a disturbed ant hill. When mother and I were alone she spoke the Genoese dialect. It was like hearing sketches of a favorite opera. Wednesday at 2:00 P M I went to visit our Ecclesiastical Superior. The Most Rev J B Purcell offered me several gifts. But St Francis Xavier is my patron, so I\\'m not going to possess any superfluous article, I only regret I could not pass our home without going in, as St Francis Xavier did. If I aim high I surely must reach some upper strata of detachment in His service. One thing I take with me, the impressive blessing given me by His Grace, part of which rings clear \"May angels guard your every step.\" He was extremely sympathetic at my having to go alone. I went to confession to Rev Dr Callaghan. You may recall how we enjoyed his lecture on the \"School Question\" delivered in Steubenville. After mother had a short interview with me, father managed to see me alone. He took hold of me and asked, \"Have I ever denied you anything?\" I signified no. \"You have never disobeyed me in your life?\" I assented. \"Now I command you you must not go on this far away mission! Are you going?\" \"Yes, father.\" He let go the hold on my arm and walked toward the door. Not without my seeing his tears falling fast. He did not realize his hold on my arm gave me pain not to speak of the heart-pain for him. In the railway station at St Louis between train time, I got off to purchase a pair of arctics. I saw several Italian women selling fruit. One of them had a daughter standing near. I asked the mother if she would permit her daughter to accompany me to the shoe store, which was in sight. The mother looked at me earnestly then said to her neighbor peddler, \"How do I know who she is, she looks like a monica (sister) but she might be a strega (witch).\" I thanked the true guardian of her daughter and went to make my purchase alone. I spoke English to the peddler. If good Sister Benedicta who thought I did not mind because I did not cry had seen me during the greater part of last night she would but too truly have said, \"That heart is human in every fiber.\" That I succeeded in dignifiedly getting away from home is Thy Grace, oh, my God! Forty-two persons accompanied me to the train, among them friends of old, but my purpose never faltered, not even in shadow. Such tactics as I executed yesterday! I see one trait strong in me, the straight service of God. Not the father whom I had never seen cry, nor the most patient, dearest mother whose heart is crushed at my being sent alone, much less the friends who used every argument to make me say I would not go could elicit the faintest trace that I was not more pleased at my going alone than if I had had a dozen with me. Sisters Antonia and Gonzaga came to the waiting room. I asked the company to permit me an interview with the Sisters. When going toward them, one of my dear old friends said, \"Look, we cannot doubt she is happy.\" This was not intended for my hearing, the noise caused the speaker to raise her voice. Sister Antonia asked me how I had spent the day. I narrated some incidents. \"I\\'m an ancient religious, but I could not have gone through the ordeal as creditably as you did.\" What if I had mentioned all the heart sighs I had witnessed! When it was time to board the train I asked that my last interview be with my mother. Cannot you picture her sad, endearing look of appreciation? I\\'ll skip the last talk with mother some of it was in silence. '"
      ]
     },
     "execution_count": 4,
     "metadata": {},
     "output_type": "execute_result"
    }
   ],
   "source": [
    "df['text'][0]"
   ]
  },
  {
   "cell_type": "markdown",
   "metadata": {},
   "source": [
    "Code below adapated from https://medium.com/analytics-vidhya/topic-modeling-using-gensim-lda-in-python-48eaa2344920"
   ]
  },
  {
   "cell_type": "code",
   "execution_count": 5,
   "metadata": {},
   "outputs": [
    {
     "data": {
      "text/plain": [
       "' TRINIDAD On Train from Steubenville, Ohio, to Cincinnati. Nov 30, 1872. My Darling Sister Justina: How interestedly you, Sister M Louis and myself read Eugénie de Guérin\\'s Journal and her daily anxieties to save her brother from being a spiritual outcast! This Journal which I propose keeping for you will deal with incidents occurring on my journey to Trinidad and happenings in that far-off land to which I am consigned. The Journal will begin with the first act. Here is Mother Josephine\\'s letter: Mt St Vincent, O, Nov 27, 1872. Sister Blandina, Steubenville, O My Dear Child: You are missioned to Trinidad. You will leave Cincinnati Wednesday and alone. Mother Regina will attend to your needs. Devotedly, Mother Josephine. This letter thrilled us both. I was delighted to make the sacrifice, and you were hiding your feelings that I might not lose any merit. Neither of us could find Trinidad on the map except in the island of Cuba. So we concluded that Cuba was my destination. I was to leave Steubenville quietly so that none of my obstreperous pupils might cause the incoming teacher annoyance. Hence I went to Sunday catechetical class as usual 2:00 P M I was to take the 3:00 P M train for Cincinnati. I said to my hopefuls, \"Instead of catechism, I\\'m going to tell you an Indian story to-day.\" The schoolhouse roof was not disturbed, though the hurrahs were loud enough! The moral of the story was \"Indian Endurance.\" Dismissed them at two-thirty without one word of goodbye except the daily one. You remember how surprised I was to see a crowd at the station to wish me \"Godspeed\"; I thought I was to slip away without anyone\\'s knowledge except our own. Mr Tait and Mr McCann wished to speak to me alone. Both had been in the West. \"You will have a long travel on the plains,\" they said, \"before you reach Trinidad.\" \"Where is Trinidad?\" \"A little mining town in Southwestern Colorado.\" So then I knew my destination, which, of course I would have been told at Mt St Vincent. Both gentlemen said they had traveled on the plains on the Santa Fe Trail, and they seemed to have made it a matter of conscience to inform me on the subject of cowboys. This in substance was their conversation with me: \"Sister, you may be snow-bound while on the plains.\" I looked my assent, I knew I could not stop the snow. \"Travelers are sometimes snow-bound for two weeks, and you are alone. This, though, is not the greatest danger to you.\" Mentally I was wishing both gentlemen somewhere else. \"Your real danger is from cowboys.\" I looked at the speakers. \"You do not seem to grasp our meaning. No virtuous woman is safe near a cowboy.\" Both gave up trying to make me understand what they considered danger. Why should snow or cowboys frighten me any more than others who will be traveling the same way! So you see, dearest, I\\'m not going to so long a distance as we thought. At three o\\'clock A M the baggage checker came through our coach. I looked to see how much the pocketbook contained just twenty-five cents. If I used it to ride to the Good Samaritan I\\'d be minus the fare to Mt St Vincent, so I made up my mind to skirt around from the Little Miami to the Good Samaritan Hospital. At four A M I rang the front doorbell no response. I sat on the stone steps and waited till I heard the rising bell, then I waited another fifteen minutes when again I rang the doorbell. Sister Anthony came. \"Why, child, where did you come from; how did you get here? I\\'m sure you are cold.\" I said I came from Steubenville. \"Oh, yes! dear Father Bigelow died there. He was good to this hospital. Last year he sent a barge of coal to us.\" I said he was good to anyone in need. He died possessed of three dollars and fifty cents. His hand was always open to any kind of distress. I did not mention to Sister Anthony that I walked from the Little Miami Station. After Mass, breakfast and miles of sympathy and \"God Bless You\" from the Sisters at the Good Samaritan, one of the nurses accompanied me to Fifth and Vine Streets, where I was to take \"Barney\\'s Bus\" for Mt St Vincent. The bus was to leave at ten A M I waited till three P M then asked one of the clerks if he thought Mr McCabe would run the bus that day. \"I fear no bus will run to-day. There is an epidemic epizootic among the horses.\" I asked if Mr Segale\\'s place of business was anywhere near. He pointed to Wood\\'s Theater and I started to the place indicated. Brother Henry managed to find a \"hack\" to send me to Mt St Vincent. On the way, between the first ascent of the hill and the Seminary, I met Sisters Gabriella and Delphina walking in the slush and cold on their way to the Orphan Asylum. I stopped to take them in. They returned with me to Cedar Grove, from there the driver was to take them to the Asylum in Cumminsville. Sister Gabriella said to me, \"I would gladly go where you are going instead of shouldering this heavy burden.\" Sister is to be mother to three hundred orphans, taking Sister Sophia\\'s place. The Sisters are showing great sympathy. I heard Sister Benedicta say, \"She does not mind going so far and alone I\\'ve not seen her shed a tear.\" Nor will you, my dear Sister. The tears will flow where none but He and myself will know. Still, I\\'m delighted to go. I did not tell you, dearest, that one year ago last November I wrote to Mother Regina saying I envied the sacrifices the Sisters were making who were sent far away to do God\\'s work. I\\'ve received my answer with compound interest. You know that up to date the Sisters going on distant missions were consulted and none were sent who had parents living. I am pleased that that record is broken in my case. Mother Regina told me to spend a day at home. Dear Lord! Give me strength. I anticipate a scene. I spent Wednesday, December 5th, at our old homestead. Mother kept open house all day. Friends came in groups. Mr Leverone and bride, his mother and the bride\\'s mother, Mrs Garibaldi, the Misses Gardelli and a host of others. Mrs Garibaldi threatened to take off my habit. I said, \"Hands off! Have you any right to detain Mary if John wishes to take her to California?\" \"Oh, that is different.\" \"Yes, as different as heaven and earth. I have chosen my portion, Mary has chosen hers, each abides by her choice.\" John Leverone\\'s mother acted most sensibly all day. She was soothing oil to all the protests made to my going. Our dear mother kept quiet. When we were permitted a lone interview she asked, \"Do you want one of your sisters to accompany you?\" I answered, \"I prefer to do just as my superiors have told me.\" \"Well, then I will give you a thousand-dollar check so that in case you desire to return you will have the wherewith.\" \"No, no, dear mother, I fully realize the responsibilities I assumed. As you are aware, I realized them from the first day I entered the Novitiate.\" Mother replied: \"And I want to tell you I never doubted your vocation. I agree to your sacrifice, my dear child, keep on serving God, I will never interfere. Now that I have your explicit answer, friends cannot urge any logical reason to prevent your going.\" All day the visitors reminded me of a disturbed ant hill. When mother and I were alone she spoke the Genoese dialect. It was like hearing sketches of a favorite opera. Wednesday at 2:00 P M I went to visit our Ecclesiastical Superior. The Most Rev J B Purcell offered me several gifts. But St Francis Xavier is my patron, so I\\'m not going to possess any superfluous article, I only regret I could not pass our home without going in, as St Francis Xavier did. If I aim high I surely must reach some upper strata of detachment in His service. One thing I take with me, the impressive blessing given me by His Grace, part of which rings clear \"May angels guard your every step.\" He was extremely sympathetic at my having to go alone. I went to confession to Rev Dr Callaghan. You may recall how we enjoyed his lecture on the \"School Question\" delivered in Steubenville. After mother had a short interview with me, father managed to see me alone. He took hold of me and asked, \"Have I ever denied you anything?\" I signified no. \"You have never disobeyed me in your life?\" I assented. \"Now I command you you must not go on this far away mission! Are you going?\" \"Yes, father.\" He let go the hold on my arm and walked toward the door. Not without my seeing his tears falling fast. He did not realize his hold on my arm gave me pain not to speak of the heart-pain for him. In the railway station at St Louis between train time, I got off to purchase a pair of arctics. I saw several Italian women selling fruit. One of them had a daughter standing near. I asked the mother if she would permit her daughter to accompany me to the shoe store, which was in sight. The mother looked at me earnestly then said to her neighbor peddler, \"How do I know who she is, she looks like a monica (sister) but she might be a strega (witch).\" I thanked the true guardian of her daughter and went to make my purchase alone. I spoke English to the peddler. If good Sister Benedicta who thought I did not mind because I did not cry had seen me during the greater part of last night she would but too truly have said, \"That heart is human in every fiber.\" That I succeeded in dignifiedly getting away from home is Thy Grace, oh, my God! Forty-two persons accompanied me to the train, among them friends of old, but my purpose never faltered, not even in shadow. Such tactics as I executed yesterday! I see one trait strong in me, the straight service of God. Not the father whom I had never seen cry, nor the most patient, dearest mother whose heart is crushed at my being sent alone, much less the friends who used every argument to make me say I would not go could elicit the faintest trace that I was not more pleased at my going alone than if I had had a dozen with me. Sisters Antonia and Gonzaga came to the waiting room. I asked the company to permit me an interview with the Sisters. When going toward them, one of my dear old friends said, \"Look, we cannot doubt she is happy.\" This was not intended for my hearing, the noise caused the speaker to raise her voice. Sister Antonia asked me how I had spent the day. I narrated some incidents. \"I\\'m an ancient religious, but I could not have gone through the ordeal as creditably as you did.\" What if I had mentioned all the heart sighs I had witnessed! When it was time to board the train I asked that my last interview be with my mother. Cannot you picture her sad, endearing look of appreciation? I\\'ll skip the last talk with mother some of it was in silence. '"
      ]
     },
     "execution_count": 5,
     "metadata": {},
     "output_type": "execute_result"
    }
   ],
   "source": [
    "# Convert values in text to list of strings (objects)\n",
    "data = df.text.values.tolist()\n",
    "data[0]"
   ]
  },
  {
   "cell_type": "code",
   "execution_count": 6,
   "metadata": {},
   "outputs": [
    {
     "name": "stdout",
     "output_type": "stream",
     "text": [
      "[['trinidad', 'train', 'from', 'steubenville', 'ohio', 'cincinnati', 'nov', 'darling', 'sister', 'justina', 'how', 'interestedly', 'you', 'sister', 'louis', 'and', 'myself', 'read', 'eugenie', 'guerin', 'journal', 'and', 'her', 'daily', 'anxieties', 'save', 'her', 'brother', 'from', 'being', 'spiritual', 'outcast', 'this', 'journal', 'which', 'propose', 'keeping', 'for', 'you', 'will', 'deal', 'with', 'incidents', 'occurring', 'journey', 'trinidad', 'and', 'happenings', 'that', 'far', 'off', 'land', 'which', 'consigned', 'the', 'journal', 'will', 'begin', 'with', 'the', 'first', 'act', 'here', 'mother', 'josephine', 'letter', 'vincent', 'nov', 'sister', 'blandina', 'steubenville', 'dear', 'child', 'you', 'are', 'missioned', 'trinidad', 'you', 'will', 'leave', 'cincinnati', 'wednesday', 'and', 'alone', 'mother', 'regina', 'will', 'attend', 'your', 'needs', 'devotedly', 'mother', 'josephine', 'this', 'letter', 'thrilled', 'both', 'was', 'delighted', 'make', 'the', 'sacrifice', 'and', 'you', 'were', 'hiding', 'your', 'feelings', 'that', 'might', 'not', 'lose', 'any', 'merit', 'neither', 'could', 'find', 'trinidad', 'the', 'map', 'except', 'the', 'island', 'cuba', 'concluded', 'that', 'cuba', 'was', 'destination', 'was', 'leave', 'steubenville', 'quietly', 'that', 'none', 'obstreperous', 'pupils', 'might', 'cause', 'the', 'incoming', 'teacher', 'annoyance', 'hence', 'went', 'sunday', 'catechetical', 'class', 'usual', 'was', 'take', 'the', 'train', 'for', 'cincinnati', 'said', 'hopefuls', 'instead', 'catechism', 'going', 'tell', 'you', 'indian', 'story', 'day', 'the', 'schoolhouse', 'roof', 'was', 'not', 'disturbed', 'though', 'the', 'hurrahs', 'were', 'loud', 'enough', 'the', 'moral', 'the', 'story', 'was', 'indian', 'endurance', 'dismissed', 'them', 'two', 'thirty', 'without', 'one', 'word', 'goodbye', 'except', 'the', 'daily', 'one', 'you', 'remember', 'how', 'surprised', 'was', 'see', 'crowd', 'the', 'station', 'wish', 'godspeed', 'thought', 'was', 'slip', 'away', 'without', 'anyone', 'knowledge', 'except', 'our', 'own', 'tait', 'and', 'mccann', 'wished', 'speak', 'alone', 'both', 'had', 'been', 'the', 'west', 'you', 'will', 'have', 'long', 'travel', 'the', 'plains', 'they', 'said', 'before', 'you', 'reach', 'trinidad', 'where', 'trinidad', 'little', 'mining', 'town', 'southwestern', 'colorado', 'then', 'knew', 'destination', 'which', 'course', 'would', 'have', 'been', 'told', 'vincent', 'both', 'gentlemen', 'said', 'they', 'had', 'traveled', 'the', 'plains', 'the', 'santa', 'trail', 'and', 'they', 'seemed', 'have', 'made', 'matter', 'conscience', 'inform', 'the', 'subject', 'cowboys', 'this', 'substance', 'was', 'their', 'conversation', 'with', 'sister', 'you', 'may', 'snow', 'bound', 'while', 'the', 'plains', 'looked', 'assent', 'knew', 'could', 'not', 'stop', 'the', 'snow', 'travelers', 'are', 'sometimes', 'snow', 'bound', 'for', 'two', 'weeks', 'and', 'you', 'are', 'alone', 'this', 'though', 'not', 'the', 'greatest', 'danger', 'you', 'mentally', 'was', 'wishing', 'both', 'gentlemen', 'somewhere', 'else', 'your', 'real', 'danger', 'from', 'cowboys', 'looked', 'the', 'speakers', 'you', 'not', 'seem', 'grasp', 'our', 'meaning', 'virtuous', 'woman', 'safe', 'near', 'cowboy', 'both', 'gave', 'trying', 'make', 'understand', 'what', 'they', 'considered', 'danger', 'why', 'should', 'snow', 'cowboys', 'frighten', 'any', 'more', 'than', 'others', 'who', 'will', 'traveling', 'the', 'same', 'way', 'you', 'see', 'dearest', 'not', 'going', 'long', 'distance', 'thought', 'three', 'clock', 'the', 'baggage', 'checker', 'came', 'through', 'our', 'coach', 'looked', 'see', 'how', 'much', 'the', 'pocketbook', 'contained', 'just', 'twenty', 'five', 'cents', 'used', 'ride', 'the', 'good', 'samaritan', 'minus', 'the', 'fare', 'vincent', 'made', 'mind', 'skirt', 'around', 'from', 'the', 'little', 'miami', 'the', 'good', 'samaritan', 'hospital', 'four', 'rang', 'the', 'front', 'doorbell', 'response', 'sat', 'the', 'stone', 'steps', 'and', 'waited', 'till', 'heard', 'the', 'rising', 'bell', 'then', 'waited', 'another', 'fifteen', 'minutes', 'when', 'again', 'rang', 'the', 'doorbell', 'sister', 'anthony', 'came', 'why', 'child', 'where', 'did', 'you', 'come', 'from', 'how', 'did', 'you', 'get', 'here', 'sure', 'you', 'are', 'cold', 'said', 'came', 'from', 'steubenville', 'yes', 'dear', 'father', 'bigelow', 'died', 'there', 'was', 'good', 'this', 'hospital', 'last', 'year', 'sent', 'barge', 'coal', 'said', 'was', 'good', 'anyone', 'need', 'died', 'possessed', 'three', 'dollars', 'and', 'fifty', 'cents', 'his', 'hand', 'was', 'always', 'open', 'any', 'kind', 'distress', 'did', 'not', 'mention', 'sister', 'anthony', 'that', 'walked', 'from', 'the', 'little', 'miami', 'station', 'after', 'mass', 'breakfast', 'and', 'miles', 'sympathy', 'and', 'god', 'bless', 'you', 'from', 'the', 'sisters', 'the', 'good', 'samaritan', 'one', 'the', 'nurses', 'accompanied', 'fifth', 'and', 'vine', 'streets', 'where', 'was', 'take', 'barney', 'bus', 'for', 'vincent', 'the', 'bus', 'was', 'leave', 'ten', 'waited', 'till', 'three', 'then', 'asked', 'one', 'the', 'clerks', 'thought', 'mccabe', 'would', 'run', 'the', 'bus', 'that', 'day', 'fear', 'bus', 'will', 'run', 'day', 'there', 'epidemic', 'epizootic', 'among', 'the', 'horses', 'asked', 'segale', 'place', 'business', 'was', 'anywhere', 'near', 'pointed', 'wood', 'theater', 'and', 'started', 'the', 'place', 'indicated', 'brother', 'henry', 'managed', 'find', 'hack', 'send', 'vincent', 'the', 'way', 'between', 'the', 'first', 'ascent', 'the', 'hill', 'and', 'the', 'seminary', 'met', 'sisters', 'gabriella', 'and', 'delphina', 'walking', 'the', 'slush', 'and', 'cold', 'their', 'way', 'the', 'orphan', 'asylum', 'stopped', 'take', 'them', 'they', 'returned', 'with', 'cedar', 'grove', 'from', 'there', 'the', 'driver', 'was', 'take', 'them', 'the', 'asylum', 'cumminsville', 'sister', 'gabriella', 'said', 'would', 'gladly', 'where', 'you', 'are', 'going', 'instead', 'shouldering', 'this', 'heavy', 'burden', 'sister', 'mother', 'three', 'hundred', 'orphans', 'taking', 'sister', 'sophia', 'place', 'the', 'sisters', 'are', 'showing', 'great', 'sympathy', 'heard', 'sister', 'benedicta', 'say', 'she', 'does', 'not', 'mind', 'going', 'far', 'and', 'alone', 'not', 'seen', 'her', 'shed', 'tear', 'nor', 'will', 'you', 'dear', 'sister', 'the', 'tears', 'will', 'flow', 'where', 'none', 'but', 'and', 'myself', 'will', 'know', 'still', 'delighted', 'did', 'not', 'tell', 'you', 'dearest', 'that', 'one', 'year', 'ago', 'last', 'november', 'wrote', 'mother', 'regina', 'saying', 'envied', 'the', 'sacrifices', 'the', 'sisters', 'were', 'making', 'who', 'were', 'sent', 'far', 'away', 'god', 'work', 'received', 'answer', 'with', 'compound', 'interest', 'you', 'know', 'that', 'date', 'the', 'sisters', 'going', 'distant', 'missions', 'were', 'consulted', 'and', 'none', 'were', 'sent', 'who', 'had', 'parents', 'living', 'pleased', 'that', 'that', 'record', 'broken', 'case', 'mother', 'regina', 'told', 'spend', 'day', 'home', 'dear', 'lord', 'give', 'strength', 'anticipate', 'scene', 'spent', 'wednesday', 'december', 'our', 'old', 'homestead', 'mother', 'kept', 'open', 'house', 'all', 'day', 'friends', 'came', 'groups', 'leverone', 'and', 'bride', 'his', 'mother', 'and', 'the', 'bride', 'mother', 'mrs', 'garibaldi', 'the', 'misses', 'gardelli', 'and', 'host', 'others', 'mrs', 'garibaldi', 'threatened', 'take', 'off', 'habit', 'said', 'hands', 'off', 'have', 'you', 'any', 'right', 'detain', 'mary', 'john', 'wishes', 'take', 'her', 'california', 'that', 'different', 'yes', 'different', 'heaven', 'and', 'earth', 'have', 'chosen', 'portion', 'mary', 'has', 'chosen', 'hers', 'each', 'abides', 'her', 'choice', 'john', 'leverone', 'mother', 'acted', 'most', 'sensibly', 'all', 'day', 'she', 'was', 'soothing', 'oil', 'all', 'the', 'protests', 'made', 'going', 'our', 'dear', 'mother', 'kept', 'quiet', 'when', 'were', 'permitted', 'lone', 'interview', 'she', 'asked', 'you', 'want', 'one', 'your', 'sisters', 'accompany', 'you', 'answered', 'prefer', 'just', 'superiors', 'have', 'told', 'well', 'then', 'will', 'give', 'you', 'thousand', 'dollar', 'check', 'that', 'case', 'you', 'desire', 'return', 'you', 'will', 'have', 'the', 'wherewith', 'dear', 'mother', 'fully', 'realize', 'the', 'assumed', 'you', 'are', 'aware', 'realized', 'them', 'from', 'the', 'first', 'day', 'entered', 'the', 'novitiate', 'mother', 'replied', 'and', 'want', 'tell', 'you', 'never', 'doubted', 'your', 'vocation', 'agree', 'your', 'sacrifice', 'dear', 'child', 'keep', 'serving', 'god', 'will', 'never', 'interfere', 'now', 'that', 'have', 'your', 'explicit', 'answer', 'friends', 'cannot', 'urge', 'any', 'logical', 'reason', 'prevent', 'your', 'going', 'all', 'day', 'the', 'visitors', 'reminded', 'disturbed', 'ant', 'hill', 'when', 'mother', 'and', 'were', 'alone', 'she', 'spoke', 'the', 'genoese', 'dialect', 'was', 'like', 'hearing', 'sketches', 'favorite', 'opera', 'wednesday', 'went', 'visit', 'our', 'ecclesiastical', 'superior', 'the', 'most', 'rev', 'purcell', 'offered', 'several', 'gifts', 'but', 'francis', 'xavier', 'patron', 'not', 'going', 'possess', 'any', 'superfluous', 'article', 'only', 'regret', 'could', 'not', 'pass', 'our', 'home', 'without', 'going', 'francis', 'xavier', 'did', 'aim', 'high', 'surely', 'must', 'reach', 'some', 'upper', 'strata', 'detachment', 'his', 'service', 'one', 'thing', 'take', 'with', 'the', 'impressive', 'blessing', 'given', 'his', 'grace', 'part', 'which', 'rings', 'clear', 'may', 'angels', 'guard', 'your', 'every', 'step', 'was', 'extremely', 'sympathetic', 'having', 'alone', 'went', 'confession', 'rev', 'callaghan', 'you', 'may', 'recall', 'how', 'enjoyed', 'his', 'lecture', 'the', 'school', 'question', 'delivered', 'steubenville', 'after', 'mother', 'had', 'short', 'interview', 'with', 'father', 'managed', 'see', 'alone', 'took', 'hold', 'and', 'asked', 'have', 'ever', 'denied', 'you', 'anything', 'signified', 'you', 'have', 'never', 'disobeyed', 'your', 'life', 'assented', 'now', 'command', 'you', 'you', 'must', 'not', 'this', 'far', 'away', 'mission', 'are', 'you', 'going', 'yes', 'father', 'let', 'the', 'hold', 'arm', 'and', 'walked', 'toward', 'the', 'door', 'not', 'without', 'seeing', 'his', 'tears', 'falling', 'fast', 'did', 'not', 'realize', 'his', 'hold', 'arm', 'gave', 'pain', 'not', 'speak', 'the', 'heart', 'pain', 'for', 'him', 'the', 'railway', 'station', 'louis', 'between', 'train', 'time', 'got', 'off', 'purchase', 'pair', 'arctics', 'saw', 'several', 'italian', 'women', 'selling', 'fruit', 'one', 'them', 'had', 'daughter', 'standing', 'near', 'asked', 'the', 'mother', 'she', 'would', 'permit', 'her', 'daughter', 'accompany', 'the', 'shoe', 'store', 'which', 'was', 'sight', 'the', 'mother', 'looked', 'earnestly', 'then', 'said', 'her', 'neighbor', 'peddler', 'how', 'know', 'who', 'she', 'she', 'looks', 'like', 'monica', 'sister', 'but', 'she', 'might', 'strega', 'witch', 'thanked', 'the', 'true', 'guardian', 'her', 'daughter', 'and', 'went', 'make', 'purchase', 'alone', 'spoke', 'english', 'the', 'peddler', 'good', 'sister', 'benedicta', 'who', 'thought', 'did', 'not', 'mind', 'because', 'did', 'not', 'cry', 'had', 'seen', 'during', 'the', 'greater', 'part', 'last', 'night', 'she', 'would', 'but', 'too', 'truly', 'have', 'said', 'that', 'heart', 'human', 'every', 'fiber', 'that', 'succeeded', 'dignifiedly', 'getting', 'away', 'from', 'home', 'thy', 'grace', 'god', 'forty', 'two', 'persons', 'accompanied', 'the', 'train', 'among', 'them', 'friends', 'old', 'but', 'purpose', 'never', 'faltered', 'not', 'even', 'shadow', 'such', 'tactics', 'executed', 'yesterday', 'see', 'one', 'trait', 'strong', 'the', 'straight', 'service', 'god', 'not', 'the', 'father', 'whom', 'had', 'never', 'seen', 'cry', 'nor', 'the', 'most', 'patient', 'dearest', 'mother', 'whose', 'heart', 'crushed', 'being', 'sent', 'alone', 'much', 'less', 'the', 'friends', 'who', 'used', 'every', 'argument', 'make', 'say', 'would', 'not', 'could', 'elicit', 'the', 'faintest', 'trace', 'that', 'was', 'not', 'more', 'pleased', 'going', 'alone', 'than', 'had', 'had', 'dozen', 'with', 'sisters', 'antonia', 'and', 'gonzaga', 'came', 'the', 'waiting', 'room', 'asked', 'the', 'company', 'permit', 'interview', 'with', 'the', 'sisters', 'when', 'going', 'toward', 'them', 'one', 'dear', 'old', 'friends', 'said', 'look', 'cannot', 'doubt', 'she', 'happy', 'this', 'was', 'not', 'intended', 'for', 'hearing', 'the', 'noise', 'caused', 'the', 'speaker', 'raise', 'her', 'voice', 'sister', 'antonia', 'asked', 'how', 'had', 'spent', 'the', 'day', 'narrated', 'some', 'incidents', 'ancient', 'religious', 'but', 'could', 'not', 'have', 'gone', 'through', 'the', 'ordeal', 'creditably', 'you', 'did', 'what', 'had', 'mentioned', 'all', 'the', 'heart', 'sighs', 'had', 'witnessed', 'when', 'was', 'time', 'board', 'the', 'train', 'asked', 'that', 'last', 'interview', 'with', 'mother', 'cannot', 'you', 'picture', 'her', 'sad', 'endearing', 'look', 'appreciation', 'skip', 'the', 'last', 'talk', 'with', 'mother', 'some', 'was', 'silence']]\n"
     ]
    }
   ],
   "source": [
    "# Define function to convert texts into a list of lowercase tokens\n",
    "def text_to_words(texts):\n",
    "    for text in texts:\n",
    "        yield(gensim.utils.simple_preprocess(str(text), \n",
    "                                             deacc=True, # removes accents\n",
    "                                             min_len=3))   # removes tokens shorter than three characters\n",
    "\n",
    "data_words = list(text_to_words(data))\n",
    "\n",
    "print(data_words[:1])"
   ]
  },
  {
   "cell_type": "code",
   "execution_count": 7,
   "metadata": {},
   "outputs": [],
   "source": [
    "# Build the bigram and trigram models\n",
    "bigram = gensim.models.Phrases(data_words, min_count=5, threshold=100)\n",
    "trigram = gensim.models.Phrases(bigram[data_words], threshold=100)  \n",
    "\n",
    "# Faster way to get a sentence clubbed as a trigram/bigram\n",
    "bigram_mod = gensim.models.phrases.Phraser(bigram)\n",
    "trigram_mod = gensim.models.phrases.Phraser(trigram)"
   ]
  },
  {
   "cell_type": "code",
   "execution_count": 8,
   "metadata": {},
   "outputs": [
    {
     "name": "stdout",
     "output_type": "stream",
     "text": [
      "['acres_cleared', 'alexander_robb', 'allen_ransome', 'archbishop_lamy', 'associate_presbytery', 'attorney_general', 'below_zero', 'bentley_belleville', 'big_jim', 'black_flies', 'both_sides', 'british_columbia', 'bushels_wheat', 'canal_boats', 'captain_orlebar', 'captain_thorndike', 'catharine_parr', 'cents_per', 'charles_haszard', 'circuit_court', 'colonel_chavez', 'commodious_seats', 'corrugated_iron', 'cup_tea', 'dark_cloud', 'dearest_catherine', 'degrees_below', 'difference_between', 'different_parts', 'discharged_soldiers', 'dollars_acre', 'don_santiago', 'dona_juanita', 'dona_nieves', 'eastern_townships', 'erie_canal', 'everything_else', 'father_gasparri', 'father_pinto', 'ferry_boat', 'few_lines', 'few_minutes', 'flora_lyndsay', 'flour_mills', 'fruit_trees', 'general_carleton', 'geoffrey_moncton', 'get_rid', 'glad_hear', 'god_bless', 'good_bye', 'grand_river', 'great_deal', 'greater_part', 'grist_mill', 'half_dozen', 'half_hour', 'half_past', 'hermana_dolores', 'house_assembly', 'house_commons', 'human_nature', 'humble_servant', 'indian_corn', 'indian_tribes', 'industrial_school', 'james_topham', 'john_kirby', 'joseph_carrothers', 'kansas_city', 'katie_vickers', 'kind_regards', 'kindest_love', 'kindest_regards', 'kit_carson', 'lake_erie', 'lake_michigan', 'lake_ontario', 'las_vegas', 'letters_introduction', 'literary_garland', 'long_creek', 'lord_hawkesbury', 'lord_supper', 'lower_canada', 'lower_province', 'margaret_ellin', 'mark_hurdlestone', 'martha_april', 'martha_august', 'martha_february', 'martha_january', 'martha_july', 'martha_march', 'martha_november', 'martha_october', 'martha_september', 'mary_josephine', 'matrimonial_speculations', 'miss_clares', 'miss_muncey', 'miss_strickland', 'moderate_rate', 'moodie_unites', 'mother_regina', 'mrs_forsyth', 'mrs_gall', 'mrs_montgomery', 'mrs_oldfield', 'murray_harbour', 'narrow_escape', 'nathaniel_carrothers', 'native_population', 'new_mexico', 'new_orleans', 'new_york', 'nicola_lake', 'north_douro', 'nova_scotia', 'obedient_servant', 'opposite_side', 'parr_traill', 'peep_day', 'per_acre', 'per_annum', 'per_bushel', 'per_cent', 'per_cwt', 'per_gallon', 'per_pound', 'pork_curing', 'post_office', 'postmarked_london', 'pounds_sterling', 'presbyterian_hospital', 'prince_edward', 'provincial_parliament', 'queens_england', 'rail_road', 'rainy_season', 'religious_instruction', 'returning_officer', 'rev_archbishop', 'rev_bishop', 'rev_gasparri', 'rev_lamy', 'richard_bentley', 'rio_grande', 'roman_catholic', 'roman_catholics', 'rye_grass', 'safe_arrival', 'samuel_street', 'san_felipe', 'san_francisco', 'san_miguel', 'santa_claus', 'santa_trail', 'sarah_martha', 'school_warrants', 'secretary_state', 'seventy_five', 'shortly_after', 'signed_alexander', 'signed_sandy', 'simpson_rest', 'sister_augustine', 'sister_blandina', 'sister_catherine', 'sister_dolores', 'sister_eulalia', 'sister_justina', 'sister_pauline', 'sisters_charity', 'sisters_loretto', 'sit_down', 'six_months', 'sixty_seventy', 'sorry_hear', 'steam_boat', 'steam_boats', 'strong_drinks', 'susanna_moodie', 'susanna_robb', 'tea_coffee', 'ten_minutes', 'thank_god', 'thousand_inhabitants', 'thousand_pounds', 'traill_belleville', 'trinidad_colorado', 'truly_susanna', 'united_states', 'upper_canada', 'upper_province', 'van_buren', 'vicar_general', 'vigilant_committee', 'war_whoop', 'weeks_ago', 'western_states', 'wild_flowers', 'william_carrothers', 'william_hamilton', 'william_sampson', 'years_ago', 'yoke_oxen', 'young_ladies', 'yours_truly']\n"
     ]
    }
   ],
   "source": [
    "# See results of bigrams function\n",
    "bigrams = [] # Create list\n",
    "for item in data_words: # For each item (i.e., letter) in data words\n",
    "    bigrams.append([b for b in bigram[item] if b.count('_') == 1]) # add 2-grams to new list\n",
    "bigrams = list(np.concatenate(bigrams)) # flatten list\n",
    "bigrams = list(dict.fromkeys(bigrams)) # take unique values\n",
    "print(sorted(bigrams)) # print in alphabetical order"
   ]
  },
  {
   "cell_type": "code",
   "execution_count": 9,
   "metadata": {},
   "outputs": [
    {
     "name": "stdout",
     "output_type": "stream",
     "text": [
      "['acres_cleared', 'associate_presbytery', 'attorney_general', 'big_jim', 'black_flies', 'blessing_god', 'both_sides', 'british_columbia', 'bushels_wheat', 'canal_boats', 'captain_orlebar', 'captain_thorndike', 'cents_per', 'charles_haszard', 'circuit_court', 'colonel_chavez', 'commodious_seats', 'cup_tea', 'dark_cloud', 'days_ago', 'dear_bentley', 'dearest_catherine', 'degrees_below', 'difference_between', 'different_parts', 'discharged_soldiers', 'dollars_acre', 'don_santiago', 'dona_juanita', 'eastern_townships', 'erie_canal', 'everything_else', 'father_gasparri', 'father_pinto', 'ferry_boat', 'few_days', 'few_lines', 'few_minutes', 'flora_lyndsay', 'flour_mills', 'friend_allen', 'fruit_trees', 'general_carleton', 'get_rid', 'glad_hear', 'god_bless', 'good_bye', 'good_deal', 'got_rid', 'grand_river', 'great_deal', 'greater_part', 'grist_mill', 'half_dozen', 'half_hour', 'half_past', 'hermana_dolores', 'house_assembly', 'house_commons', 'human_nature', 'humble_servant', 'indian_corn', 'indian_tribes', 'industrial_school', 'james_topham', 'john_kirby', 'joseph_carrothers', 'kansas_city', 'katie_vickers', 'kind_regards', 'kindest_love', 'kindest_regards', 'kit_carson', 'lake_erie', 'lake_michigan', 'lake_ontario', 'letters_introduction', 'literary_garland', 'log_house', 'long_creek', 'lord_hawkesbury', 'lord_supper', 'loretto_sisters', 'lower_canada', 'lower_province', 'mark_hurdlestone', 'mary_josephine', 'matrimonial_speculations', 'miss_clares', 'miss_forsyth', 'miss_strickland', 'moderate_rate', 'moodie_unites', 'mother_josephine', 'mrs_forsyth', 'mrs_gall', 'mrs_lawson', 'mrs_montgomery', 'mrs_oldfield', 'murray_harbour', 'narrow_escape', 'nathaniel_carrothers', 'native_population', 'new_brunswick', 'new_mexico', 'new_orleans', 'new_york', 'north_douro', 'obedient_servant', 'opposite_side', 'peep_day', 'per_acre', 'per_barrel', 'per_bushel', 'per_cent', 'per_cwt', 'per_gallon', 'per_pound', 'pork_curing', 'post_office', 'postmarked_london', 'presbyterian_hospital', 'prince_edward', 'provincial_parliament', 'queens_england', 'rail_road', 'rainy_season', 'religious_instruction', 'returning_officer', 'rev_archbishop', 'rev_bishop', 'rev_gasparri', 'rev_lamy', 'richard_bentley', 'roman_catholic', 'roman_catholics', 'rye_grass', 'safe_arrival', 'samuel_street', 'san_felipe', 'san_francisco', 'santa_claus', 'santa_trail', 'sarah_martha', 'school_warrants', 'secretary_state', 'seventy_five', 'shortly_after', 'signed_alexander', 'signed_sandy', 'simpson_rest', 'sister_augustine', 'sister_blandina', 'sister_catherine', 'sister_dolores', 'sister_gabriella', 'sister_louise', 'sister_pauline', 'sisters_charity', 'sisters_loretto', 'sit_down', 'six_months', 'sixty_seventy', 'sorry_hear', 'steam_boat', 'steam_boats', 'strong_drinks', 'susanna_moodie', 'susanna_robb', 'tea_coffee', 'ten_minutes', 'ten_twelve', 'thank_god', 'thousand_inhabitants', 'thousand_pounds', 'traill_belleville', 'trinidad_colorado', 'truly_susanna', 'united_states', 'upper_canada', 'upper_province', 'vicar_general', 'vigilant_committee', 'war_whoop', 'weeks_ago', 'western_states', 'wild_flowers', 'william_carrothers', 'william_hamilton', 'william_sampson', 'years_ago', 'yoke_oxen', 'young_ladies', 'yours_truly']\n",
      "[]\n"
     ]
    }
   ],
   "source": [
    "# See results of trigrams function\n",
    "\n",
    "trigrams1 = [] # Create list\n",
    "for item in data_words: # For each item (i.e., chunk) in data words\n",
    "    trigrams1.append([b for b in trigram[item] if b.count('_') == 1]) # add 2-grams to new list\n",
    "trigrams1 = list(np.concatenate(trigrams1)) # flatten list\n",
    "trigrams1 = list(dict.fromkeys(trigrams1)) # take unique values\n",
    "print(sorted(trigrams1)) # print in alphabetical order\n",
    "\n",
    "trigrams2 = [] # Create list\n",
    "for item in data_words: # For each item (i.e., chunk) in data words\n",
    "    trigrams2.append([b for b in trigram[item] if b.count('_') == 2]) # add 2-grams to new list\n",
    "trigrams2 = list(np.concatenate(trigrams2)) # flatten list\n",
    "trigrams2 = list(dict.fromkeys(trigrams2)) # take unique values\n",
    "print(sorted(trigrams2)) # print in alphabetical order"
   ]
  },
  {
   "cell_type": "code",
   "execution_count": 13,
   "metadata": {},
   "outputs": [
    {
     "data": {
      "text/plain": [
       "5631"
      ]
     },
     "execution_count": 13,
     "metadata": {},
     "output_type": "execute_result"
    }
   ],
   "source": [
    "# Get 19th century stopwords\n",
    "stop_words = pd.read_csv(\"Jockers_19thCenturyStops.csv\")\n",
    "stop_words = stop_words['word'].values.astype(str).tolist()\n",
    "len(stop_words)"
   ]
  },
  {
   "cell_type": "code",
   "execution_count": 14,
   "metadata": {},
   "outputs": [],
   "source": [
    "# Define functions for stopwords, bigrams, trigrams and lemmatization\n",
    "def remove_stopwords(texts):\n",
    "    return [[word for word in simple_preprocess(str(doc)) if word not in stop_words] for doc in texts]\n",
    "\n",
    "def make_bigrams(texts):\n",
    "    return [bigram_mod[doc] for doc in texts]\n",
    "\n",
    "def make_trigrams(texts):\n",
    "    return [trigram_mod[bigram_mod[doc]] for doc in texts]\n",
    "\n",
    "def lemmatization(texts, allowed_postags=['NOUN', 'VERB']):\n",
    "    \"\"\"https://spacy.io/api/annotation\"\"\"\n",
    "    texts_out = []\n",
    "    for sent in texts:\n",
    "        doc = nlp(\" \".join(sent)) \n",
    "        texts_out.append([token.lemma_ for token in doc if token.pos_ in allowed_postags])\n",
    "    return texts_out"
   ]
  },
  {
   "cell_type": "code",
   "execution_count": 15,
   "metadata": {},
   "outputs": [],
   "source": [
    "# Remove Stop Words\n",
    "data_words_nostops = remove_stopwords(data_words)"
   ]
  },
  {
   "cell_type": "code",
   "execution_count": 16,
   "metadata": {},
   "outputs": [],
   "source": [
    "# Form Bigrams\n",
    "data_words_bigrams = make_bigrams(data_words_nostops)\n",
    "\n",
    "# Form Trigrams\n",
    "data_words_trigrams = make_trigrams(data_words_nostops)"
   ]
  },
  {
   "cell_type": "code",
   "execution_count": 15,
   "metadata": {},
   "outputs": [],
   "source": [
    "# Initialize spacy 'en' model\n",
    "# python3 -m spacy download en_core_web_md\n",
    "nlp = spacy.load('en_core_web_md')"
   ]
  },
  {
   "cell_type": "code",
   "execution_count": 16,
   "metadata": {
    "scrolled": false
   },
   "outputs": [
    {
     "name": "stdout",
     "output_type": "stream",
     "text": [
      "[['sister', 'anxiety', 'brother', 'outcast', 'journal', 'deal', 'incident', 'journey', 'land', 'journal', 'mother', 'letter', 'child', 'mother', 'mother', 'letter', 'sacrifice', 'hiding', 'feeling', 'merit', 'find', 'map', 'island', 'destination', 'pupil', 'teacher', 'annoyance', 'class', 'catechism', 'story', 'schoolhouse', 'roof', 'hurrah', 'story', 'endurance', 'word', 'goodbye', 'crowd', 'station', 'godspeed', 'travel', 'plain', 'mining', 'town', 'destination', 'course', 'gentleman', 'plain', 'matter', 'cowboy', 'substance', 'conversation', 'sister', 'plain', 'assent', 'snow', 'traveler', 'snow', 'week', 'danger', 'gentleman', 'danger', 'cowboy', 'speaker', 'woman', 'cowboy', 'danger', 'snow', 'cowboy', 'dearest', 'distance', 'clock', 'baggage', 'checker', 'coach', 'pocketbook', 'cent', 'fare', 'mind', 'doorbell', 'response', 'stone', 'step', 'minute', 'doorbell', 'sister', 'child', 'cold', 'father', 'hospital', 'year', 'barge', 'coal', 'need', 'dollar', 'cent', 'hand', 'kind', 'distress', 'mention', 'sister', 'station', 'breakfast', 'sympathy', 'god_bless', 'sister', 'nurse', 'vine', 'street', 'bus', 'bus', 'leave', 'clerk', 'fear', 'day', 'epidemic', 'horse', 'place', 'business', 'wood', 'theater', 'place', 'brother', 'hack', 'sister', 'orphan', 'asylum', 'cedar', 'grove', 'driver', 'asylum', 'cumminsville', 'sister', 'burden', 'sister', 'mother', 'orphan', 'sister', 'place', 'sister', 'sympathy', 'sister', 'mind', 'sister', 'flow', 'year', 'mother', 'sacrifice', 'sister', 'work', 'answer', 'compound', 'interest', 'sister', 'mission', 'parent', 'case', 'mother', 'day', 'strength', 'scene', 'homestead', 'mother', 'house', 'day', 'friend', 'group', 'bride', 'mother', 'habit', 'hand', 'detain', 'wish', 'portion', 'abide', 'choice', 'mother', 'day', 'oil', 'protest', 'mother', 'interview', 'sister', 'superior', 'dollar', 'check', 'case', 'return', 'mother', 'day', 'mother', 'vocation', 'sacrifice', 'child', 'answer', 'friend', 'reason', 'day', 'visitor', 'ant', 'hill', 'mother', 'sketch', 'opera', 'purcell', 'gift', 'patron', 'article', 'regret', 'detachment', 'service', 'blessing', 'ring', 'angel', 'step', 'confession', 'lecture', 'school', 'question', 'mother', 'interview', 'father', 'hold', 'life', 'command', 'mission', 'arm', 'door', 'tear', 'hold', 'arm', 'pain', 'speak', 'heart', 'pain', 'railway', 'station', 'train', 'time', 'purchase', 'pair', 'arctic', 'woman', 'fruit', 'daughter', 'mother', 'daughter', 'shoe', 'store', 'sight', 'mother', 'neighbor', 'peddler', 'sister', 'strega', 'witch', 'guardian', 'daughter', 'purchase', 'peddler', 'sister', 'cry', 'night', 'fiber', 'person', 'train', 'friend', 'purpose', 'shadow', 'tactic', 'yesterday', 'trait', 'service', 'cry', 'dearest', 'mother', 'heart', 'friend', 'argument', 'trace', 'dozen', 'sister', 'gonzaga', 'room', 'company', 'interview', 'sister', 'friend', 'hearing', 'noise', 'speaker', 'raise', 'voice', 'sister', 'day', 'incident', 'ordeal', 'creditably', 'heart', 'time', 'board', 'train', 'interview', 'mother', 'picture', 'look', 'appreciation', 'talk', 'mother', 'silence']]\n"
     ]
    }
   ],
   "source": [
    "# Do lemmatization keeping only nouns\n",
    "data_lemmatizedNouns = lemmatization(data_words_bigrams, allowed_postags=['NOUN'])\n",
    "print(data_lemmatizedNouns[:1])"
   ]
  },
  {
   "cell_type": "code",
   "execution_count": 17,
   "metadata": {},
   "outputs": [
    {
     "name": "stdout",
     "output_type": "stream",
     "text": [
      "[['read', 'save', 'propose', 'keep', 'occur', 'happening', 'consign', 'missione', 'attend', 'need', 'thrill', 'lose', 'conclude', 'leave', 'cause', 'take', 'hopeful', 'go', 'disturb', 'dismiss', 'remember', 'wish', 'slip', 'speak', 'reach', 'know', 'travel', 'inform', 'bind', 'look', 'know', 'bind', 'wish', 'look', 'grasp', 'mean', 'give', 'try', 'understand', 'consider', 'frighten', 'travel', 'go', 'come', 'look', 'contain', 'ride', 'skirt', 'ring', 'sit', 'wait', 'hear', 'rise', 'wait', 'ring', 'come', 'come', 'die', 'send', 'die', 'possess', 'walk', 'accompany', 'take', 'wait', 'point', 'start', 'indicate', 'manage', 'find', 'send', 'meet', 'walk', 'stop', 'take', 'return', 'take', 'go', 'shoulder', 'show', 'hear', 'see', 'write', 'say', 'envy', 'make', 'send', 'receive', 'go', 'consult', 'send', 'live', 'spend', 'give', 'anticipate', 'spend', 'keep', 'come', 'miss', 'threaten', 'take', 'take', 'choose', 'choose', 'act', 'soothe', 'go', 'keep', 'permit', 'want', 'accompany', 'prefer', 'give', 'realize', 'assume', 'realize', 'enter', 'want', 'agree', 'keep', 'serve', 'interfere', 'urge', 'prevent', 'go', 'remind', 'disturb', 'speak', 'hear', 'visit', 'offer', 'go', 'pass', 'go', 'aim', 'reach', 'take', 'give', 'guard', 'have', 'enjoy', 'deliver', 'manage', 'take', 'deny', 'signify', 'disobey', 'assent', 'go', 'hold', 'walk', 'see', 'fall', 'realize', 'give', 'see', 'sell', 'stand', 'permit', 'accompany', 'look', 'look', 'thank', 'speak', 'see', 'heart', 'succeed', 'get', 'accompany', 'falter', 'execute', 'see', 'crush', 'send', 'elicit', 'go', 'wait', 'permit', 'go', 'look', 'intend', 'cause', 'spend', 'narrate', 'go', 'mention', 'sigh', 'witness', 'skip']]\n"
     ]
    }
   ],
   "source": [
    "# Do lemmatization keeping only verbs\n",
    "data_lemmatizedVerbs = lemmatization(data_words_bigrams, allowed_postags=['VERB'])\n",
    "print(data_lemmatizedVerbs[:1])"
   ]
  },
  {
   "cell_type": "code",
   "execution_count": 18,
   "metadata": {},
   "outputs": [
    {
     "name": "stdout",
     "output_type": "stream",
     "text": [
      "[['sister', 'read', 'anxiety', 'save', 'brother', 'outcast', 'journal', 'propose', 'keep', 'deal', 'incident', 'occur', 'journey', 'happening', 'land', 'consign', 'journal', 'mother', 'letter', 'child', 'missione', 'mother', 'attend', 'need', 'mother', 'letter', 'thrill', 'sacrifice', 'hiding', 'feeling', 'lose', 'merit', 'find', 'map', 'island', 'conclude', 'destination', 'leave', 'pupil', 'cause', 'teacher', 'annoyance', 'class', 'take', 'hopeful', 'catechism', 'go', 'story', 'schoolhouse', 'roof', 'disturb', 'hurrah', 'story', 'endurance', 'dismiss', 'word', 'goodbye', 'remember', 'crowd', 'station', 'wish', 'godspeed', 'slip', 'speak', 'travel', 'plain', 'reach', 'mining', 'town', 'know', 'destination', 'course', 'gentleman', 'travel', 'plain', 'matter', 'inform', 'cowboy', 'substance', 'conversation', 'sister', 'bind', 'plain', 'look', 'assent', 'know', 'snow', 'traveler', 'snow', 'bind', 'week', 'danger', 'wish', 'gentleman', 'danger', 'cowboy', 'look', 'speaker', 'grasp', 'mean', 'woman', 'cowboy', 'give', 'try', 'understand', 'consider', 'danger', 'snow', 'cowboy', 'frighten', 'travel', 'dearest', 'go', 'distance', 'clock', 'baggage', 'checker', 'come', 'coach', 'look', 'pocketbook', 'contain', 'cent', 'ride', 'fare', 'mind', 'skirt', 'ring', 'doorbell', 'response', 'sit', 'stone', 'step', 'wait', 'hear', 'rise', 'wait', 'minute', 'ring', 'doorbell', 'sister', 'come', 'child', 'cold', 'come', 'father', 'die', 'hospital', 'year', 'send', 'barge', 'coal', 'need', 'die', 'possess', 'dollar', 'cent', 'hand', 'kind', 'distress', 'mention', 'sister', 'walk', 'station', 'breakfast', 'sympathy', 'god_bless', 'sister', 'nurse', 'accompany', 'vine', 'street', 'take', 'bus', 'bus', 'leave', 'wait', 'clerk', 'fear', 'day', 'epidemic', 'horse', 'place', 'business', 'point', 'wood', 'theater', 'start', 'place', 'indicate', 'brother', 'manage', 'find', 'hack', 'send', 'meet', 'sister', 'walk', 'orphan', 'asylum', 'stop', 'take', 'return', 'cedar', 'grove', 'driver', 'take', 'asylum', 'cumminsville', 'sister', 'go', 'shoulder', 'burden', 'sister', 'mother', 'orphan', 'sister', 'place', 'sister', 'show', 'sympathy', 'hear', 'sister', 'mind', 'see', 'sister', 'flow', 'year', 'write', 'mother', 'say', 'envy', 'sacrifice', 'sister', 'make', 'send', 'work', 'receive', 'answer', 'compound', 'interest', 'sister', 'go', 'mission', 'consult', 'send', 'parent', 'live', 'case', 'mother', 'spend', 'day', 'give', 'strength', 'anticipate', 'scene', 'spend', 'homestead', 'mother', 'keep', 'house', 'day', 'friend', 'come', 'group', 'bride', 'mother', 'miss', 'threaten', 'take', 'habit', 'hand', 'detain', 'wish', 'take', 'choose', 'portion', 'choose', 'abide', 'choice', 'mother', 'act', 'day', 'soothe', 'oil', 'protest', 'go', 'mother', 'keep', 'permit', 'interview', 'want', 'sister', 'accompany', 'prefer', 'superior', 'give', 'dollar', 'check', 'case', 'return', 'mother', 'realize', 'assume', 'realize', 'day', 'enter', 'mother', 'want', 'vocation', 'agree', 'sacrifice', 'child', 'keep', 'serve', 'interfere', 'answer', 'friend', 'urge', 'reason', 'prevent', 'go', 'day', 'visitor', 'remind', 'disturb', 'ant', 'hill', 'mother', 'speak', 'hear', 'sketch', 'opera', 'visit', 'purcell', 'offer', 'gift', 'patron', 'go', 'article', 'regret', 'pass', 'go', 'aim', 'reach', 'detachment', 'service', 'take', 'blessing', 'give', 'ring', 'angel', 'guard', 'step', 'have', 'confession', 'enjoy', 'lecture', 'school', 'question', 'deliver', 'mother', 'interview', 'father', 'manage', 'take', 'hold', 'deny', 'signify', 'disobey', 'life', 'assent', 'command', 'mission', 'go', 'hold', 'arm', 'walk', 'door', 'see', 'tear', 'fall', 'realize', 'hold', 'arm', 'give', 'pain', 'speak', 'heart', 'pain', 'railway', 'station', 'train', 'time', 'purchase', 'pair', 'arctic', 'see', 'woman', 'sell', 'fruit', 'daughter', 'stand', 'mother', 'permit', 'daughter', 'accompany', 'shoe', 'store', 'sight', 'mother', 'look', 'neighbor', 'peddler', 'look', 'sister', 'strega', 'witch', 'thank', 'guardian', 'daughter', 'purchase', 'speak', 'peddler', 'sister', 'cry', 'see', 'night', 'heart', 'fiber', 'succeed', 'get', 'person', 'accompany', 'train', 'friend', 'purpose', 'falter', 'shadow', 'tactic', 'execute', 'yesterday', 'trait', 'service', 'see', 'cry', 'dearest', 'mother', 'heart', 'crush', 'send', 'friend', 'argument', 'elicit', 'trace', 'go', 'dozen', 'sister', 'gonzaga', 'wait', 'room', 'company', 'permit', 'interview', 'sister', 'go', 'friend', 'look', 'intend', 'hearing', 'noise', 'cause', 'speaker', 'raise', 'voice', 'sister', 'spend', 'day', 'narrate', 'incident', 'go', 'ordeal', 'creditably', 'mention', 'heart', 'sigh', 'witness', 'time', 'board', 'train', 'interview', 'mother', 'picture', 'look', 'appreciation', 'skip', 'talk', 'mother', 'silence']]\n"
     ]
    }
   ],
   "source": [
    "# Do lemmatization keeping only noun, verb\n",
    "data_lemmatized = lemmatization(data_words_bigrams, allowed_postags=['NOUN', 'VERB'])\n",
    "print(data_lemmatized[:1])"
   ]
  },
  {
   "cell_type": "markdown",
   "metadata": {},
   "source": [
    "## Saving work and re-importing"
   ]
  },
  {
   "cell_type": "code",
   "execution_count": 22,
   "metadata": {},
   "outputs": [],
   "source": [
    "with open(\"20240220_PhD_LtrLem-N.txt\", \"wb\") as fp:   #Pickling\n",
    "    pickle.dump(data_lemmatizedNouns, fp)\n",
    "\n",
    "with open(\"20240220_PhD_LtrLem-V.txt\", \"wb\") as fp:   #Pickling\n",
    "    pickle.dump(data_lemmatizedVerbs, fp)\n",
    "\n",
    "with open(\"20240220_PhD_LtrLem-NV.txt\", \"wb\") as fp:   #Pickling\n",
    "    pickle.dump(data_lemmatized, fp)"
   ]
  }
 ],
 "metadata": {
  "kernelspec": {
   "display_name": "Python 3 (ipykernel)",
   "language": "python",
   "name": "python3"
  },
  "language_info": {
   "codemirror_mode": {
    "name": "ipython",
    "version": 3
   },
   "file_extension": ".py",
   "mimetype": "text/x-python",
   "name": "python",
   "nbconvert_exporter": "python",
   "pygments_lexer": "ipython3",
   "version": "3.9.5"
  }
 },
 "nbformat": 4,
 "nbformat_minor": 2
}
