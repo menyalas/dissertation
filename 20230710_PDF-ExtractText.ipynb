{
 "cells": [
  {
   "cell_type": "markdown",
   "id": "303d3ffc",
   "metadata": {},
   "source": [
    "The goal of this notebook is to:\n",
    "1. Open a PDF\n",
    "2. Extract the text\n",
    "3. Split the entries\n",
    "4. Save them with first lines as file names\n",
    "5. Make a loop to do all entries."
   ]
  },
  {
   "cell_type": "code",
   "execution_count": 1,
   "id": "ac243426",
   "metadata": {},
   "outputs": [],
   "source": [
    "import PyPDF2\n",
    "import re"
   ]
  },
  {
   "cell_type": "code",
   "execution_count": 2,
   "id": "00224f5f",
   "metadata": {},
   "outputs": [],
   "source": [
    "def visitor_body(text, cm, tm, fontDict, fontSize):\n",
    "    y = tm[5]\n",
    "    if y > 50 and y < 750:\n",
    "        parts.append(text)"
   ]
  },
  {
   "cell_type": "code",
   "execution_count": 3,
   "id": "ed937aba",
   "metadata": {},
   "outputs": [],
   "source": [
    "pdfFileObject = open('PRG218_HartDiary_1865_transcript.pdf', 'rb')"
   ]
  },
  {
   "cell_type": "code",
   "execution_count": 4,
   "id": "769d0d21",
   "metadata": {},
   "outputs": [],
   "source": [
    "pdfReader = PyPDF2.PdfReader(pdfFileObject)"
   ]
  },
  {
   "cell_type": "code",
   "execution_count": 5,
   "id": "b6940cf9",
   "metadata": {},
   "outputs": [],
   "source": [
    "count = len(pdfReader.pages)"
   ]
  },
  {
   "cell_type": "code",
   "execution_count": 6,
   "id": "db676571",
   "metadata": {},
   "outputs": [],
   "source": [
    "output = []\n",
    "for i in range(count):\n",
    "    page = pdfReader.pages[i]\n",
    "    parts = []\n",
    "    page.extract_text(visitor_text=visitor_body)\n",
    "    text_body = \"\".join(parts)\n",
    "    output.append(text_body)"
   ]
  },
  {
   "cell_type": "code",
   "execution_count": 12,
   "id": "df9e4380",
   "metadata": {},
   "outputs": [
    {
     "name": "stdout",
     "output_type": "stream",
     "text": [
      "['\\n PRG 218 Diary of Captain John Hart 1865  \\nTranscribed by Ernest Roe, Volunteer at the State Library of South Australia, 2012  \\n \\nThe Treasurer  \\nDiary of Capt. John Hart 1865  \\n \\n1 \\nJanuary 1 Sunday  \\n \\nA cool pleasant day. Mr & Mrs  Singleton paying a  farewell  visit to  the Wife & Children.  He \\ngave Jo hn a gold chain in token of his regard  and expressed to me his disgust at  the former \\nunfair conduct   of Mr Farr to the Boy as evidenced by the change  of opinion that the School \\nauthorities  have since shewn.  [ The following  passage denoted by X follows on  from the X at \\nthe bottom of the next page  ] X it will be found that the Sea port on the Daly range side of the  \\nRiver.  The remarks of  the Resident  that a rise of tide of 12 feet and a  current of 3 knots . \\nMakes the navigatio n of the river dangerous is simply absurd  It is clear that without such a \\ntide the  navigation would be difficult  and until the  trade is made no Steam tug will be \\nforthcoming  \\n \\nJanuary 2 Monday  \\n \\nThe “South Australian” Steamer  arrived during the night from t he Northern Territory.  \\nAccounts more  hopeful but not satisfactory.  Finniss  I believe quite incapable of managing  \\nsuch an undertaking.  Having had  his dispatches  and considered his  resons for fixing the \\nseite of the  capital at Escape Cliffs I am of  Opinion  that he is altogether wrong  I have no \\ndoubt if the neighbourhood  of the Adelaide River is the perfect  place the head of the \\nnavigation is  the spot that should be selected  for the Chief Town. In all probability X  \\n \\nJanuary 3 Tuesday  \\n \\nRose early and rode to  the Port  to see to the fitting up the Cabins on  board the “Argyle”  paid \\nPew rents  2.17.6.  Received from Thomas Thomas 63.3  for interest and ₤20  from Mr Maryatt   \\nSaw Mr Edmonds about election  2.30  attended Cabinet.  To promise  water supply to \\nWallaroo.  \\n \\nJanuary 4 Wednesday  \\n \\nRemained at the Port all day, seeing  to the necessary arrangements on board  the ship.  And \\nlooking over the Day book  \\\\p.m/ at the Mill.  Made up an estimate of  my possessions, and \\nfind I am at least  20,000 better than in Mar 1863  abou t 35,000 being in cash and mortgages \\n–  Bill due and paid today for  Wharfage Land Simpson & self ₤500.  \\nto \\n \\nJanuary 5 Thursday  \\n \\nOn board the Ship with Mrs Hart  in the morning.  To Town by the  10 15 Train.  Cabinet at \\n2.30.  The opinion  I have formed with respect to Finniss  and the Township gaining ground.  I \\nbelieve instant a ction ought to  be taken to supercede him  Our only chance of success is to  \\nobtain immediate information of the  nature of the Country  and to at once  determine whether \\nor not the reported  Gold field is a reality.  Page [?]  has paid half his debt. amount  paid into \\nTown branch 743. 15/ –  and giving Bills at 5 Years debt for 743.15 and bills  falling due every \\nYear for  interest 5 %  \\n \\n ']\n"
     ]
    }
   ],
   "source": [
    "print(output[0:1])"
   ]
  },
  {
   "cell_type": "code",
   "execution_count": 13,
   "id": "1725eb59",
   "metadata": {},
   "outputs": [],
   "source": [
    "diary = ''.join(output)"
   ]
  },
  {
   "cell_type": "code",
   "execution_count": 20,
   "id": "72a7cdf9",
   "metadata": {},
   "outputs": [
    {
     "name": "stdout",
     "output_type": "stream",
     "text": [
      "\n",
      " PRG 218 Diary of Captain John Hart 1865  \n",
      "Transcribed by Ernest Roe, Volunteer at the State Library of South Australia, 2012  \n",
      " \n",
      "The Treasurer  \n",
      "Diary of Capt. John Hart 1865  \n",
      " \n",
      "1 \n",
      "January 1 Sunday  \n",
      " \n",
      "A cool pleasant day. Mr & Mrs  Singleton paying a  farewell  visit to  the Wife & Children.  He \n",
      "gave Jo hn a gold chain in token of his regard  and expressed to me his disgust at  the former \n",
      "unfair conduct   of Mr Farr to the Boy as evidenced by the change  of opinion that the School \n",
      "authorities  have since shewn.  [ The following  passage denoted by X follows on  from the X at \n",
      "the bottom of the next page  ] X it will be found that the Sea port on the Daly range side of the  \n",
      "River.  The remarks of  the Resident  that a rise of tide of 12 feet and a  current of 3 knots . \n",
      "Makes the navigatio n of the river dangerous is simply absurd  It is clear that without such a \n",
      "tide the  navigation would be difficult  and until the  trade is made no Steam tug will be \n",
      "forthcoming  \n",
      " \n",
      "January \n"
     ]
    }
   ],
   "source": [
    "print(diary[0:1000])"
   ]
  },
  {
   "cell_type": "code",
   "execution_count": 21,
   "id": "08575982",
   "metadata": {},
   "outputs": [],
   "source": [
    "entries = re.split('\\\\n *(?=Jan.* *\\d{1,2} \\w*)|\\\\n *(?=Feb.* *\\d{1,2} \\w*)|\\\\n *(?=Mar.* *\\d{1,2} \\w*)|\\\\n *(?=Apr.* *\\d{1,2} \\w*)|\\\\n *(?=May *\\d{1,2} \\w*)|\\\\n *(?=Jun.* *\\d{1,2} \\w*)|\\\\n *(?=Jul.* *\\d{1,2} \\w*)|\\\\n *(?=Aug.* *\\d{1,2} \\w*)|\\\\n *(?=Sep.* *\\d{1,2} \\w*)|\\\\n *(?=Oct.* *\\d{1,2} \\w*)|\\\\n *(?=Nov.* *\\d{1,2} \\w*)|\\\\n *(?=Dec.* *\\d{1,2} \\w*)',diary)"
   ]
  },
  {
   "cell_type": "code",
   "execution_count": 24,
   "id": "ca46f275",
   "metadata": {},
   "outputs": [
    {
     "data": {
      "text/plain": [
       "['\\n PRG 218 Diary of Captain John Hart 1865  \\nTranscribed by Ernest Roe, Volunteer at the State Library of South Australia, 2012  \\n \\nThe Treasurer  \\nDiary of Capt. John Hart 1865  \\n \\n1 ',\n",
       " 'January 1 Sunday  \\n \\nA cool pleasant day. Mr & Mrs  Singleton paying a  farewell  visit to  the Wife & Children.  He \\ngave Jo hn a gold chain in token of his regard  and expressed to me his disgust at  the former \\nunfair conduct   of Mr Farr to the Boy as evidenced by the change  of opinion that the School \\nauthorities  have since shewn.  [ The following  passage denoted by X follows on  from the X at \\nthe bottom of the next page  ] X it will be found that the Sea port on the Daly range side of the  \\nRiver.  The remarks of  the Resident  that a rise of tide of 12 feet and a  current of 3 knots . \\nMakes the navigatio n of the river dangerous is simply absurd  It is clear that without such a \\ntide the  navigation would be difficult  and until the  trade is made no Steam tug will be \\nforthcoming  \\n ']"
      ]
     },
     "execution_count": 24,
     "metadata": {},
     "output_type": "execute_result"
    }
   ],
   "source": [
    "entries[0:2]"
   ]
  },
  {
   "cell_type": "code",
   "execution_count": 25,
   "id": "41fa6fb6",
   "metadata": {},
   "outputs": [],
   "source": [
    "del entries[0]"
   ]
  },
  {
   "cell_type": "code",
   "execution_count": 26,
   "id": "caccacb3",
   "metadata": {},
   "outputs": [
    {
     "data": {
      "text/plain": [
       "['January 1 Sunday  \\n \\nA cool pleasant day. Mr & Mrs  Singleton paying a  farewell  visit to  the Wife & Children.  He \\ngave Jo hn a gold chain in token of his regard  and expressed to me his disgust at  the former \\nunfair conduct   of Mr Farr to the Boy as evidenced by the change  of opinion that the School \\nauthorities  have since shewn.  [ The following  passage denoted by X follows on  from the X at \\nthe bottom of the next page  ] X it will be found that the Sea port on the Daly range side of the  \\nRiver.  The remarks of  the Resident  that a rise of tide of 12 feet and a  current of 3 knots . \\nMakes the navigatio n of the river dangerous is simply absurd  It is clear that without such a \\ntide the  navigation would be difficult  and until the  trade is made no Steam tug will be \\nforthcoming  \\n ',\n",
       " 'January 2 Monday  \\n \\nThe “South Australian” Steamer  arrived during the night from t he Northern Territory.  \\nAccounts more  hopeful but not satisfactory.  Finniss  I believe quite incapable of managing  \\nsuch an undertaking.  Having had  his dispatches  and considered his  resons for fixing the \\nseite of the  capital at Escape Cliffs I am of  Opinion  that he is altogether wrong  I have no \\ndoubt if the neighbourhood  of the Adelaide River is the perfect  place the head of the \\nnavigation is  the spot that should be selected  for the Chief Town. In all probability X  \\n ']"
      ]
     },
     "execution_count": 26,
     "metadata": {},
     "output_type": "execute_result"
    }
   ],
   "source": [
    "entries[0:2]"
   ]
  },
  {
   "cell_type": "code",
   "execution_count": 13,
   "id": "bae08330",
   "metadata": {},
   "outputs": [],
   "source": [
    "counter=1\n",
    "for item in entries:\n",
    "    with open('PRG218-'+str(counter)+'.txt', 'w') as f:\n",
    "        f.write(\"%s\\n\" % item)\n",
    "        counter = counter + 1"
   ]
  }
 ],
 "metadata": {
  "kernelspec": {
   "display_name": "Python 3",
   "language": "python",
   "name": "python3"
  },
  "language_info": {
   "codemirror_mode": {
    "name": "ipython",
    "version": 3
   },
   "file_extension": ".py",
   "mimetype": "text/x-python",
   "name": "python",
   "nbconvert_exporter": "python",
   "pygments_lexer": "ipython3",
   "version": "3.9.5"
  }
 },
 "nbformat": 4,
 "nbformat_minor": 5
}
