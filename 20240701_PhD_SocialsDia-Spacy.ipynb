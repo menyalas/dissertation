{
 "cells": [
  {
   "cell_type": "markdown",
   "metadata": {},
   "source": [
    "## NER Letter Spacy"
   ]
  },
  {
   "cell_type": "markdown",
   "metadata": {},
   "source": [
    "## Resources"
   ]
  },
  {
   "cell_type": "code",
   "execution_count": 1,
   "metadata": {},
   "outputs": [],
   "source": [
    "import spacy\n",
    "import pandas as pd\n",
    "from collections import Counter\n",
    "from spacy import displacy"
   ]
  },
  {
   "cell_type": "markdown",
   "metadata": {},
   "source": [
    "## Get Data"
   ]
  },
  {
   "cell_type": "code",
   "execution_count": 2,
   "metadata": {
    "scrolled": true
   },
   "outputs": [
    {
     "name": "stdout",
     "output_type": "stream",
     "text": [
      "<class 'pandas.core.frame.DataFrame'>\n",
      "Int64Index: 4 entries, 1 to 4\n",
      "Data columns (total 26 columns):\n",
      " #   Column            Non-Null Count  Dtype  \n",
      "---  ------            --------------  -----  \n",
      " 0   docid             4 non-null      object \n",
      " 1   docyear           4 non-null      int64  \n",
      " 2   docmonth          0 non-null      float64\n",
      " 3   authorName        4 non-null      object \n",
      " 4   docauthorid       4 non-null      object \n",
      " 5   authorLocation    4 non-null      object \n",
      " 6   authorGender      4 non-null      object \n",
      " 7   nationalOrigin    3 non-null      object \n",
      " 8   irish             3 non-null      object \n",
      " 9   otherUK           3 non-null      object \n",
      " 10  relMin            4 non-null      bool   \n",
      " 11  catholic          4 non-null      bool   \n",
      " 12  otherChristian    4 non-null      bool   \n",
      " 13  U                 4 non-null      bool   \n",
      " 14  M                 4 non-null      bool   \n",
      " 15  S                 4 non-null      bool   \n",
      " 16  F                 4 non-null      bool   \n",
      " 17  L                 4 non-null      bool   \n",
      " 18  text              4 non-null      object \n",
      " 19  totalTokens       4 non-null      int64  \n",
      " 20  uniqueTokens      4 non-null      int64  \n",
      " 21  lexicalDiversity  4 non-null      float64\n",
      " 22  scoreNeg          4 non-null      float64\n",
      " 23  scoreNeu          4 non-null      float64\n",
      " 24  scorePos          4 non-null      float64\n",
      " 25  scoreCom          4 non-null      float64\n",
      "dtypes: bool(8), float64(6), int64(3), object(9)\n",
      "memory usage: 640.0+ bytes\n"
     ]
    }
   ],
   "source": [
    "# Sentence Data\n",
    "df = pd.read_csv(\"20240628_PhD_Data4TopicModel-Diary.csv\", index_col=0) \n",
    "df.info()"
   ]
  },
  {
   "cell_type": "markdown",
   "metadata": {},
   "source": [
    "## Test the NER of various models on the texts"
   ]
  },
  {
   "cell_type": "code",
   "execution_count": 3,
   "metadata": {},
   "outputs": [],
   "source": [
    "# The next few cells are run multiple times to check performance of various pre-trained models. \n",
    "# Do not run the this cell until after the first pass\n",
    "nlp = spacy.load(\"en_core_web_md\")"
   ]
  },
  {
   "cell_type": "code",
   "execution_count": 4,
   "metadata": {},
   "outputs": [],
   "source": [
    "# I started with 0 and checked \n",
    "chunk = 1"
   ]
  },
  {
   "cell_type": "code",
   "execution_count": 5,
   "metadata": {},
   "outputs": [
    {
     "data": {
      "text/plain": [
       "'May 6th Very wet morning it has stopped me from out shooting; it did not rain very late but and windy. I went down to see if the boat was all right; I found it stuck in the mud so I let it stop. A man came to borrow my gun to shoot an Eagle ha wk which he had wounded with a stick; he came back in a little while and said he could not see it but had shot a parrot. In the evening I was playing at draughts but he beat me three games so I gave it up. Sunday May 9th I went across to Hindmarsh Islan d and saw such a lot of ducks that I wished I had taken the gun with me; it is very strange you see so many on Sunday when I go out on a week day I don’t see so many. May 10th I went out very early shooting and shot a teal coming home I picke d up a Cod fish which I suppose got killed with the salt water. We gave it to a black woman. When I got back I found that poor little Herbert had died while I was away; in the afternoon I went to see if Mr Roberts would bury him. I went from there down to the beach to get some Periwinkles. I got a good many we boiled them and they were very good. Wednesday May 12th. It was a very dismal day pouring with wet; poor Herbert was buried to day. I st opped at home to mind the children. Thursday It was a very windy morning and not having much to do at the Mill I thought I might as well go out shooting so I went out and had a good bit of fun. I got one duck and three teal and had to go into the water and mud up to my knees to get them it was precious cold. I lost one of my boots in the mud and had to go puddling about for a long time before I could find it. I thought I should have had to go home with only one boot on. It turned out very we t in the afternoon I stopped home there being nothing to do at the Mill. Friday A much finer day than yesterday. This morning I sent the ducks to Mr Whiting this is twenty that have been sent. We commenced making an office for Mr Mildred to day it is to be made of wood goodness knows what we shall be set to do next I wish he would start the Mill again but I suppose he won’t just yet I expect we shall get the sack very soon; Kid got it last week. Saturday the 15th. I received a letter from Mr Schröder with the bank book. I did not get any money this evening. Sunday 16th Very windy; I went down to the boat to see if she was all right just as I got down she break away and was going off. Nothing happened worth mentioning to day. Wednesday 19th Mr Bowman came to know if I would go to work for him in the place of a man who was on the spree I told him I would come so in the afternoon Aunt and I went down to see if we could get a place for me to stop at we went to Mrs Usher’s first but she could not take me but she would let me stop for a night or two till I could a place; we then went to Mr Hudson’s and agreed to stop there. Middleton Thursday 20 Went on to work this morning it seemed very strange at first I was put to wor k on the stones and kept there all day. Next week will be my nightwatch. Saturday 22nd got Castlen to come out at four to let me go home by the truck. 24th Went to the beach to try if Nile would go in the water; he went in very well; I did not stop long as I had to go on again at six. Saturday 29th Nothing worth putting down happened I was trying to shoot with a Rifle I hit a pole once. I am very glad I have finished for this week. Monday 31st Started from the Goolwa to go to work; when I got nearly there I thought the Mill was on fire but it turned out to be an old house on this side. It was noticed first about 12 o clock Caslic woke Mr Bowman at two but he only looked out and then went to bed again; it was close to the Mill and if the wind had shifted I think it might have set the place on fire. Friday June 4 I have got along very well so far I got paid to -day. Matthews gave me a large dog a sort of Kangaroo dog. Saturday 5 I have to work to night till ten; Frank Robson was there a bit of the evening he wanted to bet a pot about his weight with the stoker. Sunday 6th June I went to Chapel in the morning with Mr Hudson. Mr Taplin preached. In the afternoon I went to see Mr Whi ting; he said Matthews should bring my money. I went with him all over the Mill. Monday 7th Went to work at one o clock. I could not go to sleep in the day; went on again at six. I was taken very poorly in the morning and have not been to work aga in this week on Thursday I came home. Friday the 11th Mr Bowman came up to see if I should be able to go to work Monday I told him I thought I should. Saturday 12th It was a beautiful day I had a walk round the jetties. Sunday June 13th Saw the stoker from Bowman’s I told him to tell them I should be down by the first truck. Aunt and I went over to Mrs Nation’s in the morning. She gave us some turnips and onions and told us a long yarn. We went to Chapel in the afternoon Mr Roberts preached a very nice sermon. Monday the 14th I went up to Mr Good’s this morning to buy a new coat. I got a Plaid one for 39- I went down to the Mill by the first truck. They seemed glad to see me. Tuesday 15 It still keeps fine and we are very busy at the mill worki ng night and day I was paid to day pounds 3 9 10 I have not received any word form the Goolwa. Wednesday 16th There is nothing to put down as I am in the Mill all day. Ted Childs and I have been talking about going out shooting when we shirt up; John Thring is going too. I think we intend taking a boat and going up the River. Thursday 17th I received a lot of soup and my things this morning and a note from Aunt I sent one to her to day. Sam and Mr Green are gone to this spree at Spry’s. We are cleaning out the wheat bin to day it is full of Weavel. Saturday the 19th In the afternoon Robert and Andrew went down to the beach with the rifle to see if they could hit a mark they neither of them touched it. They were forced to give it up as it t urned out very wet. I worked till ten It was very fine when I went home. Sunday the 20 Mr Hudson lent me his mare to go home It was rather wet but I got on first rate; I went down to the boat she was all right. I was going to catch some Pigeons for Mr Bowman but Mr Gerard would not let me have the Key; he wouldn’t have the Mill opened on a Sunday he was in a precious temper about something. I started form the Goolwa in the afternoon and came home very quick. I don’t know how we are to get the boat without borrowing one to fetch it as it is about a hundred yards from the bank. My wages last week come to pounds 2 11 0 Monday I was at work from one o’clock; I went with Mr Hudson to Mr Suggs for some melons I got on the sledge to have a ride but it hitched in the stumps so dreadfully that I was glad to get off again and had to walk as hard as I could split; it is about two miles from here it was a beautiful day and we got home by one I could not go to sleep in the afternoon so I we nt digging a bit in the garden. I was very tired before it was six. Tuesday 22 I felt very tired this morning and did not sleep very well. It still keeps very fine I hope it will be so Saturday. Wednesday the 23 I got on pretty well last night it was very cold. In the morning I got a letter from Aunt saying they were going to Kanmantoo on Sunday. They sent some jelly by the truck and some cakes which were very nice I got them when I went on at six. Saturday 26 I went to the Goolwa in the morning af ter I got my money pounds 5 15 6 I found that they were going of in the to Kanmantoo. I told them to get a dog for me if they could went down to the River to try my gun with balls it did very well better than I expected. I was trying to catch so me pigeons for Mr Bowman. I got two but I had a hard job they are very wild. Mr Gerard went in the afternoon for the horse; I don’t know where he got him at Simmonds’ I suppose. Sunday They went off a little after nine o’clock. It was a dull day; I sta rted for Middleton directly after; I had a rare bundle to carry and the Pigeons which I left as I passed. In the afternoon I was down to the beach John Spry was there making his dog go in the water he went in first rate. Mr H. and I went to Chapel i n the evening. Monday 28 I was stonedressing all day; Carlic was helping we were loading flour in the morning. Wednesday 30 It is beautiful weather now; I wrote a long letter to Aunt yesterday the Mill is going again all right. I heard just now that Mr Moony was killed by a bullock dray going over his head and neck about four o’clock today; but I have not heard the particulars yet. Thursday July 1 It still keeps very fine; I think the inquest was held today the verdict was accidental death; i t appears he had been to the Nob with a load of wood for Trip and went from there to Dod’s where he met a shipmate of his and I suppose they made a few nobblers together for some say he was tipsy; this man was going home with Moony to keep up the next day as it would have been twenty years since they came into the Colony. Just after they started this man was in the dray Moony jumped up on the pole of the dray when he got thrown off and the wheel went over his head. Friday 2nd Moony was buried to day; there were a good many people there. I saw Mr Waddle today for the first time since his illness he seemed pretty well. The weather keeps very dry the farmers want wet now. I had a letter from Aunt yesterday they had not got a dog. Saturdy 3rd I worked till ten tonight it is my night work next week. I hope Aunts will come home this next week I earned pounds 2 12 10. Sunday the 4th I lay in bed till nearly eight o’clock. Mr H. and I went to chapel. Monday 5th Mr H. lent me his horse to go to t he Goolwa to fetch my gun as I thought of going out Shooting but it was so late when I got back that it was of no use the ride did me good I think. I went to work at one this morning. When I was at the Goolwa Mr G. and I had a chat. Kid was there too. M r G. said Aunt wanted to come home this week if he can get a horse I suppose he will fetch them. I hope they will come. Tuesday 6th I am getting on pretty well at the night work. I got a letter from Aunt today to say they were coming home on Fri day they did not get any rabbits; I am glad of it as they would have been a great deal of trouble. I have been out shooting but I did not get anything I only went a little way. Saturday 10th It is very wet this morning I am glad I finished this morning for this week; I went home by the first truck they were come home and had got a Kangaroo Puppy. They gave a pound for it I think it will be a good one. I got my new boots this morning they are pounds 1 3 0 I went down to the boat in the afternoon and bailed it out it was nearly full of water one of the oars is gone I don’t know who has got it. My dog is eight weeks old last Thursday. Sunday the 11th It is very wet this morning I did not know what to do with my self I saw Harry in the afternoon and told him to look out for the oar belonging to the boat. Monday the 12th I came down by the truck it was a fine day we were Grinding seconds today nothing happened particular. Tuesday the 13th I expected Aunt would have been down today. I heard today that all Mr Phillipson’s things were going to be sold; Mr Bowman went down but the sale did not come off it is to be tomorrow week. The wheat still keeps coming in faster than we can grind it; I have not been in for this raffle yet I don’t think I shall. Wednesday the 14th Aunt came down today she had got the Check changed at Mr Ray’s. I paid for my books and sent home a bushel of Pollard for the dog I don’t know if he will eat it I hope so ; she said Mr G was going to take over some wood. Thursday the 15th It is showery today. I got my things by the truck I lay too long in bed this morning. Saturday 17th There is Nothing worth putting down this week Mr Gerard was down by the truck this afternoon he brought a bundle for me he wanted me to go down tomorrow. I worked till ten my money is pounds 2 13 0 this week. Sunday the 18th A very fine day. Andrew and I st arted for the Goolwa at 11 o’clock we went along first rate they did not expect to see me at home I stopped in reading all afternoon. I went back in the evening; I had got about half way through the scrub when I saw two fine Kangaroos run across the l ine; if a dog had been there he might have caught one I think. Monday the 19 I went to work at one this morning it was cold. I went out shooting after breakfast and shot six wattle birds and had no more shot so I had to come home with them. M rs Hudson picked them and we are to have them for supper They turned out very tough I got along very well in the night. Tuesday the 20 I went off in a hurry to the Goolwa first thing on the mare I got back a little before one. Wednesday the 21 I was precious sleepy last night not having much yesterday. There is not much to put down the weeks I work by nights as I feel tired. Saturday the 24th I have finished for this week; I went in for this Raffle in the evening but did not get it William Jones got it for young Bottomly. Sunday 25 Mr Gerard and I went over to the Island in the morning for a walk we got back by dinner time. Monday 26 It was blowing a Gale the sea was rougher today than It has been since I have been here; we have been ge tting along very well today. Tuesday 27 Aunt was down today she brought my cloth. I bought the gun off Tom Jones today but he has not brought it down yet. Thursday 29 I was trying to make a dog collar yesterday. The gun did not come down yet. The Gov ernor and his wife went down to the Nob he called at the mill as he went back to order some meal for making brown bread to take out shooting. I was trying to make a spring for my shot belt. I made three but broke them all in bending. Friday 30. It is turning out finer than it has been lately; Mr Gerard passed the mill to day he was going to Mr Makey’s. I have not made the dog collar yet. Saturday 30 Aunt sent a parcel down by the truck. Tom Jones fetched the gun I paid  pounds 2 0 0 for it; I have not tried if it is a good one. I made a spring that would do yesterday. My money is  pounds 2 12 10 for this week. Sunday the 1st of August. It is my birthday; in the morning Mr Hudson and I went to Chapel; when we came back Mrs H was very poorly in the e vening I had to go to the Goolwa to fetch the doctor. Before I got back she had a daughter; a little while before my watch and Mr Hudson’s clock both stopped at almost the same time. I just called in at home as I went by. Monday 2nd I went to work at on e this morning; got along very well Mr Gerard went by on the truck he was going to Mackie’s Mill to work; I was trying my new gun today it did middling it has not had a fair trial yet I go on again at six tonight. The Governor went back to town today I believe Caslic was going to Register my dog but he could not see Mr Mackie. Tuesday 3rd I trying to make another spring but I broke it Aunt was down today; I got along very well last night. Wednesday 4 I have got nothing to put down Ted Chil es Childs brought me over a Punch to look at the other night I was minding some stuff that he is going to tan a foal’s skin with. I asked Caslic to fetch some shot from the Nob for me. Saturday 7th It was very wet early in the morning I thought it wo uld be bad for me to go home. Andrew and I were shooting at a mark. I sold my single barrel gun to him for L2 0 0 I went home by the first truck Andrew went to the Goolwa. I saw William Jones in the truck he promised to go out with me in the afternoon to see if we could get some ducks we did not get any. William got a good ducking just as we got to the land we didn’t shoot anything except an old tin bottle. I got pounds 5 -17-5 this week we did not go in our boat as somebody had knocked a hole in the bottom. Sunday the 8th I had a good sleep last night Mr Whiting and Mr Cocks came down today. Mr G. Went back with them. My dog was 12 weeks old last Thursday. Monday the 9th Walked from the Goolwa first thing we have been cleaning out to -day at the mill we did not get started till late. Tuesday 10th I have been making a swivel for my shot pouch we are knocking along just as usual at the Mill. The big bin is nearly empty. Wednesday the 11th It has been a very wet day. I got a letter from Aunt today saying she was very bad. Friday the 13 About dinner time we saw two boats in chase of a Whale; they were not far out but they did not get it; they have been in chase of 18 this season and have not caught one. Saturday 15 Mr Hudson lent me the mare and I went home; Mr G. Was gone to town in the Melbourne. He went on Saturday. I came away about six o’clock and came along first rate I got back by 7. Monday 16th I went on at half past 12 this morning. Bill came on too we were cleaning out the old stock of wheat. Carslic asked me to come on at half past 3 as he wanted to go home his wife is very ill; I did not go home till past 8. Aunt sent down a pa rcel today. Tuesday 17th It is a very fine day; I went to bed early they are fetching the wheat from Mr Mackie’s Mill to our place. Wednesday 18. Nothing to put down. Saturday 21 I walked home first thing and had a wash and started to go shooting; Mr G. Went too we did not go far as there were no ducks in sight we came back and went over to a Steamer to get some pitch to do our boat we went down in the afternoon b ut did nothing to it till evening when we got a truck and took it home. I bought some coal tar to do it with it is almost all to pieces. Sunday 22 A very fine day Andrew came up today. Monday 23 I was working at the boat till truck time. Mr G. Went wi th me as far as Middleton. There is to be a grand Odd fellows ball tonight at Varcoes. John Thring is going. Tuesday 24 Andrew paid me pounds 2 for the gun I paid Mr H. 149 for a vice and another “Leisure Hour”. Wednesday 25 It still keeps fine. Mr R oberts found his horse yesterday at Currency Creek he lost him last Thursday. I sent a pound home yesterday. Thursday 26 I was paid this morning pounds 5 -17-6. I paid Mr H. pounds 1 -10 today. I got a letter from Aunt to tell me Mr G. Had done the boat and that poor Dart was very bad. I expect he will die. Friday 27 It has been a hot wind to day. Sunday 29 Andrew and I walked to the Goolwa. I found the dog very ill. I took Crib with me. I went back in the evening. Monday 30 I went on at one this morning Mr H. Kil led his pig I helped him a bit. Made a ramrod out of a piece of Paling. I am going to try to tan it; went on at six got along very well. Tuesday the 31 I went up to Mr Abbot’s to get some bark to tan with. It still keeps very fine wages last wee k came to pounds 2 -12-10. I sent home my things Monday ready for Saturday as I want to go home first thing to go shooting. Wednesday the 1st of September. I went to bed early ready for night; a little while after I got there the packing blew out of the cover of the pump and nearly emptied the boiler; as soon as the steam was down Sam took off the Manhole and we put some water in with buck ets it was “perfect Slavery” as old Smith used to say. Poor Dart died today. Saturday 4th I started from t he Mill at 7 o’clock it was a beautiful day; I went across to the Island and walked down the river a little way and shot a Plover. I went b ack to the boat and pulled to the other side of Laffin’s . I saw a lot of ducks some of them near the shore but I could not get at them. It was too far. I fitted the top piece and screw to my ramrod I think it will do very well. Sunday the 5 It is ver y wet and windy I have had to clean up and wash all the tea things. Monday the 6 I came down by the truck I was paid pounds 5 -17-5. Mr Green and I were talking about having a Cricket club in Middleton. I sent home a note to tell them to ask Mr Hasluck about the price of the things. My dog died last Wednesday. Tuesday 7th It is fine weather and (p. 33) there was a truck load of wheat came down today. I worked for Carslick till ten. Wednesday the 8th The Mill was stopped today a good while Robert was wireing th e Machine. Thursday the 9. A very fine day there were two loads of wheat down from the Finniss. Sunday the 12th It was a very fine day I went down to Mr Whiting in the morning thinking to go on to George Harrison’s but I went to the Nob along with Mr W . And stopped dinner there saw Frank Robson in the afternoon I came home in the evening. Monday the 13 I went on at 3 this morning. I slept till Andrew came and called me Mr Hudson and I went to look at a Filly Mr Liptrot had for sale I could have got i t for pounds 12 I think (p. 34) it turned out wet today. There is nothing particular to put down this week. Saturday the 18th I set out to go to the Goolwa this morning it was a fine day I went down to the Wharf to see the Mulgewankie start but she did not go while I stopped. Sunday 19th Went to Chapel and heard Mr Hotham preach; he said Mr Binney would preach on Wednes day week. I heard too that Mr Bowman has given all hands a fortnight’s notice. I got a letter from Mr Platts about the bats; they are from 8 to 30. Balls 126 to 15 Stumps 26 to 10. Monday 20 I started from the Goolwa about six oclock got to the Mil l at 7 a.m. they are cleaning out the boiler; they cleaned out faster this time than they have done since I have been here; we got started about six oclock. Tuesday 21st Aunt came down this morning she went back by the truck; it was a fine day w e are getting short of wheat Ted Chiles has gone to the Finnis to work. Wednesday 22nd I was paid pounds 5 17 4 today I gave Mr Hudson 30 for board Mr Bowman told me when he paid me that we should grind out next week I suppose there will be time to go shoo ting then. I bought half a pound of powder of Ted for 26. I must get some shot before I go home I suppose there will only be another week night work for me. Thursday 23rd The ploughing match came off today; I have not heard who won yet it has not been a very nice day for it. Gardner got the first prize for the boy’s class it was pounds 5 Saturday the 25 I got on very well this week Kerslake fetched down a pound of shot from the Nob it is very windy today I suppose this is my last week here. Sunday the 26 I did not get up till nearly 8 o’clock went to Chapel with Mr H in the morning after dinner I went down to Mr Whiting’s and stopped tea. He has sold his horse. Saturday the 2 October. I finished this morning for this year. I asked Mr Bowman if he would take me on next season I came home by the first truck. Sunday the 3rd Goolwa. A nice day I went to the jetty there are 6 Steamers lying there. Monday the 4 Went across to the Island but I did not get any ducks I shot a black snake 4 feet 10 ins. Long It turned out very hot I put up the spout at the Mill which was blown down I saw Andrew he is going in the Melbourne as stoker she went out this evening the Bunyip started too. Tuesday the 5th The Gemini went off. I went to Mr Whiting’s and bought his gun home to try it. I called at the Mill and Mr Bowman paid me I saw Kerslake there and Billy Dawkins. I paid Mr Hudson for my boots pounds 1 1 0 Wednesday the 6th It is very hot; I went across to the Island about 5 a.m. saw some ducks but could not get a shot at them. My boots have not come yet. Thursday the 7th My boots came up today the Melbourne went out again it keeps very warm still. Sunday the 10th I went to C hapel in the afternoon I saw Andrew he wanted me to go with him to Middleton but I did not want that walk. Monday the 11th A very fine day. Aunt took Mr Whiting’s gun home. William Jones and I went across the River for a pull he took his gun with him and shot a shag. We saw a beautiful Comet in the evening. Wednesday the 13th William Jones and I went shooting; we went on the Island and only got two teal and shot a black Snake about four feet long and saw another but we could not get him. It was v ery hot we were almost too lazy to walk home and in crossing the River I thought we should have capsized it was so rough; we are unlucky fellows to go shooting. Thursday the 14th Had nothing to do I wish I had; the Mill is stopped at last. I saw a lot of fish jumping about by the jetty small ones. Friday the 15th A very hot day hot wind too dust enough to blind a fellow. The Melbourne came in about half past 12 p.m. I went down and saw Andrew and stopped there till 4 p.m. the Comet is still in sight. Aunt went to Port Elliot and asked Mr Green about the puppies as she went by. Saturday the 16th It was very windy William Jones and I went out shooting. I shot 2 Geese and 1 teal and 9 snipe saw another snake but did not kill it it was showery we got home at 4 p.m. Sunday the 17th I stopped home nearly all day It is very rough. Monday the 18 I went up to Laffins Point but there was a man up there I did not see a sing le duck all day. It was very hot. Thursday 21st I went out at 5 a.m. duck shooting I got five and lost four as I had no dog to fetch them. It was very hot. Friday 22and William Jones and I went up to Laffins he shot 2 teal and I killed a wild Pigeon the other side of Mr Moor’s place we were walking about all morning. Mr Whiting called and asked me to come down I gave him 3 teal. Tuesday 2 of November It was very windy I went out at 5 a.m. shooting. I got six teal and four widgows I did not take the d og. Went to Nairne in November and had a good bit of fun went to Kanmantoo as well came back January 4th 1859. Saturday 29 Jany. Got up 6 a.m. and chopped a lot of wood off some stumps it is hard work. I went to Middleton by the first truck went and saw Mr Bowman; they have not water enough yet to work night and day. I walked from there to Mackies’ Mill and saw Mr Whiting and George Harrison he is at work there I borrowed Mr Whiting’s gun having broken my own last week; I went then to dinner with Geo rge and he lent me a book I brought home one he had borrowed off us a long time ago; I walked home a little after 3 p.m. I had a wash and went up and had a game of Cricket I took 30 runs and brought my bat out. There are 26 members in the Club now I think we shall Challenge the Port Elliot Club soon. In the evening there was a very heavy fall of rain. I bespoke a puppy of George Harrison as soon as the dog has them. February 2nd I got up at half past 3 a.m. and went shooting I did not see any thing t ill I got the other side of Laffins Point; I saw some teal and got a shot and knocked down 4 I only got two of them as the dog was stupid I brought home 3 teal and 1 Goose I shot it the other side of Moors. I went to the Lagoon last night but I only shot 1 teal the Mosquitoes bit me so I was glad to get home. Feby 3rd A very hot day; there is a large fire in the Willunga scrub. I stopped in reading nearly all day; had the Goose for dinner it was very good went out in a boat in the evening to have a swim it wa s very nice and cool in the water. George Highland gave me his puppy. I took it home I think it will make a very good water dog he begins to fetch sticks. Feby 4th It gets hotter and hotter the fire in the scrub is blazing away; there is a fire somew here about Encounter Bay the ashes are lying thick about the Goolwa had a game at cricket in the evening it was almost too hot to play. Feby 5th Got up at 4 a.m. went and called William Jones and we went shooting together. I was glad to get back as quickly as possible it was so hot. We had a game at cricket. G.B. Smith has joined our club. In the evening Andrew called to tell me Bowman wanted me on Monday at 1 a.m. It keeps as hot as fire. Mr Squires went down to the Willunga scrub to see if the Telergraph poles are burnt down. Sunday the 6th The hottest day we have had this year the fire is blazing away. Went up to Mr Jones in the morning stopped a bit looking at some “Illustrated London News” came home by dinner time it is blowing great guns and the dust is awful! I walked down to Middleton in the evening and we could see the light of the fires quite plainly I heard that it has burnt out a great many families in Hindmarsh Valley. It has been a dreadful day. Mr Bow man left word at Scot’s that we were not to go on till 6 a.m. as there was something broken. I got to Mr .Hudsons about half past 8 p.m. Monday the 7th Went to work at 6 a.m. was set stacking flour along with Andrew and old Billy. I only worked til l 12 o’clock. I have to go on at 6 and come off at 12 there is not water enough to work all night yet I don’t know when there will not till some rain falls I am afraid. There is to be a meeting tonight to see if some relief can be given to the persons tha t have suffered by the fire; had a bath in the sea with Andrew. Tuesday 8th I had not to go to work today as there is no water. I walked home in the morning; got there at 12 noon. I cut some wood off the stumps. In the evening I went to the Lagoon. I shot 1 widgeon and 2 teal Wisdom shot a pair of teal it was windy and high water. I thought there would be a good deal of rain but it keeps off. Wednesday 9th I went out at 4 a.m. but I did not get any thing I got home early it has been showering a lit tle saw George Highland we are going to the Lagoon tonight have not had a game of cricket this week I saw William Jones going out yesterday. Thursday 10th It was a very fine morning I stopped home as Aunt was very poorly in the afternoon. I went up t o Winnalls lathe and bound up a bat handle that Newel made. In the evening Wisdom G.Highland and I went up to Moors Lagoon there were not many came in I shot two black ducks Highland got 1 teal and Wisdom got nothing. William Jones could not go as he had cut h is knee with the axe. I (p. 47) got home half past 9 p.m. bought a swivel off Wisdom paid 6 for it. Friday 11th Very windy and light showers the dust was blowing about enough to blind you. A note came up by the truck dinner time to say I was to go down as the water was a deal higher I went down by the 2 p.m. truck took Spot with me he jumped off the truck before we got to Middleton and I have not been able to hear what has become of him. I bought a Clay fish paid 26 for it got it off Mrs Webster. I went to work at 6 p.m. Saturday 12th Walked home first thing got there at 7 a.m.got along first rate in the night went cutting some wood off some stumps got two wheelbarrows full went to bed at 10 a.m. slept till 2 p.m. I walked up to see William Jon es (p. 48) his leg was bad I went down to the Lagoon in the evening shot 2 widgeon and 1 teal. Saw by the paper that the ship is come to port Adelaide that is to bring my watch I hope it is come. Sunday 13th Both of Aunts were very poorly got bad colds I stopped at home nearly all day have heard nothing of the puppy yet I don’t suppose I shall. Monday 14th Got up at 5 a.m. set off to the Mill looked round an old tent in the scrub to see if I could find the dog but I did not took Kerslake the ducks I shot Saturday he was very much pleased with them. Tuesday 15th A nice cool day saw W. Jones on the truck asked him to bring Mr Whiting’s gun down which he did in the evening I took it home. I stopped a little while and then went to Harrison’s to see Flora’s pups she has four; I picked out the prettiest one for myself I got back about half past 9 p.m. it was a very nice evening. Wednesday 16th George Highland came down after some sheep he had lost they were at Mathews’es he called in to see me I paid 36 at Ray’s for the gun that is to be raffled William Jones is to throw for me. The wheat is coming in very fast and we are nearly full. Thursd ay 17th It was a very fine day I saw W. Jones this morning he says he won the gun; he threw for me but I had my usual luck. Aunt came down by the 2 p.m. truck to bring a letter she had received from Mr Dashwood about my watch he had sent a bank order for me to fill up which I did and she took it back; I think I shall get it next week. In the evening I went up to Mr Reid’s to get a piece of an old handsaw to make another spring for my shot - pouch; he wanted me to stop to tea but I did not about 7 p.m. we began to see the Eclipse of the Moon it looked very well. I believe they had a game of cricket last night I wish I could have one in the evening I went with Mr Harrison to help him to fetch a cask of water it is a hard job to fetch it up the hill . The Eclipse was over about half past 9 p.m. It was a very fine night Friday 18th Slept a little too long but it was no matter Kerslake and I had a git of a growl this morning about working a different way than we did last year but we soon got all right . I heard Mr Baldock is dead. We are very busy taking in wheat. I saw Mr Jones and William go by today they went up to Hindmarsh Valley to give the people the things that are come up from town “the people that were burnt out”; Mrs Trip went with them I believe the horse ran away with them somewhere up the Valley I heard I don’t know whether it is true or not I suppose we shall know tomorrow. I saw Mr Jones pass the Mill and the Governor with him I think he is come to stop a little while I expect he has been to look at the places that have been burnt it has been very hot to day with a hot wind in the evening I turned a piece of steel for a spring and Mr Davidson gave me a small file to mark it with. Saturday 19th It was a beautiful day Kerslake told me not to come on Monday at 1 o clock I got along very well and was paid pounds 3 -4-9 I walked home at half past 10 p.m. saw an Owl as I went home I threw a stone at him but he was too quick when I got home I found that the box of fruit had come by th e Melbourne it was 12 o clock before I got to bed. Sunday 20th I got up about half past 8 a.m. washed and changed and went up to Jones’es saw the gun that William won. It looks a pretty good one. Went to Chapel in the afternoon Mr G. Mayfield preached as Mr R oberts had gone to Milang Mr Smith said Mr Aston would preach in the evening but he did not come so Mr Smith held forth. I went to bed soon after I came home. Monday 21st First thing I went and borrowed Mr Pritchard’s barrow and cut a good bond of wood next thing I tried to make the spring fit but I broke it; William Jones came down to get some more books he took two; Aunt and I went up to Mr Good’s and I bought two shirts and one pocket handkerchief they cost 15. I c ame down by the truck and paid Mr. Hudson for mending my boots and for my Board got to go on at six tonight Tuesday 22and Came off at 6 a.m. I felt very sleepy and tired not having been at work for so long it was a fine night very still and calm I we nt to bed soon after breakfast and got up at 5 p.m. went on again at six I wish there was no night work. Wednesday 23ard It has been a very windy night I almost thought the Mill would come down but it stuck up the sea is very rough. I sh ouldnot like to be on it now! I have been down once to the beach this year I must go and get some seaweed to dry It does not seem as though it was going to clear up today. Went on again at six and asked Cox about the fishing line but he does not recol ect anything about it; I expect I shall never see it again so I must make another soon. Thursday Going to turn in now Thursday 24th I am getting along middling the wheat is coming in fast still. Saturday 26 I left the Mill about half past six a. m. I called in at a house on the road and got my dog they found him by the side of the line; I brought him home with me. I had a wash and went to bed a bit when I got up I had to go and chop some wood I cut a log that was lying by the Mill. My watch is not come yet I can’t think why Mr Hasluck has not sent it. I got my shirt from Kanmantoo by the Post. I bought a Patent Cup box off Wisdom gave 4 for it and bought a Watch – off George Highland in the evening. I had a game at cricket I did not play long as I felt very tired. It was a very fine day. Sunday 27th I stopped home all morning went to Chapel in the afternoon Mr Roberts preached. Mr Foster was to Preach in the evening. Monday 28th I got up at half past 4 a.m. and walked down to the Mill I got there about 6 oclock; they were cleaning out the boiler I had to take in a lot of wheat Kerslake helped me and I was dressing stones and digging a gutter they started again at 8 p.m. it has been very hot all day Tuesday March 1st We are very busy taking in wheat we have to stack it outside as we are quite full. It has been a nice cool day Wednesday 2and I went down about 6 got along very well. Aunt and Bib came down by the first truck and brought my watch with her it is a nice looking one I hope it will go well Mr Hasluck sent up the receipt. Friday the 4th The Circus came to the Goolwa today and there were a good many people went from Middleton and Port Elliot; Kerslake said he would come down by the truck but I told him not to come so I didnot go. It is very fine weather now. Saturday the 5th I went to work a little after six oclock; we commenced grinding sharps at ten a.m. there was a good bit of wheat came in today and we didnot finish cleaning the Mill till six oclock; Mr Reed and Ben Chiles went off in a hurry to get ready for the Truck it went to the Gollwa about half past 7 p.m. it was crammed full. We didnot finish the sharps till eleven; and just as I got into bed the truck went by so I thought it was too late to go home. Sunday the 6th I woke at six and got up and started off to the Goolwa; I got there in good time. I called in and got my dog as I passed; the lit tle beast went back last Wednesday evening he seems to like the place. I met Burton with his carriages by Middleton he wanted to know the way to the Square Waterhole; they are going to Willunga. I went up to see W. Jones in the morning he said h e would call for me in the afternoon to go to Chapel but he didnot come so I went without him; Mr Newland preached after tea I went down to the Jetty and I saw my boat lying by Mr Flet’s I took out the oars and poked them through the window of the Store. I thought of taking her out to a stake in the river but I had no rope Monday the 7th I got up at 7 oclock and wrote a letter to Mr Wadham about my allotment at Willunga I went and cut some wood off some stumps I hope there will be a load come by Saturday I was trying to twist a fishing line with catgut but I got on very badly. At 2 a.m. I left by the truck Andrew was in it; I meant to have taken my dog down with me but it went away in such a hurry I could not put him on; I expect he will go b ack to Blands. I went on to work at 6 p.m.; and just before I saw the Yattala come into Port Elliot she is come to take up the Government Moorings there is a fine hubbub about it I believe. Tuesday the 8th I came off a little past six I got along v ery well it was a nice night. I didnot sleep very well. Mr Hudson has sold his Filly got a pair of Bullocks for her he went to the Nob in the afternoon and bought a plough he is going to plough his own ground; went on again at 6 a.m. Wednesday the 9th I got along very well last night there are two nights worked this week. Went to the Mill on the mare to see if Mr Bowman would pay me but he was not there. Saturday the 12th I left off and started for the Goolwa I got there early and cut some wood before breakfast I lay down after and had a sleep. After dinner I went up to Mr Eaton’s Store and bought two pairs of trowsers and a waistcoat; I went up to see if William Jones was at home but he was gone to Hindmarsh Island shooting; he came back in the evening and we had a game at cricket; I got a bad tooth -ach It is fine weather now. Sunday the 13th I was very poorly all day I didnot go to Chapel I stopped in the house all day I walked down to Middleton in the evening I called in and got my dog and took him with me I got to Mr Hudson’s about 7 p.m. Monday the 14th I went to work about half past 1 a.m. I got along very well. I went and bought a box of Lozenges at Limberts’ they were 18. It is a beautiful day. Wednesday the 15th I got along very well and after I left work went to Harrison’s and took him a book looked at the pups they are nice little things Harrison gave me a nice Pointer dog and I took it home with me it is worth a pound I am sure. I altered the regulater of my watch and I think it will go very well; I slept till nearly 7 it was a cold night. Thursday the 16th There is not near so much wheat coming in as there was I think the most of it is come in. There was a tea meeting held at the Nob and I worked till t en while Kerslake went he said it was a first rate one; he brought a little piece of cake for me to taste it was very good I stopped and had some coffee it was a very fine night I hope it will be a fine Saturday night for me. Friday Made a kite for Tom this evening my “Leisure Hour” came on Wednesday I think it is 6 but I have not paid for it yet my dog gets along very well. Saturday the 19th We commenced to grind sharps about ten oclock a.m. there were a good many. When I went to dinner we tried the kite it flew very well only there was hardly enough wind I believe they nearly lost it in the sea. Finished the sharps at twenty minutes past ten p.m. I walked home then and took my Book and dog with me I went along rather fast; I had got to the other side of Thrings paddock when I saw a Policeman coming along he turned off the road had a look at me and then wished me good night and trotted on; I suppose he thought I was some runaway. I got home all right and tumbled into bed about twelve. Sunday the 20th I got up at a quarter past six I had breakfast and then I washed myself and went to see how W. Jones got on; I stopped till dinner time in the afternoon I went to Chapel; Mr Roberts preached. I went out for a walk in the evening and I went to bed early. I have seen nothing of “Spot” since last Monday Monday the 21st I got up late and chopped some wood and the children stacked it in the back kitchen fire place W.J. came down to get some more books I lent him two and I walked back with him t o look at the Governor’s double barrelled rifle it is a really good looking one. I went down by the truck and sent back half a bag of flour and a bushel of Pollard. I brought down a couple of books for Mr Reed and my pistol to shew Kerslake; tis very cold again now I put a piece of stone in my ring and I think it will do very well. Went to work at six p.m. and I got along very well. The truck went to Port Elliot about half past 7 and went to the Goolwa at nearly twelve. I was paid Saturday 4 -12-6; a good deal of difference to what it was last year; it is better than nothing . I sent 9 -8-0 in to Mr Wadham this morning. Thursday the 24th Mr Hudson’s child died this morning about 3 oclock it is to be buried tomorrow it is a strange day very hot and close I slept very well. Friday 25th The Goolwa Regatta comes off today Andrew went and all Mr Bowman’s family went too. Andrew did not come back till 7 p.m. he lost the truck and had to walk down The baby was buried about 9 a .m. Saturday 26th I left the mill in good time and walked home I saw a nice Kangaroo in the scrub as I walked along I wished I had got a Rifle I think I could have shot it; when I got home I cleaned myself and went to Laffin’s with W. Jones to take a Filly; he took his gun and I took my dog to see if we could find any quail but we did not see one. I had the tooth ach all day; in the afternoon I had a game at cricket there were only 5 of us the cricket club will soon go to smash I think. There was a race between Napiers boat and Hunter’s the Waves Napiers boat ran onto an anchor and knocked a hole in her side Twas a fine day. Tuesday the 29 It was a fine day and Mr Kerslake went to the burial of Trip’s child which died yesterday morning it was taken to Currency Creek; I worked for Kerslake till 9 p.m. Wednesday the 30 I went to the Goolwa by the afternoon truck. Kerslake came down to let me go. I went down to Botin’s for Andrew and then I went to the Jetty the Mulgewanke is going up the river again. I went to Mr Good’s and bought a Concertina and Music book they were pounds 1 -15-0 I was making a noise with it till ten oclock at night. Thursday the 31st I got up before 7 a.m. and got thumping away o n that blessed old Concertina – I came down by the first truck. There was a large Brig came into Port Elliot from Tasmania today I don’t know her name. Saturday 2 and April It was a very hot day and at night it was such a hot wind that nobody could sleep I should think I went to bed about a quarter to 11 p.m. We were grinding sharps all day. Sunday the 3rd I started off to the Goolwa at six a.m. and got there in time for breakfast. I went to Chapel in the afternoon; I thought nobody was goi ng to preach Mr Hotham was so long coming. W. Jones did not go I went and got him to go for a walk he had not Cleaned himself. Monday 4th I chopped some wood and W. Jones had another book. I came down by the truck we were not paid Saturday. I went on to w ork at six and got along first rate. Kerslake brought a stock whip down for me to shew him the way to use it; I got a cheque for pounds 8 -18-0 Billy’s wages and mine. It was a fine night. Tuesday 5th I was tired when I came away as I had to stop till Kerslake cam e as Robert had bad eyes; I went and tried to get change but I could not Wednesday 6th Mr Hudson lent me the mare and I went to the “Nob” and went to every shop in the place but it was no go. I saw Mrs Cox at Mrs Storer’s shop; I enjoyed the ride ver y much; I got back by ten a.m. It looks very much as though it was going to be wet. Saturday 9th I started from the Mill at 7 oclock Kerslake brought the puppy from Harrison’s they did non the one I picked out. I saw a nice Kangaroo in the scrub as I was going I tried to set Juno on him but she would not go. I went up to the Jetty and stopped till dinner time there was no cricket playing and in the evening it rained Sunday 10th I slept till nearly 8 oclock and then I was almost too lazy to turn o ut it was very windy and wet all day. I didnot go to Chapel. I went out with W. Jones in the evening. Monday 11th I could not go down first thing as it was so wet; I stopped and went down by the truck it was so windy we could hardly get down. I was stone dressing all day as the boiler was being cleaned out the sea was very rough I think the Brig would have thought it was a queer harbour if she had been here Tuesday 12th It was a rough day and we were knocking along just the same as usual. Thursday 14th There was a tea meeting at Middleton; Kerslake and Cox came down at half past 4 and Andrew and I went I enjoyed my self very much; we went past the doctor’s with W. Jones in the truck it was a splendid night. Saturday 16th Grinding sharps all d ay I sent my bundle home by the truck; it was a fine night and I walked home and took the axe with me. I saw another Owl sitting on a pole and threw a stone at him but it was no use I got home a little after 11 p.m. Sunday 17th didnot get up till 8 a.m. and when I was dressed I went to Jones William told me that there was to be a pigeon Match next Wednesday. I went to Chapel in the afternoon Mr Roberts preached it was a very fine day. Monday 18th A very nice morning. and I cut s ome wood first thing and broke the axe worse than it was before I finished the spring and made a good job of it; it was hot winds I went down by the 2 p.m. Truck and sent some flour up. Wednesday 20th I got along very well both nights this week. I went up t o the Nob yesterday on the mare to get an order changed but I could not. Thursdy 21 Mr Bowman paid me this evening  pounds 4. 11. 6. It has been very dusty in the mill this last night or two. Good Friday 22 There is to be a up today. The truck was loaded with people from the Goolwa Aunts came down by it it is the children’s tea meeting to be held in Gardeners Paddock. There were swings put up and playing at cricket and all sorts I should like d to have gone but I had to work another night yet. Saturday 23ard I had to go home and go to bed as Mr Bowman would not let me work all day for Kerslake ; he said I must come back again at night at six oclock it is a very dullday. I think we shall have some more wet Went on again at four and stop ped ti ll half past ten. Sunday 24th I didnot get up till nearly 8 a.m. went to Chapel in the morning Mr Grimble preached I liked him very much; after dinner I went to the sea side and got a few shells for the children; the “Melbourne” went in again to day it was not very rough went to bed a little after 7 p.m. Monday 25th I got up at 1 a.m. and went and called Andrew it was a fine morning got along very well was stonedressing nearly all day ; Kerslake came on at 8 oclock I went to bed early. Tuesday 26th I slept till past six ; it was a very hot day. Saturday 30 It has been very hot weather hot winds enough to kill you Kerslake came down by the Truck in the afternoon and I went home it looked as if there was a thunder storm coming Sunday Ma y 1st It was a dull showery evening; it cleared up a bit about 10 a.m.& W. Jones and I went to look at the target that was used at the rifle match it is hit in a good many places I got a little wet before I reached home. Went to Chapel in the afte rnoon Mr Hotham preached. Juno got out of the house and came too she was scratching fleas and most of the time was playing the Concerten a a little it was a very dark evening and commenced to rain I thought it was going to be a very wet night but it clea red off. Monday May 2and The first thing I wrote to Mr Lowe about my Allotment and then I went sawing wood as I have not got an axe that is any good it is very hot again today. I made Marshall a little cart it was not much good. Went down by the truck; William Bottomly was on it he said Mr Read could not have the piece of wood for his ship. Wednesday 4th I went down to the beach with Andrew and I had a few shots with his Rifle we had a large targe stone for a target I hit it it once n ear the bulls eye. Thursday 5th I asked Mr Bowman to lend us a large iron plate he said we could have it so I took it home and painted the bulls eye black and the out side line the rest we whitened it is very dull weather and the wet keeps off Friday 6th Took the target down first thing and had a few shots at it I could not hit it so well as the stone; got along very well this week. Saturday 7th I walked home first thing I did not see any Kangaroos this time went to the lagoon in the evening with G eorge Highland did not shoot any thing my dog put up three quails going down as we came home we fired a Salute it sounded very well it was very cloudy. Sunday I saw the truck going to the “Nob” it was loaded with people it came back about 2 p.m. I met W.Jones and we went to the Jetty. The “Melbourne” came in while we stopped she had the “Albury” in tow and two barges she brought them from the “Mouth” they have been on the slip there. Andrew and I started about six oclock and got down in very good time I went to bed soon after I didnot sleep well. Monday 9th I went on at one got along very well there was a little wheat came in. Kerslake came down in very good time Wednesday 11th There are a good lot of w hild Geese going over. Such shot one yesterday I believe. I got a letter from home today and another from Lowe in town. They said that Gilbert was come to take Squires’ place for a bit Went to Mr Read’s in the evening and we got along first rate it was raining when I went ho me went to bed a quarter past ten p.m. I went to Simbers’ for some coppers for Robert and he would not give me the ones I wanted Independent old Rascal . Saturday 14th It was blowing very hard all day there were six loads of wheat came today. I though t it would be too rough for me to go home but I started about half past ten p.m. it rained a little and the wind nearly blew me away I met Frank Thring nearly at the Goolwa I had not been there long before it came down Cats and dogs and I though the roof would have gone off. Sunday 15 I got up a little after 7 a.m. it was very wet and dismal went to Goode’s Paddock to help to catch the horse got wet didnot go to Jones at all went to Chapel in the afternoon Mr Roberts preached when I got back Gilley was there and he stopped the evening went to bed early as I was very tired Monday 16th The first thing I went and cut some wood and then I mended the latch of the door the rain stopped about ten a.m. for a bit w ent down by the truck W. Jones was on it he has not returned my gun yet; I expect I shall have to fetch it when I want it Brought an “Illustrated London News” down had to go to Baltons to leave a Message which I did went to work at six it was very cold. Tuesday 17th I got along first rate last night it came on wet this morning I feel tired so I shall go to bed got up a little after five p.m. Went on to work it was showery and very cold Wednesday 18th Had a first rate sleep it is bitter cold in this township it was enough to freeze a fellow’s nose off ! I got a letter from home after I went to the Mill they said “Juno” had got 7 pups I should like to see them. I made a few Plugs for the Rifle bullets but it keeps too wet and cold for us to go down and try them I think they will answer very well Gilly went out Kangarooing yesterday but didnot get any thing I should like to see him going through that scrub on horseback I expect his legs are sore enough now. I keeps too wet and windy for getting any chaff. Thursday 19th A very dull morning threatening to rain so we didnot go down on the beach shooting Andrew talks about going up by Kemp’s Saturday to look for Wild Pigeons I don’t think he will find many there Saturday 21st It was a most miserable night raining and hailing it did not clear up at all for me to go home. I got blown along first rate and didnot get very wet I washed and clean ed and then I went to see Gilbert he could not do much as the Wire was so wet. I put my watch to the right time I went and got my gun in the afternoon and cleaned it it was raining hard soon after so I didnot go shooting George Highland came down and we had a game at draughts I beat him. Gilbert came down it cleared up about 9 p.m. and was very cold went to bed about 10. Sunday 22and I did not get up till 9 a.m. I took a walk down to the river with W. Jones it was rather rough; the “Melbourne” lying at the Jetty being repaired as she got a good deal damnaged at the Mouth. I went to Chapel in the afternoon Mr Newland preached went over to Highland’s after tea and stopped all evening got my “Leisure Hour” from J ones’s a good deal the wo urse for wear. I went to bed before ten. Monday 23rd I got up and started for Middleton by 5 a.m. it was a very fine morning and I quite enjoyed the walk. I got to the Mill a little after six we were cleaning out the boiler; I was stonedressing all day. I los t my knife and could not find it this morning. Tuesday 24th The Queens Birthday a splendid day; the New Truck started today it is better than the old one it was free passage all day; Aunts came down in the afternoon I asked them to send my conc ertina down I expect they will send it tomorrow it keeps beautiful weather it is very cold at night now. They Christened the new truck Victoria in honour of her Majesty. Wednesday 25 I got along very well had my things down by the truck my knife to o; they found it in Marshalls Nib. I did not go home till 7 oclock; as I stoped to hear Cox play on the Concertina and Kerslake on the Octave. They both liked it very much I was practising after I got home till ten p.m. Thursday 26th Was jogging along the same as usual; there was nothing happened worth putting down . I slept till 7 oclock. In the evening Andrew came up and stopped talking 9 p.m. it was very still and calm all day. Friday 29th I called Mr H. at half four I got up at six for a wonder; it was showering a little. The ground is begin ning to look quite green again. Monday June 6th I went to work at one oclock it was very cold The Machien belt kept slipping: got along very well there was a truck load of wheat came down Kerslake came on in very good time I went to bed early as I was very tired slept very well. . Tuesday 7th A windy day the dust was blowing about finely there was some more wheat in today Mr Bowman says he thinks there is work enough for a nother six weeks I hope the y will be. I think we shall have some wet soon. Wednesday 8th Got up at six it had been raining in the night and the ground was very slippery. There was a good deal of wheat came in today. and I got a letter from home to say they had heard from Mrs Box. It was wet in the afternoon. Sunday 19th A nice fine day G.H. and I went to the Store to hear Mr Goldsmith preach got home about 1 p m. went to Chapel in the afternoon Mr Tapley preached I walked to Middleton in the eve ning went to bed soon after I arrived there Monday 20th Andrew called me at a quarter past 1 a.m. got along very well it was a fine morning There were three boats “in chace of a Whale I suppose” opposite the Mill they lay too for a long time and then s tarted off to the Nib and we saw no more of them. There was some more wheat in today. Chibnall is bringing his. Sent half a bag of wheat flour home by the last truck I entended it to have gone by the first one but the Machien was broken and we had no flour open. Read was up the Hindmarsh as far as the old water mill. he is improving in his horsemanship he says nobody laughed at him today. It was nearly half past six when Kerslake came down Thursday 23 Kerslake left us to go stoking in the Gundagi . Mr Bowman told me I should have to work nights for the rest of the season. So I went home by the 1 pm. truck the wife surprised to see me I brought my gun and Concertina down went to work again at six had Cox for a mate her is a very good one. Friday 24th Robert told me I could go on again at one a.m. if I liked to make up my full time so I went on and worked all night but I was very tired had a good sleep and went on again at six stoped till half past 10 p.m. It is fine weather now Sunday 25th Went to Chapel in the morning with Mr H. Mr Roberts preached. After dinner I got the Mare and went to the Goolwa and heard Mr Hotham preach went to see if George Highland was at home but he was out Got back to Middleton in good time and enjoyed the ride very much. Monday 26th I slept till nearly 4 oclock instead of going at one. went out shooting in the morning shot three Parrots but I made a mess skinning them went to work at six it was a fine night and I got along very well. Tuesday 27th I went to bed early and slept till past five out stock of wheat is very short again. I was paid tonight  pounds 4. 14. 0 – Wednesday 28th I paid Mr Hudson  pounds 1. 14s. 0d and after breakfast I went to the beach but it was high –water so I could not ge t any periwinkles and there were no pretty shells. The Melbourne went in the morning she had it calm Friday 30 I went on to work a little before six and took my Concertina and I got along very well it was a fine night. Saturday July 1st I started for home a little before 7 a.m. walked home in an hour I cleaned my self and then cut some wood It was a splendid day went to Highlands in the afternoon and in the evening George came down to our place and we had a game at draughts I beat him eve ry game went to bed about ten I was very tired. Sunday 2 nd I was drawing in the morning. went to Chapel in the afternoon Mr Roberts Preached and he gave out that the Goolwa Chapel would be opened Sunday week I should like to go up when it is Mr Evans from Adelaide will preach then Monday 4th I cut a little wood and drew a little got along very well went to Mr Goods to try to get some drawing paper but he had none. Went down by the 2 p.m. truck and was playing almost all the way down on my Concertina I took Cox a few pea’s down I could not get any scarlet runners at Goods. Went to work at six it was very dusty all night. Tuesday 5th I went to early and slept well when I went down at night I found they had killed two Snakes one very small and the other 2 feet long I kept a sharp lookout as I thought it likely there were some more but I didnot see another and I was glad of it It was very dusty again I got almost smothered I had the Concertina with me and learnt another tune It is strange weather I felt quite knocked up and was very glad when it was six Wednesday 6th Had some butter fish for breakfast they were very good Saturday 10th I got a long very well in the night and Robert relieved me at half past 6 a.m. I walked home and had a good wash and cut some wood I went to Mr Shettliff’s and he told me I could go up and use his lathe when he was not using it he was making the windows for the Chapel A fter dinner I went to Mr Good’s to see if there were any letters I then went to G. Highland’s stopped all afternoon Drought came there in the evening we were playing draughts but he beat me shamefully I was almost to tired to play G.H. and I went to the Melbourne we could not find any body on board we poked the meat into one of the cubboard and then went home it was ten oclock again before I got to bed It was showery a little. Sunday 11th I lay in bed till nearly 9 a.m. and was nearly as sleepy when I got up as when I went to bed it was a fine morning but I didnot know what to do withmyself so I started drawing I didnot do it very well gave up at dinner time I went to Mrs Highlands and took the seaweed went to Chapel . Mr Roberts preached. it was a fine day started for Middleton I got there about half past seven p.m. I took “Juno” with me went to bed very soon I didnot sleep well I got up about half past one and went and called Andrew. Monday 12th I worked till 12 and go t along very well went home and had a sleep till five p.m. went to work same time as usual it was a very rough night I felt very tired towards morning. Tuesday I was glad to get to bed as soon as possible and soon went to sleep stopped in till 5 ocloc k I am quite tired of this confounded humbuging night work I wish Bowman had to do it himself. “Juno” went home again today it seems as though she will not stop down here went on again at 6 it was a finer night than last Saturday 16th It was a windy morning I walked home first thing and had a sleep after dinner I went to G Highlands and had a glass of wine and some cake it was his birthday Friday walked to Moors with him didnot see any quailes. Sunday 17th Goolwa Chapel opened Mr Evans pre ached in the morning I liked him very much Mr Newland was there in the afternoon I started for Middleton a little after 5 p.m. when I had got about halfway through the scrub it commenced to rain and blow enough to blind a fellow I got wet through before I got to Mt Hudson went to bed early and woke at half past twelve Monday 18th Worked till the truck went and I went home and washed and went and helped to carry Mrs Highla nd’s things over to the Chapel when I went to the tea meeting Mr Roberts asked me to keep the door for a bit and I had to stop till the tea was nearly over and then Mr Shettliff took my place. I didnot go to the meeting after the tea but stopped romping at G. Highlands it was a very fine night and I enjoyed myself very we ll Tuesday 19th I didnot get up till nearly 8 and then I had to make haste to go by the truck Andrew went down to went to work at 1 p.m. and stopped all night it was a very fine night. Saturday 23ard It was a wet morning but I went home and had a wash and went up to Good’s to see if Mr Turner had done my Concertina he finished it while I stopped I was playing it till nearly dinner time in the afternoon I went over to see George Highland we went down to the Jetty there are no Steamers lying ther e now they are gone up the River. I very soon went home and took the gun and went out in the scrub to fire the load off that was in. I went with G.H. up to Jones in the evening and had a good romp didnot get home till half past 9 p.m. and I was very tired I wa s sound asleep very soon after getting home. Sunday 24th A beautiful day went out for a walk in the morning went to Chapel after dinner it was very full William Jones couldnot find room to sit down so he went out he gave me a black’s spea r he had three I think he got them at Courency Creek. I walked to Middleton in the evening it was a much pleasanter walking than it was last Sunday got down in good time. Monday 25th I woke at twenty minutes to one I called Andrew as I went down wh en I got to the Mill I found the Machien was broken so I had to put on a fresh sheet of wire and as Andrew didnot come when I had finished it I went up again to see what was the matter but he had gone fast asleep again I made him jump up in a pre acious hurry I knocked at the window enough he came down soon after it was very cold I stopped till dinner time at the Mill and went to bed in the afternoon could not sleep well went on again at six got along very well it was colder than in the m orning tried to make a pea shooter. Tuesday 26th Robert came in about half past 6 a.m. I stopped till past 7 playing my Concertina it was a fine frosty morning I had a job to keep warm. Wednesday 27th I was washing bottles for wine the water was very cold went to the mill to try to get my money but he had no change it is very fine weather didnot sleep well today went on to work at 6 p.m. Thursday 28th I got along very well last night was paid  pounds 4.10.0 it keeps very cold. Sunday 31 I wen t to Jones’s in the morning and to Highlands and asked them to come and take tea with me went to chapel in the afternoon and to Mr Jones’s to dinner enjoyed myself very much spent a pleasant evening it was very cold Monday 1st August My Birthday I went out shooting with W. Jones and J.& F. Wright we shot some very pretty little birds for stuffing and as we were charging through the scrub I charged into a large bush covered with prickles and tore my trousers fearfully I had to tie my handkerchief round it went up to W. Jones and skinned some of the birds. went to Middleton by the afternoon truck Saturday 6th I got along very well this week rather tired as I worked half a day extra for Cox. Walked home first thing got there in good time it was a very fine day John Hunt came up in the evening to see if I would buy Alick’s Filly went to bed about ten I was very tired and had a headache. Sunday 7th John Wright and G. Highland and myself went to Joneses in the morning we were looking at the Cou rt house it is a fine building I went home at one and got some dinner and then G. H and I went over to the Chapel with the bible it is a good looking one after Chapel I went to Highland’s and they hid my hat so that I should not go till after tea went to Ch apel again in the evening it rained a little. Monday 8th I was knocking about all morning quite unsettled as I have to go on again in the afternoon – went on again at half past 3 nearly got along very well all night Saturday 13th I worked til l 12 oclock for Cox and he worked at night went home on the truck found that Lowe had sent my deed’s and charged me  pounds 9.16.4 for them I washed and went to Mr Highlands did not stop long went to Mr Jones’s in the evening it looked as though there would be wet. Sunday 14th A very fine day went onto the Jetty to look if the Ruby “steamer” was come in had an invitation to dinner at Mr Highland’s the Ruby came in soon after she is without exception the ugliest boat I ever saw. I went to Chapel in the afternoon Mr Newland preached. Andrew and I walked to Middleton after tea and got there a little before 8 p.m. Cloudy night wind from south west went to bed early Monday 15th I woke about twe nty minutes before 2 a.m. went down and found Andrew was up so I stopped till he was ready it was very cold I went to Mr Read’s in the morning he is a good deal better didnot stop long I fetched some Pills for him from the Doctor’s it was raining Tuesday 16th Mr Bowman sent word he should not want me any more so I went home by the five oclock truck and took my things Friday I went to Middleton in morning went to Mr Whiting’s he was busy putting the old mill in working order. I walked down and got sett eled with Bowman and I was going on to Hudson’s when Peter passed on the truck and sung out to me to jump into the truck and go to Port Elliot I did not get home till tea time. went out with Allen yesterday quail shooting got 13 beteen us Tuesday 23 Grand doings at the Goolwa the Odd Fellows dinner and ball came off I was playing quoits nearly all afternoon. and went to see the people dancing in the evening stopped till 10 p.m. it was a very calm night. I was out surveying yesterday with W. Jones saw a good many quails Friday Thursday 25th Went to Highlands and helped to kill a pig it was in very good order after we had finished the Wright’s and I started quoit playing and kept it up till nearly dark went to Chapel in the evening and saw Andrew he has got no work yet. Friday 26th It has been windy all night went and helped G.H. cut down the pig before breakfast Saturday 27th I went to Middleton by the first truck got a bag of Flour paid  pounds 1.10.0 and there was  pounds 1.12.0 left Mr Reid gave m e the book I sent for paid 3 for it went to Hudsons Paid six weeks in advance for the Chapel and paid him 5 for Board. Wilson passed me by the Mill and asked me if I would take a horse back to the Goolwa for him so I walked to his place for him and had a fi rst rate ride home I got back in time for dinner. Saw John Wright and we talked about having a game at Cricket but could not get enough to play. Sunday 28th I went out for a walk got home dinner time went to Chapel in the afternoon and evening Mr Roberts preached a very good sermon at night it was cold when we came out of Chapel Thursday Sept 1st I went out shooting at five oclock the water was low and there were very few ducks in. Went up to see the Ruby off in the afternoon it was very rough and wet. After tea I went and paid Mr Eaton for two sittings in the Chapel went to Highlands and saw Georges Cousin went to the Chapel Mr Roberts did not come he is very ill. Mr Eaton read a chapter it rained very heavily almost all the time. Frida y 2and Went to the singing meeting; at night the Aurora Australia was very bright about 9 p.m. The Gundagi went up the river today Andrew went with her. John Wright went with the Ruby he is gone up wood cutting with Spivirins Tuesday 6th Felt very unwell all morning and stopped at home went up to see W. Jones in the afternoon. Mr Roberts came to see us after tea I went out soon after and took my Concertina as Thomas Jones said he would go out on the river I think it would have sounded very w ell but soon after I got there W.Bottomly came and Tom went away with him to Varcoe’s so I gave William a tune or two Sunday 11th I went down to the jetty – to see the Melbourne come in she came up full speed and ran against one of the piles and split it in two it shook the whole jetty and dammaged her stern consider – able it rained a good deal and I did not go to Chapel in the afternoon but went up to W. Jones and stoped till teatime went to Chapel in the evening and after service went to see Mrs Robertson home it was a very fine night it was nearly 10p.m. when I got home Tuesday 13th I got up at 5 a.m. and went out shooting I went past Moor’s and shot 4 teal but the dog could only get 2. I saw one wild goose Friday 16 I went up to W Jones to help him to garden a little Mr Bowman came and asked me to go to Middleton for the doctor I rode his horse back and got to the Goolwa a little past 1 p.m. The Ruby came in this morning she has lost one of her screws up the river Saturday 17th When I got up it was raining very fast I did think of going shooting but it was too wet went to tell the natives to come for rations with h.j. they were making the most dismal noise possible over the dead body of one of their friends most of them had their faces blackened with charcole we got back about 12 went stealing peas at W Jones’s chopped some wood after dinner and let “ juno” loose. Sunday 18th I got a letter from Sandy Whitehead Mr Goode forgot to give it to me Saturday there was nothing particular in it went to Chapel in the afternoon Mr Hotham preached a very good sermon. Mr Goldsmith from Strathalbyn preached in the schoolroom morning and evening I did not go to hear him it w as a very fine day. Tuesday 20 After breakfast I went out cutting wood off the stumps borrowed Mr Pritchard’s barrow and fetched three loads before dinner. Yesterday I sold my gun to Joe Nash for  pounds 1 “5” 0 got an I.O.U. for the money Mrs Mahon came in just at dinner time and stopped talking about her garden for a long time. Wednesday 21st Saw W. Jones in the morning he asked me to go out with him after dinner we went to the Island did not shoot any thin except a quail and a Plover the native s hot 3 cobblers owls at one shot The wind went down about sundown it rained a good deal while we were on the Island went to Mrs Highlands in the evening Monday 26th I was down with Thomas Jones in the boat nearly allday. William was at Milang with his father they came home about 5 p.m. I went up in the evening but he was too busy to talk so Thomas and I went to the singing meeting there were very few went got home at half past 9 p.m. Tuesday 27th Tom and I went up the river before breakf ast to take up in the moorings where the Gouvernment boat was fastened William was very poorly unable to go out with his father they were going to Hindmarsh Valley surveying went up to see him after breakfast. Went to Highlands in the evening. it w as very hot all day and there was some fire burning in the direction of the Finniss it looked very nice at night. Wednesday 28th I was called at 5 a.m. to go shooting with George H. but I thought it was too late so I went to bed again “ to sleep I mean as I did not get up” took his gun home early he said he wanted it to send a blackfellow out I don’t think he did it was very windy I to go up to the school to fetch aunt down it blew the right way for us and helped us on first rate I wish it would rain went and borrowed W. Jones’s gun in the evening. Thursday 29th I got up at 5 a.m. and went shooting but I could not get anything the water was very low I saw a few quail on the sandhills got back about 9 a.m. The Lady Agusta is expected down ver y soon it looks likly for more wet. Tuesday Octr 4th Started from the Goolwa at half past 10 a.m. with a very light wind pulled almost up to Laffins point when the wind freshened and we went along very well got to Point by half past 3 p.m. got the things ashore a quickly as possible and then we all went out shooting I shot a Wallaby and Thomas another we got back to the house just at dark after we had had some tea we got a lot of nat ives to help us to haul the boat out of the water we were all very tired and glad to get to bed which we did about 10 p.m. slept on the floare it was very hard I could not get to sleep for a long time Wednesday Octr 5th Mr Jones called us at 5 a.m. and while we were getting up he lit a fire and put the kettle on so we had breakfast before going shooting William shot one Wallaby and Mr Taplin two I never saw such funny little things to run in my life it must require a good deal of practice before a person could make sure of hitting them I kept missing away a good one I only saw one large Kangaroo and he was a very fine one I saw some very fine quail and shot one it was very prettily marked I never saw one like it before William shot a black duck as she rose off her nest I found the nest it had 8 eggs in we started from the Point at 9 a.m. and crossed the lake very well we had to make two tacks before rounding point Staurt Smiths boat got ahead of us and we did not catch them till we got to Varcoes Mill from there it was nearly head wind so we pulled almost all the way down from to the Goolwa got there at half past 3 p.m. I helped to carry the things to the stable and then went home got there in time for tea it has been very pleasant weat her for our trip I wish we could have stopped two or three days longer but Mr Jones could not. I went up after tea for my things. William and Tom were fast asleep and I could not wake them they had put two Wallaby and a nice fish for me I could not carry every thing so I left my bundle and only took the game and they made my arms ache dreadfully went to bed at nine oclock and very glad of it. Thursday 6th I did not get up till past 7 a.m. as I was very tired with rowing yesterday and with carrying the gun . Joe Nash brought back the gun and said he would not have it so I took it and burnt the I.O.U. he said it was no good. I mended it in the afternoon so that I think it will last a good bit. In the evening went to Chapel and after I all about looking for Dash but I could not find him. There were a great many swans flying over in the evening but too high to shoot It had been a very fine day only we want more rain. Friday 7th Went up to Highlands in the morning to look for June but I could not find he r while I was there she went home and was away again as soon as possible I cant think where she goes to. Went to the singing in the evening got home half past 9. Saturday 8th Went with G.H. to look for his horse but we could not find him. Got a letter from Mr Schroder to say if I liked to come to Myponga he would find me something to do. it was a very fine night. Sunday 9th The Gundagi came down the river early and the Lady Agusta is expected tonight or tomorrow I went down to the jetty to look round I did not see Kerslake or Andrew went up to see William Jones and we went into the garden and commenced eating peas got home to dinner by 12. Went to Chapel in the aft ernoon Mr Roberts preached Monday 10th I went down to the Jetty early and went on board the Gundagai saw Andrew I stopped talking to him till the Lady Agusta came in I went off to her in a boat after dinner I saw Kerslake he had come up by the truck he looks first rate I think the river agrees with him. Tuesday 11th The Gundagai went off early W.Jones and his father went to the Mouth in her she was forced to stop there as the sea was so rough W.J. came back about six oclock they had to walk all the way up as the wind was dead ahead. I went up to have a game at quoits in the evening but it came on so wet we were forced to stop. Wednesday 12th I W.Jones in the morning and he asked me if I would go to Hindmarsh Island with him in the aft ernoon I went to the house but he was gone to get a Shot with Wisdom they came back about 2 p.m. and a nice job they had to cross as the wind was so strong and the current against them it was too late to go then so he went down to ration the Natives I had several shots at Gull’s but only killed one came home to tea had a game at quoits with W. Tuckey and beat him Went to Highlands in the evening. Thursday 13th I got up at half past 4 and went and called W. Jones and we went out shooting he shot 1 teal I did not get a shot at any we got home about 9 a.m. had breakfast and a good wash and then went out for a walk. I hurt my leg when I was out shooting Jumping over a fence. It made me quite lame. Went to Middleton by the t ruck in the afternoon tried to get Webster to take me to Myponga he will send me word Sunday Saw Hudson and got some fowers his place looks quite nice the crops look a great deal better about there than they do here. Got home to tea and then went t o the meeting. Mr Squires was married today and a lot of fellows got tin kettling them and made such a noise we could scarcely hear what Mr Roberts said. W Jones and I we nt over after Chapel and heard a couple of very good songs sung by little Sam of the Gundagai it was a very night went over to Mrs Highlands and took Mrs James plate off the door but George put it on again we intended to stick it on the Telegraph Station – but I thought pr’raps it would be lost. Friday 14th I went with G.H. out for orders saw W. Jones he asked me to go to Varcoes Mill with him in the afternoon I went up after dinner but they had altered their minds so we did not go. Saturday 15th I was chopping wood in the morning after dinner I went out for a walk saw Sam Jones and we had a game of quoits I beat him after he had gone Sumner came to play with me I won five games and he won three when he went Bill Tuckey came and I beat him. I played 14 games altogether. W. Jones and I went out for a pull he took his gun and we killed ten seagulls he wanted them for the feathers. Sunday 16th I went out for a walk in the morning went to Chapel Mr Tite read a sermon and made a very bad fist of it went to Chapel again after tea and went up to Kidds after. Monday 17th I went to Currency Creek to look for Mr Eaton’s horse but I could not find him. Got back about 1 p.m. Captain Barber was married today they had a fine set out a grand dinner and ball after I should like to have gone there was a good many there I believe and they kept it up till 4 o’clock on Tuesday morning. Wednesd ay 19th In the afternoon I borrowed G. Highland’s pony and went to Simmon’s place. Called at Mr Read’s going as I came back I called at Mathews and got a nice bunch of flowers. I got back in time for tea. Thursday 20th Went out with W. Jones to look for so me horses found them up by Laffins we got them in very easily and then went to Port Elliot to look for another but we could not see any thing of him we did not get back till nearly dark. Went to Chapel in the evening. Saturday 22nd Reading most of the day saw Harding in the evening he as brought a list of prices of b ats balls &c. from Cuningham’s Adelaide I wish we could start our Club again. Monday 24th Went over to Mrs Highland’s to see Miss Willcox making cakes for the tea meeting. Went to help W. Jones draw out a Challenge for the Port Elliot Club got home about 10 p.m. Tuesday 25th Sent the Challenge in the morning and saw Varcoe to know if her was agreeable to play he said he would. Went to Moors with G.H. got back to dinner. Monday 31st W. Jones G.Highland and I went to Port Elliot to see Mr Trigg about the Match it is to come off next Monday had a first rate ride we got back about sundown it was very hot going. Saturday 5th A large hawk killed a very nice chicken youn g Peck got it off him he came back to look for it I went and sat down behind the tree and when he came round I shot him dead. Had a good game at cricket in the evening Mr Brewerton and Sumpter came from the Island we had ten of the eleven on the ground that is to play the Match Monday. I did not get home till ten o’clock it was a cloudy night. Monday 14th Went out early to get the tent pitched before the Port Elliot Eleven came they got on the ground a little before 11 a.m. The Umpires tossed for innings and they went in first and went out with 20 runs our side then went in and scored 75. I began to think then that we should win after a little while they went in again and only scored 23 leaving us winners by 32 in one inning. There was another game got up for nobblers but I had nothing to do with it. We went to dinner at six o’clock it was a shabby turnout rather and Varcoe wanted them to pay 36 a piece but they would not. I spent a very pleasant evening and got home at 11 p.m. The scoring on our s ide last Monday the 7th was 33 and 69 – and on their side 56 and 77 - Wednesday 16th The Melbourne Steamer left for Port Adelaide but in going through the Mouth she struck and filled very fast so that Barber ran her ashore and she is now going to pieces fast. Frid ay W. Jones and I went down to the Mouth on horseback there was very little to be seen of the Steamer as the sea was washing over her constantly the funnel and main mast were standing the crew were busy picking up the wool off the beach. Monday 21st Went to the Finniss with G. Highland to fetch some sheep it was very hot going through the scrub and I was very glad when we got home I saw Tom Jones in the evening and he said I was wanted at Bowmans. Tuesday 22nd I started for the Mill at six o’clock it wa s very hot I had to pull down a lot of flour and clean out the mill it was a dusty job. Wednesday 23rd I got up at 5 a.m. and went to have a bath in the sea it was nice and cold. Saturday 26th I have been helping Cox all the week Robert paid me 30 today and I went home by the truck and had a wash and some tea and went to play cricket Harding broke our best bat. I don’t know what we shall do for bats. Sunday 27th I got up at 8 a.m. and washed and went to Mrs Highland’s and then to the jetty to look at the Ruby t hey have been altering her rigging putting a topsail she looks better for it I went to see W. Jones and stopped till nearly dinner time went to Chapel in the afternoon Mr Hotham preached and Mr Roberts in the evening. Monday 28th I intended to go ou t shooting but my gun was so dirty and I had not got Dash so I thought it better to stop at home I fetched a lot of water from Shetliff’s well and then went to the jetty saw Read and W. Jones got home to dinner. Went to hear Mr Howie deliver a lecture in the evening. Tuesday 29th I got up at 4 a.m. and went out shooting but I got nothing went to see the Bunyip off just before cark. Wednesday 30 Mr Shetliff came to know if I would dig a grave for the man that was drowned so I went down and dug away like a slave. I finished it just in time. I walked home quickly and borrowed G. Highland’s pony and went to Middleton paid Hudson 10 he has got the wheat nearly out blacks are doing it. 1860 Jany. Wednesday 18th I went to Mr Jones’s section to help with the machine got along very well till afternoon when I sprained my arm. I went to work again this morning worked all day as well as I could it was very hot all day I came home with W. Jones in the cart. Friday 20th I could not go to work as my arm was so bad G. Highland borrowed a horse for me and we went to the springs to get some water there was a lot of birds George killed one with a stick we got home at 2 p.m. and I had dinner at Mrs Highlands. Saw F. Wr ight and paid him 33 I owed. Saturday 21st A fearful day hot enough to kill any body I stoped at home nearly all morning was with William all afternoon – my boots came up by the 5 p.m. truck. Severall went out to have a game at cricke t but there were not enough to have a good game I went to score but I was not wanted. I went shopping with W.J. in the evening. Sunday 22nd Very hot till dinner time when the wind changed and I washed and dressed myself and went out with George we stopped with William all afternoon went to Chapel in the evening Mr Roberts preached a very good sermon. Monday 23rd G. Highland and I intended to go to the Hindmarsh fishing W. Jones said he would lend me a horse but when I went for it he said his father want ed it so we did not go went down to the little Jetty instead and I caught 23 fish and George got one I gave mine to Harding for another line. I went up to Mrs Highland and stopped to tea Miss Willcox was there and we had a fine romp stealing one anothers cake tea &c. went home about 8 p.m. and found Mr Gerard much worse went to Mr Goode’s for some things for him and then went to the doctor. Wednesday 25th Very windy was at home nearly all day went up to Highland’s in the evening stopped while he killed 3 sheep. Gave Harding 15 to buy a bat for me in town got home before nine p.m. Thursday 26 Mr Gerard does not seem any better went to Mrs Highlands for some meat but she had got none. March 12th The closing match of the Goo lwa Cricket Club came off there we re not many members present only eight we played for a new bat Harding won it it was a very nice day for it. I was to have gone to work at Mr Whitings today but Mathews came up and told me the boiler was burst. Tuesday 13 Was at home all day. p. 131 - 132 ? ] Wednesday 14th I went down to Mr Whitings to see about the boiler they are getting along very slowly it won’t be finished before next week I came down by the next truck and went to the Court house to hear the cases tried. Saturday 24th Went to Smalls Sale in the afternoon the things sold very well in the evening there was a meeting of the Volunteers held at Varcoes when the dress was decided upon and officers appointed Mr G.B. Smith is Captain. To commence drill next Wednesday. It was ten o’clock when I got home. Monday 26 W. Jones G. Highland and I went out Cattle hunting we intended to take a young bull down to the Mouth but we could not see it we went down and were told that we had seen the beast and dinnot know turned back but it was very late b efore we saw it again and then it knocked up so we left him and came home it was very wet all day. Tuesday 27th W. Jones came down for me to go to Port Elliot with him he got Eaton’s horse just as we were setting out George came so he went with us. April 6th I went to Mr Whiting’s and started work we did not get the mill going till dinner time we were hoisting wheat all afternoon I went home at six and went to work again at twelve. Tuesday 16 May As I was going to work I ran up against a horse it was so dark. July 4th I received my Rifle the uniforms were not come. I finished at Mr Whiting’s yesterday we could not get on the boiler leaked so. Saturday 7th I got my uniform and it fit me very well some of the others got theirs as well got along v ery well at drill. Tuesday 7 August George Highland and I borrowed Mr Eaton’s horse and cart and went out shooting we got some parrots and I got two wild pigeons and I saw a good many more they are very fine birds. I shot three the week before last at the same place we got home before sundown. A trip up the Lakes August 13th Left Goolwa at 10 a.m. with a head wind so we took to the oares and pulled up to Varcoes Mill stopped there and borrowed his gun started pulling again and reached Rankins ferry and had dinner at 1 p.m. we took the gun and tried to get some rabbits but they were to wild. Passed rocky Point at 15.3 p.m. with all sail set going along at a fine rate passed Smiths boat in the Lake Reached Point McLeay at 4.30 p.m. Tom George and I went out to get some wallaby but it came on dark very quickly and we did not get any we had tea in Mr Taplin’s Kitchen and went to bed at 9 p.m. 14th Got up at 4.30 a.m. and found we had had got no lamp as Mr Taplin had taken it away made a fire to see to dres s by and pack our things carried a fire stick down to the beach and made a good fire and cooked a fish a blackfellow caught the night before. Started from McLeay 15.7 a.m. 14 to 7 with a fair wind took a native with us we went to his fishing lines and found a nice fish on them. Entered Lake Albert about 8.15 a.m. and when about half way through the river saw some young swans which we chased. The native caught three and we got one we fired a few shots at the old one but did not kill her. The wind died away soon after so we pulled till we came to a good landing and then we put in and made the boat fast took the things ashore and pitched the tent had some dinner on the ground and then went out roo shooting. we saw a few kangaroos but could not get a shot at one . Returned about sundown and found that our native guide who had been out in his canoe looking for swan eggs and been fortunate enough to catch two swans and also two musk ducks he was eating one of the ducks when we got back. 1862 June 7th Saturday Flora had 4 pups no good. \\n'"
      ]
     },
     "execution_count": 5,
     "metadata": {},
     "output_type": "execute_result"
    }
   ],
   "source": [
    "# Place narratives into a list representing the corpus\n",
    "texts = df.text.values.tolist()\n",
    "texts[chunk]"
   ]
  },
  {
   "cell_type": "markdown",
   "metadata": {},
   "source": [
    "## Named entity extraction for the texts"
   ]
  },
  {
   "cell_type": "code",
   "execution_count": 6,
   "metadata": {},
   "outputs": [
    {
     "name": "stdout",
     "output_type": "stream",
     "text": [
      "4\n",
      "4\n",
      "4\n",
      "3801\n",
      "1267\n",
      "{'Mrs Roberts': 19, 'Tom': 692, 'Hiern': 3, 'Worrier': 23, 'Jeff Miller': 2, 'Jimmy Roberts': 2, 'Roberts': 24, 'Frank': 271, 'Charra': 24, 'Brandy': 9, 'Weather': 4, 'Albert Campbell': 1, 'William Hasken': 1, 'Sailed': 1, 'Watsons': 3, 'Hierns': 1, 'Hoskin': 6, 'Frank Worrier Tom': 1, 'Boys Harnessed': 1, 'S.B. Frank': 1, 'Billy': 16, 'Mare': 4, 'Mrs Higgins': 40, 'Penong Young Jackson': 1, 'Charley Beck': 2, '7.A.M. Frank': 1, 'Bookabie': 11, 'Miller': 9, 'Boarey Scrub': 1, 'Said': 1, 'Bread': 51, 'Murray': 89, 'Beadon Came': 1, 'Bishop': 12, 'Beadon': 13, 'Wenyss': 7, 'Cook': 14, 'Le Mesurier': 91, 'Scroggins': 5, 'Wemyss': 34, 'Sundy': 1, 'Bob': 22, 'Roberts Mare': 1, 'Tom Aldom': 1, 'Melville': 47, 'Andrew Hawkes': 1, 'Gaskell': 62, 'Penong': 19, 'stin': 1, 'Capt Tullock': 7, 'coole': 1, 'Mrs Higgs': 1, 'Boy': 14, '8.A.M. Tom Aldom': 1, 'Jemany': 1, 'William': 6, 'Laura Bay': 3, 'Tom nigad': 1, 'waite': 7, 'ribbon carings': 1, 'Higgins': 29, 'breake': 1, 'S. Sat': 1, 'Streaky Bayss': 1, 'S.B.': 2, 'James Hiern': 1, 'Linklater': 1, 'Bacon': 5, 'tim': 4, 'Hut': 1, 'Campbely Tom': 1, 'McCord': 29, 'Mary Cale': 1, 'Blackmore': 3, 'Mrs McCord': 9, 'Tompson': 1, 'John Mudge': 1, 'Baby': 7, 'Hery Mudge': 1, 'M. Mudge': 1, 'Anderson': 12, 'Grace': 2, 'Mrs Code': 1, 'Mrs Clode': 5, 'tryed': 1, 'Thoms': 2, 'Blake': 9, 'Wolimia': 1, 'Clode': 16, 'Tomas': 1, 'Wishort': 1, 'Tom Clod Blake': 1, 'Archie Tompson': 1, 'Garritie': 1, 'Mrs Smes': 1, 'accepst': 1, 'Coby': 1, 'James Higgins': 3, 'Mrs Thompson': 3, 'Hasken': 3, 'Cord': 1, 'Cotton': 1, 'Calca': 4, 'Hosken': 2, 'Lady': 3, 'Law Mrs Winnison': 1, 'Thomps': 1, 'Mrs Smison': 1, 'Mrs Myers': 1, 'Lottie': 1, 'Iron roor': 1, 'Mensons M': 1, 'Yalia': 3, 'Mrs dinnisons': 1, 'Miss': 1, 'Tottie dinnison iding': 1, 'whild': 1, 'Jup': 2, 'Day': 4, 'foung Tom': 1, 'Haskin': 2, 'Mrs bliggins': 1, 'a ho': 1, 'Tom ave': 1, 'Port Engusta Calid': 1, 'Alliston': 2, 'Thompson': 20, 'Charley': 3, 'Bartlett': 1, 'Gawler longes McCord': 1, 'Mr dinnison': 1, 'Hurrant': 1, 'S. Montgomerie': 1, 'Knores': 1, 'Toms': 18, 'Jessie Thompson': 1, 'James': 2, 'Port Lincoln': 3, 'Myers': 2, 'Alic': 1, 'Robert Ande': 1, 'underson': 1, 'Starched': 3, 'Gehertay': 1, 'Tom Mr Sps': 1, 'Thomes': 1, 'arry Geherty fowl Rabbit': 1, 'Geharty': 1, 'Thome': 2, 'Geherty': 1, 'Ally': 1, 'Mrs Simes': 1, 'Besly': 2, 'Fowlers Bay': 6, 'Amas': 1, 'hus cross': 1, 'Besley': 3, 'Mc Mys Cool': 1, 'Tom Bay': 1, 'Drill': 3, 'Chad': 1, 'Dymes': 1, 'fa': 1, 'Freeman': 32, 'Mary': 3, 'Tom Kept': 2, 'Blackmor': 1, 'Drilling': 2, 'Blake Gehartay': 1, 'Merritt': 1, 'Hesley Thoms': 1, 'Mrs Bay': 1, 'Ber': 1, 'tword exercisee': 1, 'Mrs Bays': 1, 'Ispector Besley': 1, 'Stephen': 1, 'Hompson': 1, 'John Thompson': 1, 'Moreurit': 1, 'Babinton': 1, 'Morearit': 1, 'Helshs': 1, 'Hamilys': 1, 'Mrs Tame Child': 1, 'Lake': 4, 'Robert Anderso': 1, 'Robert sings Elliston': 1, 'Robert underson': 1, 'Anders': 1, 'Hair': 1, 'Musgrave': 1, 'Smith': 3, 'Robert Anderson': 1, 'Mrs Gry': 1, 'Bread Butter': 1, 'Andersons': 1, 'Hanks': 1, 'Bramfield': 2, 'Campble': 1, 'Miss Hamp': 2, 'Honysuckle': 1, 'Hanna Campbell': 1, 'Campber': 1, 'Young Chartie': 1, 'Frank Anderson': 1, 'Mrs Morearill': 1, 'Linmson Mary': 1, 'Chresten': 1, 'Fred': 2, 'Venus Bay': 1, 'Shepherd': 1, 'a.M. Tom': 3, 'Tohn': 1, 'Mrs underson': 1, 'Mr utting': 1, 'Annie Thompson Tom': 1, 'Peal': 1, 'Croguet': 1, 'Mrs Black': 2, 'George Sullivan': 7, 'Tullock': 11, 'Beer': 16, 'McCordl': 1, 'Mrs asken': 1, 'Fowlers Bup': 1, 'bush': 3, 'McCord Tom': 1, 'Campbells': 2, 'frrison': 1, 'fould': 12, 'Wen': 2, 'Betts': 13, 'Tom Mr McCord Old': 1, 'Beand': 1, 'Gebarty': 1, 'Harrison': 43, 'Ifoulds': 3, 'Mrs Harris': 1, 'gollopping': 1, 'Tom McCord': 2, 'Mrs Betts': 5, 'Fowlers Bay Tom': 1, 'Sullic': 1, 'Mrs McCords': 2, 'Ladis': 1, 'Alic Murray': 1, 'Clark Frank Schlank': 1, 'Florance Crawford': 1, 'buff': 2, 'Bett': 3, 'Harry Mudge': 2, 'Thompson Mrs Smith': 1, \"John Mudge's\": 1, 'Clark Mrs McCord': 1, 'Dyke': 12, 'Tom Streaky Bay Tom': 1, 'Giddy': 2, 'Annie Thompson': 1, 'Uncle Willie': 1, 'Uncle Archie': 1, 'Archie Thomson': 1, 'Willie Thompson': 1, 'Annie': 3, 'Tom Old': 1, 'Montgomerie': 4, 'Som': 1, 'an Oyster Supper': 1, 'Tom Clean': 1, 'Lance Corporal Clode': 1, 'Neuralgea': 1, 'Golly': 1, 'Code': 1, 'Lobster': 1, 'Lubra Washing': 1, 'Fowlers Bay Black': 1, 'Whitters': 1, 'Gaskell Telegraph Master': 1, 'Dyke Gaskell': 1, 'Weather Close': 1, 'Gaskell Anderson': 1, 'Tom Mr': 3, 'Sarak': 1, 'Whitters Tom': 1, 'Tom anxiong': 1, 'Kirkala': 2, 'Colly': 1, 'Sims': 1, 'Collys': 1, 'Newevery': 1, 'Watson': 9, 'taber': 1, 'Weir': 2, 'S. Tom': 1, 'Tom Mid': 1, 'Coles': 1, 'dr Te': 1, 'ted aga': 1, 'Colona Higgins': 1, 'Godle': 2, 'Godlles': 1, 'Penong Tom': 1, 'Pearong': 1, 'Frank Cleaning Buggy': 1, 'molock ligara': 1, 'Tan': 1, 'Wenyes': 1, 'Tom Garden': 1, 'Murray Godlee': 2, 'Grases': 1, 'Harry Squire': 8, 'Encla': 1, 'mailarrived godllee': 1, 'Kick Lloyd Andie Hanks': 1, 'Cousedine': 1, 'Smuire': 1, 'Washing tot': 1, 'Varnish Buggy': 1, 'Frank Tom': 2, 'Iuspector Besley': 1, 'Telegraphed Mr': 2, 'sometine': 1, 'Mary Vale': 1, 'foore Tom': 1, 'werry': 1, 'Lemesa': 1, 'Squire': 8, 'Willie': 5, 'Robert Maderser': 1, 'Freen': 1, 'Whitewash': 1, 'Teeb': 1, 'Dec9th': 1, 'Dinneer': 1, 'Bed Sundy': 1, 'Brearfast': 1, 'Tuesda': 1, 'Grace Darling': 3, 'Tarry Weir': 1, 'Lietkens': 3, 'Magnifying Glaass': 1, 'Frerd bou Mulfer': 1, 'Weirs': 1, 'Yarrie': 3, 'Joe': 2, 'Mailman': 5, 'Bottled Beer': 1, 'Frad Whrman': 1, 'Edward Lloyd': 6, 'O. Lloyst': 1, 'Dinnison': 2, 'Boat': 1, 'Dinuison Caunted': 1, 'Fred Freeman': 1, 'saad': 1, 'Garrie': 1, 'Dick': 1, 'Old Tackie': 1, 'twe ounces': 1, 'Sf Cantharided': 1, 'Tiy Puidding Take': 1, 'Serven h': 1, 'Mrs Dinnis': 1, 'Beantiul rai thfistfor the': 1, 'Lerd': 1, 'Jon Mulller': 1, 'Willie Campbell': 1, 'Frank &c.': 1, 'Bob trippel': 1, 'Brock': 1, 'Dan Webb': 1, 'hady': 1, 'Jolly': 1, 'Liar Brock': 1, 'fomm cappd': 1, 'Magret arrieed Tullach': 1, 'Thomas': 1, 'Lloyd': 22, 'Spinkstone': 1, 'bock Frank': 1, 'y Higgins': 1, 'Yalata Yliggin': 1, 'Hiagins': 1, 'Dinnses': 1, 'Surkys': 1, 'Alic Dinnison Miss Dinnison': 1, 'Dinson': 1, 'Mrs Hhiggins': 1, 'Yalaty': 1, 'Kitchen': 2, 'Jame 2rd Tom': 1, 'Herbert': 1, 'Jome': 2, 'Yalata Amiie': 1, 'Cllershaw': 10, 'Dininson': 1, 'Cloug': 1, 'raen mme': 1, 'Saturdy Jame': 1, 'Sundy Tom': 1, 'Frank Jimmy': 1, 'Growled': 1, 'Thrs Murrags Grave': 1, 'bake spoild': 1, 'hmisely': 1, 'Muuay': 1, 'Mune': 1, 'Tom Frank': 15, 'rodlef': 1, 'Dyhe': 1, 'Musie Monglay': 1, 'Jue 21': 1, 'tom': 2, 'forCoorona Frank': 1, 'Jmne22rd': 1, 'roak': 1, 'Cuires': 1, 'Younganna': 1, 'Cureo': 1, 'Frang': 1, 'Sundown Bob': 1, 'Gallop': 1, 'awa': 1, 'Mrs': 2, 'bush Hliggins': 1, 'Kiggins': 1, 'Porter': 2, 'Boorey': 1, 'Telf Cooking': 1, 'Jume Tom': 1, 'Whymep': 1, 'Scatch ditys': 1, 'Mrs Weir': 10, 'han': 1, 'Wurlly': 1, 'Clarence': 3, 'Salmon': 1, 'Mrs Weir th': 1, 'Godlee': 25, 'joe': 1, 'Tom Larrikin': 1, 'Colona Tom': 2, 'Hardwiks Grave Tom': 1, 'Frank roa': 1, 'Grave': 1, 'Climbed Tom': 1, 'Godlle': 1, 'Mymness': 1, 'Sininsons': 1, 'Cucla': 6, 'Whymess': 1, 'Mellie A Lubra': 1, 'liby': 1, 'assistace stook': 1, 'Clothes': 3, 'Iron': 1, 'Norman Mconalds': 1, 'Monalds Coat': 1, 'mysey': 1, 'dinnisen': 1, 'Lambs': 1, 'Goyder': 1, 'passesad': 1, 'Iothering': 1, 'Beacock': 1, 'Tom Amey': 3, 'Fotherigh Allens Creck': 1, 'Forner': 1, 'Amy': 3, 'Tanunda': 1, 'Faniels': 1, 'afterw': 1, 'Frankling': 2, 'Tom Clothes': 1, 'Mrs Horm': 1, 'Totherighan 1': 1, 'Mrs whentley': 1, 'Allen Willie': 1, 'John Stocks': 1, 'Mrs Tatherighan': 1, 'lown': 1, 'Wollimia': 3, 'Maria': 2, 'Tom Maria': 1, 'Tate': 3, 'Harriette': 1, 'Eva': 1, 'Harry': 5, 'Kasa': 1, 'Edward': 3, 'Beaches': 1, 'Willie Toms': 1, 'John Muckey': 1, 'Harriette Lucy Cousin': 1, 'Mrs Hansen': 1, 'Royal Shepherd': 1, 'Lucy': 9, 'Le Meseurie': 2, 'Bartlette Mrs Blake': 1, 'Sullivan': 6, 'Sulliven': 1, 'Miss S.': 1, 'Miss Sullivans': 1, 'Sullivans': 1, 'Le Measurie': 1, 'Lake Wangrey': 1, 'Hansen': 1, 'Lee Mrs Hansen': 1, 'Hanson': 1, 'Tore': 1, 'Wilthier': 1, 'James Armstrong': 1, 'Le Mesurie': 8, 'Tom Met': 1, 'Board': 1, 'Horses': 2, 'Forty': 1, 'Hamps Station': 1, 'Hamp': 4, 'Mconald': 1, 'Mrs Hamp': 3, 'Whiskey': 1, 'ach': 1, 'Ham': 1, 'Hamp s': 1, 'James Campble': 1, 'Mrs Board': 1, 'self wat': 1, 'Fry': 1, 'Mrs Fry': 1, 'John Mays': 1, 'May': 1, 'Billy Mackeney': 1, 'A. Thompson Station': 1, 'Miss Broadbent': 1, 'dan': 1, 'Cottaye': 1, 'roung': 1, 'Schlans': 1, 'Schlank': 1, 'Butcher': 1, 'Mutton': 15, 'Jam': 1, 'Mary ville': 1, 'Schlanks': 1, 'Harry Squires': 5, 'Mese': 1, 'Brang': 1, 'Vision': 1, 'Hobbles': 1, 'Sannakins': 1, 'Mallee': 1, 'Milman': 2, 'Harry Hoskin': 1, 'Sister Ada': 1, 'Capring': 1, 'Hangrom': 1, 'Miss Haskins': 1, 'James Hierns': 1, 'Swan': 2, 'higrey': 1, 'Heirns': 4, 'Beet': 1, 'Hoskins': 1, 'Edward Robert': 1, '1.P.M. Mrs Higgins': 1, 'mely washang': 1, 'Mrs Miller': 6, 'Vision Squiers': 1, 'Bininsons': 1, 'Blanken': 1, 'Headlalls': 1, 'thrle': 1, 'Gaskells': 24, 'possick': 1, 'repoth': 1, 'constanly upseting': 1, 'Sullocks': 1, 'Mrs Gaskell': 25, 'dinnison': 1, 'cagga': 1, 'Ellershaw': 12, 'myser': 1, 'Tom Mr Swan': 1, 'Tom Music': 1, 'Linison': 1, 'Linson': 1, 'Lesaying': 1, 'Frace': 1, 'Mary am': 1, 'Alic Mininson': 1, 'greating aroyed': 1, 'losemy': 1, 'Mangervo': 1, 'Harrison Cop': 1, 'vessell': 1, 'Mrs Harrison': 30, 'Ho': 1, 'George Murray Wemy': 1, 'Mrs Gaskels': 1, 'greaty anoyed': 1, 'Campbor doon': 1, 'Frison': 1, 'My Clothes': 1, 'Hafrison': 1, 'Mille': 2, 'Cucla Mrs Gaskell': 1, 'Smith Tom': 1, 'Higging': 1, 'Edward Cloyd': 1, 'yesterd': 1, 'trom': 1, 'Frank Cleaney': 1, 'Judy': 1, 'Mrs Harrise': 1, 'Children': 2, 'Oloyd': 1, 'Her bert': 2, 'Camely': 2, 'Hervert Came': 1, 'ust Tom': 1, 'Hobert Came': 1, 'Loymns': 1, 'constion attendance night': 1, 'keens': 1, 'Lons': 1, 'Murrar': 1, 'Squires': 4, 'Stones': 1, 'Heirus': 1, 'Hirn': 1, 'Misses': 1, 'Mist': 1, 'Georgurray': 1, 'Kitchen Tom': 1, 'Wigglesworth': 1, 'Gasked': 1, 'Eucla Tom': 1, 'Charley Toms Sister': 1, 'Ame Mrs Roberts': 1, 'French': 1, 'Buin': 1, 'Tuin': 2, 'Belly': 1, 'Muing': 1, 'Melly': 4, 'Wemys': 1, 'fack': 1, 'Porngabie': 1, 'Tom wan': 1, 'Wemy': 9, 'Tom Kerce': 1, 'Tom Mr Helly': 1, 'Helly': 6, 'knce': 1, 'the Af han': 1, 'Hilly': 1, 'Mrskell': 1, 'Tom Mana': 1, 'Sand': 1, 'Grocearing': 1, 'Lloyd Mr': 1, 'Bloyd': 1, 'Andy': 1, 'Mrs Murray': 47, 'Medice': 1, '7.A.M. Tom': 1, 'Merry': 1, 'Tom Oll': 1, 'Lloy': 1, 'Jackasses': 1, 'Melville Gaskell': 1, 'Lloys S. Lloyd': 1, 'Beadon Thomps': 1, 'servert': 1, 'White': 3, 'eggy': 1, 'Murray Melville': 1, 'hervert': 1, 'Adelaide Tom Kept': 1, 'cartaine wash': 1, 'Mrs Roberts Mediames': 1, 'Wemym': 1, 'Tuim': 1, 'Harrise': 1, 'Huim': 1, 'Lloyd I': 1, 'Young Arried': 1, 'Hamp Mrs Sulliva Higgins Roberts Clode': 1, 'Arneld': 1, 'Ser': 1, 'S. Lloyd': 2, 'Bick': 1, 'Close Tom': 1, \"Lloyd's Boy\": 1, 'Arnald': 5, 'Royd': 1, 'Tom making': 1, 'Harry Squiress': 2, 'Je': 1, 'Bridle': 1, 'Le': 1, 'Lanturn': 1, 'Claren': 1, 'Tom Cooked': 2, 'Le Mesuriers': 3, 'Corday Tom': 1, 'Tom bady': 1, 'Morris': 1, 'M.': 1, 'Frank Cooked': 1, 'Stew': 1, '2 Whing': 1, 'Seck': 1, 'Dearrea': 1, 'Mrs Harried': 1, 'Mailman Weather Cold': 1, 'Harryson': 1, 'Shark': 1, 'rowlocke Mrs Harrison': 1, 'Thoma Lloyd': 1, 'Young Mrnald': 1, 'Young Arnald': 6, 'Cabolic Aced': 1, 'Darrel': 1, 'Gaskell Le Mesurier': 1, 'Gaskell Mer': 1, 'Mashed': 1, 'Blum': 1, 'closen': 1, 'Weny': 1, 'Pippin': 1, 'Gaskells Mac Pippin': 1, 'Tom Mr Gaskell': 1, 'Hum': 1, 'Bobby': 2, 'Abong': 1, 'Harricon': 1, 'dall': 1, 'Sillesomful of Brandy': 1, 'Lincof Capecums Tom': 1, 'Nervousess': 1, 'Mur onica': 1, 'Mest': 1, 'Ada': 1, 'Frank Cleaned': 2, 'Closep': 1, 'Lemon Scrup': 1, 'Bread Young Arnald': 1, 'Young Bick': 1, 'Polonase': 1, 'Jilly': 1, 'Sancers Sugar': 1, 'Gaskells Buggy': 1, 'Cubler': 1, 'bach': 1, 'Cland Roberts': 1, 'Edward Roberts': 5, 'Yalanippic': 1, 'Mrs Saunders': 3, 'Toms bloyd': 1, 'Ironed': 1, 'Grocer': 1, 'Baker': 1, 'Cap': 3, 'Colonaise Frank': 1, 'Cooked Ham': 1, 'Tom Le Mesurey': 1, 'roady': 1, 'Irod Bobby': 1, 'red liblon': 1, 'Blonden woon': 1, 'hapen': 1, 'Haster': 1, 'Godley': 2, 'delf': 1, 'gonesself': 1, 'Cooked I lig of': 1, 'Maggie': 5, 'Lemesurier': 1, 'Cllershe': 1, 'Cleaner': 1, 'Ellershaw Frank': 1, 'Frank Medicine': 1, 'Baked Bread': 2, 'Clers': 1, 'Joung Monky': 1, 'Allershe': 1, 'frunt salf': 1, 'Alershaw': 1, 'Frank Cut': 1, 'Bready': 1, 'Wat': 1, 'Hastie': 1, 'Frank Mr Clean': 1, 'Shapke': 1, 'Melly Buggy': 1, 'Cllershew': 1, 'Ellersaw': 2, 'Hell': 1, 'Cose Cloudy': 1, 'Cllershan': 1, 'Fray': 5, 'Le Measurier': 1, 'Allershaw': 3, 'Gorls': 1, 'Irode Bob': 1, 'Murray Tom': 3, 'Murrry': 1, 'Jackie': 1, 'Mrs Harnson': 1, 'Frank Caught': 1, 'Wengs': 2, 'Fremous': 1, 'Mediaine': 1, 'shorth': 1, 'Richard Lloyd': 1, 'Rich Lloyd Willie Hoskens': 1, 'Wear': 1, 'Mrs Higgins Roberts': 1, 'Siniso Harrison': 1, 'Tome': 1, 'Jessie': 1, 'vershan': 1, 'Saunders': 2, 'Young Hasken': 1, 'Yalata Tom': 1, 'Je Stanly': 1, 'Sullock': 1, 'Horson Stanly': 1, 'Stanly': 2, 'Beck': 1, 'Tom toren shirt': 1, 'Waggon': 3, 'Young Ellershaw': 3, 'Le Mesuring': 1, 'Harrisons': 5, 'Mrs Harrisons': 3, 'George': 2, 'noondroo': 4, 'Steame': 1, 'Lloy Tom': 1, 'Loy': 1, 'Freemon': 1, 'Kigs': 1, 'Tov': 1, 'Ollershaw': 2, 'Bob the Bot': 1, 'Willie dinnison': 1, 'Bread Tom': 2, 'Suger': 1, 'a lin Jam': 1, 'Beshop': 2, 'smel rother': 1, 'Mrs Harry': 1, 'George Murray': 3, 'Spirrit': 1, 'Tom vershaw': 1, 'Gaskell Cooked': 1, 'Melon Frank': 1, 'Melon': 7, 'a mallie': 1, 'Mrs Freeman': 5, 'Custard Mrs Murray': 1, 'Clershaw': 1, 'North Baked Bread': 1, 'sance': 2, 'Harriam': 1, 'Mrs Harriven': 1, 'Ellershan': 1, 'Cllers': 2, 'James Boyd': 1, 'Le Meanier': 1, 'Harnium Frank': 1, 'James bloyd': 1, 'Joe thot an': 1, 'Weather wan': 1, 'Allerchaw': 1, 'Cod': 1, 'Eucer': 1, 'John Freeman': 4, 'Tommy': 1, 'Freem': 1, 'Lem': 3, 'Whiting': 1, 'James Lloyd': 1, 'Le Masurier': 2, 'Tom Kenders': 1, 'Jimmy': 3, 'A Higgins Buggy': 1, 'happs Tom': 1, 'Bught': 2, 'Anner': 1, 'ollershaw': 1, 'My keyes': 1, 'Tomsmother Mrs Roberts': 1, 'Steenson': 1, 'Mrs Wer heards door': 1, 'Mrs Montgomerie': 1, 'Tom one': 1, 'anner Je': 1, 'Warnish': 1, 'Ellershow': 1, 'Tom Mets': 1, 'Harrisons Buggy': 1, 'Mangled': 1, 'Jay': 1, 'Mc': 2, 'Richards': 2, 'keply': 1, 'leautiful mullet': 1, 'Silvester': 4, 'Bake Bread': 2, 'Mrs Bllershaw': 1, 'Murray Mail': 1, 'Cucla Maie': 1, 'droppily': 1, 'Cleane Toms': 1, 'Mrs Weir Mrs Murray': 1, 'Aldridge': 4, 'Lake Hamilton': 1, 'Mrs Harrisen': 1, 'Cller': 2, 'Child': 2, 'Wooleria': 1, 'Melbourne Tom': 1, 'Tom Brother': 1, 'goats': 1, 'Butter': 4, 'eating cockels': 1, 'Freemans': 1, 'Albert': 4, 'Gaskell Melville': 2, 'Boiled Supper': 1, 'Tom A': 1, 'Gaskelly': 1, 'Lea': 1, 'Montgomerie Controf': 1, 'Boats': 1, 'Frank caughts one': 1, 'Fraddie': 1, 'Harry Squer': 1, 'tom Edward Lloyd Jamess Lloyd': 1, 'Murray Wemyss': 1, 'Fremans Tom': 1, 'Go': 1, 'Tom mast': 1, 'Beethes': 1, 'Youle': 2, 'Mrs Tate': 1, 'Closs': 1, 'Galle': 1, 'Maille': 1, 'Gaille': 1, 'Stant Frank': 1, 'Harry Squir': 1, 'Capt Tullock Le': 1, 'creaturey Tom': 1, 'Muller': 1, 'James Heir': 1, 'Tulloch': 1, 'Misday': 1, 'Sulle': 1, 'dan ared': 1, 'Set Bread': 2, 'Muble': 1, 'hores': 1, 'Murray Jetters': 1, 'Bray': 2, 'Coullined': 1, 'Muring Le Mesurier': 1, 'Brow': 1, 'Mrs Miller Tom': 1, 'Coonday': 2, 'Mrs Bishop': 8, 'Mair': 1, 'Higgin': 3, 'Miss bys': 1, 'Harrissons': 1, 'Hern': 1, 'Bobby Black': 1, 'Aroughts': 1, 'Frank Roberts': 1, 'dong': 1, 'Robert': 1, 'Jim': 1, 'Mag': 1, 'Midelay': 1, 'Mutton Cooked': 1, 'Joung Mair Frank': 1, 'Frank Black Boy': 1, 'upple Pe': 1, 'Jack the Cooladdie': 1, 'Toman': 1, 'John': 1, 'joe Stanley': 1, 'Bake': 1, 'Lloyds': 1, 'John Freemon': 1, 'Cabbage Sprouts': 1, 'Camped': 1, 'Brom mallie Leaves': 1, 'Worringabie afine': 1, 'Charles Godlee': 1, 'Mrs Godlee': 8, 'AcCouchen': 1, 'Spergon': 1, 'Golle Te': 1, 'Fridiron': 1, 'Tom Mess Godlee Silvester': 1, 'miall': 1, 'Botance': 1, 'Murry': 1, 'Yallawan': 1, 'Bull': 1, 'Botatoes': 1, 'Melon pil': 1, 'Mrs Handerson': 1, 'Larrie': 1, 'Tomates Barsley': 1, 'sof': 1, 'Hompathic Medicine': 1, 'Frank Mrs Freeman': 1, 'wen kepolver': 1, 'sance applee': 1, 'Cooked the Melon': 1, 'Mutton Potatoes': 1, 'Fran': 1, 'Gaskell Boat': 1, 'Tom Mr Mur': 1, 'Tope': 1, 'Buchre tong': 1, 'Wemyss camerin': 1, 'Mrs Barnard': 1, 'Edwardsloyd': 1, 'Stanley': 1, 'Dray': 2, 'Frank w': 1, 'fead': 1, 'Freeman Bob': 1, 'Freeme': 1, 'Edward Aldridge': 2, 'Melville kille': 1, 'Denamite': 1, 'Hury Freeman': 1, 'Le Mesur': 1, 'Candle light': 1, 'Wem': 1, 'the Clark': 1, 'Ball': 1, 'Shandellers': 1, 'Hunt': 1, 'horseen': 1, 'Hangroo': 1, 'Gards': 1, 'Clasked': 1, 'Mallie': 1, 'Mutton Cake Mudding': 1, 'Bread Mrs Murray': 1, 'Mutton Sanwidgess Mrs Muggins': 1, 'Nora': 1, 'Mora': 1, 'Supper': 1, 'Godles': 3, 'Melly the Clark': 1, 'Mushroons': 1, 'Helby': 1, 'Laked Bread': 1, 'Cangervo faills': 1, 'Helly Frank': 1, 'Mies': 1, 'Freemhis': 1, 'Shild': 1, 'Sundre': 1, 'medice': 1, 'burt': 1, 'Melvilled': 1, 'Chilchia Minga': 1, 'ont Bread Baked': 1, 'Kitch': 1, 'Frs': 1, 'sun wan': 1, 'lothin': 1, 'ron closet': 1, 'Vessee': 1, 'Woman': 2, 'Coornigabie Frank': 1, 'Weir Bed': 1, 'accaney': 1, 'Murrays': 1, 'Turnip': 1, 'Godled': 1, 'Tom Aldome': 1, 'Godlee Murray Tom': 1, 'Suchree Mr': 1, 'Charley Godlee': 1, 'Noondroo': 1, 'Murray Frank': 1, 'Murphy': 2, 'Hughs': 2, 'Ifold': 5, 'Hugh': 1, 'Richard': 1, 'Pippin Toms Police': 1, 'Pedniga': 1, 'Lard': 1, 'Heslop': 1, 'Ifolds': 2, 'Pedinga': 4, 'Bread Frank': 1, 'Billy a Black': 1, 'Calico': 1, 'Frank Lessons': 1, 'Cabbage Cauliflower Sprouts': 1, 'Tom Cut': 1, 'Cooked Mutton': 1, 'Murray Colona': 1, 'Counterpin': 1, '222no': 1, 'Chilchiaminga Scrubbed': 1, 'Ifould': 16, 'roondrom': 1, 'Jack': 1, 'Tom evelver': 1, 'Jurd Another': 1, 'considen': 1, 'slightty': 1, 'Ifor': 1, 'tak': 1, 'Mondrom': 1, 'Charly': 1, 'Albow': 1, 'Charleys': 1, 'tim Tom': 1, 'Freemain': 1, 'Harris': 1, 'Tom Franks': 1, 'Mrs Godlee th': 1, 'shuck': 1, 'Higam': 1, 'calps': 1, 'Blay': 1, 'Captane Tullock': 1, 'Sain Peter': 1, 'Island': 1, 'Belf Cullock': 1, 'Irom': 2, 'Holla': 1, 'Cord Breat': 1, 'Warrier': 2, 'Amald': 1, 'g Weather': 1, 'st Peters': 1, 'a Capt Tullock': 1, 'Euchree': 1, 'Melvil': 1, 'Tom Sunday': 1, 'Tom Mr Higgins Miller': 1, 'Darward': 1, 'Bale': 1, 'Coffin': 1, 'Mrs Higging': 1, 'Cabba': 1, 'fim': 1, 'floyd': 1, 'Gaskell Gaskell': 1, '1.P.M. Frank': 1, 'Gill': 2, 'Chicla': 1, 'Coon': 1, 'Capt sind th': 1, 'Killer': 1, 'Young Ellershay': 1, 'Gregrey': 1, 'Rorton': 1, 'Rortons Boy': 1, 'Beason': 1, 'Sterday': 1, 'Mrs Godlees': 1, 'Arnica': 1, 'Melville Sullivan': 1, 'Brown': 1, 'Creatome': 1, 'Boboy Charley Godlee': 1, 'Lillie Hawkins': 3, 'Lillie': 2, 'Neberts Oranges': 1, 'Young Sullivers': 1, 'Weather Cloudy': 1, 'breakf Scalded': 1, 'Meser': 1, 'Clloke': 1, 'Lloyd Beadon': 1, 'Jackic': 1, 'Fould Gair Came': 1, 'Gair': 1, 'Ancher': 1, 'washe': 1, 'Harton': 1, 'Gaire': 2, 'Norton': 2, 'Ironed Frank': 1, 'Mesers Gaire': 1, 'Forton': 2, 'Milly': 1, 'loyd': 1, 'Coule': 1, 'Young Sullivan': 1, 'Bettle': 1, 'Frvin': 1, 'Cak Ironed': 1, 'Frank Yalata': 1, 'Aldren 1': 1, 'I fould': 1, 'Cook Frank': 1, 'Mantabie Tom': 1, 'Jet Frank': 1, 'Tomy': 1, 'Mrs Ga': 1, 'Grabam': 1, 'Mrs Mucharn': 1, 'Bettes': 1, 'Clodia': 1, 'thot Mrs Murray': 1, 'Mrs Aldridge': 1, 'Mrs Bishe': 1, 'Murray Bishop': 1, 'beggad': 1, 'Mrs Mur': 1, 'nd': 1, 'Wills': 1, 'Willy': 1, 'Young Arnold': 1, 'Frank Bishe Child': 1, 'Bread Cooked': 1, 'Bishops Child': 2, 'Harry Cldo': 1, 'Sulpher': 1, 'Ifoulds Buggy': 1, 'Capt Smid': 1, 'Alice': 1, 'Wemyss Mrs Murray': 1, 'Alice Cup': 1, 'alice': 1, 'brong bo': 1, 'Capt Said': 1, 'Bishops': 2, 'Caral': 1, 'Spongia': 1, 'maden een': 1, 'Beshe': 1, 'sarry': 1, 'Showery': 1, 'Mrs Bishops': 1, 'Beadon Staning': 1, 'Novembert': 1, 'sore steff': 1, 'Le Mesurner': 1, 'Bony Bob': 1, 'Sucla': 1, 'Tom neever': 1, 'groweld': 1, 'caugh': 1, 'Whiten': 1, 'Young Jackson': 1, 'Larrikin': 1, 'Wangroo homp': 1}\n"
     ]
    }
   ],
   "source": [
    "mentsTot = [] \n",
    "mentsDis = []\n",
    "indsTot = []\n",
    "\n",
    "for item in texts:\n",
    "\n",
    "# Run the language model on the 1st narrative\n",
    "    narrative = nlp(item)\n",
    "\n",
    "# Find the mentions to people in the narrative\n",
    "\n",
    "    for ent in narrative.ents:\n",
    "\n",
    "        mentions = [ent.text for ent in narrative.ents if ent.label_ == 'PERSON']\n",
    "        \n",
    "        counts = {}\n",
    "        for person in mentions:\n",
    "            counts[person] = counts.get(person, 0) + 1\n",
    "    \n",
    "        individuals = set(mentions)\n",
    "    \n",
    "    mentsTot.append(len(mentions))\n",
    "    mentsDis.append(counts)\n",
    "    indsTot.append(len(individuals))\n",
    "    \n",
    "                   \n",
    "print(len(mentsTot)) \n",
    "print(len(indsTot))\n",
    "print(len(mentsDis))\n",
    "\n",
    "print(mentsTot[0]) \n",
    "print(indsTot[0])\n",
    "print(mentsDis[0])\n"
   ]
  },
  {
   "cell_type": "markdown",
   "metadata": {},
   "source": [
    "## Self-references"
   ]
  },
  {
   "cell_type": "markdown",
   "metadata": {},
   "source": [
    "Now for 1st person singular pronounds, subjective and objective only per Tackman, A. M., Sbarra, D. A., Carey, A. L., Donnellan, M. B., Horn, A. B., Holtzman, N. S., Edwards, T. S., Pennebaker, J. W., & Mehl, M. R. (2019). Depression, Negative Emotionality, and Self-Referential Language: A Multi-Lab, Multi-Measure, and Multi-Language-Task Research Synthesis. Journal of Personality and Social Psychology, 116(5), 817–834. https://doi.org/10.1037/pspp0000187.\n"
   ]
  },
  {
   "cell_type": "code",
   "execution_count": 7,
   "metadata": {},
   "outputs": [
    {
     "data": {
      "text/plain": [
       "['I ', \"I'm \", \"I've \", \"I'll \", \"I'd \", ' me ', 'Me ', ' myself ', 'Myself ']"
      ]
     },
     "execution_count": 7,
     "metadata": {},
     "output_type": "execute_result"
    }
   ],
   "source": [
    "pronounAll = [\"I \", \n",
    "               \"I'm \", \n",
    "               \"I've \", \n",
    "               \"I'll \", \n",
    "               \"I'd \", \n",
    "               \" me \", \n",
    "               \"Me \", \n",
    "               \" myself \", \n",
    "               \"Myself \"]\n",
    "pronounAll"
   ]
  },
  {
   "cell_type": "code",
   "execution_count": 8,
   "metadata": {},
   "outputs": [
    {
     "data": {
      "text/plain": [
       "['I ', \"I'm \", \"I've \", \"I'll \", \"I'd \"]"
      ]
     },
     "execution_count": 8,
     "metadata": {},
     "output_type": "execute_result"
    }
   ],
   "source": [
    "pronounSub = [\"I \", \"I'm \", \"I've \", \"I'll \", \"I'd \"]\n",
    "pronounSub"
   ]
  },
  {
   "cell_type": "code",
   "execution_count": 9,
   "metadata": {},
   "outputs": [
    {
     "data": {
      "text/plain": [
       "[' me ', 'Me ', ' myself ', 'Myself ']"
      ]
     },
     "execution_count": 9,
     "metadata": {},
     "output_type": "execute_result"
    }
   ],
   "source": [
    "pronounObj = [\" me \", \n",
    "               \"Me \", \n",
    "               \" myself \", \n",
    "               \"Myself \"]\n",
    "pronounObj"
   ]
  },
  {
   "cell_type": "markdown",
   "metadata": {},
   "source": [
    "## Now run on all"
   ]
  },
  {
   "cell_type": "code",
   "execution_count": 10,
   "metadata": {},
   "outputs": [
    {
     "name": "stdout",
     "output_type": "stream",
     "text": [
      "4\n",
      "[2082, 1121, 1030, 913]\n"
     ]
    }
   ],
   "source": [
    "# Now the rest\n",
    "\n",
    "fppAll_Ct = []\n",
    "\n",
    "for item in texts:\n",
    "    Count = 0\n",
    "    for i in pronounAll:\n",
    "        #print(texts[0].count(i))\n",
    "        Count = item.count(i) + Count\n",
    "    \n",
    "    fppAll_Ct.append(Count)\n",
    "\n",
    "print(len(fppAll_Ct))\n",
    "print(fppAll_Ct[0:9])"
   ]
  },
  {
   "cell_type": "code",
   "execution_count": 11,
   "metadata": {},
   "outputs": [
    {
     "name": "stdout",
     "output_type": "stream",
     "text": [
      "4\n",
      "[1522, 1013, 787, 802]\n"
     ]
    }
   ],
   "source": [
    "# Now just subjective pronouns\n",
    "\n",
    "fppSub_Ct = []\n",
    "\n",
    "for item in texts:\n",
    "    Count = 0\n",
    "    for i in pronounSub:\n",
    "        #print(texts[0].count(i))\n",
    "        Count = item.count(i) + Count\n",
    "    \n",
    "    fppSub_Ct.append(Count)\n",
    "\n",
    "print(len(fppSub_Ct))\n",
    "print(fppSub_Ct[0:9])"
   ]
  },
  {
   "cell_type": "code",
   "execution_count": 12,
   "metadata": {},
   "outputs": [
    {
     "name": "stdout",
     "output_type": "stream",
     "text": [
      "4\n",
      "[560, 108, 243, 111]\n"
     ]
    }
   ],
   "source": [
    "# Now just subjective pronouns\n",
    "\n",
    "fppObj_Ct = []\n",
    "\n",
    "for item in texts:\n",
    "    Count = 0\n",
    "    for i in pronounObj:\n",
    "        #print(texts[0].count(i))\n",
    "        Count = item.count(i) + Count\n",
    "    \n",
    "    fppObj_Ct.append(Count)\n",
    "\n",
    "print(len(fppObj_Ct))\n",
    "print(fppObj_Ct[0:9])"
   ]
  },
  {
   "cell_type": "markdown",
   "metadata": {},
   "source": [
    "## Add new variables to metadata"
   ]
  },
  {
   "cell_type": "code",
   "execution_count": 13,
   "metadata": {},
   "outputs": [
    {
     "name": "stdout",
     "output_type": "stream",
     "text": [
      "<class 'pandas.core.frame.DataFrame'>\n",
      "Int64Index: 4 entries, 1 to 4\n",
      "Data columns (total 32 columns):\n",
      " #   Column            Non-Null Count  Dtype  \n",
      "---  ------            --------------  -----  \n",
      " 0   docid             4 non-null      object \n",
      " 1   docyear           4 non-null      int64  \n",
      " 2   docmonth          0 non-null      float64\n",
      " 3   authorName        4 non-null      object \n",
      " 4   docauthorid       4 non-null      object \n",
      " 5   authorLocation    4 non-null      object \n",
      " 6   authorGender      4 non-null      object \n",
      " 7   nationalOrigin    3 non-null      object \n",
      " 8   irish             3 non-null      object \n",
      " 9   otherUK           3 non-null      object \n",
      " 10  relMin            4 non-null      bool   \n",
      " 11  catholic          4 non-null      bool   \n",
      " 12  otherChristian    4 non-null      bool   \n",
      " 13  U                 4 non-null      bool   \n",
      " 14  M                 4 non-null      bool   \n",
      " 15  S                 4 non-null      bool   \n",
      " 16  F                 4 non-null      bool   \n",
      " 17  L                 4 non-null      bool   \n",
      " 18  text              4 non-null      object \n",
      " 19  totalTokens       4 non-null      int64  \n",
      " 20  uniqueTokens      4 non-null      int64  \n",
      " 21  lexicalDiversity  4 non-null      float64\n",
      " 22  scoreNeg          4 non-null      float64\n",
      " 23  scoreNeu          4 non-null      float64\n",
      " 24  scorePos          4 non-null      float64\n",
      " 25  scoreCom          4 non-null      float64\n",
      " 26  mentsDis          4 non-null      object \n",
      " 27  mentsTot          4 non-null      int64  \n",
      " 28  indsTot           4 non-null      int64  \n",
      " 29  fppAll_Ct         4 non-null      int64  \n",
      " 30  fppSub_Ct         4 non-null      int64  \n",
      " 31  fppObj_Ct         4 non-null      int64  \n",
      "dtypes: bool(8), float64(6), int64(8), object(10)\n",
      "memory usage: 832.0+ bytes\n"
     ]
    }
   ],
   "source": [
    "df['mentsDis'] = [', '.join(x) for x in mentsDis]\n",
    "df['mentsTot'] = mentsTot\n",
    "df['indsTot'] = indsTot\n",
    "df['fppAll_Ct'] = fppAll_Ct\n",
    "df['fppSub_Ct'] = fppSub_Ct\n",
    "df['fppObj_Ct'] = fppObj_Ct\n",
    "df.info()"
   ]
  },
  {
   "cell_type": "code",
   "execution_count": 14,
   "metadata": {
    "scrolled": true
   },
   "outputs": [
    {
     "data": {
      "text/html": [
       "<div>\n",
       "<style scoped>\n",
       "    .dataframe tbody tr th:only-of-type {\n",
       "        vertical-align: middle;\n",
       "    }\n",
       "\n",
       "    .dataframe tbody tr th {\n",
       "        vertical-align: top;\n",
       "    }\n",
       "\n",
       "    .dataframe thead th {\n",
       "        text-align: right;\n",
       "    }\n",
       "</style>\n",
       "<table border=\"1\" class=\"dataframe\">\n",
       "  <thead>\n",
       "    <tr style=\"text-align: right;\">\n",
       "      <th></th>\n",
       "      <th>docid</th>\n",
       "      <th>docyear</th>\n",
       "      <th>docmonth</th>\n",
       "      <th>authorName</th>\n",
       "      <th>docauthorid</th>\n",
       "      <th>authorLocation</th>\n",
       "      <th>authorGender</th>\n",
       "      <th>nationalOrigin</th>\n",
       "      <th>irish</th>\n",
       "      <th>otherUK</th>\n",
       "      <th>...</th>\n",
       "      <th>scoreNeg</th>\n",
       "      <th>scoreNeu</th>\n",
       "      <th>scorePos</th>\n",
       "      <th>scoreCom</th>\n",
       "      <th>mentsDis</th>\n",
       "      <th>mentsTot</th>\n",
       "      <th>indsTot</th>\n",
       "      <th>fppAll_Ct</th>\n",
       "      <th>fppSub_Ct</th>\n",
       "      <th>fppObj_Ct</th>\n",
       "    </tr>\n",
       "  </thead>\n",
       "  <tbody>\n",
       "    <tr>\n",
       "      <th>1</th>\n",
       "      <td>D0002</td>\n",
       "      <td>1883</td>\n",
       "      <td>NaN</td>\n",
       "      <td>Anne F. Richards</td>\n",
       "      <td>D0002</td>\n",
       "      <td>Australia</td>\n",
       "      <td>F</td>\n",
       "      <td>English</td>\n",
       "      <td>False</td>\n",
       "      <td>True</td>\n",
       "      <td>...</td>\n",
       "      <td>0.057039</td>\n",
       "      <td>0.893670</td>\n",
       "      <td>0.049316</td>\n",
       "      <td>-0.178757</td>\n",
       "      <td>Mrs Roberts, Tom, Hiern, Worrier, Jeff Miller,...</td>\n",
       "      <td>3801</td>\n",
       "      <td>1267</td>\n",
       "      <td>2082</td>\n",
       "      <td>1522</td>\n",
       "      <td>560</td>\n",
       "    </tr>\n",
       "    <tr>\n",
       "      <th>2</th>\n",
       "      <td>D0003</td>\n",
       "      <td>1858</td>\n",
       "      <td>NaN</td>\n",
       "      <td>Henry H. Adams</td>\n",
       "      <td>D0003</td>\n",
       "      <td>Australia</td>\n",
       "      <td>M</td>\n",
       "      <td>NaN</td>\n",
       "      <td>NaN</td>\n",
       "      <td>NaN</td>\n",
       "      <td>...</td>\n",
       "      <td>0.028140</td>\n",
       "      <td>0.916614</td>\n",
       "      <td>0.053863</td>\n",
       "      <td>0.070318</td>\n",
       "      <td>Hindmarsh Islan, Herbert, Roberts, Whiting, Mi...</td>\n",
       "      <td>574</td>\n",
       "      <td>221</td>\n",
       "      <td>1121</td>\n",
       "      <td>1013</td>\n",
       "      <td>108</td>\n",
       "    </tr>\n",
       "    <tr>\n",
       "      <th>3</th>\n",
       "      <td>D0007</td>\n",
       "      <td>1865</td>\n",
       "      <td>NaN</td>\n",
       "      <td>John Hart</td>\n",
       "      <td>D0007</td>\n",
       "      <td>Australia</td>\n",
       "      <td>M</td>\n",
       "      <td>English</td>\n",
       "      <td>False</td>\n",
       "      <td>True</td>\n",
       "      <td>...</td>\n",
       "      <td>0.050477</td>\n",
       "      <td>0.896772</td>\n",
       "      <td>0.052744</td>\n",
       "      <td>-0.017036</td>\n",
       "      <td>John Hart, Mrs Singleton, Jo hn, Farr, Daly, R...</td>\n",
       "      <td>1706</td>\n",
       "      <td>712</td>\n",
       "      <td>1030</td>\n",
       "      <td>787</td>\n",
       "      <td>243</td>\n",
       "    </tr>\n",
       "    <tr>\n",
       "      <th>4</th>\n",
       "      <td>D0009</td>\n",
       "      <td>1871</td>\n",
       "      <td>NaN</td>\n",
       "      <td>Edith C. Gwynne</td>\n",
       "      <td>D0009</td>\n",
       "      <td>Australia</td>\n",
       "      <td>F</td>\n",
       "      <td>English</td>\n",
       "      <td>False</td>\n",
       "      <td>True</td>\n",
       "      <td>...</td>\n",
       "      <td>0.039007</td>\n",
       "      <td>0.910292</td>\n",
       "      <td>0.050688</td>\n",
       "      <td>0.025624</td>\n",
       "      <td>Edith Gwynne, Julia, Willie, Furguson, Emily B...</td>\n",
       "      <td>1209</td>\n",
       "      <td>817</td>\n",
       "      <td>913</td>\n",
       "      <td>802</td>\n",
       "      <td>111</td>\n",
       "    </tr>\n",
       "  </tbody>\n",
       "</table>\n",
       "<p>4 rows × 32 columns</p>\n",
       "</div>"
      ],
      "text/plain": [
       "   docid  docyear  docmonth        authorName docauthorid authorLocation  \\\n",
       "1  D0002     1883       NaN  Anne F. Richards       D0002      Australia   \n",
       "2  D0003     1858       NaN    Henry H. Adams       D0003      Australia   \n",
       "3  D0007     1865       NaN         John Hart       D0007      Australia   \n",
       "4  D0009     1871       NaN   Edith C. Gwynne       D0009      Australia   \n",
       "\n",
       "  authorGender nationalOrigin  irish otherUK  ...  scoreNeg  scoreNeu  \\\n",
       "1            F        English  False    True  ...  0.057039  0.893670   \n",
       "2            M            NaN    NaN     NaN  ...  0.028140  0.916614   \n",
       "3            M        English  False    True  ...  0.050477  0.896772   \n",
       "4            F        English  False    True  ...  0.039007  0.910292   \n",
       "\n",
       "   scorePos  scoreCom                                           mentsDis  \\\n",
       "1  0.049316 -0.178757  Mrs Roberts, Tom, Hiern, Worrier, Jeff Miller,...   \n",
       "2  0.053863  0.070318  Hindmarsh Islan, Herbert, Roberts, Whiting, Mi...   \n",
       "3  0.052744 -0.017036  John Hart, Mrs Singleton, Jo hn, Farr, Daly, R...   \n",
       "4  0.050688  0.025624  Edith Gwynne, Julia, Willie, Furguson, Emily B...   \n",
       "\n",
       "   mentsTot  indsTot  fppAll_Ct fppSub_Ct  fppObj_Ct  \n",
       "1      3801     1267       2082      1522        560  \n",
       "2       574      221       1121      1013        108  \n",
       "3      1706      712       1030       787        243  \n",
       "4      1209      817        913       802        111  \n",
       "\n",
       "[4 rows x 32 columns]"
      ]
     },
     "execution_count": 14,
     "metadata": {},
     "output_type": "execute_result"
    }
   ],
   "source": [
    "df.head()"
   ]
  },
  {
   "cell_type": "code",
   "execution_count": 15,
   "metadata": {},
   "outputs": [],
   "source": [
    "df.to_csv(\"20240701_PhD_FinalData-Diary.csv\")"
   ]
  }
 ],
 "metadata": {
  "kernelspec": {
   "display_name": "Python 3 (ipykernel)",
   "language": "python",
   "name": "python3"
  },
  "language_info": {
   "codemirror_mode": {
    "name": "ipython",
    "version": 3
   },
   "file_extension": ".py",
   "mimetype": "text/x-python",
   "name": "python",
   "nbconvert_exporter": "python",
   "pygments_lexer": "ipython3",
   "version": "3.9.5"
  }
 },
 "nbformat": 4,
 "nbformat_minor": 2
}
